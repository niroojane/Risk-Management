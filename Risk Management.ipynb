{
 "cells": [
  {
   "cell_type": "code",
   "execution_count": 1,
   "id": "40572196-dee9-468b-b7d1-ca36478f3d8d",
   "metadata": {},
   "outputs": [],
   "source": [
    "import pandas as pd\n",
    "import random\n",
    "import numpy as np\n",
    "import yfinance as yf\n",
    "import matplotlib.pyplot as plt\n",
    "import plotly.express as px\n",
    "import plotly.graph_objects as go\n",
    "import plotly.figure_factory as ff\n",
    "import seaborn as sns\n",
    "from bs4 import BeautifulSoup\n",
    "from urllib.request import urlopen\n",
    "import seaborn as sns\n",
    "from scipy.stats import norm, chi2,gumbel_r\n",
    "import scipy.optimize as sco\n",
    "import datetime"
   ]
  },
  {
   "cell_type": "code",
   "execution_count": 2,
   "id": "f1350136-8bbb-4649-9562-1cbd06fdc7dc",
   "metadata": {},
   "outputs": [],
   "source": [
    "def get_close(tickers,\n",
    "              start=datetime.date(datetime.date.today().year - 1, \n",
    "                datetime.date.today().month, \n",
    "                datetime.date.today().day)\n",
    "                ,end=datetime.date.today()):\n",
    "    \n",
    "    data=pd.DataFrame()\n",
    "    for ticker in tickers:\n",
    "\n",
    "        try:\n",
    "\n",
    "            yahoo_data=yf.Ticker(ticker)\n",
    "            stock_price=yahoo_data.history(start=start,end=end,interval='1d').reset_index()\n",
    "            stock_price['Date']=stock_price['Date'].dt.tz_localize(None)\n",
    "            stock_price=stock_price.set_index('Date')\n",
    "            stock_price[ticker]=stock_price['Close']+stock_price['Dividends'].shift(periods=-1)\n",
    "            data=pd.concat([data,stock_price[ticker]],axis=1)\n",
    "\n",
    "        except Exception as e:\n",
    "            pass\n",
    "        \n",
    "    return data"
   ]
  },
  {
   "cell_type": "code",
   "execution_count": 47,
   "id": "078644e5-bc77-4e47-873a-42a056a83df4",
   "metadata": {},
   "outputs": [],
   "source": [
    "stocks=pd.read_html('https://en.wikipedia.org/wiki/EURO_STOXX_50')[4]"
   ]
  },
  {
   "cell_type": "code",
   "execution_count": 48,
   "id": "68eb0acf-e0d2-4cb6-a684-491ef5d63189",
   "metadata": {},
   "outputs": [],
   "source": [
    "tickers=stocks['Ticker'].to_list()"
   ]
  },
  {
   "cell_type": "code",
   "execution_count": 49,
   "id": "66df28bf-ffc6-4dfe-84e6-d9eec29f6e6d",
   "metadata": {},
   "outputs": [],
   "source": [
    "data=get_close(tickers[:5],\"2022-01-01\")\n",
    "data=data.dropna()\n",
    "n=len(data.columns)"
   ]
  },
  {
   "cell_type": "code",
   "execution_count": 50,
   "id": "e5136057-2b87-4f55-b8df-1d13a80c956f",
   "metadata": {},
   "outputs": [],
   "source": [
    "returns=np.log(1+data.pct_change())"
   ]
  },
  {
   "cell_type": "markdown",
   "id": "991c3be5-6004-4771-a632-a1724782bccf",
   "metadata": {},
   "source": [
    "# General Functions"
   ]
  },
  {
   "cell_type": "code",
   "execution_count": 51,
   "id": "04a6c706-8517-440c-bf9c-340da8bf068e",
   "metadata": {},
   "outputs": [],
   "source": [
    "def halton_sequences(number,base=2):\n",
    "    \n",
    "    #Generate Halton sequences\n",
    "    \n",
    "    inv_base=1/base\n",
    "    \n",
    "    i=number\n",
    "    halton=0\n",
    "    \n",
    "    while i>0:\n",
    "        \n",
    "        digit = i%base\n",
    "        halton=halton + digit*inv_base\n",
    "        i=(i-digit)/base\n",
    "        inv_base=inv_base/base\n",
    "        \n",
    "    return halton\n",
    "\n",
    "def generate_halton(iterations,dimensions=1,base=2):\n",
    "    \n",
    "    #Generate a Halton Sequences at basis k , then shuffles it\n",
    "    \n",
    "    rng = np.random.default_rng()\n",
    "    matrix=[]\n",
    "    haltons=[]\n",
    "    \n",
    "    for i in range(iterations):\n",
    "        halton=halton_sequences(i,base=base)\n",
    "        haltons.append(halton)\n",
    "    \n",
    "    for dim in range(dimensions):\n",
    "        \n",
    "        matrix.append(haltons)\n",
    "    \n",
    "    matrix = rng.permuted(matrix, axis=1)\n",
    "    return matrix\n",
    "\n",
    "def near_psd(x, epsilon=0):\n",
    "    \n",
    "    #Calculate the nearest positive semi definite matrix\n",
    "\n",
    "    if min(np.linalg.eigvals(x))> epsilon:\n",
    "        return x\n",
    "\n",
    "    n = x.shape[0]\n",
    "    var_list = np.array(np.sqrt(np.diag(x)))\n",
    "    y = np.array([[x[i, j]/(var_list[i]*var_list[j]) for i in range(n)] for j in range(n)])\n",
    "\n",
    "    eigval, eigvec = np.linalg.eig(y)\n",
    "    val = np.matrix(np.maximum(eigval, epsilon))\n",
    "    vec = np.matrix(eigvec)\n",
    "    T = 1/(np.multiply(vec, vec) * val.T)\n",
    "    T = np.matrix(np.sqrt(np.diag(np.array(T).reshape((n)) )))\n",
    "    B = T * vec * np.diag(np.array(np.sqrt(val)).reshape((n)))\n",
    "    near_corr = B*B.T    \n",
    "\n",
    "    near_cov = np.array([[near_corr[i, j]*(var_list[i]*var_list[j]) for i in range(n)] for j in range(n)])\n",
    "    return near_cov"
   ]
  },
  {
   "cell_type": "code",
   "execution_count": 52,
   "id": "1b471ac9-5f6e-4c92-b988-c013e68bc2c8",
   "metadata": {},
   "outputs": [],
   "source": [
    "\n",
    "def performance(perf,weights):\n",
    "    \n",
    "    #Calculate the performance of a portfolio on a daily basis\n",
    "    \n",
    "    return np.dot(perf,weights)\n"
   ]
  },
  {
   "cell_type": "code",
   "execution_count": 53,
   "id": "b6711073-70b7-4bbb-bb8e-0ac8479d4a54",
   "metadata": {
    "tags": []
   },
   "outputs": [],
   "source": [
    "def rolling_var(returns,weights,window=30,Q=1):\n",
    "\n",
    "    #This function will return the rolling VaR on a x-days window following historical,parametric and multivariate model\n",
    "\n",
    "    value_at_risk=pd.DataFrame()\n",
    "\n",
    "    mean=returns.rolling(window).mean().dropna()\n",
    "    cov=returns.rolling(window).cov().dropna()\n",
    "    corr=returns.rolling(window).corr().dropna()\n",
    "    std=returns.rolling(window).std().dropna()\n",
    "\n",
    "    index=sorted(tuple(set(cov.index.get_level_values(0))))\n",
    "\n",
    "\n",
    "    var={}\n",
    "\n",
    "    for date in index:\n",
    "            \n",
    "            multivariate_var=performance(np.random.multivariate_normal(mean.loc[date],cov.loc[date],10000),weights) \n",
    "            var[date]=np.percentile(multivariate_var,Q)\n",
    "\n",
    "\n",
    "    var=pd.DataFrame(var.values(),index=var.keys())\n",
    "\n",
    "    portfolio=Portfolio(returns).portfolio(weights)\n",
    "\n",
    "    value_at_risk['Historical']=portfolio.rolling(window=window).apply(lambda x:np.percentile(x,Q))\n",
    "    value_at_risk['Parametric']=portfolio.rolling(window=window).std()*norm(loc =0 , scale = 1).ppf(Q/100)\n",
    "    value_at_risk['Multivariate']=var\n",
    "    value_at_risk['Portfolio']=portfolio\n",
    "\n",
    "    return value_at_risk.dropna()\n",
    "\n",
    "def kupiec_test(rolling_var,Q=5):\n",
    "\n",
    "    number_obs=rolling_var.shape[0]\n",
    "    confidence=Q/100\n",
    "\n",
    "    ret=(1+rolling_var['Portfolio']).cumprod()\n",
    "    return_mean=(ret.iloc[-1])**(1/number_obs)-1\n",
    "\n",
    "    stats={}\n",
    "\n",
    "    stats['Proportion of failure']=[]\n",
    "    stats['Kupiec Stat']=[]\n",
    "    stats['P-value']=[]\n",
    "    stats['Model']=[]\n",
    "\n",
    "    for col in rolling_var.columns:\n",
    "\n",
    "        if col=='Portfolio':\n",
    "\n",
    "            continue\n",
    "\n",
    "        else:\n",
    "\n",
    "            number_violation=np.sum(np.where(rolling_var[col]>rolling_var['Portfolio'],1,0))\n",
    "            number_non_violation=number_obs-number_violation\n",
    "            proportion_violation=number_violation/number_obs\n",
    "            proportion_non_violation=1-proportion_violation\n",
    "\n",
    "            kupiec=2*np.log((proportion_non_violation/(1-confidence))**(number_non_violation)*\n",
    "                                (proportion_violation/confidence)**number_violation)\n",
    "\n",
    "            p_value=1-chi2.cdf(kupiec,1)\n",
    "\n",
    "        stats['Kupiec Stat'].append(kupiec)\n",
    "        stats['P-value'].append(p_value)\n",
    "        stats['Proportion of failure'].append(proportion_violation)\n",
    "        stats['Model'].append(col)\n",
    "\n",
    "    stats=pd.DataFrame(stats.values(),index=stats.keys(),columns=stats['Model'])\n",
    "    stats=stats.drop(stats.index[3])\n",
    "\n",
    "    return stats\n"
   ]
  },
  {
   "cell_type": "markdown",
   "id": "5b1d59b8-eb12-4009-8f54-90940316a6e4",
   "metadata": {},
   "source": [
    "## Portfolio Construction"
   ]
  },
  {
   "cell_type": "code",
   "execution_count": 54,
   "id": "fcd35608-9236-4fb2-b331-f58272b1945e",
   "metadata": {},
   "outputs": [],
   "source": [
    "class Portfolio:\n",
    "    \n",
    "    #This class allows the user to calculate various metrics of a portfolio\n",
    "    #and also allows to optmize the portfolio with various constraints\n",
    "    \n",
    "    def __init__(self,data):\n",
    "        \n",
    "        self.data=data\n",
    "\n",
    "    def portfolio(self,weights):\n",
    "            \n",
    "        portfolio=pd.DataFrame()\n",
    "        portfolio['Portfolio']=np.sum(weights*returns,axis=1)\n",
    "        \n",
    "        return portfolio\n",
    "    \n",
    "    def evolution(self,weights):\n",
    "        \n",
    "        portfolio=self.portfolio(weights)\n",
    "        evolution=(1+portfolio).cumprod()*100\n",
    "        \n",
    "        return evolution\n",
    "    \n",
    "    def performance(self,weights):\n",
    "        performance=np.sum(self.data*weights).mean()*252\n",
    "        return performance\n",
    "    \n",
    "    def variance(self,weights):\n",
    "        variance=np.sqrt(np.dot(weights.T,np.dot(self.data.cov(),weights)))*np.sqrt(252)\n",
    "        return variance\n",
    "    \n",
    "    def sharpe_ratio(weights):\n",
    "            return self.performance(weights)/self.variance(weights)\n",
    "\n",
    "    def optimize(self,objective='minimum_variance',constraints=False):\n",
    "        \n",
    "            \n",
    "        def sum_equal_one(weight):\n",
    "            return np.sum(weight) - 1   \n",
    "        \n",
    "        def sharpe_ratio(weights):\n",
    "            return - self.performance(weights)/self.variance(weights)\n",
    "        \n",
    "        def variance(weights):\n",
    "            variance=np.sqrt(np.dot(weights.T,np.dot(self.data.cov(),weights)))*np.sqrt(252)\n",
    "            return variance\n",
    "        \n",
    "        n_assets = len(self.data.columns)\n",
    "        weight = np.array([1 / n_assets] * n_assets)\n",
    "        bounds = tuple((0, 1) for _ in range(n_assets))\n",
    "        \n",
    "        if not constraints:\n",
    "            \n",
    "            constraints = [{'type': 'eq', 'fun': sum_equal_one}]\n",
    "        \n",
    "        else:\n",
    "            \n",
    "            constraints=[{'type': 'eq', 'fun': sum_equal_one}]+constraints\n",
    "        \n",
    "        if objective=='minimum_variance':\n",
    "\n",
    "            optimum_weights = sco.minimize(variance, weight, method='SLSQP', bounds=bounds, constraints=constraints)\n",
    "        \n",
    "        elif objective=='sharpe_ratio':\n",
    "            \n",
    "            optimum_weights = sco.minimize(sharpe_ratio, weight, method='SLSQP', bounds=bounds, constraints=constraints)\n",
    "            \n",
    "        else:\n",
    "            \n",
    "            print(\"Objective function undefined\")\n",
    "            \n",
    "            \n",
    "        return optimum_weights.x\n",
    "    \n",
    "    def black_Litterman(self,P,Q,weights,risk_aversion,tau=0.025):\n",
    "        \n",
    "        implied_returns=risk_aversion*self.data.cov().dot(weights).squeeze()\n",
    "        omega=np.diag(np.diag(P.dot(tau*self.data.cov()).dot(P.T)))\n",
    "        sigma_scaled=self.data.cov()*tau\n",
    "        BL_returns= implied_returns + sigma_scaled.dot(P.T).dot(np.linalg.inv(P.dot(sigma_scaled).dot(P.T))+omega).dot(Q-P.dot(implied_returns))\n",
    "        inv_cov=np.linalg.inv(self.data.cov())\n",
    "        BL_weights=inv_cov.dot(BL_returns)\n",
    "        BL_weights=BL_weights/BL_weights.sum()\n",
    "        \n",
    "        return BL_weights,BL_returns"
   ]
  },
  {
   "cell_type": "markdown",
   "id": "a34878d2-f683-4e41-8d4d-047bdf77a8fe",
   "metadata": {},
   "source": [
    "## Risk Analysis"
   ]
  },
  {
   "cell_type": "code",
   "execution_count": 55,
   "id": "ca4389e7-5250-45e7-83b8-5dba2353231f",
   "metadata": {},
   "outputs": [],
   "source": [
    "class RiskAnalysis(Portfolio):\n",
    "    \n",
    "    \n",
    "    #This class is used to assess various risk of a portfolio such as Market Risk, VaR\n",
    "    # and to know which asset could possibly contribute to it\n",
    "    \n",
    "    def __init__(self,returns):\n",
    "        \n",
    "        self.returns=returns\n",
    "        super().__init__(data=returns)\n",
    "        \n",
    "\n",
    "    def historical_var(self,weights,last_days=False,Q=5):\n",
    "        \n",
    "        #Return Historical VaR on the Past x days at Q confidence interval\n",
    "\n",
    "        performance=super().portfolio(weights)\n",
    "        \n",
    "        if last_days:\n",
    "            performance=performance[-last_days:]\n",
    "            \n",
    "        var=np.percentile(performance,Q)\n",
    "        cvar=performance[performance<var].mean().values[0]\n",
    "        \n",
    "        return var,cvar\n",
    "    \n",
    "    \n",
    "    def parametric_var(self,weights,Q=0.95):\n",
    "        \n",
    "        #Return parametric VaR, where assets follows a Normal Distribution\n",
    "        \n",
    "        intervals=np.arange(Q, 1, 0.0005, dtype=float)\n",
    "        \n",
    "        variance=super().variance(weights)\n",
    "        VaR=variance/np.sqrt(252)*norm(loc =0 , scale = 1).ppf(1-Q)\n",
    "        CVaR=variance/np.sqrt(252)*norm(loc =0 , scale = 1).ppf(1-intervals).mean()\n",
    "        \n",
    "        return VaR,CVaR\n",
    "        \n",
    "        \n",
    "    def multivariate_distribution(self,\n",
    "                    stress_factor=1.0,\n",
    "                    iterations=10000):\n",
    "        \n",
    "        #Return Multivariate Distribution of a portfolio taking into account potential correlation\n",
    "        \n",
    "        num_asset=len(self.returns.columns)\n",
    "        \n",
    "        if type(stress_factor)==float:\n",
    "            \n",
    "            stress_vec=np.linspace(stress_factor,stress_factor,num_asset)\n",
    "            \n",
    "        else:       \n",
    "            stress_vec=stress_factor\n",
    "            \n",
    "        stress_matrix=np.diag(stress_vec)\n",
    "        stress_matrix=pd.DataFrame(stress_matrix,columns=self.returns.columns,index=self.returns.columns)\n",
    "        \n",
    "        stressed_cov=self.returns.cov().dot(stress_matrix)\n",
    "        mean=self.returns.mean()\n",
    "        \n",
    "        multivariate=np.random.multivariate_normal(mean,stressed_cov,iterations)\n",
    "        \n",
    "        return multivariate\n",
    "    \n",
    "    def gaussian_copula(self,iterations=10000):\n",
    "        \n",
    "        randoms=np.random.normal(size=(10000,returns.shape[1])).T\n",
    "        near_psd_corr=near_psd(self.returns.corr())\n",
    "        cholesky=np.linalg.cholesky(self.returns.corr())\n",
    "\n",
    "        simulation=np.matmul(cholesky,randoms).T\n",
    "        simulation=pd.DataFrame(simulation)\n",
    "        simulation.columns=returns.columns\n",
    "\n",
    "        copula_sample=simulation*self.returns.std()+self.returns.mean()\n",
    "        \n",
    "        return copula_sample\n",
    "    \n",
    "    def monte_carlo(self,spot,horizon=20/250,iterations=100000,stress_factor=1.0):\n",
    "        \n",
    "        \n",
    "        \n",
    "        num_asset=len(self.returns.columns)\n",
    "        #haltons=generate_halton(iterations,num_asset,base=2)\n",
    "        randoms=np.random.normal(size=(10000,num_asset)).T\n",
    "        \n",
    "        # Create a stress matrix to stress the covariance matrix\n",
    "        \n",
    "        if type(stress_factor)==float:\n",
    "            \n",
    "            stress_vec=np.linspace(stress_factor,stress_factor,num_asset)\n",
    "            \n",
    "        else: \n",
    "            \n",
    "            stress_vec=stress_factor\n",
    "        \n",
    "        \n",
    "        #Stress the volatilities of the assets\n",
    "        \n",
    "        vol=self.returns.std()*np.sqrt(250)*stress_vec\n",
    "        \n",
    "        #Create a diagonal matrix of the stress factors\n",
    "        \n",
    "        stress_matrix=np.diag(stress_vec)\n",
    "        stress_matrix=pd.DataFrame(stress_matrix,columns=self.returns.columns,index=self.returns.columns)\n",
    "        \n",
    "        #Find nearest PSD matrix and apply cholesky decomposition to create correaltion effect in Monte Carlo\n",
    "        \n",
    "        stressed_cov=self.returns.cov().dot(stress_matrix)\n",
    "        stressed_std=np.sqrt(np.diag(stressed_cov))\n",
    "        corr_matrix=stressed_cov/np.outer(stressed_std,stressed_std)\n",
    "        sdp_corr_matrix=near_psd(corr_matrix)\n",
    "        \n",
    "        cholesky=np.linalg.cholesky(corr_matrix)\n",
    "            \n",
    "        drift=np.exp(-0.5*horizon*vol**2)\n",
    "        factors=spot*drift\n",
    "        factors_vec=factors.to_numpy().reshape(num_asset,-1)\n",
    "                \n",
    "        simulation=np.matmul(cholesky,randoms).T\n",
    "        simulation=pd.DataFrame(simulation)\n",
    "        simulation.columns=self.returns.columns\n",
    " \n",
    "        \n",
    "        monte_carlo=factors_vec.T*np.exp(simulation.dot(np.diag(vol))*np.sqrt(horizon))\n",
    "        monte_carlo=pd.DataFrame(monte_carlo)\n",
    "        monte_carlo.columns=self.returns.columns\n",
    "        perf_monte_carlo=np.log(monte_carlo/spot)\n",
    "        \n",
    "        return monte_carlo,perf_monte_carlo\n",
    "      \n",
    "\n",
    "    \n",
    "    def pca(self,num_components=2):\n",
    "        \n",
    "        #Returns the eigen vectors of the covariance matrix\n",
    "        \n",
    "        cov_matrix=self.returns.cov()\n",
    "        \n",
    "        cov_matrix=returns.cov()\n",
    "        \n",
    "        eig_val, eig_vec=np.linalg.eig(cov_matrix)\n",
    "        sorted_eig_val=eig_val.argsort()[::-1]\n",
    "        eig_val=eig_val[sorted_eig_val]\n",
    "        eig_vec=eig_vec[:,sorted_eig_val]\n",
    "        eig_val=eig_val[:num_components]\n",
    "        eig_vec=eig_vec[:,0:num_components]\n",
    "        \n",
    "        PC={}\n",
    "        \n",
    "        for i in range(eig_vec.shape[1]):\n",
    "            \n",
    "            PC[\"PC\" +str(i+1)]=eig_vec[:,i]/eig_vec[:,i].sum()\n",
    "        \n",
    "        \n",
    "        portfolio_components=pd.DataFrame(PC.values(),index=PC.keys(),columns=data.columns).T\n",
    "        \n",
    "        return eig_val,eig_vec,portfolio_components\n",
    "                \n",
    "    \n",
    "    "
   ]
  },
  {
   "cell_type": "code",
   "execution_count": 56,
   "id": "8b83f7b0-e7ad-4b97-9c96-63a68f63bdd0",
   "metadata": {},
   "outputs": [],
   "source": [
    "test=RiskAnalysis(returns)"
   ]
  },
  {
   "cell_type": "code",
   "execution_count": 57,
   "id": "64112844-08d0-48ae-98e6-cb185952fc7f",
   "metadata": {},
   "outputs": [],
   "source": [
    "num_asset=len(data.columns)\n",
    "weights=np.random.rand(num_asset)\n",
    "weights=weights/weights.sum()"
   ]
  },
  {
   "cell_type": "code",
   "execution_count": 91,
   "id": "c7963f6e-39ce-47b5-9568-7c552a077d3f",
   "metadata": {},
   "outputs": [],
   "source": [
    "weights=test.optimize(objective=\"minimum_variance\",constraints=[{'type': 'ineq', 'fun': lambda weights: 0.1 - weights}])\n",
    "weights=np.round(weights,2)"
   ]
  },
  {
   "cell_type": "code",
   "execution_count": 92,
   "id": "26b439cb-fe9e-44b8-983f-5ccc8037fe3b",
   "metadata": {},
   "outputs": [
    {
     "data": {
      "text/plain": [
       "array([0.2, 0.2, 0.2, 0.2, 0.2])"
      ]
     },
     "execution_count": 92,
     "metadata": {},
     "output_type": "execute_result"
    }
   ],
   "source": [
    "weights"
   ]
  },
  {
   "cell_type": "code",
   "execution_count": 59,
   "id": "b19b2174-4aeb-4365-843f-b709db9481d8",
   "metadata": {},
   "outputs": [
    {
     "data": {
      "text/plain": [
       "(-0.02291845971080511, -0.03243838078069861)"
      ]
     },
     "execution_count": 59,
     "metadata": {},
     "output_type": "execute_result"
    }
   ],
   "source": [
    "var,cvar=test.historical_var(weights)\n",
    "var,cvar"
   ]
  },
  {
   "cell_type": "code",
   "execution_count": 60,
   "id": "9f580858-1e07-4e3c-a84b-ad37ea881b30",
   "metadata": {},
   "outputs": [
    {
     "data": {
      "text/plain": [
       "(-0.02424847085425278, -0.031079835304268597)"
      ]
     },
     "execution_count": 60,
     "metadata": {},
     "output_type": "execute_result"
    }
   ],
   "source": [
    "var,cvar=test.parametric_var(weights)\n",
    "var,cvar"
   ]
  },
  {
   "cell_type": "code",
   "execution_count": 61,
   "id": "2c788d10-aa11-42de-9a7b-0bd312c8c0bf",
   "metadata": {},
   "outputs": [
    {
     "data": {
      "text/plain": [
       "(-0.02442816673161445, -0.03040877123403646)"
      ]
     },
     "execution_count": 61,
     "metadata": {},
     "output_type": "execute_result"
    }
   ],
   "source": [
    "perf=performance(test.multivariate_distribution(),weights)\n",
    "var=np.percentile(perf,5)\n",
    "cvar=perf[perf<var].mean()\n",
    "\n",
    "var,cvar"
   ]
  },
  {
   "cell_type": "code",
   "execution_count": 62,
   "id": "e121dfc2-0a14-4b34-87a4-45d1071860b6",
   "metadata": {},
   "outputs": [
    {
     "data": {
      "text/plain": [
       "(-0.024052752624069477, -0.030710904743236286)"
      ]
     },
     "execution_count": 62,
     "metadata": {},
     "output_type": "execute_result"
    }
   ],
   "source": [
    "cop=test.gaussian_copula()\n",
    "perf=performance(cop,weights)\n",
    "var=np.percentile(perf,5)\n",
    "cvar=perf[perf<var].mean()\n",
    "\n",
    "var,cvar"
   ]
  },
  {
   "cell_type": "code",
   "execution_count": 63,
   "id": "fe7fb897-16b0-49cf-9b7a-014d4cf1204b",
   "metadata": {},
   "outputs": [
    {
     "data": {
      "text/plain": [
       "(-0.024978896177221366, -0.030995885015751498)"
      ]
     },
     "execution_count": 63,
     "metadata": {},
     "output_type": "execute_result"
    }
   ],
   "source": [
    "spot=data.iloc[-1]\n",
    "monte_carlo=test.monte_carlo(spot,horizon=1/250,stress_factor=1.0)\n",
    "perf=performance(monte_carlo[1],weights)\n",
    "var=np.percentile(perf,5)\n",
    "cvar=perf[perf<var].mean()\n",
    "\n",
    "var,cvar"
   ]
  },
  {
   "cell_type": "code",
   "execution_count": 64,
   "id": "b8dc5f65-1415-4308-b63a-822a6addd568",
   "metadata": {},
   "outputs": [
    {
     "data": {
      "text/html": [
       "<div>\n",
       "<style scoped>\n",
       "    .dataframe tbody tr th:only-of-type {\n",
       "        vertical-align: middle;\n",
       "    }\n",
       "\n",
       "    .dataframe tbody tr th {\n",
       "        vertical-align: top;\n",
       "    }\n",
       "\n",
       "    .dataframe thead th {\n",
       "        text-align: right;\n",
       "    }\n",
       "</style>\n",
       "<table border=\"1\" class=\"dataframe\">\n",
       "  <thead>\n",
       "    <tr style=\"text-align: right;\">\n",
       "      <th></th>\n",
       "      <th>Historical</th>\n",
       "      <th>Parametric</th>\n",
       "      <th>Multivariate</th>\n",
       "      <th>Portfolio</th>\n",
       "    </tr>\n",
       "  </thead>\n",
       "  <tbody>\n",
       "    <tr>\n",
       "      <th>2022-02-14</th>\n",
       "      <td>-0.042976</td>\n",
       "      <td>-0.039150</td>\n",
       "      <td>-0.042600</td>\n",
       "      <td>-0.011518</td>\n",
       "    </tr>\n",
       "    <tr>\n",
       "      <th>2022-02-15</th>\n",
       "      <td>-0.042976</td>\n",
       "      <td>-0.040340</td>\n",
       "      <td>-0.044125</td>\n",
       "      <td>0.019863</td>\n",
       "    </tr>\n",
       "    <tr>\n",
       "      <th>2022-02-16</th>\n",
       "      <td>-0.042976</td>\n",
       "      <td>-0.040059</td>\n",
       "      <td>-0.041774</td>\n",
       "      <td>-0.003770</td>\n",
       "    </tr>\n",
       "    <tr>\n",
       "      <th>2022-02-17</th>\n",
       "      <td>-0.042976</td>\n",
       "      <td>-0.039705</td>\n",
       "      <td>-0.042589</td>\n",
       "      <td>-0.015179</td>\n",
       "    </tr>\n",
       "    <tr>\n",
       "      <th>2022-02-18</th>\n",
       "      <td>-0.042976</td>\n",
       "      <td>-0.039691</td>\n",
       "      <td>-0.043170</td>\n",
       "      <td>-0.010856</td>\n",
       "    </tr>\n",
       "    <tr>\n",
       "      <th>...</th>\n",
       "      <td>...</td>\n",
       "      <td>...</td>\n",
       "      <td>...</td>\n",
       "      <td>...</td>\n",
       "    </tr>\n",
       "    <tr>\n",
       "      <th>2024-04-05</th>\n",
       "      <td>-0.012946</td>\n",
       "      <td>-0.015406</td>\n",
       "      <td>-0.013540</td>\n",
       "      <td>-0.013574</td>\n",
       "    </tr>\n",
       "    <tr>\n",
       "      <th>2024-04-08</th>\n",
       "      <td>-0.012946</td>\n",
       "      <td>-0.015023</td>\n",
       "      <td>-0.013396</td>\n",
       "      <td>0.006714</td>\n",
       "    </tr>\n",
       "    <tr>\n",
       "      <th>2024-04-09</th>\n",
       "      <td>-0.015623</td>\n",
       "      <td>-0.016709</td>\n",
       "      <td>-0.015722</td>\n",
       "      <td>-0.016460</td>\n",
       "    </tr>\n",
       "    <tr>\n",
       "      <th>2024-04-10</th>\n",
       "      <td>-0.015623</td>\n",
       "      <td>-0.016663</td>\n",
       "      <td>-0.015747</td>\n",
       "      <td>-0.002923</td>\n",
       "    </tr>\n",
       "    <tr>\n",
       "      <th>2024-04-11</th>\n",
       "      <td>-0.015623</td>\n",
       "      <td>-0.016677</td>\n",
       "      <td>-0.015654</td>\n",
       "      <td>0.003450</td>\n",
       "    </tr>\n",
       "  </tbody>\n",
       "</table>\n",
       "<p>553 rows × 4 columns</p>\n",
       "</div>"
      ],
      "text/plain": [
       "            Historical  Parametric  Multivariate  Portfolio\n",
       "2022-02-14   -0.042976   -0.039150     -0.042600  -0.011518\n",
       "2022-02-15   -0.042976   -0.040340     -0.044125   0.019863\n",
       "2022-02-16   -0.042976   -0.040059     -0.041774  -0.003770\n",
       "2022-02-17   -0.042976   -0.039705     -0.042589  -0.015179\n",
       "2022-02-18   -0.042976   -0.039691     -0.043170  -0.010856\n",
       "...                ...         ...           ...        ...\n",
       "2024-04-05   -0.012946   -0.015406     -0.013540  -0.013574\n",
       "2024-04-08   -0.012946   -0.015023     -0.013396   0.006714\n",
       "2024-04-09   -0.015623   -0.016709     -0.015722  -0.016460\n",
       "2024-04-10   -0.015623   -0.016663     -0.015747  -0.002923\n",
       "2024-04-11   -0.015623   -0.016677     -0.015654   0.003450\n",
       "\n",
       "[553 rows x 4 columns]"
      ]
     },
     "execution_count": 64,
     "metadata": {},
     "output_type": "execute_result"
    }
   ],
   "source": [
    "var_data=rolling_var(returns,weights,window=30,Q=1).dropna()\n",
    "var_data"
   ]
  },
  {
   "cell_type": "code",
   "execution_count": 65,
   "id": "af38e7bb-5ddf-4bd7-a026-9af4d2492fad",
   "metadata": {},
   "outputs": [
    {
     "data": {
      "text/plain": [
       "<AxesSubplot:>"
      ]
     },
     "execution_count": 65,
     "metadata": {},
     "output_type": "execute_result"
    },
    {
     "data": {
      "image/png": "[encoded data removed]",
      "text/plain": [
       "<Figure size 432x288 with 1 Axes>"
      ]
     },
     "metadata": {
      "needs_background": "light"
     },
     "output_type": "display_data"
    }
   ],
   "source": [
    "var_data.plot()"
   ]
  },
  {
   "cell_type": "code",
   "execution_count": 66,
   "id": "af1d18bc-5ef9-4b8b-be6d-5f69f22105c2",
   "metadata": {},
   "outputs": [
    {
     "data": {
      "text/html": [
       "<div>\n",
       "<style scoped>\n",
       "    .dataframe tbody tr th:only-of-type {\n",
       "        vertical-align: middle;\n",
       "    }\n",
       "\n",
       "    .dataframe tbody tr th {\n",
       "        vertical-align: top;\n",
       "    }\n",
       "\n",
       "    .dataframe thead th {\n",
       "        text-align: right;\n",
       "    }\n",
       "</style>\n",
       "<table border=\"1\" class=\"dataframe\">\n",
       "  <thead>\n",
       "    <tr style=\"text-align: right;\">\n",
       "      <th></th>\n",
       "      <th>Historical</th>\n",
       "      <th>Parametric</th>\n",
       "      <th>Multivariate</th>\n",
       "    </tr>\n",
       "  </thead>\n",
       "  <tbody>\n",
       "    <tr>\n",
       "      <th>Proportion of failure</th>\n",
       "      <td>0.037975</td>\n",
       "      <td>0.009042</td>\n",
       "      <td>0.012658</td>\n",
       "    </tr>\n",
       "    <tr>\n",
       "      <th>Kupiec Stat</th>\n",
       "      <td>1.829486</td>\n",
       "      <td>29.160917</td>\n",
       "      <td>22.869243</td>\n",
       "    </tr>\n",
       "    <tr>\n",
       "      <th>P-value</th>\n",
       "      <td>0.176188</td>\n",
       "      <td>0.0</td>\n",
       "      <td>0.000002</td>\n",
       "    </tr>\n",
       "  </tbody>\n",
       "</table>\n",
       "</div>"
      ],
      "text/plain": [
       "                      Historical Parametric Multivariate\n",
       "Proportion of failure   0.037975   0.009042     0.012658\n",
       "Kupiec Stat             1.829486  29.160917    22.869243\n",
       "P-value                 0.176188        0.0     0.000002"
      ]
     },
     "execution_count": 66,
     "metadata": {},
     "output_type": "execute_result"
    }
   ],
   "source": [
    "kupiec_test(var_data)"
   ]
  },
  {
   "cell_type": "code",
   "execution_count": 67,
   "id": "89568840-755f-4504-b61c-1720c9e5e813",
   "metadata": {},
   "outputs": [
    {
     "data": {
      "text/plain": [
       "array([0.61986766, 0.19880155, 0.08948356, 0.0569991 , 0.03484814])"
      ]
     },
     "execution_count": 67,
     "metadata": {},
     "output_type": "execute_result"
    }
   ],
   "source": [
    "eigval,eigvec,portfolio_components=test.pca(num_components=5)\n",
    "variance_explained=eigval/eigval.sum()\n",
    "variance_explained"
   ]
  },
  {
   "cell_type": "code",
   "execution_count": 68,
   "id": "24c6adac-08b9-44d7-8747-d74a3ca0283e",
   "metadata": {},
   "outputs": [
    {
     "data": {
      "text/html": [
       "<div>\n",
       "<style scoped>\n",
       "    .dataframe tbody tr th:only-of-type {\n",
       "        vertical-align: middle;\n",
       "    }\n",
       "\n",
       "    .dataframe tbody tr th {\n",
       "        vertical-align: top;\n",
       "    }\n",
       "\n",
       "    .dataframe thead th {\n",
       "        text-align: right;\n",
       "    }\n",
       "</style>\n",
       "<table border=\"1\" class=\"dataframe\">\n",
       "  <thead>\n",
       "    <tr style=\"text-align: right;\">\n",
       "      <th></th>\n",
       "      <th>PC1</th>\n",
       "      <th>PC2</th>\n",
       "      <th>PC3</th>\n",
       "      <th>PC4</th>\n",
       "      <th>PC5</th>\n",
       "    </tr>\n",
       "  </thead>\n",
       "  <tbody>\n",
       "    <tr>\n",
       "      <th>ADS.DE</th>\n",
       "      <td>0.188605</td>\n",
       "      <td>0.733799</td>\n",
       "      <td>-0.581966</td>\n",
       "      <td>0.044269</td>\n",
       "      <td>-0.844732</td>\n",
       "    </tr>\n",
       "    <tr>\n",
       "      <th>ADYEN.AS</th>\n",
       "      <td>0.577277</td>\n",
       "      <td>-0.341115</td>\n",
       "      <td>-0.074308</td>\n",
       "      <td>0.001015</td>\n",
       "      <td>-0.250162</td>\n",
       "    </tr>\n",
       "    <tr>\n",
       "      <th>AD.AS</th>\n",
       "      <td>0.030096</td>\n",
       "      <td>0.082369</td>\n",
       "      <td>0.352381</td>\n",
       "      <td>1.213223</td>\n",
       "      <td>-5.137805</td>\n",
       "    </tr>\n",
       "    <tr>\n",
       "      <th>AI.PA</th>\n",
       "      <td>0.082777</td>\n",
       "      <td>0.197730</td>\n",
       "      <td>0.416898</td>\n",
       "      <td>0.366700</td>\n",
       "      <td>10.880942</td>\n",
       "    </tr>\n",
       "    <tr>\n",
       "      <th>AIR.PA</th>\n",
       "      <td>0.121245</td>\n",
       "      <td>0.327217</td>\n",
       "      <td>0.886994</td>\n",
       "      <td>-0.625207</td>\n",
       "      <td>-3.648243</td>\n",
       "    </tr>\n",
       "  </tbody>\n",
       "</table>\n",
       "</div>"
      ],
      "text/plain": [
       "               PC1       PC2       PC3       PC4        PC5\n",
       "ADS.DE    0.188605  0.733799 -0.581966  0.044269  -0.844732\n",
       "ADYEN.AS  0.577277 -0.341115 -0.074308  0.001015  -0.250162\n",
       "AD.AS     0.030096  0.082369  0.352381  1.213223  -5.137805\n",
       "AI.PA     0.082777  0.197730  0.416898  0.366700  10.880942\n",
       "AIR.PA    0.121245  0.327217  0.886994 -0.625207  -3.648243"
      ]
     },
     "execution_count": 68,
     "metadata": {},
     "output_type": "execute_result"
    }
   ],
   "source": [
    "portfolio_components"
   ]
  },
  {
   "cell_type": "code",
   "execution_count": 69,
   "id": "f6053249-62c8-4d0e-b086-e2a9eff1fca6",
   "metadata": {},
   "outputs": [
    {
     "data": {
      "text/plain": [
       "<AxesSubplot:>"
      ]
     },
     "execution_count": 69,
     "metadata": {},
     "output_type": "execute_result"
    },
    {
     "data": {
      "image/png": "[encoded data removed]",
      "text/plain": [
       "<Figure size 432x288 with 1 Axes>"
      ]
     },
     "metadata": {
      "needs_background": "light"
     },
     "output_type": "display_data"
    }
   ],
   "source": [
    "test.evolution(portfolio_components[\"PC1\"]).plot()"
   ]
  },
  {
   "cell_type": "code",
   "execution_count": 70,
   "id": "2cb8275f-9a10-47a7-9fde-30d1da4f62b0",
   "metadata": {},
   "outputs": [
    {
     "data": {
      "text/plain": [
       "<AxesSubplot:>"
      ]
     },
     "execution_count": 70,
     "metadata": {},
     "output_type": "execute_result"
    },
    {
     "data": {
      "image/png": "[encoded data removed]",
      "text/plain": [
       "<Figure size 432x288 with 1 Axes>"
      ]
     },
     "metadata": {
      "needs_background": "light"
     },
     "output_type": "display_data"
    }
   ],
   "source": [
    "((1+get_close(['^STOXX50E'],\"2022-01-01\").pct_change()).cumprod()*100).plot()"
   ]
  },
  {
   "cell_type": "code",
   "execution_count": 71,
   "id": "372df0e6-8286-4926-b775-a94c51c6ff32",
   "metadata": {},
   "outputs": [
    {
     "data": {
      "text/plain": [
       "array([0.0059933 , 0.01587225, 0.00167108, 0.00174313, 0.00321963])"
      ]
     },
     "execution_count": 71,
     "metadata": {},
     "output_type": "execute_result"
    }
   ],
   "source": [
    "weights_matrix=np.diag(weights)\n",
    "variance_contrib=np.dot(weights_matrix,np.dot(returns.cov()*252,weights_matrix.T))\n",
    "variance_contrib.diagonal()"
   ]
  },
  {
   "cell_type": "code",
   "execution_count": 86,
   "id": "aefe4251-1524-4bfe-b539-ff2f09164e85",
   "metadata": {},
   "outputs": [
    {
     "data": {
      "text/html": [
       "<div>\n",
       "<style scoped>\n",
       "    .dataframe tbody tr th:only-of-type {\n",
       "        vertical-align: middle;\n",
       "    }\n",
       "\n",
       "    .dataframe tbody tr th {\n",
       "        vertical-align: top;\n",
       "    }\n",
       "\n",
       "    .dataframe thead th {\n",
       "        text-align: right;\n",
       "    }\n",
       "</style>\n",
       "<table border=\"1\" class=\"dataframe\">\n",
       "  <thead>\n",
       "    <tr style=\"text-align: right;\">\n",
       "      <th></th>\n",
       "      <th>ADS.DE</th>\n",
       "      <th>ADYEN.AS</th>\n",
       "      <th>AD.AS</th>\n",
       "      <th>AI.PA</th>\n",
       "      <th>AIR.PA</th>\n",
       "    </tr>\n",
       "  </thead>\n",
       "  <tbody>\n",
       "    <tr>\n",
       "      <th>ADS.DE</th>\n",
       "      <td>0.005993</td>\n",
       "      <td>0.003239</td>\n",
       "      <td>0.000385</td>\n",
       "      <td>0.001245</td>\n",
       "      <td>0.001792</td>\n",
       "    </tr>\n",
       "    <tr>\n",
       "      <th>ADYEN.AS</th>\n",
       "      <td>0.003239</td>\n",
       "      <td>0.015872</td>\n",
       "      <td>0.000550</td>\n",
       "      <td>0.001612</td>\n",
       "      <td>0.002265</td>\n",
       "    </tr>\n",
       "    <tr>\n",
       "      <th>AD.AS</th>\n",
       "      <td>0.000385</td>\n",
       "      <td>0.000550</td>\n",
       "      <td>0.001671</td>\n",
       "      <td>0.000501</td>\n",
       "      <td>0.000412</td>\n",
       "    </tr>\n",
       "    <tr>\n",
       "      <th>AI.PA</th>\n",
       "      <td>0.001245</td>\n",
       "      <td>0.001612</td>\n",
       "      <td>0.000501</td>\n",
       "      <td>0.001743</td>\n",
       "      <td>0.001132</td>\n",
       "    </tr>\n",
       "    <tr>\n",
       "      <th>AIR.PA</th>\n",
       "      <td>0.001792</td>\n",
       "      <td>0.002265</td>\n",
       "      <td>0.000412</td>\n",
       "      <td>0.001132</td>\n",
       "      <td>0.003220</td>\n",
       "    </tr>\n",
       "  </tbody>\n",
       "</table>\n",
       "</div>"
      ],
      "text/plain": [
       "            ADS.DE  ADYEN.AS     AD.AS     AI.PA    AIR.PA\n",
       "ADS.DE    0.005993  0.003239  0.000385  0.001245  0.001792\n",
       "ADYEN.AS  0.003239  0.015872  0.000550  0.001612  0.002265\n",
       "AD.AS     0.000385  0.000550  0.001671  0.000501  0.000412\n",
       "AI.PA     0.001245  0.001612  0.000501  0.001743  0.001132\n",
       "AIR.PA    0.001792  0.002265  0.000412  0.001132  0.003220"
      ]
     },
     "execution_count": 87,
     "metadata": {},
     "output_type": "execute_result"
    }
   ],
   "source": [
    "pd.DataFrame(variance_contrib,columns=returns.columns,index=returns.columns).sum()"
   ]
  },
  {
   "cell_type": "code",
   "execution_count": 73,
   "id": "bf907d7f-22c7-4f05-bab1-0234a02ee293",
   "metadata": {},
   "outputs": [
    {
     "data": {
      "text/plain": [
       "array([0.01265426, 0.02353754, 0.00351911, 0.00623419, 0.00882138])"
      ]
     },
     "execution_count": 73,
     "metadata": {},
     "output_type": "execute_result"
    }
   ],
   "source": [
    "asset_contrib=variance_contrib.sum(axis=0)\n",
    "asset_contrib"
   ]
  },
  {
   "cell_type": "code",
   "execution_count": 74,
   "id": "83dffb19-da3c-4686-b6e1-a295db33d31c",
   "metadata": {},
   "outputs": [
    {
     "data": {
      "text/plain": [
       "array([0.23105849, 0.42978014, 0.0642566 , 0.11383217, 0.1610726 ])"
      ]
     },
     "execution_count": 74,
     "metadata": {},
     "output_type": "execute_result"
    }
   ],
   "source": [
    "asset_contrib/np.sum(variance_contrib)"
   ]
  },
  {
   "cell_type": "code",
   "execution_count": 79,
   "id": "70d778d6-826d-489d-95e7-a3a140cac796",
   "metadata": {},
   "outputs": [
    {
     "data": {
      "text/plain": [
       "array([[0.10943379, 0.05913417, 0.00702979, 0.02273828, 0.03272246],\n",
       "       [0.05913417, 0.28981685, 0.01003598, 0.02944078, 0.04135235],\n",
       "       [0.00702979, 0.01003598, 0.03051283, 0.00914662, 0.00753138],\n",
       "       [0.02273828, 0.02944078, 0.00914662, 0.0318284 , 0.02067809],\n",
       "       [0.03272246, 0.04135235, 0.00753138, 0.02067809, 0.05878831]])"
      ]
     },
     "execution_count": 79,
     "metadata": {},
     "output_type": "execute_result"
    }
   ],
   "source": [
    "variance_contrib/np.sum(variance_contrib)"
   ]
  },
  {
   "cell_type": "code",
   "execution_count": 80,
   "id": "bc01a23a-663c-4ec9-85b3-d1c82188a7d8",
   "metadata": {},
   "outputs": [
    {
     "data": {
      "text/plain": [
       "array([[0.0059933 , 0.        , 0.        , 0.        , 0.        ],\n",
       "       [0.        , 0.01587225, 0.        , 0.        , 0.        ],\n",
       "       [0.        , 0.        , 0.00167108, 0.        , 0.        ],\n",
       "       [0.        , 0.        , 0.        , 0.00174313, 0.        ],\n",
       "       [0.        , 0.        , 0.        , 0.        , 0.00321963]])"
      ]
     },
     "execution_count": 80,
     "metadata": {},
     "output_type": "execute_result"
    }
   ],
   "source": [
    "diag=np.diag(variance_contrib.diagonal())\n",
    "diag"
   ]
  },
  {
   "cell_type": "code",
   "execution_count": 81,
   "id": "ce590f24-c484-4895-9dde-a5ddd0ada0f9",
   "metadata": {},
   "outputs": [
    {
     "data": {
      "text/plain": [
       "array([0.00666096, 0.00766529, 0.00184803, 0.00449106, 0.00560175])"
      ]
     },
     "execution_count": 81,
     "metadata": {},
     "output_type": "execute_result"
    }
   ],
   "source": [
    "(variance_contrib-diag).sum(axis=0)"
   ]
  },
  {
   "cell_type": "code",
   "execution_count": 84,
   "id": "66a1764b-0b11-4df6-b2bf-bc119d2e0985",
   "metadata": {},
   "outputs": [
    {
     "data": {
      "text/plain": [
       "array([[0.01265426, 0.0059933 , 0.00666096],\n",
       "       [0.02353754, 0.01587225, 0.00766529],\n",
       "       [0.00351911, 0.00167108, 0.00184803],\n",
       "       [0.00623419, 0.00174313, 0.00449106],\n",
       "       [0.00882138, 0.00321963, 0.00560175]])"
      ]
     },
     "execution_count": 84,
     "metadata": {},
     "output_type": "execute_result"
    }
   ],
   "source": [
    "plop=np.column_stack([asset_contrib,variance_contrib.diagonal(),(variance_contrib-diag).sum(axis=0)])\n",
    "plop"
   ]
  },
  {
   "cell_type": "code",
   "execution_count": 95,
   "id": "94991410-a9d7-4e67-b839-eaab8d505545",
   "metadata": {},
   "outputs": [
    {
     "data": {
      "text/html": [
       "<div>\n",
       "<style scoped>\n",
       "    .dataframe tbody tr th:only-of-type {\n",
       "        vertical-align: middle;\n",
       "    }\n",
       "\n",
       "    .dataframe tbody tr th {\n",
       "        vertical-align: top;\n",
       "    }\n",
       "\n",
       "    .dataframe thead th {\n",
       "        text-align: right;\n",
       "    }\n",
       "</style>\n",
       "<table border=\"1\" class=\"dataframe\">\n",
       "  <thead>\n",
       "    <tr style=\"text-align: right;\">\n",
       "      <th></th>\n",
       "      <th>Variance Contribution</th>\n",
       "      <th>Idiosyncratic Risk</th>\n",
       "      <th>Correlation</th>\n",
       "    </tr>\n",
       "  </thead>\n",
       "  <tbody>\n",
       "    <tr>\n",
       "      <th>ADYEN.AS</th>\n",
       "      <td>0.023538</td>\n",
       "      <td>0.015872</td>\n",
       "      <td>0.007665</td>\n",
       "    </tr>\n",
       "    <tr>\n",
       "      <th>ADS.DE</th>\n",
       "      <td>0.012654</td>\n",
       "      <td>0.005993</td>\n",
       "      <td>0.006661</td>\n",
       "    </tr>\n",
       "    <tr>\n",
       "      <th>AIR.PA</th>\n",
       "      <td>0.008821</td>\n",
       "      <td>0.003220</td>\n",
       "      <td>0.005602</td>\n",
       "    </tr>\n",
       "    <tr>\n",
       "      <th>AI.PA</th>\n",
       "      <td>0.006234</td>\n",
       "      <td>0.001743</td>\n",
       "      <td>0.004491</td>\n",
       "    </tr>\n",
       "    <tr>\n",
       "      <th>AD.AS</th>\n",
       "      <td>0.003519</td>\n",
       "      <td>0.001671</td>\n",
       "      <td>0.001848</td>\n",
       "    </tr>\n",
       "  </tbody>\n",
       "</table>\n",
       "</div>"
      ],
      "text/plain": [
       "          Variance Contribution  Idiosyncratic Risk  Correlation\n",
       "ADYEN.AS               0.023538            0.015872     0.007665\n",
       "ADS.DE                 0.012654            0.005993     0.006661\n",
       "AIR.PA                 0.008821            0.003220     0.005602\n",
       "AI.PA                  0.006234            0.001743     0.004491\n",
       "AD.AS                  0.003519            0.001671     0.001848"
      ]
     },
     "execution_count": 95,
     "metadata": {},
     "output_type": "execute_result"
    }
   ],
   "source": [
    "contrib=pd.DataFrame(plop,index=returns.columns,columns=['Variance Contribution','Idiosyncratic Risk','Correlation'])\n",
    "contrib.sort_values('Variance Contribution',ascending=False)"
   ]
  },
  {
   "cell_type": "code",
   "execution_count": null,
   "id": "daaaea76-45eb-46e4-801d-b8aacfd039d5",
   "metadata": {},
   "outputs": [],
   "source": []
  },
  {
   "cell_type": "code",
   "execution_count": null,
   "id": "dbeafccb-3fef-4ce0-92f3-80c9f2605b2a",
   "metadata": {},
   "outputs": [],
   "source": []
  }
 ],
 "metadata": {
  "kernelspec": {
   "display_name": "Python 3 (ipykernel)",
   "language": "python",
   "name": "python3"
  },
  "language_info": {
   "codemirror_mode": {
    "name": "ipython",
    "version": 3
   },
   "file_extension": ".py",
   "mimetype": "text/x-python",
   "name": "python",
   "nbconvert_exporter": "python",
   "pygments_lexer": "ipython3",
   "version": "3.9.12"
  }
 },
 "nbformat": 4,
 "nbformat_minor": 5
}
