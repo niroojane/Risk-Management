{
 "cells": [
  {
   "cell_type": "markdown",
   "id": "b37f1921-36ab-4456-9e86-117c39f91bc4",
   "metadata": {},
   "source": [
    "# Importing Libraries"
   ]
  },
  {
   "cell_type": "code",
   "execution_count": 2,
   "id": "17924f12-91ef-435b-bddf-4e1b0e499c5e",
   "metadata": {
    "editable": true,
    "slideshow": {
     "slide_type": ""
    },
    "tags": []
   },
   "outputs": [],
   "source": [
    "import pandas as pd\n",
    "import random\n",
    "import numpy as np\n",
    "import matplotlib.pyplot as plt\n",
    "import datetime\n",
    "import seaborn as sns\n",
    "import requests\n",
    "from io import BytesIO\n",
    "import base64\n",
    "from Binance_API import BinanceAPI\n",
    "from RiskMetrics import RiskAnalysis, rolling_var,kupiec_test, performance\n",
    "from PnL_Computation import PnL\n",
    "from Stock_Data import get_close\n",
    "from Rebalancing import *\n",
    "from Git import *"
   ]
  },
  {
   "cell_type": "code",
   "execution_count": 3,
   "id": "7748b491-0dcd-4d3a-b9c6-00d6022964da",
   "metadata": {},
   "outputs": [],
   "source": [
    "# %run \"Git.ipynb\".ipynb"
   ]
  },
  {
   "cell_type": "code",
   "execution_count": 4,
   "id": "9a61bae5-a9fb-4cdc-824f-3021754b1b80",
   "metadata": {},
   "outputs": [],
   "source": [
    "git=GitHub(token,repo_owner,repo_name,branch)"
   ]
  },
  {
   "cell_type": "markdown",
   "id": "01a00d22-d2b2-4f90-97d6-a7a3f8ef242f",
   "metadata": {
    "editable": true,
    "slideshow": {
     "slide_type": ""
    },
    "tags": []
   },
   "source": [
    "# Importing Data"
   ]
  },
  {
   "cell_type": "markdown",
   "id": "0af29f5a-4c7d-44b2-8ecc-6d859cdc6983",
   "metadata": {
    "editable": true,
    "slideshow": {
     "slide_type": ""
    },
    "tags": []
   },
   "source": [
    "## Tickers"
   ]
  },
  {
   "cell_type": "code",
   "execution_count": 7,
   "id": "879726f3-da1f-4180-8121-df701ec61bf4",
   "metadata": {
    "editable": true,
    "slideshow": {
     "slide_type": ""
    },
    "tags": []
   },
   "outputs": [],
   "source": [
    "\n",
    "Binance=BinanceAPI(binance_api_key,binance_api_secret)\n",
    "Pnl_calculation=PnL(binance_api_key,binance_api_secret)"
   ]
  },
  {
   "cell_type": "code",
   "execution_count": 8,
   "id": "0f1c0e61-395a-407c-9aef-80d5011e56b5",
   "metadata": {},
   "outputs": [],
   "source": [
    "#stocks=pd.read_html('https://en.wikipedia.org/wiki/EURO_STOXX_50')[4]\n",
    "#tickers=stocks['Ticker'].to_list()"
   ]
  },
  {
   "cell_type": "markdown",
   "id": "c33884b2-73bc-4e92-8c5b-09559b34051d",
   "metadata": {},
   "source": [
    "## Market Data"
   ]
  },
  {
   "cell_type": "code",
   "execution_count": 10,
   "id": "353ee938-b3c5-4e7b-b9bb-d5f1088de45e",
   "metadata": {},
   "outputs": [],
   "source": [
    "start_date=datetime.datetime(2023,12,1)\n",
    "enddate=datetime.datetime.today()"
   ]
  },
  {
   "cell_type": "code",
   "execution_count": 11,
   "id": "3121b466-eae2-4538-bd80-54f2e390b2c1",
   "metadata": {},
   "outputs": [],
   "source": [
    "quantities_api=Binance.binance_api.user_asset()\n",
    "current_quantities=pd.DataFrame(quantities_api).sort_values(by='free',ascending=False)\n",
    "current_quantities['asset']=current_quantities['asset']+'USDT'\n",
    "current_quantities=current_quantities.set_index('asset')"
   ]
  },
  {
   "cell_type": "code",
   "execution_count": 12,
   "id": "bc9dc9f4-e9da-4c44-958a-aa8c975e6489",
   "metadata": {},
   "outputs": [],
   "source": [
    "#today_price=Binance.get_price(holding_tickers,date=datetime.datetime.today()).T\n",
    "#today_price.columns=['Mark To Market']"
   ]
  },
  {
   "cell_type": "code",
   "execution_count": 13,
   "id": "a4a2d605-7c41-4a57-8b9c-3a7cfe4286d4",
   "metadata": {},
   "outputs": [],
   "source": [
    "# trade_history=pd.read_excel('Trade History Reconstructed.xlsx')\n",
    "url='https://github.com/niroojane/Risk-Management/raw/refs/heads/main/Trade%20History%20Reconstructed.xlsx'\n",
    "myfile = requests.get(url)\n",
    "trade_history=pd.read_excel(BytesIO(myfile.content))\n"
   ]
  },
  {
   "cell_type": "code",
   "execution_count": 14,
   "id": "a0e9fd51-991c-4d02-8924-b698df496b15",
   "metadata": {},
   "outputs": [],
   "source": [
    "price=Pnl_calculation.get_trade_in_usdt(trade_history)"
   ]
  },
  {
   "cell_type": "code",
   "execution_count": 15,
   "id": "8c24a940-1251-412a-9692-f37ddff4c7af",
   "metadata": {},
   "outputs": [],
   "source": [
    "book_cost=Pnl_calculation.get_book_cost(price)\n",
    "realized_pnl,profit_and_loss=Pnl_calculation.get_pnl(book_cost,price)\n",
    "historical_positions=Pnl_calculation.get_historical_positions(price)\n",
    "historical_positions.columns=historical_positions.columns+'USDT'\n",
    "historical_positions=historical_positions.sort_index()"
   ]
  },
  {
   "cell_type": "code",
   "execution_count": 16,
   "id": "3808b5d2-0414-42fc-bad0-cf405f64be35",
   "metadata": {},
   "outputs": [
    {
     "name": "stderr",
     "output_type": "stream",
     "text": [
      "C:\\Users\\Admin\\AppData\\Local\\Temp\\ipykernel_4952\\1326421339.py:5: FutureWarning: The behavior of array concatenation with empty entries is deprecated. In a future version, this will no longer exclude empty items when determining the result dtype. To retain the old behavior, exclude the empty entries before the concat operation.\n",
      "  realized_pnl_time=pd.concat([realized_pnl_time,temp],axis=0)\n"
     ]
    }
   ],
   "source": [
    "realized_pnl_time=pd.DataFrame()\n",
    "for key in profit_and_loss:\n",
    "\n",
    "    temp=profit_and_loss[key]\n",
    "    realized_pnl_time=pd.concat([realized_pnl_time,temp],axis=0)\n",
    "\n",
    "realized_pnl_time.columns=realized_pnl_time.columns+'USDT'\n",
    "\n",
    "realized_pnl_time=realized_pnl_time.sort_index().fillna(0)\n",
    "realized_pnl_time.index=realized_pnl_time.index.strftime(date_format='%Y-%m-%d')\n",
    "realized_pnl_time.groupby(realized_pnl_time.index).sum()\n",
    "realized_pnl_time=realized_pnl_time.cumsum()\n",
    "realized_pnl_time = realized_pnl_time[~realized_pnl_time.index.duplicated(keep='last')]\n",
    "realized_pnl_time=realized_pnl_time.sum(axis=1)"
   ]
  },
  {
   "cell_type": "code",
   "execution_count": 17,
   "id": "42cf18fe-e2f5-4f28-adfb-5c88249c0513",
   "metadata": {},
   "outputs": [],
   "source": [
    "price_of_positions=Binance.get_price(historical_positions.columns,datetime.datetime(2024,5,1))\n",
    "price_of_positions.index=pd.to_datetime(price_of_positions.index)\n",
    "price_of_positions=price_of_positions.sort_index()"
   ]
  },
  {
   "cell_type": "code",
   "execution_count": 18,
   "id": "d96d32d8-c62f-4f90-b62e-daf31e6bc7d3",
   "metadata": {},
   "outputs": [],
   "source": [
    "tickers=Binance.get_market_cap()['Ticker'].iloc[:20].to_list()"
   ]
  },
  {
   "cell_type": "code",
   "execution_count": 19,
   "id": "068966a7-6e0f-48c0-b1cc-4ccb1155789a",
   "metadata": {},
   "outputs": [],
   "source": [
    "holding=Binance.get_inventory()"
   ]
  },
  {
   "cell_type": "code",
   "execution_count": 20,
   "id": "6fbed6d2-a98a-407c-970f-6719f509dce2",
   "metadata": {},
   "outputs": [
    {
     "data": {
      "text/html": [
       "<div>\n",
       "<style scoped>\n",
       "    .dataframe tbody tr th:only-of-type {\n",
       "        vertical-align: middle;\n",
       "    }\n",
       "\n",
       "    .dataframe tbody tr th {\n",
       "        vertical-align: top;\n",
       "    }\n",
       "\n",
       "    .dataframe thead th {\n",
       "        text-align: right;\n",
       "    }\n",
       "</style>\n",
       "<table border=\"1\" class=\"dataframe\">\n",
       "  <thead>\n",
       "    <tr style=\"text-align: right;\">\n",
       "      <th></th>\n",
       "      <th>Book Cost</th>\n",
       "      <th>Price in USDT</th>\n",
       "      <th>Weights</th>\n",
       "      <th>Realized PnL</th>\n",
       "      <th>Unrealized PnL</th>\n",
       "      <th>Total PnL</th>\n",
       "      <th>Total PnL %</th>\n",
       "    </tr>\n",
       "  </thead>\n",
       "  <tbody>\n",
       "    <tr>\n",
       "      <th>Total</th>\n",
       "      <td>2314.46</td>\n",
       "      <td>2191.39</td>\n",
       "      <td>1.00</td>\n",
       "      <td>-176.97</td>\n",
       "      <td>53.90</td>\n",
       "      <td>-123.07</td>\n",
       "      <td>-5.32</td>\n",
       "    </tr>\n",
       "    <tr>\n",
       "      <th>BTCUSDT</th>\n",
       "      <td>601.02</td>\n",
       "      <td>1050.47</td>\n",
       "      <td>0.48</td>\n",
       "      <td>3.54</td>\n",
       "      <td>449.44</td>\n",
       "      <td>452.98</td>\n",
       "      <td>19.57</td>\n",
       "    </tr>\n",
       "    <tr>\n",
       "      <th>SOLUSDT</th>\n",
       "      <td>281.20</td>\n",
       "      <td>325.88</td>\n",
       "      <td>0.15</td>\n",
       "      <td>0.00</td>\n",
       "      <td>44.68</td>\n",
       "      <td>44.68</td>\n",
       "      <td>1.93</td>\n",
       "    </tr>\n",
       "    <tr>\n",
       "      <th>ETHUSDT</th>\n",
       "      <td>250.75</td>\n",
       "      <td>293.67</td>\n",
       "      <td>0.13</td>\n",
       "      <td>0.00</td>\n",
       "      <td>42.93</td>\n",
       "      <td>42.93</td>\n",
       "      <td>1.85</td>\n",
       "    </tr>\n",
       "    <tr>\n",
       "      <th>JASMYUSDT</th>\n",
       "      <td>387.46</td>\n",
       "      <td>210.44</td>\n",
       "      <td>0.10</td>\n",
       "      <td>0.00</td>\n",
       "      <td>-177.02</td>\n",
       "      <td>-177.02</td>\n",
       "      <td>-7.65</td>\n",
       "    </tr>\n",
       "    <tr>\n",
       "      <th>TRXUSDT</th>\n",
       "      <td>76.87</td>\n",
       "      <td>165.47</td>\n",
       "      <td>0.08</td>\n",
       "      <td>-10.72</td>\n",
       "      <td>88.60</td>\n",
       "      <td>77.88</td>\n",
       "      <td>3.36</td>\n",
       "    </tr>\n",
       "    <tr>\n",
       "      <th>OMUSDT</th>\n",
       "      <td>526.32</td>\n",
       "      <td>128.89</td>\n",
       "      <td>0.06</td>\n",
       "      <td>0.00</td>\n",
       "      <td>-397.43</td>\n",
       "      <td>-397.43</td>\n",
       "      <td>-17.17</td>\n",
       "    </tr>\n",
       "    <tr>\n",
       "      <th>BNBUSDT</th>\n",
       "      <td>13.87</td>\n",
       "      <td>16.57</td>\n",
       "      <td>0.01</td>\n",
       "      <td>-10.61</td>\n",
       "      <td>2.70</td>\n",
       "      <td>-7.91</td>\n",
       "      <td>-0.34</td>\n",
       "    </tr>\n",
       "    <tr>\n",
       "      <th>BBUSDT</th>\n",
       "      <td>0.01</td>\n",
       "      <td>0.00</td>\n",
       "      <td>0.00</td>\n",
       "      <td>-84.82</td>\n",
       "      <td>-0.00</td>\n",
       "      <td>-84.82</td>\n",
       "      <td>-3.66</td>\n",
       "    </tr>\n",
       "    <tr>\n",
       "      <th>PEPEUSDT</th>\n",
       "      <td>0.00</td>\n",
       "      <td>0.00</td>\n",
       "      <td>0.00</td>\n",
       "      <td>-38.52</td>\n",
       "      <td>-0.00</td>\n",
       "      <td>-38.52</td>\n",
       "      <td>-1.66</td>\n",
       "    </tr>\n",
       "    <tr>\n",
       "      <th>USDTUSDT</th>\n",
       "      <td>0.00</td>\n",
       "      <td>0.00</td>\n",
       "      <td>0.00</td>\n",
       "      <td>0.00</td>\n",
       "      <td>0.00</td>\n",
       "      <td>0.00</td>\n",
       "      <td>0.00</td>\n",
       "    </tr>\n",
       "    <tr>\n",
       "      <th>LPTUSDT</th>\n",
       "      <td>0.00</td>\n",
       "      <td>0.00</td>\n",
       "      <td>0.00</td>\n",
       "      <td>-5.75</td>\n",
       "      <td>0.00</td>\n",
       "      <td>-5.75</td>\n",
       "      <td>-0.25</td>\n",
       "    </tr>\n",
       "    <tr>\n",
       "      <th>NOTUSDT</th>\n",
       "      <td>0.00</td>\n",
       "      <td>0.00</td>\n",
       "      <td>0.00</td>\n",
       "      <td>1.01</td>\n",
       "      <td>0.00</td>\n",
       "      <td>1.01</td>\n",
       "      <td>0.04</td>\n",
       "    </tr>\n",
       "    <tr>\n",
       "      <th>UMAUSDT</th>\n",
       "      <td>0.00</td>\n",
       "      <td>0.00</td>\n",
       "      <td>0.00</td>\n",
       "      <td>-5.02</td>\n",
       "      <td>0.00</td>\n",
       "      <td>-5.02</td>\n",
       "      <td>-0.22</td>\n",
       "    </tr>\n",
       "    <tr>\n",
       "      <th>ENSUSDT</th>\n",
       "      <td>0.00</td>\n",
       "      <td>0.00</td>\n",
       "      <td>0.00</td>\n",
       "      <td>-3.54</td>\n",
       "      <td>0.00</td>\n",
       "      <td>-3.54</td>\n",
       "      <td>-0.15</td>\n",
       "    </tr>\n",
       "    <tr>\n",
       "      <th>MKRUSDT</th>\n",
       "      <td>0.00</td>\n",
       "      <td>0.00</td>\n",
       "      <td>0.00</td>\n",
       "      <td>-6.10</td>\n",
       "      <td>0.00</td>\n",
       "      <td>-6.10</td>\n",
       "      <td>-0.26</td>\n",
       "    </tr>\n",
       "    <tr>\n",
       "      <th>XRPUSDT</th>\n",
       "      <td>0.00</td>\n",
       "      <td>0.00</td>\n",
       "      <td>0.00</td>\n",
       "      <td>-6.11</td>\n",
       "      <td>0.00</td>\n",
       "      <td>-6.11</td>\n",
       "      <td>-0.26</td>\n",
       "    </tr>\n",
       "    <tr>\n",
       "      <th>NEARUSDT</th>\n",
       "      <td>0.00</td>\n",
       "      <td>0.00</td>\n",
       "      <td>0.00</td>\n",
       "      <td>-10.34</td>\n",
       "      <td>0.00</td>\n",
       "      <td>-10.34</td>\n",
       "      <td>-0.45</td>\n",
       "    </tr>\n",
       "    <tr>\n",
       "      <th>RNDRUSDT</th>\n",
       "      <td>0.00</td>\n",
       "      <td>0.00</td>\n",
       "      <td>0.00</td>\n",
       "      <td>0.00</td>\n",
       "      <td>0.00</td>\n",
       "      <td>0.00</td>\n",
       "      <td>0.00</td>\n",
       "    </tr>\n",
       "    <tr>\n",
       "      <th>FETUSDT</th>\n",
       "      <td>0.00</td>\n",
       "      <td>0.00</td>\n",
       "      <td>0.00</td>\n",
       "      <td>0.01</td>\n",
       "      <td>0.00</td>\n",
       "      <td>0.01</td>\n",
       "      <td>0.00</td>\n",
       "    </tr>\n",
       "    <tr>\n",
       "      <th>TNSRUSDT</th>\n",
       "      <td>0.00</td>\n",
       "      <td>0.00</td>\n",
       "      <td>0.00</td>\n",
       "      <td>0.00</td>\n",
       "      <td>0.00</td>\n",
       "      <td>0.00</td>\n",
       "      <td>0.00</td>\n",
       "    </tr>\n",
       "  </tbody>\n",
       "</table>\n",
       "</div>"
      ],
      "text/plain": [
       "           Book Cost  Price in USDT  Weights  Realized PnL  Unrealized PnL  \\\n",
       "Total        2314.46        2191.39     1.00       -176.97           53.90   \n",
       "BTCUSDT       601.02        1050.47     0.48          3.54          449.44   \n",
       "SOLUSDT       281.20         325.88     0.15          0.00           44.68   \n",
       "ETHUSDT       250.75         293.67     0.13          0.00           42.93   \n",
       "JASMYUSDT     387.46         210.44     0.10          0.00         -177.02   \n",
       "TRXUSDT        76.87         165.47     0.08        -10.72           88.60   \n",
       "OMUSDT        526.32         128.89     0.06          0.00         -397.43   \n",
       "BNBUSDT        13.87          16.57     0.01        -10.61            2.70   \n",
       "BBUSDT          0.01           0.00     0.00        -84.82           -0.00   \n",
       "PEPEUSDT        0.00           0.00     0.00        -38.52           -0.00   \n",
       "USDTUSDT        0.00           0.00     0.00          0.00            0.00   \n",
       "LPTUSDT         0.00           0.00     0.00         -5.75            0.00   \n",
       "NOTUSDT         0.00           0.00     0.00          1.01            0.00   \n",
       "UMAUSDT         0.00           0.00     0.00         -5.02            0.00   \n",
       "ENSUSDT         0.00           0.00     0.00         -3.54            0.00   \n",
       "MKRUSDT         0.00           0.00     0.00         -6.10            0.00   \n",
       "XRPUSDT         0.00           0.00     0.00         -6.11            0.00   \n",
       "NEARUSDT        0.00           0.00     0.00        -10.34            0.00   \n",
       "RNDRUSDT        0.00           0.00     0.00          0.00            0.00   \n",
       "FETUSDT         0.00           0.00     0.00          0.01            0.00   \n",
       "TNSRUSDT        0.00           0.00     0.00          0.00            0.00   \n",
       "\n",
       "           Total PnL  Total PnL %  \n",
       "Total        -123.07        -5.32  \n",
       "BTCUSDT       452.98        19.57  \n",
       "SOLUSDT        44.68         1.93  \n",
       "ETHUSDT        42.93         1.85  \n",
       "JASMYUSDT    -177.02        -7.65  \n",
       "TRXUSDT        77.88         3.36  \n",
       "OMUSDT       -397.43       -17.17  \n",
       "BNBUSDT        -7.91        -0.34  \n",
       "BBUSDT        -84.82        -3.66  \n",
       "PEPEUSDT      -38.52        -1.66  \n",
       "USDTUSDT        0.00         0.00  \n",
       "LPTUSDT        -5.75        -0.25  \n",
       "NOTUSDT         1.01         0.04  \n",
       "UMAUSDT        -5.02        -0.22  \n",
       "ENSUSDT        -3.54        -0.15  \n",
       "MKRUSDT        -6.10        -0.26  \n",
       "XRPUSDT        -6.11        -0.26  \n",
       "NEARUSDT      -10.34        -0.45  \n",
       "RNDRUSDT        0.00         0.00  \n",
       "FETUSDT         0.01         0.00  \n",
       "TNSRUSDT        0.00         0.00  "
      ]
     },
     "execution_count": 20,
     "metadata": {},
     "output_type": "execute_result"
    }
   ],
   "source": [
    "condition=holding.index!='Total'\n",
    "holding_tickers=holding.index[condition]\n",
    "holding_tickers=holding_tickers.to_list()\n",
    "holding_tickers.append('PAXGUSDT')\n",
    "tickers=sorted(list(set(tickers+holding_tickers)))\n",
    "last_book_cost=book_cost.iloc[-1]\n",
    "pnl=pd.concat([last_book_cost,holding.loc[condition],realized_pnl],axis=1)\n",
    "pnl.columns=['Book Cost','Price in USDT','Weights','Realized PnL']\n",
    "pnl['Book Cost']=(pnl['Book Cost']*current_quantities['free'].astype(float))\n",
    "pnl['Unrealized PnL']=(pnl['Price in USDT']-pnl['Book Cost']).round(2)\n",
    "pnl=pnl.fillna(0)\n",
    "pnl['Weights']=pnl['Weights'].round(4)\n",
    "pnl['Total PnL']=pnl['Unrealized PnL']+pnl['Realized PnL']\n",
    "pnl.loc['Total']=pnl.sum()\n",
    "pnl.loc['Total','Book Cost']=pnl.loc['Total','Price in USDT']-pnl.loc['Total','Total PnL']\n",
    "# pnl['Total PnL %']=pnl['Total PnL']/(pnl['Price in USDT']-pnl['Total PnL'])*100\n",
    "pnl['Total PnL %']=pnl['Total PnL']/(pnl.loc['Total','Book Cost'])*100\n",
    "\n",
    "pnl.sort_values(ascending=False,by='Price in USDT').round(2)\n"
   ]
  },
  {
   "cell_type": "code",
   "execution_count": 21,
   "id": "11b1f95e-6ba2-4aa2-b784-d90dca9cd62b",
   "metadata": {
    "editable": true,
    "slideshow": {
     "slide_type": ""
    },
    "tags": []
   },
   "outputs": [
    {
     "data": {
      "text/plain": [
       "118"
      ]
     },
     "execution_count": 21,
     "metadata": {},
     "output_type": "execute_result"
    }
   ],
   "source": [
    "days=(enddate-start_date).days\n",
    "remaining=days%500\n",
    "numbers_of_table=days//500\n",
    "remaining"
   ]
  },
  {
   "cell_type": "code",
   "execution_count": 22,
   "id": "b85077d1-546e-4077-8b1d-d12d7417f97b",
   "metadata": {
    "editable": true,
    "slideshow": {
     "slide_type": ""
    },
    "tags": []
   },
   "outputs": [],
   "source": [
    "# data1=Binance.get_price(tickers,start_date)\n",
    "# data2=Binance.get_price(tickers,enddate)\n",
    "# data=data1.combine_first(data2)\n",
    "# data.index=pd.to_datetime(data.index)\n",
    "# #data=data.dropna(axis=1)\n",
    "# n=len(data.columns)\n",
    "# data=data.sort_index()"
   ]
  },
  {
   "cell_type": "code",
   "execution_count": 23,
   "id": "1d3730cf-d5d4-481a-8ab7-21768e87d5d5",
   "metadata": {
    "editable": true,
    "slideshow": {
     "slide_type": ""
    },
    "tags": []
   },
   "outputs": [],
   "source": [
    "temp_end=start_date\n",
    "prices=pd.DataFrame()\n",
    "for i in range(numbers_of_table+1):\n",
    "    temp_data=Binance.get_price(tickers,temp_end)\n",
    "    temp_end=temp_end+datetime.timedelta(500)\n",
    "    prices=prices.combine_first(temp_data)\n",
    "    \n",
    "temp_end=temp_end+datetime.timedelta(500)\n",
    "last_data=Binance.get_price(tickers,temp_end)\n",
    "data=prices.combine_first(last_data)\n",
    "data=data.sort_index()\n",
    "data = data[~data.index.duplicated(keep='first')]"
   ]
  },
  {
   "cell_type": "code",
   "execution_count": 24,
   "id": "ad631ae7-13d9-4690-b9a9-b12f4a48bad5",
   "metadata": {
    "editable": true,
    "slideshow": {
     "slide_type": ""
    },
    "tags": []
   },
   "outputs": [],
   "source": [
    "data.index=pd.to_datetime(data.index)\n",
    "n=len(data.columns)\n",
    "data=data.sort_index()"
   ]
  },
  {
   "cell_type": "code",
   "execution_count": 25,
   "id": "fa402d23-cca7-4a57-9e61-234a6e346d61",
   "metadata": {},
   "outputs": [],
   "source": [
    "inventory_weights=(holding['Weights'].apply(lambda x: np.round(x,2))).to_dict()\n",
    "inventory_weights.pop('Total')\n",
    "\n",
    "if \"USDTUSDT\" in inventory_weights:\n",
    "    \n",
    "    inventory_weights.pop('USDTUSDT')\n",
    "else: \n",
    "    pass"
   ]
  },
  {
   "cell_type": "code",
   "execution_count": 26,
   "id": "f12eea91-8e16-438a-8418-e9a00c684c51",
   "metadata": {},
   "outputs": [],
   "source": [
    "returns=np.log(1+data.pct_change())\n",
    "returns.index=pd.to_datetime(returns.index)\n",
    "with_no_na=returns.columns[np.where((returns.isna().sum()<30))]\n",
    "returns_to_use=returns[with_no_na]\n",
    "ex_ante_perf=returns[holding_tickers]\n",
    "ex_ante_perf_to_use=ex_ante_perf.dropna()"
   ]
  },
  {
   "cell_type": "code",
   "execution_count": 27,
   "id": "c02ab432-6fac-4d8a-9744-c41d0fc2977c",
   "metadata": {},
   "outputs": [],
   "source": [
    "weights_post=dict()\n",
    "\n",
    "for col in ex_ante_perf.columns:\n",
    "    \n",
    "    if col in inventory_weights.keys():\n",
    "        weights_post[col]=inventory_weights[col]\n",
    "        \n",
    "    else:\n",
    "        weights_post[col]=0\n",
    "    \n",
    "current_weights=np.array(list(weights_post.values()))\n",
    "current_weights=np.round(current_weights,2)/np.sum(np.round(current_weights,2))"
   ]
  },
  {
   "cell_type": "markdown",
   "id": "b140110e-5f33-465c-8e5c-0fc7a645c27d",
   "metadata": {
    "tags": []
   },
   "source": [
    "## Positions, Historical Performance and PnL"
   ]
  },
  {
   "cell_type": "code",
   "execution_count": 29,
   "id": "4ad0e567-10f6-4249-bbe3-7ba6b2b91115",
   "metadata": {},
   "outputs": [
    {
     "name": "stdout",
     "output_type": "stream",
     "text": [
      "🔁 File exists. Will update (SHA: f77090fa60dfa43aeec5cc9064f762fb8ac0d751)\n",
      "✅ File pushed/updated successfully!\n"
     ]
    }
   ],
   "source": [
    "#position=pd.read_excel('Positions.xlsx',index_col=0)\n",
    "url='https://github.com/niroojane/Risk-Management/raw/refs/heads/main/Positions.xlsx'\n",
    "myfile = requests.get(url)\n",
    "position=pd.read_excel(BytesIO(myfile.content),index_col=0)\n",
    "\n",
    "positions,quantities=Binance.get_positions_history(enddate=datetime.datetime.today())\n",
    "positions=positions.sort_index()\n",
    "\n",
    "positions.index=pd.to_datetime(positions.index)\n",
    "positions=pd.concat([position,positions])\n",
    "positions=positions.loc[~positions.index.duplicated(),:]\n",
    "\n",
    "positions.to_excel('Positions.xlsx')\n",
    "git.push_or_update_file(positions,'Positions')"
   ]
  },
  {
   "cell_type": "code",
   "execution_count": 30,
   "id": "07132751-32ef-4b08-9ec1-5c115bb7890b",
   "metadata": {},
   "outputs": [],
   "source": [
    "positions=positions.interpolate()\n",
    "positions['Total']=positions.sum(axis=1)"
   ]
  },
  {
   "cell_type": "code",
   "execution_count": 31,
   "id": "00b08f5f-f156-472c-a039-9eadb01b70e2",
   "metadata": {},
   "outputs": [],
   "source": [
    "url='https://github.com/niroojane/Risk-Management/raw/refs/heads/main/Quantities.xlsx'\n",
    "myfile = requests.get(url)\n",
    "quantities_history=pd.read_excel(BytesIO(myfile.content),index_col=0)\n",
    "#quantities_history=pd.read_excel('Quantities.xlsx',index_col=0)"
   ]
  },
  {
   "cell_type": "code",
   "execution_count": 32,
   "id": "51658ac6-84c4-4c31-a526-89bc6b3758a9",
   "metadata": {},
   "outputs": [],
   "source": [
    "quantities.index=pd.to_datetime(quantities.index)\n",
    "\n",
    "quantities=pd.concat([quantities,quantities_history])\n",
    "quantities=quantities.loc[~quantities.index.duplicated(),:]\n",
    "quantities=quantities.sort_index()\n",
    "\n",
    "quantities.to_excel('Quantities.xlsx',index=False)\n",
    "\n",
    "quantities_tickers=list(quantities.columns)"
   ]
  },
  {
   "cell_type": "code",
   "execution_count": 33,
   "id": "9f129edd-8dfc-4444-86ed-f41f47f904b2",
   "metadata": {},
   "outputs": [
    {
     "name": "stdout",
     "output_type": "stream",
     "text": [
      "🔁 File exists. Will update (SHA: f5b158a3b7ca3b87ba5ed62cf863125f4c4a499e)\n",
      "✅ File pushed/updated successfully!\n"
     ]
    }
   ],
   "source": [
    "git.push_or_update_file(quantities,'Quantities')"
   ]
  },
  {
   "cell_type": "code",
   "execution_count": 34,
   "id": "9535b1bd-037d-406e-99e0-87a930014a9f",
   "metadata": {},
   "outputs": [],
   "source": [
    "price_pnl=Binance.get_price(quantities_tickers,date=quantities.index[0])\n",
    "price_pnl.index=pd.to_datetime(price_pnl.index)"
   ]
  },
  {
   "cell_type": "code",
   "execution_count": 35,
   "id": "f4d5b9c7-7a77-4527-a9fa-dea26bca9715",
   "metadata": {},
   "outputs": [],
   "source": [
    "daily_book_cost=book_cost.resample(\"D\").last().dropna().sort_index()"
   ]
  },
  {
   "cell_type": "code",
   "execution_count": 36,
   "id": "f6f9185f-f640-448f-be23-1a23d54e953b",
   "metadata": {},
   "outputs": [],
   "source": [
    "book_cost_history=pd.DataFrame()\n",
    "book_cost_history.index=set(daily_book_cost.index.append(quantities.index))\n",
    "\n",
    "book_cost_history=book_cost_history.sort_index()\n",
    "\n",
    "for col in quantities:\n",
    "    \n",
    "    book_cost_history[col]=daily_book_cost[col]\n",
    "\n",
    "book_cost_history=book_cost_history.ffill()\n",
    "book_cost_history=book_cost_history.loc[quantities.index]"
   ]
  },
  {
   "cell_type": "code",
   "execution_count": 37,
   "id": "ddaf7ca6-a68b-4c50-bcf5-e4184b95280a",
   "metadata": {},
   "outputs": [],
   "source": [
    "# pnl_history=pd.DataFrame()\n",
    "# pnl_history.index=quantities.index\n",
    "# pnl_history=pnl_history.sort_index()\n",
    "\n",
    "# for col in quantities:\n",
    "#     pnl_history[col]=quantities[col]*(price_pnl[col]-book_cost_history[col])\n",
    "\n",
    "# pnl_history['Total']=pnl_history.sum(axis=1) +realized_pnl.sum().values"
   ]
  },
  {
   "cell_type": "code",
   "execution_count": 38,
   "id": "630a857f-c0c2-4ddb-bb16-ec024ea5573c",
   "metadata": {},
   "outputs": [],
   "source": [
    "# pnl_history['Total']"
   ]
  },
  {
   "cell_type": "code",
   "execution_count": 39,
   "id": "c07645ba-3d13-451d-8601-a1575450423c",
   "metadata": {},
   "outputs": [],
   "source": [
    "#pnl_history['Total']-pnl_history['Total'].shift(1)"
   ]
  },
  {
   "cell_type": "code",
   "execution_count": 40,
   "id": "f54455e2-4e4c-4395-909e-f117befe3176",
   "metadata": {},
   "outputs": [],
   "source": [
    "realized_pnl_time2=pd.DataFrame()\n",
    "\n",
    "realized_pnl_time2.index=quantities.index\n",
    "realized_pnl_time2=realized_pnl_time2.sort_index()\n",
    "\n",
    "realized_pnl_time2.index=realized_pnl_time2.index.strftime(date_format='%Y-%m-%d')\n",
    "\n",
    "    \n",
    "realized_pnl_time2=pd.concat([realized_pnl_time2,realized_pnl_time])\n",
    "\n",
    "realized_pnl_time2=realized_pnl_time2.sort_index().fillna(0)\n",
    "realized_pnl_time2.index=pd.to_datetime(realized_pnl_time2.index)\n",
    "realized_pnl_time2.groupby(realized_pnl_time2.index).sum()\n",
    "\n",
    "realized_pnl_time2 = realized_pnl_time2[~realized_pnl_time2.index.duplicated(keep='first')]\n",
    "\n",
    "realized_pnl_time2.columns=['Realized PnL']"
   ]
  },
  {
   "cell_type": "code",
   "execution_count": 41,
   "id": "e5a3c2c1-7de7-40b6-ab5b-8d6c8761258e",
   "metadata": {},
   "outputs": [],
   "source": [
    "realized_pnl_time2=realized_pnl_time2.fillna(0)"
   ]
  },
  {
   "cell_type": "code",
   "execution_count": 42,
   "id": "c661099b-b15a-4a16-a981-0effb23f242e",
   "metadata": {},
   "outputs": [],
   "source": [
    "pnl_history=pd.DataFrame()\n",
    "pnl_history.index=quantities.index\n",
    "pnl_history=pnl_history.sort_index()\n",
    "\n",
    "for col in quantities:\n",
    "    pnl_history[col]=quantities[col]*(price_pnl[col]-book_cost_history[col])\n",
    "\n",
    "pnl_history['Total']=pnl_history.sum(axis=1)+realized_pnl_time2['Realized PnL'].loc[quantities.index].cumsum().shift(-1).fillna(0)"
   ]
  },
  {
   "cell_type": "code",
   "execution_count": 43,
   "id": "8eea4613-4bbf-4d42-a347-189fb3888c34",
   "metadata": {},
   "outputs": [
    {
     "data": {
      "text/plain": [
       "2024-09-23   -242.846960\n",
       "2024-09-24   -351.229838\n",
       "2024-09-25   -362.331965\n",
       "2024-09-26   -276.632747\n",
       "2024-09-27   -260.113627\n",
       "                 ...    \n",
       "2025-08-05   -284.583267\n",
       "2025-08-06   -248.169878\n",
       "2025-08-07   -179.730610\n",
       "2025-08-08   -127.471046\n",
       "2025-08-09     33.053821\n",
       "Name: Total, Length: 321, dtype: float64"
      ]
     },
     "execution_count": 43,
     "metadata": {},
     "output_type": "execute_result"
    }
   ],
   "source": [
    "pnl_history['Total']"
   ]
  },
  {
   "cell_type": "code",
   "execution_count": 44,
   "id": "2128e4da-b325-4870-be2e-0def8e9b6135",
   "metadata": {},
   "outputs": [
    {
     "data": {
      "text/plain": [
       "<Axes: >"
      ]
     },
     "execution_count": 44,
     "metadata": {},
     "output_type": "execute_result"
    },
    {
     "data": {
      "image/png": "[encoded data removed]",
      "text/plain": [
       "<Figure size 640x480 with 1 Axes>"
      ]
     },
     "metadata": {},
     "output_type": "display_data"
    }
   ],
   "source": [
    "pnl_history['Total'].plot()"
   ]
  },
  {
   "cell_type": "code",
   "execution_count": 45,
   "id": "019a5c48-905f-4d87-886e-74ea6cb21f6b",
   "metadata": {},
   "outputs": [
    {
     "data": {
      "text/plain": [
       "2024-09-23           NaN\n",
       "2024-09-24   -108.382879\n",
       "2024-09-25    -11.102127\n",
       "2024-09-26     85.699217\n",
       "2024-09-27     16.519121\n",
       "                 ...    \n",
       "2025-08-05    -41.020054\n",
       "2025-08-06     36.413389\n",
       "2025-08-07     68.439267\n",
       "2025-08-08     52.259565\n",
       "2025-08-09    160.524866\n",
       "Name: Total, Length: 321, dtype: float64"
      ]
     },
     "execution_count": 45,
     "metadata": {},
     "output_type": "execute_result"
    }
   ],
   "source": [
    "daily_pnl=pnl_history['Total']-pnl_history['Total'].shift(1)\n",
    "daily_pnl"
   ]
  },
  {
   "cell_type": "code",
   "execution_count": 46,
   "id": "bc57a172-e8c2-4a1e-b7c7-8e9740c30184",
   "metadata": {},
   "outputs": [
    {
     "data": {
      "text/plain": [
       "(-371.9380010693908, -950.5160328166933)"
      ]
     },
     "execution_count": 46,
     "metadata": {},
     "output_type": "execute_result"
    }
   ],
   "source": [
    "days=0\n",
    "pnl_timeframe=daily_pnl[-days:]\n",
    "MtM=Binance.get_inventory().loc['Total']['Price in USDT']\n",
    "var_amount=np.nanpercentile(pnl_timeframe,1)\n",
    "var_pct=var_amount/MtM\n",
    "cvar_amount=pnl_timeframe[pnl_timeframe<var_amount].mean()\n",
    "cvar_pct=cvar_amount/MtM\n",
    "var_amount,cvar_amount"
   ]
  },
  {
   "cell_type": "code",
   "execution_count": 47,
   "id": "edec5b30-7967-48c0-a594-b1382708c444",
   "metadata": {},
   "outputs": [],
   "source": [
    "#eurusd=Binance.get_price(['EURUSDT'],date=pnl_history.index[0])"
   ]
  },
  {
   "cell_type": "code",
   "execution_count": 48,
   "id": "7024f40c-7ebf-4695-83bc-29f9dd397bda",
   "metadata": {},
   "outputs": [],
   "source": [
    "ptf_tickers=list(positions.columns)\n",
    "ptf_tickers.remove('USDTUSDT')"
   ]
  },
  {
   "cell_type": "code",
   "execution_count": 49,
   "id": "3a9a3051-c255-4f0d-be18-894331cd55c9",
   "metadata": {},
   "outputs": [],
   "source": [
    "weights_ex_post=positions.copy()\n",
    "weights_ex_post=weights_ex_post.drop(columns=['USDTUSDT'])\n",
    "weights_ex_post=weights_ex_post.apply(lambda x: x/weights_ex_post['Total'])"
   ]
  },
  {
   "cell_type": "code",
   "execution_count": 50,
   "id": "e4dc6066-1329-4a65-a66e-476690428ca0",
   "metadata": {},
   "outputs": [
    {
     "name": "stdout",
     "output_type": "stream",
     "text": [
      "LDUMAUSDT not retrieved\n",
      "Total not retrieved\n"
     ]
    }
   ],
   "source": [
    "binance_data=Binance.get_price(ptf_tickers,date=datetime.datetime(2024,5,11))\n",
    "binance_data.index=pd.to_datetime(binance_data.index)\n",
    "binance_data=binance_data.sort_index()\n",
    "binance_data=np.log(1+binance_data.pct_change(fill_method=None))\n"
   ]
  },
  {
   "cell_type": "code",
   "execution_count": 51,
   "id": "5622e624-6716-491e-97b8-c9d221f0d700",
   "metadata": {},
   "outputs": [],
   "source": [
    "weight_date=set(weights_ex_post.index)\n",
    "binance_date=binance_data.index"
   ]
  },
  {
   "cell_type": "code",
   "execution_count": 52,
   "id": "7d465985-94d7-4b93-b6bc-66a63b13ae4f",
   "metadata": {},
   "outputs": [],
   "source": [
    "common_date=binance_date.intersection(weight_date)\n",
    "\n",
    "binance_data=binance_data.loc[common_date]"
   ]
  },
  {
   "cell_type": "code",
   "execution_count": 53,
   "id": "5c6c4aa2-0952-478c-b077-6c37ba62d297",
   "metadata": {},
   "outputs": [],
   "source": [
    "historical_ptf=pd.DataFrame()\n",
    "\n",
    "for col in binance_data:\n",
    "    historical_ptf[col]=weights_ex_post[col]*binance_data[col]\n",
    "    \n",
    "historical_ptf['Historical Portfolio']=historical_ptf.sum(axis=1)"
   ]
  },
  {
   "cell_type": "code",
   "execution_count": 54,
   "id": "08dd4a22-4b0f-4f58-bd1c-7825d0339817",
   "metadata": {},
   "outputs": [
    {
     "data": {
      "image/png": "[encoded data removed]",
      "text/plain": [
       "<Figure size 640x480 with 1 Axes>"
      ]
     },
     "metadata": {},
     "output_type": "display_data"
    }
   ],
   "source": [
    "#historical_ptf.dropna(axis = 0, how = 'all', inplace = True)\n",
    "\n",
    "(1+historical_ptf['Historical Portfolio']).cumprod().plot()\n",
    "plt.show()"
   ]
  },
  {
   "cell_type": "code",
   "execution_count": 55,
   "id": "be396be4-01a1-4e91-bbc3-d574cca419b0",
   "metadata": {},
   "outputs": [
    {
     "data": {
      "image/png": "[encoded data removed]",
      "text/plain": [
       "<Figure size 640x480 with 1 Axes>"
      ]
     },
     "metadata": {},
     "output_type": "display_data"
    }
   ],
   "source": [
    "(1+historical_ptf['Historical Portfolio'].loc['2024-09':]).cumprod().plot()\n",
    "plt.show()"
   ]
  },
  {
   "cell_type": "markdown",
   "id": "234cc405-16b8-4ea6-89f9-bf448d837670",
   "metadata": {},
   "source": [
    "## Ex ante data"
   ]
  },
  {
   "cell_type": "code",
   "execution_count": 57,
   "id": "027c07a0-4c8e-45da-a97d-8cf833597a5f",
   "metadata": {},
   "outputs": [],
   "source": [
    "ex_ante_ptf=ex_ante_perf.copy()\n",
    "\n",
    "for key in inventory_weights.keys():\n",
    "    \n",
    "    ex_ante_ptf[key]=ex_ante_perf[key]*inventory_weights[key]\n",
    "\n",
    "ex_ante_ptf=pd.DataFrame(ex_ante_ptf.sum(axis=1))"
   ]
  },
  {
   "cell_type": "markdown",
   "id": "bbec8b12-d681-4704-a561-9718fbb872e0",
   "metadata": {},
   "source": [
    "# Portfolio Optimization"
   ]
  },
  {
   "cell_type": "markdown",
   "id": "16adc40b-d589-4193-8148-7e7dae06dc7e",
   "metadata": {},
   "source": [
    "## Class set up"
   ]
  },
  {
   "cell_type": "code",
   "execution_count": 60,
   "id": "f27106c8-0433-477e-b0bf-6ca9249004b4",
   "metadata": {},
   "outputs": [],
   "source": [
    "days=0\n",
    "historical_risk=RiskAnalysis(returns_to_use.iloc[-days:])\n",
    "current_risk=RiskAnalysis(ex_ante_perf_to_use.iloc[-days:])\n",
    "num_asset=len(returns_to_use.columns)\n",
    "num_asset_current=len(ex_ante_perf_to_use.columns)"
   ]
  },
  {
   "cell_type": "code",
   "execution_count": 61,
   "id": "eb382de7-0a0b-47f9-83a4-777aef62e9a6",
   "metadata": {},
   "outputs": [],
   "source": [
    "cash=np.where(returns_to_use.columns=='USDCUSDT')[0][0]#,np.where(returns_to_use.columns=='FDUSDUSDT')[0][0]\n",
    "limit_hist=np.where(returns_to_use.columns=='BTCUSDT')[0][0],np.where(returns_to_use.columns=='ETHUSDT')[0][0],np.where(returns_to_use.columns=='SOLUSDT')[0][0],np.where(returns_to_use.columns=='USDCUSDT')[0][0]\n",
    "gold=np.where(returns_to_use.columns=='PAXGUSDT')[0][0]"
   ]
  },
  {
   "cell_type": "markdown",
   "id": "fd2fa57d-de01-4917-8d08-d33930572316",
   "metadata": {},
   "source": [
    "## Optimal Portfolio"
   ]
  },
  {
   "cell_type": "markdown",
   "id": "e4a48dbf-4f14-4886-b282-ba9e75992094",
   "metadata": {},
   "source": [
    "### Historical results"
   ]
  },
  {
   "cell_type": "code",
   "execution_count": 64,
   "id": "107c0d03-36ea-45b6-a80d-f78da3687f30",
   "metadata": {},
   "outputs": [
    {
     "data": {
      "text/html": [
       "<div>\n",
       "<style scoped>\n",
       "    .dataframe tbody tr th:only-of-type {\n",
       "        vertical-align: middle;\n",
       "    }\n",
       "\n",
       "    .dataframe tbody tr th {\n",
       "        vertical-align: top;\n",
       "    }\n",
       "\n",
       "    .dataframe thead th {\n",
       "        text-align: right;\n",
       "    }\n",
       "</style>\n",
       "<table border=\"1\" class=\"dataframe\">\n",
       "  <thead>\n",
       "    <tr style=\"text-align: right;\">\n",
       "      <th></th>\n",
       "      <th>Optimal Weights</th>\n",
       "    </tr>\n",
       "  </thead>\n",
       "  <tbody>\n",
       "    <tr>\n",
       "      <th>BNBUSDT</th>\n",
       "      <td>0.3411</td>\n",
       "    </tr>\n",
       "    <tr>\n",
       "      <th>TRXUSDT</th>\n",
       "      <td>0.1937</td>\n",
       "    </tr>\n",
       "    <tr>\n",
       "      <th>WBTCUSDT</th>\n",
       "      <td>0.1057</td>\n",
       "    </tr>\n",
       "    <tr>\n",
       "      <th>XRPUSDT</th>\n",
       "      <td>0.1012</td>\n",
       "    </tr>\n",
       "    <tr>\n",
       "      <th>ADAUSDT</th>\n",
       "      <td>0.0975</td>\n",
       "    </tr>\n",
       "    <tr>\n",
       "      <th>BTCUSDT</th>\n",
       "      <td>0.0852</td>\n",
       "    </tr>\n",
       "    <tr>\n",
       "      <th>OMUSDT</th>\n",
       "      <td>0.0510</td>\n",
       "    </tr>\n",
       "    <tr>\n",
       "      <th>SUIUSDT</th>\n",
       "      <td>0.0140</td>\n",
       "    </tr>\n",
       "    <tr>\n",
       "      <th>PEPEUSDT</th>\n",
       "      <td>0.0107</td>\n",
       "    </tr>\n",
       "    <tr>\n",
       "      <th>XLMUSDT</th>\n",
       "      <td>0.0000</td>\n",
       "    </tr>\n",
       "  </tbody>\n",
       "</table>\n",
       "</div>"
      ],
      "text/plain": [
       "          Optimal Weights\n",
       "BNBUSDT            0.3411\n",
       "TRXUSDT            0.1937\n",
       "WBTCUSDT           0.1057\n",
       "XRPUSDT            0.1012\n",
       "ADAUSDT            0.0975\n",
       "BTCUSDT            0.0852\n",
       "OMUSDT             0.0510\n",
       "SUIUSDT            0.0140\n",
       "PEPEUSDT           0.0107\n",
       "XLMUSDT            0.0000"
      ]
     },
     "execution_count": 64,
     "metadata": {},
     "output_type": "execute_result"
    }
   ],
   "source": [
    "opt_weights=historical_risk.optimize(objective=\"sharpe_ratio\",constraints=[{'type': 'eq', 'fun': lambda weights: weights[cash]-0.00},\n",
    "                                                                           {'type': 'eq', 'fun': lambda weights: 0.00-weights[gold]}])#,\n",
    "                                                                              \n",
    "                                                                              #{'type': 'eq', 'fun': lambda weights: weights[cash[1]]-0.00}])\n",
    "inventory=historical_risk.inventory(opt_weights)\n",
    "inventory.columns=['Optimal Weights']\n",
    "\n",
    "inventory.iloc[:10].round(4)"
   ]
  },
  {
   "cell_type": "code",
   "execution_count": 65,
   "id": "c4126b00-bf61-4f5f-b0ed-abb930875a5f",
   "metadata": {},
   "outputs": [
    {
     "data": {
      "text/html": [
       "<div>\n",
       "<style scoped>\n",
       "    .dataframe tbody tr th:only-of-type {\n",
       "        vertical-align: middle;\n",
       "    }\n",
       "\n",
       "    .dataframe tbody tr th {\n",
       "        vertical-align: top;\n",
       "    }\n",
       "\n",
       "    .dataframe thead th {\n",
       "        text-align: right;\n",
       "    }\n",
       "</style>\n",
       "<table border=\"1\" class=\"dataframe\">\n",
       "  <thead>\n",
       "    <tr style=\"text-align: right;\">\n",
       "      <th></th>\n",
       "      <th>Optimal Weights</th>\n",
       "    </tr>\n",
       "  </thead>\n",
       "  <tbody>\n",
       "    <tr>\n",
       "      <th>BNBUSDT</th>\n",
       "      <td>0.325071</td>\n",
       "    </tr>\n",
       "    <tr>\n",
       "      <th>WBTCUSDT</th>\n",
       "      <td>0.298158</td>\n",
       "    </tr>\n",
       "    <tr>\n",
       "      <th>TRXUSDT</th>\n",
       "      <td>0.192884</td>\n",
       "    </tr>\n",
       "    <tr>\n",
       "      <th>XRPUSDT</th>\n",
       "      <td>0.129955</td>\n",
       "    </tr>\n",
       "    <tr>\n",
       "      <th>OMUSDT</th>\n",
       "      <td>0.042193</td>\n",
       "    </tr>\n",
       "    <tr>\n",
       "      <th>SUIUSDT</th>\n",
       "      <td>0.011740</td>\n",
       "    </tr>\n",
       "  </tbody>\n",
       "</table>\n",
       "</div>"
      ],
      "text/plain": [
       "          Optimal Weights\n",
       "BNBUSDT          0.325071\n",
       "WBTCUSDT         0.298158\n",
       "TRXUSDT          0.192884\n",
       "XRPUSDT          0.129955\n",
       "OMUSDT           0.042193\n",
       "SUIUSDT          0.011740"
      ]
     },
     "execution_count": 65,
     "metadata": {},
     "output_type": "execute_result"
    }
   ],
   "source": [
    "opt_weights=historical_risk.optimize(objective=\"sharpe_ratio\",constraints=[{'type': 'ineq', 'fun': lambda weights: weights[limit_hist[0]]-0.0},\n",
    "                                                                          {'type': 'ineq', 'fun': lambda weights: 0.0-weights[gold]},\n",
    "                                                                          {'type': 'ineq', 'fun': lambda weights: 0.0-weights[cash]}])\n",
    "                                                         #  ,{'type': 'ineq', 'fun': lambda weights: weights[limit[1]]-0.15},\n",
    "                                                        #{'type': 'ineq', 'fun': lambda weights: weights[limit[2]]-0.15}])\n",
    "opt_weights=np.round(opt_weights,6)\n",
    "inventory=historical_risk.inventory(opt_weights)\n",
    "inventory.columns=['Optimal Weights']\n",
    "inventory"
   ]
  },
  {
   "cell_type": "code",
   "execution_count": 66,
   "id": "3a48728f-9968-4f41-b636-bfb99d911b58",
   "metadata": {},
   "outputs": [],
   "source": [
    "tickers_frontier=holding_tickers.copy()\n",
    "tickers_frontier.extend(list(inventory.index))\n",
    "tickers_frontier.remove('BBUSDT')"
   ]
  },
  {
   "cell_type": "code",
   "execution_count": 67,
   "id": "1d1d85b8-820d-41ee-ab0a-43f49f3cd3d0",
   "metadata": {},
   "outputs": [
    {
     "data": {
      "image/png": "[encoded data removed]",
      "text/plain": [
       "<Figure size 640x480 with 1 Axes>"
      ]
     },
     "metadata": {},
     "output_type": "display_data"
    }
   ],
   "source": [
    "returns_frontier=returns_to_use[tickers_frontier].copy().iloc[-days:]\n",
    "frontier_analysis=RiskAnalysis(returns_frontier)\n",
    "current_weights_frontier=np.zeros(returns_frontier.shape[1])\n",
    "current_weights_frontier[:current_weights.shape[0]]=current_weights\n",
    "frontier_opt_weights=frontier_analysis.optimize(objective='sharpe_ratio')\n",
    "X,Y,Z,C=frontier_analysis.efficient_frontier()\n",
    "opt_res=frontier_analysis.performance(frontier_opt_weights),frontier_analysis.variance(frontier_opt_weights)\n",
    "current_res=frontier_analysis.performance(current_weights_frontier),frontier_analysis.variance(current_weights_frontier)\n",
    "\n",
    "plt.scatter(Z,Y,c=C,cmap=\"winter\",alpha=0.25,marker='o')\n",
    "plt.scatter(opt_res[1],opt_res[0],c='red',marker='x')\n",
    "plt.scatter(current_res[1],current_res[0],c='orange',marker='x')\n",
    "plt.show()"
   ]
  },
  {
   "cell_type": "code",
   "execution_count": 68,
   "id": "41b9572c-6826-4633-a986-a1a8600fcc18",
   "metadata": {},
   "outputs": [],
   "source": [
    "dico={returns_frontier.columns[i]:frontier_opt_weights[i].round(4) for i in range(len(returns_frontier.columns))}\n",
    "dico=pd.DataFrame(dico.values(),index=dico.keys(),columns=['Optimal Weights'])"
   ]
  },
  {
   "cell_type": "code",
   "execution_count": 69,
   "id": "c02b695b-bfaa-4eef-9212-e0b2717db2a0",
   "metadata": {},
   "outputs": [
    {
     "data": {
      "text/html": [
       "<div>\n",
       "<style scoped>\n",
       "    .dataframe tbody tr th:only-of-type {\n",
       "        vertical-align: middle;\n",
       "    }\n",
       "\n",
       "    .dataframe tbody tr th {\n",
       "        vertical-align: top;\n",
       "    }\n",
       "\n",
       "    .dataframe thead th {\n",
       "        text-align: right;\n",
       "    }\n",
       "</style>\n",
       "<table border=\"1\" class=\"dataframe\">\n",
       "  <thead>\n",
       "    <tr style=\"text-align: right;\">\n",
       "      <th></th>\n",
       "      <th>Price in USDT</th>\n",
       "      <th>Weights</th>\n",
       "      <th>Optimal Weights</th>\n",
       "      <th>Spread</th>\n",
       "    </tr>\n",
       "  </thead>\n",
       "  <tbody>\n",
       "    <tr>\n",
       "      <th>BTCUSDT</th>\n",
       "      <td>1050.4657</td>\n",
       "      <td>0.4794</td>\n",
       "      <td>0.0393</td>\n",
       "      <td>0.4401</td>\n",
       "    </tr>\n",
       "    <tr>\n",
       "      <th>SOLUSDT</th>\n",
       "      <td>325.8785</td>\n",
       "      <td>0.1487</td>\n",
       "      <td>0.0000</td>\n",
       "      <td>0.1487</td>\n",
       "    </tr>\n",
       "    <tr>\n",
       "      <th>ETHUSDT</th>\n",
       "      <td>293.6748</td>\n",
       "      <td>0.1340</td>\n",
       "      <td>0.0000</td>\n",
       "      <td>0.1340</td>\n",
       "    </tr>\n",
       "    <tr>\n",
       "      <th>JASMYUSDT</th>\n",
       "      <td>210.4432</td>\n",
       "      <td>0.0960</td>\n",
       "      <td>0.0000</td>\n",
       "      <td>0.0960</td>\n",
       "    </tr>\n",
       "    <tr>\n",
       "      <th>TRXUSDT</th>\n",
       "      <td>165.4689</td>\n",
       "      <td>0.0755</td>\n",
       "      <td>0.0256</td>\n",
       "      <td>0.0499</td>\n",
       "    </tr>\n",
       "    <tr>\n",
       "      <th>OMUSDT</th>\n",
       "      <td>128.8883</td>\n",
       "      <td>0.0588</td>\n",
       "      <td>0.0054</td>\n",
       "      <td>0.0534</td>\n",
       "    </tr>\n",
       "    <tr>\n",
       "      <th>BNBUSDT</th>\n",
       "      <td>16.5713</td>\n",
       "      <td>0.0076</td>\n",
       "      <td>0.0411</td>\n",
       "      <td>-0.0335</td>\n",
       "    </tr>\n",
       "    <tr>\n",
       "      <th>BBUSDT</th>\n",
       "      <td>0.0016</td>\n",
       "      <td>0.0000</td>\n",
       "      <td>0.0000</td>\n",
       "      <td>0.0000</td>\n",
       "    </tr>\n",
       "    <tr>\n",
       "      <th>PEPEUSDT</th>\n",
       "      <td>0.0000</td>\n",
       "      <td>0.0000</td>\n",
       "      <td>0.0043</td>\n",
       "      <td>-0.0043</td>\n",
       "    </tr>\n",
       "    <tr>\n",
       "      <th>PAXGUSDT</th>\n",
       "      <td>0.0000</td>\n",
       "      <td>0.0000</td>\n",
       "      <td>0.7594</td>\n",
       "      <td>-0.7594</td>\n",
       "    </tr>\n",
       "    <tr>\n",
       "      <th>WBTCUSDT</th>\n",
       "      <td>0.0000</td>\n",
       "      <td>0.0000</td>\n",
       "      <td>0.0000</td>\n",
       "      <td>0.0000</td>\n",
       "    </tr>\n",
       "    <tr>\n",
       "      <th>XRPUSDT</th>\n",
       "      <td>0.0000</td>\n",
       "      <td>0.0000</td>\n",
       "      <td>0.0365</td>\n",
       "      <td>-0.0365</td>\n",
       "    </tr>\n",
       "    <tr>\n",
       "      <th>SUIUSDT</th>\n",
       "      <td>0.0000</td>\n",
       "      <td>0.0000</td>\n",
       "      <td>0.0163</td>\n",
       "      <td>-0.0163</td>\n",
       "    </tr>\n",
       "  </tbody>\n",
       "</table>\n",
       "</div>"
      ],
      "text/plain": [
       "           Price in USDT  Weights  Optimal Weights  Spread\n",
       "BTCUSDT        1050.4657   0.4794           0.0393  0.4401\n",
       "SOLUSDT         325.8785   0.1487           0.0000  0.1487\n",
       "ETHUSDT         293.6748   0.1340           0.0000  0.1340\n",
       "JASMYUSDT       210.4432   0.0960           0.0000  0.0960\n",
       "TRXUSDT         165.4689   0.0755           0.0256  0.0499\n",
       "OMUSDT          128.8883   0.0588           0.0054  0.0534\n",
       "BNBUSDT          16.5713   0.0076           0.0411 -0.0335\n",
       "BBUSDT            0.0016   0.0000           0.0000  0.0000\n",
       "PEPEUSDT          0.0000   0.0000           0.0043 -0.0043\n",
       "PAXGUSDT          0.0000   0.0000           0.7594 -0.7594\n",
       "WBTCUSDT          0.0000   0.0000           0.0000  0.0000\n",
       "XRPUSDT           0.0000   0.0000           0.0365 -0.0365\n",
       "SUIUSDT           0.0000   0.0000           0.0163 -0.0163"
      ]
     },
     "execution_count": 69,
     "metadata": {},
     "output_type": "execute_result"
    }
   ],
   "source": [
    "historical_comparison=holding.copy()\n",
    "historical_comparison=historical_comparison.loc[historical_comparison.index!=\"Total\"]\n",
    "historical_comparison=pd.concat([historical_comparison,dico],axis=1)\n",
    "historical_comparison=historical_comparison.fillna(0)\n",
    "historical_comparison['Spread']=historical_comparison['Weights']-historical_comparison['Optimal Weights']\n",
    "historical_comparison=historical_comparison.round(7)\n",
    "historical_comparison.round(4)"
   ]
  },
  {
   "cell_type": "markdown",
   "id": "b4259a4f-176e-424b-9a22-0c4c049faced",
   "metadata": {},
   "source": [
    "### Current results"
   ]
  },
  {
   "cell_type": "code",
   "execution_count": 71,
   "id": "3e66d043-2f94-4fa0-a7d1-34d689af63e9",
   "metadata": {},
   "outputs": [],
   "source": [
    "limit=np.where(ex_ante_perf_to_use.columns=='BTCUSDT')[0][0],np.where(ex_ante_perf_to_use.columns=='ETHUSDT')[0][0],np.where(ex_ante_perf_to_use.columns=='SOLUSDT')[0][0]\n",
    "\n",
    "gold_current=np.where(ex_ante_perf_to_use.columns=='PAXGUSDT')[0][0]"
   ]
  },
  {
   "cell_type": "code",
   "execution_count": 72,
   "id": "471c2dfe-2a06-4da6-8e18-7eb14c538f68",
   "metadata": {},
   "outputs": [
    {
     "data": {
      "text/html": [
       "<div>\n",
       "<style scoped>\n",
       "    .dataframe tbody tr th:only-of-type {\n",
       "        vertical-align: middle;\n",
       "    }\n",
       "\n",
       "    .dataframe tbody tr th {\n",
       "        vertical-align: top;\n",
       "    }\n",
       "\n",
       "    .dataframe thead th {\n",
       "        text-align: right;\n",
       "    }\n",
       "</style>\n",
       "<table border=\"1\" class=\"dataframe\">\n",
       "  <thead>\n",
       "    <tr style=\"text-align: right;\">\n",
       "      <th></th>\n",
       "      <th>Optimal Weights</th>\n",
       "    </tr>\n",
       "  </thead>\n",
       "  <tbody>\n",
       "    <tr>\n",
       "      <th>BTCUSDT</th>\n",
       "      <td>0.661865</td>\n",
       "    </tr>\n",
       "    <tr>\n",
       "      <th>TRXUSDT</th>\n",
       "      <td>0.338135</td>\n",
       "    </tr>\n",
       "  </tbody>\n",
       "</table>\n",
       "</div>"
      ],
      "text/plain": [
       "         Optimal Weights\n",
       "BTCUSDT         0.661865\n",
       "TRXUSDT         0.338135"
      ]
     },
     "execution_count": 72,
     "metadata": {},
     "output_type": "execute_result"
    }
   ],
   "source": [
    "current_optimal_weights=current_risk.optimize(objective=\"sharpe_ratio\",constraints=[{'type': 'ineq', 'fun': lambda weights: 0.00-weights[gold_current]}])\n",
    "                                                           #,{'type': 'ineq', 'fun': lambda weights: weights[limit[1]]-0.15},\n",
    "                                                            #{'type': 'ineq', 'fun': lambda weights: weights[limit[2]]-0.15}])\n",
    "current_optimal_weights=np.round(current_optimal_weights,6)\n",
    "optimal_ptf_current=current_risk.inventory(current_optimal_weights)\n",
    "optimal_ptf_current.columns=['Optimal Weights']\n",
    "optimal_ptf_current"
   ]
  },
  {
   "cell_type": "code",
   "execution_count": 73,
   "id": "8c68e529-f6fd-4ac0-92c4-3dc51fb95bc1",
   "metadata": {},
   "outputs": [
    {
     "data": {
      "image/png": "[encoded data removed]",
      "text/plain": [
       "<Figure size 640x480 with 1 Axes>"
      ]
     },
     "metadata": {},
     "output_type": "display_data"
    }
   ],
   "source": [
    "X,Y,Z,C=current_risk.efficient_frontier()\n",
    "\n",
    "opt_res=current_risk.performance(current_optimal_weights),current_risk.variance(current_optimal_weights)\n",
    "current_res=current_risk.performance(current_weights),current_risk.variance(current_weights)\n",
    "\n",
    "plt.scatter(Z,Y,c=C,cmap=\"winter\",alpha=0.25,marker='o')\n",
    "plt.scatter(opt_res[1],opt_res[0],c='red',marker='x')\n",
    "plt.scatter(current_res[1],current_res[0],c='orange',marker='x')\n",
    "plt.show()\n"
   ]
  },
  {
   "cell_type": "code",
   "execution_count": 74,
   "id": "1f55a04d-3575-446a-a801-7824e452dd57",
   "metadata": {},
   "outputs": [
    {
     "data": {
      "text/html": [
       "<div>\n",
       "<style scoped>\n",
       "    .dataframe tbody tr th:only-of-type {\n",
       "        vertical-align: middle;\n",
       "    }\n",
       "\n",
       "    .dataframe tbody tr th {\n",
       "        vertical-align: top;\n",
       "    }\n",
       "\n",
       "    .dataframe thead th {\n",
       "        text-align: right;\n",
       "    }\n",
       "</style>\n",
       "<table border=\"1\" class=\"dataframe\">\n",
       "  <thead>\n",
       "    <tr style=\"text-align: right;\">\n",
       "      <th></th>\n",
       "      <th>Price in USDT</th>\n",
       "      <th>Weights</th>\n",
       "      <th>Optimal Weights</th>\n",
       "      <th>Spread</th>\n",
       "    </tr>\n",
       "  </thead>\n",
       "  <tbody>\n",
       "    <tr>\n",
       "      <th>BTCUSDT</th>\n",
       "      <td>1050.4657</td>\n",
       "      <td>0.4794</td>\n",
       "      <td>0.6619</td>\n",
       "      <td>-0.1825</td>\n",
       "    </tr>\n",
       "    <tr>\n",
       "      <th>SOLUSDT</th>\n",
       "      <td>325.8785</td>\n",
       "      <td>0.1487</td>\n",
       "      <td>0.0000</td>\n",
       "      <td>0.1487</td>\n",
       "    </tr>\n",
       "    <tr>\n",
       "      <th>ETHUSDT</th>\n",
       "      <td>293.6748</td>\n",
       "      <td>0.1340</td>\n",
       "      <td>0.0000</td>\n",
       "      <td>0.1340</td>\n",
       "    </tr>\n",
       "    <tr>\n",
       "      <th>JASMYUSDT</th>\n",
       "      <td>210.4432</td>\n",
       "      <td>0.0960</td>\n",
       "      <td>0.0000</td>\n",
       "      <td>0.0960</td>\n",
       "    </tr>\n",
       "    <tr>\n",
       "      <th>TRXUSDT</th>\n",
       "      <td>165.4689</td>\n",
       "      <td>0.0755</td>\n",
       "      <td>0.3381</td>\n",
       "      <td>-0.2626</td>\n",
       "    </tr>\n",
       "    <tr>\n",
       "      <th>OMUSDT</th>\n",
       "      <td>128.8883</td>\n",
       "      <td>0.0588</td>\n",
       "      <td>0.0000</td>\n",
       "      <td>0.0588</td>\n",
       "    </tr>\n",
       "    <tr>\n",
       "      <th>BNBUSDT</th>\n",
       "      <td>16.5713</td>\n",
       "      <td>0.0076</td>\n",
       "      <td>0.0000</td>\n",
       "      <td>0.0076</td>\n",
       "    </tr>\n",
       "    <tr>\n",
       "      <th>BBUSDT</th>\n",
       "      <td>0.0016</td>\n",
       "      <td>0.0000</td>\n",
       "      <td>0.0000</td>\n",
       "      <td>0.0000</td>\n",
       "    </tr>\n",
       "    <tr>\n",
       "      <th>PEPEUSDT</th>\n",
       "      <td>0.0000</td>\n",
       "      <td>0.0000</td>\n",
       "      <td>0.0000</td>\n",
       "      <td>0.0000</td>\n",
       "    </tr>\n",
       "  </tbody>\n",
       "</table>\n",
       "</div>"
      ],
      "text/plain": [
       "           Price in USDT  Weights  Optimal Weights  Spread\n",
       "BTCUSDT        1050.4657   0.4794           0.6619 -0.1825\n",
       "SOLUSDT         325.8785   0.1487           0.0000  0.1487\n",
       "ETHUSDT         293.6748   0.1340           0.0000  0.1340\n",
       "JASMYUSDT       210.4432   0.0960           0.0000  0.0960\n",
       "TRXUSDT         165.4689   0.0755           0.3381 -0.2626\n",
       "OMUSDT          128.8883   0.0588           0.0000  0.0588\n",
       "BNBUSDT          16.5713   0.0076           0.0000  0.0076\n",
       "BBUSDT            0.0016   0.0000           0.0000  0.0000\n",
       "PEPEUSDT          0.0000   0.0000           0.0000  0.0000"
      ]
     },
     "execution_count": 74,
     "metadata": {},
     "output_type": "execute_result"
    }
   ],
   "source": [
    "current_holding_comparison=holding.copy()\n",
    "current_holding_comparison=current_holding_comparison.loc[current_holding_comparison.index!=\"Total\"]\n",
    "current_holding_comparison=pd.concat([current_holding_comparison,optimal_ptf_current],axis=1)\n",
    "current_holding_comparison=current_holding_comparison.fillna(0)\n",
    "current_holding_comparison['Spread']=current_holding_comparison['Weights']-current_holding_comparison['Optimal Weights']\n",
    "current_holding_comparison=current_holding_comparison.round(7)\n",
    "current_holding_comparison.round(4)"
   ]
  },
  {
   "cell_type": "markdown",
   "id": "e764e7c3-19aa-4638-bd23-a2ec30f727c6",
   "metadata": {},
   "source": [
    "# Risk Reward Analysis"
   ]
  },
  {
   "cell_type": "code",
   "execution_count": 76,
   "id": "7290db47-647c-4950-95e9-078b23d37888",
   "metadata": {},
   "outputs": [],
   "source": [
    "opt_ptf=(returns_to_use*opt_weights).sum(axis=1)\n",
    "curr_opt_ptf=(ex_ante_perf*current_optimal_weights).sum(axis=1)\n",
    "portfolio_perf=pd.DataFrame()\n",
    "portfolio_perf['Portfolio']=(ex_ante_perf*current_weights).sum(axis=1)"
   ]
  },
  {
   "cell_type": "code",
   "execution_count": 77,
   "id": "7a7b7f35-933b-4a67-af34-67d3f58c0f57",
   "metadata": {},
   "outputs": [],
   "source": [
    "portfolio_perf['Bitcoin']=returns['BTCUSDT']\n",
    "portfolio_perf['Optimal']=opt_ptf\n",
    "portfolio_perf['Current Optimal']=curr_opt_ptf"
   ]
  },
  {
   "cell_type": "code",
   "execution_count": 78,
   "id": "70752cdf-305d-4814-b99a-2c21effe6cf5",
   "metadata": {},
   "outputs": [
    {
     "data": {
      "image/png": "[encoded data removed]",
      "text/plain": [
       "<Figure size 640x480 with 1 Axes>"
      ]
     },
     "metadata": {},
     "output_type": "display_data"
    }
   ],
   "source": [
    "days=0\n",
    "(1+portfolio_perf.iloc[-days:]).cumprod().plot()\n",
    "plt.show()"
   ]
  },
  {
   "cell_type": "code",
   "execution_count": 79,
   "id": "4dc2251c-fcb0-4c06-87a2-761ac1dcd0d7",
   "metadata": {},
   "outputs": [],
   "source": [
    "current_perf=portfolio_perf.copy()\n",
    "current_perf=current_perf.loc[historical_ptf.index]\n",
    "current_perf['Historical Portfolio']=historical_ptf['Historical Portfolio']"
   ]
  },
  {
   "cell_type": "code",
   "execution_count": 80,
   "id": "4d17e532-f112-4c6b-a891-1d03f0b5d647",
   "metadata": {},
   "outputs": [
    {
     "data": {
      "image/png": "[encoded data removed]",
      "text/plain": [
       "<Figure size 640x480 with 1 Axes>"
      ]
     },
     "metadata": {},
     "output_type": "display_data"
    }
   ],
   "source": [
    "days=0\n",
    "((1+current_perf.iloc[-days:]).cumprod()*100).plot()\n",
    "plt.show()\n"
   ]
  },
  {
   "cell_type": "code",
   "execution_count": 81,
   "id": "21f2d4e1-1681-4132-aeea-7125d188f981",
   "metadata": {},
   "outputs": [
    {
     "data": {
      "text/html": [
       "<div>\n",
       "<style scoped>\n",
       "    .dataframe tbody tr th:only-of-type {\n",
       "        vertical-align: middle;\n",
       "    }\n",
       "\n",
       "    .dataframe tbody tr th {\n",
       "        vertical-align: top;\n",
       "    }\n",
       "\n",
       "    .dataframe thead th {\n",
       "        text-align: right;\n",
       "    }\n",
       "</style>\n",
       "<table border=\"1\" class=\"dataframe\">\n",
       "  <thead>\n",
       "    <tr style=\"text-align: right;\">\n",
       "      <th></th>\n",
       "      <th>Portfolio</th>\n",
       "      <th>Bitcoin</th>\n",
       "      <th>Optimal</th>\n",
       "      <th>Current Optimal</th>\n",
       "      <th>Historical Portfolio</th>\n",
       "    </tr>\n",
       "  </thead>\n",
       "  <tbody>\n",
       "    <tr>\n",
       "      <th>2025-07-31</th>\n",
       "      <td>103.081077</td>\n",
       "      <td>150.316475</td>\n",
       "      <td>164.441452</td>\n",
       "      <td>177.249885</td>\n",
       "      <td>109.107870</td>\n",
       "    </tr>\n",
       "    <tr>\n",
       "      <th>2025-08-01</th>\n",
       "      <td>99.882409</td>\n",
       "      <td>147.079646</td>\n",
       "      <td>160.821402</td>\n",
       "      <td>174.427890</td>\n",
       "      <td>105.771308</td>\n",
       "    </tr>\n",
       "    <tr>\n",
       "      <th>2025-08-02</th>\n",
       "      <td>98.669788</td>\n",
       "      <td>146.100719</td>\n",
       "      <td>157.497158</td>\n",
       "      <td>173.421932</td>\n",
       "      <td>104.518910</td>\n",
       "    </tr>\n",
       "    <tr>\n",
       "      <th>2025-08-03</th>\n",
       "      <td>100.909543</td>\n",
       "      <td>148.243025</td>\n",
       "      <td>161.401858</td>\n",
       "      <td>176.079952</td>\n",
       "      <td>106.868090</td>\n",
       "    </tr>\n",
       "    <tr>\n",
       "      <th>2025-08-04</th>\n",
       "      <td>103.455894</td>\n",
       "      <td>149.337382</td>\n",
       "      <td>164.619475</td>\n",
       "      <td>177.896096</td>\n",
       "      <td>109.522079</td>\n",
       "    </tr>\n",
       "    <tr>\n",
       "      <th>2025-08-05</th>\n",
       "      <td>101.344806</td>\n",
       "      <td>148.131546</td>\n",
       "      <td>162.343515</td>\n",
       "      <td>177.125846</td>\n",
       "      <td>107.352682</td>\n",
       "    </tr>\n",
       "    <tr>\n",
       "      <th>2025-08-06</th>\n",
       "      <td>103.143598</td>\n",
       "      <td>149.246821</td>\n",
       "      <td>164.978806</td>\n",
       "      <td>178.633213</td>\n",
       "      <td>109.286764</td>\n",
       "    </tr>\n",
       "    <tr>\n",
       "      <th>2025-08-07</th>\n",
       "      <td>106.328123</td>\n",
       "      <td>152.431029</td>\n",
       "      <td>169.779526</td>\n",
       "      <td>181.352357</td>\n",
       "      <td>112.908559</td>\n",
       "    </tr>\n",
       "    <tr>\n",
       "      <th>2025-08-08</th>\n",
       "      <td>106.675857</td>\n",
       "      <td>151.392970</td>\n",
       "      <td>169.603981</td>\n",
       "      <td>180.426121</td>\n",
       "      <td>113.269675</td>\n",
       "    </tr>\n",
       "    <tr>\n",
       "      <th>2025-08-09</th>\n",
       "      <td>108.075759</td>\n",
       "      <td>151.116999</td>\n",
       "      <td>169.271673</td>\n",
       "      <td>179.737047</td>\n",
       "      <td>114.803097</td>\n",
       "    </tr>\n",
       "  </tbody>\n",
       "</table>\n",
       "</div>"
      ],
      "text/plain": [
       "             Portfolio     Bitcoin     Optimal  Current Optimal  \\\n",
       "2025-07-31  103.081077  150.316475  164.441452       177.249885   \n",
       "2025-08-01   99.882409  147.079646  160.821402       174.427890   \n",
       "2025-08-02   98.669788  146.100719  157.497158       173.421932   \n",
       "2025-08-03  100.909543  148.243025  161.401858       176.079952   \n",
       "2025-08-04  103.455894  149.337382  164.619475       177.896096   \n",
       "2025-08-05  101.344806  148.131546  162.343515       177.125846   \n",
       "2025-08-06  103.143598  149.246821  164.978806       178.633213   \n",
       "2025-08-07  106.328123  152.431029  169.779526       181.352357   \n",
       "2025-08-08  106.675857  151.392970  169.603981       180.426121   \n",
       "2025-08-09  108.075759  151.116999  169.271673       179.737047   \n",
       "\n",
       "            Historical Portfolio  \n",
       "2025-07-31            109.107870  \n",
       "2025-08-01            105.771308  \n",
       "2025-08-02            104.518910  \n",
       "2025-08-03            106.868090  \n",
       "2025-08-04            109.522079  \n",
       "2025-08-05            107.352682  \n",
       "2025-08-06            109.286764  \n",
       "2025-08-07            112.908559  \n",
       "2025-08-08            113.269675  \n",
       "2025-08-09            114.803097  "
      ]
     },
     "execution_count": 81,
     "metadata": {},
     "output_type": "execute_result"
    }
   ],
   "source": [
    "((1+current_perf).cumprod()*100).iloc[-10:]"
   ]
  },
  {
   "cell_type": "markdown",
   "id": "7992e950-2f84-4f07-8b9f-3e343e0f0df3",
   "metadata": {},
   "source": [
    "## Volatilities"
   ]
  },
  {
   "cell_type": "code",
   "execution_count": 83,
   "id": "311f0004-e145-4fc5-8766-ca40d8f08e29",
   "metadata": {},
   "outputs": [
    {
     "data": {
      "text/plain": [
       "(Portfolio    0.379943\n",
       " dtype: float64,\n",
       " 0.38024737646381407)"
      ]
     },
     "execution_count": 83,
     "metadata": {},
     "output_type": "execute_result"
    }
   ],
   "source": [
    "vol=historical_risk.portfolio(opt_weights).std()*np.sqrt(252)\n",
    "vol_ex_ante=historical_risk.variance(opt_weights)\n",
    "\n",
    "vol,vol_ex_ante"
   ]
  },
  {
   "cell_type": "code",
   "execution_count": 84,
   "id": "7741abc3-75be-4948-b6f7-6024b48ced93",
   "metadata": {},
   "outputs": [
    {
     "data": {
      "text/plain": [
       "(Portfolio    0.470657\n",
       " dtype: float64,\n",
       " 0.47065705409936137)"
      ]
     },
     "execution_count": 84,
     "metadata": {},
     "output_type": "execute_result"
    }
   ],
   "source": [
    "vol=current_risk.portfolio(current_weights).std()*np.sqrt(252)\n",
    "vol_ex_ante=current_risk.variance(current_weights)\n",
    "vol,vol_ex_ante"
   ]
  },
  {
   "cell_type": "code",
   "execution_count": 85,
   "id": "c1bc68d5-494d-4064-9958-9b280c70a8a3",
   "metadata": {},
   "outputs": [
    {
     "data": {
      "text/plain": [
       "Portfolio          0.472236\n",
       "Bitcoin            0.408287\n",
       "Optimal            0.380247\n",
       "Current Optimal    0.370534\n",
       "dtype: float64"
      ]
     },
     "execution_count": 85,
     "metadata": {},
     "output_type": "execute_result"
    }
   ],
   "source": [
    "portfolio_perf.iloc[1:].std()*np.sqrt(252)"
   ]
  },
  {
   "cell_type": "code",
   "execution_count": 86,
   "id": "fdbed8bd-5f8f-4c04-8e79-3bae0d42ce63",
   "metadata": {},
   "outputs": [
    {
     "data": {
      "text/plain": [
       "0.5369195080490745"
      ]
     },
     "execution_count": 86,
     "metadata": {},
     "output_type": "execute_result"
    }
   ],
   "source": [
    "current_risk.tracking_error(current_risk.returns['BTCUSDT'],current_perf['Historical Portfolio'])"
   ]
  },
  {
   "cell_type": "code",
   "execution_count": 87,
   "id": "c5bcd7d0-4175-48b3-aec3-61092238c73f",
   "metadata": {},
   "outputs": [
    {
     "data": {
      "text/plain": [
       "2.9641476192299665"
      ]
     },
     "execution_count": 87,
     "metadata": {},
     "output_type": "execute_result"
    }
   ],
   "source": [
    "days=30\n",
    "current_perf['Historical Portfolio'].iloc[-days:].mean()*252/(current_perf['Historical Portfolio'].iloc[-days:].std()*np.sqrt(252))"
   ]
  },
  {
   "cell_type": "code",
   "execution_count": 88,
   "id": "ab600c9b-a1b8-46d9-8b65-9962fc9d6a2a",
   "metadata": {},
   "outputs": [
    {
     "data": {
      "text/plain": [
       "0.46606731812232977"
      ]
     },
     "execution_count": 88,
     "metadata": {},
     "output_type": "execute_result"
    }
   ],
   "source": [
    "current_risk.performance(current_weights)/current_risk.variance(current_weights)"
   ]
  },
  {
   "cell_type": "markdown",
   "id": "c72a30da-fc11-412e-8182-6f508f5dc3dd",
   "metadata": {},
   "source": [
    "## Risk Contribution"
   ]
  },
  {
   "cell_type": "code",
   "execution_count": 90,
   "id": "72aade6c-3410-4c39-b77f-0b363347452a",
   "metadata": {},
   "outputs": [
    {
     "data": {
      "text/html": [
       "<div>\n",
       "<style scoped>\n",
       "    .dataframe tbody tr th:only-of-type {\n",
       "        vertical-align: middle;\n",
       "    }\n",
       "\n",
       "    .dataframe tbody tr th {\n",
       "        vertical-align: top;\n",
       "    }\n",
       "\n",
       "    .dataframe thead th {\n",
       "        text-align: right;\n",
       "    }\n",
       "</style>\n",
       "<table border=\"1\" class=\"dataframe\">\n",
       "  <thead>\n",
       "    <tr style=\"text-align: right;\">\n",
       "      <th></th>\n",
       "      <th>Performance Contribution</th>\n",
       "      <th>Variance Contribution in %</th>\n",
       "      <th>Idiosyncratic Risk in %</th>\n",
       "      <th>Correlation in %</th>\n",
       "    </tr>\n",
       "  </thead>\n",
       "  <tbody>\n",
       "    <tr>\n",
       "      <th>BNBUSDT</th>\n",
       "      <td>57.7569</td>\n",
       "      <td>0.3092</td>\n",
       "      <td>0.1422</td>\n",
       "      <td>0.1671</td>\n",
       "    </tr>\n",
       "    <tr>\n",
       "      <th>WBTCUSDT</th>\n",
       "      <td>46.7718</td>\n",
       "      <td>0.2579</td>\n",
       "      <td>0.1006</td>\n",
       "      <td>0.1573</td>\n",
       "    </tr>\n",
       "    <tr>\n",
       "      <th>XRPUSDT</th>\n",
       "      <td>25.3512</td>\n",
       "      <td>0.1634</td>\n",
       "      <td>0.0566</td>\n",
       "      <td>0.1068</td>\n",
       "    </tr>\n",
       "    <tr>\n",
       "      <th>TRXUSDT</th>\n",
       "      <td>24.7021</td>\n",
       "      <td>0.1739</td>\n",
       "      <td>0.0891</td>\n",
       "      <td>0.0848</td>\n",
       "    </tr>\n",
       "    <tr>\n",
       "      <th>SUIUSDT</th>\n",
       "      <td>1.4939</td>\n",
       "      <td>0.0166</td>\n",
       "      <td>0.0008</td>\n",
       "      <td>0.0158</td>\n",
       "    </tr>\n",
       "    <tr>\n",
       "      <th>OMUSDT</th>\n",
       "      <td>-45.5479</td>\n",
       "      <td>0.0789</td>\n",
       "      <td>0.0355</td>\n",
       "      <td>0.0434</td>\n",
       "    </tr>\n",
       "    <tr>\n",
       "      <th>Portfolio</th>\n",
       "      <td>110.5281</td>\n",
       "      <td>1.0000</td>\n",
       "      <td>0.4248</td>\n",
       "      <td>0.5752</td>\n",
       "    </tr>\n",
       "  </tbody>\n",
       "</table>\n",
       "</div>"
      ],
      "text/plain": [
       "           Performance Contribution  Variance Contribution in %  \\\n",
       "BNBUSDT                     57.7569                      0.3092   \n",
       "WBTCUSDT                    46.7718                      0.2579   \n",
       "XRPUSDT                     25.3512                      0.1634   \n",
       "TRXUSDT                     24.7021                      0.1739   \n",
       "SUIUSDT                      1.4939                      0.0166   \n",
       "OMUSDT                     -45.5479                      0.0789   \n",
       "Portfolio                  110.5281                      1.0000   \n",
       "\n",
       "           Idiosyncratic Risk in %  Correlation in %  \n",
       "BNBUSDT                     0.1422            0.1671  \n",
       "WBTCUSDT                    0.1006            0.1573  \n",
       "XRPUSDT                     0.0566            0.1068  \n",
       "TRXUSDT                     0.0891            0.0848  \n",
       "SUIUSDT                     0.0008            0.0158  \n",
       "OMUSDT                      0.0355            0.0434  \n",
       "Portfolio                   0.4248            0.5752  "
      ]
     },
     "execution_count": 90,
     "metadata": {},
     "output_type": "execute_result"
    }
   ],
   "source": [
    "perf_analysis=pd.concat([historical_risk.perf_contrib(opt_weights),historical_risk.var_contrib_pct(opt_weights)],axis=1)\n",
    "perf_analysis.loc['Portfolio']=perf_analysis.sum(axis=0)\n",
    "perf_analysis.round(4)"
   ]
  },
  {
   "cell_type": "code",
   "execution_count": 91,
   "id": "7a8d2d34-14b0-469c-81a7-38306d840a62",
   "metadata": {},
   "outputs": [
    {
     "data": {
      "text/html": [
       "<div>\n",
       "<style scoped>\n",
       "    .dataframe tbody tr th:only-of-type {\n",
       "        vertical-align: middle;\n",
       "    }\n",
       "\n",
       "    .dataframe tbody tr th {\n",
       "        vertical-align: top;\n",
       "    }\n",
       "\n",
       "    .dataframe thead th {\n",
       "        text-align: right;\n",
       "    }\n",
       "</style>\n",
       "<table border=\"1\" class=\"dataframe\">\n",
       "  <thead>\n",
       "    <tr style=\"text-align: right;\">\n",
       "      <th></th>\n",
       "      <th>Performance Contribution</th>\n",
       "      <th>Variance Contribution in %</th>\n",
       "      <th>Idiosyncratic Risk in %</th>\n",
       "      <th>Correlation in %</th>\n",
       "    </tr>\n",
       "  </thead>\n",
       "  <tbody>\n",
       "    <tr>\n",
       "      <th>BTCUSDT</th>\n",
       "      <td>43.018099</td>\n",
       "      <td>0.55424</td>\n",
       "      <td>0.471853</td>\n",
       "      <td>0.082387</td>\n",
       "    </tr>\n",
       "    <tr>\n",
       "      <th>TRXUSDT</th>\n",
       "      <td>31.558023</td>\n",
       "      <td>0.44576</td>\n",
       "      <td>0.363373</td>\n",
       "      <td>0.082387</td>\n",
       "    </tr>\n",
       "    <tr>\n",
       "      <th>Portfolio</th>\n",
       "      <td>74.576121</td>\n",
       "      <td>1.00000</td>\n",
       "      <td>0.835226</td>\n",
       "      <td>0.164774</td>\n",
       "    </tr>\n",
       "  </tbody>\n",
       "</table>\n",
       "</div>"
      ],
      "text/plain": [
       "           Performance Contribution  Variance Contribution in %  \\\n",
       "BTCUSDT                   43.018099                     0.55424   \n",
       "TRXUSDT                   31.558023                     0.44576   \n",
       "Portfolio                 74.576121                     1.00000   \n",
       "\n",
       "           Idiosyncratic Risk in %  Correlation in %  \n",
       "BTCUSDT                   0.471853          0.082387  \n",
       "TRXUSDT                   0.363373          0.082387  \n",
       "Portfolio                 0.835226          0.164774  "
      ]
     },
     "execution_count": 91,
     "metadata": {},
     "output_type": "execute_result"
    }
   ],
   "source": [
    "perf_analysis=pd.concat([current_risk.perf_contrib(current_optimal_weights),current_risk.var_contrib_pct(current_optimal_weights)],axis=1)\n",
    "perf_analysis.loc['Portfolio']=perf_analysis.sum(axis=0)\n",
    "perf_analysis"
   ]
  },
  {
   "cell_type": "code",
   "execution_count": 92,
   "id": "ed58faff-7df0-4ca9-9869-d9853aa75284",
   "metadata": {},
   "outputs": [
    {
     "data": {
      "text/html": [
       "<div>\n",
       "<style scoped>\n",
       "    .dataframe tbody tr th:only-of-type {\n",
       "        vertical-align: middle;\n",
       "    }\n",
       "\n",
       "    .dataframe tbody tr th {\n",
       "        vertical-align: top;\n",
       "    }\n",
       "\n",
       "    .dataframe thead th {\n",
       "        text-align: right;\n",
       "    }\n",
       "</style>\n",
       "<table border=\"1\" class=\"dataframe\">\n",
       "  <thead>\n",
       "    <tr style=\"text-align: right;\">\n",
       "      <th></th>\n",
       "      <th>Performance Contribution</th>\n",
       "      <th>Variance Contribution in %</th>\n",
       "      <th>Idiosyncratic Risk in %</th>\n",
       "      <th>Correlation in %</th>\n",
       "    </tr>\n",
       "  </thead>\n",
       "  <tbody>\n",
       "    <tr>\n",
       "      <th>BTCUSDT</th>\n",
       "      <td>30.888844</td>\n",
       "      <td>0.350598</td>\n",
       "      <td>0.152312</td>\n",
       "      <td>0.198286</td>\n",
       "    </tr>\n",
       "    <tr>\n",
       "      <th>TRXUSDT</th>\n",
       "      <td>7.392448</td>\n",
       "      <td>0.041053</td>\n",
       "      <td>0.012483</td>\n",
       "      <td>0.028569</td>\n",
       "    </tr>\n",
       "    <tr>\n",
       "      <th>ETHUSDT</th>\n",
       "      <td>0.598261</td>\n",
       "      <td>0.138048</td>\n",
       "      <td>0.026524</td>\n",
       "      <td>0.111524</td>\n",
       "    </tr>\n",
       "    <tr>\n",
       "      <th>BNBUSDT</th>\n",
       "      <td>0.165507</td>\n",
       "      <td>0.006484</td>\n",
       "      <td>0.000073</td>\n",
       "      <td>0.006411</td>\n",
       "    </tr>\n",
       "    <tr>\n",
       "      <th>SOLUSDT</th>\n",
       "      <td>-2.997366</td>\n",
       "      <td>0.189559</td>\n",
       "      <td>0.048170</td>\n",
       "      <td>0.141389</td>\n",
       "    </tr>\n",
       "    <tr>\n",
       "      <th>JASMYUSDT</th>\n",
       "      <td>-6.450195</td>\n",
       "      <td>0.173564</td>\n",
       "      <td>0.047688</td>\n",
       "      <td>0.125876</td>\n",
       "    </tr>\n",
       "    <tr>\n",
       "      <th>OMUSDT</th>\n",
       "      <td>-9.887444</td>\n",
       "      <td>0.100694</td>\n",
       "      <td>0.049024</td>\n",
       "      <td>0.051670</td>\n",
       "    </tr>\n",
       "    <tr>\n",
       "      <th>Portfolio</th>\n",
       "      <td>19.710056</td>\n",
       "      <td>1.000000</td>\n",
       "      <td>0.336275</td>\n",
       "      <td>0.663725</td>\n",
       "    </tr>\n",
       "  </tbody>\n",
       "</table>\n",
       "</div>"
      ],
      "text/plain": [
       "           Performance Contribution  Variance Contribution in %  \\\n",
       "BTCUSDT                   30.888844                    0.350598   \n",
       "TRXUSDT                    7.392448                    0.041053   \n",
       "ETHUSDT                    0.598261                    0.138048   \n",
       "BNBUSDT                    0.165507                    0.006484   \n",
       "SOLUSDT                   -2.997366                    0.189559   \n",
       "JASMYUSDT                 -6.450195                    0.173564   \n",
       "OMUSDT                    -9.887444                    0.100694   \n",
       "Portfolio                 19.710056                    1.000000   \n",
       "\n",
       "           Idiosyncratic Risk in %  Correlation in %  \n",
       "BTCUSDT                   0.152312          0.198286  \n",
       "TRXUSDT                   0.012483          0.028569  \n",
       "ETHUSDT                   0.026524          0.111524  \n",
       "BNBUSDT                   0.000073          0.006411  \n",
       "SOLUSDT                   0.048170          0.141389  \n",
       "JASMYUSDT                 0.047688          0.125876  \n",
       "OMUSDT                    0.049024          0.051670  \n",
       "Portfolio                 0.336275          0.663725  "
      ]
     },
     "execution_count": 92,
     "metadata": {},
     "output_type": "execute_result"
    }
   ],
   "source": [
    "perf_analysis=pd.concat([current_risk.perf_contrib(current_weights),current_risk.var_contrib_pct(current_weights)],axis=1)\n",
    "perf_analysis.loc['Portfolio']=perf_analysis.sum(axis=0)\n",
    "perf_analysis"
   ]
  },
  {
   "cell_type": "markdown",
   "id": "12ac2a10-ba19-44a2-a91e-f3095c93ea50",
   "metadata": {
    "tags": []
   },
   "source": [
    "# Value At Risk"
   ]
  },
  {
   "cell_type": "markdown",
   "id": "71d68cce-1a6e-45aa-a85f-47588679e563",
   "metadata": {},
   "source": [
    "## Historical"
   ]
  },
  {
   "cell_type": "markdown",
   "id": "2135d1cf-5458-4a3a-8d4c-f7bf54722f6c",
   "metadata": {},
   "source": [
    "### Optimal Weights"
   ]
  },
  {
   "cell_type": "code",
   "execution_count": 96,
   "id": "67cba9b2-a070-4a66-bcd6-c792789d00c3",
   "metadata": {},
   "outputs": [
    {
     "data": {
      "text/plain": [
       "(-0.06517977178127529, -0.0832097244113135)"
      ]
     },
     "execution_count": 96,
     "metadata": {},
     "output_type": "execute_result"
    }
   ],
   "source": [
    "var,cvar=historical_risk.historical_var(opt_weights,Q=1)\n",
    "(var,cvar)"
   ]
  },
  {
   "cell_type": "markdown",
   "id": "d1bb47b4-1fce-49e8-b099-c696cad5b0ba",
   "metadata": {
    "tags": []
   },
   "source": [
    "### Current Weights"
   ]
  },
  {
   "cell_type": "code",
   "execution_count": 98,
   "id": "c4a86401-792d-4103-b5be-b0b56de9f141",
   "metadata": {},
   "outputs": [
    {
     "data": {
      "text/plain": [
       "(-0.08136243652379596, -0.10057405322403827)"
      ]
     },
     "execution_count": 98,
     "metadata": {},
     "output_type": "execute_result"
    }
   ],
   "source": [
    "var,cvar=current_risk.historical_var(current_weights,Q=1)\n",
    "(var,cvar)"
   ]
  },
  {
   "cell_type": "code",
   "execution_count": 99,
   "id": "bb9ae5ba-6521-47af-992e-2a3972e29e87",
   "metadata": {},
   "outputs": [],
   "source": [
    "historical_var=current_risk.returns*current_weights\n",
    "historical_var['Portfolio']=historical_var.sum(axis=1)\n",
    "historical_var=historical_var.sort_values(by='Portfolio')\n",
    "centile=0.01\n",
    "row=round(historical_var.shape[0]*centile)"
   ]
  },
  {
   "cell_type": "code",
   "execution_count": 100,
   "id": "8c24e902-85a4-44be-a457-f95e2184a7ea",
   "metadata": {},
   "outputs": [
    {
     "data": {
      "text/plain": [
       "BTCUSDT     -0.031255\n",
       "SOLUSDT     -0.011841\n",
       "ETHUSDT     -0.011170\n",
       "JASMYUSDT   -0.016992\n",
       "TRXUSDT     -0.003895\n",
       "OMUSDT      -0.003376\n",
       "BNBUSDT     -0.000664\n",
       "BBUSDT      -0.000000\n",
       "PEPEUSDT    -0.000000\n",
       "PAXGUSDT    -0.000000\n",
       "Portfolio   -0.079194\n",
       "Name: 2025-03-09 00:00:00, dtype: float64"
      ]
     },
     "execution_count": 100,
     "metadata": {},
     "output_type": "execute_result"
    }
   ],
   "source": [
    "var=historical_var.iloc[row]\n",
    "var"
   ]
  },
  {
   "cell_type": "code",
   "execution_count": 101,
   "id": "ade16f0c-75b7-4fcb-ab9e-ad0c73aa8dd7",
   "metadata": {},
   "outputs": [
    {
     "data": {
      "text/plain": [
       "BTCUSDT     -0.025729\n",
       "SOLUSDT     -0.017941\n",
       "ETHUSDT     -0.012825\n",
       "JASMYUSDT   -0.013394\n",
       "TRXUSDT     -0.004170\n",
       "OMUSDT      -0.022330\n",
       "BNBUSDT     -0.000623\n",
       "BBUSDT       0.000000\n",
       "PEPEUSDT     0.000000\n",
       "PAXGUSDT     0.000000\n",
       "Portfolio   -0.097011\n",
       "dtype: float64"
      ]
     },
     "execution_count": 101,
     "metadata": {},
     "output_type": "execute_result"
    }
   ],
   "source": [
    "cvar=historical_var.iloc[:row+1].mean()\n",
    "cvar"
   ]
  },
  {
   "cell_type": "markdown",
   "id": "c3dff28c-8e0a-4203-a71d-04521428bcd1",
   "metadata": {},
   "source": [
    "## Parametric"
   ]
  },
  {
   "cell_type": "markdown",
   "id": "58affa31-85d0-498a-a139-81deb4705d97",
   "metadata": {},
   "source": [
    "### Optimal Weights"
   ]
  },
  {
   "cell_type": "code",
   "execution_count": 104,
   "id": "e14a8e27-fa6a-45e6-8183-86c6dbff21f1",
   "metadata": {},
   "outputs": [
    {
     "data": {
      "text/plain": [
       "(-0.055723785788611084, -0.06901755390798849)"
      ]
     },
     "execution_count": 104,
     "metadata": {},
     "output_type": "execute_result"
    }
   ],
   "source": [
    "var,cvar=historical_risk.parametric_var(opt_weights,Q=0.99)\n",
    "\n",
    "(var,cvar)"
   ]
  },
  {
   "cell_type": "markdown",
   "id": "86d71e8b-2cd9-43d1-aa5c-a222682613c0",
   "metadata": {},
   "source": [
    "### Current Weights"
   ]
  },
  {
   "cell_type": "code",
   "execution_count": 106,
   "id": "217a4c12-62dd-4663-8a31-60599b67afcf",
   "metadata": {},
   "outputs": [
    {
     "data": {
      "text/plain": [
       "(-0.06897297518902777, -0.08542754168500884)"
      ]
     },
     "execution_count": 106,
     "metadata": {},
     "output_type": "execute_result"
    }
   ],
   "source": [
    "var,cvar=current_risk.parametric_var(current_weights,Q=0.99)\n",
    "\n",
    "(var,cvar)"
   ]
  },
  {
   "cell_type": "markdown",
   "id": "a6c24386-d19d-46c7-a8bb-58e4c19932ec",
   "metadata": {},
   "source": [
    "## Multivariate"
   ]
  },
  {
   "cell_type": "markdown",
   "id": "1f084730-26ad-4584-a834-7eb3698e8768",
   "metadata": {},
   "source": [
    "### Optimal Weights"
   ]
  },
  {
   "cell_type": "code",
   "execution_count": 109,
   "id": "9034515d-cff2-4c42-aa91-4b8c5bc1c6cb",
   "metadata": {},
   "outputs": [
    {
     "data": {
      "text/plain": [
       "(-0.05244736935307891, -0.05994035968875578)"
      ]
     },
     "execution_count": 109,
     "metadata": {},
     "output_type": "execute_result"
    }
   ],
   "source": [
    "perf=performance(historical_risk.multivariate_distribution(),opt_weights)\n",
    "var=np.percentile(perf,1)\n",
    "cvar=perf[perf<var].mean()\n",
    "(var,cvar)"
   ]
  },
  {
   "cell_type": "markdown",
   "id": "cbd78957-592e-4ef3-92f5-5341eb758985",
   "metadata": {},
   "source": [
    "### Current Weights"
   ]
  },
  {
   "cell_type": "code",
   "execution_count": 111,
   "id": "ac2f4987-eddf-4a1b-ae87-551d2f348782",
   "metadata": {},
   "outputs": [
    {
     "data": {
      "text/plain": [
       "(-0.0680597574672405, -0.07813999866492026)"
      ]
     },
     "execution_count": 111,
     "metadata": {},
     "output_type": "execute_result"
    }
   ],
   "source": [
    "perf=performance(current_risk.multivariate_distribution(),current_weights)\n",
    "var=np.percentile(perf,1)\n",
    "cvar=perf[perf<var].mean()\n",
    "(var,cvar)"
   ]
  },
  {
   "cell_type": "code",
   "execution_count": 112,
   "id": "641d3f04-1011-4383-8e1a-1ee18d5ba52f",
   "metadata": {},
   "outputs": [
    {
     "data": {
      "text/plain": [
       "BTCUSDT     -0.021852\n",
       "SOLUSDT     -0.012524\n",
       "ETHUSDT     -0.009588\n",
       "JASMYUSDT   -0.013013\n",
       "TRXUSDT     -0.003140\n",
       "OMUSDT      -0.007426\n",
       "BNBUSDT     -0.000442\n",
       "Portfolio   -0.067986\n",
       "dtype: float64"
      ]
     },
     "execution_count": 112,
     "metadata": {},
     "output_type": "execute_result"
    }
   ],
   "source": [
    "scenario_multivariate={}\n",
    "\n",
    "for i in range(50):\n",
    "    multivariate_distrib=pd.DataFrame(current_risk.multivariate_distribution(),columns=current_risk.returns.columns)\n",
    "    multivariate_distrib=multivariate_distrib*current_weights\n",
    "    multivariate_distrib=multivariate_distrib[multivariate_distrib.columns[current_weights>0]]\n",
    "\n",
    "    multivariate_distrib['Portfolio']=multivariate_distrib.sum(axis=1)\n",
    "    multivariate_var=multivariate_distrib.sort_values(by='Portfolio').iloc[int(multivariate_distrib.shape[0]*0.01)]['Portfolio']\n",
    "    results=multivariate_distrib.sort_values(by='Portfolio').iloc[int(multivariate_distrib.shape[0]*0.01)]\n",
    "\n",
    "    scenario_multivariate[i]=results.to_dict()\n",
    "\n",
    "scenario=pd.DataFrame(scenario_multivariate).T\n",
    "mean_scenario_multivariate=scenario.mean()\n",
    "mean_scenario_multivariate"
   ]
  },
  {
   "cell_type": "code",
   "execution_count": 113,
   "id": "bc969ffd-1db1-4ae1-86f8-f77552c6606a",
   "metadata": {},
   "outputs": [
    {
     "data": {
      "text/plain": [
       "BTCUSDT     -0.020874\n",
       "SOLUSDT     -0.012640\n",
       "ETHUSDT     -0.009369\n",
       "JASMYUSDT   -0.013919\n",
       "TRXUSDT     -0.003319\n",
       "OMUSDT      -0.008345\n",
       "BNBUSDT     -0.000492\n",
       "Portfolio   -0.068959\n",
       "dtype: float64"
      ]
     },
     "execution_count": 113,
     "metadata": {},
     "output_type": "execute_result"
    }
   ],
   "source": [
    "index_cvar=scenario['Portfolio']<mean_scenario_multivariate['Portfolio']\n",
    "cvar_multivariate=scenario.loc[index_cvar].mean()\n",
    "cvar_multivariate"
   ]
  },
  {
   "cell_type": "markdown",
   "id": "0c387f28-22ad-45a7-b319-0e83f4a0daee",
   "metadata": {
    "jp-MarkdownHeadingCollapsed": true,
    "tags": []
   },
   "source": [
    "## Copulas"
   ]
  },
  {
   "cell_type": "markdown",
   "id": "9058537e-386c-4062-bbe9-1a6b8541b24e",
   "metadata": {
    "tags": []
   },
   "source": [
    "## Gaussian Copula"
   ]
  },
  {
   "cell_type": "markdown",
   "id": "75b777fc-0aa8-49e9-9959-a89e3a1247e7",
   "metadata": {},
   "source": [
    "### Optimal Weights"
   ]
  },
  {
   "cell_type": "code",
   "execution_count": 117,
   "id": "2a32c0d3-adf2-44db-944e-a0983ca7c3c9",
   "metadata": {},
   "outputs": [
    {
     "data": {
      "text/plain": [
       "(-0.053830071929056936, -0.062247038365798965)"
      ]
     },
     "execution_count": 117,
     "metadata": {},
     "output_type": "execute_result"
    }
   ],
   "source": [
    "cop=historical_risk.gaussian_copula()\n",
    "perf=performance(cop,opt_weights)\n",
    "var=np.percentile(perf,1)\n",
    "cvar=perf[perf<var].mean()\n",
    "\n",
    "var,cvar"
   ]
  },
  {
   "cell_type": "markdown",
   "id": "223b83ab-3e66-43c2-80c7-ea48470ba663",
   "metadata": {},
   "source": [
    "### Current Weights"
   ]
  },
  {
   "cell_type": "code",
   "execution_count": 119,
   "id": "0c60db5e-d17c-4ee9-b22c-56fe1486e7f4",
   "metadata": {},
   "outputs": [
    {
     "data": {
      "text/plain": [
       "(-0.06748418328941477, -0.07775769103870354)"
      ]
     },
     "execution_count": 119,
     "metadata": {},
     "output_type": "execute_result"
    }
   ],
   "source": [
    "cop=current_risk.gaussian_copula()\n",
    "perf=performance(cop,current_weights)\n",
    "var=np.percentile(perf,1)\n",
    "cvar=perf[perf<var].mean()\n",
    "\n",
    "var,cvar"
   ]
  },
  {
   "cell_type": "code",
   "execution_count": null,
   "id": "051b6b0e-85e3-48c2-bf8b-72590452d57f",
   "metadata": {},
   "outputs": [],
   "source": [
    "scenario_gaussian={}\n",
    "\n",
    "for i in range(100):\n",
    "    gaussian_copula_distrib=pd.DataFrame(current_risk.gaussian_copula(),columns=current_risk.returns.columns)\n",
    "\n",
    "    gaussian_copula_distrib=gaussian_copula_distrib*current_weights\n",
    "    gaussian_copula_distrib=gaussian_copula_distrib[gaussian_copula_distrib.columns[current_weights>0]]\n",
    "\n",
    "    gaussian_copula_distrib['Portfolio']=gaussian_copula_distrib.sum(axis=1)\n",
    "    gaussian_var=gaussian_copula_distrib.sort_values(by='Portfolio').iloc[int(gaussian_copula_distrib.shape[0]*0.01)]['Portfolio']\n",
    "    results=gaussian_copula_distrib.sort_values(by='Portfolio').iloc[int(gaussian_copula_distrib.shape[0]*0.01)]\n",
    "    \n",
    "    scenario_gaussian[i]=results\n",
    "\n",
    "scenario=pd.DataFrame(scenario_gaussian).T\n",
    "mean_scenario_gaussian=scenario.mean()\n",
    "\n",
    "index_cvar=scenario['Portfolio']<mean_scenario_gaussian['Portfolio']\n",
    "cvar_gaussian=scenario.loc[index_cvar].mean()"
   ]
  },
  {
   "cell_type": "markdown",
   "id": "5cc2fb56-f5a8-400f-9242-3fe5969c9743",
   "metadata": {
    "tags": []
   },
   "source": [
    "## Student Copula"
   ]
  },
  {
   "cell_type": "markdown",
   "id": "1345374a-5a57-488c-aadc-54f740e57e74",
   "metadata": {},
   "source": [
    "### Optimal Weights"
   ]
  },
  {
   "cell_type": "code",
   "execution_count": null,
   "id": "b888e874-6eab-4d5d-93ef-af6845d46964",
   "metadata": {},
   "outputs": [],
   "source": [
    "t_copula=historical_risk.t_copula()\n",
    "perf=performance(t_copula,opt_weights)\n",
    "var=np.percentile(perf,1)\n",
    "cvar=perf[perf<var].mean()\n",
    "\n",
    "var,cvar"
   ]
  },
  {
   "cell_type": "markdown",
   "id": "272773ac-6738-4b6a-8eb8-bb00a887b6dd",
   "metadata": {},
   "source": [
    "### Current Weights"
   ]
  },
  {
   "cell_type": "code",
   "execution_count": null,
   "id": "323419e3-6bd4-4308-b26c-e280c5730d35",
   "metadata": {},
   "outputs": [],
   "source": [
    "t_copula=current_risk.t_copula()\n",
    "perf=performance(t_copula,current_weights)\n",
    "var=np.percentile(perf,1)\n",
    "cvar=perf[perf<var].mean()\n",
    "\n",
    "var,cvar"
   ]
  },
  {
   "cell_type": "code",
   "execution_count": null,
   "id": "4ba4c563-e932-472a-838b-8cc036a9844b",
   "metadata": {},
   "outputs": [],
   "source": [
    "scenario_t_copula={}\n",
    "\n",
    "for i in range(100):\n",
    "    \n",
    "    t_copula_distrib=pd.DataFrame(current_risk.t_copula(),columns=current_risk.returns.columns)\n",
    "    t_copula_distrib=t_copula_distrib*current_weights\n",
    "    t_copula_distrib=t_copula_distrib[t_copula_distrib.columns[current_weights>0]]\n",
    "    t_copula_distrib['Portfolio']=t_copula_distrib.sum(axis=1)\n",
    "    t_copula_var=t_copula_distrib.sort_values(by='Portfolio').iloc[int(t_copula_distrib.shape[0]*0.01)]['Portfolio']\n",
    "    results=t_copula_distrib.sort_values(by='Portfolio').iloc[int(t_copula_distrib.shape[0]*0.01)]\n",
    "    \n",
    "    scenario_t_copula[i]=results\n",
    "    \n",
    "scenario=pd.DataFrame(scenario_t_copula).T\n",
    "mean_scenario_student=scenario.mean()\n",
    "\n",
    "index_cvar=scenario['Portfolio']<mean_scenario_student['Portfolio']\n",
    "cvar_student=scenario.loc[index_cvar].mean()"
   ]
  },
  {
   "cell_type": "markdown",
   "id": "d8471cd5-4fcd-4ee2-8d94-4d1363a54361",
   "metadata": {},
   "source": [
    "## Gumbel Copula"
   ]
  },
  {
   "cell_type": "markdown",
   "id": "8c7db555-121f-4f8f-8df9-b9ad9bd6490a",
   "metadata": {},
   "source": [
    "### Optimal Weights"
   ]
  },
  {
   "cell_type": "code",
   "execution_count": null,
   "id": "71b071c1-17bc-4c85-9bf3-dbc381e1066d",
   "metadata": {},
   "outputs": [],
   "source": [
    "gumbel_copula=historical_risk.gumbel_copula()\n",
    "perf=performance(gumbel_copula,opt_weights)\n",
    "var=np.percentile(perf,1)\n",
    "cvar=perf[perf<var].mean()\n",
    "\n",
    "var,cvar"
   ]
  },
  {
   "cell_type": "markdown",
   "id": "6bf4dfe8-0f2f-46cd-9b8b-ad91d75d2448",
   "metadata": {},
   "source": [
    "### Current Weights"
   ]
  },
  {
   "cell_type": "code",
   "execution_count": null,
   "id": "677a56c5-74f3-4733-884b-54ac78e1ca00",
   "metadata": {},
   "outputs": [],
   "source": [
    "gumbel_copula=current_risk.gumbel_copula(theta=2)\n",
    "perf=performance(gumbel_copula,current_weights)\n",
    "var=np.percentile(perf,1)\n",
    "cvar=perf[perf<var].mean()\n",
    "\n",
    "var,cvar"
   ]
  },
  {
   "cell_type": "code",
   "execution_count": null,
   "id": "2d942684-7e8a-465f-96b9-3479a00e485d",
   "metadata": {},
   "outputs": [],
   "source": [
    "scenario_gumbel_copula={}\n",
    "\n",
    "for i in range(100):\n",
    "    \n",
    "    gumbel_copula_distrib=pd.DataFrame(current_risk.gumbel_copula(),columns=current_risk.returns.columns)\n",
    "    gumbel_copula_distrib=gumbel_copula_distrib*current_weights\n",
    "    gumbel_copula_distrib=gumbel_copula_distrib[gumbel_copula_distrib.columns[current_weights>0]]\n",
    "    gumbel_copula_distrib['Portfolio']=gumbel_copula_distrib.sum(axis=1)\n",
    "    gumbel_copula_var=gumbel_copula_distrib.sort_values(by='Portfolio').iloc[int(gumbel_copula_distrib.shape[0]*0.05)]['Portfolio']\n",
    "    results=gumbel_copula_distrib.sort_values(by='Portfolio').iloc[int(gumbel_copula_distrib.shape[0]*0.05)]\n",
    "    \n",
    "    scenario_gumbel_copula[i]=results\n",
    "    \n",
    "\n",
    "scenario=pd.DataFrame(scenario_gumbel_copula).T\n",
    "mean_scenario_gumbel=scenario.mean()\n",
    "\n",
    "index_cvar=scenario['Portfolio']<mean_scenario_gumbel['Portfolio']\n",
    "cvar_gumbel=scenario.loc[index_cvar].mean()"
   ]
  },
  {
   "cell_type": "raw",
   "id": "d1080f2d-80f0-4f42-aaf4-b930d55cdac4",
   "metadata": {
    "tags": []
   },
   "source": [
    "test=gumbel_l.rvs(loc=current_risk.returns.mean(),scale=current_risk.returns.std(),size=(10000,current_risk.returns.shape[1]))\n",
    "perf=(test*current_weights).sum(axis=1)\n",
    "\n",
    "var=np.percentile(perf,5)\n",
    "cvar=perf[perf<var].mean()\n",
    "var,cvar"
   ]
  },
  {
   "cell_type": "raw",
   "id": "3d431a69-7d30-4d5a-8b79-313ccc73d7bd",
   "metadata": {
    "jupyter": {
     "source_hidden": true
    },
    "tags": []
   },
   "source": [
    "scenario_gumbel_copula={}\n",
    "\n",
    "for i in range(100):\n",
    "    test=gumbel_l.rvs(loc=current_risk.returns.mean(),scale=current_risk.returns.std(),size=(10000,current_risk.returns.shape[1]))\n",
    "    gumbel_copula_distrib=pd.DataFrame(test,columns=current_risk.returns.columns)\n",
    "    gumbel_copula_distrib=gumbel_copula_distrib*current_weights\n",
    "    gumbel_copula_distrib=gumbel_copula_distrib[gumbel_copula_distrib.columns[current_weights>0]]\n",
    "    gumbel_copula_distrib['Portfolio']=gumbel_copula_distrib.sum(axis=1)\n",
    "    gumbel_copula_var=gumbel_copula_distrib.sort_values(by='Portfolio').iloc[int(gumbel_copula_distrib.shape[0]*0.05)]['Portfolio']\n",
    "    results=gumbel_copula_distrib.sort_values(by='Portfolio').iloc[int(gumbel_copula_distrib.shape[0]*0.05)]\n",
    "    \n",
    "    scenario_gumbel_copula[i]=results\n",
    "    \n",
    "mean_scenario_gaussian=pd.DataFrame(scenario_gumbel_copula).T.mean()\n",
    "mean_scenario_gaussian"
   ]
  },
  {
   "cell_type": "raw",
   "id": "929edc55-62b8-4da7-96a1-d5c4049da71f",
   "metadata": {
    "jupyter": {
     "source_hidden": true
    },
    "tags": []
   },
   "source": [
    "test=-np.random.gumbel(loc=current_risk.returns.mean(),scale=current_risk.returns.std(),size=(10000,current_risk.returns.shape[1]))\n",
    "var=np.percentile(performance(test,current_weights),5)\n",
    "cvar=performance(test,current_weights)[performance(test,current_weights)<var].mean()\n",
    "var,cvar"
   ]
  },
  {
   "cell_type": "raw",
   "id": "df443baa-f1ac-4309-b3a6-4cc30c1f24cc",
   "metadata": {
    "jupyter": {
     "source_hidden": true
    },
    "tags": []
   },
   "source": [
    "scenario_gumbel_copula={}\n",
    "\n",
    "for i in range(100):\n",
    "    test=-np.random.gumbel(loc=current_risk.returns.mean(),scale=current_risk.returns.std(),size=(10000,current_risk.returns.shape[1]))\n",
    "    gumbel_copula_distrib=pd.DataFrame(test,columns=current_risk.returns.columns)\n",
    "    gumbel_copula_distrib=gumbel_copula_distrib*current_weights\n",
    "    gumbel_copula_distrib=gumbel_copula_distrib[gumbel_copula_distrib.columns[current_weights>0]]\n",
    "    gumbel_copula_distrib['Portfolio']=gumbel_copula_distrib.sum(axis=1)\n",
    "    gumbel_copula_var=gumbel_copula_distrib.sort_values(by='Portfolio').iloc[int(gumbel_copula_distrib.shape[0]*0.05)]['Portfolio']\n",
    "    results=gumbel_copula_distrib.sort_values(by='Portfolio').iloc[int(gumbel_copula_distrib.shape[0]*0.05)]\n",
    "    \n",
    "    scenario_gumbel_copula[i]=results\n",
    "    \n",
    "mean_scenario_gaussian=pd.DataFrame(scenario_gumbel_copula).T.mean()\n",
    "mean_scenario_gaussian"
   ]
  },
  {
   "cell_type": "markdown",
   "id": "7552457d-af22-431f-bdc4-3609112e4138",
   "metadata": {},
   "source": [
    "## Monte Carlo"
   ]
  },
  {
   "cell_type": "markdown",
   "id": "8da84a09-32bf-473c-b0bf-8b98993c9003",
   "metadata": {},
   "source": [
    "### Optimal"
   ]
  },
  {
   "cell_type": "code",
   "execution_count": null,
   "id": "0b1de214-34a4-46f0-9ff9-54326ff3b1b5",
   "metadata": {},
   "outputs": [],
   "source": [
    "spot=data[with_no_na].iloc[-1]\n",
    "monte_carlo=historical_risk.monte_carlo(spot,horizon=1/250,stress_factor=1.0)\n",
    "perf=performance(monte_carlo[1].fillna(0),opt_weights)"
   ]
  },
  {
   "cell_type": "code",
   "execution_count": null,
   "id": "51c03bd4-96cb-4ef9-a720-1320ae57f100",
   "metadata": {},
   "outputs": [],
   "source": [
    "var=np.percentile(perf,1)\n",
    "cvar=perf[perf<var].mean()\n",
    "\n",
    "var,cvar"
   ]
  },
  {
   "cell_type": "markdown",
   "id": "d8b35437-ec2e-403d-89bd-e8beb5c1cfe8",
   "metadata": {},
   "source": [
    "### Current Weights"
   ]
  },
  {
   "cell_type": "code",
   "execution_count": null,
   "id": "fbd5b7f8-8088-4ed9-8dd9-2509aa2de713",
   "metadata": {},
   "outputs": [],
   "source": [
    "spot=data[ex_ante_perf.columns].iloc[-1]\n",
    "monte_carlo=current_risk.monte_carlo(spot,horizon=1/250,stress_factor=1.0)\n",
    "perf=performance(monte_carlo[1].fillna(0),current_weights)\n",
    "var=np.percentile(perf,1)\n",
    "cvar=perf[perf<var].mean()\n",
    "\n",
    "var,cvar"
   ]
  },
  {
   "cell_type": "code",
   "execution_count": null,
   "id": "926becf6-084a-4e04-a7e6-6144307d50d5",
   "metadata": {},
   "outputs": [],
   "source": [
    "spot=data[ex_ante_perf.columns].iloc[-1]\n",
    "\n",
    "scenario_monte_carlo={}\n",
    "\n",
    "for i in range(100):\n",
    "    \n",
    "    monte_carlo=current_risk.monte_carlo(spot,horizon=1/250,stress_factor=1.0)\n",
    "    monte_carlo_distrib=monte_carlo[1].fillna(0)*current_weights\n",
    "    monte_carlo_distrib=monte_carlo_distrib[monte_carlo_distrib.columns[current_weights>0]]\n",
    "    monte_carlo_distrib['Portfolio']=monte_carlo_distrib.sum(axis=1)\n",
    "    monte_carlo_var=monte_carlo_distrib.sort_values(by='Portfolio').iloc[int(monte_carlo_distrib.shape[0]*0.05)]['Portfolio']\n",
    "    results=monte_carlo_distrib.sort_values(by='Portfolio').iloc[int(monte_carlo_distrib.shape[0]*0.05)]\n",
    "    \n",
    "    scenario_monte_carlo[i]=results\n",
    "\n",
    "scenario=pd.DataFrame(scenario_monte_carlo).T\n",
    "mean_scenario_monte_carlo=scenario.mean()\n",
    "\n",
    "index_cvar=scenario['Portfolio']<mean_scenario_monte_carlo['Portfolio']\n",
    "cvar_monte_carlo=scenario.loc[index_cvar].mean()"
   ]
  },
  {
   "cell_type": "code",
   "execution_count": null,
   "id": "c6f0c94d-7c48-48a7-9c1a-9c603128f0cb",
   "metadata": {
    "tags": []
   },
   "outputs": [],
   "source": [
    "summary_var=pd.concat([mean_scenario_gumbel,mean_scenario_gaussian,mean_scenario_monte_carlo,mean_scenario_multivariate,mean_scenario_student],axis=1)\n",
    "summary_var.columns=['Gumbel','Gaussian','Monte Carlo','Multivariate','Student']\n",
    "summary_var"
   ]
  },
  {
   "cell_type": "code",
   "execution_count": null,
   "id": "d277faef-dcdf-4955-894c-e8e5fde76aed",
   "metadata": {
    "tags": []
   },
   "outputs": [],
   "source": [
    "summary_cvar=pd.concat([cvar_gumbel,cvar_gaussian,cvar_monte_carlo,cvar_multivariate,cvar_student],axis=1)\n",
    "summary_cvar.columns=['Gumbel','Gaussian','Monte Carlo','Multivariate','Student']\n",
    "summary_cvar"
   ]
  },
  {
   "cell_type": "markdown",
   "id": "2b3cb248-60ea-43f7-b474-31b6046eeee9",
   "metadata": {},
   "source": [
    "## VaR Violation"
   ]
  },
  {
   "cell_type": "code",
   "execution_count": null,
   "id": "757aac0b-a638-4349-8fd3-30b1f39fa8b4",
   "metadata": {},
   "outputs": [],
   "source": [
    "var_data=rolling_var(returns_to_use,opt_weights,window=30,Q=1)\n",
    "var_data"
   ]
  },
  {
   "cell_type": "code",
   "execution_count": null,
   "id": "bca159de-f35d-4db1-b088-09ad2dbc5b6a",
   "metadata": {},
   "outputs": [],
   "source": [
    "current_var_data=rolling_var(ex_ante_perf_to_use,current_weights,window=15,Q=1)\n",
    "current_var_data"
   ]
  },
  {
   "cell_type": "code",
   "execution_count": null,
   "id": "0e7d84e4-bd99-45e8-9326-4f84526ba091",
   "metadata": {},
   "outputs": [],
   "source": [
    "var_data.plot()\n",
    "plt.show()"
   ]
  },
  {
   "cell_type": "code",
   "execution_count": null,
   "id": "4499b3ef-4ed2-48a3-8967-0230afa98c7d",
   "metadata": {},
   "outputs": [],
   "source": [
    "current_var_data.plot()\n",
    "plt.show()\n"
   ]
  },
  {
   "cell_type": "code",
   "execution_count": null,
   "id": "e47d08e8-e7a7-4b22-8605-f8200e5645a6",
   "metadata": {},
   "outputs": [],
   "source": [
    "kupiec_test(var_data)"
   ]
  },
  {
   "cell_type": "code",
   "execution_count": null,
   "id": "0b33e6a3-e732-49df-a1a0-aefaefb1f271",
   "metadata": {},
   "outputs": [],
   "source": [
    "kupiec_test(current_var_data)"
   ]
  },
  {
   "cell_type": "markdown",
   "id": "7d238b49-45e4-4e3c-a34b-654a69961cc2",
   "metadata": {},
   "source": [
    "# Principal Component Analysis"
   ]
  },
  {
   "cell_type": "markdown",
   "id": "f692a72e-632c-4eb9-afa3-b1283e5e6fd9",
   "metadata": {},
   "source": [
    "## Historical PCA"
   ]
  },
  {
   "cell_type": "code",
   "execution_count": null,
   "id": "6000e084-3863-47c4-9f09-9fcd4c7220be",
   "metadata": {},
   "outputs": [],
   "source": [
    "eigval,eigvec,portfolio_components=historical_risk.pca(num_components=5)\n",
    "variance_explained=eigval/eigval.sum()\n",
    "variance_explained"
   ]
  },
  {
   "cell_type": "code",
   "execution_count": null,
   "id": "53fd60dd-afcd-4a5f-bc0c-1afbe4acfcf5",
   "metadata": {},
   "outputs": [],
   "source": [
    "pca_weight=dict((portfolio_components['PC1']/portfolio_components['PC1'].sum()))\n",
    "portfolio_components['PC1']"
   ]
  },
  {
   "cell_type": "code",
   "execution_count": null,
   "id": "e83837db-6bb4-44d7-8d2f-ace69c484699",
   "metadata": {},
   "outputs": [],
   "source": [
    "historical_PCA=pd.DataFrame(np.array(list(pca_weight.values())).dot(np.transpose(historical_risk.returns)),\n",
    "                 index=historical_risk.returns.index,\n",
    "                 columns=['PCA'])\n",
    "historical_PCA=historical_PCA.dropna()\n",
    "(1+historical_PCA).cumprod().plot()\n",
    "plt.show()"
   ]
  },
  {
   "cell_type": "code",
   "execution_count": null,
   "id": "c575f9ec-6680-4401-814e-d33785954e38",
   "metadata": {},
   "outputs": [],
   "source": [
    "(1+historical_risk.returns['BTCUSDT']).cumprod().plot()\n",
    "plt.show()\n"
   ]
  },
  {
   "cell_type": "code",
   "execution_count": null,
   "id": "1a144186-3cff-4c2b-8833-2ff9c7ed02d0",
   "metadata": {},
   "outputs": [],
   "source": [
    "comparison=historical_risk.returns.copy()\n",
    "comparison['PCA']=historical_PCA\n",
    "distances=np.sqrt(np.sum(comparison.apply(lambda y:(y-historical_PCA['PCA'])**2))).sort_values()\n",
    "distances[:20]"
   ]
  },
  {
   "cell_type": "code",
   "execution_count": null,
   "id": "1757caf9-a1c9-4e4e-8334-fae0314667e7",
   "metadata": {},
   "outputs": [],
   "source": [
    "(1+comparison[distances.index[:10]]).cumprod().plot()\n",
    "plt.show()"
   ]
  },
  {
   "cell_type": "code",
   "execution_count": null,
   "id": "56a047da-fd00-4827-8e18-635a2fa53389",
   "metadata": {},
   "outputs": [],
   "source": [
    "(1+comparison[distances.index[-10:]]).cumprod().plot()"
   ]
  },
  {
   "cell_type": "markdown",
   "id": "1e202647-c176-480f-a368-895d7d744dd0",
   "metadata": {},
   "source": [
    "## Current PCA"
   ]
  },
  {
   "cell_type": "code",
   "execution_count": null,
   "id": "b279a72f-1f1c-42f0-a641-013b3e43675f",
   "metadata": {},
   "outputs": [],
   "source": [
    "eigval,eigvec,portfolio_components_current=current_risk.pca(num_components=5)\n",
    "variance_explained=eigval/eigval.sum()\n",
    "variance_explained"
   ]
  },
  {
   "cell_type": "code",
   "execution_count": null,
   "id": "dfe7f204-8aab-42a9-a2e3-95c60a6b146e",
   "metadata": {},
   "outputs": [],
   "source": [
    "pca_weight=dict((portfolio_components_current['PC1']/portfolio_components_current['PC1'].sum()))\n",
    "portfolio_components_current['PC1']"
   ]
  },
  {
   "cell_type": "code",
   "execution_count": null,
   "id": "85176e0f-abd3-477c-89a2-f8473be390f3",
   "metadata": {},
   "outputs": [],
   "source": [
    "PCA=pd.DataFrame(np.array(list(pca_weight.values())).dot(np.transpose(current_risk.returns)),\n",
    "                 index=current_risk.returns.index,\n",
    "                 columns=['PCA'])\n",
    "PCA=PCA.dropna()\n",
    "(1+PCA).cumprod().plot()\n",
    "plt.show()"
   ]
  },
  {
   "cell_type": "code",
   "execution_count": null,
   "id": "03b2a48e-4c5a-4d67-8760-a4631629f0a3",
   "metadata": {},
   "outputs": [],
   "source": [
    "(1+current_risk.returns['BTCUSDT']).cumprod().plot()\n",
    "plt.show()\n"
   ]
  },
  {
   "cell_type": "code",
   "execution_count": null,
   "id": "726e5786-d256-485f-9aed-34cf41558ed1",
   "metadata": {},
   "outputs": [],
   "source": [
    "comparison=current_risk.returns.copy()\n",
    "comparison['PCA']=PCA\n",
    "distances=np.sqrt(np.sum(comparison.apply(lambda y:(y-PCA['PCA'])**2))).sort_values()\n",
    "distances.iloc[:10]"
   ]
  },
  {
   "cell_type": "code",
   "execution_count": null,
   "id": "15dace72-ee38-4c88-92c2-df5fa14f042c",
   "metadata": {},
   "outputs": [],
   "source": [
    "(1+comparison[distances.index[:10]]).cumprod().plot()\n",
    "plt.show()\n"
   ]
  },
  {
   "cell_type": "markdown",
   "id": "85389228-d5d4-4e65-b11c-e46e5e4155ba",
   "metadata": {},
   "source": [
    "## Sensitivity Analysis"
   ]
  },
  {
   "cell_type": "code",
   "execution_count": null,
   "id": "7f6c4fd8-79da-438f-9aa9-c5fe762473d3",
   "metadata": {},
   "outputs": [],
   "source": [
    "beta=(ex_ante_perf.cov()/ex_ante_perf.var())['BTCUSDT'].sort_values(ascending=False)\n",
    "beta"
   ]
  },
  {
   "cell_type": "code",
   "execution_count": null,
   "id": "845abc9d-5045-4d31-9955-7093728da9fe",
   "metadata": {},
   "outputs": [],
   "source": [
    "days=30\n",
    "beta=(ex_ante_perf.iloc[-days:].cov()/ex_ante_perf.iloc[-days:].var())['BTCUSDT'].sort_values(ascending=False)\n",
    "beta"
   ]
  },
  {
   "cell_type": "markdown",
   "id": "d311b8be-27e0-4aad-b9e8-cb84f3454259",
   "metadata": {},
   "source": [
    "### Multilinear Regression"
   ]
  },
  {
   "cell_type": "code",
   "execution_count": null,
   "id": "962c61b3-5e52-4c11-b364-f8c6f1cd60bb",
   "metadata": {},
   "outputs": [],
   "source": [
    "reg=ex_ante_perf.copy().dropna()\n",
    "reg=reg.iloc[-30:]\n",
    "reg['PCA']=historical_PCA\n",
    "X=reg.iloc[:,reg.columns!='PCA'].to_numpy()\n",
    "Y=reg['PCA'].to_numpy()\n",
    "columns=list(reg.columns[reg.columns!='PCA'])\n",
    "\n",
    "beta=np.dot(np.linalg.inv(np.dot(X.T,X)),np.dot(X.T,Y))"
   ]
  },
  {
   "cell_type": "code",
   "execution_count": null,
   "id": "7bcb517c-8022-4d36-bdcc-e4ebcaf63a2e",
   "metadata": {},
   "outputs": [],
   "source": [
    "table=pd.DataFrame(dict(zip(columns,beta)).values(),index=dict(zip(columns,beta)).keys(),columns=['Beta'])\n",
    "table.sort_values(by='Beta',ascending=False)"
   ]
  },
  {
   "cell_type": "markdown",
   "id": "7e77a61d-bd50-4ad9-a85d-f69447869b55",
   "metadata": {},
   "source": [
    "### Regression to PCA"
   ]
  },
  {
   "cell_type": "code",
   "execution_count": null,
   "id": "dc1a8f66-d893-48ec-bcf5-e449317c0e99",
   "metadata": {},
   "outputs": [],
   "source": [
    "reg=ex_ante_perf.copy().dropna()\n",
    "reg=reg.loc[historical_ptf['Historical Portfolio'].index]\n",
    "\n",
    "reg['PCA']=historical_PCA\n",
    "reg['Portfolio']=historical_ptf['Historical Portfolio']\n",
    "reg=reg.iloc[-30:]\n",
    "X=reg['PCA'].to_numpy()\n",
    "Y=reg['Portfolio'].to_numpy()\n",
    "columns=list(reg.columns[reg.columns!='Porfolio'])\n",
    "\n",
    "beta=reg.cov()['Portfolio']['PCA']/reg.var()['Portfolio']\n",
    "beta"
   ]
  },
  {
   "cell_type": "code",
   "execution_count": null,
   "id": "a92d0193-75d5-481e-abe9-ef803762218f",
   "metadata": {},
   "outputs": [],
   "source": [
    "reg=ex_ante_perf.copy().dropna()\n",
    "reg['PCA']=historical_PCA\n",
    "\n",
    "(reg.cov()['PCA']/reg.var()).sort_values(ascending=False)"
   ]
  },
  {
   "cell_type": "code",
   "execution_count": null,
   "id": "8aaa7cee-4ff5-4a5f-a319-6d3781890fcc",
   "metadata": {},
   "outputs": [],
   "source": [
    "reg=ex_ante_perf.copy().dropna().iloc[-30:]\n",
    "reg['PCA']=historical_PCA\n",
    "\n",
    "(reg.cov()['PCA']/reg.var()).sort_values(ascending=False)"
   ]
  },
  {
   "cell_type": "markdown",
   "id": "ef23f8d2-ee61-48fd-a3b4-df8f9cd77abb",
   "metadata": {},
   "source": [
    "### Correlation Matrix"
   ]
  },
  {
   "cell_type": "code",
   "execution_count": null,
   "id": "14227bed-8eb0-4e19-87ad-7b7617e03294",
   "metadata": {},
   "outputs": [],
   "source": [
    "sns.heatmap(ex_ante_perf.corr(),annot=True)\n",
    "plt.show()\n"
   ]
  },
  {
   "cell_type": "code",
   "execution_count": null,
   "id": "2e84a40b-4fdf-4b92-addb-7c7ba8e32f00",
   "metadata": {},
   "outputs": [],
   "source": [
    "sns.heatmap(ex_ante_perf.iloc[-15:].corr(),annot=True)"
   ]
  },
  {
   "cell_type": "code",
   "execution_count": null,
   "id": "dc48ffc1-5684-42c1-b3d8-616e36d0ce2c",
   "metadata": {},
   "outputs": [],
   "source": [
    "gold=get_close(['SPY','GOLD.PA'],start=start_date.strftime(\"%Y-%m-%d\"),end=enddate.strftime(\"%Y-%m-%d\")).dropna()\n",
    "gold.index=pd.to_datetime(gold.index)\n",
    "pct_change=gold.pct_change().sort_index()"
   ]
  },
  {
   "cell_type": "code",
   "execution_count": null,
   "id": "db19eb9b-9fed-42e2-bd56-b5c6c50694db",
   "metadata": {},
   "outputs": [],
   "source": [
    "correlation=pct_change['GOLD.PA'].rolling(30).corr(pct_change['SPY']).dropna()\n",
    "beta=(pct_change['GOLD.PA'].rolling(30).cov(pct_change['SPY']).dropna()/pct_change['SPY'].rolling(30).var().dropna())"
   ]
  },
  {
   "cell_type": "code",
   "execution_count": null,
   "id": "a7904f1e-d3d8-4f40-a00f-90bc3f4e7ad4",
   "metadata": {},
   "outputs": [],
   "source": [
    "info=pd.DataFrame()\n",
    "info['Beta']=beta\n",
    "info['Corr']=correlation\n",
    "\n",
    "info.plot()"
   ]
  },
  {
   "cell_type": "markdown",
   "id": "9f7ba2ce-b159-4322-bfb9-a9f6874cda5e",
   "metadata": {},
   "source": [
    "## Sliding window optimization"
   ]
  },
  {
   "cell_type": "code",
   "execution_count": null,
   "id": "182eaabf-5686-48d5-8c2e-9414607b541a",
   "metadata": {},
   "outputs": [],
   "source": [
    "results={}\n",
    "window=14\n",
    "\n",
    "for i in range(0,ex_ante_perf_to_use.shape[0]-window+1,window):\n",
    "    \n",
    "    try:\n",
    "        dataset=ex_ante_perf_to_use.iloc[i:i+window]\n",
    "        risk=RiskAnalysis(dataset)\n",
    "        date=dataset.index[-1]\n",
    "        optimal=risk.optimize(objective='sharpe_ratio')     \n",
    "        results[date]=np.round(optimal,6)\n",
    "        \n",
    "    except Exception as e:\n",
    "        \n",
    "            pass\n",
    "\n",
    "rolling_optimization=pd.DataFrame(results,index=ex_ante_perf_to_use.columns).T\n",
    "rolling_optimization"
   ]
  },
  {
   "cell_type": "code",
   "execution_count": null,
   "id": "90e85fa8-e1e7-426d-8ac1-bb71e956f00c",
   "metadata": {},
   "outputs": [],
   "source": [
    "results={}\n",
    "window=30\n",
    "days=250\n",
    "limit=np.where(returns_to_use.columns=='USDCUSDT')[0][0],np.where(returns_to_use.columns=='PAXGUSDT')[0][0]"
   ]
  },
  {
   "cell_type": "code",
   "execution_count": null,
   "id": "04fb7272-b43c-425d-9d03-e606e9cbfa24",
   "metadata": {},
   "outputs": [],
   "source": [
    "for i in range(0,returns_to_use.shape[0]-window+1,window):\n",
    "    \n",
    "    try:\n",
    "        dataset=returns_to_use.iloc[-days:].iloc[i:i+window]\n",
    "        risk=RiskAnalysis(dataset)\n",
    "        date=dataset.index[-1]\n",
    "        optimal=risk.optimize(objective='sharpe_ratio',constraints=[{'type': 'eq', 'fun': lambda weights: weights[limit[0]]-0.0}])\n",
    "        results[date]=np.round(optimal,6)\n",
    "        \n",
    "    except Exception as e:\n",
    "        \n",
    "            pass\n",
    "\n",
    "rolling_optimization=pd.DataFrame(results,index=returns_to_use.columns).T\n",
    "rolling_optimization"
   ]
  },
  {
   "cell_type": "code",
   "execution_count": null,
   "id": "93f89b7e-b290-4942-b5f8-197ada2aec15",
   "metadata": {},
   "outputs": [],
   "source": [
    "rolling_optimization.iloc[-2].sort_values(ascending=False)[:6]"
   ]
  },
  {
   "cell_type": "code",
   "execution_count": null,
   "id": "6615470c-5eee-4874-ac58-e0e14b022906",
   "metadata": {},
   "outputs": [],
   "source": [
    "q=rebalanced_dynamic_quantities(data[returns_to_use.columns],rolling_optimization)\n",
    "ptf=q*data[returns_to_use.columns]\n",
    "comparison=pd.DataFrame()\n",
    "comparison['BTCUSDT']=data['BTCUSDT']\n",
    "comparison['Fund']=ptf.sum(axis=1)\n",
    "((1+comparison.loc['2025'].pct_change()).cumprod()*100).plot()"
   ]
  },
  {
   "cell_type": "code",
   "execution_count": null,
   "id": "caf9ff9c-22c7-499e-af98-200a3f1ffd95",
   "metadata": {},
   "outputs": [],
   "source": [
    "(ptf-rebalanced_book_cost(data[returns_to_use.columns],q)).iloc[-1].sort_values(ascending=False)"
   ]
  },
  {
   "cell_type": "code",
   "execution_count": null,
   "id": "c71ff07f-32ce-4a1b-a106-caa4d69d088c",
   "metadata": {},
   "outputs": [],
   "source": [
    "git.create_or_replace_notebook(\"Prod.ipynb\")"
   ]
  },
  {
   "cell_type": "code",
   "execution_count": null,
   "id": "71c2f31b-d902-4b7e-8cb1-c40e5e6bcf2c",
   "metadata": {},
   "outputs": [],
   "source": []
  }
 ],
 "metadata": {
  "kernelspec": {
   "display_name": "Python [conda env:base] *",
   "language": "python",
   "name": "conda-base-py"
  },
  "language_info": {
   "codemirror_mode": {
    "name": "ipython",
    "version": 3
   },
   "file_extension": ".py",
   "mimetype": "text/x-python",
   "name": "python",
   "nbconvert_exporter": "python",
   "pygments_lexer": "ipython3",
   "version": "3.12.3"
  }
 },
 "nbformat": 4,
 "nbformat_minor": 5
}
