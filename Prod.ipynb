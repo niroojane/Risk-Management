{
 "cells": [
  {
   "cell_type": "markdown",
   "id": "b37f1921-36ab-4456-9e86-117c39f91bc4",
   "metadata": {},
   "source": [
    "# Importing Libraries"
   ]
  },
  {
   "cell_type": "code",
   "execution_count": 1,
   "id": "1955d1de-ae34-4125-91ad-53073b1837d5",
   "metadata": {},
   "outputs": [],
   "source": [
    "import pandas as pd\n",
    "import random\n",
    "import numpy as np\n",
    "import matplotlib.pyplot as plt\n",
    "import datetime\n",
    "import seaborn as sns"
   ]
  },
  {
   "cell_type": "code",
   "execution_count": 2,
   "id": "917dd650-def2-4d10-89d9-ca82b6a3704f",
   "metadata": {},
   "outputs": [],
   "source": [
    "%run \"Stock Data.ipynb\".ipynb\n",
    "%run \"Binance API.ipynb\".ipynb\n",
    "%run \"RiskMetrics.ipynb\".ipynb"
   ]
  },
  {
   "cell_type": "markdown",
   "id": "01a00d22-d2b2-4f90-97d6-a7a3f8ef242f",
   "metadata": {},
   "source": [
    "# Importing Data"
   ]
  },
  {
   "cell_type": "markdown",
   "id": "0af29f5a-4c7d-44b2-8ecc-6d859cdc6983",
   "metadata": {},
   "source": [
    "## Tickers"
   ]
  },
  {
   "cell_type": "code",
   "execution_count": 3,
   "id": "306574f4-a153-47cd-a4b3-e293d9e9889f",
   "metadata": {},
   "outputs": [],
   "source": [
    "binance_api_key='E90xR7UnO2oeP3lrgC50zkqUuAqyyXs4uSlAGcqIVO9n90ELrFI4gfVI2HGGxxCj'\n",
    "binance_api_secret='Inls2xYl9FqPi0zlIrucfxG81drx7w6Pv6SzYFxMNoAcwDjlCKug7zUM9zB3lF9h'\n",
    "Binance=BinanceAPI(binance_api_key,binance_api_secret)"
   ]
  },
  {
   "cell_type": "code",
   "execution_count": 4,
   "id": "0f1c0e61-395a-407c-9aef-80d5011e56b5",
   "metadata": {},
   "outputs": [],
   "source": [
    "#stocks=pd.read_html('https://en.wikipedia.org/wiki/EURO_STOXX_50')[4]\n",
    "#tickers=stocks['Ticker'].to_list()"
   ]
  },
  {
   "cell_type": "markdown",
   "id": "c33884b2-73bc-4e92-8c5b-09559b34051d",
   "metadata": {},
   "source": [
    "## Market Data"
   ]
  },
  {
   "cell_type": "code",
   "execution_count": 5,
   "id": "b5919bc8-fde2-4e6f-871d-2eed8341c8ae",
   "metadata": {},
   "outputs": [],
   "source": [
    "start_date=datetime.datetime(2023,12,1)\n",
    "enddate=start_date+datetime.timedelta(500)"
   ]
  },
  {
   "cell_type": "code",
   "execution_count": 6,
   "id": "53f4457b-62b7-4e47-87cd-357488c03b34",
   "metadata": {},
   "outputs": [],
   "source": [
    "book_cost=pd.read_excel(\"Book Cost.xlsx\",index_col='Ticker')"
   ]
  },
  {
   "cell_type": "code",
   "execution_count": 7,
   "id": "602b1d90-650a-4966-8895-131193e1e423",
   "metadata": {},
   "outputs": [],
   "source": [
    "quantities_api=Binance.binance_api.user_asset()\n",
    "quantities=pd.DataFrame(quantities_api).sort_values(by='free',ascending=False)\n",
    "quantities['asset']=quantities['asset']+'USDT'\n",
    "quantities=quantities.set_index('asset')"
   ]
  },
  {
   "cell_type": "code",
   "execution_count": 8,
   "id": "2a5e1fb2-658d-49d7-afe2-d58ff93c06e5",
   "metadata": {},
   "outputs": [],
   "source": [
    "#today_price=Binance.get_price(holding_tickers,date=datetime.datetime.today()).T\n",
    "#today_price.columns=['Mark To Market']"
   ]
  },
  {
   "cell_type": "code",
   "execution_count": 9,
   "id": "091cc38c-cbce-4db6-b97e-dbc09587d405",
   "metadata": {},
   "outputs": [
    {
     "data": {
      "text/html": [
       "<div>\n",
       "<style scoped>\n",
       "    .dataframe tbody tr th:only-of-type {\n",
       "        vertical-align: middle;\n",
       "    }\n",
       "\n",
       "    .dataframe tbody tr th {\n",
       "        vertical-align: top;\n",
       "    }\n",
       "\n",
       "    .dataframe thead th {\n",
       "        text-align: right;\n",
       "    }\n",
       "</style>\n",
       "<table border=\"1\" class=\"dataframe\">\n",
       "  <thead>\n",
       "    <tr style=\"text-align: right;\">\n",
       "      <th></th>\n",
       "      <th>Book Cost</th>\n",
       "      <th>Price in USDT</th>\n",
       "      <th>Weights</th>\n",
       "      <th>Profit and Loss</th>\n",
       "    </tr>\n",
       "  </thead>\n",
       "  <tbody>\n",
       "    <tr>\n",
       "      <th>BTCUSDT</th>\n",
       "      <td>611.9581</td>\n",
       "      <td>564.8391</td>\n",
       "      <td>0.2852</td>\n",
       "      <td>-47.1190</td>\n",
       "    </tr>\n",
       "    <tr>\n",
       "      <th>TRXUSDT</th>\n",
       "      <td>79.6748</td>\n",
       "      <td>73.2451</td>\n",
       "      <td>0.0370</td>\n",
       "      <td>-6.4297</td>\n",
       "    </tr>\n",
       "    <tr>\n",
       "      <th>JASMYUSDT</th>\n",
       "      <td>453.8661</td>\n",
       "      <td>296.7953</td>\n",
       "      <td>0.1498</td>\n",
       "      <td>-157.0707</td>\n",
       "    </tr>\n",
       "    <tr>\n",
       "      <th>SOLUSDT</th>\n",
       "      <td>261.7091</td>\n",
       "      <td>271.5565</td>\n",
       "      <td>0.1371</td>\n",
       "      <td>9.8474</td>\n",
       "    </tr>\n",
       "    <tr>\n",
       "      <th>OMUSDT</th>\n",
       "      <td>535.6761</td>\n",
       "      <td>548.7187</td>\n",
       "      <td>0.2770</td>\n",
       "      <td>13.0425</td>\n",
       "    </tr>\n",
       "    <tr>\n",
       "      <th>ETHUSDT</th>\n",
       "      <td>264.2048</td>\n",
       "      <td>181.6023</td>\n",
       "      <td>0.0917</td>\n",
       "      <td>-82.6025</td>\n",
       "    </tr>\n",
       "    <tr>\n",
       "      <th>BBUSDT</th>\n",
       "      <td>46.3321</td>\n",
       "      <td>43.0609</td>\n",
       "      <td>0.0217</td>\n",
       "      <td>-3.2712</td>\n",
       "    </tr>\n",
       "    <tr>\n",
       "      <th>BNBUSDT</th>\n",
       "      <td>1.1490</td>\n",
       "      <td>1.0169</td>\n",
       "      <td>0.0005</td>\n",
       "      <td>-0.1322</td>\n",
       "    </tr>\n",
       "    <tr>\n",
       "      <th>PEPEUSDT</th>\n",
       "      <td>0.0000</td>\n",
       "      <td>0.0000</td>\n",
       "      <td>0.0000</td>\n",
       "      <td>0.0000</td>\n",
       "    </tr>\n",
       "    <tr>\n",
       "      <th>Total</th>\n",
       "      <td>2254.5699</td>\n",
       "      <td>1980.8347</td>\n",
       "      <td>1.0000</td>\n",
       "      <td>-273.7352</td>\n",
       "    </tr>\n",
       "  </tbody>\n",
       "</table>\n",
       "</div>"
      ],
      "text/plain": [
       "           Book Cost  Price in USDT  Weights  Profit and Loss\n",
       "BTCUSDT     611.9581       564.8391   0.2852         -47.1190\n",
       "TRXUSDT      79.6748        73.2451   0.0370          -6.4297\n",
       "JASMYUSDT   453.8661       296.7953   0.1498        -157.0707\n",
       "SOLUSDT     261.7091       271.5565   0.1371           9.8474\n",
       "OMUSDT      535.6761       548.7187   0.2770          13.0425\n",
       "ETHUSDT     264.2048       181.6023   0.0917         -82.6025\n",
       "BBUSDT       46.3321        43.0609   0.0217          -3.2712\n",
       "BNBUSDT       1.1490         1.0169   0.0005          -0.1322\n",
       "PEPEUSDT      0.0000         0.0000   0.0000           0.0000\n",
       "Total      2254.5699      1980.8347   1.0000        -273.7352"
      ]
     },
     "execution_count": 9,
     "metadata": {},
     "output_type": "execute_result"
    }
   ],
   "source": [
    "tickers=Binance.get_market_cap()['Ticker'].iloc[:75].to_list()\n",
    "holding=Binance.get_inventory()\n",
    "condition=holding.index!='Total'\n",
    "holding_tickers=holding.index[condition]\n",
    "holding_tickers=holding_tickers.to_list()\n",
    "tickers=sorted(list(set(tickers+holding_tickers)))\n",
    "\n",
    "pnl=pd.concat([book_cost,holding.loc[condition]],axis=1)\n",
    "pnl['Book Cost']=(pnl['Book Cost']*quantities['free'].astype(float))\n",
    "pnl['Profit and Loss']=pnl['Price in USDT']-pnl['Book Cost']\n",
    "pnl.loc['Total']=pnl.sum()\n",
    "pnl.round(4)"
   ]
  },
  {
   "cell_type": "code",
   "execution_count": 10,
   "id": "02b13058-bb72-491c-b1c4-107367b2d402",
   "metadata": {},
   "outputs": [],
   "source": [
    "data1=Binance.get_price(tickers,start_date)\n",
    "data2=Binance.get_price(tickers,enddate)\n",
    "data=data1.combine_first(data2)\n",
    "data.index=pd.to_datetime(data.index)\n",
    "#data=data.dropna(axis=1)\n",
    "n=len(data.columns)\n",
    "data=data.sort_index()"
   ]
  },
  {
   "cell_type": "code",
   "execution_count": 11,
   "id": "fa402d23-cca7-4a57-9e61-234a6e346d61",
   "metadata": {},
   "outputs": [],
   "source": [
    "inventory_weights=(holding['Weights'].apply(lambda x: np.round(x,2))).to_dict()\n",
    "inventory_weights.pop('Total')\n",
    "\n",
    "if \"USDTUSDT\" in inventory_weights:\n",
    "    \n",
    "    inventory_weights.pop('USDTUSDT')\n",
    "else: \n",
    "    pass"
   ]
  },
  {
   "cell_type": "code",
   "execution_count": 12,
   "id": "f12eea91-8e16-438a-8418-e9a00c684c51",
   "metadata": {},
   "outputs": [],
   "source": [
    "returns=np.log(1+data.pct_change())\n",
    "returns.index=pd.to_datetime(returns.index)\n",
    "with_no_na=returns.columns[np.where((returns.isna().sum()<30))]\n",
    "returns_to_use=returns[with_no_na]\n",
    "ex_ante_perf=returns[holding_tickers]\n",
    "ex_ante_perf_to_use=ex_ante_perf.dropna()"
   ]
  },
  {
   "cell_type": "code",
   "execution_count": 13,
   "id": "c02ab432-6fac-4d8a-9744-c41d0fc2977c",
   "metadata": {},
   "outputs": [],
   "source": [
    "weights_post=dict()\n",
    "\n",
    "for col in ex_ante_perf.columns:\n",
    "    \n",
    "    if col in inventory_weights.keys():\n",
    "        weights_post[col]=inventory_weights[col]\n",
    "        \n",
    "    else:\n",
    "        weights_post[col]=0\n",
    "    \n",
    "current_weights=np.array(list(weights_post.values()))\n",
    "current_weights=np.round(current_weights,2)/np.sum(np.round(current_weights,2))"
   ]
  },
  {
   "cell_type": "markdown",
   "id": "b140110e-5f33-465c-8e5c-0fc7a645c27d",
   "metadata": {},
   "source": [
    "## Positions"
   ]
  },
  {
   "cell_type": "code",
   "execution_count": 14,
   "id": "17c5e377-a1f1-4dd7-9b69-19903c2e4954",
   "metadata": {},
   "outputs": [],
   "source": [
    "position=pd.read_excel('Positions.xlsx',index_col=0)"
   ]
  },
  {
   "cell_type": "code",
   "execution_count": 15,
   "id": "9c53afdc-8dd4-464f-ac2b-53da43bffdd4",
   "metadata": {},
   "outputs": [
    {
     "name": "stdout",
     "output_type": "stream",
     "text": [
      "2024-05-05 00:00:00\n",
      "2024-06-04 00:00:00\n",
      "2024-07-04 00:00:00\n",
      "2024-08-03 00:00:00\n",
      "2024-09-02 00:00:00\n",
      "LDUMAUSDT not retrieved\n",
      "LDTRXUSDT not retrieved\n",
      "LDUMAUSDT\n",
      "LDTRXUSDT\n"
     ]
    }
   ],
   "source": [
    "positions=Binance.get_positions_history(enddate=datetime.datetime.today(),\n",
    "                                        startdate=datetime.datetime(2024,5,5))\n"
   ]
  },
  {
   "cell_type": "code",
   "execution_count": 16,
   "id": "03081ace-41ae-4cc6-8637-36472b4b01a2",
   "metadata": {},
   "outputs": [],
   "source": [
    "positions=positions.sort_index()"
   ]
  },
  {
   "cell_type": "code",
   "execution_count": 17,
   "id": "7f9be1e5-f3e5-4ed6-9408-3a83a3996f73",
   "metadata": {},
   "outputs": [],
   "source": [
    "positions.index=pd.to_datetime(positions.index)"
   ]
  },
  {
   "cell_type": "code",
   "execution_count": 18,
   "id": "5db198b6-761e-42a8-93ae-c9526af6675a",
   "metadata": {},
   "outputs": [],
   "source": [
    "positions=pd.concat([position,positions])\n",
    "positions=positions.loc[~positions.index.duplicated(),:]"
   ]
  },
  {
   "cell_type": "code",
   "execution_count": 19,
   "id": "d132307b-1159-4eaf-9269-a563b817d441",
   "metadata": {},
   "outputs": [],
   "source": [
    "positions.to_excel('Positions.xlsx')"
   ]
  },
  {
   "cell_type": "code",
   "execution_count": 20,
   "id": "977e691e-b906-421f-9903-a2e47a2cba29",
   "metadata": {},
   "outputs": [],
   "source": [
    "positions=positions.interpolate()\n",
    "positions['Total']=positions.sum(axis=1)"
   ]
  },
  {
   "cell_type": "code",
   "execution_count": 21,
   "id": "7024f40c-7ebf-4695-83bc-29f9dd397bda",
   "metadata": {},
   "outputs": [],
   "source": [
    "ptf_tickers=list(positions.columns)\n",
    "ptf_tickers.remove('USDTUSDT')"
   ]
  },
  {
   "cell_type": "code",
   "execution_count": 22,
   "id": "3a9a3051-c255-4f0d-be18-894331cd55c9",
   "metadata": {},
   "outputs": [],
   "source": [
    "weights_ex_post=positions.copy()\n",
    "weights_ex_post=weights_ex_post.drop(columns=['USDTUSDT'])\n",
    "weights_ex_post=weights_ex_post.apply(lambda x: x/weights_ex_post['Total'])"
   ]
  },
  {
   "cell_type": "code",
   "execution_count": 23,
   "id": "e4dc6066-1329-4a65-a66e-476690428ca0",
   "metadata": {},
   "outputs": [
    {
     "name": "stdout",
     "output_type": "stream",
     "text": [
      "LDUMAUSDT not retrieved\n",
      "Total not retrieved\n"
     ]
    }
   ],
   "source": [
    "binance_data=Binance.get_price(ptf_tickers,date=datetime.datetime(2024,5,11))\n",
    "binance_data.index=pd.to_datetime(binance_data.index)\n",
    "binance_data=binance_data.sort_index()\n",
    "binance_data=np.log(1+binance_data.pct_change())\n"
   ]
  },
  {
   "cell_type": "code",
   "execution_count": 24,
   "id": "5622e624-6716-491e-97b8-c9d221f0d700",
   "metadata": {},
   "outputs": [],
   "source": [
    "weight_date=set(weights_ex_post.index)\n",
    "binance_date=binance_data.index"
   ]
  },
  {
   "cell_type": "code",
   "execution_count": 25,
   "id": "7d465985-94d7-4b93-b6bc-66a63b13ae4f",
   "metadata": {},
   "outputs": [],
   "source": [
    "common_date=binance_date.intersection(weight_date)\n",
    "\n",
    "binance_data=binance_data.loc[common_date]"
   ]
  },
  {
   "cell_type": "code",
   "execution_count": 26,
   "id": "5c6c4aa2-0952-478c-b077-6c37ba62d297",
   "metadata": {},
   "outputs": [],
   "source": [
    "historical_ptf=pd.DataFrame()\n",
    "\n",
    "for col in binance_data:\n",
    "    historical_ptf[col]=weights_ex_post[col]*binance_data[col]\n",
    "    \n",
    "historical_ptf['Historical Portfolio']=historical_ptf.sum(axis=1)"
   ]
  },
  {
   "cell_type": "code",
   "execution_count": 27,
   "id": "c58b1420-5345-4feb-af42-6f019cfdf19c",
   "metadata": {},
   "outputs": [
    {
     "data": {
      "text/plain": [
       "<AxesSubplot:>"
      ]
     },
     "execution_count": 27,
     "metadata": {},
     "output_type": "execute_result"
    },
    {
     "data": {
      "image/png": "[encoded data removed]",
      "text/plain": [
       "<Figure size 432x288 with 1 Axes>"
      ]
     },
     "metadata": {
      "needs_background": "light"
     },
     "output_type": "display_data"
    }
   ],
   "source": [
    "#historical_ptf.dropna(axis = 0, how = 'all', inplace = True)\n",
    "\n",
    "(1+historical_ptf['Historical Portfolio']).cumprod().plot()"
   ]
  },
  {
   "cell_type": "markdown",
   "id": "234cc405-16b8-4ea6-89f9-bf448d837670",
   "metadata": {},
   "source": [
    "## Ex ante data"
   ]
  },
  {
   "cell_type": "code",
   "execution_count": 28,
   "id": "027c07a0-4c8e-45da-a97d-8cf833597a5f",
   "metadata": {},
   "outputs": [],
   "source": [
    "ex_ante_ptf=ex_ante_perf.copy()\n",
    "\n",
    "for key in inventory_weights.keys():\n",
    "    \n",
    "    ex_ante_ptf[key]=ex_ante_perf[key]*inventory_weights[key]\n",
    "\n",
    "ex_ante_ptf=pd.DataFrame(ex_ante_ptf.sum(axis=1))"
   ]
  },
  {
   "cell_type": "markdown",
   "id": "bbec8b12-d681-4704-a561-9718fbb872e0",
   "metadata": {},
   "source": [
    "# Portfolio Optimization"
   ]
  },
  {
   "cell_type": "markdown",
   "id": "16adc40b-d589-4193-8148-7e7dae06dc7e",
   "metadata": {},
   "source": [
    "## Class set up"
   ]
  },
  {
   "cell_type": "code",
   "execution_count": 29,
   "id": "f27106c8-0433-477e-b0bf-6ca9249004b4",
   "metadata": {},
   "outputs": [],
   "source": [
    "historical_risk=RiskAnalysis(returns_to_use)\n",
    "current_risk=RiskAnalysis(ex_ante_perf_to_use.iloc[:])\n",
    "num_asset=len(returns_to_use.columns)\n",
    "num_asset_current=len(ex_ante_perf_to_use.columns)"
   ]
  },
  {
   "cell_type": "code",
   "execution_count": 30,
   "id": "f55211bf-ba25-4066-a0d2-6cf0ef658786",
   "metadata": {},
   "outputs": [
    {
     "data": {
      "text/plain": [
       "Index(['AAVEUSDT', 'ADAUSDT', 'ALGOUSDT', 'APTUSDT', 'ARBUSDT', 'ARUSDT',\n",
       "       'ATOMUSDT', 'AVAXUSDT', 'AXSUSDT', 'BCHUSDT', 'BNBUSDT', 'BONKUSDT',\n",
       "       'BTCUSDT', 'CFXUSDT', 'CKBUSDT', 'DOGEUSDT', 'DOTUSDT', 'EGLDUSDT',\n",
       "       'EOSUSDT', 'ETCUSDT', 'ETHUSDT', 'FDUSDUSDT', 'FETUSDT', 'FILUSDT',\n",
       "       'FLOKIUSDT', 'FLOWUSDT', 'FTMUSDT', 'GALAUSDT', 'GRTUSDT', 'HBARUSDT',\n",
       "       'ICPUSDT', 'IMXUSDT', 'INJUSDT', 'JASMYUSDT', 'LDOUSDT', 'LINKUSDT',\n",
       "       'LTCUSDT', 'MKRUSDT', 'NEARUSDT', 'NEOUSDT', 'OMUSDT', 'OPUSDT',\n",
       "       'ORDIUSDT', 'PEPEUSDT', 'QNTUSDT', 'RUNEUSDT', 'SANDUSDT', 'SEIUSDT',\n",
       "       'SHIBUSDT', 'SOLUSDT', 'STXUSDT', 'SUIUSDT', 'THETAUSDT', 'TIAUSDT',\n",
       "       'TRXUSDT', 'UNIUSDT', 'USDCUSDT', 'VETUSDT', 'WBETHUSDT', 'WBTCUSDT',\n",
       "       'WLDUSDT', 'XECUSDT', 'XLMUSDT', 'XRPUSDT', 'XTZUSDT'],\n",
       "      dtype='object')"
      ]
     },
     "execution_count": 30,
     "metadata": {},
     "output_type": "execute_result"
    }
   ],
   "source": [
    "returns_to_use.columns"
   ]
  },
  {
   "cell_type": "code",
   "execution_count": 31,
   "id": "eb382de7-0a0b-47f9-83a4-777aef62e9a6",
   "metadata": {},
   "outputs": [],
   "source": [
    "limit_hist=np.where(returns_to_use.columns=='BTCUSDT')[0][0],np.where(returns_to_use.columns=='ETHUSDT')[0][0],np.where(returns_to_use.columns=='SOLUSDT')[0][0]"
   ]
  },
  {
   "cell_type": "markdown",
   "id": "fd2fa57d-de01-4917-8d08-d33930572316",
   "metadata": {},
   "source": [
    "## Optimal Portfolio"
   ]
  },
  {
   "cell_type": "code",
   "execution_count": 32,
   "id": "05eee256-a57c-4cc6-b16c-738b2315f37c",
   "metadata": {},
   "outputs": [
    {
     "data": {
      "text/html": [
       "<div>\n",
       "<style scoped>\n",
       "    .dataframe tbody tr th:only-of-type {\n",
       "        vertical-align: middle;\n",
       "    }\n",
       "\n",
       "    .dataframe tbody tr th {\n",
       "        vertical-align: top;\n",
       "    }\n",
       "\n",
       "    .dataframe thead th {\n",
       "        text-align: right;\n",
       "    }\n",
       "</style>\n",
       "<table border=\"1\" class=\"dataframe\">\n",
       "  <thead>\n",
       "    <tr style=\"text-align: right;\">\n",
       "      <th></th>\n",
       "      <th>Optimal Weights</th>\n",
       "    </tr>\n",
       "  </thead>\n",
       "  <tbody>\n",
       "    <tr>\n",
       "      <th>USDCUSDT</th>\n",
       "      <td>0.9360</td>\n",
       "    </tr>\n",
       "    <tr>\n",
       "      <th>OMUSDT</th>\n",
       "      <td>0.0233</td>\n",
       "    </tr>\n",
       "    <tr>\n",
       "      <th>BNBUSDT</th>\n",
       "      <td>0.0210</td>\n",
       "    </tr>\n",
       "    <tr>\n",
       "      <th>TRXUSDT</th>\n",
       "      <td>0.0122</td>\n",
       "    </tr>\n",
       "    <tr>\n",
       "      <th>PEPEUSDT</th>\n",
       "      <td>0.0041</td>\n",
       "    </tr>\n",
       "    <tr>\n",
       "      <th>JASMYUSDT</th>\n",
       "      <td>0.0028</td>\n",
       "    </tr>\n",
       "    <tr>\n",
       "      <th>CKBUSDT</th>\n",
       "      <td>0.0007</td>\n",
       "    </tr>\n",
       "    <tr>\n",
       "      <th>BONKUSDT</th>\n",
       "      <td>0.0000</td>\n",
       "    </tr>\n",
       "    <tr>\n",
       "      <th>DOTUSDT</th>\n",
       "      <td>0.0000</td>\n",
       "    </tr>\n",
       "    <tr>\n",
       "      <th>ETCUSDT</th>\n",
       "      <td>0.0000</td>\n",
       "    </tr>\n",
       "  </tbody>\n",
       "</table>\n",
       "</div>"
      ],
      "text/plain": [
       "           Optimal Weights\n",
       "USDCUSDT            0.9360\n",
       "OMUSDT              0.0233\n",
       "BNBUSDT             0.0210\n",
       "TRXUSDT             0.0122\n",
       "PEPEUSDT            0.0041\n",
       "JASMYUSDT           0.0028\n",
       "CKBUSDT             0.0007\n",
       "BONKUSDT            0.0000\n",
       "DOTUSDT             0.0000\n",
       "ETCUSDT             0.0000"
      ]
     },
     "execution_count": 32,
     "metadata": {},
     "output_type": "execute_result"
    }
   ],
   "source": [
    "opt_weights=historical_risk.optimize(objective=\"sharpe_ratio\")\n",
    "inventory=historical_risk.inventory(opt_weights)\n",
    "inventory.columns=['Optimal Weights']\n",
    "\n",
    "inventory.iloc[:10].round(4)"
   ]
  },
  {
   "cell_type": "code",
   "execution_count": 33,
   "id": "8c58779c-ef34-4f61-9feb-8f30157d7333",
   "metadata": {},
   "outputs": [
    {
     "data": {
      "text/html": [
       "<div>\n",
       "<style scoped>\n",
       "    .dataframe tbody tr th:only-of-type {\n",
       "        vertical-align: middle;\n",
       "    }\n",
       "\n",
       "    .dataframe tbody tr th {\n",
       "        vertical-align: top;\n",
       "    }\n",
       "\n",
       "    .dataframe thead th {\n",
       "        text-align: right;\n",
       "    }\n",
       "</style>\n",
       "<table border=\"1\" class=\"dataframe\">\n",
       "  <thead>\n",
       "    <tr style=\"text-align: right;\">\n",
       "      <th></th>\n",
       "      <th>Optimal Weights</th>\n",
       "    </tr>\n",
       "  </thead>\n",
       "  <tbody>\n",
       "    <tr>\n",
       "      <th>OMUSDT</th>\n",
       "      <td>0.436345</td>\n",
       "    </tr>\n",
       "    <tr>\n",
       "      <th>BTCUSDT</th>\n",
       "      <td>0.400000</td>\n",
       "    </tr>\n",
       "    <tr>\n",
       "      <th>BNBUSDT</th>\n",
       "      <td>0.100539</td>\n",
       "    </tr>\n",
       "    <tr>\n",
       "      <th>PEPEUSDT</th>\n",
       "      <td>0.040648</td>\n",
       "    </tr>\n",
       "    <tr>\n",
       "      <th>JASMYUSDT</th>\n",
       "      <td>0.022468</td>\n",
       "    </tr>\n",
       "  </tbody>\n",
       "</table>\n",
       "</div>"
      ],
      "text/plain": [
       "           Optimal Weights\n",
       "OMUSDT            0.436345\n",
       "BTCUSDT           0.400000\n",
       "BNBUSDT           0.100539\n",
       "PEPEUSDT          0.040648\n",
       "JASMYUSDT         0.022468"
      ]
     },
     "execution_count": 33,
     "metadata": {},
     "output_type": "execute_result"
    }
   ],
   "source": [
    "opt_weights=historical_risk.optimize(objective=\"sharpe_ratio\",constraints=[{'type': 'ineq', 'fun': lambda weights: weights[limit_hist[0]]-0.40}])\n",
    "                                                         #  ,{'type': 'ineq', 'fun': lambda weights: weights[limit[1]]-0.15},\n",
    "                                                        #{'type': 'ineq', 'fun': lambda weights: weights[limit[2]]-0.15}])\n",
    "opt_weights=np.round(opt_weights,6)\n",
    "inventory=historical_risk.inventory(opt_weights)\n",
    "inventory.columns=['Optimal Weights']\n",
    "\n",
    "inventory"
   ]
  },
  {
   "cell_type": "code",
   "execution_count": 34,
   "id": "81a3f562-6810-4e1b-91d1-a7282a3ff347",
   "metadata": {},
   "outputs": [],
   "source": [
    "limit=np.where(ex_ante_perf_to_use.columns=='BTCUSDT')[0][0],np.where(ex_ante_perf_to_use.columns=='ETHUSDT')[0][0],np.where(ex_ante_perf_to_use.columns=='SOLUSDT')[0][0]"
   ]
  },
  {
   "cell_type": "code",
   "execution_count": 35,
   "id": "75be66f1-0ad0-41c8-8807-16e73d711edf",
   "metadata": {},
   "outputs": [
    {
     "data": {
      "text/html": [
       "<div>\n",
       "<style scoped>\n",
       "    .dataframe tbody tr th:only-of-type {\n",
       "        vertical-align: middle;\n",
       "    }\n",
       "\n",
       "    .dataframe tbody tr th {\n",
       "        vertical-align: top;\n",
       "    }\n",
       "\n",
       "    .dataframe thead th {\n",
       "        text-align: right;\n",
       "    }\n",
       "</style>\n",
       "<table border=\"1\" class=\"dataframe\">\n",
       "  <thead>\n",
       "    <tr style=\"text-align: right;\">\n",
       "      <th></th>\n",
       "      <th>Optimal Weights</th>\n",
       "    </tr>\n",
       "  </thead>\n",
       "  <tbody>\n",
       "    <tr>\n",
       "      <th>TRXUSDT</th>\n",
       "      <td>0.736669</td>\n",
       "    </tr>\n",
       "    <tr>\n",
       "      <th>OMUSDT</th>\n",
       "      <td>0.263331</td>\n",
       "    </tr>\n",
       "  </tbody>\n",
       "</table>\n",
       "</div>"
      ],
      "text/plain": [
       "         Optimal Weights\n",
       "TRXUSDT         0.736669\n",
       "OMUSDT          0.263331"
      ]
     },
     "execution_count": 35,
     "metadata": {},
     "output_type": "execute_result"
    }
   ],
   "source": [
    "current_optimal_weights=current_risk.optimize(objective=\"sharpe_ratio\")#,constraints=[{'type': 'ineq', 'fun': lambda weights: weights[limit[0]]-0.40}])\n",
    "                                                           #,{'type': 'ineq', 'fun': lambda weights: weights[limit[1]]-0.15},\n",
    "                                                            #{'type': 'ineq', 'fun': lambda weights: weights[limit[2]]-0.15}])\n",
    "current_optimal_weights=np.round(current_optimal_weights,6)\n",
    "optimal_ptf_current=current_risk.inventory(current_optimal_weights)\n",
    "optimal_ptf_current.columns=['Optimal Weights']\n",
    "optimal_ptf_current"
   ]
  },
  {
   "cell_type": "markdown",
   "id": "555e4cdf-3f8d-445a-b5d7-e35eb59aa4b2",
   "metadata": {},
   "source": [
    "## Real Portfolio vs Optimal"
   ]
  },
  {
   "cell_type": "code",
   "execution_count": 36,
   "id": "1f55a04d-3575-446a-a801-7824e452dd57",
   "metadata": {},
   "outputs": [
    {
     "data": {
      "text/html": [
       "<div>\n",
       "<style scoped>\n",
       "    .dataframe tbody tr th:only-of-type {\n",
       "        vertical-align: middle;\n",
       "    }\n",
       "\n",
       "    .dataframe tbody tr th {\n",
       "        vertical-align: top;\n",
       "    }\n",
       "\n",
       "    .dataframe thead th {\n",
       "        text-align: right;\n",
       "    }\n",
       "</style>\n",
       "<table border=\"1\" class=\"dataframe\">\n",
       "  <thead>\n",
       "    <tr style=\"text-align: right;\">\n",
       "      <th></th>\n",
       "      <th>Price in USDT</th>\n",
       "      <th>Weights</th>\n",
       "      <th>Optimal Weights</th>\n",
       "      <th>Spread</th>\n",
       "    </tr>\n",
       "  </thead>\n",
       "  <tbody>\n",
       "    <tr>\n",
       "      <th>BTCUSDT</th>\n",
       "      <td>564.839078</td>\n",
       "      <td>0.285152</td>\n",
       "      <td>0.000000</td>\n",
       "      <td>0.000000</td>\n",
       "    </tr>\n",
       "    <tr>\n",
       "      <th>OMUSDT</th>\n",
       "      <td>548.718658</td>\n",
       "      <td>0.277014</td>\n",
       "      <td>0.263331</td>\n",
       "      <td>0.013683</td>\n",
       "    </tr>\n",
       "    <tr>\n",
       "      <th>JASMYUSDT</th>\n",
       "      <td>296.795322</td>\n",
       "      <td>0.149834</td>\n",
       "      <td>0.000000</td>\n",
       "      <td>0.000000</td>\n",
       "    </tr>\n",
       "    <tr>\n",
       "      <th>SOLUSDT</th>\n",
       "      <td>271.556505</td>\n",
       "      <td>0.137092</td>\n",
       "      <td>0.000000</td>\n",
       "      <td>0.000000</td>\n",
       "    </tr>\n",
       "    <tr>\n",
       "      <th>ETHUSDT</th>\n",
       "      <td>181.602301</td>\n",
       "      <td>0.091680</td>\n",
       "      <td>0.000000</td>\n",
       "      <td>0.000000</td>\n",
       "    </tr>\n",
       "    <tr>\n",
       "      <th>TRXUSDT</th>\n",
       "      <td>73.245102</td>\n",
       "      <td>0.036977</td>\n",
       "      <td>0.736669</td>\n",
       "      <td>-0.699692</td>\n",
       "    </tr>\n",
       "    <tr>\n",
       "      <th>BBUSDT</th>\n",
       "      <td>43.060871</td>\n",
       "      <td>0.021739</td>\n",
       "      <td>0.000000</td>\n",
       "      <td>0.000000</td>\n",
       "    </tr>\n",
       "    <tr>\n",
       "      <th>BNBUSDT</th>\n",
       "      <td>1.016885</td>\n",
       "      <td>0.000513</td>\n",
       "      <td>0.000000</td>\n",
       "      <td>0.000000</td>\n",
       "    </tr>\n",
       "    <tr>\n",
       "      <th>PEPEUSDT</th>\n",
       "      <td>0.000002</td>\n",
       "      <td>0.000000</td>\n",
       "      <td>0.000000</td>\n",
       "      <td>0.000000</td>\n",
       "    </tr>\n",
       "  </tbody>\n",
       "</table>\n",
       "</div>"
      ],
      "text/plain": [
       "           Price in USDT   Weights  Optimal Weights    Spread\n",
       "BTCUSDT       564.839078  0.285152         0.000000  0.000000\n",
       "OMUSDT        548.718658  0.277014         0.263331  0.013683\n",
       "JASMYUSDT     296.795322  0.149834         0.000000  0.000000\n",
       "SOLUSDT       271.556505  0.137092         0.000000  0.000000\n",
       "ETHUSDT       181.602301  0.091680         0.000000  0.000000\n",
       "TRXUSDT        73.245102  0.036977         0.736669 -0.699692\n",
       "BBUSDT         43.060871  0.021739         0.000000  0.000000\n",
       "BNBUSDT         1.016885  0.000513         0.000000  0.000000\n",
       "PEPEUSDT        0.000002  0.000000         0.000000  0.000000"
      ]
     },
     "execution_count": 36,
     "metadata": {},
     "output_type": "execute_result"
    }
   ],
   "source": [
    "current_holding_comparison=holding.copy()\n",
    "current_holding_comparison=current_holding_comparison.loc[current_holding_comparison.index!=\"Total\"]\n",
    "current_holding_comparison=pd.concat([current_holding_comparison,optimal_ptf_current],axis=1)\n",
    "current_holding_comparison['Spread']=current_holding_comparison['Weights']-current_holding_comparison['Optimal Weights']\n",
    "current_holding_comparison['Weights']=current_holding_comparison['Weights'].round(7)\n",
    "current_holding_comparison=current_holding_comparison.fillna(0)\n",
    "current_holding_comparison"
   ]
  },
  {
   "cell_type": "code",
   "execution_count": 37,
   "id": "c02b695b-bfaa-4eef-9212-e0b2717db2a0",
   "metadata": {},
   "outputs": [
    {
     "data": {
      "text/html": [
       "<div>\n",
       "<style scoped>\n",
       "    .dataframe tbody tr th:only-of-type {\n",
       "        vertical-align: middle;\n",
       "    }\n",
       "\n",
       "    .dataframe tbody tr th {\n",
       "        vertical-align: top;\n",
       "    }\n",
       "\n",
       "    .dataframe thead th {\n",
       "        text-align: right;\n",
       "    }\n",
       "</style>\n",
       "<table border=\"1\" class=\"dataframe\">\n",
       "  <thead>\n",
       "    <tr style=\"text-align: right;\">\n",
       "      <th></th>\n",
       "      <th>Price in USDT</th>\n",
       "      <th>Weights</th>\n",
       "      <th>Optimal Weights</th>\n",
       "      <th>Spread</th>\n",
       "    </tr>\n",
       "  </thead>\n",
       "  <tbody>\n",
       "    <tr>\n",
       "      <th>BTCUSDT</th>\n",
       "      <td>564.839078</td>\n",
       "      <td>0.285152</td>\n",
       "      <td>0.400000</td>\n",
       "      <td>-0.114848</td>\n",
       "    </tr>\n",
       "    <tr>\n",
       "      <th>OMUSDT</th>\n",
       "      <td>548.718658</td>\n",
       "      <td>0.277014</td>\n",
       "      <td>0.436345</td>\n",
       "      <td>-0.159331</td>\n",
       "    </tr>\n",
       "    <tr>\n",
       "      <th>JASMYUSDT</th>\n",
       "      <td>296.795322</td>\n",
       "      <td>0.149834</td>\n",
       "      <td>0.022468</td>\n",
       "      <td>0.127365</td>\n",
       "    </tr>\n",
       "    <tr>\n",
       "      <th>SOLUSDT</th>\n",
       "      <td>271.556505</td>\n",
       "      <td>0.137092</td>\n",
       "      <td>0.000000</td>\n",
       "      <td>0.000000</td>\n",
       "    </tr>\n",
       "    <tr>\n",
       "      <th>ETHUSDT</th>\n",
       "      <td>181.602301</td>\n",
       "      <td>0.091680</td>\n",
       "      <td>0.000000</td>\n",
       "      <td>0.000000</td>\n",
       "    </tr>\n",
       "    <tr>\n",
       "      <th>TRXUSDT</th>\n",
       "      <td>73.245102</td>\n",
       "      <td>0.036977</td>\n",
       "      <td>0.000000</td>\n",
       "      <td>0.000000</td>\n",
       "    </tr>\n",
       "    <tr>\n",
       "      <th>BBUSDT</th>\n",
       "      <td>43.060871</td>\n",
       "      <td>0.021739</td>\n",
       "      <td>0.000000</td>\n",
       "      <td>0.000000</td>\n",
       "    </tr>\n",
       "    <tr>\n",
       "      <th>BNBUSDT</th>\n",
       "      <td>1.016885</td>\n",
       "      <td>0.000513</td>\n",
       "      <td>0.100539</td>\n",
       "      <td>-0.100026</td>\n",
       "    </tr>\n",
       "    <tr>\n",
       "      <th>PEPEUSDT</th>\n",
       "      <td>0.000002</td>\n",
       "      <td>0.000000</td>\n",
       "      <td>0.040648</td>\n",
       "      <td>-0.040648</td>\n",
       "    </tr>\n",
       "  </tbody>\n",
       "</table>\n",
       "</div>"
      ],
      "text/plain": [
       "           Price in USDT   Weights  Optimal Weights    Spread\n",
       "BTCUSDT       564.839078  0.285152         0.400000 -0.114848\n",
       "OMUSDT        548.718658  0.277014         0.436345 -0.159331\n",
       "JASMYUSDT     296.795322  0.149834         0.022468  0.127365\n",
       "SOLUSDT       271.556505  0.137092         0.000000  0.000000\n",
       "ETHUSDT       181.602301  0.091680         0.000000  0.000000\n",
       "TRXUSDT        73.245102  0.036977         0.000000  0.000000\n",
       "BBUSDT         43.060871  0.021739         0.000000  0.000000\n",
       "BNBUSDT         1.016885  0.000513         0.100539 -0.100026\n",
       "PEPEUSDT        0.000002  0.000000         0.040648 -0.040648"
      ]
     },
     "execution_count": 37,
     "metadata": {},
     "output_type": "execute_result"
    }
   ],
   "source": [
    "historical_comparison=holding.copy()\n",
    "historical_comparison=historical_comparison.loc[historical_comparison.index!=\"Total\"]\n",
    "historical_comparison=pd.concat([historical_comparison,inventory],axis=1)\n",
    "historical_comparison['Spread']=historical_comparison['Weights']-historical_comparison['Optimal Weights']\n",
    "historical_comparison['Weights']=historical_comparison['Weights'].round(7)\n",
    "historical_comparison=historical_comparison.fillna(0)\n",
    "historical_comparison"
   ]
  },
  {
   "cell_type": "markdown",
   "id": "e764e7c3-19aa-4638-bd23-a2ec30f727c6",
   "metadata": {},
   "source": [
    "# Risk Reward Analysis"
   ]
  },
  {
   "cell_type": "code",
   "execution_count": 38,
   "id": "7290db47-647c-4950-95e9-078b23d37888",
   "metadata": {},
   "outputs": [],
   "source": [
    "opt_ptf=(returns_to_use*opt_weights).sum(axis=1)\n",
    "curr_opt_ptf=(ex_ante_perf*current_optimal_weights).sum(axis=1)\n",
    "portfolio_perf=pd.DataFrame()\n",
    "portfolio_perf['Portfolio']=(ex_ante_perf*current_weights).sum(axis=1)"
   ]
  },
  {
   "cell_type": "code",
   "execution_count": 39,
   "id": "7a7b7f35-933b-4a67-af34-67d3f58c0f57",
   "metadata": {},
   "outputs": [],
   "source": [
    "portfolio_perf['Bitcoin']=returns['BTCUSDT']\n",
    "portfolio_perf['Optimal']=opt_ptf\n",
    "portfolio_perf['Current Optimal']=curr_opt_ptf"
   ]
  },
  {
   "cell_type": "code",
   "execution_count": 40,
   "id": "70752cdf-305d-4814-b99a-2c21effe6cf5",
   "metadata": {},
   "outputs": [
    {
     "data": {
      "text/plain": [
       "<AxesSubplot:>"
      ]
     },
     "execution_count": 40,
     "metadata": {},
     "output_type": "execute_result"
    },
    {
     "data": {
      "image/png": "[encoded data removed]",
      "text/plain": [
       "<Figure size 432x288 with 1 Axes>"
      ]
     },
     "metadata": {
      "needs_background": "light"
     },
     "output_type": "display_data"
    }
   ],
   "source": [
    "(1+portfolio_perf.loc[:]).cumprod().plot()"
   ]
  },
  {
   "cell_type": "code",
   "execution_count": 41,
   "id": "83bf55a4-5fe4-48a7-af9b-89d4d8de4824",
   "metadata": {},
   "outputs": [],
   "source": [
    "current_perf=portfolio_perf.copy()\n",
    "current_perf=current_perf.loc[historical_ptf.index]\n",
    "current_perf['Historical Portfolio']=historical_ptf['Historical Portfolio']"
   ]
  },
  {
   "cell_type": "code",
   "execution_count": 42,
   "id": "4d17e532-f112-4c6b-a891-1d03f0b5d647",
   "metadata": {},
   "outputs": [
    {
     "data": {
      "text/plain": [
       "<AxesSubplot:>"
      ]
     },
     "execution_count": 42,
     "metadata": {},
     "output_type": "execute_result"
    },
    {
     "data": {
      "image/png": "[encoded data removed]",
      "text/plain": [
       "<Figure size 432x288 with 1 Axes>"
      ]
     },
     "metadata": {
      "needs_background": "light"
     },
     "output_type": "display_data"
    }
   ],
   "source": [
    "((1+current_perf.iloc[:]).cumprod()*100).plot()"
   ]
  },
  {
   "cell_type": "code",
   "execution_count": 43,
   "id": "21f2d4e1-1681-4132-aeea-7125d188f981",
   "metadata": {},
   "outputs": [
    {
     "data": {
      "text/html": [
       "<div>\n",
       "<style scoped>\n",
       "    .dataframe tbody tr th:only-of-type {\n",
       "        vertical-align: middle;\n",
       "    }\n",
       "\n",
       "    .dataframe tbody tr th {\n",
       "        vertical-align: top;\n",
       "    }\n",
       "\n",
       "    .dataframe thead th {\n",
       "        text-align: right;\n",
       "    }\n",
       "</style>\n",
       "<table border=\"1\" class=\"dataframe\">\n",
       "  <thead>\n",
       "    <tr style=\"text-align: right;\">\n",
       "      <th></th>\n",
       "      <th>Portfolio</th>\n",
       "      <th>Bitcoin</th>\n",
       "      <th>Optimal</th>\n",
       "      <th>Current Optimal</th>\n",
       "      <th>Historical Portfolio</th>\n",
       "    </tr>\n",
       "  </thead>\n",
       "  <tbody>\n",
       "    <tr>\n",
       "      <th>2024-09-15</th>\n",
       "      <td>86.587017</td>\n",
       "      <td>83.895897</td>\n",
       "      <td>98.463802</td>\n",
       "      <td>124.053709</td>\n",
       "      <td>73.650513</td>\n",
       "    </tr>\n",
       "    <tr>\n",
       "      <th>2024-09-16</th>\n",
       "      <td>85.520527</td>\n",
       "      <td>82.583217</td>\n",
       "      <td>96.769384</td>\n",
       "      <td>123.553986</td>\n",
       "      <td>72.860240</td>\n",
       "    </tr>\n",
       "    <tr>\n",
       "      <th>2024-09-17</th>\n",
       "      <td>86.866792</td>\n",
       "      <td>85.509833</td>\n",
       "      <td>98.165790</td>\n",
       "      <td>123.967787</td>\n",
       "      <td>74.288060</td>\n",
       "    </tr>\n",
       "    <tr>\n",
       "      <th>2024-09-18</th>\n",
       "      <td>90.410279</td>\n",
       "      <td>87.535703</td>\n",
       "      <td>103.351879</td>\n",
       "      <td>126.653368</td>\n",
       "      <td>76.578064</td>\n",
       "    </tr>\n",
       "    <tr>\n",
       "      <th>2024-09-19</th>\n",
       "      <td>91.838387</td>\n",
       "      <td>89.203528</td>\n",
       "      <td>103.372302</td>\n",
       "      <td>126.933449</td>\n",
       "      <td>78.100735</td>\n",
       "    </tr>\n",
       "    <tr>\n",
       "      <th>2024-09-20</th>\n",
       "      <td>93.550667</td>\n",
       "      <td>89.561420</td>\n",
       "      <td>105.508594</td>\n",
       "      <td>128.560222</td>\n",
       "      <td>79.257782</td>\n",
       "    </tr>\n",
       "    <tr>\n",
       "      <th>2024-09-21</th>\n",
       "      <td>94.562914</td>\n",
       "      <td>89.770777</td>\n",
       "      <td>106.534840</td>\n",
       "      <td>128.893247</td>\n",
       "      <td>80.041385</td>\n",
       "    </tr>\n",
       "    <tr>\n",
       "      <th>2024-09-22</th>\n",
       "      <td>92.990673</td>\n",
       "      <td>90.095833</td>\n",
       "      <td>105.133536</td>\n",
       "      <td>127.765338</td>\n",
       "      <td>78.955810</td>\n",
       "    </tr>\n",
       "    <tr>\n",
       "      <th>2024-09-23</th>\n",
       "      <td>94.902564</td>\n",
       "      <td>89.756842</td>\n",
       "      <td>106.732961</td>\n",
       "      <td>129.048906</td>\n",
       "      <td>80.384976</td>\n",
       "    </tr>\n",
       "    <tr>\n",
       "      <th>2024-09-24</th>\n",
       "      <td>95.967916</td>\n",
       "      <td>91.054949</td>\n",
       "      <td>106.981170</td>\n",
       "      <td>127.912319</td>\n",
       "      <td>81.362290</td>\n",
       "    </tr>\n",
       "  </tbody>\n",
       "</table>\n",
       "</div>"
      ],
      "text/plain": [
       "            Portfolio    Bitcoin     Optimal  Current Optimal  \\\n",
       "2024-09-15  86.587017  83.895897   98.463802       124.053709   \n",
       "2024-09-16  85.520527  82.583217   96.769384       123.553986   \n",
       "2024-09-17  86.866792  85.509833   98.165790       123.967787   \n",
       "2024-09-18  90.410279  87.535703  103.351879       126.653368   \n",
       "2024-09-19  91.838387  89.203528  103.372302       126.933449   \n",
       "2024-09-20  93.550667  89.561420  105.508594       128.560222   \n",
       "2024-09-21  94.562914  89.770777  106.534840       128.893247   \n",
       "2024-09-22  92.990673  90.095833  105.133536       127.765338   \n",
       "2024-09-23  94.902564  89.756842  106.732961       129.048906   \n",
       "2024-09-24  95.967916  91.054949  106.981170       127.912319   \n",
       "\n",
       "            Historical Portfolio  \n",
       "2024-09-15             73.650513  \n",
       "2024-09-16             72.860240  \n",
       "2024-09-17             74.288060  \n",
       "2024-09-18             76.578064  \n",
       "2024-09-19             78.100735  \n",
       "2024-09-20             79.257782  \n",
       "2024-09-21             80.041385  \n",
       "2024-09-22             78.955810  \n",
       "2024-09-23             80.384976  \n",
       "2024-09-24             81.362290  "
      ]
     },
     "execution_count": 43,
     "metadata": {},
     "output_type": "execute_result"
    }
   ],
   "source": [
    "((1+current_perf).cumprod()*100).iloc[-10:]"
   ]
  },
  {
   "cell_type": "markdown",
   "id": "7992e950-2f84-4f07-8b9f-3e343e0f0df3",
   "metadata": {},
   "source": [
    "## Volatilities"
   ]
  },
  {
   "cell_type": "code",
   "execution_count": 44,
   "id": "311f0004-e145-4fc5-8766-ca40d8f08e29",
   "metadata": {},
   "outputs": [
    {
     "data": {
      "text/plain": [
       "Portfolio    0.683762\n",
       "dtype: float64"
      ]
     },
     "execution_count": 44,
     "metadata": {},
     "output_type": "execute_result"
    }
   ],
   "source": [
    "vol=historical_risk.portfolio(opt_weights).std()*np.sqrt(252)\n",
    "\n",
    "vol"
   ]
  },
  {
   "cell_type": "code",
   "execution_count": 45,
   "id": "7741abc3-75be-4948-b6f7-6024b48ced93",
   "metadata": {},
   "outputs": [
    {
     "data": {
      "text/plain": [
       "Portfolio    0.54969\n",
       "dtype: float64"
      ]
     },
     "execution_count": 45,
     "metadata": {},
     "output_type": "execute_result"
    }
   ],
   "source": [
    "vol=current_risk.portfolio(current_weights).std()*np.sqrt(252)\n",
    "\n",
    "vol"
   ]
  },
  {
   "cell_type": "code",
   "execution_count": 46,
   "id": "c1bc68d5-494d-4064-9958-9b280c70a8a3",
   "metadata": {},
   "outputs": [
    {
     "data": {
      "text/plain": [
       "Portfolio          0.596257\n",
       "Bitcoin            0.442476\n",
       "Optimal            0.684874\n",
       "Current Optimal    0.427257\n",
       "dtype: float64"
      ]
     },
     "execution_count": 46,
     "metadata": {},
     "output_type": "execute_result"
    }
   ],
   "source": [
    "portfolio_perf.iloc[1:].std()*np.sqrt(252)"
   ]
  },
  {
   "cell_type": "code",
   "execution_count": 47,
   "id": "df99b746-dc9d-4c5c-b005-432bba654f31",
   "metadata": {},
   "outputs": [
    {
     "data": {
      "text/plain": [
       "0.24610545729851008"
      ]
     },
     "execution_count": 47,
     "metadata": {},
     "output_type": "execute_result"
    }
   ],
   "source": [
    "current_risk.tracking_error(current_risk.returns['BTCUSDT'],current_perf['Historical Portfolio'])"
   ]
  },
  {
   "cell_type": "markdown",
   "id": "c72a30da-fc11-412e-8182-6f508f5dc3dd",
   "metadata": {},
   "source": [
    "## Risk Contribution"
   ]
  },
  {
   "cell_type": "code",
   "execution_count": 48,
   "id": "40861589-c4a1-4c54-9bbc-e1035f32c5a1",
   "metadata": {},
   "outputs": [
    {
     "data": {
      "text/html": [
       "<div>\n",
       "<style scoped>\n",
       "    .dataframe tbody tr th:only-of-type {\n",
       "        vertical-align: middle;\n",
       "    }\n",
       "\n",
       "    .dataframe tbody tr th {\n",
       "        vertical-align: top;\n",
       "    }\n",
       "\n",
       "    .dataframe thead th {\n",
       "        text-align: right;\n",
       "    }\n",
       "</style>\n",
       "<table border=\"1\" class=\"dataframe\">\n",
       "  <thead>\n",
       "    <tr style=\"text-align: right;\">\n",
       "      <th></th>\n",
       "      <th>Performance Contribution</th>\n",
       "      <th>Initial Weights</th>\n",
       "      <th>Last Weights</th>\n",
       "      <th>Variance Contribution in %</th>\n",
       "      <th>Idiosyncratic Risk in %</th>\n",
       "      <th>Correlation in %</th>\n",
       "    </tr>\n",
       "  </thead>\n",
       "  <tbody>\n",
       "    <tr>\n",
       "      <th>BNBUSDT</th>\n",
       "      <td>0.128098</td>\n",
       "      <td>0.100539</td>\n",
       "      <td>0.023209</td>\n",
       "      <td>0.033702</td>\n",
       "      <td>0.005223</td>\n",
       "      <td>0.028479</td>\n",
       "    </tr>\n",
       "    <tr>\n",
       "      <th>BTCUSDT</th>\n",
       "      <td>0.202471</td>\n",
       "      <td>0.400000</td>\n",
       "      <td>0.061157</td>\n",
       "      <td>0.167977</td>\n",
       "      <td>0.066785</td>\n",
       "      <td>0.101192</td>\n",
       "    </tr>\n",
       "    <tr>\n",
       "      <th>JASMYUSDT</th>\n",
       "      <td>0.032161</td>\n",
       "      <td>0.022468</td>\n",
       "      <td>0.005545</td>\n",
       "      <td>0.013676</td>\n",
       "      <td>0.001273</td>\n",
       "      <td>0.012404</td>\n",
       "    </tr>\n",
       "    <tr>\n",
       "      <th>OMUSDT</th>\n",
       "      <td>8.403890</td>\n",
       "      <td>0.436345</td>\n",
       "      <td>0.897372</td>\n",
       "      <td>0.750171</td>\n",
       "      <td>0.647137</td>\n",
       "      <td>0.103034</td>\n",
       "    </tr>\n",
       "    <tr>\n",
       "      <th>PEPEUSDT</th>\n",
       "      <td>0.084631</td>\n",
       "      <td>0.040648</td>\n",
       "      <td>0.012717</td>\n",
       "      <td>0.034474</td>\n",
       "      <td>0.005840</td>\n",
       "      <td>0.028633</td>\n",
       "    </tr>\n",
       "  </tbody>\n",
       "</table>\n",
       "</div>"
      ],
      "text/plain": [
       "           Performance Contribution  Initial Weights  Last Weights  \\\n",
       "BNBUSDT                    0.128098         0.100539      0.023209   \n",
       "BTCUSDT                    0.202471         0.400000      0.061157   \n",
       "JASMYUSDT                  0.032161         0.022468      0.005545   \n",
       "OMUSDT                     8.403890         0.436345      0.897372   \n",
       "PEPEUSDT                   0.084631         0.040648      0.012717   \n",
       "\n",
       "           Variance Contribution in %  Idiosyncratic Risk in %  \\\n",
       "BNBUSDT                      0.033702                 0.005223   \n",
       "BTCUSDT                      0.167977                 0.066785   \n",
       "JASMYUSDT                    0.013676                 0.001273   \n",
       "OMUSDT                       0.750171                 0.647137   \n",
       "PEPEUSDT                     0.034474                 0.005840   \n",
       "\n",
       "           Correlation in %  \n",
       "BNBUSDT            0.028479  \n",
       "BTCUSDT            0.101192  \n",
       "JASMYUSDT          0.012404  \n",
       "OMUSDT             0.103034  \n",
       "PEPEUSDT           0.028633  "
      ]
     },
     "execution_count": 48,
     "metadata": {},
     "output_type": "execute_result"
    }
   ],
   "source": [
    "perf_analysis=pd.concat([historical_risk.perf_contrib(opt_weights),historical_risk.var_contrib_pct(opt_weights)],axis=1)\n",
    "perf_analysis"
   ]
  },
  {
   "cell_type": "code",
   "execution_count": 49,
   "id": "7a8d2d34-14b0-469c-81a7-38306d840a62",
   "metadata": {},
   "outputs": [
    {
     "data": {
      "text/html": [
       "<div>\n",
       "<style scoped>\n",
       "    .dataframe tbody tr th:only-of-type {\n",
       "        vertical-align: middle;\n",
       "    }\n",
       "\n",
       "    .dataframe tbody tr th {\n",
       "        vertical-align: top;\n",
       "    }\n",
       "\n",
       "    .dataframe thead th {\n",
       "        text-align: right;\n",
       "    }\n",
       "</style>\n",
       "<table border=\"1\" class=\"dataframe\">\n",
       "  <thead>\n",
       "    <tr style=\"text-align: right;\">\n",
       "      <th></th>\n",
       "      <th>Performance Contribution</th>\n",
       "      <th>Initial Weights</th>\n",
       "      <th>Last Weights</th>\n",
       "      <th>Variance Contribution in %</th>\n",
       "      <th>Idiosyncratic Risk in %</th>\n",
       "      <th>Correlation in %</th>\n",
       "    </tr>\n",
       "  </thead>\n",
       "  <tbody>\n",
       "    <tr>\n",
       "      <th>OMUSDT</th>\n",
       "      <td>0.098534</td>\n",
       "      <td>0.263331</td>\n",
       "      <td>0.295442</td>\n",
       "      <td>0.502187</td>\n",
       "      <td>0.437953</td>\n",
       "      <td>0.064234</td>\n",
       "    </tr>\n",
       "    <tr>\n",
       "      <th>TRXUSDT</th>\n",
       "      <td>0.126290</td>\n",
       "      <td>0.736669</td>\n",
       "      <td>0.704558</td>\n",
       "      <td>0.497813</td>\n",
       "      <td>0.433578</td>\n",
       "      <td>0.064234</td>\n",
       "    </tr>\n",
       "  </tbody>\n",
       "</table>\n",
       "</div>"
      ],
      "text/plain": [
       "         Performance Contribution  Initial Weights  Last Weights  \\\n",
       "OMUSDT                   0.098534         0.263331      0.295442   \n",
       "TRXUSDT                  0.126290         0.736669      0.704558   \n",
       "\n",
       "         Variance Contribution in %  Idiosyncratic Risk in %  Correlation in %  \n",
       "OMUSDT                     0.502187                 0.437953          0.064234  \n",
       "TRXUSDT                    0.497813                 0.433578          0.064234  "
      ]
     },
     "execution_count": 49,
     "metadata": {},
     "output_type": "execute_result"
    }
   ],
   "source": [
    "perf_analysis=pd.concat([current_risk.perf_contrib(current_optimal_weights),current_risk.var_contrib_pct(current_optimal_weights)],axis=1)\n",
    "perf_analysis"
   ]
  },
  {
   "cell_type": "code",
   "execution_count": 50,
   "id": "109d4f15-0bb7-435b-9dc5-0bb7bc6dcffc",
   "metadata": {},
   "outputs": [
    {
     "data": {
      "text/html": [
       "<div>\n",
       "<style scoped>\n",
       "    .dataframe tbody tr th:only-of-type {\n",
       "        vertical-align: middle;\n",
       "    }\n",
       "\n",
       "    .dataframe tbody tr th {\n",
       "        vertical-align: top;\n",
       "    }\n",
       "\n",
       "    .dataframe thead th {\n",
       "        text-align: right;\n",
       "    }\n",
       "</style>\n",
       "<table border=\"1\" class=\"dataframe\">\n",
       "  <thead>\n",
       "    <tr style=\"text-align: right;\">\n",
       "      <th></th>\n",
       "      <th>Performance Contribution</th>\n",
       "      <th>Initial Weights</th>\n",
       "      <th>Last Weights</th>\n",
       "      <th>Variance Contribution in %</th>\n",
       "      <th>Idiosyncratic Risk in %</th>\n",
       "      <th>Correlation in %</th>\n",
       "    </tr>\n",
       "  </thead>\n",
       "  <tbody>\n",
       "    <tr>\n",
       "      <th>BTCUSDT</th>\n",
       "      <td>-0.008977</td>\n",
       "      <td>0.287129</td>\n",
       "      <td>0.262185</td>\n",
       "      <td>0.185326</td>\n",
       "      <td>0.047058</td>\n",
       "      <td>0.138267</td>\n",
       "    </tr>\n",
       "    <tr>\n",
       "      <th>OMUSDT</th>\n",
       "      <td>0.103734</td>\n",
       "      <td>0.277228</td>\n",
       "      <td>0.359094</td>\n",
       "      <td>0.351714</td>\n",
       "      <td>0.188407</td>\n",
       "      <td>0.163307</td>\n",
       "    </tr>\n",
       "    <tr>\n",
       "      <th>JASMYUSDT</th>\n",
       "      <td>-0.002214</td>\n",
       "      <td>0.148515</td>\n",
       "      <td>0.137903</td>\n",
       "      <td>0.213791</td>\n",
       "      <td>0.070107</td>\n",
       "      <td>0.143684</td>\n",
       "    </tr>\n",
       "    <tr>\n",
       "      <th>SOLUSDT</th>\n",
       "      <td>-0.012211</td>\n",
       "      <td>0.138614</td>\n",
       "      <td>0.119147</td>\n",
       "      <td>0.139931</td>\n",
       "      <td>0.028714</td>\n",
       "      <td>0.111216</td>\n",
       "    </tr>\n",
       "    <tr>\n",
       "      <th>ETHUSDT</th>\n",
       "      <td>-0.016040</td>\n",
       "      <td>0.089109</td>\n",
       "      <td>0.068875</td>\n",
       "      <td>0.069909</td>\n",
       "      <td>0.007944</td>\n",
       "      <td>0.061965</td>\n",
       "    </tr>\n",
       "    <tr>\n",
       "      <th>TRXUSDT</th>\n",
       "      <td>0.006789</td>\n",
       "      <td>0.039604</td>\n",
       "      <td>0.043730</td>\n",
       "      <td>0.006142</td>\n",
       "      <td>0.000486</td>\n",
       "      <td>0.005656</td>\n",
       "    </tr>\n",
       "    <tr>\n",
       "      <th>BBUSDT</th>\n",
       "      <td>-0.010185</td>\n",
       "      <td>0.019802</td>\n",
       "      <td>0.009065</td>\n",
       "      <td>0.033187</td>\n",
       "      <td>0.002646</td>\n",
       "      <td>0.030541</td>\n",
       "    </tr>\n",
       "  </tbody>\n",
       "</table>\n",
       "</div>"
      ],
      "text/plain": [
       "           Performance Contribution  Initial Weights  Last Weights  \\\n",
       "BTCUSDT                   -0.008977         0.287129      0.262185   \n",
       "OMUSDT                     0.103734         0.277228      0.359094   \n",
       "JASMYUSDT                 -0.002214         0.148515      0.137903   \n",
       "SOLUSDT                   -0.012211         0.138614      0.119147   \n",
       "ETHUSDT                   -0.016040         0.089109      0.068875   \n",
       "TRXUSDT                    0.006789         0.039604      0.043730   \n",
       "BBUSDT                    -0.010185         0.019802      0.009065   \n",
       "\n",
       "           Variance Contribution in %  Idiosyncratic Risk in %  \\\n",
       "BTCUSDT                      0.185326                 0.047058   \n",
       "OMUSDT                       0.351714                 0.188407   \n",
       "JASMYUSDT                    0.213791                 0.070107   \n",
       "SOLUSDT                      0.139931                 0.028714   \n",
       "ETHUSDT                      0.069909                 0.007944   \n",
       "TRXUSDT                      0.006142                 0.000486   \n",
       "BBUSDT                       0.033187                 0.002646   \n",
       "\n",
       "           Correlation in %  \n",
       "BTCUSDT            0.138267  \n",
       "OMUSDT             0.163307  \n",
       "JASMYUSDT          0.143684  \n",
       "SOLUSDT            0.111216  \n",
       "ETHUSDT            0.061965  \n",
       "TRXUSDT            0.005656  \n",
       "BBUSDT             0.030541  "
      ]
     },
     "execution_count": 50,
     "metadata": {},
     "output_type": "execute_result"
    }
   ],
   "source": [
    "perf_analysis=pd.concat([current_risk.perf_contrib(current_weights),current_risk.var_contrib_pct(current_weights)],axis=1)\n",
    "perf_analysis"
   ]
  },
  {
   "cell_type": "markdown",
   "id": "0130bfc3-e631-4a88-b313-7d1e01f8559a",
   "metadata": {
    "tags": []
   },
   "source": [
    "# Value At Risk"
   ]
  },
  {
   "cell_type": "markdown",
   "id": "71d68cce-1a6e-45aa-a85f-47588679e563",
   "metadata": {},
   "source": [
    "## Historical"
   ]
  },
  {
   "cell_type": "code",
   "execution_count": 51,
   "id": "b2388772-2291-494e-ac78-6a9f836e398d",
   "metadata": {},
   "outputs": [
    {
     "data": {
      "text/plain": [
       "(-0.05683558551537682, -0.08173795000837007)"
      ]
     },
     "execution_count": 51,
     "metadata": {},
     "output_type": "execute_result"
    }
   ],
   "source": [
    "var,cvar=historical_risk.historical_var(opt_weights)\n",
    "(var,cvar)"
   ]
  },
  {
   "cell_type": "code",
   "execution_count": 52,
   "id": "b748061e-7cef-4f96-986c-6cc89b4febd4",
   "metadata": {},
   "outputs": [
    {
     "data": {
      "text/plain": [
       "(-0.05132424080193072, -0.07072454886464664)"
      ]
     },
     "execution_count": 52,
     "metadata": {},
     "output_type": "execute_result"
    }
   ],
   "source": [
    "var,cvar=current_risk.historical_var(current_weights)\n",
    "(var,cvar)"
   ]
  },
  {
   "cell_type": "code",
   "execution_count": 53,
   "id": "bb9ae5ba-6521-47af-992e-2a3972e29e87",
   "metadata": {},
   "outputs": [],
   "source": [
    "historical_var=current_risk.returns*current_weights\n",
    "historical_var['Portfolio']=historical_var.sum(axis=1)\n",
    "historical_var=historical_var.sort_values(by='Portfolio')\n",
    "centile=0.05\n",
    "row=round(historical_var.shape[0]*centile)"
   ]
  },
  {
   "cell_type": "code",
   "execution_count": 54,
   "id": "8c24e902-85a4-44be-a457-f95e2184a7ea",
   "metadata": {},
   "outputs": [
    {
     "data": {
      "text/plain": [
       "BTCUSDT     -0.016065\n",
       "OMUSDT      -0.007475\n",
       "JASMYUSDT   -0.007146\n",
       "SOLUSDT     -0.009427\n",
       "ETHUSDT     -0.007746\n",
       "TRXUSDT     -0.000917\n",
       "BBUSDT      -0.002198\n",
       "BNBUSDT     -0.000000\n",
       "PEPEUSDT    -0.000000\n",
       "Portfolio   -0.050973\n",
       "Name: 2024-08-27 00:00:00, dtype: float64"
      ]
     },
     "execution_count": 54,
     "metadata": {},
     "output_type": "execute_result"
    }
   ],
   "source": [
    "var=historical_var.iloc[row]\n",
    "var"
   ]
  },
  {
   "cell_type": "code",
   "execution_count": 55,
   "id": "ade16f0c-75b7-4fcb-ab9e-ad0c73aa8dd7",
   "metadata": {},
   "outputs": [
    {
     "data": {
      "text/plain": [
       "BTCUSDT     -0.013234\n",
       "OMUSDT      -0.021710\n",
       "JASMYUSDT   -0.014482\n",
       "SOLUSDT     -0.010738\n",
       "ETHUSDT     -0.005335\n",
       "TRXUSDT     -0.000780\n",
       "BBUSDT      -0.001977\n",
       "BNBUSDT      0.000000\n",
       "PEPEUSDT     0.000000\n",
       "Portfolio   -0.068256\n",
       "dtype: float64"
      ]
     },
     "execution_count": 55,
     "metadata": {},
     "output_type": "execute_result"
    }
   ],
   "source": [
    "cvar=historical_var.iloc[:row+1].mean()\n",
    "cvar"
   ]
  },
  {
   "cell_type": "markdown",
   "id": "c3dff28c-8e0a-4203-a71d-04521428bcd1",
   "metadata": {},
   "source": [
    "## Parametric"
   ]
  },
  {
   "cell_type": "code",
   "execution_count": 56,
   "id": "0f0e86d4-3a65-486f-9099-6de171182aca",
   "metadata": {},
   "outputs": [
    {
     "data": {
      "text/plain": [
       "(-0.07096388108149675, -0.09095607512000306)"
      ]
     },
     "execution_count": 56,
     "metadata": {},
     "output_type": "execute_result"
    }
   ],
   "source": [
    "var,cvar=historical_risk.parametric_var(opt_weights)\n",
    "\n",
    "(var,cvar)"
   ]
  },
  {
   "cell_type": "code",
   "execution_count": 57,
   "id": "8d211677-f33e-4565-95b7-f2867bbe7192",
   "metadata": {},
   "outputs": [
    {
     "data": {
      "text/plain": [
       "(-0.05695667330343215, -0.07300270752698776)"
      ]
     },
     "execution_count": 57,
     "metadata": {},
     "output_type": "execute_result"
    }
   ],
   "source": [
    "var,cvar=current_risk.parametric_var(current_weights)\n",
    "\n",
    "(var,cvar)"
   ]
  },
  {
   "cell_type": "markdown",
   "id": "a6c24386-d19d-46c7-a8bb-58e4c19932ec",
   "metadata": {},
   "source": [
    "## Multivariate"
   ]
  },
  {
   "cell_type": "code",
   "execution_count": 58,
   "id": "302440b5-9462-49d9-a7d0-94e4da622e61",
   "metadata": {},
   "outputs": [
    {
     "data": {
      "text/plain": [
       "(-0.06328175264666992, -0.080577498312933)"
      ]
     },
     "execution_count": 58,
     "metadata": {},
     "output_type": "execute_result"
    }
   ],
   "source": [
    "perf=performance(historical_risk.multivariate_distribution(),opt_weights)\n",
    "var=np.percentile(perf,5)\n",
    "cvar=perf[perf<var].mean()\n",
    "(var,cvar)"
   ]
  },
  {
   "cell_type": "code",
   "execution_count": 59,
   "id": "21acf785-1eff-47d6-8bfa-f795cf1e38d0",
   "metadata": {},
   "outputs": [
    {
     "data": {
      "text/plain": [
       "(-0.05559793922438589, -0.0707229983091733)"
      ]
     },
     "execution_count": 59,
     "metadata": {},
     "output_type": "execute_result"
    }
   ],
   "source": [
    "perf=performance(current_risk.multivariate_distribution(),current_weights)\n",
    "var=np.percentile(perf,5)\n",
    "cvar=perf[perf<var].mean()\n",
    "(var,cvar)"
   ]
  },
  {
   "cell_type": "code",
   "execution_count": 60,
   "id": "3fe7a180-f366-4414-bda1-a58a090d1c16",
   "metadata": {},
   "outputs": [
    {
     "data": {
      "text/plain": [
       "BTCUSDT     -0.009961\n",
       "OMUSDT      -0.019371\n",
       "JASMYUSDT   -0.012130\n",
       "SOLUSDT     -0.008187\n",
       "ETHUSDT     -0.003967\n",
       "TRXUSDT     -0.000107\n",
       "BBUSDT      -0.001926\n",
       "Portfolio   -0.055649\n",
       "dtype: float64"
      ]
     },
     "execution_count": 60,
     "metadata": {},
     "output_type": "execute_result"
    }
   ],
   "source": [
    "scenario_multivariate={}\n",
    "\n",
    "for i in range(50):\n",
    "    multivariate_distrib=pd.DataFrame(current_risk.multivariate_distribution(),columns=current_risk.returns.columns)\n",
    "    multivariate_distrib=multivariate_distrib*current_weights\n",
    "    multivariate_distrib=multivariate_distrib[multivariate_distrib.columns[current_weights>0]]\n",
    "\n",
    "    multivariate_distrib['Portfolio']=multivariate_distrib.sum(axis=1)\n",
    "    multivariate_var=multivariate_distrib.sort_values(by='Portfolio').iloc[int(multivariate_distrib.shape[0]*0.05)]['Portfolio']\n",
    "    results=multivariate_distrib.sort_values(by='Portfolio').iloc[int(multivariate_distrib.shape[0]*0.05)]\n",
    "\n",
    "    scenario_multivariate[i]=results.to_dict()\n",
    "\n",
    "mean_scenario_multivariate=pd.DataFrame(scenario_multivariate).T.mean()\n",
    "mean_scenario_multivariate"
   ]
  },
  {
   "cell_type": "markdown",
   "id": "0c387f28-22ad-45a7-b319-0e83f4a0daee",
   "metadata": {},
   "source": [
    "## Copulas"
   ]
  },
  {
   "cell_type": "markdown",
   "id": "9058537e-386c-4062-bbe9-1a6b8541b24e",
   "metadata": {},
   "source": [
    "### Gaussian Copula"
   ]
  },
  {
   "cell_type": "code",
   "execution_count": 61,
   "id": "eb227cdf-2fbd-4710-85b9-17c16bb8d777",
   "metadata": {},
   "outputs": [
    {
     "data": {
      "text/plain": [
       "(-0.06449888674687253, -0.08187319377765456)"
      ]
     },
     "execution_count": 61,
     "metadata": {},
     "output_type": "execute_result"
    }
   ],
   "source": [
    "cop=historical_risk.gaussian_copula()\n",
    "perf=performance(cop,opt_weights)\n",
    "var=np.percentile(perf,5)\n",
    "cvar=perf[perf<var].mean()\n",
    "\n",
    "var,cvar"
   ]
  },
  {
   "cell_type": "code",
   "execution_count": 62,
   "id": "d6e06ba7-4288-4817-8fd4-6edd919d67d8",
   "metadata": {},
   "outputs": [
    {
     "data": {
      "text/plain": [
       "(-0.05463836658723516, -0.06954183605444926)"
      ]
     },
     "execution_count": 62,
     "metadata": {},
     "output_type": "execute_result"
    }
   ],
   "source": [
    "cop=current_risk.gaussian_copula()\n",
    "perf=performance(cop,current_weights)\n",
    "var=np.percentile(perf,5)\n",
    "cvar=perf[perf<var].mean()\n",
    "\n",
    "var,cvar"
   ]
  },
  {
   "cell_type": "code",
   "execution_count": 63,
   "id": "3b6ee424-83af-4479-abb3-e23b0a9f00e2",
   "metadata": {},
   "outputs": [
    {
     "data": {
      "text/plain": [
       "BTCUSDT     -0.010317\n",
       "OMUSDT      -0.017579\n",
       "JASMYUSDT   -0.011936\n",
       "SOLUSDT     -0.009038\n",
       "ETHUSDT     -0.004183\n",
       "TRXUSDT     -0.000368\n",
       "BBUSDT      -0.002048\n",
       "Portfolio   -0.055469\n",
       "dtype: float64"
      ]
     },
     "execution_count": 63,
     "metadata": {},
     "output_type": "execute_result"
    }
   ],
   "source": [
    "scenario_gaussian={}\n",
    "\n",
    "for i in range(100):\n",
    "    gaussian_copula_distrib=pd.DataFrame(current_risk.gaussian_copula(),columns=current_risk.returns.columns)\n",
    "\n",
    "    gaussian_copula_distrib=gaussian_copula_distrib*current_weights\n",
    "    gaussian_copula_distrib=gaussian_copula_distrib[gaussian_copula_distrib.columns[current_weights>0]]\n",
    "\n",
    "    gaussian_copula_distrib['Portfolio']=gaussian_copula_distrib.sum(axis=1)\n",
    "    gaussian_var=gaussian_copula_distrib.sort_values(by='Portfolio').iloc[int(gaussian_copula_distrib.shape[0]*0.05)]['Portfolio']\n",
    "    results=gaussian_copula_distrib.sort_values(by='Portfolio').iloc[int(gaussian_copula_distrib.shape[0]*0.05)]\n",
    "    \n",
    "    scenario_gaussian[i]=results\n",
    "    \n",
    "mean_scenario_gaussian=pd.DataFrame(scenario_gaussian).T.mean()\n",
    "mean_scenario_gaussian"
   ]
  },
  {
   "cell_type": "markdown",
   "id": "5cc2fb56-f5a8-400f-9242-3fe5969c9743",
   "metadata": {},
   "source": [
    "### Student Copula"
   ]
  },
  {
   "cell_type": "code",
   "execution_count": 64,
   "id": "54911632-62da-415f-bfed-66f0c612960c",
   "metadata": {},
   "outputs": [
    {
     "data": {
      "text/plain": [
       "(-0.0630664761018415, -0.08070963782197535)"
      ]
     },
     "execution_count": 64,
     "metadata": {},
     "output_type": "execute_result"
    }
   ],
   "source": [
    "t_copula=historical_risk.t_copula()\n",
    "perf=performance(t_copula,opt_weights)\n",
    "var=np.percentile(perf,5)\n",
    "cvar=perf[perf<var].mean()\n",
    "\n",
    "var,cvar"
   ]
  },
  {
   "cell_type": "code",
   "execution_count": 65,
   "id": "b54982b1-827a-4949-8576-0e88dceea776",
   "metadata": {},
   "outputs": [
    {
     "data": {
      "text/plain": [
       "(-0.05502932539852389, -0.07040619590050554)"
      ]
     },
     "execution_count": 65,
     "metadata": {},
     "output_type": "execute_result"
    }
   ],
   "source": [
    "t_copula=current_risk.t_copula()\n",
    "perf=performance(t_copula,current_weights)\n",
    "var=np.percentile(perf,5)\n",
    "cvar=perf[perf<var].mean()\n",
    "\n",
    "var,cvar"
   ]
  },
  {
   "cell_type": "code",
   "execution_count": 66,
   "id": "2eed4d89-eb00-449b-98ce-d030c65155d0",
   "metadata": {},
   "outputs": [
    {
     "data": {
      "text/plain": [
       "BTCUSDT     -0.010641\n",
       "OMUSDT      -0.020131\n",
       "JASMYUSDT   -0.011340\n",
       "SOLUSDT     -0.007864\n",
       "ETHUSDT     -0.004321\n",
       "TRXUSDT     -0.000235\n",
       "BBUSDT      -0.002171\n",
       "Portfolio   -0.056704\n",
       "dtype: float64"
      ]
     },
     "execution_count": 66,
     "metadata": {},
     "output_type": "execute_result"
    }
   ],
   "source": [
    "scenario_t_copula={}\n",
    "\n",
    "for i in range(100):\n",
    "    \n",
    "    t_copula_distrib=pd.DataFrame(current_risk.t_copula(),columns=current_risk.returns.columns)\n",
    "    t_copula_distrib=t_copula_distrib*current_weights\n",
    "    t_copula_distrib=t_copula_distrib[t_copula_distrib.columns[current_weights>0]]\n",
    "    t_copula_distrib['Portfolio']=t_copula_distrib.sum(axis=1)\n",
    "    t_copula_var=t_copula_distrib.sort_values(by='Portfolio').iloc[int(t_copula_distrib.shape[0]*0.05)]['Portfolio']\n",
    "    results=t_copula_distrib.sort_values(by='Portfolio').iloc[int(t_copula_distrib.shape[0]*0.05)]\n",
    "    \n",
    "    scenario_t_copula[i]=results\n",
    "    \n",
    "mean_scenario_gaussian=pd.DataFrame(scenario_t_copula).T.mean()\n",
    "mean_scenario_gaussian"
   ]
  },
  {
   "cell_type": "markdown",
   "id": "d8471cd5-4fcd-4ee2-8d94-4d1363a54361",
   "metadata": {},
   "source": [
    "### Gumbel Copula"
   ]
  },
  {
   "cell_type": "code",
   "execution_count": 67,
   "id": "7c23e42c-22e1-49cf-a9ed-36317a91e615",
   "metadata": {},
   "outputs": [
    {
     "data": {
      "text/plain": [
       "(-0.12764049386273216, -0.18036029388022362)"
      ]
     },
     "execution_count": 67,
     "metadata": {},
     "output_type": "execute_result"
    }
   ],
   "source": [
    "gumbel_copula=historical_risk.gumbel_copula()\n",
    "perf=performance(gumbel_copula,opt_weights)\n",
    "var=np.percentile(perf,5)\n",
    "cvar=perf[perf<var].mean()\n",
    "\n",
    "var,cvar"
   ]
  },
  {
   "cell_type": "code",
   "execution_count": 68,
   "id": "930f83d3-fa2e-4f41-b0ea-64c9fcadc95a",
   "metadata": {},
   "outputs": [
    {
     "data": {
      "text/plain": [
       "(-0.06978549048342121, -0.09324037176511644)"
      ]
     },
     "execution_count": 68,
     "metadata": {},
     "output_type": "execute_result"
    }
   ],
   "source": [
    "gumbel_copula=current_risk.gumbel_copula(theta=2)\n",
    "perf=performance(gumbel_copula,current_weights)\n",
    "var=np.percentile(perf,5)\n",
    "cvar=perf[perf<var].mean()\n",
    "\n",
    "var,cvar"
   ]
  },
  {
   "cell_type": "code",
   "execution_count": 69,
   "id": "a06ef689-21b0-49fb-91cb-e4f7ecd99305",
   "metadata": {},
   "outputs": [
    {
     "data": {
      "text/plain": [
       "BTCUSDT     -0.006952\n",
       "OMUSDT      -0.044041\n",
       "JASMYUSDT   -0.014894\n",
       "SOLUSDT     -0.001569\n",
       "ETHUSDT     -0.002343\n",
       "TRXUSDT      0.000023\n",
       "BBUSDT      -0.000091\n",
       "Portfolio   -0.069866\n",
       "dtype: float64"
      ]
     },
     "execution_count": 69,
     "metadata": {},
     "output_type": "execute_result"
    }
   ],
   "source": [
    "scenario_gumbel_copula={}\n",
    "\n",
    "for i in range(100):\n",
    "    \n",
    "    gumbel_copula_distrib=pd.DataFrame(current_risk.gumbel_copula(),columns=current_risk.returns.columns)\n",
    "    gumbel_copula_distrib=gumbel_copula_distrib*current_weights\n",
    "    gumbel_copula_distrib=gumbel_copula_distrib[gumbel_copula_distrib.columns[current_weights>0]]\n",
    "    gumbel_copula_distrib['Portfolio']=gumbel_copula_distrib.sum(axis=1)\n",
    "    gumbel_copula_var=gumbel_copula_distrib.sort_values(by='Portfolio').iloc[int(gumbel_copula_distrib.shape[0]*0.05)]['Portfolio']\n",
    "    results=gumbel_copula_distrib.sort_values(by='Portfolio').iloc[int(gumbel_copula_distrib.shape[0]*0.05)]\n",
    "    \n",
    "    scenario_gumbel_copula[i]=results\n",
    "    \n",
    "mean_scenario_gaussian=pd.DataFrame(scenario_gumbel_copula).T.mean()\n",
    "mean_scenario_gaussian"
   ]
  },
  {
   "cell_type": "raw",
   "id": "a7cf6672-4497-412a-99d2-d7971328073d",
   "metadata": {
    "jupyter": {
     "source_hidden": true
    },
    "tags": []
   },
   "source": [
    "test=gumbel_l.rvs(loc=current_risk.returns.mean(),scale=current_risk.returns.std(),size=(10000,current_risk.returns.shape[1]))\n",
    "perf=(test*current_weights).sum(axis=1)\n",
    "\n",
    "var=np.percentile(perf,5)\n",
    "cvar=perf[perf<var].mean()\n",
    "var,cvar"
   ]
  },
  {
   "cell_type": "raw",
   "id": "3d431a69-7d30-4d5a-8b79-313ccc73d7bd",
   "metadata": {
    "jupyter": {
     "source_hidden": true
    },
    "tags": []
   },
   "source": [
    "scenario_gumbel_copula={}\n",
    "\n",
    "for i in range(100):\n",
    "    test=gumbel_l.rvs(loc=current_risk.returns.mean(),scale=current_risk.returns.std(),size=(10000,current_risk.returns.shape[1]))\n",
    "    gumbel_copula_distrib=pd.DataFrame(test,columns=current_risk.returns.columns)\n",
    "    gumbel_copula_distrib=gumbel_copula_distrib*current_weights\n",
    "    gumbel_copula_distrib=gumbel_copula_distrib[gumbel_copula_distrib.columns[current_weights>0]]\n",
    "    gumbel_copula_distrib['Portfolio']=gumbel_copula_distrib.sum(axis=1)\n",
    "    gumbel_copula_var=gumbel_copula_distrib.sort_values(by='Portfolio').iloc[int(gumbel_copula_distrib.shape[0]*0.05)]['Portfolio']\n",
    "    results=gumbel_copula_distrib.sort_values(by='Portfolio').iloc[int(gumbel_copula_distrib.shape[0]*0.05)]\n",
    "    \n",
    "    scenario_gumbel_copula[i]=results\n",
    "    \n",
    "mean_scenario_gaussian=pd.DataFrame(scenario_gumbel_copula).T.mean()\n",
    "mean_scenario_gaussian"
   ]
  },
  {
   "cell_type": "raw",
   "id": "929edc55-62b8-4da7-96a1-d5c4049da71f",
   "metadata": {
    "jupyter": {
     "source_hidden": true
    },
    "tags": []
   },
   "source": [
    "test=-np.random.gumbel(loc=current_risk.returns.mean(),scale=current_risk.returns.std(),size=(10000,current_risk.returns.shape[1]))\n",
    "var=np.percentile(performance(test,current_weights),5)\n",
    "cvar=performance(test,current_weights)[performance(test,current_weights)<var].mean()\n",
    "var,cvar"
   ]
  },
  {
   "cell_type": "raw",
   "id": "df443baa-f1ac-4309-b3a6-4cc30c1f24cc",
   "metadata": {
    "jupyter": {
     "source_hidden": true
    },
    "tags": []
   },
   "source": [
    "scenario_gumbel_copula={}\n",
    "\n",
    "for i in range(100):\n",
    "    test=-np.random.gumbel(loc=current_risk.returns.mean(),scale=current_risk.returns.std(),size=(10000,current_risk.returns.shape[1]))\n",
    "    gumbel_copula_distrib=pd.DataFrame(test,columns=current_risk.returns.columns)\n",
    "    gumbel_copula_distrib=gumbel_copula_distrib*current_weights\n",
    "    gumbel_copula_distrib=gumbel_copula_distrib[gumbel_copula_distrib.columns[current_weights>0]]\n",
    "    gumbel_copula_distrib['Portfolio']=gumbel_copula_distrib.sum(axis=1)\n",
    "    gumbel_copula_var=gumbel_copula_distrib.sort_values(by='Portfolio').iloc[int(gumbel_copula_distrib.shape[0]*0.05)]['Portfolio']\n",
    "    results=gumbel_copula_distrib.sort_values(by='Portfolio').iloc[int(gumbel_copula_distrib.shape[0]*0.05)]\n",
    "    \n",
    "    scenario_gumbel_copula[i]=results\n",
    "    \n",
    "mean_scenario_gaussian=pd.DataFrame(scenario_gumbel_copula).T.mean()\n",
    "mean_scenario_gaussian"
   ]
  },
  {
   "cell_type": "markdown",
   "id": "7552457d-af22-431f-bdc4-3609112e4138",
   "metadata": {},
   "source": [
    "### Monte Carlo"
   ]
  },
  {
   "cell_type": "code",
   "execution_count": 70,
   "id": "4842fd75-6b18-4ef9-b65b-823eb398fc2e",
   "metadata": {},
   "outputs": [],
   "source": [
    "spot=data[with_no_na].iloc[-1]\n",
    "monte_carlo=historical_risk.monte_carlo(spot,horizon=1/250,stress_factor=1.0)\n",
    "perf=performance(monte_carlo[1].fillna(0),opt_weights)"
   ]
  },
  {
   "cell_type": "code",
   "execution_count": 71,
   "id": "51c03bd4-96cb-4ef9-a720-1320ae57f100",
   "metadata": {},
   "outputs": [
    {
     "data": {
      "text/plain": [
       "(-0.07282033696866667, -0.09011568526365905)"
      ]
     },
     "execution_count": 71,
     "metadata": {},
     "output_type": "execute_result"
    }
   ],
   "source": [
    "var=np.percentile(perf,5)\n",
    "cvar=perf[perf<var].mean()\n",
    "\n",
    "var,cvar"
   ]
  },
  {
   "cell_type": "code",
   "execution_count": 72,
   "id": "d016716b-b572-4f28-acb1-c44ae139f2ae",
   "metadata": {},
   "outputs": [
    {
     "data": {
      "text/plain": [
       "(-0.0578187255443428, -0.07421909225508998)"
      ]
     },
     "execution_count": 72,
     "metadata": {},
     "output_type": "execute_result"
    }
   ],
   "source": [
    "spot=data[ex_ante_perf.columns].iloc[-1]\n",
    "monte_carlo=current_risk.monte_carlo(spot,horizon=1/250,stress_factor=1.0)\n",
    "perf=performance(monte_carlo[1].fillna(0),current_weights)\n",
    "var=np.percentile(perf,5)\n",
    "cvar=perf[perf<var].mean()\n",
    "\n",
    "var,cvar"
   ]
  },
  {
   "cell_type": "code",
   "execution_count": 73,
   "id": "0208383d-314b-471b-9943-3d75beae4276",
   "metadata": {},
   "outputs": [
    {
     "data": {
      "text/plain": [
       "BTCUSDT     -0.011085\n",
       "OMUSDT      -0.020525\n",
       "JASMYUSDT   -0.011774\n",
       "SOLUSDT     -0.007910\n",
       "ETHUSDT     -0.004371\n",
       "TRXUSDT     -0.000450\n",
       "BBUSDT      -0.001979\n",
       "Portfolio   -0.058094\n",
       "dtype: float64"
      ]
     },
     "execution_count": 73,
     "metadata": {},
     "output_type": "execute_result"
    }
   ],
   "source": [
    "spot=data[ex_ante_perf.columns].iloc[-1]\n",
    "\n",
    "scenario_monte_carlo={}\n",
    "\n",
    "for i in range(100):\n",
    "    \n",
    "    monte_carlo=current_risk.monte_carlo(spot,horizon=1/250,stress_factor=1.0)\n",
    "    monte_carlo_distrib=monte_carlo[1].fillna(0)*current_weights\n",
    "    monte_carlo_distrib=monte_carlo_distrib[monte_carlo_distrib.columns[current_weights>0]]\n",
    "    monte_carlo_distrib['Portfolio']=monte_carlo_distrib.sum(axis=1)\n",
    "    monte_carlo_var=monte_carlo_distrib.sort_values(by='Portfolio').iloc[int(monte_carlo_distrib.shape[0]*0.05)]['Portfolio']\n",
    "    results=monte_carlo_distrib.sort_values(by='Portfolio').iloc[int(monte_carlo_distrib.shape[0]*0.05)]\n",
    "    \n",
    "    scenario_monte_carlo[i]=results\n",
    "    \n",
    "mean_scenario_monte_carlo=pd.DataFrame(scenario_monte_carlo).T.mean()\n",
    "mean_scenario_monte_carlo"
   ]
  },
  {
   "cell_type": "markdown",
   "id": "2b3cb248-60ea-43f7-b474-31b6046eeee9",
   "metadata": {},
   "source": [
    "## VaR Violation"
   ]
  },
  {
   "cell_type": "code",
   "execution_count": 74,
   "id": "757aac0b-a638-4349-8fd3-30b1f39fa8b4",
   "metadata": {},
   "outputs": [
    {
     "data": {
      "text/html": [
       "<div>\n",
       "<style scoped>\n",
       "    .dataframe tbody tr th:only-of-type {\n",
       "        vertical-align: middle;\n",
       "    }\n",
       "\n",
       "    .dataframe tbody tr th {\n",
       "        vertical-align: top;\n",
       "    }\n",
       "\n",
       "    .dataframe thead th {\n",
       "        text-align: right;\n",
       "    }\n",
       "</style>\n",
       "<table border=\"1\" class=\"dataframe\">\n",
       "  <thead>\n",
       "    <tr style=\"text-align: right;\">\n",
       "      <th></th>\n",
       "      <th>Historical</th>\n",
       "      <th>Parametric</th>\n",
       "      <th>Multivariate</th>\n",
       "      <th>Portfolio</th>\n",
       "    </tr>\n",
       "  </thead>\n",
       "  <tbody>\n",
       "    <tr>\n",
       "      <th>2024-01-14</th>\n",
       "      <td>-0.056477</td>\n",
       "      <td>-0.100886</td>\n",
       "      <td>-0.088931</td>\n",
       "      <td>-0.023359</td>\n",
       "    </tr>\n",
       "    <tr>\n",
       "      <th>2024-01-15</th>\n",
       "      <td>-0.056477</td>\n",
       "      <td>-0.100887</td>\n",
       "      <td>-0.086789</td>\n",
       "      <td>0.019238</td>\n",
       "    </tr>\n",
       "    <tr>\n",
       "      <th>2024-01-16</th>\n",
       "      <td>-0.056477</td>\n",
       "      <td>-0.101331</td>\n",
       "      <td>-0.085200</td>\n",
       "      <td>0.054613</td>\n",
       "    </tr>\n",
       "    <tr>\n",
       "      <th>2024-01-17</th>\n",
       "      <td>-0.056477</td>\n",
       "      <td>-0.103613</td>\n",
       "      <td>-0.087074</td>\n",
       "      <td>-0.033713</td>\n",
       "    </tr>\n",
       "    <tr>\n",
       "      <th>2024-01-18</th>\n",
       "      <td>-0.056477</td>\n",
       "      <td>-0.105511</td>\n",
       "      <td>-0.088989</td>\n",
       "      <td>-0.031142</td>\n",
       "    </tr>\n",
       "    <tr>\n",
       "      <th>...</th>\n",
       "      <td>...</td>\n",
       "      <td>...</td>\n",
       "      <td>...</td>\n",
       "      <td>...</td>\n",
       "    </tr>\n",
       "    <tr>\n",
       "      <th>2024-09-21</th>\n",
       "      <td>-0.042090</td>\n",
       "      <td>-0.078713</td>\n",
       "      <td>-0.073299</td>\n",
       "      <td>0.009727</td>\n",
       "    </tr>\n",
       "    <tr>\n",
       "      <th>2024-09-22</th>\n",
       "      <td>-0.042090</td>\n",
       "      <td>-0.071965</td>\n",
       "      <td>-0.070941</td>\n",
       "      <td>-0.013153</td>\n",
       "    </tr>\n",
       "    <tr>\n",
       "      <th>2024-09-23</th>\n",
       "      <td>-0.042090</td>\n",
       "      <td>-0.072168</td>\n",
       "      <td>-0.072299</td>\n",
       "      <td>0.015213</td>\n",
       "    </tr>\n",
       "    <tr>\n",
       "      <th>2024-09-24</th>\n",
       "      <td>-0.042090</td>\n",
       "      <td>-0.070853</td>\n",
       "      <td>-0.068382</td>\n",
       "      <td>0.002326</td>\n",
       "    </tr>\n",
       "    <tr>\n",
       "      <th>2024-09-25</th>\n",
       "      <td>-0.042083</td>\n",
       "      <td>-0.068152</td>\n",
       "      <td>-0.063324</td>\n",
       "      <td>0.003783</td>\n",
       "    </tr>\n",
       "  </tbody>\n",
       "</table>\n",
       "<p>256 rows × 4 columns</p>\n",
       "</div>"
      ],
      "text/plain": [
       "            Historical  Parametric  Multivariate  Portfolio\n",
       "2024-01-14   -0.056477   -0.100886     -0.088931  -0.023359\n",
       "2024-01-15   -0.056477   -0.100887     -0.086789   0.019238\n",
       "2024-01-16   -0.056477   -0.101331     -0.085200   0.054613\n",
       "2024-01-17   -0.056477   -0.103613     -0.087074  -0.033713\n",
       "2024-01-18   -0.056477   -0.105511     -0.088989  -0.031142\n",
       "...                ...         ...           ...        ...\n",
       "2024-09-21   -0.042090   -0.078713     -0.073299   0.009727\n",
       "2024-09-22   -0.042090   -0.071965     -0.070941  -0.013153\n",
       "2024-09-23   -0.042090   -0.072168     -0.072299   0.015213\n",
       "2024-09-24   -0.042090   -0.070853     -0.068382   0.002326\n",
       "2024-09-25   -0.042083   -0.068152     -0.063324   0.003783\n",
       "\n",
       "[256 rows x 4 columns]"
      ]
     },
     "execution_count": 74,
     "metadata": {},
     "output_type": "execute_result"
    }
   ],
   "source": [
    "var_data=rolling_var(returns_to_use,opt_weights,window=30,Q=1)\n",
    "var_data"
   ]
  },
  {
   "cell_type": "code",
   "execution_count": 75,
   "id": "bca159de-f35d-4db1-b088-09ad2dbc5b6a",
   "metadata": {},
   "outputs": [
    {
     "data": {
      "text/html": [
       "<div>\n",
       "<style scoped>\n",
       "    .dataframe tbody tr th:only-of-type {\n",
       "        vertical-align: middle;\n",
       "    }\n",
       "\n",
       "    .dataframe tbody tr th {\n",
       "        vertical-align: top;\n",
       "    }\n",
       "\n",
       "    .dataframe thead th {\n",
       "        text-align: right;\n",
       "    }\n",
       "</style>\n",
       "<table border=\"1\" class=\"dataframe\">\n",
       "  <thead>\n",
       "    <tr style=\"text-align: right;\">\n",
       "      <th></th>\n",
       "      <th>Historical</th>\n",
       "      <th>Parametric</th>\n",
       "      <th>Multivariate</th>\n",
       "      <th>Portfolio</th>\n",
       "    </tr>\n",
       "  </thead>\n",
       "  <tbody>\n",
       "    <tr>\n",
       "      <th>2024-05-28</th>\n",
       "      <td>-0.031524</td>\n",
       "      <td>-0.085118</td>\n",
       "      <td>-0.079896</td>\n",
       "      <td>-0.017750</td>\n",
       "    </tr>\n",
       "    <tr>\n",
       "      <th>2024-05-29</th>\n",
       "      <td>-0.028746</td>\n",
       "      <td>-0.082218</td>\n",
       "      <td>-0.073609</td>\n",
       "      <td>-0.010077</td>\n",
       "    </tr>\n",
       "    <tr>\n",
       "      <th>2024-05-30</th>\n",
       "      <td>-0.028746</td>\n",
       "      <td>-0.071274</td>\n",
       "      <td>-0.066727</td>\n",
       "      <td>0.038221</td>\n",
       "    </tr>\n",
       "    <tr>\n",
       "      <th>2024-05-31</th>\n",
       "      <td>-0.028746</td>\n",
       "      <td>-0.070370</td>\n",
       "      <td>-0.062363</td>\n",
       "      <td>0.027662</td>\n",
       "    </tr>\n",
       "    <tr>\n",
       "      <th>2024-06-01</th>\n",
       "      <td>-0.028746</td>\n",
       "      <td>-0.071654</td>\n",
       "      <td>-0.061396</td>\n",
       "      <td>0.041225</td>\n",
       "    </tr>\n",
       "    <tr>\n",
       "      <th>...</th>\n",
       "      <td>...</td>\n",
       "      <td>...</td>\n",
       "      <td>...</td>\n",
       "      <td>...</td>\n",
       "    </tr>\n",
       "    <tr>\n",
       "      <th>2024-09-21</th>\n",
       "      <td>-0.025453</td>\n",
       "      <td>-0.052055</td>\n",
       "      <td>-0.040194</td>\n",
       "      <td>0.010820</td>\n",
       "    </tr>\n",
       "    <tr>\n",
       "      <th>2024-09-22</th>\n",
       "      <td>-0.025453</td>\n",
       "      <td>-0.054276</td>\n",
       "      <td>-0.041952</td>\n",
       "      <td>-0.016626</td>\n",
       "    </tr>\n",
       "    <tr>\n",
       "      <th>2024-09-23</th>\n",
       "      <td>-0.025453</td>\n",
       "      <td>-0.054508</td>\n",
       "      <td>-0.041796</td>\n",
       "      <td>0.020560</td>\n",
       "    </tr>\n",
       "    <tr>\n",
       "      <th>2024-09-24</th>\n",
       "      <td>-0.025453</td>\n",
       "      <td>-0.047125</td>\n",
       "      <td>-0.037036</td>\n",
       "      <td>0.011226</td>\n",
       "    </tr>\n",
       "    <tr>\n",
       "      <th>2024-09-25</th>\n",
       "      <td>-0.025453</td>\n",
       "      <td>-0.044985</td>\n",
       "      <td>-0.036786</td>\n",
       "      <td>0.002064</td>\n",
       "    </tr>\n",
       "  </tbody>\n",
       "</table>\n",
       "<p>121 rows × 4 columns</p>\n",
       "</div>"
      ],
      "text/plain": [
       "            Historical  Parametric  Multivariate  Portfolio\n",
       "2024-05-28   -0.031524   -0.085118     -0.079896  -0.017750\n",
       "2024-05-29   -0.028746   -0.082218     -0.073609  -0.010077\n",
       "2024-05-30   -0.028746   -0.071274     -0.066727   0.038221\n",
       "2024-05-31   -0.028746   -0.070370     -0.062363   0.027662\n",
       "2024-06-01   -0.028746   -0.071654     -0.061396   0.041225\n",
       "...                ...         ...           ...        ...\n",
       "2024-09-21   -0.025453   -0.052055     -0.040194   0.010820\n",
       "2024-09-22   -0.025453   -0.054276     -0.041952  -0.016626\n",
       "2024-09-23   -0.025453   -0.054508     -0.041796   0.020560\n",
       "2024-09-24   -0.025453   -0.047125     -0.037036   0.011226\n",
       "2024-09-25   -0.025453   -0.044985     -0.036786   0.002064\n",
       "\n",
       "[121 rows x 4 columns]"
      ]
     },
     "execution_count": 75,
     "metadata": {},
     "output_type": "execute_result"
    }
   ],
   "source": [
    "current_var_data=rolling_var(ex_ante_perf_to_use,current_weights,window=15,Q=1)\n",
    "current_var_data"
   ]
  },
  {
   "cell_type": "code",
   "execution_count": 76,
   "id": "0e7d84e4-bd99-45e8-9326-4f84526ba091",
   "metadata": {},
   "outputs": [
    {
     "data": {
      "text/plain": [
       "<AxesSubplot:>"
      ]
     },
     "execution_count": 76,
     "metadata": {},
     "output_type": "execute_result"
    },
    {
     "data": {
      "image/png": "[encoded data removed]",
      "text/plain": [
       "<Figure size 432x288 with 1 Axes>"
      ]
     },
     "metadata": {
      "needs_background": "light"
     },
     "output_type": "display_data"
    }
   ],
   "source": [
    "var_data.plot()"
   ]
  },
  {
   "cell_type": "code",
   "execution_count": 77,
   "id": "4499b3ef-4ed2-48a3-8967-0230afa98c7d",
   "metadata": {},
   "outputs": [
    {
     "data": {
      "text/plain": [
       "<AxesSubplot:>"
      ]
     },
     "execution_count": 77,
     "metadata": {},
     "output_type": "execute_result"
    },
    {
     "data": {
      "image/png": "[encoded data removed]",
      "text/plain": [
       "<Figure size 432x288 with 1 Axes>"
      ]
     },
     "metadata": {
      "needs_background": "light"
     },
     "output_type": "display_data"
    }
   ],
   "source": [
    "current_var_data.plot()"
   ]
  },
  {
   "cell_type": "code",
   "execution_count": 78,
   "id": "e47d08e8-e7a7-4b22-8605-f8200e5645a6",
   "metadata": {},
   "outputs": [
    {
     "data": {
      "text/html": [
       "<div>\n",
       "<style scoped>\n",
       "    .dataframe tbody tr th:only-of-type {\n",
       "        vertical-align: middle;\n",
       "    }\n",
       "\n",
       "    .dataframe tbody tr th {\n",
       "        vertical-align: top;\n",
       "    }\n",
       "\n",
       "    .dataframe thead th {\n",
       "        text-align: right;\n",
       "    }\n",
       "</style>\n",
       "<table border=\"1\" class=\"dataframe\">\n",
       "  <thead>\n",
       "    <tr style=\"text-align: right;\">\n",
       "      <th></th>\n",
       "      <th>Historical</th>\n",
       "      <th>Parametric</th>\n",
       "      <th>Multivariate</th>\n",
       "    </tr>\n",
       "  </thead>\n",
       "  <tbody>\n",
       "    <tr>\n",
       "      <th>Proportion of failure</th>\n",
       "      <td>0.019531</td>\n",
       "      <td>0.011719</td>\n",
       "      <td>0.011719</td>\n",
       "    </tr>\n",
       "    <tr>\n",
       "      <th>Kupiec Stat</th>\n",
       "      <td>6.44746</td>\n",
       "      <td>11.284704</td>\n",
       "      <td>11.284704</td>\n",
       "    </tr>\n",
       "    <tr>\n",
       "      <th>P-value</th>\n",
       "      <td>0.011111</td>\n",
       "      <td>0.000781</td>\n",
       "      <td>0.000781</td>\n",
       "    </tr>\n",
       "  </tbody>\n",
       "</table>\n",
       "</div>"
      ],
      "text/plain": [
       "                      Historical Parametric Multivariate\n",
       "Proportion of failure   0.019531   0.011719     0.011719\n",
       "Kupiec Stat              6.44746  11.284704    11.284704\n",
       "P-value                 0.011111   0.000781     0.000781"
      ]
     },
     "execution_count": 78,
     "metadata": {},
     "output_type": "execute_result"
    }
   ],
   "source": [
    "kupiec_test(var_data)"
   ]
  },
  {
   "cell_type": "code",
   "execution_count": 79,
   "id": "0b33e6a3-e732-49df-a1a0-aefaefb1f271",
   "metadata": {},
   "outputs": [
    {
     "data": {
      "text/html": [
       "<div>\n",
       "<style scoped>\n",
       "    .dataframe tbody tr th:only-of-type {\n",
       "        vertical-align: middle;\n",
       "    }\n",
       "\n",
       "    .dataframe tbody tr th {\n",
       "        vertical-align: top;\n",
       "    }\n",
       "\n",
       "    .dataframe thead th {\n",
       "        text-align: right;\n",
       "    }\n",
       "</style>\n",
       "<table border=\"1\" class=\"dataframe\">\n",
       "  <thead>\n",
       "    <tr style=\"text-align: right;\">\n",
       "      <th></th>\n",
       "      <th>Historical</th>\n",
       "      <th>Parametric</th>\n",
       "      <th>Multivariate</th>\n",
       "    </tr>\n",
       "  </thead>\n",
       "  <tbody>\n",
       "    <tr>\n",
       "      <th>Proportion of failure</th>\n",
       "      <td>0.057851</td>\n",
       "      <td>0.024793</td>\n",
       "      <td>0.024793</td>\n",
       "    </tr>\n",
       "    <tr>\n",
       "      <th>Kupiec Stat</th>\n",
       "      <td>0.149799</td>\n",
       "      <td>1.971544</td>\n",
       "      <td>1.971544</td>\n",
       "    </tr>\n",
       "    <tr>\n",
       "      <th>P-value</th>\n",
       "      <td>0.698727</td>\n",
       "      <td>0.160284</td>\n",
       "      <td>0.160284</td>\n",
       "    </tr>\n",
       "  </tbody>\n",
       "</table>\n",
       "</div>"
      ],
      "text/plain": [
       "                      Historical Parametric Multivariate\n",
       "Proportion of failure   0.057851   0.024793     0.024793\n",
       "Kupiec Stat             0.149799   1.971544     1.971544\n",
       "P-value                 0.698727   0.160284     0.160284"
      ]
     },
     "execution_count": 79,
     "metadata": {},
     "output_type": "execute_result"
    }
   ],
   "source": [
    "kupiec_test(current_var_data)"
   ]
  },
  {
   "cell_type": "markdown",
   "id": "7d238b49-45e4-4e3c-a34b-654a69961cc2",
   "metadata": {},
   "source": [
    "## Principal Component Analysis"
   ]
  },
  {
   "cell_type": "markdown",
   "id": "f692a72e-632c-4eb9-afa3-b1283e5e6fd9",
   "metadata": {},
   "source": [
    "### Historical PCA"
   ]
  },
  {
   "cell_type": "code",
   "execution_count": 80,
   "id": "6000e084-3863-47c4-9f09-9fcd4c7220be",
   "metadata": {},
   "outputs": [
    {
     "data": {
      "text/plain": [
       "array([0.79015979, 0.06588185, 0.05380905, 0.04580205, 0.04434727])"
      ]
     },
     "execution_count": 80,
     "metadata": {},
     "output_type": "execute_result"
    }
   ],
   "source": [
    "eigval,eigvec,portfolio_components=historical_risk.pca(num_components=5)\n",
    "variance_explained=eigval/eigval.sum()\n",
    "variance_explained"
   ]
  },
  {
   "cell_type": "code",
   "execution_count": 81,
   "id": "53fd60dd-afcd-4a5f-bc0c-1afbe4acfcf5",
   "metadata": {},
   "outputs": [
    {
     "data": {
      "text/plain": [
       "AAVEUSDT    0.013957\n",
       "ADAUSDT     0.014263\n",
       "ALGOUSDT    0.015740\n",
       "APTUSDT     0.015133\n",
       "ARBUSDT     0.015266\n",
       "              ...   \n",
       "WLDUSDT     0.021483\n",
       "XECUSDT     0.015224\n",
       "XLMUSDT     0.009519\n",
       "XRPUSDT     0.009126\n",
       "XTZUSDT     0.014314\n",
       "Name: PC1, Length: 65, dtype: float64"
      ]
     },
     "execution_count": 81,
     "metadata": {},
     "output_type": "execute_result"
    }
   ],
   "source": [
    "pca_weight=dict((portfolio_components['PC1']/portfolio_components['PC1'].sum()))\n",
    "portfolio_components['PC1']"
   ]
  },
  {
   "cell_type": "code",
   "execution_count": 82,
   "id": "e83837db-6bb4-44d7-8d2f-ace69c484699",
   "metadata": {},
   "outputs": [
    {
     "data": {
      "text/plain": [
       "<AxesSubplot:>"
      ]
     },
     "execution_count": 82,
     "metadata": {},
     "output_type": "execute_result"
    },
    {
     "data": {
      "image/png": "[encoded data removed]",
      "text/plain": [
       "<Figure size 432x288 with 1 Axes>"
      ]
     },
     "metadata": {
      "needs_background": "light"
     },
     "output_type": "display_data"
    }
   ],
   "source": [
    "PCA=pd.DataFrame(np.array(list(pca_weight.values())).dot(np.transpose(historical_risk.returns)),\n",
    "                 index=historical_risk.returns.index,\n",
    "                 columns=['PCA'])\n",
    "PCA=PCA.dropna()\n",
    "(1+PCA).cumprod().plot()"
   ]
  },
  {
   "cell_type": "code",
   "execution_count": 83,
   "id": "c575f9ec-6680-4401-814e-d33785954e38",
   "metadata": {},
   "outputs": [
    {
     "data": {
      "text/plain": [
       "<AxesSubplot:>"
      ]
     },
     "execution_count": 83,
     "metadata": {},
     "output_type": "execute_result"
    },
    {
     "data": {
      "image/png": "[encoded data removed]",
      "text/plain": [
       "<Figure size 432x288 with 1 Axes>"
      ]
     },
     "metadata": {
      "needs_background": "light"
     },
     "output_type": "display_data"
    }
   ],
   "source": [
    "(1+historical_risk.returns['BTCUSDT']).cumprod().plot()"
   ]
  },
  {
   "cell_type": "code",
   "execution_count": 84,
   "id": "1a144186-3cff-4c2b-8833-2ff9c7ed02d0",
   "metadata": {},
   "outputs": [
    {
     "data": {
      "text/plain": [
       "PCA          0.000000\n",
       "SANDUSDT     0.308762\n",
       "XTZUSDT      0.334552\n",
       "ADAUSDT      0.336728\n",
       "ALGOUSDT     0.347036\n",
       "               ...   \n",
       "PEPEUSDT     0.993329\n",
       "FLOKIUSDT    1.004498\n",
       "WLDUSDT      1.034131\n",
       "CKBUSDT      1.150466\n",
       "OMUSDT       1.312667\n",
       "Length: 66, dtype: float64"
      ]
     },
     "execution_count": 84,
     "metadata": {},
     "output_type": "execute_result"
    }
   ],
   "source": [
    "comparison=historical_risk.returns.copy()\n",
    "comparison['PCA']=PCA\n",
    "distances=np.sqrt(np.sum(comparison.apply(lambda y:(y-PCA['PCA'])**2))).sort_values()\n",
    "distances"
   ]
  },
  {
   "cell_type": "code",
   "execution_count": 85,
   "id": "1757caf9-a1c9-4e4e-8334-fae0314667e7",
   "metadata": {},
   "outputs": [
    {
     "data": {
      "text/plain": [
       "<AxesSubplot:>"
      ]
     },
     "execution_count": 85,
     "metadata": {},
     "output_type": "execute_result"
    },
    {
     "data": {
      "image/png": "[encoded data removed]",
      "text/plain": [
       "<Figure size 432x288 with 1 Axes>"
      ]
     },
     "metadata": {
      "needs_background": "light"
     },
     "output_type": "display_data"
    }
   ],
   "source": [
    "(1+comparison[distances.index[:10]]).cumprod().plot()"
   ]
  },
  {
   "cell_type": "code",
   "execution_count": 86,
   "id": "56a047da-fd00-4827-8e18-635a2fa53389",
   "metadata": {},
   "outputs": [
    {
     "data": {
      "text/plain": [
       "<AxesSubplot:>"
      ]
     },
     "execution_count": 86,
     "metadata": {},
     "output_type": "execute_result"
    },
    {
     "data": {
      "image/png": "[encoded data removed]",
      "text/plain": [
       "<Figure size 432x288 with 1 Axes>"
      ]
     },
     "metadata": {
      "needs_background": "light"
     },
     "output_type": "display_data"
    }
   ],
   "source": [
    "(1+comparison[distances.index[-10:]]).cumprod().plot()"
   ]
  },
  {
   "cell_type": "markdown",
   "id": "1e202647-c176-480f-a368-895d7d744dd0",
   "metadata": {},
   "source": [
    "### Current PCA"
   ]
  },
  {
   "cell_type": "code",
   "execution_count": 87,
   "id": "b279a72f-1f1c-42f0-a641-013b3e43675f",
   "metadata": {},
   "outputs": [
    {
     "data": {
      "text/plain": [
       "array([0.66796311, 0.14044095, 0.08814082, 0.07124566, 0.03220946])"
      ]
     },
     "execution_count": 87,
     "metadata": {},
     "output_type": "execute_result"
    }
   ],
   "source": [
    "eigval,eigvec,portfolio_components_current=current_risk.pca(num_components=5)\n",
    "variance_explained=eigval/eigval.sum()\n",
    "variance_explained"
   ]
  },
  {
   "cell_type": "code",
   "execution_count": 88,
   "id": "dfe7f204-8aab-42a9-a2e3-95c60a6b146e",
   "metadata": {},
   "outputs": [
    {
     "data": {
      "text/plain": [
       "BTCUSDT      0.063939\n",
       "OMUSDT       0.100665\n",
       "JASMYUSDT    0.154881\n",
       "SOLUSDT      0.103759\n",
       "ETHUSDT      0.086725\n",
       "TRXUSDT      0.014650\n",
       "BBUSDT       0.245241\n",
       "BNBUSDT      0.068298\n",
       "PEPEUSDT     0.161842\n",
       "Name: PC1, dtype: float64"
      ]
     },
     "execution_count": 88,
     "metadata": {},
     "output_type": "execute_result"
    }
   ],
   "source": [
    "pca_weight=dict((portfolio_components_current['PC1']/portfolio_components_current['PC1'].sum()))\n",
    "portfolio_components_current['PC1']"
   ]
  },
  {
   "cell_type": "code",
   "execution_count": 89,
   "id": "85176e0f-abd3-477c-89a2-f8473be390f3",
   "metadata": {},
   "outputs": [
    {
     "data": {
      "text/plain": [
       "<AxesSubplot:>"
      ]
     },
     "execution_count": 89,
     "metadata": {},
     "output_type": "execute_result"
    },
    {
     "data": {
      "image/png": "[encoded data removed]",
      "text/plain": [
       "<Figure size 432x288 with 1 Axes>"
      ]
     },
     "metadata": {
      "needs_background": "light"
     },
     "output_type": "display_data"
    }
   ],
   "source": [
    "PCA=pd.DataFrame(np.array(list(pca_weight.values())).dot(np.transpose(current_risk.returns)),\n",
    "                 index=current_risk.returns.index,\n",
    "                 columns=['PCA'])\n",
    "PCA=PCA.dropna()\n",
    "(1+PCA).cumprod().plot()"
   ]
  },
  {
   "cell_type": "code",
   "execution_count": 90,
   "id": "03b2a48e-4c5a-4d67-8760-a4631629f0a3",
   "metadata": {},
   "outputs": [
    {
     "data": {
      "text/plain": [
       "<AxesSubplot:>"
      ]
     },
     "execution_count": 90,
     "metadata": {},
     "output_type": "execute_result"
    },
    {
     "data": {
      "image/png": "[encoded data removed]",
      "text/plain": [
       "<Figure size 432x288 with 1 Axes>"
      ]
     },
     "metadata": {
      "needs_background": "light"
     },
     "output_type": "display_data"
    }
   ],
   "source": [
    "(1+current_risk.returns['BTCUSDT']).cumprod().plot()"
   ]
  },
  {
   "cell_type": "code",
   "execution_count": 91,
   "id": "726e5786-d256-485f-9aed-34cf41558ed1",
   "metadata": {},
   "outputs": [
    {
     "data": {
      "text/plain": [
       "PCA          0.000000\n",
       "ETHUSDT      0.329014\n",
       "SOLUSDT      0.343260\n",
       "BNBUSDT      0.362310\n",
       "BTCUSDT      0.363688\n",
       "JASMYUSDT    0.423905\n",
       "PEPEUSDT     0.457112\n",
       "OMUSDT       0.534891\n",
       "TRXUSDT      0.540528\n",
       "BBUSDT       0.619246\n",
       "dtype: float64"
      ]
     },
     "execution_count": 91,
     "metadata": {},
     "output_type": "execute_result"
    }
   ],
   "source": [
    "comparison=current_risk.returns.copy()\n",
    "comparison['PCA']=PCA\n",
    "distances=np.sqrt(np.sum(comparison.apply(lambda y:(y-PCA['PCA'])**2))).sort_values()\n",
    "distances.iloc[:10]"
   ]
  },
  {
   "cell_type": "code",
   "execution_count": 92,
   "id": "15dace72-ee38-4c88-92c2-df5fa14f042c",
   "metadata": {},
   "outputs": [
    {
     "data": {
      "text/plain": [
       "<AxesSubplot:>"
      ]
     },
     "execution_count": 92,
     "metadata": {},
     "output_type": "execute_result"
    },
    {
     "data": {
      "image/png": "[encoded data removed]",
      "text/plain": [
       "<Figure size 432x288 with 1 Axes>"
      ]
     },
     "metadata": {
      "needs_background": "light"
     },
     "output_type": "display_data"
    }
   ],
   "source": [
    "(1+comparison[distances.index[:10]]).cumprod().plot()"
   ]
  },
  {
   "cell_type": "markdown",
   "id": "85389228-d5d4-4e65-b11c-e46e5e4155ba",
   "metadata": {},
   "source": [
    "## Sensitivity Analysis"
   ]
  },
  {
   "cell_type": "code",
   "execution_count": 93,
   "id": "7f6c4fd8-79da-438f-9aa9-c5fe762473d3",
   "metadata": {},
   "outputs": [
    {
     "data": {
      "text/plain": [
       "PEPEUSDT     1.935627\n",
       "BBUSDT       1.660316\n",
       "JASMYUSDT    1.279911\n",
       "SOLUSDT      1.164182\n",
       "BTCUSDT      1.000000\n",
       "OMUSDT       0.988189\n",
       "ETHUSDT      0.954677\n",
       "BNBUSDT      0.670868\n",
       "TRXUSDT      0.278646\n",
       "Name: BTCUSDT, dtype: float64"
      ]
     },
     "execution_count": 93,
     "metadata": {},
     "output_type": "execute_result"
    }
   ],
   "source": [
    "beta=(ex_ante_perf.cov()/ex_ante_perf.var())['BTCUSDT'].sort_values(ascending=False)\n",
    "beta"
   ]
  },
  {
   "cell_type": "code",
   "execution_count": 94,
   "id": "47a98cfa-6cea-4d6f-9e50-a8e067707547",
   "metadata": {},
   "outputs": [
    {
     "data": {
      "text/plain": [
       "PEPEUSDT     1.560481\n",
       "BBUSDT       1.525890\n",
       "JASMYUSDT    1.152339\n",
       "BTCUSDT      1.000000\n",
       "SOLUSDT      0.936618\n",
       "ETHUSDT      0.885999\n",
       "BNBUSDT      0.607672\n",
       "OMUSDT       0.194639\n",
       "TRXUSDT     -0.126378\n",
       "Name: BTCUSDT, dtype: float64"
      ]
     },
     "execution_count": 94,
     "metadata": {},
     "output_type": "execute_result"
    }
   ],
   "source": [
    "days=15\n",
    "beta=(ex_ante_perf.iloc[-days:].cov()/ex_ante_perf.iloc[-days:].var())['BTCUSDT'].sort_values(ascending=False)\n",
    "beta"
   ]
  },
  {
   "cell_type": "markdown",
   "id": "9f7ba2ce-b159-4322-bfb9-a9f6874cda5e",
   "metadata": {},
   "source": [
    "## Sliding window optimization"
   ]
  },
  {
   "cell_type": "code",
   "execution_count": 98,
   "id": "182eaabf-5686-48d5-8c2e-9414607b541a",
   "metadata": {},
   "outputs": [
    {
     "data": {
      "text/html": [
       "<div>\n",
       "<style scoped>\n",
       "    .dataframe tbody tr th:only-of-type {\n",
       "        vertical-align: middle;\n",
       "    }\n",
       "\n",
       "    .dataframe tbody tr th {\n",
       "        vertical-align: top;\n",
       "    }\n",
       "\n",
       "    .dataframe thead th {\n",
       "        text-align: right;\n",
       "    }\n",
       "</style>\n",
       "<table border=\"1\" class=\"dataframe\">\n",
       "  <thead>\n",
       "    <tr style=\"text-align: right;\">\n",
       "      <th></th>\n",
       "      <th>BTCUSDT</th>\n",
       "      <th>OMUSDT</th>\n",
       "      <th>JASMYUSDT</th>\n",
       "      <th>SOLUSDT</th>\n",
       "      <th>ETHUSDT</th>\n",
       "      <th>TRXUSDT</th>\n",
       "      <th>BBUSDT</th>\n",
       "      <th>BNBUSDT</th>\n",
       "      <th>PEPEUSDT</th>\n",
       "    </tr>\n",
       "  </thead>\n",
       "  <tbody>\n",
       "    <tr>\n",
       "      <th>2024-05-27</th>\n",
       "      <td>0.000000</td>\n",
       "      <td>0.000000</td>\n",
       "      <td>0.622138</td>\n",
       "      <td>0.000000</td>\n",
       "      <td>0.0</td>\n",
       "      <td>0.000000</td>\n",
       "      <td>0.000000</td>\n",
       "      <td>0.000000</td>\n",
       "      <td>0.377862</td>\n",
       "    </tr>\n",
       "    <tr>\n",
       "      <th>2024-06-10</th>\n",
       "      <td>0.000000</td>\n",
       "      <td>0.625881</td>\n",
       "      <td>0.150844</td>\n",
       "      <td>0.000000</td>\n",
       "      <td>0.0</td>\n",
       "      <td>0.223275</td>\n",
       "      <td>0.000000</td>\n",
       "      <td>0.000000</td>\n",
       "      <td>0.000000</td>\n",
       "    </tr>\n",
       "    <tr>\n",
       "      <th>2024-06-24</th>\n",
       "      <td>0.000000</td>\n",
       "      <td>0.000000</td>\n",
       "      <td>0.000000</td>\n",
       "      <td>0.000000</td>\n",
       "      <td>0.0</td>\n",
       "      <td>1.000000</td>\n",
       "      <td>0.000000</td>\n",
       "      <td>0.000000</td>\n",
       "      <td>0.000000</td>\n",
       "    </tr>\n",
       "    <tr>\n",
       "      <th>2024-07-08</th>\n",
       "      <td>0.000000</td>\n",
       "      <td>0.182521</td>\n",
       "      <td>0.000000</td>\n",
       "      <td>0.000000</td>\n",
       "      <td>0.0</td>\n",
       "      <td>0.817479</td>\n",
       "      <td>0.000000</td>\n",
       "      <td>0.000000</td>\n",
       "      <td>0.000000</td>\n",
       "    </tr>\n",
       "    <tr>\n",
       "      <th>2024-07-22</th>\n",
       "      <td>0.414537</td>\n",
       "      <td>0.133222</td>\n",
       "      <td>0.000000</td>\n",
       "      <td>0.111977</td>\n",
       "      <td>0.0</td>\n",
       "      <td>0.340265</td>\n",
       "      <td>0.000000</td>\n",
       "      <td>0.000000</td>\n",
       "      <td>0.000000</td>\n",
       "    </tr>\n",
       "    <tr>\n",
       "      <th>2024-08-05</th>\n",
       "      <td>0.000000</td>\n",
       "      <td>0.000000</td>\n",
       "      <td>1.000000</td>\n",
       "      <td>0.000000</td>\n",
       "      <td>0.0</td>\n",
       "      <td>0.000000</td>\n",
       "      <td>0.000000</td>\n",
       "      <td>0.000000</td>\n",
       "      <td>0.000000</td>\n",
       "    </tr>\n",
       "    <tr>\n",
       "      <th>2024-08-19</th>\n",
       "      <td>0.000000</td>\n",
       "      <td>0.000000</td>\n",
       "      <td>0.000000</td>\n",
       "      <td>0.000000</td>\n",
       "      <td>0.0</td>\n",
       "      <td>0.926695</td>\n",
       "      <td>0.000000</td>\n",
       "      <td>0.073305</td>\n",
       "      <td>0.000000</td>\n",
       "    </tr>\n",
       "    <tr>\n",
       "      <th>2024-09-02</th>\n",
       "      <td>0.000000</td>\n",
       "      <td>0.435173</td>\n",
       "      <td>0.000000</td>\n",
       "      <td>0.000000</td>\n",
       "      <td>0.0</td>\n",
       "      <td>0.564827</td>\n",
       "      <td>0.000000</td>\n",
       "      <td>0.000000</td>\n",
       "      <td>0.000000</td>\n",
       "    </tr>\n",
       "    <tr>\n",
       "      <th>2024-09-16</th>\n",
       "      <td>0.000000</td>\n",
       "      <td>0.287486</td>\n",
       "      <td>0.000000</td>\n",
       "      <td>0.000000</td>\n",
       "      <td>0.0</td>\n",
       "      <td>0.000000</td>\n",
       "      <td>0.712514</td>\n",
       "      <td>0.000000</td>\n",
       "      <td>0.000000</td>\n",
       "    </tr>\n",
       "  </tbody>\n",
       "</table>\n",
       "</div>"
      ],
      "text/plain": [
       "             BTCUSDT    OMUSDT  JASMYUSDT   SOLUSDT  ETHUSDT   TRXUSDT  \\\n",
       "2024-05-27  0.000000  0.000000   0.622138  0.000000      0.0  0.000000   \n",
       "2024-06-10  0.000000  0.625881   0.150844  0.000000      0.0  0.223275   \n",
       "2024-06-24  0.000000  0.000000   0.000000  0.000000      0.0  1.000000   \n",
       "2024-07-08  0.000000  0.182521   0.000000  0.000000      0.0  0.817479   \n",
       "2024-07-22  0.414537  0.133222   0.000000  0.111977      0.0  0.340265   \n",
       "2024-08-05  0.000000  0.000000   1.000000  0.000000      0.0  0.000000   \n",
       "2024-08-19  0.000000  0.000000   0.000000  0.000000      0.0  0.926695   \n",
       "2024-09-02  0.000000  0.435173   0.000000  0.000000      0.0  0.564827   \n",
       "2024-09-16  0.000000  0.287486   0.000000  0.000000      0.0  0.000000   \n",
       "\n",
       "              BBUSDT   BNBUSDT  PEPEUSDT  \n",
       "2024-05-27  0.000000  0.000000  0.377862  \n",
       "2024-06-10  0.000000  0.000000  0.000000  \n",
       "2024-06-24  0.000000  0.000000  0.000000  \n",
       "2024-07-08  0.000000  0.000000  0.000000  \n",
       "2024-07-22  0.000000  0.000000  0.000000  \n",
       "2024-08-05  0.000000  0.000000  0.000000  \n",
       "2024-08-19  0.000000  0.073305  0.000000  \n",
       "2024-09-02  0.000000  0.000000  0.000000  \n",
       "2024-09-16  0.712514  0.000000  0.000000  "
      ]
     },
     "execution_count": 98,
     "metadata": {},
     "output_type": "execute_result"
    }
   ],
   "source": [
    "results={}\n",
    "window=14\n",
    "\n",
    "for i in range(0,ex_ante_perf_to_use.shape[0]-window+1,window):\n",
    "    \n",
    "    try:\n",
    "        dataset=ex_ante_perf_to_use.iloc[i:i+window]\n",
    "        risk=RiskAnalysis(dataset)\n",
    "        date=dataset.index[-1]\n",
    "        optimal=risk.optimize(objective='sharpe_ratio')     \n",
    "        results[date]=np.round(optimal,6)\n",
    "        \n",
    "    except Exception as e:\n",
    "        \n",
    "            pass\n",
    "\n",
    "rolling_optimization=pd.DataFrame(results,index=ex_ante_perf_to_use.columns).T\n",
    "rolling_optimization"
   ]
  },
  {
   "cell_type": "code",
   "execution_count": 99,
   "id": "1d61cb3b-6a95-48f3-9728-25a64dc11af4",
   "metadata": {},
   "outputs": [
    {
     "data": {
      "text/plain": [
       "BTCUSDT      1\n",
       "OMUSDT       3\n",
       "JASMYUSDT    2\n",
       "SOLUSDT      0\n",
       "ETHUSDT      0\n",
       "TRXUSDT      5\n",
       "BBUSDT       1\n",
       "BNBUSDT      0\n",
       "PEPEUSDT     1\n",
       "dtype: int64"
      ]
     },
     "execution_count": 99,
     "metadata": {},
     "output_type": "execute_result"
    }
   ],
   "source": [
    "(rolling_optimization>0.25).sum()"
   ]
  },
  {
   "cell_type": "code",
   "execution_count": 100,
   "id": "35cab80e-d116-432f-8e5a-fa1d2ba76d3e",
   "metadata": {},
   "outputs": [
    {
     "data": {
      "text/html": [
       "<div>\n",
       "<style scoped>\n",
       "    .dataframe tbody tr th:only-of-type {\n",
       "        vertical-align: middle;\n",
       "    }\n",
       "\n",
       "    .dataframe tbody tr th {\n",
       "        vertical-align: top;\n",
       "    }\n",
       "\n",
       "    .dataframe thead th {\n",
       "        text-align: right;\n",
       "    }\n",
       "</style>\n",
       "<table border=\"1\" class=\"dataframe\">\n",
       "  <thead>\n",
       "    <tr style=\"text-align: right;\">\n",
       "      <th></th>\n",
       "      <th>Date</th>\n",
       "      <th>Daily PnL</th>\n",
       "      <th>Cumulative Pnl</th>\n",
       "      <th>%</th>\n",
       "    </tr>\n",
       "  </thead>\n",
       "  <tbody>\n",
       "    <tr>\n",
       "      <th>0</th>\n",
       "      <td>2024-09-19</td>\n",
       "      <td>30.09</td>\n",
       "      <td>-376.42</td>\n",
       "      <td>-0.1597</td>\n",
       "    </tr>\n",
       "    <tr>\n",
       "      <th>1</th>\n",
       "      <td>2024-09-18</td>\n",
       "      <td>47.27</td>\n",
       "      <td>-406.51</td>\n",
       "      <td>-0.1725</td>\n",
       "    </tr>\n",
       "    <tr>\n",
       "      <th>2</th>\n",
       "      <td>2024-09-17</td>\n",
       "      <td>31.29</td>\n",
       "      <td>-453.78</td>\n",
       "      <td>-0.1926</td>\n",
       "    </tr>\n",
       "    <tr>\n",
       "      <th>3</th>\n",
       "      <td>2024-09-16</td>\n",
       "      <td>-17.31</td>\n",
       "      <td>-485.07</td>\n",
       "      <td>-0.2059</td>\n",
       "    </tr>\n",
       "    <tr>\n",
       "      <th>4</th>\n",
       "      <td>2024-09-15</td>\n",
       "      <td>-36.52</td>\n",
       "      <td>-467.76</td>\n",
       "      <td>-0.1985</td>\n",
       "    </tr>\n",
       "    <tr>\n",
       "      <th>...</th>\n",
       "      <td>...</td>\n",
       "      <td>...</td>\n",
       "      <td>...</td>\n",
       "      <td>...</td>\n",
       "    </tr>\n",
       "    <tr>\n",
       "      <th>131</th>\n",
       "      <td>2024-05-11</td>\n",
       "      <td>2.89</td>\n",
       "      <td>0.82</td>\n",
       "      <td>0.0023</td>\n",
       "    </tr>\n",
       "    <tr>\n",
       "      <th>132</th>\n",
       "      <td>2024-05-10</td>\n",
       "      <td>-3.56</td>\n",
       "      <td>-2.07</td>\n",
       "      <td>-0.0059</td>\n",
       "    </tr>\n",
       "    <tr>\n",
       "      <th>133</th>\n",
       "      <td>2024-05-09</td>\n",
       "      <td>2.43</td>\n",
       "      <td>1.49</td>\n",
       "      <td>0.0107</td>\n",
       "    </tr>\n",
       "    <tr>\n",
       "      <th>134</th>\n",
       "      <td>2024-05-08</td>\n",
       "      <td>-1.62</td>\n",
       "      <td>-0.94</td>\n",
       "      <td>-0.0134</td>\n",
       "    </tr>\n",
       "    <tr>\n",
       "      <th>135</th>\n",
       "      <td>2024-05-07</td>\n",
       "      <td>-1.54</td>\n",
       "      <td>0.69</td>\n",
       "      <td>0.0098</td>\n",
       "    </tr>\n",
       "  </tbody>\n",
       "</table>\n",
       "<p>136 rows × 4 columns</p>\n",
       "</div>"
      ],
      "text/plain": [
       "          Date  Daily PnL  Cumulative Pnl       %\n",
       "0   2024-09-19      30.09         -376.42 -0.1597\n",
       "1   2024-09-18      47.27         -406.51 -0.1725\n",
       "2   2024-09-17      31.29         -453.78 -0.1926\n",
       "3   2024-09-16     -17.31         -485.07 -0.2059\n",
       "4   2024-09-15     -36.52         -467.76 -0.1985\n",
       "..         ...        ...             ...     ...\n",
       "131 2024-05-11       2.89            0.82  0.0023\n",
       "132 2024-05-10      -3.56           -2.07 -0.0059\n",
       "133 2024-05-09       2.43            1.49  0.0107\n",
       "134 2024-05-08      -1.62           -0.94 -0.0134\n",
       "135 2024-05-07      -1.54            0.69  0.0098\n",
       "\n",
       "[136 rows x 4 columns]"
      ]
     },
     "execution_count": 100,
     "metadata": {},
     "output_type": "execute_result"
    }
   ],
   "source": [
    "pd.read_excel('PnL Binance.xlsx')"
   ]
  },
  {
   "cell_type": "code",
   "execution_count": null,
   "id": "bdf03561-b867-47ed-9960-bde70a13cd95",
   "metadata": {},
   "outputs": [],
   "source": []
  }
 ],
 "metadata": {
  "kernelspec": {
   "display_name": "Python 3 (ipykernel)",
   "language": "python",
   "name": "python3"
  },
  "language_info": {
   "codemirror_mode": {
    "name": "ipython",
    "version": 3
   },
   "file_extension": ".py",
   "mimetype": "text/x-python",
   "name": "python",
   "nbconvert_exporter": "python",
   "pygments_lexer": "ipython3",
   "version": "3.9.12"
  }
 },
 "nbformat": 4,
 "nbformat_minor": 5
}
