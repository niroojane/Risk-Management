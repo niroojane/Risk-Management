{
 "cells": [
  {
   "cell_type": "markdown",
   "id": "b37f1921-36ab-4456-9e86-117c39f91bc4",
   "metadata": {},
   "source": [
    "# Importing Libraries"
   ]
  },
  {
   "cell_type": "code",
   "execution_count": 1,
   "id": "253e6d58-9a7b-4874-aaec-dd0467a660b6",
   "metadata": {},
   "outputs": [],
   "source": [
    "import pandas as pd\n",
    "import random\n",
    "import numpy as np\n",
    "import matplotlib.pyplot as plt\n",
    "import datetime"
   ]
  },
  {
   "cell_type": "code",
   "execution_count": 2,
   "id": "917dd650-def2-4d10-89d9-ca82b6a3704f",
   "metadata": {},
   "outputs": [],
   "source": [
    "%run \"Stock Data.ipynb\".ipynb\n",
    "%run \"Binance API.ipynb\".ipynb\n",
    "%run \"RiskMetrics.ipynb\".ipynb"
   ]
  },
  {
   "cell_type": "markdown",
   "id": "01a00d22-d2b2-4f90-97d6-a7a3f8ef242f",
   "metadata": {},
   "source": [
    "# Importing Data"
   ]
  },
  {
   "cell_type": "markdown",
   "id": "0af29f5a-4c7d-44b2-8ecc-6d859cdc6983",
   "metadata": {},
   "source": [
    "## Tickers"
   ]
  },
  {
   "cell_type": "code",
   "execution_count": 3,
   "id": "41026f72-423f-4a5a-834c-0fd2e3829084",
   "metadata": {},
   "outputs": [],
   "source": [
    "binance_api_key='E90xR7UnO2oeP3lrgC50zkqUuAqyyXs4uSlAGcqIVO9n90ELrFI4gfVI2HGGxxCj'\n",
    "binance_api_secret='Inls2xYl9FqPi0zlIrucfxG81drx7w6Pv6SzYFxMNoAcwDjlCKug7zUM9zB3lF9h'\n",
    "Binance=BinanceAPI(binance_api_key,binance_api_secret)"
   ]
  },
  {
   "cell_type": "code",
   "execution_count": 4,
   "id": "0f1c0e61-395a-407c-9aef-80d5011e56b5",
   "metadata": {},
   "outputs": [],
   "source": [
    "#stocks=pd.read_html('https://en.wikipedia.org/wiki/EURO_STOXX_50')[4]\n",
    "#tickers=stocks['Ticker'].to_list()"
   ]
  },
  {
   "cell_type": "markdown",
   "id": "c33884b2-73bc-4e92-8c5b-09559b34051d",
   "metadata": {},
   "source": [
    "## Market Data"
   ]
  },
  {
   "cell_type": "code",
   "execution_count": 5,
   "id": "f7d23762-54f8-4693-a00a-63d008fe97d2",
   "metadata": {},
   "outputs": [],
   "source": [
    "start_date=datetime.datetime(2023,12,1)\n",
    "enddate=start_date+datetime.timedelta(500)"
   ]
  },
  {
   "cell_type": "code",
   "execution_count": 6,
   "id": "bb6db6d9-4595-4d8f-aa48-bbf2ac3e9c89",
   "metadata": {},
   "outputs": [],
   "source": [
    "tickers=Binance.get_market_cap()['Ticker'].iloc[:75].to_list()\n",
    "holding=Binance.get_inventory()\n",
    "condition=holding.index!='Total'\n",
    "holding_tickers=holding.index[condition]\n",
    "holding_tickers=holding_tickers.to_list()\n",
    "tickers=sorted(list(set(tickers+holding_tickers)))"
   ]
  },
  {
   "cell_type": "code",
   "execution_count": 7,
   "id": "02b13058-bb72-491c-b1c4-107367b2d402",
   "metadata": {},
   "outputs": [],
   "source": [
    "data1=Binance.get_price(tickers,start_date)\n",
    "data2=Binance.get_price(tickers,enddate)\n",
    "data=data1.combine_first(data2)\n",
    "data.index=pd.to_datetime(data.index)\n",
    "#data=data.dropna(axis=1)\n",
    "n=len(data.columns)"
   ]
  },
  {
   "cell_type": "code",
   "execution_count": 8,
   "id": "a7ee0b66-ecaf-4307-a5e9-116243b92adc",
   "metadata": {},
   "outputs": [
    {
     "data": {
      "text/plain": [
       "{'BTCUSDT': 0.3839,\n",
       " 'JASMYUSDT': 0.18960000000000002,\n",
       " 'ETHUSDT': 0.1392,\n",
       " 'SOLUSDT': 0.1151,\n",
       " 'MKRUSDT': 0.0587,\n",
       " 'BBUSDT': 0.0564,\n",
       " 'PEPEUSDT': 0.0348,\n",
       " 'BNBUSDT': 0.0223,\n",
       " 'FETUSDT': 0.0,\n",
       " 'TRXUSDT': 0.0}"
      ]
     },
     "execution_count": 8,
     "metadata": {},
     "output_type": "execute_result"
    }
   ],
   "source": [
    "inventory_weights=(holding['Weights in %'].apply(lambda x: np.round(x,2))/100).to_dict()\n",
    "inventory_weights.pop('Total')\n",
    "inventory_weights"
   ]
  },
  {
   "cell_type": "code",
   "execution_count": 9,
   "id": "f12eea91-8e16-438a-8418-e9a00c684c51",
   "metadata": {},
   "outputs": [],
   "source": [
    "returns=np.log(1+data.pct_change())\n",
    "returns.index=pd.to_datetime(returns.index)\n",
    "with_no_na=returns.columns[np.where((returns.isna().sum()<30))]\n",
    "returns_to_use=returns[with_no_na]\n",
    "ex_ante_perf=returns[holding_tickers]\n",
    "ex_ante_perf_to_use=ex_ante_perf.dropna()"
   ]
  },
  {
   "cell_type": "code",
   "execution_count": 10,
   "id": "df05427c-657b-437f-9a30-73bb2e1d6269",
   "metadata": {},
   "outputs": [],
   "source": [
    "weights_post=dict()\n",
    "\n",
    "for col in ex_ante_perf.columns:\n",
    "    \n",
    "    if col in inventory_weights.keys():\n",
    "        weights_post[col]=inventory_weights[col]\n",
    "        \n",
    "    else:\n",
    "        weights_post[col]=0\n",
    "    \n",
    "current_weights=np.array(list(weights_post.values()))"
   ]
  },
  {
   "cell_type": "markdown",
   "id": "b140110e-5f33-465c-8e5c-0fc7a645c27d",
   "metadata": {},
   "source": [
    "### Positions"
   ]
  },
  {
   "cell_type": "code",
   "execution_count": 11,
   "id": "6c21d936-c212-4a5b-a832-94b0d973e0a2",
   "metadata": {},
   "outputs": [
    {
     "name": "stdout",
     "output_type": "stream",
     "text": [
      "2024-05-05 00:00:00\n",
      "2024-06-04 00:00:00\n",
      "LDUMAUSDT not retrieved\n"
     ]
    }
   ],
   "source": [
    "positions=Binance.get_positions_history(enddate=datetime.datetime.today()-datetime.timedelta(1))\n",
    "positions=positions.sort_index()\n",
    "positions.index=pd.to_datetime(positions.index)\n",
    "positions['Total']=positions.sum(axis=1)\n",
    "weights_ex_post=positions.copy()\n",
    "weights_ex_post=weights_ex_post.apply(lambda x: x/weights_ex_post['Total']).fillna(0)"
   ]
  },
  {
   "cell_type": "code",
   "execution_count": 12,
   "id": "1c983175-a50a-44e3-85a8-dca6216f7e7f",
   "metadata": {},
   "outputs": [
    {
     "name": "stdout",
     "output_type": "stream",
     "text": [
      "LDUMAUSDT not retrieved\n",
      "Total not retrieved\n"
     ]
    }
   ],
   "source": [
    "binance_data=Binance.get_price(positions.columns,date=datetime.datetime(2024,5,5))\n",
    "binance_data.index=pd.to_datetime(binance_data.index)\n",
    "binance_data=np.log(1+binance_data.pct_change())"
   ]
  },
  {
   "cell_type": "code",
   "execution_count": 13,
   "id": "949f8d38-10b1-4b83-b64a-469845663a72",
   "metadata": {},
   "outputs": [],
   "source": [
    "historical_ptf=pd.DataFrame()"
   ]
  },
  {
   "cell_type": "code",
   "execution_count": 14,
   "id": "592b4d05-237b-4de7-af99-fda08f8a0b80",
   "metadata": {},
   "outputs": [],
   "source": [
    "for col in binance_data:\n",
    "    historical_ptf[col]=weights_ex_post[col]*binance_data[col]\n",
    "    \n",
    "historical_ptf['Historical Portfolio']=historical_ptf.sum(axis=1)"
   ]
  },
  {
   "cell_type": "code",
   "execution_count": 15,
   "id": "4fc309a8-a96d-41c0-9753-96378ac4c7dc",
   "metadata": {},
   "outputs": [
    {
     "data": {
      "text/plain": [
       "2024-05-04    0.000000\n",
       "2024-05-05    0.000000\n",
       "2024-05-06    0.000000\n",
       "2024-05-07    0.000000\n",
       "2024-05-08    0.000000\n",
       "2024-05-09    0.060757\n",
       "2024-05-10    0.000000\n",
       "2024-05-11    0.012773\n",
       "2024-05-12    0.000000\n",
       "2024-05-13    0.000000\n",
       "2024-05-14   -0.043904\n",
       "2024-05-15    0.076429\n",
       "2024-05-16   -0.013172\n",
       "2024-05-17    0.037886\n",
       "2024-05-18    0.000000\n",
       "2024-05-19    0.000000\n",
       "2024-05-20    0.098363\n",
       "2024-05-21   -0.014657\n",
       "2024-05-22   -0.014925\n",
       "2024-05-23   -0.019633\n",
       "2024-05-24   -0.018022\n",
       "2024-05-25    0.049991\n",
       "2024-05-26    0.040639\n",
       "2024-05-27    0.006906\n",
       "2024-05-28   -0.014313\n",
       "2024-05-29   -0.023178\n",
       "2024-05-30    0.021355\n",
       "2024-05-31    0.007437\n",
       "2024-06-01    0.026174\n",
       "2024-06-02   -0.018180\n",
       "2024-06-03    0.001344\n",
       "2024-06-04    0.030375\n",
       "2024-06-05    0.031075\n",
       "2024-06-06   -0.015019\n",
       "2024-06-07   -0.041131\n",
       "2024-06-08   -0.022456\n",
       "2024-06-09    0.017172\n",
       "2024-06-10   -0.020273\n",
       "2024-06-11   -0.050882\n",
       "2024-06-12    0.031308\n",
       "2024-06-13   -0.048318\n",
       "2024-06-14   -0.008656\n",
       "2024-06-15    0.020028\n",
       "2024-06-16    0.037120\n",
       "2024-06-17   -0.042693\n",
       "2024-06-18   -0.043005\n",
       "2024-06-19   -0.004454\n",
       "2024-06-20   -0.014985\n",
       "2024-06-21    0.000687\n",
       "2024-06-22    0.012157\n",
       "2024-06-23   -0.035370\n",
       "2024-06-24    0.000000\n",
       "Name: Historical Portfolio, dtype: float64"
      ]
     },
     "execution_count": 15,
     "metadata": {},
     "output_type": "execute_result"
    }
   ],
   "source": [
    "historical_ptf['Historical Portfolio']"
   ]
  },
  {
   "cell_type": "code",
   "execution_count": 16,
   "id": "c58b1420-5345-4feb-af42-6f019cfdf19c",
   "metadata": {},
   "outputs": [
    {
     "data": {
      "text/plain": [
       "<AxesSubplot:>"
      ]
     },
     "execution_count": 16,
     "metadata": {},
     "output_type": "execute_result"
    },
    {
     "data": {
      "image/png": "[encoded data removed]",
      "text/plain": [
       "<Figure size 432x288 with 1 Axes>"
      ]
     },
     "metadata": {
      "needs_background": "light"
     },
     "output_type": "display_data"
    }
   ],
   "source": [
    "historical_ptf.dropna(axis = 0, how = 'all', inplace = True)\n",
    "(1+historical_ptf['Historical Portfolio']).cumprod().plot()"
   ]
  },
  {
   "cell_type": "markdown",
   "id": "234cc405-16b8-4ea6-89f9-bf448d837670",
   "metadata": {},
   "source": [
    "### Ex ante data"
   ]
  },
  {
   "cell_type": "code",
   "execution_count": 17,
   "id": "7ee292e8-f6bc-4ef9-b8b0-e15e2be17781",
   "metadata": {},
   "outputs": [],
   "source": [
    "ex_ante_ptf=ex_ante_perf.copy()\n",
    "\n",
    "for key in inventory_weights.keys():\n",
    "    \n",
    "    ex_ante_ptf[key]=ex_ante_perf[key]*inventory_weights[key]\n",
    "\n",
    "ex_ante_ptf=pd.DataFrame(ex_ante_ptf.sum(axis=1))"
   ]
  },
  {
   "cell_type": "markdown",
   "id": "bbec8b12-d681-4704-a561-9718fbb872e0",
   "metadata": {},
   "source": [
    "# Portfolio Optimization"
   ]
  },
  {
   "cell_type": "code",
   "execution_count": 18,
   "id": "67b021a8-8d38-4f77-b8ab-d43a21d69c4e",
   "metadata": {},
   "outputs": [],
   "source": [
    "historical_risk=RiskAnalysis(returns_to_use)\n",
    "current_risk=RiskAnalysis(ex_ante_perf_to_use)\n",
    "num_asset=len(returns_to_use.columns)\n",
    "num_asset_current=len(ex_ante_perf_to_use.columns)"
   ]
  },
  {
   "cell_type": "code",
   "execution_count": 19,
   "id": "53c3e251-cf64-4546-bbbe-0d31d4cb08a9",
   "metadata": {},
   "outputs": [
    {
     "data": {
      "text/plain": [
       "Index(['AAVEUSDT', 'ADAUSDT', 'AGIXUSDT', 'ALGOUSDT', 'APTUSDT', 'ARBUSDT',\n",
       "       'ARUSDT', 'ATOMUSDT', 'AVAXUSDT', 'AXSUSDT', 'BCHUSDT', 'BNBUSDT',\n",
       "       'BONKUSDT', 'BTCUSDT', 'DOGEUSDT', 'DOTUSDT', 'DYDXUSDT', 'EGLDUSDT',\n",
       "       'ENSUSDT', 'EOSUSDT', 'ETCUSDT', 'ETHUSDT', 'FDUSDUSDT', 'FETUSDT',\n",
       "       'FILUSDT', 'FLOKIUSDT', 'FLOWUSDT', 'FTMUSDT', 'GALAUSDT', 'GNOUSDT',\n",
       "       'GRTUSDT', 'HBARUSDT', 'ICPUSDT', 'IMXUSDT', 'INJUSDT', 'JASMYUSDT',\n",
       "       'LDOUSDT', 'LINKUSDT', 'LTCUSDT', 'MATICUSDT', 'MKRUSDT', 'NEARUSDT',\n",
       "       'NEOUSDT', 'OPUSDT', 'ORDIUSDT', 'PENDLEUSDT', 'PEPEUSDT', 'QNTUSDT',\n",
       "       'RNDRUSDT', 'RUNEUSDT', 'SANDUSDT', 'SEIUSDT', 'SHIBUSDT', 'SOLUSDT',\n",
       "       'STXUSDT', 'SUIUSDT', 'THETAUSDT', 'TIAUSDT', 'TRXUSDT', 'UNIUSDT',\n",
       "       'USDCUSDT', 'VETUSDT', 'WBETHUSDT', 'WBTCUSDT', 'XLMUSDT', 'XRPUSDT',\n",
       "       'XTZUSDT'],\n",
       "      dtype='object')"
      ]
     },
     "execution_count": 19,
     "metadata": {},
     "output_type": "execute_result"
    }
   ],
   "source": [
    "returns_to_use.columns"
   ]
  },
  {
   "cell_type": "markdown",
   "id": "fd2fa57d-de01-4917-8d08-d33930572316",
   "metadata": {},
   "source": [
    "## Optimal Portfolio"
   ]
  },
  {
   "cell_type": "code",
   "execution_count": 20,
   "id": "cc28c771-0d6b-4cda-abc5-865518922520",
   "metadata": {},
   "outputs": [
    {
     "data": {
      "text/html": [
       "<div>\n",
       "<style scoped>\n",
       "    .dataframe tbody tr th:only-of-type {\n",
       "        vertical-align: middle;\n",
       "    }\n",
       "\n",
       "    .dataframe tbody tr th {\n",
       "        vertical-align: top;\n",
       "    }\n",
       "\n",
       "    .dataframe thead th {\n",
       "        text-align: right;\n",
       "    }\n",
       "</style>\n",
       "<table border=\"1\" class=\"dataframe\">\n",
       "  <thead>\n",
       "    <tr style=\"text-align: right;\">\n",
       "      <th></th>\n",
       "      <th>Weights</th>\n",
       "    </tr>\n",
       "  </thead>\n",
       "  <tbody>\n",
       "    <tr>\n",
       "      <th>BTCUSDT</th>\n",
       "      <td>0.300000</td>\n",
       "    </tr>\n",
       "    <tr>\n",
       "      <th>BNBUSDT</th>\n",
       "      <td>0.196215</td>\n",
       "    </tr>\n",
       "    <tr>\n",
       "      <th>ETHUSDT</th>\n",
       "      <td>0.150000</td>\n",
       "    </tr>\n",
       "    <tr>\n",
       "      <th>JASMYUSDT</th>\n",
       "      <td>0.137577</td>\n",
       "    </tr>\n",
       "    <tr>\n",
       "      <th>PENDLEUSDT</th>\n",
       "      <td>0.124245</td>\n",
       "    </tr>\n",
       "    <tr>\n",
       "      <th>PEPEUSDT</th>\n",
       "      <td>0.091962</td>\n",
       "    </tr>\n",
       "  </tbody>\n",
       "</table>\n",
       "</div>"
      ],
      "text/plain": [
       "             Weights\n",
       "BTCUSDT     0.300000\n",
       "BNBUSDT     0.196215\n",
       "ETHUSDT     0.150000\n",
       "JASMYUSDT   0.137577\n",
       "PENDLEUSDT  0.124245\n",
       "PEPEUSDT    0.091962"
      ]
     },
     "execution_count": 20,
     "metadata": {},
     "output_type": "execute_result"
    }
   ],
   "source": [
    "opt_weights=historical_risk.optimize(objective=\"sharpe_ratio\",constraints=[{'type': 'ineq', 'fun': lambda weights: weights[21]-0.15},\n",
    "                                                           {'type': 'ineq', 'fun': lambda weights: weights[13]-0.3}])\n",
    "opt_weights=np.round(opt_weights,6)\n",
    "inventory=historical_risk.inventory(opt_weights)\n",
    "inventory"
   ]
  },
  {
   "cell_type": "code",
   "execution_count": 21,
   "id": "b9a2e430-4d2b-4cb3-8331-09054eb51d03",
   "metadata": {},
   "outputs": [
    {
     "data": {
      "text/html": [
       "<div>\n",
       "<style scoped>\n",
       "    .dataframe tbody tr th:only-of-type {\n",
       "        vertical-align: middle;\n",
       "    }\n",
       "\n",
       "    .dataframe tbody tr th {\n",
       "        vertical-align: top;\n",
       "    }\n",
       "\n",
       "    .dataframe thead th {\n",
       "        text-align: right;\n",
       "    }\n",
       "</style>\n",
       "<table border=\"1\" class=\"dataframe\">\n",
       "  <thead>\n",
       "    <tr style=\"text-align: right;\">\n",
       "      <th></th>\n",
       "      <th>Weights</th>\n",
       "    </tr>\n",
       "  </thead>\n",
       "  <tbody>\n",
       "    <tr>\n",
       "      <th>JASMYUSDT</th>\n",
       "      <td>0.55</td>\n",
       "    </tr>\n",
       "    <tr>\n",
       "      <th>BTCUSDT</th>\n",
       "      <td>0.30</td>\n",
       "    </tr>\n",
       "    <tr>\n",
       "      <th>ETHUSDT</th>\n",
       "      <td>0.15</td>\n",
       "    </tr>\n",
       "  </tbody>\n",
       "</table>\n",
       "</div>"
      ],
      "text/plain": [
       "           Weights\n",
       "JASMYUSDT     0.55\n",
       "BTCUSDT       0.30\n",
       "ETHUSDT       0.15"
      ]
     },
     "execution_count": 21,
     "metadata": {},
     "output_type": "execute_result"
    }
   ],
   "source": [
    "current_optimal_weights=current_risk.optimize(objective=\"sharpe_ratio\",constraints=[{'type': 'ineq', 'fun': lambda weights: weights[0]-0.3},\n",
    "                                                           {'type': 'ineq', 'fun': lambda weights: weights[2]-0.15}])\n",
    "current_optimal_weights=np.round(current_optimal_weights,6)\n",
    "optimal_ptf_current=current_risk.inventory(current_optimal_weights)\n",
    "optimal_ptf_current"
   ]
  },
  {
   "cell_type": "markdown",
   "id": "555e4cdf-3f8d-445a-b5d7-e35eb59aa4b2",
   "metadata": {},
   "source": [
    "## Real Portfolio vs Optimal"
   ]
  },
  {
   "cell_type": "code",
   "execution_count": 22,
   "id": "1f55a04d-3575-446a-a801-7824e452dd57",
   "metadata": {},
   "outputs": [
    {
     "data": {
      "text/html": [
       "<div>\n",
       "<style scoped>\n",
       "    .dataframe tbody tr th:only-of-type {\n",
       "        vertical-align: middle;\n",
       "    }\n",
       "\n",
       "    .dataframe tbody tr th {\n",
       "        vertical-align: top;\n",
       "    }\n",
       "\n",
       "    .dataframe thead th {\n",
       "        text-align: right;\n",
       "    }\n",
       "</style>\n",
       "<table border=\"1\" class=\"dataframe\">\n",
       "  <thead>\n",
       "    <tr style=\"text-align: right;\">\n",
       "      <th></th>\n",
       "      <th>Price in USDT</th>\n",
       "      <th>Weights in %</th>\n",
       "      <th>Weights</th>\n",
       "      <th>Spread</th>\n",
       "    </tr>\n",
       "  </thead>\n",
       "  <tbody>\n",
       "    <tr>\n",
       "      <th>BTCUSDT</th>\n",
       "      <td>641.137898</td>\n",
       "      <td>38.392292</td>\n",
       "      <td>30.0</td>\n",
       "      <td>8.392292</td>\n",
       "    </tr>\n",
       "    <tr>\n",
       "      <th>JASMYUSDT</th>\n",
       "      <td>316.608932</td>\n",
       "      <td>18.959014</td>\n",
       "      <td>55.0</td>\n",
       "      <td>-36.040986</td>\n",
       "    </tr>\n",
       "    <tr>\n",
       "      <th>ETHUSDT</th>\n",
       "      <td>232.428619</td>\n",
       "      <td>13.918172</td>\n",
       "      <td>15.0</td>\n",
       "      <td>-1.081828</td>\n",
       "    </tr>\n",
       "    <tr>\n",
       "      <th>SOLUSDT</th>\n",
       "      <td>192.211288</td>\n",
       "      <td>11.509898</td>\n",
       "      <td>0.0</td>\n",
       "      <td>0.000000</td>\n",
       "    </tr>\n",
       "    <tr>\n",
       "      <th>MKRUSDT</th>\n",
       "      <td>98.072499</td>\n",
       "      <td>5.872727</td>\n",
       "      <td>0.0</td>\n",
       "      <td>0.000000</td>\n",
       "    </tr>\n",
       "    <tr>\n",
       "      <th>BBUSDT</th>\n",
       "      <td>94.153104</td>\n",
       "      <td>5.638028</td>\n",
       "      <td>0.0</td>\n",
       "      <td>0.000000</td>\n",
       "    </tr>\n",
       "    <tr>\n",
       "      <th>PEPEUSDT</th>\n",
       "      <td>58.033631</td>\n",
       "      <td>3.475140</td>\n",
       "      <td>0.0</td>\n",
       "      <td>0.000000</td>\n",
       "    </tr>\n",
       "    <tr>\n",
       "      <th>BNBUSDT</th>\n",
       "      <td>37.282638</td>\n",
       "      <td>2.232540</td>\n",
       "      <td>0.0</td>\n",
       "      <td>0.000000</td>\n",
       "    </tr>\n",
       "    <tr>\n",
       "      <th>FETUSDT</th>\n",
       "      <td>0.019410</td>\n",
       "      <td>0.001162</td>\n",
       "      <td>0.0</td>\n",
       "      <td>0.000000</td>\n",
       "    </tr>\n",
       "    <tr>\n",
       "      <th>TRXUSDT</th>\n",
       "      <td>0.017152</td>\n",
       "      <td>0.001027</td>\n",
       "      <td>0.0</td>\n",
       "      <td>0.000000</td>\n",
       "    </tr>\n",
       "  </tbody>\n",
       "</table>\n",
       "</div>"
      ],
      "text/plain": [
       "           Price in USDT  Weights in %  Weights     Spread\n",
       "BTCUSDT       641.137898     38.392292     30.0   8.392292\n",
       "JASMYUSDT     316.608932     18.959014     55.0 -36.040986\n",
       "ETHUSDT       232.428619     13.918172     15.0  -1.081828\n",
       "SOLUSDT       192.211288     11.509898      0.0   0.000000\n",
       "MKRUSDT        98.072499      5.872727      0.0   0.000000\n",
       "BBUSDT         94.153104      5.638028      0.0   0.000000\n",
       "PEPEUSDT       58.033631      3.475140      0.0   0.000000\n",
       "BNBUSDT        37.282638      2.232540      0.0   0.000000\n",
       "FETUSDT         0.019410      0.001162      0.0   0.000000\n",
       "TRXUSDT         0.017152      0.001027      0.0   0.000000"
      ]
     },
     "execution_count": 22,
     "metadata": {},
     "output_type": "execute_result"
    }
   ],
   "source": [
    "current_holding_comparison=holding.copy()\n",
    "current_holding_comparison=current_holding_comparison.loc[current_holding_comparison.index!=\"Total\"]\n",
    "current_holding_comparison=pd.concat([current_holding_comparison,optimal_ptf_current*100],axis=1)\n",
    "current_holding_comparison['Spread']=current_holding_comparison['Weights in %']-current_holding_comparison['Weights']\n",
    "current_holding_comparison=current_holding_comparison.fillna(0)\n",
    "current_holding_comparison"
   ]
  },
  {
   "cell_type": "code",
   "execution_count": 23,
   "id": "c02b695b-bfaa-4eef-9212-e0b2717db2a0",
   "metadata": {},
   "outputs": [
    {
     "data": {
      "text/html": [
       "<div>\n",
       "<style scoped>\n",
       "    .dataframe tbody tr th:only-of-type {\n",
       "        vertical-align: middle;\n",
       "    }\n",
       "\n",
       "    .dataframe tbody tr th {\n",
       "        vertical-align: top;\n",
       "    }\n",
       "\n",
       "    .dataframe thead th {\n",
       "        text-align: right;\n",
       "    }\n",
       "</style>\n",
       "<table border=\"1\" class=\"dataframe\">\n",
       "  <thead>\n",
       "    <tr style=\"text-align: right;\">\n",
       "      <th></th>\n",
       "      <th>Price in USDT</th>\n",
       "      <th>Weights in %</th>\n",
       "      <th>Weights</th>\n",
       "      <th>Spread</th>\n",
       "    </tr>\n",
       "  </thead>\n",
       "  <tbody>\n",
       "    <tr>\n",
       "      <th>BTCUSDT</th>\n",
       "      <td>641.137898</td>\n",
       "      <td>38.392292</td>\n",
       "      <td>30.0000</td>\n",
       "      <td>8.392292</td>\n",
       "    </tr>\n",
       "    <tr>\n",
       "      <th>JASMYUSDT</th>\n",
       "      <td>316.608932</td>\n",
       "      <td>18.959014</td>\n",
       "      <td>13.7577</td>\n",
       "      <td>5.201314</td>\n",
       "    </tr>\n",
       "    <tr>\n",
       "      <th>ETHUSDT</th>\n",
       "      <td>232.428619</td>\n",
       "      <td>13.918172</td>\n",
       "      <td>15.0000</td>\n",
       "      <td>-1.081828</td>\n",
       "    </tr>\n",
       "    <tr>\n",
       "      <th>SOLUSDT</th>\n",
       "      <td>192.211288</td>\n",
       "      <td>11.509898</td>\n",
       "      <td>0.0000</td>\n",
       "      <td>0.000000</td>\n",
       "    </tr>\n",
       "    <tr>\n",
       "      <th>MKRUSDT</th>\n",
       "      <td>98.072499</td>\n",
       "      <td>5.872727</td>\n",
       "      <td>0.0000</td>\n",
       "      <td>0.000000</td>\n",
       "    </tr>\n",
       "    <tr>\n",
       "      <th>BBUSDT</th>\n",
       "      <td>94.153104</td>\n",
       "      <td>5.638028</td>\n",
       "      <td>0.0000</td>\n",
       "      <td>0.000000</td>\n",
       "    </tr>\n",
       "    <tr>\n",
       "      <th>PEPEUSDT</th>\n",
       "      <td>58.033631</td>\n",
       "      <td>3.475140</td>\n",
       "      <td>9.1962</td>\n",
       "      <td>-5.721060</td>\n",
       "    </tr>\n",
       "    <tr>\n",
       "      <th>BNBUSDT</th>\n",
       "      <td>37.282638</td>\n",
       "      <td>2.232540</td>\n",
       "      <td>19.6215</td>\n",
       "      <td>-17.388960</td>\n",
       "    </tr>\n",
       "    <tr>\n",
       "      <th>FETUSDT</th>\n",
       "      <td>0.019410</td>\n",
       "      <td>0.001162</td>\n",
       "      <td>0.0000</td>\n",
       "      <td>0.000000</td>\n",
       "    </tr>\n",
       "    <tr>\n",
       "      <th>TRXUSDT</th>\n",
       "      <td>0.017152</td>\n",
       "      <td>0.001027</td>\n",
       "      <td>0.0000</td>\n",
       "      <td>0.000000</td>\n",
       "    </tr>\n",
       "    <tr>\n",
       "      <th>PENDLEUSDT</th>\n",
       "      <td>0.000000</td>\n",
       "      <td>0.000000</td>\n",
       "      <td>12.4245</td>\n",
       "      <td>0.000000</td>\n",
       "    </tr>\n",
       "  </tbody>\n",
       "</table>\n",
       "</div>"
      ],
      "text/plain": [
       "            Price in USDT  Weights in %  Weights     Spread\n",
       "BTCUSDT        641.137898     38.392292  30.0000   8.392292\n",
       "JASMYUSDT      316.608932     18.959014  13.7577   5.201314\n",
       "ETHUSDT        232.428619     13.918172  15.0000  -1.081828\n",
       "SOLUSDT        192.211288     11.509898   0.0000   0.000000\n",
       "MKRUSDT         98.072499      5.872727   0.0000   0.000000\n",
       "BBUSDT          94.153104      5.638028   0.0000   0.000000\n",
       "PEPEUSDT        58.033631      3.475140   9.1962  -5.721060\n",
       "BNBUSDT         37.282638      2.232540  19.6215 -17.388960\n",
       "FETUSDT          0.019410      0.001162   0.0000   0.000000\n",
       "TRXUSDT          0.017152      0.001027   0.0000   0.000000\n",
       "PENDLEUSDT       0.000000      0.000000  12.4245   0.000000"
      ]
     },
     "execution_count": 23,
     "metadata": {},
     "output_type": "execute_result"
    }
   ],
   "source": [
    "historical_comparison=holding.copy()\n",
    "historical_comparison=historical_comparison.loc[historical_comparison.index!=\"Total\"]\n",
    "historical_comparison=pd.concat([historical_comparison,inventory*100],axis=1)\n",
    "historical_comparison['Spread']=historical_comparison['Weights in %']-historical_comparison['Weights']\n",
    "historical_comparison=historical_comparison.fillna(0)\n",
    "historical_comparison"
   ]
  },
  {
   "cell_type": "markdown",
   "id": "e764e7c3-19aa-4638-bd23-a2ec30f727c6",
   "metadata": {},
   "source": [
    "## Risk Reward Analysis"
   ]
  },
  {
   "cell_type": "code",
   "execution_count": 24,
   "id": "258652f2-4e4f-44a0-93be-23ba097fa637",
   "metadata": {},
   "outputs": [
    {
     "data": {
      "text/plain": [
       "<AxesSubplot:>"
      ]
     },
     "execution_count": 24,
     "metadata": {},
     "output_type": "execute_result"
    },
    {
     "data": {
      "image/png": "[encoded data removed]",
      "text/plain": [
       "<Figure size 432x288 with 1 Axes>"
      ]
     },
     "metadata": {
      "needs_background": "light"
     },
     "output_type": "display_data"
    }
   ],
   "source": [
    "opt_ptf=(returns_to_use*opt_weights).sum(axis=1)\n",
    "curr_opt_ptf=(ex_ante_perf*current_optimal_weights).sum(axis=1)\n",
    "portfolio_perf=pd.DataFrame()\n",
    "portfolio_perf['Portfolio']=(ex_ante_perf*current_weights).sum(axis=1)\n",
    "portfolio_perf['Bitcoin']=returns['BTCUSDT']\n",
    "portfolio_perf['Optimal']=opt_ptf\n",
    "portfolio_perf['Current Optimal']=curr_opt_ptf\n",
    "(1+portfolio_perf).cumprod().plot()"
   ]
  },
  {
   "cell_type": "code",
   "execution_count": 25,
   "id": "84764d8b-eecc-48ad-bf5f-9102190ab3da",
   "metadata": {},
   "outputs": [],
   "source": [
    "portfolio_perf['Historical Portfolio']=historical_ptf['Historical Portfolio']"
   ]
  },
  {
   "cell_type": "code",
   "execution_count": 26,
   "id": "c42a4a47-acf5-433d-aac6-9206f1cbaa02",
   "metadata": {},
   "outputs": [
    {
     "data": {
      "text/plain": [
       "<AxesSubplot:>"
      ]
     },
     "execution_count": 26,
     "metadata": {},
     "output_type": "execute_result"
    },
    {
     "data": {
      "image/png": "[encoded data removed]",
      "text/plain": [
       "<Figure size 432x288 with 1 Axes>"
      ]
     },
     "metadata": {
      "needs_background": "light"
     },
     "output_type": "display_data"
    }
   ],
   "source": [
    "(1+portfolio_perf.loc[positions.index]).cumprod().plot()"
   ]
  },
  {
   "cell_type": "code",
   "execution_count": 27,
   "id": "a4f15e4e-57b0-4971-b365-697175f4e2ee",
   "metadata": {},
   "outputs": [
    {
     "data": {
      "text/plain": [
       "Portfolio    0.531743\n",
       "dtype: float64"
      ]
     },
     "execution_count": 27,
     "metadata": {},
     "output_type": "execute_result"
    }
   ],
   "source": [
    "vol=historical_risk.portfolio(opt_weights).std()*np.sqrt(252)\n",
    "\n",
    "vol"
   ]
  },
  {
   "cell_type": "code",
   "execution_count": 28,
   "id": "0c0196e8-d69e-4e2a-aa96-36583349bab2",
   "metadata": {},
   "outputs": [
    {
     "data": {
      "text/plain": [
       "Portfolio               0.507941\n",
       "Bitcoin                 0.444563\n",
       "Optimal                 0.533002\n",
       "Current Optimal         0.745088\n",
       "Historical Portfolio    0.489278\n",
       "dtype: float64"
      ]
     },
     "execution_count": 28,
     "metadata": {},
     "output_type": "execute_result"
    }
   ],
   "source": [
    "portfolio_perf.iloc[1:].std()*np.sqrt(252)"
   ]
  },
  {
   "cell_type": "code",
   "execution_count": 29,
   "id": "8b137873-c2d6-4129-bff5-d79043d2e74a",
   "metadata": {},
   "outputs": [
    {
     "data": {
      "text/html": [
       "<div>\n",
       "<style scoped>\n",
       "    .dataframe tbody tr th:only-of-type {\n",
       "        vertical-align: middle;\n",
       "    }\n",
       "\n",
       "    .dataframe tbody tr th {\n",
       "        vertical-align: top;\n",
       "    }\n",
       "\n",
       "    .dataframe thead th {\n",
       "        text-align: right;\n",
       "    }\n",
       "</style>\n",
       "<table border=\"1\" class=\"dataframe\">\n",
       "  <thead>\n",
       "    <tr style=\"text-align: right;\">\n",
       "      <th></th>\n",
       "      <th>Performance Contribution in %</th>\n",
       "      <th>Last Weights</th>\n",
       "      <th>Variance Contribution in %</th>\n",
       "      <th>Idiosyncratic Risk in %</th>\n",
       "      <th>Correlation in %</th>\n",
       "    </tr>\n",
       "  </thead>\n",
       "  <tbody>\n",
       "    <tr>\n",
       "      <th>BNBUSDT</th>\n",
       "      <td>0.164542</td>\n",
       "      <td>0.177319</td>\n",
       "      <td>0.180985</td>\n",
       "      <td>0.066052</td>\n",
       "      <td>0.114933</td>\n",
       "    </tr>\n",
       "    <tr>\n",
       "      <th>BTCUSDT</th>\n",
       "      <td>0.095051</td>\n",
       "      <td>0.177726</td>\n",
       "      <td>0.356520</td>\n",
       "      <td>0.154406</td>\n",
       "      <td>0.202114</td>\n",
       "    </tr>\n",
       "    <tr>\n",
       "      <th>ETHUSDT</th>\n",
       "      <td>0.047880</td>\n",
       "      <td>0.089075</td>\n",
       "      <td>0.172587</td>\n",
       "      <td>0.038601</td>\n",
       "      <td>0.133985</td>\n",
       "    </tr>\n",
       "    <tr>\n",
       "      <th>JASMYUSDT</th>\n",
       "      <td>0.238746</td>\n",
       "      <td>0.197935</td>\n",
       "      <td>0.104833</td>\n",
       "      <td>0.032472</td>\n",
       "      <td>0.072360</td>\n",
       "    </tr>\n",
       "    <tr>\n",
       "      <th>PENDLEUSDT</th>\n",
       "      <td>0.213814</td>\n",
       "      <td>0.177682</td>\n",
       "      <td>0.101515</td>\n",
       "      <td>0.026484</td>\n",
       "      <td>0.075032</td>\n",
       "    </tr>\n",
       "    <tr>\n",
       "      <th>PEPEUSDT</th>\n",
       "      <td>0.239967</td>\n",
       "      <td>0.180263</td>\n",
       "      <td>0.083560</td>\n",
       "      <td>0.014509</td>\n",
       "      <td>0.069051</td>\n",
       "    </tr>\n",
       "  </tbody>\n",
       "</table>\n",
       "</div>"
      ],
      "text/plain": [
       "            Performance Contribution in %  Last Weights  \\\n",
       "BNBUSDT                          0.164542      0.177319   \n",
       "BTCUSDT                          0.095051      0.177726   \n",
       "ETHUSDT                          0.047880      0.089075   \n",
       "JASMYUSDT                        0.238746      0.197935   \n",
       "PENDLEUSDT                       0.213814      0.177682   \n",
       "PEPEUSDT                         0.239967      0.180263   \n",
       "\n",
       "            Variance Contribution in %  Idiosyncratic Risk in %  \\\n",
       "BNBUSDT                       0.180985                 0.066052   \n",
       "BTCUSDT                       0.356520                 0.154406   \n",
       "ETHUSDT                       0.172587                 0.038601   \n",
       "JASMYUSDT                     0.104833                 0.032472   \n",
       "PENDLEUSDT                    0.101515                 0.026484   \n",
       "PEPEUSDT                      0.083560                 0.014509   \n",
       "\n",
       "            Correlation in %  \n",
       "BNBUSDT             0.114933  \n",
       "BTCUSDT             0.202114  \n",
       "ETHUSDT             0.133985  \n",
       "JASMYUSDT           0.072360  \n",
       "PENDLEUSDT          0.075032  \n",
       "PEPEUSDT            0.069051  "
      ]
     },
     "execution_count": 29,
     "metadata": {},
     "output_type": "execute_result"
    }
   ],
   "source": [
    "perf_analysis=pd.concat([historical_risk.perf_contrib_pct(opt_weights),historical_risk.var_contrib_pct(opt_weights)],axis=1)\n",
    "perf_analysis"
   ]
  },
  {
   "cell_type": "code",
   "execution_count": 30,
   "id": "109d4f15-0bb7-435b-9dc5-0bb7bc6dcffc",
   "metadata": {},
   "outputs": [
    {
     "data": {
      "text/html": [
       "<div>\n",
       "<style scoped>\n",
       "    .dataframe tbody tr th:only-of-type {\n",
       "        vertical-align: middle;\n",
       "    }\n",
       "\n",
       "    .dataframe tbody tr th {\n",
       "        vertical-align: top;\n",
       "    }\n",
       "\n",
       "    .dataframe thead th {\n",
       "        text-align: right;\n",
       "    }\n",
       "</style>\n",
       "<table border=\"1\" class=\"dataframe\">\n",
       "  <thead>\n",
       "    <tr style=\"text-align: right;\">\n",
       "      <th></th>\n",
       "      <th>Performance Contribution in %</th>\n",
       "      <th>Last Weights</th>\n",
       "      <th>Variance Contribution in %</th>\n",
       "      <th>Idiosyncratic Risk in %</th>\n",
       "      <th>Correlation in %</th>\n",
       "    </tr>\n",
       "  </thead>\n",
       "  <tbody>\n",
       "    <tr>\n",
       "      <th>BTCUSDT</th>\n",
       "      <td>-0.732807</td>\n",
       "      <td>0.352381</td>\n",
       "      <td>0.440514</td>\n",
       "      <td>0.224918</td>\n",
       "      <td>0.215596</td>\n",
       "    </tr>\n",
       "    <tr>\n",
       "      <th>JASMYUSDT</th>\n",
       "      <td>2.904830</td>\n",
       "      <td>0.266238</td>\n",
       "      <td>0.161795</td>\n",
       "      <td>0.054861</td>\n",
       "      <td>0.106934</td>\n",
       "    </tr>\n",
       "    <tr>\n",
       "      <th>ETHUSDT</th>\n",
       "      <td>0.526123</td>\n",
       "      <td>0.150121</td>\n",
       "      <td>0.146238</td>\n",
       "      <td>0.029571</td>\n",
       "      <td>0.116667</td>\n",
       "    </tr>\n",
       "    <tr>\n",
       "      <th>SOLUSDT</th>\n",
       "      <td>-0.540674</td>\n",
       "      <td>0.096591</td>\n",
       "      <td>0.121315</td>\n",
       "      <td>0.020218</td>\n",
       "      <td>0.101097</td>\n",
       "    </tr>\n",
       "    <tr>\n",
       "      <th>MKRUSDT</th>\n",
       "      <td>-0.429044</td>\n",
       "      <td>0.044933</td>\n",
       "      <td>0.053982</td>\n",
       "      <td>0.005259</td>\n",
       "      <td>0.048724</td>\n",
       "    </tr>\n",
       "    <tr>\n",
       "      <th>BBUSDT</th>\n",
       "      <td>-0.718262</td>\n",
       "      <td>0.034535</td>\n",
       "      <td>0.038687</td>\n",
       "      <td>0.004855</td>\n",
       "      <td>0.033833</td>\n",
       "    </tr>\n",
       "    <tr>\n",
       "      <th>PEPEUSDT</th>\n",
       "      <td>0.034638</td>\n",
       "      <td>0.034795</td>\n",
       "      <td>0.019131</td>\n",
       "      <td>0.001848</td>\n",
       "      <td>0.017283</td>\n",
       "    </tr>\n",
       "    <tr>\n",
       "      <th>BNBUSDT</th>\n",
       "      <td>-0.044805</td>\n",
       "      <td>0.020406</td>\n",
       "      <td>0.018337</td>\n",
       "      <td>0.000759</td>\n",
       "      <td>0.017578</td>\n",
       "    </tr>\n",
       "  </tbody>\n",
       "</table>\n",
       "</div>"
      ],
      "text/plain": [
       "           Performance Contribution in %  Last Weights  \\\n",
       "BTCUSDT                        -0.732807      0.352381   \n",
       "JASMYUSDT                       2.904830      0.266238   \n",
       "ETHUSDT                         0.526123      0.150121   \n",
       "SOLUSDT                        -0.540674      0.096591   \n",
       "MKRUSDT                        -0.429044      0.044933   \n",
       "BBUSDT                         -0.718262      0.034535   \n",
       "PEPEUSDT                        0.034638      0.034795   \n",
       "BNBUSDT                        -0.044805      0.020406   \n",
       "\n",
       "           Variance Contribution in %  Idiosyncratic Risk in %  \\\n",
       "BTCUSDT                      0.440514                 0.224918   \n",
       "JASMYUSDT                    0.161795                 0.054861   \n",
       "ETHUSDT                      0.146238                 0.029571   \n",
       "SOLUSDT                      0.121315                 0.020218   \n",
       "MKRUSDT                      0.053982                 0.005259   \n",
       "BBUSDT                       0.038687                 0.004855   \n",
       "PEPEUSDT                     0.019131                 0.001848   \n",
       "BNBUSDT                      0.018337                 0.000759   \n",
       "\n",
       "           Correlation in %  \n",
       "BTCUSDT            0.215596  \n",
       "JASMYUSDT          0.106934  \n",
       "ETHUSDT            0.116667  \n",
       "SOLUSDT            0.101097  \n",
       "MKRUSDT            0.048724  \n",
       "BBUSDT             0.033833  \n",
       "PEPEUSDT           0.017283  \n",
       "BNBUSDT            0.017578  "
      ]
     },
     "execution_count": 30,
     "metadata": {},
     "output_type": "execute_result"
    }
   ],
   "source": [
    "perf_analysis=pd.concat([current_risk.perf_contrib_pct(current_weights),current_risk.var_contrib_pct(current_weights)],axis=1)\n",
    "perf_analysis"
   ]
  },
  {
   "cell_type": "markdown",
   "id": "0130bfc3-e631-4a88-b313-7d1e01f8559a",
   "metadata": {
    "tags": []
   },
   "source": [
    "## Value At Risk"
   ]
  },
  {
   "cell_type": "markdown",
   "id": "71d68cce-1a6e-45aa-a85f-47588679e563",
   "metadata": {},
   "source": [
    "### Historical"
   ]
  },
  {
   "cell_type": "code",
   "execution_count": 31,
   "id": "b2388772-2291-494e-ac78-6a9f836e398d",
   "metadata": {},
   "outputs": [
    {
     "data": {
      "text/plain": [
       "(-0.05004058504351248, -0.06611988685204889)"
      ]
     },
     "execution_count": 31,
     "metadata": {},
     "output_type": "execute_result"
    }
   ],
   "source": [
    "var,cvar=historical_risk.historical_var(opt_weights)\n",
    "(var,cvar)"
   ]
  },
  {
   "cell_type": "code",
   "execution_count": 32,
   "id": "5ed33e0d-ae30-450b-a609-474785d4eda2",
   "metadata": {},
   "outputs": [
    {
     "data": {
      "text/plain": [
       "(-0.04246169118178484, -0.04744191090852542)"
      ]
     },
     "execution_count": 32,
     "metadata": {},
     "output_type": "execute_result"
    }
   ],
   "source": [
    "var,cvar=current_risk.historical_var(current_weights)\n",
    "(var,cvar)"
   ]
  },
  {
   "cell_type": "markdown",
   "id": "c3dff28c-8e0a-4203-a71d-04521428bcd1",
   "metadata": {},
   "source": [
    "### Parametric"
   ]
  },
  {
   "cell_type": "code",
   "execution_count": 33,
   "id": "0f0e86d4-3a65-486f-9099-6de171182aca",
   "metadata": {},
   "outputs": [
    {
     "data": {
      "text/plain": [
       "(-0.05522756676224422, -0.07078647101266633)"
      ]
     },
     "execution_count": 33,
     "metadata": {},
     "output_type": "execute_result"
    }
   ],
   "source": [
    "var,cvar=historical_risk.parametric_var(opt_weights)\n",
    "\n",
    "(var,cvar)"
   ]
  },
  {
   "cell_type": "code",
   "execution_count": 34,
   "id": "8d211677-f33e-4565-95b7-f2867bbe7192",
   "metadata": {},
   "outputs": [
    {
     "data": {
      "text/plain": [
       "(-0.05427206779363926, -0.06956178551574839)"
      ]
     },
     "execution_count": 34,
     "metadata": {},
     "output_type": "execute_result"
    }
   ],
   "source": [
    "var,cvar=current_risk.parametric_var(current_weights)\n",
    "\n",
    "(var,cvar)"
   ]
  },
  {
   "cell_type": "markdown",
   "id": "a6c24386-d19d-46c7-a8bb-58e4c19932ec",
   "metadata": {},
   "source": [
    "### Multivariate"
   ]
  },
  {
   "cell_type": "code",
   "execution_count": 35,
   "id": "302440b5-9462-49d9-a7d0-94e4da622e61",
   "metadata": {},
   "outputs": [
    {
     "data": {
      "text/plain": [
       "(-0.05022873365734018, -0.06438392919543952)"
      ]
     },
     "execution_count": 35,
     "metadata": {},
     "output_type": "execute_result"
    }
   ],
   "source": [
    "perf=performance(historical_risk.multivariate_distribution(),opt_weights)\n",
    "var=np.percentile(perf,5)\n",
    "cvar=perf[perf<var].mean()\n",
    "(var,cvar)"
   ]
  },
  {
   "cell_type": "code",
   "execution_count": 36,
   "id": "fd55ff58-048c-4d2c-96d1-686c84f6aa69",
   "metadata": {},
   "outputs": [
    {
     "data": {
      "text/plain": [
       "(-0.05332046582717692, -0.06716361813656103)"
      ]
     },
     "execution_count": 36,
     "metadata": {},
     "output_type": "execute_result"
    }
   ],
   "source": [
    "perf=performance(current_risk.multivariate_distribution(),current_weights)\n",
    "var=np.percentile(perf,5)\n",
    "cvar=perf[perf<var].mean()\n",
    "(var,cvar)"
   ]
  },
  {
   "cell_type": "markdown",
   "id": "0c387f28-22ad-45a7-b319-0e83f4a0daee",
   "metadata": {},
   "source": [
    "### Copulas"
   ]
  },
  {
   "cell_type": "code",
   "execution_count": 37,
   "id": "337bcd79-e3e3-4aaf-891c-485374685140",
   "metadata": {},
   "outputs": [
    {
     "data": {
      "text/plain": [
       "(-0.04863952057437372, -0.06358120129136834)"
      ]
     },
     "execution_count": 37,
     "metadata": {},
     "output_type": "execute_result"
    }
   ],
   "source": [
    "cop=historical_risk.gaussian_copula()\n",
    "perf=performance(cop,opt_weights)\n",
    "var=np.percentile(perf,5)\n",
    "cvar=perf[perf<var].mean()\n",
    "\n",
    "var,cvar"
   ]
  },
  {
   "cell_type": "code",
   "execution_count": 38,
   "id": "5eda254d-e253-46b4-aee4-d219185b845d",
   "metadata": {},
   "outputs": [
    {
     "data": {
      "text/plain": [
       "(-0.05210398372376412, -0.06558262094943049)"
      ]
     },
     "execution_count": 38,
     "metadata": {},
     "output_type": "execute_result"
    }
   ],
   "source": [
    "cop=current_risk.gaussian_copula()\n",
    "perf=performance(cop,current_weights)\n",
    "var=np.percentile(perf,5)\n",
    "cvar=perf[perf<var].mean()\n",
    "\n",
    "var,cvar"
   ]
  },
  {
   "cell_type": "code",
   "execution_count": 39,
   "id": "3d62db2b-76d2-49cb-8b3c-fed5b15acb5f",
   "metadata": {},
   "outputs": [
    {
     "data": {
      "text/plain": [
       "(-0.05022123815478517, -0.06446703807626854)"
      ]
     },
     "execution_count": 39,
     "metadata": {},
     "output_type": "execute_result"
    }
   ],
   "source": [
    "t_copula=historical_risk.t_copula()\n",
    "perf=performance(t_copula,opt_weights)\n",
    "var=np.percentile(perf,5)\n",
    "cvar=perf[perf<var].mean()\n",
    "\n",
    "var,cvar"
   ]
  },
  {
   "cell_type": "code",
   "execution_count": 40,
   "id": "20ee770c-7e3c-4949-b437-ed3d2b456508",
   "metadata": {},
   "outputs": [
    {
     "data": {
      "text/plain": [
       "(-0.0532117624847898, -0.06728265103749431)"
      ]
     },
     "execution_count": 40,
     "metadata": {},
     "output_type": "execute_result"
    }
   ],
   "source": [
    "t_copula=current_risk.t_copula()\n",
    "perf=performance(t_copula,current_weights)\n",
    "var=np.percentile(perf,5)\n",
    "cvar=perf[perf<var].mean()\n",
    "\n",
    "var,cvar"
   ]
  },
  {
   "cell_type": "markdown",
   "id": "7552457d-af22-431f-bdc4-3609112e4138",
   "metadata": {},
   "source": [
    "### Monte Carlo"
   ]
  },
  {
   "cell_type": "code",
   "execution_count": 41,
   "id": "03dcd06a-312a-4696-9075-502491c920d5",
   "metadata": {},
   "outputs": [
    {
     "data": {
      "text/plain": [
       "(-0.055519420615992854, -0.0694265516996056)"
      ]
     },
     "execution_count": 41,
     "metadata": {},
     "output_type": "execute_result"
    }
   ],
   "source": [
    "spot=data[with_no_na].iloc[-1]\n",
    "monte_carlo=historical_risk.monte_carlo(spot,horizon=1/250,stress_factor=1.0)\n",
    "perf=performance(monte_carlo[1],opt_weights)\n",
    "var=np.percentile(perf,5)\n",
    "cvar=perf[perf<var].mean()\n",
    "\n",
    "var,cvar"
   ]
  },
  {
   "cell_type": "code",
   "execution_count": 42,
   "id": "928019e9-ab72-4a24-b19e-f8c4cd072969",
   "metadata": {},
   "outputs": [
    {
     "data": {
      "text/plain": [
       "(-0.0555651266215145, -0.06929109187425875)"
      ]
     },
     "execution_count": 42,
     "metadata": {},
     "output_type": "execute_result"
    }
   ],
   "source": [
    "spot=data[ex_ante_perf.columns].iloc[-1]\n",
    "monte_carlo=current_risk.monte_carlo(spot,horizon=1/250,stress_factor=1.0)\n",
    "perf=performance(monte_carlo[1],current_weights)\n",
    "var=np.percentile(perf,5)\n",
    "cvar=perf[perf<var].mean()\n",
    "\n",
    "var,cvar"
   ]
  },
  {
   "cell_type": "markdown",
   "id": "2b3cb248-60ea-43f7-b474-31b6046eeee9",
   "metadata": {},
   "source": [
    "### VaR Violation"
   ]
  },
  {
   "cell_type": "code",
   "execution_count": 43,
   "id": "757aac0b-a638-4349-8fd3-30b1f39fa8b4",
   "metadata": {},
   "outputs": [
    {
     "data": {
      "text/html": [
       "<div>\n",
       "<style scoped>\n",
       "    .dataframe tbody tr th:only-of-type {\n",
       "        vertical-align: middle;\n",
       "    }\n",
       "\n",
       "    .dataframe tbody tr th {\n",
       "        vertical-align: top;\n",
       "    }\n",
       "\n",
       "    .dataframe thead th {\n",
       "        text-align: right;\n",
       "    }\n",
       "</style>\n",
       "<table border=\"1\" class=\"dataframe\">\n",
       "  <thead>\n",
       "    <tr style=\"text-align: right;\">\n",
       "      <th></th>\n",
       "      <th>Historical</th>\n",
       "      <th>Parametric</th>\n",
       "      <th>Multivariate</th>\n",
       "      <th>Portfolio</th>\n",
       "    </tr>\n",
       "  </thead>\n",
       "  <tbody>\n",
       "    <tr>\n",
       "      <th>2023-12-30</th>\n",
       "      <td>-0.029669</td>\n",
       "      <td>-0.053526</td>\n",
       "      <td>-0.049790</td>\n",
       "      <td>0.000214</td>\n",
       "    </tr>\n",
       "    <tr>\n",
       "      <th>2023-12-31</th>\n",
       "      <td>-0.029669</td>\n",
       "      <td>-0.053765</td>\n",
       "      <td>-0.050365</td>\n",
       "      <td>-0.004251</td>\n",
       "    </tr>\n",
       "    <tr>\n",
       "      <th>2024-01-01</th>\n",
       "      <td>-0.028901</td>\n",
       "      <td>-0.054945</td>\n",
       "      <td>-0.046433</td>\n",
       "      <td>0.039318</td>\n",
       "    </tr>\n",
       "    <tr>\n",
       "      <th>2024-01-02</th>\n",
       "      <td>-0.028901</td>\n",
       "      <td>-0.056155</td>\n",
       "      <td>-0.048666</td>\n",
       "      <td>-0.011455</td>\n",
       "    </tr>\n",
       "    <tr>\n",
       "      <th>2024-01-03</th>\n",
       "      <td>-0.033992</td>\n",
       "      <td>-0.061023</td>\n",
       "      <td>-0.055572</td>\n",
       "      <td>-0.034491</td>\n",
       "    </tr>\n",
       "    <tr>\n",
       "      <th>...</th>\n",
       "      <td>...</td>\n",
       "      <td>...</td>\n",
       "      <td>...</td>\n",
       "      <td>...</td>\n",
       "    </tr>\n",
       "    <tr>\n",
       "      <th>2024-06-20</th>\n",
       "      <td>-0.050187</td>\n",
       "      <td>-0.065894</td>\n",
       "      <td>-0.078030</td>\n",
       "      <td>-0.014915</td>\n",
       "    </tr>\n",
       "    <tr>\n",
       "      <th>2024-06-21</th>\n",
       "      <td>-0.050187</td>\n",
       "      <td>-0.066254</td>\n",
       "      <td>-0.074080</td>\n",
       "      <td>0.006010</td>\n",
       "    </tr>\n",
       "    <tr>\n",
       "      <th>2024-06-22</th>\n",
       "      <td>-0.050187</td>\n",
       "      <td>-0.064426</td>\n",
       "      <td>-0.071377</td>\n",
       "      <td>0.011181</td>\n",
       "    </tr>\n",
       "    <tr>\n",
       "      <th>2024-06-23</th>\n",
       "      <td>-0.050187</td>\n",
       "      <td>-0.066155</td>\n",
       "      <td>-0.073202</td>\n",
       "      <td>-0.033509</td>\n",
       "    </tr>\n",
       "    <tr>\n",
       "      <th>2024-06-24</th>\n",
       "      <td>-0.050187</td>\n",
       "      <td>-0.065346</td>\n",
       "      <td>-0.074746</td>\n",
       "      <td>-0.013454</td>\n",
       "    </tr>\n",
       "  </tbody>\n",
       "</table>\n",
       "<p>178 rows × 4 columns</p>\n",
       "</div>"
      ],
      "text/plain": [
       "            Historical  Parametric  Multivariate  Portfolio\n",
       "2023-12-30   -0.029669   -0.053526     -0.049790   0.000214\n",
       "2023-12-31   -0.029669   -0.053765     -0.050365  -0.004251\n",
       "2024-01-01   -0.028901   -0.054945     -0.046433   0.039318\n",
       "2024-01-02   -0.028901   -0.056155     -0.048666  -0.011455\n",
       "2024-01-03   -0.033992   -0.061023     -0.055572  -0.034491\n",
       "...                ...         ...           ...        ...\n",
       "2024-06-20   -0.050187   -0.065894     -0.078030  -0.014915\n",
       "2024-06-21   -0.050187   -0.066254     -0.074080   0.006010\n",
       "2024-06-22   -0.050187   -0.064426     -0.071377   0.011181\n",
       "2024-06-23   -0.050187   -0.066155     -0.073202  -0.033509\n",
       "2024-06-24   -0.050187   -0.065346     -0.074746  -0.013454\n",
       "\n",
       "[178 rows x 4 columns]"
      ]
     },
     "execution_count": 43,
     "metadata": {},
     "output_type": "execute_result"
    }
   ],
   "source": [
    "var_data=rolling_var(returns_to_use,opt_weights,window=15,Q=1)\n",
    "var_data"
   ]
  },
  {
   "cell_type": "code",
   "execution_count": 44,
   "id": "73878bf8-3ab1-45ee-b730-bdab4a0a03dc",
   "metadata": {},
   "outputs": [
    {
     "data": {
      "text/html": [
       "<div>\n",
       "<style scoped>\n",
       "    .dataframe tbody tr th:only-of-type {\n",
       "        vertical-align: middle;\n",
       "    }\n",
       "\n",
       "    .dataframe tbody tr th {\n",
       "        vertical-align: top;\n",
       "    }\n",
       "\n",
       "    .dataframe thead th {\n",
       "        text-align: right;\n",
       "    }\n",
       "</style>\n",
       "<table border=\"1\" class=\"dataframe\">\n",
       "  <thead>\n",
       "    <tr style=\"text-align: right;\">\n",
       "      <th></th>\n",
       "      <th>Historical</th>\n",
       "      <th>Parametric</th>\n",
       "      <th>Multivariate</th>\n",
       "      <th>Portfolio</th>\n",
       "    </tr>\n",
       "  </thead>\n",
       "  <tbody>\n",
       "    <tr>\n",
       "      <th>2024-05-18</th>\n",
       "      <td>-0.032599</td>\n",
       "      <td>-0.109545</td>\n",
       "      <td>-0.094856</td>\n",
       "      <td>0.008210</td>\n",
       "    </tr>\n",
       "    <tr>\n",
       "      <th>2024-05-19</th>\n",
       "      <td>-0.027750</td>\n",
       "      <td>-0.106284</td>\n",
       "      <td>-0.093300</td>\n",
       "      <td>-0.026646</td>\n",
       "    </tr>\n",
       "    <tr>\n",
       "      <th>2024-05-20</th>\n",
       "      <td>-0.027750</td>\n",
       "      <td>-0.122421</td>\n",
       "      <td>-0.107378</td>\n",
       "      <td>0.100230</td>\n",
       "    </tr>\n",
       "    <tr>\n",
       "      <th>2024-05-21</th>\n",
       "      <td>-0.025870</td>\n",
       "      <td>-0.113872</td>\n",
       "      <td>-0.094953</td>\n",
       "      <td>-0.007235</td>\n",
       "    </tr>\n",
       "    <tr>\n",
       "      <th>2024-05-22</th>\n",
       "      <td>-0.025870</td>\n",
       "      <td>-0.115372</td>\n",
       "      <td>-0.100051</td>\n",
       "      <td>-0.002338</td>\n",
       "    </tr>\n",
       "    <tr>\n",
       "      <th>2024-05-23</th>\n",
       "      <td>-0.025957</td>\n",
       "      <td>-0.118085</td>\n",
       "      <td>-0.110155</td>\n",
       "      <td>-0.009415</td>\n",
       "    </tr>\n",
       "    <tr>\n",
       "      <th>2024-05-24</th>\n",
       "      <td>-0.009328</td>\n",
       "      <td>-0.110652</td>\n",
       "      <td>-0.094913</td>\n",
       "      <td>-0.004871</td>\n",
       "    </tr>\n",
       "    <tr>\n",
       "      <th>2024-05-25</th>\n",
       "      <td>-0.009328</td>\n",
       "      <td>-0.041988</td>\n",
       "      <td>-0.039511</td>\n",
       "      <td>0.033960</td>\n",
       "    </tr>\n",
       "    <tr>\n",
       "      <th>2024-05-26</th>\n",
       "      <td>-0.009233</td>\n",
       "      <td>-0.057298</td>\n",
       "      <td>-0.045903</td>\n",
       "      <td>0.043555</td>\n",
       "    </tr>\n",
       "    <tr>\n",
       "      <th>2024-05-27</th>\n",
       "      <td>-0.009233</td>\n",
       "      <td>-0.054280</td>\n",
       "      <td>-0.038396</td>\n",
       "      <td>0.020054</td>\n",
       "    </tr>\n",
       "    <tr>\n",
       "      <th>2024-05-28</th>\n",
       "      <td>-0.019772</td>\n",
       "      <td>-0.062058</td>\n",
       "      <td>-0.048295</td>\n",
       "      <td>-0.020393</td>\n",
       "    </tr>\n",
       "    <tr>\n",
       "      <th>2024-05-29</th>\n",
       "      <td>-0.020306</td>\n",
       "      <td>-0.068859</td>\n",
       "      <td>-0.057715</td>\n",
       "      <td>-0.018209</td>\n",
       "    </tr>\n",
       "    <tr>\n",
       "      <th>2024-05-30</th>\n",
       "      <td>-0.020306</td>\n",
       "      <td>-0.072437</td>\n",
       "      <td>-0.059831</td>\n",
       "      <td>0.041392</td>\n",
       "    </tr>\n",
       "    <tr>\n",
       "      <th>2024-05-31</th>\n",
       "      <td>-0.020306</td>\n",
       "      <td>-0.061280</td>\n",
       "      <td>-0.053226</td>\n",
       "      <td>0.013046</td>\n",
       "    </tr>\n",
       "    <tr>\n",
       "      <th>2024-06-01</th>\n",
       "      <td>-0.020306</td>\n",
       "      <td>-0.062547</td>\n",
       "      <td>-0.056003</td>\n",
       "      <td>0.024060</td>\n",
       "    </tr>\n",
       "    <tr>\n",
       "      <th>2024-06-02</th>\n",
       "      <td>-0.017843</td>\n",
       "      <td>-0.056393</td>\n",
       "      <td>-0.046269</td>\n",
       "      <td>-0.009041</td>\n",
       "    </tr>\n",
       "    <tr>\n",
       "      <th>2024-06-03</th>\n",
       "      <td>-0.008353</td>\n",
       "      <td>-0.043610</td>\n",
       "      <td>-0.026649</td>\n",
       "      <td>0.008172</td>\n",
       "    </tr>\n",
       "    <tr>\n",
       "      <th>2024-06-04</th>\n",
       "      <td>-0.008353</td>\n",
       "      <td>-0.040428</td>\n",
       "      <td>-0.025356</td>\n",
       "      <td>0.037315</td>\n",
       "    </tr>\n",
       "    <tr>\n",
       "      <th>2024-06-05</th>\n",
       "      <td>-0.008353</td>\n",
       "      <td>-0.040387</td>\n",
       "      <td>-0.025529</td>\n",
       "      <td>0.014023</td>\n",
       "    </tr>\n",
       "    <tr>\n",
       "      <th>2024-06-06</th>\n",
       "      <td>-0.008792</td>\n",
       "      <td>-0.041797</td>\n",
       "      <td>-0.031841</td>\n",
       "      <td>-0.002812</td>\n",
       "    </tr>\n",
       "    <tr>\n",
       "      <th>2024-06-07</th>\n",
       "      <td>-0.032084</td>\n",
       "      <td>-0.060029</td>\n",
       "      <td>-0.053979</td>\n",
       "      <td>-0.033303</td>\n",
       "    </tr>\n",
       "    <tr>\n",
       "      <th>2024-06-08</th>\n",
       "      <td>-0.032956</td>\n",
       "      <td>-0.066763</td>\n",
       "      <td>-0.067764</td>\n",
       "      <td>-0.024619</td>\n",
       "    </tr>\n",
       "    <tr>\n",
       "      <th>2024-06-09</th>\n",
       "      <td>-0.032956</td>\n",
       "      <td>-0.053115</td>\n",
       "      <td>-0.057229</td>\n",
       "      <td>0.018132</td>\n",
       "    </tr>\n",
       "    <tr>\n",
       "      <th>2024-06-10</th>\n",
       "      <td>-0.032956</td>\n",
       "      <td>-0.047473</td>\n",
       "      <td>-0.058896</td>\n",
       "      <td>-0.019840</td>\n",
       "    </tr>\n",
       "    <tr>\n",
       "      <th>2024-06-11</th>\n",
       "      <td>-0.052907</td>\n",
       "      <td>-0.061042</td>\n",
       "      <td>-0.084438</td>\n",
       "      <td>-0.053723</td>\n",
       "    </tr>\n",
       "    <tr>\n",
       "      <th>2024-06-12</th>\n",
       "      <td>-0.052559</td>\n",
       "      <td>-0.079150</td>\n",
       "      <td>-0.088136</td>\n",
       "      <td>0.030208</td>\n",
       "    </tr>\n",
       "    <tr>\n",
       "      <th>2024-06-13</th>\n",
       "      <td>-0.053419</td>\n",
       "      <td>-0.087276</td>\n",
       "      <td>-0.101835</td>\n",
       "      <td>-0.046115</td>\n",
       "    </tr>\n",
       "    <tr>\n",
       "      <th>2024-06-14</th>\n",
       "      <td>-0.053419</td>\n",
       "      <td>-0.077200</td>\n",
       "      <td>-0.098897</td>\n",
       "      <td>-0.011923</td>\n",
       "    </tr>\n",
       "    <tr>\n",
       "      <th>2024-06-15</th>\n",
       "      <td>-0.053419</td>\n",
       "      <td>-0.086846</td>\n",
       "      <td>-0.100107</td>\n",
       "      <td>0.017852</td>\n",
       "    </tr>\n",
       "    <tr>\n",
       "      <th>2024-06-16</th>\n",
       "      <td>-0.044748</td>\n",
       "      <td>-0.078934</td>\n",
       "      <td>-0.072165</td>\n",
       "      <td>0.035089</td>\n",
       "    </tr>\n",
       "    <tr>\n",
       "      <th>2024-06-17</th>\n",
       "      <td>-0.045950</td>\n",
       "      <td>-0.083376</td>\n",
       "      <td>-0.092831</td>\n",
       "      <td>-0.041984</td>\n",
       "    </tr>\n",
       "    <tr>\n",
       "      <th>2024-06-18</th>\n",
       "      <td>-0.042467</td>\n",
       "      <td>-0.081274</td>\n",
       "      <td>-0.089456</td>\n",
       "      <td>-0.042487</td>\n",
       "    </tr>\n",
       "    <tr>\n",
       "      <th>2024-06-19</th>\n",
       "      <td>-0.042467</td>\n",
       "      <td>-0.081210</td>\n",
       "      <td>-0.088176</td>\n",
       "      <td>-0.005297</td>\n",
       "    </tr>\n",
       "    <tr>\n",
       "      <th>2024-06-20</th>\n",
       "      <td>-0.042467</td>\n",
       "      <td>-0.074322</td>\n",
       "      <td>-0.088193</td>\n",
       "      <td>-0.015625</td>\n",
       "    </tr>\n",
       "    <tr>\n",
       "      <th>2024-06-21</th>\n",
       "      <td>-0.042467</td>\n",
       "      <td>-0.047376</td>\n",
       "      <td>-0.068433</td>\n",
       "      <td>0.000944</td>\n",
       "    </tr>\n",
       "    <tr>\n",
       "      <th>2024-06-22</th>\n",
       "      <td>-0.041412</td>\n",
       "      <td>-0.048068</td>\n",
       "      <td>-0.058792</td>\n",
       "      <td>0.011883</td>\n",
       "    </tr>\n",
       "    <tr>\n",
       "      <th>2024-06-23</th>\n",
       "      <td>-0.035011</td>\n",
       "      <td>-0.042126</td>\n",
       "      <td>-0.052710</td>\n",
       "      <td>-0.035819</td>\n",
       "    </tr>\n",
       "    <tr>\n",
       "      <th>2024-06-24</th>\n",
       "      <td>-0.035257</td>\n",
       "      <td>-0.043742</td>\n",
       "      <td>-0.056702</td>\n",
       "      <td>-0.021789</td>\n",
       "    </tr>\n",
       "  </tbody>\n",
       "</table>\n",
       "</div>"
      ],
      "text/plain": [
       "            Historical  Parametric  Multivariate  Portfolio\n",
       "2024-05-18   -0.032599   -0.109545     -0.094856   0.008210\n",
       "2024-05-19   -0.027750   -0.106284     -0.093300  -0.026646\n",
       "2024-05-20   -0.027750   -0.122421     -0.107378   0.100230\n",
       "2024-05-21   -0.025870   -0.113872     -0.094953  -0.007235\n",
       "2024-05-22   -0.025870   -0.115372     -0.100051  -0.002338\n",
       "2024-05-23   -0.025957   -0.118085     -0.110155  -0.009415\n",
       "2024-05-24   -0.009328   -0.110652     -0.094913  -0.004871\n",
       "2024-05-25   -0.009328   -0.041988     -0.039511   0.033960\n",
       "2024-05-26   -0.009233   -0.057298     -0.045903   0.043555\n",
       "2024-05-27   -0.009233   -0.054280     -0.038396   0.020054\n",
       "2024-05-28   -0.019772   -0.062058     -0.048295  -0.020393\n",
       "2024-05-29   -0.020306   -0.068859     -0.057715  -0.018209\n",
       "2024-05-30   -0.020306   -0.072437     -0.059831   0.041392\n",
       "2024-05-31   -0.020306   -0.061280     -0.053226   0.013046\n",
       "2024-06-01   -0.020306   -0.062547     -0.056003   0.024060\n",
       "2024-06-02   -0.017843   -0.056393     -0.046269  -0.009041\n",
       "2024-06-03   -0.008353   -0.043610     -0.026649   0.008172\n",
       "2024-06-04   -0.008353   -0.040428     -0.025356   0.037315\n",
       "2024-06-05   -0.008353   -0.040387     -0.025529   0.014023\n",
       "2024-06-06   -0.008792   -0.041797     -0.031841  -0.002812\n",
       "2024-06-07   -0.032084   -0.060029     -0.053979  -0.033303\n",
       "2024-06-08   -0.032956   -0.066763     -0.067764  -0.024619\n",
       "2024-06-09   -0.032956   -0.053115     -0.057229   0.018132\n",
       "2024-06-10   -0.032956   -0.047473     -0.058896  -0.019840\n",
       "2024-06-11   -0.052907   -0.061042     -0.084438  -0.053723\n",
       "2024-06-12   -0.052559   -0.079150     -0.088136   0.030208\n",
       "2024-06-13   -0.053419   -0.087276     -0.101835  -0.046115\n",
       "2024-06-14   -0.053419   -0.077200     -0.098897  -0.011923\n",
       "2024-06-15   -0.053419   -0.086846     -0.100107   0.017852\n",
       "2024-06-16   -0.044748   -0.078934     -0.072165   0.035089\n",
       "2024-06-17   -0.045950   -0.083376     -0.092831  -0.041984\n",
       "2024-06-18   -0.042467   -0.081274     -0.089456  -0.042487\n",
       "2024-06-19   -0.042467   -0.081210     -0.088176  -0.005297\n",
       "2024-06-20   -0.042467   -0.074322     -0.088193  -0.015625\n",
       "2024-06-21   -0.042467   -0.047376     -0.068433   0.000944\n",
       "2024-06-22   -0.041412   -0.048068     -0.058792   0.011883\n",
       "2024-06-23   -0.035011   -0.042126     -0.052710  -0.035819\n",
       "2024-06-24   -0.035257   -0.043742     -0.056702  -0.021789"
      ]
     },
     "execution_count": 44,
     "metadata": {},
     "output_type": "execute_result"
    }
   ],
   "source": [
    "current_var_data=rolling_var(ex_ante_perf_to_use,current_weights,window=5,Q=1)\n",
    "current_var_data"
   ]
  },
  {
   "cell_type": "code",
   "execution_count": 45,
   "id": "0e7d84e4-bd99-45e8-9326-4f84526ba091",
   "metadata": {},
   "outputs": [
    {
     "data": {
      "text/plain": [
       "<AxesSubplot:>"
      ]
     },
     "execution_count": 45,
     "metadata": {},
     "output_type": "execute_result"
    },
    {
     "data": {
      "image/png": "[encoded data removed]",
      "text/plain": [
       "<Figure size 432x288 with 1 Axes>"
      ]
     },
     "metadata": {
      "needs_background": "light"
     },
     "output_type": "display_data"
    }
   ],
   "source": [
    "var_data.plot()"
   ]
  },
  {
   "cell_type": "code",
   "execution_count": 46,
   "id": "4499b3ef-4ed2-48a3-8967-0230afa98c7d",
   "metadata": {},
   "outputs": [
    {
     "data": {
      "text/plain": [
       "<AxesSubplot:>"
      ]
     },
     "execution_count": 46,
     "metadata": {},
     "output_type": "execute_result"
    },
    {
     "data": {
      "image/png": "[encoded data removed]",
      "text/plain": [
       "<Figure size 432x288 with 1 Axes>"
      ]
     },
     "metadata": {
      "needs_background": "light"
     },
     "output_type": "display_data"
    }
   ],
   "source": [
    "current_var_data.plot()"
   ]
  },
  {
   "cell_type": "code",
   "execution_count": 47,
   "id": "e47d08e8-e7a7-4b22-8605-f8200e5645a6",
   "metadata": {},
   "outputs": [
    {
     "data": {
      "text/html": [
       "<div>\n",
       "<style scoped>\n",
       "    .dataframe tbody tr th:only-of-type {\n",
       "        vertical-align: middle;\n",
       "    }\n",
       "\n",
       "    .dataframe tbody tr th {\n",
       "        vertical-align: top;\n",
       "    }\n",
       "\n",
       "    .dataframe thead th {\n",
       "        text-align: right;\n",
       "    }\n",
       "</style>\n",
       "<table border=\"1\" class=\"dataframe\">\n",
       "  <thead>\n",
       "    <tr style=\"text-align: right;\">\n",
       "      <th></th>\n",
       "      <th>Historical</th>\n",
       "      <th>Parametric</th>\n",
       "      <th>Multivariate</th>\n",
       "    </tr>\n",
       "  </thead>\n",
       "  <tbody>\n",
       "    <tr>\n",
       "      <th>Proportion of failure</th>\n",
       "      <td>0.061798</td>\n",
       "      <td>0.0</td>\n",
       "      <td>0.0</td>\n",
       "    </tr>\n",
       "    <tr>\n",
       "      <th>Kupiec Stat</th>\n",
       "      <td>0.486756</td>\n",
       "      <td>18.260413</td>\n",
       "      <td>18.260413</td>\n",
       "    </tr>\n",
       "    <tr>\n",
       "      <th>P-value</th>\n",
       "      <td>0.485378</td>\n",
       "      <td>0.000019</td>\n",
       "      <td>0.000019</td>\n",
       "    </tr>\n",
       "  </tbody>\n",
       "</table>\n",
       "</div>"
      ],
      "text/plain": [
       "                      Historical Parametric Multivariate\n",
       "Proportion of failure   0.061798        0.0          0.0\n",
       "Kupiec Stat             0.486756  18.260413    18.260413\n",
       "P-value                 0.485378   0.000019     0.000019"
      ]
     },
     "execution_count": 47,
     "metadata": {},
     "output_type": "execute_result"
    }
   ],
   "source": [
    "kupiec_test(var_data)"
   ]
  },
  {
   "cell_type": "code",
   "execution_count": 48,
   "id": "0b33e6a3-e732-49df-a1a0-aefaefb1f271",
   "metadata": {},
   "outputs": [
    {
     "data": {
      "text/html": [
       "<div>\n",
       "<style scoped>\n",
       "    .dataframe tbody tr th:only-of-type {\n",
       "        vertical-align: middle;\n",
       "    }\n",
       "\n",
       "    .dataframe tbody tr th {\n",
       "        vertical-align: top;\n",
       "    }\n",
       "\n",
       "    .dataframe thead th {\n",
       "        text-align: right;\n",
       "    }\n",
       "</style>\n",
       "<table border=\"1\" class=\"dataframe\">\n",
       "  <thead>\n",
       "    <tr style=\"text-align: right;\">\n",
       "      <th></th>\n",
       "      <th>Historical</th>\n",
       "      <th>Parametric</th>\n",
       "      <th>Multivariate</th>\n",
       "    </tr>\n",
       "  </thead>\n",
       "  <tbody>\n",
       "    <tr>\n",
       "      <th>Proportion of failure</th>\n",
       "      <td>0.131579</td>\n",
       "      <td>0.0</td>\n",
       "      <td>0.0</td>\n",
       "    </tr>\n",
       "    <tr>\n",
       "      <th>Kupiec Stat</th>\n",
       "      <td>3.75001</td>\n",
       "      <td>3.89829</td>\n",
       "      <td>3.89829</td>\n",
       "    </tr>\n",
       "    <tr>\n",
       "      <th>P-value</th>\n",
       "      <td>0.052807</td>\n",
       "      <td>0.048335</td>\n",
       "      <td>0.048335</td>\n",
       "    </tr>\n",
       "  </tbody>\n",
       "</table>\n",
       "</div>"
      ],
      "text/plain": [
       "                      Historical Parametric Multivariate\n",
       "Proportion of failure   0.131579        0.0          0.0\n",
       "Kupiec Stat              3.75001    3.89829      3.89829\n",
       "P-value                 0.052807   0.048335     0.048335"
      ]
     },
     "execution_count": 48,
     "metadata": {},
     "output_type": "execute_result"
    }
   ],
   "source": [
    "kupiec_test(current_var_data)"
   ]
  },
  {
   "cell_type": "markdown",
   "id": "7d238b49-45e4-4e3c-a34b-654a69961cc2",
   "metadata": {},
   "source": [
    "## Principal Component Analysis"
   ]
  },
  {
   "cell_type": "code",
   "execution_count": 49,
   "id": "c73e2cd9-1c95-4635-97cb-87a0d2c71796",
   "metadata": {},
   "outputs": [
    {
     "data": {
      "text/plain": [
       "array([0.75866502, 0.08076617, 0.06293683, 0.05012577, 0.0475062 ])"
      ]
     },
     "execution_count": 49,
     "metadata": {},
     "output_type": "execute_result"
    }
   ],
   "source": [
    "eigval,eigvec,portfolio_components=historical_risk.pca(num_components=5)\n",
    "variance_explained=eigval/eigval.sum()\n",
    "variance_explained"
   ]
  },
  {
   "cell_type": "code",
   "execution_count": 50,
   "id": "1557cf12-3ed6-4920-9ccd-81c8286d6f3f",
   "metadata": {},
   "outputs": [
    {
     "data": {
      "text/plain": [
       "array([0.57545388, 0.18316131, 0.10953638, 0.09326661, 0.03858181])"
      ]
     },
     "execution_count": 50,
     "metadata": {},
     "output_type": "execute_result"
    }
   ],
   "source": [
    "eigval,eigvec,portfolio_components=current_risk.pca(num_components=5)\n",
    "variance_explained=eigval/eigval.sum()\n",
    "variance_explained"
   ]
  },
  {
   "cell_type": "code",
   "execution_count": null,
   "id": "c03a39b8-742f-4618-9340-3e567d459a50",
   "metadata": {},
   "outputs": [],
   "source": []
  },
  {
   "cell_type": "code",
   "execution_count": null,
   "id": "fe8e172a-8c63-49d2-a714-51e824dbb4fc",
   "metadata": {},
   "outputs": [],
   "source": []
  },
  {
   "cell_type": "code",
   "execution_count": null,
   "id": "e7fae1bc-6cb5-45db-aeb3-908ebcac3169",
   "metadata": {},
   "outputs": [],
   "source": []
  }
 ],
 "metadata": {
  "kernelspec": {
   "display_name": "Python 3 (ipykernel)",
   "language": "python",
   "name": "python3"
  },
  "language_info": {
   "codemirror_mode": {
    "name": "ipython",
    "version": 3
   },
   "file_extension": ".py",
   "mimetype": "text/x-python",
   "name": "python",
   "nbconvert_exporter": "python",
   "pygments_lexer": "ipython3",
   "version": "3.9.12"
  }
 },
 "nbformat": 4,
 "nbformat_minor": 5
}
