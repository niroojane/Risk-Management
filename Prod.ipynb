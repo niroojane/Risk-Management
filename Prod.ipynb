{
 "cells": [
  {
   "cell_type": "markdown",
   "id": "b37f1921-36ab-4456-9e86-117c39f91bc4",
   "metadata": {},
   "source": [
    "# Importing Libraries"
   ]
  },
  {
   "cell_type": "code",
   "execution_count": 1,
   "id": "1955d1de-ae34-4125-91ad-53073b1837d5",
   "metadata": {},
   "outputs": [],
   "source": [
    "import pandas as pd\n",
    "import random\n",
    "import numpy as np\n",
    "import matplotlib.pyplot as plt\n",
    "import datetime\n",
    "import seaborn as sns"
   ]
  },
  {
   "cell_type": "code",
   "execution_count": 2,
   "id": "917dd650-def2-4d10-89d9-ca82b6a3704f",
   "metadata": {},
   "outputs": [],
   "source": [
    "%run \"Stock Data.ipynb\".ipynb\n",
    "%run \"Binance API.ipynb\".ipynb\n",
    "%run \"RiskMetrics.ipynb\".ipynb\n",
    "%run \"PnL Computation.ipynb\".ipynb"
   ]
  },
  {
   "cell_type": "markdown",
   "id": "01a00d22-d2b2-4f90-97d6-a7a3f8ef242f",
   "metadata": {},
   "source": [
    "# Importing Data"
   ]
  },
  {
   "cell_type": "markdown",
   "id": "0af29f5a-4c7d-44b2-8ecc-6d859cdc6983",
   "metadata": {},
   "source": [
    "## Tickers"
   ]
  },
  {
   "cell_type": "code",
   "execution_count": 3,
   "id": "879726f3-da1f-4180-8121-df701ec61bf4",
   "metadata": {},
   "outputs": [],
   "source": [
    "binance_api_key='E90xR7UnO2oeP3lrgC50zkqUuAqyyXs4uSlAGcqIVO9n90ELrFI4gfVI2HGGxxCj'\n",
    "binance_api_secret='Inls2xYl9FqPi0zlIrucfxG81drx7w6Pv6SzYFxMNoAcwDjlCKug7zUM9zB3lF9h'\n",
    "Binance=BinanceAPI(binance_api_key,binance_api_secret)"
   ]
  },
  {
   "cell_type": "code",
   "execution_count": 4,
   "id": "0f1c0e61-395a-407c-9aef-80d5011e56b5",
   "metadata": {},
   "outputs": [],
   "source": [
    "#stocks=pd.read_html('https://en.wikipedia.org/wiki/EURO_STOXX_50')[4]\n",
    "#tickers=stocks['Ticker'].to_list()"
   ]
  },
  {
   "cell_type": "markdown",
   "id": "c33884b2-73bc-4e92-8c5b-09559b34051d",
   "metadata": {},
   "source": [
    "## Market Data"
   ]
  },
  {
   "cell_type": "code",
   "execution_count": 5,
   "id": "b5919bc8-fde2-4e6f-871d-2eed8341c8ae",
   "metadata": {},
   "outputs": [],
   "source": [
    "start_date=datetime.datetime(2023,12,1)\n",
    "enddate=start_date+datetime.timedelta(500)"
   ]
  },
  {
   "cell_type": "code",
   "execution_count": 6,
   "id": "3121b466-eae2-4538-bd80-54f2e390b2c1",
   "metadata": {},
   "outputs": [],
   "source": [
    "quantities_api=Binance.binance_api.user_asset()\n",
    "current_quantities=pd.DataFrame(quantities_api).sort_values(by='free',ascending=False)\n",
    "current_quantities['asset']=current_quantities['asset']+'USDT'\n",
    "current_quantities=current_quantities.set_index('asset')"
   ]
  },
  {
   "cell_type": "code",
   "execution_count": 7,
   "id": "2a5e1fb2-658d-49d7-afe2-d58ff93c06e5",
   "metadata": {},
   "outputs": [],
   "source": [
    "#today_price=Binance.get_price(holding_tickers,date=datetime.datetime.today()).T\n",
    "#today_price.columns=['Mark To Market']"
   ]
  },
  {
   "cell_type": "code",
   "execution_count": 8,
   "id": "816f9f00-252a-4d1b-93ba-4475e411b3cc",
   "metadata": {},
   "outputs": [],
   "source": [
    "trade_history=pd.read_excel('Trade History Reconstructed.xlsx')\n",
    "price=get_trade_in_usdt(trade_history)"
   ]
  },
  {
   "cell_type": "code",
   "execution_count": 9,
   "id": "77940a11-fb0b-463f-8cb5-f3efd1b630b9",
   "metadata": {},
   "outputs": [],
   "source": [
    "book_cost=get_book_cost(price)\n",
    "realized_pnl,profit_and_loss=get_pnl(book_cost,price)\n",
    "historical_positions=get_historical_positions(price)\n",
    "historical_positions.columns=historical_positions.columns+'USDT'\n",
    "historical_positions=historical_positions.sort_index()"
   ]
  },
  {
   "cell_type": "code",
   "execution_count": 10,
   "id": "e702932f-d944-4116-b5d3-016175472604",
   "metadata": {},
   "outputs": [],
   "source": [
    "price_of_positions=Binance.get_price(historical_positions.columns,datetime.datetime(2024,5,1))\n",
    "price_of_positions.index=pd.to_datetime(price_of_positions.index)\n",
    "price_of_positions=price_of_positions.sort_index()"
   ]
  },
  {
   "cell_type": "code",
   "execution_count": 11,
   "id": "8e23e40d-dfd3-4bc0-b5a9-7c4db6fb4027",
   "metadata": {},
   "outputs": [],
   "source": [
    "dic={}\n",
    "for key in profit_and_loss:\n",
    "    dic[key]=profit_and_loss[key].to_dict()"
   ]
  },
  {
   "cell_type": "code",
   "execution_count": 12,
   "id": "b5d38ed3-7e7f-4afc-8d77-04c43f0e9cc2",
   "metadata": {},
   "outputs": [],
   "source": [
    "realized_pnl_time=pd.DataFrame(dic).sort_index().fillna(method='ffill').fillna(0)\n",
    "realized_pnl_time.index=pd.to_datetime(realized_pnl_time.index).round(freq='d')\n",
    "realized_pnl_time=realized_pnl_time.groupby(realized_pnl_time.index).sum()"
   ]
  },
  {
   "cell_type": "code",
   "execution_count": 13,
   "id": "5228883e-ca7d-4257-b16f-bd195d649dcf",
   "metadata": {},
   "outputs": [
    {
     "data": {
      "text/html": [
       "<div>\n",
       "<style scoped>\n",
       "    .dataframe tbody tr th:only-of-type {\n",
       "        vertical-align: middle;\n",
       "    }\n",
       "\n",
       "    .dataframe tbody tr th {\n",
       "        vertical-align: top;\n",
       "    }\n",
       "\n",
       "    .dataframe thead th {\n",
       "        text-align: right;\n",
       "    }\n",
       "</style>\n",
       "<table border=\"1\" class=\"dataframe\">\n",
       "  <thead>\n",
       "    <tr style=\"text-align: right;\">\n",
       "      <th></th>\n",
       "      <th>Book Cost</th>\n",
       "      <th>Price in USDT</th>\n",
       "      <th>Weights</th>\n",
       "      <th>Realized PnL</th>\n",
       "      <th>Unrealized PnL</th>\n",
       "      <th>Total PnL</th>\n",
       "    </tr>\n",
       "  </thead>\n",
       "  <tbody>\n",
       "    <tr>\n",
       "      <th>Total</th>\n",
       "      <td>2184.935036</td>\n",
       "      <td>2256.597579</td>\n",
       "      <td>0.999</td>\n",
       "      <td>-131.886217</td>\n",
       "      <td>71.662543</td>\n",
       "      <td>-60.223674</td>\n",
       "    </tr>\n",
       "    <tr>\n",
       "      <th>BTCUSDT</th>\n",
       "      <td>601.021649</td>\n",
       "      <td>675.509143</td>\n",
       "      <td>0.299</td>\n",
       "      <td>3.537078</td>\n",
       "      <td>74.487494</td>\n",
       "      <td>78.024571</td>\n",
       "    </tr>\n",
       "    <tr>\n",
       "      <th>OMUSDT</th>\n",
       "      <td>526.319895</td>\n",
       "      <td>638.479342</td>\n",
       "      <td>0.283</td>\n",
       "      <td>0.000000</td>\n",
       "      <td>112.159447</td>\n",
       "      <td>112.159447</td>\n",
       "    </tr>\n",
       "    <tr>\n",
       "      <th>SOLUSDT</th>\n",
       "      <td>281.200518</td>\n",
       "      <td>354.615160</td>\n",
       "      <td>0.157</td>\n",
       "      <td>0.000000</td>\n",
       "      <td>73.414643</td>\n",
       "      <td>73.414643</td>\n",
       "    </tr>\n",
       "    <tr>\n",
       "      <th>JASMYUSDT</th>\n",
       "      <td>387.458505</td>\n",
       "      <td>260.079694</td>\n",
       "      <td>0.115</td>\n",
       "      <td>0.000000</td>\n",
       "      <td>-127.378811</td>\n",
       "      <td>-127.378811</td>\n",
       "    </tr>\n",
       "    <tr>\n",
       "      <th>ETHUSDT</th>\n",
       "      <td>250.747339</td>\n",
       "      <td>214.155024</td>\n",
       "      <td>0.095</td>\n",
       "      <td>0.000000</td>\n",
       "      <td>-36.592315</td>\n",
       "      <td>-36.592315</td>\n",
       "    </tr>\n",
       "    <tr>\n",
       "      <th>TRXUSDT</th>\n",
       "      <td>76.868953</td>\n",
       "      <td>78.147524</td>\n",
       "      <td>0.035</td>\n",
       "      <td>-10.723889</td>\n",
       "      <td>1.278572</td>\n",
       "      <td>-9.445317</td>\n",
       "    </tr>\n",
       "    <tr>\n",
       "      <th>BBUSDT</th>\n",
       "      <td>60.176053</td>\n",
       "      <td>34.562781</td>\n",
       "      <td>0.015</td>\n",
       "      <td>-39.733101</td>\n",
       "      <td>-25.613272</td>\n",
       "      <td>-65.346373</td>\n",
       "    </tr>\n",
       "    <tr>\n",
       "      <th>BNBUSDT</th>\n",
       "      <td>1.142121</td>\n",
       "      <td>1.048909</td>\n",
       "      <td>0.000</td>\n",
       "      <td>-10.606040</td>\n",
       "      <td>-0.093212</td>\n",
       "      <td>-10.699252</td>\n",
       "    </tr>\n",
       "    <tr>\n",
       "      <th>PEPEUSDT</th>\n",
       "      <td>0.000004</td>\n",
       "      <td>0.000003</td>\n",
       "      <td>0.000</td>\n",
       "      <td>-38.521986</td>\n",
       "      <td>-0.000001</td>\n",
       "      <td>-38.521987</td>\n",
       "    </tr>\n",
       "    <tr>\n",
       "      <th>MKRUSDT</th>\n",
       "      <td>0.000000</td>\n",
       "      <td>0.000000</td>\n",
       "      <td>0.000</td>\n",
       "      <td>-6.097479</td>\n",
       "      <td>0.000000</td>\n",
       "      <td>-6.097479</td>\n",
       "    </tr>\n",
       "    <tr>\n",
       "      <th>NEARUSDT</th>\n",
       "      <td>0.000000</td>\n",
       "      <td>0.000000</td>\n",
       "      <td>0.000</td>\n",
       "      <td>-10.339628</td>\n",
       "      <td>0.000000</td>\n",
       "      <td>-10.339628</td>\n",
       "    </tr>\n",
       "    <tr>\n",
       "      <th>NOTUSDT</th>\n",
       "      <td>0.000000</td>\n",
       "      <td>0.000000</td>\n",
       "      <td>0.000</td>\n",
       "      <td>1.007820</td>\n",
       "      <td>0.000000</td>\n",
       "      <td>1.007820</td>\n",
       "    </tr>\n",
       "    <tr>\n",
       "      <th>FETUSDT</th>\n",
       "      <td>0.000000</td>\n",
       "      <td>0.000000</td>\n",
       "      <td>0.000</td>\n",
       "      <td>0.008005</td>\n",
       "      <td>0.000000</td>\n",
       "      <td>0.008005</td>\n",
       "    </tr>\n",
       "    <tr>\n",
       "      <th>USDTUSDT</th>\n",
       "      <td>0.000000</td>\n",
       "      <td>0.000000</td>\n",
       "      <td>0.000</td>\n",
       "      <td>0.000000</td>\n",
       "      <td>0.000000</td>\n",
       "      <td>0.000000</td>\n",
       "    </tr>\n",
       "    <tr>\n",
       "      <th>RNDRUSDT</th>\n",
       "      <td>0.000000</td>\n",
       "      <td>0.000000</td>\n",
       "      <td>0.000</td>\n",
       "      <td>0.000000</td>\n",
       "      <td>0.000000</td>\n",
       "      <td>0.000000</td>\n",
       "    </tr>\n",
       "    <tr>\n",
       "      <th>TNSRUSDT</th>\n",
       "      <td>0.000000</td>\n",
       "      <td>0.000000</td>\n",
       "      <td>0.000</td>\n",
       "      <td>0.000000</td>\n",
       "      <td>0.000000</td>\n",
       "      <td>0.000000</td>\n",
       "    </tr>\n",
       "    <tr>\n",
       "      <th>UMAUSDT</th>\n",
       "      <td>0.000000</td>\n",
       "      <td>0.000000</td>\n",
       "      <td>0.000</td>\n",
       "      <td>-5.019416</td>\n",
       "      <td>0.000000</td>\n",
       "      <td>-5.019416</td>\n",
       "    </tr>\n",
       "    <tr>\n",
       "      <th>ENSUSDT</th>\n",
       "      <td>0.000000</td>\n",
       "      <td>0.000000</td>\n",
       "      <td>0.000</td>\n",
       "      <td>-3.536355</td>\n",
       "      <td>0.000000</td>\n",
       "      <td>-3.536355</td>\n",
       "    </tr>\n",
       "    <tr>\n",
       "      <th>XRPUSDT</th>\n",
       "      <td>0.000000</td>\n",
       "      <td>0.000000</td>\n",
       "      <td>0.000</td>\n",
       "      <td>-6.114543</td>\n",
       "      <td>0.000000</td>\n",
       "      <td>-6.114543</td>\n",
       "    </tr>\n",
       "    <tr>\n",
       "      <th>LPTUSDT</th>\n",
       "      <td>0.000000</td>\n",
       "      <td>0.000000</td>\n",
       "      <td>0.000</td>\n",
       "      <td>-5.746684</td>\n",
       "      <td>0.000000</td>\n",
       "      <td>-5.746684</td>\n",
       "    </tr>\n",
       "  </tbody>\n",
       "</table>\n",
       "</div>"
      ],
      "text/plain": [
       "             Book Cost  Price in USDT  Weights  Realized PnL  Unrealized PnL  \\\n",
       "Total      2184.935036    2256.597579    0.999   -131.886217       71.662543   \n",
       "BTCUSDT     601.021649     675.509143    0.299      3.537078       74.487494   \n",
       "OMUSDT      526.319895     638.479342    0.283      0.000000      112.159447   \n",
       "SOLUSDT     281.200518     354.615160    0.157      0.000000       73.414643   \n",
       "JASMYUSDT   387.458505     260.079694    0.115      0.000000     -127.378811   \n",
       "ETHUSDT     250.747339     214.155024    0.095      0.000000      -36.592315   \n",
       "TRXUSDT      76.868953      78.147524    0.035    -10.723889        1.278572   \n",
       "BBUSDT       60.176053      34.562781    0.015    -39.733101      -25.613272   \n",
       "BNBUSDT       1.142121       1.048909    0.000    -10.606040       -0.093212   \n",
       "PEPEUSDT      0.000004       0.000003    0.000    -38.521986       -0.000001   \n",
       "MKRUSDT       0.000000       0.000000    0.000     -6.097479        0.000000   \n",
       "NEARUSDT      0.000000       0.000000    0.000    -10.339628        0.000000   \n",
       "NOTUSDT       0.000000       0.000000    0.000      1.007820        0.000000   \n",
       "FETUSDT       0.000000       0.000000    0.000      0.008005        0.000000   \n",
       "USDTUSDT      0.000000       0.000000    0.000      0.000000        0.000000   \n",
       "RNDRUSDT      0.000000       0.000000    0.000      0.000000        0.000000   \n",
       "TNSRUSDT      0.000000       0.000000    0.000      0.000000        0.000000   \n",
       "UMAUSDT       0.000000       0.000000    0.000     -5.019416        0.000000   \n",
       "ENSUSDT       0.000000       0.000000    0.000     -3.536355        0.000000   \n",
       "XRPUSDT       0.000000       0.000000    0.000     -6.114543        0.000000   \n",
       "LPTUSDT       0.000000       0.000000    0.000     -5.746684        0.000000   \n",
       "\n",
       "            Total PnL  \n",
       "Total      -60.223674  \n",
       "BTCUSDT     78.024571  \n",
       "OMUSDT     112.159447  \n",
       "SOLUSDT     73.414643  \n",
       "JASMYUSDT -127.378811  \n",
       "ETHUSDT    -36.592315  \n",
       "TRXUSDT     -9.445317  \n",
       "BBUSDT     -65.346373  \n",
       "BNBUSDT    -10.699252  \n",
       "PEPEUSDT   -38.521987  \n",
       "MKRUSDT     -6.097479  \n",
       "NEARUSDT   -10.339628  \n",
       "NOTUSDT      1.007820  \n",
       "FETUSDT      0.008005  \n",
       "USDTUSDT     0.000000  \n",
       "RNDRUSDT     0.000000  \n",
       "TNSRUSDT     0.000000  \n",
       "UMAUSDT     -5.019416  \n",
       "ENSUSDT     -3.536355  \n",
       "XRPUSDT     -6.114543  \n",
       "LPTUSDT     -5.746684  "
      ]
     },
     "execution_count": 13,
     "metadata": {},
     "output_type": "execute_result"
    }
   ],
   "source": [
    "tickers=Binance.get_market_cap()['Ticker'].iloc[:75].to_list()\n",
    "holding=Binance.get_inventory()\n",
    "condition=holding.index!='Total'\n",
    "holding_tickers=holding.index[condition]\n",
    "holding_tickers=holding_tickers.to_list()\n",
    "tickers=sorted(list(set(tickers+holding_tickers)))\n",
    "last_book_cost=book_cost.iloc[-1]\n",
    "pnl=pd.concat([last_book_cost,holding.loc[condition],realized_pnl],axis=1)\n",
    "pnl.columns=['Book Cost','Price in USDT','Weights','Realized PnL']\n",
    "pnl['Book Cost']=(pnl['Book Cost']*current_quantities['free'].astype(float))\n",
    "pnl['Unrealized PnL']=pnl['Price in USDT']-pnl['Book Cost']\n",
    "pnl=pnl.fillna(0)\n",
    "pnl['Weights']=pnl['Weights'].round(3)\n",
    "pnl['Total PnL']=pnl['Unrealized PnL']+pnl['Realized PnL']\n",
    "pnl.loc['Total']=pnl.sum()\n",
    "pnl.sort_values(ascending=False,by='Price in USDT')"
   ]
  },
  {
   "cell_type": "code",
   "execution_count": 14,
   "id": "24c4a586-5719-4e4c-af73-72089b5c549b",
   "metadata": {},
   "outputs": [],
   "source": [
    "data1=Binance.get_price(tickers,start_date)\n",
    "data2=Binance.get_price(tickers,enddate)\n",
    "data=data1.combine_first(data2)\n",
    "data.index=pd.to_datetime(data.index)\n",
    "#data=data.dropna(axis=1)\n",
    "n=len(data.columns)\n",
    "data=data.sort_index()"
   ]
  },
  {
   "cell_type": "code",
   "execution_count": 15,
   "id": "fa402d23-cca7-4a57-9e61-234a6e346d61",
   "metadata": {},
   "outputs": [],
   "source": [
    "inventory_weights=(holding['Weights'].apply(lambda x: np.round(x,2))).to_dict()\n",
    "inventory_weights.pop('Total')\n",
    "\n",
    "if \"USDTUSDT\" in inventory_weights:\n",
    "    \n",
    "    inventory_weights.pop('USDTUSDT')\n",
    "else: \n",
    "    pass"
   ]
  },
  {
   "cell_type": "code",
   "execution_count": 16,
   "id": "f12eea91-8e16-438a-8418-e9a00c684c51",
   "metadata": {},
   "outputs": [],
   "source": [
    "returns=np.log(1+data.pct_change())\n",
    "returns.index=pd.to_datetime(returns.index)\n",
    "with_no_na=returns.columns[np.where((returns.isna().sum()<30))]\n",
    "returns_to_use=returns[with_no_na]\n",
    "ex_ante_perf=returns[holding_tickers]\n",
    "ex_ante_perf_to_use=ex_ante_perf.dropna()"
   ]
  },
  {
   "cell_type": "code",
   "execution_count": 17,
   "id": "c02ab432-6fac-4d8a-9744-c41d0fc2977c",
   "metadata": {},
   "outputs": [],
   "source": [
    "weights_post=dict()\n",
    "\n",
    "for col in ex_ante_perf.columns:\n",
    "    \n",
    "    if col in inventory_weights.keys():\n",
    "        weights_post[col]=inventory_weights[col]\n",
    "        \n",
    "    else:\n",
    "        weights_post[col]=0\n",
    "    \n",
    "current_weights=np.array(list(weights_post.values()))\n",
    "current_weights=np.round(current_weights,2)/np.sum(np.round(current_weights,2))"
   ]
  },
  {
   "cell_type": "markdown",
   "id": "b140110e-5f33-465c-8e5c-0fc7a645c27d",
   "metadata": {
    "tags": []
   },
   "source": [
    "## Positions, Historical Performance and PnL"
   ]
  },
  {
   "cell_type": "code",
   "execution_count": 18,
   "id": "f2b4a11b-d344-4706-9dac-b73eab814fb0",
   "metadata": {},
   "outputs": [],
   "source": [
    "position=pd.read_excel('Positions.xlsx',index_col=0)"
   ]
  },
  {
   "cell_type": "code",
   "execution_count": 19,
   "id": "dc17b920-41c0-472e-9640-5689430c5089",
   "metadata": {},
   "outputs": [],
   "source": [
    "positions,quantities=Binance.get_positions_history(enddate=datetime.datetime.today())\n",
    "\n",
    "positions=positions.sort_index()\n",
    "\n",
    "positions.index=pd.to_datetime(positions.index)\n",
    "\n",
    "positions=pd.concat([position,positions])\n",
    "positions=positions.loc[~positions.index.duplicated(),:]\n",
    "\n",
    "positions.to_excel('Positions.xlsx')\n",
    "\n",
    "positions=positions.interpolate()\n",
    "positions['Total']=positions.sum(axis=1)"
   ]
  },
  {
   "cell_type": "code",
   "execution_count": 20,
   "id": "a4b674ac-e48d-4a4f-b58c-322d49b021bd",
   "metadata": {},
   "outputs": [],
   "source": [
    "quantities_history=pd.read_excel('Quantities.xlsx',index_col=0)\n",
    "\n",
    "quantities=quantities.sort_index()\n",
    "quantities.index=pd.to_datetime(quantities.index)\n",
    "\n",
    "quantities=pd.concat([quantities,quantities_history])\n",
    "quantities=quantities.loc[~quantities.index.duplicated(),:]\n",
    "\n",
    "quantities.to_excel('Quantities.xlsx')"
   ]
  },
  {
   "cell_type": "code",
   "execution_count": 21,
   "id": "2e3c0053-644a-42c0-bbf6-443fadd1a88c",
   "metadata": {},
   "outputs": [],
   "source": [
    "quantities_tickers=list(quantities.columns)\n",
    "price_pnl=Binance.get_price(quantities_tickers,date=quantities.index[0])"
   ]
  },
  {
   "cell_type": "code",
   "execution_count": 22,
   "id": "0266e2bb-9738-4ba8-b95c-dd80708df33d",
   "metadata": {},
   "outputs": [],
   "source": [
    "price_pnl.index=pd.to_datetime(price_pnl.index)\n",
    "pnl_history=pd.DataFrame()\n",
    "pnl_history.index=quantities_history.index\n",
    "pnl_history=pnl_history.sort_index()\n",
    "for col in quantities:\n",
    "    \n",
    "    pnl_history[col]=quantities_history[col]*(price_pnl[col]-book_cost.iloc[-1][col])\n",
    "\n",
    "pnl_history['Total']=pnl_history.sum(axis=1) +realized_pnl.sum()[0]"
   ]
  },
  {
   "cell_type": "code",
   "execution_count": 23,
   "id": "7c000c8f-b9a6-44f3-8791-9a24c18775d0",
   "metadata": {},
   "outputs": [
    {
     "data": {
      "text/plain": [
       "2024-09-23   -131.886217\n",
       "2024-09-24   -131.886217\n",
       "2024-09-25   -131.886217\n",
       "2024-09-26   -131.886217\n",
       "2024-09-27   -131.886217\n",
       "2024-09-28   -131.886217\n",
       "2024-09-29   -131.886217\n",
       "2024-09-30   -131.886217\n",
       "2024-10-01   -131.886217\n",
       "2024-10-02   -131.886217\n",
       "2024-10-03   -131.886217\n",
       "2024-10-04   -131.886217\n",
       "2024-10-05   -131.886217\n",
       "2024-10-06   -131.886217\n",
       "2024-10-07   -131.886217\n",
       "2024-10-08   -131.886217\n",
       "2024-10-09   -131.886217\n",
       "2024-10-10   -347.926055\n",
       "2024-10-11   -302.956679\n",
       "2024-10-12   -276.666978\n",
       "2024-10-13   -265.907701\n",
       "2024-10-14   -142.332259\n",
       "2024-10-15   -163.448396\n",
       "2024-10-16   -168.424332\n",
       "2024-10-17   -183.334771\n",
       "2024-10-18   -176.385224\n",
       "2024-10-19   -180.957063\n",
       "2024-10-20   -143.937680\n",
       "2024-10-21   -186.314601\n",
       "2024-10-22   -201.935715\n",
       "2024-10-23   -250.904729\n",
       "2024-10-24   -234.108305\n",
       "2024-10-25   -339.306249\n",
       "2024-10-26   -322.303981\n",
       "2024-10-27   -200.301397\n",
       "2024-10-28   -222.114486\n",
       "2024-10-29   -159.909168\n",
       "2024-10-30   -155.100477\n",
       "2024-10-31   -224.945662\n",
       "2024-11-01   -224.730511\n",
       "2024-11-02   -255.691112\n",
       "2024-11-03   -293.511531\n",
       "2024-11-04   -354.928333\n",
       "2024-11-05   -295.444499\n",
       "2024-11-06    -77.738575\n",
       "2024-11-07    -57.775893\n",
       "2024-11-08    -64.245927\n",
       "Name: Total, dtype: float64"
      ]
     },
     "execution_count": 23,
     "metadata": {},
     "output_type": "execute_result"
    }
   ],
   "source": [
    "pnl_history['Total']"
   ]
  },
  {
   "cell_type": "code",
   "execution_count": 24,
   "id": "7024f40c-7ebf-4695-83bc-29f9dd397bda",
   "metadata": {},
   "outputs": [],
   "source": [
    "ptf_tickers=list(positions.columns)\n",
    "ptf_tickers.remove('USDTUSDT')"
   ]
  },
  {
   "cell_type": "code",
   "execution_count": 25,
   "id": "3a9a3051-c255-4f0d-be18-894331cd55c9",
   "metadata": {},
   "outputs": [],
   "source": [
    "weights_ex_post=positions.copy()\n",
    "weights_ex_post=weights_ex_post.drop(columns=['USDTUSDT'])\n",
    "weights_ex_post=weights_ex_post.apply(lambda x: x/weights_ex_post['Total'])"
   ]
  },
  {
   "cell_type": "code",
   "execution_count": 26,
   "id": "e4dc6066-1329-4a65-a66e-476690428ca0",
   "metadata": {},
   "outputs": [
    {
     "name": "stdout",
     "output_type": "stream",
     "text": [
      "LDUMAUSDT not retrieved\n",
      "Total not retrieved\n"
     ]
    }
   ],
   "source": [
    "binance_data=Binance.get_price(ptf_tickers,date=datetime.datetime(2024,5,11))\n",
    "binance_data.index=pd.to_datetime(binance_data.index)\n",
    "binance_data=binance_data.sort_index()\n",
    "binance_data=np.log(1+binance_data.pct_change())\n"
   ]
  },
  {
   "cell_type": "code",
   "execution_count": 27,
   "id": "5622e624-6716-491e-97b8-c9d221f0d700",
   "metadata": {},
   "outputs": [],
   "source": [
    "weight_date=set(weights_ex_post.index)\n",
    "binance_date=binance_data.index"
   ]
  },
  {
   "cell_type": "code",
   "execution_count": 28,
   "id": "7d465985-94d7-4b93-b6bc-66a63b13ae4f",
   "metadata": {},
   "outputs": [],
   "source": [
    "common_date=binance_date.intersection(weight_date)\n",
    "\n",
    "binance_data=binance_data.loc[common_date]"
   ]
  },
  {
   "cell_type": "code",
   "execution_count": 29,
   "id": "5c6c4aa2-0952-478c-b077-6c37ba62d297",
   "metadata": {},
   "outputs": [],
   "source": [
    "historical_ptf=pd.DataFrame()\n",
    "\n",
    "for col in binance_data:\n",
    "    historical_ptf[col]=weights_ex_post[col]*binance_data[col]\n",
    "    \n",
    "historical_ptf['Historical Portfolio']=historical_ptf.sum(axis=1)"
   ]
  },
  {
   "cell_type": "code",
   "execution_count": 30,
   "id": "c58b1420-5345-4feb-af42-6f019cfdf19c",
   "metadata": {},
   "outputs": [
    {
     "data": {
      "text/plain": [
       "<AxesSubplot:>"
      ]
     },
     "execution_count": 30,
     "metadata": {},
     "output_type": "execute_result"
    },
    {
     "data": {
      "image/png": "[encoded data removed]",
      "text/plain": [
       "<Figure size 432x288 with 1 Axes>"
      ]
     },
     "metadata": {
      "needs_background": "light"
     },
     "output_type": "display_data"
    }
   ],
   "source": [
    "#historical_ptf.dropna(axis = 0, how = 'all', inplace = True)\n",
    "\n",
    "(1+historical_ptf['Historical Portfolio']).cumprod().plot()"
   ]
  },
  {
   "cell_type": "markdown",
   "id": "234cc405-16b8-4ea6-89f9-bf448d837670",
   "metadata": {},
   "source": [
    "## Ex ante data"
   ]
  },
  {
   "cell_type": "code",
   "execution_count": 31,
   "id": "027c07a0-4c8e-45da-a97d-8cf833597a5f",
   "metadata": {},
   "outputs": [],
   "source": [
    "ex_ante_ptf=ex_ante_perf.copy()\n",
    "\n",
    "for key in inventory_weights.keys():\n",
    "    \n",
    "    ex_ante_ptf[key]=ex_ante_perf[key]*inventory_weights[key]\n",
    "\n",
    "ex_ante_ptf=pd.DataFrame(ex_ante_ptf.sum(axis=1))"
   ]
  },
  {
   "cell_type": "markdown",
   "id": "bbec8b12-d681-4704-a561-9718fbb872e0",
   "metadata": {},
   "source": [
    "# Portfolio Optimization"
   ]
  },
  {
   "cell_type": "markdown",
   "id": "16adc40b-d589-4193-8148-7e7dae06dc7e",
   "metadata": {},
   "source": [
    "## Class set up"
   ]
  },
  {
   "cell_type": "code",
   "execution_count": 32,
   "id": "f27106c8-0433-477e-b0bf-6ca9249004b4",
   "metadata": {},
   "outputs": [],
   "source": [
    "historical_risk=RiskAnalysis(returns_to_use)\n",
    "current_risk=RiskAnalysis(ex_ante_perf_to_use.iloc[:])\n",
    "num_asset=len(returns_to_use.columns)\n",
    "num_asset_current=len(ex_ante_perf_to_use.columns)"
   ]
  },
  {
   "cell_type": "code",
   "execution_count": 33,
   "id": "f55211bf-ba25-4066-a0d2-6cf0ef658786",
   "metadata": {},
   "outputs": [
    {
     "data": {
      "text/plain": [
       "Index(['AAVEUSDT', 'ADAUSDT', 'ALGOUSDT', 'APEUSDT', 'APTUSDT', 'ARBUSDT',\n",
       "       'ARUSDT', 'ATOMUSDT', 'AVAXUSDT', 'AXSUSDT', 'BCHUSDT', 'BNBUSDT',\n",
       "       'BONKUSDT', 'BTCUSDT', 'DOGEUSDT', 'DOTUSDT', 'DYDXUSDT', 'EGLDUSDT',\n",
       "       'ETCUSDT', 'ETHUSDT', 'FDUSDUSDT', 'FETUSDT', 'FILUSDT', 'FLOKIUSDT',\n",
       "       'FLOWUSDT', 'FTMUSDT', 'GALAUSDT', 'GRTUSDT', 'HBARUSDT', 'ICPUSDT',\n",
       "       'IMXUSDT', 'INJUSDT', 'JASMYUSDT', 'LDOUSDT', 'LINKUSDT', 'LTCUSDT',\n",
       "       'MKRUSDT', 'NEARUSDT', 'OMUSDT', 'OPUSDT', 'ORDIUSDT', 'PENDLEUSDT',\n",
       "       'PEPEUSDT', 'QNTUSDT', 'RAYUSDT', 'RUNEUSDT', 'SEIUSDT', 'SHIBUSDT',\n",
       "       'SOLUSDT', 'STXUSDT', 'SUIUSDT', 'THETAUSDT', 'TIAUSDT', 'TRXUSDT',\n",
       "       'UNIUSDT', 'USDCUSDT', 'VETUSDT', 'WBETHUSDT', 'WBTCUSDT', 'WLDUSDT',\n",
       "       'XLMUSDT', 'XRPUSDT', 'ZECUSDT'],\n",
       "      dtype='object')"
      ]
     },
     "execution_count": 33,
     "metadata": {},
     "output_type": "execute_result"
    }
   ],
   "source": [
    "returns_to_use.columns"
   ]
  },
  {
   "cell_type": "code",
   "execution_count": 34,
   "id": "eb382de7-0a0b-47f9-83a4-777aef62e9a6",
   "metadata": {},
   "outputs": [],
   "source": [
    "cash=np.where(returns_to_use.columns=='USDCUSDT')[0][0],np.where(returns_to_use.columns=='FDUSDUSDT')[0][0]\n",
    "limit_hist=np.where(returns_to_use.columns=='BTCUSDT')[0][0],np.where(returns_to_use.columns=='ETHUSDT')[0][0],np.where(returns_to_use.columns=='SOLUSDT')[0][0],np.where(returns_to_use.columns=='USDCUSDT')[0][0]"
   ]
  },
  {
   "cell_type": "markdown",
   "id": "fd2fa57d-de01-4917-8d08-d33930572316",
   "metadata": {},
   "source": [
    "## Optimal Portfolio"
   ]
  },
  {
   "cell_type": "code",
   "execution_count": 35,
   "id": "05eee256-a57c-4cc6-b16c-738b2315f37c",
   "metadata": {},
   "outputs": [
    {
     "data": {
      "text/html": [
       "<div>\n",
       "<style scoped>\n",
       "    .dataframe tbody tr th:only-of-type {\n",
       "        vertical-align: middle;\n",
       "    }\n",
       "\n",
       "    .dataframe tbody tr th {\n",
       "        vertical-align: top;\n",
       "    }\n",
       "\n",
       "    .dataframe thead th {\n",
       "        text-align: right;\n",
       "    }\n",
       "</style>\n",
       "<table border=\"1\" class=\"dataframe\">\n",
       "  <thead>\n",
       "    <tr style=\"text-align: right;\">\n",
       "      <th></th>\n",
       "      <th>Optimal Weights</th>\n",
       "    </tr>\n",
       "  </thead>\n",
       "  <tbody>\n",
       "    <tr>\n",
       "      <th>OMUSDT</th>\n",
       "      <td>0.3432</td>\n",
       "    </tr>\n",
       "    <tr>\n",
       "      <th>TRXUSDT</th>\n",
       "      <td>0.2553</td>\n",
       "    </tr>\n",
       "    <tr>\n",
       "      <th>BNBUSDT</th>\n",
       "      <td>0.2272</td>\n",
       "    </tr>\n",
       "    <tr>\n",
       "      <th>RAYUSDT</th>\n",
       "      <td>0.0762</td>\n",
       "    </tr>\n",
       "    <tr>\n",
       "      <th>PEPEUSDT</th>\n",
       "      <td>0.0545</td>\n",
       "    </tr>\n",
       "    <tr>\n",
       "      <th>SUIUSDT</th>\n",
       "      <td>0.0416</td>\n",
       "    </tr>\n",
       "    <tr>\n",
       "      <th>FDUSDUSDT</th>\n",
       "      <td>0.0010</td>\n",
       "    </tr>\n",
       "    <tr>\n",
       "      <th>USDCUSDT</th>\n",
       "      <td>0.0010</td>\n",
       "    </tr>\n",
       "    <tr>\n",
       "      <th>DYDXUSDT</th>\n",
       "      <td>0.0000</td>\n",
       "    </tr>\n",
       "    <tr>\n",
       "      <th>BONKUSDT</th>\n",
       "      <td>0.0000</td>\n",
       "    </tr>\n",
       "  </tbody>\n",
       "</table>\n",
       "</div>"
      ],
      "text/plain": [
       "           Optimal Weights\n",
       "OMUSDT              0.3432\n",
       "TRXUSDT             0.2553\n",
       "BNBUSDT             0.2272\n",
       "RAYUSDT             0.0762\n",
       "PEPEUSDT            0.0545\n",
       "SUIUSDT             0.0416\n",
       "FDUSDUSDT           0.0010\n",
       "USDCUSDT            0.0010\n",
       "DYDXUSDT            0.0000\n",
       "BONKUSDT            0.0000"
      ]
     },
     "execution_count": 35,
     "metadata": {},
     "output_type": "execute_result"
    }
   ],
   "source": [
    "opt_weights=historical_risk.optimize(objective=\"sharpe_ratio\",constraints=[{'type': 'eq', 'fun': lambda weights: weights[cash[0]]-0.001},\n",
    "                                                                              \n",
    "                                                                              {'type': 'eq', 'fun': lambda weights: weights[cash[1]]-0.001}])\n",
    "inventory=historical_risk.inventory(opt_weights)\n",
    "inventory.columns=['Optimal Weights']\n",
    "\n",
    "inventory.iloc[:10].round(4)"
   ]
  },
  {
   "cell_type": "code",
   "execution_count": 36,
   "id": "8c58779c-ef34-4f61-9feb-8f30157d7333",
   "metadata": {},
   "outputs": [
    {
     "data": {
      "text/html": [
       "<div>\n",
       "<style scoped>\n",
       "    .dataframe tbody tr th:only-of-type {\n",
       "        vertical-align: middle;\n",
       "    }\n",
       "\n",
       "    .dataframe tbody tr th {\n",
       "        vertical-align: top;\n",
       "    }\n",
       "\n",
       "    .dataframe thead th {\n",
       "        text-align: right;\n",
       "    }\n",
       "</style>\n",
       "<table border=\"1\" class=\"dataframe\">\n",
       "  <thead>\n",
       "    <tr style=\"text-align: right;\">\n",
       "      <th></th>\n",
       "      <th>Optimal Weights</th>\n",
       "    </tr>\n",
       "  </thead>\n",
       "  <tbody>\n",
       "    <tr>\n",
       "      <th>OMUSDT</th>\n",
       "      <td>0.411697</td>\n",
       "    </tr>\n",
       "    <tr>\n",
       "      <th>BTCUSDT</th>\n",
       "      <td>0.300000</td>\n",
       "    </tr>\n",
       "    <tr>\n",
       "      <th>BNBUSDT</th>\n",
       "      <td>0.122665</td>\n",
       "    </tr>\n",
       "    <tr>\n",
       "      <th>RAYUSDT</th>\n",
       "      <td>0.089037</td>\n",
       "    </tr>\n",
       "    <tr>\n",
       "      <th>PEPEUSDT</th>\n",
       "      <td>0.043573</td>\n",
       "    </tr>\n",
       "    <tr>\n",
       "      <th>SUIUSDT</th>\n",
       "      <td>0.033027</td>\n",
       "    </tr>\n",
       "  </tbody>\n",
       "</table>\n",
       "</div>"
      ],
      "text/plain": [
       "          Optimal Weights\n",
       "OMUSDT           0.411697\n",
       "BTCUSDT          0.300000\n",
       "BNBUSDT          0.122665\n",
       "RAYUSDT          0.089037\n",
       "PEPEUSDT         0.043573\n",
       "SUIUSDT          0.033027"
      ]
     },
     "execution_count": 36,
     "metadata": {},
     "output_type": "execute_result"
    }
   ],
   "source": [
    "opt_weights=historical_risk.optimize(objective=\"sharpe_ratio\",constraints=[{'type': 'ineq', 'fun': lambda weights: weights[limit_hist[0]]-0.30}])\n",
    "                                                         #  ,{'type': 'ineq', 'fun': lambda weights: weights[limit[1]]-0.15},\n",
    "                                                        #{'type': 'ineq', 'fun': lambda weights: weights[limit[2]]-0.15}])\n",
    "opt_weights=np.round(opt_weights,6)\n",
    "inventory=historical_risk.inventory(opt_weights)\n",
    "inventory.columns=['Optimal Weights']\n",
    "\n",
    "inventory"
   ]
  },
  {
   "cell_type": "code",
   "execution_count": 37,
   "id": "81a3f562-6810-4e1b-91d1-a7282a3ff347",
   "metadata": {},
   "outputs": [],
   "source": [
    "limit=np.where(ex_ante_perf_to_use.columns=='BTCUSDT')[0][0],np.where(ex_ante_perf_to_use.columns=='ETHUSDT')[0][0],np.where(ex_ante_perf_to_use.columns=='SOLUSDT')[0][0]"
   ]
  },
  {
   "cell_type": "code",
   "execution_count": 38,
   "id": "75be66f1-0ad0-41c8-8807-16e73d711edf",
   "metadata": {},
   "outputs": [
    {
     "data": {
      "text/html": [
       "<div>\n",
       "<style scoped>\n",
       "    .dataframe tbody tr th:only-of-type {\n",
       "        vertical-align: middle;\n",
       "    }\n",
       "\n",
       "    .dataframe tbody tr th {\n",
       "        vertical-align: top;\n",
       "    }\n",
       "\n",
       "    .dataframe thead th {\n",
       "        text-align: right;\n",
       "    }\n",
       "</style>\n",
       "<table border=\"1\" class=\"dataframe\">\n",
       "  <thead>\n",
       "    <tr style=\"text-align: right;\">\n",
       "      <th></th>\n",
       "      <th>Optimal Weights</th>\n",
       "    </tr>\n",
       "  </thead>\n",
       "  <tbody>\n",
       "    <tr>\n",
       "      <th>TRXUSDT</th>\n",
       "      <td>0.75686</td>\n",
       "    </tr>\n",
       "    <tr>\n",
       "      <th>OMUSDT</th>\n",
       "      <td>0.24314</td>\n",
       "    </tr>\n",
       "  </tbody>\n",
       "</table>\n",
       "</div>"
      ],
      "text/plain": [
       "         Optimal Weights\n",
       "TRXUSDT          0.75686\n",
       "OMUSDT           0.24314"
      ]
     },
     "execution_count": 38,
     "metadata": {},
     "output_type": "execute_result"
    }
   ],
   "source": [
    "current_optimal_weights=current_risk.optimize(objective=\"sharpe_ratio\")#,constraints=[{'type': 'ineq', 'fun': lambda weights: weights[limit[0]]-0.40}])\n",
    "                                                           #,{'type': 'ineq', 'fun': lambda weights: weights[limit[1]]-0.15},\n",
    "                                                            #{'type': 'ineq', 'fun': lambda weights: weights[limit[2]]-0.15}])\n",
    "current_optimal_weights=np.round(current_optimal_weights,6)\n",
    "optimal_ptf_current=current_risk.inventory(current_optimal_weights)\n",
    "optimal_ptf_current.columns=['Optimal Weights']\n",
    "optimal_ptf_current"
   ]
  },
  {
   "cell_type": "markdown",
   "id": "555e4cdf-3f8d-445a-b5d7-e35eb59aa4b2",
   "metadata": {},
   "source": [
    "## Real Portfolio vs Optimal"
   ]
  },
  {
   "cell_type": "code",
   "execution_count": 39,
   "id": "1f55a04d-3575-446a-a801-7824e452dd57",
   "metadata": {},
   "outputs": [
    {
     "data": {
      "text/html": [
       "<div>\n",
       "<style scoped>\n",
       "    .dataframe tbody tr th:only-of-type {\n",
       "        vertical-align: middle;\n",
       "    }\n",
       "\n",
       "    .dataframe tbody tr th {\n",
       "        vertical-align: top;\n",
       "    }\n",
       "\n",
       "    .dataframe thead th {\n",
       "        text-align: right;\n",
       "    }\n",
       "</style>\n",
       "<table border=\"1\" class=\"dataframe\">\n",
       "  <thead>\n",
       "    <tr style=\"text-align: right;\">\n",
       "      <th></th>\n",
       "      <th>Price in USDT</th>\n",
       "      <th>Weights</th>\n",
       "      <th>Optimal Weights</th>\n",
       "      <th>Spread</th>\n",
       "    </tr>\n",
       "  </thead>\n",
       "  <tbody>\n",
       "    <tr>\n",
       "      <th>BTCUSDT</th>\n",
       "      <td>675.509143</td>\n",
       "      <td>0.299349</td>\n",
       "      <td>0.00000</td>\n",
       "      <td>0.000000</td>\n",
       "    </tr>\n",
       "    <tr>\n",
       "      <th>OMUSDT</th>\n",
       "      <td>638.479342</td>\n",
       "      <td>0.282939</td>\n",
       "      <td>0.24314</td>\n",
       "      <td>0.039799</td>\n",
       "    </tr>\n",
       "    <tr>\n",
       "      <th>SOLUSDT</th>\n",
       "      <td>354.615160</td>\n",
       "      <td>0.157146</td>\n",
       "      <td>0.00000</td>\n",
       "      <td>0.000000</td>\n",
       "    </tr>\n",
       "    <tr>\n",
       "      <th>JASMYUSDT</th>\n",
       "      <td>260.079694</td>\n",
       "      <td>0.115253</td>\n",
       "      <td>0.00000</td>\n",
       "      <td>0.000000</td>\n",
       "    </tr>\n",
       "    <tr>\n",
       "      <th>ETHUSDT</th>\n",
       "      <td>214.155024</td>\n",
       "      <td>0.094902</td>\n",
       "      <td>0.00000</td>\n",
       "      <td>0.000000</td>\n",
       "    </tr>\n",
       "    <tr>\n",
       "      <th>TRXUSDT</th>\n",
       "      <td>78.147524</td>\n",
       "      <td>0.034631</td>\n",
       "      <td>0.75686</td>\n",
       "      <td>-0.722229</td>\n",
       "    </tr>\n",
       "    <tr>\n",
       "      <th>BBUSDT</th>\n",
       "      <td>34.562781</td>\n",
       "      <td>0.015316</td>\n",
       "      <td>0.00000</td>\n",
       "      <td>0.000000</td>\n",
       "    </tr>\n",
       "    <tr>\n",
       "      <th>BNBUSDT</th>\n",
       "      <td>1.048909</td>\n",
       "      <td>0.000465</td>\n",
       "      <td>0.00000</td>\n",
       "      <td>0.000000</td>\n",
       "    </tr>\n",
       "    <tr>\n",
       "      <th>PEPEUSDT</th>\n",
       "      <td>0.000003</td>\n",
       "      <td>0.000000</td>\n",
       "      <td>0.00000</td>\n",
       "      <td>0.000000</td>\n",
       "    </tr>\n",
       "  </tbody>\n",
       "</table>\n",
       "</div>"
      ],
      "text/plain": [
       "           Price in USDT   Weights  Optimal Weights    Spread\n",
       "BTCUSDT       675.509143  0.299349          0.00000  0.000000\n",
       "OMUSDT        638.479342  0.282939          0.24314  0.039799\n",
       "SOLUSDT       354.615160  0.157146          0.00000  0.000000\n",
       "JASMYUSDT     260.079694  0.115253          0.00000  0.000000\n",
       "ETHUSDT       214.155024  0.094902          0.00000  0.000000\n",
       "TRXUSDT        78.147524  0.034631          0.75686 -0.722229\n",
       "BBUSDT         34.562781  0.015316          0.00000  0.000000\n",
       "BNBUSDT         1.048909  0.000465          0.00000  0.000000\n",
       "PEPEUSDT        0.000003  0.000000          0.00000  0.000000"
      ]
     },
     "execution_count": 39,
     "metadata": {},
     "output_type": "execute_result"
    }
   ],
   "source": [
    "current_holding_comparison=holding.copy()\n",
    "current_holding_comparison=current_holding_comparison.loc[current_holding_comparison.index!=\"Total\"]\n",
    "current_holding_comparison=pd.concat([current_holding_comparison,optimal_ptf_current],axis=1)\n",
    "current_holding_comparison['Spread']=current_holding_comparison['Weights']-current_holding_comparison['Optimal Weights']\n",
    "current_holding_comparison['Weights']=current_holding_comparison['Weights'].round(7)\n",
    "current_holding_comparison=current_holding_comparison.fillna(0)\n",
    "current_holding_comparison"
   ]
  },
  {
   "cell_type": "code",
   "execution_count": 40,
   "id": "c02b695b-bfaa-4eef-9212-e0b2717db2a0",
   "metadata": {},
   "outputs": [
    {
     "data": {
      "text/html": [
       "<div>\n",
       "<style scoped>\n",
       "    .dataframe tbody tr th:only-of-type {\n",
       "        vertical-align: middle;\n",
       "    }\n",
       "\n",
       "    .dataframe tbody tr th {\n",
       "        vertical-align: top;\n",
       "    }\n",
       "\n",
       "    .dataframe thead th {\n",
       "        text-align: right;\n",
       "    }\n",
       "</style>\n",
       "<table border=\"1\" class=\"dataframe\">\n",
       "  <thead>\n",
       "    <tr style=\"text-align: right;\">\n",
       "      <th></th>\n",
       "      <th>Price in USDT</th>\n",
       "      <th>Weights</th>\n",
       "      <th>Optimal Weights</th>\n",
       "      <th>Spread</th>\n",
       "    </tr>\n",
       "  </thead>\n",
       "  <tbody>\n",
       "    <tr>\n",
       "      <th>BTCUSDT</th>\n",
       "      <td>675.509143</td>\n",
       "      <td>0.299349</td>\n",
       "      <td>0.300000</td>\n",
       "      <td>-0.000651</td>\n",
       "    </tr>\n",
       "    <tr>\n",
       "      <th>OMUSDT</th>\n",
       "      <td>638.479342</td>\n",
       "      <td>0.282939</td>\n",
       "      <td>0.411697</td>\n",
       "      <td>-0.128758</td>\n",
       "    </tr>\n",
       "    <tr>\n",
       "      <th>SOLUSDT</th>\n",
       "      <td>354.615160</td>\n",
       "      <td>0.157146</td>\n",
       "      <td>0.000000</td>\n",
       "      <td>0.000000</td>\n",
       "    </tr>\n",
       "    <tr>\n",
       "      <th>JASMYUSDT</th>\n",
       "      <td>260.079694</td>\n",
       "      <td>0.115253</td>\n",
       "      <td>0.000000</td>\n",
       "      <td>0.000000</td>\n",
       "    </tr>\n",
       "    <tr>\n",
       "      <th>ETHUSDT</th>\n",
       "      <td>214.155024</td>\n",
       "      <td>0.094902</td>\n",
       "      <td>0.000000</td>\n",
       "      <td>0.000000</td>\n",
       "    </tr>\n",
       "    <tr>\n",
       "      <th>TRXUSDT</th>\n",
       "      <td>78.147524</td>\n",
       "      <td>0.034631</td>\n",
       "      <td>0.000000</td>\n",
       "      <td>0.000000</td>\n",
       "    </tr>\n",
       "    <tr>\n",
       "      <th>BBUSDT</th>\n",
       "      <td>34.562781</td>\n",
       "      <td>0.015316</td>\n",
       "      <td>0.000000</td>\n",
       "      <td>0.000000</td>\n",
       "    </tr>\n",
       "    <tr>\n",
       "      <th>BNBUSDT</th>\n",
       "      <td>1.048909</td>\n",
       "      <td>0.000465</td>\n",
       "      <td>0.122665</td>\n",
       "      <td>-0.122200</td>\n",
       "    </tr>\n",
       "    <tr>\n",
       "      <th>PEPEUSDT</th>\n",
       "      <td>0.000003</td>\n",
       "      <td>0.000000</td>\n",
       "      <td>0.043573</td>\n",
       "      <td>-0.043573</td>\n",
       "    </tr>\n",
       "    <tr>\n",
       "      <th>RAYUSDT</th>\n",
       "      <td>0.000000</td>\n",
       "      <td>0.000000</td>\n",
       "      <td>0.089037</td>\n",
       "      <td>0.000000</td>\n",
       "    </tr>\n",
       "    <tr>\n",
       "      <th>SUIUSDT</th>\n",
       "      <td>0.000000</td>\n",
       "      <td>0.000000</td>\n",
       "      <td>0.033027</td>\n",
       "      <td>0.000000</td>\n",
       "    </tr>\n",
       "  </tbody>\n",
       "</table>\n",
       "</div>"
      ],
      "text/plain": [
       "           Price in USDT   Weights  Optimal Weights    Spread\n",
       "BTCUSDT       675.509143  0.299349         0.300000 -0.000651\n",
       "OMUSDT        638.479342  0.282939         0.411697 -0.128758\n",
       "SOLUSDT       354.615160  0.157146         0.000000  0.000000\n",
       "JASMYUSDT     260.079694  0.115253         0.000000  0.000000\n",
       "ETHUSDT       214.155024  0.094902         0.000000  0.000000\n",
       "TRXUSDT        78.147524  0.034631         0.000000  0.000000\n",
       "BBUSDT         34.562781  0.015316         0.000000  0.000000\n",
       "BNBUSDT         1.048909  0.000465         0.122665 -0.122200\n",
       "PEPEUSDT        0.000003  0.000000         0.043573 -0.043573\n",
       "RAYUSDT         0.000000  0.000000         0.089037  0.000000\n",
       "SUIUSDT         0.000000  0.000000         0.033027  0.000000"
      ]
     },
     "execution_count": 40,
     "metadata": {},
     "output_type": "execute_result"
    }
   ],
   "source": [
    "historical_comparison=holding.copy()\n",
    "historical_comparison=historical_comparison.loc[historical_comparison.index!=\"Total\"]\n",
    "historical_comparison=pd.concat([historical_comparison,inventory],axis=1)\n",
    "historical_comparison['Spread']=historical_comparison['Weights']-historical_comparison['Optimal Weights']\n",
    "historical_comparison['Weights']=historical_comparison['Weights'].round(7)\n",
    "historical_comparison=historical_comparison.fillna(0)\n",
    "historical_comparison"
   ]
  },
  {
   "cell_type": "markdown",
   "id": "e764e7c3-19aa-4638-bd23-a2ec30f727c6",
   "metadata": {},
   "source": [
    "# Risk Reward Analysis"
   ]
  },
  {
   "cell_type": "code",
   "execution_count": 41,
   "id": "7290db47-647c-4950-95e9-078b23d37888",
   "metadata": {},
   "outputs": [],
   "source": [
    "opt_ptf=(returns_to_use*opt_weights).sum(axis=1)\n",
    "curr_opt_ptf=(ex_ante_perf*current_optimal_weights).sum(axis=1)\n",
    "portfolio_perf=pd.DataFrame()\n",
    "portfolio_perf['Portfolio']=(ex_ante_perf*current_weights).sum(axis=1)"
   ]
  },
  {
   "cell_type": "code",
   "execution_count": 42,
   "id": "7a7b7f35-933b-4a67-af34-67d3f58c0f57",
   "metadata": {},
   "outputs": [],
   "source": [
    "portfolio_perf['Bitcoin']=returns['BTCUSDT']\n",
    "portfolio_perf['Optimal']=opt_ptf\n",
    "portfolio_perf['Current Optimal']=curr_opt_ptf"
   ]
  },
  {
   "cell_type": "code",
   "execution_count": 43,
   "id": "70752cdf-305d-4814-b99a-2c21effe6cf5",
   "metadata": {},
   "outputs": [
    {
     "data": {
      "text/plain": [
       "<AxesSubplot:>"
      ]
     },
     "execution_count": 43,
     "metadata": {},
     "output_type": "execute_result"
    },
    {
     "data": {
      "image/png": "[encoded data removed]",
      "text/plain": [
       "<Figure size 432x288 with 1 Axes>"
      ]
     },
     "metadata": {
      "needs_background": "light"
     },
     "output_type": "display_data"
    }
   ],
   "source": [
    "(1+portfolio_perf.loc[:]).cumprod().plot()"
   ]
  },
  {
   "cell_type": "code",
   "execution_count": 44,
   "id": "83bf55a4-5fe4-48a7-af9b-89d4d8de4824",
   "metadata": {},
   "outputs": [],
   "source": [
    "current_perf=portfolio_perf.copy()\n",
    "current_perf=current_perf.loc[historical_ptf.index]\n",
    "current_perf['Historical Portfolio']=historical_ptf['Historical Portfolio']"
   ]
  },
  {
   "cell_type": "code",
   "execution_count": 45,
   "id": "4d17e532-f112-4c6b-a891-1d03f0b5d647",
   "metadata": {},
   "outputs": [
    {
     "data": {
      "text/plain": [
       "<AxesSubplot:>"
      ]
     },
     "execution_count": 45,
     "metadata": {},
     "output_type": "execute_result"
    },
    {
     "data": {
      "image/png": "[encoded data removed]",
      "text/plain": [
       "<Figure size 432x288 with 1 Axes>"
      ]
     },
     "metadata": {
      "needs_background": "light"
     },
     "output_type": "display_data"
    }
   ],
   "source": [
    "((1+current_perf).cumprod()*100).plot()"
   ]
  },
  {
   "cell_type": "code",
   "execution_count": 46,
   "id": "21f2d4e1-1681-4132-aeea-7125d188f981",
   "metadata": {},
   "outputs": [
    {
     "data": {
      "text/html": [
       "<div>\n",
       "<style scoped>\n",
       "    .dataframe tbody tr th:only-of-type {\n",
       "        vertical-align: middle;\n",
       "    }\n",
       "\n",
       "    .dataframe tbody tr th {\n",
       "        vertical-align: top;\n",
       "    }\n",
       "\n",
       "    .dataframe thead th {\n",
       "        text-align: right;\n",
       "    }\n",
       "</style>\n",
       "<table border=\"1\" class=\"dataframe\">\n",
       "  <thead>\n",
       "    <tr style=\"text-align: right;\">\n",
       "      <th></th>\n",
       "      <th>Portfolio</th>\n",
       "      <th>Bitcoin</th>\n",
       "      <th>Optimal</th>\n",
       "      <th>Current Optimal</th>\n",
       "      <th>Historical Portfolio</th>\n",
       "    </tr>\n",
       "  </thead>\n",
       "  <tbody>\n",
       "    <tr>\n",
       "      <th>2024-10-30</th>\n",
       "      <td>104.044213</td>\n",
       "      <td>101.772478</td>\n",
       "      <td>126.050179</td>\n",
       "      <td>145.859012</td>\n",
       "      <td>88.861818</td>\n",
       "    </tr>\n",
       "    <tr>\n",
       "      <th>2024-10-31</th>\n",
       "      <td>100.501632</td>\n",
       "      <td>98.842997</td>\n",
       "      <td>123.330746</td>\n",
       "      <td>144.591808</td>\n",
       "      <td>85.953443</td>\n",
       "    </tr>\n",
       "    <tr>\n",
       "      <th>2024-11-01</th>\n",
       "      <td>100.372914</td>\n",
       "      <td>97.717294</td>\n",
       "      <td>124.499633</td>\n",
       "      <td>144.785517</td>\n",
       "      <td>85.974244</td>\n",
       "    </tr>\n",
       "    <tr>\n",
       "      <th>2024-11-02</th>\n",
       "      <td>98.988422</td>\n",
       "      <td>97.546629</td>\n",
       "      <td>122.774033</td>\n",
       "      <td>142.606393</td>\n",
       "      <td>84.703394</td>\n",
       "    </tr>\n",
       "    <tr>\n",
       "      <th>2024-11-03</th>\n",
       "      <td>97.138102</td>\n",
       "      <td>96.701083</td>\n",
       "      <td>119.750909</td>\n",
       "      <td>141.052314</td>\n",
       "      <td>83.138049</td>\n",
       "    </tr>\n",
       "    <tr>\n",
       "      <th>2024-11-04</th>\n",
       "      <td>94.201717</td>\n",
       "      <td>95.390284</td>\n",
       "      <td>115.919098</td>\n",
       "      <td>137.770456</td>\n",
       "      <td>80.587176</td>\n",
       "    </tr>\n",
       "    <tr>\n",
       "      <th>2024-11-05</th>\n",
       "      <td>97.158071</td>\n",
       "      <td>97.506416</td>\n",
       "      <td>118.520593</td>\n",
       "      <td>136.767755</td>\n",
       "      <td>83.011146</td>\n",
       "    </tr>\n",
       "    <tr>\n",
       "      <th>2024-11-06</th>\n",
       "      <td>107.240379</td>\n",
       "      <td>105.853184</td>\n",
       "      <td>131.158219</td>\n",
       "      <td>141.307600</td>\n",
       "      <td>91.545394</td>\n",
       "    </tr>\n",
       "    <tr>\n",
       "      <th>2024-11-07</th>\n",
       "      <td>108.290758</td>\n",
       "      <td>106.252886</td>\n",
       "      <td>131.961820</td>\n",
       "      <td>139.090800</td>\n",
       "      <td>92.392868</td>\n",
       "    </tr>\n",
       "    <tr>\n",
       "      <th>2024-11-08</th>\n",
       "      <td>107.967185</td>\n",
       "      <td>107.162077</td>\n",
       "      <td>131.740562</td>\n",
       "      <td>138.860668</td>\n",
       "      <td>92.145309</td>\n",
       "    </tr>\n",
       "  </tbody>\n",
       "</table>\n",
       "</div>"
      ],
      "text/plain": [
       "             Portfolio     Bitcoin     Optimal  Current Optimal  \\\n",
       "2024-10-30  104.044213  101.772478  126.050179       145.859012   \n",
       "2024-10-31  100.501632   98.842997  123.330746       144.591808   \n",
       "2024-11-01  100.372914   97.717294  124.499633       144.785517   \n",
       "2024-11-02   98.988422   97.546629  122.774033       142.606393   \n",
       "2024-11-03   97.138102   96.701083  119.750909       141.052314   \n",
       "2024-11-04   94.201717   95.390284  115.919098       137.770456   \n",
       "2024-11-05   97.158071   97.506416  118.520593       136.767755   \n",
       "2024-11-06  107.240379  105.853184  131.158219       141.307600   \n",
       "2024-11-07  108.290758  106.252886  131.961820       139.090800   \n",
       "2024-11-08  107.967185  107.162077  131.740562       138.860668   \n",
       "\n",
       "            Historical Portfolio  \n",
       "2024-10-30             88.861818  \n",
       "2024-10-31             85.953443  \n",
       "2024-11-01             85.974244  \n",
       "2024-11-02             84.703394  \n",
       "2024-11-03             83.138049  \n",
       "2024-11-04             80.587176  \n",
       "2024-11-05             83.011146  \n",
       "2024-11-06             91.545394  \n",
       "2024-11-07             92.392868  \n",
       "2024-11-08             92.145309  "
      ]
     },
     "execution_count": 46,
     "metadata": {},
     "output_type": "execute_result"
    }
   ],
   "source": [
    "((1+current_perf).cumprod()*100).iloc[-10:]"
   ]
  },
  {
   "cell_type": "markdown",
   "id": "7992e950-2f84-4f07-8b9f-3e343e0f0df3",
   "metadata": {},
   "source": [
    "## Volatilities"
   ]
  },
  {
   "cell_type": "code",
   "execution_count": 47,
   "id": "311f0004-e145-4fc5-8766-ca40d8f08e29",
   "metadata": {},
   "outputs": [
    {
     "data": {
      "text/plain": [
       "(Portfolio    0.662388\n",
       " dtype: float64,\n",
       " 0.6633240079396577)"
      ]
     },
     "execution_count": 47,
     "metadata": {},
     "output_type": "execute_result"
    }
   ],
   "source": [
    "vol=historical_risk.portfolio(opt_weights).std()*np.sqrt(252)\n",
    "vol_ex_ante=historical_risk.variance(opt_weights)\n",
    "\n",
    "vol,vol_ex_ante"
   ]
  },
  {
   "cell_type": "code",
   "execution_count": 48,
   "id": "7741abc3-75be-4948-b6f7-6024b48ced93",
   "metadata": {},
   "outputs": [
    {
     "data": {
      "text/plain": [
       "(Portfolio    0.519815\n",
       " dtype: float64,\n",
       " 0.5198149983406258)"
      ]
     },
     "execution_count": 48,
     "metadata": {},
     "output_type": "execute_result"
    }
   ],
   "source": [
    "vol=current_risk.portfolio(current_weights).std()*np.sqrt(252)\n",
    "vol_ex_ante=current_risk.variance(current_weights)\n",
    "vol,vol_ex_ante"
   ]
  },
  {
   "cell_type": "code",
   "execution_count": 49,
   "id": "c1bc68d5-494d-4064-9958-9b280c70a8a3",
   "metadata": {},
   "outputs": [
    {
     "data": {
      "text/plain": [
       "Portfolio          0.576966\n",
       "Bitcoin            0.432491\n",
       "Optimal            0.663324\n",
       "Current Optimal    0.389833\n",
       "dtype: float64"
      ]
     },
     "execution_count": 49,
     "metadata": {},
     "output_type": "execute_result"
    }
   ],
   "source": [
    "portfolio_perf.iloc[1:].std()*np.sqrt(252)"
   ]
  },
  {
   "cell_type": "code",
   "execution_count": 50,
   "id": "df99b746-dc9d-4c5c-b005-432bba654f31",
   "metadata": {},
   "outputs": [
    {
     "data": {
      "text/plain": [
       "0.23986297847560692"
      ]
     },
     "execution_count": 50,
     "metadata": {},
     "output_type": "execute_result"
    }
   ],
   "source": [
    "current_risk.tracking_error(current_risk.returns['BTCUSDT'],current_perf['Historical Portfolio'])"
   ]
  },
  {
   "cell_type": "markdown",
   "id": "c72a30da-fc11-412e-8182-6f508f5dc3dd",
   "metadata": {},
   "source": [
    "## Risk Contribution"
   ]
  },
  {
   "cell_type": "code",
   "execution_count": 51,
   "id": "40861589-c4a1-4c54-9bbc-e1035f32c5a1",
   "metadata": {},
   "outputs": [
    {
     "data": {
      "text/html": [
       "<div>\n",
       "<style scoped>\n",
       "    .dataframe tbody tr th:only-of-type {\n",
       "        vertical-align: middle;\n",
       "    }\n",
       "\n",
       "    .dataframe tbody tr th {\n",
       "        vertical-align: top;\n",
       "    }\n",
       "\n",
       "    .dataframe thead th {\n",
       "        text-align: right;\n",
       "    }\n",
       "</style>\n",
       "<table border=\"1\" class=\"dataframe\">\n",
       "  <thead>\n",
       "    <tr style=\"text-align: right;\">\n",
       "      <th></th>\n",
       "      <th>Performance Contribution</th>\n",
       "      <th>Initial Weights</th>\n",
       "      <th>Last Weights</th>\n",
       "      <th>Variance Contribution in %</th>\n",
       "      <th>Idiosyncratic Risk in %</th>\n",
       "      <th>Correlation in %</th>\n",
       "    </tr>\n",
       "  </thead>\n",
       "  <tbody>\n",
       "    <tr>\n",
       "      <th>BNBUSDT</th>\n",
       "      <td>0.162609</td>\n",
       "      <td>0.122665</td>\n",
       "      <td>0.026097</td>\n",
       "      <td>0.043842</td>\n",
       "      <td>0.007651</td>\n",
       "      <td>0.036191</td>\n",
       "    </tr>\n",
       "    <tr>\n",
       "      <th>BTCUSDT</th>\n",
       "      <td>0.234300</td>\n",
       "      <td>0.300000</td>\n",
       "      <td>0.048877</td>\n",
       "      <td>0.129533</td>\n",
       "      <td>0.038260</td>\n",
       "      <td>0.091273</td>\n",
       "    </tr>\n",
       "    <tr>\n",
       "      <th>OMUSDT</th>\n",
       "      <td>8.976065</td>\n",
       "      <td>0.411697</td>\n",
       "      <td>0.858784</td>\n",
       "      <td>0.676901</td>\n",
       "      <td>0.554254</td>\n",
       "      <td>0.122646</td>\n",
       "    </tr>\n",
       "    <tr>\n",
       "      <th>PEPEUSDT</th>\n",
       "      <td>0.113073</td>\n",
       "      <td>0.043573</td>\n",
       "      <td>0.014330</td>\n",
       "      <td>0.039270</td>\n",
       "      <td>0.006747</td>\n",
       "      <td>0.032524</td>\n",
       "    </tr>\n",
       "    <tr>\n",
       "      <th>RAYUSDT</th>\n",
       "      <td>0.400990</td>\n",
       "      <td>0.089037</td>\n",
       "      <td>0.044827</td>\n",
       "      <td>0.092233</td>\n",
       "      <td>0.025266</td>\n",
       "      <td>0.066967</td>\n",
       "    </tr>\n",
       "    <tr>\n",
       "      <th>SUIUSDT</th>\n",
       "      <td>0.044428</td>\n",
       "      <td>0.033027</td>\n",
       "      <td>0.007086</td>\n",
       "      <td>0.018221</td>\n",
       "      <td>0.002280</td>\n",
       "      <td>0.015942</td>\n",
       "    </tr>\n",
       "  </tbody>\n",
       "</table>\n",
       "</div>"
      ],
      "text/plain": [
       "          Performance Contribution  Initial Weights  Last Weights  \\\n",
       "BNBUSDT                   0.162609         0.122665      0.026097   \n",
       "BTCUSDT                   0.234300         0.300000      0.048877   \n",
       "OMUSDT                    8.976065         0.411697      0.858784   \n",
       "PEPEUSDT                  0.113073         0.043573      0.014330   \n",
       "RAYUSDT                   0.400990         0.089037      0.044827   \n",
       "SUIUSDT                   0.044428         0.033027      0.007086   \n",
       "\n",
       "          Variance Contribution in %  Idiosyncratic Risk in %  \\\n",
       "BNBUSDT                     0.043842                 0.007651   \n",
       "BTCUSDT                     0.129533                 0.038260   \n",
       "OMUSDT                      0.676901                 0.554254   \n",
       "PEPEUSDT                    0.039270                 0.006747   \n",
       "RAYUSDT                     0.092233                 0.025266   \n",
       "SUIUSDT                     0.018221                 0.002280   \n",
       "\n",
       "          Correlation in %  \n",
       "BNBUSDT           0.036191  \n",
       "BTCUSDT           0.091273  \n",
       "OMUSDT            0.122646  \n",
       "PEPEUSDT          0.032524  \n",
       "RAYUSDT           0.066967  \n",
       "SUIUSDT           0.015942  "
      ]
     },
     "execution_count": 51,
     "metadata": {},
     "output_type": "execute_result"
    }
   ],
   "source": [
    "perf_analysis=pd.concat([historical_risk.perf_contrib(opt_weights),historical_risk.var_contrib_pct(opt_weights)],axis=1)\n",
    "perf_analysis"
   ]
  },
  {
   "cell_type": "code",
   "execution_count": 52,
   "id": "7a8d2d34-14b0-469c-81a7-38306d840a62",
   "metadata": {},
   "outputs": [
    {
     "data": {
      "text/html": [
       "<div>\n",
       "<style scoped>\n",
       "    .dataframe tbody tr th:only-of-type {\n",
       "        vertical-align: middle;\n",
       "    }\n",
       "\n",
       "    .dataframe tbody tr th {\n",
       "        vertical-align: top;\n",
       "    }\n",
       "\n",
       "    .dataframe thead th {\n",
       "        text-align: right;\n",
       "    }\n",
       "</style>\n",
       "<table border=\"1\" class=\"dataframe\">\n",
       "  <thead>\n",
       "    <tr style=\"text-align: right;\">\n",
       "      <th></th>\n",
       "      <th>Performance Contribution</th>\n",
       "      <th>Initial Weights</th>\n",
       "      <th>Last Weights</th>\n",
       "      <th>Variance Contribution in %</th>\n",
       "      <th>Idiosyncratic Risk in %</th>\n",
       "      <th>Correlation in %</th>\n",
       "    </tr>\n",
       "  </thead>\n",
       "  <tbody>\n",
       "    <tr>\n",
       "      <th>OMUSDT</th>\n",
       "      <td>0.132915</td>\n",
       "      <td>0.24314</td>\n",
       "      <td>0.284995</td>\n",
       "      <td>0.46352</td>\n",
       "      <td>0.404370</td>\n",
       "      <td>0.059151</td>\n",
       "    </tr>\n",
       "    <tr>\n",
       "      <th>TRXUSDT</th>\n",
       "      <td>0.186601</td>\n",
       "      <td>0.75686</td>\n",
       "      <td>0.715005</td>\n",
       "      <td>0.53648</td>\n",
       "      <td>0.477329</td>\n",
       "      <td>0.059151</td>\n",
       "    </tr>\n",
       "  </tbody>\n",
       "</table>\n",
       "</div>"
      ],
      "text/plain": [
       "         Performance Contribution  Initial Weights  Last Weights  \\\n",
       "OMUSDT                   0.132915          0.24314      0.284995   \n",
       "TRXUSDT                  0.186601          0.75686      0.715005   \n",
       "\n",
       "         Variance Contribution in %  Idiosyncratic Risk in %  Correlation in %  \n",
       "OMUSDT                      0.46352                 0.404370          0.059151  \n",
       "TRXUSDT                     0.53648                 0.477329          0.059151  "
      ]
     },
     "execution_count": 52,
     "metadata": {},
     "output_type": "execute_result"
    }
   ],
   "source": [
    "perf_analysis=pd.concat([current_risk.perf_contrib(current_optimal_weights),current_risk.var_contrib_pct(current_optimal_weights)],axis=1)\n",
    "perf_analysis"
   ]
  },
  {
   "cell_type": "code",
   "execution_count": 53,
   "id": "109d4f15-0bb7-435b-9dc5-0bb7bc6dcffc",
   "metadata": {},
   "outputs": [
    {
     "data": {
      "text/html": [
       "<div>\n",
       "<style scoped>\n",
       "    .dataframe tbody tr th:only-of-type {\n",
       "        vertical-align: middle;\n",
       "    }\n",
       "\n",
       "    .dataframe tbody tr th {\n",
       "        vertical-align: top;\n",
       "    }\n",
       "\n",
       "    .dataframe thead th {\n",
       "        text-align: right;\n",
       "    }\n",
       "</style>\n",
       "<table border=\"1\" class=\"dataframe\">\n",
       "  <thead>\n",
       "    <tr style=\"text-align: right;\">\n",
       "      <th></th>\n",
       "      <th>Performance Contribution</th>\n",
       "      <th>Initial Weights</th>\n",
       "      <th>Last Weights</th>\n",
       "      <th>Variance Contribution in %</th>\n",
       "      <th>Idiosyncratic Risk in %</th>\n",
       "      <th>Correlation in %</th>\n",
       "    </tr>\n",
       "  </thead>\n",
       "  <tbody>\n",
       "    <tr>\n",
       "      <th>BTCUSDT</th>\n",
       "      <td>0.043648</td>\n",
       "      <td>0.30</td>\n",
       "      <td>0.288690</td>\n",
       "      <td>0.200033</td>\n",
       "      <td>0.053953</td>\n",
       "      <td>0.146080</td>\n",
       "    </tr>\n",
       "    <tr>\n",
       "      <th>OMUSDT</th>\n",
       "      <td>0.153065</td>\n",
       "      <td>0.28</td>\n",
       "      <td>0.363807</td>\n",
       "      <td>0.348087</td>\n",
       "      <td>0.189004</td>\n",
       "      <td>0.159083</td>\n",
       "    </tr>\n",
       "    <tr>\n",
       "      <th>SOLUSDT</th>\n",
       "      <td>0.025432</td>\n",
       "      <td>0.16</td>\n",
       "      <td>0.155776</td>\n",
       "      <td>0.166377</td>\n",
       "      <td>0.039491</td>\n",
       "      <td>0.126886</td>\n",
       "    </tr>\n",
       "    <tr>\n",
       "      <th>JASMYUSDT</th>\n",
       "      <td>-0.021620</td>\n",
       "      <td>0.12</td>\n",
       "      <td>0.082647</td>\n",
       "      <td>0.173691</td>\n",
       "      <td>0.046010</td>\n",
       "      <td>0.127681</td>\n",
       "    </tr>\n",
       "    <tr>\n",
       "      <th>ETHUSDT</th>\n",
       "      <td>-0.004846</td>\n",
       "      <td>0.09</td>\n",
       "      <td>0.071536</td>\n",
       "      <td>0.074157</td>\n",
       "      <td>0.008675</td>\n",
       "      <td>0.065482</td>\n",
       "    </tr>\n",
       "    <tr>\n",
       "      <th>TRXUSDT</th>\n",
       "      <td>0.007396</td>\n",
       "      <td>0.03</td>\n",
       "      <td>0.031416</td>\n",
       "      <td>0.004293</td>\n",
       "      <td>0.000264</td>\n",
       "      <td>0.004029</td>\n",
       "    </tr>\n",
       "    <tr>\n",
       "      <th>BBUSDT</th>\n",
       "      <td>-0.012704</td>\n",
       "      <td>0.02</td>\n",
       "      <td>0.006129</td>\n",
       "      <td>0.033362</td>\n",
       "      <td>0.002532</td>\n",
       "      <td>0.030830</td>\n",
       "    </tr>\n",
       "  </tbody>\n",
       "</table>\n",
       "</div>"
      ],
      "text/plain": [
       "           Performance Contribution  Initial Weights  Last Weights  \\\n",
       "BTCUSDT                    0.043648             0.30      0.288690   \n",
       "OMUSDT                     0.153065             0.28      0.363807   \n",
       "SOLUSDT                    0.025432             0.16      0.155776   \n",
       "JASMYUSDT                 -0.021620             0.12      0.082647   \n",
       "ETHUSDT                   -0.004846             0.09      0.071536   \n",
       "TRXUSDT                    0.007396             0.03      0.031416   \n",
       "BBUSDT                    -0.012704             0.02      0.006129   \n",
       "\n",
       "           Variance Contribution in %  Idiosyncratic Risk in %  \\\n",
       "BTCUSDT                      0.200033                 0.053953   \n",
       "OMUSDT                       0.348087                 0.189004   \n",
       "SOLUSDT                      0.166377                 0.039491   \n",
       "JASMYUSDT                    0.173691                 0.046010   \n",
       "ETHUSDT                      0.074157                 0.008675   \n",
       "TRXUSDT                      0.004293                 0.000264   \n",
       "BBUSDT                       0.033362                 0.002532   \n",
       "\n",
       "           Correlation in %  \n",
       "BTCUSDT            0.146080  \n",
       "OMUSDT             0.159083  \n",
       "SOLUSDT            0.126886  \n",
       "JASMYUSDT          0.127681  \n",
       "ETHUSDT            0.065482  \n",
       "TRXUSDT            0.004029  \n",
       "BBUSDT             0.030830  "
      ]
     },
     "execution_count": 53,
     "metadata": {},
     "output_type": "execute_result"
    }
   ],
   "source": [
    "perf_analysis=pd.concat([current_risk.perf_contrib(current_weights),current_risk.var_contrib_pct(current_weights)],axis=1)\n",
    "perf_analysis"
   ]
  },
  {
   "cell_type": "markdown",
   "id": "0130bfc3-e631-4a88-b313-7d1e01f8559a",
   "metadata": {
    "tags": []
   },
   "source": [
    "# Value At Risk"
   ]
  },
  {
   "cell_type": "markdown",
   "id": "71d68cce-1a6e-45aa-a85f-47588679e563",
   "metadata": {},
   "source": [
    "## Historical"
   ]
  },
  {
   "cell_type": "markdown",
   "id": "2135d1cf-5458-4a3a-8d4c-f7bf54722f6c",
   "metadata": {},
   "source": [
    "### Optimal Weights"
   ]
  },
  {
   "cell_type": "code",
   "execution_count": 54,
   "id": "67cba9b2-a070-4a66-bcd6-c792789d00c3",
   "metadata": {},
   "outputs": [
    {
     "data": {
      "text/plain": [
       "(-0.05495061117494996, -0.07878817880039803)"
      ]
     },
     "execution_count": 54,
     "metadata": {},
     "output_type": "execute_result"
    }
   ],
   "source": [
    "var,cvar=historical_risk.historical_var(opt_weights)\n",
    "(var,cvar)"
   ]
  },
  {
   "cell_type": "markdown",
   "id": "d1bb47b4-1fce-49e8-b099-c696cad5b0ba",
   "metadata": {
    "tags": []
   },
   "source": [
    "### Current Weights"
   ]
  },
  {
   "cell_type": "code",
   "execution_count": 55,
   "id": "c4a86401-792d-4103-b5be-b0b56de9f141",
   "metadata": {},
   "outputs": [
    {
     "data": {
      "text/plain": [
       "(-0.049679662624491305, -0.06614526838254015)"
      ]
     },
     "execution_count": 55,
     "metadata": {},
     "output_type": "execute_result"
    }
   ],
   "source": [
    "var,cvar=current_risk.historical_var(current_weights)\n",
    "(var,cvar)"
   ]
  },
  {
   "cell_type": "code",
   "execution_count": 56,
   "id": "bb9ae5ba-6521-47af-992e-2a3972e29e87",
   "metadata": {},
   "outputs": [],
   "source": [
    "historical_var=current_risk.returns*current_weights\n",
    "historical_var['Portfolio']=historical_var.sum(axis=1)\n",
    "historical_var=historical_var.sort_values(by='Portfolio')\n",
    "centile=0.05\n",
    "row=round(historical_var.shape[0]*centile)"
   ]
  },
  {
   "cell_type": "code",
   "execution_count": 57,
   "id": "8c24e902-85a4-44be-a457-f95e2184a7ea",
   "metadata": {},
   "outputs": [
    {
     "data": {
      "text/plain": [
       "BTCUSDT     -0.012809\n",
       "OMUSDT      -0.017915\n",
       "SOLUSDT     -0.004774\n",
       "JASMYUSDT   -0.006494\n",
       "ETHUSDT     -0.006914\n",
       "TRXUSDT      0.000214\n",
       "BBUSDT      -0.000880\n",
       "BNBUSDT     -0.000000\n",
       "PEPEUSDT    -0.000000\n",
       "Portfolio   -0.049572\n",
       "Name: 2024-08-04 00:00:00, dtype: float64"
      ]
     },
     "execution_count": 57,
     "metadata": {},
     "output_type": "execute_result"
    }
   ],
   "source": [
    "var=historical_var.iloc[row]\n",
    "var"
   ]
  },
  {
   "cell_type": "code",
   "execution_count": 58,
   "id": "ade16f0c-75b7-4fcb-ab9e-ad0c73aa8dd7",
   "metadata": {},
   "outputs": [
    {
     "data": {
      "text/plain": [
       "BTCUSDT     -0.013010\n",
       "OMUSDT      -0.020844\n",
       "SOLUSDT     -0.011544\n",
       "JASMYUSDT   -0.011335\n",
       "ETHUSDT     -0.005347\n",
       "TRXUSDT     -0.000488\n",
       "BBUSDT      -0.001921\n",
       "BNBUSDT      0.000000\n",
       "PEPEUSDT     0.000000\n",
       "Portfolio   -0.064488\n",
       "dtype: float64"
      ]
     },
     "execution_count": 58,
     "metadata": {},
     "output_type": "execute_result"
    }
   ],
   "source": [
    "cvar=historical_var.iloc[:row+1].mean()\n",
    "cvar"
   ]
  },
  {
   "cell_type": "markdown",
   "id": "c3dff28c-8e0a-4203-a71d-04521428bcd1",
   "metadata": {},
   "source": [
    "## Parametric"
   ]
  },
  {
   "cell_type": "markdown",
   "id": "58affa31-85d0-498a-a139-81deb4705d97",
   "metadata": {},
   "source": [
    "### Optimal Weights"
   ]
  },
  {
   "cell_type": "code",
   "execution_count": 59,
   "id": "e14a8e27-fa6a-45e6-8183-86c6dbff21f1",
   "metadata": {},
   "outputs": [
    {
     "data": {
      "text/plain": [
       "(-0.06873100630815467, -0.08809414701626217)"
      ]
     },
     "execution_count": 59,
     "metadata": {},
     "output_type": "execute_result"
    }
   ],
   "source": [
    "var,cvar=historical_risk.parametric_var(opt_weights)\n",
    "\n",
    "(var,cvar)"
   ]
  },
  {
   "cell_type": "markdown",
   "id": "86d71e8b-2cd9-43d1-aa5c-a222682613c0",
   "metadata": {},
   "source": [
    "### Current Weights"
   ]
  },
  {
   "cell_type": "code",
   "execution_count": 60,
   "id": "217a4c12-62dd-4663-8a31-60599b67afcf",
   "metadata": {},
   "outputs": [
    {
     "data": {
      "text/plain": [
       "(-0.05386117116580087, -0.06903512964548526)"
      ]
     },
     "execution_count": 60,
     "metadata": {},
     "output_type": "execute_result"
    }
   ],
   "source": [
    "var,cvar=current_risk.parametric_var(current_weights)\n",
    "\n",
    "(var,cvar)"
   ]
  },
  {
   "cell_type": "markdown",
   "id": "a6c24386-d19d-46c7-a8bb-58e4c19932ec",
   "metadata": {},
   "source": [
    "## Multivariate"
   ]
  },
  {
   "cell_type": "markdown",
   "id": "1f084730-26ad-4584-a834-7eb3698e8768",
   "metadata": {},
   "source": [
    "### Optimal Weights"
   ]
  },
  {
   "cell_type": "code",
   "execution_count": 61,
   "id": "9034515d-cff2-4c42-aa91-4b8c5bc1c6cb",
   "metadata": {},
   "outputs": [
    {
     "data": {
      "text/plain": [
       "(-0.06301778772579777, -0.08066430296981747)"
      ]
     },
     "execution_count": 61,
     "metadata": {},
     "output_type": "execute_result"
    }
   ],
   "source": [
    "perf=performance(historical_risk.multivariate_distribution(),opt_weights)\n",
    "var=np.percentile(perf,5)\n",
    "cvar=perf[perf<var].mean()\n",
    "(var,cvar)"
   ]
  },
  {
   "cell_type": "markdown",
   "id": "cbd78957-592e-4ef3-92f5-5341eb758985",
   "metadata": {},
   "source": [
    "### Current Weights"
   ]
  },
  {
   "cell_type": "code",
   "execution_count": 62,
   "id": "ac2f4987-eddf-4a1b-ae87-551d2f348782",
   "metadata": {},
   "outputs": [
    {
     "data": {
      "text/plain": [
       "(-0.05151905885735943, -0.06579441892731205)"
      ]
     },
     "execution_count": 62,
     "metadata": {},
     "output_type": "execute_result"
    }
   ],
   "source": [
    "perf=performance(current_risk.multivariate_distribution(),current_weights)\n",
    "var=np.percentile(perf,5)\n",
    "cvar=perf[perf<var].mean()\n",
    "(var,cvar)"
   ]
  },
  {
   "cell_type": "code",
   "execution_count": 63,
   "id": "3fe7a180-f366-4414-bda1-a58a090d1c16",
   "metadata": {},
   "outputs": [
    {
     "data": {
      "text/plain": [
       "BTCUSDT     -0.009643\n",
       "OMUSDT      -0.019717\n",
       "SOLUSDT     -0.007830\n",
       "JASMYUSDT   -0.009164\n",
       "ETHUSDT     -0.003661\n",
       "TRXUSDT     -0.000272\n",
       "BBUSDT      -0.001881\n",
       "Portfolio   -0.052169\n",
       "dtype: float64"
      ]
     },
     "execution_count": 63,
     "metadata": {},
     "output_type": "execute_result"
    }
   ],
   "source": [
    "scenario_multivariate={}\n",
    "\n",
    "for i in range(50):\n",
    "    multivariate_distrib=pd.DataFrame(current_risk.multivariate_distribution(),columns=current_risk.returns.columns)\n",
    "    multivariate_distrib=multivariate_distrib*current_weights\n",
    "    multivariate_distrib=multivariate_distrib[multivariate_distrib.columns[current_weights>0]]\n",
    "\n",
    "    multivariate_distrib['Portfolio']=multivariate_distrib.sum(axis=1)\n",
    "    multivariate_var=multivariate_distrib.sort_values(by='Portfolio').iloc[int(multivariate_distrib.shape[0]*0.05)]['Portfolio']\n",
    "    results=multivariate_distrib.sort_values(by='Portfolio').iloc[int(multivariate_distrib.shape[0]*0.05)]\n",
    "\n",
    "    scenario_multivariate[i]=results.to_dict()\n",
    "\n",
    "mean_scenario_multivariate=pd.DataFrame(scenario_multivariate).T.mean()\n",
    "mean_scenario_multivariate"
   ]
  },
  {
   "cell_type": "markdown",
   "id": "0c387f28-22ad-45a7-b319-0e83f4a0daee",
   "metadata": {
    "jp-MarkdownHeadingCollapsed": true,
    "tags": []
   },
   "source": [
    "## Copulas"
   ]
  },
  {
   "cell_type": "markdown",
   "id": "9058537e-386c-4062-bbe9-1a6b8541b24e",
   "metadata": {
    "tags": []
   },
   "source": [
    "## Gaussian Copula"
   ]
  },
  {
   "cell_type": "markdown",
   "id": "75b777fc-0aa8-49e9-9959-a89e3a1247e7",
   "metadata": {},
   "source": [
    "### Optimal Weights"
   ]
  },
  {
   "cell_type": "code",
   "execution_count": 64,
   "id": "2a32c0d3-adf2-44db-944e-a0983ca7c3c9",
   "metadata": {},
   "outputs": [
    {
     "data": {
      "text/plain": [
       "(-0.06296868345012004, -0.08059024399787179)"
      ]
     },
     "execution_count": 64,
     "metadata": {},
     "output_type": "execute_result"
    }
   ],
   "source": [
    "cop=historical_risk.gaussian_copula()\n",
    "perf=performance(cop,opt_weights)\n",
    "var=np.percentile(perf,5)\n",
    "cvar=perf[perf<var].mean()\n",
    "\n",
    "var,cvar"
   ]
  },
  {
   "cell_type": "markdown",
   "id": "223b83ab-3e66-43c2-80c7-ea48470ba663",
   "metadata": {},
   "source": [
    "### Current Weights"
   ]
  },
  {
   "cell_type": "code",
   "execution_count": 65,
   "id": "0c60db5e-d17c-4ee9-b22c-56fe1486e7f4",
   "metadata": {},
   "outputs": [
    {
     "data": {
      "text/plain": [
       "(-0.052604515959789, -0.0666182620173185)"
      ]
     },
     "execution_count": 65,
     "metadata": {},
     "output_type": "execute_result"
    }
   ],
   "source": [
    "cop=current_risk.gaussian_copula()\n",
    "perf=performance(cop,current_weights)\n",
    "var=np.percentile(perf,5)\n",
    "cvar=perf[perf<var].mean()\n",
    "\n",
    "var,cvar"
   ]
  },
  {
   "cell_type": "code",
   "execution_count": 66,
   "id": "3b6ee424-83af-4479-abb3-e23b0a9f00e2",
   "metadata": {},
   "outputs": [
    {
     "data": {
      "text/plain": [
       "BTCUSDT     -0.009974\n",
       "OMUSDT      -0.018607\n",
       "SOLUSDT     -0.008415\n",
       "JASMYUSDT   -0.009076\n",
       "ETHUSDT     -0.003925\n",
       "TRXUSDT     -0.000147\n",
       "BBUSDT      -0.001956\n",
       "Portfolio   -0.052100\n",
       "dtype: float64"
      ]
     },
     "execution_count": 66,
     "metadata": {},
     "output_type": "execute_result"
    }
   ],
   "source": [
    "scenario_gaussian={}\n",
    "\n",
    "for i in range(100):\n",
    "    gaussian_copula_distrib=pd.DataFrame(current_risk.gaussian_copula(),columns=current_risk.returns.columns)\n",
    "\n",
    "    gaussian_copula_distrib=gaussian_copula_distrib*current_weights\n",
    "    gaussian_copula_distrib=gaussian_copula_distrib[gaussian_copula_distrib.columns[current_weights>0]]\n",
    "\n",
    "    gaussian_copula_distrib['Portfolio']=gaussian_copula_distrib.sum(axis=1)\n",
    "    gaussian_var=gaussian_copula_distrib.sort_values(by='Portfolio').iloc[int(gaussian_copula_distrib.shape[0]*0.05)]['Portfolio']\n",
    "    results=gaussian_copula_distrib.sort_values(by='Portfolio').iloc[int(gaussian_copula_distrib.shape[0]*0.05)]\n",
    "    \n",
    "    scenario_gaussian[i]=results\n",
    "    \n",
    "mean_scenario_gaussian=pd.DataFrame(scenario_gaussian).T.mean()\n",
    "mean_scenario_gaussian"
   ]
  },
  {
   "cell_type": "markdown",
   "id": "5cc2fb56-f5a8-400f-9242-3fe5969c9743",
   "metadata": {
    "tags": []
   },
   "source": [
    "## Student Copula"
   ]
  },
  {
   "cell_type": "markdown",
   "id": "1345374a-5a57-488c-aadc-54f740e57e74",
   "metadata": {},
   "source": [
    "### Optimal Weights"
   ]
  },
  {
   "cell_type": "code",
   "execution_count": 67,
   "id": "b888e874-6eab-4d5d-93ef-af6845d46964",
   "metadata": {},
   "outputs": [
    {
     "data": {
      "text/plain": [
       "(-0.06291625504066163, -0.08015639593879774)"
      ]
     },
     "execution_count": 67,
     "metadata": {},
     "output_type": "execute_result"
    }
   ],
   "source": [
    "t_copula=historical_risk.t_copula()\n",
    "perf=performance(t_copula,opt_weights)\n",
    "var=np.percentile(perf,5)\n",
    "cvar=perf[perf<var].mean()\n",
    "\n",
    "var,cvar"
   ]
  },
  {
   "cell_type": "markdown",
   "id": "272773ac-6738-4b6a-8eb8-bb00a887b6dd",
   "metadata": {},
   "source": [
    "### Current Weights"
   ]
  },
  {
   "cell_type": "code",
   "execution_count": 68,
   "id": "323419e3-6bd4-4308-b26c-e280c5730d35",
   "metadata": {},
   "outputs": [
    {
     "data": {
      "text/plain": [
       "(-0.052893193731123, -0.06867319297835969)"
      ]
     },
     "execution_count": 68,
     "metadata": {},
     "output_type": "execute_result"
    }
   ],
   "source": [
    "t_copula=current_risk.t_copula()\n",
    "perf=performance(t_copula,current_weights)\n",
    "var=np.percentile(perf,5)\n",
    "cvar=perf[perf<var].mean()\n",
    "\n",
    "var,cvar"
   ]
  },
  {
   "cell_type": "code",
   "execution_count": 69,
   "id": "2eed4d89-eb00-449b-98ce-d030c65155d0",
   "metadata": {},
   "outputs": [
    {
     "data": {
      "text/plain": [
       "BTCUSDT     -0.009721\n",
       "OMUSDT      -0.019813\n",
       "SOLUSDT     -0.008392\n",
       "JASMYUSDT   -0.009331\n",
       "ETHUSDT     -0.003971\n",
       "TRXUSDT     -0.000136\n",
       "BBUSDT      -0.001955\n",
       "Portfolio   -0.053320\n",
       "dtype: float64"
      ]
     },
     "execution_count": 69,
     "metadata": {},
     "output_type": "execute_result"
    }
   ],
   "source": [
    "scenario_t_copula={}\n",
    "\n",
    "for i in range(100):\n",
    "    \n",
    "    t_copula_distrib=pd.DataFrame(current_risk.t_copula(),columns=current_risk.returns.columns)\n",
    "    t_copula_distrib=t_copula_distrib*current_weights\n",
    "    t_copula_distrib=t_copula_distrib[t_copula_distrib.columns[current_weights>0]]\n",
    "    t_copula_distrib['Portfolio']=t_copula_distrib.sum(axis=1)\n",
    "    t_copula_var=t_copula_distrib.sort_values(by='Portfolio').iloc[int(t_copula_distrib.shape[0]*0.05)]['Portfolio']\n",
    "    results=t_copula_distrib.sort_values(by='Portfolio').iloc[int(t_copula_distrib.shape[0]*0.05)]\n",
    "    \n",
    "    scenario_t_copula[i]=results\n",
    "    \n",
    "mean_scenario_gaussian=pd.DataFrame(scenario_t_copula).T.mean()\n",
    "mean_scenario_gaussian"
   ]
  },
  {
   "cell_type": "markdown",
   "id": "d8471cd5-4fcd-4ee2-8d94-4d1363a54361",
   "metadata": {},
   "source": [
    "## Gumbel Copula"
   ]
  },
  {
   "cell_type": "markdown",
   "id": "8c7db555-121f-4f8f-8df9-b9ad9bd6490a",
   "metadata": {},
   "source": [
    "### Optimal Weights"
   ]
  },
  {
   "cell_type": "code",
   "execution_count": 70,
   "id": "71b071c1-17bc-4c85-9bf3-dbc381e1066d",
   "metadata": {},
   "outputs": [
    {
     "data": {
      "text/plain": [
       "(-0.11213193684060538, -0.15549306036774727)"
      ]
     },
     "execution_count": 70,
     "metadata": {},
     "output_type": "execute_result"
    }
   ],
   "source": [
    "gumbel_copula=historical_risk.gumbel_copula()\n",
    "perf=performance(gumbel_copula,opt_weights)\n",
    "var=np.percentile(perf,5)\n",
    "cvar=perf[perf<var].mean()\n",
    "\n",
    "var,cvar"
   ]
  },
  {
   "cell_type": "markdown",
   "id": "6bf4dfe8-0f2f-46cd-9b8b-ad91d75d2448",
   "metadata": {},
   "source": [
    "### Current Weights"
   ]
  },
  {
   "cell_type": "code",
   "execution_count": 71,
   "id": "677a56c5-74f3-4733-884b-54ac78e1ca00",
   "metadata": {},
   "outputs": [
    {
     "data": {
      "text/plain": [
       "(-0.06416690685806077, -0.08719864404039851)"
      ]
     },
     "execution_count": 71,
     "metadata": {},
     "output_type": "execute_result"
    }
   ],
   "source": [
    "gumbel_copula=current_risk.gumbel_copula(theta=2)\n",
    "perf=performance(gumbel_copula,current_weights)\n",
    "var=np.percentile(perf,5)\n",
    "cvar=perf[perf<var].mean()\n",
    "\n",
    "var,cvar"
   ]
  },
  {
   "cell_type": "code",
   "execution_count": 72,
   "id": "a06ef689-21b0-49fb-91cb-e4f7ecd99305",
   "metadata": {},
   "outputs": [
    {
     "data": {
      "text/plain": [
       "BTCUSDT     -0.011309\n",
       "OMUSDT      -0.031385\n",
       "SOLUSDT     -0.007041\n",
       "JASMYUSDT   -0.014095\n",
       "ETHUSDT     -0.001008\n",
       "TRXUSDT     -0.000048\n",
       "BBUSDT       0.000055\n",
       "Portfolio   -0.064831\n",
       "dtype: float64"
      ]
     },
     "execution_count": 72,
     "metadata": {},
     "output_type": "execute_result"
    }
   ],
   "source": [
    "scenario_gumbel_copula={}\n",
    "\n",
    "for i in range(100):\n",
    "    \n",
    "    gumbel_copula_distrib=pd.DataFrame(current_risk.gumbel_copula(),columns=current_risk.returns.columns)\n",
    "    gumbel_copula_distrib=gumbel_copula_distrib*current_weights\n",
    "    gumbel_copula_distrib=gumbel_copula_distrib[gumbel_copula_distrib.columns[current_weights>0]]\n",
    "    gumbel_copula_distrib['Portfolio']=gumbel_copula_distrib.sum(axis=1)\n",
    "    gumbel_copula_var=gumbel_copula_distrib.sort_values(by='Portfolio').iloc[int(gumbel_copula_distrib.shape[0]*0.05)]['Portfolio']\n",
    "    results=gumbel_copula_distrib.sort_values(by='Portfolio').iloc[int(gumbel_copula_distrib.shape[0]*0.05)]\n",
    "    \n",
    "    scenario_gumbel_copula[i]=results\n",
    "    \n",
    "mean_scenario_gaussian=pd.DataFrame(scenario_gumbel_copula).T.mean()\n",
    "mean_scenario_gaussian"
   ]
  },
  {
   "cell_type": "raw",
   "id": "a7cf6672-4497-412a-99d2-d7971328073d",
   "metadata": {
    "jupyter": {
     "source_hidden": true
    },
    "tags": []
   },
   "source": [
    "test=gumbel_l.rvs(loc=current_risk.returns.mean(),scale=current_risk.returns.std(),size=(10000,current_risk.returns.shape[1]))\n",
    "perf=(test*current_weights).sum(axis=1)\n",
    "\n",
    "var=np.percentile(perf,5)\n",
    "cvar=perf[perf<var].mean()\n",
    "var,cvar"
   ]
  },
  {
   "cell_type": "raw",
   "id": "3d431a69-7d30-4d5a-8b79-313ccc73d7bd",
   "metadata": {
    "jupyter": {
     "source_hidden": true
    },
    "tags": []
   },
   "source": [
    "scenario_gumbel_copula={}\n",
    "\n",
    "for i in range(100):\n",
    "    test=gumbel_l.rvs(loc=current_risk.returns.mean(),scale=current_risk.returns.std(),size=(10000,current_risk.returns.shape[1]))\n",
    "    gumbel_copula_distrib=pd.DataFrame(test,columns=current_risk.returns.columns)\n",
    "    gumbel_copula_distrib=gumbel_copula_distrib*current_weights\n",
    "    gumbel_copula_distrib=gumbel_copula_distrib[gumbel_copula_distrib.columns[current_weights>0]]\n",
    "    gumbel_copula_distrib['Portfolio']=gumbel_copula_distrib.sum(axis=1)\n",
    "    gumbel_copula_var=gumbel_copula_distrib.sort_values(by='Portfolio').iloc[int(gumbel_copula_distrib.shape[0]*0.05)]['Portfolio']\n",
    "    results=gumbel_copula_distrib.sort_values(by='Portfolio').iloc[int(gumbel_copula_distrib.shape[0]*0.05)]\n",
    "    \n",
    "    scenario_gumbel_copula[i]=results\n",
    "    \n",
    "mean_scenario_gaussian=pd.DataFrame(scenario_gumbel_copula).T.mean()\n",
    "mean_scenario_gaussian"
   ]
  },
  {
   "cell_type": "raw",
   "id": "929edc55-62b8-4da7-96a1-d5c4049da71f",
   "metadata": {
    "jupyter": {
     "source_hidden": true
    },
    "tags": []
   },
   "source": [
    "test=-np.random.gumbel(loc=current_risk.returns.mean(),scale=current_risk.returns.std(),size=(10000,current_risk.returns.shape[1]))\n",
    "var=np.percentile(performance(test,current_weights),5)\n",
    "cvar=performance(test,current_weights)[performance(test,current_weights)<var].mean()\n",
    "var,cvar"
   ]
  },
  {
   "cell_type": "raw",
   "id": "df443baa-f1ac-4309-b3a6-4cc30c1f24cc",
   "metadata": {
    "jupyter": {
     "source_hidden": true
    },
    "tags": []
   },
   "source": [
    "scenario_gumbel_copula={}\n",
    "\n",
    "for i in range(100):\n",
    "    test=-np.random.gumbel(loc=current_risk.returns.mean(),scale=current_risk.returns.std(),size=(10000,current_risk.returns.shape[1]))\n",
    "    gumbel_copula_distrib=pd.DataFrame(test,columns=current_risk.returns.columns)\n",
    "    gumbel_copula_distrib=gumbel_copula_distrib*current_weights\n",
    "    gumbel_copula_distrib=gumbel_copula_distrib[gumbel_copula_distrib.columns[current_weights>0]]\n",
    "    gumbel_copula_distrib['Portfolio']=gumbel_copula_distrib.sum(axis=1)\n",
    "    gumbel_copula_var=gumbel_copula_distrib.sort_values(by='Portfolio').iloc[int(gumbel_copula_distrib.shape[0]*0.05)]['Portfolio']\n",
    "    results=gumbel_copula_distrib.sort_values(by='Portfolio').iloc[int(gumbel_copula_distrib.shape[0]*0.05)]\n",
    "    \n",
    "    scenario_gumbel_copula[i]=results\n",
    "    \n",
    "mean_scenario_gaussian=pd.DataFrame(scenario_gumbel_copula).T.mean()\n",
    "mean_scenario_gaussian"
   ]
  },
  {
   "cell_type": "markdown",
   "id": "7552457d-af22-431f-bdc4-3609112e4138",
   "metadata": {},
   "source": [
    "## Monte Carlo"
   ]
  },
  {
   "cell_type": "markdown",
   "id": "8da84a09-32bf-473c-b0bf-8b98993c9003",
   "metadata": {},
   "source": [
    "### Optimal"
   ]
  },
  {
   "cell_type": "code",
   "execution_count": 73,
   "id": "0b1de214-34a4-46f0-9ff9-54326ff3b1b5",
   "metadata": {},
   "outputs": [],
   "source": [
    "spot=data[with_no_na].iloc[-1]\n",
    "monte_carlo=historical_risk.monte_carlo(spot,horizon=1/250,stress_factor=1.0)\n",
    "perf=performance(monte_carlo[1].fillna(0),opt_weights)"
   ]
  },
  {
   "cell_type": "code",
   "execution_count": 74,
   "id": "51c03bd4-96cb-4ef9-a720-1320ae57f100",
   "metadata": {},
   "outputs": [
    {
     "data": {
      "text/plain": [
       "(-0.07151752832192819, -0.08913093162526961)"
      ]
     },
     "execution_count": 74,
     "metadata": {},
     "output_type": "execute_result"
    }
   ],
   "source": [
    "var=np.percentile(perf,5)\n",
    "cvar=perf[perf<var].mean()\n",
    "\n",
    "var,cvar"
   ]
  },
  {
   "cell_type": "markdown",
   "id": "d8b35437-ec2e-403d-89bd-e8beb5c1cfe8",
   "metadata": {},
   "source": [
    "### Current Weights"
   ]
  },
  {
   "cell_type": "code",
   "execution_count": 75,
   "id": "fbd5b7f8-8088-4ed9-8dd9-2509aa2de713",
   "metadata": {},
   "outputs": [
    {
     "data": {
      "text/plain": [
       "(-0.05399865709869822, -0.0676982774616089)"
      ]
     },
     "execution_count": 75,
     "metadata": {},
     "output_type": "execute_result"
    }
   ],
   "source": [
    "spot=data[ex_ante_perf.columns].iloc[-1]\n",
    "monte_carlo=current_risk.monte_carlo(spot,horizon=1/250,stress_factor=1.0)\n",
    "perf=performance(monte_carlo[1].fillna(0),current_weights)\n",
    "var=np.percentile(perf,5)\n",
    "cvar=perf[perf<var].mean()\n",
    "\n",
    "var,cvar"
   ]
  },
  {
   "cell_type": "code",
   "execution_count": 76,
   "id": "0208383d-314b-471b-9943-3d75beae4276",
   "metadata": {},
   "outputs": [
    {
     "data": {
      "text/plain": [
       "BTCUSDT     -0.010680\n",
       "OMUSDT      -0.019192\n",
       "SOLUSDT     -0.009299\n",
       "JASMYUSDT   -0.009649\n",
       "ETHUSDT     -0.003986\n",
       "TRXUSDT     -0.000244\n",
       "BBUSDT      -0.001849\n",
       "Portfolio   -0.054899\n",
       "dtype: float64"
      ]
     },
     "execution_count": 76,
     "metadata": {},
     "output_type": "execute_result"
    }
   ],
   "source": [
    "spot=data[ex_ante_perf.columns].iloc[-1]\n",
    "\n",
    "scenario_monte_carlo={}\n",
    "\n",
    "for i in range(100):\n",
    "    \n",
    "    monte_carlo=current_risk.monte_carlo(spot,horizon=1/250,stress_factor=1.0)\n",
    "    monte_carlo_distrib=monte_carlo[1].fillna(0)*current_weights\n",
    "    monte_carlo_distrib=monte_carlo_distrib[monte_carlo_distrib.columns[current_weights>0]]\n",
    "    monte_carlo_distrib['Portfolio']=monte_carlo_distrib.sum(axis=1)\n",
    "    monte_carlo_var=monte_carlo_distrib.sort_values(by='Portfolio').iloc[int(monte_carlo_distrib.shape[0]*0.05)]['Portfolio']\n",
    "    results=monte_carlo_distrib.sort_values(by='Portfolio').iloc[int(monte_carlo_distrib.shape[0]*0.05)]\n",
    "    \n",
    "    scenario_monte_carlo[i]=results\n",
    "    \n",
    "mean_scenario_monte_carlo=pd.DataFrame(scenario_monte_carlo).T.mean()\n",
    "mean_scenario_monte_carlo"
   ]
  },
  {
   "cell_type": "markdown",
   "id": "2b3cb248-60ea-43f7-b474-31b6046eeee9",
   "metadata": {},
   "source": [
    "## VaR Violation"
   ]
  },
  {
   "cell_type": "code",
   "execution_count": 77,
   "id": "757aac0b-a638-4349-8fd3-30b1f39fa8b4",
   "metadata": {},
   "outputs": [
    {
     "data": {
      "text/html": [
       "<div>\n",
       "<style scoped>\n",
       "    .dataframe tbody tr th:only-of-type {\n",
       "        vertical-align: middle;\n",
       "    }\n",
       "\n",
       "    .dataframe tbody tr th {\n",
       "        vertical-align: top;\n",
       "    }\n",
       "\n",
       "    .dataframe thead th {\n",
       "        text-align: right;\n",
       "    }\n",
       "</style>\n",
       "<table border=\"1\" class=\"dataframe\">\n",
       "  <thead>\n",
       "    <tr style=\"text-align: right;\">\n",
       "      <th></th>\n",
       "      <th>Historical</th>\n",
       "      <th>Parametric</th>\n",
       "      <th>Multivariate</th>\n",
       "      <th>Portfolio</th>\n",
       "    </tr>\n",
       "  </thead>\n",
       "  <tbody>\n",
       "    <tr>\n",
       "      <th>2024-01-14</th>\n",
       "      <td>-0.063392</td>\n",
       "      <td>-0.111029</td>\n",
       "      <td>-0.096481</td>\n",
       "      <td>-0.019627</td>\n",
       "    </tr>\n",
       "    <tr>\n",
       "      <th>2024-01-15</th>\n",
       "      <td>-0.063392</td>\n",
       "      <td>-0.111005</td>\n",
       "      <td>-0.096159</td>\n",
       "      <td>0.018250</td>\n",
       "    </tr>\n",
       "    <tr>\n",
       "      <th>2024-01-16</th>\n",
       "      <td>-0.063392</td>\n",
       "      <td>-0.110608</td>\n",
       "      <td>-0.091344</td>\n",
       "      <td>0.050386</td>\n",
       "    </tr>\n",
       "    <tr>\n",
       "      <th>2024-01-17</th>\n",
       "      <td>-0.063392</td>\n",
       "      <td>-0.111815</td>\n",
       "      <td>-0.092380</td>\n",
       "      <td>-0.020131</td>\n",
       "    </tr>\n",
       "    <tr>\n",
       "      <th>2024-01-18</th>\n",
       "      <td>-0.063392</td>\n",
       "      <td>-0.114184</td>\n",
       "      <td>-0.099097</td>\n",
       "      <td>-0.037931</td>\n",
       "    </tr>\n",
       "    <tr>\n",
       "      <th>...</th>\n",
       "      <td>...</td>\n",
       "      <td>...</td>\n",
       "      <td>...</td>\n",
       "      <td>...</td>\n",
       "    </tr>\n",
       "    <tr>\n",
       "      <th>2024-11-05</th>\n",
       "      <td>-0.044123</td>\n",
       "      <td>-0.060901</td>\n",
       "      <td>-0.059941</td>\n",
       "      <td>0.022442</td>\n",
       "    </tr>\n",
       "    <tr>\n",
       "      <th>2024-11-06</th>\n",
       "      <td>-0.044123</td>\n",
       "      <td>-0.075392</td>\n",
       "      <td>-0.070465</td>\n",
       "      <td>0.106628</td>\n",
       "    </tr>\n",
       "    <tr>\n",
       "      <th>2024-11-07</th>\n",
       "      <td>-0.044123</td>\n",
       "      <td>-0.075256</td>\n",
       "      <td>-0.069818</td>\n",
       "      <td>0.006127</td>\n",
       "    </tr>\n",
       "    <tr>\n",
       "      <th>2024-11-08</th>\n",
       "      <td>-0.044123</td>\n",
       "      <td>-0.074652</td>\n",
       "      <td>-0.069223</td>\n",
       "      <td>-0.001677</td>\n",
       "    </tr>\n",
       "    <tr>\n",
       "      <th>2024-11-09</th>\n",
       "      <td>-0.044123</td>\n",
       "      <td>-0.074632</td>\n",
       "      <td>-0.069116</td>\n",
       "      <td>0.014896</td>\n",
       "    </tr>\n",
       "  </tbody>\n",
       "</table>\n",
       "<p>301 rows × 4 columns</p>\n",
       "</div>"
      ],
      "text/plain": [
       "            Historical  Parametric  Multivariate  Portfolio\n",
       "2024-01-14   -0.063392   -0.111029     -0.096481  -0.019627\n",
       "2024-01-15   -0.063392   -0.111005     -0.096159   0.018250\n",
       "2024-01-16   -0.063392   -0.110608     -0.091344   0.050386\n",
       "2024-01-17   -0.063392   -0.111815     -0.092380  -0.020131\n",
       "2024-01-18   -0.063392   -0.114184     -0.099097  -0.037931\n",
       "...                ...         ...           ...        ...\n",
       "2024-11-05   -0.044123   -0.060901     -0.059941   0.022442\n",
       "2024-11-06   -0.044123   -0.075392     -0.070465   0.106628\n",
       "2024-11-07   -0.044123   -0.075256     -0.069818   0.006127\n",
       "2024-11-08   -0.044123   -0.074652     -0.069223  -0.001677\n",
       "2024-11-09   -0.044123   -0.074632     -0.069116   0.014896\n",
       "\n",
       "[301 rows x 4 columns]"
      ]
     },
     "execution_count": 77,
     "metadata": {},
     "output_type": "execute_result"
    }
   ],
   "source": [
    "var_data=rolling_var(returns_to_use,opt_weights,window=30,Q=1)\n",
    "var_data"
   ]
  },
  {
   "cell_type": "code",
   "execution_count": 78,
   "id": "bca159de-f35d-4db1-b088-09ad2dbc5b6a",
   "metadata": {},
   "outputs": [
    {
     "data": {
      "text/html": [
       "<div>\n",
       "<style scoped>\n",
       "    .dataframe tbody tr th:only-of-type {\n",
       "        vertical-align: middle;\n",
       "    }\n",
       "\n",
       "    .dataframe tbody tr th {\n",
       "        vertical-align: top;\n",
       "    }\n",
       "\n",
       "    .dataframe thead th {\n",
       "        text-align: right;\n",
       "    }\n",
       "</style>\n",
       "<table border=\"1\" class=\"dataframe\">\n",
       "  <thead>\n",
       "    <tr style=\"text-align: right;\">\n",
       "      <th></th>\n",
       "      <th>Historical</th>\n",
       "      <th>Parametric</th>\n",
       "      <th>Multivariate</th>\n",
       "      <th>Portfolio</th>\n",
       "    </tr>\n",
       "  </thead>\n",
       "  <tbody>\n",
       "    <tr>\n",
       "      <th>2024-05-28</th>\n",
       "      <td>-0.031521</td>\n",
       "      <td>-0.085197</td>\n",
       "      <td>-0.078888</td>\n",
       "      <td>-0.016859</td>\n",
       "    </tr>\n",
       "    <tr>\n",
       "      <th>2024-05-29</th>\n",
       "      <td>-0.027671</td>\n",
       "      <td>-0.082297</td>\n",
       "      <td>-0.074993</td>\n",
       "      <td>-0.010111</td>\n",
       "    </tr>\n",
       "    <tr>\n",
       "      <th>2024-05-30</th>\n",
       "      <td>-0.027671</td>\n",
       "      <td>-0.070465</td>\n",
       "      <td>-0.063775</td>\n",
       "      <td>0.032533</td>\n",
       "    </tr>\n",
       "    <tr>\n",
       "      <th>2024-05-31</th>\n",
       "      <td>-0.027671</td>\n",
       "      <td>-0.069439</td>\n",
       "      <td>-0.061426</td>\n",
       "      <td>0.025056</td>\n",
       "    </tr>\n",
       "    <tr>\n",
       "      <th>2024-06-01</th>\n",
       "      <td>-0.027671</td>\n",
       "      <td>-0.070266</td>\n",
       "      <td>-0.062921</td>\n",
       "      <td>0.039674</td>\n",
       "    </tr>\n",
       "    <tr>\n",
       "      <th>...</th>\n",
       "      <td>...</td>\n",
       "      <td>...</td>\n",
       "      <td>...</td>\n",
       "      <td>...</td>\n",
       "    </tr>\n",
       "    <tr>\n",
       "      <th>2024-11-05</th>\n",
       "      <td>-0.050087</td>\n",
       "      <td>-0.065105</td>\n",
       "      <td>-0.067980</td>\n",
       "      <td>0.031383</td>\n",
       "    </tr>\n",
       "    <tr>\n",
       "      <th>2024-11-06</th>\n",
       "      <td>-0.050087</td>\n",
       "      <td>-0.091429</td>\n",
       "      <td>-0.086914</td>\n",
       "      <td>0.103772</td>\n",
       "    </tr>\n",
       "    <tr>\n",
       "      <th>2024-11-07</th>\n",
       "      <td>-0.050087</td>\n",
       "      <td>-0.089877</td>\n",
       "      <td>-0.084606</td>\n",
       "      <td>0.009795</td>\n",
       "    </tr>\n",
       "    <tr>\n",
       "      <th>2024-11-08</th>\n",
       "      <td>-0.050087</td>\n",
       "      <td>-0.090014</td>\n",
       "      <td>-0.084111</td>\n",
       "      <td>-0.002988</td>\n",
       "    </tr>\n",
       "    <tr>\n",
       "      <th>2024-11-09</th>\n",
       "      <td>-0.033514</td>\n",
       "      <td>-0.082030</td>\n",
       "      <td>-0.073430</td>\n",
       "      <td>0.001993</td>\n",
       "    </tr>\n",
       "  </tbody>\n",
       "</table>\n",
       "<p>166 rows × 4 columns</p>\n",
       "</div>"
      ],
      "text/plain": [
       "            Historical  Parametric  Multivariate  Portfolio\n",
       "2024-05-28   -0.031521   -0.085197     -0.078888  -0.016859\n",
       "2024-05-29   -0.027671   -0.082297     -0.074993  -0.010111\n",
       "2024-05-30   -0.027671   -0.070465     -0.063775   0.032533\n",
       "2024-05-31   -0.027671   -0.069439     -0.061426   0.025056\n",
       "2024-06-01   -0.027671   -0.070266     -0.062921   0.039674\n",
       "...                ...         ...           ...        ...\n",
       "2024-11-05   -0.050087   -0.065105     -0.067980   0.031383\n",
       "2024-11-06   -0.050087   -0.091429     -0.086914   0.103772\n",
       "2024-11-07   -0.050087   -0.089877     -0.084606   0.009795\n",
       "2024-11-08   -0.050087   -0.090014     -0.084111  -0.002988\n",
       "2024-11-09   -0.033514   -0.082030     -0.073430   0.001993\n",
       "\n",
       "[166 rows x 4 columns]"
      ]
     },
     "execution_count": 78,
     "metadata": {},
     "output_type": "execute_result"
    }
   ],
   "source": [
    "current_var_data=rolling_var(ex_ante_perf_to_use,current_weights,window=15,Q=1)\n",
    "current_var_data"
   ]
  },
  {
   "cell_type": "code",
   "execution_count": 79,
   "id": "0e7d84e4-bd99-45e8-9326-4f84526ba091",
   "metadata": {},
   "outputs": [
    {
     "data": {
      "text/plain": [
       "<AxesSubplot:>"
      ]
     },
     "execution_count": 79,
     "metadata": {},
     "output_type": "execute_result"
    },
    {
     "data": {
      "image/png": "[encoded data removed]",
      "text/plain": [
       "<Figure size 432x288 with 1 Axes>"
      ]
     },
     "metadata": {
      "needs_background": "light"
     },
     "output_type": "display_data"
    }
   ],
   "source": [
    "var_data.plot()"
   ]
  },
  {
   "cell_type": "code",
   "execution_count": 80,
   "id": "4499b3ef-4ed2-48a3-8967-0230afa98c7d",
   "metadata": {},
   "outputs": [
    {
     "data": {
      "text/plain": [
       "<AxesSubplot:>"
      ]
     },
     "execution_count": 80,
     "metadata": {},
     "output_type": "execute_result"
    },
    {
     "data": {
      "image/png": "[encoded data removed]",
      "text/plain": [
       "<Figure size 432x288 with 1 Axes>"
      ]
     },
     "metadata": {
      "needs_background": "light"
     },
     "output_type": "display_data"
    }
   ],
   "source": [
    "current_var_data.plot()"
   ]
  },
  {
   "cell_type": "code",
   "execution_count": 81,
   "id": "e47d08e8-e7a7-4b22-8605-f8200e5645a6",
   "metadata": {},
   "outputs": [
    {
     "data": {
      "text/html": [
       "<div>\n",
       "<style scoped>\n",
       "    .dataframe tbody tr th:only-of-type {\n",
       "        vertical-align: middle;\n",
       "    }\n",
       "\n",
       "    .dataframe tbody tr th {\n",
       "        vertical-align: top;\n",
       "    }\n",
       "\n",
       "    .dataframe thead th {\n",
       "        text-align: right;\n",
       "    }\n",
       "</style>\n",
       "<table border=\"1\" class=\"dataframe\">\n",
       "  <thead>\n",
       "    <tr style=\"text-align: right;\">\n",
       "      <th></th>\n",
       "      <th>Historical</th>\n",
       "      <th>Parametric</th>\n",
       "      <th>Multivariate</th>\n",
       "    </tr>\n",
       "  </thead>\n",
       "  <tbody>\n",
       "    <tr>\n",
       "      <th>Proportion of failure</th>\n",
       "      <td>0.019934</td>\n",
       "      <td>0.009967</td>\n",
       "      <td>0.009967</td>\n",
       "    </tr>\n",
       "    <tr>\n",
       "      <th>Kupiec Stat</th>\n",
       "      <td>7.348025</td>\n",
       "      <td>14.924209</td>\n",
       "      <td>14.924209</td>\n",
       "    </tr>\n",
       "    <tr>\n",
       "      <th>P-value</th>\n",
       "      <td>0.006714</td>\n",
       "      <td>0.000112</td>\n",
       "      <td>0.000112</td>\n",
       "    </tr>\n",
       "  </tbody>\n",
       "</table>\n",
       "</div>"
      ],
      "text/plain": [
       "                      Historical Parametric Multivariate\n",
       "Proportion of failure   0.019934   0.009967     0.009967\n",
       "Kupiec Stat             7.348025  14.924209    14.924209\n",
       "P-value                 0.006714   0.000112     0.000112"
      ]
     },
     "execution_count": 81,
     "metadata": {},
     "output_type": "execute_result"
    }
   ],
   "source": [
    "kupiec_test(var_data)"
   ]
  },
  {
   "cell_type": "code",
   "execution_count": 82,
   "id": "0b33e6a3-e732-49df-a1a0-aefaefb1f271",
   "metadata": {},
   "outputs": [
    {
     "data": {
      "text/html": [
       "<div>\n",
       "<style scoped>\n",
       "    .dataframe tbody tr th:only-of-type {\n",
       "        vertical-align: middle;\n",
       "    }\n",
       "\n",
       "    .dataframe tbody tr th {\n",
       "        vertical-align: top;\n",
       "    }\n",
       "\n",
       "    .dataframe thead th {\n",
       "        text-align: right;\n",
       "    }\n",
       "</style>\n",
       "<table border=\"1\" class=\"dataframe\">\n",
       "  <thead>\n",
       "    <tr style=\"text-align: right;\">\n",
       "      <th></th>\n",
       "      <th>Historical</th>\n",
       "      <th>Parametric</th>\n",
       "      <th>Multivariate</th>\n",
       "    </tr>\n",
       "  </thead>\n",
       "  <tbody>\n",
       "    <tr>\n",
       "      <th>Proportion of failure</th>\n",
       "      <td>0.072289</td>\n",
       "      <td>0.018072</td>\n",
       "      <td>0.018072</td>\n",
       "    </tr>\n",
       "    <tr>\n",
       "      <th>Kupiec Stat</th>\n",
       "      <td>1.535125</td>\n",
       "      <td>4.670301</td>\n",
       "      <td>4.670301</td>\n",
       "    </tr>\n",
       "    <tr>\n",
       "      <th>P-value</th>\n",
       "      <td>0.215345</td>\n",
       "      <td>0.030689</td>\n",
       "      <td>0.030689</td>\n",
       "    </tr>\n",
       "  </tbody>\n",
       "</table>\n",
       "</div>"
      ],
      "text/plain": [
       "                      Historical Parametric Multivariate\n",
       "Proportion of failure   0.072289   0.018072     0.018072\n",
       "Kupiec Stat             1.535125   4.670301     4.670301\n",
       "P-value                 0.215345   0.030689     0.030689"
      ]
     },
     "execution_count": 82,
     "metadata": {},
     "output_type": "execute_result"
    }
   ],
   "source": [
    "kupiec_test(current_var_data)"
   ]
  },
  {
   "cell_type": "markdown",
   "id": "7d238b49-45e4-4e3c-a34b-654a69961cc2",
   "metadata": {},
   "source": [
    "# Principal Component Analysis"
   ]
  },
  {
   "cell_type": "markdown",
   "id": "f692a72e-632c-4eb9-afa3-b1283e5e6fd9",
   "metadata": {},
   "source": [
    "### Historical PCA"
   ]
  },
  {
   "cell_type": "code",
   "execution_count": 83,
   "id": "6000e084-3863-47c4-9f09-9fcd4c7220be",
   "metadata": {},
   "outputs": [
    {
     "data": {
      "text/plain": [
       "array([0.79675196, 0.06492178, 0.05296867, 0.04422345, 0.04113414])"
      ]
     },
     "execution_count": 83,
     "metadata": {},
     "output_type": "execute_result"
    }
   ],
   "source": [
    "eigval,eigvec,portfolio_components=historical_risk.pca(num_components=5)\n",
    "variance_explained=eigval/eigval.sum()\n",
    "variance_explained"
   ]
  },
  {
   "cell_type": "code",
   "execution_count": 84,
   "id": "53fd60dd-afcd-4a5f-bc0c-1afbe4acfcf5",
   "metadata": {},
   "outputs": [
    {
     "data": {
      "text/plain": [
       "AAVEUSDT    0.015198\n",
       "ADAUSDT     0.014534\n",
       "ALGOUSDT    0.015925\n",
       "APEUSDT     0.018095\n",
       "APTUSDT     0.015705\n",
       "              ...   \n",
       "WBTCUSDT    0.010061\n",
       "WLDUSDT     0.022204\n",
       "XLMUSDT     0.009432\n",
       "XRPUSDT     0.009200\n",
       "ZECUSDT     0.012543\n",
       "Name: PC1, Length: 63, dtype: float64"
      ]
     },
     "execution_count": 84,
     "metadata": {},
     "output_type": "execute_result"
    }
   ],
   "source": [
    "pca_weight=dict((portfolio_components['PC1']/portfolio_components['PC1'].sum()))\n",
    "portfolio_components['PC1']"
   ]
  },
  {
   "cell_type": "code",
   "execution_count": 85,
   "id": "e83837db-6bb4-44d7-8d2f-ace69c484699",
   "metadata": {},
   "outputs": [
    {
     "data": {
      "text/plain": [
       "<AxesSubplot:>"
      ]
     },
     "execution_count": 85,
     "metadata": {},
     "output_type": "execute_result"
    },
    {
     "data": {
      "image/png": "[encoded data removed]",
      "text/plain": [
       "<Figure size 432x288 with 1 Axes>"
      ]
     },
     "metadata": {
      "needs_background": "light"
     },
     "output_type": "display_data"
    }
   ],
   "source": [
    "PCA=pd.DataFrame(np.array(list(pca_weight.values())).dot(np.transpose(historical_risk.returns)),\n",
    "                 index=historical_risk.returns.index,\n",
    "                 columns=['PCA'])\n",
    "PCA=PCA.dropna()\n",
    "(1+PCA).cumprod().plot()"
   ]
  },
  {
   "cell_type": "code",
   "execution_count": 86,
   "id": "c575f9ec-6680-4401-814e-d33785954e38",
   "metadata": {},
   "outputs": [
    {
     "data": {
      "text/plain": [
       "<AxesSubplot:>"
      ]
     },
     "execution_count": 86,
     "metadata": {},
     "output_type": "execute_result"
    },
    {
     "data": {
      "image/png": "[encoded data removed]",
      "text/plain": [
       "<Figure size 432x288 with 1 Axes>"
      ]
     },
     "metadata": {
      "needs_background": "light"
     },
     "output_type": "display_data"
    }
   ],
   "source": [
    "(1+historical_risk.returns['BTCUSDT']).cumprod().plot()"
   ]
  },
  {
   "cell_type": "code",
   "execution_count": 87,
   "id": "1a144186-3cff-4c2b-8833-2ff9c7ed02d0",
   "metadata": {},
   "outputs": [
    {
     "data": {
      "text/plain": [
       "PCA          0.000000\n",
       "ALGOUSDT     0.367170\n",
       "ETHUSDT      0.370069\n",
       "WBETHUSDT    0.370108\n",
       "FLOWUSDT     0.380101\n",
       "               ...   \n",
       "RAYUSDT      1.002644\n",
       "PEPEUSDT     1.019722\n",
       "FLOKIUSDT    1.025027\n",
       "WLDUSDT      1.074993\n",
       "OMUSDT       1.340097\n",
       "Length: 64, dtype: float64"
      ]
     },
     "execution_count": 87,
     "metadata": {},
     "output_type": "execute_result"
    }
   ],
   "source": [
    "comparison=historical_risk.returns.copy()\n",
    "comparison['PCA']=PCA\n",
    "distances=np.sqrt(np.sum(comparison.apply(lambda y:(y-PCA['PCA'])**2))).sort_values()\n",
    "distances"
   ]
  },
  {
   "cell_type": "code",
   "execution_count": 88,
   "id": "1757caf9-a1c9-4e4e-8334-fae0314667e7",
   "metadata": {},
   "outputs": [
    {
     "data": {
      "text/plain": [
       "<AxesSubplot:>"
      ]
     },
     "execution_count": 88,
     "metadata": {},
     "output_type": "execute_result"
    },
    {
     "data": {
      "image/png": "[encoded data removed]",
      "text/plain": [
       "<Figure size 432x288 with 1 Axes>"
      ]
     },
     "metadata": {
      "needs_background": "light"
     },
     "output_type": "display_data"
    }
   ],
   "source": [
    "(1+comparison[distances.index[:10]]).cumprod().plot()"
   ]
  },
  {
   "cell_type": "code",
   "execution_count": 89,
   "id": "56a047da-fd00-4827-8e18-635a2fa53389",
   "metadata": {},
   "outputs": [
    {
     "data": {
      "text/plain": [
       "<AxesSubplot:>"
      ]
     },
     "execution_count": 89,
     "metadata": {},
     "output_type": "execute_result"
    },
    {
     "data": {
      "image/png": "[encoded data removed]",
      "text/plain": [
       "<Figure size 432x288 with 1 Axes>"
      ]
     },
     "metadata": {
      "needs_background": "light"
     },
     "output_type": "display_data"
    }
   ],
   "source": [
    "(1+comparison[distances.index[-10:]]).cumprod().plot()"
   ]
  },
  {
   "cell_type": "markdown",
   "id": "1e202647-c176-480f-a368-895d7d744dd0",
   "metadata": {},
   "source": [
    "### Current PCA"
   ]
  },
  {
   "cell_type": "code",
   "execution_count": 90,
   "id": "b279a72f-1f1c-42f0-a641-013b3e43675f",
   "metadata": {},
   "outputs": [
    {
     "data": {
      "text/plain": [
       "array([0.68360121, 0.13087781, 0.08954433, 0.06479171, 0.03118495])"
      ]
     },
     "execution_count": 90,
     "metadata": {},
     "output_type": "execute_result"
    }
   ],
   "source": [
    "eigval,eigvec,portfolio_components_current=current_risk.pca(num_components=5)\n",
    "variance_explained=eigval/eigval.sum()\n",
    "variance_explained"
   ]
  },
  {
   "cell_type": "code",
   "execution_count": 91,
   "id": "dfe7f204-8aab-42a9-a2e3-95c60a6b146e",
   "metadata": {},
   "outputs": [
    {
     "data": {
      "text/plain": [
       "BTCUSDT      0.066187\n",
       "OMUSDT       0.096019\n",
       "SOLUSDT      0.106736\n",
       "JASMYUSDT    0.157649\n",
       "ETHUSDT      0.089740\n",
       "TRXUSDT      0.013614\n",
       "BBUSDT       0.231215\n",
       "BNBUSDT      0.067162\n",
       "PEPEUSDT     0.171678\n",
       "Name: PC1, dtype: float64"
      ]
     },
     "execution_count": 91,
     "metadata": {},
     "output_type": "execute_result"
    }
   ],
   "source": [
    "pca_weight=dict((portfolio_components_current['PC1']/portfolio_components_current['PC1'].sum()))\n",
    "portfolio_components_current['PC1']"
   ]
  },
  {
   "cell_type": "code",
   "execution_count": 92,
   "id": "85176e0f-abd3-477c-89a2-f8473be390f3",
   "metadata": {},
   "outputs": [
    {
     "data": {
      "text/plain": [
       "<AxesSubplot:>"
      ]
     },
     "execution_count": 92,
     "metadata": {},
     "output_type": "execute_result"
    },
    {
     "data": {
      "image/png": "[encoded data removed]",
      "text/plain": [
       "<Figure size 432x288 with 1 Axes>"
      ]
     },
     "metadata": {
      "needs_background": "light"
     },
     "output_type": "display_data"
    }
   ],
   "source": [
    "PCA=pd.DataFrame(np.array(list(pca_weight.values())).dot(np.transpose(current_risk.returns)),\n",
    "                 index=current_risk.returns.index,\n",
    "                 columns=['PCA'])\n",
    "PCA=PCA.dropna()\n",
    "(1+PCA).cumprod().plot()"
   ]
  },
  {
   "cell_type": "code",
   "execution_count": 93,
   "id": "03b2a48e-4c5a-4d67-8760-a4631629f0a3",
   "metadata": {},
   "outputs": [
    {
     "data": {
      "text/plain": [
       "<AxesSubplot:>"
      ]
     },
     "execution_count": 93,
     "metadata": {},
     "output_type": "execute_result"
    },
    {
     "data": {
      "image/png": "[encoded data removed]",
      "text/plain": [
       "<Figure size 432x288 with 1 Axes>"
      ]
     },
     "metadata": {
      "needs_background": "light"
     },
     "output_type": "display_data"
    }
   ],
   "source": [
    "(1+current_risk.returns['BTCUSDT']).cumprod().plot()"
   ]
  },
  {
   "cell_type": "code",
   "execution_count": 94,
   "id": "726e5786-d256-485f-9aed-34cf41558ed1",
   "metadata": {},
   "outputs": [
    {
     "data": {
      "text/plain": [
       "PCA          0.000000\n",
       "ETHUSDT      0.347526\n",
       "SOLUSDT      0.355995\n",
       "BTCUSDT      0.384731\n",
       "BNBUSDT      0.392587\n",
       "JASMYUSDT    0.435113\n",
       "PEPEUSDT     0.492856\n",
       "OMUSDT       0.590472\n",
       "TRXUSDT      0.593297\n",
       "BBUSDT       0.651604\n",
       "dtype: float64"
      ]
     },
     "execution_count": 94,
     "metadata": {},
     "output_type": "execute_result"
    }
   ],
   "source": [
    "comparison=current_risk.returns.copy()\n",
    "comparison['PCA']=PCA\n",
    "distances=np.sqrt(np.sum(comparison.apply(lambda y:(y-PCA['PCA'])**2))).sort_values()\n",
    "distances.iloc[:10]"
   ]
  },
  {
   "cell_type": "code",
   "execution_count": 95,
   "id": "15dace72-ee38-4c88-92c2-df5fa14f042c",
   "metadata": {},
   "outputs": [
    {
     "data": {
      "text/plain": [
       "<AxesSubplot:>"
      ]
     },
     "execution_count": 95,
     "metadata": {},
     "output_type": "execute_result"
    },
    {
     "data": {
      "image/png": "[encoded data removed]",
      "text/plain": [
       "<Figure size 432x288 with 1 Axes>"
      ]
     },
     "metadata": {
      "needs_background": "light"
     },
     "output_type": "display_data"
    }
   ],
   "source": [
    "(1+comparison[distances.index[:10]]).cumprod().plot()"
   ]
  },
  {
   "cell_type": "markdown",
   "id": "85389228-d5d4-4e65-b11c-e46e5e4155ba",
   "metadata": {},
   "source": [
    "## Sensitivity Analysis"
   ]
  },
  {
   "cell_type": "code",
   "execution_count": 96,
   "id": "7f6c4fd8-79da-438f-9aa9-c5fe762473d3",
   "metadata": {},
   "outputs": [
    {
     "data": {
      "text/plain": [
       "PEPEUSDT     1.944517\n",
       "BBUSDT       1.628244\n",
       "JASMYUSDT    1.331336\n",
       "SOLUSDT      1.173586\n",
       "BTCUSDT      1.000000\n",
       "ETHUSDT      0.973457\n",
       "OMUSDT       0.955773\n",
       "BNBUSDT      0.675193\n",
       "TRXUSDT      0.265682\n",
       "Name: BTCUSDT, dtype: float64"
      ]
     },
     "execution_count": 96,
     "metadata": {},
     "output_type": "execute_result"
    }
   ],
   "source": [
    "beta=(ex_ante_perf.cov()/ex_ante_perf.var())['BTCUSDT'].sort_values(ascending=False)\n",
    "beta"
   ]
  },
  {
   "cell_type": "code",
   "execution_count": 97,
   "id": "47a98cfa-6cea-4d6f-9e50-a8e067707547",
   "metadata": {},
   "outputs": [
    {
     "data": {
      "text/plain": [
       "JASMYUSDT    1.954408\n",
       "PEPEUSDT     1.691708\n",
       "BBUSDT       1.474775\n",
       "SOLUSDT      1.211554\n",
       "ETHUSDT      1.183020\n",
       "BTCUSDT      1.000000\n",
       "OMUSDT       0.896025\n",
       "BNBUSDT      0.628885\n",
       "TRXUSDT      0.172130\n",
       "Name: BTCUSDT, dtype: float64"
      ]
     },
     "execution_count": 97,
     "metadata": {},
     "output_type": "execute_result"
    }
   ],
   "source": [
    "days=15\n",
    "beta=(ex_ante_perf.iloc[-days:].cov()/ex_ante_perf.iloc[-days:].var())['BTCUSDT'].sort_values(ascending=False)\n",
    "beta"
   ]
  },
  {
   "cell_type": "markdown",
   "id": "9f7ba2ce-b159-4322-bfb9-a9f6874cda5e",
   "metadata": {},
   "source": [
    "## Sliding window optimization"
   ]
  },
  {
   "cell_type": "code",
   "execution_count": 98,
   "id": "182eaabf-5686-48d5-8c2e-9414607b541a",
   "metadata": {},
   "outputs": [
    {
     "data": {
      "text/html": [
       "<div>\n",
       "<style scoped>\n",
       "    .dataframe tbody tr th:only-of-type {\n",
       "        vertical-align: middle;\n",
       "    }\n",
       "\n",
       "    .dataframe tbody tr th {\n",
       "        vertical-align: top;\n",
       "    }\n",
       "\n",
       "    .dataframe thead th {\n",
       "        text-align: right;\n",
       "    }\n",
       "</style>\n",
       "<table border=\"1\" class=\"dataframe\">\n",
       "  <thead>\n",
       "    <tr style=\"text-align: right;\">\n",
       "      <th></th>\n",
       "      <th>BTCUSDT</th>\n",
       "      <th>OMUSDT</th>\n",
       "      <th>SOLUSDT</th>\n",
       "      <th>JASMYUSDT</th>\n",
       "      <th>ETHUSDT</th>\n",
       "      <th>TRXUSDT</th>\n",
       "      <th>BBUSDT</th>\n",
       "      <th>BNBUSDT</th>\n",
       "      <th>PEPEUSDT</th>\n",
       "    </tr>\n",
       "  </thead>\n",
       "  <tbody>\n",
       "    <tr>\n",
       "      <th>2024-05-27</th>\n",
       "      <td>0.000000</td>\n",
       "      <td>0.000000</td>\n",
       "      <td>0.000000</td>\n",
       "      <td>0.622138</td>\n",
       "      <td>0.000000</td>\n",
       "      <td>0.000000</td>\n",
       "      <td>0.000000</td>\n",
       "      <td>0.000000</td>\n",
       "      <td>0.377862</td>\n",
       "    </tr>\n",
       "    <tr>\n",
       "      <th>2024-06-10</th>\n",
       "      <td>0.000000</td>\n",
       "      <td>0.625881</td>\n",
       "      <td>0.000000</td>\n",
       "      <td>0.150844</td>\n",
       "      <td>0.000000</td>\n",
       "      <td>0.223275</td>\n",
       "      <td>0.000000</td>\n",
       "      <td>0.000000</td>\n",
       "      <td>0.000000</td>\n",
       "    </tr>\n",
       "    <tr>\n",
       "      <th>2024-06-24</th>\n",
       "      <td>0.000000</td>\n",
       "      <td>0.000000</td>\n",
       "      <td>0.000000</td>\n",
       "      <td>0.000000</td>\n",
       "      <td>0.000000</td>\n",
       "      <td>1.000000</td>\n",
       "      <td>0.000000</td>\n",
       "      <td>0.000000</td>\n",
       "      <td>0.000000</td>\n",
       "    </tr>\n",
       "    <tr>\n",
       "      <th>2024-07-08</th>\n",
       "      <td>0.000000</td>\n",
       "      <td>0.182521</td>\n",
       "      <td>0.000000</td>\n",
       "      <td>0.000000</td>\n",
       "      <td>0.000000</td>\n",
       "      <td>0.817479</td>\n",
       "      <td>0.000000</td>\n",
       "      <td>0.000000</td>\n",
       "      <td>0.000000</td>\n",
       "    </tr>\n",
       "    <tr>\n",
       "      <th>2024-07-22</th>\n",
       "      <td>0.414537</td>\n",
       "      <td>0.133222</td>\n",
       "      <td>0.111977</td>\n",
       "      <td>0.000000</td>\n",
       "      <td>0.000000</td>\n",
       "      <td>0.340265</td>\n",
       "      <td>0.000000</td>\n",
       "      <td>0.000000</td>\n",
       "      <td>0.000000</td>\n",
       "    </tr>\n",
       "    <tr>\n",
       "      <th>2024-08-05</th>\n",
       "      <td>0.000000</td>\n",
       "      <td>0.000000</td>\n",
       "      <td>0.000000</td>\n",
       "      <td>1.000000</td>\n",
       "      <td>0.000000</td>\n",
       "      <td>0.000000</td>\n",
       "      <td>0.000000</td>\n",
       "      <td>0.000000</td>\n",
       "      <td>0.000000</td>\n",
       "    </tr>\n",
       "    <tr>\n",
       "      <th>2024-08-19</th>\n",
       "      <td>0.000000</td>\n",
       "      <td>0.000000</td>\n",
       "      <td>0.000000</td>\n",
       "      <td>0.000000</td>\n",
       "      <td>0.000000</td>\n",
       "      <td>0.926689</td>\n",
       "      <td>0.000000</td>\n",
       "      <td>0.073311</td>\n",
       "      <td>0.000000</td>\n",
       "    </tr>\n",
       "    <tr>\n",
       "      <th>2024-09-02</th>\n",
       "      <td>0.000000</td>\n",
       "      <td>0.435173</td>\n",
       "      <td>0.000000</td>\n",
       "      <td>0.000000</td>\n",
       "      <td>0.000000</td>\n",
       "      <td>0.564827</td>\n",
       "      <td>0.000000</td>\n",
       "      <td>0.000000</td>\n",
       "      <td>0.000000</td>\n",
       "    </tr>\n",
       "    <tr>\n",
       "      <th>2024-09-16</th>\n",
       "      <td>0.000000</td>\n",
       "      <td>0.287486</td>\n",
       "      <td>0.000000</td>\n",
       "      <td>0.000000</td>\n",
       "      <td>0.000000</td>\n",
       "      <td>0.000000</td>\n",
       "      <td>0.712514</td>\n",
       "      <td>0.000000</td>\n",
       "      <td>0.000000</td>\n",
       "    </tr>\n",
       "    <tr>\n",
       "      <th>2024-09-30</th>\n",
       "      <td>0.000000</td>\n",
       "      <td>0.176595</td>\n",
       "      <td>0.000000</td>\n",
       "      <td>0.000000</td>\n",
       "      <td>0.165826</td>\n",
       "      <td>0.527128</td>\n",
       "      <td>0.000000</td>\n",
       "      <td>0.000000</td>\n",
       "      <td>0.130451</td>\n",
       "    </tr>\n",
       "    <tr>\n",
       "      <th>2024-10-14</th>\n",
       "      <td>0.000000</td>\n",
       "      <td>0.527993</td>\n",
       "      <td>0.000000</td>\n",
       "      <td>0.000000</td>\n",
       "      <td>0.000000</td>\n",
       "      <td>0.472007</td>\n",
       "      <td>0.000000</td>\n",
       "      <td>0.000000</td>\n",
       "      <td>0.000000</td>\n",
       "    </tr>\n",
       "    <tr>\n",
       "      <th>2024-10-28</th>\n",
       "      <td>0.531817</td>\n",
       "      <td>0.000000</td>\n",
       "      <td>0.269923</td>\n",
       "      <td>0.000000</td>\n",
       "      <td>0.000000</td>\n",
       "      <td>0.198260</td>\n",
       "      <td>0.000000</td>\n",
       "      <td>0.000000</td>\n",
       "      <td>0.000000</td>\n",
       "    </tr>\n",
       "  </tbody>\n",
       "</table>\n",
       "</div>"
      ],
      "text/plain": [
       "             BTCUSDT    OMUSDT   SOLUSDT  JASMYUSDT   ETHUSDT   TRXUSDT  \\\n",
       "2024-05-27  0.000000  0.000000  0.000000   0.622138  0.000000  0.000000   \n",
       "2024-06-10  0.000000  0.625881  0.000000   0.150844  0.000000  0.223275   \n",
       "2024-06-24  0.000000  0.000000  0.000000   0.000000  0.000000  1.000000   \n",
       "2024-07-08  0.000000  0.182521  0.000000   0.000000  0.000000  0.817479   \n",
       "2024-07-22  0.414537  0.133222  0.111977   0.000000  0.000000  0.340265   \n",
       "2024-08-05  0.000000  0.000000  0.000000   1.000000  0.000000  0.000000   \n",
       "2024-08-19  0.000000  0.000000  0.000000   0.000000  0.000000  0.926689   \n",
       "2024-09-02  0.000000  0.435173  0.000000   0.000000  0.000000  0.564827   \n",
       "2024-09-16  0.000000  0.287486  0.000000   0.000000  0.000000  0.000000   \n",
       "2024-09-30  0.000000  0.176595  0.000000   0.000000  0.165826  0.527128   \n",
       "2024-10-14  0.000000  0.527993  0.000000   0.000000  0.000000  0.472007   \n",
       "2024-10-28  0.531817  0.000000  0.269923   0.000000  0.000000  0.198260   \n",
       "\n",
       "              BBUSDT   BNBUSDT  PEPEUSDT  \n",
       "2024-05-27  0.000000  0.000000  0.377862  \n",
       "2024-06-10  0.000000  0.000000  0.000000  \n",
       "2024-06-24  0.000000  0.000000  0.000000  \n",
       "2024-07-08  0.000000  0.000000  0.000000  \n",
       "2024-07-22  0.000000  0.000000  0.000000  \n",
       "2024-08-05  0.000000  0.000000  0.000000  \n",
       "2024-08-19  0.000000  0.073311  0.000000  \n",
       "2024-09-02  0.000000  0.000000  0.000000  \n",
       "2024-09-16  0.712514  0.000000  0.000000  \n",
       "2024-09-30  0.000000  0.000000  0.130451  \n",
       "2024-10-14  0.000000  0.000000  0.000000  \n",
       "2024-10-28  0.000000  0.000000  0.000000  "
      ]
     },
     "execution_count": 98,
     "metadata": {},
     "output_type": "execute_result"
    }
   ],
   "source": [
    "results={}\n",
    "window=14\n",
    "\n",
    "for i in range(0,ex_ante_perf_to_use.shape[0]-window+1,window):\n",
    "    \n",
    "    try:\n",
    "        dataset=ex_ante_perf_to_use.iloc[i:i+window]\n",
    "        risk=RiskAnalysis(dataset)\n",
    "        date=dataset.index[-1]\n",
    "        optimal=risk.optimize(objective='sharpe_ratio')     \n",
    "        results[date]=np.round(optimal,6)\n",
    "        \n",
    "    except Exception as e:\n",
    "        \n",
    "            pass\n",
    "\n",
    "rolling_optimization=pd.DataFrame(results,index=ex_ante_perf_to_use.columns).T\n",
    "rolling_optimization"
   ]
  },
  {
   "cell_type": "code",
   "execution_count": 99,
   "id": "594813b8-0e53-447b-93bd-223ae34ffd1e",
   "metadata": {},
   "outputs": [
    {
     "data": {
      "text/html": [
       "<div>\n",
       "<style scoped>\n",
       "    .dataframe tbody tr th:only-of-type {\n",
       "        vertical-align: middle;\n",
       "    }\n",
       "\n",
       "    .dataframe tbody tr th {\n",
       "        vertical-align: top;\n",
       "    }\n",
       "\n",
       "    .dataframe thead th {\n",
       "        text-align: right;\n",
       "    }\n",
       "</style>\n",
       "<table border=\"1\" class=\"dataframe\">\n",
       "  <thead>\n",
       "    <tr style=\"text-align: right;\">\n",
       "      <th></th>\n",
       "      <th>AAVEUSDT</th>\n",
       "      <th>ADAUSDT</th>\n",
       "      <th>ALGOUSDT</th>\n",
       "      <th>APEUSDT</th>\n",
       "      <th>APTUSDT</th>\n",
       "      <th>ARBUSDT</th>\n",
       "      <th>ARUSDT</th>\n",
       "      <th>ATOMUSDT</th>\n",
       "      <th>AVAXUSDT</th>\n",
       "      <th>AXSUSDT</th>\n",
       "      <th>...</th>\n",
       "      <th>TRXUSDT</th>\n",
       "      <th>UNIUSDT</th>\n",
       "      <th>USDCUSDT</th>\n",
       "      <th>VETUSDT</th>\n",
       "      <th>WBETHUSDT</th>\n",
       "      <th>WBTCUSDT</th>\n",
       "      <th>WLDUSDT</th>\n",
       "      <th>XLMUSDT</th>\n",
       "      <th>XRPUSDT</th>\n",
       "      <th>ZECUSDT</th>\n",
       "    </tr>\n",
       "  </thead>\n",
       "  <tbody>\n",
       "    <tr>\n",
       "      <th>2024-08-25</th>\n",
       "      <td>0.085923</td>\n",
       "      <td>0.008730</td>\n",
       "      <td>0.0</td>\n",
       "      <td>0.000000</td>\n",
       "      <td>0.0</td>\n",
       "      <td>0.0</td>\n",
       "      <td>0.0</td>\n",
       "      <td>0.0</td>\n",
       "      <td>0.0</td>\n",
       "      <td>0.0</td>\n",
       "      <td>...</td>\n",
       "      <td>0.391232</td>\n",
       "      <td>0.0</td>\n",
       "      <td>0.0</td>\n",
       "      <td>0.0</td>\n",
       "      <td>0.0</td>\n",
       "      <td>0.0</td>\n",
       "      <td>0.000000</td>\n",
       "      <td>0.0</td>\n",
       "      <td>0.000000</td>\n",
       "      <td>0.000000</td>\n",
       "    </tr>\n",
       "    <tr>\n",
       "      <th>2024-09-08</th>\n",
       "      <td>0.000000</td>\n",
       "      <td>0.000000</td>\n",
       "      <td>0.0</td>\n",
       "      <td>0.968716</td>\n",
       "      <td>0.0</td>\n",
       "      <td>0.0</td>\n",
       "      <td>0.0</td>\n",
       "      <td>0.0</td>\n",
       "      <td>0.0</td>\n",
       "      <td>0.0</td>\n",
       "      <td>...</td>\n",
       "      <td>0.000000</td>\n",
       "      <td>0.0</td>\n",
       "      <td>0.0</td>\n",
       "      <td>0.0</td>\n",
       "      <td>0.0</td>\n",
       "      <td>0.0</td>\n",
       "      <td>0.000000</td>\n",
       "      <td>0.0</td>\n",
       "      <td>0.000000</td>\n",
       "      <td>0.000000</td>\n",
       "    </tr>\n",
       "    <tr>\n",
       "      <th>2024-09-22</th>\n",
       "      <td>0.031754</td>\n",
       "      <td>0.000000</td>\n",
       "      <td>0.0</td>\n",
       "      <td>0.000000</td>\n",
       "      <td>0.0</td>\n",
       "      <td>0.0</td>\n",
       "      <td>0.0</td>\n",
       "      <td>0.0</td>\n",
       "      <td>0.0</td>\n",
       "      <td>0.0</td>\n",
       "      <td>...</td>\n",
       "      <td>0.000000</td>\n",
       "      <td>0.0</td>\n",
       "      <td>0.0</td>\n",
       "      <td>0.0</td>\n",
       "      <td>0.0</td>\n",
       "      <td>0.0</td>\n",
       "      <td>0.000000</td>\n",
       "      <td>0.0</td>\n",
       "      <td>0.044207</td>\n",
       "      <td>0.000000</td>\n",
       "    </tr>\n",
       "    <tr>\n",
       "      <th>2024-10-06</th>\n",
       "      <td>0.000000</td>\n",
       "      <td>0.000000</td>\n",
       "      <td>0.0</td>\n",
       "      <td>0.000000</td>\n",
       "      <td>0.0</td>\n",
       "      <td>0.0</td>\n",
       "      <td>0.0</td>\n",
       "      <td>0.0</td>\n",
       "      <td>0.0</td>\n",
       "      <td>0.0</td>\n",
       "      <td>...</td>\n",
       "      <td>0.303652</td>\n",
       "      <td>0.0</td>\n",
       "      <td>0.0</td>\n",
       "      <td>0.0</td>\n",
       "      <td>0.0</td>\n",
       "      <td>0.0</td>\n",
       "      <td>0.063764</td>\n",
       "      <td>0.0</td>\n",
       "      <td>0.000000</td>\n",
       "      <td>0.000000</td>\n",
       "    </tr>\n",
       "    <tr>\n",
       "      <th>2024-10-20</th>\n",
       "      <td>0.000000</td>\n",
       "      <td>0.000000</td>\n",
       "      <td>0.0</td>\n",
       "      <td>0.000000</td>\n",
       "      <td>0.0</td>\n",
       "      <td>0.0</td>\n",
       "      <td>0.0</td>\n",
       "      <td>0.0</td>\n",
       "      <td>0.0</td>\n",
       "      <td>0.0</td>\n",
       "      <td>...</td>\n",
       "      <td>0.509334</td>\n",
       "      <td>0.0</td>\n",
       "      <td>0.0</td>\n",
       "      <td>0.0</td>\n",
       "      <td>0.0</td>\n",
       "      <td>0.0</td>\n",
       "      <td>0.000000</td>\n",
       "      <td>0.0</td>\n",
       "      <td>0.000000</td>\n",
       "      <td>0.087116</td>\n",
       "    </tr>\n",
       "    <tr>\n",
       "      <th>2024-11-03</th>\n",
       "      <td>0.000000</td>\n",
       "      <td>0.000000</td>\n",
       "      <td>0.0</td>\n",
       "      <td>0.000000</td>\n",
       "      <td>0.0</td>\n",
       "      <td>0.0</td>\n",
       "      <td>0.0</td>\n",
       "      <td>0.0</td>\n",
       "      <td>0.0</td>\n",
       "      <td>0.0</td>\n",
       "      <td>...</td>\n",
       "      <td>0.871156</td>\n",
       "      <td>0.0</td>\n",
       "      <td>0.0</td>\n",
       "      <td>0.0</td>\n",
       "      <td>0.0</td>\n",
       "      <td>0.0</td>\n",
       "      <td>0.000000</td>\n",
       "      <td>0.0</td>\n",
       "      <td>0.000000</td>\n",
       "      <td>0.000000</td>\n",
       "    </tr>\n",
       "    <tr>\n",
       "      <th>2024-11-09</th>\n",
       "      <td>0.000000</td>\n",
       "      <td>0.503508</td>\n",
       "      <td>0.0</td>\n",
       "      <td>0.000000</td>\n",
       "      <td>0.0</td>\n",
       "      <td>0.0</td>\n",
       "      <td>0.0</td>\n",
       "      <td>0.0</td>\n",
       "      <td>0.0</td>\n",
       "      <td>0.0</td>\n",
       "      <td>...</td>\n",
       "      <td>0.000000</td>\n",
       "      <td>0.0</td>\n",
       "      <td>0.0</td>\n",
       "      <td>0.0</td>\n",
       "      <td>0.0</td>\n",
       "      <td>0.0</td>\n",
       "      <td>0.000000</td>\n",
       "      <td>0.0</td>\n",
       "      <td>0.000000</td>\n",
       "      <td>0.000000</td>\n",
       "    </tr>\n",
       "  </tbody>\n",
       "</table>\n",
       "<p>7 rows × 63 columns</p>\n",
       "</div>"
      ],
      "text/plain": [
       "            AAVEUSDT   ADAUSDT  ALGOUSDT   APEUSDT  APTUSDT  ARBUSDT  ARUSDT  \\\n",
       "2024-08-25  0.085923  0.008730       0.0  0.000000      0.0      0.0     0.0   \n",
       "2024-09-08  0.000000  0.000000       0.0  0.968716      0.0      0.0     0.0   \n",
       "2024-09-22  0.031754  0.000000       0.0  0.000000      0.0      0.0     0.0   \n",
       "2024-10-06  0.000000  0.000000       0.0  0.000000      0.0      0.0     0.0   \n",
       "2024-10-20  0.000000  0.000000       0.0  0.000000      0.0      0.0     0.0   \n",
       "2024-11-03  0.000000  0.000000       0.0  0.000000      0.0      0.0     0.0   \n",
       "2024-11-09  0.000000  0.503508       0.0  0.000000      0.0      0.0     0.0   \n",
       "\n",
       "            ATOMUSDT  AVAXUSDT  AXSUSDT  ...   TRXUSDT  UNIUSDT  USDCUSDT  \\\n",
       "2024-08-25       0.0       0.0      0.0  ...  0.391232      0.0       0.0   \n",
       "2024-09-08       0.0       0.0      0.0  ...  0.000000      0.0       0.0   \n",
       "2024-09-22       0.0       0.0      0.0  ...  0.000000      0.0       0.0   \n",
       "2024-10-06       0.0       0.0      0.0  ...  0.303652      0.0       0.0   \n",
       "2024-10-20       0.0       0.0      0.0  ...  0.509334      0.0       0.0   \n",
       "2024-11-03       0.0       0.0      0.0  ...  0.871156      0.0       0.0   \n",
       "2024-11-09       0.0       0.0      0.0  ...  0.000000      0.0       0.0   \n",
       "\n",
       "            VETUSDT  WBETHUSDT  WBTCUSDT   WLDUSDT  XLMUSDT   XRPUSDT  \\\n",
       "2024-08-25      0.0        0.0       0.0  0.000000      0.0  0.000000   \n",
       "2024-09-08      0.0        0.0       0.0  0.000000      0.0  0.000000   \n",
       "2024-09-22      0.0        0.0       0.0  0.000000      0.0  0.044207   \n",
       "2024-10-06      0.0        0.0       0.0  0.063764      0.0  0.000000   \n",
       "2024-10-20      0.0        0.0       0.0  0.000000      0.0  0.000000   \n",
       "2024-11-03      0.0        0.0       0.0  0.000000      0.0  0.000000   \n",
       "2024-11-09      0.0        0.0       0.0  0.000000      0.0  0.000000   \n",
       "\n",
       "             ZECUSDT  \n",
       "2024-08-25  0.000000  \n",
       "2024-09-08  0.000000  \n",
       "2024-09-22  0.000000  \n",
       "2024-10-06  0.000000  \n",
       "2024-10-20  0.087116  \n",
       "2024-11-03  0.000000  \n",
       "2024-11-09  0.000000  \n",
       "\n",
       "[7 rows x 63 columns]"
      ]
     },
     "execution_count": 99,
     "metadata": {},
     "output_type": "execute_result"
    }
   ],
   "source": [
    "results={}\n",
    "window=14\n",
    "days=90\n",
    "limit=np.where(returns_to_use.columns=='USDCUSDT')[0][0]\n",
    "\n",
    "for i in range(0,returns_to_use.shape[0]-window+1,window):\n",
    "    \n",
    "    try:\n",
    "        dataset=returns_to_use.iloc[-days:].iloc[i:i+window]\n",
    "        risk=RiskAnalysis(dataset)\n",
    "        date=dataset.index[-1]\n",
    "        optimal=risk.optimize(objective='sharpe_ratio',constraints=[{'type': 'eq', 'fun': lambda weights: weights[limit]-0.0}])\n",
    "        results[date]=np.round(optimal,6)\n",
    "        \n",
    "    except Exception as e:\n",
    "        \n",
    "            pass\n",
    "\n",
    "rolling_optimization=pd.DataFrame(results,index=returns_to_use.columns).T\n",
    "rolling_optimization"
   ]
  },
  {
   "cell_type": "code",
   "execution_count": 100,
   "id": "e211929c-6a1c-4c48-ada3-529d861494f8",
   "metadata": {},
   "outputs": [
    {
     "data": {
      "text/plain": [
       "TRXUSDT     0.509334\n",
       "DOGEUSDT    0.183004\n",
       "OMUSDT      0.089291\n",
       "ZECUSDT     0.087116\n",
       "LTCUSDT     0.075624\n",
       "              ...   \n",
       "GRTUSDT     0.000000\n",
       "HBARUSDT    0.000000\n",
       "ICPUSDT     0.000000\n",
       "IMXUSDT     0.000000\n",
       "INJUSDT     0.000000\n",
       "Name: 2024-10-20 00:00:00, Length: 63, dtype: float64"
      ]
     },
     "execution_count": 100,
     "metadata": {},
     "output_type": "execute_result"
    }
   ],
   "source": [
    "rolling_optimization.iloc[-3].sort_values(ascending=False)"
   ]
  },
  {
   "cell_type": "code",
   "execution_count": 101,
   "id": "79b3f40c-0dd8-44b5-8189-4b0ec0777094",
   "metadata": {},
   "outputs": [
    {
     "data": {
      "text/plain": [
       "<AxesSubplot:>"
      ]
     },
     "execution_count": 101,
     "metadata": {},
     "output_type": "execute_result"
    },
    {
     "data": {
      "image/png": "[encoded data removed]",
      "text/plain": [
       "<Figure size 432x288 with 1 Axes>"
      ]
     },
     "metadata": {
      "needs_background": "light"
     },
     "output_type": "display_data"
    }
   ],
   "source": [
    "(1+returns_to_use['SUIUSDT']).cumprod().plot()"
   ]
  },
  {
   "cell_type": "code",
   "execution_count": null,
   "id": "1a30db63-ab8a-4990-ba96-4fe3d99a767d",
   "metadata": {},
   "outputs": [],
   "source": []
  },
  {
   "cell_type": "code",
   "execution_count": null,
   "id": "5b74225d-e0c3-4649-ba23-0c9e47fb1697",
   "metadata": {},
   "outputs": [],
   "source": []
  }
 ],
 "metadata": {
  "kernelspec": {
   "display_name": "Python 3 (ipykernel)",
   "language": "python",
   "name": "python3"
  },
  "language_info": {
   "codemirror_mode": {
    "name": "ipython",
    "version": 3
   },
   "file_extension": ".py",
   "mimetype": "text/x-python",
   "name": "python",
   "nbconvert_exporter": "python",
   "pygments_lexer": "ipython3",
   "version": "3.9.12"
  }
 },
 "nbformat": 4,
 "nbformat_minor": 5
}
