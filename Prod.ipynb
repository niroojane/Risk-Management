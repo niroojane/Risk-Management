{
 "cells": [
  {
   "cell_type": "markdown",
   "id": "b37f1921-36ab-4456-9e86-117c39f91bc4",
   "metadata": {},
   "source": [
    "# Importing Libraries"
   ]
  },
  {
   "cell_type": "code",
   "execution_count": 18,
   "id": "1955d1de-ae34-4125-91ad-53073b1837d5",
   "metadata": {},
   "outputs": [],
   "source": [
    "import pandas as pd\n",
    "import random\n",
    "import numpy as np\n",
    "import matplotlib.pyplot as plt\n",
    "import datetime"
   ]
  },
  {
   "cell_type": "code",
   "execution_count": 19,
   "id": "917dd650-def2-4d10-89d9-ca82b6a3704f",
   "metadata": {},
   "outputs": [],
   "source": [
    "%run \"Stock Data.ipynb\".ipynb\n",
    "%run \"Binance API.ipynb\".ipynb\n",
    "%run \"RiskMetrics.ipynb\".ipynb"
   ]
  },
  {
   "cell_type": "markdown",
   "id": "01a00d22-d2b2-4f90-97d6-a7a3f8ef242f",
   "metadata": {},
   "source": [
    "# Importing Data"
   ]
  },
  {
   "cell_type": "markdown",
   "id": "0af29f5a-4c7d-44b2-8ecc-6d859cdc6983",
   "metadata": {},
   "source": [
    "## Tickers"
   ]
  },
  {
   "cell_type": "code",
   "execution_count": 20,
   "id": "306574f4-a153-47cd-a4b3-e293d9e9889f",
   "metadata": {},
   "outputs": [],
   "source": [
    "binance_api_key='E90xR7UnO2oeP3lrgC50zkqUuAqyyXs4uSlAGcqIVO9n90ELrFI4gfVI2HGGxxCj'\n",
    "binance_api_secret='Inls2xYl9FqPi0zlIrucfxG81drx7w6Pv6SzYFxMNoAcwDjlCKug7zUM9zB3lF9h'\n",
    "Binance=BinanceAPI(binance_api_key,binance_api_secret)"
   ]
  },
  {
   "cell_type": "code",
   "execution_count": 21,
   "id": "0f1c0e61-395a-407c-9aef-80d5011e56b5",
   "metadata": {},
   "outputs": [],
   "source": [
    "#stocks=pd.read_html('https://en.wikipedia.org/wiki/EURO_STOXX_50')[4]\n",
    "#tickers=stocks['Ticker'].to_list()"
   ]
  },
  {
   "cell_type": "markdown",
   "id": "c33884b2-73bc-4e92-8c5b-09559b34051d",
   "metadata": {},
   "source": [
    "## Market Data"
   ]
  },
  {
   "cell_type": "code",
   "execution_count": 22,
   "id": "f7d23762-54f8-4693-a00a-63d008fe97d2",
   "metadata": {},
   "outputs": [],
   "source": [
    "start_date=datetime.datetime(2023,12,1)\n",
    "enddate=start_date+datetime.timedelta(500)"
   ]
  },
  {
   "cell_type": "code",
   "execution_count": 23,
   "id": "bb6db6d9-4595-4d8f-aa48-bbf2ac3e9c89",
   "metadata": {},
   "outputs": [],
   "source": [
    "tickers=Binance.get_market_cap()['Ticker'].iloc[:75].to_list()\n",
    "holding=Binance.get_inventory()\n",
    "condition=holding.index!='Total'\n",
    "holding_tickers=holding.index[condition]\n",
    "holding_tickers=holding_tickers.to_list()\n",
    "tickers=sorted(list(set(tickers+holding_tickers)))"
   ]
  },
  {
   "cell_type": "code",
   "execution_count": 24,
   "id": "02b13058-bb72-491c-b1c4-107367b2d402",
   "metadata": {},
   "outputs": [],
   "source": [
    "data1=Binance.get_price(tickers,start_date)\n",
    "data2=Binance.get_price(tickers,enddate)\n",
    "data=data1.combine_first(data2)\n",
    "data.index=pd.to_datetime(data.index)\n",
    "#data=data.dropna(axis=1)\n",
    "n=len(data.columns)"
   ]
  },
  {
   "cell_type": "code",
   "execution_count": 25,
   "id": "818f9d29-985f-4042-8bb7-11e0d5c3b3d0",
   "metadata": {},
   "outputs": [
    {
     "data": {
      "text/plain": [
       "1.0"
      ]
     },
     "execution_count": 25,
     "metadata": {},
     "output_type": "execute_result"
    }
   ],
   "source": [
    "inventory_weights=(holding['Weights in %'].apply(lambda x: np.round(x,2))).to_dict()\n",
    "inventory_weights.pop('Total')"
   ]
  },
  {
   "cell_type": "code",
   "execution_count": 26,
   "id": "f12eea91-8e16-438a-8418-e9a00c684c51",
   "metadata": {},
   "outputs": [],
   "source": [
    "returns=np.log(1+data.pct_change())\n",
    "returns.index=pd.to_datetime(returns.index)\n",
    "with_no_na=returns.columns[np.where((returns.isna().sum()<30))]\n",
    "returns_to_use=returns[with_no_na]\n",
    "ex_ante_perf=returns[holding_tickers]\n",
    "ex_ante_perf_to_use=ex_ante_perf.dropna()"
   ]
  },
  {
   "cell_type": "code",
   "execution_count": 27,
   "id": "c02ab432-6fac-4d8a-9744-c41d0fc2977c",
   "metadata": {},
   "outputs": [],
   "source": [
    "weights_post=dict()\n",
    "\n",
    "for col in ex_ante_perf.columns:\n",
    "    \n",
    "    if col in inventory_weights.keys():\n",
    "        weights_post[col]=inventory_weights[col]\n",
    "        \n",
    "    else:\n",
    "        weights_post[col]=0\n",
    "    \n",
    "current_weights=np.array(list(weights_post.values()))\n",
    "current_weights=np.round(current_weights,2)/np.sum(np.round(current_weights,2))"
   ]
  },
  {
   "cell_type": "markdown",
   "id": "b140110e-5f33-465c-8e5c-0fc7a645c27d",
   "metadata": {},
   "source": [
    "### Positions"
   ]
  },
  {
   "cell_type": "code",
   "execution_count": 28,
   "id": "17c5e377-a1f1-4dd7-9b69-19903c2e4954",
   "metadata": {},
   "outputs": [],
   "source": [
    "position=pd.read_excel('Positions.xlsx',index_col=0)"
   ]
  },
  {
   "cell_type": "code",
   "execution_count": 29,
   "id": "172a228f-9ac2-4b80-b39d-6305026e0ccd",
   "metadata": {},
   "outputs": [
    {
     "name": "stdout",
     "output_type": "stream",
     "text": [
      "2024-05-05 00:00:00\n",
      "2024-06-04 00:00:00\n",
      "2024-07-04 00:00:00\n",
      "LDUMAUSDT not retrieved\n",
      "LDUMAUSDT\n"
     ]
    }
   ],
   "source": [
    "positions=Binance.get_positions_history(enddate=datetime.datetime.today()-datetime.timedelta(1),\n",
    "                                        startdate=datetime.datetime(2024,5,5))\n",
    "positions=positions.iloc[:-1]"
   ]
  },
  {
   "cell_type": "code",
   "execution_count": 30,
   "id": "03081ace-41ae-4cc6-8637-36472b4b01a2",
   "metadata": {},
   "outputs": [],
   "source": [
    "positions=positions.sort_index()"
   ]
  },
  {
   "cell_type": "code",
   "execution_count": 31,
   "id": "7f9be1e5-f3e5-4ed6-9408-3a83a3996f73",
   "metadata": {},
   "outputs": [],
   "source": [
    "positions.index=pd.to_datetime(positions.index)"
   ]
  },
  {
   "cell_type": "code",
   "execution_count": 32,
   "id": "5db198b6-761e-42a8-93ae-c9526af6675a",
   "metadata": {},
   "outputs": [],
   "source": [
    "positions=pd.concat([position,positions])\n",
    "positions=positions.loc[~positions.index.duplicated(),:]"
   ]
  },
  {
   "cell_type": "code",
   "execution_count": 33,
   "id": "d132307b-1159-4eaf-9269-a563b817d441",
   "metadata": {},
   "outputs": [],
   "source": [
    "positions.to_excel('Positions.xlsx')"
   ]
  },
  {
   "cell_type": "code",
   "execution_count": 34,
   "id": "20d983c8-bf69-4938-986c-1685b2596a89",
   "metadata": {},
   "outputs": [],
   "source": [
    "positions['Total']=positions.sum(axis=1)\n",
    "weights_ex_post=positions.copy()\n",
    "weights_ex_post=weights_ex_post.apply(lambda x: x/weights_ex_post['Total']).fillna(0)"
   ]
  },
  {
   "cell_type": "code",
   "execution_count": 35,
   "id": "1c983175-a50a-44e3-85a8-dca6216f7e7f",
   "metadata": {},
   "outputs": [
    {
     "name": "stdout",
     "output_type": "stream",
     "text": [
      "LDUMAUSDT not retrieved\n",
      "Total not retrieved\n"
     ]
    }
   ],
   "source": [
    "binance_data=Binance.get_price(positions.columns,date=datetime.datetime(2024,5,11))\n",
    "binance_data.index=pd.to_datetime(binance_data.index)\n",
    "binance_data=np.log(1+binance_data.pct_change())"
   ]
  },
  {
   "cell_type": "code",
   "execution_count": 36,
   "id": "949f8d38-10b1-4b83-b64a-469845663a72",
   "metadata": {},
   "outputs": [],
   "source": [
    "historical_ptf=pd.DataFrame()"
   ]
  },
  {
   "cell_type": "code",
   "execution_count": 37,
   "id": "592b4d05-237b-4de7-af99-fda08f8a0b80",
   "metadata": {},
   "outputs": [],
   "source": [
    "for col in binance_data:\n",
    "    historical_ptf[col]=weights_ex_post[col]*binance_data[col]\n",
    "    \n",
    "historical_ptf['Historical Portfolio']=historical_ptf.sum(axis=1)"
   ]
  },
  {
   "cell_type": "code",
   "execution_count": 38,
   "id": "c58b1420-5345-4feb-af42-6f019cfdf19c",
   "metadata": {},
   "outputs": [
    {
     "data": {
      "text/plain": [
       "<AxesSubplot:>"
      ]
     },
     "execution_count": 38,
     "metadata": {},
     "output_type": "execute_result"
    },
    {
     "data": {
      "image/png": "[encoded data removed]",
      "text/plain": [
       "<Figure size 432x288 with 1 Axes>"
      ]
     },
     "metadata": {
      "needs_background": "light"
     },
     "output_type": "display_data"
    }
   ],
   "source": [
    "historical_ptf.dropna(axis = 0, how = 'all', inplace = True)\n",
    "(1+historical_ptf['Historical Portfolio']).cumprod().plot()"
   ]
  },
  {
   "cell_type": "markdown",
   "id": "234cc405-16b8-4ea6-89f9-bf448d837670",
   "metadata": {},
   "source": [
    "### Ex ante data"
   ]
  },
  {
   "cell_type": "code",
   "execution_count": 39,
   "id": "7ee292e8-f6bc-4ef9-b8b0-e15e2be17781",
   "metadata": {},
   "outputs": [],
   "source": [
    "ex_ante_ptf=ex_ante_perf.copy()\n",
    "\n",
    "for key in inventory_weights.keys():\n",
    "    \n",
    "    ex_ante_ptf[key]=ex_ante_perf[key]*inventory_weights[key]\n",
    "\n",
    "ex_ante_ptf=pd.DataFrame(ex_ante_ptf.sum(axis=1))"
   ]
  },
  {
   "cell_type": "markdown",
   "id": "bbec8b12-d681-4704-a561-9718fbb872e0",
   "metadata": {},
   "source": [
    "# Portfolio Optimization"
   ]
  },
  {
   "cell_type": "code",
   "execution_count": 40,
   "id": "67b021a8-8d38-4f77-b8ab-d43a21d69c4e",
   "metadata": {},
   "outputs": [],
   "source": [
    "historical_risk=RiskAnalysis(returns_to_use)\n",
    "current_risk=RiskAnalysis(ex_ante_perf_to_use)\n",
    "num_asset=len(returns_to_use.columns)\n",
    "num_asset_current=len(ex_ante_perf_to_use.columns)"
   ]
  },
  {
   "cell_type": "code",
   "execution_count": 41,
   "id": "f55211bf-ba25-4066-a0d2-6cf0ef658786",
   "metadata": {},
   "outputs": [
    {
     "data": {
      "text/plain": [
       "Index(['AAVEUSDT', 'ADAUSDT', 'ALGOUSDT', 'APTUSDT', 'ARBUSDT', 'ARUSDT',\n",
       "       'ATOMUSDT', 'AVAXUSDT', 'AXSUSDT', 'BCHUSDT', 'BNBUSDT', 'BONKUSDT',\n",
       "       'BTCUSDT', 'CFXUSDT', 'DOGEUSDT', 'DOTUSDT', 'DYDXUSDT', 'EGLDUSDT',\n",
       "       'ENSUSDT', 'EOSUSDT', 'ETCUSDT', 'ETHUSDT', 'FDUSDUSDT', 'FETUSDT',\n",
       "       'FILUSDT', 'FLOKIUSDT', 'FLOWUSDT', 'FTMUSDT', 'GALAUSDT', 'GRTUSDT',\n",
       "       'HBARUSDT', 'ICPUSDT', 'IMXUSDT', 'INJUSDT', 'JASMYUSDT', 'LDOUSDT',\n",
       "       'LINKUSDT', 'LTCUSDT', 'MATICUSDT', 'MKRUSDT', 'NEARUSDT', 'NEOUSDT',\n",
       "       'NEXOUSDT', 'OMUSDT', 'OPUSDT', 'ORDIUSDT', 'PEPEUSDT', 'QNTUSDT',\n",
       "       'RUNEUSDT', 'SANDUSDT', 'SEIUSDT', 'SHIBUSDT', 'SOLUSDT', 'STXUSDT',\n",
       "       'SUIUSDT', 'THETAUSDT', 'TIAUSDT', 'TRXUSDT', 'UNIUSDT', 'USDCUSDT',\n",
       "       'VETUSDT', 'WBETHUSDT', 'WBTCUSDT', 'XECUSDT', 'XLMUSDT', 'XRPUSDT',\n",
       "       'XTZUSDT'],\n",
       "      dtype='object')"
      ]
     },
     "execution_count": 41,
     "metadata": {},
     "output_type": "execute_result"
    }
   ],
   "source": [
    "returns_to_use.columns"
   ]
  },
  {
   "cell_type": "code",
   "execution_count": 42,
   "id": "eb382de7-0a0b-47f9-83a4-777aef62e9a6",
   "metadata": {},
   "outputs": [
    {
     "data": {
      "text/plain": [
       "(12, 21, 52)"
      ]
     },
     "execution_count": 42,
     "metadata": {},
     "output_type": "execute_result"
    }
   ],
   "source": [
    "np.where(returns_to_use.columns=='BTCUSDT')[0][0],np.where(returns_to_use.columns=='ETHUSDT')[0][0],np.where(returns_to_use.columns=='SOLUSDT')[0][0]"
   ]
  },
  {
   "cell_type": "markdown",
   "id": "fd2fa57d-de01-4917-8d08-d33930572316",
   "metadata": {},
   "source": [
    "## Optimal Portfolio"
   ]
  },
  {
   "cell_type": "code",
   "execution_count": 43,
   "id": "cc28c771-0d6b-4cda-abc5-865518922520",
   "metadata": {},
   "outputs": [
    {
     "data": {
      "text/html": [
       "<div>\n",
       "<style scoped>\n",
       "    .dataframe tbody tr th:only-of-type {\n",
       "        vertical-align: middle;\n",
       "    }\n",
       "\n",
       "    .dataframe tbody tr th {\n",
       "        vertical-align: top;\n",
       "    }\n",
       "\n",
       "    .dataframe thead th {\n",
       "        text-align: right;\n",
       "    }\n",
       "</style>\n",
       "<table border=\"1\" class=\"dataframe\">\n",
       "  <thead>\n",
       "    <tr style=\"text-align: right;\">\n",
       "      <th></th>\n",
       "      <th>Weights</th>\n",
       "    </tr>\n",
       "  </thead>\n",
       "  <tbody>\n",
       "    <tr>\n",
       "      <th>BTCUSDT</th>\n",
       "      <td>0.400000</td>\n",
       "    </tr>\n",
       "    <tr>\n",
       "      <th>OMUSDT</th>\n",
       "      <td>0.387352</td>\n",
       "    </tr>\n",
       "    <tr>\n",
       "      <th>PEPEUSDT</th>\n",
       "      <td>0.093290</td>\n",
       "    </tr>\n",
       "    <tr>\n",
       "      <th>BNBUSDT</th>\n",
       "      <td>0.063967</td>\n",
       "    </tr>\n",
       "    <tr>\n",
       "      <th>JASMYUSDT</th>\n",
       "      <td>0.055391</td>\n",
       "    </tr>\n",
       "  </tbody>\n",
       "</table>\n",
       "</div>"
      ],
      "text/plain": [
       "            Weights\n",
       "BTCUSDT    0.400000\n",
       "OMUSDT     0.387352\n",
       "PEPEUSDT   0.093290\n",
       "BNBUSDT    0.063967\n",
       "JASMYUSDT  0.055391"
      ]
     },
     "execution_count": 43,
     "metadata": {},
     "output_type": "execute_result"
    }
   ],
   "source": [
    "opt_weights=historical_risk.optimize(objective=\"sharpe_ratio\",constraints=[{'type': 'ineq', 'fun': lambda weights: weights[12]-0.40}])\n",
    "                                                           #,{'type': 'ineq', 'fun': lambda weights: weights[21]-0.15},\n",
    "                                                            #{'type': 'ineq', 'fun': lambda weights: weights[52]-0.15}])\n",
    "opt_weights=np.round(opt_weights,6)\n",
    "inventory=historical_risk.inventory(opt_weights)\n",
    "inventory"
   ]
  },
  {
   "cell_type": "code",
   "execution_count": 44,
   "id": "81a3f562-6810-4e1b-91d1-a7282a3ff347",
   "metadata": {},
   "outputs": [
    {
     "data": {
      "text/plain": [
       "(0, 4, 3)"
      ]
     },
     "execution_count": 44,
     "metadata": {},
     "output_type": "execute_result"
    }
   ],
   "source": [
    "np.where(ex_ante_perf_to_use.columns=='BTCUSDT')[0][0],np.where(ex_ante_perf_to_use.columns=='ETHUSDT')[0][0],np.where(ex_ante_perf_to_use.columns=='SOLUSDT')[0][0]"
   ]
  },
  {
   "cell_type": "code",
   "execution_count": 45,
   "id": "75be66f1-0ad0-41c8-8807-16e73d711edf",
   "metadata": {},
   "outputs": [
    {
     "data": {
      "text/html": [
       "<div>\n",
       "<style scoped>\n",
       "    .dataframe tbody tr th:only-of-type {\n",
       "        vertical-align: middle;\n",
       "    }\n",
       "\n",
       "    .dataframe tbody tr th {\n",
       "        vertical-align: top;\n",
       "    }\n",
       "\n",
       "    .dataframe thead th {\n",
       "        text-align: right;\n",
       "    }\n",
       "</style>\n",
       "<table border=\"1\" class=\"dataframe\">\n",
       "  <thead>\n",
       "    <tr style=\"text-align: right;\">\n",
       "      <th></th>\n",
       "      <th>Weights</th>\n",
       "    </tr>\n",
       "  </thead>\n",
       "  <tbody>\n",
       "    <tr>\n",
       "      <th>OMUSDT</th>\n",
       "      <td>0.596798</td>\n",
       "    </tr>\n",
       "    <tr>\n",
       "      <th>BTCUSDT</th>\n",
       "      <td>0.400000</td>\n",
       "    </tr>\n",
       "    <tr>\n",
       "      <th>JASMYUSDT</th>\n",
       "      <td>0.003202</td>\n",
       "    </tr>\n",
       "  </tbody>\n",
       "</table>\n",
       "</div>"
      ],
      "text/plain": [
       "            Weights\n",
       "OMUSDT     0.596798\n",
       "BTCUSDT    0.400000\n",
       "JASMYUSDT  0.003202"
      ]
     },
     "execution_count": 45,
     "metadata": {},
     "output_type": "execute_result"
    }
   ],
   "source": [
    "current_optimal_weights=current_risk.optimize(objective=\"sharpe_ratio\",constraints=[{'type': 'ineq', 'fun': lambda weights: weights[0]-0.40}])#,\n",
    "                                                           #{'type': 'ineq', 'fun': lambda weights: weights[3]-0.15},\n",
    "                                                            #{'type': 'ineq', 'fun': lambda weights: weights[4]-0.15}])\n",
    "current_optimal_weights=np.round(current_optimal_weights,6)\n",
    "optimal_ptf_current=current_risk.inventory(current_optimal_weights)\n",
    "optimal_ptf_current"
   ]
  },
  {
   "cell_type": "markdown",
   "id": "555e4cdf-3f8d-445a-b5d7-e35eb59aa4b2",
   "metadata": {},
   "source": [
    "## Real Portfolio vs Optimal"
   ]
  },
  {
   "cell_type": "code",
   "execution_count": 46,
   "id": "1f55a04d-3575-446a-a801-7824e452dd57",
   "metadata": {},
   "outputs": [
    {
     "data": {
      "text/html": [
       "<div>\n",
       "<style scoped>\n",
       "    .dataframe tbody tr th:only-of-type {\n",
       "        vertical-align: middle;\n",
       "    }\n",
       "\n",
       "    .dataframe tbody tr th {\n",
       "        vertical-align: top;\n",
       "    }\n",
       "\n",
       "    .dataframe thead th {\n",
       "        text-align: right;\n",
       "    }\n",
       "</style>\n",
       "<table border=\"1\" class=\"dataframe\">\n",
       "  <thead>\n",
       "    <tr style=\"text-align: right;\">\n",
       "      <th></th>\n",
       "      <th>Price in USDT</th>\n",
       "      <th>Weights in %</th>\n",
       "      <th>Weights</th>\n",
       "      <th>Spread</th>\n",
       "    </tr>\n",
       "  </thead>\n",
       "  <tbody>\n",
       "    <tr>\n",
       "      <th>BTCUSDT</th>\n",
       "      <td>703.814899</td>\n",
       "      <td>3.270752e-01</td>\n",
       "      <td>0.400000</td>\n",
       "      <td>-0.072925</td>\n",
       "    </tr>\n",
       "    <tr>\n",
       "      <th>JASMYUSDT</th>\n",
       "      <td>348.990361</td>\n",
       "      <td>1.621820e-01</td>\n",
       "      <td>0.003202</td>\n",
       "      <td>0.158980</td>\n",
       "    </tr>\n",
       "    <tr>\n",
       "      <th>OMUSDT</th>\n",
       "      <td>263.491379</td>\n",
       "      <td>1.224491e-01</td>\n",
       "      <td>0.596798</td>\n",
       "      <td>-0.474349</td>\n",
       "    </tr>\n",
       "    <tr>\n",
       "      <th>SOLUSDT</th>\n",
       "      <td>254.097755</td>\n",
       "      <td>1.180837e-01</td>\n",
       "      <td>0.000000</td>\n",
       "      <td>0.000000</td>\n",
       "    </tr>\n",
       "    <tr>\n",
       "      <th>ETHUSDT</th>\n",
       "      <td>240.554146</td>\n",
       "      <td>1.117897e-01</td>\n",
       "      <td>0.000000</td>\n",
       "      <td>0.000000</td>\n",
       "    </tr>\n",
       "    <tr>\n",
       "      <th>BBUSDT</th>\n",
       "      <td>134.708404</td>\n",
       "      <td>6.260137e-02</td>\n",
       "      <td>0.000000</td>\n",
       "      <td>0.000000</td>\n",
       "    </tr>\n",
       "    <tr>\n",
       "      <th>MKRUSDT</th>\n",
       "      <td>126.253735</td>\n",
       "      <td>5.867233e-02</td>\n",
       "      <td>0.000000</td>\n",
       "      <td>0.000000</td>\n",
       "    </tr>\n",
       "    <tr>\n",
       "      <th>BNBUSDT</th>\n",
       "      <td>59.045763</td>\n",
       "      <td>2.743961e-02</td>\n",
       "      <td>0.000000</td>\n",
       "      <td>0.000000</td>\n",
       "    </tr>\n",
       "    <tr>\n",
       "      <th>TRXUSDT</th>\n",
       "      <td>20.887996</td>\n",
       "      <td>9.707019e-03</td>\n",
       "      <td>0.000000</td>\n",
       "      <td>0.000000</td>\n",
       "    </tr>\n",
       "    <tr>\n",
       "      <th>PEPEUSDT</th>\n",
       "      <td>0.000003</td>\n",
       "      <td>1.375192e-09</td>\n",
       "      <td>0.000000</td>\n",
       "      <td>0.000000</td>\n",
       "    </tr>\n",
       "  </tbody>\n",
       "</table>\n",
       "</div>"
      ],
      "text/plain": [
       "           Price in USDT  Weights in %   Weights    Spread\n",
       "BTCUSDT       703.814899  3.270752e-01  0.400000 -0.072925\n",
       "JASMYUSDT     348.990361  1.621820e-01  0.003202  0.158980\n",
       "OMUSDT        263.491379  1.224491e-01  0.596798 -0.474349\n",
       "SOLUSDT       254.097755  1.180837e-01  0.000000  0.000000\n",
       "ETHUSDT       240.554146  1.117897e-01  0.000000  0.000000\n",
       "BBUSDT        134.708404  6.260137e-02  0.000000  0.000000\n",
       "MKRUSDT       126.253735  5.867233e-02  0.000000  0.000000\n",
       "BNBUSDT        59.045763  2.743961e-02  0.000000  0.000000\n",
       "TRXUSDT        20.887996  9.707019e-03  0.000000  0.000000\n",
       "PEPEUSDT        0.000003  1.375192e-09  0.000000  0.000000"
      ]
     },
     "execution_count": 46,
     "metadata": {},
     "output_type": "execute_result"
    }
   ],
   "source": [
    "current_holding_comparison=holding.copy()\n",
    "current_holding_comparison=current_holding_comparison.loc[current_holding_comparison.index!=\"Total\"]\n",
    "current_holding_comparison=pd.concat([current_holding_comparison,optimal_ptf_current],axis=1)\n",
    "current_holding_comparison['Spread']=current_holding_comparison['Weights in %']-current_holding_comparison['Weights']\n",
    "current_holding_comparison=current_holding_comparison.fillna(0)\n",
    "current_holding_comparison"
   ]
  },
  {
   "cell_type": "code",
   "execution_count": 47,
   "id": "c02b695b-bfaa-4eef-9212-e0b2717db2a0",
   "metadata": {},
   "outputs": [
    {
     "data": {
      "text/html": [
       "<div>\n",
       "<style scoped>\n",
       "    .dataframe tbody tr th:only-of-type {\n",
       "        vertical-align: middle;\n",
       "    }\n",
       "\n",
       "    .dataframe tbody tr th {\n",
       "        vertical-align: top;\n",
       "    }\n",
       "\n",
       "    .dataframe thead th {\n",
       "        text-align: right;\n",
       "    }\n",
       "</style>\n",
       "<table border=\"1\" class=\"dataframe\">\n",
       "  <thead>\n",
       "    <tr style=\"text-align: right;\">\n",
       "      <th></th>\n",
       "      <th>Price in USDT</th>\n",
       "      <th>Weights in %</th>\n",
       "      <th>Weights</th>\n",
       "      <th>Spread</th>\n",
       "    </tr>\n",
       "  </thead>\n",
       "  <tbody>\n",
       "    <tr>\n",
       "      <th>BTCUSDT</th>\n",
       "      <td>703.814899</td>\n",
       "      <td>3.270752e-01</td>\n",
       "      <td>0.400000</td>\n",
       "      <td>-0.072925</td>\n",
       "    </tr>\n",
       "    <tr>\n",
       "      <th>JASMYUSDT</th>\n",
       "      <td>348.990361</td>\n",
       "      <td>1.621820e-01</td>\n",
       "      <td>0.055391</td>\n",
       "      <td>0.106791</td>\n",
       "    </tr>\n",
       "    <tr>\n",
       "      <th>OMUSDT</th>\n",
       "      <td>263.491379</td>\n",
       "      <td>1.224491e-01</td>\n",
       "      <td>0.387352</td>\n",
       "      <td>-0.264903</td>\n",
       "    </tr>\n",
       "    <tr>\n",
       "      <th>SOLUSDT</th>\n",
       "      <td>254.097755</td>\n",
       "      <td>1.180837e-01</td>\n",
       "      <td>0.000000</td>\n",
       "      <td>0.000000</td>\n",
       "    </tr>\n",
       "    <tr>\n",
       "      <th>ETHUSDT</th>\n",
       "      <td>240.554146</td>\n",
       "      <td>1.117897e-01</td>\n",
       "      <td>0.000000</td>\n",
       "      <td>0.000000</td>\n",
       "    </tr>\n",
       "    <tr>\n",
       "      <th>BBUSDT</th>\n",
       "      <td>134.708404</td>\n",
       "      <td>6.260137e-02</td>\n",
       "      <td>0.000000</td>\n",
       "      <td>0.000000</td>\n",
       "    </tr>\n",
       "    <tr>\n",
       "      <th>MKRUSDT</th>\n",
       "      <td>126.253735</td>\n",
       "      <td>5.867233e-02</td>\n",
       "      <td>0.000000</td>\n",
       "      <td>0.000000</td>\n",
       "    </tr>\n",
       "    <tr>\n",
       "      <th>BNBUSDT</th>\n",
       "      <td>59.045763</td>\n",
       "      <td>2.743961e-02</td>\n",
       "      <td>0.063967</td>\n",
       "      <td>-0.036527</td>\n",
       "    </tr>\n",
       "    <tr>\n",
       "      <th>TRXUSDT</th>\n",
       "      <td>20.887996</td>\n",
       "      <td>9.707019e-03</td>\n",
       "      <td>0.000000</td>\n",
       "      <td>0.000000</td>\n",
       "    </tr>\n",
       "    <tr>\n",
       "      <th>PEPEUSDT</th>\n",
       "      <td>0.000003</td>\n",
       "      <td>1.375192e-09</td>\n",
       "      <td>0.093290</td>\n",
       "      <td>-0.093290</td>\n",
       "    </tr>\n",
       "  </tbody>\n",
       "</table>\n",
       "</div>"
      ],
      "text/plain": [
       "           Price in USDT  Weights in %   Weights    Spread\n",
       "BTCUSDT       703.814899  3.270752e-01  0.400000 -0.072925\n",
       "JASMYUSDT     348.990361  1.621820e-01  0.055391  0.106791\n",
       "OMUSDT        263.491379  1.224491e-01  0.387352 -0.264903\n",
       "SOLUSDT       254.097755  1.180837e-01  0.000000  0.000000\n",
       "ETHUSDT       240.554146  1.117897e-01  0.000000  0.000000\n",
       "BBUSDT        134.708404  6.260137e-02  0.000000  0.000000\n",
       "MKRUSDT       126.253735  5.867233e-02  0.000000  0.000000\n",
       "BNBUSDT        59.045763  2.743961e-02  0.063967 -0.036527\n",
       "TRXUSDT        20.887996  9.707019e-03  0.000000  0.000000\n",
       "PEPEUSDT        0.000003  1.375192e-09  0.093290 -0.093290"
      ]
     },
     "execution_count": 47,
     "metadata": {},
     "output_type": "execute_result"
    }
   ],
   "source": [
    "historical_comparison=holding.copy()\n",
    "historical_comparison=historical_comparison.loc[historical_comparison.index!=\"Total\"]\n",
    "historical_comparison=pd.concat([historical_comparison,inventory],axis=1)\n",
    "historical_comparison['Spread']=historical_comparison['Weights in %']-historical_comparison['Weights']\n",
    "historical_comparison=historical_comparison.fillna(0)\n",
    "historical_comparison"
   ]
  },
  {
   "cell_type": "markdown",
   "id": "e764e7c3-19aa-4638-bd23-a2ec30f727c6",
   "metadata": {},
   "source": [
    "## Risk Reward Analysis"
   ]
  },
  {
   "cell_type": "code",
   "execution_count": 48,
   "id": "258652f2-4e4f-44a0-93be-23ba097fa637",
   "metadata": {},
   "outputs": [
    {
     "data": {
      "text/plain": [
       "<AxesSubplot:>"
      ]
     },
     "execution_count": 48,
     "metadata": {},
     "output_type": "execute_result"
    },
    {
     "data": {
      "image/png": "[encoded data removed]",
      "text/plain": [
       "<Figure size 432x288 with 1 Axes>"
      ]
     },
     "metadata": {
      "needs_background": "light"
     },
     "output_type": "display_data"
    }
   ],
   "source": [
    "opt_ptf=(returns_to_use*opt_weights).sum(axis=1)\n",
    "curr_opt_ptf=(ex_ante_perf*current_optimal_weights).sum(axis=1)\n",
    "portfolio_perf=pd.DataFrame()\n",
    "portfolio_perf['Portfolio']=(ex_ante_perf*current_weights).sum(axis=1)\n",
    "portfolio_perf['Bitcoin']=returns['BTCUSDT']\n",
    "portfolio_perf['Optimal']=opt_ptf\n",
    "portfolio_perf['Current Optimal']=curr_opt_ptf\n",
    "(1+portfolio_perf).cumprod().plot()"
   ]
  },
  {
   "cell_type": "code",
   "execution_count": 51,
   "id": "2cbb600d-94ce-495f-bc56-fe569e51636e",
   "metadata": {},
   "outputs": [],
   "source": [
    "current_perf=portfolio_perf.copy()\n",
    "current_perf=current_perf.loc[historical_ptf.index]\n",
    "current_perf['Historical Portfolio']=historical_ptf['Historical Portfolio']"
   ]
  },
  {
   "cell_type": "code",
   "execution_count": 53,
   "id": "c42a4a47-acf5-433d-aac6-9206f1cbaa02",
   "metadata": {},
   "outputs": [
    {
     "data": {
      "text/plain": [
       "<AxesSubplot:>"
      ]
     },
     "execution_count": 53,
     "metadata": {},
     "output_type": "execute_result"
    },
    {
     "data": {
      "image/png": "[encoded data removed]",
      "text/plain": [
       "<Figure size 432x288 with 1 Axes>"
      ]
     },
     "metadata": {
      "needs_background": "light"
     },
     "output_type": "display_data"
    }
   ],
   "source": [
    "((1+current_perf).cumprod()*100).plot()"
   ]
  },
  {
   "cell_type": "code",
   "execution_count": 54,
   "id": "bf6a8776-e294-4c0c-a244-d0b074ac70b1",
   "metadata": {},
   "outputs": [
    {
     "data": {
      "text/plain": [
       "Portfolio    0.694604\n",
       "dtype: float64"
      ]
     },
     "execution_count": 54,
     "metadata": {},
     "output_type": "execute_result"
    }
   ],
   "source": [
    "vol=historical_risk.portfolio(opt_weights).std()*np.sqrt(252)\n",
    "\n",
    "vol"
   ]
  },
  {
   "cell_type": "code",
   "execution_count": 55,
   "id": "e92e769e-0c1f-4d38-98d5-b488be030574",
   "metadata": {},
   "outputs": [
    {
     "data": {
      "text/plain": [
       "Portfolio    0.559544\n",
       "dtype: float64"
      ]
     },
     "execution_count": 55,
     "metadata": {},
     "output_type": "execute_result"
    }
   ],
   "source": [
    "vol=current_risk.portfolio(current_weights).std()*np.sqrt(252)\n",
    "\n",
    "vol"
   ]
  },
  {
   "cell_type": "code",
   "execution_count": 56,
   "id": "0c0196e8-d69e-4e2a-aa96-36583349bab2",
   "metadata": {},
   "outputs": [
    {
     "data": {
      "text/plain": [
       "Portfolio          0.515492\n",
       "Bitcoin            0.437933\n",
       "Optimal            0.696017\n",
       "Current Optimal    0.885625\n",
       "dtype: float64"
      ]
     },
     "execution_count": 56,
     "metadata": {},
     "output_type": "execute_result"
    }
   ],
   "source": [
    "portfolio_perf.iloc[1:].std()*np.sqrt(252)"
   ]
  },
  {
   "cell_type": "code",
   "execution_count": 57,
   "id": "8b137873-c2d6-4129-bff5-d79043d2e74a",
   "metadata": {},
   "outputs": [
    {
     "data": {
      "text/html": [
       "<div>\n",
       "<style scoped>\n",
       "    .dataframe tbody tr th:only-of-type {\n",
       "        vertical-align: middle;\n",
       "    }\n",
       "\n",
       "    .dataframe tbody tr th {\n",
       "        vertical-align: top;\n",
       "    }\n",
       "\n",
       "    .dataframe thead th {\n",
       "        text-align: right;\n",
       "    }\n",
       "</style>\n",
       "<table border=\"1\" class=\"dataframe\">\n",
       "  <thead>\n",
       "    <tr style=\"text-align: right;\">\n",
       "      <th></th>\n",
       "      <th>Performance Contribution in %</th>\n",
       "      <th>Last Weights</th>\n",
       "      <th>Variance Contribution in %</th>\n",
       "      <th>Idiosyncratic Risk in %</th>\n",
       "      <th>Correlation in %</th>\n",
       "    </tr>\n",
       "  </thead>\n",
       "  <tbody>\n",
       "    <tr>\n",
       "      <th>BNBUSDT</th>\n",
       "      <td>0.008559</td>\n",
       "      <td>0.013848</td>\n",
       "      <td>0.020583</td>\n",
       "      <td>0.002159</td>\n",
       "      <td>0.018424</td>\n",
       "    </tr>\n",
       "    <tr>\n",
       "      <th>BTCUSDT</th>\n",
       "      <td>0.025246</td>\n",
       "      <td>0.061017</td>\n",
       "      <td>0.172205</td>\n",
       "      <td>0.063343</td>\n",
       "      <td>0.108862</td>\n",
       "    </tr>\n",
       "    <tr>\n",
       "      <th>JASMYUSDT</th>\n",
       "      <td>0.012252</td>\n",
       "      <td>0.016370</td>\n",
       "      <td>0.037705</td>\n",
       "      <td>0.008415</td>\n",
       "      <td>0.029290</td>\n",
       "    </tr>\n",
       "    <tr>\n",
       "      <th>OMUSDT</th>\n",
       "      <td>0.915355</td>\n",
       "      <td>0.864957</td>\n",
       "      <td>0.674916</td>\n",
       "      <td>0.573953</td>\n",
       "      <td>0.100963</td>\n",
       "    </tr>\n",
       "    <tr>\n",
       "      <th>PEPEUSDT</th>\n",
       "      <td>0.038587</td>\n",
       "      <td>0.043809</td>\n",
       "      <td>0.094592</td>\n",
       "      <td>0.033779</td>\n",
       "      <td>0.060813</td>\n",
       "    </tr>\n",
       "  </tbody>\n",
       "</table>\n",
       "</div>"
      ],
      "text/plain": [
       "           Performance Contribution in %  Last Weights  \\\n",
       "BNBUSDT                         0.008559      0.013848   \n",
       "BTCUSDT                         0.025246      0.061017   \n",
       "JASMYUSDT                       0.012252      0.016370   \n",
       "OMUSDT                          0.915355      0.864957   \n",
       "PEPEUSDT                        0.038587      0.043809   \n",
       "\n",
       "           Variance Contribution in %  Idiosyncratic Risk in %  \\\n",
       "BNBUSDT                      0.020583                 0.002159   \n",
       "BTCUSDT                      0.172205                 0.063343   \n",
       "JASMYUSDT                    0.037705                 0.008415   \n",
       "OMUSDT                       0.674916                 0.573953   \n",
       "PEPEUSDT                     0.094592                 0.033779   \n",
       "\n",
       "           Correlation in %  \n",
       "BNBUSDT            0.018424  \n",
       "BTCUSDT            0.108862  \n",
       "JASMYUSDT          0.029290  \n",
       "OMUSDT             0.100963  \n",
       "PEPEUSDT           0.060813  "
      ]
     },
     "execution_count": 57,
     "metadata": {},
     "output_type": "execute_result"
    }
   ],
   "source": [
    "perf_analysis=pd.concat([historical_risk.perf_contrib_pct(opt_weights),historical_risk.var_contrib_pct(opt_weights)],axis=1)\n",
    "perf_analysis"
   ]
  },
  {
   "cell_type": "code",
   "execution_count": 58,
   "id": "109d4f15-0bb7-435b-9dc5-0bb7bc6dcffc",
   "metadata": {},
   "outputs": [
    {
     "data": {
      "text/html": [
       "<div>\n",
       "<style scoped>\n",
       "    .dataframe tbody tr th:only-of-type {\n",
       "        vertical-align: middle;\n",
       "    }\n",
       "\n",
       "    .dataframe tbody tr th {\n",
       "        vertical-align: top;\n",
       "    }\n",
       "\n",
       "    .dataframe thead th {\n",
       "        text-align: right;\n",
       "    }\n",
       "</style>\n",
       "<table border=\"1\" class=\"dataframe\">\n",
       "  <thead>\n",
       "    <tr style=\"text-align: right;\">\n",
       "      <th></th>\n",
       "      <th>Performance Contribution in %</th>\n",
       "      <th>Last Weights</th>\n",
       "      <th>Variance Contribution in %</th>\n",
       "      <th>Idiosyncratic Risk in %</th>\n",
       "      <th>Correlation in %</th>\n",
       "    </tr>\n",
       "  </thead>\n",
       "  <tbody>\n",
       "    <tr>\n",
       "      <th>BTCUSDT</th>\n",
       "      <td>0.075745</td>\n",
       "      <td>0.302463</td>\n",
       "      <td>0.191157</td>\n",
       "      <td>0.048371</td>\n",
       "      <td>0.142786</td>\n",
       "    </tr>\n",
       "    <tr>\n",
       "      <th>JASMYUSDT</th>\n",
       "      <td>0.335202</td>\n",
       "      <td>0.178975</td>\n",
       "      <td>0.265684</td>\n",
       "      <td>0.102822</td>\n",
       "      <td>0.162862</td>\n",
       "    </tr>\n",
       "    <tr>\n",
       "      <th>OMUSDT</th>\n",
       "      <td>0.579767</td>\n",
       "      <td>0.169794</td>\n",
       "      <td>0.137410</td>\n",
       "      <td>0.040369</td>\n",
       "      <td>0.097041</td>\n",
       "    </tr>\n",
       "    <tr>\n",
       "      <th>SOLUSDT</th>\n",
       "      <td>0.098063</td>\n",
       "      <td>0.117624</td>\n",
       "      <td>0.124554</td>\n",
       "      <td>0.022067</td>\n",
       "      <td>0.102487</td>\n",
       "    </tr>\n",
       "    <tr>\n",
       "      <th>ETHUSDT</th>\n",
       "      <td>0.123813</td>\n",
       "      <td>0.111496</td>\n",
       "      <td>0.080082</td>\n",
       "      <td>0.009790</td>\n",
       "      <td>0.070292</td>\n",
       "    </tr>\n",
       "    <tr>\n",
       "      <th>BBUSDT</th>\n",
       "      <td>-0.195108</td>\n",
       "      <td>0.032371</td>\n",
       "      <td>0.126053</td>\n",
       "      <td>0.033373</td>\n",
       "      <td>0.092680</td>\n",
       "    </tr>\n",
       "    <tr>\n",
       "      <th>MKRUSDT</th>\n",
       "      <td>-0.010615</td>\n",
       "      <td>0.052352</td>\n",
       "      <td>0.053917</td>\n",
       "      <td>0.005598</td>\n",
       "      <td>0.048318</td>\n",
       "    </tr>\n",
       "    <tr>\n",
       "      <th>BNBUSDT</th>\n",
       "      <td>-0.011525</td>\n",
       "      <td>0.025503</td>\n",
       "      <td>0.019590</td>\n",
       "      <td>0.000621</td>\n",
       "      <td>0.018969</td>\n",
       "    </tr>\n",
       "    <tr>\n",
       "      <th>TRXUSDT</th>\n",
       "      <td>0.004658</td>\n",
       "      <td>0.009421</td>\n",
       "      <td>0.001554</td>\n",
       "      <td>0.000017</td>\n",
       "      <td>0.001537</td>\n",
       "    </tr>\n",
       "  </tbody>\n",
       "</table>\n",
       "</div>"
      ],
      "text/plain": [
       "           Performance Contribution in %  Last Weights  \\\n",
       "BTCUSDT                         0.075745      0.302463   \n",
       "JASMYUSDT                       0.335202      0.178975   \n",
       "OMUSDT                          0.579767      0.169794   \n",
       "SOLUSDT                         0.098063      0.117624   \n",
       "ETHUSDT                         0.123813      0.111496   \n",
       "BBUSDT                         -0.195108      0.032371   \n",
       "MKRUSDT                        -0.010615      0.052352   \n",
       "BNBUSDT                        -0.011525      0.025503   \n",
       "TRXUSDT                         0.004658      0.009421   \n",
       "\n",
       "           Variance Contribution in %  Idiosyncratic Risk in %  \\\n",
       "BTCUSDT                      0.191157                 0.048371   \n",
       "JASMYUSDT                    0.265684                 0.102822   \n",
       "OMUSDT                       0.137410                 0.040369   \n",
       "SOLUSDT                      0.124554                 0.022067   \n",
       "ETHUSDT                      0.080082                 0.009790   \n",
       "BBUSDT                       0.126053                 0.033373   \n",
       "MKRUSDT                      0.053917                 0.005598   \n",
       "BNBUSDT                      0.019590                 0.000621   \n",
       "TRXUSDT                      0.001554                 0.000017   \n",
       "\n",
       "           Correlation in %  \n",
       "BTCUSDT            0.142786  \n",
       "JASMYUSDT          0.162862  \n",
       "OMUSDT             0.097041  \n",
       "SOLUSDT            0.102487  \n",
       "ETHUSDT            0.070292  \n",
       "BBUSDT             0.092680  \n",
       "MKRUSDT            0.048318  \n",
       "BNBUSDT            0.018969  \n",
       "TRXUSDT            0.001537  "
      ]
     },
     "execution_count": 58,
     "metadata": {},
     "output_type": "execute_result"
    }
   ],
   "source": [
    "perf_analysis=pd.concat([current_risk.perf_contrib_pct(current_weights),current_risk.var_contrib_pct(current_weights)],axis=1)\n",
    "perf_analysis"
   ]
  },
  {
   "cell_type": "markdown",
   "id": "0130bfc3-e631-4a88-b313-7d1e01f8559a",
   "metadata": {
    "tags": []
   },
   "source": [
    "## Value At Risk"
   ]
  },
  {
   "cell_type": "markdown",
   "id": "71d68cce-1a6e-45aa-a85f-47588679e563",
   "metadata": {},
   "source": [
    "### Historical"
   ]
  },
  {
   "cell_type": "code",
   "execution_count": 59,
   "id": "b2388772-2291-494e-ac78-6a9f836e398d",
   "metadata": {},
   "outputs": [
    {
     "data": {
      "text/plain": [
       "(-0.05694571939780063, -0.0839607359179449)"
      ]
     },
     "execution_count": 59,
     "metadata": {},
     "output_type": "execute_result"
    }
   ],
   "source": [
    "var,cvar=historical_risk.historical_var(opt_weights)\n",
    "(var,cvar)"
   ]
  },
  {
   "cell_type": "code",
   "execution_count": 60,
   "id": "5ed33e0d-ae30-450b-a609-474785d4eda2",
   "metadata": {},
   "outputs": [
    {
     "data": {
      "text/plain": [
       "(-0.046978457048465865, -0.06744327858800088)"
      ]
     },
     "execution_count": 60,
     "metadata": {},
     "output_type": "execute_result"
    }
   ],
   "source": [
    "var,cvar=current_risk.historical_var(current_weights)\n",
    "(var,cvar)"
   ]
  },
  {
   "cell_type": "markdown",
   "id": "c3dff28c-8e0a-4203-a71d-04521428bcd1",
   "metadata": {},
   "source": [
    "### Parametric"
   ]
  },
  {
   "cell_type": "code",
   "execution_count": 61,
   "id": "0f0e86d4-3a65-486f-9099-6de171182aca",
   "metadata": {},
   "outputs": [
    {
     "data": {
      "text/plain": [
       "(-0.0721185106226462, -0.09243599095436894)"
      ]
     },
     "execution_count": 61,
     "metadata": {},
     "output_type": "execute_result"
    }
   ],
   "source": [
    "var,cvar=historical_risk.parametric_var(opt_weights)\n",
    "\n",
    "(var,cvar)"
   ]
  },
  {
   "cell_type": "code",
   "execution_count": 62,
   "id": "8d211677-f33e-4565-95b7-f2867bbe7192",
   "metadata": {},
   "outputs": [
    {
     "data": {
      "text/plain": [
       "(-0.057977695516200696, -0.07431137570674975)"
      ]
     },
     "execution_count": 62,
     "metadata": {},
     "output_type": "execute_result"
    }
   ],
   "source": [
    "var,cvar=current_risk.parametric_var(current_weights)\n",
    "\n",
    "(var,cvar)"
   ]
  },
  {
   "cell_type": "markdown",
   "id": "a6c24386-d19d-46c7-a8bb-58e4c19932ec",
   "metadata": {},
   "source": [
    "### Multivariate"
   ]
  },
  {
   "cell_type": "code",
   "execution_count": 63,
   "id": "302440b5-9462-49d9-a7d0-94e4da622e61",
   "metadata": {},
   "outputs": [
    {
     "data": {
      "text/plain": [
       "(-0.06244700322296674, -0.08064517413510637)"
      ]
     },
     "execution_count": 63,
     "metadata": {},
     "output_type": "execute_result"
    }
   ],
   "source": [
    "perf=performance(historical_risk.multivariate_distribution(),opt_weights)\n",
    "var=np.percentile(perf,5)\n",
    "cvar=perf[perf<var].mean()\n",
    "(var,cvar)"
   ]
  },
  {
   "cell_type": "code",
   "execution_count": 64,
   "id": "fd55ff58-048c-4d2c-96d1-686c84f6aa69",
   "metadata": {},
   "outputs": [
    {
     "data": {
      "text/plain": [
       "(-0.05453802339147494, -0.06931737310105487)"
      ]
     },
     "execution_count": 64,
     "metadata": {},
     "output_type": "execute_result"
    }
   ],
   "source": [
    "perf=performance(current_risk.multivariate_distribution(),current_weights)\n",
    "var=np.percentile(perf,5)\n",
    "cvar=perf[perf<var].mean()\n",
    "(var,cvar)"
   ]
  },
  {
   "cell_type": "markdown",
   "id": "0c387f28-22ad-45a7-b319-0e83f4a0daee",
   "metadata": {},
   "source": [
    "### Copulas"
   ]
  },
  {
   "cell_type": "code",
   "execution_count": 65,
   "id": "337bcd79-e3e3-4aaf-891c-485374685140",
   "metadata": {},
   "outputs": [
    {
     "data": {
      "text/plain": [
       "(-0.06338726701886488, -0.08132404040247995)"
      ]
     },
     "execution_count": 65,
     "metadata": {},
     "output_type": "execute_result"
    }
   ],
   "source": [
    "cop=historical_risk.gaussian_copula()\n",
    "perf=performance(cop,opt_weights)\n",
    "var=np.percentile(perf,5)\n",
    "cvar=perf[perf<var].mean()\n",
    "\n",
    "var,cvar"
   ]
  },
  {
   "cell_type": "code",
   "execution_count": 66,
   "id": "5eda254d-e253-46b4-aee4-d219185b845d",
   "metadata": {},
   "outputs": [
    {
     "data": {
      "text/plain": [
       "(-0.053968110406135486, -0.06960392057227904)"
      ]
     },
     "execution_count": 66,
     "metadata": {},
     "output_type": "execute_result"
    }
   ],
   "source": [
    "cop=current_risk.gaussian_copula()\n",
    "perf=performance(cop,current_weights)\n",
    "var=np.percentile(perf,5)\n",
    "cvar=perf[perf<var].mean()\n",
    "\n",
    "var,cvar"
   ]
  },
  {
   "cell_type": "code",
   "execution_count": 67,
   "id": "3d62db2b-76d2-49cb-8b3c-fed5b15acb5f",
   "metadata": {},
   "outputs": [
    {
     "data": {
      "text/plain": [
       "(-0.06343185129984756, -0.08081027173818438)"
      ]
     },
     "execution_count": 67,
     "metadata": {},
     "output_type": "execute_result"
    }
   ],
   "source": [
    "t_copula=historical_risk.t_copula()\n",
    "perf=performance(t_copula,opt_weights)\n",
    "var=np.percentile(perf,5)\n",
    "cvar=perf[perf<var].mean()\n",
    "\n",
    "var,cvar"
   ]
  },
  {
   "cell_type": "code",
   "execution_count": 68,
   "id": "20ee770c-7e3c-4949-b437-ed3d2b456508",
   "metadata": {},
   "outputs": [
    {
     "data": {
      "text/plain": [
       "(-0.05591761880950607, -0.07197082578805798)"
      ]
     },
     "execution_count": 68,
     "metadata": {},
     "output_type": "execute_result"
    }
   ],
   "source": [
    "t_copula=current_risk.t_copula()\n",
    "perf=performance(t_copula,current_weights)\n",
    "var=np.percentile(perf,5)\n",
    "cvar=perf[perf<var].mean()\n",
    "\n",
    "var,cvar"
   ]
  },
  {
   "cell_type": "markdown",
   "id": "7552457d-af22-431f-bdc4-3609112e4138",
   "metadata": {},
   "source": [
    "### Monte Carlo"
   ]
  },
  {
   "cell_type": "code",
   "execution_count": 69,
   "id": "03dcd06a-312a-4696-9075-502491c920d5",
   "metadata": {},
   "outputs": [
    {
     "data": {
      "text/plain": [
       "(-0.07552797461755043, -0.09390191925213506)"
      ]
     },
     "execution_count": 69,
     "metadata": {},
     "output_type": "execute_result"
    }
   ],
   "source": [
    "spot=data[with_no_na].iloc[-1]\n",
    "monte_carlo=historical_risk.monte_carlo(spot,horizon=1/250,stress_factor=1.0)\n",
    "perf=performance(monte_carlo[1],opt_weights)\n",
    "var=np.percentile(perf,5)\n",
    "cvar=perf[perf<var].mean()\n",
    "\n",
    "var,cvar"
   ]
  },
  {
   "cell_type": "code",
   "execution_count": 70,
   "id": "928019e9-ab72-4a24-b19e-f8c4cd072969",
   "metadata": {},
   "outputs": [
    {
     "data": {
      "text/plain": [
       "(-0.05883183926186174, -0.07387339616016521)"
      ]
     },
     "execution_count": 70,
     "metadata": {},
     "output_type": "execute_result"
    }
   ],
   "source": [
    "spot=data[ex_ante_perf.columns].iloc[-1]\n",
    "monte_carlo=current_risk.monte_carlo(spot,horizon=1/250,stress_factor=1.0)\n",
    "perf=performance(monte_carlo[1],current_weights)\n",
    "var=np.percentile(perf,5)\n",
    "cvar=perf[perf<var].mean()\n",
    "\n",
    "var,cvar"
   ]
  },
  {
   "cell_type": "markdown",
   "id": "2b3cb248-60ea-43f7-b474-31b6046eeee9",
   "metadata": {},
   "source": [
    "### VaR Violation"
   ]
  },
  {
   "cell_type": "code",
   "execution_count": 71,
   "id": "757aac0b-a638-4349-8fd3-30b1f39fa8b4",
   "metadata": {},
   "outputs": [
    {
     "data": {
      "text/html": [
       "<div>\n",
       "<style scoped>\n",
       "    .dataframe tbody tr th:only-of-type {\n",
       "        vertical-align: middle;\n",
       "    }\n",
       "\n",
       "    .dataframe tbody tr th {\n",
       "        vertical-align: top;\n",
       "    }\n",
       "\n",
       "    .dataframe thead th {\n",
       "        text-align: right;\n",
       "    }\n",
       "</style>\n",
       "<table border=\"1\" class=\"dataframe\">\n",
       "  <thead>\n",
       "    <tr style=\"text-align: right;\">\n",
       "      <th></th>\n",
       "      <th>Historical</th>\n",
       "      <th>Parametric</th>\n",
       "      <th>Multivariate</th>\n",
       "      <th>Portfolio</th>\n",
       "    </tr>\n",
       "  </thead>\n",
       "  <tbody>\n",
       "    <tr>\n",
       "      <th>2024-01-09</th>\n",
       "      <td>-0.053887</td>\n",
       "      <td>-0.096939</td>\n",
       "      <td>-0.079724</td>\n",
       "      <td>-0.006759</td>\n",
       "    </tr>\n",
       "    <tr>\n",
       "      <th>2024-01-10</th>\n",
       "      <td>-0.053887</td>\n",
       "      <td>-0.096911</td>\n",
       "      <td>-0.083760</td>\n",
       "      <td>0.015486</td>\n",
       "    </tr>\n",
       "    <tr>\n",
       "      <th>2024-01-11</th>\n",
       "      <td>-0.053887</td>\n",
       "      <td>-0.095853</td>\n",
       "      <td>-0.076099</td>\n",
       "      <td>0.001025</td>\n",
       "    </tr>\n",
       "    <tr>\n",
       "      <th>2024-01-12</th>\n",
       "      <td>-0.059041</td>\n",
       "      <td>-0.102610</td>\n",
       "      <td>-0.084782</td>\n",
       "      <td>-0.060615</td>\n",
       "    </tr>\n",
       "    <tr>\n",
       "      <th>2024-01-13</th>\n",
       "      <td>-0.059041</td>\n",
       "      <td>-0.102477</td>\n",
       "      <td>-0.086535</td>\n",
       "      <td>0.009525</td>\n",
       "    </tr>\n",
       "    <tr>\n",
       "      <th>...</th>\n",
       "      <td>...</td>\n",
       "      <td>...</td>\n",
       "      <td>...</td>\n",
       "      <td>...</td>\n",
       "    </tr>\n",
       "    <tr>\n",
       "      <th>2024-07-19</th>\n",
       "      <td>-0.102937</td>\n",
       "      <td>-0.101515</td>\n",
       "      <td>-0.091694</td>\n",
       "      <td>0.025581</td>\n",
       "    </tr>\n",
       "    <tr>\n",
       "      <th>2024-07-20</th>\n",
       "      <td>-0.102937</td>\n",
       "      <td>-0.100525</td>\n",
       "      <td>-0.093309</td>\n",
       "      <td>0.015544</td>\n",
       "    </tr>\n",
       "    <tr>\n",
       "      <th>2024-07-21</th>\n",
       "      <td>-0.102937</td>\n",
       "      <td>-0.099016</td>\n",
       "      <td>-0.088867</td>\n",
       "      <td>0.025013</td>\n",
       "    </tr>\n",
       "    <tr>\n",
       "      <th>2024-07-22</th>\n",
       "      <td>-0.102937</td>\n",
       "      <td>-0.102140</td>\n",
       "      <td>-0.091448</td>\n",
       "      <td>-0.041778</td>\n",
       "    </tr>\n",
       "    <tr>\n",
       "      <th>2024-07-23</th>\n",
       "      <td>-0.102937</td>\n",
       "      <td>-0.101857</td>\n",
       "      <td>-0.091866</td>\n",
       "      <td>-0.016708</td>\n",
       "    </tr>\n",
       "  </tbody>\n",
       "</table>\n",
       "<p>197 rows × 4 columns</p>\n",
       "</div>"
      ],
      "text/plain": [
       "            Historical  Parametric  Multivariate  Portfolio\n",
       "2024-01-09   -0.053887   -0.096939     -0.079724  -0.006759\n",
       "2024-01-10   -0.053887   -0.096911     -0.083760   0.015486\n",
       "2024-01-11   -0.053887   -0.095853     -0.076099   0.001025\n",
       "2024-01-12   -0.059041   -0.102610     -0.084782  -0.060615\n",
       "2024-01-13   -0.059041   -0.102477     -0.086535   0.009525\n",
       "...                ...         ...           ...        ...\n",
       "2024-07-19   -0.102937   -0.101515     -0.091694   0.025581\n",
       "2024-07-20   -0.102937   -0.100525     -0.093309   0.015544\n",
       "2024-07-21   -0.102937   -0.099016     -0.088867   0.025013\n",
       "2024-07-22   -0.102937   -0.102140     -0.091448  -0.041778\n",
       "2024-07-23   -0.102937   -0.101857     -0.091866  -0.016708\n",
       "\n",
       "[197 rows x 4 columns]"
      ]
     },
     "execution_count": 71,
     "metadata": {},
     "output_type": "execute_result"
    }
   ],
   "source": [
    "var_data=rolling_var(returns_to_use,opt_weights,window=25,Q=1)\n",
    "var_data"
   ]
  },
  {
   "cell_type": "code",
   "execution_count": 72,
   "id": "73878bf8-3ab1-45ee-b730-bdab4a0a03dc",
   "metadata": {},
   "outputs": [
    {
     "data": {
      "text/html": [
       "<div>\n",
       "<style scoped>\n",
       "    .dataframe tbody tr th:only-of-type {\n",
       "        vertical-align: middle;\n",
       "    }\n",
       "\n",
       "    .dataframe tbody tr th {\n",
       "        vertical-align: top;\n",
       "    }\n",
       "\n",
       "    .dataframe thead th {\n",
       "        text-align: right;\n",
       "    }\n",
       "</style>\n",
       "<table border=\"1\" class=\"dataframe\">\n",
       "  <thead>\n",
       "    <tr style=\"text-align: right;\">\n",
       "      <th></th>\n",
       "      <th>Historical</th>\n",
       "      <th>Parametric</th>\n",
       "      <th>Multivariate</th>\n",
       "      <th>Portfolio</th>\n",
       "    </tr>\n",
       "  </thead>\n",
       "  <tbody>\n",
       "    <tr>\n",
       "      <th>2024-05-28</th>\n",
       "      <td>-0.036030</td>\n",
       "      <td>-0.091504</td>\n",
       "      <td>-0.082448</td>\n",
       "      <td>-0.018411</td>\n",
       "    </tr>\n",
       "    <tr>\n",
       "      <th>2024-05-29</th>\n",
       "      <td>-0.029214</td>\n",
       "      <td>-0.088048</td>\n",
       "      <td>-0.078565</td>\n",
       "      <td>-0.015053</td>\n",
       "    </tr>\n",
       "    <tr>\n",
       "      <th>2024-05-30</th>\n",
       "      <td>-0.029214</td>\n",
       "      <td>-0.077743</td>\n",
       "      <td>-0.069269</td>\n",
       "      <td>0.038785</td>\n",
       "    </tr>\n",
       "    <tr>\n",
       "      <th>2024-05-31</th>\n",
       "      <td>-0.027219</td>\n",
       "      <td>-0.073998</td>\n",
       "      <td>-0.062966</td>\n",
       "      <td>0.016871</td>\n",
       "    </tr>\n",
       "    <tr>\n",
       "      <th>2024-06-01</th>\n",
       "      <td>-0.027219</td>\n",
       "      <td>-0.074327</td>\n",
       "      <td>-0.064687</td>\n",
       "      <td>0.034421</td>\n",
       "    </tr>\n",
       "    <tr>\n",
       "      <th>2024-06-02</th>\n",
       "      <td>-0.027219</td>\n",
       "      <td>-0.074513</td>\n",
       "      <td>-0.062694</td>\n",
       "      <td>0.002653</td>\n",
       "    </tr>\n",
       "    <tr>\n",
       "      <th>2024-06-03</th>\n",
       "      <td>-0.019607</td>\n",
       "      <td>-0.070087</td>\n",
       "      <td>-0.055746</td>\n",
       "      <td>0.013109</td>\n",
       "    </tr>\n",
       "    <tr>\n",
       "      <th>2024-06-04</th>\n",
       "      <td>-0.019607</td>\n",
       "      <td>-0.052050</td>\n",
       "      <td>-0.041154</td>\n",
       "      <td>0.033960</td>\n",
       "    </tr>\n",
       "    <tr>\n",
       "      <th>2024-06-05</th>\n",
       "      <td>-0.019607</td>\n",
       "      <td>-0.049225</td>\n",
       "      <td>-0.037247</td>\n",
       "      <td>0.015608</td>\n",
       "    </tr>\n",
       "    <tr>\n",
       "      <th>2024-06-06</th>\n",
       "      <td>-0.019607</td>\n",
       "      <td>-0.048937</td>\n",
       "      <td>-0.036234</td>\n",
       "      <td>-0.004467</td>\n",
       "    </tr>\n",
       "    <tr>\n",
       "      <th>2024-06-07</th>\n",
       "      <td>-0.027732</td>\n",
       "      <td>-0.051581</td>\n",
       "      <td>-0.039992</td>\n",
       "      <td>-0.029249</td>\n",
       "    </tr>\n",
       "    <tr>\n",
       "      <th>2024-06-08</th>\n",
       "      <td>-0.027898</td>\n",
       "      <td>-0.054160</td>\n",
       "      <td>-0.044202</td>\n",
       "      <td>-0.019600</td>\n",
       "    </tr>\n",
       "    <tr>\n",
       "      <th>2024-06-09</th>\n",
       "      <td>-0.027898</td>\n",
       "      <td>-0.053391</td>\n",
       "      <td>-0.042407</td>\n",
       "      <td>0.029015</td>\n",
       "    </tr>\n",
       "    <tr>\n",
       "      <th>2024-06-10</th>\n",
       "      <td>-0.027898</td>\n",
       "      <td>-0.052849</td>\n",
       "      <td>-0.046088</td>\n",
       "      <td>-0.018060</td>\n",
       "    </tr>\n",
       "    <tr>\n",
       "      <th>2024-06-11</th>\n",
       "      <td>-0.064952</td>\n",
       "      <td>-0.069638</td>\n",
       "      <td>-0.068252</td>\n",
       "      <td>-0.070764</td>\n",
       "    </tr>\n",
       "    <tr>\n",
       "      <th>2024-06-12</th>\n",
       "      <td>-0.064952</td>\n",
       "      <td>-0.069729</td>\n",
       "      <td>-0.067388</td>\n",
       "      <td>0.023146</td>\n",
       "    </tr>\n",
       "    <tr>\n",
       "      <th>2024-06-13</th>\n",
       "      <td>-0.066336</td>\n",
       "      <td>-0.073581</td>\n",
       "      <td>-0.072533</td>\n",
       "      <td>-0.039137</td>\n",
       "    </tr>\n",
       "    <tr>\n",
       "      <th>2024-06-14</th>\n",
       "      <td>-0.066336</td>\n",
       "      <td>-0.070700</td>\n",
       "      <td>-0.073023</td>\n",
       "      <td>-0.021438</td>\n",
       "    </tr>\n",
       "    <tr>\n",
       "      <th>2024-06-15</th>\n",
       "      <td>-0.066336</td>\n",
       "      <td>-0.070406</td>\n",
       "      <td>-0.072258</td>\n",
       "      <td>0.013838</td>\n",
       "    </tr>\n",
       "    <tr>\n",
       "      <th>2024-06-16</th>\n",
       "      <td>-0.066336</td>\n",
       "      <td>-0.069363</td>\n",
       "      <td>-0.071194</td>\n",
       "      <td>0.028929</td>\n",
       "    </tr>\n",
       "    <tr>\n",
       "      <th>2024-06-17</th>\n",
       "      <td>-0.067111</td>\n",
       "      <td>-0.073611</td>\n",
       "      <td>-0.081965</td>\n",
       "      <td>-0.044668</td>\n",
       "    </tr>\n",
       "    <tr>\n",
       "      <th>2024-06-18</th>\n",
       "      <td>-0.067111</td>\n",
       "      <td>-0.075737</td>\n",
       "      <td>-0.083307</td>\n",
       "      <td>-0.043387</td>\n",
       "    </tr>\n",
       "    <tr>\n",
       "      <th>2024-06-19</th>\n",
       "      <td>-0.067111</td>\n",
       "      <td>-0.071255</td>\n",
       "      <td>-0.082023</td>\n",
       "      <td>0.006294</td>\n",
       "    </tr>\n",
       "    <tr>\n",
       "      <th>2024-06-20</th>\n",
       "      <td>-0.067111</td>\n",
       "      <td>-0.069107</td>\n",
       "      <td>-0.081776</td>\n",
       "      <td>-0.017239</td>\n",
       "    </tr>\n",
       "    <tr>\n",
       "      <th>2024-06-21</th>\n",
       "      <td>-0.067111</td>\n",
       "      <td>-0.069276</td>\n",
       "      <td>-0.081842</td>\n",
       "      <td>-0.001631</td>\n",
       "    </tr>\n",
       "    <tr>\n",
       "      <th>2024-06-22</th>\n",
       "      <td>-0.067111</td>\n",
       "      <td>-0.069421</td>\n",
       "      <td>-0.079498</td>\n",
       "      <td>0.005882</td>\n",
       "    </tr>\n",
       "    <tr>\n",
       "      <th>2024-06-23</th>\n",
       "      <td>-0.067111</td>\n",
       "      <td>-0.070861</td>\n",
       "      <td>-0.082511</td>\n",
       "      <td>-0.035956</td>\n",
       "    </tr>\n",
       "    <tr>\n",
       "      <th>2024-06-24</th>\n",
       "      <td>-0.067111</td>\n",
       "      <td>-0.065977</td>\n",
       "      <td>-0.079549</td>\n",
       "      <td>-0.004748</td>\n",
       "    </tr>\n",
       "    <tr>\n",
       "      <th>2024-06-25</th>\n",
       "      <td>-0.067111</td>\n",
       "      <td>-0.073463</td>\n",
       "      <td>-0.085000</td>\n",
       "      <td>0.039567</td>\n",
       "    </tr>\n",
       "    <tr>\n",
       "      <th>2024-06-26</th>\n",
       "      <td>-0.044489</td>\n",
       "      <td>-0.062688</td>\n",
       "      <td>-0.070889</td>\n",
       "      <td>-0.014710</td>\n",
       "    </tr>\n",
       "    <tr>\n",
       "      <th>2024-06-27</th>\n",
       "      <td>-0.044489</td>\n",
       "      <td>-0.064241</td>\n",
       "      <td>-0.069958</td>\n",
       "      <td>0.030715</td>\n",
       "    </tr>\n",
       "    <tr>\n",
       "      <th>2024-06-28</th>\n",
       "      <td>-0.044489</td>\n",
       "      <td>-0.062769</td>\n",
       "      <td>-0.069415</td>\n",
       "      <td>-0.030709</td>\n",
       "    </tr>\n",
       "    <tr>\n",
       "      <th>2024-06-29</th>\n",
       "      <td>-0.044489</td>\n",
       "      <td>-0.061996</td>\n",
       "      <td>-0.067047</td>\n",
       "      <td>-0.007677</td>\n",
       "    </tr>\n",
       "    <tr>\n",
       "      <th>2024-06-30</th>\n",
       "      <td>-0.044489</td>\n",
       "      <td>-0.067540</td>\n",
       "      <td>-0.072703</td>\n",
       "      <td>0.042601</td>\n",
       "    </tr>\n",
       "    <tr>\n",
       "      <th>2024-07-01</th>\n",
       "      <td>-0.044489</td>\n",
       "      <td>-0.064501</td>\n",
       "      <td>-0.068905</td>\n",
       "      <td>0.002759</td>\n",
       "    </tr>\n",
       "    <tr>\n",
       "      <th>2024-07-02</th>\n",
       "      <td>-0.042346</td>\n",
       "      <td>-0.059221</td>\n",
       "      <td>-0.061150</td>\n",
       "      <td>0.000863</td>\n",
       "    </tr>\n",
       "    <tr>\n",
       "      <th>2024-07-03</th>\n",
       "      <td>-0.047422</td>\n",
       "      <td>-0.060904</td>\n",
       "      <td>-0.063496</td>\n",
       "      <td>-0.049289</td>\n",
       "    </tr>\n",
       "    <tr>\n",
       "      <th>2024-07-04</th>\n",
       "      <td>-0.086192</td>\n",
       "      <td>-0.081001</td>\n",
       "      <td>-0.090390</td>\n",
       "      <td>-0.092200</td>\n",
       "    </tr>\n",
       "    <tr>\n",
       "      <th>2024-07-05</th>\n",
       "      <td>-0.086192</td>\n",
       "      <td>-0.080824</td>\n",
       "      <td>-0.087738</td>\n",
       "      <td>-0.006557</td>\n",
       "    </tr>\n",
       "    <tr>\n",
       "      <th>2024-07-06</th>\n",
       "      <td>-0.086192</td>\n",
       "      <td>-0.097146</td>\n",
       "      <td>-0.100874</td>\n",
       "      <td>0.081462</td>\n",
       "    </tr>\n",
       "    <tr>\n",
       "      <th>2024-07-07</th>\n",
       "      <td>-0.087345</td>\n",
       "      <td>-0.102349</td>\n",
       "      <td>-0.109754</td>\n",
       "      <td>-0.057520</td>\n",
       "    </tr>\n",
       "    <tr>\n",
       "      <th>2024-07-08</th>\n",
       "      <td>-0.087345</td>\n",
       "      <td>-0.102278</td>\n",
       "      <td>-0.106303</td>\n",
       "      <td>0.025963</td>\n",
       "    </tr>\n",
       "    <tr>\n",
       "      <th>2024-07-09</th>\n",
       "      <td>-0.087345</td>\n",
       "      <td>-0.103718</td>\n",
       "      <td>-0.100613</td>\n",
       "      <td>0.026274</td>\n",
       "    </tr>\n",
       "    <tr>\n",
       "      <th>2024-07-10</th>\n",
       "      <td>-0.087345</td>\n",
       "      <td>-0.101041</td>\n",
       "      <td>-0.104734</td>\n",
       "      <td>0.014737</td>\n",
       "    </tr>\n",
       "    <tr>\n",
       "      <th>2024-07-11</th>\n",
       "      <td>-0.087345</td>\n",
       "      <td>-0.100827</td>\n",
       "      <td>-0.102149</td>\n",
       "      <td>-0.009028</td>\n",
       "    </tr>\n",
       "    <tr>\n",
       "      <th>2024-07-12</th>\n",
       "      <td>-0.087345</td>\n",
       "      <td>-0.099791</td>\n",
       "      <td>-0.104587</td>\n",
       "      <td>0.021138</td>\n",
       "    </tr>\n",
       "    <tr>\n",
       "      <th>2024-07-13</th>\n",
       "      <td>-0.087345</td>\n",
       "      <td>-0.098804</td>\n",
       "      <td>-0.097764</td>\n",
       "      <td>0.018815</td>\n",
       "    </tr>\n",
       "    <tr>\n",
       "      <th>2024-07-14</th>\n",
       "      <td>-0.087345</td>\n",
       "      <td>-0.100505</td>\n",
       "      <td>-0.094133</td>\n",
       "      <td>0.033410</td>\n",
       "    </tr>\n",
       "    <tr>\n",
       "      <th>2024-07-15</th>\n",
       "      <td>-0.087345</td>\n",
       "      <td>-0.111947</td>\n",
       "      <td>-0.106125</td>\n",
       "      <td>0.092900</td>\n",
       "    </tr>\n",
       "    <tr>\n",
       "      <th>2024-07-16</th>\n",
       "      <td>-0.087345</td>\n",
       "      <td>-0.112055</td>\n",
       "      <td>-0.103731</td>\n",
       "      <td>-0.002086</td>\n",
       "    </tr>\n",
       "    <tr>\n",
       "      <th>2024-07-17</th>\n",
       "      <td>-0.087345</td>\n",
       "      <td>-0.113459</td>\n",
       "      <td>-0.104198</td>\n",
       "      <td>-0.023254</td>\n",
       "    </tr>\n",
       "    <tr>\n",
       "      <th>2024-07-18</th>\n",
       "      <td>-0.087345</td>\n",
       "      <td>-0.108070</td>\n",
       "      <td>-0.098915</td>\n",
       "      <td>0.000352</td>\n",
       "    </tr>\n",
       "    <tr>\n",
       "      <th>2024-07-19</th>\n",
       "      <td>-0.052723</td>\n",
       "      <td>-0.087150</td>\n",
       "      <td>-0.068887</td>\n",
       "      <td>0.032025</td>\n",
       "    </tr>\n",
       "    <tr>\n",
       "      <th>2024-07-20</th>\n",
       "      <td>-0.052723</td>\n",
       "      <td>-0.085952</td>\n",
       "      <td>-0.067477</td>\n",
       "      <td>0.011936</td>\n",
       "    </tr>\n",
       "    <tr>\n",
       "      <th>2024-07-21</th>\n",
       "      <td>-0.052723</td>\n",
       "      <td>-0.075788</td>\n",
       "      <td>-0.060225</td>\n",
       "      <td>0.022993</td>\n",
       "    </tr>\n",
       "    <tr>\n",
       "      <th>2024-07-22</th>\n",
       "      <td>-0.038031</td>\n",
       "      <td>-0.070040</td>\n",
       "      <td>-0.056264</td>\n",
       "      <td>-0.040436</td>\n",
       "    </tr>\n",
       "    <tr>\n",
       "      <th>2024-07-23</th>\n",
       "      <td>-0.038031</td>\n",
       "      <td>-0.073162</td>\n",
       "      <td>-0.062464</td>\n",
       "      <td>-0.022820</td>\n",
       "    </tr>\n",
       "  </tbody>\n",
       "</table>\n",
       "</div>"
      ],
      "text/plain": [
       "            Historical  Parametric  Multivariate  Portfolio\n",
       "2024-05-28   -0.036030   -0.091504     -0.082448  -0.018411\n",
       "2024-05-29   -0.029214   -0.088048     -0.078565  -0.015053\n",
       "2024-05-30   -0.029214   -0.077743     -0.069269   0.038785\n",
       "2024-05-31   -0.027219   -0.073998     -0.062966   0.016871\n",
       "2024-06-01   -0.027219   -0.074327     -0.064687   0.034421\n",
       "2024-06-02   -0.027219   -0.074513     -0.062694   0.002653\n",
       "2024-06-03   -0.019607   -0.070087     -0.055746   0.013109\n",
       "2024-06-04   -0.019607   -0.052050     -0.041154   0.033960\n",
       "2024-06-05   -0.019607   -0.049225     -0.037247   0.015608\n",
       "2024-06-06   -0.019607   -0.048937     -0.036234  -0.004467\n",
       "2024-06-07   -0.027732   -0.051581     -0.039992  -0.029249\n",
       "2024-06-08   -0.027898   -0.054160     -0.044202  -0.019600\n",
       "2024-06-09   -0.027898   -0.053391     -0.042407   0.029015\n",
       "2024-06-10   -0.027898   -0.052849     -0.046088  -0.018060\n",
       "2024-06-11   -0.064952   -0.069638     -0.068252  -0.070764\n",
       "2024-06-12   -0.064952   -0.069729     -0.067388   0.023146\n",
       "2024-06-13   -0.066336   -0.073581     -0.072533  -0.039137\n",
       "2024-06-14   -0.066336   -0.070700     -0.073023  -0.021438\n",
       "2024-06-15   -0.066336   -0.070406     -0.072258   0.013838\n",
       "2024-06-16   -0.066336   -0.069363     -0.071194   0.028929\n",
       "2024-06-17   -0.067111   -0.073611     -0.081965  -0.044668\n",
       "2024-06-18   -0.067111   -0.075737     -0.083307  -0.043387\n",
       "2024-06-19   -0.067111   -0.071255     -0.082023   0.006294\n",
       "2024-06-20   -0.067111   -0.069107     -0.081776  -0.017239\n",
       "2024-06-21   -0.067111   -0.069276     -0.081842  -0.001631\n",
       "2024-06-22   -0.067111   -0.069421     -0.079498   0.005882\n",
       "2024-06-23   -0.067111   -0.070861     -0.082511  -0.035956\n",
       "2024-06-24   -0.067111   -0.065977     -0.079549  -0.004748\n",
       "2024-06-25   -0.067111   -0.073463     -0.085000   0.039567\n",
       "2024-06-26   -0.044489   -0.062688     -0.070889  -0.014710\n",
       "2024-06-27   -0.044489   -0.064241     -0.069958   0.030715\n",
       "2024-06-28   -0.044489   -0.062769     -0.069415  -0.030709\n",
       "2024-06-29   -0.044489   -0.061996     -0.067047  -0.007677\n",
       "2024-06-30   -0.044489   -0.067540     -0.072703   0.042601\n",
       "2024-07-01   -0.044489   -0.064501     -0.068905   0.002759\n",
       "2024-07-02   -0.042346   -0.059221     -0.061150   0.000863\n",
       "2024-07-03   -0.047422   -0.060904     -0.063496  -0.049289\n",
       "2024-07-04   -0.086192   -0.081001     -0.090390  -0.092200\n",
       "2024-07-05   -0.086192   -0.080824     -0.087738  -0.006557\n",
       "2024-07-06   -0.086192   -0.097146     -0.100874   0.081462\n",
       "2024-07-07   -0.087345   -0.102349     -0.109754  -0.057520\n",
       "2024-07-08   -0.087345   -0.102278     -0.106303   0.025963\n",
       "2024-07-09   -0.087345   -0.103718     -0.100613   0.026274\n",
       "2024-07-10   -0.087345   -0.101041     -0.104734   0.014737\n",
       "2024-07-11   -0.087345   -0.100827     -0.102149  -0.009028\n",
       "2024-07-12   -0.087345   -0.099791     -0.104587   0.021138\n",
       "2024-07-13   -0.087345   -0.098804     -0.097764   0.018815\n",
       "2024-07-14   -0.087345   -0.100505     -0.094133   0.033410\n",
       "2024-07-15   -0.087345   -0.111947     -0.106125   0.092900\n",
       "2024-07-16   -0.087345   -0.112055     -0.103731  -0.002086\n",
       "2024-07-17   -0.087345   -0.113459     -0.104198  -0.023254\n",
       "2024-07-18   -0.087345   -0.108070     -0.098915   0.000352\n",
       "2024-07-19   -0.052723   -0.087150     -0.068887   0.032025\n",
       "2024-07-20   -0.052723   -0.085952     -0.067477   0.011936\n",
       "2024-07-21   -0.052723   -0.075788     -0.060225   0.022993\n",
       "2024-07-22   -0.038031   -0.070040     -0.056264  -0.040436\n",
       "2024-07-23   -0.038031   -0.073162     -0.062464  -0.022820"
      ]
     },
     "execution_count": 72,
     "metadata": {},
     "output_type": "execute_result"
    }
   ],
   "source": [
    "current_var_data=rolling_var(ex_ante_perf_to_use,current_weights,window=15,Q=1)\n",
    "current_var_data"
   ]
  },
  {
   "cell_type": "code",
   "execution_count": 73,
   "id": "0e7d84e4-bd99-45e8-9326-4f84526ba091",
   "metadata": {},
   "outputs": [
    {
     "data": {
      "text/plain": [
       "<AxesSubplot:>"
      ]
     },
     "execution_count": 73,
     "metadata": {},
     "output_type": "execute_result"
    },
    {
     "data": {
      "image/png": "[encoded data removed]",
      "text/plain": [
       "<Figure size 432x288 with 1 Axes>"
      ]
     },
     "metadata": {
      "needs_background": "light"
     },
     "output_type": "display_data"
    }
   ],
   "source": [
    "var_data.plot()"
   ]
  },
  {
   "cell_type": "code",
   "execution_count": 74,
   "id": "4499b3ef-4ed2-48a3-8967-0230afa98c7d",
   "metadata": {},
   "outputs": [
    {
     "data": {
      "text/plain": [
       "<AxesSubplot:>"
      ]
     },
     "execution_count": 74,
     "metadata": {},
     "output_type": "execute_result"
    },
    {
     "data": {
      "image/png": "[encoded data removed]",
      "text/plain": [
       "<Figure size 432x288 with 1 Axes>"
      ]
     },
     "metadata": {
      "needs_background": "light"
     },
     "output_type": "display_data"
    }
   ],
   "source": [
    "current_var_data.plot()"
   ]
  },
  {
   "cell_type": "code",
   "execution_count": 75,
   "id": "e47d08e8-e7a7-4b22-8605-f8200e5645a6",
   "metadata": {},
   "outputs": [
    {
     "data": {
      "text/html": [
       "<div>\n",
       "<style scoped>\n",
       "    .dataframe tbody tr th:only-of-type {\n",
       "        vertical-align: middle;\n",
       "    }\n",
       "\n",
       "    .dataframe tbody tr th {\n",
       "        vertical-align: top;\n",
       "    }\n",
       "\n",
       "    .dataframe thead th {\n",
       "        text-align: right;\n",
       "    }\n",
       "</style>\n",
       "<table border=\"1\" class=\"dataframe\">\n",
       "  <thead>\n",
       "    <tr style=\"text-align: right;\">\n",
       "      <th></th>\n",
       "      <th>Historical</th>\n",
       "      <th>Parametric</th>\n",
       "      <th>Multivariate</th>\n",
       "    </tr>\n",
       "  </thead>\n",
       "  <tbody>\n",
       "    <tr>\n",
       "      <th>Proportion of failure</th>\n",
       "      <td>0.030457</td>\n",
       "      <td>0.010152</td>\n",
       "      <td>0.020305</td>\n",
       "    </tr>\n",
       "    <tr>\n",
       "      <th>Kupiec Stat</th>\n",
       "      <td>1.83012</td>\n",
       "      <td>9.647461</td>\n",
       "      <td>4.671569</td>\n",
       "    </tr>\n",
       "    <tr>\n",
       "      <th>P-value</th>\n",
       "      <td>0.176113</td>\n",
       "      <td>0.001896</td>\n",
       "      <td>0.030666</td>\n",
       "    </tr>\n",
       "  </tbody>\n",
       "</table>\n",
       "</div>"
      ],
      "text/plain": [
       "                      Historical Parametric Multivariate\n",
       "Proportion of failure   0.030457   0.010152     0.020305\n",
       "Kupiec Stat              1.83012   9.647461     4.671569\n",
       "P-value                 0.176113   0.001896     0.030666"
      ]
     },
     "execution_count": 75,
     "metadata": {},
     "output_type": "execute_result"
    }
   ],
   "source": [
    "kupiec_test(var_data)"
   ]
  },
  {
   "cell_type": "code",
   "execution_count": 76,
   "id": "0b33e6a3-e732-49df-a1a0-aefaefb1f271",
   "metadata": {},
   "outputs": [
    {
     "data": {
      "text/html": [
       "<div>\n",
       "<style scoped>\n",
       "    .dataframe tbody tr th:only-of-type {\n",
       "        vertical-align: middle;\n",
       "    }\n",
       "\n",
       "    .dataframe tbody tr th {\n",
       "        vertical-align: top;\n",
       "    }\n",
       "\n",
       "    .dataframe thead th {\n",
       "        text-align: right;\n",
       "    }\n",
       "</style>\n",
       "<table border=\"1\" class=\"dataframe\">\n",
       "  <thead>\n",
       "    <tr style=\"text-align: right;\">\n",
       "      <th></th>\n",
       "      <th>Historical</th>\n",
       "      <th>Parametric</th>\n",
       "      <th>Multivariate</th>\n",
       "    </tr>\n",
       "  </thead>\n",
       "  <tbody>\n",
       "    <tr>\n",
       "      <th>Proportion of failure</th>\n",
       "      <td>0.087719</td>\n",
       "      <td>0.035088</td>\n",
       "      <td>0.035088</td>\n",
       "    </tr>\n",
       "    <tr>\n",
       "      <th>Kupiec Stat</th>\n",
       "      <td>1.407707</td>\n",
       "      <td>0.296586</td>\n",
       "      <td>0.296586</td>\n",
       "    </tr>\n",
       "    <tr>\n",
       "      <th>P-value</th>\n",
       "      <td>0.235437</td>\n",
       "      <td>0.586031</td>\n",
       "      <td>0.586031</td>\n",
       "    </tr>\n",
       "  </tbody>\n",
       "</table>\n",
       "</div>"
      ],
      "text/plain": [
       "                      Historical Parametric Multivariate\n",
       "Proportion of failure   0.087719   0.035088     0.035088\n",
       "Kupiec Stat             1.407707   0.296586     0.296586\n",
       "P-value                 0.235437   0.586031     0.586031"
      ]
     },
     "execution_count": 76,
     "metadata": {},
     "output_type": "execute_result"
    }
   ],
   "source": [
    "kupiec_test(current_var_data)"
   ]
  },
  {
   "cell_type": "markdown",
   "id": "7d238b49-45e4-4e3c-a34b-654a69961cc2",
   "metadata": {},
   "source": [
    "## Principal Component Analysis"
   ]
  },
  {
   "cell_type": "code",
   "execution_count": 77,
   "id": "c73e2cd9-1c95-4635-97cb-87a0d2c71796",
   "metadata": {},
   "outputs": [
    {
     "data": {
      "text/plain": [
       "array([0.76431631, 0.07502037, 0.06253603, 0.05424733, 0.04387997])"
      ]
     },
     "execution_count": 77,
     "metadata": {},
     "output_type": "execute_result"
    }
   ],
   "source": [
    "eigval,eigvec,portfolio_components=historical_risk.pca(num_components=5)\n",
    "variance_explained=eigval/eigval.sum()\n",
    "variance_explained"
   ]
  },
  {
   "cell_type": "code",
   "execution_count": 78,
   "id": "1557cf12-3ed6-4920-9ccd-81c8286d6f3f",
   "metadata": {},
   "outputs": [
    {
     "data": {
      "text/plain": [
       "array([0.61633783, 0.16661185, 0.09540307, 0.07807183, 0.04357542])"
      ]
     },
     "execution_count": 78,
     "metadata": {},
     "output_type": "execute_result"
    }
   ],
   "source": [
    "eigval,eigvec,portfolio_components_current=current_risk.pca(num_components=5)\n",
    "variance_explained=eigval/eigval.sum()\n",
    "variance_explained"
   ]
  },
  {
   "cell_type": "code",
   "execution_count": 79,
   "id": "c4576031-2c24-44a2-8514-f024a7b8a110",
   "metadata": {},
   "outputs": [
    {
     "data": {
      "text/plain": [
       "'faire contrib a la var de chaques modeles'"
      ]
     },
     "execution_count": 79,
     "metadata": {},
     "output_type": "execute_result"
    }
   ],
   "source": [
    "\"\"\"faire contrib a la var de chaques modeles\"\"\""
   ]
  },
  {
   "cell_type": "code",
   "execution_count": 80,
   "id": "dfe7f204-8aab-42a9-a2e3-95c60a6b146e",
   "metadata": {},
   "outputs": [],
   "source": [
    "pca_weight=dict((portfolio_components_current['PC1']/portfolio_components_current['PC1'].sum()))"
   ]
  },
  {
   "cell_type": "code",
   "execution_count": 81,
   "id": "98d12096-2da6-4dcb-8a82-5e2372d10d86",
   "metadata": {},
   "outputs": [
    {
     "data": {
      "text/plain": [
       "<AxesSubplot:>"
      ]
     },
     "execution_count": 81,
     "metadata": {},
     "output_type": "execute_result"
    },
    {
     "data": {
      "image/png": "[encoded data removed]",
      "text/plain": [
       "<Figure size 432x288 with 1 Axes>"
      ]
     },
     "metadata": {
      "needs_background": "light"
     },
     "output_type": "display_data"
    }
   ],
   "source": [
    "x=pd.DataFrame(np.array(list(pca_weight.values())).dot(np.transpose(current_risk.returns)))\n",
    "x=x.dropna()\n",
    "(1+x).cumprod().plot()"
   ]
  },
  {
   "cell_type": "code",
   "execution_count": 82,
   "id": "03b2a48e-4c5a-4d67-8760-a4631629f0a3",
   "metadata": {},
   "outputs": [
    {
     "data": {
      "text/plain": [
       "<AxesSubplot:>"
      ]
     },
     "execution_count": 82,
     "metadata": {},
     "output_type": "execute_result"
    },
    {
     "data": {
      "image/png": "[encoded data removed]",
      "text/plain": [
       "<Figure size 432x288 with 1 Axes>"
      ]
     },
     "metadata": {
      "needs_background": "light"
     },
     "output_type": "display_data"
    }
   ],
   "source": [
    "(1+current_risk.returns['BTCUSDT']).cumprod().plot()"
   ]
  },
  {
   "cell_type": "code",
   "execution_count": null,
   "id": "cf34bfca-74bd-470e-89a8-4b2f641a4f42",
   "metadata": {},
   "outputs": [],
   "source": []
  },
  {
   "cell_type": "code",
   "execution_count": null,
   "id": "0b5cc7a6-fc3b-4c9a-8b01-56168b8cd621",
   "metadata": {},
   "outputs": [],
   "source": []
  }
 ],
 "metadata": {
  "kernelspec": {
   "display_name": "Python 3 (ipykernel)",
   "language": "python",
   "name": "python3"
  },
  "language_info": {
   "codemirror_mode": {
    "name": "ipython",
    "version": 3
   },
   "file_extension": ".py",
   "mimetype": "text/x-python",
   "name": "python",
   "nbconvert_exporter": "python",
   "pygments_lexer": "ipython3",
   "version": "3.9.12"
  }
 },
 "nbformat": 4,
 "nbformat_minor": 5
}
