{
 "cells": [
  {
   "cell_type": "markdown",
   "id": "b37f1921-36ab-4456-9e86-117c39f91bc4",
   "metadata": {},
   "source": [
    "# Importing Libraries"
   ]
  },
  {
   "cell_type": "code",
   "execution_count": 1,
   "id": "1955d1de-ae34-4125-91ad-53073b1837d5",
   "metadata": {},
   "outputs": [],
   "source": [
    "import pandas as pd\n",
    "import random\n",
    "import numpy as np\n",
    "import matplotlib.pyplot as plt\n",
    "import datetime\n",
    "import seaborn as sns"
   ]
  },
  {
   "cell_type": "code",
   "execution_count": 2,
   "id": "917dd650-def2-4d10-89d9-ca82b6a3704f",
   "metadata": {},
   "outputs": [],
   "source": [
    "%run \"Stock Data.ipynb\".ipynb\n",
    "%run \"Binance API.ipynb\".ipynb\n",
    "%run \"RiskMetrics.ipynb\".ipynb"
   ]
  },
  {
   "cell_type": "markdown",
   "id": "01a00d22-d2b2-4f90-97d6-a7a3f8ef242f",
   "metadata": {},
   "source": [
    "# Importing Data"
   ]
  },
  {
   "cell_type": "markdown",
   "id": "0af29f5a-4c7d-44b2-8ecc-6d859cdc6983",
   "metadata": {},
   "source": [
    "## Tickers"
   ]
  },
  {
   "cell_type": "code",
   "execution_count": 3,
   "id": "306574f4-a153-47cd-a4b3-e293d9e9889f",
   "metadata": {},
   "outputs": [],
   "source": [
    "binance_api_key='E90xR7UnO2oeP3lrgC50zkqUuAqyyXs4uSlAGcqIVO9n90ELrFI4gfVI2HGGxxCj'\n",
    "binance_api_secret='Inls2xYl9FqPi0zlIrucfxG81drx7w6Pv6SzYFxMNoAcwDjlCKug7zUM9zB3lF9h'\n",
    "Binance=BinanceAPI(binance_api_key,binance_api_secret)"
   ]
  },
  {
   "cell_type": "code",
   "execution_count": 4,
   "id": "0f1c0e61-395a-407c-9aef-80d5011e56b5",
   "metadata": {},
   "outputs": [],
   "source": [
    "#stocks=pd.read_html('https://en.wikipedia.org/wiki/EURO_STOXX_50')[4]\n",
    "#tickers=stocks['Ticker'].to_list()"
   ]
  },
  {
   "cell_type": "markdown",
   "id": "c33884b2-73bc-4e92-8c5b-09559b34051d",
   "metadata": {},
   "source": [
    "## Market Data"
   ]
  },
  {
   "cell_type": "code",
   "execution_count": 5,
   "id": "f7d23762-54f8-4693-a00a-63d008fe97d2",
   "metadata": {},
   "outputs": [],
   "source": [
    "start_date=datetime.datetime(2023,12,1)\n",
    "enddate=start_date+datetime.timedelta(500)"
   ]
  },
  {
   "cell_type": "code",
   "execution_count": 6,
   "id": "6ec66c8c-75f7-4153-9019-de4752f96d16",
   "metadata": {},
   "outputs": [
    {
     "data": {
      "text/html": [
       "<div>\n",
       "<style scoped>\n",
       "    .dataframe tbody tr th:only-of-type {\n",
       "        vertical-align: middle;\n",
       "    }\n",
       "\n",
       "    .dataframe tbody tr th {\n",
       "        vertical-align: top;\n",
       "    }\n",
       "\n",
       "    .dataframe thead th {\n",
       "        text-align: right;\n",
       "    }\n",
       "</style>\n",
       "<table border=\"1\" class=\"dataframe\">\n",
       "  <thead>\n",
       "    <tr style=\"text-align: right;\">\n",
       "      <th></th>\n",
       "      <th>Price in USDT</th>\n",
       "      <th>Weights in %</th>\n",
       "    </tr>\n",
       "  </thead>\n",
       "  <tbody>\n",
       "    <tr>\n",
       "      <th>Total</th>\n",
       "      <td>1754.88810</td>\n",
       "      <td>1.00000</td>\n",
       "    </tr>\n",
       "    <tr>\n",
       "      <th>BTCUSDT</th>\n",
       "      <td>574.96712</td>\n",
       "      <td>0.32764</td>\n",
       "    </tr>\n",
       "    <tr>\n",
       "      <th>TRXUSDT</th>\n",
       "      <td>300.54240</td>\n",
       "      <td>0.17126</td>\n",
       "    </tr>\n",
       "    <tr>\n",
       "      <th>JASMYUSDT</th>\n",
       "      <td>245.62371</td>\n",
       "      <td>0.13997</td>\n",
       "    </tr>\n",
       "    <tr>\n",
       "      <th>SOLUSDT</th>\n",
       "      <td>238.00360</td>\n",
       "      <td>0.13562</td>\n",
       "    </tr>\n",
       "    <tr>\n",
       "      <th>OMUSDT</th>\n",
       "      <td>196.84870</td>\n",
       "      <td>0.11217</td>\n",
       "    </tr>\n",
       "    <tr>\n",
       "      <th>ETHUSDT</th>\n",
       "      <td>162.29351</td>\n",
       "      <td>0.09248</td>\n",
       "    </tr>\n",
       "    <tr>\n",
       "      <th>BBUSDT</th>\n",
       "      <td>36.58835</td>\n",
       "      <td>0.02085</td>\n",
       "    </tr>\n",
       "    <tr>\n",
       "      <th>BNBUSDT</th>\n",
       "      <td>0.02070</td>\n",
       "      <td>0.00001</td>\n",
       "    </tr>\n",
       "    <tr>\n",
       "      <th>PEPEUSDT</th>\n",
       "      <td>0.00000</td>\n",
       "      <td>0.00000</td>\n",
       "    </tr>\n",
       "  </tbody>\n",
       "</table>\n",
       "</div>"
      ],
      "text/plain": [
       "           Price in USDT  Weights in %\n",
       "Total         1754.88810       1.00000\n",
       "BTCUSDT        574.96712       0.32764\n",
       "TRXUSDT        300.54240       0.17126\n",
       "JASMYUSDT      245.62371       0.13997\n",
       "SOLUSDT        238.00360       0.13562\n",
       "OMUSDT         196.84870       0.11217\n",
       "ETHUSDT        162.29351       0.09248\n",
       "BBUSDT          36.58835       0.02085\n",
       "BNBUSDT          0.02070       0.00001\n",
       "PEPEUSDT         0.00000       0.00000"
      ]
     },
     "execution_count": 6,
     "metadata": {},
     "output_type": "execute_result"
    }
   ],
   "source": [
    "tickers=Binance.get_market_cap()['Ticker'].iloc[:75].to_list()\n",
    "holding=Binance.get_inventory()\n",
    "condition=holding.index!='Total'\n",
    "holding_tickers=holding.index[condition]\n",
    "holding_tickers=holding_tickers.to_list()\n",
    "tickers=sorted(list(set(tickers+holding_tickers)))\n",
    "holding.round(5)"
   ]
  },
  {
   "cell_type": "code",
   "execution_count": 7,
   "id": "02b13058-bb72-491c-b1c4-107367b2d402",
   "metadata": {},
   "outputs": [],
   "source": [
    "data1=Binance.get_price(tickers,start_date)\n",
    "data2=Binance.get_price(tickers,enddate)\n",
    "data=data1.combine_first(data2)\n",
    "data.index=pd.to_datetime(data.index)\n",
    "#data=data.dropna(axis=1)\n",
    "n=len(data.columns)\n",
    "data=data.sort_index()"
   ]
  },
  {
   "cell_type": "code",
   "execution_count": 8,
   "id": "fa402d23-cca7-4a57-9e61-234a6e346d61",
   "metadata": {},
   "outputs": [],
   "source": [
    "inventory_weights=(holding['Weights in %'].apply(lambda x: np.round(x,2))).to_dict()\n",
    "inventory_weights.pop('Total')\n",
    "\n",
    "if \"USDTUSDT\" in inventory_weights:\n",
    "    \n",
    "    inventory_weights.pop('USDTUSDT')\n",
    "else: \n",
    "    pass"
   ]
  },
  {
   "cell_type": "code",
   "execution_count": 9,
   "id": "f12eea91-8e16-438a-8418-e9a00c684c51",
   "metadata": {},
   "outputs": [],
   "source": [
    "returns=np.log(1+data.pct_change())\n",
    "returns.index=pd.to_datetime(returns.index)\n",
    "with_no_na=returns.columns[np.where((returns.isna().sum()<30))]\n",
    "returns_to_use=returns[with_no_na]\n",
    "ex_ante_perf=returns[holding_tickers]\n",
    "ex_ante_perf_to_use=ex_ante_perf.dropna()"
   ]
  },
  {
   "cell_type": "code",
   "execution_count": 10,
   "id": "c02ab432-6fac-4d8a-9744-c41d0fc2977c",
   "metadata": {},
   "outputs": [],
   "source": [
    "weights_post=dict()\n",
    "\n",
    "for col in ex_ante_perf.columns:\n",
    "    \n",
    "    if col in inventory_weights.keys():\n",
    "        weights_post[col]=inventory_weights[col]\n",
    "        \n",
    "    else:\n",
    "        weights_post[col]=0\n",
    "    \n",
    "current_weights=np.array(list(weights_post.values()))\n",
    "current_weights=np.round(current_weights,2)/np.sum(np.round(current_weights,2))"
   ]
  },
  {
   "cell_type": "markdown",
   "id": "b140110e-5f33-465c-8e5c-0fc7a645c27d",
   "metadata": {},
   "source": [
    "## Positions"
   ]
  },
  {
   "cell_type": "code",
   "execution_count": 11,
   "id": "17c5e377-a1f1-4dd7-9b69-19903c2e4954",
   "metadata": {},
   "outputs": [],
   "source": [
    "position=pd.read_excel('Positions.xlsx',index_col=0)"
   ]
  },
  {
   "cell_type": "code",
   "execution_count": 12,
   "id": "9c53afdc-8dd4-464f-ac2b-53da43bffdd4",
   "metadata": {},
   "outputs": [
    {
     "name": "stdout",
     "output_type": "stream",
     "text": [
      "2024-05-05 00:00:00\n",
      "2024-06-04 00:00:00\n",
      "2024-07-04 00:00:00\n",
      "2024-08-03 00:00:00\n",
      "2024-09-02 00:00:00\n",
      "LDUMAUSDT not retrieved\n",
      "LDTRXUSDT not retrieved\n",
      "LDUMAUSDT\n",
      "LDTRXUSDT\n"
     ]
    }
   ],
   "source": [
    "positions=Binance.get_positions_history(enddate=datetime.datetime.today(),\n",
    "                                        startdate=datetime.datetime(2024,5,5))\n"
   ]
  },
  {
   "cell_type": "code",
   "execution_count": 13,
   "id": "03081ace-41ae-4cc6-8637-36472b4b01a2",
   "metadata": {},
   "outputs": [],
   "source": [
    "positions=positions.sort_index()"
   ]
  },
  {
   "cell_type": "code",
   "execution_count": 14,
   "id": "7f9be1e5-f3e5-4ed6-9408-3a83a3996f73",
   "metadata": {},
   "outputs": [],
   "source": [
    "positions.index=pd.to_datetime(positions.index)"
   ]
  },
  {
   "cell_type": "code",
   "execution_count": 15,
   "id": "5db198b6-761e-42a8-93ae-c9526af6675a",
   "metadata": {},
   "outputs": [],
   "source": [
    "positions=pd.concat([position,positions])\n",
    "positions=positions.loc[~positions.index.duplicated(),:]"
   ]
  },
  {
   "cell_type": "code",
   "execution_count": 16,
   "id": "d132307b-1159-4eaf-9269-a563b817d441",
   "metadata": {},
   "outputs": [],
   "source": [
    "positions.to_excel('Positions.xlsx')"
   ]
  },
  {
   "cell_type": "code",
   "execution_count": 17,
   "id": "977e691e-b906-421f-9903-a2e47a2cba29",
   "metadata": {},
   "outputs": [],
   "source": [
    "positions=positions.interpolate()\n",
    "positions['Total']=positions.sum(axis=1)"
   ]
  },
  {
   "cell_type": "code",
   "execution_count": 18,
   "id": "7024f40c-7ebf-4695-83bc-29f9dd397bda",
   "metadata": {},
   "outputs": [],
   "source": [
    "ptf_tickers=list(positions.columns)\n",
    "ptf_tickers.remove('USDTUSDT')"
   ]
  },
  {
   "cell_type": "code",
   "execution_count": 19,
   "id": "3a9a3051-c255-4f0d-be18-894331cd55c9",
   "metadata": {},
   "outputs": [],
   "source": [
    "weights_ex_post=positions.copy()\n",
    "weights_ex_post=weights_ex_post.drop(columns=['USDTUSDT'])\n",
    "weights_ex_post=weights_ex_post.apply(lambda x: x/weights_ex_post['Total'])"
   ]
  },
  {
   "cell_type": "code",
   "execution_count": 20,
   "id": "e4dc6066-1329-4a65-a66e-476690428ca0",
   "metadata": {},
   "outputs": [
    {
     "name": "stdout",
     "output_type": "stream",
     "text": [
      "LDUMAUSDT not retrieved\n",
      "Total not retrieved\n"
     ]
    }
   ],
   "source": [
    "binance_data=Binance.get_price(ptf_tickers,date=datetime.datetime(2024,5,11))\n",
    "binance_data.index=pd.to_datetime(binance_data.index)\n",
    "binance_data=binance_data.sort_index()\n",
    "binance_data=np.log(1+binance_data.pct_change())\n"
   ]
  },
  {
   "cell_type": "code",
   "execution_count": 21,
   "id": "5622e624-6716-491e-97b8-c9d221f0d700",
   "metadata": {},
   "outputs": [],
   "source": [
    "weight_date=set(weights_ex_post.index)\n",
    "binance_date=binance_data.index"
   ]
  },
  {
   "cell_type": "code",
   "execution_count": 22,
   "id": "7d465985-94d7-4b93-b6bc-66a63b13ae4f",
   "metadata": {},
   "outputs": [],
   "source": [
    "common_date=binance_date.intersection(weight_date)\n",
    "\n",
    "binance_data=binance_data.loc[common_date]"
   ]
  },
  {
   "cell_type": "code",
   "execution_count": 23,
   "id": "5c6c4aa2-0952-478c-b077-6c37ba62d297",
   "metadata": {},
   "outputs": [],
   "source": [
    "historical_ptf=pd.DataFrame()\n",
    "\n",
    "for col in binance_data:\n",
    "    historical_ptf[col]=weights_ex_post[col]*binance_data[col]\n",
    "    \n",
    "historical_ptf['Historical Portfolio']=historical_ptf.sum(axis=1)"
   ]
  },
  {
   "cell_type": "code",
   "execution_count": 24,
   "id": "c58b1420-5345-4feb-af42-6f019cfdf19c",
   "metadata": {},
   "outputs": [
    {
     "data": {
      "text/plain": [
       "<AxesSubplot:>"
      ]
     },
     "execution_count": 24,
     "metadata": {},
     "output_type": "execute_result"
    },
    {
     "data": {
      "image/png": "[encoded data removed]",
      "text/plain": [
       "<Figure size 432x288 with 1 Axes>"
      ]
     },
     "metadata": {
      "needs_background": "light"
     },
     "output_type": "display_data"
    }
   ],
   "source": [
    "#historical_ptf.dropna(axis = 0, how = 'all', inplace = True)\n",
    "\n",
    "(1+historical_ptf['Historical Portfolio']).cumprod().plot()"
   ]
  },
  {
   "cell_type": "markdown",
   "id": "234cc405-16b8-4ea6-89f9-bf448d837670",
   "metadata": {},
   "source": [
    "## Ex ante data"
   ]
  },
  {
   "cell_type": "code",
   "execution_count": 25,
   "id": "027c07a0-4c8e-45da-a97d-8cf833597a5f",
   "metadata": {},
   "outputs": [],
   "source": [
    "ex_ante_ptf=ex_ante_perf.copy()\n",
    "\n",
    "for key in inventory_weights.keys():\n",
    "    \n",
    "    ex_ante_ptf[key]=ex_ante_perf[key]*inventory_weights[key]\n",
    "\n",
    "ex_ante_ptf=pd.DataFrame(ex_ante_ptf.sum(axis=1))"
   ]
  },
  {
   "cell_type": "markdown",
   "id": "bbec8b12-d681-4704-a561-9718fbb872e0",
   "metadata": {},
   "source": [
    "# Portfolio Optimization"
   ]
  },
  {
   "cell_type": "markdown",
   "id": "16adc40b-d589-4193-8148-7e7dae06dc7e",
   "metadata": {},
   "source": [
    "## Class set up"
   ]
  },
  {
   "cell_type": "code",
   "execution_count": 26,
   "id": "f27106c8-0433-477e-b0bf-6ca9249004b4",
   "metadata": {},
   "outputs": [],
   "source": [
    "historical_risk=RiskAnalysis(returns_to_use)\n",
    "current_risk=RiskAnalysis(ex_ante_perf_to_use.iloc[:])\n",
    "num_asset=len(returns_to_use.columns)\n",
    "num_asset_current=len(ex_ante_perf_to_use.columns)"
   ]
  },
  {
   "cell_type": "code",
   "execution_count": 27,
   "id": "f55211bf-ba25-4066-a0d2-6cf0ef658786",
   "metadata": {},
   "outputs": [
    {
     "data": {
      "text/plain": [
       "Index(['1000SATSUSDT', 'AAVEUSDT', 'ADAUSDT', 'ALGOUSDT', 'APTUSDT', 'ARBUSDT',\n",
       "       'ARUSDT', 'ATOMUSDT', 'AVAXUSDT', 'AXSUSDT', 'BCHUSDT', 'BNBUSDT',\n",
       "       'BONKUSDT', 'BTCUSDT', 'CFXUSDT', 'DOGEUSDT', 'DOTUSDT', 'EGLDUSDT',\n",
       "       'EOSUSDT', 'ETCUSDT', 'ETHUSDT', 'FDUSDUSDT', 'FETUSDT', 'FILUSDT',\n",
       "       'FLOKIUSDT', 'FLOWUSDT', 'FTMUSDT', 'GALAUSDT', 'GRTUSDT', 'HBARUSDT',\n",
       "       'ICPUSDT', 'IMXUSDT', 'INJUSDT', 'JASMYUSDT', 'LDOUSDT', 'LINKUSDT',\n",
       "       'LTCUSDT', 'MATICUSDT', 'MKRUSDT', 'NEARUSDT', 'NEOUSDT', 'OMUSDT',\n",
       "       'OPUSDT', 'ORDIUSDT', 'PEPEUSDT', 'QNTUSDT', 'RUNEUSDT', 'SANDUSDT',\n",
       "       'SEIUSDT', 'SHIBUSDT', 'SOLUSDT', 'STXUSDT', 'SUIUSDT', 'THETAUSDT',\n",
       "       'TIAUSDT', 'TRXUSDT', 'UNIUSDT', 'USDCUSDT', 'VETUSDT', 'WBETHUSDT',\n",
       "       'WBTCUSDT', 'WLDUSDT', 'XECUSDT', 'XLMUSDT', 'XRPUSDT', 'XTZUSDT'],\n",
       "      dtype='object')"
      ]
     },
     "execution_count": 27,
     "metadata": {},
     "output_type": "execute_result"
    }
   ],
   "source": [
    "returns_to_use.columns"
   ]
  },
  {
   "cell_type": "code",
   "execution_count": 28,
   "id": "eb382de7-0a0b-47f9-83a4-777aef62e9a6",
   "metadata": {},
   "outputs": [],
   "source": [
    "limit_hist=np.where(returns_to_use.columns=='BTCUSDT')[0][0],np.where(returns_to_use.columns=='ETHUSDT')[0][0],np.where(returns_to_use.columns=='SOLUSDT')[0][0]"
   ]
  },
  {
   "cell_type": "markdown",
   "id": "fd2fa57d-de01-4917-8d08-d33930572316",
   "metadata": {},
   "source": [
    "## Optimal Portfolio"
   ]
  },
  {
   "cell_type": "code",
   "execution_count": 29,
   "id": "cc28c771-0d6b-4cda-abc5-865518922520",
   "metadata": {},
   "outputs": [
    {
     "data": {
      "text/html": [
       "<div>\n",
       "<style scoped>\n",
       "    .dataframe tbody tr th:only-of-type {\n",
       "        vertical-align: middle;\n",
       "    }\n",
       "\n",
       "    .dataframe tbody tr th {\n",
       "        vertical-align: top;\n",
       "    }\n",
       "\n",
       "    .dataframe thead th {\n",
       "        text-align: right;\n",
       "    }\n",
       "</style>\n",
       "<table border=\"1\" class=\"dataframe\">\n",
       "  <thead>\n",
       "    <tr style=\"text-align: right;\">\n",
       "      <th></th>\n",
       "      <th>Weights</th>\n",
       "    </tr>\n",
       "  </thead>\n",
       "  <tbody>\n",
       "    <tr>\n",
       "      <th>OMUSDT</th>\n",
       "      <td>0.508965</td>\n",
       "    </tr>\n",
       "    <tr>\n",
       "      <th>BTCUSDT</th>\n",
       "      <td>0.400000</td>\n",
       "    </tr>\n",
       "    <tr>\n",
       "      <th>PEPEUSDT</th>\n",
       "      <td>0.066875</td>\n",
       "    </tr>\n",
       "    <tr>\n",
       "      <th>JASMYUSDT</th>\n",
       "      <td>0.020703</td>\n",
       "    </tr>\n",
       "    <tr>\n",
       "      <th>BNBUSDT</th>\n",
       "      <td>0.003457</td>\n",
       "    </tr>\n",
       "  </tbody>\n",
       "</table>\n",
       "</div>"
      ],
      "text/plain": [
       "            Weights\n",
       "OMUSDT     0.508965\n",
       "BTCUSDT    0.400000\n",
       "PEPEUSDT   0.066875\n",
       "JASMYUSDT  0.020703\n",
       "BNBUSDT    0.003457"
      ]
     },
     "execution_count": 29,
     "metadata": {},
     "output_type": "execute_result"
    }
   ],
   "source": [
    "opt_weights=historical_risk.optimize(objective=\"sharpe_ratio\",constraints=[{'type': 'ineq', 'fun': lambda weights: weights[limit_hist[0]]-0.40}])\n",
    "                                                         #  ,{'type': 'ineq', 'fun': lambda weights: weights[limit[1]]-0.15},\n",
    "                                                        #{'type': 'ineq', 'fun': lambda weights: weights[limit[2]]-0.15}])\n",
    "opt_weights=np.round(opt_weights,6)\n",
    "inventory=historical_risk.inventory(opt_weights)\n",
    "inventory"
   ]
  },
  {
   "cell_type": "code",
   "execution_count": 30,
   "id": "81a3f562-6810-4e1b-91d1-a7282a3ff347",
   "metadata": {},
   "outputs": [],
   "source": [
    "limit=np.where(ex_ante_perf_to_use.columns=='BTCUSDT')[0][0],np.where(ex_ante_perf_to_use.columns=='ETHUSDT')[0][0],np.where(ex_ante_perf_to_use.columns=='SOLUSDT')[0][0]"
   ]
  },
  {
   "cell_type": "code",
   "execution_count": 31,
   "id": "75be66f1-0ad0-41c8-8807-16e73d711edf",
   "metadata": {},
   "outputs": [
    {
     "data": {
      "text/html": [
       "<div>\n",
       "<style scoped>\n",
       "    .dataframe tbody tr th:only-of-type {\n",
       "        vertical-align: middle;\n",
       "    }\n",
       "\n",
       "    .dataframe tbody tr th {\n",
       "        vertical-align: top;\n",
       "    }\n",
       "\n",
       "    .dataframe thead th {\n",
       "        text-align: right;\n",
       "    }\n",
       "</style>\n",
       "<table border=\"1\" class=\"dataframe\">\n",
       "  <thead>\n",
       "    <tr style=\"text-align: right;\">\n",
       "      <th></th>\n",
       "      <th>Weights</th>\n",
       "    </tr>\n",
       "  </thead>\n",
       "  <tbody>\n",
       "    <tr>\n",
       "      <th>TRXUSDT</th>\n",
       "      <td>0.875206</td>\n",
       "    </tr>\n",
       "    <tr>\n",
       "      <th>OMUSDT</th>\n",
       "      <td>0.124794</td>\n",
       "    </tr>\n",
       "  </tbody>\n",
       "</table>\n",
       "</div>"
      ],
      "text/plain": [
       "          Weights\n",
       "TRXUSDT  0.875206\n",
       "OMUSDT   0.124794"
      ]
     },
     "execution_count": 31,
     "metadata": {},
     "output_type": "execute_result"
    }
   ],
   "source": [
    "current_optimal_weights=current_risk.optimize(objective=\"sharpe_ratio\")#,constraints=[{'type': 'ineq', 'fun': lambda weights: weights[limit[0]]-0.40}])\n",
    "                                                           #,{'type': 'ineq', 'fun': lambda weights: weights[limit[1]]-0.15},\n",
    "                                                            #{'type': 'ineq', 'fun': lambda weights: weights[limit[2]]-0.15}])\n",
    "current_optimal_weights=np.round(current_optimal_weights,6)\n",
    "optimal_ptf_current=current_risk.inventory(current_optimal_weights)\n",
    "optimal_ptf_current"
   ]
  },
  {
   "cell_type": "markdown",
   "id": "555e4cdf-3f8d-445a-b5d7-e35eb59aa4b2",
   "metadata": {},
   "source": [
    "## Real Portfolio vs Optimal"
   ]
  },
  {
   "cell_type": "code",
   "execution_count": 32,
   "id": "1f55a04d-3575-446a-a801-7824e452dd57",
   "metadata": {},
   "outputs": [
    {
     "data": {
      "text/html": [
       "<div>\n",
       "<style scoped>\n",
       "    .dataframe tbody tr th:only-of-type {\n",
       "        vertical-align: middle;\n",
       "    }\n",
       "\n",
       "    .dataframe tbody tr th {\n",
       "        vertical-align: top;\n",
       "    }\n",
       "\n",
       "    .dataframe thead th {\n",
       "        text-align: right;\n",
       "    }\n",
       "</style>\n",
       "<table border=\"1\" class=\"dataframe\">\n",
       "  <thead>\n",
       "    <tr style=\"text-align: right;\">\n",
       "      <th></th>\n",
       "      <th>Price in USDT</th>\n",
       "      <th>Weights in %</th>\n",
       "      <th>Weights</th>\n",
       "      <th>Spread</th>\n",
       "    </tr>\n",
       "  </thead>\n",
       "  <tbody>\n",
       "    <tr>\n",
       "      <th>BTCUSDT</th>\n",
       "      <td>574.967119</td>\n",
       "      <td>3.276375e-01</td>\n",
       "      <td>0.000000</td>\n",
       "      <td>0.000000</td>\n",
       "    </tr>\n",
       "    <tr>\n",
       "      <th>TRXUSDT</th>\n",
       "      <td>300.542396</td>\n",
       "      <td>1.712601e-01</td>\n",
       "      <td>0.875206</td>\n",
       "      <td>-0.703946</td>\n",
       "    </tr>\n",
       "    <tr>\n",
       "      <th>JASMYUSDT</th>\n",
       "      <td>245.623715</td>\n",
       "      <td>1.399655e-01</td>\n",
       "      <td>0.000000</td>\n",
       "      <td>0.000000</td>\n",
       "    </tr>\n",
       "    <tr>\n",
       "      <th>SOLUSDT</th>\n",
       "      <td>238.003601</td>\n",
       "      <td>1.356232e-01</td>\n",
       "      <td>0.000000</td>\n",
       "      <td>0.000000</td>\n",
       "    </tr>\n",
       "    <tr>\n",
       "      <th>OMUSDT</th>\n",
       "      <td>196.848700</td>\n",
       "      <td>1.121717e-01</td>\n",
       "      <td>0.124794</td>\n",
       "      <td>-0.012622</td>\n",
       "    </tr>\n",
       "    <tr>\n",
       "      <th>ETHUSDT</th>\n",
       "      <td>162.293514</td>\n",
       "      <td>9.248083e-02</td>\n",
       "      <td>0.000000</td>\n",
       "      <td>0.000000</td>\n",
       "    </tr>\n",
       "    <tr>\n",
       "      <th>BBUSDT</th>\n",
       "      <td>36.588353</td>\n",
       "      <td>2.084939e-02</td>\n",
       "      <td>0.000000</td>\n",
       "      <td>0.000000</td>\n",
       "    </tr>\n",
       "    <tr>\n",
       "      <th>BNBUSDT</th>\n",
       "      <td>0.020702</td>\n",
       "      <td>1.179672e-05</td>\n",
       "      <td>0.000000</td>\n",
       "      <td>0.000000</td>\n",
       "    </tr>\n",
       "    <tr>\n",
       "      <th>PEPEUSDT</th>\n",
       "      <td>0.000002</td>\n",
       "      <td>9.956190e-10</td>\n",
       "      <td>0.000000</td>\n",
       "      <td>0.000000</td>\n",
       "    </tr>\n",
       "  </tbody>\n",
       "</table>\n",
       "</div>"
      ],
      "text/plain": [
       "           Price in USDT  Weights in %   Weights    Spread\n",
       "BTCUSDT       574.967119  3.276375e-01  0.000000  0.000000\n",
       "TRXUSDT       300.542396  1.712601e-01  0.875206 -0.703946\n",
       "JASMYUSDT     245.623715  1.399655e-01  0.000000  0.000000\n",
       "SOLUSDT       238.003601  1.356232e-01  0.000000  0.000000\n",
       "OMUSDT        196.848700  1.121717e-01  0.124794 -0.012622\n",
       "ETHUSDT       162.293514  9.248083e-02  0.000000  0.000000\n",
       "BBUSDT         36.588353  2.084939e-02  0.000000  0.000000\n",
       "BNBUSDT         0.020702  1.179672e-05  0.000000  0.000000\n",
       "PEPEUSDT        0.000002  9.956190e-10  0.000000  0.000000"
      ]
     },
     "execution_count": 32,
     "metadata": {},
     "output_type": "execute_result"
    }
   ],
   "source": [
    "current_holding_comparison=holding.copy()\n",
    "current_holding_comparison=current_holding_comparison.loc[current_holding_comparison.index!=\"Total\"]\n",
    "current_holding_comparison=pd.concat([current_holding_comparison,optimal_ptf_current],axis=1)\n",
    "current_holding_comparison['Spread']=current_holding_comparison['Weights in %']-current_holding_comparison['Weights']\n",
    "current_holding_comparison=current_holding_comparison.fillna(0)\n",
    "current_holding_comparison"
   ]
  },
  {
   "cell_type": "code",
   "execution_count": 33,
   "id": "c02b695b-bfaa-4eef-9212-e0b2717db2a0",
   "metadata": {},
   "outputs": [
    {
     "data": {
      "text/html": [
       "<div>\n",
       "<style scoped>\n",
       "    .dataframe tbody tr th:only-of-type {\n",
       "        vertical-align: middle;\n",
       "    }\n",
       "\n",
       "    .dataframe tbody tr th {\n",
       "        vertical-align: top;\n",
       "    }\n",
       "\n",
       "    .dataframe thead th {\n",
       "        text-align: right;\n",
       "    }\n",
       "</style>\n",
       "<table border=\"1\" class=\"dataframe\">\n",
       "  <thead>\n",
       "    <tr style=\"text-align: right;\">\n",
       "      <th></th>\n",
       "      <th>Price in USDT</th>\n",
       "      <th>Weights in %</th>\n",
       "      <th>Weights</th>\n",
       "      <th>Spread</th>\n",
       "    </tr>\n",
       "  </thead>\n",
       "  <tbody>\n",
       "    <tr>\n",
       "      <th>BTCUSDT</th>\n",
       "      <td>574.967119</td>\n",
       "      <td>3.276375e-01</td>\n",
       "      <td>0.400000</td>\n",
       "      <td>-0.072363</td>\n",
       "    </tr>\n",
       "    <tr>\n",
       "      <th>TRXUSDT</th>\n",
       "      <td>300.542396</td>\n",
       "      <td>1.712601e-01</td>\n",
       "      <td>0.000000</td>\n",
       "      <td>0.000000</td>\n",
       "    </tr>\n",
       "    <tr>\n",
       "      <th>JASMYUSDT</th>\n",
       "      <td>245.623715</td>\n",
       "      <td>1.399655e-01</td>\n",
       "      <td>0.020703</td>\n",
       "      <td>0.119262</td>\n",
       "    </tr>\n",
       "    <tr>\n",
       "      <th>SOLUSDT</th>\n",
       "      <td>238.003601</td>\n",
       "      <td>1.356232e-01</td>\n",
       "      <td>0.000000</td>\n",
       "      <td>0.000000</td>\n",
       "    </tr>\n",
       "    <tr>\n",
       "      <th>OMUSDT</th>\n",
       "      <td>196.848700</td>\n",
       "      <td>1.121717e-01</td>\n",
       "      <td>0.508965</td>\n",
       "      <td>-0.396793</td>\n",
       "    </tr>\n",
       "    <tr>\n",
       "      <th>ETHUSDT</th>\n",
       "      <td>162.293514</td>\n",
       "      <td>9.248083e-02</td>\n",
       "      <td>0.000000</td>\n",
       "      <td>0.000000</td>\n",
       "    </tr>\n",
       "    <tr>\n",
       "      <th>BBUSDT</th>\n",
       "      <td>36.588353</td>\n",
       "      <td>2.084939e-02</td>\n",
       "      <td>0.000000</td>\n",
       "      <td>0.000000</td>\n",
       "    </tr>\n",
       "    <tr>\n",
       "      <th>BNBUSDT</th>\n",
       "      <td>0.020702</td>\n",
       "      <td>1.179672e-05</td>\n",
       "      <td>0.003457</td>\n",
       "      <td>-0.003445</td>\n",
       "    </tr>\n",
       "    <tr>\n",
       "      <th>PEPEUSDT</th>\n",
       "      <td>0.000002</td>\n",
       "      <td>9.956190e-10</td>\n",
       "      <td>0.066875</td>\n",
       "      <td>-0.066875</td>\n",
       "    </tr>\n",
       "  </tbody>\n",
       "</table>\n",
       "</div>"
      ],
      "text/plain": [
       "           Price in USDT  Weights in %   Weights    Spread\n",
       "BTCUSDT       574.967119  3.276375e-01  0.400000 -0.072363\n",
       "TRXUSDT       300.542396  1.712601e-01  0.000000  0.000000\n",
       "JASMYUSDT     245.623715  1.399655e-01  0.020703  0.119262\n",
       "SOLUSDT       238.003601  1.356232e-01  0.000000  0.000000\n",
       "OMUSDT        196.848700  1.121717e-01  0.508965 -0.396793\n",
       "ETHUSDT       162.293514  9.248083e-02  0.000000  0.000000\n",
       "BBUSDT         36.588353  2.084939e-02  0.000000  0.000000\n",
       "BNBUSDT         0.020702  1.179672e-05  0.003457 -0.003445\n",
       "PEPEUSDT        0.000002  9.956190e-10  0.066875 -0.066875"
      ]
     },
     "execution_count": 33,
     "metadata": {},
     "output_type": "execute_result"
    }
   ],
   "source": [
    "historical_comparison=holding.copy()\n",
    "historical_comparison=historical_comparison.loc[historical_comparison.index!=\"Total\"]\n",
    "historical_comparison=pd.concat([historical_comparison,inventory],axis=1)\n",
    "historical_comparison['Spread']=historical_comparison['Weights in %']-historical_comparison['Weights']\n",
    "historical_comparison=historical_comparison.fillna(0)\n",
    "historical_comparison"
   ]
  },
  {
   "cell_type": "markdown",
   "id": "e764e7c3-19aa-4638-bd23-a2ec30f727c6",
   "metadata": {},
   "source": [
    "# Risk Reward Analysis"
   ]
  },
  {
   "cell_type": "code",
   "execution_count": 34,
   "id": "7290db47-647c-4950-95e9-078b23d37888",
   "metadata": {},
   "outputs": [],
   "source": [
    "opt_ptf=(returns_to_use*opt_weights).sum(axis=1)\n",
    "curr_opt_ptf=(ex_ante_perf*current_optimal_weights).sum(axis=1)\n",
    "portfolio_perf=pd.DataFrame()\n",
    "portfolio_perf['Portfolio']=(ex_ante_perf*current_weights).sum(axis=1)"
   ]
  },
  {
   "cell_type": "code",
   "execution_count": 35,
   "id": "7a7b7f35-933b-4a67-af34-67d3f58c0f57",
   "metadata": {},
   "outputs": [],
   "source": [
    "portfolio_perf['Bitcoin']=returns['BTCUSDT']\n",
    "portfolio_perf['Optimal']=opt_ptf\n",
    "portfolio_perf['Current Optimal']=curr_opt_ptf"
   ]
  },
  {
   "cell_type": "code",
   "execution_count": 36,
   "id": "70752cdf-305d-4814-b99a-2c21effe6cf5",
   "metadata": {},
   "outputs": [
    {
     "data": {
      "text/plain": [
       "<AxesSubplot:>"
      ]
     },
     "execution_count": 36,
     "metadata": {},
     "output_type": "execute_result"
    },
    {
     "data": {
      "image/png": "[encoded data removed]",
      "text/plain": [
       "<Figure size 432x288 with 1 Axes>"
      ]
     },
     "metadata": {
      "needs_background": "light"
     },
     "output_type": "display_data"
    }
   ],
   "source": [
    "(1+portfolio_perf.iloc[:]).cumprod().plot()"
   ]
  },
  {
   "cell_type": "code",
   "execution_count": 37,
   "id": "83bf55a4-5fe4-48a7-af9b-89d4d8de4824",
   "metadata": {},
   "outputs": [],
   "source": [
    "current_perf=portfolio_perf.copy()\n",
    "current_perf=current_perf.loc[historical_ptf.index]\n",
    "current_perf['Historical Portfolio']=historical_ptf['Historical Portfolio']"
   ]
  },
  {
   "cell_type": "code",
   "execution_count": 38,
   "id": "4d17e532-f112-4c6b-a891-1d03f0b5d647",
   "metadata": {},
   "outputs": [
    {
     "data": {
      "text/plain": [
       "<AxesSubplot:>"
      ]
     },
     "execution_count": 38,
     "metadata": {},
     "output_type": "execute_result"
    },
    {
     "data": {
      "image/png": "[encoded data removed]",
      "text/plain": [
       "<Figure size 432x288 with 1 Axes>"
      ]
     },
     "metadata": {
      "needs_background": "light"
     },
     "output_type": "display_data"
    }
   ],
   "source": [
    "((1+current_perf.iloc[:]).cumprod()*100).plot()"
   ]
  },
  {
   "cell_type": "code",
   "execution_count": 39,
   "id": "21f2d4e1-1681-4132-aeea-7125d188f981",
   "metadata": {},
   "outputs": [
    {
     "data": {
      "text/html": [
       "<div>\n",
       "<style scoped>\n",
       "    .dataframe tbody tr th:only-of-type {\n",
       "        vertical-align: middle;\n",
       "    }\n",
       "\n",
       "    .dataframe tbody tr th {\n",
       "        vertical-align: top;\n",
       "    }\n",
       "\n",
       "    .dataframe thead th {\n",
       "        text-align: right;\n",
       "    }\n",
       "</style>\n",
       "<table border=\"1\" class=\"dataframe\">\n",
       "  <thead>\n",
       "    <tr style=\"text-align: right;\">\n",
       "      <th></th>\n",
       "      <th>Portfolio</th>\n",
       "      <th>Bitcoin</th>\n",
       "      <th>Optimal</th>\n",
       "      <th>Current Optimal</th>\n",
       "      <th>Historical Portfolio</th>\n",
       "    </tr>\n",
       "  </thead>\n",
       "  <tbody>\n",
       "    <tr>\n",
       "      <th>2024-08-30</th>\n",
       "      <td>86.744613</td>\n",
       "      <td>84.270178</td>\n",
       "      <td>94.182279</td>\n",
       "      <td>128.665576</td>\n",
       "      <td>74.210191</td>\n",
       "    </tr>\n",
       "    <tr>\n",
       "      <th>2024-08-31</th>\n",
       "      <td>85.636151</td>\n",
       "      <td>84.056109</td>\n",
       "      <td>92.926805</td>\n",
       "      <td>126.709769</td>\n",
       "      <td>73.287799</td>\n",
       "    </tr>\n",
       "    <tr>\n",
       "      <th>2024-09-01</th>\n",
       "      <td>82.823978</td>\n",
       "      <td>81.638368</td>\n",
       "      <td>89.837955</td>\n",
       "      <td>124.706689</td>\n",
       "      <td>70.888670</td>\n",
       "    </tr>\n",
       "    <tr>\n",
       "      <th>2024-09-02</th>\n",
       "      <td>86.142417</td>\n",
       "      <td>84.205189</td>\n",
       "      <td>96.929848</td>\n",
       "      <td>125.591728</td>\n",
       "      <td>73.774701</td>\n",
       "    </tr>\n",
       "    <tr>\n",
       "      <th>2024-09-03</th>\n",
       "      <td>83.034339</td>\n",
       "      <td>81.830358</td>\n",
       "      <td>93.497197</td>\n",
       "      <td>122.158813</td>\n",
       "      <td>71.119955</td>\n",
       "    </tr>\n",
       "    <tr>\n",
       "      <th>2024-09-04</th>\n",
       "      <td>84.470836</td>\n",
       "      <td>82.515248</td>\n",
       "      <td>94.657170</td>\n",
       "      <td>122.175233</td>\n",
       "      <td>72.341855</td>\n",
       "    </tr>\n",
       "    <tr>\n",
       "      <th>2024-09-05</th>\n",
       "      <td>81.869129</td>\n",
       "      <td>79.925891</td>\n",
       "      <td>90.368056</td>\n",
       "      <td>121.144219</td>\n",
       "      <td>70.104808</td>\n",
       "    </tr>\n",
       "    <tr>\n",
       "      <th>2024-09-06</th>\n",
       "      <td>79.716952</td>\n",
       "      <td>76.707855</td>\n",
       "      <td>87.605367</td>\n",
       "      <td>119.414838</td>\n",
       "      <td>68.257851</td>\n",
       "    </tr>\n",
       "    <tr>\n",
       "      <th>2024-09-07</th>\n",
       "      <td>80.265979</td>\n",
       "      <td>76.988639</td>\n",
       "      <td>86.219457</td>\n",
       "      <td>121.458249</td>\n",
       "      <td>68.741021</td>\n",
       "    </tr>\n",
       "    <tr>\n",
       "      <th>2024-09-08</th>\n",
       "      <td>81.358558</td>\n",
       "      <td>77.990056</td>\n",
       "      <td>87.813986</td>\n",
       "      <td>122.945161</td>\n",
       "      <td>69.673872</td>\n",
       "    </tr>\n",
       "  </tbody>\n",
       "</table>\n",
       "</div>"
      ],
      "text/plain": [
       "            Portfolio    Bitcoin    Optimal  Current Optimal  \\\n",
       "2024-08-30  86.744613  84.270178  94.182279       128.665576   \n",
       "2024-08-31  85.636151  84.056109  92.926805       126.709769   \n",
       "2024-09-01  82.823978  81.638368  89.837955       124.706689   \n",
       "2024-09-02  86.142417  84.205189  96.929848       125.591728   \n",
       "2024-09-03  83.034339  81.830358  93.497197       122.158813   \n",
       "2024-09-04  84.470836  82.515248  94.657170       122.175233   \n",
       "2024-09-05  81.869129  79.925891  90.368056       121.144219   \n",
       "2024-09-06  79.716952  76.707855  87.605367       119.414838   \n",
       "2024-09-07  80.265979  76.988639  86.219457       121.458249   \n",
       "2024-09-08  81.358558  77.990056  87.813986       122.945161   \n",
       "\n",
       "            Historical Portfolio  \n",
       "2024-08-30             74.210191  \n",
       "2024-08-31             73.287799  \n",
       "2024-09-01             70.888670  \n",
       "2024-09-02             73.774701  \n",
       "2024-09-03             71.119955  \n",
       "2024-09-04             72.341855  \n",
       "2024-09-05             70.104808  \n",
       "2024-09-06             68.257851  \n",
       "2024-09-07             68.741021  \n",
       "2024-09-08             69.673872  "
      ]
     },
     "execution_count": 39,
     "metadata": {},
     "output_type": "execute_result"
    }
   ],
   "source": [
    "((1+current_perf).cumprod()*100).iloc[-10:]"
   ]
  },
  {
   "cell_type": "code",
   "execution_count": 40,
   "id": "77e16e0f-ae22-4b8f-b083-f9a1b736b9e0",
   "metadata": {},
   "outputs": [
    {
     "data": {
      "text/plain": [
       "<AxesSubplot:>"
      ]
     },
     "execution_count": 40,
     "metadata": {},
     "output_type": "execute_result"
    },
    {
     "data": {
      "image/png": "[encoded data removed]",
      "text/plain": [
       "<Figure size 720x720 with 1 Axes>"
      ]
     },
     "metadata": {
      "needs_background": "light"
     },
     "output_type": "display_data"
    }
   ],
   "source": [
    "plt.figure(figsize=(10,10))\n",
    "sns.lineplot(data=weights_ex_post,legend=False,linestyle='solid')"
   ]
  },
  {
   "cell_type": "markdown",
   "id": "7992e950-2f84-4f07-8b9f-3e343e0f0df3",
   "metadata": {},
   "source": [
    "## Volatilities"
   ]
  },
  {
   "cell_type": "code",
   "execution_count": 41,
   "id": "311f0004-e145-4fc5-8766-ca40d8f08e29",
   "metadata": {},
   "outputs": [
    {
     "data": {
      "text/plain": [
       "Portfolio    0.778715\n",
       "dtype: float64"
      ]
     },
     "execution_count": 41,
     "metadata": {},
     "output_type": "execute_result"
    }
   ],
   "source": [
    "vol=historical_risk.portfolio(opt_weights).std()*np.sqrt(252)\n",
    "\n",
    "vol"
   ]
  },
  {
   "cell_type": "code",
   "execution_count": 42,
   "id": "7741abc3-75be-4948-b6f7-6024b48ced93",
   "metadata": {},
   "outputs": [
    {
     "data": {
      "text/plain": [
       "Portfolio    0.485\n",
       "dtype: float64"
      ]
     },
     "execution_count": 42,
     "metadata": {},
     "output_type": "execute_result"
    }
   ],
   "source": [
    "vol=current_risk.portfolio(current_weights).std()*np.sqrt(252)\n",
    "\n",
    "vol"
   ]
  },
  {
   "cell_type": "code",
   "execution_count": 43,
   "id": "c1bc68d5-494d-4064-9958-9b280c70a8a3",
   "metadata": {},
   "outputs": [
    {
     "data": {
      "text/plain": [
       "Portfolio          0.481632\n",
       "Bitcoin            0.449675\n",
       "Optimal            0.780056\n",
       "Current Optimal    0.334135\n",
       "dtype: float64"
      ]
     },
     "execution_count": 43,
     "metadata": {},
     "output_type": "execute_result"
    }
   ],
   "source": [
    "portfolio_perf.iloc[1:].std()*np.sqrt(252)"
   ]
  },
  {
   "cell_type": "code",
   "execution_count": 44,
   "id": "df99b746-dc9d-4c5c-b005-432bba654f31",
   "metadata": {},
   "outputs": [
    {
     "data": {
      "text/plain": [
       "0.2550923633591636"
      ]
     },
     "execution_count": 44,
     "metadata": {},
     "output_type": "execute_result"
    }
   ],
   "source": [
    "current_risk.tracking_error(current_risk.returns['BTCUSDT'],current_perf['Historical Portfolio'])"
   ]
  },
  {
   "cell_type": "markdown",
   "id": "c72a30da-fc11-412e-8182-6f508f5dc3dd",
   "metadata": {},
   "source": [
    "## Risk Contribution"
   ]
  },
  {
   "cell_type": "code",
   "execution_count": 45,
   "id": "7682daae-950a-4ab2-a5a5-a7a9ad164953",
   "metadata": {},
   "outputs": [
    {
     "data": {
      "text/html": [
       "<div>\n",
       "<style scoped>\n",
       "    .dataframe tbody tr th:only-of-type {\n",
       "        vertical-align: middle;\n",
       "    }\n",
       "\n",
       "    .dataframe tbody tr th {\n",
       "        vertical-align: top;\n",
       "    }\n",
       "\n",
       "    .dataframe thead th {\n",
       "        text-align: right;\n",
       "    }\n",
       "</style>\n",
       "<table border=\"1\" class=\"dataframe\">\n",
       "  <thead>\n",
       "    <tr style=\"text-align: right;\">\n",
       "      <th></th>\n",
       "      <th>Performance Contribution in %</th>\n",
       "      <th>Last Weights</th>\n",
       "      <th>Variance Contribution in %</th>\n",
       "      <th>Idiosyncratic Risk in %</th>\n",
       "      <th>Correlation in %</th>\n",
       "    </tr>\n",
       "  </thead>\n",
       "  <tbody>\n",
       "    <tr>\n",
       "      <th>BNBUSDT</th>\n",
       "      <td>0.000411</td>\n",
       "      <td>0.000743</td>\n",
       "      <td>0.000888</td>\n",
       "      <td>0.000005</td>\n",
       "      <td>0.000883</td>\n",
       "    </tr>\n",
       "    <tr>\n",
       "      <th>BTCUSDT</th>\n",
       "      <td>0.016523</td>\n",
       "      <td>0.058314</td>\n",
       "      <td>0.141982</td>\n",
       "      <td>0.053170</td>\n",
       "      <td>0.088812</td>\n",
       "    </tr>\n",
       "    <tr>\n",
       "      <th>JASMYUSDT</th>\n",
       "      <td>0.002603</td>\n",
       "      <td>0.004575</td>\n",
       "      <td>0.010398</td>\n",
       "      <td>0.000870</td>\n",
       "      <td>0.009528</td>\n",
       "    </tr>\n",
       "    <tr>\n",
       "      <th>OMUSDT</th>\n",
       "      <td>0.966970</td>\n",
       "      <td>0.917056</td>\n",
       "      <td>0.796796</td>\n",
       "      <td>0.705721</td>\n",
       "      <td>0.091075</td>\n",
       "    </tr>\n",
       "    <tr>\n",
       "      <th>PEPEUSDT</th>\n",
       "      <td>0.013494</td>\n",
       "      <td>0.019311</td>\n",
       "      <td>0.049935</td>\n",
       "      <td>0.012741</td>\n",
       "      <td>0.037194</td>\n",
       "    </tr>\n",
       "  </tbody>\n",
       "</table>\n",
       "</div>"
      ],
      "text/plain": [
       "           Performance Contribution in %  Last Weights  \\\n",
       "BNBUSDT                         0.000411      0.000743   \n",
       "BTCUSDT                         0.016523      0.058314   \n",
       "JASMYUSDT                       0.002603      0.004575   \n",
       "OMUSDT                          0.966970      0.917056   \n",
       "PEPEUSDT                        0.013494      0.019311   \n",
       "\n",
       "           Variance Contribution in %  Idiosyncratic Risk in %  \\\n",
       "BNBUSDT                      0.000888                 0.000005   \n",
       "BTCUSDT                      0.141982                 0.053170   \n",
       "JASMYUSDT                    0.010398                 0.000870   \n",
       "OMUSDT                       0.796796                 0.705721   \n",
       "PEPEUSDT                     0.049935                 0.012741   \n",
       "\n",
       "           Correlation in %  \n",
       "BNBUSDT            0.000883  \n",
       "BTCUSDT            0.088812  \n",
       "JASMYUSDT          0.009528  \n",
       "OMUSDT             0.091075  \n",
       "PEPEUSDT           0.037194  "
      ]
     },
     "execution_count": 45,
     "metadata": {},
     "output_type": "execute_result"
    }
   ],
   "source": [
    "perf_analysis=pd.concat([historical_risk.perf_contrib_pct(opt_weights),historical_risk.var_contrib_pct(opt_weights)],axis=1)\n",
    "perf_analysis"
   ]
  },
  {
   "cell_type": "code",
   "execution_count": 46,
   "id": "109d4f15-0bb7-435b-9dc5-0bb7bc6dcffc",
   "metadata": {},
   "outputs": [
    {
     "data": {
      "text/html": [
       "<div>\n",
       "<style scoped>\n",
       "    .dataframe tbody tr th:only-of-type {\n",
       "        vertical-align: middle;\n",
       "    }\n",
       "\n",
       "    .dataframe tbody tr th {\n",
       "        vertical-align: top;\n",
       "    }\n",
       "\n",
       "    .dataframe thead th {\n",
       "        text-align: right;\n",
       "    }\n",
       "</style>\n",
       "<table border=\"1\" class=\"dataframe\">\n",
       "  <thead>\n",
       "    <tr style=\"text-align: right;\">\n",
       "      <th></th>\n",
       "      <th>Performance Contribution in %</th>\n",
       "      <th>Last Weights</th>\n",
       "      <th>Variance Contribution in %</th>\n",
       "      <th>Idiosyncratic Risk in %</th>\n",
       "      <th>Correlation in %</th>\n",
       "    </tr>\n",
       "  </thead>\n",
       "  <tbody>\n",
       "    <tr>\n",
       "      <th>BTCUSDT</th>\n",
       "      <td>0.537807</td>\n",
       "      <td>0.310530</td>\n",
       "      <td>0.266421</td>\n",
       "      <td>0.085079</td>\n",
       "      <td>0.181343</td>\n",
       "    </tr>\n",
       "    <tr>\n",
       "      <th>TRXUSDT</th>\n",
       "      <td>-0.403143</td>\n",
       "      <td>0.223699</td>\n",
       "      <td>0.045089</td>\n",
       "      <td>0.012763</td>\n",
       "      <td>0.032326</td>\n",
       "    </tr>\n",
       "    <tr>\n",
       "      <th>JASMYUSDT</th>\n",
       "      <td>0.291517</td>\n",
       "      <td>0.125804</td>\n",
       "      <td>0.249281</td>\n",
       "      <td>0.087833</td>\n",
       "      <td>0.161448</td>\n",
       "    </tr>\n",
       "    <tr>\n",
       "      <th>SOLUSDT</th>\n",
       "      <td>0.316615</td>\n",
       "      <td>0.123453</td>\n",
       "      <td>0.174828</td>\n",
       "      <td>0.040236</td>\n",
       "      <td>0.134593</td>\n",
       "    </tr>\n",
       "    <tr>\n",
       "      <th>OMUSDT</th>\n",
       "      <td>-0.155923</td>\n",
       "      <td>0.134915</td>\n",
       "      <td>0.136057</td>\n",
       "      <td>0.039785</td>\n",
       "      <td>0.096272</td>\n",
       "    </tr>\n",
       "    <tr>\n",
       "      <th>ETHUSDT</th>\n",
       "      <td>0.277773</td>\n",
       "      <td>0.072407</td>\n",
       "      <td>0.087271</td>\n",
       "      <td>0.011144</td>\n",
       "      <td>0.076128</td>\n",
       "    </tr>\n",
       "    <tr>\n",
       "      <th>BBUSDT</th>\n",
       "      <td>0.135354</td>\n",
       "      <td>0.009192</td>\n",
       "      <td>0.041052</td>\n",
       "      <td>0.003798</td>\n",
       "      <td>0.037254</td>\n",
       "    </tr>\n",
       "  </tbody>\n",
       "</table>\n",
       "</div>"
      ],
      "text/plain": [
       "           Performance Contribution in %  Last Weights  \\\n",
       "BTCUSDT                         0.537807      0.310530   \n",
       "TRXUSDT                        -0.403143      0.223699   \n",
       "JASMYUSDT                       0.291517      0.125804   \n",
       "SOLUSDT                         0.316615      0.123453   \n",
       "OMUSDT                         -0.155923      0.134915   \n",
       "ETHUSDT                         0.277773      0.072407   \n",
       "BBUSDT                          0.135354      0.009192   \n",
       "\n",
       "           Variance Contribution in %  Idiosyncratic Risk in %  \\\n",
       "BTCUSDT                      0.266421                 0.085079   \n",
       "TRXUSDT                      0.045089                 0.012763   \n",
       "JASMYUSDT                    0.249281                 0.087833   \n",
       "SOLUSDT                      0.174828                 0.040236   \n",
       "OMUSDT                       0.136057                 0.039785   \n",
       "ETHUSDT                      0.087271                 0.011144   \n",
       "BBUSDT                       0.041052                 0.003798   \n",
       "\n",
       "           Correlation in %  \n",
       "BTCUSDT            0.181343  \n",
       "TRXUSDT            0.032326  \n",
       "JASMYUSDT          0.161448  \n",
       "SOLUSDT            0.134593  \n",
       "OMUSDT             0.096272  \n",
       "ETHUSDT            0.076128  \n",
       "BBUSDT             0.037254  "
      ]
     },
     "execution_count": 46,
     "metadata": {},
     "output_type": "execute_result"
    }
   ],
   "source": [
    "perf_analysis=pd.concat([current_risk.perf_contrib_pct(current_weights),current_risk.var_contrib_pct(current_weights)],axis=1)\n",
    "perf_analysis"
   ]
  },
  {
   "cell_type": "markdown",
   "id": "0130bfc3-e631-4a88-b313-7d1e01f8559a",
   "metadata": {
    "tags": []
   },
   "source": [
    "# Value At Risk"
   ]
  },
  {
   "cell_type": "markdown",
   "id": "71d68cce-1a6e-45aa-a85f-47588679e563",
   "metadata": {},
   "source": [
    "## Historical"
   ]
  },
  {
   "cell_type": "code",
   "execution_count": 47,
   "id": "b2388772-2291-494e-ac78-6a9f836e398d",
   "metadata": {},
   "outputs": [
    {
     "data": {
      "text/plain": [
       "(-0.06429509621508919, -0.09003631184106463)"
      ]
     },
     "execution_count": 47,
     "metadata": {},
     "output_type": "execute_result"
    }
   ],
   "source": [
    "var,cvar=historical_risk.historical_var(opt_weights)\n",
    "(var,cvar)"
   ]
  },
  {
   "cell_type": "code",
   "execution_count": 48,
   "id": "b748061e-7cef-4f96-986c-6cc89b4febd4",
   "metadata": {},
   "outputs": [
    {
     "data": {
      "text/plain": [
       "(-0.05021500591232981, -0.06449086861384838)"
      ]
     },
     "execution_count": 48,
     "metadata": {},
     "output_type": "execute_result"
    }
   ],
   "source": [
    "var,cvar=current_risk.historical_var(current_weights)\n",
    "(var,cvar)"
   ]
  },
  {
   "cell_type": "code",
   "execution_count": 49,
   "id": "bb9ae5ba-6521-47af-992e-2a3972e29e87",
   "metadata": {},
   "outputs": [],
   "source": [
    "historical_var=current_risk.returns*current_weights\n",
    "historical_var['Portfolio']=historical_var.sum(axis=1)\n",
    "historical_var=historical_var.sort_values(by='Portfolio')\n",
    "centile=0.05\n",
    "row=round(historical_var.shape[0]*centile)"
   ]
  },
  {
   "cell_type": "code",
   "execution_count": 50,
   "id": "8c24e902-85a4-44be-a457-f95e2184a7ea",
   "metadata": {},
   "outputs": [
    {
     "data": {
      "text/plain": [
       "BTCUSDT     -0.012198\n",
       "TRXUSDT     -0.001854\n",
       "JASMYUSDT   -0.011217\n",
       "SOLUSDT     -0.011791\n",
       "OMUSDT      -0.009065\n",
       "ETHUSDT     -0.001901\n",
       "BBUSDT      -0.002028\n",
       "BNBUSDT     -0.000000\n",
       "PEPEUSDT    -0.000000\n",
       "Portfolio   -0.050054\n",
       "Name: 2024-08-11 00:00:00, dtype: float64"
      ]
     },
     "execution_count": 50,
     "metadata": {},
     "output_type": "execute_result"
    }
   ],
   "source": [
    "var=historical_var.iloc[row]\n",
    "var"
   ]
  },
  {
   "cell_type": "code",
   "execution_count": 51,
   "id": "ade16f0c-75b7-4fcb-ab9e-ad0c73aa8dd7",
   "metadata": {},
   "outputs": [
    {
     "data": {
      "text/plain": [
       "BTCUSDT     -0.016765\n",
       "TRXUSDT     -0.004198\n",
       "JASMYUSDT   -0.014124\n",
       "SOLUSDT     -0.011006\n",
       "OMUSDT      -0.008456\n",
       "ETHUSDT     -0.005783\n",
       "BBUSDT      -0.002097\n",
       "BNBUSDT      0.000000\n",
       "PEPEUSDT     0.000000\n",
       "Portfolio   -0.062428\n",
       "dtype: float64"
      ]
     },
     "execution_count": 51,
     "metadata": {},
     "output_type": "execute_result"
    }
   ],
   "source": [
    "cvar=historical_var.iloc[:row+1].mean()\n",
    "cvar"
   ]
  },
  {
   "cell_type": "markdown",
   "id": "c3dff28c-8e0a-4203-a71d-04521428bcd1",
   "metadata": {},
   "source": [
    "## Parametric"
   ]
  },
  {
   "cell_type": "code",
   "execution_count": 52,
   "id": "0f0e86d4-3a65-486f-9099-6de171182aca",
   "metadata": {},
   "outputs": [
    {
     "data": {
      "text/plain": [
       "(-0.08082626690088855, -0.10359692694180332)"
      ]
     },
     "execution_count": 52,
     "metadata": {},
     "output_type": "execute_result"
    }
   ],
   "source": [
    "var,cvar=historical_risk.parametric_var(opt_weights)\n",
    "\n",
    "(var,cvar)"
   ]
  },
  {
   "cell_type": "code",
   "execution_count": 53,
   "id": "8d211677-f33e-4565-95b7-f2867bbe7192",
   "metadata": {},
   "outputs": [
    {
     "data": {
      "text/plain": [
       "(-0.05025379188039713, -0.06441146678673164)"
      ]
     },
     "execution_count": 53,
     "metadata": {},
     "output_type": "execute_result"
    }
   ],
   "source": [
    "var,cvar=current_risk.parametric_var(current_weights)\n",
    "\n",
    "(var,cvar)"
   ]
  },
  {
   "cell_type": "markdown",
   "id": "a6c24386-d19d-46c7-a8bb-58e4c19932ec",
   "metadata": {},
   "source": [
    "## Multivariate"
   ]
  },
  {
   "cell_type": "code",
   "execution_count": 54,
   "id": "302440b5-9462-49d9-a7d0-94e4da622e61",
   "metadata": {},
   "outputs": [
    {
     "data": {
      "text/plain": [
       "(-0.07172231973974157, -0.0916236194089355)"
      ]
     },
     "execution_count": 54,
     "metadata": {},
     "output_type": "execute_result"
    }
   ],
   "source": [
    "perf=performance(historical_risk.multivariate_distribution(),opt_weights)\n",
    "var=np.percentile(perf,5)\n",
    "cvar=perf[perf<var].mean()\n",
    "(var,cvar)"
   ]
  },
  {
   "cell_type": "code",
   "execution_count": 55,
   "id": "21acf785-1eff-47d6-8bfa-f795cf1e38d0",
   "metadata": {},
   "outputs": [
    {
     "data": {
      "text/plain": [
       "(-0.05010899740151144, -0.06312669681124816)"
      ]
     },
     "execution_count": 55,
     "metadata": {},
     "output_type": "execute_result"
    }
   ],
   "source": [
    "perf=performance(current_risk.multivariate_distribution(),current_weights)\n",
    "var=np.percentile(perf,5)\n",
    "cvar=perf[perf<var].mean()\n",
    "(var,cvar)"
   ]
  },
  {
   "cell_type": "code",
   "execution_count": 56,
   "id": "3fe7a180-f366-4414-bda1-a58a090d1c16",
   "metadata": {},
   "outputs": [
    {
     "data": {
      "text/plain": [
       "BTCUSDT     -0.013582\n",
       "TRXUSDT     -0.001552\n",
       "JASMYUSDT   -0.012150\n",
       "SOLUSDT     -0.009017\n",
       "OMUSDT      -0.007061\n",
       "ETHUSDT     -0.004982\n",
       "BBUSDT      -0.002026\n",
       "Portfolio   -0.050371\n",
       "dtype: float64"
      ]
     },
     "execution_count": 56,
     "metadata": {},
     "output_type": "execute_result"
    }
   ],
   "source": [
    "scenario_multivariate={}\n",
    "\n",
    "for i in range(50):\n",
    "    multivariate_distrib=pd.DataFrame(current_risk.multivariate_distribution(),columns=current_risk.returns.columns)\n",
    "    multivariate_distrib=multivariate_distrib*current_weights\n",
    "    multivariate_distrib=multivariate_distrib[multivariate_distrib.columns[current_weights>0]]\n",
    "\n",
    "    multivariate_distrib['Portfolio']=multivariate_distrib.sum(axis=1)\n",
    "    multivariate_var=multivariate_distrib.sort_values(by='Portfolio').iloc[int(multivariate_distrib.shape[0]*0.05)]['Portfolio']\n",
    "    results=multivariate_distrib.sort_values(by='Portfolio').iloc[int(multivariate_distrib.shape[0]*0.05)]\n",
    "\n",
    "    scenario_multivariate[i]=results.to_dict()\n",
    "\n",
    "mean_scenario_multivariate=pd.DataFrame(scenario_multivariate).T.mean()\n",
    "mean_scenario_multivariate"
   ]
  },
  {
   "cell_type": "markdown",
   "id": "0c387f28-22ad-45a7-b319-0e83f4a0daee",
   "metadata": {},
   "source": [
    "## Copulas"
   ]
  },
  {
   "cell_type": "markdown",
   "id": "9058537e-386c-4062-bbe9-1a6b8541b24e",
   "metadata": {},
   "source": [
    "### Gaussian Copula"
   ]
  },
  {
   "cell_type": "code",
   "execution_count": 57,
   "id": "eb227cdf-2fbd-4710-85b9-17c16bb8d777",
   "metadata": {},
   "outputs": [
    {
     "data": {
      "text/plain": [
       "(-0.07223877062977548, -0.09350160038722641)"
      ]
     },
     "execution_count": 57,
     "metadata": {},
     "output_type": "execute_result"
    }
   ],
   "source": [
    "cop=historical_risk.gaussian_copula()\n",
    "perf=performance(cop,opt_weights)\n",
    "var=np.percentile(perf,5)\n",
    "cvar=perf[perf<var].mean()\n",
    "\n",
    "var,cvar"
   ]
  },
  {
   "cell_type": "code",
   "execution_count": 58,
   "id": "d6e06ba7-4288-4817-8fd4-6edd919d67d8",
   "metadata": {},
   "outputs": [
    {
     "data": {
      "text/plain": [
       "(-0.049801513597921544, -0.06281666544551899)"
      ]
     },
     "execution_count": 58,
     "metadata": {},
     "output_type": "execute_result"
    }
   ],
   "source": [
    "cop=current_risk.gaussian_copula()\n",
    "perf=performance(cop,current_weights)\n",
    "var=np.percentile(perf,5)\n",
    "cvar=perf[perf<var].mean()\n",
    "\n",
    "var,cvar"
   ]
  },
  {
   "cell_type": "code",
   "execution_count": 59,
   "id": "3b6ee424-83af-4479-abb3-e23b0a9f00e2",
   "metadata": {},
   "outputs": [
    {
     "data": {
      "text/plain": [
       "BTCUSDT     -0.013153\n",
       "TRXUSDT     -0.002067\n",
       "JASMYUSDT   -0.012413\n",
       "SOLUSDT     -0.009252\n",
       "OMUSDT      -0.007085\n",
       "ETHUSDT     -0.004294\n",
       "BBUSDT      -0.002021\n",
       "Portfolio   -0.050284\n",
       "dtype: float64"
      ]
     },
     "execution_count": 59,
     "metadata": {},
     "output_type": "execute_result"
    }
   ],
   "source": [
    "scenario_gaussian={}\n",
    "\n",
    "for i in range(100):\n",
    "    gaussian_copula_distrib=pd.DataFrame(current_risk.gaussian_copula(),columns=current_risk.returns.columns)\n",
    "\n",
    "    gaussian_copula_distrib=gaussian_copula_distrib*current_weights\n",
    "    gaussian_copula_distrib=gaussian_copula_distrib[gaussian_copula_distrib.columns[current_weights>0]]\n",
    "\n",
    "    gaussian_copula_distrib['Portfolio']=gaussian_copula_distrib.sum(axis=1)\n",
    "    gaussian_var=gaussian_copula_distrib.sort_values(by='Portfolio').iloc[int(gaussian_copula_distrib.shape[0]*0.05)]['Portfolio']\n",
    "    results=gaussian_copula_distrib.sort_values(by='Portfolio').iloc[int(gaussian_copula_distrib.shape[0]*0.05)]\n",
    "    \n",
    "    scenario_gaussian[i]=results\n",
    "    \n",
    "mean_scenario_gaussian=pd.DataFrame(scenario_gaussian).T.mean()\n",
    "mean_scenario_gaussian"
   ]
  },
  {
   "cell_type": "markdown",
   "id": "5cc2fb56-f5a8-400f-9242-3fe5969c9743",
   "metadata": {},
   "source": [
    "### Student Copula"
   ]
  },
  {
   "cell_type": "code",
   "execution_count": 60,
   "id": "54911632-62da-415f-bfed-66f0c612960c",
   "metadata": {},
   "outputs": [
    {
     "data": {
      "text/plain": [
       "(-0.0726039430107574, -0.09236890938220685)"
      ]
     },
     "execution_count": 60,
     "metadata": {},
     "output_type": "execute_result"
    }
   ],
   "source": [
    "t_copula=historical_risk.t_copula()\n",
    "perf=performance(t_copula,opt_weights)\n",
    "var=np.percentile(perf,5)\n",
    "cvar=perf[perf<var].mean()\n",
    "\n",
    "var,cvar"
   ]
  },
  {
   "cell_type": "code",
   "execution_count": 61,
   "id": "b54982b1-827a-4949-8576-0e88dceea776",
   "metadata": {},
   "outputs": [
    {
     "data": {
      "text/plain": [
       "(-0.05158915452781803, -0.06504283452835406)"
      ]
     },
     "execution_count": 61,
     "metadata": {},
     "output_type": "execute_result"
    }
   ],
   "source": [
    "t_copula=current_risk.t_copula()\n",
    "perf=performance(t_copula,current_weights)\n",
    "var=np.percentile(perf,5)\n",
    "cvar=perf[perf<var].mean()\n",
    "\n",
    "var,cvar"
   ]
  },
  {
   "cell_type": "code",
   "execution_count": 62,
   "id": "2eed4d89-eb00-449b-98ce-d030c65155d0",
   "metadata": {},
   "outputs": [
    {
     "data": {
      "text/plain": [
       "BTCUSDT     -0.014492\n",
       "TRXUSDT     -0.003065\n",
       "JASMYUSDT   -0.012439\n",
       "SOLUSDT     -0.008797\n",
       "OMUSDT      -0.005904\n",
       "ETHUSDT     -0.004857\n",
       "BBUSDT      -0.001767\n",
       "Portfolio   -0.051321\n",
       "dtype: float64"
      ]
     },
     "execution_count": 62,
     "metadata": {},
     "output_type": "execute_result"
    }
   ],
   "source": [
    "scenario_t_copula={}\n",
    "\n",
    "for i in range(100):\n",
    "    \n",
    "    t_copula_distrib=pd.DataFrame(current_risk.t_copula(),columns=current_risk.returns.columns)\n",
    "    t_copula_distrib=t_copula_distrib*current_weights\n",
    "    t_copula_distrib=t_copula_distrib[t_copula_distrib.columns[current_weights>0]]\n",
    "    t_copula_distrib['Portfolio']=t_copula_distrib.sum(axis=1)\n",
    "    t_copula_var=t_copula_distrib.sort_values(by='Portfolio').iloc[int(t_copula_distrib.shape[0]*0.05)]['Portfolio']\n",
    "    results=t_copula_distrib.sort_values(by='Portfolio').iloc[int(t_copula_distrib.shape[0]*0.05)]\n",
    "    \n",
    "    scenario_t_copula[i]=results\n",
    "    \n",
    "mean_scenario_gaussian=pd.DataFrame(scenario_t_copula).T.mean()\n",
    "mean_scenario_gaussian"
   ]
  },
  {
   "cell_type": "markdown",
   "id": "d8471cd5-4fcd-4ee2-8d94-4d1363a54361",
   "metadata": {},
   "source": [
    "### Gumbel Copula"
   ]
  },
  {
   "cell_type": "code",
   "execution_count": 63,
   "id": "7c23e42c-22e1-49cf-a9ed-36317a91e615",
   "metadata": {},
   "outputs": [
    {
     "data": {
      "text/plain": [
       "(-0.15138796745103766, -0.21095011499995797)"
      ]
     },
     "execution_count": 63,
     "metadata": {},
     "output_type": "execute_result"
    }
   ],
   "source": [
    "gumbel_copula=historical_risk.gumbel_copula()\n",
    "perf=performance(gumbel_copula,opt_weights)\n",
    "var=np.percentile(perf,5)\n",
    "cvar=perf[perf<var].mean()\n",
    "\n",
    "var,cvar"
   ]
  },
  {
   "cell_type": "code",
   "execution_count": 64,
   "id": "930f83d3-fa2e-4f41-b0ea-64c9fcadc95a",
   "metadata": {},
   "outputs": [
    {
     "data": {
      "text/plain": [
       "(-0.056029339988682876, -0.07666691173977258)"
      ]
     },
     "execution_count": 64,
     "metadata": {},
     "output_type": "execute_result"
    }
   ],
   "source": [
    "gumbel_copula=current_risk.gumbel_copula(theta=2)\n",
    "perf=performance(gumbel_copula,current_weights)\n",
    "var=np.percentile(perf,5)\n",
    "cvar=perf[perf<var].mean()\n",
    "\n",
    "var,cvar"
   ]
  },
  {
   "cell_type": "code",
   "execution_count": 65,
   "id": "a06ef689-21b0-49fb-91cb-e4f7ecd99305",
   "metadata": {},
   "outputs": [
    {
     "data": {
      "text/plain": [
       "BTCUSDT     -0.018605\n",
       "TRXUSDT     -0.002967\n",
       "JASMYUSDT   -0.017626\n",
       "SOLUSDT     -0.007693\n",
       "OMUSDT      -0.005812\n",
       "ETHUSDT     -0.002315\n",
       "BBUSDT      -0.000780\n",
       "Portfolio   -0.055798\n",
       "dtype: float64"
      ]
     },
     "execution_count": 65,
     "metadata": {},
     "output_type": "execute_result"
    }
   ],
   "source": [
    "scenario_gumbel_copula={}\n",
    "\n",
    "for i in range(100):\n",
    "    \n",
    "    gumbel_copula_distrib=pd.DataFrame(current_risk.gumbel_copula(),columns=current_risk.returns.columns)\n",
    "    gumbel_copula_distrib=gumbel_copula_distrib*current_weights\n",
    "    gumbel_copula_distrib=gumbel_copula_distrib[gumbel_copula_distrib.columns[current_weights>0]]\n",
    "    gumbel_copula_distrib['Portfolio']=gumbel_copula_distrib.sum(axis=1)\n",
    "    gumbel_copula_var=gumbel_copula_distrib.sort_values(by='Portfolio').iloc[int(gumbel_copula_distrib.shape[0]*0.05)]['Portfolio']\n",
    "    results=gumbel_copula_distrib.sort_values(by='Portfolio').iloc[int(gumbel_copula_distrib.shape[0]*0.05)]\n",
    "    \n",
    "    scenario_gumbel_copula[i]=results\n",
    "    \n",
    "mean_scenario_gaussian=pd.DataFrame(scenario_gumbel_copula).T.mean()\n",
    "mean_scenario_gaussian"
   ]
  },
  {
   "cell_type": "raw",
   "id": "a7cf6672-4497-412a-99d2-d7971328073d",
   "metadata": {
    "tags": []
   },
   "source": [
    "test=gumbel_l.rvs(loc=current_risk.returns.mean(),scale=current_risk.returns.std(),size=(10000,current_risk.returns.shape[1]))\n",
    "perf=(test*current_weights).sum(axis=1)\n",
    "\n",
    "var=np.percentile(perf,5)\n",
    "cvar=perf[perf<var].mean()\n",
    "var,cvar"
   ]
  },
  {
   "cell_type": "raw",
   "id": "3d431a69-7d30-4d5a-8b79-313ccc73d7bd",
   "metadata": {
    "tags": []
   },
   "source": [
    "scenario_gumbel_copula={}\n",
    "\n",
    "for i in range(100):\n",
    "    test=gumbel_l.rvs(loc=current_risk.returns.mean(),scale=current_risk.returns.std(),size=(10000,current_risk.returns.shape[1]))\n",
    "    gumbel_copula_distrib=pd.DataFrame(test,columns=current_risk.returns.columns)\n",
    "    gumbel_copula_distrib=gumbel_copula_distrib*current_weights\n",
    "    gumbel_copula_distrib=gumbel_copula_distrib[gumbel_copula_distrib.columns[current_weights>0]]\n",
    "    gumbel_copula_distrib['Portfolio']=gumbel_copula_distrib.sum(axis=1)\n",
    "    gumbel_copula_var=gumbel_copula_distrib.sort_values(by='Portfolio').iloc[int(gumbel_copula_distrib.shape[0]*0.05)]['Portfolio']\n",
    "    results=gumbel_copula_distrib.sort_values(by='Portfolio').iloc[int(gumbel_copula_distrib.shape[0]*0.05)]\n",
    "    \n",
    "    scenario_gumbel_copula[i]=results\n",
    "    \n",
    "mean_scenario_gaussian=pd.DataFrame(scenario_gumbel_copula).T.mean()\n",
    "mean_scenario_gaussian"
   ]
  },
  {
   "cell_type": "raw",
   "id": "929edc55-62b8-4da7-96a1-d5c4049da71f",
   "metadata": {
    "tags": []
   },
   "source": [
    "test=-np.random.gumbel(loc=current_risk.returns.mean(),scale=current_risk.returns.std(),size=(10000,current_risk.returns.shape[1]))\n",
    "var=np.percentile(performance(test,current_weights),5)\n",
    "cvar=performance(test,current_weights)[performance(test,current_weights)<var].mean()\n",
    "var,cvar"
   ]
  },
  {
   "cell_type": "raw",
   "id": "df443baa-f1ac-4309-b3a6-4cc30c1f24cc",
   "metadata": {
    "tags": []
   },
   "source": [
    "scenario_gumbel_copula={}\n",
    "\n",
    "for i in range(100):\n",
    "    test=-np.random.gumbel(loc=current_risk.returns.mean(),scale=current_risk.returns.std(),size=(10000,current_risk.returns.shape[1]))\n",
    "    gumbel_copula_distrib=pd.DataFrame(test,columns=current_risk.returns.columns)\n",
    "    gumbel_copula_distrib=gumbel_copula_distrib*current_weights\n",
    "    gumbel_copula_distrib=gumbel_copula_distrib[gumbel_copula_distrib.columns[current_weights>0]]\n",
    "    gumbel_copula_distrib['Portfolio']=gumbel_copula_distrib.sum(axis=1)\n",
    "    gumbel_copula_var=gumbel_copula_distrib.sort_values(by='Portfolio').iloc[int(gumbel_copula_distrib.shape[0]*0.05)]['Portfolio']\n",
    "    results=gumbel_copula_distrib.sort_values(by='Portfolio').iloc[int(gumbel_copula_distrib.shape[0]*0.05)]\n",
    "    \n",
    "    scenario_gumbel_copula[i]=results\n",
    "    \n",
    "mean_scenario_gaussian=pd.DataFrame(scenario_gumbel_copula).T.mean()\n",
    "mean_scenario_gaussian"
   ]
  },
  {
   "cell_type": "markdown",
   "id": "7552457d-af22-431f-bdc4-3609112e4138",
   "metadata": {},
   "source": [
    "### Monte Carlo"
   ]
  },
  {
   "cell_type": "code",
   "execution_count": 66,
   "id": "4842fd75-6b18-4ef9-b65b-823eb398fc2e",
   "metadata": {},
   "outputs": [],
   "source": [
    "spot=data[with_no_na].iloc[-1]\n",
    "monte_carlo=historical_risk.monte_carlo(spot,horizon=1/250,stress_factor=1.0)\n",
    "perf=performance(monte_carlo[1].fillna(0),opt_weights)"
   ]
  },
  {
   "cell_type": "code",
   "execution_count": 67,
   "id": "51c03bd4-96cb-4ef9-a720-1320ae57f100",
   "metadata": {},
   "outputs": [
    {
     "data": {
      "text/plain": [
       "(-0.08296867262498177, -0.10317982495080595)"
      ]
     },
     "execution_count": 67,
     "metadata": {},
     "output_type": "execute_result"
    }
   ],
   "source": [
    "var=np.percentile(perf,5)\n",
    "cvar=perf[perf<var].mean()\n",
    "\n",
    "var,cvar"
   ]
  },
  {
   "cell_type": "code",
   "execution_count": 68,
   "id": "d016716b-b572-4f28-acb1-c44ae139f2ae",
   "metadata": {},
   "outputs": [
    {
     "data": {
      "text/plain": [
       "(-0.0505577641150597, -0.06299219637995755)"
      ]
     },
     "execution_count": 68,
     "metadata": {},
     "output_type": "execute_result"
    }
   ],
   "source": [
    "spot=data[ex_ante_perf.columns].iloc[-1]\n",
    "monte_carlo=current_risk.monte_carlo(spot,horizon=1/250,stress_factor=1.0)\n",
    "perf=performance(monte_carlo[1].fillna(0),current_weights)\n",
    "var=np.percentile(perf,5)\n",
    "cvar=perf[perf<var].mean()\n",
    "\n",
    "var,cvar"
   ]
  },
  {
   "cell_type": "code",
   "execution_count": 69,
   "id": "0208383d-314b-471b-9943-3d75beae4276",
   "metadata": {},
   "outputs": [
    {
     "data": {
      "text/plain": [
       "BTCUSDT     -0.013117\n",
       "TRXUSDT     -0.002223\n",
       "JASMYUSDT   -0.012122\n",
       "SOLUSDT     -0.009629\n",
       "OMUSDT      -0.007771\n",
       "ETHUSDT     -0.004332\n",
       "BBUSDT      -0.002068\n",
       "Portfolio   -0.051261\n",
       "dtype: float64"
      ]
     },
     "execution_count": 69,
     "metadata": {},
     "output_type": "execute_result"
    }
   ],
   "source": [
    "spot=data[ex_ante_perf.columns].iloc[-1]\n",
    "\n",
    "scenario_monte_carlo={}\n",
    "\n",
    "for i in range(100):\n",
    "    \n",
    "    monte_carlo=current_risk.monte_carlo(spot,horizon=1/250,stress_factor=1.0)\n",
    "    monte_carlo_distrib=monte_carlo[1].fillna(0)*current_weights\n",
    "    monte_carlo_distrib=monte_carlo_distrib[monte_carlo_distrib.columns[current_weights>0]]\n",
    "    monte_carlo_distrib['Portfolio']=monte_carlo_distrib.sum(axis=1)\n",
    "    monte_carlo_var=monte_carlo_distrib.sort_values(by='Portfolio').iloc[int(monte_carlo_distrib.shape[0]*0.05)]['Portfolio']\n",
    "    results=monte_carlo_distrib.sort_values(by='Portfolio').iloc[int(monte_carlo_distrib.shape[0]*0.05)]\n",
    "    \n",
    "    scenario_monte_carlo[i]=results\n",
    "    \n",
    "mean_scenario_monte_carlo=pd.DataFrame(scenario_monte_carlo).T.mean()\n",
    "mean_scenario_monte_carlo"
   ]
  },
  {
   "cell_type": "markdown",
   "id": "2b3cb248-60ea-43f7-b474-31b6046eeee9",
   "metadata": {},
   "source": [
    "## VaR Violation"
   ]
  },
  {
   "cell_type": "code",
   "execution_count": 70,
   "id": "757aac0b-a638-4349-8fd3-30b1f39fa8b4",
   "metadata": {},
   "outputs": [
    {
     "data": {
      "text/html": [
       "<div>\n",
       "<style scoped>\n",
       "    .dataframe tbody tr th:only-of-type {\n",
       "        vertical-align: middle;\n",
       "    }\n",
       "\n",
       "    .dataframe tbody tr th {\n",
       "        vertical-align: top;\n",
       "    }\n",
       "\n",
       "    .dataframe thead th {\n",
       "        text-align: right;\n",
       "    }\n",
       "</style>\n",
       "<table border=\"1\" class=\"dataframe\">\n",
       "  <thead>\n",
       "    <tr style=\"text-align: right;\">\n",
       "      <th></th>\n",
       "      <th>Historical</th>\n",
       "      <th>Parametric</th>\n",
       "      <th>Multivariate</th>\n",
       "      <th>Portfolio</th>\n",
       "    </tr>\n",
       "  </thead>\n",
       "  <tbody>\n",
       "    <tr>\n",
       "      <th>2024-01-14</th>\n",
       "      <td>-0.062066</td>\n",
       "      <td>-0.113428</td>\n",
       "      <td>-0.094546</td>\n",
       "      <td>-0.025247</td>\n",
       "    </tr>\n",
       "    <tr>\n",
       "      <th>2024-01-15</th>\n",
       "      <td>-0.062066</td>\n",
       "      <td>-0.113425</td>\n",
       "      <td>-0.098087</td>\n",
       "      <td>0.014843</td>\n",
       "    </tr>\n",
       "    <tr>\n",
       "      <th>2024-01-16</th>\n",
       "      <td>-0.062066</td>\n",
       "      <td>-0.114290</td>\n",
       "      <td>-0.092225</td>\n",
       "      <td>0.063983</td>\n",
       "    </tr>\n",
       "    <tr>\n",
       "      <th>2024-01-17</th>\n",
       "      <td>-0.062066</td>\n",
       "      <td>-0.116695</td>\n",
       "      <td>-0.100625</td>\n",
       "      <td>-0.036995</td>\n",
       "    </tr>\n",
       "    <tr>\n",
       "      <th>2024-01-18</th>\n",
       "      <td>-0.062066</td>\n",
       "      <td>-0.118827</td>\n",
       "      <td>-0.102035</td>\n",
       "      <td>-0.036174</td>\n",
       "    </tr>\n",
       "    <tr>\n",
       "      <th>...</th>\n",
       "      <td>...</td>\n",
       "      <td>...</td>\n",
       "      <td>...</td>\n",
       "      <td>...</td>\n",
       "    </tr>\n",
       "    <tr>\n",
       "      <th>2024-09-05</th>\n",
       "      <td>-0.058863</td>\n",
       "      <td>-0.095500</td>\n",
       "      <td>-0.096333</td>\n",
       "      <td>-0.045312</td>\n",
       "    </tr>\n",
       "    <tr>\n",
       "      <th>2024-09-06</th>\n",
       "      <td>-0.058863</td>\n",
       "      <td>-0.094762</td>\n",
       "      <td>-0.098447</td>\n",
       "      <td>-0.030572</td>\n",
       "    </tr>\n",
       "    <tr>\n",
       "      <th>2024-09-07</th>\n",
       "      <td>-0.058863</td>\n",
       "      <td>-0.084858</td>\n",
       "      <td>-0.087814</td>\n",
       "      <td>-0.015820</td>\n",
       "    </tr>\n",
       "    <tr>\n",
       "      <th>2024-09-08</th>\n",
       "      <td>-0.058863</td>\n",
       "      <td>-0.084727</td>\n",
       "      <td>-0.089286</td>\n",
       "      <td>0.018494</td>\n",
       "    </tr>\n",
       "    <tr>\n",
       "      <th>2024-09-09</th>\n",
       "      <td>-0.058863</td>\n",
       "      <td>-0.085985</td>\n",
       "      <td>-0.088426</td>\n",
       "      <td>0.051412</td>\n",
       "    </tr>\n",
       "  </tbody>\n",
       "</table>\n",
       "<p>240 rows × 4 columns</p>\n",
       "</div>"
      ],
      "text/plain": [
       "            Historical  Parametric  Multivariate  Portfolio\n",
       "2024-01-14   -0.062066   -0.113428     -0.094546  -0.025247\n",
       "2024-01-15   -0.062066   -0.113425     -0.098087   0.014843\n",
       "2024-01-16   -0.062066   -0.114290     -0.092225   0.063983\n",
       "2024-01-17   -0.062066   -0.116695     -0.100625  -0.036995\n",
       "2024-01-18   -0.062066   -0.118827     -0.102035  -0.036174\n",
       "...                ...         ...           ...        ...\n",
       "2024-09-05   -0.058863   -0.095500     -0.096333  -0.045312\n",
       "2024-09-06   -0.058863   -0.094762     -0.098447  -0.030572\n",
       "2024-09-07   -0.058863   -0.084858     -0.087814  -0.015820\n",
       "2024-09-08   -0.058863   -0.084727     -0.089286   0.018494\n",
       "2024-09-09   -0.058863   -0.085985     -0.088426   0.051412\n",
       "\n",
       "[240 rows x 4 columns]"
      ]
     },
     "execution_count": 70,
     "metadata": {},
     "output_type": "execute_result"
    }
   ],
   "source": [
    "var_data=rolling_var(returns_to_use,opt_weights,window=30,Q=1)\n",
    "var_data"
   ]
  },
  {
   "cell_type": "code",
   "execution_count": 71,
   "id": "bca159de-f35d-4db1-b088-09ad2dbc5b6a",
   "metadata": {},
   "outputs": [
    {
     "data": {
      "text/html": [
       "<div>\n",
       "<style scoped>\n",
       "    .dataframe tbody tr th:only-of-type {\n",
       "        vertical-align: middle;\n",
       "    }\n",
       "\n",
       "    .dataframe tbody tr th {\n",
       "        vertical-align: top;\n",
       "    }\n",
       "\n",
       "    .dataframe thead th {\n",
       "        text-align: right;\n",
       "    }\n",
       "</style>\n",
       "<table border=\"1\" class=\"dataframe\">\n",
       "  <thead>\n",
       "    <tr style=\"text-align: right;\">\n",
       "      <th></th>\n",
       "      <th>Historical</th>\n",
       "      <th>Parametric</th>\n",
       "      <th>Multivariate</th>\n",
       "      <th>Portfolio</th>\n",
       "    </tr>\n",
       "  </thead>\n",
       "  <tbody>\n",
       "    <tr>\n",
       "      <th>2024-05-28</th>\n",
       "      <td>-0.026945</td>\n",
       "      <td>-0.076595</td>\n",
       "      <td>-0.067847</td>\n",
       "      <td>-0.017249</td>\n",
       "    </tr>\n",
       "    <tr>\n",
       "      <th>2024-05-29</th>\n",
       "      <td>-0.023626</td>\n",
       "      <td>-0.074138</td>\n",
       "      <td>-0.066701</td>\n",
       "      <td>-0.008351</td>\n",
       "    </tr>\n",
       "    <tr>\n",
       "      <th>2024-05-30</th>\n",
       "      <td>-0.023626</td>\n",
       "      <td>-0.063820</td>\n",
       "      <td>-0.057894</td>\n",
       "      <td>0.032815</td>\n",
       "    </tr>\n",
       "    <tr>\n",
       "      <th>2024-05-31</th>\n",
       "      <td>-0.023626</td>\n",
       "      <td>-0.062397</td>\n",
       "      <td>-0.054653</td>\n",
       "      <td>0.015030</td>\n",
       "    </tr>\n",
       "    <tr>\n",
       "      <th>2024-06-01</th>\n",
       "      <td>-0.023626</td>\n",
       "      <td>-0.062347</td>\n",
       "      <td>-0.057539</td>\n",
       "      <td>0.026217</td>\n",
       "    </tr>\n",
       "    <tr>\n",
       "      <th>...</th>\n",
       "      <td>...</td>\n",
       "      <td>...</td>\n",
       "      <td>...</td>\n",
       "      <td>...</td>\n",
       "    </tr>\n",
       "    <tr>\n",
       "      <th>2024-09-05</th>\n",
       "      <td>-0.049485</td>\n",
       "      <td>-0.069813</td>\n",
       "      <td>-0.073360</td>\n",
       "      <td>-0.030800</td>\n",
       "    </tr>\n",
       "    <tr>\n",
       "      <th>2024-09-06</th>\n",
       "      <td>-0.049485</td>\n",
       "      <td>-0.070522</td>\n",
       "      <td>-0.076739</td>\n",
       "      <td>-0.026288</td>\n",
       "    </tr>\n",
       "    <tr>\n",
       "      <th>2024-09-07</th>\n",
       "      <td>-0.049485</td>\n",
       "      <td>-0.057151</td>\n",
       "      <td>-0.068479</td>\n",
       "      <td>0.006887</td>\n",
       "    </tr>\n",
       "    <tr>\n",
       "      <th>2024-09-08</th>\n",
       "      <td>-0.049485</td>\n",
       "      <td>-0.057614</td>\n",
       "      <td>-0.066770</td>\n",
       "      <td>0.013612</td>\n",
       "    </tr>\n",
       "    <tr>\n",
       "      <th>2024-09-09</th>\n",
       "      <td>-0.049485</td>\n",
       "      <td>-0.062827</td>\n",
       "      <td>-0.069807</td>\n",
       "      <td>0.031143</td>\n",
       "    </tr>\n",
       "  </tbody>\n",
       "</table>\n",
       "<p>105 rows × 4 columns</p>\n",
       "</div>"
      ],
      "text/plain": [
       "            Historical  Parametric  Multivariate  Portfolio\n",
       "2024-05-28   -0.026945   -0.076595     -0.067847  -0.017249\n",
       "2024-05-29   -0.023626   -0.074138     -0.066701  -0.008351\n",
       "2024-05-30   -0.023626   -0.063820     -0.057894   0.032815\n",
       "2024-05-31   -0.023626   -0.062397     -0.054653   0.015030\n",
       "2024-06-01   -0.023626   -0.062347     -0.057539   0.026217\n",
       "...                ...         ...           ...        ...\n",
       "2024-09-05   -0.049485   -0.069813     -0.073360  -0.030800\n",
       "2024-09-06   -0.049485   -0.070522     -0.076739  -0.026288\n",
       "2024-09-07   -0.049485   -0.057151     -0.068479   0.006887\n",
       "2024-09-08   -0.049485   -0.057614     -0.066770   0.013612\n",
       "2024-09-09   -0.049485   -0.062827     -0.069807   0.031143\n",
       "\n",
       "[105 rows x 4 columns]"
      ]
     },
     "execution_count": 71,
     "metadata": {},
     "output_type": "execute_result"
    }
   ],
   "source": [
    "current_var_data=rolling_var(ex_ante_perf_to_use,current_weights,window=15,Q=1)\n",
    "current_var_data"
   ]
  },
  {
   "cell_type": "code",
   "execution_count": 72,
   "id": "0e7d84e4-bd99-45e8-9326-4f84526ba091",
   "metadata": {},
   "outputs": [
    {
     "data": {
      "text/plain": [
       "<AxesSubplot:>"
      ]
     },
     "execution_count": 72,
     "metadata": {},
     "output_type": "execute_result"
    },
    {
     "data": {
      "image/png": "[encoded data removed]",
      "text/plain": [
       "<Figure size 432x288 with 1 Axes>"
      ]
     },
     "metadata": {
      "needs_background": "light"
     },
     "output_type": "display_data"
    }
   ],
   "source": [
    "var_data.plot()"
   ]
  },
  {
   "cell_type": "code",
   "execution_count": 73,
   "id": "4499b3ef-4ed2-48a3-8967-0230afa98c7d",
   "metadata": {},
   "outputs": [
    {
     "data": {
      "text/plain": [
       "<AxesSubplot:>"
      ]
     },
     "execution_count": 73,
     "metadata": {},
     "output_type": "execute_result"
    },
    {
     "data": {
      "image/png": "[encoded data removed]",
      "text/plain": [
       "<Figure size 432x288 with 1 Axes>"
      ]
     },
     "metadata": {
      "needs_background": "light"
     },
     "output_type": "display_data"
    }
   ],
   "source": [
    "current_var_data.plot()"
   ]
  },
  {
   "cell_type": "code",
   "execution_count": 74,
   "id": "e47d08e8-e7a7-4b22-8605-f8200e5645a6",
   "metadata": {},
   "outputs": [
    {
     "data": {
      "text/html": [
       "<div>\n",
       "<style scoped>\n",
       "    .dataframe tbody tr th:only-of-type {\n",
       "        vertical-align: middle;\n",
       "    }\n",
       "\n",
       "    .dataframe tbody tr th {\n",
       "        vertical-align: top;\n",
       "    }\n",
       "\n",
       "    .dataframe thead th {\n",
       "        text-align: right;\n",
       "    }\n",
       "</style>\n",
       "<table border=\"1\" class=\"dataframe\">\n",
       "  <thead>\n",
       "    <tr style=\"text-align: right;\">\n",
       "      <th></th>\n",
       "      <th>Historical</th>\n",
       "      <th>Parametric</th>\n",
       "      <th>Multivariate</th>\n",
       "    </tr>\n",
       "  </thead>\n",
       "  <tbody>\n",
       "    <tr>\n",
       "      <th>Proportion of failure</th>\n",
       "      <td>0.020833</td>\n",
       "      <td>0.008333</td>\n",
       "      <td>0.0125</td>\n",
       "    </tr>\n",
       "    <tr>\n",
       "      <th>Kupiec Stat</th>\n",
       "      <td>5.458059</td>\n",
       "      <td>13.265283</td>\n",
       "      <td>10.032913</td>\n",
       "    </tr>\n",
       "    <tr>\n",
       "      <th>P-value</th>\n",
       "      <td>0.019478</td>\n",
       "      <td>0.00027</td>\n",
       "      <td>0.001538</td>\n",
       "    </tr>\n",
       "  </tbody>\n",
       "</table>\n",
       "</div>"
      ],
      "text/plain": [
       "                      Historical Parametric Multivariate\n",
       "Proportion of failure   0.020833   0.008333       0.0125\n",
       "Kupiec Stat             5.458059  13.265283    10.032913\n",
       "P-value                 0.019478    0.00027     0.001538"
      ]
     },
     "execution_count": 74,
     "metadata": {},
     "output_type": "execute_result"
    }
   ],
   "source": [
    "kupiec_test(var_data)"
   ]
  },
  {
   "cell_type": "code",
   "execution_count": 75,
   "id": "0b33e6a3-e732-49df-a1a0-aefaefb1f271",
   "metadata": {},
   "outputs": [
    {
     "data": {
      "text/html": [
       "<div>\n",
       "<style scoped>\n",
       "    .dataframe tbody tr th:only-of-type {\n",
       "        vertical-align: middle;\n",
       "    }\n",
       "\n",
       "    .dataframe tbody tr th {\n",
       "        vertical-align: top;\n",
       "    }\n",
       "\n",
       "    .dataframe thead th {\n",
       "        text-align: right;\n",
       "    }\n",
       "</style>\n",
       "<table border=\"1\" class=\"dataframe\">\n",
       "  <thead>\n",
       "    <tr style=\"text-align: right;\">\n",
       "      <th></th>\n",
       "      <th>Historical</th>\n",
       "      <th>Parametric</th>\n",
       "      <th>Multivariate</th>\n",
       "    </tr>\n",
       "  </thead>\n",
       "  <tbody>\n",
       "    <tr>\n",
       "      <th>Proportion of failure</th>\n",
       "      <td>0.07619</td>\n",
       "      <td>0.038095</td>\n",
       "      <td>0.028571</td>\n",
       "    </tr>\n",
       "    <tr>\n",
       "      <th>Kupiec Stat</th>\n",
       "      <td>1.315936</td>\n",
       "      <td>0.340129</td>\n",
       "      <td>1.19268</td>\n",
       "    </tr>\n",
       "    <tr>\n",
       "      <th>P-value</th>\n",
       "      <td>0.251323</td>\n",
       "      <td>0.559755</td>\n",
       "      <td>0.27479</td>\n",
       "    </tr>\n",
       "  </tbody>\n",
       "</table>\n",
       "</div>"
      ],
      "text/plain": [
       "                      Historical Parametric Multivariate\n",
       "Proportion of failure    0.07619   0.038095     0.028571\n",
       "Kupiec Stat             1.315936   0.340129      1.19268\n",
       "P-value                 0.251323   0.559755      0.27479"
      ]
     },
     "execution_count": 75,
     "metadata": {},
     "output_type": "execute_result"
    }
   ],
   "source": [
    "kupiec_test(current_var_data)"
   ]
  },
  {
   "cell_type": "markdown",
   "id": "7d238b49-45e4-4e3c-a34b-654a69961cc2",
   "metadata": {},
   "source": [
    "## Principal Component Analysis"
   ]
  },
  {
   "cell_type": "markdown",
   "id": "f692a72e-632c-4eb9-afa3-b1283e5e6fd9",
   "metadata": {},
   "source": [
    "### Historical PCA"
   ]
  },
  {
   "cell_type": "code",
   "execution_count": 76,
   "id": "6000e084-3863-47c4-9f09-9fcd4c7220be",
   "metadata": {},
   "outputs": [
    {
     "data": {
      "text/plain": [
       "array([0.78915945, 0.06450054, 0.05319282, 0.04863398, 0.04451322])"
      ]
     },
     "execution_count": 76,
     "metadata": {},
     "output_type": "execute_result"
    }
   ],
   "source": [
    "eigval,eigvec,portfolio_components=historical_risk.pca(num_components=5)\n",
    "variance_explained=eigval/eigval.sum()\n",
    "variance_explained"
   ]
  },
  {
   "cell_type": "code",
   "execution_count": 77,
   "id": "53fd60dd-afcd-4a5f-bc0c-1afbe4acfcf5",
   "metadata": {},
   "outputs": [
    {
     "data": {
      "text/plain": [
       "1000SATSUSDT    0.023539\n",
       "AAVEUSDT        0.013975\n",
       "ADAUSDT         0.014042\n",
       "ALGOUSDT        0.015505\n",
       "APTUSDT         0.014643\n",
       "                  ...   \n",
       "WLDUSDT         0.021076\n",
       "XECUSDT         0.015027\n",
       "XLMUSDT         0.009445\n",
       "XRPUSDT         0.009079\n",
       "XTZUSDT         0.014136\n",
       "Name: PC1, Length: 66, dtype: float64"
      ]
     },
     "execution_count": 77,
     "metadata": {},
     "output_type": "execute_result"
    }
   ],
   "source": [
    "pca_weight=dict((portfolio_components['PC1']/portfolio_components['PC1'].sum()))\n",
    "portfolio_components['PC1']"
   ]
  },
  {
   "cell_type": "code",
   "execution_count": 78,
   "id": "e83837db-6bb4-44d7-8d2f-ace69c484699",
   "metadata": {},
   "outputs": [
    {
     "data": {
      "text/plain": [
       "<AxesSubplot:>"
      ]
     },
     "execution_count": 78,
     "metadata": {},
     "output_type": "execute_result"
    },
    {
     "data": {
      "image/png": "[encoded data removed]",
      "text/plain": [
       "<Figure size 432x288 with 1 Axes>"
      ]
     },
     "metadata": {
      "needs_background": "light"
     },
     "output_type": "display_data"
    }
   ],
   "source": [
    "PCA=pd.DataFrame(np.array(list(pca_weight.values())).dot(np.transpose(historical_risk.returns)),\n",
    "                 index=historical_risk.returns.index,\n",
    "                 columns=['PCA'])\n",
    "PCA=PCA.dropna()\n",
    "(1+PCA).cumprod().plot()"
   ]
  },
  {
   "cell_type": "code",
   "execution_count": 79,
   "id": "c575f9ec-6680-4401-814e-d33785954e38",
   "metadata": {},
   "outputs": [
    {
     "data": {
      "text/plain": [
       "<AxesSubplot:>"
      ]
     },
     "execution_count": 79,
     "metadata": {},
     "output_type": "execute_result"
    },
    {
     "data": {
      "image/png": "[encoded data removed]",
      "text/plain": [
       "<Figure size 432x288 with 1 Axes>"
      ]
     },
     "metadata": {
      "needs_background": "light"
     },
     "output_type": "display_data"
    }
   ],
   "source": [
    "(1+historical_risk.returns['BTCUSDT']).cumprod().plot()"
   ]
  },
  {
   "cell_type": "code",
   "execution_count": 80,
   "id": "1a144186-3cff-4c2b-8833-2ff9c7ed02d0",
   "metadata": {},
   "outputs": [
    {
     "data": {
      "text/plain": [
       "PCA             0.000000\n",
       "SANDUSDT        0.298250\n",
       "ADAUSDT         0.325787\n",
       "XTZUSDT         0.329698\n",
       "ALGOUSDT        0.345293\n",
       "                  ...   \n",
       "1000SATSUSDT    0.979828\n",
       "PEPEUSDT        0.992270\n",
       "FLOKIUSDT       1.000761\n",
       "WLDUSDT         1.016909\n",
       "OMUSDT          1.305201\n",
       "Length: 67, dtype: float64"
      ]
     },
     "execution_count": 80,
     "metadata": {},
     "output_type": "execute_result"
    }
   ],
   "source": [
    "comparison=historical_risk.returns.copy()\n",
    "comparison['PCA']=PCA\n",
    "distances=np.sqrt(np.sum(comparison.apply(lambda y:(y-PCA['PCA'])**2))).sort_values()\n",
    "distances"
   ]
  },
  {
   "cell_type": "code",
   "execution_count": 81,
   "id": "ec25e534-e416-4481-8fd9-218c4b2b0c66",
   "metadata": {},
   "outputs": [
    {
     "data": {
      "text/plain": [
       "<AxesSubplot:>"
      ]
     },
     "execution_count": 81,
     "metadata": {},
     "output_type": "execute_result"
    },
    {
     "data": {
      "image/png": "[encoded data removed]",
      "text/plain": [
       "<Figure size 432x288 with 1 Axes>"
      ]
     },
     "metadata": {
      "needs_background": "light"
     },
     "output_type": "display_data"
    }
   ],
   "source": [
    "(1+comparison[distances.index[:10]]).cumprod().plot()"
   ]
  },
  {
   "cell_type": "markdown",
   "id": "1e202647-c176-480f-a368-895d7d744dd0",
   "metadata": {},
   "source": [
    "### Current PCA"
   ]
  },
  {
   "cell_type": "code",
   "execution_count": 82,
   "id": "b279a72f-1f1c-42f0-a641-013b3e43675f",
   "metadata": {},
   "outputs": [
    {
     "data": {
      "text/plain": [
       "array([0.67027795, 0.14009259, 0.08454939, 0.07243083, 0.03264925])"
      ]
     },
     "execution_count": 82,
     "metadata": {},
     "output_type": "execute_result"
    }
   ],
   "source": [
    "eigval,eigvec,portfolio_components_current=current_risk.pca(num_components=5)\n",
    "variance_explained=eigval/eigval.sum()\n",
    "variance_explained"
   ]
  },
  {
   "cell_type": "code",
   "execution_count": 83,
   "id": "dfe7f204-8aab-42a9-a2e3-95c60a6b146e",
   "metadata": {},
   "outputs": [
    {
     "data": {
      "text/plain": [
       "BTCUSDT      0.063314\n",
       "TRXUSDT      0.015945\n",
       "JASMYUSDT    0.155438\n",
       "SOLUSDT      0.102908\n",
       "OMUSDT       0.100527\n",
       "ETHUSDT      0.085608\n",
       "BBUSDT       0.246957\n",
       "BNBUSDT      0.068300\n",
       "PEPEUSDT     0.161004\n",
       "Name: PC1, dtype: float64"
      ]
     },
     "execution_count": 83,
     "metadata": {},
     "output_type": "execute_result"
    }
   ],
   "source": [
    "pca_weight=dict((portfolio_components_current['PC1']/portfolio_components_current['PC1'].sum()))\n",
    "portfolio_components_current['PC1']"
   ]
  },
  {
   "cell_type": "code",
   "execution_count": 84,
   "id": "85176e0f-abd3-477c-89a2-f8473be390f3",
   "metadata": {},
   "outputs": [
    {
     "data": {
      "text/plain": [
       "<AxesSubplot:>"
      ]
     },
     "execution_count": 84,
     "metadata": {},
     "output_type": "execute_result"
    },
    {
     "data": {
      "image/png": "[encoded data removed]",
      "text/plain": [
       "<Figure size 432x288 with 1 Axes>"
      ]
     },
     "metadata": {
      "needs_background": "light"
     },
     "output_type": "display_data"
    }
   ],
   "source": [
    "PCA=pd.DataFrame(np.array(list(pca_weight.values())).dot(np.transpose(current_risk.returns)),\n",
    "                 index=current_risk.returns.index,\n",
    "                 columns=['PCA'])\n",
    "PCA=PCA.dropna()\n",
    "(1+PCA).cumprod().plot()"
   ]
  },
  {
   "cell_type": "code",
   "execution_count": 85,
   "id": "03b2a48e-4c5a-4d67-8760-a4631629f0a3",
   "metadata": {},
   "outputs": [
    {
     "data": {
      "text/plain": [
       "<AxesSubplot:>"
      ]
     },
     "execution_count": 85,
     "metadata": {},
     "output_type": "execute_result"
    },
    {
     "data": {
      "image/png": "[encoded data removed]",
      "text/plain": [
       "<Figure size 432x288 with 1 Axes>"
      ]
     },
     "metadata": {
      "needs_background": "light"
     },
     "output_type": "display_data"
    }
   ],
   "source": [
    "(1+current_risk.returns['BTCUSDT']).cumprod().plot()"
   ]
  },
  {
   "cell_type": "code",
   "execution_count": 86,
   "id": "726e5786-d256-485f-9aed-34cf41558ed1",
   "metadata": {},
   "outputs": [
    {
     "data": {
      "text/plain": [
       "PCA          0.000000\n",
       "ETHUSDT      0.325749\n",
       "SOLUSDT      0.335832\n",
       "BNBUSDT      0.352091\n",
       "BTCUSDT      0.357803\n",
       "JASMYUSDT    0.417739\n",
       "PEPEUSDT     0.452809\n",
       "OMUSDT       0.509694\n",
       "TRXUSDT      0.526738\n",
       "BBUSDT       0.606440\n",
       "dtype: float64"
      ]
     },
     "execution_count": 86,
     "metadata": {},
     "output_type": "execute_result"
    }
   ],
   "source": [
    "comparison=current_risk.returns.copy()\n",
    "comparison['PCA']=PCA\n",
    "distances=np.sqrt(np.sum(comparison.apply(lambda y:(y-PCA['PCA'])**2))).sort_values()\n",
    "distances.iloc[:10]"
   ]
  },
  {
   "cell_type": "code",
   "execution_count": 87,
   "id": "c996f646-caea-49bd-9de6-062bfdd34fea",
   "metadata": {},
   "outputs": [
    {
     "data": {
      "text/plain": [
       "<AxesSubplot:>"
      ]
     },
     "execution_count": 87,
     "metadata": {},
     "output_type": "execute_result"
    },
    {
     "data": {
      "image/png": "[encoded data removed]",
      "text/plain": [
       "<Figure size 432x288 with 1 Axes>"
      ]
     },
     "metadata": {
      "needs_background": "light"
     },
     "output_type": "display_data"
    }
   ],
   "source": [
    "(1+comparison[distances.index[:10]]).cumprod().plot()"
   ]
  },
  {
   "cell_type": "markdown",
   "id": "85389228-d5d4-4e65-b11c-e46e5e4155ba",
   "metadata": {},
   "source": [
    "## Sensitivity Analysis"
   ]
  },
  {
   "cell_type": "code",
   "execution_count": 88,
   "id": "7f6c4fd8-79da-438f-9aa9-c5fe762473d3",
   "metadata": {},
   "outputs": [
    {
     "data": {
      "text/plain": [
       "PEPEUSDT     1.947583\n",
       "BBUSDT       1.734292\n",
       "JASMYUSDT    1.282695\n",
       "SOLUSDT      1.169152\n",
       "OMUSDT       1.000100\n",
       "BTCUSDT      1.000000\n",
       "ETHUSDT      0.956032\n",
       "BNBUSDT      0.671480\n",
       "TRXUSDT      0.288422\n",
       "Name: BTCUSDT, dtype: float64"
      ]
     },
     "execution_count": 88,
     "metadata": {},
     "output_type": "execute_result"
    }
   ],
   "source": [
    "beta=(ex_ante_perf.cov()/ex_ante_perf.var())['BTCUSDT'].sort_values(ascending=False)\n",
    "beta"
   ]
  },
  {
   "cell_type": "code",
   "execution_count": 89,
   "id": "47a98cfa-6cea-4d6f-9e50-a8e067707547",
   "metadata": {},
   "outputs": [
    {
     "data": {
      "text/plain": [
       "BBUSDT       1.954235\n",
       "PEPEUSDT     1.799434\n",
       "OMUSDT       1.519002\n",
       "ETHUSDT      1.340065\n",
       "SOLUSDT      1.231111\n",
       "BTCUSDT      1.000000\n",
       "JASMYUSDT    0.989173\n",
       "BNBUSDT      0.716730\n",
       "TRXUSDT      0.371378\n",
       "Name: BTCUSDT, dtype: float64"
      ]
     },
     "execution_count": 89,
     "metadata": {},
     "output_type": "execute_result"
    }
   ],
   "source": [
    "days=15\n",
    "beta=(ex_ante_perf.iloc[-days:].cov()/ex_ante_perf.iloc[-days:].var())['BTCUSDT'].sort_values(ascending=False)\n",
    "beta"
   ]
  },
  {
   "cell_type": "markdown",
   "id": "9f7ba2ce-b159-4322-bfb9-a9f6874cda5e",
   "metadata": {},
   "source": [
    "## Sliding window optimization"
   ]
  },
  {
   "cell_type": "code",
   "execution_count": 98,
   "id": "ac0ed215-119f-4102-b9be-086e1968a6ac",
   "metadata": {},
   "outputs": [
    {
     "data": {
      "text/html": [
       "<div>\n",
       "<style scoped>\n",
       "    .dataframe tbody tr th:only-of-type {\n",
       "        vertical-align: middle;\n",
       "    }\n",
       "\n",
       "    .dataframe tbody tr th {\n",
       "        vertical-align: top;\n",
       "    }\n",
       "\n",
       "    .dataframe thead th {\n",
       "        text-align: right;\n",
       "    }\n",
       "</style>\n",
       "<table border=\"1\" class=\"dataframe\">\n",
       "  <thead>\n",
       "    <tr style=\"text-align: right;\">\n",
       "      <th></th>\n",
       "      <th>BTCUSDT</th>\n",
       "      <th>TRXUSDT</th>\n",
       "      <th>JASMYUSDT</th>\n",
       "      <th>SOLUSDT</th>\n",
       "      <th>OMUSDT</th>\n",
       "      <th>ETHUSDT</th>\n",
       "      <th>BBUSDT</th>\n",
       "      <th>BNBUSDT</th>\n",
       "      <th>PEPEUSDT</th>\n",
       "    </tr>\n",
       "  </thead>\n",
       "  <tbody>\n",
       "    <tr>\n",
       "      <th>2024-05-20</th>\n",
       "      <td>0.000000</td>\n",
       "      <td>0.000000</td>\n",
       "      <td>0.000000</td>\n",
       "      <td>1.000000</td>\n",
       "      <td>0.000000</td>\n",
       "      <td>0.000000</td>\n",
       "      <td>0.000000</td>\n",
       "      <td>0.000000</td>\n",
       "      <td>0.000000</td>\n",
       "    </tr>\n",
       "    <tr>\n",
       "      <th>2024-05-27</th>\n",
       "      <td>0.000000</td>\n",
       "      <td>0.000000</td>\n",
       "      <td>0.405921</td>\n",
       "      <td>0.000000</td>\n",
       "      <td>0.000000</td>\n",
       "      <td>0.000000</td>\n",
       "      <td>0.122004</td>\n",
       "      <td>0.000000</td>\n",
       "      <td>0.472076</td>\n",
       "    </tr>\n",
       "    <tr>\n",
       "      <th>2024-06-03</th>\n",
       "      <td>0.000000</td>\n",
       "      <td>0.000000</td>\n",
       "      <td>0.185125</td>\n",
       "      <td>0.000000</td>\n",
       "      <td>0.814875</td>\n",
       "      <td>0.000000</td>\n",
       "      <td>0.000000</td>\n",
       "      <td>0.000000</td>\n",
       "      <td>0.000000</td>\n",
       "    </tr>\n",
       "    <tr>\n",
       "      <th>2024-06-10</th>\n",
       "      <td>0.000000</td>\n",
       "      <td>0.841078</td>\n",
       "      <td>0.047817</td>\n",
       "      <td>0.000000</td>\n",
       "      <td>0.111105</td>\n",
       "      <td>0.000000</td>\n",
       "      <td>0.000000</td>\n",
       "      <td>0.000000</td>\n",
       "      <td>0.000000</td>\n",
       "    </tr>\n",
       "    <tr>\n",
       "      <th>2024-06-17</th>\n",
       "      <td>0.000000</td>\n",
       "      <td>0.000000</td>\n",
       "      <td>1.000000</td>\n",
       "      <td>0.000000</td>\n",
       "      <td>0.000000</td>\n",
       "      <td>0.000000</td>\n",
       "      <td>0.000000</td>\n",
       "      <td>0.000000</td>\n",
       "      <td>0.000000</td>\n",
       "    </tr>\n",
       "    <tr>\n",
       "      <th>2024-06-24</th>\n",
       "      <td>0.000000</td>\n",
       "      <td>0.979868</td>\n",
       "      <td>0.000000</td>\n",
       "      <td>0.000000</td>\n",
       "      <td>0.020132</td>\n",
       "      <td>0.000000</td>\n",
       "      <td>0.000000</td>\n",
       "      <td>0.000000</td>\n",
       "      <td>0.000000</td>\n",
       "    </tr>\n",
       "    <tr>\n",
       "      <th>2024-07-01</th>\n",
       "      <td>0.000000</td>\n",
       "      <td>0.804372</td>\n",
       "      <td>0.000000</td>\n",
       "      <td>0.146827</td>\n",
       "      <td>0.047122</td>\n",
       "      <td>0.000000</td>\n",
       "      <td>0.001680</td>\n",
       "      <td>0.000000</td>\n",
       "      <td>0.000000</td>\n",
       "    </tr>\n",
       "    <tr>\n",
       "      <th>2024-07-08</th>\n",
       "      <td>0.000000</td>\n",
       "      <td>0.000000</td>\n",
       "      <td>0.000000</td>\n",
       "      <td>0.000000</td>\n",
       "      <td>1.000000</td>\n",
       "      <td>0.000000</td>\n",
       "      <td>0.000000</td>\n",
       "      <td>0.000000</td>\n",
       "      <td>0.000000</td>\n",
       "    </tr>\n",
       "    <tr>\n",
       "      <th>2024-07-15</th>\n",
       "      <td>0.048111</td>\n",
       "      <td>0.606760</td>\n",
       "      <td>0.002957</td>\n",
       "      <td>0.000000</td>\n",
       "      <td>0.000000</td>\n",
       "      <td>0.000000</td>\n",
       "      <td>0.037292</td>\n",
       "      <td>0.304881</td>\n",
       "      <td>0.000000</td>\n",
       "    </tr>\n",
       "    <tr>\n",
       "      <th>2024-07-22</th>\n",
       "      <td>0.000000</td>\n",
       "      <td>0.000000</td>\n",
       "      <td>0.000000</td>\n",
       "      <td>1.000000</td>\n",
       "      <td>0.000000</td>\n",
       "      <td>0.000000</td>\n",
       "      <td>0.000000</td>\n",
       "      <td>0.000000</td>\n",
       "      <td>0.000000</td>\n",
       "    </tr>\n",
       "    <tr>\n",
       "      <th>2024-07-29</th>\n",
       "      <td>0.000000</td>\n",
       "      <td>0.940007</td>\n",
       "      <td>0.059993</td>\n",
       "      <td>0.000000</td>\n",
       "      <td>0.000000</td>\n",
       "      <td>0.000000</td>\n",
       "      <td>0.000000</td>\n",
       "      <td>0.000000</td>\n",
       "      <td>0.000000</td>\n",
       "    </tr>\n",
       "    <tr>\n",
       "      <th>2024-08-05</th>\n",
       "      <td>0.000000</td>\n",
       "      <td>0.000000</td>\n",
       "      <td>0.000000</td>\n",
       "      <td>0.000000</td>\n",
       "      <td>0.000000</td>\n",
       "      <td>0.000000</td>\n",
       "      <td>0.000000</td>\n",
       "      <td>1.000000</td>\n",
       "      <td>0.000000</td>\n",
       "    </tr>\n",
       "    <tr>\n",
       "      <th>2024-08-12</th>\n",
       "      <td>0.000000</td>\n",
       "      <td>0.948997</td>\n",
       "      <td>0.000000</td>\n",
       "      <td>0.000000</td>\n",
       "      <td>0.000000</td>\n",
       "      <td>0.051003</td>\n",
       "      <td>0.000000</td>\n",
       "      <td>0.000000</td>\n",
       "      <td>0.000000</td>\n",
       "    </tr>\n",
       "    <tr>\n",
       "      <th>2024-08-19</th>\n",
       "      <td>0.000000</td>\n",
       "      <td>1.000000</td>\n",
       "      <td>0.000000</td>\n",
       "      <td>0.000000</td>\n",
       "      <td>0.000000</td>\n",
       "      <td>0.000000</td>\n",
       "      <td>0.000000</td>\n",
       "      <td>0.000000</td>\n",
       "      <td>0.000000</td>\n",
       "    </tr>\n",
       "    <tr>\n",
       "      <th>2024-08-26</th>\n",
       "      <td>0.121806</td>\n",
       "      <td>0.331982</td>\n",
       "      <td>0.000000</td>\n",
       "      <td>0.546213</td>\n",
       "      <td>0.000000</td>\n",
       "      <td>0.000000</td>\n",
       "      <td>0.000000</td>\n",
       "      <td>0.000000</td>\n",
       "      <td>0.000000</td>\n",
       "    </tr>\n",
       "    <tr>\n",
       "      <th>2024-09-02</th>\n",
       "      <td>0.000000</td>\n",
       "      <td>0.000000</td>\n",
       "      <td>0.000000</td>\n",
       "      <td>0.000000</td>\n",
       "      <td>1.000000</td>\n",
       "      <td>0.000000</td>\n",
       "      <td>0.000000</td>\n",
       "      <td>0.000000</td>\n",
       "      <td>0.000000</td>\n",
       "    </tr>\n",
       "    <tr>\n",
       "      <th>2024-09-09</th>\n",
       "      <td>0.000000</td>\n",
       "      <td>0.000000</td>\n",
       "      <td>0.000000</td>\n",
       "      <td>0.000000</td>\n",
       "      <td>0.000000</td>\n",
       "      <td>0.000000</td>\n",
       "      <td>1.000000</td>\n",
       "      <td>0.000000</td>\n",
       "      <td>0.000000</td>\n",
       "    </tr>\n",
       "  </tbody>\n",
       "</table>\n",
       "</div>"
      ],
      "text/plain": [
       "             BTCUSDT   TRXUSDT  JASMYUSDT   SOLUSDT    OMUSDT   ETHUSDT  \\\n",
       "2024-05-20  0.000000  0.000000   0.000000  1.000000  0.000000  0.000000   \n",
       "2024-05-27  0.000000  0.000000   0.405921  0.000000  0.000000  0.000000   \n",
       "2024-06-03  0.000000  0.000000   0.185125  0.000000  0.814875  0.000000   \n",
       "2024-06-10  0.000000  0.841078   0.047817  0.000000  0.111105  0.000000   \n",
       "2024-06-17  0.000000  0.000000   1.000000  0.000000  0.000000  0.000000   \n",
       "2024-06-24  0.000000  0.979868   0.000000  0.000000  0.020132  0.000000   \n",
       "2024-07-01  0.000000  0.804372   0.000000  0.146827  0.047122  0.000000   \n",
       "2024-07-08  0.000000  0.000000   0.000000  0.000000  1.000000  0.000000   \n",
       "2024-07-15  0.048111  0.606760   0.002957  0.000000  0.000000  0.000000   \n",
       "2024-07-22  0.000000  0.000000   0.000000  1.000000  0.000000  0.000000   \n",
       "2024-07-29  0.000000  0.940007   0.059993  0.000000  0.000000  0.000000   \n",
       "2024-08-05  0.000000  0.000000   0.000000  0.000000  0.000000  0.000000   \n",
       "2024-08-12  0.000000  0.948997   0.000000  0.000000  0.000000  0.051003   \n",
       "2024-08-19  0.000000  1.000000   0.000000  0.000000  0.000000  0.000000   \n",
       "2024-08-26  0.121806  0.331982   0.000000  0.546213  0.000000  0.000000   \n",
       "2024-09-02  0.000000  0.000000   0.000000  0.000000  1.000000  0.000000   \n",
       "2024-09-09  0.000000  0.000000   0.000000  0.000000  0.000000  0.000000   \n",
       "\n",
       "              BBUSDT   BNBUSDT  PEPEUSDT  \n",
       "2024-05-20  0.000000  0.000000  0.000000  \n",
       "2024-05-27  0.122004  0.000000  0.472076  \n",
       "2024-06-03  0.000000  0.000000  0.000000  \n",
       "2024-06-10  0.000000  0.000000  0.000000  \n",
       "2024-06-17  0.000000  0.000000  0.000000  \n",
       "2024-06-24  0.000000  0.000000  0.000000  \n",
       "2024-07-01  0.001680  0.000000  0.000000  \n",
       "2024-07-08  0.000000  0.000000  0.000000  \n",
       "2024-07-15  0.037292  0.304881  0.000000  \n",
       "2024-07-22  0.000000  0.000000  0.000000  \n",
       "2024-07-29  0.000000  0.000000  0.000000  \n",
       "2024-08-05  0.000000  1.000000  0.000000  \n",
       "2024-08-12  0.000000  0.000000  0.000000  \n",
       "2024-08-19  0.000000  0.000000  0.000000  \n",
       "2024-08-26  0.000000  0.000000  0.000000  \n",
       "2024-09-02  0.000000  0.000000  0.000000  \n",
       "2024-09-09  1.000000  0.000000  0.000000  "
      ]
     },
     "execution_count": 98,
     "metadata": {},
     "output_type": "execute_result"
    }
   ],
   "source": [
    "results={}\n",
    "window=7\n",
    "\n",
    "for i in range(0,ex_ante_perf_to_use.shape[0]-window+1,window):\n",
    "    \n",
    "    try:\n",
    "        dataset=ex_ante_perf_to_use.iloc[i:i+window]\n",
    "        risk=RiskAnalysis(dataset)\n",
    "        date=dataset.index[-1]\n",
    "        optimal=risk.optimize(objective='sharpe_ratio')     \n",
    "        results[date]=np.round(optimal,6)\n",
    "        \n",
    "    except Exception as e:\n",
    "        \n",
    "            pass\n",
    "\n",
    "rolling_optimization=pd.DataFrame(results,index=ex_ante_perf_to_use.columns).T\n",
    "rolling_optimization"
   ]
  },
  {
   "cell_type": "code",
   "execution_count": null,
   "id": "06d2d511-a570-43f8-8097-a332bcca3420",
   "metadata": {},
   "outputs": [],
   "source": []
  },
  {
   "cell_type": "code",
   "execution_count": null,
   "id": "88abb868-0225-453f-9679-53ea4d6f9737",
   "metadata": {},
   "outputs": [],
   "source": []
  }
 ],
 "metadata": {
  "kernelspec": {
   "display_name": "Python 3 (ipykernel)",
   "language": "python",
   "name": "python3"
  },
  "language_info": {
   "codemirror_mode": {
    "name": "ipython",
    "version": 3
   },
   "file_extension": ".py",
   "mimetype": "text/x-python",
   "name": "python",
   "nbconvert_exporter": "python",
   "pygments_lexer": "ipython3",
   "version": "3.9.12"
  }
 },
 "nbformat": 4,
 "nbformat_minor": 5
}
