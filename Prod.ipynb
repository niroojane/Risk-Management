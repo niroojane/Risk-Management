{
 "cells": [
  {
   "cell_type": "markdown",
   "id": "b37f1921-36ab-4456-9e86-117c39f91bc4",
   "metadata": {},
   "source": [
    "# Importing Libraries"
   ]
  },
  {
   "cell_type": "code",
   "execution_count": 1,
   "id": "09c99a28-9359-4262-86e9-bb67140f87a7",
   "metadata": {},
   "outputs": [],
   "source": [
    "import pandas as pd\n",
    "import random\n",
    "import numpy as np\n",
    "import matplotlib.pyplot as plt\n",
    "import datetime\n",
    "import seaborn as sns\n",
    "from scipy.optimize import minimize"
   ]
  },
  {
   "cell_type": "code",
   "execution_count": 2,
   "id": "917dd650-def2-4d10-89d9-ca82b6a3704f",
   "metadata": {},
   "outputs": [],
   "source": [
    "%run \"Stock Data.ipynb\".ipynb\n",
    "%run \"Binance API.ipynb\".ipynb\n",
    "%run \"RiskMetrics.ipynb\".ipynb\n",
    "%run \"PnL Computation.ipynb\".ipynb"
   ]
  },
  {
   "cell_type": "markdown",
   "id": "01a00d22-d2b2-4f90-97d6-a7a3f8ef242f",
   "metadata": {},
   "source": [
    "# Importing Data"
   ]
  },
  {
   "cell_type": "markdown",
   "id": "0af29f5a-4c7d-44b2-8ecc-6d859cdc6983",
   "metadata": {},
   "source": [
    "## Tickers"
   ]
  },
  {
   "cell_type": "code",
   "execution_count": 3,
   "id": "879726f3-da1f-4180-8121-df701ec61bf4",
   "metadata": {},
   "outputs": [],
   "source": [
    "binance_api_key='E90xR7UnO2oeP3lrgC50zkqUuAqyyXs4uSlAGcqIVO9n90ELrFI4gfVI2HGGxxCj'\n",
    "binance_api_secret='Inls2xYl9FqPi0zlIrucfxG81drx7w6Pv6SzYFxMNoAcwDjlCKug7zUM9zB3lF9h'\n",
    "Binance=BinanceAPI(binance_api_key,binance_api_secret)"
   ]
  },
  {
   "cell_type": "code",
   "execution_count": 4,
   "id": "0f1c0e61-395a-407c-9aef-80d5011e56b5",
   "metadata": {},
   "outputs": [],
   "source": [
    "#stocks=pd.read_html('https://en.wikipedia.org/wiki/EURO_STOXX_50')[4]\n",
    "#tickers=stocks['Ticker'].to_list()"
   ]
  },
  {
   "cell_type": "markdown",
   "id": "c33884b2-73bc-4e92-8c5b-09559b34051d",
   "metadata": {},
   "source": [
    "## Market Data"
   ]
  },
  {
   "cell_type": "code",
   "execution_count": 5,
   "id": "b5919bc8-fde2-4e6f-871d-2eed8341c8ae",
   "metadata": {},
   "outputs": [],
   "source": [
    "start_date=datetime.datetime(2023,12,1)\n",
    "enddate=start_date+datetime.timedelta(500)"
   ]
  },
  {
   "cell_type": "code",
   "execution_count": 6,
   "id": "3121b466-eae2-4538-bd80-54f2e390b2c1",
   "metadata": {},
   "outputs": [],
   "source": [
    "quantities_api=Binance.binance_api.user_asset()\n",
    "current_quantities=pd.DataFrame(quantities_api).sort_values(by='free',ascending=False)\n",
    "current_quantities['asset']=current_quantities['asset']+'USDT'\n",
    "current_quantities=current_quantities.set_index('asset')"
   ]
  },
  {
   "cell_type": "code",
   "execution_count": 7,
   "id": "2a5e1fb2-658d-49d7-afe2-d58ff93c06e5",
   "metadata": {},
   "outputs": [],
   "source": [
    "#today_price=Binance.get_price(holding_tickers,date=datetime.datetime.today()).T\n",
    "#today_price.columns=['Mark To Market']"
   ]
  },
  {
   "cell_type": "code",
   "execution_count": 8,
   "id": "816f9f00-252a-4d1b-93ba-4475e411b3cc",
   "metadata": {},
   "outputs": [],
   "source": [
    "trade_history=pd.read_excel('Trade History Reconstructed.xlsx')\n",
    "price=get_trade_in_usdt(trade_history)"
   ]
  },
  {
   "cell_type": "code",
   "execution_count": 9,
   "id": "08fe9c77-fdc9-4d58-be7d-bb4d7a390a33",
   "metadata": {},
   "outputs": [],
   "source": [
    "book_cost=get_book_cost(price)\n",
    "realized_pnl,profit_and_loss=get_pnl(book_cost,price)\n",
    "historical_positions=get_historical_positions(price)\n",
    "historical_positions.columns=historical_positions.columns+'USDT'\n",
    "historical_positions=historical_positions.sort_index()"
   ]
  },
  {
   "cell_type": "code",
   "execution_count": 10,
   "id": "e702932f-d944-4116-b5d3-016175472604",
   "metadata": {},
   "outputs": [],
   "source": [
    "price_of_positions=Binance.get_price(historical_positions.columns,datetime.datetime(2024,5,1))\n",
    "price_of_positions.index=pd.to_datetime(price_of_positions.index)\n",
    "price_of_positions=price_of_positions.sort_index()"
   ]
  },
  {
   "cell_type": "code",
   "execution_count": 11,
   "id": "8e23e40d-dfd3-4bc0-b5a9-7c4db6fb4027",
   "metadata": {},
   "outputs": [],
   "source": [
    "dic={}\n",
    "for key in profit_and_loss:\n",
    "    dic[key]=profit_and_loss[key].to_dict()"
   ]
  },
  {
   "cell_type": "code",
   "execution_count": 12,
   "id": "b5d38ed3-7e7f-4afc-8d77-04c43f0e9cc2",
   "metadata": {},
   "outputs": [],
   "source": [
    "realized_pnl_time=pd.DataFrame(dic).sort_index().fillna(method='ffill').fillna(0)\n",
    "realized_pnl_time.index=pd.to_datetime(realized_pnl_time.index).round(freq='d')\n",
    "realized_pnl_time=realized_pnl_time.groupby(realized_pnl_time.index).sum()"
   ]
  },
  {
   "cell_type": "code",
   "execution_count": 13,
   "id": "5228883e-ca7d-4257-b16f-bd195d649dcf",
   "metadata": {},
   "outputs": [
    {
     "data": {
      "text/html": [
       "<div>\n",
       "<style scoped>\n",
       "    .dataframe tbody tr th:only-of-type {\n",
       "        vertical-align: middle;\n",
       "    }\n",
       "\n",
       "    .dataframe tbody tr th {\n",
       "        vertical-align: top;\n",
       "    }\n",
       "\n",
       "    .dataframe thead th {\n",
       "        text-align: right;\n",
       "    }\n",
       "</style>\n",
       "<table border=\"1\" class=\"dataframe\">\n",
       "  <thead>\n",
       "    <tr style=\"text-align: right;\">\n",
       "      <th></th>\n",
       "      <th>Book Cost</th>\n",
       "      <th>Price in USDT</th>\n",
       "      <th>Weights</th>\n",
       "      <th>Realized PnL</th>\n",
       "      <th>Unrealized PnL</th>\n",
       "      <th>Total PnL</th>\n",
       "    </tr>\n",
       "  </thead>\n",
       "  <tbody>\n",
       "    <tr>\n",
       "      <th>Total</th>\n",
       "      <td>2184.935036</td>\n",
       "      <td>4290.357627</td>\n",
       "      <td>0.9999</td>\n",
       "      <td>-131.886217</td>\n",
       "      <td>2105.42</td>\n",
       "      <td>1973.533783</td>\n",
       "    </tr>\n",
       "    <tr>\n",
       "      <th>OMUSDT</th>\n",
       "      <td>526.319895</td>\n",
       "      <td>1861.823834</td>\n",
       "      <td>0.4340</td>\n",
       "      <td>0.000000</td>\n",
       "      <td>1335.50</td>\n",
       "      <td>1335.500000</td>\n",
       "    </tr>\n",
       "    <tr>\n",
       "      <th>BTCUSDT</th>\n",
       "      <td>601.021649</td>\n",
       "      <td>884.865404</td>\n",
       "      <td>0.2062</td>\n",
       "      <td>3.537078</td>\n",
       "      <td>283.84</td>\n",
       "      <td>287.377078</td>\n",
       "    </tr>\n",
       "    <tr>\n",
       "      <th>JASMYUSDT</th>\n",
       "      <td>387.458505</td>\n",
       "      <td>627.235976</td>\n",
       "      <td>0.1462</td>\n",
       "      <td>0.000000</td>\n",
       "      <td>239.78</td>\n",
       "      <td>239.780000</td>\n",
       "    </tr>\n",
       "    <tr>\n",
       "      <th>SOLUSDT</th>\n",
       "      <td>281.200518</td>\n",
       "      <td>428.363512</td>\n",
       "      <td>0.0998</td>\n",
       "      <td>0.000000</td>\n",
       "      <td>147.16</td>\n",
       "      <td>147.160000</td>\n",
       "    </tr>\n",
       "    <tr>\n",
       "      <th>ETHUSDT</th>\n",
       "      <td>250.747339</td>\n",
       "      <td>277.276757</td>\n",
       "      <td>0.0646</td>\n",
       "      <td>0.000000</td>\n",
       "      <td>26.53</td>\n",
       "      <td>26.530000</td>\n",
       "    </tr>\n",
       "    <tr>\n",
       "      <th>TRXUSDT</th>\n",
       "      <td>76.868953</td>\n",
       "      <td>155.906738</td>\n",
       "      <td>0.0363</td>\n",
       "      <td>-10.723889</td>\n",
       "      <td>79.04</td>\n",
       "      <td>68.316111</td>\n",
       "    </tr>\n",
       "    <tr>\n",
       "      <th>BBUSDT</th>\n",
       "      <td>60.176053</td>\n",
       "      <td>53.607816</td>\n",
       "      <td>0.0125</td>\n",
       "      <td>-39.733101</td>\n",
       "      <td>-6.57</td>\n",
       "      <td>-46.303101</td>\n",
       "    </tr>\n",
       "    <tr>\n",
       "      <th>BNBUSDT</th>\n",
       "      <td>1.142121</td>\n",
       "      <td>1.277585</td>\n",
       "      <td>0.0003</td>\n",
       "      <td>-10.606040</td>\n",
       "      <td>0.14</td>\n",
       "      <td>-10.466040</td>\n",
       "    </tr>\n",
       "    <tr>\n",
       "      <th>PEPEUSDT</th>\n",
       "      <td>0.000004</td>\n",
       "      <td>0.000006</td>\n",
       "      <td>0.0000</td>\n",
       "      <td>-38.521986</td>\n",
       "      <td>0.00</td>\n",
       "      <td>-38.521986</td>\n",
       "    </tr>\n",
       "    <tr>\n",
       "      <th>MKRUSDT</th>\n",
       "      <td>0.000000</td>\n",
       "      <td>0.000000</td>\n",
       "      <td>0.0000</td>\n",
       "      <td>-6.097479</td>\n",
       "      <td>0.00</td>\n",
       "      <td>-6.097479</td>\n",
       "    </tr>\n",
       "    <tr>\n",
       "      <th>XRPUSDT</th>\n",
       "      <td>0.000000</td>\n",
       "      <td>0.000000</td>\n",
       "      <td>0.0000</td>\n",
       "      <td>-6.114543</td>\n",
       "      <td>0.00</td>\n",
       "      <td>-6.114543</td>\n",
       "    </tr>\n",
       "    <tr>\n",
       "      <th>RNDRUSDT</th>\n",
       "      <td>0.000000</td>\n",
       "      <td>0.000000</td>\n",
       "      <td>0.0000</td>\n",
       "      <td>0.000000</td>\n",
       "      <td>0.00</td>\n",
       "      <td>0.000000</td>\n",
       "    </tr>\n",
       "    <tr>\n",
       "      <th>ENSUSDT</th>\n",
       "      <td>0.000000</td>\n",
       "      <td>0.000000</td>\n",
       "      <td>0.0000</td>\n",
       "      <td>-3.536355</td>\n",
       "      <td>0.00</td>\n",
       "      <td>-3.536355</td>\n",
       "    </tr>\n",
       "    <tr>\n",
       "      <th>NOTUSDT</th>\n",
       "      <td>0.000000</td>\n",
       "      <td>0.000000</td>\n",
       "      <td>0.0000</td>\n",
       "      <td>1.007820</td>\n",
       "      <td>0.00</td>\n",
       "      <td>1.007820</td>\n",
       "    </tr>\n",
       "    <tr>\n",
       "      <th>TNSRUSDT</th>\n",
       "      <td>0.000000</td>\n",
       "      <td>0.000000</td>\n",
       "      <td>0.0000</td>\n",
       "      <td>0.000000</td>\n",
       "      <td>0.00</td>\n",
       "      <td>0.000000</td>\n",
       "    </tr>\n",
       "    <tr>\n",
       "      <th>UMAUSDT</th>\n",
       "      <td>0.000000</td>\n",
       "      <td>0.000000</td>\n",
       "      <td>0.0000</td>\n",
       "      <td>-5.019416</td>\n",
       "      <td>0.00</td>\n",
       "      <td>-5.019416</td>\n",
       "    </tr>\n",
       "    <tr>\n",
       "      <th>NEARUSDT</th>\n",
       "      <td>0.000000</td>\n",
       "      <td>0.000000</td>\n",
       "      <td>0.0000</td>\n",
       "      <td>-10.339628</td>\n",
       "      <td>0.00</td>\n",
       "      <td>-10.339628</td>\n",
       "    </tr>\n",
       "    <tr>\n",
       "      <th>FETUSDT</th>\n",
       "      <td>0.000000</td>\n",
       "      <td>0.000000</td>\n",
       "      <td>0.0000</td>\n",
       "      <td>0.008005</td>\n",
       "      <td>0.00</td>\n",
       "      <td>0.008005</td>\n",
       "    </tr>\n",
       "    <tr>\n",
       "      <th>USDTUSDT</th>\n",
       "      <td>0.000000</td>\n",
       "      <td>0.000000</td>\n",
       "      <td>0.0000</td>\n",
       "      <td>0.000000</td>\n",
       "      <td>0.00</td>\n",
       "      <td>0.000000</td>\n",
       "    </tr>\n",
       "    <tr>\n",
       "      <th>LPTUSDT</th>\n",
       "      <td>0.000000</td>\n",
       "      <td>0.000000</td>\n",
       "      <td>0.0000</td>\n",
       "      <td>-5.746684</td>\n",
       "      <td>0.00</td>\n",
       "      <td>-5.746684</td>\n",
       "    </tr>\n",
       "  </tbody>\n",
       "</table>\n",
       "</div>"
      ],
      "text/plain": [
       "             Book Cost  Price in USDT  Weights  Realized PnL  Unrealized PnL  \\\n",
       "Total      2184.935036    4290.357627   0.9999   -131.886217         2105.42   \n",
       "OMUSDT      526.319895    1861.823834   0.4340      0.000000         1335.50   \n",
       "BTCUSDT     601.021649     884.865404   0.2062      3.537078          283.84   \n",
       "JASMYUSDT   387.458505     627.235976   0.1462      0.000000          239.78   \n",
       "SOLUSDT     281.200518     428.363512   0.0998      0.000000          147.16   \n",
       "ETHUSDT     250.747339     277.276757   0.0646      0.000000           26.53   \n",
       "TRXUSDT      76.868953     155.906738   0.0363    -10.723889           79.04   \n",
       "BBUSDT       60.176053      53.607816   0.0125    -39.733101           -6.57   \n",
       "BNBUSDT       1.142121       1.277585   0.0003    -10.606040            0.14   \n",
       "PEPEUSDT      0.000004       0.000006   0.0000    -38.521986            0.00   \n",
       "MKRUSDT       0.000000       0.000000   0.0000     -6.097479            0.00   \n",
       "XRPUSDT       0.000000       0.000000   0.0000     -6.114543            0.00   \n",
       "RNDRUSDT      0.000000       0.000000   0.0000      0.000000            0.00   \n",
       "ENSUSDT       0.000000       0.000000   0.0000     -3.536355            0.00   \n",
       "NOTUSDT       0.000000       0.000000   0.0000      1.007820            0.00   \n",
       "TNSRUSDT      0.000000       0.000000   0.0000      0.000000            0.00   \n",
       "UMAUSDT       0.000000       0.000000   0.0000     -5.019416            0.00   \n",
       "NEARUSDT      0.000000       0.000000   0.0000    -10.339628            0.00   \n",
       "FETUSDT       0.000000       0.000000   0.0000      0.008005            0.00   \n",
       "USDTUSDT      0.000000       0.000000   0.0000      0.000000            0.00   \n",
       "LPTUSDT       0.000000       0.000000   0.0000     -5.746684            0.00   \n",
       "\n",
       "             Total PnL  \n",
       "Total      1973.533783  \n",
       "OMUSDT     1335.500000  \n",
       "BTCUSDT     287.377078  \n",
       "JASMYUSDT   239.780000  \n",
       "SOLUSDT     147.160000  \n",
       "ETHUSDT      26.530000  \n",
       "TRXUSDT      68.316111  \n",
       "BBUSDT      -46.303101  \n",
       "BNBUSDT     -10.466040  \n",
       "PEPEUSDT    -38.521986  \n",
       "MKRUSDT      -6.097479  \n",
       "XRPUSDT      -6.114543  \n",
       "RNDRUSDT      0.000000  \n",
       "ENSUSDT      -3.536355  \n",
       "NOTUSDT       1.007820  \n",
       "TNSRUSDT      0.000000  \n",
       "UMAUSDT      -5.019416  \n",
       "NEARUSDT    -10.339628  \n",
       "FETUSDT       0.008005  \n",
       "USDTUSDT      0.000000  \n",
       "LPTUSDT      -5.746684  "
      ]
     },
     "execution_count": 13,
     "metadata": {},
     "output_type": "execute_result"
    }
   ],
   "source": [
    "tickers=Binance.get_market_cap()['Ticker'].iloc[:75].to_list()\n",
    "holding=Binance.get_inventory()\n",
    "condition=holding.index!='Total'\n",
    "holding_tickers=holding.index[condition]\n",
    "holding_tickers=holding_tickers.to_list()\n",
    "tickers=sorted(list(set(tickers+holding_tickers)))\n",
    "last_book_cost=book_cost.iloc[-1]\n",
    "pnl=pd.concat([last_book_cost,holding.loc[condition],realized_pnl],axis=1)\n",
    "pnl.columns=['Book Cost','Price in USDT','Weights','Realized PnL']\n",
    "pnl['Book Cost']=(pnl['Book Cost']*current_quantities['free'].astype(float))\n",
    "pnl['Unrealized PnL']=(pnl['Price in USDT']-pnl['Book Cost']).round(2)\n",
    "pnl=pnl.fillna(0)\n",
    "pnl['Weights']=pnl['Weights'].round(4)\n",
    "pnl['Total PnL']=pnl['Unrealized PnL']+pnl['Realized PnL']\n",
    "pnl.loc['Total']=pnl.sum()\n",
    "pnl.sort_values(ascending=False,by='Price in USDT')"
   ]
  },
  {
   "cell_type": "code",
   "execution_count": 14,
   "id": "24c4a586-5719-4e4c-af73-72089b5c549b",
   "metadata": {},
   "outputs": [],
   "source": [
    "data1=Binance.get_price(tickers,start_date)\n",
    "data2=Binance.get_price(tickers,enddate)\n",
    "data=data1.combine_first(data2)\n",
    "data.index=pd.to_datetime(data.index)\n",
    "#data=data.dropna(axis=1)\n",
    "n=len(data.columns)\n",
    "data=data.sort_index()"
   ]
  },
  {
   "cell_type": "code",
   "execution_count": 15,
   "id": "fa402d23-cca7-4a57-9e61-234a6e346d61",
   "metadata": {},
   "outputs": [],
   "source": [
    "inventory_weights=(holding['Weights'].apply(lambda x: np.round(x,2))).to_dict()\n",
    "inventory_weights.pop('Total')\n",
    "\n",
    "if \"USDTUSDT\" in inventory_weights:\n",
    "    \n",
    "    inventory_weights.pop('USDTUSDT')\n",
    "else: \n",
    "    pass"
   ]
  },
  {
   "cell_type": "code",
   "execution_count": 16,
   "id": "f12eea91-8e16-438a-8418-e9a00c684c51",
   "metadata": {},
   "outputs": [],
   "source": [
    "returns=np.log(1+data.pct_change())\n",
    "returns.index=pd.to_datetime(returns.index)\n",
    "with_no_na=returns.columns[np.where((returns.isna().sum()<30))]\n",
    "returns_to_use=returns[with_no_na]\n",
    "ex_ante_perf=returns[holding_tickers]\n",
    "ex_ante_perf_to_use=ex_ante_perf.dropna()"
   ]
  },
  {
   "cell_type": "code",
   "execution_count": 17,
   "id": "c02ab432-6fac-4d8a-9744-c41d0fc2977c",
   "metadata": {},
   "outputs": [],
   "source": [
    "weights_post=dict()\n",
    "\n",
    "for col in ex_ante_perf.columns:\n",
    "    \n",
    "    if col in inventory_weights.keys():\n",
    "        weights_post[col]=inventory_weights[col]\n",
    "        \n",
    "    else:\n",
    "        weights_post[col]=0\n",
    "    \n",
    "current_weights=np.array(list(weights_post.values()))\n",
    "current_weights=np.round(current_weights,2)/np.sum(np.round(current_weights,2))"
   ]
  },
  {
   "cell_type": "markdown",
   "id": "b140110e-5f33-465c-8e5c-0fc7a645c27d",
   "metadata": {
    "tags": []
   },
   "source": [
    "## Positions, Historical Performance and PnL"
   ]
  },
  {
   "cell_type": "code",
   "execution_count": 18,
   "id": "f2b4a11b-d344-4706-9dac-b73eab814fb0",
   "metadata": {},
   "outputs": [],
   "source": [
    "position=pd.read_excel('Positions.xlsx',index_col=0)"
   ]
  },
  {
   "cell_type": "code",
   "execution_count": 19,
   "id": "dc17b920-41c0-472e-9640-5689430c5089",
   "metadata": {},
   "outputs": [],
   "source": [
    "positions,quantities=Binance.get_positions_history(enddate=datetime.datetime.today())\n",
    "\n",
    "positions=positions.sort_index()\n",
    "\n",
    "positions.index=pd.to_datetime(positions.index)\n",
    "\n",
    "positions=pd.concat([position,positions])\n",
    "positions=positions.loc[~positions.index.duplicated(),:]\n",
    "\n",
    "positions.to_excel('Positions.xlsx')\n",
    "\n",
    "positions=positions.interpolate()\n",
    "positions['Total']=positions.sum(axis=1)"
   ]
  },
  {
   "cell_type": "code",
   "execution_count": 20,
   "id": "a4b674ac-e48d-4a4f-b58c-322d49b021bd",
   "metadata": {},
   "outputs": [],
   "source": [
    "quantities_history=pd.read_excel('Quantities.xlsx',index_col=0)\n",
    "\n",
    "quantities.index=pd.to_datetime(quantities.index)\n",
    "\n",
    "quantities=pd.concat([quantities,quantities_history])\n",
    "quantities=quantities.loc[~quantities.index.duplicated(),:]\n",
    "quantities=quantities.sort_index()\n",
    "\n",
    "quantities.to_excel('Quantities.xlsx')"
   ]
  },
  {
   "cell_type": "code",
   "execution_count": 21,
   "id": "2e3c0053-644a-42c0-bbf6-443fadd1a88c",
   "metadata": {},
   "outputs": [],
   "source": [
    "quantities_tickers=list(quantities.columns)\n",
    "price_pnl=Binance.get_price(quantities_tickers,date=quantities.index[0])"
   ]
  },
  {
   "cell_type": "code",
   "execution_count": 22,
   "id": "9a6fd525-0f78-49ac-b526-2a4cea6c5092",
   "metadata": {},
   "outputs": [],
   "source": [
    "price_pnl.index=pd.to_datetime(price_pnl.index)\n",
    "pnl_history=pd.DataFrame()\n",
    "pnl_history.index=quantities.index\n",
    "pnl_history=pnl_history.sort_index()\n",
    "for col in quantities:\n",
    "    \n",
    "    pnl_history[col]=quantities[col]*(price_pnl[col]-book_cost.iloc[-1][col])\n",
    "\n",
    "pnl_history['Total']=pnl_history.sum(axis=1) +realized_pnl.sum()[0]"
   ]
  },
  {
   "cell_type": "code",
   "execution_count": 23,
   "id": "9457b294-32aa-429c-a7ef-77311a9a0d76",
   "metadata": {},
   "outputs": [
    {
     "data": {
      "text/plain": [
       "2024-09-23    -378.365173\n",
       "2024-09-24    -354.861834\n",
       "2024-09-25    -362.331965\n",
       "2024-09-26    -276.632747\n",
       "2024-09-27    -260.113627\n",
       "                 ...     \n",
       "2024-12-02    1418.524583\n",
       "2024-12-03    1806.096259\n",
       "2024-12-04    1729.714053\n",
       "2024-12-05    1990.847138\n",
       "2024-12-06    1981.149715\n",
       "Name: Total, Length: 75, dtype: float64"
      ]
     },
     "execution_count": 23,
     "metadata": {},
     "output_type": "execute_result"
    }
   ],
   "source": [
    "pnl_history['Total']"
   ]
  },
  {
   "cell_type": "code",
   "execution_count": 24,
   "id": "218e81b9-32d0-4336-b0c8-1ce225755b8a",
   "metadata": {},
   "outputs": [],
   "source": [
    "#eurusd=Binance.get_price(['EURUSDT'],date=pnl_history.index[0])"
   ]
  },
  {
   "cell_type": "code",
   "execution_count": 25,
   "id": "7024f40c-7ebf-4695-83bc-29f9dd397bda",
   "metadata": {},
   "outputs": [],
   "source": [
    "ptf_tickers=list(positions.columns)\n",
    "ptf_tickers.remove('USDTUSDT')"
   ]
  },
  {
   "cell_type": "code",
   "execution_count": 26,
   "id": "3a9a3051-c255-4f0d-be18-894331cd55c9",
   "metadata": {},
   "outputs": [],
   "source": [
    "weights_ex_post=positions.copy()\n",
    "weights_ex_post=weights_ex_post.drop(columns=['USDTUSDT'])\n",
    "weights_ex_post=weights_ex_post.apply(lambda x: x/weights_ex_post['Total'])"
   ]
  },
  {
   "cell_type": "code",
   "execution_count": 27,
   "id": "e4dc6066-1329-4a65-a66e-476690428ca0",
   "metadata": {},
   "outputs": [
    {
     "name": "stdout",
     "output_type": "stream",
     "text": [
      "LDUMAUSDT not retrieved\n",
      "Total not retrieved\n"
     ]
    }
   ],
   "source": [
    "binance_data=Binance.get_price(ptf_tickers,date=datetime.datetime(2024,5,11))\n",
    "binance_data.index=pd.to_datetime(binance_data.index)\n",
    "binance_data=binance_data.sort_index()\n",
    "binance_data=np.log(1+binance_data.pct_change())\n"
   ]
  },
  {
   "cell_type": "code",
   "execution_count": 28,
   "id": "5622e624-6716-491e-97b8-c9d221f0d700",
   "metadata": {},
   "outputs": [],
   "source": [
    "weight_date=set(weights_ex_post.index)\n",
    "binance_date=binance_data.index"
   ]
  },
  {
   "cell_type": "code",
   "execution_count": 29,
   "id": "7d465985-94d7-4b93-b6bc-66a63b13ae4f",
   "metadata": {},
   "outputs": [],
   "source": [
    "common_date=binance_date.intersection(weight_date)\n",
    "\n",
    "binance_data=binance_data.loc[common_date]"
   ]
  },
  {
   "cell_type": "code",
   "execution_count": 30,
   "id": "5c6c4aa2-0952-478c-b077-6c37ba62d297",
   "metadata": {},
   "outputs": [],
   "source": [
    "historical_ptf=pd.DataFrame()\n",
    "\n",
    "for col in binance_data:\n",
    "    historical_ptf[col]=weights_ex_post[col]*binance_data[col]\n",
    "    \n",
    "historical_ptf['Historical Portfolio']=historical_ptf.sum(axis=1)"
   ]
  },
  {
   "cell_type": "code",
   "execution_count": 31,
   "id": "c58b1420-5345-4feb-af42-6f019cfdf19c",
   "metadata": {},
   "outputs": [
    {
     "data": {
      "text/plain": [
       "<AxesSubplot:>"
      ]
     },
     "execution_count": 31,
     "metadata": {},
     "output_type": "execute_result"
    },
    {
     "data": {
      "image/png": "[encoded data removed]",
      "text/plain": [
       "<Figure size 432x288 with 1 Axes>"
      ]
     },
     "metadata": {
      "needs_background": "light"
     },
     "output_type": "display_data"
    }
   ],
   "source": [
    "#historical_ptf.dropna(axis = 0, how = 'all', inplace = True)\n",
    "\n",
    "(1+historical_ptf['Historical Portfolio']).cumprod().plot()"
   ]
  },
  {
   "cell_type": "markdown",
   "id": "234cc405-16b8-4ea6-89f9-bf448d837670",
   "metadata": {},
   "source": [
    "## Ex ante data"
   ]
  },
  {
   "cell_type": "code",
   "execution_count": 32,
   "id": "027c07a0-4c8e-45da-a97d-8cf833597a5f",
   "metadata": {},
   "outputs": [],
   "source": [
    "ex_ante_ptf=ex_ante_perf.copy()\n",
    "\n",
    "for key in inventory_weights.keys():\n",
    "    \n",
    "    ex_ante_ptf[key]=ex_ante_perf[key]*inventory_weights[key]\n",
    "\n",
    "ex_ante_ptf=pd.DataFrame(ex_ante_ptf.sum(axis=1))"
   ]
  },
  {
   "cell_type": "markdown",
   "id": "bbec8b12-d681-4704-a561-9718fbb872e0",
   "metadata": {},
   "source": [
    "# Portfolio Optimization"
   ]
  },
  {
   "cell_type": "markdown",
   "id": "16adc40b-d589-4193-8148-7e7dae06dc7e",
   "metadata": {},
   "source": [
    "## Class set up"
   ]
  },
  {
   "cell_type": "code",
   "execution_count": 33,
   "id": "f27106c8-0433-477e-b0bf-6ca9249004b4",
   "metadata": {},
   "outputs": [],
   "source": [
    "historical_risk=RiskAnalysis(returns_to_use)\n",
    "current_risk=RiskAnalysis(ex_ante_perf_to_use.iloc[:])\n",
    "num_asset=len(returns_to_use.columns)\n",
    "num_asset_current=len(ex_ante_perf_to_use.columns)"
   ]
  },
  {
   "cell_type": "code",
   "execution_count": 34,
   "id": "f55211bf-ba25-4066-a0d2-6cf0ef658786",
   "metadata": {},
   "outputs": [
    {
     "data": {
      "text/plain": [
       "Index(['AAVEUSDT', 'ADAUSDT', 'ALGOUSDT', 'APTUSDT', 'ARBUSDT', 'ARUSDT',\n",
       "       'ATOMUSDT', 'AVAXUSDT', 'BCHUSDT', 'BNBUSDT', 'BONKUSDT', 'BTCUSDT',\n",
       "       'CRVUSDT', 'DOGEUSDT', 'DOTUSDT', 'DYDXUSDT', 'EGLDUSDT', 'EOSUSDT',\n",
       "       'ETCUSDT', 'ETHUSDT', 'FDUSDUSDT', 'FETUSDT', 'FILUSDT', 'FLOKIUSDT',\n",
       "       'FLOWUSDT', 'FTMUSDT', 'GALAUSDT', 'GRTUSDT', 'HBARUSDT', 'ICPUSDT',\n",
       "       'IMXUSDT', 'INJUSDT', 'IOTAUSDT', 'JASMYUSDT', 'LDOUSDT', 'LINKUSDT',\n",
       "       'LTCUSDT', 'MKRUSDT', 'NEARUSDT', 'NEOUSDT', 'OMUSDT', 'OPUSDT',\n",
       "       'PEPEUSDT', 'QNTUSDT', 'RUNEUSDT', 'SANDUSDT', 'SEIUSDT', 'SHIBUSDT',\n",
       "       'SOLUSDT', 'STXUSDT', 'SUIUSDT', 'THETAUSDT', 'TIAUSDT', 'TRXUSDT',\n",
       "       'UNIUSDT', 'USDCUSDT', 'VETUSDT', 'WBETHUSDT', 'WBTCUSDT', 'WLDUSDT',\n",
       "       'XLMUSDT', 'XRPUSDT', 'XTZUSDT'],\n",
       "      dtype='object')"
      ]
     },
     "execution_count": 34,
     "metadata": {},
     "output_type": "execute_result"
    }
   ],
   "source": [
    "returns_to_use.columns"
   ]
  },
  {
   "cell_type": "code",
   "execution_count": 35,
   "id": "eb382de7-0a0b-47f9-83a4-777aef62e9a6",
   "metadata": {},
   "outputs": [],
   "source": [
    "cash=np.where(returns_to_use.columns=='USDCUSDT')[0][0],np.where(returns_to_use.columns=='FDUSDUSDT')[0][0]\n",
    "limit_hist=np.where(returns_to_use.columns=='BTCUSDT')[0][0],np.where(returns_to_use.columns=='ETHUSDT')[0][0],np.where(returns_to_use.columns=='SOLUSDT')[0][0],np.where(returns_to_use.columns=='USDCUSDT')[0][0]"
   ]
  },
  {
   "cell_type": "markdown",
   "id": "fd2fa57d-de01-4917-8d08-d33930572316",
   "metadata": {},
   "source": [
    "## Optimal Portfolio"
   ]
  },
  {
   "cell_type": "code",
   "execution_count": 36,
   "id": "4eaed85a-25b1-4149-bc24-bd6bce22dc2a",
   "metadata": {},
   "outputs": [
    {
     "data": {
      "text/html": [
       "<div>\n",
       "<style scoped>\n",
       "    .dataframe tbody tr th:only-of-type {\n",
       "        vertical-align: middle;\n",
       "    }\n",
       "\n",
       "    .dataframe tbody tr th {\n",
       "        vertical-align: top;\n",
       "    }\n",
       "\n",
       "    .dataframe thead th {\n",
       "        text-align: right;\n",
       "    }\n",
       "</style>\n",
       "<table border=\"1\" class=\"dataframe\">\n",
       "  <thead>\n",
       "    <tr style=\"text-align: right;\">\n",
       "      <th></th>\n",
       "      <th>Optimal Weights</th>\n",
       "    </tr>\n",
       "  </thead>\n",
       "  <tbody>\n",
       "    <tr>\n",
       "      <th>OMUSDT</th>\n",
       "      <td>0.3391</td>\n",
       "    </tr>\n",
       "    <tr>\n",
       "      <th>BNBUSDT</th>\n",
       "      <td>0.1666</td>\n",
       "    </tr>\n",
       "    <tr>\n",
       "      <th>TRXUSDT</th>\n",
       "      <td>0.1260</td>\n",
       "    </tr>\n",
       "    <tr>\n",
       "      <th>PEPEUSDT</th>\n",
       "      <td>0.1033</td>\n",
       "    </tr>\n",
       "    <tr>\n",
       "      <th>XRPUSDT</th>\n",
       "      <td>0.0862</td>\n",
       "    </tr>\n",
       "    <tr>\n",
       "      <th>XLMUSDT</th>\n",
       "      <td>0.0701</td>\n",
       "    </tr>\n",
       "    <tr>\n",
       "      <th>SUIUSDT</th>\n",
       "      <td>0.0694</td>\n",
       "    </tr>\n",
       "    <tr>\n",
       "      <th>JASMYUSDT</th>\n",
       "      <td>0.0392</td>\n",
       "    </tr>\n",
       "    <tr>\n",
       "      <th>BONKUSDT</th>\n",
       "      <td>0.0000</td>\n",
       "    </tr>\n",
       "    <tr>\n",
       "      <th>DYDXUSDT</th>\n",
       "      <td>0.0000</td>\n",
       "    </tr>\n",
       "  </tbody>\n",
       "</table>\n",
       "</div>"
      ],
      "text/plain": [
       "           Optimal Weights\n",
       "OMUSDT              0.3391\n",
       "BNBUSDT             0.1666\n",
       "TRXUSDT             0.1260\n",
       "PEPEUSDT            0.1033\n",
       "XRPUSDT             0.0862\n",
       "XLMUSDT             0.0701\n",
       "SUIUSDT             0.0694\n",
       "JASMYUSDT           0.0392\n",
       "BONKUSDT            0.0000\n",
       "DYDXUSDT            0.0000"
      ]
     },
     "execution_count": 36,
     "metadata": {},
     "output_type": "execute_result"
    }
   ],
   "source": [
    "opt_weights=historical_risk.optimize(objective=\"sharpe_ratio\",constraints=[{'type': 'eq', 'fun': lambda weights: weights[cash[0]]-0.00},\n",
    "                                                                              \n",
    "                                                                              {'type': 'eq', 'fun': lambda weights: weights[cash[1]]-0.00}])\n",
    "inventory=historical_risk.inventory(opt_weights)\n",
    "inventory.columns=['Optimal Weights']\n",
    "\n",
    "inventory.iloc[:10].round(4)"
   ]
  },
  {
   "cell_type": "code",
   "execution_count": null,
   "id": "70c09ce7-2204-4ad1-9f00-db5e8c9193cb",
   "metadata": {},
   "outputs": [],
   "source": []
  },
  {
   "cell_type": "code",
   "execution_count": 37,
   "id": "8c58779c-ef34-4f61-9feb-8f30157d7333",
   "metadata": {},
   "outputs": [
    {
     "data": {
      "text/html": [
       "<div>\n",
       "<style scoped>\n",
       "    .dataframe tbody tr th:only-of-type {\n",
       "        vertical-align: middle;\n",
       "    }\n",
       "\n",
       "    .dataframe tbody tr th {\n",
       "        vertical-align: top;\n",
       "    }\n",
       "\n",
       "    .dataframe thead th {\n",
       "        text-align: right;\n",
       "    }\n",
       "</style>\n",
       "<table border=\"1\" class=\"dataframe\">\n",
       "  <thead>\n",
       "    <tr style=\"text-align: right;\">\n",
       "      <th></th>\n",
       "      <th>Optimal Weights</th>\n",
       "    </tr>\n",
       "  </thead>\n",
       "  <tbody>\n",
       "    <tr>\n",
       "      <th>OMUSDT</th>\n",
       "      <td>0.326521</td>\n",
       "    </tr>\n",
       "    <tr>\n",
       "      <th>BTCUSDT</th>\n",
       "      <td>0.300000</td>\n",
       "    </tr>\n",
       "    <tr>\n",
       "      <th>TRXUSDT</th>\n",
       "      <td>0.113118</td>\n",
       "    </tr>\n",
       "    <tr>\n",
       "      <th>PEPEUSDT</th>\n",
       "      <td>0.071270</td>\n",
       "    </tr>\n",
       "    <tr>\n",
       "      <th>XLMUSDT</th>\n",
       "      <td>0.057353</td>\n",
       "    </tr>\n",
       "    <tr>\n",
       "      <th>SUIUSDT</th>\n",
       "      <td>0.048999</td>\n",
       "    </tr>\n",
       "    <tr>\n",
       "      <th>XRPUSDT</th>\n",
       "      <td>0.033040</td>\n",
       "    </tr>\n",
       "    <tr>\n",
       "      <th>JASMYUSDT</th>\n",
       "      <td>0.030038</td>\n",
       "    </tr>\n",
       "    <tr>\n",
       "      <th>BNBUSDT</th>\n",
       "      <td>0.019662</td>\n",
       "    </tr>\n",
       "  </tbody>\n",
       "</table>\n",
       "</div>"
      ],
      "text/plain": [
       "           Optimal Weights\n",
       "OMUSDT            0.326521\n",
       "BTCUSDT           0.300000\n",
       "TRXUSDT           0.113118\n",
       "PEPEUSDT          0.071270\n",
       "XLMUSDT           0.057353\n",
       "SUIUSDT           0.048999\n",
       "XRPUSDT           0.033040\n",
       "JASMYUSDT         0.030038\n",
       "BNBUSDT           0.019662"
      ]
     },
     "execution_count": 37,
     "metadata": {},
     "output_type": "execute_result"
    }
   ],
   "source": [
    "opt_weights=historical_risk.optimize(objective=\"sharpe_ratio\",constraints=[{'type': 'ineq', 'fun': lambda weights: weights[limit_hist[0]]-0.30}])\n",
    "                                                         #  ,{'type': 'ineq', 'fun': lambda weights: weights[limit[1]]-0.15},\n",
    "                                                        #{'type': 'ineq', 'fun': lambda weights: weights[limit[2]]-0.15}])\n",
    "opt_weights=np.round(opt_weights,6)\n",
    "inventory=historical_risk.inventory(opt_weights)\n",
    "inventory.columns=['Optimal Weights']\n",
    "\n",
    "inventory"
   ]
  },
  {
   "cell_type": "code",
   "execution_count": 38,
   "id": "81a3f562-6810-4e1b-91d1-a7282a3ff347",
   "metadata": {},
   "outputs": [],
   "source": [
    "limit=np.where(ex_ante_perf_to_use.columns=='BTCUSDT')[0][0],np.where(ex_ante_perf_to_use.columns=='ETHUSDT')[0][0],np.where(ex_ante_perf_to_use.columns=='SOLUSDT')[0][0]"
   ]
  },
  {
   "cell_type": "code",
   "execution_count": 39,
   "id": "75be66f1-0ad0-41c8-8807-16e73d711edf",
   "metadata": {},
   "outputs": [
    {
     "data": {
      "text/html": [
       "<div>\n",
       "<style scoped>\n",
       "    .dataframe tbody tr th:only-of-type {\n",
       "        vertical-align: middle;\n",
       "    }\n",
       "\n",
       "    .dataframe tbody tr th {\n",
       "        vertical-align: top;\n",
       "    }\n",
       "\n",
       "    .dataframe thead th {\n",
       "        text-align: right;\n",
       "    }\n",
       "</style>\n",
       "<table border=\"1\" class=\"dataframe\">\n",
       "  <thead>\n",
       "    <tr style=\"text-align: right;\">\n",
       "      <th></th>\n",
       "      <th>Optimal Weights</th>\n",
       "    </tr>\n",
       "  </thead>\n",
       "  <tbody>\n",
       "    <tr>\n",
       "      <th>BTCUSDT</th>\n",
       "      <td>0.351804</td>\n",
       "    </tr>\n",
       "    <tr>\n",
       "      <th>OMUSDT</th>\n",
       "      <td>0.334657</td>\n",
       "    </tr>\n",
       "    <tr>\n",
       "      <th>TRXUSDT</th>\n",
       "      <td>0.261974</td>\n",
       "    </tr>\n",
       "    <tr>\n",
       "      <th>PEPEUSDT</th>\n",
       "      <td>0.043289</td>\n",
       "    </tr>\n",
       "    <tr>\n",
       "      <th>JASMYUSDT</th>\n",
       "      <td>0.008276</td>\n",
       "    </tr>\n",
       "  </tbody>\n",
       "</table>\n",
       "</div>"
      ],
      "text/plain": [
       "           Optimal Weights\n",
       "BTCUSDT           0.351804\n",
       "OMUSDT            0.334657\n",
       "TRXUSDT           0.261974\n",
       "PEPEUSDT          0.043289\n",
       "JASMYUSDT         0.008276"
      ]
     },
     "execution_count": 39,
     "metadata": {},
     "output_type": "execute_result"
    }
   ],
   "source": [
    "current_optimal_weights=current_risk.optimize(objective=\"sharpe_ratio\")#,constraints=[{'type': 'ineq', 'fun': lambda weights: weights[limit[0]]-0.40}])\n",
    "                                                           #,{'type': 'ineq', 'fun': lambda weights: weights[limit[1]]-0.15},\n",
    "                                                            #{'type': 'ineq', 'fun': lambda weights: weights[limit[2]]-0.15}])\n",
    "current_optimal_weights=np.round(current_optimal_weights,6)\n",
    "optimal_ptf_current=current_risk.inventory(current_optimal_weights)\n",
    "optimal_ptf_current.columns=['Optimal Weights']\n",
    "optimal_ptf_current"
   ]
  },
  {
   "cell_type": "markdown",
   "id": "555e4cdf-3f8d-445a-b5d7-e35eb59aa4b2",
   "metadata": {},
   "source": [
    "## Real Portfolio vs Optimal"
   ]
  },
  {
   "cell_type": "code",
   "execution_count": 40,
   "id": "1f55a04d-3575-446a-a801-7824e452dd57",
   "metadata": {},
   "outputs": [
    {
     "data": {
      "text/html": [
       "<div>\n",
       "<style scoped>\n",
       "    .dataframe tbody tr th:only-of-type {\n",
       "        vertical-align: middle;\n",
       "    }\n",
       "\n",
       "    .dataframe tbody tr th {\n",
       "        vertical-align: top;\n",
       "    }\n",
       "\n",
       "    .dataframe thead th {\n",
       "        text-align: right;\n",
       "    }\n",
       "</style>\n",
       "<table border=\"1\" class=\"dataframe\">\n",
       "  <thead>\n",
       "    <tr style=\"text-align: right;\">\n",
       "      <th></th>\n",
       "      <th>Price in USDT</th>\n",
       "      <th>Weights</th>\n",
       "      <th>Optimal Weights</th>\n",
       "      <th>Spread</th>\n",
       "    </tr>\n",
       "  </thead>\n",
       "  <tbody>\n",
       "    <tr>\n",
       "      <th>OMUSDT</th>\n",
       "      <td>1861.823834</td>\n",
       "      <td>0.433955</td>\n",
       "      <td>0.334657</td>\n",
       "      <td>0.099298</td>\n",
       "    </tr>\n",
       "    <tr>\n",
       "      <th>BTCUSDT</th>\n",
       "      <td>884.865404</td>\n",
       "      <td>0.206245</td>\n",
       "      <td>0.351804</td>\n",
       "      <td>-0.145559</td>\n",
       "    </tr>\n",
       "    <tr>\n",
       "      <th>JASMYUSDT</th>\n",
       "      <td>627.235976</td>\n",
       "      <td>0.146197</td>\n",
       "      <td>0.008276</td>\n",
       "      <td>0.137921</td>\n",
       "    </tr>\n",
       "    <tr>\n",
       "      <th>SOLUSDT</th>\n",
       "      <td>428.363512</td>\n",
       "      <td>0.099843</td>\n",
       "      <td>0.000000</td>\n",
       "      <td>0.000000</td>\n",
       "    </tr>\n",
       "    <tr>\n",
       "      <th>ETHUSDT</th>\n",
       "      <td>277.276757</td>\n",
       "      <td>0.064628</td>\n",
       "      <td>0.000000</td>\n",
       "      <td>0.000000</td>\n",
       "    </tr>\n",
       "    <tr>\n",
       "      <th>TRXUSDT</th>\n",
       "      <td>155.906738</td>\n",
       "      <td>0.036339</td>\n",
       "      <td>0.261974</td>\n",
       "      <td>-0.225635</td>\n",
       "    </tr>\n",
       "    <tr>\n",
       "      <th>BBUSDT</th>\n",
       "      <td>53.607816</td>\n",
       "      <td>0.012495</td>\n",
       "      <td>0.000000</td>\n",
       "      <td>0.000000</td>\n",
       "    </tr>\n",
       "    <tr>\n",
       "      <th>BNBUSDT</th>\n",
       "      <td>1.277585</td>\n",
       "      <td>0.000298</td>\n",
       "      <td>0.000000</td>\n",
       "      <td>0.000000</td>\n",
       "    </tr>\n",
       "    <tr>\n",
       "      <th>PEPEUSDT</th>\n",
       "      <td>0.000006</td>\n",
       "      <td>0.000000</td>\n",
       "      <td>0.043289</td>\n",
       "      <td>-0.043289</td>\n",
       "    </tr>\n",
       "  </tbody>\n",
       "</table>\n",
       "</div>"
      ],
      "text/plain": [
       "           Price in USDT   Weights  Optimal Weights    Spread\n",
       "OMUSDT       1861.823834  0.433955         0.334657  0.099298\n",
       "BTCUSDT       884.865404  0.206245         0.351804 -0.145559\n",
       "JASMYUSDT     627.235976  0.146197         0.008276  0.137921\n",
       "SOLUSDT       428.363512  0.099843         0.000000  0.000000\n",
       "ETHUSDT       277.276757  0.064628         0.000000  0.000000\n",
       "TRXUSDT       155.906738  0.036339         0.261974 -0.225635\n",
       "BBUSDT         53.607816  0.012495         0.000000  0.000000\n",
       "BNBUSDT         1.277585  0.000298         0.000000  0.000000\n",
       "PEPEUSDT        0.000006  0.000000         0.043289 -0.043289"
      ]
     },
     "execution_count": 40,
     "metadata": {},
     "output_type": "execute_result"
    }
   ],
   "source": [
    "current_holding_comparison=holding.copy()\n",
    "current_holding_comparison=current_holding_comparison.loc[current_holding_comparison.index!=\"Total\"]\n",
    "current_holding_comparison=pd.concat([current_holding_comparison,optimal_ptf_current],axis=1)\n",
    "current_holding_comparison['Spread']=current_holding_comparison['Weights']-current_holding_comparison['Optimal Weights']\n",
    "current_holding_comparison['Weights']=current_holding_comparison['Weights'].round(7)\n",
    "current_holding_comparison=current_holding_comparison.fillna(0)\n",
    "current_holding_comparison"
   ]
  },
  {
   "cell_type": "code",
   "execution_count": 41,
   "id": "c02b695b-bfaa-4eef-9212-e0b2717db2a0",
   "metadata": {},
   "outputs": [
    {
     "data": {
      "text/html": [
       "<div>\n",
       "<style scoped>\n",
       "    .dataframe tbody tr th:only-of-type {\n",
       "        vertical-align: middle;\n",
       "    }\n",
       "\n",
       "    .dataframe tbody tr th {\n",
       "        vertical-align: top;\n",
       "    }\n",
       "\n",
       "    .dataframe thead th {\n",
       "        text-align: right;\n",
       "    }\n",
       "</style>\n",
       "<table border=\"1\" class=\"dataframe\">\n",
       "  <thead>\n",
       "    <tr style=\"text-align: right;\">\n",
       "      <th></th>\n",
       "      <th>Price in USDT</th>\n",
       "      <th>Weights</th>\n",
       "      <th>Optimal Weights</th>\n",
       "      <th>Spread</th>\n",
       "    </tr>\n",
       "  </thead>\n",
       "  <tbody>\n",
       "    <tr>\n",
       "      <th>OMUSDT</th>\n",
       "      <td>1861.823834</td>\n",
       "      <td>0.433955</td>\n",
       "      <td>0.326521</td>\n",
       "      <td>0.107434</td>\n",
       "    </tr>\n",
       "    <tr>\n",
       "      <th>BTCUSDT</th>\n",
       "      <td>884.865404</td>\n",
       "      <td>0.206245</td>\n",
       "      <td>0.300000</td>\n",
       "      <td>-0.093755</td>\n",
       "    </tr>\n",
       "    <tr>\n",
       "      <th>JASMYUSDT</th>\n",
       "      <td>627.235976</td>\n",
       "      <td>0.146197</td>\n",
       "      <td>0.030038</td>\n",
       "      <td>0.116159</td>\n",
       "    </tr>\n",
       "    <tr>\n",
       "      <th>SOLUSDT</th>\n",
       "      <td>428.363512</td>\n",
       "      <td>0.099843</td>\n",
       "      <td>0.000000</td>\n",
       "      <td>0.000000</td>\n",
       "    </tr>\n",
       "    <tr>\n",
       "      <th>ETHUSDT</th>\n",
       "      <td>277.276757</td>\n",
       "      <td>0.064628</td>\n",
       "      <td>0.000000</td>\n",
       "      <td>0.000000</td>\n",
       "    </tr>\n",
       "    <tr>\n",
       "      <th>TRXUSDT</th>\n",
       "      <td>155.906738</td>\n",
       "      <td>0.036339</td>\n",
       "      <td>0.113118</td>\n",
       "      <td>-0.076779</td>\n",
       "    </tr>\n",
       "    <tr>\n",
       "      <th>BBUSDT</th>\n",
       "      <td>53.607816</td>\n",
       "      <td>0.012495</td>\n",
       "      <td>0.000000</td>\n",
       "      <td>0.000000</td>\n",
       "    </tr>\n",
       "    <tr>\n",
       "      <th>BNBUSDT</th>\n",
       "      <td>1.277585</td>\n",
       "      <td>0.000298</td>\n",
       "      <td>0.019662</td>\n",
       "      <td>-0.019364</td>\n",
       "    </tr>\n",
       "    <tr>\n",
       "      <th>PEPEUSDT</th>\n",
       "      <td>0.000006</td>\n",
       "      <td>0.000000</td>\n",
       "      <td>0.071270</td>\n",
       "      <td>-0.071270</td>\n",
       "    </tr>\n",
       "    <tr>\n",
       "      <th>XLMUSDT</th>\n",
       "      <td>0.000000</td>\n",
       "      <td>0.000000</td>\n",
       "      <td>0.057353</td>\n",
       "      <td>0.000000</td>\n",
       "    </tr>\n",
       "    <tr>\n",
       "      <th>SUIUSDT</th>\n",
       "      <td>0.000000</td>\n",
       "      <td>0.000000</td>\n",
       "      <td>0.048999</td>\n",
       "      <td>0.000000</td>\n",
       "    </tr>\n",
       "    <tr>\n",
       "      <th>XRPUSDT</th>\n",
       "      <td>0.000000</td>\n",
       "      <td>0.000000</td>\n",
       "      <td>0.033040</td>\n",
       "      <td>0.000000</td>\n",
       "    </tr>\n",
       "  </tbody>\n",
       "</table>\n",
       "</div>"
      ],
      "text/plain": [
       "           Price in USDT   Weights  Optimal Weights    Spread\n",
       "OMUSDT       1861.823834  0.433955         0.326521  0.107434\n",
       "BTCUSDT       884.865404  0.206245         0.300000 -0.093755\n",
       "JASMYUSDT     627.235976  0.146197         0.030038  0.116159\n",
       "SOLUSDT       428.363512  0.099843         0.000000  0.000000\n",
       "ETHUSDT       277.276757  0.064628         0.000000  0.000000\n",
       "TRXUSDT       155.906738  0.036339         0.113118 -0.076779\n",
       "BBUSDT         53.607816  0.012495         0.000000  0.000000\n",
       "BNBUSDT         1.277585  0.000298         0.019662 -0.019364\n",
       "PEPEUSDT        0.000006  0.000000         0.071270 -0.071270\n",
       "XLMUSDT         0.000000  0.000000         0.057353  0.000000\n",
       "SUIUSDT         0.000000  0.000000         0.048999  0.000000\n",
       "XRPUSDT         0.000000  0.000000         0.033040  0.000000"
      ]
     },
     "execution_count": 41,
     "metadata": {},
     "output_type": "execute_result"
    }
   ],
   "source": [
    "historical_comparison=holding.copy()\n",
    "historical_comparison=historical_comparison.loc[historical_comparison.index!=\"Total\"]\n",
    "historical_comparison=pd.concat([historical_comparison,inventory],axis=1)\n",
    "historical_comparison['Spread']=historical_comparison['Weights']-historical_comparison['Optimal Weights']\n",
    "historical_comparison['Weights']=historical_comparison['Weights'].round(7)\n",
    "historical_comparison=historical_comparison.fillna(0)\n",
    "historical_comparison"
   ]
  },
  {
   "cell_type": "markdown",
   "id": "e764e7c3-19aa-4638-bd23-a2ec30f727c6",
   "metadata": {},
   "source": [
    "# Risk Reward Analysis"
   ]
  },
  {
   "cell_type": "code",
   "execution_count": 42,
   "id": "7290db47-647c-4950-95e9-078b23d37888",
   "metadata": {},
   "outputs": [],
   "source": [
    "opt_ptf=(returns_to_use*opt_weights).sum(axis=1)\n",
    "curr_opt_ptf=(ex_ante_perf*current_optimal_weights).sum(axis=1)\n",
    "portfolio_perf=pd.DataFrame()\n",
    "portfolio_perf['Portfolio']=(ex_ante_perf*current_weights).sum(axis=1)"
   ]
  },
  {
   "cell_type": "code",
   "execution_count": 43,
   "id": "7a7b7f35-933b-4a67-af34-67d3f58c0f57",
   "metadata": {},
   "outputs": [],
   "source": [
    "portfolio_perf['Bitcoin']=returns['BTCUSDT']\n",
    "portfolio_perf['Optimal']=opt_ptf\n",
    "portfolio_perf['Current Optimal']=curr_opt_ptf"
   ]
  },
  {
   "cell_type": "code",
   "execution_count": 44,
   "id": "70752cdf-305d-4814-b99a-2c21effe6cf5",
   "metadata": {},
   "outputs": [
    {
     "data": {
      "text/plain": [
       "<AxesSubplot:>"
      ]
     },
     "execution_count": 44,
     "metadata": {},
     "output_type": "execute_result"
    },
    {
     "data": {
      "image/png": "[encoded data removed]",
      "text/plain": [
       "<Figure size 432x288 with 1 Axes>"
      ]
     },
     "metadata": {
      "needs_background": "light"
     },
     "output_type": "display_data"
    }
   ],
   "source": [
    "(1+portfolio_perf.loc[:]).cumprod().plot()"
   ]
  },
  {
   "cell_type": "code",
   "execution_count": 45,
   "id": "83bf55a4-5fe4-48a7-af9b-89d4d8de4824",
   "metadata": {},
   "outputs": [],
   "source": [
    "current_perf=portfolio_perf.copy()\n",
    "current_perf=current_perf.loc[historical_ptf.index]\n",
    "current_perf['Historical Portfolio']=historical_ptf['Historical Portfolio']"
   ]
  },
  {
   "cell_type": "code",
   "execution_count": 46,
   "id": "4d17e532-f112-4c6b-a891-1d03f0b5d647",
   "metadata": {},
   "outputs": [
    {
     "data": {
      "text/plain": [
       "<AxesSubplot:>"
      ]
     },
     "execution_count": 46,
     "metadata": {},
     "output_type": "execute_result"
    },
    {
     "data": {
      "image/png": "[encoded data removed]",
      "text/plain": [
       "<Figure size 432x288 with 1 Axes>"
      ]
     },
     "metadata": {
      "needs_background": "light"
     },
     "output_type": "display_data"
    }
   ],
   "source": [
    "((1+current_perf).cumprod()*100).plot()"
   ]
  },
  {
   "cell_type": "code",
   "execution_count": 47,
   "id": "21f2d4e1-1681-4132-aeea-7125d188f981",
   "metadata": {},
   "outputs": [
    {
     "data": {
      "text/html": [
       "<div>\n",
       "<style scoped>\n",
       "    .dataframe tbody tr th:only-of-type {\n",
       "        vertical-align: middle;\n",
       "    }\n",
       "\n",
       "    .dataframe tbody tr th {\n",
       "        vertical-align: top;\n",
       "    }\n",
       "\n",
       "    .dataframe thead th {\n",
       "        text-align: right;\n",
       "    }\n",
       "</style>\n",
       "<table border=\"1\" class=\"dataframe\">\n",
       "  <thead>\n",
       "    <tr style=\"text-align: right;\">\n",
       "      <th></th>\n",
       "      <th>Portfolio</th>\n",
       "      <th>Bitcoin</th>\n",
       "      <th>Optimal</th>\n",
       "      <th>Current Optimal</th>\n",
       "      <th>Historical Portfolio</th>\n",
       "    </tr>\n",
       "  </thead>\n",
       "  <tbody>\n",
       "    <tr>\n",
       "      <th>2024-11-27</th>\n",
       "      <td>186.430550</td>\n",
       "      <td>132.783198</td>\n",
       "      <td>218.497657</td>\n",
       "      <td>202.251053</td>\n",
       "      <td>150.943684</td>\n",
       "    </tr>\n",
       "    <tr>\n",
       "      <th>2024-11-28</th>\n",
       "      <td>185.039275</td>\n",
       "      <td>132.479326</td>\n",
       "      <td>218.800268</td>\n",
       "      <td>201.953891</td>\n",
       "      <td>149.674755</td>\n",
       "    </tr>\n",
       "    <tr>\n",
       "      <th>2024-11-29</th>\n",
       "      <td>187.539507</td>\n",
       "      <td>134.971167</td>\n",
       "      <td>223.281789</td>\n",
       "      <td>203.862941</td>\n",
       "      <td>151.414174</td>\n",
       "    </tr>\n",
       "    <tr>\n",
       "      <th>2024-11-30</th>\n",
       "      <td>191.476491</td>\n",
       "      <td>133.506331</td>\n",
       "      <td>224.901382</td>\n",
       "      <td>205.064929</td>\n",
       "      <td>154.042164</td>\n",
       "    </tr>\n",
       "    <tr>\n",
       "      <th>2024-12-01</th>\n",
       "      <td>191.077542</td>\n",
       "      <td>134.578273</td>\n",
       "      <td>228.326664</td>\n",
       "      <td>206.046069</td>\n",
       "      <td>153.524639</td>\n",
       "    </tr>\n",
       "    <tr>\n",
       "      <th>2024-12-02</th>\n",
       "      <td>193.393646</td>\n",
       "      <td>132.703379</td>\n",
       "      <td>230.233747</td>\n",
       "      <td>209.482532</td>\n",
       "      <td>154.867822</td>\n",
       "    </tr>\n",
       "    <tr>\n",
       "      <th>2024-12-03</th>\n",
       "      <td>213.872173</td>\n",
       "      <td>132.715937</td>\n",
       "      <td>256.134816</td>\n",
       "      <td>253.063048</td>\n",
       "      <td>171.684779</td>\n",
       "    </tr>\n",
       "    <tr>\n",
       "      <th>2024-12-04</th>\n",
       "      <td>210.188887</td>\n",
       "      <td>136.453406</td>\n",
       "      <td>248.091191</td>\n",
       "      <td>235.792380</td>\n",
       "      <td>168.792541</td>\n",
       "    </tr>\n",
       "    <tr>\n",
       "      <th>2024-12-05</th>\n",
       "      <td>223.469147</td>\n",
       "      <td>134.162033</td>\n",
       "      <td>250.787454</td>\n",
       "      <td>234.972355</td>\n",
       "      <td>180.882889</td>\n",
       "    </tr>\n",
       "    <tr>\n",
       "      <th>2024-12-06</th>\n",
       "      <td>223.334482</td>\n",
       "      <td>137.975577</td>\n",
       "      <td>255.516402</td>\n",
       "      <td>239.316295</td>\n",
       "      <td>180.754476</td>\n",
       "    </tr>\n",
       "  </tbody>\n",
       "</table>\n",
       "</div>"
      ],
      "text/plain": [
       "             Portfolio     Bitcoin     Optimal  Current Optimal  \\\n",
       "2024-11-27  186.430550  132.783198  218.497657       202.251053   \n",
       "2024-11-28  185.039275  132.479326  218.800268       201.953891   \n",
       "2024-11-29  187.539507  134.971167  223.281789       203.862941   \n",
       "2024-11-30  191.476491  133.506331  224.901382       205.064929   \n",
       "2024-12-01  191.077542  134.578273  228.326664       206.046069   \n",
       "2024-12-02  193.393646  132.703379  230.233747       209.482532   \n",
       "2024-12-03  213.872173  132.715937  256.134816       253.063048   \n",
       "2024-12-04  210.188887  136.453406  248.091191       235.792380   \n",
       "2024-12-05  223.469147  134.162033  250.787454       234.972355   \n",
       "2024-12-06  223.334482  137.975577  255.516402       239.316295   \n",
       "\n",
       "            Historical Portfolio  \n",
       "2024-11-27            150.943684  \n",
       "2024-11-28            149.674755  \n",
       "2024-11-29            151.414174  \n",
       "2024-11-30            154.042164  \n",
       "2024-12-01            153.524639  \n",
       "2024-12-02            154.867822  \n",
       "2024-12-03            171.684779  \n",
       "2024-12-04            168.792541  \n",
       "2024-12-05            180.882889  \n",
       "2024-12-06            180.754476  "
      ]
     },
     "execution_count": 47,
     "metadata": {},
     "output_type": "execute_result"
    }
   ],
   "source": [
    "((1+current_perf).cumprod()*100).iloc[-10:]"
   ]
  },
  {
   "cell_type": "markdown",
   "id": "7992e950-2f84-4f07-8b9f-3e343e0f0df3",
   "metadata": {},
   "source": [
    "## Volatilities"
   ]
  },
  {
   "cell_type": "code",
   "execution_count": 48,
   "id": "311f0004-e145-4fc5-8766-ca40d8f08e29",
   "metadata": {},
   "outputs": [
    {
     "data": {
      "text/plain": [
       "(Portfolio    0.584087\n",
       " dtype: float64,\n",
       " 0.5848405760962134)"
      ]
     },
     "execution_count": 48,
     "metadata": {},
     "output_type": "execute_result"
    }
   ],
   "source": [
    "vol=historical_risk.portfolio(opt_weights).std()*np.sqrt(252)\n",
    "vol_ex_ante=historical_risk.variance(opt_weights)\n",
    "\n",
    "vol,vol_ex_ante"
   ]
  },
  {
   "cell_type": "code",
   "execution_count": 49,
   "id": "7741abc3-75be-4948-b6f7-6024b48ced93",
   "metadata": {},
   "outputs": [
    {
     "data": {
      "text/plain": [
       "(Portfolio    0.63523\n",
       " dtype: float64,\n",
       " 0.6352300399590077)"
      ]
     },
     "execution_count": 49,
     "metadata": {},
     "output_type": "execute_result"
    }
   ],
   "source": [
    "vol=current_risk.portfolio(current_weights).std()*np.sqrt(252)\n",
    "vol_ex_ante=current_risk.variance(current_weights)\n",
    "vol,vol_ex_ante"
   ]
  },
  {
   "cell_type": "code",
   "execution_count": 50,
   "id": "c1bc68d5-494d-4064-9958-9b280c70a8a3",
   "metadata": {},
   "outputs": [
    {
     "data": {
      "text/plain": [
       "Portfolio          0.705049\n",
       "Bitcoin            0.434779\n",
       "Optimal            0.584841\n",
       "Current Optimal    0.576246\n",
       "dtype: float64"
      ]
     },
     "execution_count": 50,
     "metadata": {},
     "output_type": "execute_result"
    }
   ],
   "source": [
    "portfolio_perf.iloc[1:].std()*np.sqrt(252)"
   ]
  },
  {
   "cell_type": "code",
   "execution_count": 51,
   "id": "df99b746-dc9d-4c5c-b005-432bba654f31",
   "metadata": {},
   "outputs": [
    {
     "data": {
      "text/plain": [
       "0.4588418822913971"
      ]
     },
     "execution_count": 51,
     "metadata": {},
     "output_type": "execute_result"
    }
   ],
   "source": [
    "current_risk.tracking_error(current_risk.returns['BTCUSDT'],current_perf['Historical Portfolio'])"
   ]
  },
  {
   "cell_type": "markdown",
   "id": "c72a30da-fc11-412e-8182-6f508f5dc3dd",
   "metadata": {},
   "source": [
    "## Risk Contribution"
   ]
  },
  {
   "cell_type": "code",
   "execution_count": 52,
   "id": "40861589-c4a1-4c54-9bbc-e1035f32c5a1",
   "metadata": {},
   "outputs": [
    {
     "data": {
      "text/html": [
       "<div>\n",
       "<style scoped>\n",
       "    .dataframe tbody tr th:only-of-type {\n",
       "        vertical-align: middle;\n",
       "    }\n",
       "\n",
       "    .dataframe tbody tr th {\n",
       "        vertical-align: top;\n",
       "    }\n",
       "\n",
       "    .dataframe thead th {\n",
       "        text-align: right;\n",
       "    }\n",
       "</style>\n",
       "<table border=\"1\" class=\"dataframe\">\n",
       "  <thead>\n",
       "    <tr style=\"text-align: right;\">\n",
       "      <th></th>\n",
       "      <th>Performance Contribution</th>\n",
       "      <th>Initial Weights</th>\n",
       "      <th>Last Weights</th>\n",
       "      <th>Variance Contribution in %</th>\n",
       "      <th>Idiosyncratic Risk in %</th>\n",
       "      <th>Correlation in %</th>\n",
       "    </tr>\n",
       "  </thead>\n",
       "  <tbody>\n",
       "    <tr>\n",
       "      <th>BNBUSDT</th>\n",
       "      <td>0.035171</td>\n",
       "      <td>0.019662</td>\n",
       "      <td>0.002740</td>\n",
       "      <td>0.007767</td>\n",
       "      <td>0.000257</td>\n",
       "      <td>0.007510</td>\n",
       "    </tr>\n",
       "    <tr>\n",
       "      <th>BTCUSDT</th>\n",
       "      <td>0.391252</td>\n",
       "      <td>0.300000</td>\n",
       "      <td>0.034537</td>\n",
       "      <td>0.150143</td>\n",
       "      <td>0.049740</td>\n",
       "      <td>0.100403</td>\n",
       "    </tr>\n",
       "    <tr>\n",
       "      <th>JASMYUSDT</th>\n",
       "      <td>0.095780</td>\n",
       "      <td>0.030038</td>\n",
       "      <td>0.006286</td>\n",
       "      <td>0.024390</td>\n",
       "      <td>0.003285</td>\n",
       "      <td>0.021104</td>\n",
       "    </tr>\n",
       "    <tr>\n",
       "      <th>OMUSDT</th>\n",
       "      <td>17.569065</td>\n",
       "      <td>0.326521</td>\n",
       "      <td>0.894112</td>\n",
       "      <td>0.616901</td>\n",
       "      <td>0.508789</td>\n",
       "      <td>0.108112</td>\n",
       "    </tr>\n",
       "    <tr>\n",
       "      <th>PEPEUSDT</th>\n",
       "      <td>0.458170</td>\n",
       "      <td>0.071270</td>\n",
       "      <td>0.026452</td>\n",
       "      <td>0.080643</td>\n",
       "      <td>0.023964</td>\n",
       "      <td>0.056680</td>\n",
       "    </tr>\n",
       "    <tr>\n",
       "      <th>SUIUSDT</th>\n",
       "      <td>0.136063</td>\n",
       "      <td>0.048999</td>\n",
       "      <td>0.009246</td>\n",
       "      <td>0.033935</td>\n",
       "      <td>0.006361</td>\n",
       "      <td>0.027574</td>\n",
       "    </tr>\n",
       "    <tr>\n",
       "      <th>TRXUSDT</th>\n",
       "      <td>0.152429</td>\n",
       "      <td>0.113118</td>\n",
       "      <td>0.013267</td>\n",
       "      <td>0.042065</td>\n",
       "      <td>0.017093</td>\n",
       "      <td>0.024972</td>\n",
       "    </tr>\n",
       "    <tr>\n",
       "      <th>XLMUSDT</th>\n",
       "      <td>0.105667</td>\n",
       "      <td>0.057353</td>\n",
       "      <td>0.008145</td>\n",
       "      <td>0.027831</td>\n",
       "      <td>0.005573</td>\n",
       "      <td>0.022257</td>\n",
       "    </tr>\n",
       "    <tr>\n",
       "      <th>XRPUSDT</th>\n",
       "      <td>0.071331</td>\n",
       "      <td>0.033040</td>\n",
       "      <td>0.005215</td>\n",
       "      <td>0.016324</td>\n",
       "      <td>0.001353</td>\n",
       "      <td>0.014972</td>\n",
       "    </tr>\n",
       "  </tbody>\n",
       "</table>\n",
       "</div>"
      ],
      "text/plain": [
       "           Performance Contribution  Initial Weights  Last Weights  \\\n",
       "BNBUSDT                    0.035171         0.019662      0.002740   \n",
       "BTCUSDT                    0.391252         0.300000      0.034537   \n",
       "JASMYUSDT                  0.095780         0.030038      0.006286   \n",
       "OMUSDT                    17.569065         0.326521      0.894112   \n",
       "PEPEUSDT                   0.458170         0.071270      0.026452   \n",
       "SUIUSDT                    0.136063         0.048999      0.009246   \n",
       "TRXUSDT                    0.152429         0.113118      0.013267   \n",
       "XLMUSDT                    0.105667         0.057353      0.008145   \n",
       "XRPUSDT                    0.071331         0.033040      0.005215   \n",
       "\n",
       "           Variance Contribution in %  Idiosyncratic Risk in %  \\\n",
       "BNBUSDT                      0.007767                 0.000257   \n",
       "BTCUSDT                      0.150143                 0.049740   \n",
       "JASMYUSDT                    0.024390                 0.003285   \n",
       "OMUSDT                       0.616901                 0.508789   \n",
       "PEPEUSDT                     0.080643                 0.023964   \n",
       "SUIUSDT                      0.033935                 0.006361   \n",
       "TRXUSDT                      0.042065                 0.017093   \n",
       "XLMUSDT                      0.027831                 0.005573   \n",
       "XRPUSDT                      0.016324                 0.001353   \n",
       "\n",
       "           Correlation in %  \n",
       "BNBUSDT            0.007510  \n",
       "BTCUSDT            0.100403  \n",
       "JASMYUSDT          0.021104  \n",
       "OMUSDT             0.108112  \n",
       "PEPEUSDT           0.056680  \n",
       "SUIUSDT            0.027574  \n",
       "TRXUSDT            0.024972  \n",
       "XLMUSDT            0.022257  \n",
       "XRPUSDT            0.014972  "
      ]
     },
     "execution_count": 52,
     "metadata": {},
     "output_type": "execute_result"
    }
   ],
   "source": [
    "perf_analysis=pd.concat([historical_risk.perf_contrib(opt_weights),historical_risk.var_contrib_pct(opt_weights)],axis=1)\n",
    "perf_analysis"
   ]
  },
  {
   "cell_type": "code",
   "execution_count": 53,
   "id": "7a8d2d34-14b0-469c-81a7-38306d840a62",
   "metadata": {},
   "outputs": [
    {
     "data": {
      "text/html": [
       "<div>\n",
       "<style scoped>\n",
       "    .dataframe tbody tr th:only-of-type {\n",
       "        vertical-align: middle;\n",
       "    }\n",
       "\n",
       "    .dataframe tbody tr th {\n",
       "        vertical-align: top;\n",
       "    }\n",
       "\n",
       "    .dataframe thead th {\n",
       "        text-align: right;\n",
       "    }\n",
       "</style>\n",
       "<table border=\"1\" class=\"dataframe\">\n",
       "  <thead>\n",
       "    <tr style=\"text-align: right;\">\n",
       "      <th></th>\n",
       "      <th>Performance Contribution</th>\n",
       "      <th>Initial Weights</th>\n",
       "      <th>Last Weights</th>\n",
       "      <th>Variance Contribution in %</th>\n",
       "      <th>Idiosyncratic Risk in %</th>\n",
       "      <th>Correlation in %</th>\n",
       "    </tr>\n",
       "  </thead>\n",
       "  <tbody>\n",
       "    <tr>\n",
       "      <th>OMUSDT</th>\n",
       "      <td>0.909414</td>\n",
       "      <td>0.334657</td>\n",
       "      <td>0.525169</td>\n",
       "      <td>0.559634</td>\n",
       "      <td>0.440862</td>\n",
       "      <td>0.118772</td>\n",
       "    </tr>\n",
       "    <tr>\n",
       "      <th>BTCUSDT</th>\n",
       "      <td>0.169564</td>\n",
       "      <td>0.351804</td>\n",
       "      <td>0.220089</td>\n",
       "      <td>0.156821</td>\n",
       "      <td>0.073613</td>\n",
       "      <td>0.083207</td>\n",
       "    </tr>\n",
       "    <tr>\n",
       "      <th>JASMYUSDT</th>\n",
       "      <td>0.005769</td>\n",
       "      <td>0.008276</td>\n",
       "      <td>0.005929</td>\n",
       "      <td>0.007834</td>\n",
       "      <td>0.000278</td>\n",
       "      <td>0.007556</td>\n",
       "    </tr>\n",
       "    <tr>\n",
       "      <th>TRXUSDT</th>\n",
       "      <td>0.259346</td>\n",
       "      <td>0.261974</td>\n",
       "      <td>0.220069</td>\n",
       "      <td>0.236930</td>\n",
       "      <td>0.180623</td>\n",
       "      <td>0.056308</td>\n",
       "    </tr>\n",
       "    <tr>\n",
       "      <th>PEPEUSDT</th>\n",
       "      <td>0.024803</td>\n",
       "      <td>0.043289</td>\n",
       "      <td>0.028744</td>\n",
       "      <td>0.038781</td>\n",
       "      <td>0.007957</td>\n",
       "      <td>0.030824</td>\n",
       "    </tr>\n",
       "  </tbody>\n",
       "</table>\n",
       "</div>"
      ],
      "text/plain": [
       "           Performance Contribution  Initial Weights  Last Weights  \\\n",
       "OMUSDT                     0.909414         0.334657      0.525169   \n",
       "BTCUSDT                    0.169564         0.351804      0.220089   \n",
       "JASMYUSDT                  0.005769         0.008276      0.005929   \n",
       "TRXUSDT                    0.259346         0.261974      0.220069   \n",
       "PEPEUSDT                   0.024803         0.043289      0.028744   \n",
       "\n",
       "           Variance Contribution in %  Idiosyncratic Risk in %  \\\n",
       "OMUSDT                       0.559634                 0.440862   \n",
       "BTCUSDT                      0.156821                 0.073613   \n",
       "JASMYUSDT                    0.007834                 0.000278   \n",
       "TRXUSDT                      0.236930                 0.180623   \n",
       "PEPEUSDT                     0.038781                 0.007957   \n",
       "\n",
       "           Correlation in %  \n",
       "OMUSDT             0.118772  \n",
       "BTCUSDT            0.083207  \n",
       "JASMYUSDT          0.007556  \n",
       "TRXUSDT            0.056308  \n",
       "PEPEUSDT           0.030824  "
      ]
     },
     "execution_count": 53,
     "metadata": {},
     "output_type": "execute_result"
    }
   ],
   "source": [
    "perf_analysis=pd.concat([current_risk.perf_contrib(current_optimal_weights),current_risk.var_contrib_pct(current_optimal_weights)],axis=1)\n",
    "perf_analysis"
   ]
  },
  {
   "cell_type": "code",
   "execution_count": 54,
   "id": "109d4f15-0bb7-435b-9dc5-0bb7bc6dcffc",
   "metadata": {},
   "outputs": [
    {
     "data": {
      "text/html": [
       "<div>\n",
       "<style scoped>\n",
       "    .dataframe tbody tr th:only-of-type {\n",
       "        vertical-align: middle;\n",
       "    }\n",
       "\n",
       "    .dataframe tbody tr th {\n",
       "        vertical-align: top;\n",
       "    }\n",
       "\n",
       "    .dataframe thead th {\n",
       "        text-align: right;\n",
       "    }\n",
       "</style>\n",
       "<table border=\"1\" class=\"dataframe\">\n",
       "  <thead>\n",
       "    <tr style=\"text-align: right;\">\n",
       "      <th></th>\n",
       "      <th>Performance Contribution</th>\n",
       "      <th>Initial Weights</th>\n",
       "      <th>Last Weights</th>\n",
       "      <th>Variance Contribution in %</th>\n",
       "      <th>Idiosyncratic Risk in %</th>\n",
       "      <th>Correlation in %</th>\n",
       "    </tr>\n",
       "  </thead>\n",
       "  <tbody>\n",
       "    <tr>\n",
       "      <th>OMUSDT</th>\n",
       "      <td>1.168504</td>\n",
       "      <td>0.43</td>\n",
       "      <td>0.650223</td>\n",
       "      <td>0.637387</td>\n",
       "      <td>0.513668</td>\n",
       "      <td>0.123719</td>\n",
       "    </tr>\n",
       "    <tr>\n",
       "      <th>BTCUSDT</th>\n",
       "      <td>0.101217</td>\n",
       "      <td>0.21</td>\n",
       "      <td>0.126594</td>\n",
       "      <td>0.084943</td>\n",
       "      <td>0.018511</td>\n",
       "      <td>0.066432</td>\n",
       "    </tr>\n",
       "    <tr>\n",
       "      <th>JASMYUSDT</th>\n",
       "      <td>0.104555</td>\n",
       "      <td>0.15</td>\n",
       "      <td>0.103545</td>\n",
       "      <td>0.154721</td>\n",
       "      <td>0.064385</td>\n",
       "      <td>0.090336</td>\n",
       "    </tr>\n",
       "    <tr>\n",
       "      <th>SOLUSDT</th>\n",
       "      <td>0.036980</td>\n",
       "      <td>0.10</td>\n",
       "      <td>0.055719</td>\n",
       "      <td>0.070542</td>\n",
       "      <td>0.010138</td>\n",
       "      <td>0.060404</td>\n",
       "    </tr>\n",
       "    <tr>\n",
       "      <th>ETHUSDT</th>\n",
       "      <td>0.012127</td>\n",
       "      <td>0.06</td>\n",
       "      <td>0.029339</td>\n",
       "      <td>0.027722</td>\n",
       "      <td>0.002635</td>\n",
       "      <td>0.025086</td>\n",
       "    </tr>\n",
       "    <tr>\n",
       "      <th>TRXUSDT</th>\n",
       "      <td>0.039599</td>\n",
       "      <td>0.04</td>\n",
       "      <td>0.032378</td>\n",
       "      <td>0.014425</td>\n",
       "      <td>0.002972</td>\n",
       "      <td>0.011453</td>\n",
       "    </tr>\n",
       "    <tr>\n",
       "      <th>BBUSDT</th>\n",
       "      <td>-0.004590</td>\n",
       "      <td>0.01</td>\n",
       "      <td>0.002201</td>\n",
       "      <td>0.010261</td>\n",
       "      <td>0.000393</td>\n",
       "      <td>0.009868</td>\n",
       "    </tr>\n",
       "  </tbody>\n",
       "</table>\n",
       "</div>"
      ],
      "text/plain": [
       "           Performance Contribution  Initial Weights  Last Weights  \\\n",
       "OMUSDT                     1.168504             0.43      0.650223   \n",
       "BTCUSDT                    0.101217             0.21      0.126594   \n",
       "JASMYUSDT                  0.104555             0.15      0.103545   \n",
       "SOLUSDT                    0.036980             0.10      0.055719   \n",
       "ETHUSDT                    0.012127             0.06      0.029339   \n",
       "TRXUSDT                    0.039599             0.04      0.032378   \n",
       "BBUSDT                    -0.004590             0.01      0.002201   \n",
       "\n",
       "           Variance Contribution in %  Idiosyncratic Risk in %  \\\n",
       "OMUSDT                       0.637387                 0.513668   \n",
       "BTCUSDT                      0.084943                 0.018511   \n",
       "JASMYUSDT                    0.154721                 0.064385   \n",
       "SOLUSDT                      0.070542                 0.010138   \n",
       "ETHUSDT                      0.027722                 0.002635   \n",
       "TRXUSDT                      0.014425                 0.002972   \n",
       "BBUSDT                       0.010261                 0.000393   \n",
       "\n",
       "           Correlation in %  \n",
       "OMUSDT             0.123719  \n",
       "BTCUSDT            0.066432  \n",
       "JASMYUSDT          0.090336  \n",
       "SOLUSDT            0.060404  \n",
       "ETHUSDT            0.025086  \n",
       "TRXUSDT            0.011453  \n",
       "BBUSDT             0.009868  "
      ]
     },
     "execution_count": 54,
     "metadata": {},
     "output_type": "execute_result"
    }
   ],
   "source": [
    "perf_analysis=pd.concat([current_risk.perf_contrib(current_weights),current_risk.var_contrib_pct(current_weights)],axis=1)\n",
    "perf_analysis"
   ]
  },
  {
   "cell_type": "markdown",
   "id": "0130bfc3-e631-4a88-b313-7d1e01f8559a",
   "metadata": {
    "tags": []
   },
   "source": [
    "# Value At Risk"
   ]
  },
  {
   "cell_type": "markdown",
   "id": "71d68cce-1a6e-45aa-a85f-47588679e563",
   "metadata": {},
   "source": [
    "## Historical"
   ]
  },
  {
   "cell_type": "markdown",
   "id": "2135d1cf-5458-4a3a-8d4c-f7bf54722f6c",
   "metadata": {},
   "source": [
    "### Optimal Weights"
   ]
  },
  {
   "cell_type": "code",
   "execution_count": 55,
   "id": "67cba9b2-a070-4a66-bcd6-c792789d00c3",
   "metadata": {},
   "outputs": [
    {
     "data": {
      "text/plain": [
       "(-0.0477585893673752, -0.06837288655121666)"
      ]
     },
     "execution_count": 55,
     "metadata": {},
     "output_type": "execute_result"
    }
   ],
   "source": [
    "var,cvar=historical_risk.historical_var(opt_weights)\n",
    "(var,cvar)"
   ]
  },
  {
   "cell_type": "markdown",
   "id": "d1bb47b4-1fce-49e8-b099-c696cad5b0ba",
   "metadata": {
    "tags": []
   },
   "source": [
    "### Current Weights"
   ]
  },
  {
   "cell_type": "code",
   "execution_count": 56,
   "id": "c4a86401-792d-4103-b5be-b0b56de9f141",
   "metadata": {},
   "outputs": [
    {
     "data": {
      "text/plain": [
       "(-0.048035312236236284, -0.06776836918524114)"
      ]
     },
     "execution_count": 56,
     "metadata": {},
     "output_type": "execute_result"
    }
   ],
   "source": [
    "var,cvar=current_risk.historical_var(current_weights)\n",
    "(var,cvar)"
   ]
  },
  {
   "cell_type": "code",
   "execution_count": 57,
   "id": "bb9ae5ba-6521-47af-992e-2a3972e29e87",
   "metadata": {},
   "outputs": [],
   "source": [
    "historical_var=current_risk.returns*current_weights\n",
    "historical_var['Portfolio']=historical_var.sum(axis=1)\n",
    "historical_var=historical_var.sort_values(by='Portfolio')\n",
    "centile=0.05\n",
    "row=round(historical_var.shape[0]*centile)"
   ]
  },
  {
   "cell_type": "code",
   "execution_count": 58,
   "id": "8c24e902-85a4-44be-a457-f95e2184a7ea",
   "metadata": {},
   "outputs": [
    {
     "data": {
      "text/plain": [
       "OMUSDT      -0.031897\n",
       "BTCUSDT     -0.001960\n",
       "JASMYUSDT   -0.008330\n",
       "SOLUSDT     -0.003077\n",
       "ETHUSDT     -0.001657\n",
       "TRXUSDT     -0.000573\n",
       "BBUSDT      -0.001246\n",
       "BNBUSDT     -0.000000\n",
       "PEPEUSDT    -0.000000\n",
       "Portfolio   -0.048740\n",
       "Name: 2024-07-22 00:00:00, dtype: float64"
      ]
     },
     "execution_count": 58,
     "metadata": {},
     "output_type": "execute_result"
    }
   ],
   "source": [
    "var=historical_var.iloc[row]\n",
    "var"
   ]
  },
  {
   "cell_type": "code",
   "execution_count": 59,
   "id": "ade16f0c-75b7-4fcb-ab9e-ad0c73aa8dd7",
   "metadata": {},
   "outputs": [
    {
     "data": {
      "text/plain": [
       "OMUSDT      -0.038108\n",
       "BTCUSDT     -0.007166\n",
       "JASMYUSDT   -0.012251\n",
       "SOLUSDT     -0.006599\n",
       "ETHUSDT     -0.002236\n",
       "TRXUSDT     -0.000657\n",
       "BBUSDT      -0.000752\n",
       "BNBUSDT      0.000000\n",
       "PEPEUSDT     0.000000\n",
       "Portfolio   -0.067768\n",
       "dtype: float64"
      ]
     },
     "execution_count": 59,
     "metadata": {},
     "output_type": "execute_result"
    }
   ],
   "source": [
    "cvar=historical_var.iloc[:row+1].mean()\n",
    "cvar"
   ]
  },
  {
   "cell_type": "markdown",
   "id": "c3dff28c-8e0a-4203-a71d-04521428bcd1",
   "metadata": {},
   "source": [
    "## Parametric"
   ]
  },
  {
   "cell_type": "markdown",
   "id": "58affa31-85d0-498a-a139-81deb4705d97",
   "metadata": {},
   "source": [
    "### Optimal Weights"
   ]
  },
  {
   "cell_type": "code",
   "execution_count": 60,
   "id": "e14a8e27-fa6a-45e6-8183-86c6dbff21f1",
   "metadata": {},
   "outputs": [
    {
     "data": {
      "text/plain": [
       "(-0.060598863969642904, -0.07767098895112225)"
      ]
     },
     "execution_count": 60,
     "metadata": {},
     "output_type": "execute_result"
    }
   ],
   "source": [
    "var,cvar=historical_risk.parametric_var(opt_weights)\n",
    "\n",
    "(var,cvar)"
   ]
  },
  {
   "cell_type": "markdown",
   "id": "86d71e8b-2cd9-43d1-aa5c-a222682613c0",
   "metadata": {},
   "source": [
    "### Current Weights"
   ]
  },
  {
   "cell_type": "code",
   "execution_count": 61,
   "id": "217a4c12-62dd-4663-8a31-60599b67afcf",
   "metadata": {},
   "outputs": [
    {
     "data": {
      "text/plain": [
       "(-0.06582002062485824, -0.08436306821324276)"
      ]
     },
     "execution_count": 61,
     "metadata": {},
     "output_type": "execute_result"
    }
   ],
   "source": [
    "var,cvar=current_risk.parametric_var(current_weights)\n",
    "\n",
    "(var,cvar)"
   ]
  },
  {
   "cell_type": "markdown",
   "id": "a6c24386-d19d-46c7-a8bb-58e4c19932ec",
   "metadata": {},
   "source": [
    "## Multivariate"
   ]
  },
  {
   "cell_type": "markdown",
   "id": "1f084730-26ad-4584-a834-7eb3698e8768",
   "metadata": {},
   "source": [
    "### Optimal Weights"
   ]
  },
  {
   "cell_type": "code",
   "execution_count": 62,
   "id": "9034515d-cff2-4c42-aa91-4b8c5bc1c6cb",
   "metadata": {},
   "outputs": [
    {
     "data": {
      "text/plain": [
       "(-0.052807545616564415, -0.06916032307791216)"
      ]
     },
     "execution_count": 62,
     "metadata": {},
     "output_type": "execute_result"
    }
   ],
   "source": [
    "perf=performance(historical_risk.multivariate_distribution(),opt_weights)\n",
    "var=np.percentile(perf,5)\n",
    "cvar=perf[perf<var].mean()\n",
    "(var,cvar)"
   ]
  },
  {
   "cell_type": "markdown",
   "id": "cbd78957-592e-4ef3-92f5-5341eb758985",
   "metadata": {},
   "source": [
    "### Current Weights"
   ]
  },
  {
   "cell_type": "code",
   "execution_count": 63,
   "id": "ac2f4987-eddf-4a1b-ae87-551d2f348782",
   "metadata": {},
   "outputs": [
    {
     "data": {
      "text/plain": [
       "(-0.06024020508798023, -0.07670373617043552)"
      ]
     },
     "execution_count": 63,
     "metadata": {},
     "output_type": "execute_result"
    }
   ],
   "source": [
    "perf=performance(current_risk.multivariate_distribution(),current_weights)\n",
    "var=np.percentile(perf,5)\n",
    "cvar=perf[perf<var].mean()\n",
    "(var,cvar)"
   ]
  },
  {
   "cell_type": "code",
   "execution_count": 64,
   "id": "3fe7a180-f366-4414-bda1-a58a090d1c16",
   "metadata": {},
   "outputs": [
    {
     "data": {
      "text/plain": [
       "OMUSDT      -0.040929\n",
       "BTCUSDT     -0.005267\n",
       "JASMYUSDT   -0.006963\n",
       "SOLUSDT     -0.003939\n",
       "ETHUSDT     -0.002052\n",
       "TRXUSDT     -0.000403\n",
       "BBUSDT      -0.000723\n",
       "Portfolio   -0.060277\n",
       "dtype: float64"
      ]
     },
     "execution_count": 64,
     "metadata": {},
     "output_type": "execute_result"
    }
   ],
   "source": [
    "scenario_multivariate={}\n",
    "\n",
    "for i in range(50):\n",
    "    multivariate_distrib=pd.DataFrame(current_risk.multivariate_distribution(),columns=current_risk.returns.columns)\n",
    "    multivariate_distrib=multivariate_distrib*current_weights\n",
    "    multivariate_distrib=multivariate_distrib[multivariate_distrib.columns[current_weights>0]]\n",
    "\n",
    "    multivariate_distrib['Portfolio']=multivariate_distrib.sum(axis=1)\n",
    "    multivariate_var=multivariate_distrib.sort_values(by='Portfolio').iloc[int(multivariate_distrib.shape[0]*0.05)]['Portfolio']\n",
    "    results=multivariate_distrib.sort_values(by='Portfolio').iloc[int(multivariate_distrib.shape[0]*0.05)]\n",
    "\n",
    "    scenario_multivariate[i]=results.to_dict()\n",
    "\n",
    "mean_scenario_multivariate=pd.DataFrame(scenario_multivariate).T.mean()\n",
    "mean_scenario_multivariate"
   ]
  },
  {
   "cell_type": "markdown",
   "id": "0c387f28-22ad-45a7-b319-0e83f4a0daee",
   "metadata": {
    "jp-MarkdownHeadingCollapsed": true,
    "tags": []
   },
   "source": [
    "## Copulas"
   ]
  },
  {
   "cell_type": "markdown",
   "id": "9058537e-386c-4062-bbe9-1a6b8541b24e",
   "metadata": {
    "tags": []
   },
   "source": [
    "## Gaussian Copula"
   ]
  },
  {
   "cell_type": "markdown",
   "id": "75b777fc-0aa8-49e9-9959-a89e3a1247e7",
   "metadata": {},
   "source": [
    "### Optimal Weights"
   ]
  },
  {
   "cell_type": "code",
   "execution_count": 65,
   "id": "2a32c0d3-adf2-44db-944e-a0983ca7c3c9",
   "metadata": {},
   "outputs": [
    {
     "data": {
      "text/plain": [
       "(-0.05254768806252219, -0.06883581798676296)"
      ]
     },
     "execution_count": 65,
     "metadata": {},
     "output_type": "execute_result"
    }
   ],
   "source": [
    "cop=historical_risk.gaussian_copula()\n",
    "perf=performance(cop,opt_weights)\n",
    "var=np.percentile(perf,5)\n",
    "cvar=perf[perf<var].mean()\n",
    "\n",
    "var,cvar"
   ]
  },
  {
   "cell_type": "markdown",
   "id": "223b83ab-3e66-43c2-80c7-ea48470ba663",
   "metadata": {},
   "source": [
    "### Current Weights"
   ]
  },
  {
   "cell_type": "code",
   "execution_count": 66,
   "id": "0c60db5e-d17c-4ee9-b22c-56fe1486e7f4",
   "metadata": {},
   "outputs": [
    {
     "data": {
      "text/plain": [
       "(-0.05970908476983767, -0.07660324650981312)"
      ]
     },
     "execution_count": 66,
     "metadata": {},
     "output_type": "execute_result"
    }
   ],
   "source": [
    "cop=current_risk.gaussian_copula()\n",
    "perf=performance(cop,current_weights)\n",
    "var=np.percentile(perf,5)\n",
    "cvar=perf[perf<var].mean()\n",
    "\n",
    "var,cvar"
   ]
  },
  {
   "cell_type": "code",
   "execution_count": 67,
   "id": "3b6ee424-83af-4479-abb3-e23b0a9f00e2",
   "metadata": {},
   "outputs": [
    {
     "data": {
      "text/plain": [
       "OMUSDT      -0.041573\n",
       "BTCUSDT     -0.004503\n",
       "JASMYUSDT   -0.007849\n",
       "SOLUSDT     -0.003862\n",
       "ETHUSDT     -0.001528\n",
       "TRXUSDT     -0.000705\n",
       "BBUSDT      -0.000601\n",
       "Portfolio   -0.060621\n",
       "dtype: float64"
      ]
     },
     "execution_count": 67,
     "metadata": {},
     "output_type": "execute_result"
    }
   ],
   "source": [
    "scenario_gaussian={}\n",
    "\n",
    "for i in range(100):\n",
    "    gaussian_copula_distrib=pd.DataFrame(current_risk.gaussian_copula(),columns=current_risk.returns.columns)\n",
    "\n",
    "    gaussian_copula_distrib=gaussian_copula_distrib*current_weights\n",
    "    gaussian_copula_distrib=gaussian_copula_distrib[gaussian_copula_distrib.columns[current_weights>0]]\n",
    "\n",
    "    gaussian_copula_distrib['Portfolio']=gaussian_copula_distrib.sum(axis=1)\n",
    "    gaussian_var=gaussian_copula_distrib.sort_values(by='Portfolio').iloc[int(gaussian_copula_distrib.shape[0]*0.05)]['Portfolio']\n",
    "    results=gaussian_copula_distrib.sort_values(by='Portfolio').iloc[int(gaussian_copula_distrib.shape[0]*0.05)]\n",
    "    \n",
    "    scenario_gaussian[i]=results\n",
    "    \n",
    "mean_scenario_gaussian=pd.DataFrame(scenario_gaussian).T.mean()\n",
    "mean_scenario_gaussian"
   ]
  },
  {
   "cell_type": "markdown",
   "id": "5cc2fb56-f5a8-400f-9242-3fe5969c9743",
   "metadata": {
    "tags": []
   },
   "source": [
    "## Student Copula"
   ]
  },
  {
   "cell_type": "markdown",
   "id": "1345374a-5a57-488c-aadc-54f740e57e74",
   "metadata": {},
   "source": [
    "### Optimal Weights"
   ]
  },
  {
   "cell_type": "code",
   "execution_count": 68,
   "id": "b888e874-6eab-4d5d-93ef-af6845d46964",
   "metadata": {},
   "outputs": [
    {
     "data": {
      "text/plain": [
       "(-0.05316811122779882, -0.0688320695727076)"
      ]
     },
     "execution_count": 68,
     "metadata": {},
     "output_type": "execute_result"
    }
   ],
   "source": [
    "t_copula=historical_risk.t_copula()\n",
    "perf=performance(t_copula,opt_weights)\n",
    "var=np.percentile(perf,5)\n",
    "cvar=perf[perf<var].mean()\n",
    "\n",
    "var,cvar"
   ]
  },
  {
   "cell_type": "markdown",
   "id": "272773ac-6738-4b6a-8eb8-bb00a887b6dd",
   "metadata": {},
   "source": [
    "### Current Weights"
   ]
  },
  {
   "cell_type": "code",
   "execution_count": 69,
   "id": "323419e3-6bd4-4308-b26c-e280c5730d35",
   "metadata": {},
   "outputs": [
    {
     "data": {
      "text/plain": [
       "(-0.061737531567121876, -0.07986188168567486)"
      ]
     },
     "execution_count": 69,
     "metadata": {},
     "output_type": "execute_result"
    }
   ],
   "source": [
    "t_copula=current_risk.t_copula()\n",
    "perf=performance(t_copula,current_weights)\n",
    "var=np.percentile(perf,5)\n",
    "cvar=perf[perf<var].mean()\n",
    "\n",
    "var,cvar"
   ]
  },
  {
   "cell_type": "code",
   "execution_count": 70,
   "id": "2eed4d89-eb00-449b-98ce-d030c65155d0",
   "metadata": {},
   "outputs": [
    {
     "data": {
      "text/plain": [
       "OMUSDT      -0.040691\n",
       "BTCUSDT     -0.005447\n",
       "JASMYUSDT   -0.008893\n",
       "SOLUSDT     -0.004128\n",
       "ETHUSDT     -0.001497\n",
       "TRXUSDT     -0.000544\n",
       "BBUSDT      -0.000603\n",
       "Portfolio   -0.061803\n",
       "dtype: float64"
      ]
     },
     "execution_count": 70,
     "metadata": {},
     "output_type": "execute_result"
    }
   ],
   "source": [
    "scenario_t_copula={}\n",
    "\n",
    "for i in range(100):\n",
    "    \n",
    "    t_copula_distrib=pd.DataFrame(current_risk.t_copula(),columns=current_risk.returns.columns)\n",
    "    t_copula_distrib=t_copula_distrib*current_weights\n",
    "    t_copula_distrib=t_copula_distrib[t_copula_distrib.columns[current_weights>0]]\n",
    "    t_copula_distrib['Portfolio']=t_copula_distrib.sum(axis=1)\n",
    "    t_copula_var=t_copula_distrib.sort_values(by='Portfolio').iloc[int(t_copula_distrib.shape[0]*0.05)]['Portfolio']\n",
    "    results=t_copula_distrib.sort_values(by='Portfolio').iloc[int(t_copula_distrib.shape[0]*0.05)]\n",
    "    \n",
    "    scenario_t_copula[i]=results\n",
    "    \n",
    "mean_scenario_gaussian=pd.DataFrame(scenario_t_copula).T.mean()\n",
    "mean_scenario_gaussian"
   ]
  },
  {
   "cell_type": "markdown",
   "id": "d8471cd5-4fcd-4ee2-8d94-4d1363a54361",
   "metadata": {},
   "source": [
    "## Gumbel Copula"
   ]
  },
  {
   "cell_type": "markdown",
   "id": "8c7db555-121f-4f8f-8df9-b9ad9bd6490a",
   "metadata": {},
   "source": [
    "### Optimal Weights"
   ]
  },
  {
   "cell_type": "code",
   "execution_count": 71,
   "id": "71b071c1-17bc-4c85-9bf3-dbc381e1066d",
   "metadata": {},
   "outputs": [
    {
     "data": {
      "text/plain": [
       "(-0.09488202348114573, -0.1338634851433328)"
      ]
     },
     "execution_count": 71,
     "metadata": {},
     "output_type": "execute_result"
    }
   ],
   "source": [
    "gumbel_copula=historical_risk.gumbel_copula()\n",
    "perf=performance(gumbel_copula,opt_weights)\n",
    "var=np.percentile(perf,5)\n",
    "cvar=perf[perf<var].mean()\n",
    "\n",
    "var,cvar"
   ]
  },
  {
   "cell_type": "markdown",
   "id": "6bf4dfe8-0f2f-46cd-9b8b-ad91d75d2448",
   "metadata": {},
   "source": [
    "### Current Weights"
   ]
  },
  {
   "cell_type": "code",
   "execution_count": 72,
   "id": "677a56c5-74f3-4733-884b-54ac78e1ca00",
   "metadata": {},
   "outputs": [
    {
     "data": {
      "text/plain": [
       "(-0.10665524794478146, -0.14879524937990254)"
      ]
     },
     "execution_count": 72,
     "metadata": {},
     "output_type": "execute_result"
    }
   ],
   "source": [
    "gumbel_copula=current_risk.gumbel_copula(theta=2)\n",
    "perf=performance(gumbel_copula,current_weights)\n",
    "var=np.percentile(perf,5)\n",
    "cvar=perf[perf<var].mean()\n",
    "\n",
    "var,cvar"
   ]
  },
  {
   "cell_type": "code",
   "execution_count": 73,
   "id": "a06ef689-21b0-49fb-91cb-e4f7ecd99305",
   "metadata": {},
   "outputs": [
    {
     "data": {
      "text/plain": [
       "OMUSDT      -0.098547\n",
       "BTCUSDT     -0.002103\n",
       "JASMYUSDT   -0.005476\n",
       "SOLUSDT     -0.000105\n",
       "ETHUSDT     -0.000011\n",
       "TRXUSDT     -0.000730\n",
       "BBUSDT       0.000267\n",
       "Portfolio   -0.106705\n",
       "dtype: float64"
      ]
     },
     "execution_count": 73,
     "metadata": {},
     "output_type": "execute_result"
    }
   ],
   "source": [
    "scenario_gumbel_copula={}\n",
    "\n",
    "for i in range(100):\n",
    "    \n",
    "    gumbel_copula_distrib=pd.DataFrame(current_risk.gumbel_copula(),columns=current_risk.returns.columns)\n",
    "    gumbel_copula_distrib=gumbel_copula_distrib*current_weights\n",
    "    gumbel_copula_distrib=gumbel_copula_distrib[gumbel_copula_distrib.columns[current_weights>0]]\n",
    "    gumbel_copula_distrib['Portfolio']=gumbel_copula_distrib.sum(axis=1)\n",
    "    gumbel_copula_var=gumbel_copula_distrib.sort_values(by='Portfolio').iloc[int(gumbel_copula_distrib.shape[0]*0.05)]['Portfolio']\n",
    "    results=gumbel_copula_distrib.sort_values(by='Portfolio').iloc[int(gumbel_copula_distrib.shape[0]*0.05)]\n",
    "    \n",
    "    scenario_gumbel_copula[i]=results\n",
    "    \n",
    "mean_scenario_gaussian=pd.DataFrame(scenario_gumbel_copula).T.mean()\n",
    "mean_scenario_gaussian"
   ]
  },
  {
   "cell_type": "raw",
   "id": "a7cf6672-4497-412a-99d2-d7971328073d",
   "metadata": {
    "jupyter": {
     "source_hidden": true
    },
    "tags": []
   },
   "source": [
    "test=gumbel_l.rvs(loc=current_risk.returns.mean(),scale=current_risk.returns.std(),size=(10000,current_risk.returns.shape[1]))\n",
    "perf=(test*current_weights).sum(axis=1)\n",
    "\n",
    "var=np.percentile(perf,5)\n",
    "cvar=perf[perf<var].mean()\n",
    "var,cvar"
   ]
  },
  {
   "cell_type": "raw",
   "id": "3d431a69-7d30-4d5a-8b79-313ccc73d7bd",
   "metadata": {
    "jupyter": {
     "source_hidden": true
    },
    "tags": []
   },
   "source": [
    "scenario_gumbel_copula={}\n",
    "\n",
    "for i in range(100):\n",
    "    test=gumbel_l.rvs(loc=current_risk.returns.mean(),scale=current_risk.returns.std(),size=(10000,current_risk.returns.shape[1]))\n",
    "    gumbel_copula_distrib=pd.DataFrame(test,columns=current_risk.returns.columns)\n",
    "    gumbel_copula_distrib=gumbel_copula_distrib*current_weights\n",
    "    gumbel_copula_distrib=gumbel_copula_distrib[gumbel_copula_distrib.columns[current_weights>0]]\n",
    "    gumbel_copula_distrib['Portfolio']=gumbel_copula_distrib.sum(axis=1)\n",
    "    gumbel_copula_var=gumbel_copula_distrib.sort_values(by='Portfolio').iloc[int(gumbel_copula_distrib.shape[0]*0.05)]['Portfolio']\n",
    "    results=gumbel_copula_distrib.sort_values(by='Portfolio').iloc[int(gumbel_copula_distrib.shape[0]*0.05)]\n",
    "    \n",
    "    scenario_gumbel_copula[i]=results\n",
    "    \n",
    "mean_scenario_gaussian=pd.DataFrame(scenario_gumbel_copula).T.mean()\n",
    "mean_scenario_gaussian"
   ]
  },
  {
   "cell_type": "raw",
   "id": "929edc55-62b8-4da7-96a1-d5c4049da71f",
   "metadata": {
    "jupyter": {
     "source_hidden": true
    },
    "tags": []
   },
   "source": [
    "test=-np.random.gumbel(loc=current_risk.returns.mean(),scale=current_risk.returns.std(),size=(10000,current_risk.returns.shape[1]))\n",
    "var=np.percentile(performance(test,current_weights),5)\n",
    "cvar=performance(test,current_weights)[performance(test,current_weights)<var].mean()\n",
    "var,cvar"
   ]
  },
  {
   "cell_type": "raw",
   "id": "df443baa-f1ac-4309-b3a6-4cc30c1f24cc",
   "metadata": {
    "jupyter": {
     "source_hidden": true
    },
    "tags": []
   },
   "source": [
    "scenario_gumbel_copula={}\n",
    "\n",
    "for i in range(100):\n",
    "    test=-np.random.gumbel(loc=current_risk.returns.mean(),scale=current_risk.returns.std(),size=(10000,current_risk.returns.shape[1]))\n",
    "    gumbel_copula_distrib=pd.DataFrame(test,columns=current_risk.returns.columns)\n",
    "    gumbel_copula_distrib=gumbel_copula_distrib*current_weights\n",
    "    gumbel_copula_distrib=gumbel_copula_distrib[gumbel_copula_distrib.columns[current_weights>0]]\n",
    "    gumbel_copula_distrib['Portfolio']=gumbel_copula_distrib.sum(axis=1)\n",
    "    gumbel_copula_var=gumbel_copula_distrib.sort_values(by='Portfolio').iloc[int(gumbel_copula_distrib.shape[0]*0.05)]['Portfolio']\n",
    "    results=gumbel_copula_distrib.sort_values(by='Portfolio').iloc[int(gumbel_copula_distrib.shape[0]*0.05)]\n",
    "    \n",
    "    scenario_gumbel_copula[i]=results\n",
    "    \n",
    "mean_scenario_gaussian=pd.DataFrame(scenario_gumbel_copula).T.mean()\n",
    "mean_scenario_gaussian"
   ]
  },
  {
   "cell_type": "markdown",
   "id": "7552457d-af22-431f-bdc4-3609112e4138",
   "metadata": {},
   "source": [
    "## Monte Carlo"
   ]
  },
  {
   "cell_type": "markdown",
   "id": "8da84a09-32bf-473c-b0bf-8b98993c9003",
   "metadata": {},
   "source": [
    "### Optimal"
   ]
  },
  {
   "cell_type": "code",
   "execution_count": 74,
   "id": "0b1de214-34a4-46f0-9ff9-54326ff3b1b5",
   "metadata": {},
   "outputs": [],
   "source": [
    "spot=data[with_no_na].iloc[-1]\n",
    "monte_carlo=historical_risk.monte_carlo(spot,horizon=1/250,stress_factor=1.0)\n",
    "perf=performance(monte_carlo[1].fillna(0),opt_weights)"
   ]
  },
  {
   "cell_type": "code",
   "execution_count": 75,
   "id": "51c03bd4-96cb-4ef9-a720-1320ae57f100",
   "metadata": {},
   "outputs": [
    {
     "data": {
      "text/plain": [
       "(-0.06298989536079226, -0.07809279839745352)"
      ]
     },
     "execution_count": 75,
     "metadata": {},
     "output_type": "execute_result"
    }
   ],
   "source": [
    "var=np.percentile(perf,5)\n",
    "cvar=perf[perf<var].mean()\n",
    "\n",
    "var,cvar"
   ]
  },
  {
   "cell_type": "markdown",
   "id": "d8b35437-ec2e-403d-89bd-e8beb5c1cfe8",
   "metadata": {},
   "source": [
    "### Current Weights"
   ]
  },
  {
   "cell_type": "code",
   "execution_count": 76,
   "id": "fbd5b7f8-8088-4ed9-8dd9-2509aa2de713",
   "metadata": {},
   "outputs": [
    {
     "data": {
      "text/plain": [
       "(-0.06881740952780699, -0.08462027035663294)"
      ]
     },
     "execution_count": 76,
     "metadata": {},
     "output_type": "execute_result"
    }
   ],
   "source": [
    "spot=data[ex_ante_perf.columns].iloc[-1]\n",
    "monte_carlo=current_risk.monte_carlo(spot,horizon=1/250,stress_factor=1.0)\n",
    "perf=performance(monte_carlo[1].fillna(0),current_weights)\n",
    "var=np.percentile(perf,5)\n",
    "cvar=perf[perf<var].mean()\n",
    "\n",
    "var,cvar"
   ]
  },
  {
   "cell_type": "code",
   "execution_count": 77,
   "id": "0208383d-314b-471b-9943-3d75beae4276",
   "metadata": {},
   "outputs": [
    {
     "data": {
      "text/plain": [
       "OMUSDT      -0.043297\n",
       "BTCUSDT     -0.005925\n",
       "JASMYUSDT   -0.009958\n",
       "SOLUSDT     -0.004664\n",
       "ETHUSDT     -0.001962\n",
       "TRXUSDT     -0.000750\n",
       "BBUSDT      -0.000823\n",
       "Portfolio   -0.067380\n",
       "dtype: float64"
      ]
     },
     "execution_count": 77,
     "metadata": {},
     "output_type": "execute_result"
    }
   ],
   "source": [
    "spot=data[ex_ante_perf.columns].iloc[-1]\n",
    "\n",
    "scenario_monte_carlo={}\n",
    "\n",
    "for i in range(100):\n",
    "    \n",
    "    monte_carlo=current_risk.monte_carlo(spot,horizon=1/250,stress_factor=1.0)\n",
    "    monte_carlo_distrib=monte_carlo[1].fillna(0)*current_weights\n",
    "    monte_carlo_distrib=monte_carlo_distrib[monte_carlo_distrib.columns[current_weights>0]]\n",
    "    monte_carlo_distrib['Portfolio']=monte_carlo_distrib.sum(axis=1)\n",
    "    monte_carlo_var=monte_carlo_distrib.sort_values(by='Portfolio').iloc[int(monte_carlo_distrib.shape[0]*0.05)]['Portfolio']\n",
    "    results=monte_carlo_distrib.sort_values(by='Portfolio').iloc[int(monte_carlo_distrib.shape[0]*0.05)]\n",
    "    \n",
    "    scenario_monte_carlo[i]=results\n",
    "    \n",
    "mean_scenario_monte_carlo=pd.DataFrame(scenario_monte_carlo).T.mean()\n",
    "mean_scenario_monte_carlo"
   ]
  },
  {
   "cell_type": "markdown",
   "id": "2b3cb248-60ea-43f7-b474-31b6046eeee9",
   "metadata": {},
   "source": [
    "## VaR Violation"
   ]
  },
  {
   "cell_type": "code",
   "execution_count": 78,
   "id": "757aac0b-a638-4349-8fd3-30b1f39fa8b4",
   "metadata": {},
   "outputs": [
    {
     "data": {
      "text/html": [
       "<div>\n",
       "<style scoped>\n",
       "    .dataframe tbody tr th:only-of-type {\n",
       "        vertical-align: middle;\n",
       "    }\n",
       "\n",
       "    .dataframe tbody tr th {\n",
       "        vertical-align: top;\n",
       "    }\n",
       "\n",
       "    .dataframe thead th {\n",
       "        text-align: right;\n",
       "    }\n",
       "</style>\n",
       "<table border=\"1\" class=\"dataframe\">\n",
       "  <thead>\n",
       "    <tr style=\"text-align: right;\">\n",
       "      <th></th>\n",
       "      <th>Historical</th>\n",
       "      <th>Parametric</th>\n",
       "      <th>Multivariate</th>\n",
       "      <th>Portfolio</th>\n",
       "    </tr>\n",
       "  </thead>\n",
       "  <tbody>\n",
       "    <tr>\n",
       "      <th>2024-01-14</th>\n",
       "      <td>-0.051079</td>\n",
       "      <td>-0.084645</td>\n",
       "      <td>-0.073048</td>\n",
       "      <td>-0.024854</td>\n",
       "    </tr>\n",
       "    <tr>\n",
       "      <th>2024-01-15</th>\n",
       "      <td>-0.051079</td>\n",
       "      <td>-0.084644</td>\n",
       "      <td>-0.074284</td>\n",
       "      <td>0.013864</td>\n",
       "    </tr>\n",
       "    <tr>\n",
       "      <th>2024-01-16</th>\n",
       "      <td>-0.051079</td>\n",
       "      <td>-0.084407</td>\n",
       "      <td>-0.071820</td>\n",
       "      <td>0.038184</td>\n",
       "    </tr>\n",
       "    <tr>\n",
       "      <th>2024-01-17</th>\n",
       "      <td>-0.051079</td>\n",
       "      <td>-0.085884</td>\n",
       "      <td>-0.071001</td>\n",
       "      <td>-0.024587</td>\n",
       "    </tr>\n",
       "    <tr>\n",
       "      <th>2024-01-18</th>\n",
       "      <td>-0.051079</td>\n",
       "      <td>-0.088324</td>\n",
       "      <td>-0.074803</td>\n",
       "      <td>-0.036044</td>\n",
       "    </tr>\n",
       "    <tr>\n",
       "      <th>...</th>\n",
       "      <td>...</td>\n",
       "      <td>...</td>\n",
       "      <td>...</td>\n",
       "      <td>...</td>\n",
       "    </tr>\n",
       "    <tr>\n",
       "      <th>2024-12-04</th>\n",
       "      <td>-0.046287</td>\n",
       "      <td>-0.112731</td>\n",
       "      <td>-0.085302</td>\n",
       "      <td>-0.031404</td>\n",
       "    </tr>\n",
       "    <tr>\n",
       "      <th>2024-12-05</th>\n",
       "      <td>-0.046287</td>\n",
       "      <td>-0.112960</td>\n",
       "      <td>-0.084777</td>\n",
       "      <td>0.010868</td>\n",
       "    </tr>\n",
       "    <tr>\n",
       "      <th>2024-12-06</th>\n",
       "      <td>-0.046287</td>\n",
       "      <td>-0.110163</td>\n",
       "      <td>-0.087542</td>\n",
       "      <td>0.018856</td>\n",
       "    </tr>\n",
       "    <tr>\n",
       "      <th>2024-12-07</th>\n",
       "      <td>-0.046287</td>\n",
       "      <td>-0.109964</td>\n",
       "      <td>-0.085321</td>\n",
       "      <td>0.012656</td>\n",
       "    </tr>\n",
       "    <tr>\n",
       "      <th>2024-12-08</th>\n",
       "      <td>-0.046287</td>\n",
       "      <td>-0.109480</td>\n",
       "      <td>-0.083484</td>\n",
       "      <td>0.002234</td>\n",
       "    </tr>\n",
       "  </tbody>\n",
       "</table>\n",
       "<p>330 rows × 4 columns</p>\n",
       "</div>"
      ],
      "text/plain": [
       "            Historical  Parametric  Multivariate  Portfolio\n",
       "2024-01-14   -0.051079   -0.084645     -0.073048  -0.024854\n",
       "2024-01-15   -0.051079   -0.084644     -0.074284   0.013864\n",
       "2024-01-16   -0.051079   -0.084407     -0.071820   0.038184\n",
       "2024-01-17   -0.051079   -0.085884     -0.071001  -0.024587\n",
       "2024-01-18   -0.051079   -0.088324     -0.074803  -0.036044\n",
       "...                ...         ...           ...        ...\n",
       "2024-12-04   -0.046287   -0.112731     -0.085302  -0.031404\n",
       "2024-12-05   -0.046287   -0.112960     -0.084777   0.010868\n",
       "2024-12-06   -0.046287   -0.110163     -0.087542   0.018856\n",
       "2024-12-07   -0.046287   -0.109964     -0.085321   0.012656\n",
       "2024-12-08   -0.046287   -0.109480     -0.083484   0.002234\n",
       "\n",
       "[330 rows x 4 columns]"
      ]
     },
     "execution_count": 78,
     "metadata": {},
     "output_type": "execute_result"
    }
   ],
   "source": [
    "var_data=rolling_var(returns_to_use,opt_weights,window=30,Q=1)\n",
    "var_data"
   ]
  },
  {
   "cell_type": "code",
   "execution_count": 79,
   "id": "bca159de-f35d-4db1-b088-09ad2dbc5b6a",
   "metadata": {},
   "outputs": [
    {
     "data": {
      "text/html": [
       "<div>\n",
       "<style scoped>\n",
       "    .dataframe tbody tr th:only-of-type {\n",
       "        vertical-align: middle;\n",
       "    }\n",
       "\n",
       "    .dataframe tbody tr th {\n",
       "        vertical-align: top;\n",
       "    }\n",
       "\n",
       "    .dataframe thead th {\n",
       "        text-align: right;\n",
       "    }\n",
       "</style>\n",
       "<table border=\"1\" class=\"dataframe\">\n",
       "  <thead>\n",
       "    <tr style=\"text-align: right;\">\n",
       "      <th></th>\n",
       "      <th>Historical</th>\n",
       "      <th>Parametric</th>\n",
       "      <th>Multivariate</th>\n",
       "      <th>Portfolio</th>\n",
       "    </tr>\n",
       "  </thead>\n",
       "  <tbody>\n",
       "    <tr>\n",
       "      <th>2024-05-28</th>\n",
       "      <td>-0.034747</td>\n",
       "      <td>-0.084721</td>\n",
       "      <td>-0.080125</td>\n",
       "      <td>-0.017896</td>\n",
       "    </tr>\n",
       "    <tr>\n",
       "      <th>2024-05-29</th>\n",
       "      <td>-0.034747</td>\n",
       "      <td>-0.082047</td>\n",
       "      <td>-0.076470</td>\n",
       "      <td>-0.008623</td>\n",
       "    </tr>\n",
       "    <tr>\n",
       "      <th>2024-05-30</th>\n",
       "      <td>-0.034747</td>\n",
       "      <td>-0.072415</td>\n",
       "      <td>-0.067110</td>\n",
       "      <td>0.041564</td>\n",
       "    </tr>\n",
       "    <tr>\n",
       "      <th>2024-05-31</th>\n",
       "      <td>-0.034747</td>\n",
       "      <td>-0.073492</td>\n",
       "      <td>-0.065828</td>\n",
       "      <td>0.039579</td>\n",
       "    </tr>\n",
       "    <tr>\n",
       "      <th>2024-06-01</th>\n",
       "      <td>-0.034747</td>\n",
       "      <td>-0.076997</td>\n",
       "      <td>-0.065997</td>\n",
       "      <td>0.052811</td>\n",
       "    </tr>\n",
       "    <tr>\n",
       "      <th>...</th>\n",
       "      <td>...</td>\n",
       "      <td>...</td>\n",
       "      <td>...</td>\n",
       "      <td>...</td>\n",
       "    </tr>\n",
       "    <tr>\n",
       "      <th>2024-12-04</th>\n",
       "      <td>-0.044527</td>\n",
       "      <td>-0.075985</td>\n",
       "      <td>-0.066827</td>\n",
       "      <td>-0.017222</td>\n",
       "    </tr>\n",
       "    <tr>\n",
       "      <th>2024-12-05</th>\n",
       "      <td>-0.044527</td>\n",
       "      <td>-0.080874</td>\n",
       "      <td>-0.068563</td>\n",
       "      <td>0.063183</td>\n",
       "    </tr>\n",
       "    <tr>\n",
       "      <th>2024-12-06</th>\n",
       "      <td>-0.044527</td>\n",
       "      <td>-0.081222</td>\n",
       "      <td>-0.070094</td>\n",
       "      <td>-0.000603</td>\n",
       "    </tr>\n",
       "    <tr>\n",
       "      <th>2024-12-07</th>\n",
       "      <td>-0.044527</td>\n",
       "      <td>-0.081842</td>\n",
       "      <td>-0.071464</td>\n",
       "      <td>-0.004186</td>\n",
       "    </tr>\n",
       "    <tr>\n",
       "      <th>2024-12-08</th>\n",
       "      <td>-0.044527</td>\n",
       "      <td>-0.082038</td>\n",
       "      <td>-0.073910</td>\n",
       "      <td>0.001433</td>\n",
       "    </tr>\n",
       "  </tbody>\n",
       "</table>\n",
       "<p>195 rows × 4 columns</p>\n",
       "</div>"
      ],
      "text/plain": [
       "            Historical  Parametric  Multivariate  Portfolio\n",
       "2024-05-28   -0.034747   -0.084721     -0.080125  -0.017896\n",
       "2024-05-29   -0.034747   -0.082047     -0.076470  -0.008623\n",
       "2024-05-30   -0.034747   -0.072415     -0.067110   0.041564\n",
       "2024-05-31   -0.034747   -0.073492     -0.065828   0.039579\n",
       "2024-06-01   -0.034747   -0.076997     -0.065997   0.052811\n",
       "...                ...         ...           ...        ...\n",
       "2024-12-04   -0.044527   -0.075985     -0.066827  -0.017222\n",
       "2024-12-05   -0.044527   -0.080874     -0.068563   0.063183\n",
       "2024-12-06   -0.044527   -0.081222     -0.070094  -0.000603\n",
       "2024-12-07   -0.044527   -0.081842     -0.071464  -0.004186\n",
       "2024-12-08   -0.044527   -0.082038     -0.073910   0.001433\n",
       "\n",
       "[195 rows x 4 columns]"
      ]
     },
     "execution_count": 79,
     "metadata": {},
     "output_type": "execute_result"
    }
   ],
   "source": [
    "current_var_data=rolling_var(ex_ante_perf_to_use,current_weights,window=15,Q=1)\n",
    "current_var_data"
   ]
  },
  {
   "cell_type": "code",
   "execution_count": 80,
   "id": "0e7d84e4-bd99-45e8-9326-4f84526ba091",
   "metadata": {},
   "outputs": [
    {
     "data": {
      "text/plain": [
       "<AxesSubplot:>"
      ]
     },
     "execution_count": 80,
     "metadata": {},
     "output_type": "execute_result"
    },
    {
     "data": {
      "image/png": "[encoded data removed]",
      "text/plain": [
       "<Figure size 432x288 with 1 Axes>"
      ]
     },
     "metadata": {
      "needs_background": "light"
     },
     "output_type": "display_data"
    }
   ],
   "source": [
    "var_data.plot()"
   ]
  },
  {
   "cell_type": "code",
   "execution_count": 81,
   "id": "4499b3ef-4ed2-48a3-8967-0230afa98c7d",
   "metadata": {},
   "outputs": [
    {
     "data": {
      "text/plain": [
       "<AxesSubplot:>"
      ]
     },
     "execution_count": 81,
     "metadata": {},
     "output_type": "execute_result"
    },
    {
     "data": {
      "image/png": "[encoded data removed]",
      "text/plain": [
       "<Figure size 432x288 with 1 Axes>"
      ]
     },
     "metadata": {
      "needs_background": "light"
     },
     "output_type": "display_data"
    }
   ],
   "source": [
    "current_var_data.plot()"
   ]
  },
  {
   "cell_type": "code",
   "execution_count": 82,
   "id": "e47d08e8-e7a7-4b22-8605-f8200e5645a6",
   "metadata": {},
   "outputs": [
    {
     "data": {
      "text/html": [
       "<div>\n",
       "<style scoped>\n",
       "    .dataframe tbody tr th:only-of-type {\n",
       "        vertical-align: middle;\n",
       "    }\n",
       "\n",
       "    .dataframe tbody tr th {\n",
       "        vertical-align: top;\n",
       "    }\n",
       "\n",
       "    .dataframe thead th {\n",
       "        text-align: right;\n",
       "    }\n",
       "</style>\n",
       "<table border=\"1\" class=\"dataframe\">\n",
       "  <thead>\n",
       "    <tr style=\"text-align: right;\">\n",
       "      <th></th>\n",
       "      <th>Historical</th>\n",
       "      <th>Parametric</th>\n",
       "      <th>Multivariate</th>\n",
       "    </tr>\n",
       "  </thead>\n",
       "  <tbody>\n",
       "    <tr>\n",
       "      <th>Proportion of failure</th>\n",
       "      <td>0.024242</td>\n",
       "      <td>0.012121</td>\n",
       "      <td>0.012121</td>\n",
       "    </tr>\n",
       "    <tr>\n",
       "      <th>Kupiec Stat</th>\n",
       "      <td>5.645706</td>\n",
       "      <td>14.155382</td>\n",
       "      <td>14.155382</td>\n",
       "    </tr>\n",
       "    <tr>\n",
       "      <th>P-value</th>\n",
       "      <td>0.017498</td>\n",
       "      <td>0.000168</td>\n",
       "      <td>0.000168</td>\n",
       "    </tr>\n",
       "  </tbody>\n",
       "</table>\n",
       "</div>"
      ],
      "text/plain": [
       "                      Historical Parametric Multivariate\n",
       "Proportion of failure   0.024242   0.012121     0.012121\n",
       "Kupiec Stat             5.645706  14.155382    14.155382\n",
       "P-value                 0.017498   0.000168     0.000168"
      ]
     },
     "execution_count": 82,
     "metadata": {},
     "output_type": "execute_result"
    }
   ],
   "source": [
    "kupiec_test(var_data)"
   ]
  },
  {
   "cell_type": "code",
   "execution_count": 83,
   "id": "0b33e6a3-e732-49df-a1a0-aefaefb1f271",
   "metadata": {},
   "outputs": [
    {
     "data": {
      "text/html": [
       "<div>\n",
       "<style scoped>\n",
       "    .dataframe tbody tr th:only-of-type {\n",
       "        vertical-align: middle;\n",
       "    }\n",
       "\n",
       "    .dataframe tbody tr th {\n",
       "        vertical-align: top;\n",
       "    }\n",
       "\n",
       "    .dataframe thead th {\n",
       "        text-align: right;\n",
       "    }\n",
       "</style>\n",
       "<table border=\"1\" class=\"dataframe\">\n",
       "  <thead>\n",
       "    <tr style=\"text-align: right;\">\n",
       "      <th></th>\n",
       "      <th>Historical</th>\n",
       "      <th>Parametric</th>\n",
       "      <th>Multivariate</th>\n",
       "    </tr>\n",
       "  </thead>\n",
       "  <tbody>\n",
       "    <tr>\n",
       "      <th>Proportion of failure</th>\n",
       "      <td>0.061538</td>\n",
       "      <td>0.015385</td>\n",
       "      <td>0.015385</td>\n",
       "    </tr>\n",
       "    <tr>\n",
       "      <th>Kupiec Stat</th>\n",
       "      <td>0.510784</td>\n",
       "      <td>6.671087</td>\n",
       "      <td>6.671087</td>\n",
       "    </tr>\n",
       "    <tr>\n",
       "      <th>P-value</th>\n",
       "      <td>0.4748</td>\n",
       "      <td>0.009799</td>\n",
       "      <td>0.009799</td>\n",
       "    </tr>\n",
       "  </tbody>\n",
       "</table>\n",
       "</div>"
      ],
      "text/plain": [
       "                      Historical Parametric Multivariate\n",
       "Proportion of failure   0.061538   0.015385     0.015385\n",
       "Kupiec Stat             0.510784   6.671087     6.671087\n",
       "P-value                   0.4748   0.009799     0.009799"
      ]
     },
     "execution_count": 83,
     "metadata": {},
     "output_type": "execute_result"
    }
   ],
   "source": [
    "kupiec_test(current_var_data)"
   ]
  },
  {
   "cell_type": "markdown",
   "id": "7d238b49-45e4-4e3c-a34b-654a69961cc2",
   "metadata": {},
   "source": [
    "# Principal Component Analysis"
   ]
  },
  {
   "cell_type": "markdown",
   "id": "f692a72e-632c-4eb9-afa3-b1283e5e6fd9",
   "metadata": {},
   "source": [
    "## Historical PCA"
   ]
  },
  {
   "cell_type": "code",
   "execution_count": 84,
   "id": "6000e084-3863-47c4-9f09-9fcd4c7220be",
   "metadata": {},
   "outputs": [
    {
     "data": {
      "text/plain": [
       "array([0.77095382, 0.07693877, 0.056028  , 0.05568917, 0.04039024])"
      ]
     },
     "execution_count": 84,
     "metadata": {},
     "output_type": "execute_result"
    }
   ],
   "source": [
    "eigval,eigvec,portfolio_components=historical_risk.pca(num_components=5)\n",
    "variance_explained=eigval/eigval.sum()\n",
    "variance_explained"
   ]
  },
  {
   "cell_type": "code",
   "execution_count": 85,
   "id": "53fd60dd-afcd-4a5f-bc0c-1afbe4acfcf5",
   "metadata": {},
   "outputs": [
    {
     "data": {
      "text/plain": [
       "AAVEUSDT    0.015178\n",
       "ADAUSDT     0.015218\n",
       "ALGOUSDT    0.017295\n",
       "APTUSDT     0.015848\n",
       "ARBUSDT     0.016737\n",
       "              ...   \n",
       "WBTCUSDT    0.009619\n",
       "WLDUSDT     0.021863\n",
       "XLMUSDT     0.012104\n",
       "XRPUSDT     0.010576\n",
       "XTZUSDT     0.016054\n",
       "Name: PC1, Length: 63, dtype: float64"
      ]
     },
     "execution_count": 85,
     "metadata": {},
     "output_type": "execute_result"
    }
   ],
   "source": [
    "pca_weight=dict((portfolio_components['PC1']/portfolio_components['PC1'].sum()))\n",
    "portfolio_components['PC1']"
   ]
  },
  {
   "cell_type": "code",
   "execution_count": 86,
   "id": "e83837db-6bb4-44d7-8d2f-ace69c484699",
   "metadata": {},
   "outputs": [
    {
     "data": {
      "text/plain": [
       "<AxesSubplot:>"
      ]
     },
     "execution_count": 86,
     "metadata": {},
     "output_type": "execute_result"
    },
    {
     "data": {
      "image/png": "[encoded data removed]",
      "text/plain": [
       "<Figure size 432x288 with 1 Axes>"
      ]
     },
     "metadata": {
      "needs_background": "light"
     },
     "output_type": "display_data"
    }
   ],
   "source": [
    "historical_PCA=pd.DataFrame(np.array(list(pca_weight.values())).dot(np.transpose(historical_risk.returns)),\n",
    "                 index=historical_risk.returns.index,\n",
    "                 columns=['PCA'])\n",
    "historical_PCA=historical_PCA.dropna()\n",
    "(1+historical_PCA).cumprod().plot()"
   ]
  },
  {
   "cell_type": "code",
   "execution_count": 87,
   "id": "c575f9ec-6680-4401-814e-d33785954e38",
   "metadata": {},
   "outputs": [
    {
     "data": {
      "text/plain": [
       "<AxesSubplot:>"
      ]
     },
     "execution_count": 87,
     "metadata": {},
     "output_type": "execute_result"
    },
    {
     "data": {
      "image/png": "[encoded data removed]",
      "text/plain": [
       "<Figure size 432x288 with 1 Axes>"
      ]
     },
     "metadata": {
      "needs_background": "light"
     },
     "output_type": "display_data"
    }
   ],
   "source": [
    "(1+historical_risk.returns['BTCUSDT']).cumprod().plot()"
   ]
  },
  {
   "cell_type": "code",
   "execution_count": 88,
   "id": "1a144186-3cff-4c2b-8833-2ff9c7ed02d0",
   "metadata": {},
   "outputs": [
    {
     "data": {
      "text/plain": [
       "PCA          0.000000\n",
       "FLOWUSDT     0.406984\n",
       "WBETHUSDT    0.415751\n",
       "ETHUSDT      0.415952\n",
       "EGLDUSDT     0.418309\n",
       "               ...   \n",
       "FLOKIUSDT    1.114999\n",
       "BONKUSDT     1.126194\n",
       "WLDUSDT      1.127458\n",
       "PEPEUSDT     1.162357\n",
       "OMUSDT       1.525793\n",
       "Length: 64, dtype: float64"
      ]
     },
     "execution_count": 88,
     "metadata": {},
     "output_type": "execute_result"
    }
   ],
   "source": [
    "comparison=historical_risk.returns.copy()\n",
    "comparison['PCA']=historical_PCA\n",
    "distances=np.sqrt(np.sum(comparison.apply(lambda y:(y-historical_PCA['PCA'])**2))).sort_values()\n",
    "distances"
   ]
  },
  {
   "cell_type": "code",
   "execution_count": 89,
   "id": "1757caf9-a1c9-4e4e-8334-fae0314667e7",
   "metadata": {},
   "outputs": [
    {
     "data": {
      "text/plain": [
       "<AxesSubplot:>"
      ]
     },
     "execution_count": 89,
     "metadata": {},
     "output_type": "execute_result"
    },
    {
     "data": {
      "image/png": "[encoded data removed]",
      "text/plain": [
       "<Figure size 432x288 with 1 Axes>"
      ]
     },
     "metadata": {
      "needs_background": "light"
     },
     "output_type": "display_data"
    }
   ],
   "source": [
    "(1+comparison[distances.index[:10]]).cumprod().plot()"
   ]
  },
  {
   "cell_type": "code",
   "execution_count": 90,
   "id": "56a047da-fd00-4827-8e18-635a2fa53389",
   "metadata": {},
   "outputs": [
    {
     "data": {
      "text/plain": [
       "<AxesSubplot:>"
      ]
     },
     "execution_count": 90,
     "metadata": {},
     "output_type": "execute_result"
    },
    {
     "data": {
      "image/png": "[encoded data removed]",
      "text/plain": [
       "<Figure size 432x288 with 1 Axes>"
      ]
     },
     "metadata": {
      "needs_background": "light"
     },
     "output_type": "display_data"
    }
   ],
   "source": [
    "(1+comparison[distances.index[-10:]]).cumprod().plot()"
   ]
  },
  {
   "cell_type": "markdown",
   "id": "1e202647-c176-480f-a368-895d7d744dd0",
   "metadata": {},
   "source": [
    "## Current PCA"
   ]
  },
  {
   "cell_type": "code",
   "execution_count": 91,
   "id": "b279a72f-1f1c-42f0-a641-013b3e43675f",
   "metadata": {},
   "outputs": [
    {
     "data": {
      "text/plain": [
       "array([0.5266448 , 0.15215128, 0.13661354, 0.10536006, 0.07923031])"
      ]
     },
     "execution_count": 91,
     "metadata": {},
     "output_type": "execute_result"
    }
   ],
   "source": [
    "eigval,eigvec,portfolio_components_current=current_risk.pca(num_components=5)\n",
    "variance_explained=eigval/eigval.sum()\n",
    "variance_explained"
   ]
  },
  {
   "cell_type": "code",
   "execution_count": 92,
   "id": "dfe7f204-8aab-42a9-a2e3-95c60a6b146e",
   "metadata": {},
   "outputs": [
    {
     "data": {
      "text/plain": [
       "OMUSDT       0.101445\n",
       "BTCUSDT      0.062917\n",
       "JASMYUSDT    0.165077\n",
       "SOLUSDT      0.102873\n",
       "ETHUSDT      0.083654\n",
       "TRXUSDT      0.040518\n",
       "BBUSDT       0.212698\n",
       "BNBUSDT      0.067126\n",
       "PEPEUSDT     0.163692\n",
       "Name: PC1, dtype: float64"
      ]
     },
     "execution_count": 92,
     "metadata": {},
     "output_type": "execute_result"
    }
   ],
   "source": [
    "pca_weight=dict((portfolio_components_current['PC1']/portfolio_components_current['PC1'].sum()))\n",
    "portfolio_components_current['PC1']"
   ]
  },
  {
   "cell_type": "code",
   "execution_count": 93,
   "id": "85176e0f-abd3-477c-89a2-f8473be390f3",
   "metadata": {},
   "outputs": [
    {
     "data": {
      "text/plain": [
       "<AxesSubplot:>"
      ]
     },
     "execution_count": 93,
     "metadata": {},
     "output_type": "execute_result"
    },
    {
     "data": {
      "image/png": "[encoded data removed]",
      "text/plain": [
       "<Figure size 432x288 with 1 Axes>"
      ]
     },
     "metadata": {
      "needs_background": "light"
     },
     "output_type": "display_data"
    }
   ],
   "source": [
    "PCA=pd.DataFrame(np.array(list(pca_weight.values())).dot(np.transpose(current_risk.returns)),\n",
    "                 index=current_risk.returns.index,\n",
    "                 columns=['PCA'])\n",
    "PCA=PCA.dropna()\n",
    "(1+PCA).cumprod().plot()"
   ]
  },
  {
   "cell_type": "code",
   "execution_count": 94,
   "id": "03b2a48e-4c5a-4d67-8760-a4631629f0a3",
   "metadata": {},
   "outputs": [
    {
     "data": {
      "text/plain": [
       "<AxesSubplot:>"
      ]
     },
     "execution_count": 94,
     "metadata": {},
     "output_type": "execute_result"
    },
    {
     "data": {
      "image/png": "[encoded data removed]",
      "text/plain": [
       "<Figure size 432x288 with 1 Axes>"
      ]
     },
     "metadata": {
      "needs_background": "light"
     },
     "output_type": "display_data"
    }
   ],
   "source": [
    "(1+current_risk.returns['BTCUSDT']).cumprod().plot()"
   ]
  },
  {
   "cell_type": "code",
   "execution_count": 95,
   "id": "726e5786-d256-485f-9aed-34cf41558ed1",
   "metadata": {},
   "outputs": [
    {
     "data": {
      "text/plain": [
       "PCA          0.000000\n",
       "SOLUSDT      0.380718\n",
       "ETHUSDT      0.399729\n",
       "BNBUSDT      0.408975\n",
       "BTCUSDT      0.414931\n",
       "JASMYUSDT    0.640606\n",
       "PEPEUSDT     0.680458\n",
       "BBUSDT       0.705720\n",
       "OMUSDT       0.863751\n",
       "TRXUSDT      0.881678\n",
       "dtype: float64"
      ]
     },
     "execution_count": 95,
     "metadata": {},
     "output_type": "execute_result"
    }
   ],
   "source": [
    "comparison=current_risk.returns.copy()\n",
    "comparison['PCA']=PCA\n",
    "distances=np.sqrt(np.sum(comparison.apply(lambda y:(y-PCA['PCA'])**2))).sort_values()\n",
    "distances.iloc[:10]"
   ]
  },
  {
   "cell_type": "code",
   "execution_count": 96,
   "id": "15dace72-ee38-4c88-92c2-df5fa14f042c",
   "metadata": {},
   "outputs": [
    {
     "data": {
      "text/plain": [
       "<AxesSubplot:>"
      ]
     },
     "execution_count": 96,
     "metadata": {},
     "output_type": "execute_result"
    },
    {
     "data": {
      "image/png": "[encoded data removed]",
      "text/plain": [
       "<Figure size 432x288 with 1 Axes>"
      ]
     },
     "metadata": {
      "needs_background": "light"
     },
     "output_type": "display_data"
    }
   ],
   "source": [
    "(1+comparison[distances.index[:10]]).cumprod().plot()"
   ]
  },
  {
   "cell_type": "markdown",
   "id": "85389228-d5d4-4e65-b11c-e46e5e4155ba",
   "metadata": {},
   "source": [
    "## Sensitivity Analysis"
   ]
  },
  {
   "cell_type": "code",
   "execution_count": 97,
   "id": "7f6c4fd8-79da-438f-9aa9-c5fe762473d3",
   "metadata": {},
   "outputs": [
    {
     "data": {
      "text/plain": [
       "PEPEUSDT     1.905853\n",
       "BBUSDT       1.515492\n",
       "JASMYUSDT    1.213007\n",
       "SOLUSDT      1.139631\n",
       "BTCUSDT      1.000000\n",
       "ETHUSDT      0.950047\n",
       "OMUSDT       0.872205\n",
       "BNBUSDT      0.653311\n",
       "TRXUSDT      0.236993\n",
       "Name: BTCUSDT, dtype: float64"
      ]
     },
     "execution_count": 97,
     "metadata": {},
     "output_type": "execute_result"
    }
   ],
   "source": [
    "beta=(ex_ante_perf.cov()/ex_ante_perf.var())['BTCUSDT'].sort_values(ascending=False)\n",
    "beta"
   ]
  },
  {
   "cell_type": "code",
   "execution_count": 98,
   "id": "845abc9d-5045-4d31-9955-7093728da9fe",
   "metadata": {},
   "outputs": [
    {
     "data": {
      "text/plain": [
       "PEPEUSDT     1.744056\n",
       "BTCUSDT      1.000000\n",
       "ETHUSDT      0.940708\n",
       "SOLUSDT      0.933897\n",
       "BNBUSDT      0.788359\n",
       "BBUSDT       0.580251\n",
       "OMUSDT      -0.236372\n",
       "TRXUSDT     -0.510349\n",
       "JASMYUSDT   -0.554591\n",
       "Name: BTCUSDT, dtype: float64"
      ]
     },
     "execution_count": 98,
     "metadata": {},
     "output_type": "execute_result"
    }
   ],
   "source": [
    "days=15\n",
    "beta=(ex_ante_perf.iloc[-days:].cov()/ex_ante_perf.iloc[-days:].var())['BTCUSDT'].sort_values(ascending=False)\n",
    "beta"
   ]
  },
  {
   "cell_type": "markdown",
   "id": "d311b8be-27e0-4aad-b9e8-cb84f3454259",
   "metadata": {},
   "source": [
    "### Multilinear Regression"
   ]
  },
  {
   "cell_type": "code",
   "execution_count": 99,
   "id": "962c61b3-5e52-4c11-b364-f8c6f1cd60bb",
   "metadata": {},
   "outputs": [],
   "source": [
    "reg=ex_ante_perf.copy().dropna()\n",
    "reg=reg.iloc[-30:]\n",
    "reg['PCA']=historical_PCA\n",
    "X=reg.iloc[:,reg.columns!='PCA'].to_numpy()\n",
    "Y=reg['PCA'].to_numpy()\n",
    "columns=list(reg.columns[reg.columns!='PCA'])\n",
    "\n",
    "beta=np.dot(np.linalg.inv(np.dot(X.T,X)),np.dot(X.T,Y))"
   ]
  },
  {
   "cell_type": "code",
   "execution_count": 100,
   "id": "7bcb517c-8022-4d36-bdcc-e4ebcaf63a2e",
   "metadata": {},
   "outputs": [
    {
     "data": {
      "text/html": [
       "<div>\n",
       "<style scoped>\n",
       "    .dataframe tbody tr th:only-of-type {\n",
       "        vertical-align: middle;\n",
       "    }\n",
       "\n",
       "    .dataframe tbody tr th {\n",
       "        vertical-align: top;\n",
       "    }\n",
       "\n",
       "    .dataframe thead th {\n",
       "        text-align: right;\n",
       "    }\n",
       "</style>\n",
       "<table border=\"1\" class=\"dataframe\">\n",
       "  <thead>\n",
       "    <tr style=\"text-align: right;\">\n",
       "      <th></th>\n",
       "      <th>Beta</th>\n",
       "    </tr>\n",
       "  </thead>\n",
       "  <tbody>\n",
       "    <tr>\n",
       "      <th>OMUSDT</th>\n",
       "      <td>0.075379</td>\n",
       "    </tr>\n",
       "    <tr>\n",
       "      <th>BTCUSDT</th>\n",
       "      <td>0.799823</td>\n",
       "    </tr>\n",
       "    <tr>\n",
       "      <th>JASMYUSDT</th>\n",
       "      <td>0.137182</td>\n",
       "    </tr>\n",
       "    <tr>\n",
       "      <th>SOLUSDT</th>\n",
       "      <td>-0.468943</td>\n",
       "    </tr>\n",
       "    <tr>\n",
       "      <th>ETHUSDT</th>\n",
       "      <td>0.258181</td>\n",
       "    </tr>\n",
       "    <tr>\n",
       "      <th>TRXUSDT</th>\n",
       "      <td>0.038137</td>\n",
       "    </tr>\n",
       "    <tr>\n",
       "      <th>BBUSDT</th>\n",
       "      <td>0.343527</td>\n",
       "    </tr>\n",
       "    <tr>\n",
       "      <th>BNBUSDT</th>\n",
       "      <td>-0.067238</td>\n",
       "    </tr>\n",
       "    <tr>\n",
       "      <th>PEPEUSDT</th>\n",
       "      <td>-0.010037</td>\n",
       "    </tr>\n",
       "  </tbody>\n",
       "</table>\n",
       "</div>"
      ],
      "text/plain": [
       "               Beta\n",
       "OMUSDT     0.075379\n",
       "BTCUSDT    0.799823\n",
       "JASMYUSDT  0.137182\n",
       "SOLUSDT   -0.468943\n",
       "ETHUSDT    0.258181\n",
       "TRXUSDT    0.038137\n",
       "BBUSDT     0.343527\n",
       "BNBUSDT   -0.067238\n",
       "PEPEUSDT  -0.010037"
      ]
     },
     "execution_count": 100,
     "metadata": {},
     "output_type": "execute_result"
    }
   ],
   "source": [
    "table=pd.DataFrame(dict(zip(columns,beta)).values(),index=dict(zip(columns,beta)).keys(),columns=['Beta'])\n",
    "table"
   ]
  },
  {
   "cell_type": "code",
   "execution_count": 101,
   "id": "10891499-0e87-41d1-b696-ec2f59d6650e",
   "metadata": {},
   "outputs": [
    {
     "data": {
      "text/plain": [
       "0.24664180980340988"
      ]
     },
     "execution_count": 101,
     "metadata": {},
     "output_type": "execute_result"
    }
   ],
   "source": [
    "reg=ex_ante_perf.copy().dropna()\n",
    "reg=reg.loc[historical_ptf['Historical Portfolio'].index]\n",
    "\n",
    "reg['PCA']=historical_PCA\n",
    "reg['Portfolio']=historical_ptf['Historical Portfolio']\n",
    "reg=reg.iloc[-15:]\n",
    "X=reg['PCA'].to_numpy()\n",
    "Y=reg['Portfolio'].to_numpy()\n",
    "columns=list(reg.columns[reg.columns!='Porfolio'])\n",
    "\n",
    "beta=reg.cov()['Portfolio']['PCA']/reg.var()['Portfolio']\n",
    "beta"
   ]
  },
  {
   "cell_type": "code",
   "execution_count": 102,
   "id": "a92d0193-75d5-481e-abe9-ef803762218f",
   "metadata": {},
   "outputs": [
    {
     "data": {
      "text/plain": [
       "OMUSDT       0.210909\n",
       "BTCUSDT      1.205134\n",
       "JASMYUSDT    0.386723\n",
       "SOLUSDT      0.755234\n",
       "ETHUSDT      0.920192\n",
       "TRXUSDT      0.145477\n",
       "BBUSDT       0.329658\n",
       "BNBUSDT      1.059068\n",
       "PEPEUSDT     0.362647\n",
       "PCA          1.000000\n",
       "dtype: float64"
      ]
     },
     "execution_count": 102,
     "metadata": {},
     "output_type": "execute_result"
    }
   ],
   "source": [
    "reg=ex_ante_perf.copy().dropna()\n",
    "reg['PCA']=historical_PCA\n",
    "\n",
    "reg.cov()['PCA']/reg.var()"
   ]
  },
  {
   "cell_type": "code",
   "execution_count": 103,
   "id": "8aaa7cee-4ff5-4a5f-a319-6d3781890fcc",
   "metadata": {},
   "outputs": [
    {
     "data": {
      "text/plain": [
       "OMUSDT       0.241441\n",
       "BTCUSDT      0.878851\n",
       "JASMYUSDT    0.033390\n",
       "SOLUSDT      0.440605\n",
       "ETHUSDT      0.269500\n",
       "TRXUSDT      0.056118\n",
       "BBUSDT       0.365589\n",
       "BNBUSDT      0.413509\n",
       "PEPEUSDT     0.043299\n",
       "PCA          1.000000\n",
       "dtype: float64"
      ]
     },
     "execution_count": 103,
     "metadata": {},
     "output_type": "execute_result"
    }
   ],
   "source": [
    "reg=ex_ante_perf.copy().dropna().iloc[-15:]\n",
    "reg['PCA']=historical_PCA\n",
    "\n",
    "reg.cov()['PCA']/reg.var()"
   ]
  },
  {
   "cell_type": "code",
   "execution_count": 104,
   "id": "276ed457-74c3-484f-b31d-df3136998ae7",
   "metadata": {},
   "outputs": [
    {
     "data": {
      "text/html": [
       "<div>\n",
       "<style scoped>\n",
       "    .dataframe tbody tr th:only-of-type {\n",
       "        vertical-align: middle;\n",
       "    }\n",
       "\n",
       "    .dataframe tbody tr th {\n",
       "        vertical-align: top;\n",
       "    }\n",
       "\n",
       "    .dataframe thead th {\n",
       "        text-align: right;\n",
       "    }\n",
       "</style>\n",
       "<table border=\"1\" class=\"dataframe\">\n",
       "  <thead>\n",
       "    <tr style=\"text-align: right;\">\n",
       "      <th></th>\n",
       "      <th>OMUSDT</th>\n",
       "      <th>BTCUSDT</th>\n",
       "      <th>JASMYUSDT</th>\n",
       "      <th>SOLUSDT</th>\n",
       "      <th>ETHUSDT</th>\n",
       "      <th>TRXUSDT</th>\n",
       "      <th>BBUSDT</th>\n",
       "      <th>BNBUSDT</th>\n",
       "      <th>PEPEUSDT</th>\n",
       "    </tr>\n",
       "  </thead>\n",
       "  <tbody>\n",
       "    <tr>\n",
       "      <th>OMUSDT</th>\n",
       "      <td>1.000000</td>\n",
       "      <td>0.296819</td>\n",
       "      <td>0.155682</td>\n",
       "      <td>0.353918</td>\n",
       "      <td>0.227215</td>\n",
       "      <td>0.131068</td>\n",
       "      <td>0.267897</td>\n",
       "      <td>0.206574</td>\n",
       "      <td>0.168687</td>\n",
       "    </tr>\n",
       "    <tr>\n",
       "      <th>BTCUSDT</th>\n",
       "      <td>0.296819</td>\n",
       "      <td>1.000000</td>\n",
       "      <td>0.472576</td>\n",
       "      <td>0.703923</td>\n",
       "      <td>0.789990</td>\n",
       "      <td>0.152438</td>\n",
       "      <td>0.553044</td>\n",
       "      <td>0.595699</td>\n",
       "      <td>0.652302</td>\n",
       "    </tr>\n",
       "    <tr>\n",
       "      <th>JASMYUSDT</th>\n",
       "      <td>0.155682</td>\n",
       "      <td>0.472576</td>\n",
       "      <td>1.000000</td>\n",
       "      <td>0.455288</td>\n",
       "      <td>0.460712</td>\n",
       "      <td>0.234337</td>\n",
       "      <td>0.542665</td>\n",
       "      <td>0.438989</td>\n",
       "      <td>0.368489</td>\n",
       "    </tr>\n",
       "    <tr>\n",
       "      <th>SOLUSDT</th>\n",
       "      <td>0.353918</td>\n",
       "      <td>0.703923</td>\n",
       "      <td>0.455288</td>\n",
       "      <td>1.000000</td>\n",
       "      <td>0.652565</td>\n",
       "      <td>0.175370</td>\n",
       "      <td>0.547156</td>\n",
       "      <td>0.508522</td>\n",
       "      <td>0.540527</td>\n",
       "    </tr>\n",
       "    <tr>\n",
       "      <th>ETHUSDT</th>\n",
       "      <td>0.227215</td>\n",
       "      <td>0.789990</td>\n",
       "      <td>0.460712</td>\n",
       "      <td>0.652565</td>\n",
       "      <td>1.000000</td>\n",
       "      <td>0.124965</td>\n",
       "      <td>0.601027</td>\n",
       "      <td>0.583960</td>\n",
       "      <td>0.639510</td>\n",
       "    </tr>\n",
       "    <tr>\n",
       "      <th>TRXUSDT</th>\n",
       "      <td>0.131068</td>\n",
       "      <td>0.152438</td>\n",
       "      <td>0.234337</td>\n",
       "      <td>0.175370</td>\n",
       "      <td>0.124965</td>\n",
       "      <td>1.000000</td>\n",
       "      <td>0.131258</td>\n",
       "      <td>0.297331</td>\n",
       "      <td>0.095142</td>\n",
       "    </tr>\n",
       "    <tr>\n",
       "      <th>BBUSDT</th>\n",
       "      <td>0.267897</td>\n",
       "      <td>0.553044</td>\n",
       "      <td>0.542665</td>\n",
       "      <td>0.547156</td>\n",
       "      <td>0.601027</td>\n",
       "      <td>0.131258</td>\n",
       "      <td>1.000000</td>\n",
       "      <td>0.578080</td>\n",
       "      <td>0.470018</td>\n",
       "    </tr>\n",
       "    <tr>\n",
       "      <th>BNBUSDT</th>\n",
       "      <td>0.206574</td>\n",
       "      <td>0.595699</td>\n",
       "      <td>0.438989</td>\n",
       "      <td>0.508522</td>\n",
       "      <td>0.583960</td>\n",
       "      <td>0.297331</td>\n",
       "      <td>0.578080</td>\n",
       "      <td>1.000000</td>\n",
       "      <td>0.418946</td>\n",
       "    </tr>\n",
       "    <tr>\n",
       "      <th>PEPEUSDT</th>\n",
       "      <td>0.168687</td>\n",
       "      <td>0.652302</td>\n",
       "      <td>0.368489</td>\n",
       "      <td>0.540527</td>\n",
       "      <td>0.639510</td>\n",
       "      <td>0.095142</td>\n",
       "      <td>0.470018</td>\n",
       "      <td>0.418946</td>\n",
       "      <td>1.000000</td>\n",
       "    </tr>\n",
       "  </tbody>\n",
       "</table>\n",
       "</div>"
      ],
      "text/plain": [
       "             OMUSDT   BTCUSDT  JASMYUSDT   SOLUSDT   ETHUSDT   TRXUSDT  \\\n",
       "OMUSDT     1.000000  0.296819   0.155682  0.353918  0.227215  0.131068   \n",
       "BTCUSDT    0.296819  1.000000   0.472576  0.703923  0.789990  0.152438   \n",
       "JASMYUSDT  0.155682  0.472576   1.000000  0.455288  0.460712  0.234337   \n",
       "SOLUSDT    0.353918  0.703923   0.455288  1.000000  0.652565  0.175370   \n",
       "ETHUSDT    0.227215  0.789990   0.460712  0.652565  1.000000  0.124965   \n",
       "TRXUSDT    0.131068  0.152438   0.234337  0.175370  0.124965  1.000000   \n",
       "BBUSDT     0.267897  0.553044   0.542665  0.547156  0.601027  0.131258   \n",
       "BNBUSDT    0.206574  0.595699   0.438989  0.508522  0.583960  0.297331   \n",
       "PEPEUSDT   0.168687  0.652302   0.368489  0.540527  0.639510  0.095142   \n",
       "\n",
       "             BBUSDT   BNBUSDT  PEPEUSDT  \n",
       "OMUSDT     0.267897  0.206574  0.168687  \n",
       "BTCUSDT    0.553044  0.595699  0.652302  \n",
       "JASMYUSDT  0.542665  0.438989  0.368489  \n",
       "SOLUSDT    0.547156  0.508522  0.540527  \n",
       "ETHUSDT    0.601027  0.583960  0.639510  \n",
       "TRXUSDT    0.131258  0.297331  0.095142  \n",
       "BBUSDT     1.000000  0.578080  0.470018  \n",
       "BNBUSDT    0.578080  1.000000  0.418946  \n",
       "PEPEUSDT   0.470018  0.418946  1.000000  "
      ]
     },
     "execution_count": 104,
     "metadata": {},
     "output_type": "execute_result"
    }
   ],
   "source": [
    "ex_ante_perf.corr()"
   ]
  },
  {
   "cell_type": "code",
   "execution_count": 105,
   "id": "04526e9b-d92b-4d72-bc38-10e53ff5fd1c",
   "metadata": {},
   "outputs": [
    {
     "data": {
      "text/html": [
       "<div>\n",
       "<style scoped>\n",
       "    .dataframe tbody tr th:only-of-type {\n",
       "        vertical-align: middle;\n",
       "    }\n",
       "\n",
       "    .dataframe tbody tr th {\n",
       "        vertical-align: top;\n",
       "    }\n",
       "\n",
       "    .dataframe thead th {\n",
       "        text-align: right;\n",
       "    }\n",
       "</style>\n",
       "<table border=\"1\" class=\"dataframe\">\n",
       "  <thead>\n",
       "    <tr style=\"text-align: right;\">\n",
       "      <th></th>\n",
       "      <th>OMUSDT</th>\n",
       "      <th>BTCUSDT</th>\n",
       "      <th>JASMYUSDT</th>\n",
       "      <th>SOLUSDT</th>\n",
       "      <th>ETHUSDT</th>\n",
       "      <th>TRXUSDT</th>\n",
       "      <th>BBUSDT</th>\n",
       "      <th>BNBUSDT</th>\n",
       "      <th>PEPEUSDT</th>\n",
       "    </tr>\n",
       "  </thead>\n",
       "  <tbody>\n",
       "    <tr>\n",
       "      <th>OMUSDT</th>\n",
       "      <td>1.000000</td>\n",
       "      <td>-0.157553</td>\n",
       "      <td>0.440921</td>\n",
       "      <td>0.259953</td>\n",
       "      <td>-0.457411</td>\n",
       "      <td>0.744103</td>\n",
       "      <td>0.360369</td>\n",
       "      <td>0.388665</td>\n",
       "      <td>-0.338890</td>\n",
       "    </tr>\n",
       "    <tr>\n",
       "      <th>BTCUSDT</th>\n",
       "      <td>-0.157553</td>\n",
       "      <td>1.000000</td>\n",
       "      <td>-0.100200</td>\n",
       "      <td>0.652538</td>\n",
       "      <td>0.612306</td>\n",
       "      <td>-0.059129</td>\n",
       "      <td>0.321997</td>\n",
       "      <td>0.446053</td>\n",
       "      <td>0.631173</td>\n",
       "    </tr>\n",
       "    <tr>\n",
       "      <th>JASMYUSDT</th>\n",
       "      <td>0.440921</td>\n",
       "      <td>-0.100200</td>\n",
       "      <td>1.000000</td>\n",
       "      <td>0.503639</td>\n",
       "      <td>-0.220070</td>\n",
       "      <td>0.440103</td>\n",
       "      <td>0.156334</td>\n",
       "      <td>0.239541</td>\n",
       "      <td>-0.185728</td>\n",
       "    </tr>\n",
       "    <tr>\n",
       "      <th>SOLUSDT</th>\n",
       "      <td>0.259953</td>\n",
       "      <td>0.652538</td>\n",
       "      <td>0.503639</td>\n",
       "      <td>1.000000</td>\n",
       "      <td>0.216996</td>\n",
       "      <td>0.389559</td>\n",
       "      <td>0.442557</td>\n",
       "      <td>0.570550</td>\n",
       "      <td>0.463647</td>\n",
       "    </tr>\n",
       "    <tr>\n",
       "      <th>ETHUSDT</th>\n",
       "      <td>-0.457411</td>\n",
       "      <td>0.612306</td>\n",
       "      <td>-0.220070</td>\n",
       "      <td>0.216996</td>\n",
       "      <td>1.000000</td>\n",
       "      <td>-0.254771</td>\n",
       "      <td>0.300027</td>\n",
       "      <td>0.206012</td>\n",
       "      <td>0.402378</td>\n",
       "    </tr>\n",
       "    <tr>\n",
       "      <th>TRXUSDT</th>\n",
       "      <td>0.744103</td>\n",
       "      <td>-0.059129</td>\n",
       "      <td>0.440103</td>\n",
       "      <td>0.389559</td>\n",
       "      <td>-0.254771</td>\n",
       "      <td>1.000000</td>\n",
       "      <td>0.520637</td>\n",
       "      <td>0.767323</td>\n",
       "      <td>-0.182147</td>\n",
       "    </tr>\n",
       "    <tr>\n",
       "      <th>BBUSDT</th>\n",
       "      <td>0.360369</td>\n",
       "      <td>0.321997</td>\n",
       "      <td>0.156334</td>\n",
       "      <td>0.442557</td>\n",
       "      <td>0.300027</td>\n",
       "      <td>0.520637</td>\n",
       "      <td>1.000000</td>\n",
       "      <td>0.632753</td>\n",
       "      <td>-0.030872</td>\n",
       "    </tr>\n",
       "    <tr>\n",
       "      <th>BNBUSDT</th>\n",
       "      <td>0.388665</td>\n",
       "      <td>0.446053</td>\n",
       "      <td>0.239541</td>\n",
       "      <td>0.570550</td>\n",
       "      <td>0.206012</td>\n",
       "      <td>0.767323</td>\n",
       "      <td>0.632753</td>\n",
       "      <td>1.000000</td>\n",
       "      <td>0.324006</td>\n",
       "    </tr>\n",
       "    <tr>\n",
       "      <th>PEPEUSDT</th>\n",
       "      <td>-0.338890</td>\n",
       "      <td>0.631173</td>\n",
       "      <td>-0.185728</td>\n",
       "      <td>0.463647</td>\n",
       "      <td>0.402378</td>\n",
       "      <td>-0.182147</td>\n",
       "      <td>-0.030872</td>\n",
       "      <td>0.324006</td>\n",
       "      <td>1.000000</td>\n",
       "    </tr>\n",
       "  </tbody>\n",
       "</table>\n",
       "</div>"
      ],
      "text/plain": [
       "             OMUSDT   BTCUSDT  JASMYUSDT   SOLUSDT   ETHUSDT   TRXUSDT  \\\n",
       "OMUSDT     1.000000 -0.157553   0.440921  0.259953 -0.457411  0.744103   \n",
       "BTCUSDT   -0.157553  1.000000  -0.100200  0.652538  0.612306 -0.059129   \n",
       "JASMYUSDT  0.440921 -0.100200   1.000000  0.503639 -0.220070  0.440103   \n",
       "SOLUSDT    0.259953  0.652538   0.503639  1.000000  0.216996  0.389559   \n",
       "ETHUSDT   -0.457411  0.612306  -0.220070  0.216996  1.000000 -0.254771   \n",
       "TRXUSDT    0.744103 -0.059129   0.440103  0.389559 -0.254771  1.000000   \n",
       "BBUSDT     0.360369  0.321997   0.156334  0.442557  0.300027  0.520637   \n",
       "BNBUSDT    0.388665  0.446053   0.239541  0.570550  0.206012  0.767323   \n",
       "PEPEUSDT  -0.338890  0.631173  -0.185728  0.463647  0.402378 -0.182147   \n",
       "\n",
       "             BBUSDT   BNBUSDT  PEPEUSDT  \n",
       "OMUSDT     0.360369  0.388665 -0.338890  \n",
       "BTCUSDT    0.321997  0.446053  0.631173  \n",
       "JASMYUSDT  0.156334  0.239541 -0.185728  \n",
       "SOLUSDT    0.442557  0.570550  0.463647  \n",
       "ETHUSDT    0.300027  0.206012  0.402378  \n",
       "TRXUSDT    0.520637  0.767323 -0.182147  \n",
       "BBUSDT     1.000000  0.632753 -0.030872  \n",
       "BNBUSDT    0.632753  1.000000  0.324006  \n",
       "PEPEUSDT  -0.030872  0.324006  1.000000  "
      ]
     },
     "execution_count": 105,
     "metadata": {},
     "output_type": "execute_result"
    }
   ],
   "source": [
    "ex_ante_perf.iloc[-15:].corr()"
   ]
  },
  {
   "cell_type": "markdown",
   "id": "9f7ba2ce-b159-4322-bfb9-a9f6874cda5e",
   "metadata": {},
   "source": [
    "## Sliding window optimization"
   ]
  },
  {
   "cell_type": "code",
   "execution_count": 106,
   "id": "182eaabf-5686-48d5-8c2e-9414607b541a",
   "metadata": {},
   "outputs": [
    {
     "data": {
      "text/html": [
       "<div>\n",
       "<style scoped>\n",
       "    .dataframe tbody tr th:only-of-type {\n",
       "        vertical-align: middle;\n",
       "    }\n",
       "\n",
       "    .dataframe tbody tr th {\n",
       "        vertical-align: top;\n",
       "    }\n",
       "\n",
       "    .dataframe thead th {\n",
       "        text-align: right;\n",
       "    }\n",
       "</style>\n",
       "<table border=\"1\" class=\"dataframe\">\n",
       "  <thead>\n",
       "    <tr style=\"text-align: right;\">\n",
       "      <th></th>\n",
       "      <th>OMUSDT</th>\n",
       "      <th>BTCUSDT</th>\n",
       "      <th>JASMYUSDT</th>\n",
       "      <th>SOLUSDT</th>\n",
       "      <th>ETHUSDT</th>\n",
       "      <th>TRXUSDT</th>\n",
       "      <th>BBUSDT</th>\n",
       "      <th>BNBUSDT</th>\n",
       "      <th>PEPEUSDT</th>\n",
       "    </tr>\n",
       "  </thead>\n",
       "  <tbody>\n",
       "    <tr>\n",
       "      <th>2024-05-27</th>\n",
       "      <td>0.000000</td>\n",
       "      <td>0.000000</td>\n",
       "      <td>0.621968</td>\n",
       "      <td>0.000000</td>\n",
       "      <td>0.000000</td>\n",
       "      <td>0.000000</td>\n",
       "      <td>0.00000</td>\n",
       "      <td>0.000000</td>\n",
       "      <td>0.378032</td>\n",
       "    </tr>\n",
       "    <tr>\n",
       "      <th>2024-06-10</th>\n",
       "      <td>0.625939</td>\n",
       "      <td>0.000000</td>\n",
       "      <td>0.150852</td>\n",
       "      <td>0.000000</td>\n",
       "      <td>0.000000</td>\n",
       "      <td>0.223209</td>\n",
       "      <td>0.00000</td>\n",
       "      <td>0.000000</td>\n",
       "      <td>0.000000</td>\n",
       "    </tr>\n",
       "    <tr>\n",
       "      <th>2024-06-24</th>\n",
       "      <td>0.000000</td>\n",
       "      <td>0.000000</td>\n",
       "      <td>0.000000</td>\n",
       "      <td>0.000000</td>\n",
       "      <td>0.000000</td>\n",
       "      <td>1.000000</td>\n",
       "      <td>0.00000</td>\n",
       "      <td>0.000000</td>\n",
       "      <td>0.000000</td>\n",
       "    </tr>\n",
       "    <tr>\n",
       "      <th>2024-07-08</th>\n",
       "      <td>0.182528</td>\n",
       "      <td>0.000000</td>\n",
       "      <td>0.000000</td>\n",
       "      <td>0.000000</td>\n",
       "      <td>0.000000</td>\n",
       "      <td>0.817472</td>\n",
       "      <td>0.00000</td>\n",
       "      <td>0.000000</td>\n",
       "      <td>0.000000</td>\n",
       "    </tr>\n",
       "    <tr>\n",
       "      <th>2024-07-22</th>\n",
       "      <td>0.133242</td>\n",
       "      <td>0.414563</td>\n",
       "      <td>0.000000</td>\n",
       "      <td>0.112009</td>\n",
       "      <td>0.000000</td>\n",
       "      <td>0.340186</td>\n",
       "      <td>0.00000</td>\n",
       "      <td>0.000000</td>\n",
       "      <td>0.000000</td>\n",
       "    </tr>\n",
       "    <tr>\n",
       "      <th>2024-08-05</th>\n",
       "      <td>0.000000</td>\n",
       "      <td>0.000000</td>\n",
       "      <td>1.000000</td>\n",
       "      <td>0.000000</td>\n",
       "      <td>0.000000</td>\n",
       "      <td>0.000000</td>\n",
       "      <td>0.00000</td>\n",
       "      <td>0.000000</td>\n",
       "      <td>0.000000</td>\n",
       "    </tr>\n",
       "    <tr>\n",
       "      <th>2024-08-19</th>\n",
       "      <td>0.000000</td>\n",
       "      <td>0.000000</td>\n",
       "      <td>0.000000</td>\n",
       "      <td>0.000000</td>\n",
       "      <td>0.000000</td>\n",
       "      <td>0.926694</td>\n",
       "      <td>0.00000</td>\n",
       "      <td>0.073306</td>\n",
       "      <td>0.000000</td>\n",
       "    </tr>\n",
       "    <tr>\n",
       "      <th>2024-09-02</th>\n",
       "      <td>0.435138</td>\n",
       "      <td>0.000000</td>\n",
       "      <td>0.000000</td>\n",
       "      <td>0.000000</td>\n",
       "      <td>0.000000</td>\n",
       "      <td>0.564862</td>\n",
       "      <td>0.00000</td>\n",
       "      <td>0.000000</td>\n",
       "      <td>0.000000</td>\n",
       "    </tr>\n",
       "    <tr>\n",
       "      <th>2024-09-16</th>\n",
       "      <td>0.287440</td>\n",
       "      <td>0.000000</td>\n",
       "      <td>0.000000</td>\n",
       "      <td>0.000000</td>\n",
       "      <td>0.000000</td>\n",
       "      <td>0.000000</td>\n",
       "      <td>0.71256</td>\n",
       "      <td>0.000000</td>\n",
       "      <td>0.000000</td>\n",
       "    </tr>\n",
       "    <tr>\n",
       "      <th>2024-09-30</th>\n",
       "      <td>0.176666</td>\n",
       "      <td>0.000000</td>\n",
       "      <td>0.000000</td>\n",
       "      <td>0.000000</td>\n",
       "      <td>0.165949</td>\n",
       "      <td>0.527049</td>\n",
       "      <td>0.00000</td>\n",
       "      <td>0.000000</td>\n",
       "      <td>0.130336</td>\n",
       "    </tr>\n",
       "    <tr>\n",
       "      <th>2024-10-14</th>\n",
       "      <td>0.527983</td>\n",
       "      <td>0.000000</td>\n",
       "      <td>0.000000</td>\n",
       "      <td>0.000000</td>\n",
       "      <td>0.000000</td>\n",
       "      <td>0.472017</td>\n",
       "      <td>0.00000</td>\n",
       "      <td>0.000000</td>\n",
       "      <td>0.000000</td>\n",
       "    </tr>\n",
       "    <tr>\n",
       "      <th>2024-10-28</th>\n",
       "      <td>0.000000</td>\n",
       "      <td>0.531929</td>\n",
       "      <td>0.000000</td>\n",
       "      <td>0.270038</td>\n",
       "      <td>0.000000</td>\n",
       "      <td>0.198033</td>\n",
       "      <td>0.00000</td>\n",
       "      <td>0.000000</td>\n",
       "      <td>0.000000</td>\n",
       "    </tr>\n",
       "    <tr>\n",
       "      <th>2024-11-11</th>\n",
       "      <td>0.000000</td>\n",
       "      <td>0.510214</td>\n",
       "      <td>0.000000</td>\n",
       "      <td>0.000000</td>\n",
       "      <td>0.489786</td>\n",
       "      <td>0.000000</td>\n",
       "      <td>0.00000</td>\n",
       "      <td>0.000000</td>\n",
       "      <td>0.000000</td>\n",
       "    </tr>\n",
       "    <tr>\n",
       "      <th>2024-11-25</th>\n",
       "      <td>0.187622</td>\n",
       "      <td>0.000000</td>\n",
       "      <td>0.051247</td>\n",
       "      <td>0.000000</td>\n",
       "      <td>0.267287</td>\n",
       "      <td>0.289643</td>\n",
       "      <td>0.00000</td>\n",
       "      <td>0.000000</td>\n",
       "      <td>0.204201</td>\n",
       "    </tr>\n",
       "  </tbody>\n",
       "</table>\n",
       "</div>"
      ],
      "text/plain": [
       "              OMUSDT   BTCUSDT  JASMYUSDT   SOLUSDT   ETHUSDT   TRXUSDT  \\\n",
       "2024-05-27  0.000000  0.000000   0.621968  0.000000  0.000000  0.000000   \n",
       "2024-06-10  0.625939  0.000000   0.150852  0.000000  0.000000  0.223209   \n",
       "2024-06-24  0.000000  0.000000   0.000000  0.000000  0.000000  1.000000   \n",
       "2024-07-08  0.182528  0.000000   0.000000  0.000000  0.000000  0.817472   \n",
       "2024-07-22  0.133242  0.414563   0.000000  0.112009  0.000000  0.340186   \n",
       "2024-08-05  0.000000  0.000000   1.000000  0.000000  0.000000  0.000000   \n",
       "2024-08-19  0.000000  0.000000   0.000000  0.000000  0.000000  0.926694   \n",
       "2024-09-02  0.435138  0.000000   0.000000  0.000000  0.000000  0.564862   \n",
       "2024-09-16  0.287440  0.000000   0.000000  0.000000  0.000000  0.000000   \n",
       "2024-09-30  0.176666  0.000000   0.000000  0.000000  0.165949  0.527049   \n",
       "2024-10-14  0.527983  0.000000   0.000000  0.000000  0.000000  0.472017   \n",
       "2024-10-28  0.000000  0.531929   0.000000  0.270038  0.000000  0.198033   \n",
       "2024-11-11  0.000000  0.510214   0.000000  0.000000  0.489786  0.000000   \n",
       "2024-11-25  0.187622  0.000000   0.051247  0.000000  0.267287  0.289643   \n",
       "\n",
       "             BBUSDT   BNBUSDT  PEPEUSDT  \n",
       "2024-05-27  0.00000  0.000000  0.378032  \n",
       "2024-06-10  0.00000  0.000000  0.000000  \n",
       "2024-06-24  0.00000  0.000000  0.000000  \n",
       "2024-07-08  0.00000  0.000000  0.000000  \n",
       "2024-07-22  0.00000  0.000000  0.000000  \n",
       "2024-08-05  0.00000  0.000000  0.000000  \n",
       "2024-08-19  0.00000  0.073306  0.000000  \n",
       "2024-09-02  0.00000  0.000000  0.000000  \n",
       "2024-09-16  0.71256  0.000000  0.000000  \n",
       "2024-09-30  0.00000  0.000000  0.130336  \n",
       "2024-10-14  0.00000  0.000000  0.000000  \n",
       "2024-10-28  0.00000  0.000000  0.000000  \n",
       "2024-11-11  0.00000  0.000000  0.000000  \n",
       "2024-11-25  0.00000  0.000000  0.204201  "
      ]
     },
     "execution_count": 106,
     "metadata": {},
     "output_type": "execute_result"
    }
   ],
   "source": [
    "results={}\n",
    "window=14\n",
    "\n",
    "for i in range(0,ex_ante_perf_to_use.shape[0]-window+1,window):\n",
    "    \n",
    "    try:\n",
    "        dataset=ex_ante_perf_to_use.iloc[i:i+window]\n",
    "        risk=RiskAnalysis(dataset)\n",
    "        date=dataset.index[-1]\n",
    "        optimal=risk.optimize(objective='sharpe_ratio')     \n",
    "        results[date]=np.round(optimal,6)\n",
    "        \n",
    "    except Exception as e:\n",
    "        \n",
    "            pass\n",
    "\n",
    "rolling_optimization=pd.DataFrame(results,index=ex_ante_perf_to_use.columns).T\n",
    "rolling_optimization"
   ]
  },
  {
   "cell_type": "code",
   "execution_count": 107,
   "id": "594813b8-0e53-447b-93bd-223ae34ffd1e",
   "metadata": {},
   "outputs": [
    {
     "data": {
      "text/html": [
       "<div>\n",
       "<style scoped>\n",
       "    .dataframe tbody tr th:only-of-type {\n",
       "        vertical-align: middle;\n",
       "    }\n",
       "\n",
       "    .dataframe tbody tr th {\n",
       "        vertical-align: top;\n",
       "    }\n",
       "\n",
       "    .dataframe thead th {\n",
       "        text-align: right;\n",
       "    }\n",
       "</style>\n",
       "<table border=\"1\" class=\"dataframe\">\n",
       "  <thead>\n",
       "    <tr style=\"text-align: right;\">\n",
       "      <th></th>\n",
       "      <th>AAVEUSDT</th>\n",
       "      <th>ADAUSDT</th>\n",
       "      <th>ALGOUSDT</th>\n",
       "      <th>APTUSDT</th>\n",
       "      <th>ARBUSDT</th>\n",
       "      <th>ARUSDT</th>\n",
       "      <th>ATOMUSDT</th>\n",
       "      <th>AVAXUSDT</th>\n",
       "      <th>BCHUSDT</th>\n",
       "      <th>BNBUSDT</th>\n",
       "      <th>...</th>\n",
       "      <th>TRXUSDT</th>\n",
       "      <th>UNIUSDT</th>\n",
       "      <th>USDCUSDT</th>\n",
       "      <th>VETUSDT</th>\n",
       "      <th>WBETHUSDT</th>\n",
       "      <th>WBTCUSDT</th>\n",
       "      <th>WLDUSDT</th>\n",
       "      <th>XLMUSDT</th>\n",
       "      <th>XRPUSDT</th>\n",
       "      <th>XTZUSDT</th>\n",
       "    </tr>\n",
       "  </thead>\n",
       "  <tbody>\n",
       "    <tr>\n",
       "      <th>2024-05-02</th>\n",
       "      <td>0.000000</td>\n",
       "      <td>0.000000</td>\n",
       "      <td>0.000000</td>\n",
       "      <td>0.000000</td>\n",
       "      <td>0.000000</td>\n",
       "      <td>0.0</td>\n",
       "      <td>0.000000</td>\n",
       "      <td>0.0</td>\n",
       "      <td>0.0</td>\n",
       "      <td>0.0</td>\n",
       "      <td>...</td>\n",
       "      <td>1.000000</td>\n",
       "      <td>0.000000</td>\n",
       "      <td>0.0</td>\n",
       "      <td>0.0</td>\n",
       "      <td>0.0</td>\n",
       "      <td>0.0</td>\n",
       "      <td>0.000000</td>\n",
       "      <td>0.000000</td>\n",
       "      <td>0.000000</td>\n",
       "      <td>0.000000</td>\n",
       "    </tr>\n",
       "    <tr>\n",
       "      <th>2024-06-01</th>\n",
       "      <td>0.000000</td>\n",
       "      <td>0.000000</td>\n",
       "      <td>0.000000</td>\n",
       "      <td>0.000000</td>\n",
       "      <td>0.000000</td>\n",
       "      <td>0.0</td>\n",
       "      <td>0.000000</td>\n",
       "      <td>0.0</td>\n",
       "      <td>0.0</td>\n",
       "      <td>0.0</td>\n",
       "      <td>...</td>\n",
       "      <td>0.000000</td>\n",
       "      <td>0.000000</td>\n",
       "      <td>0.0</td>\n",
       "      <td>0.0</td>\n",
       "      <td>0.0</td>\n",
       "      <td>0.0</td>\n",
       "      <td>0.000000</td>\n",
       "      <td>0.000000</td>\n",
       "      <td>0.000000</td>\n",
       "      <td>0.000000</td>\n",
       "    </tr>\n",
       "    <tr>\n",
       "      <th>2024-07-01</th>\n",
       "      <td>0.000000</td>\n",
       "      <td>0.000000</td>\n",
       "      <td>0.000000</td>\n",
       "      <td>0.000000</td>\n",
       "      <td>0.000000</td>\n",
       "      <td>0.0</td>\n",
       "      <td>0.000000</td>\n",
       "      <td>0.0</td>\n",
       "      <td>0.0</td>\n",
       "      <td>0.0</td>\n",
       "      <td>...</td>\n",
       "      <td>0.285625</td>\n",
       "      <td>0.000000</td>\n",
       "      <td>0.0</td>\n",
       "      <td>0.0</td>\n",
       "      <td>0.0</td>\n",
       "      <td>0.0</td>\n",
       "      <td>0.000000</td>\n",
       "      <td>0.000000</td>\n",
       "      <td>0.000000</td>\n",
       "      <td>0.000000</td>\n",
       "    </tr>\n",
       "    <tr>\n",
       "      <th>2024-07-31</th>\n",
       "      <td>0.000000</td>\n",
       "      <td>0.000000</td>\n",
       "      <td>0.000000</td>\n",
       "      <td>0.000000</td>\n",
       "      <td>0.000000</td>\n",
       "      <td>0.0</td>\n",
       "      <td>0.000000</td>\n",
       "      <td>0.0</td>\n",
       "      <td>0.0</td>\n",
       "      <td>0.0</td>\n",
       "      <td>...</td>\n",
       "      <td>0.000000</td>\n",
       "      <td>0.000000</td>\n",
       "      <td>0.0</td>\n",
       "      <td>0.0</td>\n",
       "      <td>0.0</td>\n",
       "      <td>0.0</td>\n",
       "      <td>0.000000</td>\n",
       "      <td>0.000000</td>\n",
       "      <td>0.632693</td>\n",
       "      <td>0.000000</td>\n",
       "    </tr>\n",
       "    <tr>\n",
       "      <th>2024-08-30</th>\n",
       "      <td>0.123891</td>\n",
       "      <td>0.000000</td>\n",
       "      <td>0.000000</td>\n",
       "      <td>0.000000</td>\n",
       "      <td>0.000000</td>\n",
       "      <td>0.0</td>\n",
       "      <td>0.000000</td>\n",
       "      <td>0.0</td>\n",
       "      <td>0.0</td>\n",
       "      <td>0.0</td>\n",
       "      <td>...</td>\n",
       "      <td>0.876109</td>\n",
       "      <td>0.000000</td>\n",
       "      <td>0.0</td>\n",
       "      <td>0.0</td>\n",
       "      <td>0.0</td>\n",
       "      <td>0.0</td>\n",
       "      <td>0.000000</td>\n",
       "      <td>0.000000</td>\n",
       "      <td>0.000000</td>\n",
       "      <td>0.000000</td>\n",
       "    </tr>\n",
       "    <tr>\n",
       "      <th>2024-09-29</th>\n",
       "      <td>0.000000</td>\n",
       "      <td>0.000000</td>\n",
       "      <td>0.000000</td>\n",
       "      <td>0.000000</td>\n",
       "      <td>0.000000</td>\n",
       "      <td>0.0</td>\n",
       "      <td>0.000000</td>\n",
       "      <td>0.0</td>\n",
       "      <td>0.0</td>\n",
       "      <td>0.0</td>\n",
       "      <td>...</td>\n",
       "      <td>0.000000</td>\n",
       "      <td>0.000000</td>\n",
       "      <td>0.0</td>\n",
       "      <td>0.0</td>\n",
       "      <td>0.0</td>\n",
       "      <td>0.0</td>\n",
       "      <td>0.000000</td>\n",
       "      <td>0.000000</td>\n",
       "      <td>0.049882</td>\n",
       "      <td>0.000000</td>\n",
       "    </tr>\n",
       "    <tr>\n",
       "      <th>2024-10-29</th>\n",
       "      <td>0.000000</td>\n",
       "      <td>0.000000</td>\n",
       "      <td>0.000000</td>\n",
       "      <td>0.000000</td>\n",
       "      <td>0.000000</td>\n",
       "      <td>0.0</td>\n",
       "      <td>0.000000</td>\n",
       "      <td>0.0</td>\n",
       "      <td>0.0</td>\n",
       "      <td>0.0</td>\n",
       "      <td>...</td>\n",
       "      <td>0.613699</td>\n",
       "      <td>0.000000</td>\n",
       "      <td>0.0</td>\n",
       "      <td>0.0</td>\n",
       "      <td>0.0</td>\n",
       "      <td>0.0</td>\n",
       "      <td>0.000000</td>\n",
       "      <td>0.000000</td>\n",
       "      <td>0.000000</td>\n",
       "      <td>0.000000</td>\n",
       "    </tr>\n",
       "    <tr>\n",
       "      <th>2024-11-28</th>\n",
       "      <td>0.000000</td>\n",
       "      <td>0.192009</td>\n",
       "      <td>0.000000</td>\n",
       "      <td>0.000000</td>\n",
       "      <td>0.000000</td>\n",
       "      <td>0.0</td>\n",
       "      <td>0.000000</td>\n",
       "      <td>0.0</td>\n",
       "      <td>0.0</td>\n",
       "      <td>0.0</td>\n",
       "      <td>...</td>\n",
       "      <td>0.000000</td>\n",
       "      <td>0.000000</td>\n",
       "      <td>0.0</td>\n",
       "      <td>0.0</td>\n",
       "      <td>0.0</td>\n",
       "      <td>0.0</td>\n",
       "      <td>0.000000</td>\n",
       "      <td>0.113045</td>\n",
       "      <td>0.221918</td>\n",
       "      <td>0.000000</td>\n",
       "    </tr>\n",
       "    <tr>\n",
       "      <th>2024-12-08</th>\n",
       "      <td>0.000000</td>\n",
       "      <td>0.018073</td>\n",
       "      <td>0.000029</td>\n",
       "      <td>0.000003</td>\n",
       "      <td>0.008973</td>\n",
       "      <td>0.0</td>\n",
       "      <td>0.000005</td>\n",
       "      <td>0.0</td>\n",
       "      <td>0.0</td>\n",
       "      <td>0.0</td>\n",
       "      <td>...</td>\n",
       "      <td>0.000036</td>\n",
       "      <td>0.000001</td>\n",
       "      <td>0.0</td>\n",
       "      <td>0.0</td>\n",
       "      <td>0.0</td>\n",
       "      <td>0.0</td>\n",
       "      <td>0.001615</td>\n",
       "      <td>0.000013</td>\n",
       "      <td>0.000006</td>\n",
       "      <td>0.000086</td>\n",
       "    </tr>\n",
       "  </tbody>\n",
       "</table>\n",
       "<p>9 rows × 63 columns</p>\n",
       "</div>"
      ],
      "text/plain": [
       "            AAVEUSDT   ADAUSDT  ALGOUSDT   APTUSDT   ARBUSDT  ARUSDT  \\\n",
       "2024-05-02  0.000000  0.000000  0.000000  0.000000  0.000000     0.0   \n",
       "2024-06-01  0.000000  0.000000  0.000000  0.000000  0.000000     0.0   \n",
       "2024-07-01  0.000000  0.000000  0.000000  0.000000  0.000000     0.0   \n",
       "2024-07-31  0.000000  0.000000  0.000000  0.000000  0.000000     0.0   \n",
       "2024-08-30  0.123891  0.000000  0.000000  0.000000  0.000000     0.0   \n",
       "2024-09-29  0.000000  0.000000  0.000000  0.000000  0.000000     0.0   \n",
       "2024-10-29  0.000000  0.000000  0.000000  0.000000  0.000000     0.0   \n",
       "2024-11-28  0.000000  0.192009  0.000000  0.000000  0.000000     0.0   \n",
       "2024-12-08  0.000000  0.018073  0.000029  0.000003  0.008973     0.0   \n",
       "\n",
       "            ATOMUSDT  AVAXUSDT  BCHUSDT  BNBUSDT  ...   TRXUSDT   UNIUSDT  \\\n",
       "2024-05-02  0.000000       0.0      0.0      0.0  ...  1.000000  0.000000   \n",
       "2024-06-01  0.000000       0.0      0.0      0.0  ...  0.000000  0.000000   \n",
       "2024-07-01  0.000000       0.0      0.0      0.0  ...  0.285625  0.000000   \n",
       "2024-07-31  0.000000       0.0      0.0      0.0  ...  0.000000  0.000000   \n",
       "2024-08-30  0.000000       0.0      0.0      0.0  ...  0.876109  0.000000   \n",
       "2024-09-29  0.000000       0.0      0.0      0.0  ...  0.000000  0.000000   \n",
       "2024-10-29  0.000000       0.0      0.0      0.0  ...  0.613699  0.000000   \n",
       "2024-11-28  0.000000       0.0      0.0      0.0  ...  0.000000  0.000000   \n",
       "2024-12-08  0.000005       0.0      0.0      0.0  ...  0.000036  0.000001   \n",
       "\n",
       "            USDCUSDT  VETUSDT  WBETHUSDT  WBTCUSDT   WLDUSDT   XLMUSDT  \\\n",
       "2024-05-02       0.0      0.0        0.0       0.0  0.000000  0.000000   \n",
       "2024-06-01       0.0      0.0        0.0       0.0  0.000000  0.000000   \n",
       "2024-07-01       0.0      0.0        0.0       0.0  0.000000  0.000000   \n",
       "2024-07-31       0.0      0.0        0.0       0.0  0.000000  0.000000   \n",
       "2024-08-30       0.0      0.0        0.0       0.0  0.000000  0.000000   \n",
       "2024-09-29       0.0      0.0        0.0       0.0  0.000000  0.000000   \n",
       "2024-10-29       0.0      0.0        0.0       0.0  0.000000  0.000000   \n",
       "2024-11-28       0.0      0.0        0.0       0.0  0.000000  0.113045   \n",
       "2024-12-08       0.0      0.0        0.0       0.0  0.001615  0.000013   \n",
       "\n",
       "             XRPUSDT   XTZUSDT  \n",
       "2024-05-02  0.000000  0.000000  \n",
       "2024-06-01  0.000000  0.000000  \n",
       "2024-07-01  0.000000  0.000000  \n",
       "2024-07-31  0.632693  0.000000  \n",
       "2024-08-30  0.000000  0.000000  \n",
       "2024-09-29  0.049882  0.000000  \n",
       "2024-10-29  0.000000  0.000000  \n",
       "2024-11-28  0.221918  0.000000  \n",
       "2024-12-08  0.000006  0.000086  \n",
       "\n",
       "[9 rows x 63 columns]"
      ]
     },
     "execution_count": 107,
     "metadata": {},
     "output_type": "execute_result"
    }
   ],
   "source": [
    "results={}\n",
    "window=30\n",
    "days=250\n",
    "limit=np.where(returns_to_use.columns=='USDCUSDT')[0][0]\n",
    "\n",
    "for i in range(0,returns_to_use.shape[0]-window+1,window):\n",
    "    \n",
    "    try:\n",
    "        dataset=returns_to_use.iloc[-days:].iloc[i:i+window]\n",
    "        risk=RiskAnalysis(dataset)\n",
    "        date=dataset.index[-1]\n",
    "        optimal=risk.optimize(objective='sharpe_ratio',constraints=[{'type': 'eq', 'fun': lambda weights: weights[limit]-0.0}])\n",
    "        results[date]=np.round(optimal,6)\n",
    "        \n",
    "    except Exception as e:\n",
    "        \n",
    "            pass\n",
    "\n",
    "rolling_optimization=pd.DataFrame(results,index=returns_to_use.columns).T\n",
    "rolling_optimization"
   ]
  },
  {
   "cell_type": "code",
   "execution_count": 108,
   "id": "e211929c-6a1c-4c48-ada3-529d861494f8",
   "metadata": {},
   "outputs": [
    {
     "data": {
      "text/plain": [
       "FDUSDUSDT    0.892283\n",
       "SUIUSDT      0.024228\n",
       "ADAUSDT      0.018073\n",
       "FTMUSDT      0.016530\n",
       "FLOKIUSDT    0.012488\n",
       "               ...   \n",
       "BNBUSDT      0.000000\n",
       "BCHUSDT      0.000000\n",
       "AVAXUSDT     0.000000\n",
       "ARUSDT       0.000000\n",
       "INJUSDT      0.000000\n",
       "Name: 2024-12-08 00:00:00, Length: 63, dtype: float64"
      ]
     },
     "execution_count": 108,
     "metadata": {},
     "output_type": "execute_result"
    }
   ],
   "source": [
    "rolling_optimization.iloc[-1].sort_values(ascending=False)"
   ]
  },
  {
   "cell_type": "code",
   "execution_count": 109,
   "id": "d8f5cd52-96b0-4914-a369-5d73cb175951",
   "metadata": {},
   "outputs": [
    {
     "data": {
      "text/plain": [
       "<AxesSubplot:>"
      ]
     },
     "execution_count": 109,
     "metadata": {},
     "output_type": "execute_result"
    },
    {
     "data": {
      "image/png": "[encoded data removed]",
      "text/plain": [
       "<Figure size 432x288 with 1 Axes>"
      ]
     },
     "metadata": {
      "needs_background": "light"
     },
     "output_type": "display_data"
    }
   ],
   "source": [
    "(1+returns_to_use['SUIUSDT']).cumprod().plot()"
   ]
  }
 ],
 "metadata": {
  "kernelspec": {
   "display_name": "Python 3 (ipykernel)",
   "language": "python",
   "name": "python3"
  },
  "language_info": {
   "codemirror_mode": {
    "name": "ipython",
    "version": 3
   },
   "file_extension": ".py",
   "mimetype": "text/x-python",
   "name": "python",
   "nbconvert_exporter": "python",
   "pygments_lexer": "ipython3",
   "version": "3.9.12"
  }
 },
 "nbformat": 4,
 "nbformat_minor": 5
}
