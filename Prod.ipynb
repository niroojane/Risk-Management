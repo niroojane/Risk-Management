{
 "cells": [
  {
   "cell_type": "markdown",
   "id": "b37f1921-36ab-4456-9e86-117c39f91bc4",
   "metadata": {},
   "source": [
    "# Importing Libraries"
   ]
  },
  {
   "cell_type": "code",
   "execution_count": 1,
   "id": "1955d1de-ae34-4125-91ad-53073b1837d5",
   "metadata": {},
   "outputs": [],
   "source": [
    "import pandas as pd\n",
    "import random\n",
    "import numpy as np\n",
    "import matplotlib.pyplot as plt\n",
    "import datetime\n",
    "import seaborn as sns"
   ]
  },
  {
   "cell_type": "code",
   "execution_count": 2,
   "id": "917dd650-def2-4d10-89d9-ca82b6a3704f",
   "metadata": {},
   "outputs": [],
   "source": [
    "%run \"Stock Data.ipynb\".ipynb\n",
    "%run \"Binance API.ipynb\".ipynb\n",
    "%run \"RiskMetrics.ipynb\".ipynb"
   ]
  },
  {
   "cell_type": "markdown",
   "id": "01a00d22-d2b2-4f90-97d6-a7a3f8ef242f",
   "metadata": {},
   "source": [
    "# Importing Data"
   ]
  },
  {
   "cell_type": "markdown",
   "id": "0af29f5a-4c7d-44b2-8ecc-6d859cdc6983",
   "metadata": {},
   "source": [
    "## Tickers"
   ]
  },
  {
   "cell_type": "code",
   "execution_count": 3,
   "id": "306574f4-a153-47cd-a4b3-e293d9e9889f",
   "metadata": {},
   "outputs": [],
   "source": [
    "binance_api_key='E90xR7UnO2oeP3lrgC50zkqUuAqyyXs4uSlAGcqIVO9n90ELrFI4gfVI2HGGxxCj'\n",
    "binance_api_secret='Inls2xYl9FqPi0zlIrucfxG81drx7w6Pv6SzYFxMNoAcwDjlCKug7zUM9zB3lF9h'\n",
    "Binance=BinanceAPI(binance_api_key,binance_api_secret)"
   ]
  },
  {
   "cell_type": "code",
   "execution_count": 4,
   "id": "0f1c0e61-395a-407c-9aef-80d5011e56b5",
   "metadata": {},
   "outputs": [],
   "source": [
    "#stocks=pd.read_html('https://en.wikipedia.org/wiki/EURO_STOXX_50')[4]\n",
    "#tickers=stocks['Ticker'].to_list()"
   ]
  },
  {
   "cell_type": "markdown",
   "id": "c33884b2-73bc-4e92-8c5b-09559b34051d",
   "metadata": {},
   "source": [
    "## Market Data"
   ]
  },
  {
   "cell_type": "code",
   "execution_count": 5,
   "id": "b5919bc8-fde2-4e6f-871d-2eed8341c8ae",
   "metadata": {},
   "outputs": [],
   "source": [
    "start_date=datetime.datetime(2023,12,1)\n",
    "enddate=start_date+datetime.timedelta(500)"
   ]
  },
  {
   "cell_type": "code",
   "execution_count": 6,
   "id": "53f4457b-62b7-4e47-87cd-357488c03b34",
   "metadata": {},
   "outputs": [],
   "source": [
    "book_cost=pd.read_excel(\"Book Cost.xlsx\",index_col='Ticker')"
   ]
  },
  {
   "cell_type": "code",
   "execution_count": 7,
   "id": "602b1d90-650a-4966-8895-131193e1e423",
   "metadata": {},
   "outputs": [],
   "source": [
    "quantities_api=Binance.binance_api.user_asset()\n",
    "quantities=pd.DataFrame(quantities_api).sort_values(by='free',ascending=False)\n",
    "quantities['asset']=quantities['asset']+'USDT'\n",
    "quantities=quantities.set_index('asset')"
   ]
  },
  {
   "cell_type": "code",
   "execution_count": 8,
   "id": "2a5e1fb2-658d-49d7-afe2-d58ff93c06e5",
   "metadata": {},
   "outputs": [],
   "source": [
    "#today_price=Binance.get_price(holding_tickers,date=datetime.datetime.today()).T\n",
    "#today_price.columns=['Mark To Market']"
   ]
  },
  {
   "cell_type": "code",
   "execution_count": 9,
   "id": "091cc38c-cbce-4db6-b97e-dbc09587d405",
   "metadata": {},
   "outputs": [
    {
     "data": {
      "text/html": [
       "<div>\n",
       "<style scoped>\n",
       "    .dataframe tbody tr th:only-of-type {\n",
       "        vertical-align: middle;\n",
       "    }\n",
       "\n",
       "    .dataframe tbody tr th {\n",
       "        vertical-align: top;\n",
       "    }\n",
       "\n",
       "    .dataframe thead th {\n",
       "        text-align: right;\n",
       "    }\n",
       "</style>\n",
       "<table border=\"1\" class=\"dataframe\">\n",
       "  <thead>\n",
       "    <tr style=\"text-align: right;\">\n",
       "      <th></th>\n",
       "      <th>Book Cost</th>\n",
       "      <th>Price in USDT</th>\n",
       "      <th>Weights</th>\n",
       "      <th>Profit and Loss</th>\n",
       "    </tr>\n",
       "  </thead>\n",
       "  <tbody>\n",
       "    <tr>\n",
       "      <th>BTCUSDT</th>\n",
       "      <td>611.9581</td>\n",
       "      <td>555.9503</td>\n",
       "      <td>0.2935</td>\n",
       "      <td>-56.0077</td>\n",
       "    </tr>\n",
       "    <tr>\n",
       "      <th>TRXUSDT</th>\n",
       "      <td>318.6884</td>\n",
       "      <td>292.5823</td>\n",
       "      <td>0.1545</td>\n",
       "      <td>-26.1061</td>\n",
       "    </tr>\n",
       "    <tr>\n",
       "      <th>JASMYUSDT</th>\n",
       "      <td>453.8661</td>\n",
       "      <td>265.8365</td>\n",
       "      <td>0.1403</td>\n",
       "      <td>-188.0296</td>\n",
       "    </tr>\n",
       "    <tr>\n",
       "      <th>SOLUSDT</th>\n",
       "      <td>261.7091</td>\n",
       "      <td>253.4014</td>\n",
       "      <td>0.1338</td>\n",
       "      <td>-8.3077</td>\n",
       "    </tr>\n",
       "    <tr>\n",
       "      <th>OMUSDT</th>\n",
       "      <td>309.0893</td>\n",
       "      <td>314.4282</td>\n",
       "      <td>0.1660</td>\n",
       "      <td>5.3388</td>\n",
       "    </tr>\n",
       "    <tr>\n",
       "      <th>ETHUSDT</th>\n",
       "      <td>264.2048</td>\n",
       "      <td>170.5113</td>\n",
       "      <td>0.0900</td>\n",
       "      <td>-93.6935</td>\n",
       "    </tr>\n",
       "    <tr>\n",
       "      <th>BBUSDT</th>\n",
       "      <td>46.3321</td>\n",
       "      <td>41.4078</td>\n",
       "      <td>0.0219</td>\n",
       "      <td>-4.9242</td>\n",
       "    </tr>\n",
       "    <tr>\n",
       "      <th>BNBUSDT</th>\n",
       "      <td>0.0271</td>\n",
       "      <td>0.0226</td>\n",
       "      <td>0.0000</td>\n",
       "      <td>-0.0045</td>\n",
       "    </tr>\n",
       "    <tr>\n",
       "      <th>PEPEUSDT</th>\n",
       "      <td>0.0000</td>\n",
       "      <td>0.0000</td>\n",
       "      <td>0.0000</td>\n",
       "      <td>0.0000</td>\n",
       "    </tr>\n",
       "    <tr>\n",
       "      <th>Total</th>\n",
       "      <td>2265.8748</td>\n",
       "      <td>1894.1404</td>\n",
       "      <td>1.0000</td>\n",
       "      <td>-371.7345</td>\n",
       "    </tr>\n",
       "  </tbody>\n",
       "</table>\n",
       "</div>"
      ],
      "text/plain": [
       "           Book Cost  Price in USDT  Weights  Profit and Loss\n",
       "BTCUSDT     611.9581       555.9503   0.2935         -56.0077\n",
       "TRXUSDT     318.6884       292.5823   0.1545         -26.1061\n",
       "JASMYUSDT   453.8661       265.8365   0.1403        -188.0296\n",
       "SOLUSDT     261.7091       253.4014   0.1338          -8.3077\n",
       "OMUSDT      309.0893       314.4282   0.1660           5.3388\n",
       "ETHUSDT     264.2048       170.5113   0.0900         -93.6935\n",
       "BBUSDT       46.3321        41.4078   0.0219          -4.9242\n",
       "BNBUSDT       0.0271         0.0226   0.0000          -0.0045\n",
       "PEPEUSDT      0.0000         0.0000   0.0000           0.0000\n",
       "Total      2265.8748      1894.1404   1.0000        -371.7345"
      ]
     },
     "execution_count": 9,
     "metadata": {},
     "output_type": "execute_result"
    }
   ],
   "source": [
    "tickers=Binance.get_market_cap()['Ticker'].iloc[:75].to_list()\n",
    "holding=Binance.get_inventory()\n",
    "condition=holding.index!='Total'\n",
    "holding_tickers=holding.index[condition]\n",
    "holding_tickers=holding_tickers.to_list()\n",
    "tickers=sorted(list(set(tickers+holding_tickers)))\n",
    "\n",
    "pnl=pd.concat([book_cost,holding.loc[condition]],axis=1)\n",
    "pnl['Book Cost']=(pnl['Book Cost']*quantities['free'].astype(float))\n",
    "pnl['Profit and Loss']=pnl['Price in USDT']-pnl['Book Cost']\n",
    "pnl.loc['Total']=pnl.sum()\n",
    "pnl.round(4)"
   ]
  },
  {
   "cell_type": "code",
   "execution_count": 10,
   "id": "02b13058-bb72-491c-b1c4-107367b2d402",
   "metadata": {},
   "outputs": [],
   "source": [
    "data1=Binance.get_price(tickers,start_date)\n",
    "data2=Binance.get_price(tickers,enddate)\n",
    "data=data1.combine_first(data2)\n",
    "data.index=pd.to_datetime(data.index)\n",
    "#data=data.dropna(axis=1)\n",
    "n=len(data.columns)\n",
    "data=data.sort_index()"
   ]
  },
  {
   "cell_type": "code",
   "execution_count": 11,
   "id": "fa402d23-cca7-4a57-9e61-234a6e346d61",
   "metadata": {},
   "outputs": [],
   "source": [
    "inventory_weights=(holding['Weights'].apply(lambda x: np.round(x,2))).to_dict()\n",
    "inventory_weights.pop('Total')\n",
    "\n",
    "if \"USDTUSDT\" in inventory_weights:\n",
    "    \n",
    "    inventory_weights.pop('USDTUSDT')\n",
    "else: \n",
    "    pass"
   ]
  },
  {
   "cell_type": "code",
   "execution_count": 12,
   "id": "f12eea91-8e16-438a-8418-e9a00c684c51",
   "metadata": {},
   "outputs": [],
   "source": [
    "returns=np.log(1+data.pct_change())\n",
    "returns.index=pd.to_datetime(returns.index)\n",
    "with_no_na=returns.columns[np.where((returns.isna().sum()<30))]\n",
    "returns_to_use=returns[with_no_na]\n",
    "ex_ante_perf=returns[holding_tickers]\n",
    "ex_ante_perf_to_use=ex_ante_perf.dropna()"
   ]
  },
  {
   "cell_type": "code",
   "execution_count": 13,
   "id": "c02ab432-6fac-4d8a-9744-c41d0fc2977c",
   "metadata": {},
   "outputs": [],
   "source": [
    "weights_post=dict()\n",
    "\n",
    "for col in ex_ante_perf.columns:\n",
    "    \n",
    "    if col in inventory_weights.keys():\n",
    "        weights_post[col]=inventory_weights[col]\n",
    "        \n",
    "    else:\n",
    "        weights_post[col]=0\n",
    "    \n",
    "current_weights=np.array(list(weights_post.values()))\n",
    "current_weights=np.round(current_weights,2)/np.sum(np.round(current_weights,2))"
   ]
  },
  {
   "cell_type": "markdown",
   "id": "b140110e-5f33-465c-8e5c-0fc7a645c27d",
   "metadata": {},
   "source": [
    "## Positions"
   ]
  },
  {
   "cell_type": "code",
   "execution_count": 14,
   "id": "17c5e377-a1f1-4dd7-9b69-19903c2e4954",
   "metadata": {},
   "outputs": [],
   "source": [
    "position=pd.read_excel('Positions.xlsx',index_col=0)"
   ]
  },
  {
   "cell_type": "code",
   "execution_count": 15,
   "id": "9c53afdc-8dd4-464f-ac2b-53da43bffdd4",
   "metadata": {},
   "outputs": [
    {
     "name": "stdout",
     "output_type": "stream",
     "text": [
      "2024-05-05 00:00:00\n",
      "2024-06-04 00:00:00\n",
      "2024-07-04 00:00:00\n",
      "2024-08-03 00:00:00\n",
      "2024-09-02 00:00:00\n",
      "LDUMAUSDT not retrieved\n",
      "LDTRXUSDT not retrieved\n",
      "LDUMAUSDT\n",
      "LDTRXUSDT\n"
     ]
    }
   ],
   "source": [
    "positions=Binance.get_positions_history(enddate=datetime.datetime.today(),\n",
    "                                        startdate=datetime.datetime(2024,5,5))\n"
   ]
  },
  {
   "cell_type": "code",
   "execution_count": 16,
   "id": "03081ace-41ae-4cc6-8637-36472b4b01a2",
   "metadata": {},
   "outputs": [],
   "source": [
    "positions=positions.sort_index()"
   ]
  },
  {
   "cell_type": "code",
   "execution_count": 17,
   "id": "7f9be1e5-f3e5-4ed6-9408-3a83a3996f73",
   "metadata": {},
   "outputs": [],
   "source": [
    "positions.index=pd.to_datetime(positions.index)"
   ]
  },
  {
   "cell_type": "code",
   "execution_count": 18,
   "id": "5db198b6-761e-42a8-93ae-c9526af6675a",
   "metadata": {},
   "outputs": [],
   "source": [
    "positions=pd.concat([position,positions])\n",
    "positions=positions.loc[~positions.index.duplicated(),:]"
   ]
  },
  {
   "cell_type": "code",
   "execution_count": 19,
   "id": "d132307b-1159-4eaf-9269-a563b817d441",
   "metadata": {},
   "outputs": [],
   "source": [
    "positions.to_excel('Positions.xlsx')"
   ]
  },
  {
   "cell_type": "code",
   "execution_count": 20,
   "id": "977e691e-b906-421f-9903-a2e47a2cba29",
   "metadata": {},
   "outputs": [],
   "source": [
    "positions=positions.interpolate()\n",
    "positions['Total']=positions.sum(axis=1)"
   ]
  },
  {
   "cell_type": "code",
   "execution_count": 21,
   "id": "7024f40c-7ebf-4695-83bc-29f9dd397bda",
   "metadata": {},
   "outputs": [],
   "source": [
    "ptf_tickers=list(positions.columns)\n",
    "ptf_tickers.remove('USDTUSDT')"
   ]
  },
  {
   "cell_type": "code",
   "execution_count": 22,
   "id": "3a9a3051-c255-4f0d-be18-894331cd55c9",
   "metadata": {},
   "outputs": [],
   "source": [
    "weights_ex_post=positions.copy()\n",
    "weights_ex_post=weights_ex_post.drop(columns=['USDTUSDT'])\n",
    "weights_ex_post=weights_ex_post.apply(lambda x: x/weights_ex_post['Total'])"
   ]
  },
  {
   "cell_type": "code",
   "execution_count": 23,
   "id": "e4dc6066-1329-4a65-a66e-476690428ca0",
   "metadata": {},
   "outputs": [
    {
     "name": "stdout",
     "output_type": "stream",
     "text": [
      "LDUMAUSDT not retrieved\n",
      "Total not retrieved\n"
     ]
    }
   ],
   "source": [
    "binance_data=Binance.get_price(ptf_tickers,date=datetime.datetime(2024,5,11))\n",
    "binance_data.index=pd.to_datetime(binance_data.index)\n",
    "binance_data=binance_data.sort_index()\n",
    "binance_data=np.log(1+binance_data.pct_change())\n"
   ]
  },
  {
   "cell_type": "code",
   "execution_count": 24,
   "id": "5622e624-6716-491e-97b8-c9d221f0d700",
   "metadata": {},
   "outputs": [],
   "source": [
    "weight_date=set(weights_ex_post.index)\n",
    "binance_date=binance_data.index"
   ]
  },
  {
   "cell_type": "code",
   "execution_count": 25,
   "id": "7d465985-94d7-4b93-b6bc-66a63b13ae4f",
   "metadata": {},
   "outputs": [],
   "source": [
    "common_date=binance_date.intersection(weight_date)\n",
    "\n",
    "binance_data=binance_data.loc[common_date]"
   ]
  },
  {
   "cell_type": "code",
   "execution_count": 26,
   "id": "5c6c4aa2-0952-478c-b077-6c37ba62d297",
   "metadata": {},
   "outputs": [],
   "source": [
    "historical_ptf=pd.DataFrame()\n",
    "\n",
    "for col in binance_data:\n",
    "    historical_ptf[col]=weights_ex_post[col]*binance_data[col]\n",
    "    \n",
    "historical_ptf['Historical Portfolio']=historical_ptf.sum(axis=1)"
   ]
  },
  {
   "cell_type": "code",
   "execution_count": 27,
   "id": "c58b1420-5345-4feb-af42-6f019cfdf19c",
   "metadata": {},
   "outputs": [
    {
     "data": {
      "text/plain": [
       "<AxesSubplot:>"
      ]
     },
     "execution_count": 27,
     "metadata": {},
     "output_type": "execute_result"
    },
    {
     "data": {
      "image/png": "[encoded data removed]",
      "text/plain": [
       "<Figure size 432x288 with 1 Axes>"
      ]
     },
     "metadata": {
      "needs_background": "light"
     },
     "output_type": "display_data"
    }
   ],
   "source": [
    "#historical_ptf.dropna(axis = 0, how = 'all', inplace = True)\n",
    "\n",
    "(1+historical_ptf['Historical Portfolio']).cumprod().plot()"
   ]
  },
  {
   "cell_type": "markdown",
   "id": "234cc405-16b8-4ea6-89f9-bf448d837670",
   "metadata": {},
   "source": [
    "## Ex ante data"
   ]
  },
  {
   "cell_type": "code",
   "execution_count": 28,
   "id": "027c07a0-4c8e-45da-a97d-8cf833597a5f",
   "metadata": {},
   "outputs": [],
   "source": [
    "ex_ante_ptf=ex_ante_perf.copy()\n",
    "\n",
    "for key in inventory_weights.keys():\n",
    "    \n",
    "    ex_ante_ptf[key]=ex_ante_perf[key]*inventory_weights[key]\n",
    "\n",
    "ex_ante_ptf=pd.DataFrame(ex_ante_ptf.sum(axis=1))"
   ]
  },
  {
   "cell_type": "markdown",
   "id": "bbec8b12-d681-4704-a561-9718fbb872e0",
   "metadata": {},
   "source": [
    "# Portfolio Optimization"
   ]
  },
  {
   "cell_type": "markdown",
   "id": "16adc40b-d589-4193-8148-7e7dae06dc7e",
   "metadata": {},
   "source": [
    "## Class set up"
   ]
  },
  {
   "cell_type": "code",
   "execution_count": 29,
   "id": "f27106c8-0433-477e-b0bf-6ca9249004b4",
   "metadata": {},
   "outputs": [],
   "source": [
    "historical_risk=RiskAnalysis(returns_to_use)\n",
    "current_risk=RiskAnalysis(ex_ante_perf_to_use.iloc[:])\n",
    "num_asset=len(returns_to_use.columns)\n",
    "num_asset_current=len(ex_ante_perf_to_use.columns)"
   ]
  },
  {
   "cell_type": "code",
   "execution_count": 30,
   "id": "f55211bf-ba25-4066-a0d2-6cf0ef658786",
   "metadata": {},
   "outputs": [
    {
     "data": {
      "text/plain": [
       "Index(['1000SATSUSDT', 'AAVEUSDT', 'ADAUSDT', 'ALGOUSDT', 'APTUSDT', 'ARBUSDT',\n",
       "       'ARUSDT', 'ATOMUSDT', 'AVAXUSDT', 'AXSUSDT', 'BCHUSDT', 'BNBUSDT',\n",
       "       'BONKUSDT', 'BTCUSDT', 'CFXUSDT', 'CKBUSDT', 'DOGEUSDT', 'DOTUSDT',\n",
       "       'EGLDUSDT', 'EOSUSDT', 'ETCUSDT', 'ETHUSDT', 'FDUSDUSDT', 'FETUSDT',\n",
       "       'FILUSDT', 'FLOKIUSDT', 'FLOWUSDT', 'FTMUSDT', 'GALAUSDT', 'GRTUSDT',\n",
       "       'HBARUSDT', 'ICPUSDT', 'IMXUSDT', 'INJUSDT', 'JASMYUSDT', 'LDOUSDT',\n",
       "       'LINKUSDT', 'LTCUSDT', 'MKRUSDT', 'NEARUSDT', 'NEOUSDT', 'OMUSDT',\n",
       "       'OPUSDT', 'ORDIUSDT', 'PEPEUSDT', 'QNTUSDT', 'RUNEUSDT', 'SEIUSDT',\n",
       "       'SHIBUSDT', 'SOLUSDT', 'STXUSDT', 'SUIUSDT', 'THETAUSDT', 'TIAUSDT',\n",
       "       'TRXUSDT', 'UNIUSDT', 'USDCUSDT', 'VETUSDT', 'WBETHUSDT', 'WBTCUSDT',\n",
       "       'WLDUSDT', 'XECUSDT', 'XLMUSDT', 'XRPUSDT', 'XTZUSDT'],\n",
       "      dtype='object')"
      ]
     },
     "execution_count": 30,
     "metadata": {},
     "output_type": "execute_result"
    }
   ],
   "source": [
    "returns_to_use.columns"
   ]
  },
  {
   "cell_type": "code",
   "execution_count": 31,
   "id": "eb382de7-0a0b-47f9-83a4-777aef62e9a6",
   "metadata": {},
   "outputs": [],
   "source": [
    "limit_hist=np.where(returns_to_use.columns=='BTCUSDT')[0][0],np.where(returns_to_use.columns=='ETHUSDT')[0][0],np.where(returns_to_use.columns=='SOLUSDT')[0][0]"
   ]
  },
  {
   "cell_type": "markdown",
   "id": "fd2fa57d-de01-4917-8d08-d33930572316",
   "metadata": {},
   "source": [
    "## Optimal Portfolio"
   ]
  },
  {
   "cell_type": "code",
   "execution_count": 32,
   "id": "05eee256-a57c-4cc6-b16c-738b2315f37c",
   "metadata": {},
   "outputs": [
    {
     "data": {
      "text/html": [
       "<div>\n",
       "<style scoped>\n",
       "    .dataframe tbody tr th:only-of-type {\n",
       "        vertical-align: middle;\n",
       "    }\n",
       "\n",
       "    .dataframe tbody tr th {\n",
       "        vertical-align: top;\n",
       "    }\n",
       "\n",
       "    .dataframe thead th {\n",
       "        text-align: right;\n",
       "    }\n",
       "</style>\n",
       "<table border=\"1\" class=\"dataframe\">\n",
       "  <thead>\n",
       "    <tr style=\"text-align: right;\">\n",
       "      <th></th>\n",
       "      <th>Optimal Weights</th>\n",
       "    </tr>\n",
       "  </thead>\n",
       "  <tbody>\n",
       "    <tr>\n",
       "      <th>USDCUSDT</th>\n",
       "      <td>0.9286</td>\n",
       "    </tr>\n",
       "    <tr>\n",
       "      <th>OMUSDT</th>\n",
       "      <td>0.0265</td>\n",
       "    </tr>\n",
       "    <tr>\n",
       "      <th>BNBUSDT</th>\n",
       "      <td>0.0202</td>\n",
       "    </tr>\n",
       "    <tr>\n",
       "      <th>TRXUSDT</th>\n",
       "      <td>0.0158</td>\n",
       "    </tr>\n",
       "    <tr>\n",
       "      <th>PEPEUSDT</th>\n",
       "      <td>0.0043</td>\n",
       "    </tr>\n",
       "    <tr>\n",
       "      <th>CKBUSDT</th>\n",
       "      <td>0.0023</td>\n",
       "    </tr>\n",
       "    <tr>\n",
       "      <th>JASMYUSDT</th>\n",
       "      <td>0.0023</td>\n",
       "    </tr>\n",
       "    <tr>\n",
       "      <th>GALAUSDT</th>\n",
       "      <td>0.0000</td>\n",
       "    </tr>\n",
       "    <tr>\n",
       "      <th>WLDUSDT</th>\n",
       "      <td>0.0000</td>\n",
       "    </tr>\n",
       "    <tr>\n",
       "      <th>ATOMUSDT</th>\n",
       "      <td>0.0000</td>\n",
       "    </tr>\n",
       "  </tbody>\n",
       "</table>\n",
       "</div>"
      ],
      "text/plain": [
       "           Optimal Weights\n",
       "USDCUSDT            0.9286\n",
       "OMUSDT              0.0265\n",
       "BNBUSDT             0.0202\n",
       "TRXUSDT             0.0158\n",
       "PEPEUSDT            0.0043\n",
       "CKBUSDT             0.0023\n",
       "JASMYUSDT           0.0023\n",
       "GALAUSDT            0.0000\n",
       "WLDUSDT             0.0000\n",
       "ATOMUSDT            0.0000"
      ]
     },
     "execution_count": 32,
     "metadata": {},
     "output_type": "execute_result"
    }
   ],
   "source": [
    "opt_weights=historical_risk.optimize(objective=\"sharpe_ratio\")\n",
    "inventory=historical_risk.inventory(opt_weights)\n",
    "inventory.columns=['Optimal Weights']\n",
    "\n",
    "inventory.iloc[:10].round(4)"
   ]
  },
  {
   "cell_type": "code",
   "execution_count": 33,
   "id": "8c58779c-ef34-4f61-9feb-8f30157d7333",
   "metadata": {},
   "outputs": [
    {
     "data": {
      "text/html": [
       "<div>\n",
       "<style scoped>\n",
       "    .dataframe tbody tr th:only-of-type {\n",
       "        vertical-align: middle;\n",
       "    }\n",
       "\n",
       "    .dataframe tbody tr th {\n",
       "        vertical-align: top;\n",
       "    }\n",
       "\n",
       "    .dataframe thead th {\n",
       "        text-align: right;\n",
       "    }\n",
       "</style>\n",
       "<table border=\"1\" class=\"dataframe\">\n",
       "  <thead>\n",
       "    <tr style=\"text-align: right;\">\n",
       "      <th></th>\n",
       "      <th>Optimal Weights</th>\n",
       "    </tr>\n",
       "  </thead>\n",
       "  <tbody>\n",
       "    <tr>\n",
       "      <th>OMUSDT</th>\n",
       "      <td>0.462063</td>\n",
       "    </tr>\n",
       "    <tr>\n",
       "      <th>BTCUSDT</th>\n",
       "      <td>0.400000</td>\n",
       "    </tr>\n",
       "    <tr>\n",
       "      <th>BNBUSDT</th>\n",
       "      <td>0.065678</td>\n",
       "    </tr>\n",
       "    <tr>\n",
       "      <th>PEPEUSDT</th>\n",
       "      <td>0.045224</td>\n",
       "    </tr>\n",
       "    <tr>\n",
       "      <th>CKBUSDT</th>\n",
       "      <td>0.017202</td>\n",
       "    </tr>\n",
       "    <tr>\n",
       "      <th>JASMYUSDT</th>\n",
       "      <td>0.009832</td>\n",
       "    </tr>\n",
       "  </tbody>\n",
       "</table>\n",
       "</div>"
      ],
      "text/plain": [
       "           Optimal Weights\n",
       "OMUSDT            0.462063\n",
       "BTCUSDT           0.400000\n",
       "BNBUSDT           0.065678\n",
       "PEPEUSDT          0.045224\n",
       "CKBUSDT           0.017202\n",
       "JASMYUSDT         0.009832"
      ]
     },
     "execution_count": 33,
     "metadata": {},
     "output_type": "execute_result"
    }
   ],
   "source": [
    "opt_weights=historical_risk.optimize(objective=\"sharpe_ratio\",constraints=[{'type': 'ineq', 'fun': lambda weights: weights[limit_hist[0]]-0.40}])\n",
    "                                                         #  ,{'type': 'ineq', 'fun': lambda weights: weights[limit[1]]-0.15},\n",
    "                                                        #{'type': 'ineq', 'fun': lambda weights: weights[limit[2]]-0.15}])\n",
    "opt_weights=np.round(opt_weights,6)\n",
    "inventory=historical_risk.inventory(opt_weights)\n",
    "inventory.columns=['Optimal Weights']\n",
    "\n",
    "inventory"
   ]
  },
  {
   "cell_type": "code",
   "execution_count": 34,
   "id": "81a3f562-6810-4e1b-91d1-a7282a3ff347",
   "metadata": {},
   "outputs": [],
   "source": [
    "limit=np.where(ex_ante_perf_to_use.columns=='BTCUSDT')[0][0],np.where(ex_ante_perf_to_use.columns=='ETHUSDT')[0][0],np.where(ex_ante_perf_to_use.columns=='SOLUSDT')[0][0]"
   ]
  },
  {
   "cell_type": "code",
   "execution_count": 35,
   "id": "75be66f1-0ad0-41c8-8807-16e73d711edf",
   "metadata": {},
   "outputs": [
    {
     "data": {
      "text/html": [
       "<div>\n",
       "<style scoped>\n",
       "    .dataframe tbody tr th:only-of-type {\n",
       "        vertical-align: middle;\n",
       "    }\n",
       "\n",
       "    .dataframe tbody tr th {\n",
       "        vertical-align: top;\n",
       "    }\n",
       "\n",
       "    .dataframe thead th {\n",
       "        text-align: right;\n",
       "    }\n",
       "</style>\n",
       "<table border=\"1\" class=\"dataframe\">\n",
       "  <thead>\n",
       "    <tr style=\"text-align: right;\">\n",
       "      <th></th>\n",
       "      <th>Optimal Weights</th>\n",
       "    </tr>\n",
       "  </thead>\n",
       "  <tbody>\n",
       "    <tr>\n",
       "      <th>TRXUSDT</th>\n",
       "      <td>0.762266</td>\n",
       "    </tr>\n",
       "    <tr>\n",
       "      <th>OMUSDT</th>\n",
       "      <td>0.237734</td>\n",
       "    </tr>\n",
       "  </tbody>\n",
       "</table>\n",
       "</div>"
      ],
      "text/plain": [
       "         Optimal Weights\n",
       "TRXUSDT         0.762266\n",
       "OMUSDT          0.237734"
      ]
     },
     "execution_count": 35,
     "metadata": {},
     "output_type": "execute_result"
    }
   ],
   "source": [
    "current_optimal_weights=current_risk.optimize(objective=\"sharpe_ratio\")#,constraints=[{'type': 'ineq', 'fun': lambda weights: weights[limit[0]]-0.40}])\n",
    "                                                           #,{'type': 'ineq', 'fun': lambda weights: weights[limit[1]]-0.15},\n",
    "                                                            #{'type': 'ineq', 'fun': lambda weights: weights[limit[2]]-0.15}])\n",
    "current_optimal_weights=np.round(current_optimal_weights,6)\n",
    "optimal_ptf_current=current_risk.inventory(current_optimal_weights)\n",
    "optimal_ptf_current.columns=['Optimal Weights']\n",
    "optimal_ptf_current"
   ]
  },
  {
   "cell_type": "markdown",
   "id": "555e4cdf-3f8d-445a-b5d7-e35eb59aa4b2",
   "metadata": {},
   "source": [
    "## Real Portfolio vs Optimal"
   ]
  },
  {
   "cell_type": "code",
   "execution_count": 36,
   "id": "1f55a04d-3575-446a-a801-7824e452dd57",
   "metadata": {},
   "outputs": [
    {
     "data": {
      "text/html": [
       "<div>\n",
       "<style scoped>\n",
       "    .dataframe tbody tr th:only-of-type {\n",
       "        vertical-align: middle;\n",
       "    }\n",
       "\n",
       "    .dataframe tbody tr th {\n",
       "        vertical-align: top;\n",
       "    }\n",
       "\n",
       "    .dataframe thead th {\n",
       "        text-align: right;\n",
       "    }\n",
       "</style>\n",
       "<table border=\"1\" class=\"dataframe\">\n",
       "  <thead>\n",
       "    <tr style=\"text-align: right;\">\n",
       "      <th></th>\n",
       "      <th>Price in USDT</th>\n",
       "      <th>Weights</th>\n",
       "      <th>Optimal Weights</th>\n",
       "      <th>Spread</th>\n",
       "    </tr>\n",
       "  </thead>\n",
       "  <tbody>\n",
       "    <tr>\n",
       "      <th>BTCUSDT</th>\n",
       "      <td>555.950328</td>\n",
       "      <td>0.293511</td>\n",
       "      <td>0.000000</td>\n",
       "      <td>0.000000</td>\n",
       "    </tr>\n",
       "    <tr>\n",
       "      <th>OMUSDT</th>\n",
       "      <td>314.428160</td>\n",
       "      <td>0.166000</td>\n",
       "      <td>0.237734</td>\n",
       "      <td>-0.071734</td>\n",
       "    </tr>\n",
       "    <tr>\n",
       "      <th>TRXUSDT</th>\n",
       "      <td>292.582294</td>\n",
       "      <td>0.154467</td>\n",
       "      <td>0.762266</td>\n",
       "      <td>-0.607799</td>\n",
       "    </tr>\n",
       "    <tr>\n",
       "      <th>JASMYUSDT</th>\n",
       "      <td>265.836500</td>\n",
       "      <td>0.140347</td>\n",
       "      <td>0.000000</td>\n",
       "      <td>0.000000</td>\n",
       "    </tr>\n",
       "    <tr>\n",
       "      <th>SOLUSDT</th>\n",
       "      <td>253.401412</td>\n",
       "      <td>0.133782</td>\n",
       "      <td>0.000000</td>\n",
       "      <td>0.000000</td>\n",
       "    </tr>\n",
       "    <tr>\n",
       "      <th>ETHUSDT</th>\n",
       "      <td>170.511259</td>\n",
       "      <td>0.090020</td>\n",
       "      <td>0.000000</td>\n",
       "      <td>0.000000</td>\n",
       "    </tr>\n",
       "    <tr>\n",
       "      <th>BBUSDT</th>\n",
       "      <td>41.407818</td>\n",
       "      <td>0.021861</td>\n",
       "      <td>0.000000</td>\n",
       "      <td>0.000000</td>\n",
       "    </tr>\n",
       "    <tr>\n",
       "      <th>BNBUSDT</th>\n",
       "      <td>0.022584</td>\n",
       "      <td>0.000012</td>\n",
       "      <td>0.000000</td>\n",
       "      <td>0.000000</td>\n",
       "    </tr>\n",
       "    <tr>\n",
       "      <th>PEPEUSDT</th>\n",
       "      <td>0.000002</td>\n",
       "      <td>0.000000</td>\n",
       "      <td>0.000000</td>\n",
       "      <td>0.000000</td>\n",
       "    </tr>\n",
       "  </tbody>\n",
       "</table>\n",
       "</div>"
      ],
      "text/plain": [
       "           Price in USDT   Weights  Optimal Weights    Spread\n",
       "BTCUSDT       555.950328  0.293511         0.000000  0.000000\n",
       "OMUSDT        314.428160  0.166000         0.237734 -0.071734\n",
       "TRXUSDT       292.582294  0.154467         0.762266 -0.607799\n",
       "JASMYUSDT     265.836500  0.140347         0.000000  0.000000\n",
       "SOLUSDT       253.401412  0.133782         0.000000  0.000000\n",
       "ETHUSDT       170.511259  0.090020         0.000000  0.000000\n",
       "BBUSDT         41.407818  0.021861         0.000000  0.000000\n",
       "BNBUSDT         0.022584  0.000012         0.000000  0.000000\n",
       "PEPEUSDT        0.000002  0.000000         0.000000  0.000000"
      ]
     },
     "execution_count": 36,
     "metadata": {},
     "output_type": "execute_result"
    }
   ],
   "source": [
    "current_holding_comparison=holding.copy()\n",
    "current_holding_comparison=current_holding_comparison.loc[current_holding_comparison.index!=\"Total\"]\n",
    "current_holding_comparison=pd.concat([current_holding_comparison,optimal_ptf_current],axis=1)\n",
    "current_holding_comparison['Spread']=current_holding_comparison['Weights']-current_holding_comparison['Optimal Weights']\n",
    "current_holding_comparison['Weights']=current_holding_comparison['Weights'].round(7)\n",
    "current_holding_comparison=current_holding_comparison.fillna(0)\n",
    "current_holding_comparison"
   ]
  },
  {
   "cell_type": "code",
   "execution_count": 37,
   "id": "c02b695b-bfaa-4eef-9212-e0b2717db2a0",
   "metadata": {},
   "outputs": [
    {
     "data": {
      "text/html": [
       "<div>\n",
       "<style scoped>\n",
       "    .dataframe tbody tr th:only-of-type {\n",
       "        vertical-align: middle;\n",
       "    }\n",
       "\n",
       "    .dataframe tbody tr th {\n",
       "        vertical-align: top;\n",
       "    }\n",
       "\n",
       "    .dataframe thead th {\n",
       "        text-align: right;\n",
       "    }\n",
       "</style>\n",
       "<table border=\"1\" class=\"dataframe\">\n",
       "  <thead>\n",
       "    <tr style=\"text-align: right;\">\n",
       "      <th></th>\n",
       "      <th>Price in USDT</th>\n",
       "      <th>Weights</th>\n",
       "      <th>Optimal Weights</th>\n",
       "      <th>Spread</th>\n",
       "    </tr>\n",
       "  </thead>\n",
       "  <tbody>\n",
       "    <tr>\n",
       "      <th>BTCUSDT</th>\n",
       "      <td>555.950328</td>\n",
       "      <td>0.293511</td>\n",
       "      <td>0.400000</td>\n",
       "      <td>-0.106489</td>\n",
       "    </tr>\n",
       "    <tr>\n",
       "      <th>OMUSDT</th>\n",
       "      <td>314.428160</td>\n",
       "      <td>0.166000</td>\n",
       "      <td>0.462063</td>\n",
       "      <td>-0.296063</td>\n",
       "    </tr>\n",
       "    <tr>\n",
       "      <th>TRXUSDT</th>\n",
       "      <td>292.582294</td>\n",
       "      <td>0.154467</td>\n",
       "      <td>0.000000</td>\n",
       "      <td>0.000000</td>\n",
       "    </tr>\n",
       "    <tr>\n",
       "      <th>JASMYUSDT</th>\n",
       "      <td>265.836500</td>\n",
       "      <td>0.140347</td>\n",
       "      <td>0.009832</td>\n",
       "      <td>0.130515</td>\n",
       "    </tr>\n",
       "    <tr>\n",
       "      <th>SOLUSDT</th>\n",
       "      <td>253.401412</td>\n",
       "      <td>0.133782</td>\n",
       "      <td>0.000000</td>\n",
       "      <td>0.000000</td>\n",
       "    </tr>\n",
       "    <tr>\n",
       "      <th>ETHUSDT</th>\n",
       "      <td>170.511259</td>\n",
       "      <td>0.090020</td>\n",
       "      <td>0.000000</td>\n",
       "      <td>0.000000</td>\n",
       "    </tr>\n",
       "    <tr>\n",
       "      <th>BBUSDT</th>\n",
       "      <td>41.407818</td>\n",
       "      <td>0.021861</td>\n",
       "      <td>0.000000</td>\n",
       "      <td>0.000000</td>\n",
       "    </tr>\n",
       "    <tr>\n",
       "      <th>BNBUSDT</th>\n",
       "      <td>0.022584</td>\n",
       "      <td>0.000012</td>\n",
       "      <td>0.065678</td>\n",
       "      <td>-0.065666</td>\n",
       "    </tr>\n",
       "    <tr>\n",
       "      <th>PEPEUSDT</th>\n",
       "      <td>0.000002</td>\n",
       "      <td>0.000000</td>\n",
       "      <td>0.045224</td>\n",
       "      <td>-0.045224</td>\n",
       "    </tr>\n",
       "    <tr>\n",
       "      <th>CKBUSDT</th>\n",
       "      <td>0.000000</td>\n",
       "      <td>0.000000</td>\n",
       "      <td>0.017202</td>\n",
       "      <td>0.000000</td>\n",
       "    </tr>\n",
       "  </tbody>\n",
       "</table>\n",
       "</div>"
      ],
      "text/plain": [
       "           Price in USDT   Weights  Optimal Weights    Spread\n",
       "BTCUSDT       555.950328  0.293511         0.400000 -0.106489\n",
       "OMUSDT        314.428160  0.166000         0.462063 -0.296063\n",
       "TRXUSDT       292.582294  0.154467         0.000000  0.000000\n",
       "JASMYUSDT     265.836500  0.140347         0.009832  0.130515\n",
       "SOLUSDT       253.401412  0.133782         0.000000  0.000000\n",
       "ETHUSDT       170.511259  0.090020         0.000000  0.000000\n",
       "BBUSDT         41.407818  0.021861         0.000000  0.000000\n",
       "BNBUSDT         0.022584  0.000012         0.065678 -0.065666\n",
       "PEPEUSDT        0.000002  0.000000         0.045224 -0.045224\n",
       "CKBUSDT         0.000000  0.000000         0.017202  0.000000"
      ]
     },
     "execution_count": 37,
     "metadata": {},
     "output_type": "execute_result"
    }
   ],
   "source": [
    "historical_comparison=holding.copy()\n",
    "historical_comparison=historical_comparison.loc[historical_comparison.index!=\"Total\"]\n",
    "historical_comparison=pd.concat([historical_comparison,inventory],axis=1)\n",
    "historical_comparison['Spread']=historical_comparison['Weights']-historical_comparison['Optimal Weights']\n",
    "historical_comparison['Weights']=historical_comparison['Weights'].round(7)\n",
    "historical_comparison=historical_comparison.fillna(0)\n",
    "historical_comparison"
   ]
  },
  {
   "cell_type": "markdown",
   "id": "e764e7c3-19aa-4638-bd23-a2ec30f727c6",
   "metadata": {},
   "source": [
    "# Risk Reward Analysis"
   ]
  },
  {
   "cell_type": "code",
   "execution_count": 38,
   "id": "7290db47-647c-4950-95e9-078b23d37888",
   "metadata": {},
   "outputs": [],
   "source": [
    "opt_ptf=(returns_to_use*opt_weights).sum(axis=1)\n",
    "curr_opt_ptf=(ex_ante_perf*current_optimal_weights).sum(axis=1)\n",
    "portfolio_perf=pd.DataFrame()\n",
    "portfolio_perf['Portfolio']=(ex_ante_perf*current_weights).sum(axis=1)"
   ]
  },
  {
   "cell_type": "code",
   "execution_count": 39,
   "id": "7a7b7f35-933b-4a67-af34-67d3f58c0f57",
   "metadata": {},
   "outputs": [],
   "source": [
    "portfolio_perf['Bitcoin']=returns['BTCUSDT']\n",
    "portfolio_perf['Optimal']=opt_ptf\n",
    "portfolio_perf['Current Optimal']=curr_opt_ptf"
   ]
  },
  {
   "cell_type": "code",
   "execution_count": 40,
   "id": "70752cdf-305d-4814-b99a-2c21effe6cf5",
   "metadata": {},
   "outputs": [
    {
     "data": {
      "text/plain": [
       "<AxesSubplot:>"
      ]
     },
     "execution_count": 40,
     "metadata": {},
     "output_type": "execute_result"
    },
    {
     "data": {
      "image/png": "[encoded data removed]",
      "text/plain": [
       "<Figure size 432x288 with 1 Axes>"
      ]
     },
     "metadata": {
      "needs_background": "light"
     },
     "output_type": "display_data"
    }
   ],
   "source": [
    "(1+portfolio_perf.iloc[:]).cumprod().plot()"
   ]
  },
  {
   "cell_type": "code",
   "execution_count": 41,
   "id": "83bf55a4-5fe4-48a7-af9b-89d4d8de4824",
   "metadata": {},
   "outputs": [],
   "source": [
    "current_perf=portfolio_perf.copy()\n",
    "current_perf=current_perf.loc[historical_ptf.index]\n",
    "current_perf['Historical Portfolio']=historical_ptf['Historical Portfolio']"
   ]
  },
  {
   "cell_type": "code",
   "execution_count": 42,
   "id": "4d17e532-f112-4c6b-a891-1d03f0b5d647",
   "metadata": {},
   "outputs": [
    {
     "data": {
      "text/plain": [
       "<AxesSubplot:>"
      ]
     },
     "execution_count": 42,
     "metadata": {},
     "output_type": "execute_result"
    },
    {
     "data": {
      "image/png": "[encoded data removed]",
      "text/plain": [
       "<Figure size 432x288 with 1 Axes>"
      ]
     },
     "metadata": {
      "needs_background": "light"
     },
     "output_type": "display_data"
    }
   ],
   "source": [
    "((1+current_perf.iloc[:]).cumprod()*100).plot()"
   ]
  },
  {
   "cell_type": "code",
   "execution_count": 43,
   "id": "21f2d4e1-1681-4132-aeea-7125d188f981",
   "metadata": {},
   "outputs": [
    {
     "data": {
      "text/html": [
       "<div>\n",
       "<style scoped>\n",
       "    .dataframe tbody tr th:only-of-type {\n",
       "        vertical-align: middle;\n",
       "    }\n",
       "\n",
       "    .dataframe tbody tr th {\n",
       "        vertical-align: top;\n",
       "    }\n",
       "\n",
       "    .dataframe thead th {\n",
       "        text-align: right;\n",
       "    }\n",
       "</style>\n",
       "<table border=\"1\" class=\"dataframe\">\n",
       "  <thead>\n",
       "    <tr style=\"text-align: right;\">\n",
       "      <th></th>\n",
       "      <th>Portfolio</th>\n",
       "      <th>Bitcoin</th>\n",
       "      <th>Optimal</th>\n",
       "      <th>Current Optimal</th>\n",
       "      <th>Historical Portfolio</th>\n",
       "    </tr>\n",
       "  </thead>\n",
       "  <tbody>\n",
       "    <tr>\n",
       "      <th>2024-09-09</th>\n",
       "      <td>85.781476</td>\n",
       "      <td>81.017786</td>\n",
       "      <td>92.435681</td>\n",
       "      <td>124.507658</td>\n",
       "      <td>72.547158</td>\n",
       "    </tr>\n",
       "    <tr>\n",
       "      <th>2024-09-10</th>\n",
       "      <td>87.646156</td>\n",
       "      <td>81.857078</td>\n",
       "      <td>96.310124</td>\n",
       "      <td>125.989080</td>\n",
       "      <td>73.847140</td>\n",
       "    </tr>\n",
       "    <tr>\n",
       "      <th>2024-09-11</th>\n",
       "      <td>87.131011</td>\n",
       "      <td>81.432763</td>\n",
       "      <td>96.825303</td>\n",
       "      <td>126.642949</td>\n",
       "      <td>73.353880</td>\n",
       "    </tr>\n",
       "    <tr>\n",
       "      <th>2024-09-12</th>\n",
       "      <td>89.145486</td>\n",
       "      <td>82.553132</td>\n",
       "      <td>101.444959</td>\n",
       "      <td>128.269174</td>\n",
       "      <td>74.832363</td>\n",
       "    </tr>\n",
       "    <tr>\n",
       "      <th>2024-09-13</th>\n",
       "      <td>90.743994</td>\n",
       "      <td>85.846054</td>\n",
       "      <td>102.832785</td>\n",
       "      <td>125.384868</td>\n",
       "      <td>76.402057</td>\n",
       "    </tr>\n",
       "    <tr>\n",
       "      <th>2024-09-14</th>\n",
       "      <td>89.387981</td>\n",
       "      <td>85.126499</td>\n",
       "      <td>101.155299</td>\n",
       "      <td>123.619018</td>\n",
       "      <td>75.325267</td>\n",
       "    </tr>\n",
       "    <tr>\n",
       "      <th>2024-09-15</th>\n",
       "      <td>87.338128</td>\n",
       "      <td>83.895897</td>\n",
       "      <td>99.480565</td>\n",
       "      <td>123.911525</td>\n",
       "      <td>73.650513</td>\n",
       "    </tr>\n",
       "    <tr>\n",
       "      <th>2024-09-16</th>\n",
       "      <td>86.387726</td>\n",
       "      <td>82.583217</td>\n",
       "      <td>97.822978</td>\n",
       "      <td>123.452809</td>\n",
       "      <td>72.860240</td>\n",
       "    </tr>\n",
       "    <tr>\n",
       "      <th>2024-09-17</th>\n",
       "      <td>87.896205</td>\n",
       "      <td>85.509833</td>\n",
       "      <td>99.169987</td>\n",
       "      <td>123.914406</td>\n",
       "      <td>74.288060</td>\n",
       "    </tr>\n",
       "    <tr>\n",
       "      <th>2024-09-18</th>\n",
       "      <td>90.605923</td>\n",
       "      <td>87.535703</td>\n",
       "      <td>104.674054</td>\n",
       "      <td>126.305729</td>\n",
       "      <td>76.578064</td>\n",
       "    </tr>\n",
       "  </tbody>\n",
       "</table>\n",
       "</div>"
      ],
      "text/plain": [
       "            Portfolio    Bitcoin     Optimal  Current Optimal  \\\n",
       "2024-09-09  85.781476  81.017786   92.435681       124.507658   \n",
       "2024-09-10  87.646156  81.857078   96.310124       125.989080   \n",
       "2024-09-11  87.131011  81.432763   96.825303       126.642949   \n",
       "2024-09-12  89.145486  82.553132  101.444959       128.269174   \n",
       "2024-09-13  90.743994  85.846054  102.832785       125.384868   \n",
       "2024-09-14  89.387981  85.126499  101.155299       123.619018   \n",
       "2024-09-15  87.338128  83.895897   99.480565       123.911525   \n",
       "2024-09-16  86.387726  82.583217   97.822978       123.452809   \n",
       "2024-09-17  87.896205  85.509833   99.169987       123.914406   \n",
       "2024-09-18  90.605923  87.535703  104.674054       126.305729   \n",
       "\n",
       "            Historical Portfolio  \n",
       "2024-09-09             72.547158  \n",
       "2024-09-10             73.847140  \n",
       "2024-09-11             73.353880  \n",
       "2024-09-12             74.832363  \n",
       "2024-09-13             76.402057  \n",
       "2024-09-14             75.325267  \n",
       "2024-09-15             73.650513  \n",
       "2024-09-16             72.860240  \n",
       "2024-09-17             74.288060  \n",
       "2024-09-18             76.578064  "
      ]
     },
     "execution_count": 43,
     "metadata": {},
     "output_type": "execute_result"
    }
   ],
   "source": [
    "((1+current_perf).cumprod()*100).iloc[-10:]"
   ]
  },
  {
   "cell_type": "markdown",
   "id": "7992e950-2f84-4f07-8b9f-3e343e0f0df3",
   "metadata": {},
   "source": [
    "## Volatilities"
   ]
  },
  {
   "cell_type": "code",
   "execution_count": 44,
   "id": "311f0004-e145-4fc5-8766-ca40d8f08e29",
   "metadata": {},
   "outputs": [
    {
     "data": {
      "text/plain": [
       "Portfolio    0.718986\n",
       "dtype: float64"
      ]
     },
     "execution_count": 44,
     "metadata": {},
     "output_type": "execute_result"
    }
   ],
   "source": [
    "vol=historical_risk.portfolio(opt_weights).std()*np.sqrt(252)\n",
    "\n",
    "vol"
   ]
  },
  {
   "cell_type": "code",
   "execution_count": 45,
   "id": "7741abc3-75be-4948-b6f7-6024b48ced93",
   "metadata": {},
   "outputs": [
    {
     "data": {
      "text/plain": [
       "Portfolio    0.492643\n",
       "dtype: float64"
      ]
     },
     "execution_count": 45,
     "metadata": {},
     "output_type": "execute_result"
    }
   ],
   "source": [
    "vol=current_risk.portfolio(current_weights).std()*np.sqrt(252)\n",
    "\n",
    "vol"
   ]
  },
  {
   "cell_type": "code",
   "execution_count": 46,
   "id": "c1bc68d5-494d-4064-9958-9b280c70a8a3",
   "metadata": {},
   "outputs": [
    {
     "data": {
      "text/plain": [
       "Portfolio          0.507303\n",
       "Bitcoin            0.446647\n",
       "Optimal            0.720179\n",
       "Current Optimal    0.408698\n",
       "dtype: float64"
      ]
     },
     "execution_count": 46,
     "metadata": {},
     "output_type": "execute_result"
    }
   ],
   "source": [
    "portfolio_perf.iloc[1:].std()*np.sqrt(252)"
   ]
  },
  {
   "cell_type": "code",
   "execution_count": 47,
   "id": "df99b746-dc9d-4c5c-b005-432bba654f31",
   "metadata": {},
   "outputs": [
    {
     "data": {
      "text/plain": [
       "0.2480033905932349"
      ]
     },
     "execution_count": 47,
     "metadata": {},
     "output_type": "execute_result"
    }
   ],
   "source": [
    "current_risk.tracking_error(current_risk.returns['BTCUSDT'],current_perf['Historical Portfolio'])"
   ]
  },
  {
   "cell_type": "markdown",
   "id": "c72a30da-fc11-412e-8182-6f508f5dc3dd",
   "metadata": {},
   "source": [
    "## Risk Contribution"
   ]
  },
  {
   "cell_type": "code",
   "execution_count": 48,
   "id": "40861589-c4a1-4c54-9bbc-e1035f32c5a1",
   "metadata": {},
   "outputs": [
    {
     "data": {
      "text/html": [
       "<div>\n",
       "<style scoped>\n",
       "    .dataframe tbody tr th:only-of-type {\n",
       "        vertical-align: middle;\n",
       "    }\n",
       "\n",
       "    .dataframe tbody tr th {\n",
       "        vertical-align: top;\n",
       "    }\n",
       "\n",
       "    .dataframe thead th {\n",
       "        text-align: right;\n",
       "    }\n",
       "</style>\n",
       "<table border=\"1\" class=\"dataframe\">\n",
       "  <thead>\n",
       "    <tr style=\"text-align: right;\">\n",
       "      <th></th>\n",
       "      <th>Performance Contribution</th>\n",
       "      <th>Initial Weights</th>\n",
       "      <th>Last Weights</th>\n",
       "      <th>Variance Contribution in %</th>\n",
       "      <th>Idiosyncratic Risk in %</th>\n",
       "      <th>Correlation in %</th>\n",
       "    </tr>\n",
       "  </thead>\n",
       "  <tbody>\n",
       "    <tr>\n",
       "      <th>BNBUSDT</th>\n",
       "      <td>0.075257</td>\n",
       "      <td>0.065678</td>\n",
       "      <td>0.014335</td>\n",
       "      <td>0.020067</td>\n",
       "      <td>0.002043</td>\n",
       "      <td>0.018024</td>\n",
       "    </tr>\n",
       "    <tr>\n",
       "      <th>BTCUSDT</th>\n",
       "      <td>0.193228</td>\n",
       "      <td>0.400000</td>\n",
       "      <td>0.060339</td>\n",
       "      <td>0.158472</td>\n",
       "      <td>0.061542</td>\n",
       "      <td>0.096930</td>\n",
       "    </tr>\n",
       "    <tr>\n",
       "      <th>CKBUSDT</th>\n",
       "      <td>0.022162</td>\n",
       "      <td>0.017202</td>\n",
       "      <td>0.004004</td>\n",
       "      <td>0.011903</td>\n",
       "      <td>0.000974</td>\n",
       "      <td>0.010929</td>\n",
       "    </tr>\n",
       "    <tr>\n",
       "      <th>JASMYUSDT</th>\n",
       "      <td>0.011641</td>\n",
       "      <td>0.009832</td>\n",
       "      <td>0.002184</td>\n",
       "      <td>0.005400</td>\n",
       "      <td>0.000224</td>\n",
       "      <td>0.005176</td>\n",
       "    </tr>\n",
       "    <tr>\n",
       "      <th>OMUSDT</th>\n",
       "      <td>8.444489</td>\n",
       "      <td>0.462063</td>\n",
       "      <td>0.905907</td>\n",
       "      <td>0.767945</td>\n",
       "      <td>0.668491</td>\n",
       "      <td>0.099454</td>\n",
       "    </tr>\n",
       "    <tr>\n",
       "      <th>PEPEUSDT</th>\n",
       "      <td>0.084864</td>\n",
       "      <td>0.045224</td>\n",
       "      <td>0.013232</td>\n",
       "      <td>0.036213</td>\n",
       "      <td>0.006649</td>\n",
       "      <td>0.029564</td>\n",
       "    </tr>\n",
       "  </tbody>\n",
       "</table>\n",
       "</div>"
      ],
      "text/plain": [
       "           Performance Contribution  Initial Weights  Last Weights  \\\n",
       "BNBUSDT                    0.075257         0.065678      0.014335   \n",
       "BTCUSDT                    0.193228         0.400000      0.060339   \n",
       "CKBUSDT                    0.022162         0.017202      0.004004   \n",
       "JASMYUSDT                  0.011641         0.009832      0.002184   \n",
       "OMUSDT                     8.444489         0.462063      0.905907   \n",
       "PEPEUSDT                   0.084864         0.045224      0.013232   \n",
       "\n",
       "           Variance Contribution in %  Idiosyncratic Risk in %  \\\n",
       "BNBUSDT                      0.020067                 0.002043   \n",
       "BTCUSDT                      0.158472                 0.061542   \n",
       "CKBUSDT                      0.011903                 0.000974   \n",
       "JASMYUSDT                    0.005400                 0.000224   \n",
       "OMUSDT                       0.767945                 0.668491   \n",
       "PEPEUSDT                     0.036213                 0.006649   \n",
       "\n",
       "           Correlation in %  \n",
       "BNBUSDT            0.018024  \n",
       "BTCUSDT            0.096930  \n",
       "CKBUSDT            0.010929  \n",
       "JASMYUSDT          0.005176  \n",
       "OMUSDT             0.099454  \n",
       "PEPEUSDT           0.029564  "
      ]
     },
     "execution_count": 48,
     "metadata": {},
     "output_type": "execute_result"
    }
   ],
   "source": [
    "perf_analysis=pd.concat([historical_risk.perf_contrib(opt_weights),historical_risk.var_contrib_pct(opt_weights)],axis=1)\n",
    "perf_analysis"
   ]
  },
  {
   "cell_type": "code",
   "execution_count": 49,
   "id": "7a8d2d34-14b0-469c-81a7-38306d840a62",
   "metadata": {},
   "outputs": [
    {
     "data": {
      "text/html": [
       "<div>\n",
       "<style scoped>\n",
       "    .dataframe tbody tr th:only-of-type {\n",
       "        vertical-align: middle;\n",
       "    }\n",
       "\n",
       "    .dataframe tbody tr th {\n",
       "        vertical-align: top;\n",
       "    }\n",
       "\n",
       "    .dataframe thead th {\n",
       "        text-align: right;\n",
       "    }\n",
       "</style>\n",
       "<table border=\"1\" class=\"dataframe\">\n",
       "  <thead>\n",
       "    <tr style=\"text-align: right;\">\n",
       "      <th></th>\n",
       "      <th>Performance Contribution</th>\n",
       "      <th>Initial Weights</th>\n",
       "      <th>Last Weights</th>\n",
       "      <th>Variance Contribution in %</th>\n",
       "      <th>Idiosyncratic Risk in %</th>\n",
       "      <th>Correlation in %</th>\n",
       "    </tr>\n",
       "  </thead>\n",
       "  <tbody>\n",
       "    <tr>\n",
       "      <th>OMUSDT</th>\n",
       "      <td>0.073087</td>\n",
       "      <td>0.237734</td>\n",
       "      <td>0.25819</td>\n",
       "      <td>0.441937</td>\n",
       "      <td>0.378283</td>\n",
       "      <td>0.063653</td>\n",
       "    </tr>\n",
       "    <tr>\n",
       "      <th>TRXUSDT</th>\n",
       "      <td>0.130758</td>\n",
       "      <td>0.762266</td>\n",
       "      <td>0.74181</td>\n",
       "      <td>0.558063</td>\n",
       "      <td>0.494410</td>\n",
       "      <td>0.063653</td>\n",
       "    </tr>\n",
       "  </tbody>\n",
       "</table>\n",
       "</div>"
      ],
      "text/plain": [
       "         Performance Contribution  Initial Weights  Last Weights  \\\n",
       "OMUSDT                   0.073087         0.237734       0.25819   \n",
       "TRXUSDT                  0.130758         0.762266       0.74181   \n",
       "\n",
       "         Variance Contribution in %  Idiosyncratic Risk in %  Correlation in %  \n",
       "OMUSDT                     0.441937                 0.378283          0.063653  \n",
       "TRXUSDT                    0.558063                 0.494410          0.063653  "
      ]
     },
     "execution_count": 49,
     "metadata": {},
     "output_type": "execute_result"
    }
   ],
   "source": [
    "perf_analysis=pd.concat([current_risk.perf_contrib(current_optimal_weights),current_risk.var_contrib_pct(current_optimal_weights)],axis=1)\n",
    "perf_analysis"
   ]
  },
  {
   "cell_type": "code",
   "execution_count": 50,
   "id": "109d4f15-0bb7-435b-9dc5-0bb7bc6dcffc",
   "metadata": {},
   "outputs": [
    {
     "data": {
      "text/html": [
       "<div>\n",
       "<style scoped>\n",
       "    .dataframe tbody tr th:only-of-type {\n",
       "        vertical-align: middle;\n",
       "    }\n",
       "\n",
       "    .dataframe tbody tr th {\n",
       "        vertical-align: top;\n",
       "    }\n",
       "\n",
       "    .dataframe thead th {\n",
       "        text-align: right;\n",
       "    }\n",
       "</style>\n",
       "<table border=\"1\" class=\"dataframe\">\n",
       "  <thead>\n",
       "    <tr style=\"text-align: right;\">\n",
       "      <th></th>\n",
       "      <th>Performance Contribution</th>\n",
       "      <th>Initial Weights</th>\n",
       "      <th>Last Weights</th>\n",
       "      <th>Variance Contribution in %</th>\n",
       "      <th>Idiosyncratic Risk in %</th>\n",
       "      <th>Correlation in %</th>\n",
       "    </tr>\n",
       "  </thead>\n",
       "  <tbody>\n",
       "    <tr>\n",
       "      <th>BTCUSDT</th>\n",
       "      <td>-0.013512</td>\n",
       "      <td>0.292929</td>\n",
       "      <td>0.279885</td>\n",
       "      <td>0.224828</td>\n",
       "      <td>0.063570</td>\n",
       "      <td>0.161258</td>\n",
       "    </tr>\n",
       "    <tr>\n",
       "      <th>OMUSDT</th>\n",
       "      <td>0.052791</td>\n",
       "      <td>0.171717</td>\n",
       "      <td>0.224884</td>\n",
       "      <td>0.225545</td>\n",
       "      <td>0.093391</td>\n",
       "      <td>0.132154</td>\n",
       "    </tr>\n",
       "    <tr>\n",
       "      <th>TRXUSDT</th>\n",
       "      <td>0.025991</td>\n",
       "      <td>0.151515</td>\n",
       "      <td>0.177803</td>\n",
       "      <td>0.034320</td>\n",
       "      <td>0.009243</td>\n",
       "      <td>0.025077</td>\n",
       "    </tr>\n",
       "    <tr>\n",
       "      <th>JASMYUSDT</th>\n",
       "      <td>-0.016283</td>\n",
       "      <td>0.141414</td>\n",
       "      <td>0.125341</td>\n",
       "      <td>0.237767</td>\n",
       "      <td>0.081660</td>\n",
       "      <td>0.156107</td>\n",
       "    </tr>\n",
       "    <tr>\n",
       "      <th>SOLUSDT</th>\n",
       "      <td>-0.019115</td>\n",
       "      <td>0.131313</td>\n",
       "      <td>0.112386</td>\n",
       "      <td>0.154559</td>\n",
       "      <td>0.032749</td>\n",
       "      <td>0.121811</td>\n",
       "    </tr>\n",
       "    <tr>\n",
       "      <th>ETHUSDT</th>\n",
       "      <td>-0.020810</td>\n",
       "      <td>0.090909</td>\n",
       "      <td>0.070216</td>\n",
       "      <td>0.083587</td>\n",
       "      <td>0.010567</td>\n",
       "      <td>0.073021</td>\n",
       "    </tr>\n",
       "    <tr>\n",
       "      <th>BBUSDT</th>\n",
       "      <td>-0.010732</td>\n",
       "      <td>0.020202</td>\n",
       "      <td>0.009485</td>\n",
       "      <td>0.039394</td>\n",
       "      <td>0.003558</td>\n",
       "      <td>0.035836</td>\n",
       "    </tr>\n",
       "  </tbody>\n",
       "</table>\n",
       "</div>"
      ],
      "text/plain": [
       "           Performance Contribution  Initial Weights  Last Weights  \\\n",
       "BTCUSDT                   -0.013512         0.292929      0.279885   \n",
       "OMUSDT                     0.052791         0.171717      0.224884   \n",
       "TRXUSDT                    0.025991         0.151515      0.177803   \n",
       "JASMYUSDT                 -0.016283         0.141414      0.125341   \n",
       "SOLUSDT                   -0.019115         0.131313      0.112386   \n",
       "ETHUSDT                   -0.020810         0.090909      0.070216   \n",
       "BBUSDT                    -0.010732         0.020202      0.009485   \n",
       "\n",
       "           Variance Contribution in %  Idiosyncratic Risk in %  \\\n",
       "BTCUSDT                      0.224828                 0.063570   \n",
       "OMUSDT                       0.225545                 0.093391   \n",
       "TRXUSDT                      0.034320                 0.009243   \n",
       "JASMYUSDT                    0.237767                 0.081660   \n",
       "SOLUSDT                      0.154559                 0.032749   \n",
       "ETHUSDT                      0.083587                 0.010567   \n",
       "BBUSDT                       0.039394                 0.003558   \n",
       "\n",
       "           Correlation in %  \n",
       "BTCUSDT            0.161258  \n",
       "OMUSDT             0.132154  \n",
       "TRXUSDT            0.025077  \n",
       "JASMYUSDT          0.156107  \n",
       "SOLUSDT            0.121811  \n",
       "ETHUSDT            0.073021  \n",
       "BBUSDT             0.035836  "
      ]
     },
     "execution_count": 50,
     "metadata": {},
     "output_type": "execute_result"
    }
   ],
   "source": [
    "perf_analysis=pd.concat([current_risk.perf_contrib(current_weights),current_risk.var_contrib_pct(current_weights)],axis=1)\n",
    "perf_analysis"
   ]
  },
  {
   "cell_type": "markdown",
   "id": "0130bfc3-e631-4a88-b313-7d1e01f8559a",
   "metadata": {
    "tags": []
   },
   "source": [
    "# Value At Risk"
   ]
  },
  {
   "cell_type": "markdown",
   "id": "71d68cce-1a6e-45aa-a85f-47588679e563",
   "metadata": {},
   "source": [
    "## Historical"
   ]
  },
  {
   "cell_type": "code",
   "execution_count": 51,
   "id": "b2388772-2291-494e-ac78-6a9f836e398d",
   "metadata": {},
   "outputs": [
    {
     "data": {
      "text/plain": [
       "(-0.059592194663622464, -0.08499752380012725)"
      ]
     },
     "execution_count": 51,
     "metadata": {},
     "output_type": "execute_result"
    }
   ],
   "source": [
    "var,cvar=historical_risk.historical_var(opt_weights)\n",
    "(var,cvar)"
   ]
  },
  {
   "cell_type": "code",
   "execution_count": 52,
   "id": "b748061e-7cef-4f96-986c-6cc89b4febd4",
   "metadata": {},
   "outputs": [
    {
     "data": {
      "text/plain": [
       "(-0.04698658145339085, -0.06437227487513167)"
      ]
     },
     "execution_count": 52,
     "metadata": {},
     "output_type": "execute_result"
    }
   ],
   "source": [
    "var,cvar=current_risk.historical_var(current_weights)\n",
    "(var,cvar)"
   ]
  },
  {
   "cell_type": "code",
   "execution_count": 53,
   "id": "bb9ae5ba-6521-47af-992e-2a3972e29e87",
   "metadata": {},
   "outputs": [],
   "source": [
    "historical_var=current_risk.returns*current_weights\n",
    "historical_var['Portfolio']=historical_var.sum(axis=1)\n",
    "historical_var=historical_var.sort_values(by='Portfolio')\n",
    "centile=0.05\n",
    "row=round(historical_var.shape[0]*centile)"
   ]
  },
  {
   "cell_type": "code",
   "execution_count": 54,
   "id": "8c24e902-85a4-44be-a457-f95e2184a7ea",
   "metadata": {},
   "outputs": [
    {
     "data": {
      "text/plain": [
       "BTCUSDT     -0.016389\n",
       "OMUSDT      -0.004630\n",
       "TRXUSDT     -0.003509\n",
       "JASMYUSDT   -0.006805\n",
       "SOLUSDT     -0.008930\n",
       "ETHUSDT     -0.007902\n",
       "BBUSDT      -0.002242\n",
       "BNBUSDT     -0.000000\n",
       "PEPEUSDT    -0.000000\n",
       "Portfolio   -0.050408\n",
       "Name: 2024-08-27 00:00:00, dtype: float64"
      ]
     },
     "execution_count": 54,
     "metadata": {},
     "output_type": "execute_result"
    }
   ],
   "source": [
    "var=historical_var.iloc[row]\n",
    "var"
   ]
  },
  {
   "cell_type": "code",
   "execution_count": 55,
   "id": "ade16f0c-75b7-4fcb-ab9e-ad0c73aa8dd7",
   "metadata": {},
   "outputs": [
    {
     "data": {
      "text/plain": [
       "BTCUSDT     -0.014882\n",
       "OMUSDT      -0.013200\n",
       "TRXUSDT     -0.003742\n",
       "JASMYUSDT   -0.014266\n",
       "SOLUSDT     -0.010323\n",
       "ETHUSDT     -0.005842\n",
       "BBUSDT      -0.002118\n",
       "BNBUSDT      0.000000\n",
       "PEPEUSDT     0.000000\n",
       "Portfolio   -0.064372\n",
       "dtype: float64"
      ]
     },
     "execution_count": 55,
     "metadata": {},
     "output_type": "execute_result"
    }
   ],
   "source": [
    "cvar=historical_var.iloc[:row+1].mean()\n",
    "cvar"
   ]
  },
  {
   "cell_type": "markdown",
   "id": "c3dff28c-8e0a-4203-a71d-04521428bcd1",
   "metadata": {},
   "source": [
    "## Parametric"
   ]
  },
  {
   "cell_type": "code",
   "execution_count": 56,
   "id": "0f0e86d4-3a65-486f-9099-6de171182aca",
   "metadata": {},
   "outputs": [
    {
     "data": {
      "text/plain": [
       "(-0.07462210203151501, -0.09564490293585075)"
      ]
     },
     "execution_count": 56,
     "metadata": {},
     "output_type": "execute_result"
    }
   ],
   "source": [
    "var,cvar=historical_risk.parametric_var(opt_weights)\n",
    "\n",
    "(var,cvar)"
   ]
  },
  {
   "cell_type": "code",
   "execution_count": 57,
   "id": "8d211677-f33e-4565-95b7-f2867bbe7192",
   "metadata": {},
   "outputs": [
    {
     "data": {
      "text/plain": [
       "(-0.051045682626635724, -0.06542645177774412)"
      ]
     },
     "execution_count": 57,
     "metadata": {},
     "output_type": "execute_result"
    }
   ],
   "source": [
    "var,cvar=current_risk.parametric_var(current_weights)\n",
    "\n",
    "(var,cvar)"
   ]
  },
  {
   "cell_type": "markdown",
   "id": "a6c24386-d19d-46c7-a8bb-58e4c19932ec",
   "metadata": {},
   "source": [
    "## Multivariate"
   ]
  },
  {
   "cell_type": "code",
   "execution_count": 58,
   "id": "302440b5-9462-49d9-a7d0-94e4da622e61",
   "metadata": {},
   "outputs": [
    {
     "data": {
      "text/plain": [
       "(-0.0668701976394653, -0.08579846985679597)"
      ]
     },
     "execution_count": 58,
     "metadata": {},
     "output_type": "execute_result"
    }
   ],
   "source": [
    "perf=performance(historical_risk.multivariate_distribution(),opt_weights)\n",
    "var=np.percentile(perf,5)\n",
    "cvar=perf[perf<var].mean()\n",
    "(var,cvar)"
   ]
  },
  {
   "cell_type": "code",
   "execution_count": 59,
   "id": "21acf785-1eff-47d6-8bfa-f795cf1e38d0",
   "metadata": {},
   "outputs": [
    {
     "data": {
      "text/plain": [
       "(-0.04993895142173297, -0.06320971571757834)"
      ]
     },
     "execution_count": 59,
     "metadata": {},
     "output_type": "execute_result"
    }
   ],
   "source": [
    "perf=performance(current_risk.multivariate_distribution(),current_weights)\n",
    "var=np.percentile(perf,5)\n",
    "cvar=perf[perf<var].mean()\n",
    "(var,cvar)"
   ]
  },
  {
   "cell_type": "code",
   "execution_count": 60,
   "id": "3fe7a180-f366-4414-bda1-a58a090d1c16",
   "metadata": {},
   "outputs": [
    {
     "data": {
      "text/plain": [
       "BTCUSDT     -0.012305\n",
       "OMUSDT      -0.009278\n",
       "TRXUSDT     -0.001592\n",
       "JASMYUSDT   -0.012733\n",
       "SOLUSDT     -0.008183\n",
       "ETHUSDT     -0.004495\n",
       "BBUSDT      -0.001777\n",
       "Portfolio   -0.050365\n",
       "dtype: float64"
      ]
     },
     "execution_count": 60,
     "metadata": {},
     "output_type": "execute_result"
    }
   ],
   "source": [
    "scenario_multivariate={}\n",
    "\n",
    "for i in range(50):\n",
    "    multivariate_distrib=pd.DataFrame(current_risk.multivariate_distribution(),columns=current_risk.returns.columns)\n",
    "    multivariate_distrib=multivariate_distrib*current_weights\n",
    "    multivariate_distrib=multivariate_distrib[multivariate_distrib.columns[current_weights>0]]\n",
    "\n",
    "    multivariate_distrib['Portfolio']=multivariate_distrib.sum(axis=1)\n",
    "    multivariate_var=multivariate_distrib.sort_values(by='Portfolio').iloc[int(multivariate_distrib.shape[0]*0.05)]['Portfolio']\n",
    "    results=multivariate_distrib.sort_values(by='Portfolio').iloc[int(multivariate_distrib.shape[0]*0.05)]\n",
    "\n",
    "    scenario_multivariate[i]=results.to_dict()\n",
    "\n",
    "mean_scenario_multivariate=pd.DataFrame(scenario_multivariate).T.mean()\n",
    "mean_scenario_multivariate"
   ]
  },
  {
   "cell_type": "markdown",
   "id": "0c387f28-22ad-45a7-b319-0e83f4a0daee",
   "metadata": {},
   "source": [
    "## Copulas"
   ]
  },
  {
   "cell_type": "markdown",
   "id": "9058537e-386c-4062-bbe9-1a6b8541b24e",
   "metadata": {},
   "source": [
    "### Gaussian Copula"
   ]
  },
  {
   "cell_type": "code",
   "execution_count": 61,
   "id": "eb227cdf-2fbd-4710-85b9-17c16bb8d777",
   "metadata": {},
   "outputs": [
    {
     "data": {
      "text/plain": [
       "(-0.0659193245088234, -0.0851954921513533)"
      ]
     },
     "execution_count": 61,
     "metadata": {},
     "output_type": "execute_result"
    }
   ],
   "source": [
    "cop=historical_risk.gaussian_copula()\n",
    "perf=performance(cop,opt_weights)\n",
    "var=np.percentile(perf,5)\n",
    "cvar=perf[perf<var].mean()\n",
    "\n",
    "var,cvar"
   ]
  },
  {
   "cell_type": "code",
   "execution_count": 62,
   "id": "d6e06ba7-4288-4817-8fd4-6edd919d67d8",
   "metadata": {},
   "outputs": [
    {
     "data": {
      "text/plain": [
       "(-0.05061706404852, -0.06395541133768887)"
      ]
     },
     "execution_count": 62,
     "metadata": {},
     "output_type": "execute_result"
    }
   ],
   "source": [
    "cop=current_risk.gaussian_copula()\n",
    "perf=performance(cop,current_weights)\n",
    "var=np.percentile(perf,5)\n",
    "cvar=perf[perf<var].mean()\n",
    "\n",
    "var,cvar"
   ]
  },
  {
   "cell_type": "code",
   "execution_count": 63,
   "id": "3b6ee424-83af-4479-abb3-e23b0a9f00e2",
   "metadata": {},
   "outputs": [
    {
     "data": {
      "text/plain": [
       "BTCUSDT     -0.011633\n",
       "OMUSDT      -0.010166\n",
       "TRXUSDT     -0.001839\n",
       "JASMYUSDT   -0.012501\n",
       "SOLUSDT     -0.007844\n",
       "ETHUSDT     -0.004354\n",
       "BBUSDT      -0.001982\n",
       "Portfolio   -0.050318\n",
       "dtype: float64"
      ]
     },
     "execution_count": 63,
     "metadata": {},
     "output_type": "execute_result"
    }
   ],
   "source": [
    "scenario_gaussian={}\n",
    "\n",
    "for i in range(100):\n",
    "    gaussian_copula_distrib=pd.DataFrame(current_risk.gaussian_copula(),columns=current_risk.returns.columns)\n",
    "\n",
    "    gaussian_copula_distrib=gaussian_copula_distrib*current_weights\n",
    "    gaussian_copula_distrib=gaussian_copula_distrib[gaussian_copula_distrib.columns[current_weights>0]]\n",
    "\n",
    "    gaussian_copula_distrib['Portfolio']=gaussian_copula_distrib.sum(axis=1)\n",
    "    gaussian_var=gaussian_copula_distrib.sort_values(by='Portfolio').iloc[int(gaussian_copula_distrib.shape[0]*0.05)]['Portfolio']\n",
    "    results=gaussian_copula_distrib.sort_values(by='Portfolio').iloc[int(gaussian_copula_distrib.shape[0]*0.05)]\n",
    "    \n",
    "    scenario_gaussian[i]=results\n",
    "    \n",
    "mean_scenario_gaussian=pd.DataFrame(scenario_gaussian).T.mean()\n",
    "mean_scenario_gaussian"
   ]
  },
  {
   "cell_type": "markdown",
   "id": "5cc2fb56-f5a8-400f-9242-3fe5969c9743",
   "metadata": {},
   "source": [
    "### Student Copula"
   ]
  },
  {
   "cell_type": "code",
   "execution_count": 64,
   "id": "54911632-62da-415f-bfed-66f0c612960c",
   "metadata": {},
   "outputs": [
    {
     "data": {
      "text/plain": [
       "(-0.06626064869459929, -0.08480514305861328)"
      ]
     },
     "execution_count": 64,
     "metadata": {},
     "output_type": "execute_result"
    }
   ],
   "source": [
    "t_copula=historical_risk.t_copula()\n",
    "perf=performance(t_copula,opt_weights)\n",
    "var=np.percentile(perf,5)\n",
    "cvar=perf[perf<var].mean()\n",
    "\n",
    "var,cvar"
   ]
  },
  {
   "cell_type": "code",
   "execution_count": 65,
   "id": "b54982b1-827a-4949-8576-0e88dceea776",
   "metadata": {},
   "outputs": [
    {
     "data": {
      "text/plain": [
       "(-0.05115059953264699, -0.0659482626141619)"
      ]
     },
     "execution_count": 65,
     "metadata": {},
     "output_type": "execute_result"
    }
   ],
   "source": [
    "t_copula=current_risk.t_copula()\n",
    "perf=performance(t_copula,current_weights)\n",
    "var=np.percentile(perf,5)\n",
    "cvar=perf[perf<var].mean()\n",
    "\n",
    "var,cvar"
   ]
  },
  {
   "cell_type": "code",
   "execution_count": 66,
   "id": "2eed4d89-eb00-449b-98ce-d030c65155d0",
   "metadata": {},
   "outputs": [
    {
     "data": {
      "text/plain": [
       "BTCUSDT     -0.011003\n",
       "OMUSDT      -0.011321\n",
       "TRXUSDT     -0.001795\n",
       "JASMYUSDT   -0.012263\n",
       "SOLUSDT     -0.008421\n",
       "ETHUSDT     -0.004216\n",
       "BBUSDT      -0.002203\n",
       "Portfolio   -0.051223\n",
       "dtype: float64"
      ]
     },
     "execution_count": 66,
     "metadata": {},
     "output_type": "execute_result"
    }
   ],
   "source": [
    "scenario_t_copula={}\n",
    "\n",
    "for i in range(100):\n",
    "    \n",
    "    t_copula_distrib=pd.DataFrame(current_risk.t_copula(),columns=current_risk.returns.columns)\n",
    "    t_copula_distrib=t_copula_distrib*current_weights\n",
    "    t_copula_distrib=t_copula_distrib[t_copula_distrib.columns[current_weights>0]]\n",
    "    t_copula_distrib['Portfolio']=t_copula_distrib.sum(axis=1)\n",
    "    t_copula_var=t_copula_distrib.sort_values(by='Portfolio').iloc[int(t_copula_distrib.shape[0]*0.05)]['Portfolio']\n",
    "    results=t_copula_distrib.sort_values(by='Portfolio').iloc[int(t_copula_distrib.shape[0]*0.05)]\n",
    "    \n",
    "    scenario_t_copula[i]=results\n",
    "    \n",
    "mean_scenario_gaussian=pd.DataFrame(scenario_t_copula).T.mean()\n",
    "mean_scenario_gaussian"
   ]
  },
  {
   "cell_type": "markdown",
   "id": "d8471cd5-4fcd-4ee2-8d94-4d1363a54361",
   "metadata": {},
   "source": [
    "### Gumbel Copula"
   ]
  },
  {
   "cell_type": "code",
   "execution_count": 67,
   "id": "7c23e42c-22e1-49cf-a9ed-36317a91e615",
   "metadata": {},
   "outputs": [
    {
     "data": {
      "text/plain": [
       "(-0.13645655289338765, -0.19375584696330872)"
      ]
     },
     "execution_count": 67,
     "metadata": {},
     "output_type": "execute_result"
    }
   ],
   "source": [
    "gumbel_copula=historical_risk.gumbel_copula()\n",
    "perf=performance(gumbel_copula,opt_weights)\n",
    "var=np.percentile(perf,5)\n",
    "cvar=perf[perf<var].mean()\n",
    "\n",
    "var,cvar"
   ]
  },
  {
   "cell_type": "code",
   "execution_count": 68,
   "id": "930f83d3-fa2e-4f41-b0ea-64c9fcadc95a",
   "metadata": {},
   "outputs": [
    {
     "data": {
      "text/plain": [
       "(-0.05793168627931718, -0.0780668525451216)"
      ]
     },
     "execution_count": 68,
     "metadata": {},
     "output_type": "execute_result"
    }
   ],
   "source": [
    "gumbel_copula=current_risk.gumbel_copula(theta=2)\n",
    "perf=performance(gumbel_copula,current_weights)\n",
    "var=np.percentile(perf,5)\n",
    "cvar=perf[perf<var].mean()\n",
    "\n",
    "var,cvar"
   ]
  },
  {
   "cell_type": "code",
   "execution_count": 69,
   "id": "a06ef689-21b0-49fb-91cb-e4f7ecd99305",
   "metadata": {},
   "outputs": [
    {
     "data": {
      "text/plain": [
       "BTCUSDT     -0.010650\n",
       "OMUSDT      -0.019351\n",
       "TRXUSDT     -0.001710\n",
       "JASMYUSDT   -0.016062\n",
       "SOLUSDT     -0.006869\n",
       "ETHUSDT     -0.001913\n",
       "BBUSDT      -0.000961\n",
       "Portfolio   -0.057515\n",
       "dtype: float64"
      ]
     },
     "execution_count": 69,
     "metadata": {},
     "output_type": "execute_result"
    }
   ],
   "source": [
    "scenario_gumbel_copula={}\n",
    "\n",
    "for i in range(100):\n",
    "    \n",
    "    gumbel_copula_distrib=pd.DataFrame(current_risk.gumbel_copula(),columns=current_risk.returns.columns)\n",
    "    gumbel_copula_distrib=gumbel_copula_distrib*current_weights\n",
    "    gumbel_copula_distrib=gumbel_copula_distrib[gumbel_copula_distrib.columns[current_weights>0]]\n",
    "    gumbel_copula_distrib['Portfolio']=gumbel_copula_distrib.sum(axis=1)\n",
    "    gumbel_copula_var=gumbel_copula_distrib.sort_values(by='Portfolio').iloc[int(gumbel_copula_distrib.shape[0]*0.05)]['Portfolio']\n",
    "    results=gumbel_copula_distrib.sort_values(by='Portfolio').iloc[int(gumbel_copula_distrib.shape[0]*0.05)]\n",
    "    \n",
    "    scenario_gumbel_copula[i]=results\n",
    "    \n",
    "mean_scenario_gaussian=pd.DataFrame(scenario_gumbel_copula).T.mean()\n",
    "mean_scenario_gaussian"
   ]
  },
  {
   "cell_type": "raw",
   "id": "a7cf6672-4497-412a-99d2-d7971328073d",
   "metadata": {
    "jupyter": {
     "source_hidden": true
    },
    "tags": []
   },
   "source": [
    "test=gumbel_l.rvs(loc=current_risk.returns.mean(),scale=current_risk.returns.std(),size=(10000,current_risk.returns.shape[1]))\n",
    "perf=(test*current_weights).sum(axis=1)\n",
    "\n",
    "var=np.percentile(perf,5)\n",
    "cvar=perf[perf<var].mean()\n",
    "var,cvar"
   ]
  },
  {
   "cell_type": "raw",
   "id": "3d431a69-7d30-4d5a-8b79-313ccc73d7bd",
   "metadata": {
    "jupyter": {
     "source_hidden": true
    },
    "tags": []
   },
   "source": [
    "scenario_gumbel_copula={}\n",
    "\n",
    "for i in range(100):\n",
    "    test=gumbel_l.rvs(loc=current_risk.returns.mean(),scale=current_risk.returns.std(),size=(10000,current_risk.returns.shape[1]))\n",
    "    gumbel_copula_distrib=pd.DataFrame(test,columns=current_risk.returns.columns)\n",
    "    gumbel_copula_distrib=gumbel_copula_distrib*current_weights\n",
    "    gumbel_copula_distrib=gumbel_copula_distrib[gumbel_copula_distrib.columns[current_weights>0]]\n",
    "    gumbel_copula_distrib['Portfolio']=gumbel_copula_distrib.sum(axis=1)\n",
    "    gumbel_copula_var=gumbel_copula_distrib.sort_values(by='Portfolio').iloc[int(gumbel_copula_distrib.shape[0]*0.05)]['Portfolio']\n",
    "    results=gumbel_copula_distrib.sort_values(by='Portfolio').iloc[int(gumbel_copula_distrib.shape[0]*0.05)]\n",
    "    \n",
    "    scenario_gumbel_copula[i]=results\n",
    "    \n",
    "mean_scenario_gaussian=pd.DataFrame(scenario_gumbel_copula).T.mean()\n",
    "mean_scenario_gaussian"
   ]
  },
  {
   "cell_type": "raw",
   "id": "929edc55-62b8-4da7-96a1-d5c4049da71f",
   "metadata": {
    "jupyter": {
     "source_hidden": true
    },
    "tags": []
   },
   "source": [
    "test=-np.random.gumbel(loc=current_risk.returns.mean(),scale=current_risk.returns.std(),size=(10000,current_risk.returns.shape[1]))\n",
    "var=np.percentile(performance(test,current_weights),5)\n",
    "cvar=performance(test,current_weights)[performance(test,current_weights)<var].mean()\n",
    "var,cvar"
   ]
  },
  {
   "cell_type": "raw",
   "id": "df443baa-f1ac-4309-b3a6-4cc30c1f24cc",
   "metadata": {
    "jupyter": {
     "source_hidden": true
    },
    "tags": []
   },
   "source": [
    "scenario_gumbel_copula={}\n",
    "\n",
    "for i in range(100):\n",
    "    test=-np.random.gumbel(loc=current_risk.returns.mean(),scale=current_risk.returns.std(),size=(10000,current_risk.returns.shape[1]))\n",
    "    gumbel_copula_distrib=pd.DataFrame(test,columns=current_risk.returns.columns)\n",
    "    gumbel_copula_distrib=gumbel_copula_distrib*current_weights\n",
    "    gumbel_copula_distrib=gumbel_copula_distrib[gumbel_copula_distrib.columns[current_weights>0]]\n",
    "    gumbel_copula_distrib['Portfolio']=gumbel_copula_distrib.sum(axis=1)\n",
    "    gumbel_copula_var=gumbel_copula_distrib.sort_values(by='Portfolio').iloc[int(gumbel_copula_distrib.shape[0]*0.05)]['Portfolio']\n",
    "    results=gumbel_copula_distrib.sort_values(by='Portfolio').iloc[int(gumbel_copula_distrib.shape[0]*0.05)]\n",
    "    \n",
    "    scenario_gumbel_copula[i]=results\n",
    "    \n",
    "mean_scenario_gaussian=pd.DataFrame(scenario_gumbel_copula).T.mean()\n",
    "mean_scenario_gaussian"
   ]
  },
  {
   "cell_type": "markdown",
   "id": "7552457d-af22-431f-bdc4-3609112e4138",
   "metadata": {},
   "source": [
    "### Monte Carlo"
   ]
  },
  {
   "cell_type": "code",
   "execution_count": 70,
   "id": "4842fd75-6b18-4ef9-b65b-823eb398fc2e",
   "metadata": {},
   "outputs": [],
   "source": [
    "spot=data[with_no_na].iloc[-1]\n",
    "monte_carlo=historical_risk.monte_carlo(spot,horizon=1/250,stress_factor=1.0)\n",
    "perf=performance(monte_carlo[1].fillna(0),opt_weights)"
   ]
  },
  {
   "cell_type": "code",
   "execution_count": 71,
   "id": "51c03bd4-96cb-4ef9-a720-1320ae57f100",
   "metadata": {},
   "outputs": [
    {
     "data": {
      "text/plain": [
       "(-0.07719059412795241, -0.09406625813180192)"
      ]
     },
     "execution_count": 71,
     "metadata": {},
     "output_type": "execute_result"
    }
   ],
   "source": [
    "var=np.percentile(perf,5)\n",
    "cvar=perf[perf<var].mean()\n",
    "\n",
    "var,cvar"
   ]
  },
  {
   "cell_type": "code",
   "execution_count": 72,
   "id": "d016716b-b572-4f28-acb1-c44ae139f2ae",
   "metadata": {},
   "outputs": [
    {
     "data": {
      "text/plain": [
       "(-0.05212423399635742, -0.06453520127862825)"
      ]
     },
     "execution_count": 72,
     "metadata": {},
     "output_type": "execute_result"
    }
   ],
   "source": [
    "spot=data[ex_ante_perf.columns].iloc[-1]\n",
    "monte_carlo=current_risk.monte_carlo(spot,horizon=1/250,stress_factor=1.0)\n",
    "perf=performance(monte_carlo[1].fillna(0),current_weights)\n",
    "var=np.percentile(perf,5)\n",
    "cvar=perf[perf<var].mean()\n",
    "\n",
    "var,cvar"
   ]
  },
  {
   "cell_type": "code",
   "execution_count": 73,
   "id": "0208383d-314b-471b-9943-3d75beae4276",
   "metadata": {},
   "outputs": [
    {
     "data": {
      "text/plain": [
       "BTCUSDT     -0.011264\n",
       "OMUSDT      -0.011679\n",
       "TRXUSDT     -0.002111\n",
       "JASMYUSDT   -0.013115\n",
       "SOLUSDT     -0.008073\n",
       "ETHUSDT     -0.003892\n",
       "BBUSDT      -0.001940\n",
       "Portfolio   -0.052075\n",
       "dtype: float64"
      ]
     },
     "execution_count": 73,
     "metadata": {},
     "output_type": "execute_result"
    }
   ],
   "source": [
    "spot=data[ex_ante_perf.columns].iloc[-1]\n",
    "\n",
    "scenario_monte_carlo={}\n",
    "\n",
    "for i in range(100):\n",
    "    \n",
    "    monte_carlo=current_risk.monte_carlo(spot,horizon=1/250,stress_factor=1.0)\n",
    "    monte_carlo_distrib=monte_carlo[1].fillna(0)*current_weights\n",
    "    monte_carlo_distrib=monte_carlo_distrib[monte_carlo_distrib.columns[current_weights>0]]\n",
    "    monte_carlo_distrib['Portfolio']=monte_carlo_distrib.sum(axis=1)\n",
    "    monte_carlo_var=monte_carlo_distrib.sort_values(by='Portfolio').iloc[int(monte_carlo_distrib.shape[0]*0.05)]['Portfolio']\n",
    "    results=monte_carlo_distrib.sort_values(by='Portfolio').iloc[int(monte_carlo_distrib.shape[0]*0.05)]\n",
    "    \n",
    "    scenario_monte_carlo[i]=results\n",
    "    \n",
    "mean_scenario_monte_carlo=pd.DataFrame(scenario_monte_carlo).T.mean()\n",
    "mean_scenario_monte_carlo"
   ]
  },
  {
   "cell_type": "markdown",
   "id": "2b3cb248-60ea-43f7-b474-31b6046eeee9",
   "metadata": {},
   "source": [
    "## VaR Violation"
   ]
  },
  {
   "cell_type": "code",
   "execution_count": 74,
   "id": "757aac0b-a638-4349-8fd3-30b1f39fa8b4",
   "metadata": {},
   "outputs": [
    {
     "data": {
      "text/html": [
       "<div>\n",
       "<style scoped>\n",
       "    .dataframe tbody tr th:only-of-type {\n",
       "        vertical-align: middle;\n",
       "    }\n",
       "\n",
       "    .dataframe tbody tr th {\n",
       "        vertical-align: top;\n",
       "    }\n",
       "\n",
       "    .dataframe thead th {\n",
       "        text-align: right;\n",
       "    }\n",
       "</style>\n",
       "<table border=\"1\" class=\"dataframe\">\n",
       "  <thead>\n",
       "    <tr style=\"text-align: right;\">\n",
       "      <th></th>\n",
       "      <th>Historical</th>\n",
       "      <th>Parametric</th>\n",
       "      <th>Multivariate</th>\n",
       "      <th>Portfolio</th>\n",
       "    </tr>\n",
       "  </thead>\n",
       "  <tbody>\n",
       "    <tr>\n",
       "      <th>2024-01-14</th>\n",
       "      <td>-0.057909</td>\n",
       "      <td>-0.105104</td>\n",
       "      <td>-0.088554</td>\n",
       "      <td>-0.024311</td>\n",
       "    </tr>\n",
       "    <tr>\n",
       "      <th>2024-01-15</th>\n",
       "      <td>-0.057909</td>\n",
       "      <td>-0.105101</td>\n",
       "      <td>-0.091730</td>\n",
       "      <td>0.017825</td>\n",
       "    </tr>\n",
       "    <tr>\n",
       "      <th>2024-01-16</th>\n",
       "      <td>-0.057909</td>\n",
       "      <td>-0.105681</td>\n",
       "      <td>-0.086459</td>\n",
       "      <td>0.058251</td>\n",
       "    </tr>\n",
       "    <tr>\n",
       "      <th>2024-01-17</th>\n",
       "      <td>-0.057909</td>\n",
       "      <td>-0.107988</td>\n",
       "      <td>-0.091744</td>\n",
       "      <td>-0.034481</td>\n",
       "    </tr>\n",
       "    <tr>\n",
       "      <th>2024-01-18</th>\n",
       "      <td>-0.057909</td>\n",
       "      <td>-0.109935</td>\n",
       "      <td>-0.096657</td>\n",
       "      <td>-0.032311</td>\n",
       "    </tr>\n",
       "    <tr>\n",
       "      <th>...</th>\n",
       "      <td>...</td>\n",
       "      <td>...</td>\n",
       "      <td>...</td>\n",
       "      <td>...</td>\n",
       "    </tr>\n",
       "    <tr>\n",
       "      <th>2024-09-15</th>\n",
       "      <td>-0.043316</td>\n",
       "      <td>-0.083186</td>\n",
       "      <td>-0.077792</td>\n",
       "      <td>-0.016556</td>\n",
       "    </tr>\n",
       "    <tr>\n",
       "      <th>2024-09-16</th>\n",
       "      <td>-0.043316</td>\n",
       "      <td>-0.083522</td>\n",
       "      <td>-0.080991</td>\n",
       "      <td>-0.016662</td>\n",
       "    </tr>\n",
       "    <tr>\n",
       "      <th>2024-09-17</th>\n",
       "      <td>-0.043316</td>\n",
       "      <td>-0.081416</td>\n",
       "      <td>-0.077204</td>\n",
       "      <td>0.013770</td>\n",
       "    </tr>\n",
       "    <tr>\n",
       "      <th>2024-09-18</th>\n",
       "      <td>-0.043316</td>\n",
       "      <td>-0.083933</td>\n",
       "      <td>-0.081012</td>\n",
       "      <td>0.055501</td>\n",
       "    </tr>\n",
       "    <tr>\n",
       "      <th>2024-09-19</th>\n",
       "      <td>-0.043316</td>\n",
       "      <td>-0.083305</td>\n",
       "      <td>-0.078713</td>\n",
       "      <td>-0.002410</td>\n",
       "    </tr>\n",
       "  </tbody>\n",
       "</table>\n",
       "<p>250 rows × 4 columns</p>\n",
       "</div>"
      ],
      "text/plain": [
       "            Historical  Parametric  Multivariate  Portfolio\n",
       "2024-01-14   -0.057909   -0.105104     -0.088554  -0.024311\n",
       "2024-01-15   -0.057909   -0.105101     -0.091730   0.017825\n",
       "2024-01-16   -0.057909   -0.105681     -0.086459   0.058251\n",
       "2024-01-17   -0.057909   -0.107988     -0.091744  -0.034481\n",
       "2024-01-18   -0.057909   -0.109935     -0.096657  -0.032311\n",
       "...                ...         ...           ...        ...\n",
       "2024-09-15   -0.043316   -0.083186     -0.077792  -0.016556\n",
       "2024-09-16   -0.043316   -0.083522     -0.080991  -0.016662\n",
       "2024-09-17   -0.043316   -0.081416     -0.077204   0.013770\n",
       "2024-09-18   -0.043316   -0.083933     -0.081012   0.055501\n",
       "2024-09-19   -0.043316   -0.083305     -0.078713  -0.002410\n",
       "\n",
       "[250 rows x 4 columns]"
      ]
     },
     "execution_count": 74,
     "metadata": {},
     "output_type": "execute_result"
    }
   ],
   "source": [
    "var_data=rolling_var(returns_to_use,opt_weights,window=30,Q=1)\n",
    "var_data"
   ]
  },
  {
   "cell_type": "code",
   "execution_count": 75,
   "id": "bca159de-f35d-4db1-b088-09ad2dbc5b6a",
   "metadata": {},
   "outputs": [
    {
     "data": {
      "text/html": [
       "<div>\n",
       "<style scoped>\n",
       "    .dataframe tbody tr th:only-of-type {\n",
       "        vertical-align: middle;\n",
       "    }\n",
       "\n",
       "    .dataframe tbody tr th {\n",
       "        vertical-align: top;\n",
       "    }\n",
       "\n",
       "    .dataframe thead th {\n",
       "        text-align: right;\n",
       "    }\n",
       "</style>\n",
       "<table border=\"1\" class=\"dataframe\">\n",
       "  <thead>\n",
       "    <tr style=\"text-align: right;\">\n",
       "      <th></th>\n",
       "      <th>Historical</th>\n",
       "      <th>Parametric</th>\n",
       "      <th>Multivariate</th>\n",
       "      <th>Portfolio</th>\n",
       "    </tr>\n",
       "  </thead>\n",
       "  <tbody>\n",
       "    <tr>\n",
       "      <th>2024-05-28</th>\n",
       "      <td>-0.028025</td>\n",
       "      <td>-0.078183</td>\n",
       "      <td>-0.072704</td>\n",
       "      <td>-0.017341</td>\n",
       "    </tr>\n",
       "    <tr>\n",
       "      <th>2024-05-29</th>\n",
       "      <td>-0.025679</td>\n",
       "      <td>-0.075649</td>\n",
       "      <td>-0.067390</td>\n",
       "      <td>-0.008527</td>\n",
       "    </tr>\n",
       "    <tr>\n",
       "      <th>2024-05-30</th>\n",
       "      <td>-0.025679</td>\n",
       "      <td>-0.065625</td>\n",
       "      <td>-0.059137</td>\n",
       "      <td>0.034285</td>\n",
       "    </tr>\n",
       "    <tr>\n",
       "      <th>2024-05-31</th>\n",
       "      <td>-0.025679</td>\n",
       "      <td>-0.064377</td>\n",
       "      <td>-0.056807</td>\n",
       "      <td>0.019897</td>\n",
       "    </tr>\n",
       "    <tr>\n",
       "      <th>2024-06-01</th>\n",
       "      <td>-0.025679</td>\n",
       "      <td>-0.064905</td>\n",
       "      <td>-0.057366</td>\n",
       "      <td>0.031736</td>\n",
       "    </tr>\n",
       "    <tr>\n",
       "      <th>...</th>\n",
       "      <td>...</td>\n",
       "      <td>...</td>\n",
       "      <td>...</td>\n",
       "      <td>...</td>\n",
       "    </tr>\n",
       "    <tr>\n",
       "      <th>2024-09-15</th>\n",
       "      <td>-0.036127</td>\n",
       "      <td>-0.065118</td>\n",
       "      <td>-0.064835</td>\n",
       "      <td>-0.022932</td>\n",
       "    </tr>\n",
       "    <tr>\n",
       "      <th>2024-09-16</th>\n",
       "      <td>-0.036103</td>\n",
       "      <td>-0.061865</td>\n",
       "      <td>-0.058888</td>\n",
       "      <td>-0.010882</td>\n",
       "    </tr>\n",
       "    <tr>\n",
       "      <th>2024-09-17</th>\n",
       "      <td>-0.036103</td>\n",
       "      <td>-0.056202</td>\n",
       "      <td>-0.054774</td>\n",
       "      <td>0.017462</td>\n",
       "    </tr>\n",
       "    <tr>\n",
       "      <th>2024-09-18</th>\n",
       "      <td>-0.031974</td>\n",
       "      <td>-0.053405</td>\n",
       "      <td>-0.048977</td>\n",
       "      <td>0.030829</td>\n",
       "    </tr>\n",
       "    <tr>\n",
       "      <th>2024-09-19</th>\n",
       "      <td>-0.031974</td>\n",
       "      <td>-0.053169</td>\n",
       "      <td>-0.047416</td>\n",
       "      <td>0.014666</td>\n",
       "    </tr>\n",
       "  </tbody>\n",
       "</table>\n",
       "<p>115 rows × 4 columns</p>\n",
       "</div>"
      ],
      "text/plain": [
       "            Historical  Parametric  Multivariate  Portfolio\n",
       "2024-05-28   -0.028025   -0.078183     -0.072704  -0.017341\n",
       "2024-05-29   -0.025679   -0.075649     -0.067390  -0.008527\n",
       "2024-05-30   -0.025679   -0.065625     -0.059137   0.034285\n",
       "2024-05-31   -0.025679   -0.064377     -0.056807   0.019897\n",
       "2024-06-01   -0.025679   -0.064905     -0.057366   0.031736\n",
       "...                ...         ...           ...        ...\n",
       "2024-09-15   -0.036127   -0.065118     -0.064835  -0.022932\n",
       "2024-09-16   -0.036103   -0.061865     -0.058888  -0.010882\n",
       "2024-09-17   -0.036103   -0.056202     -0.054774   0.017462\n",
       "2024-09-18   -0.031974   -0.053405     -0.048977   0.030829\n",
       "2024-09-19   -0.031974   -0.053169     -0.047416   0.014666\n",
       "\n",
       "[115 rows x 4 columns]"
      ]
     },
     "execution_count": 75,
     "metadata": {},
     "output_type": "execute_result"
    }
   ],
   "source": [
    "current_var_data=rolling_var(ex_ante_perf_to_use,current_weights,window=15,Q=1)\n",
    "current_var_data"
   ]
  },
  {
   "cell_type": "code",
   "execution_count": 76,
   "id": "0e7d84e4-bd99-45e8-9326-4f84526ba091",
   "metadata": {},
   "outputs": [
    {
     "data": {
      "text/plain": [
       "<AxesSubplot:>"
      ]
     },
     "execution_count": 76,
     "metadata": {},
     "output_type": "execute_result"
    },
    {
     "data": {
      "image/png": "[encoded data removed]",
      "text/plain": [
       "<Figure size 432x288 with 1 Axes>"
      ]
     },
     "metadata": {
      "needs_background": "light"
     },
     "output_type": "display_data"
    }
   ],
   "source": [
    "var_data.plot()"
   ]
  },
  {
   "cell_type": "code",
   "execution_count": 77,
   "id": "4499b3ef-4ed2-48a3-8967-0230afa98c7d",
   "metadata": {},
   "outputs": [
    {
     "data": {
      "text/plain": [
       "<AxesSubplot:>"
      ]
     },
     "execution_count": 77,
     "metadata": {},
     "output_type": "execute_result"
    },
    {
     "data": {
      "image/png": "[encoded data removed]",
      "text/plain": [
       "<Figure size 432x288 with 1 Axes>"
      ]
     },
     "metadata": {
      "needs_background": "light"
     },
     "output_type": "display_data"
    }
   ],
   "source": [
    "current_var_data.plot()"
   ]
  },
  {
   "cell_type": "code",
   "execution_count": 78,
   "id": "e47d08e8-e7a7-4b22-8605-f8200e5645a6",
   "metadata": {},
   "outputs": [
    {
     "data": {
      "text/html": [
       "<div>\n",
       "<style scoped>\n",
       "    .dataframe tbody tr th:only-of-type {\n",
       "        vertical-align: middle;\n",
       "    }\n",
       "\n",
       "    .dataframe tbody tr th {\n",
       "        vertical-align: top;\n",
       "    }\n",
       "\n",
       "    .dataframe thead th {\n",
       "        text-align: right;\n",
       "    }\n",
       "</style>\n",
       "<table border=\"1\" class=\"dataframe\">\n",
       "  <thead>\n",
       "    <tr style=\"text-align: right;\">\n",
       "      <th></th>\n",
       "      <th>Historical</th>\n",
       "      <th>Parametric</th>\n",
       "      <th>Multivariate</th>\n",
       "    </tr>\n",
       "  </thead>\n",
       "  <tbody>\n",
       "    <tr>\n",
       "      <th>Proportion of failure</th>\n",
       "      <td>0.02</td>\n",
       "      <td>0.012</td>\n",
       "      <td>0.012</td>\n",
       "    </tr>\n",
       "    <tr>\n",
       "      <th>Kupiec Stat</th>\n",
       "      <td>6.07148</td>\n",
       "      <td>10.812334</td>\n",
       "      <td>10.812334</td>\n",
       "    </tr>\n",
       "    <tr>\n",
       "      <th>P-value</th>\n",
       "      <td>0.013738</td>\n",
       "      <td>0.001008</td>\n",
       "      <td>0.001008</td>\n",
       "    </tr>\n",
       "  </tbody>\n",
       "</table>\n",
       "</div>"
      ],
      "text/plain": [
       "                      Historical Parametric Multivariate\n",
       "Proportion of failure       0.02      0.012        0.012\n",
       "Kupiec Stat              6.07148  10.812334    10.812334\n",
       "P-value                 0.013738   0.001008     0.001008"
      ]
     },
     "execution_count": 78,
     "metadata": {},
     "output_type": "execute_result"
    }
   ],
   "source": [
    "kupiec_test(var_data)"
   ]
  },
  {
   "cell_type": "code",
   "execution_count": 79,
   "id": "0b33e6a3-e732-49df-a1a0-aefaefb1f271",
   "metadata": {},
   "outputs": [
    {
     "data": {
      "text/html": [
       "<div>\n",
       "<style scoped>\n",
       "    .dataframe tbody tr th:only-of-type {\n",
       "        vertical-align: middle;\n",
       "    }\n",
       "\n",
       "    .dataframe tbody tr th {\n",
       "        vertical-align: top;\n",
       "    }\n",
       "\n",
       "    .dataframe thead th {\n",
       "        text-align: right;\n",
       "    }\n",
       "</style>\n",
       "<table border=\"1\" class=\"dataframe\">\n",
       "  <thead>\n",
       "    <tr style=\"text-align: right;\">\n",
       "      <th></th>\n",
       "      <th>Historical</th>\n",
       "      <th>Parametric</th>\n",
       "      <th>Multivariate</th>\n",
       "    </tr>\n",
       "  </thead>\n",
       "  <tbody>\n",
       "    <tr>\n",
       "      <th>Proportion of failure</th>\n",
       "      <td>0.069565</td>\n",
       "      <td>0.026087</td>\n",
       "      <td>0.026087</td>\n",
       "    </tr>\n",
       "    <tr>\n",
       "      <th>Kupiec Stat</th>\n",
       "      <td>0.830527</td>\n",
       "      <td>1.665123</td>\n",
       "      <td>1.665123</td>\n",
       "    </tr>\n",
       "    <tr>\n",
       "      <th>P-value</th>\n",
       "      <td>0.36212</td>\n",
       "      <td>0.196913</td>\n",
       "      <td>0.196913</td>\n",
       "    </tr>\n",
       "  </tbody>\n",
       "</table>\n",
       "</div>"
      ],
      "text/plain": [
       "                      Historical Parametric Multivariate\n",
       "Proportion of failure   0.069565   0.026087     0.026087\n",
       "Kupiec Stat             0.830527   1.665123     1.665123\n",
       "P-value                  0.36212   0.196913     0.196913"
      ]
     },
     "execution_count": 79,
     "metadata": {},
     "output_type": "execute_result"
    }
   ],
   "source": [
    "kupiec_test(current_var_data)"
   ]
  },
  {
   "cell_type": "markdown",
   "id": "7d238b49-45e4-4e3c-a34b-654a69961cc2",
   "metadata": {},
   "source": [
    "## Principal Component Analysis"
   ]
  },
  {
   "cell_type": "markdown",
   "id": "f692a72e-632c-4eb9-afa3-b1283e5e6fd9",
   "metadata": {},
   "source": [
    "### Historical PCA"
   ]
  },
  {
   "cell_type": "code",
   "execution_count": 80,
   "id": "6000e084-3863-47c4-9f09-9fcd4c7220be",
   "metadata": {},
   "outputs": [
    {
     "data": {
      "text/plain": [
       "array([0.78806011, 0.06479275, 0.05309874, 0.04989911, 0.04414929])"
      ]
     },
     "execution_count": 80,
     "metadata": {},
     "output_type": "execute_result"
    }
   ],
   "source": [
    "eigval,eigvec,portfolio_components=historical_risk.pca(num_components=5)\n",
    "variance_explained=eigval/eigval.sum()\n",
    "variance_explained"
   ]
  },
  {
   "cell_type": "code",
   "execution_count": 81,
   "id": "53fd60dd-afcd-4a5f-bc0c-1afbe4acfcf5",
   "metadata": {},
   "outputs": [
    {
     "data": {
      "text/plain": [
       "1000SATSUSDT    0.023765\n",
       "AAVEUSDT        0.013983\n",
       "ADAUSDT         0.014067\n",
       "ALGOUSDT        0.015614\n",
       "APTUSDT         0.014920\n",
       "                  ...   \n",
       "WLDUSDT         0.021345\n",
       "XECUSDT         0.015218\n",
       "XLMUSDT         0.009471\n",
       "XRPUSDT         0.009095\n",
       "XTZUSDT         0.014238\n",
       "Name: PC1, Length: 65, dtype: float64"
      ]
     },
     "execution_count": 81,
     "metadata": {},
     "output_type": "execute_result"
    }
   ],
   "source": [
    "pca_weight=dict((portfolio_components['PC1']/portfolio_components['PC1'].sum()))\n",
    "portfolio_components['PC1']"
   ]
  },
  {
   "cell_type": "code",
   "execution_count": 82,
   "id": "e83837db-6bb4-44d7-8d2f-ace69c484699",
   "metadata": {},
   "outputs": [
    {
     "data": {
      "text/plain": [
       "<AxesSubplot:>"
      ]
     },
     "execution_count": 82,
     "metadata": {},
     "output_type": "execute_result"
    },
    {
     "data": {
      "image/png": "[encoded data removed]",
      "text/plain": [
       "<Figure size 432x288 with 1 Axes>"
      ]
     },
     "metadata": {
      "needs_background": "light"
     },
     "output_type": "display_data"
    }
   ],
   "source": [
    "PCA=pd.DataFrame(np.array(list(pca_weight.values())).dot(np.transpose(historical_risk.returns)),\n",
    "                 index=historical_risk.returns.index,\n",
    "                 columns=['PCA'])\n",
    "PCA=PCA.dropna()\n",
    "(1+PCA).cumprod().plot()"
   ]
  },
  {
   "cell_type": "code",
   "execution_count": 83,
   "id": "c575f9ec-6680-4401-814e-d33785954e38",
   "metadata": {},
   "outputs": [
    {
     "data": {
      "text/plain": [
       "<AxesSubplot:>"
      ]
     },
     "execution_count": 83,
     "metadata": {},
     "output_type": "execute_result"
    },
    {
     "data": {
      "image/png": "[encoded data removed]",
      "text/plain": [
       "<Figure size 432x288 with 1 Axes>"
      ]
     },
     "metadata": {
      "needs_background": "light"
     },
     "output_type": "display_data"
    }
   ],
   "source": [
    "(1+historical_risk.returns['BTCUSDT']).cumprod().plot()"
   ]
  },
  {
   "cell_type": "code",
   "execution_count": 84,
   "id": "1a144186-3cff-4c2b-8833-2ff9c7ed02d0",
   "metadata": {},
   "outputs": [
    {
     "data": {
      "text/plain": [
       "PCA          0.000000\n",
       "XTZUSDT      0.336788\n",
       "ADAUSDT      0.338607\n",
       "ALGOUSDT     0.350481\n",
       "ETHUSDT      0.356595\n",
       "               ...   \n",
       "PEPEUSDT     0.991194\n",
       "FLOKIUSDT    1.001356\n",
       "WLDUSDT      1.023095\n",
       "CKBUSDT      1.139598\n",
       "OMUSDT       1.313676\n",
       "Length: 66, dtype: float64"
      ]
     },
     "execution_count": 84,
     "metadata": {},
     "output_type": "execute_result"
    }
   ],
   "source": [
    "comparison=historical_risk.returns.copy()\n",
    "comparison['PCA']=PCA\n",
    "distances=np.sqrt(np.sum(comparison.apply(lambda y:(y-PCA['PCA'])**2))).sort_values()\n",
    "distances"
   ]
  },
  {
   "cell_type": "code",
   "execution_count": 85,
   "id": "1757caf9-a1c9-4e4e-8334-fae0314667e7",
   "metadata": {},
   "outputs": [
    {
     "data": {
      "text/plain": [
       "<AxesSubplot:>"
      ]
     },
     "execution_count": 85,
     "metadata": {},
     "output_type": "execute_result"
    },
    {
     "data": {
      "image/png": "[encoded data removed]",
      "text/plain": [
       "<Figure size 432x288 with 1 Axes>"
      ]
     },
     "metadata": {
      "needs_background": "light"
     },
     "output_type": "display_data"
    }
   ],
   "source": [
    "(1+comparison[distances.index[:10]]).cumprod().plot()"
   ]
  },
  {
   "cell_type": "code",
   "execution_count": 86,
   "id": "56a047da-fd00-4827-8e18-635a2fa53389",
   "metadata": {},
   "outputs": [
    {
     "data": {
      "text/plain": [
       "<AxesSubplot:>"
      ]
     },
     "execution_count": 86,
     "metadata": {},
     "output_type": "execute_result"
    },
    {
     "data": {
      "image/png": "[encoded data removed]",
      "text/plain": [
       "<Figure size 432x288 with 1 Axes>"
      ]
     },
     "metadata": {
      "needs_background": "light"
     },
     "output_type": "display_data"
    }
   ],
   "source": [
    "(1+comparison[distances.index[-10:]]).cumprod().plot()"
   ]
  },
  {
   "cell_type": "markdown",
   "id": "1e202647-c176-480f-a368-895d7d744dd0",
   "metadata": {},
   "source": [
    "### Current PCA"
   ]
  },
  {
   "cell_type": "code",
   "execution_count": 87,
   "id": "b279a72f-1f1c-42f0-a641-013b3e43675f",
   "metadata": {},
   "outputs": [
    {
     "data": {
      "text/plain": [
       "array([0.6682112 , 0.14031406, 0.08838767, 0.07101554, 0.03207153])"
      ]
     },
     "execution_count": 87,
     "metadata": {},
     "output_type": "execute_result"
    }
   ],
   "source": [
    "eigval,eigvec,portfolio_components_current=current_risk.pca(num_components=5)\n",
    "variance_explained=eigval/eigval.sum()\n",
    "variance_explained"
   ]
  },
  {
   "cell_type": "code",
   "execution_count": 88,
   "id": "dfe7f204-8aab-42a9-a2e3-95c60a6b146e",
   "metadata": {},
   "outputs": [
    {
     "data": {
      "text/plain": [
       "BTCUSDT      0.064541\n",
       "OMUSDT       0.100896\n",
       "TRXUSDT      0.014722\n",
       "JASMYUSDT    0.154656\n",
       "SOLUSDT      0.103319\n",
       "ETHUSDT      0.086416\n",
       "BBUSDT       0.245893\n",
       "BNBUSDT      0.068035\n",
       "PEPEUSDT     0.161521\n",
       "Name: PC1, dtype: float64"
      ]
     },
     "execution_count": 88,
     "metadata": {},
     "output_type": "execute_result"
    }
   ],
   "source": [
    "pca_weight=dict((portfolio_components_current['PC1']/portfolio_components_current['PC1'].sum()))\n",
    "portfolio_components_current['PC1']"
   ]
  },
  {
   "cell_type": "code",
   "execution_count": 89,
   "id": "85176e0f-abd3-477c-89a2-f8473be390f3",
   "metadata": {},
   "outputs": [
    {
     "data": {
      "text/plain": [
       "<AxesSubplot:>"
      ]
     },
     "execution_count": 89,
     "metadata": {},
     "output_type": "execute_result"
    },
    {
     "data": {
      "image/png": "[encoded data removed]",
      "text/plain": [
       "<Figure size 432x288 with 1 Axes>"
      ]
     },
     "metadata": {
      "needs_background": "light"
     },
     "output_type": "display_data"
    }
   ],
   "source": [
    "PCA=pd.DataFrame(np.array(list(pca_weight.values())).dot(np.transpose(current_risk.returns)),\n",
    "                 index=current_risk.returns.index,\n",
    "                 columns=['PCA'])\n",
    "PCA=PCA.dropna()\n",
    "(1+PCA).cumprod().plot()"
   ]
  },
  {
   "cell_type": "code",
   "execution_count": 90,
   "id": "03b2a48e-4c5a-4d67-8760-a4631629f0a3",
   "metadata": {},
   "outputs": [
    {
     "data": {
      "text/plain": [
       "<AxesSubplot:>"
      ]
     },
     "execution_count": 90,
     "metadata": {},
     "output_type": "execute_result"
    },
    {
     "data": {
      "image/png": "[encoded data removed]",
      "text/plain": [
       "<Figure size 432x288 with 1 Axes>"
      ]
     },
     "metadata": {
      "needs_background": "light"
     },
     "output_type": "display_data"
    }
   ],
   "source": [
    "(1+current_risk.returns['BTCUSDT']).cumprod().plot()"
   ]
  },
  {
   "cell_type": "code",
   "execution_count": 91,
   "id": "726e5786-d256-485f-9aed-34cf41558ed1",
   "metadata": {},
   "outputs": [
    {
     "data": {
      "text/plain": [
       "PCA          0.000000\n",
       "ETHUSDT      0.327337\n",
       "SOLUSDT      0.339366\n",
       "BTCUSDT      0.359445\n",
       "BNBUSDT      0.360597\n",
       "JASMYUSDT    0.420780\n",
       "PEPEUSDT     0.454887\n",
       "OMUSDT       0.532267\n",
       "TRXUSDT      0.537926\n",
       "BBUSDT       0.616045\n",
       "dtype: float64"
      ]
     },
     "execution_count": 91,
     "metadata": {},
     "output_type": "execute_result"
    }
   ],
   "source": [
    "comparison=current_risk.returns.copy()\n",
    "comparison['PCA']=PCA\n",
    "distances=np.sqrt(np.sum(comparison.apply(lambda y:(y-PCA['PCA'])**2))).sort_values()\n",
    "distances.iloc[:10]"
   ]
  },
  {
   "cell_type": "code",
   "execution_count": 92,
   "id": "15dace72-ee38-4c88-92c2-df5fa14f042c",
   "metadata": {},
   "outputs": [
    {
     "data": {
      "text/plain": [
       "<AxesSubplot:>"
      ]
     },
     "execution_count": 92,
     "metadata": {},
     "output_type": "execute_result"
    },
    {
     "data": {
      "image/png": "[encoded data removed]",
      "text/plain": [
       "<Figure size 432x288 with 1 Axes>"
      ]
     },
     "metadata": {
      "needs_background": "light"
     },
     "output_type": "display_data"
    }
   ],
   "source": [
    "(1+comparison[distances.index[:10]]).cumprod().plot()"
   ]
  },
  {
   "cell_type": "markdown",
   "id": "85389228-d5d4-4e65-b11c-e46e5e4155ba",
   "metadata": {},
   "source": [
    "## Sensitivity Analysis"
   ]
  },
  {
   "cell_type": "code",
   "execution_count": 93,
   "id": "7f6c4fd8-79da-438f-9aa9-c5fe762473d3",
   "metadata": {},
   "outputs": [
    {
     "data": {
      "text/plain": [
       "PEPEUSDT     1.935551\n",
       "BBUSDT       1.708756\n",
       "JASMYUSDT    1.281335\n",
       "SOLUSDT      1.161647\n",
       "BTCUSDT      1.000000\n",
       "OMUSDT       0.992236\n",
       "ETHUSDT      0.955278\n",
       "BNBUSDT      0.671177\n",
       "TRXUSDT      0.278987\n",
       "Name: BTCUSDT, dtype: float64"
      ]
     },
     "execution_count": 93,
     "metadata": {},
     "output_type": "execute_result"
    }
   ],
   "source": [
    "beta=(ex_ante_perf.cov()/ex_ante_perf.var())['BTCUSDT'].sort_values(ascending=False)\n",
    "beta"
   ]
  },
  {
   "cell_type": "code",
   "execution_count": 94,
   "id": "47a98cfa-6cea-4d6f-9e50-a8e067707547",
   "metadata": {},
   "outputs": [
    {
     "data": {
      "text/plain": [
       "PEPEUSDT     1.454022\n",
       "BBUSDT       1.286740\n",
       "ETHUSDT      1.060879\n",
       "OMUSDT       1.023442\n",
       "BTCUSDT      1.000000\n",
       "JASMYUSDT    0.944913\n",
       "SOLUSDT      0.877937\n",
       "BNBUSDT      0.673348\n",
       "TRXUSDT      0.046709\n",
       "Name: BTCUSDT, dtype: float64"
      ]
     },
     "execution_count": 94,
     "metadata": {},
     "output_type": "execute_result"
    }
   ],
   "source": [
    "days=15\n",
    "beta=(ex_ante_perf.iloc[-days:].cov()/ex_ante_perf.iloc[-days:].var())['BTCUSDT'].sort_values(ascending=False)\n",
    "beta"
   ]
  },
  {
   "cell_type": "markdown",
   "id": "9f7ba2ce-b159-4322-bfb9-a9f6874cda5e",
   "metadata": {},
   "source": [
    "## Sliding window optimization"
   ]
  },
  {
   "cell_type": "code",
   "execution_count": 95,
   "id": "182eaabf-5686-48d5-8c2e-9414607b541a",
   "metadata": {},
   "outputs": [
    {
     "data": {
      "text/html": [
       "<div>\n",
       "<style scoped>\n",
       "    .dataframe tbody tr th:only-of-type {\n",
       "        vertical-align: middle;\n",
       "    }\n",
       "\n",
       "    .dataframe tbody tr th {\n",
       "        vertical-align: top;\n",
       "    }\n",
       "\n",
       "    .dataframe thead th {\n",
       "        text-align: right;\n",
       "    }\n",
       "</style>\n",
       "<table border=\"1\" class=\"dataframe\">\n",
       "  <thead>\n",
       "    <tr style=\"text-align: right;\">\n",
       "      <th></th>\n",
       "      <th>BTCUSDT</th>\n",
       "      <th>OMUSDT</th>\n",
       "      <th>TRXUSDT</th>\n",
       "      <th>JASMYUSDT</th>\n",
       "      <th>SOLUSDT</th>\n",
       "      <th>ETHUSDT</th>\n",
       "      <th>BBUSDT</th>\n",
       "      <th>BNBUSDT</th>\n",
       "      <th>PEPEUSDT</th>\n",
       "    </tr>\n",
       "  </thead>\n",
       "  <tbody>\n",
       "    <tr>\n",
       "      <th>2024-05-20</th>\n",
       "      <td>0.000000</td>\n",
       "      <td>0.000000</td>\n",
       "      <td>0.000000</td>\n",
       "      <td>0.000000</td>\n",
       "      <td>1.000000</td>\n",
       "      <td>0.000000</td>\n",
       "      <td>0.000000</td>\n",
       "      <td>0.000000</td>\n",
       "      <td>0.000000</td>\n",
       "    </tr>\n",
       "    <tr>\n",
       "      <th>2024-05-27</th>\n",
       "      <td>0.000000</td>\n",
       "      <td>0.000000</td>\n",
       "      <td>0.000000</td>\n",
       "      <td>0.405921</td>\n",
       "      <td>0.000000</td>\n",
       "      <td>0.000000</td>\n",
       "      <td>0.122004</td>\n",
       "      <td>0.000000</td>\n",
       "      <td>0.472076</td>\n",
       "    </tr>\n",
       "    <tr>\n",
       "      <th>2024-06-03</th>\n",
       "      <td>0.000000</td>\n",
       "      <td>0.814875</td>\n",
       "      <td>0.000000</td>\n",
       "      <td>0.185125</td>\n",
       "      <td>0.000000</td>\n",
       "      <td>0.000000</td>\n",
       "      <td>0.000000</td>\n",
       "      <td>0.000000</td>\n",
       "      <td>0.000000</td>\n",
       "    </tr>\n",
       "    <tr>\n",
       "      <th>2024-06-10</th>\n",
       "      <td>0.000000</td>\n",
       "      <td>0.111105</td>\n",
       "      <td>0.841078</td>\n",
       "      <td>0.047817</td>\n",
       "      <td>0.000000</td>\n",
       "      <td>0.000000</td>\n",
       "      <td>0.000000</td>\n",
       "      <td>0.000000</td>\n",
       "      <td>0.000000</td>\n",
       "    </tr>\n",
       "    <tr>\n",
       "      <th>2024-06-17</th>\n",
       "      <td>0.000000</td>\n",
       "      <td>0.000000</td>\n",
       "      <td>0.000000</td>\n",
       "      <td>1.000000</td>\n",
       "      <td>0.000000</td>\n",
       "      <td>0.000000</td>\n",
       "      <td>0.000000</td>\n",
       "      <td>0.000000</td>\n",
       "      <td>0.000000</td>\n",
       "    </tr>\n",
       "    <tr>\n",
       "      <th>2024-06-24</th>\n",
       "      <td>0.000000</td>\n",
       "      <td>0.020132</td>\n",
       "      <td>0.979868</td>\n",
       "      <td>0.000000</td>\n",
       "      <td>0.000000</td>\n",
       "      <td>0.000000</td>\n",
       "      <td>0.000000</td>\n",
       "      <td>0.000000</td>\n",
       "      <td>0.000000</td>\n",
       "    </tr>\n",
       "    <tr>\n",
       "      <th>2024-07-01</th>\n",
       "      <td>0.000000</td>\n",
       "      <td>0.047122</td>\n",
       "      <td>0.804372</td>\n",
       "      <td>0.000000</td>\n",
       "      <td>0.146827</td>\n",
       "      <td>0.000000</td>\n",
       "      <td>0.001680</td>\n",
       "      <td>0.000000</td>\n",
       "      <td>0.000000</td>\n",
       "    </tr>\n",
       "    <tr>\n",
       "      <th>2024-07-08</th>\n",
       "      <td>0.000000</td>\n",
       "      <td>1.000000</td>\n",
       "      <td>0.000000</td>\n",
       "      <td>0.000000</td>\n",
       "      <td>0.000000</td>\n",
       "      <td>0.000000</td>\n",
       "      <td>0.000000</td>\n",
       "      <td>0.000000</td>\n",
       "      <td>0.000000</td>\n",
       "    </tr>\n",
       "    <tr>\n",
       "      <th>2024-07-15</th>\n",
       "      <td>0.048111</td>\n",
       "      <td>0.000000</td>\n",
       "      <td>0.606760</td>\n",
       "      <td>0.002957</td>\n",
       "      <td>0.000000</td>\n",
       "      <td>0.000000</td>\n",
       "      <td>0.037292</td>\n",
       "      <td>0.304881</td>\n",
       "      <td>0.000000</td>\n",
       "    </tr>\n",
       "    <tr>\n",
       "      <th>2024-07-22</th>\n",
       "      <td>0.000000</td>\n",
       "      <td>0.000000</td>\n",
       "      <td>0.000000</td>\n",
       "      <td>0.000000</td>\n",
       "      <td>1.000000</td>\n",
       "      <td>0.000000</td>\n",
       "      <td>0.000000</td>\n",
       "      <td>0.000000</td>\n",
       "      <td>0.000000</td>\n",
       "    </tr>\n",
       "    <tr>\n",
       "      <th>2024-07-29</th>\n",
       "      <td>0.000000</td>\n",
       "      <td>0.000000</td>\n",
       "      <td>0.940007</td>\n",
       "      <td>0.059993</td>\n",
       "      <td>0.000000</td>\n",
       "      <td>0.000000</td>\n",
       "      <td>0.000000</td>\n",
       "      <td>0.000000</td>\n",
       "      <td>0.000000</td>\n",
       "    </tr>\n",
       "    <tr>\n",
       "      <th>2024-08-05</th>\n",
       "      <td>0.000000</td>\n",
       "      <td>0.000000</td>\n",
       "      <td>0.000000</td>\n",
       "      <td>0.000000</td>\n",
       "      <td>0.000000</td>\n",
       "      <td>0.000000</td>\n",
       "      <td>0.000000</td>\n",
       "      <td>1.000000</td>\n",
       "      <td>0.000000</td>\n",
       "    </tr>\n",
       "    <tr>\n",
       "      <th>2024-08-12</th>\n",
       "      <td>0.000000</td>\n",
       "      <td>0.000000</td>\n",
       "      <td>0.948997</td>\n",
       "      <td>0.000000</td>\n",
       "      <td>0.000000</td>\n",
       "      <td>0.051003</td>\n",
       "      <td>0.000000</td>\n",
       "      <td>0.000000</td>\n",
       "      <td>0.000000</td>\n",
       "    </tr>\n",
       "    <tr>\n",
       "      <th>2024-08-19</th>\n",
       "      <td>0.000000</td>\n",
       "      <td>0.000000</td>\n",
       "      <td>1.000000</td>\n",
       "      <td>0.000000</td>\n",
       "      <td>0.000000</td>\n",
       "      <td>0.000000</td>\n",
       "      <td>0.000000</td>\n",
       "      <td>0.000000</td>\n",
       "      <td>0.000000</td>\n",
       "    </tr>\n",
       "    <tr>\n",
       "      <th>2024-08-26</th>\n",
       "      <td>0.121806</td>\n",
       "      <td>0.000000</td>\n",
       "      <td>0.331982</td>\n",
       "      <td>0.000000</td>\n",
       "      <td>0.546213</td>\n",
       "      <td>0.000000</td>\n",
       "      <td>0.000000</td>\n",
       "      <td>0.000000</td>\n",
       "      <td>0.000000</td>\n",
       "    </tr>\n",
       "    <tr>\n",
       "      <th>2024-09-02</th>\n",
       "      <td>0.000000</td>\n",
       "      <td>1.000000</td>\n",
       "      <td>0.000000</td>\n",
       "      <td>0.000000</td>\n",
       "      <td>0.000000</td>\n",
       "      <td>0.000000</td>\n",
       "      <td>0.000000</td>\n",
       "      <td>0.000000</td>\n",
       "      <td>0.000000</td>\n",
       "    </tr>\n",
       "    <tr>\n",
       "      <th>2024-09-09</th>\n",
       "      <td>0.000000</td>\n",
       "      <td>0.000000</td>\n",
       "      <td>0.000000</td>\n",
       "      <td>0.000000</td>\n",
       "      <td>0.000000</td>\n",
       "      <td>0.000000</td>\n",
       "      <td>1.000000</td>\n",
       "      <td>0.000000</td>\n",
       "      <td>0.000000</td>\n",
       "    </tr>\n",
       "    <tr>\n",
       "      <th>2024-09-16</th>\n",
       "      <td>0.000000</td>\n",
       "      <td>0.418362</td>\n",
       "      <td>0.000000</td>\n",
       "      <td>0.000000</td>\n",
       "      <td>0.000000</td>\n",
       "      <td>0.000000</td>\n",
       "      <td>0.107905</td>\n",
       "      <td>0.473734</td>\n",
       "      <td>0.000000</td>\n",
       "    </tr>\n",
       "  </tbody>\n",
       "</table>\n",
       "</div>"
      ],
      "text/plain": [
       "             BTCUSDT    OMUSDT   TRXUSDT  JASMYUSDT   SOLUSDT   ETHUSDT  \\\n",
       "2024-05-20  0.000000  0.000000  0.000000   0.000000  1.000000  0.000000   \n",
       "2024-05-27  0.000000  0.000000  0.000000   0.405921  0.000000  0.000000   \n",
       "2024-06-03  0.000000  0.814875  0.000000   0.185125  0.000000  0.000000   \n",
       "2024-06-10  0.000000  0.111105  0.841078   0.047817  0.000000  0.000000   \n",
       "2024-06-17  0.000000  0.000000  0.000000   1.000000  0.000000  0.000000   \n",
       "2024-06-24  0.000000  0.020132  0.979868   0.000000  0.000000  0.000000   \n",
       "2024-07-01  0.000000  0.047122  0.804372   0.000000  0.146827  0.000000   \n",
       "2024-07-08  0.000000  1.000000  0.000000   0.000000  0.000000  0.000000   \n",
       "2024-07-15  0.048111  0.000000  0.606760   0.002957  0.000000  0.000000   \n",
       "2024-07-22  0.000000  0.000000  0.000000   0.000000  1.000000  0.000000   \n",
       "2024-07-29  0.000000  0.000000  0.940007   0.059993  0.000000  0.000000   \n",
       "2024-08-05  0.000000  0.000000  0.000000   0.000000  0.000000  0.000000   \n",
       "2024-08-12  0.000000  0.000000  0.948997   0.000000  0.000000  0.051003   \n",
       "2024-08-19  0.000000  0.000000  1.000000   0.000000  0.000000  0.000000   \n",
       "2024-08-26  0.121806  0.000000  0.331982   0.000000  0.546213  0.000000   \n",
       "2024-09-02  0.000000  1.000000  0.000000   0.000000  0.000000  0.000000   \n",
       "2024-09-09  0.000000  0.000000  0.000000   0.000000  0.000000  0.000000   \n",
       "2024-09-16  0.000000  0.418362  0.000000   0.000000  0.000000  0.000000   \n",
       "\n",
       "              BBUSDT   BNBUSDT  PEPEUSDT  \n",
       "2024-05-20  0.000000  0.000000  0.000000  \n",
       "2024-05-27  0.122004  0.000000  0.472076  \n",
       "2024-06-03  0.000000  0.000000  0.000000  \n",
       "2024-06-10  0.000000  0.000000  0.000000  \n",
       "2024-06-17  0.000000  0.000000  0.000000  \n",
       "2024-06-24  0.000000  0.000000  0.000000  \n",
       "2024-07-01  0.001680  0.000000  0.000000  \n",
       "2024-07-08  0.000000  0.000000  0.000000  \n",
       "2024-07-15  0.037292  0.304881  0.000000  \n",
       "2024-07-22  0.000000  0.000000  0.000000  \n",
       "2024-07-29  0.000000  0.000000  0.000000  \n",
       "2024-08-05  0.000000  1.000000  0.000000  \n",
       "2024-08-12  0.000000  0.000000  0.000000  \n",
       "2024-08-19  0.000000  0.000000  0.000000  \n",
       "2024-08-26  0.000000  0.000000  0.000000  \n",
       "2024-09-02  0.000000  0.000000  0.000000  \n",
       "2024-09-09  1.000000  0.000000  0.000000  \n",
       "2024-09-16  0.107905  0.473734  0.000000  "
      ]
     },
     "execution_count": 95,
     "metadata": {},
     "output_type": "execute_result"
    }
   ],
   "source": [
    "results={}\n",
    "window=7\n",
    "\n",
    "for i in range(0,ex_ante_perf_to_use.shape[0]-window+1,window):\n",
    "    \n",
    "    try:\n",
    "        dataset=ex_ante_perf_to_use.iloc[i:i+window]\n",
    "        risk=RiskAnalysis(dataset)\n",
    "        date=dataset.index[-1]\n",
    "        optimal=risk.optimize(objective='sharpe_ratio')     \n",
    "        results[date]=np.round(optimal,6)\n",
    "        \n",
    "    except Exception as e:\n",
    "        \n",
    "            pass\n",
    "\n",
    "rolling_optimization=pd.DataFrame(results,index=ex_ante_perf_to_use.columns).T\n",
    "rolling_optimization"
   ]
  },
  {
   "cell_type": "code",
   "execution_count": 96,
   "id": "1043b1f6-d624-4d5a-b948-c9a0052ba45c",
   "metadata": {},
   "outputs": [
    {
     "data": {
      "text/plain": [
       "BTCUSDT      0\n",
       "OMUSDT       4\n",
       "TRXUSDT      8\n",
       "JASMYUSDT    2\n",
       "SOLUSDT      3\n",
       "ETHUSDT      0\n",
       "BBUSDT       1\n",
       "BNBUSDT      3\n",
       "PEPEUSDT     1\n",
       "dtype: int64"
      ]
     },
     "execution_count": 96,
     "metadata": {},
     "output_type": "execute_result"
    }
   ],
   "source": [
    "(rolling_optimization>0.25).sum()"
   ]
  },
  {
   "cell_type": "code",
   "execution_count": null,
   "id": "ac178453-7ecc-4020-b4de-7f20edc2690b",
   "metadata": {},
   "outputs": [],
   "source": []
  }
 ],
 "metadata": {
  "kernelspec": {
   "display_name": "Python 3 (ipykernel)",
   "language": "python",
   "name": "python3"
  },
  "language_info": {
   "codemirror_mode": {
    "name": "ipython",
    "version": 3
   },
   "file_extension": ".py",
   "mimetype": "text/x-python",
   "name": "python",
   "nbconvert_exporter": "python",
   "pygments_lexer": "ipython3",
   "version": "3.9.12"
  }
 },
 "nbformat": 4,
 "nbformat_minor": 5
}
