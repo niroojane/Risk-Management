{
 "cells": [
  {
   "cell_type": "markdown",
   "id": "b37f1921-36ab-4456-9e86-117c39f91bc4",
   "metadata": {},
   "source": [
    "# Importing Libraries"
   ]
  },
  {
   "cell_type": "code",
   "execution_count": 1,
   "id": "1955d1de-ae34-4125-91ad-53073b1837d5",
   "metadata": {},
   "outputs": [],
   "source": [
    "import pandas as pd\n",
    "import random\n",
    "import numpy as np\n",
    "import matplotlib.pyplot as plt\n",
    "import datetime\n",
    "import seaborn as sns"
   ]
  },
  {
   "cell_type": "code",
   "execution_count": 2,
   "id": "917dd650-def2-4d10-89d9-ca82b6a3704f",
   "metadata": {},
   "outputs": [],
   "source": [
    "%run \"Stock Data.ipynb\".ipynb\n",
    "%run \"Binance API.ipynb\".ipynb\n",
    "%run \"RiskMetrics.ipynb\".ipynb"
   ]
  },
  {
   "cell_type": "markdown",
   "id": "01a00d22-d2b2-4f90-97d6-a7a3f8ef242f",
   "metadata": {},
   "source": [
    "# Importing Data"
   ]
  },
  {
   "cell_type": "markdown",
   "id": "0af29f5a-4c7d-44b2-8ecc-6d859cdc6983",
   "metadata": {},
   "source": [
    "## Tickers"
   ]
  },
  {
   "cell_type": "code",
   "execution_count": 3,
   "id": "879726f3-da1f-4180-8121-df701ec61bf4",
   "metadata": {},
   "outputs": [],
   "source": [
    "binance_api_key='E90xR7UnO2oeP3lrgC50zkqUuAqyyXs4uSlAGcqIVO9n90ELrFI4gfVI2HGGxxCj'\n",
    "binance_api_secret='Inls2xYl9FqPi0zlIrucfxG81drx7w6Pv6SzYFxMNoAcwDjlCKug7zUM9zB3lF9h'\n",
    "Binance=BinanceAPI(binance_api_key,binance_api_secret)"
   ]
  },
  {
   "cell_type": "code",
   "execution_count": 4,
   "id": "0f1c0e61-395a-407c-9aef-80d5011e56b5",
   "metadata": {},
   "outputs": [],
   "source": [
    "#stocks=pd.read_html('https://en.wikipedia.org/wiki/EURO_STOXX_50')[4]\n",
    "#tickers=stocks['Ticker'].to_list()"
   ]
  },
  {
   "cell_type": "markdown",
   "id": "c33884b2-73bc-4e92-8c5b-09559b34051d",
   "metadata": {},
   "source": [
    "## Market Data"
   ]
  },
  {
   "cell_type": "code",
   "execution_count": 5,
   "id": "b5919bc8-fde2-4e6f-871d-2eed8341c8ae",
   "metadata": {},
   "outputs": [],
   "source": [
    "start_date=datetime.datetime(2023,12,1)\n",
    "enddate=start_date+datetime.timedelta(500)"
   ]
  },
  {
   "cell_type": "code",
   "execution_count": 6,
   "id": "2acbb880-e2dd-44db-9445-8825655ce705",
   "metadata": {},
   "outputs": [],
   "source": [
    "book_cost=pd.read_excel(\"Book Cost.xlsx\",index_col='Ticker')"
   ]
  },
  {
   "cell_type": "code",
   "execution_count": 7,
   "id": "98b54a27-faf6-40cc-8a1b-8982aaa1e588",
   "metadata": {},
   "outputs": [
    {
     "data": {
      "text/html": [
       "<div>\n",
       "<style scoped>\n",
       "    .dataframe tbody tr th:only-of-type {\n",
       "        vertical-align: middle;\n",
       "    }\n",
       "\n",
       "    .dataframe tbody tr th {\n",
       "        vertical-align: top;\n",
       "    }\n",
       "\n",
       "    .dataframe thead th {\n",
       "        text-align: right;\n",
       "    }\n",
       "</style>\n",
       "<table border=\"1\" class=\"dataframe\">\n",
       "  <thead>\n",
       "    <tr style=\"text-align: right;\">\n",
       "      <th></th>\n",
       "      <th>Book Cost</th>\n",
       "    </tr>\n",
       "    <tr>\n",
       "      <th>Ticker</th>\n",
       "      <th></th>\n",
       "    </tr>\n",
       "  </thead>\n",
       "  <tbody>\n",
       "    <tr>\n",
       "      <th>BTCUSDT</th>\n",
       "      <td>69141.710000</td>\n",
       "    </tr>\n",
       "    <tr>\n",
       "      <th>TRXUSDT</th>\n",
       "      <td>0.164146</td>\n",
       "    </tr>\n",
       "    <tr>\n",
       "      <th>JASMYUSDT</th>\n",
       "      <td>0.035478</td>\n",
       "    </tr>\n",
       "    <tr>\n",
       "      <th>SOLUSDT</th>\n",
       "      <td>146.170000</td>\n",
       "    </tr>\n",
       "    <tr>\n",
       "      <th>OMUSDT</th>\n",
       "      <td>1.150000</td>\n",
       "    </tr>\n",
       "    <tr>\n",
       "      <th>ETHUSDT</th>\n",
       "      <td>3810.480000</td>\n",
       "    </tr>\n",
       "    <tr>\n",
       "      <th>BBUSDT</th>\n",
       "      <td>0.398000</td>\n",
       "    </tr>\n",
       "    <tr>\n",
       "      <th>BNBUSDT</th>\n",
       "      <td>674.930000</td>\n",
       "    </tr>\n",
       "    <tr>\n",
       "      <th>PEPEUSDT</th>\n",
       "      <td>0.000002</td>\n",
       "    </tr>\n",
       "  </tbody>\n",
       "</table>\n",
       "</div>"
      ],
      "text/plain": [
       "              Book Cost\n",
       "Ticker                 \n",
       "BTCUSDT    69141.710000\n",
       "TRXUSDT        0.164146\n",
       "JASMYUSDT      0.035478\n",
       "SOLUSDT      146.170000\n",
       "OMUSDT         1.150000\n",
       "ETHUSDT     3810.480000\n",
       "BBUSDT         0.398000\n",
       "BNBUSDT      674.930000\n",
       "PEPEUSDT       0.000002"
      ]
     },
     "execution_count": 7,
     "metadata": {},
     "output_type": "execute_result"
    }
   ],
   "source": [
    "book_cost"
   ]
  },
  {
   "cell_type": "code",
   "execution_count": 8,
   "id": "3121b466-eae2-4538-bd80-54f2e390b2c1",
   "metadata": {},
   "outputs": [],
   "source": [
    "quantities_api=Binance.binance_api.user_asset()\n",
    "quantities=pd.DataFrame(quantities_api).sort_values(by='free',ascending=False)\n",
    "quantities['asset']=quantities['asset']+'USDT'\n",
    "quantities=quantities.set_index('asset')"
   ]
  },
  {
   "cell_type": "code",
   "execution_count": 9,
   "id": "2a5e1fb2-658d-49d7-afe2-d58ff93c06e5",
   "metadata": {},
   "outputs": [],
   "source": [
    "#today_price=Binance.get_price(holding_tickers,date=datetime.datetime.today()).T\n",
    "#today_price.columns=['Mark To Market']"
   ]
  },
  {
   "cell_type": "code",
   "execution_count": 10,
   "id": "c1f7b822-c68a-438f-817f-d1647230f77a",
   "metadata": {},
   "outputs": [
    {
     "data": {
      "text/html": [
       "<div>\n",
       "<style scoped>\n",
       "    .dataframe tbody tr th:only-of-type {\n",
       "        vertical-align: middle;\n",
       "    }\n",
       "\n",
       "    .dataframe tbody tr th {\n",
       "        vertical-align: top;\n",
       "    }\n",
       "\n",
       "    .dataframe thead th {\n",
       "        text-align: right;\n",
       "    }\n",
       "</style>\n",
       "<table border=\"1\" class=\"dataframe\">\n",
       "  <thead>\n",
       "    <tr style=\"text-align: right;\">\n",
       "      <th></th>\n",
       "      <th>Book Cost</th>\n",
       "      <th>Price in USDT</th>\n",
       "      <th>Weights</th>\n",
       "      <th>Profit and Loss</th>\n",
       "    </tr>\n",
       "  </thead>\n",
       "  <tbody>\n",
       "    <tr>\n",
       "      <th>BTCUSDT</th>\n",
       "      <td>611.9581</td>\n",
       "      <td>580.5162</td>\n",
       "      <td>0.2849</td>\n",
       "      <td>-31.4419</td>\n",
       "    </tr>\n",
       "    <tr>\n",
       "      <th>TRXUSDT</th>\n",
       "      <td>79.6748</td>\n",
       "      <td>76.0118</td>\n",
       "      <td>0.0373</td>\n",
       "      <td>-3.6629</td>\n",
       "    </tr>\n",
       "    <tr>\n",
       "      <th>JASMYUSDT</th>\n",
       "      <td>453.8661</td>\n",
       "      <td>301.9125</td>\n",
       "      <td>0.1482</td>\n",
       "      <td>-151.9536</td>\n",
       "    </tr>\n",
       "    <tr>\n",
       "      <th>SOLUSDT</th>\n",
       "      <td>261.7091</td>\n",
       "      <td>283.4450</td>\n",
       "      <td>0.1391</td>\n",
       "      <td>21.7360</td>\n",
       "    </tr>\n",
       "    <tr>\n",
       "      <th>OMUSDT</th>\n",
       "      <td>535.6761</td>\n",
       "      <td>567.1645</td>\n",
       "      <td>0.2784</td>\n",
       "      <td>31.4884</td>\n",
       "    </tr>\n",
       "    <tr>\n",
       "      <th>ETHUSDT</th>\n",
       "      <td>264.2048</td>\n",
       "      <td>184.0131</td>\n",
       "      <td>0.0903</td>\n",
       "      <td>-80.1916</td>\n",
       "    </tr>\n",
       "    <tr>\n",
       "      <th>BBUSDT</th>\n",
       "      <td>46.3321</td>\n",
       "      <td>43.3985</td>\n",
       "      <td>0.0213</td>\n",
       "      <td>-2.9336</td>\n",
       "    </tr>\n",
       "    <tr>\n",
       "      <th>BNBUSDT</th>\n",
       "      <td>1.1490</td>\n",
       "      <td>1.0150</td>\n",
       "      <td>0.0005</td>\n",
       "      <td>-0.1340</td>\n",
       "    </tr>\n",
       "    <tr>\n",
       "      <th>PEPEUSDT</th>\n",
       "      <td>0.0000</td>\n",
       "      <td>0.0000</td>\n",
       "      <td>0.0000</td>\n",
       "      <td>0.0000</td>\n",
       "    </tr>\n",
       "    <tr>\n",
       "      <th>Loss</th>\n",
       "      <td>63.5141</td>\n",
       "      <td>0.0000</td>\n",
       "      <td>0.0000</td>\n",
       "      <td>-63.5141</td>\n",
       "    </tr>\n",
       "    <tr>\n",
       "      <th>Total</th>\n",
       "      <td>2318.0840</td>\n",
       "      <td>2037.4767</td>\n",
       "      <td>1.0000</td>\n",
       "      <td>-280.6073</td>\n",
       "    </tr>\n",
       "  </tbody>\n",
       "</table>\n",
       "</div>"
      ],
      "text/plain": [
       "           Book Cost  Price in USDT  Weights  Profit and Loss\n",
       "BTCUSDT     611.9581       580.5162   0.2849         -31.4419\n",
       "TRXUSDT      79.6748        76.0118   0.0373          -3.6629\n",
       "JASMYUSDT   453.8661       301.9125   0.1482        -151.9536\n",
       "SOLUSDT     261.7091       283.4450   0.1391          21.7360\n",
       "OMUSDT      535.6761       567.1645   0.2784          31.4884\n",
       "ETHUSDT     264.2048       184.0131   0.0903         -80.1916\n",
       "BBUSDT       46.3321        43.3985   0.0213          -2.9336\n",
       "BNBUSDT       1.1490         1.0150   0.0005          -0.1340\n",
       "PEPEUSDT      0.0000         0.0000   0.0000           0.0000\n",
       "Loss         63.5141         0.0000   0.0000         -63.5141\n",
       "Total      2318.0840      2037.4767   1.0000        -280.6073"
      ]
     },
     "execution_count": 10,
     "metadata": {},
     "output_type": "execute_result"
    }
   ],
   "source": [
    "tickers=Binance.get_market_cap()['Ticker'].iloc[:75].to_list()\n",
    "holding=Binance.get_inventory()\n",
    "condition=holding.index!='Total'\n",
    "holding_tickers=holding.index[condition]\n",
    "holding_tickers=holding_tickers.to_list()\n",
    "tickers=sorted(list(set(tickers+holding_tickers)))\n",
    "\n",
    "pnl=pd.concat([book_cost,holding.loc[condition]],axis=1)\n",
    "pnl['Book Cost']=(pnl['Book Cost']*quantities['free'].astype(float))\n",
    "\n",
    "realized_loss=63.514078\n",
    "pnl.loc['Loss']=0\n",
    "pnl.loc['Loss']['Book Cost']=realized_loss\n",
    "pnl['Profit and Loss']=pnl['Price in USDT']-pnl['Book Cost']\n",
    "\n",
    "pnl.loc['Total']=pnl.sum()\n",
    "pnl.round(4)"
   ]
  },
  {
   "cell_type": "code",
   "execution_count": 11,
   "id": "02b13058-bb72-491c-b1c4-107367b2d402",
   "metadata": {},
   "outputs": [],
   "source": [
    "data1=Binance.get_price(tickers,start_date)\n",
    "data2=Binance.get_price(tickers,enddate)\n",
    "data=data1.combine_first(data2)\n",
    "data.index=pd.to_datetime(data.index)\n",
    "#data=data.dropna(axis=1)\n",
    "n=len(data.columns)\n",
    "data=data.sort_index()"
   ]
  },
  {
   "cell_type": "code",
   "execution_count": 12,
   "id": "fa402d23-cca7-4a57-9e61-234a6e346d61",
   "metadata": {},
   "outputs": [],
   "source": [
    "inventory_weights=(holding['Weights'].apply(lambda x: np.round(x,2))).to_dict()\n",
    "inventory_weights.pop('Total')\n",
    "\n",
    "if \"USDTUSDT\" in inventory_weights:\n",
    "    \n",
    "    inventory_weights.pop('USDTUSDT')\n",
    "else: \n",
    "    pass"
   ]
  },
  {
   "cell_type": "code",
   "execution_count": 13,
   "id": "f12eea91-8e16-438a-8418-e9a00c684c51",
   "metadata": {},
   "outputs": [],
   "source": [
    "returns=np.log(1+data.pct_change())\n",
    "returns.index=pd.to_datetime(returns.index)\n",
    "with_no_na=returns.columns[np.where((returns.isna().sum()<30))]\n",
    "returns_to_use=returns[with_no_na]\n",
    "ex_ante_perf=returns[holding_tickers]\n",
    "ex_ante_perf_to_use=ex_ante_perf.dropna()"
   ]
  },
  {
   "cell_type": "code",
   "execution_count": 14,
   "id": "c02ab432-6fac-4d8a-9744-c41d0fc2977c",
   "metadata": {},
   "outputs": [],
   "source": [
    "weights_post=dict()\n",
    "\n",
    "for col in ex_ante_perf.columns:\n",
    "    \n",
    "    if col in inventory_weights.keys():\n",
    "        weights_post[col]=inventory_weights[col]\n",
    "        \n",
    "    else:\n",
    "        weights_post[col]=0\n",
    "    \n",
    "current_weights=np.array(list(weights_post.values()))\n",
    "current_weights=np.round(current_weights,2)/np.sum(np.round(current_weights,2))"
   ]
  },
  {
   "cell_type": "markdown",
   "id": "b140110e-5f33-465c-8e5c-0fc7a645c27d",
   "metadata": {},
   "source": [
    "## Positions"
   ]
  },
  {
   "cell_type": "code",
   "execution_count": 15,
   "id": "17c5e377-a1f1-4dd7-9b69-19903c2e4954",
   "metadata": {},
   "outputs": [],
   "source": [
    "position=pd.read_excel('Positions.xlsx',index_col=0)"
   ]
  },
  {
   "cell_type": "code",
   "execution_count": 16,
   "id": "9c53afdc-8dd4-464f-ac2b-53da43bffdd4",
   "metadata": {},
   "outputs": [
    {
     "name": "stdout",
     "output_type": "stream",
     "text": [
      "2024-05-05 00:00:00\n",
      "2024-06-04 00:00:00\n",
      "2024-07-04 00:00:00\n",
      "2024-08-03 00:00:00\n",
      "2024-09-02 00:00:00\n",
      "LDTRXUSDT not retrieved\n",
      "LDTRXUSDT\n"
     ]
    }
   ],
   "source": [
    "positions,quantities=Binance.get_positions_history(enddate=datetime.datetime.today(),\n",
    "                                        startdate=datetime.datetime(2024,5,5))\n"
   ]
  },
  {
   "cell_type": "code",
   "execution_count": 17,
   "id": "03081ace-41ae-4cc6-8637-36472b4b01a2",
   "metadata": {},
   "outputs": [],
   "source": [
    "positions=positions.sort_index()"
   ]
  },
  {
   "cell_type": "code",
   "execution_count": 18,
   "id": "7f9be1e5-f3e5-4ed6-9408-3a83a3996f73",
   "metadata": {},
   "outputs": [],
   "source": [
    "positions.index=pd.to_datetime(positions.index)"
   ]
  },
  {
   "cell_type": "code",
   "execution_count": 19,
   "id": "5db198b6-761e-42a8-93ae-c9526af6675a",
   "metadata": {},
   "outputs": [],
   "source": [
    "positions=pd.concat([position,positions])\n",
    "positions=positions.loc[~positions.index.duplicated(),:]"
   ]
  },
  {
   "cell_type": "code",
   "execution_count": 20,
   "id": "d132307b-1159-4eaf-9269-a563b817d441",
   "metadata": {},
   "outputs": [],
   "source": [
    "positions.to_excel('Positions.xlsx')\n",
    "quantities.to_excel('Quantities.xlsx')"
   ]
  },
  {
   "cell_type": "code",
   "execution_count": 21,
   "id": "977e691e-b906-421f-9903-a2e47a2cba29",
   "metadata": {},
   "outputs": [],
   "source": [
    "positions=positions.interpolate()\n",
    "positions['Total']=positions.sum(axis=1)"
   ]
  },
  {
   "cell_type": "code",
   "execution_count": 22,
   "id": "7024f40c-7ebf-4695-83bc-29f9dd397bda",
   "metadata": {},
   "outputs": [],
   "source": [
    "ptf_tickers=list(positions.columns)\n",
    "ptf_tickers.remove('USDTUSDT')"
   ]
  },
  {
   "cell_type": "code",
   "execution_count": 23,
   "id": "3a9a3051-c255-4f0d-be18-894331cd55c9",
   "metadata": {},
   "outputs": [],
   "source": [
    "weights_ex_post=positions.copy()\n",
    "weights_ex_post=weights_ex_post.drop(columns=['USDTUSDT'])\n",
    "weights_ex_post=weights_ex_post.apply(lambda x: x/weights_ex_post['Total'])"
   ]
  },
  {
   "cell_type": "code",
   "execution_count": 24,
   "id": "e4dc6066-1329-4a65-a66e-476690428ca0",
   "metadata": {},
   "outputs": [
    {
     "name": "stdout",
     "output_type": "stream",
     "text": [
      "LDUMAUSDT not retrieved\n",
      "Total not retrieved\n"
     ]
    }
   ],
   "source": [
    "binance_data=Binance.get_price(ptf_tickers,date=datetime.datetime(2024,5,11))\n",
    "binance_data.index=pd.to_datetime(binance_data.index)\n",
    "binance_data=binance_data.sort_index()\n",
    "binance_data=np.log(1+binance_data.pct_change())\n"
   ]
  },
  {
   "cell_type": "code",
   "execution_count": 25,
   "id": "5622e624-6716-491e-97b8-c9d221f0d700",
   "metadata": {},
   "outputs": [],
   "source": [
    "weight_date=set(weights_ex_post.index)\n",
    "binance_date=binance_data.index"
   ]
  },
  {
   "cell_type": "code",
   "execution_count": 26,
   "id": "7d465985-94d7-4b93-b6bc-66a63b13ae4f",
   "metadata": {},
   "outputs": [],
   "source": [
    "common_date=binance_date.intersection(weight_date)\n",
    "\n",
    "binance_data=binance_data.loc[common_date]"
   ]
  },
  {
   "cell_type": "code",
   "execution_count": 27,
   "id": "5c6c4aa2-0952-478c-b077-6c37ba62d297",
   "metadata": {},
   "outputs": [],
   "source": [
    "historical_ptf=pd.DataFrame()\n",
    "\n",
    "for col in binance_data:\n",
    "    historical_ptf[col]=weights_ex_post[col]*binance_data[col]\n",
    "    \n",
    "historical_ptf['Historical Portfolio']=historical_ptf.sum(axis=1)"
   ]
  },
  {
   "cell_type": "code",
   "execution_count": 28,
   "id": "c58b1420-5345-4feb-af42-6f019cfdf19c",
   "metadata": {},
   "outputs": [
    {
     "data": {
      "text/plain": [
       "<AxesSubplot:>"
      ]
     },
     "execution_count": 28,
     "metadata": {},
     "output_type": "execute_result"
    },
    {
     "data": {
      "image/png": "[encoded data removed]",
      "text/plain": [
       "<Figure size 432x288 with 1 Axes>"
      ]
     },
     "metadata": {
      "needs_background": "light"
     },
     "output_type": "display_data"
    }
   ],
   "source": [
    "#historical_ptf.dropna(axis = 0, how = 'all', inplace = True)\n",
    "\n",
    "(1+historical_ptf['Historical Portfolio']).cumprod().plot()"
   ]
  },
  {
   "cell_type": "markdown",
   "id": "234cc405-16b8-4ea6-89f9-bf448d837670",
   "metadata": {},
   "source": [
    "## Ex ante data"
   ]
  },
  {
   "cell_type": "code",
   "execution_count": 29,
   "id": "027c07a0-4c8e-45da-a97d-8cf833597a5f",
   "metadata": {},
   "outputs": [],
   "source": [
    "ex_ante_ptf=ex_ante_perf.copy()\n",
    "\n",
    "for key in inventory_weights.keys():\n",
    "    \n",
    "    ex_ante_ptf[key]=ex_ante_perf[key]*inventory_weights[key]\n",
    "\n",
    "ex_ante_ptf=pd.DataFrame(ex_ante_ptf.sum(axis=1))"
   ]
  },
  {
   "cell_type": "markdown",
   "id": "bbec8b12-d681-4704-a561-9718fbb872e0",
   "metadata": {},
   "source": [
    "# Portfolio Optimization"
   ]
  },
  {
   "cell_type": "markdown",
   "id": "16adc40b-d589-4193-8148-7e7dae06dc7e",
   "metadata": {},
   "source": [
    "## Class set up"
   ]
  },
  {
   "cell_type": "code",
   "execution_count": 30,
   "id": "f27106c8-0433-477e-b0bf-6ca9249004b4",
   "metadata": {},
   "outputs": [],
   "source": [
    "historical_risk=RiskAnalysis(returns_to_use)\n",
    "current_risk=RiskAnalysis(ex_ante_perf_to_use.iloc[-15:])\n",
    "num_asset=len(returns_to_use.columns)\n",
    "num_asset_current=len(ex_ante_perf_to_use.columns)"
   ]
  },
  {
   "cell_type": "code",
   "execution_count": 31,
   "id": "f55211bf-ba25-4066-a0d2-6cf0ef658786",
   "metadata": {},
   "outputs": [
    {
     "data": {
      "text/plain": [
       "Index(['AAVEUSDT', 'ADAUSDT', 'ALGOUSDT', 'APTUSDT', 'ARBUSDT', 'ARUSDT',\n",
       "       'ATOMUSDT', 'AVAXUSDT', 'AXSUSDT', 'BCHUSDT', 'BNBUSDT', 'BONKUSDT',\n",
       "       'BTCUSDT', 'CFXUSDT', 'CKBUSDT', 'DOGEUSDT', 'DOTUSDT', 'EGLDUSDT',\n",
       "       'EOSUSDT', 'ETCUSDT', 'ETHUSDT', 'FDUSDUSDT', 'FETUSDT', 'FILUSDT',\n",
       "       'FLOKIUSDT', 'FLOWUSDT', 'FTMUSDT', 'GALAUSDT', 'GRTUSDT', 'HBARUSDT',\n",
       "       'ICPUSDT', 'IMXUSDT', 'INJUSDT', 'JASMYUSDT', 'LDOUSDT', 'LINKUSDT',\n",
       "       'LTCUSDT', 'MKRUSDT', 'NEARUSDT', 'NEOUSDT', 'OMUSDT', 'OPUSDT',\n",
       "       'ORDIUSDT', 'PEPEUSDT', 'QNTUSDT', 'RUNEUSDT', 'SEIUSDT', 'SHIBUSDT',\n",
       "       'SOLUSDT', 'STXUSDT', 'SUIUSDT', 'THETAUSDT', 'TIAUSDT', 'TRXUSDT',\n",
       "       'UNIUSDT', 'USDCUSDT', 'VETUSDT', 'WBETHUSDT', 'WBTCUSDT', 'WLDUSDT',\n",
       "       'XLMUSDT', 'XRPUSDT', 'XTZUSDT'],\n",
       "      dtype='object')"
      ]
     },
     "execution_count": 31,
     "metadata": {},
     "output_type": "execute_result"
    }
   ],
   "source": [
    "returns_to_use.columns"
   ]
  },
  {
   "cell_type": "code",
   "execution_count": 32,
   "id": "eb382de7-0a0b-47f9-83a4-777aef62e9a6",
   "metadata": {},
   "outputs": [],
   "source": [
    "limit_hist=np.where(returns_to_use.columns=='BTCUSDT')[0][0],np.where(returns_to_use.columns=='ETHUSDT')[0][0],np.where(returns_to_use.columns=='SOLUSDT')[0][0]"
   ]
  },
  {
   "cell_type": "markdown",
   "id": "fd2fa57d-de01-4917-8d08-d33930572316",
   "metadata": {},
   "source": [
    "## Optimal Portfolio"
   ]
  },
  {
   "cell_type": "code",
   "execution_count": 33,
   "id": "05eee256-a57c-4cc6-b16c-738b2315f37c",
   "metadata": {},
   "outputs": [
    {
     "data": {
      "text/html": [
       "<div>\n",
       "<style scoped>\n",
       "    .dataframe tbody tr th:only-of-type {\n",
       "        vertical-align: middle;\n",
       "    }\n",
       "\n",
       "    .dataframe tbody tr th {\n",
       "        vertical-align: top;\n",
       "    }\n",
       "\n",
       "    .dataframe thead th {\n",
       "        text-align: right;\n",
       "    }\n",
       "</style>\n",
       "<table border=\"1\" class=\"dataframe\">\n",
       "  <thead>\n",
       "    <tr style=\"text-align: right;\">\n",
       "      <th></th>\n",
       "      <th>Optimal Weights</th>\n",
       "    </tr>\n",
       "  </thead>\n",
       "  <tbody>\n",
       "    <tr>\n",
       "      <th>USDCUSDT</th>\n",
       "      <td>0.9316</td>\n",
       "    </tr>\n",
       "    <tr>\n",
       "      <th>OMUSDT</th>\n",
       "      <td>0.0241</td>\n",
       "    </tr>\n",
       "    <tr>\n",
       "      <th>BNBUSDT</th>\n",
       "      <td>0.0188</td>\n",
       "    </tr>\n",
       "    <tr>\n",
       "      <th>TRXUSDT</th>\n",
       "      <td>0.0160</td>\n",
       "    </tr>\n",
       "    <tr>\n",
       "      <th>PEPEUSDT</th>\n",
       "      <td>0.0064</td>\n",
       "    </tr>\n",
       "    <tr>\n",
       "      <th>JASMYUSDT</th>\n",
       "      <td>0.0022</td>\n",
       "    </tr>\n",
       "    <tr>\n",
       "      <th>CKBUSDT</th>\n",
       "      <td>0.0009</td>\n",
       "    </tr>\n",
       "    <tr>\n",
       "      <th>BONKUSDT</th>\n",
       "      <td>0.0000</td>\n",
       "    </tr>\n",
       "    <tr>\n",
       "      <th>LDOUSDT</th>\n",
       "      <td>0.0000</td>\n",
       "    </tr>\n",
       "    <tr>\n",
       "      <th>RUNEUSDT</th>\n",
       "      <td>0.0000</td>\n",
       "    </tr>\n",
       "  </tbody>\n",
       "</table>\n",
       "</div>"
      ],
      "text/plain": [
       "           Optimal Weights\n",
       "USDCUSDT            0.9316\n",
       "OMUSDT              0.0241\n",
       "BNBUSDT             0.0188\n",
       "TRXUSDT             0.0160\n",
       "PEPEUSDT            0.0064\n",
       "JASMYUSDT           0.0022\n",
       "CKBUSDT             0.0009\n",
       "BONKUSDT            0.0000\n",
       "LDOUSDT             0.0000\n",
       "RUNEUSDT            0.0000"
      ]
     },
     "execution_count": 33,
     "metadata": {},
     "output_type": "execute_result"
    }
   ],
   "source": [
    "opt_weights=historical_risk.optimize(objective=\"sharpe_ratio\")\n",
    "inventory=historical_risk.inventory(opt_weights)\n",
    "inventory.columns=['Optimal Weights']\n",
    "\n",
    "inventory.iloc[:10].round(4)"
   ]
  },
  {
   "cell_type": "code",
   "execution_count": 34,
   "id": "8c58779c-ef34-4f61-9feb-8f30157d7333",
   "metadata": {},
   "outputs": [
    {
     "data": {
      "text/html": [
       "<div>\n",
       "<style scoped>\n",
       "    .dataframe tbody tr th:only-of-type {\n",
       "        vertical-align: middle;\n",
       "    }\n",
       "\n",
       "    .dataframe tbody tr th {\n",
       "        vertical-align: top;\n",
       "    }\n",
       "\n",
       "    .dataframe thead th {\n",
       "        text-align: right;\n",
       "    }\n",
       "</style>\n",
       "<table border=\"1\" class=\"dataframe\">\n",
       "  <thead>\n",
       "    <tr style=\"text-align: right;\">\n",
       "      <th></th>\n",
       "      <th>Optimal Weights</th>\n",
       "    </tr>\n",
       "  </thead>\n",
       "  <tbody>\n",
       "    <tr>\n",
       "      <th>OMUSDT</th>\n",
       "      <td>0.446358</td>\n",
       "    </tr>\n",
       "    <tr>\n",
       "      <th>BTCUSDT</th>\n",
       "      <td>0.400000</td>\n",
       "    </tr>\n",
       "    <tr>\n",
       "      <th>PEPEUSDT</th>\n",
       "      <td>0.090281</td>\n",
       "    </tr>\n",
       "    <tr>\n",
       "      <th>BNBUSDT</th>\n",
       "      <td>0.052985</td>\n",
       "    </tr>\n",
       "    <tr>\n",
       "      <th>JASMYUSDT</th>\n",
       "      <td>0.010376</td>\n",
       "    </tr>\n",
       "  </tbody>\n",
       "</table>\n",
       "</div>"
      ],
      "text/plain": [
       "           Optimal Weights\n",
       "OMUSDT            0.446358\n",
       "BTCUSDT           0.400000\n",
       "PEPEUSDT          0.090281\n",
       "BNBUSDT           0.052985\n",
       "JASMYUSDT         0.010376"
      ]
     },
     "execution_count": 34,
     "metadata": {},
     "output_type": "execute_result"
    }
   ],
   "source": [
    "opt_weights=historical_risk.optimize(objective=\"sharpe_ratio\",constraints=[{'type': 'ineq', 'fun': lambda weights: weights[limit_hist[0]]-0.40}])\n",
    "                                                         #  ,{'type': 'ineq', 'fun': lambda weights: weights[limit[1]]-0.15},\n",
    "                                                        #{'type': 'ineq', 'fun': lambda weights: weights[limit[2]]-0.15}])\n",
    "opt_weights=np.round(opt_weights,6)\n",
    "inventory=historical_risk.inventory(opt_weights)\n",
    "inventory.columns=['Optimal Weights']\n",
    "\n",
    "inventory"
   ]
  },
  {
   "cell_type": "code",
   "execution_count": 35,
   "id": "81a3f562-6810-4e1b-91d1-a7282a3ff347",
   "metadata": {},
   "outputs": [],
   "source": [
    "limit=np.where(ex_ante_perf_to_use.columns=='BTCUSDT')[0][0],np.where(ex_ante_perf_to_use.columns=='ETHUSDT')[0][0],np.where(ex_ante_perf_to_use.columns=='SOLUSDT')[0][0]"
   ]
  },
  {
   "cell_type": "code",
   "execution_count": 36,
   "id": "75be66f1-0ad0-41c8-8807-16e73d711edf",
   "metadata": {},
   "outputs": [
    {
     "data": {
      "text/html": [
       "<div>\n",
       "<style scoped>\n",
       "    .dataframe tbody tr th:only-of-type {\n",
       "        vertical-align: middle;\n",
       "    }\n",
       "\n",
       "    .dataframe tbody tr th {\n",
       "        vertical-align: top;\n",
       "    }\n",
       "\n",
       "    .dataframe thead th {\n",
       "        text-align: right;\n",
       "    }\n",
       "</style>\n",
       "<table border=\"1\" class=\"dataframe\">\n",
       "  <thead>\n",
       "    <tr style=\"text-align: right;\">\n",
       "      <th></th>\n",
       "      <th>Optimal Weights</th>\n",
       "    </tr>\n",
       "  </thead>\n",
       "  <tbody>\n",
       "    <tr>\n",
       "      <th>TRXUSDT</th>\n",
       "      <td>0.817038</td>\n",
       "    </tr>\n",
       "    <tr>\n",
       "      <th>PEPEUSDT</th>\n",
       "      <td>0.086895</td>\n",
       "    </tr>\n",
       "    <tr>\n",
       "      <th>OMUSDT</th>\n",
       "      <td>0.086153</td>\n",
       "    </tr>\n",
       "    <tr>\n",
       "      <th>BTCUSDT</th>\n",
       "      <td>0.009915</td>\n",
       "    </tr>\n",
       "  </tbody>\n",
       "</table>\n",
       "</div>"
      ],
      "text/plain": [
       "          Optimal Weights\n",
       "TRXUSDT          0.817038\n",
       "PEPEUSDT         0.086895\n",
       "OMUSDT           0.086153\n",
       "BTCUSDT          0.009915"
      ]
     },
     "execution_count": 36,
     "metadata": {},
     "output_type": "execute_result"
    }
   ],
   "source": [
    "current_optimal_weights=current_risk.optimize(objective=\"sharpe_ratio\")#,constraints=[{'type': 'ineq', 'fun': lambda weights: weights[limit[0]]-0.40}])\n",
    "                                                           #,{'type': 'ineq', 'fun': lambda weights: weights[limit[1]]-0.15},\n",
    "                                                            #{'type': 'ineq', 'fun': lambda weights: weights[limit[2]]-0.15}])\n",
    "current_optimal_weights=np.round(current_optimal_weights,6)\n",
    "optimal_ptf_current=current_risk.inventory(current_optimal_weights)\n",
    "optimal_ptf_current.columns=['Optimal Weights']\n",
    "optimal_ptf_current"
   ]
  },
  {
   "cell_type": "markdown",
   "id": "555e4cdf-3f8d-445a-b5d7-e35eb59aa4b2",
   "metadata": {},
   "source": [
    "## Real Portfolio vs Optimal"
   ]
  },
  {
   "cell_type": "code",
   "execution_count": 37,
   "id": "1f55a04d-3575-446a-a801-7824e452dd57",
   "metadata": {},
   "outputs": [
    {
     "data": {
      "text/html": [
       "<div>\n",
       "<style scoped>\n",
       "    .dataframe tbody tr th:only-of-type {\n",
       "        vertical-align: middle;\n",
       "    }\n",
       "\n",
       "    .dataframe tbody tr th {\n",
       "        vertical-align: top;\n",
       "    }\n",
       "\n",
       "    .dataframe thead th {\n",
       "        text-align: right;\n",
       "    }\n",
       "</style>\n",
       "<table border=\"1\" class=\"dataframe\">\n",
       "  <thead>\n",
       "    <tr style=\"text-align: right;\">\n",
       "      <th></th>\n",
       "      <th>Price in USDT</th>\n",
       "      <th>Weights</th>\n",
       "      <th>Optimal Weights</th>\n",
       "      <th>Spread</th>\n",
       "    </tr>\n",
       "  </thead>\n",
       "  <tbody>\n",
       "    <tr>\n",
       "      <th>BTCUSDT</th>\n",
       "      <td>580.516199</td>\n",
       "      <td>0.284919</td>\n",
       "      <td>0.009915</td>\n",
       "      <td>0.275004</td>\n",
       "    </tr>\n",
       "    <tr>\n",
       "      <th>OMUSDT</th>\n",
       "      <td>567.164549</td>\n",
       "      <td>0.278366</td>\n",
       "      <td>0.086153</td>\n",
       "      <td>0.192213</td>\n",
       "    </tr>\n",
       "    <tr>\n",
       "      <th>JASMYUSDT</th>\n",
       "      <td>301.912483</td>\n",
       "      <td>0.148180</td>\n",
       "      <td>0.000000</td>\n",
       "      <td>0.000000</td>\n",
       "    </tr>\n",
       "    <tr>\n",
       "      <th>SOLUSDT</th>\n",
       "      <td>283.445047</td>\n",
       "      <td>0.139116</td>\n",
       "      <td>0.000000</td>\n",
       "      <td>0.000000</td>\n",
       "    </tr>\n",
       "    <tr>\n",
       "      <th>ETHUSDT</th>\n",
       "      <td>184.013126</td>\n",
       "      <td>0.090314</td>\n",
       "      <td>0.000000</td>\n",
       "      <td>0.000000</td>\n",
       "    </tr>\n",
       "    <tr>\n",
       "      <th>TRXUSDT</th>\n",
       "      <td>76.011815</td>\n",
       "      <td>0.037307</td>\n",
       "      <td>0.817038</td>\n",
       "      <td>-0.779731</td>\n",
       "    </tr>\n",
       "    <tr>\n",
       "      <th>BBUSDT</th>\n",
       "      <td>43.398466</td>\n",
       "      <td>0.021300</td>\n",
       "      <td>0.000000</td>\n",
       "      <td>0.000000</td>\n",
       "    </tr>\n",
       "    <tr>\n",
       "      <th>BNBUSDT</th>\n",
       "      <td>1.015013</td>\n",
       "      <td>0.000498</td>\n",
       "      <td>0.000000</td>\n",
       "      <td>0.000000</td>\n",
       "    </tr>\n",
       "    <tr>\n",
       "      <th>PEPEUSDT</th>\n",
       "      <td>0.000003</td>\n",
       "      <td>0.000000</td>\n",
       "      <td>0.086895</td>\n",
       "      <td>-0.086895</td>\n",
       "    </tr>\n",
       "  </tbody>\n",
       "</table>\n",
       "</div>"
      ],
      "text/plain": [
       "           Price in USDT   Weights  Optimal Weights    Spread\n",
       "BTCUSDT       580.516199  0.284919         0.009915  0.275004\n",
       "OMUSDT        567.164549  0.278366         0.086153  0.192213\n",
       "JASMYUSDT     301.912483  0.148180         0.000000  0.000000\n",
       "SOLUSDT       283.445047  0.139116         0.000000  0.000000\n",
       "ETHUSDT       184.013126  0.090314         0.000000  0.000000\n",
       "TRXUSDT        76.011815  0.037307         0.817038 -0.779731\n",
       "BBUSDT         43.398466  0.021300         0.000000  0.000000\n",
       "BNBUSDT         1.015013  0.000498         0.000000  0.000000\n",
       "PEPEUSDT        0.000003  0.000000         0.086895 -0.086895"
      ]
     },
     "execution_count": 37,
     "metadata": {},
     "output_type": "execute_result"
    }
   ],
   "source": [
    "current_holding_comparison=holding.copy()\n",
    "current_holding_comparison=current_holding_comparison.loc[current_holding_comparison.index!=\"Total\"]\n",
    "current_holding_comparison=pd.concat([current_holding_comparison,optimal_ptf_current],axis=1)\n",
    "current_holding_comparison['Spread']=current_holding_comparison['Weights']-current_holding_comparison['Optimal Weights']\n",
    "current_holding_comparison['Weights']=current_holding_comparison['Weights'].round(7)\n",
    "current_holding_comparison=current_holding_comparison.fillna(0)\n",
    "current_holding_comparison"
   ]
  },
  {
   "cell_type": "code",
   "execution_count": 38,
   "id": "c02b695b-bfaa-4eef-9212-e0b2717db2a0",
   "metadata": {},
   "outputs": [
    {
     "data": {
      "text/html": [
       "<div>\n",
       "<style scoped>\n",
       "    .dataframe tbody tr th:only-of-type {\n",
       "        vertical-align: middle;\n",
       "    }\n",
       "\n",
       "    .dataframe tbody tr th {\n",
       "        vertical-align: top;\n",
       "    }\n",
       "\n",
       "    .dataframe thead th {\n",
       "        text-align: right;\n",
       "    }\n",
       "</style>\n",
       "<table border=\"1\" class=\"dataframe\">\n",
       "  <thead>\n",
       "    <tr style=\"text-align: right;\">\n",
       "      <th></th>\n",
       "      <th>Price in USDT</th>\n",
       "      <th>Weights</th>\n",
       "      <th>Optimal Weights</th>\n",
       "      <th>Spread</th>\n",
       "    </tr>\n",
       "  </thead>\n",
       "  <tbody>\n",
       "    <tr>\n",
       "      <th>BTCUSDT</th>\n",
       "      <td>580.516199</td>\n",
       "      <td>0.284919</td>\n",
       "      <td>0.400000</td>\n",
       "      <td>-0.115081</td>\n",
       "    </tr>\n",
       "    <tr>\n",
       "      <th>OMUSDT</th>\n",
       "      <td>567.164549</td>\n",
       "      <td>0.278366</td>\n",
       "      <td>0.446358</td>\n",
       "      <td>-0.167992</td>\n",
       "    </tr>\n",
       "    <tr>\n",
       "      <th>JASMYUSDT</th>\n",
       "      <td>301.912483</td>\n",
       "      <td>0.148180</td>\n",
       "      <td>0.010376</td>\n",
       "      <td>0.137804</td>\n",
       "    </tr>\n",
       "    <tr>\n",
       "      <th>SOLUSDT</th>\n",
       "      <td>283.445047</td>\n",
       "      <td>0.139116</td>\n",
       "      <td>0.000000</td>\n",
       "      <td>0.000000</td>\n",
       "    </tr>\n",
       "    <tr>\n",
       "      <th>ETHUSDT</th>\n",
       "      <td>184.013126</td>\n",
       "      <td>0.090314</td>\n",
       "      <td>0.000000</td>\n",
       "      <td>0.000000</td>\n",
       "    </tr>\n",
       "    <tr>\n",
       "      <th>TRXUSDT</th>\n",
       "      <td>76.011815</td>\n",
       "      <td>0.037307</td>\n",
       "      <td>0.000000</td>\n",
       "      <td>0.000000</td>\n",
       "    </tr>\n",
       "    <tr>\n",
       "      <th>BBUSDT</th>\n",
       "      <td>43.398466</td>\n",
       "      <td>0.021300</td>\n",
       "      <td>0.000000</td>\n",
       "      <td>0.000000</td>\n",
       "    </tr>\n",
       "    <tr>\n",
       "      <th>BNBUSDT</th>\n",
       "      <td>1.015013</td>\n",
       "      <td>0.000498</td>\n",
       "      <td>0.052985</td>\n",
       "      <td>-0.052487</td>\n",
       "    </tr>\n",
       "    <tr>\n",
       "      <th>PEPEUSDT</th>\n",
       "      <td>0.000003</td>\n",
       "      <td>0.000000</td>\n",
       "      <td>0.090281</td>\n",
       "      <td>-0.090281</td>\n",
       "    </tr>\n",
       "  </tbody>\n",
       "</table>\n",
       "</div>"
      ],
      "text/plain": [
       "           Price in USDT   Weights  Optimal Weights    Spread\n",
       "BTCUSDT       580.516199  0.284919         0.400000 -0.115081\n",
       "OMUSDT        567.164549  0.278366         0.446358 -0.167992\n",
       "JASMYUSDT     301.912483  0.148180         0.010376  0.137804\n",
       "SOLUSDT       283.445047  0.139116         0.000000  0.000000\n",
       "ETHUSDT       184.013126  0.090314         0.000000  0.000000\n",
       "TRXUSDT        76.011815  0.037307         0.000000  0.000000\n",
       "BBUSDT         43.398466  0.021300         0.000000  0.000000\n",
       "BNBUSDT         1.015013  0.000498         0.052985 -0.052487\n",
       "PEPEUSDT        0.000003  0.000000         0.090281 -0.090281"
      ]
     },
     "execution_count": 38,
     "metadata": {},
     "output_type": "execute_result"
    }
   ],
   "source": [
    "historical_comparison=holding.copy()\n",
    "historical_comparison=historical_comparison.loc[historical_comparison.index!=\"Total\"]\n",
    "historical_comparison=pd.concat([historical_comparison,inventory],axis=1)\n",
    "historical_comparison['Spread']=historical_comparison['Weights']-historical_comparison['Optimal Weights']\n",
    "historical_comparison['Weights']=historical_comparison['Weights'].round(7)\n",
    "historical_comparison=historical_comparison.fillna(0)\n",
    "historical_comparison"
   ]
  },
  {
   "cell_type": "markdown",
   "id": "e764e7c3-19aa-4638-bd23-a2ec30f727c6",
   "metadata": {},
   "source": [
    "# Risk Reward Analysis"
   ]
  },
  {
   "cell_type": "code",
   "execution_count": 39,
   "id": "7290db47-647c-4950-95e9-078b23d37888",
   "metadata": {},
   "outputs": [],
   "source": [
    "opt_ptf=(returns_to_use*opt_weights).sum(axis=1)\n",
    "curr_opt_ptf=(ex_ante_perf*current_optimal_weights).sum(axis=1)\n",
    "portfolio_perf=pd.DataFrame()\n",
    "portfolio_perf['Portfolio']=(ex_ante_perf*current_weights).sum(axis=1)"
   ]
  },
  {
   "cell_type": "code",
   "execution_count": 40,
   "id": "7a7b7f35-933b-4a67-af34-67d3f58c0f57",
   "metadata": {},
   "outputs": [],
   "source": [
    "portfolio_perf['Bitcoin']=returns['BTCUSDT']\n",
    "portfolio_perf['Optimal']=opt_ptf\n",
    "portfolio_perf['Current Optimal']=curr_opt_ptf"
   ]
  },
  {
   "cell_type": "code",
   "execution_count": 41,
   "id": "70752cdf-305d-4814-b99a-2c21effe6cf5",
   "metadata": {},
   "outputs": [
    {
     "data": {
      "text/plain": [
       "<AxesSubplot:>"
      ]
     },
     "execution_count": 41,
     "metadata": {},
     "output_type": "execute_result"
    },
    {
     "data": {
      "image/png": "[encoded data removed]",
      "text/plain": [
       "<Figure size 432x288 with 1 Axes>"
      ]
     },
     "metadata": {
      "needs_background": "light"
     },
     "output_type": "display_data"
    }
   ],
   "source": [
    "(1+portfolio_perf.loc[:]).cumprod().plot()"
   ]
  },
  {
   "cell_type": "code",
   "execution_count": 42,
   "id": "83bf55a4-5fe4-48a7-af9b-89d4d8de4824",
   "metadata": {},
   "outputs": [],
   "source": [
    "current_perf=portfolio_perf.copy()\n",
    "current_perf=current_perf.loc[historical_ptf.index]\n",
    "current_perf['Historical Portfolio']=historical_ptf['Historical Portfolio']"
   ]
  },
  {
   "cell_type": "code",
   "execution_count": 43,
   "id": "4d17e532-f112-4c6b-a891-1d03f0b5d647",
   "metadata": {},
   "outputs": [
    {
     "data": {
      "text/plain": [
       "<AxesSubplot:>"
      ]
     },
     "execution_count": 43,
     "metadata": {},
     "output_type": "execute_result"
    },
    {
     "data": {
      "image/png": "[encoded data removed]",
      "text/plain": [
       "<Figure size 432x288 with 1 Axes>"
      ]
     },
     "metadata": {
      "needs_background": "light"
     },
     "output_type": "display_data"
    }
   ],
   "source": [
    "((1+current_perf.iloc[:]).cumprod()*100).plot()"
   ]
  },
  {
   "cell_type": "code",
   "execution_count": 44,
   "id": "21f2d4e1-1681-4132-aeea-7125d188f981",
   "metadata": {},
   "outputs": [
    {
     "data": {
      "text/html": [
       "<div>\n",
       "<style scoped>\n",
       "    .dataframe tbody tr th:only-of-type {\n",
       "        vertical-align: middle;\n",
       "    }\n",
       "\n",
       "    .dataframe tbody tr th {\n",
       "        vertical-align: top;\n",
       "    }\n",
       "\n",
       "    .dataframe thead th {\n",
       "        text-align: right;\n",
       "    }\n",
       "</style>\n",
       "<table border=\"1\" class=\"dataframe\">\n",
       "  <thead>\n",
       "    <tr style=\"text-align: right;\">\n",
       "      <th></th>\n",
       "      <th>Portfolio</th>\n",
       "      <th>Bitcoin</th>\n",
       "      <th>Optimal</th>\n",
       "      <th>Current Optimal</th>\n",
       "      <th>Historical Portfolio</th>\n",
       "    </tr>\n",
       "  </thead>\n",
       "  <tbody>\n",
       "    <tr>\n",
       "      <th>2024-09-19</th>\n",
       "      <td>91.844879</td>\n",
       "      <td>89.203528</td>\n",
       "      <td>102.823031</td>\n",
       "      <td>119.431394</td>\n",
       "      <td>89.983209</td>\n",
       "    </tr>\n",
       "    <tr>\n",
       "      <th>2024-09-20</th>\n",
       "      <td>93.570719</td>\n",
       "      <td>89.561420</td>\n",
       "      <td>105.170372</td>\n",
       "      <td>120.561065</td>\n",
       "      <td>90.649751</td>\n",
       "    </tr>\n",
       "    <tr>\n",
       "      <th>2024-09-21</th>\n",
       "      <td>94.591121</td>\n",
       "      <td>89.770777</td>\n",
       "      <td>106.125767</td>\n",
       "      <td>120.879712</td>\n",
       "      <td>91.097867</td>\n",
       "    </tr>\n",
       "    <tr>\n",
       "      <th>2024-09-22</th>\n",
       "      <td>92.999258</td>\n",
       "      <td>90.095833</td>\n",
       "      <td>104.465239</td>\n",
       "      <td>119.876076</td>\n",
       "      <td>90.480102</td>\n",
       "    </tr>\n",
       "    <tr>\n",
       "      <th>2024-09-23</th>\n",
       "      <td>94.933946</td>\n",
       "      <td>89.756842</td>\n",
       "      <td>105.937155</td>\n",
       "      <td>120.693083</td>\n",
       "      <td>91.298984</td>\n",
       "    </tr>\n",
       "    <tr>\n",
       "      <th>2024-09-24</th>\n",
       "      <td>95.996577</td>\n",
       "      <td>91.054949</td>\n",
       "      <td>106.409771</td>\n",
       "      <td>120.481843</td>\n",
       "      <td>91.853987</td>\n",
       "    </tr>\n",
       "    <tr>\n",
       "      <th>2024-09-25</th>\n",
       "      <td>94.900409</td>\n",
       "      <td>89.467434</td>\n",
       "      <td>106.477189</td>\n",
       "      <td>119.698327</td>\n",
       "      <td>91.339446</td>\n",
       "    </tr>\n",
       "    <tr>\n",
       "      <th>2024-09-26</th>\n",
       "      <td>98.952226</td>\n",
       "      <td>92.287070</td>\n",
       "      <td>111.665423</td>\n",
       "      <td>123.597183</td>\n",
       "      <td>93.306318</td>\n",
       "    </tr>\n",
       "    <tr>\n",
       "      <th>2024-09-27</th>\n",
       "      <td>99.774647</td>\n",
       "      <td>93.127121</td>\n",
       "      <td>112.300597</td>\n",
       "      <td>125.934774</td>\n",
       "      <td>93.693252</td>\n",
       "    </tr>\n",
       "    <tr>\n",
       "      <th>2024-09-28</th>\n",
       "      <td>99.570023</td>\n",
       "      <td>93.251712</td>\n",
       "      <td>113.436209</td>\n",
       "      <td>126.659006</td>\n",
       "      <td>93.595109</td>\n",
       "    </tr>\n",
       "  </tbody>\n",
       "</table>\n",
       "</div>"
      ],
      "text/plain": [
       "            Portfolio    Bitcoin     Optimal  Current Optimal  \\\n",
       "2024-09-19  91.844879  89.203528  102.823031       119.431394   \n",
       "2024-09-20  93.570719  89.561420  105.170372       120.561065   \n",
       "2024-09-21  94.591121  89.770777  106.125767       120.879712   \n",
       "2024-09-22  92.999258  90.095833  104.465239       119.876076   \n",
       "2024-09-23  94.933946  89.756842  105.937155       120.693083   \n",
       "2024-09-24  95.996577  91.054949  106.409771       120.481843   \n",
       "2024-09-25  94.900409  89.467434  106.477189       119.698327   \n",
       "2024-09-26  98.952226  92.287070  111.665423       123.597183   \n",
       "2024-09-27  99.774647  93.127121  112.300597       125.934774   \n",
       "2024-09-28  99.570023  93.251712  113.436209       126.659006   \n",
       "\n",
       "            Historical Portfolio  \n",
       "2024-09-19             89.983209  \n",
       "2024-09-20             90.649751  \n",
       "2024-09-21             91.097867  \n",
       "2024-09-22             90.480102  \n",
       "2024-09-23             91.298984  \n",
       "2024-09-24             91.853987  \n",
       "2024-09-25             91.339446  \n",
       "2024-09-26             93.306318  \n",
       "2024-09-27             93.693252  \n",
       "2024-09-28             93.595109  "
      ]
     },
     "execution_count": 44,
     "metadata": {},
     "output_type": "execute_result"
    }
   ],
   "source": [
    "((1+current_perf).cumprod()*100).iloc[-10:]"
   ]
  },
  {
   "cell_type": "markdown",
   "id": "7992e950-2f84-4f07-8b9f-3e343e0f0df3",
   "metadata": {},
   "source": [
    "## Volatilities"
   ]
  },
  {
   "cell_type": "code",
   "execution_count": 45,
   "id": "311f0004-e145-4fc5-8766-ca40d8f08e29",
   "metadata": {},
   "outputs": [
    {
     "data": {
      "text/plain": [
       "Portfolio    0.706813\n",
       "dtype: float64"
      ]
     },
     "execution_count": 45,
     "metadata": {},
     "output_type": "execute_result"
    }
   ],
   "source": [
    "vol=historical_risk.portfolio(opt_weights).std()*np.sqrt(252)\n",
    "\n",
    "vol"
   ]
  },
  {
   "cell_type": "code",
   "execution_count": 46,
   "id": "7741abc3-75be-4948-b6f7-6024b48ced93",
   "metadata": {},
   "outputs": [
    {
     "data": {
      "text/plain": [
       "Portfolio    0.318868\n",
       "dtype: float64"
      ]
     },
     "execution_count": 46,
     "metadata": {},
     "output_type": "execute_result"
    }
   ],
   "source": [
    "vol=current_risk.portfolio(current_weights).std()*np.sqrt(252)\n",
    "\n",
    "vol"
   ]
  },
  {
   "cell_type": "code",
   "execution_count": 47,
   "id": "c1bc68d5-494d-4064-9958-9b280c70a8a3",
   "metadata": {},
   "outputs": [
    {
     "data": {
      "text/plain": [
       "Portfolio          0.596211\n",
       "Bitcoin            0.440738\n",
       "Optimal            0.707946\n",
       "Current Optimal    0.341667\n",
       "dtype: float64"
      ]
     },
     "execution_count": 47,
     "metadata": {},
     "output_type": "execute_result"
    }
   ],
   "source": [
    "portfolio_perf.iloc[1:].std()*np.sqrt(252)"
   ]
  },
  {
   "cell_type": "code",
   "execution_count": 48,
   "id": "df99b746-dc9d-4c5c-b005-432bba654f31",
   "metadata": {},
   "outputs": [
    {
     "data": {
      "text/plain": [
       "0.16879759387185475"
      ]
     },
     "execution_count": 48,
     "metadata": {},
     "output_type": "execute_result"
    }
   ],
   "source": [
    "current_risk.tracking_error(current_risk.returns['BTCUSDT'],current_perf['Historical Portfolio'])"
   ]
  },
  {
   "cell_type": "markdown",
   "id": "c72a30da-fc11-412e-8182-6f508f5dc3dd",
   "metadata": {},
   "source": [
    "## Risk Contribution"
   ]
  },
  {
   "cell_type": "code",
   "execution_count": 49,
   "id": "40861589-c4a1-4c54-9bbc-e1035f32c5a1",
   "metadata": {},
   "outputs": [
    {
     "data": {
      "text/html": [
       "<div>\n",
       "<style scoped>\n",
       "    .dataframe tbody tr th:only-of-type {\n",
       "        vertical-align: middle;\n",
       "    }\n",
       "\n",
       "    .dataframe tbody tr th {\n",
       "        vertical-align: top;\n",
       "    }\n",
       "\n",
       "    .dataframe thead th {\n",
       "        text-align: right;\n",
       "    }\n",
       "</style>\n",
       "<table border=\"1\" class=\"dataframe\">\n",
       "  <thead>\n",
       "    <tr style=\"text-align: right;\">\n",
       "      <th></th>\n",
       "      <th>Performance Contribution</th>\n",
       "      <th>Initial Weights</th>\n",
       "      <th>Last Weights</th>\n",
       "      <th>Variance Contribution in %</th>\n",
       "      <th>Idiosyncratic Risk in %</th>\n",
       "      <th>Correlation in %</th>\n",
       "    </tr>\n",
       "  </thead>\n",
       "  <tbody>\n",
       "    <tr>\n",
       "      <th>BNBUSDT</th>\n",
       "      <td>0.067220</td>\n",
       "      <td>0.052985</td>\n",
       "      <td>0.011498</td>\n",
       "      <td>0.016566</td>\n",
       "      <td>0.001347</td>\n",
       "      <td>0.015219</td>\n",
       "    </tr>\n",
       "    <tr>\n",
       "      <th>BTCUSDT</th>\n",
       "      <td>0.218911</td>\n",
       "      <td>0.400000</td>\n",
       "      <td>0.059201</td>\n",
       "      <td>0.165107</td>\n",
       "      <td>0.062013</td>\n",
       "      <td>0.103094</td>\n",
       "    </tr>\n",
       "    <tr>\n",
       "      <th>JASMYUSDT</th>\n",
       "      <td>0.015179</td>\n",
       "      <td>0.010376</td>\n",
       "      <td>0.002444</td>\n",
       "      <td>0.006004</td>\n",
       "      <td>0.000252</td>\n",
       "      <td>0.005752</td>\n",
       "    </tr>\n",
       "    <tr>\n",
       "      <th>OMUSDT</th>\n",
       "      <td>8.881446</td>\n",
       "      <td>0.446358</td>\n",
       "      <td>0.892241</td>\n",
       "      <td>0.729270</td>\n",
       "      <td>0.626674</td>\n",
       "      <td>0.102597</td>\n",
       "    </tr>\n",
       "    <tr>\n",
       "      <th>PEPEUSDT</th>\n",
       "      <td>0.271602</td>\n",
       "      <td>0.090281</td>\n",
       "      <td>0.034615</td>\n",
       "      <td>0.083053</td>\n",
       "      <td>0.026988</td>\n",
       "      <td>0.056065</td>\n",
       "    </tr>\n",
       "  </tbody>\n",
       "</table>\n",
       "</div>"
      ],
      "text/plain": [
       "           Performance Contribution  Initial Weights  Last Weights  \\\n",
       "BNBUSDT                    0.067220         0.052985      0.011498   \n",
       "BTCUSDT                    0.218911         0.400000      0.059201   \n",
       "JASMYUSDT                  0.015179         0.010376      0.002444   \n",
       "OMUSDT                     8.881446         0.446358      0.892241   \n",
       "PEPEUSDT                   0.271602         0.090281      0.034615   \n",
       "\n",
       "           Variance Contribution in %  Idiosyncratic Risk in %  \\\n",
       "BNBUSDT                      0.016566                 0.001347   \n",
       "BTCUSDT                      0.165107                 0.062013   \n",
       "JASMYUSDT                    0.006004                 0.000252   \n",
       "OMUSDT                       0.729270                 0.626674   \n",
       "PEPEUSDT                     0.083053                 0.026988   \n",
       "\n",
       "           Correlation in %  \n",
       "BNBUSDT            0.015219  \n",
       "BTCUSDT            0.103094  \n",
       "JASMYUSDT          0.005752  \n",
       "OMUSDT             0.102597  \n",
       "PEPEUSDT           0.056065  "
      ]
     },
     "execution_count": 49,
     "metadata": {},
     "output_type": "execute_result"
    }
   ],
   "source": [
    "perf_analysis=pd.concat([historical_risk.perf_contrib(opt_weights),historical_risk.var_contrib_pct(opt_weights)],axis=1)\n",
    "perf_analysis"
   ]
  },
  {
   "cell_type": "code",
   "execution_count": 50,
   "id": "7a8d2d34-14b0-469c-81a7-38306d840a62",
   "metadata": {},
   "outputs": [
    {
     "data": {
      "text/html": [
       "<div>\n",
       "<style scoped>\n",
       "    .dataframe tbody tr th:only-of-type {\n",
       "        vertical-align: middle;\n",
       "    }\n",
       "\n",
       "    .dataframe tbody tr th {\n",
       "        vertical-align: top;\n",
       "    }\n",
       "\n",
       "    .dataframe thead th {\n",
       "        text-align: right;\n",
       "    }\n",
       "</style>\n",
       "<table border=\"1\" class=\"dataframe\">\n",
       "  <thead>\n",
       "    <tr style=\"text-align: right;\">\n",
       "      <th></th>\n",
       "      <th>Performance Contribution</th>\n",
       "      <th>Initial Weights</th>\n",
       "      <th>Last Weights</th>\n",
       "      <th>Variance Contribution in %</th>\n",
       "      <th>Idiosyncratic Risk in %</th>\n",
       "      <th>Correlation in %</th>\n",
       "    </tr>\n",
       "  </thead>\n",
       "  <tbody>\n",
       "    <tr>\n",
       "      <th>BTCUSDT</th>\n",
       "      <td>0.000902</td>\n",
       "      <td>0.009915</td>\n",
       "      <td>0.009862</td>\n",
       "      <td>0.009616</td>\n",
       "      <td>0.000249</td>\n",
       "      <td>0.009367</td>\n",
       "    </tr>\n",
       "    <tr>\n",
       "      <th>OMUSDT</th>\n",
       "      <td>0.008657</td>\n",
       "      <td>0.086153</td>\n",
       "      <td>0.086438</td>\n",
       "      <td>0.097561</td>\n",
       "      <td>0.082961</td>\n",
       "      <td>0.014601</td>\n",
       "    </tr>\n",
       "    <tr>\n",
       "      <th>TRXUSDT</th>\n",
       "      <td>0.050449</td>\n",
       "      <td>0.817038</td>\n",
       "      <td>0.790884</td>\n",
       "      <td>0.537647</td>\n",
       "      <td>0.426198</td>\n",
       "      <td>0.111449</td>\n",
       "    </tr>\n",
       "    <tr>\n",
       "      <th>PEPEUSDT</th>\n",
       "      <td>0.036849</td>\n",
       "      <td>0.086895</td>\n",
       "      <td>0.112817</td>\n",
       "      <td>0.355176</td>\n",
       "      <td>0.190473</td>\n",
       "      <td>0.164703</td>\n",
       "    </tr>\n",
       "  </tbody>\n",
       "</table>\n",
       "</div>"
      ],
      "text/plain": [
       "          Performance Contribution  Initial Weights  Last Weights  \\\n",
       "BTCUSDT                   0.000902         0.009915      0.009862   \n",
       "OMUSDT                    0.008657         0.086153      0.086438   \n",
       "TRXUSDT                   0.050449         0.817038      0.790884   \n",
       "PEPEUSDT                  0.036849         0.086895      0.112817   \n",
       "\n",
       "          Variance Contribution in %  Idiosyncratic Risk in %  \\\n",
       "BTCUSDT                     0.009616                 0.000249   \n",
       "OMUSDT                      0.097561                 0.082961   \n",
       "TRXUSDT                     0.537647                 0.426198   \n",
       "PEPEUSDT                    0.355176                 0.190473   \n",
       "\n",
       "          Correlation in %  \n",
       "BTCUSDT           0.009367  \n",
       "OMUSDT            0.014601  \n",
       "TRXUSDT           0.111449  \n",
       "PEPEUSDT          0.164703  "
      ]
     },
     "execution_count": 50,
     "metadata": {},
     "output_type": "execute_result"
    }
   ],
   "source": [
    "perf_analysis=pd.concat([current_risk.perf_contrib(current_optimal_weights),current_risk.var_contrib_pct(current_optimal_weights)],axis=1)\n",
    "perf_analysis"
   ]
  },
  {
   "cell_type": "code",
   "execution_count": 51,
   "id": "109d4f15-0bb7-435b-9dc5-0bb7bc6dcffc",
   "metadata": {},
   "outputs": [
    {
     "data": {
      "text/html": [
       "<div>\n",
       "<style scoped>\n",
       "    .dataframe tbody tr th:only-of-type {\n",
       "        vertical-align: middle;\n",
       "    }\n",
       "\n",
       "    .dataframe tbody tr th {\n",
       "        vertical-align: top;\n",
       "    }\n",
       "\n",
       "    .dataframe thead th {\n",
       "        text-align: right;\n",
       "    }\n",
       "</style>\n",
       "<table border=\"1\" class=\"dataframe\">\n",
       "  <thead>\n",
       "    <tr style=\"text-align: right;\">\n",
       "      <th></th>\n",
       "      <th>Performance Contribution</th>\n",
       "      <th>Initial Weights</th>\n",
       "      <th>Last Weights</th>\n",
       "      <th>Variance Contribution in %</th>\n",
       "      <th>Idiosyncratic Risk in %</th>\n",
       "      <th>Correlation in %</th>\n",
       "    </tr>\n",
       "  </thead>\n",
       "  <tbody>\n",
       "    <tr>\n",
       "      <th>BTCUSDT</th>\n",
       "      <td>0.025471</td>\n",
       "      <td>0.28</td>\n",
       "      <td>0.275680</td>\n",
       "      <td>0.174874</td>\n",
       "      <td>0.052190</td>\n",
       "      <td>0.122684</td>\n",
       "    </tr>\n",
       "    <tr>\n",
       "      <th>OMUSDT</th>\n",
       "      <td>0.028136</td>\n",
       "      <td>0.28</td>\n",
       "      <td>0.278084</td>\n",
       "      <td>0.336074</td>\n",
       "      <td>0.230132</td>\n",
       "      <td>0.105942</td>\n",
       "    </tr>\n",
       "    <tr>\n",
       "      <th>JASMYUSDT</th>\n",
       "      <td>0.020993</td>\n",
       "      <td>0.15</td>\n",
       "      <td>0.154317</td>\n",
       "      <td>0.207545</td>\n",
       "      <td>0.070179</td>\n",
       "      <td>0.137366</td>\n",
       "    </tr>\n",
       "    <tr>\n",
       "      <th>SOLUSDT</th>\n",
       "      <td>0.020609</td>\n",
       "      <td>0.14</td>\n",
       "      <td>0.144945</td>\n",
       "      <td>0.157254</td>\n",
       "      <td>0.046685</td>\n",
       "      <td>0.110568</td>\n",
       "    </tr>\n",
       "    <tr>\n",
       "      <th>ETHUSDT</th>\n",
       "      <td>0.008409</td>\n",
       "      <td>0.09</td>\n",
       "      <td>0.088811</td>\n",
       "      <td>0.082684</td>\n",
       "      <td>0.011206</td>\n",
       "      <td>0.071478</td>\n",
       "    </tr>\n",
       "    <tr>\n",
       "      <th>TRXUSDT</th>\n",
       "      <td>0.002470</td>\n",
       "      <td>0.04</td>\n",
       "      <td>0.038328</td>\n",
       "      <td>0.004555</td>\n",
       "      <td>0.000268</td>\n",
       "      <td>0.004287</td>\n",
       "    </tr>\n",
       "    <tr>\n",
       "      <th>BBUSDT</th>\n",
       "      <td>0.001979</td>\n",
       "      <td>0.02</td>\n",
       "      <td>0.019835</td>\n",
       "      <td>0.037015</td>\n",
       "      <td>0.002794</td>\n",
       "      <td>0.034221</td>\n",
       "    </tr>\n",
       "  </tbody>\n",
       "</table>\n",
       "</div>"
      ],
      "text/plain": [
       "           Performance Contribution  Initial Weights  Last Weights  \\\n",
       "BTCUSDT                    0.025471             0.28      0.275680   \n",
       "OMUSDT                     0.028136             0.28      0.278084   \n",
       "JASMYUSDT                  0.020993             0.15      0.154317   \n",
       "SOLUSDT                    0.020609             0.14      0.144945   \n",
       "ETHUSDT                    0.008409             0.09      0.088811   \n",
       "TRXUSDT                    0.002470             0.04      0.038328   \n",
       "BBUSDT                     0.001979             0.02      0.019835   \n",
       "\n",
       "           Variance Contribution in %  Idiosyncratic Risk in %  \\\n",
       "BTCUSDT                      0.174874                 0.052190   \n",
       "OMUSDT                       0.336074                 0.230132   \n",
       "JASMYUSDT                    0.207545                 0.070179   \n",
       "SOLUSDT                      0.157254                 0.046685   \n",
       "ETHUSDT                      0.082684                 0.011206   \n",
       "TRXUSDT                      0.004555                 0.000268   \n",
       "BBUSDT                       0.037015                 0.002794   \n",
       "\n",
       "           Correlation in %  \n",
       "BTCUSDT            0.122684  \n",
       "OMUSDT             0.105942  \n",
       "JASMYUSDT          0.137366  \n",
       "SOLUSDT            0.110568  \n",
       "ETHUSDT            0.071478  \n",
       "TRXUSDT            0.004287  \n",
       "BBUSDT             0.034221  "
      ]
     },
     "execution_count": 51,
     "metadata": {},
     "output_type": "execute_result"
    }
   ],
   "source": [
    "perf_analysis=pd.concat([current_risk.perf_contrib(current_weights),current_risk.var_contrib_pct(current_weights)],axis=1)\n",
    "perf_analysis"
   ]
  },
  {
   "cell_type": "markdown",
   "id": "0130bfc3-e631-4a88-b313-7d1e01f8559a",
   "metadata": {
    "tags": []
   },
   "source": [
    "# Value At Risk"
   ]
  },
  {
   "cell_type": "markdown",
   "id": "71d68cce-1a6e-45aa-a85f-47588679e563",
   "metadata": {},
   "source": [
    "## Historical"
   ]
  },
  {
   "cell_type": "code",
   "execution_count": 52,
   "id": "b2388772-2291-494e-ac78-6a9f836e398d",
   "metadata": {},
   "outputs": [
    {
     "data": {
      "text/plain": [
       "(-0.05990477919426642, -0.08314384388058138)"
      ]
     },
     "execution_count": 52,
     "metadata": {},
     "output_type": "execute_result"
    }
   ],
   "source": [
    "var,cvar=historical_risk.historical_var(opt_weights)\n",
    "(var,cvar)"
   ]
  },
  {
   "cell_type": "code",
   "execution_count": 53,
   "id": "b748061e-7cef-4f96-986c-6cc89b4febd4",
   "metadata": {},
   "outputs": [
    {
     "data": {
      "text/plain": [
       "(-0.01987198270204466, -0.02697255576842509)"
      ]
     },
     "execution_count": 53,
     "metadata": {},
     "output_type": "execute_result"
    }
   ],
   "source": [
    "var,cvar=current_risk.historical_var(current_weights)\n",
    "(var,cvar)"
   ]
  },
  {
   "cell_type": "code",
   "execution_count": 54,
   "id": "bb9ae5ba-6521-47af-992e-2a3972e29e87",
   "metadata": {},
   "outputs": [],
   "source": [
    "historical_var=current_risk.returns*current_weights\n",
    "historical_var['Portfolio']=historical_var.sum(axis=1)\n",
    "historical_var=historical_var.sort_values(by='Portfolio')\n",
    "centile=0.05\n",
    "row=round(historical_var.shape[0]*centile)"
   ]
  },
  {
   "cell_type": "code",
   "execution_count": 55,
   "id": "8c24e902-85a4-44be-a457-f95e2184a7ea",
   "metadata": {},
   "outputs": [
    {
     "data": {
      "text/plain": [
       "BTCUSDT      0.001014\n",
       "OMUSDT      -0.007757\n",
       "JASMYUSDT   -0.003347\n",
       "SOLUSDT     -0.004552\n",
       "ETHUSDT     -0.001088\n",
       "TRXUSDT     -0.000079\n",
       "BBUSDT      -0.001019\n",
       "BNBUSDT      0.000000\n",
       "PEPEUSDT    -0.000000\n",
       "Portfolio   -0.016829\n",
       "Name: 2024-09-22 00:00:00, dtype: float64"
      ]
     },
     "execution_count": 55,
     "metadata": {},
     "output_type": "execute_result"
    }
   ],
   "source": [
    "var=historical_var.iloc[row]\n",
    "var"
   ]
  },
  {
   "cell_type": "code",
   "execution_count": 56,
   "id": "ade16f0c-75b7-4fcb-ab9e-ad0c73aa8dd7",
   "metadata": {},
   "outputs": [
    {
     "data": {
      "text/plain": [
       "BTCUSDT     -0.001517\n",
       "OMUSDT      -0.007027\n",
       "JASMYUSDT   -0.004656\n",
       "SOLUSDT     -0.005285\n",
       "ETHUSDT     -0.002478\n",
       "TRXUSDT      0.000163\n",
       "BBUSDT      -0.001101\n",
       "BNBUSDT      0.000000\n",
       "PEPEUSDT     0.000000\n",
       "Portfolio   -0.021901\n",
       "dtype: float64"
      ]
     },
     "execution_count": 56,
     "metadata": {},
     "output_type": "execute_result"
    }
   ],
   "source": [
    "cvar=historical_var.iloc[:row+1].mean()\n",
    "cvar"
   ]
  },
  {
   "cell_type": "markdown",
   "id": "c3dff28c-8e0a-4203-a71d-04521428bcd1",
   "metadata": {},
   "source": [
    "## Parametric"
   ]
  },
  {
   "cell_type": "code",
   "execution_count": 57,
   "id": "0f0e86d4-3a65-486f-9099-6de171182aca",
   "metadata": {},
   "outputs": [
    {
     "data": {
      "text/plain": [
       "(-0.07335457680271054, -0.09402028604384005)"
      ]
     },
     "execution_count": 57,
     "metadata": {},
     "output_type": "execute_result"
    }
   ],
   "source": [
    "var,cvar=historical_risk.parametric_var(opt_weights)\n",
    "\n",
    "(var,cvar)"
   ]
  },
  {
   "cell_type": "code",
   "execution_count": 58,
   "id": "8d211677-f33e-4565-95b7-f2867bbe7192",
   "metadata": {},
   "outputs": [
    {
     "data": {
      "text/plain": [
       "(-0.033039817450743775, -0.042347910968254715)"
      ]
     },
     "execution_count": 58,
     "metadata": {},
     "output_type": "execute_result"
    }
   ],
   "source": [
    "var,cvar=current_risk.parametric_var(current_weights)\n",
    "\n",
    "(var,cvar)"
   ]
  },
  {
   "cell_type": "markdown",
   "id": "a6c24386-d19d-46c7-a8bb-58e4c19932ec",
   "metadata": {},
   "source": [
    "## Multivariate"
   ]
  },
  {
   "cell_type": "code",
   "execution_count": 59,
   "id": "302440b5-9462-49d9-a7d0-94e4da622e61",
   "metadata": {},
   "outputs": [
    {
     "data": {
      "text/plain": [
       "(-0.06468786639908408, -0.08274495711421137)"
      ]
     },
     "execution_count": 59,
     "metadata": {},
     "output_type": "execute_result"
    }
   ],
   "source": [
    "perf=performance(historical_risk.multivariate_distribution(),opt_weights)\n",
    "var=np.percentile(perf,5)\n",
    "cvar=perf[perf<var].mean()\n",
    "(var,cvar)"
   ]
  },
  {
   "cell_type": "code",
   "execution_count": 60,
   "id": "21acf785-1eff-47d6-8bfa-f795cf1e38d0",
   "metadata": {},
   "outputs": [
    {
     "data": {
      "text/plain": [
       "(-0.026158602212400014, -0.034791928560370354)"
      ]
     },
     "execution_count": 60,
     "metadata": {},
     "output_type": "execute_result"
    }
   ],
   "source": [
    "perf=performance(current_risk.multivariate_distribution(),current_weights)\n",
    "var=np.percentile(perf,5)\n",
    "cvar=perf[perf<var].mean()\n",
    "(var,cvar)"
   ]
  },
  {
   "cell_type": "code",
   "execution_count": 61,
   "id": "3fe7a180-f366-4414-bda1-a58a090d1c16",
   "metadata": {},
   "outputs": [
    {
     "data": {
      "text/plain": [
       "BTCUSDT     -0.004441\n",
       "OMUSDT      -0.008211\n",
       "JASMYUSDT   -0.005856\n",
       "SOLUSDT     -0.004159\n",
       "ETHUSDT     -0.002197\n",
       "TRXUSDT      0.000065\n",
       "BBUSDT      -0.000980\n",
       "Portfolio   -0.025780\n",
       "dtype: float64"
      ]
     },
     "execution_count": 61,
     "metadata": {},
     "output_type": "execute_result"
    }
   ],
   "source": [
    "scenario_multivariate={}\n",
    "\n",
    "for i in range(50):\n",
    "    multivariate_distrib=pd.DataFrame(current_risk.multivariate_distribution(),columns=current_risk.returns.columns)\n",
    "    multivariate_distrib=multivariate_distrib*current_weights\n",
    "    multivariate_distrib=multivariate_distrib[multivariate_distrib.columns[current_weights>0]]\n",
    "\n",
    "    multivariate_distrib['Portfolio']=multivariate_distrib.sum(axis=1)\n",
    "    multivariate_var=multivariate_distrib.sort_values(by='Portfolio').iloc[int(multivariate_distrib.shape[0]*0.05)]['Portfolio']\n",
    "    results=multivariate_distrib.sort_values(by='Portfolio').iloc[int(multivariate_distrib.shape[0]*0.05)]\n",
    "\n",
    "    scenario_multivariate[i]=results.to_dict()\n",
    "\n",
    "mean_scenario_multivariate=pd.DataFrame(scenario_multivariate).T.mean()\n",
    "mean_scenario_multivariate"
   ]
  },
  {
   "cell_type": "markdown",
   "id": "0c387f28-22ad-45a7-b319-0e83f4a0daee",
   "metadata": {},
   "source": [
    "## Copulas"
   ]
  },
  {
   "cell_type": "markdown",
   "id": "9058537e-386c-4062-bbe9-1a6b8541b24e",
   "metadata": {},
   "source": [
    "### Gaussian Copula"
   ]
  },
  {
   "cell_type": "code",
   "execution_count": 62,
   "id": "eb227cdf-2fbd-4710-85b9-17c16bb8d777",
   "metadata": {},
   "outputs": [
    {
     "data": {
      "text/plain": [
       "(-0.06613530401614459, -0.08493977678965194)"
      ]
     },
     "execution_count": 62,
     "metadata": {},
     "output_type": "execute_result"
    }
   ],
   "source": [
    "cop=historical_risk.gaussian_copula()\n",
    "perf=performance(cop,opt_weights)\n",
    "var=np.percentile(perf,5)\n",
    "cvar=perf[perf<var].mean()\n",
    "\n",
    "var,cvar"
   ]
  },
  {
   "cell_type": "code",
   "execution_count": 63,
   "id": "d6e06ba7-4288-4817-8fd4-6edd919d67d8",
   "metadata": {},
   "outputs": [
    {
     "data": {
      "text/plain": [
       "(-0.025722857408910144, -0.034493328177179865)"
      ]
     },
     "execution_count": 63,
     "metadata": {},
     "output_type": "execute_result"
    }
   ],
   "source": [
    "cop=current_risk.gaussian_copula()\n",
    "perf=performance(cop,current_weights)\n",
    "var=np.percentile(perf,5)\n",
    "cvar=perf[perf<var].mean()\n",
    "\n",
    "var,cvar"
   ]
  },
  {
   "cell_type": "code",
   "execution_count": 64,
   "id": "3b6ee424-83af-4479-abb3-e23b0a9f00e2",
   "metadata": {},
   "outputs": [
    {
     "data": {
      "text/plain": [
       "BTCUSDT     -0.004146\n",
       "OMUSDT      -0.008904\n",
       "JASMYUSDT   -0.005391\n",
       "SOLUSDT     -0.003775\n",
       "ETHUSDT     -0.002503\n",
       "TRXUSDT     -0.000005\n",
       "BBUSDT      -0.001054\n",
       "Portfolio   -0.025778\n",
       "dtype: float64"
      ]
     },
     "execution_count": 64,
     "metadata": {},
     "output_type": "execute_result"
    }
   ],
   "source": [
    "scenario_gaussian={}\n",
    "\n",
    "for i in range(100):\n",
    "    gaussian_copula_distrib=pd.DataFrame(current_risk.gaussian_copula(),columns=current_risk.returns.columns)\n",
    "\n",
    "    gaussian_copula_distrib=gaussian_copula_distrib*current_weights\n",
    "    gaussian_copula_distrib=gaussian_copula_distrib[gaussian_copula_distrib.columns[current_weights>0]]\n",
    "\n",
    "    gaussian_copula_distrib['Portfolio']=gaussian_copula_distrib.sum(axis=1)\n",
    "    gaussian_var=gaussian_copula_distrib.sort_values(by='Portfolio').iloc[int(gaussian_copula_distrib.shape[0]*0.05)]['Portfolio']\n",
    "    results=gaussian_copula_distrib.sort_values(by='Portfolio').iloc[int(gaussian_copula_distrib.shape[0]*0.05)]\n",
    "    \n",
    "    scenario_gaussian[i]=results\n",
    "    \n",
    "mean_scenario_gaussian=pd.DataFrame(scenario_gaussian).T.mean()\n",
    "mean_scenario_gaussian"
   ]
  },
  {
   "cell_type": "markdown",
   "id": "5cc2fb56-f5a8-400f-9242-3fe5969c9743",
   "metadata": {},
   "source": [
    "### Student Copula"
   ]
  },
  {
   "cell_type": "code",
   "execution_count": 65,
   "id": "54911632-62da-415f-bfed-66f0c612960c",
   "metadata": {},
   "outputs": [
    {
     "data": {
      "text/plain": [
       "(-0.06524199288614346, -0.08261654952916418)"
      ]
     },
     "execution_count": 65,
     "metadata": {},
     "output_type": "execute_result"
    }
   ],
   "source": [
    "t_copula=historical_risk.t_copula()\n",
    "perf=performance(t_copula,opt_weights)\n",
    "var=np.percentile(perf,5)\n",
    "cvar=perf[perf<var].mean()\n",
    "\n",
    "var,cvar"
   ]
  },
  {
   "cell_type": "code",
   "execution_count": 66,
   "id": "b54982b1-827a-4949-8576-0e88dceea776",
   "metadata": {},
   "outputs": [
    {
     "data": {
      "text/plain": [
       "(-0.02641341170721658, -0.03558948967838005)"
      ]
     },
     "execution_count": 66,
     "metadata": {},
     "output_type": "execute_result"
    }
   ],
   "source": [
    "t_copula=current_risk.t_copula()\n",
    "perf=performance(t_copula,current_weights)\n",
    "var=np.percentile(perf,5)\n",
    "cvar=perf[perf<var].mean()\n",
    "\n",
    "var,cvar"
   ]
  },
  {
   "cell_type": "code",
   "execution_count": 67,
   "id": "2eed4d89-eb00-449b-98ce-d030c65155d0",
   "metadata": {},
   "outputs": [
    {
     "data": {
      "text/plain": [
       "BTCUSDT     -0.004330\n",
       "OMUSDT      -0.009854\n",
       "JASMYUSDT   -0.005267\n",
       "SOLUSDT     -0.003577\n",
       "ETHUSDT     -0.002156\n",
       "TRXUSDT     -0.000046\n",
       "BBUSDT      -0.001235\n",
       "Portfolio   -0.026465\n",
       "dtype: float64"
      ]
     },
     "execution_count": 67,
     "metadata": {},
     "output_type": "execute_result"
    }
   ],
   "source": [
    "scenario_t_copula={}\n",
    "\n",
    "for i in range(100):\n",
    "    \n",
    "    t_copula_distrib=pd.DataFrame(current_risk.t_copula(),columns=current_risk.returns.columns)\n",
    "    t_copula_distrib=t_copula_distrib*current_weights\n",
    "    t_copula_distrib=t_copula_distrib[t_copula_distrib.columns[current_weights>0]]\n",
    "    t_copula_distrib['Portfolio']=t_copula_distrib.sum(axis=1)\n",
    "    t_copula_var=t_copula_distrib.sort_values(by='Portfolio').iloc[int(t_copula_distrib.shape[0]*0.05)]['Portfolio']\n",
    "    results=t_copula_distrib.sort_values(by='Portfolio').iloc[int(t_copula_distrib.shape[0]*0.05)]\n",
    "    \n",
    "    scenario_t_copula[i]=results\n",
    "    \n",
    "mean_scenario_gaussian=pd.DataFrame(scenario_t_copula).T.mean()\n",
    "mean_scenario_gaussian"
   ]
  },
  {
   "cell_type": "markdown",
   "id": "d8471cd5-4fcd-4ee2-8d94-4d1363a54361",
   "metadata": {},
   "source": [
    "### Gumbel Copula"
   ]
  },
  {
   "cell_type": "code",
   "execution_count": 68,
   "id": "7c23e42c-22e1-49cf-a9ed-36317a91e615",
   "metadata": {},
   "outputs": [
    {
     "data": {
      "text/plain": [
       "(-0.12952960700040456, -0.18253370740874822)"
      ]
     },
     "execution_count": 68,
     "metadata": {},
     "output_type": "execute_result"
    }
   ],
   "source": [
    "gumbel_copula=historical_risk.gumbel_copula()\n",
    "perf=performance(gumbel_copula,opt_weights)\n",
    "var=np.percentile(perf,5)\n",
    "cvar=perf[perf<var].mean()\n",
    "\n",
    "var,cvar"
   ]
  },
  {
   "cell_type": "code",
   "execution_count": 69,
   "id": "930f83d3-fa2e-4f41-b0ea-64c9fcadc95a",
   "metadata": {},
   "outputs": [
    {
     "data": {
      "text/plain": [
       "(-0.03802804710830961, -0.052689611047666035)"
      ]
     },
     "execution_count": 69,
     "metadata": {},
     "output_type": "execute_result"
    }
   ],
   "source": [
    "gumbel_copula=current_risk.gumbel_copula(theta=2)\n",
    "perf=performance(gumbel_copula,current_weights)\n",
    "var=np.percentile(perf,5)\n",
    "cvar=perf[perf<var].mean()\n",
    "\n",
    "var,cvar"
   ]
  },
  {
   "cell_type": "code",
   "execution_count": 70,
   "id": "a06ef689-21b0-49fb-91cb-e4f7ecd99305",
   "metadata": {},
   "outputs": [
    {
     "data": {
      "text/plain": [
       "BTCUSDT     -0.004389\n",
       "OMUSDT      -0.023345\n",
       "JASMYUSDT   -0.005752\n",
       "SOLUSDT     -0.004480\n",
       "ETHUSDT      0.000340\n",
       "TRXUSDT      0.000155\n",
       "BBUSDT      -0.000314\n",
       "Portfolio   -0.037784\n",
       "dtype: float64"
      ]
     },
     "execution_count": 70,
     "metadata": {},
     "output_type": "execute_result"
    }
   ],
   "source": [
    "scenario_gumbel_copula={}\n",
    "\n",
    "for i in range(100):\n",
    "    \n",
    "    gumbel_copula_distrib=pd.DataFrame(current_risk.gumbel_copula(),columns=current_risk.returns.columns)\n",
    "    gumbel_copula_distrib=gumbel_copula_distrib*current_weights\n",
    "    gumbel_copula_distrib=gumbel_copula_distrib[gumbel_copula_distrib.columns[current_weights>0]]\n",
    "    gumbel_copula_distrib['Portfolio']=gumbel_copula_distrib.sum(axis=1)\n",
    "    gumbel_copula_var=gumbel_copula_distrib.sort_values(by='Portfolio').iloc[int(gumbel_copula_distrib.shape[0]*0.05)]['Portfolio']\n",
    "    results=gumbel_copula_distrib.sort_values(by='Portfolio').iloc[int(gumbel_copula_distrib.shape[0]*0.05)]\n",
    "    \n",
    "    scenario_gumbel_copula[i]=results\n",
    "    \n",
    "mean_scenario_gaussian=pd.DataFrame(scenario_gumbel_copula).T.mean()\n",
    "mean_scenario_gaussian"
   ]
  },
  {
   "cell_type": "raw",
   "id": "a7cf6672-4497-412a-99d2-d7971328073d",
   "metadata": {
    "jupyter": {
     "source_hidden": true
    },
    "tags": []
   },
   "source": [
    "test=gumbel_l.rvs(loc=current_risk.returns.mean(),scale=current_risk.returns.std(),size=(10000,current_risk.returns.shape[1]))\n",
    "perf=(test*current_weights).sum(axis=1)\n",
    "\n",
    "var=np.percentile(perf,5)\n",
    "cvar=perf[perf<var].mean()\n",
    "var,cvar"
   ]
  },
  {
   "cell_type": "raw",
   "id": "3d431a69-7d30-4d5a-8b79-313ccc73d7bd",
   "metadata": {
    "jupyter": {
     "source_hidden": true
    },
    "tags": []
   },
   "source": [
    "scenario_gumbel_copula={}\n",
    "\n",
    "for i in range(100):\n",
    "    test=gumbel_l.rvs(loc=current_risk.returns.mean(),scale=current_risk.returns.std(),size=(10000,current_risk.returns.shape[1]))\n",
    "    gumbel_copula_distrib=pd.DataFrame(test,columns=current_risk.returns.columns)\n",
    "    gumbel_copula_distrib=gumbel_copula_distrib*current_weights\n",
    "    gumbel_copula_distrib=gumbel_copula_distrib[gumbel_copula_distrib.columns[current_weights>0]]\n",
    "    gumbel_copula_distrib['Portfolio']=gumbel_copula_distrib.sum(axis=1)\n",
    "    gumbel_copula_var=gumbel_copula_distrib.sort_values(by='Portfolio').iloc[int(gumbel_copula_distrib.shape[0]*0.05)]['Portfolio']\n",
    "    results=gumbel_copula_distrib.sort_values(by='Portfolio').iloc[int(gumbel_copula_distrib.shape[0]*0.05)]\n",
    "    \n",
    "    scenario_gumbel_copula[i]=results\n",
    "    \n",
    "mean_scenario_gaussian=pd.DataFrame(scenario_gumbel_copula).T.mean()\n",
    "mean_scenario_gaussian"
   ]
  },
  {
   "cell_type": "raw",
   "id": "929edc55-62b8-4da7-96a1-d5c4049da71f",
   "metadata": {
    "jupyter": {
     "source_hidden": true
    },
    "tags": []
   },
   "source": [
    "test=-np.random.gumbel(loc=current_risk.returns.mean(),scale=current_risk.returns.std(),size=(10000,current_risk.returns.shape[1]))\n",
    "var=np.percentile(performance(test,current_weights),5)\n",
    "cvar=performance(test,current_weights)[performance(test,current_weights)<var].mean()\n",
    "var,cvar"
   ]
  },
  {
   "cell_type": "raw",
   "id": "df443baa-f1ac-4309-b3a6-4cc30c1f24cc",
   "metadata": {
    "jupyter": {
     "source_hidden": true
    },
    "tags": []
   },
   "source": [
    "scenario_gumbel_copula={}\n",
    "\n",
    "for i in range(100):\n",
    "    test=-np.random.gumbel(loc=current_risk.returns.mean(),scale=current_risk.returns.std(),size=(10000,current_risk.returns.shape[1]))\n",
    "    gumbel_copula_distrib=pd.DataFrame(test,columns=current_risk.returns.columns)\n",
    "    gumbel_copula_distrib=gumbel_copula_distrib*current_weights\n",
    "    gumbel_copula_distrib=gumbel_copula_distrib[gumbel_copula_distrib.columns[current_weights>0]]\n",
    "    gumbel_copula_distrib['Portfolio']=gumbel_copula_distrib.sum(axis=1)\n",
    "    gumbel_copula_var=gumbel_copula_distrib.sort_values(by='Portfolio').iloc[int(gumbel_copula_distrib.shape[0]*0.05)]['Portfolio']\n",
    "    results=gumbel_copula_distrib.sort_values(by='Portfolio').iloc[int(gumbel_copula_distrib.shape[0]*0.05)]\n",
    "    \n",
    "    scenario_gumbel_copula[i]=results\n",
    "    \n",
    "mean_scenario_gaussian=pd.DataFrame(scenario_gumbel_copula).T.mean()\n",
    "mean_scenario_gaussian"
   ]
  },
  {
   "cell_type": "markdown",
   "id": "7552457d-af22-431f-bdc4-3609112e4138",
   "metadata": {},
   "source": [
    "### Monte Carlo"
   ]
  },
  {
   "cell_type": "code",
   "execution_count": 71,
   "id": "4842fd75-6b18-4ef9-b65b-823eb398fc2e",
   "metadata": {},
   "outputs": [],
   "source": [
    "spot=data[with_no_na].iloc[-1]\n",
    "monte_carlo=historical_risk.monte_carlo(spot,horizon=1/250,stress_factor=1.0)\n",
    "perf=performance(monte_carlo[1].fillna(0),opt_weights)"
   ]
  },
  {
   "cell_type": "code",
   "execution_count": 72,
   "id": "51c03bd4-96cb-4ef9-a720-1320ae57f100",
   "metadata": {},
   "outputs": [
    {
     "data": {
      "text/plain": [
       "(-0.0753140512436707, -0.09459700838865277)"
      ]
     },
     "execution_count": 72,
     "metadata": {},
     "output_type": "execute_result"
    }
   ],
   "source": [
    "var=np.percentile(perf,5)\n",
    "cvar=perf[perf<var].mean()\n",
    "\n",
    "var,cvar"
   ]
  },
  {
   "cell_type": "code",
   "execution_count": 73,
   "id": "d016716b-b572-4f28-acb1-c44ae139f2ae",
   "metadata": {},
   "outputs": [
    {
     "data": {
      "text/plain": [
       "(-0.033087644584553697, -0.04163962169408484)"
      ]
     },
     "execution_count": 73,
     "metadata": {},
     "output_type": "execute_result"
    }
   ],
   "source": [
    "spot=data[ex_ante_perf.columns].iloc[-1]\n",
    "monte_carlo=current_risk.monte_carlo(spot,horizon=1/250,stress_factor=1.0)\n",
    "perf=performance(monte_carlo[1].fillna(0),current_weights)\n",
    "var=np.percentile(perf,5)\n",
    "cvar=perf[perf<var].mean()\n",
    "\n",
    "var,cvar"
   ]
  },
  {
   "cell_type": "code",
   "execution_count": 74,
   "id": "0208383d-314b-471b-9943-3d75beae4276",
   "metadata": {},
   "outputs": [
    {
     "data": {
      "text/plain": [
       "BTCUSDT     -0.005612\n",
       "OMUSDT      -0.012359\n",
       "JASMYUSDT   -0.006530\n",
       "SOLUSDT     -0.005081\n",
       "ETHUSDT     -0.002589\n",
       "TRXUSDT     -0.000105\n",
       "BBUSDT      -0.001179\n",
       "Portfolio   -0.033455\n",
       "dtype: float64"
      ]
     },
     "execution_count": 74,
     "metadata": {},
     "output_type": "execute_result"
    }
   ],
   "source": [
    "spot=data[ex_ante_perf.columns].iloc[-1]\n",
    "\n",
    "scenario_monte_carlo={}\n",
    "\n",
    "for i in range(100):\n",
    "    \n",
    "    monte_carlo=current_risk.monte_carlo(spot,horizon=1/250,stress_factor=1.0)\n",
    "    monte_carlo_distrib=monte_carlo[1].fillna(0)*current_weights\n",
    "    monte_carlo_distrib=monte_carlo_distrib[monte_carlo_distrib.columns[current_weights>0]]\n",
    "    monte_carlo_distrib['Portfolio']=monte_carlo_distrib.sum(axis=1)\n",
    "    monte_carlo_var=monte_carlo_distrib.sort_values(by='Portfolio').iloc[int(monte_carlo_distrib.shape[0]*0.05)]['Portfolio']\n",
    "    results=monte_carlo_distrib.sort_values(by='Portfolio').iloc[int(monte_carlo_distrib.shape[0]*0.05)]\n",
    "    \n",
    "    scenario_monte_carlo[i]=results\n",
    "    \n",
    "mean_scenario_monte_carlo=pd.DataFrame(scenario_monte_carlo).T.mean()\n",
    "mean_scenario_monte_carlo"
   ]
  },
  {
   "cell_type": "markdown",
   "id": "2b3cb248-60ea-43f7-b474-31b6046eeee9",
   "metadata": {},
   "source": [
    "## VaR Violation"
   ]
  },
  {
   "cell_type": "code",
   "execution_count": 75,
   "id": "757aac0b-a638-4349-8fd3-30b1f39fa8b4",
   "metadata": {},
   "outputs": [
    {
     "data": {
      "text/html": [
       "<div>\n",
       "<style scoped>\n",
       "    .dataframe tbody tr th:only-of-type {\n",
       "        vertical-align: middle;\n",
       "    }\n",
       "\n",
       "    .dataframe tbody tr th {\n",
       "        vertical-align: top;\n",
       "    }\n",
       "\n",
       "    .dataframe thead th {\n",
       "        text-align: right;\n",
       "    }\n",
       "</style>\n",
       "<table border=\"1\" class=\"dataframe\">\n",
       "  <thead>\n",
       "    <tr style=\"text-align: right;\">\n",
       "      <th></th>\n",
       "      <th>Historical</th>\n",
       "      <th>Parametric</th>\n",
       "      <th>Multivariate</th>\n",
       "      <th>Portfolio</th>\n",
       "    </tr>\n",
       "  </thead>\n",
       "  <tbody>\n",
       "    <tr>\n",
       "      <th>2024-01-14</th>\n",
       "      <td>-0.059695</td>\n",
       "      <td>-0.103241</td>\n",
       "      <td>-0.086288</td>\n",
       "      <td>-0.025189</td>\n",
       "    </tr>\n",
       "    <tr>\n",
       "      <th>2024-01-15</th>\n",
       "      <td>-0.059695</td>\n",
       "      <td>-0.103246</td>\n",
       "      <td>-0.089707</td>\n",
       "      <td>0.017302</td>\n",
       "    </tr>\n",
       "    <tr>\n",
       "      <th>2024-01-16</th>\n",
       "      <td>-0.059695</td>\n",
       "      <td>-0.103773</td>\n",
       "      <td>-0.084456</td>\n",
       "      <td>0.057175</td>\n",
       "    </tr>\n",
       "    <tr>\n",
       "      <th>2024-01-17</th>\n",
       "      <td>-0.059695</td>\n",
       "      <td>-0.106042</td>\n",
       "      <td>-0.088895</td>\n",
       "      <td>-0.034377</td>\n",
       "    </tr>\n",
       "    <tr>\n",
       "      <th>2024-01-18</th>\n",
       "      <td>-0.059695</td>\n",
       "      <td>-0.108086</td>\n",
       "      <td>-0.094646</td>\n",
       "      <td>-0.034255</td>\n",
       "    </tr>\n",
       "    <tr>\n",
       "      <th>...</th>\n",
       "      <td>...</td>\n",
       "      <td>...</td>\n",
       "      <td>...</td>\n",
       "      <td>...</td>\n",
       "    </tr>\n",
       "    <tr>\n",
       "      <th>2024-09-25</th>\n",
       "      <td>-0.045170</td>\n",
       "      <td>-0.070680</td>\n",
       "      <td>-0.066962</td>\n",
       "      <td>0.000634</td>\n",
       "    </tr>\n",
       "    <tr>\n",
       "      <th>2024-09-26</th>\n",
       "      <td>-0.040227</td>\n",
       "      <td>-0.069554</td>\n",
       "      <td>-0.060215</td>\n",
       "      <td>0.048726</td>\n",
       "    </tr>\n",
       "    <tr>\n",
       "      <th>2024-09-27</th>\n",
       "      <td>-0.040227</td>\n",
       "      <td>-0.069422</td>\n",
       "      <td>-0.060497</td>\n",
       "      <td>0.005688</td>\n",
       "    </tr>\n",
       "    <tr>\n",
       "      <th>2024-09-28</th>\n",
       "      <td>-0.040227</td>\n",
       "      <td>-0.069319</td>\n",
       "      <td>-0.063168</td>\n",
       "      <td>0.010112</td>\n",
       "    </tr>\n",
       "    <tr>\n",
       "      <th>2024-09-29</th>\n",
       "      <td>-0.040227</td>\n",
       "      <td>-0.069704</td>\n",
       "      <td>-0.064321</td>\n",
       "      <td>-0.009883</td>\n",
       "    </tr>\n",
       "  </tbody>\n",
       "</table>\n",
       "<p>260 rows × 4 columns</p>\n",
       "</div>"
      ],
      "text/plain": [
       "            Historical  Parametric  Multivariate  Portfolio\n",
       "2024-01-14   -0.059695   -0.103241     -0.086288  -0.025189\n",
       "2024-01-15   -0.059695   -0.103246     -0.089707   0.017302\n",
       "2024-01-16   -0.059695   -0.103773     -0.084456   0.057175\n",
       "2024-01-17   -0.059695   -0.106042     -0.088895  -0.034377\n",
       "2024-01-18   -0.059695   -0.108086     -0.094646  -0.034255\n",
       "...                ...         ...           ...        ...\n",
       "2024-09-25   -0.045170   -0.070680     -0.066962   0.000634\n",
       "2024-09-26   -0.040227   -0.069554     -0.060215   0.048726\n",
       "2024-09-27   -0.040227   -0.069422     -0.060497   0.005688\n",
       "2024-09-28   -0.040227   -0.069319     -0.063168   0.010112\n",
       "2024-09-29   -0.040227   -0.069704     -0.064321  -0.009883\n",
       "\n",
       "[260 rows x 4 columns]"
      ]
     },
     "execution_count": 75,
     "metadata": {},
     "output_type": "execute_result"
    }
   ],
   "source": [
    "var_data=rolling_var(returns_to_use,opt_weights,window=30,Q=1)\n",
    "var_data"
   ]
  },
  {
   "cell_type": "code",
   "execution_count": 76,
   "id": "bca159de-f35d-4db1-b088-09ad2dbc5b6a",
   "metadata": {},
   "outputs": [
    {
     "data": {
      "text/html": [
       "<div>\n",
       "<style scoped>\n",
       "    .dataframe tbody tr th:only-of-type {\n",
       "        vertical-align: middle;\n",
       "    }\n",
       "\n",
       "    .dataframe tbody tr th {\n",
       "        vertical-align: top;\n",
       "    }\n",
       "\n",
       "    .dataframe thead th {\n",
       "        text-align: right;\n",
       "    }\n",
       "</style>\n",
       "<table border=\"1\" class=\"dataframe\">\n",
       "  <thead>\n",
       "    <tr style=\"text-align: right;\">\n",
       "      <th></th>\n",
       "      <th>Historical</th>\n",
       "      <th>Parametric</th>\n",
       "      <th>Multivariate</th>\n",
       "      <th>Portfolio</th>\n",
       "    </tr>\n",
       "  </thead>\n",
       "  <tbody>\n",
       "    <tr>\n",
       "      <th>2024-05-28</th>\n",
       "      <td>-0.031638</td>\n",
       "      <td>-0.085290</td>\n",
       "      <td>-0.078564</td>\n",
       "      <td>-0.017777</td>\n",
       "    </tr>\n",
       "    <tr>\n",
       "      <th>2024-05-29</th>\n",
       "      <td>-0.028927</td>\n",
       "      <td>-0.082375</td>\n",
       "      <td>-0.070862</td>\n",
       "      <td>-0.010068</td>\n",
       "    </tr>\n",
       "    <tr>\n",
       "      <th>2024-05-30</th>\n",
       "      <td>-0.028927</td>\n",
       "      <td>-0.071479</td>\n",
       "      <td>-0.064717</td>\n",
       "      <td>0.038500</td>\n",
       "    </tr>\n",
       "    <tr>\n",
       "      <th>2024-05-31</th>\n",
       "      <td>-0.028927</td>\n",
       "      <td>-0.070601</td>\n",
       "      <td>-0.059904</td>\n",
       "      <td>0.028058</td>\n",
       "    </tr>\n",
       "    <tr>\n",
       "      <th>2024-06-01</th>\n",
       "      <td>-0.028927</td>\n",
       "      <td>-0.071935</td>\n",
       "      <td>-0.061388</td>\n",
       "      <td>0.041604</td>\n",
       "    </tr>\n",
       "    <tr>\n",
       "      <th>...</th>\n",
       "      <td>...</td>\n",
       "      <td>...</td>\n",
       "      <td>...</td>\n",
       "      <td>...</td>\n",
       "    </tr>\n",
       "    <tr>\n",
       "      <th>2024-09-25</th>\n",
       "      <td>-0.025571</td>\n",
       "      <td>-0.046479</td>\n",
       "      <td>-0.038908</td>\n",
       "      <td>-0.011419</td>\n",
       "    </tr>\n",
       "    <tr>\n",
       "      <th>2024-09-26</th>\n",
       "      <td>-0.025571</td>\n",
       "      <td>-0.050672</td>\n",
       "      <td>-0.039997</td>\n",
       "      <td>0.042695</td>\n",
       "    </tr>\n",
       "    <tr>\n",
       "      <th>2024-09-27</th>\n",
       "      <td>-0.025571</td>\n",
       "      <td>-0.048305</td>\n",
       "      <td>-0.040246</td>\n",
       "      <td>0.008311</td>\n",
       "    </tr>\n",
       "    <tr>\n",
       "      <th>2024-09-28</th>\n",
       "      <td>-0.025571</td>\n",
       "      <td>-0.048272</td>\n",
       "      <td>-0.041880</td>\n",
       "      <td>-0.002051</td>\n",
       "    </tr>\n",
       "    <tr>\n",
       "      <th>2024-09-29</th>\n",
       "      <td>-0.025552</td>\n",
       "      <td>-0.046729</td>\n",
       "      <td>-0.039347</td>\n",
       "      <td>-0.006891</td>\n",
       "    </tr>\n",
       "  </tbody>\n",
       "</table>\n",
       "<p>125 rows × 4 columns</p>\n",
       "</div>"
      ],
      "text/plain": [
       "            Historical  Parametric  Multivariate  Portfolio\n",
       "2024-05-28   -0.031638   -0.085290     -0.078564  -0.017777\n",
       "2024-05-29   -0.028927   -0.082375     -0.070862  -0.010068\n",
       "2024-05-30   -0.028927   -0.071479     -0.064717   0.038500\n",
       "2024-05-31   -0.028927   -0.070601     -0.059904   0.028058\n",
       "2024-06-01   -0.028927   -0.071935     -0.061388   0.041604\n",
       "...                ...         ...           ...        ...\n",
       "2024-09-25   -0.025571   -0.046479     -0.038908  -0.011419\n",
       "2024-09-26   -0.025571   -0.050672     -0.039997   0.042695\n",
       "2024-09-27   -0.025571   -0.048305     -0.040246   0.008311\n",
       "2024-09-28   -0.025571   -0.048272     -0.041880  -0.002051\n",
       "2024-09-29   -0.025552   -0.046729     -0.039347  -0.006891\n",
       "\n",
       "[125 rows x 4 columns]"
      ]
     },
     "execution_count": 76,
     "metadata": {},
     "output_type": "execute_result"
    }
   ],
   "source": [
    "current_var_data=rolling_var(ex_ante_perf_to_use,current_weights,window=15,Q=1)\n",
    "current_var_data"
   ]
  },
  {
   "cell_type": "code",
   "execution_count": 77,
   "id": "0e7d84e4-bd99-45e8-9326-4f84526ba091",
   "metadata": {},
   "outputs": [
    {
     "data": {
      "text/plain": [
       "<AxesSubplot:>"
      ]
     },
     "execution_count": 77,
     "metadata": {},
     "output_type": "execute_result"
    },
    {
     "data": {
      "image/png": "[encoded data removed]",
      "text/plain": [
       "<Figure size 432x288 with 1 Axes>"
      ]
     },
     "metadata": {
      "needs_background": "light"
     },
     "output_type": "display_data"
    }
   ],
   "source": [
    "var_data.plot()"
   ]
  },
  {
   "cell_type": "code",
   "execution_count": 78,
   "id": "4499b3ef-4ed2-48a3-8967-0230afa98c7d",
   "metadata": {},
   "outputs": [
    {
     "data": {
      "text/plain": [
       "<AxesSubplot:>"
      ]
     },
     "execution_count": 78,
     "metadata": {},
     "output_type": "execute_result"
    },
    {
     "data": {
      "image/png": "[encoded data removed]",
      "text/plain": [
       "<Figure size 432x288 with 1 Axes>"
      ]
     },
     "metadata": {
      "needs_background": "light"
     },
     "output_type": "display_data"
    }
   ],
   "source": [
    "current_var_data.plot()"
   ]
  },
  {
   "cell_type": "code",
   "execution_count": 79,
   "id": "e47d08e8-e7a7-4b22-8605-f8200e5645a6",
   "metadata": {},
   "outputs": [
    {
     "data": {
      "text/html": [
       "<div>\n",
       "<style scoped>\n",
       "    .dataframe tbody tr th:only-of-type {\n",
       "        vertical-align: middle;\n",
       "    }\n",
       "\n",
       "    .dataframe tbody tr th {\n",
       "        vertical-align: top;\n",
       "    }\n",
       "\n",
       "    .dataframe thead th {\n",
       "        text-align: right;\n",
       "    }\n",
       "</style>\n",
       "<table border=\"1\" class=\"dataframe\">\n",
       "  <thead>\n",
       "    <tr style=\"text-align: right;\">\n",
       "      <th></th>\n",
       "      <th>Historical</th>\n",
       "      <th>Parametric</th>\n",
       "      <th>Multivariate</th>\n",
       "    </tr>\n",
       "  </thead>\n",
       "  <tbody>\n",
       "    <tr>\n",
       "      <th>Proportion of failure</th>\n",
       "      <td>0.023077</td>\n",
       "      <td>0.011538</td>\n",
       "      <td>0.011538</td>\n",
       "    </tr>\n",
       "    <tr>\n",
       "      <th>Kupiec Stat</th>\n",
       "      <td>4.918254</td>\n",
       "      <td>11.60148</td>\n",
       "      <td>11.60148</td>\n",
       "    </tr>\n",
       "    <tr>\n",
       "      <th>P-value</th>\n",
       "      <td>0.026574</td>\n",
       "      <td>0.000659</td>\n",
       "      <td>0.000659</td>\n",
       "    </tr>\n",
       "  </tbody>\n",
       "</table>\n",
       "</div>"
      ],
      "text/plain": [
       "                      Historical Parametric Multivariate\n",
       "Proportion of failure   0.023077   0.011538     0.011538\n",
       "Kupiec Stat             4.918254   11.60148     11.60148\n",
       "P-value                 0.026574   0.000659     0.000659"
      ]
     },
     "execution_count": 79,
     "metadata": {},
     "output_type": "execute_result"
    }
   ],
   "source": [
    "kupiec_test(var_data)"
   ]
  },
  {
   "cell_type": "code",
   "execution_count": 80,
   "id": "0b33e6a3-e732-49df-a1a0-aefaefb1f271",
   "metadata": {},
   "outputs": [
    {
     "data": {
      "text/html": [
       "<div>\n",
       "<style scoped>\n",
       "    .dataframe tbody tr th:only-of-type {\n",
       "        vertical-align: middle;\n",
       "    }\n",
       "\n",
       "    .dataframe tbody tr th {\n",
       "        vertical-align: top;\n",
       "    }\n",
       "\n",
       "    .dataframe thead th {\n",
       "        text-align: right;\n",
       "    }\n",
       "</style>\n",
       "<table border=\"1\" class=\"dataframe\">\n",
       "  <thead>\n",
       "    <tr style=\"text-align: right;\">\n",
       "      <th></th>\n",
       "      <th>Historical</th>\n",
       "      <th>Parametric</th>\n",
       "      <th>Multivariate</th>\n",
       "    </tr>\n",
       "  </thead>\n",
       "  <tbody>\n",
       "    <tr>\n",
       "      <th>Proportion of failure</th>\n",
       "      <td>0.056</td>\n",
       "      <td>0.024</td>\n",
       "      <td>0.024</td>\n",
       "    </tr>\n",
       "    <tr>\n",
       "      <th>Kupiec Stat</th>\n",
       "      <td>0.091348</td>\n",
       "      <td>2.184332</td>\n",
       "      <td>2.184332</td>\n",
       "    </tr>\n",
       "    <tr>\n",
       "      <th>P-value</th>\n",
       "      <td>0.76247</td>\n",
       "      <td>0.139422</td>\n",
       "      <td>0.139422</td>\n",
       "    </tr>\n",
       "  </tbody>\n",
       "</table>\n",
       "</div>"
      ],
      "text/plain": [
       "                      Historical Parametric Multivariate\n",
       "Proportion of failure      0.056      0.024        0.024\n",
       "Kupiec Stat             0.091348   2.184332     2.184332\n",
       "P-value                  0.76247   0.139422     0.139422"
      ]
     },
     "execution_count": 80,
     "metadata": {},
     "output_type": "execute_result"
    }
   ],
   "source": [
    "kupiec_test(current_var_data)"
   ]
  },
  {
   "cell_type": "markdown",
   "id": "7d238b49-45e4-4e3c-a34b-654a69961cc2",
   "metadata": {},
   "source": [
    "## Principal Component Analysis"
   ]
  },
  {
   "cell_type": "markdown",
   "id": "f692a72e-632c-4eb9-afa3-b1283e5e6fd9",
   "metadata": {},
   "source": [
    "### Historical PCA"
   ]
  },
  {
   "cell_type": "code",
   "execution_count": 81,
   "id": "6000e084-3863-47c4-9f09-9fcd4c7220be",
   "metadata": {},
   "outputs": [
    {
     "data": {
      "text/plain": [
       "array([0.78710135, 0.06692853, 0.05480783, 0.04649999, 0.0446623 ])"
      ]
     },
     "execution_count": 81,
     "metadata": {},
     "output_type": "execute_result"
    }
   ],
   "source": [
    "eigval,eigvec,portfolio_components=historical_risk.pca(num_components=5)\n",
    "variance_explained=eigval/eigval.sum()\n",
    "variance_explained"
   ]
  },
  {
   "cell_type": "code",
   "execution_count": 82,
   "id": "53fd60dd-afcd-4a5f-bc0c-1afbe4acfcf5",
   "metadata": {},
   "outputs": [
    {
     "data": {
      "text/plain": [
       "AAVEUSDT    0.014358\n",
       "ADAUSDT     0.014686\n",
       "ALGOUSDT    0.016235\n",
       "APTUSDT     0.015641\n",
       "ARBUSDT     0.015855\n",
       "              ...   \n",
       "WBTCUSDT    0.010223\n",
       "WLDUSDT     0.021944\n",
       "XLMUSDT     0.009774\n",
       "XRPUSDT     0.009329\n",
       "XTZUSDT     0.014768\n",
       "Name: PC1, Length: 63, dtype: float64"
      ]
     },
     "execution_count": 82,
     "metadata": {},
     "output_type": "execute_result"
    }
   ],
   "source": [
    "pca_weight=dict((portfolio_components['PC1']/portfolio_components['PC1'].sum()))\n",
    "portfolio_components['PC1']"
   ]
  },
  {
   "cell_type": "code",
   "execution_count": 83,
   "id": "e83837db-6bb4-44d7-8d2f-ace69c484699",
   "metadata": {},
   "outputs": [
    {
     "data": {
      "text/plain": [
       "<AxesSubplot:>"
      ]
     },
     "execution_count": 83,
     "metadata": {},
     "output_type": "execute_result"
    },
    {
     "data": {
      "image/png": "[encoded data removed]",
      "text/plain": [
       "<Figure size 432x288 with 1 Axes>"
      ]
     },
     "metadata": {
      "needs_background": "light"
     },
     "output_type": "display_data"
    }
   ],
   "source": [
    "PCA=pd.DataFrame(np.array(list(pca_weight.values())).dot(np.transpose(historical_risk.returns)),\n",
    "                 index=historical_risk.returns.index,\n",
    "                 columns=['PCA'])\n",
    "PCA=PCA.dropna()\n",
    "(1+PCA).cumprod().plot()"
   ]
  },
  {
   "cell_type": "code",
   "execution_count": 84,
   "id": "c575f9ec-6680-4401-814e-d33785954e38",
   "metadata": {},
   "outputs": [
    {
     "data": {
      "text/plain": [
       "<AxesSubplot:>"
      ]
     },
     "execution_count": 84,
     "metadata": {},
     "output_type": "execute_result"
    },
    {
     "data": {
      "image/png": "[encoded data removed]",
      "text/plain": [
       "<Figure size 432x288 with 1 Axes>"
      ]
     },
     "metadata": {
      "needs_background": "light"
     },
     "output_type": "display_data"
    }
   ],
   "source": [
    "(1+historical_risk.returns['BTCUSDT']).cumprod().plot()"
   ]
  },
  {
   "cell_type": "code",
   "execution_count": 85,
   "id": "1a144186-3cff-4c2b-8833-2ff9c7ed02d0",
   "metadata": {},
   "outputs": [
    {
     "data": {
      "text/plain": [
       "PCA          0.000000\n",
       "XTZUSDT      0.337536\n",
       "ADAUSDT      0.341471\n",
       "ALGOUSDT     0.347770\n",
       "WBETHUSDT    0.354130\n",
       "               ...   \n",
       "PEPEUSDT     1.000689\n",
       "FLOKIUSDT    1.009395\n",
       "WLDUSDT      1.045406\n",
       "CKBUSDT      1.153341\n",
       "OMUSDT       1.314736\n",
       "Length: 64, dtype: float64"
      ]
     },
     "execution_count": 85,
     "metadata": {},
     "output_type": "execute_result"
    }
   ],
   "source": [
    "comparison=historical_risk.returns.copy()\n",
    "comparison['PCA']=PCA\n",
    "distances=np.sqrt(np.sum(comparison.apply(lambda y:(y-PCA['PCA'])**2))).sort_values()\n",
    "distances"
   ]
  },
  {
   "cell_type": "code",
   "execution_count": 86,
   "id": "1757caf9-a1c9-4e4e-8334-fae0314667e7",
   "metadata": {},
   "outputs": [
    {
     "data": {
      "text/plain": [
       "<AxesSubplot:>"
      ]
     },
     "execution_count": 86,
     "metadata": {},
     "output_type": "execute_result"
    },
    {
     "data": {
      "image/png": "[encoded data removed]",
      "text/plain": [
       "<Figure size 432x288 with 1 Axes>"
      ]
     },
     "metadata": {
      "needs_background": "light"
     },
     "output_type": "display_data"
    }
   ],
   "source": [
    "(1+comparison[distances.index[:10]]).cumprod().plot()"
   ]
  },
  {
   "cell_type": "code",
   "execution_count": 87,
   "id": "56a047da-fd00-4827-8e18-635a2fa53389",
   "metadata": {},
   "outputs": [
    {
     "data": {
      "text/plain": [
       "<AxesSubplot:>"
      ]
     },
     "execution_count": 87,
     "metadata": {},
     "output_type": "execute_result"
    },
    {
     "data": {
      "image/png": "[encoded data removed]",
      "text/plain": [
       "<Figure size 432x288 with 1 Axes>"
      ]
     },
     "metadata": {
      "needs_background": "light"
     },
     "output_type": "display_data"
    }
   ],
   "source": [
    "(1+comparison[distances.index[-10:]]).cumprod().plot()"
   ]
  },
  {
   "cell_type": "markdown",
   "id": "1e202647-c176-480f-a368-895d7d744dd0",
   "metadata": {},
   "source": [
    "### Current PCA"
   ]
  },
  {
   "cell_type": "code",
   "execution_count": 88,
   "id": "b279a72f-1f1c-42f0-a641-013b3e43675f",
   "metadata": {},
   "outputs": [
    {
     "data": {
      "text/plain": [
       "array([0.61106098, 0.19451707, 0.09272289, 0.06348649, 0.03821258])"
      ]
     },
     "execution_count": 88,
     "metadata": {},
     "output_type": "execute_result"
    }
   ],
   "source": [
    "eigval,eigvec,portfolio_components_current=current_risk.pca(num_components=5)\n",
    "variance_explained=eigval/eigval.sum()\n",
    "variance_explained"
   ]
  },
  {
   "cell_type": "code",
   "execution_count": 89,
   "id": "dfe7f204-8aab-42a9-a2e3-95c60a6b146e",
   "metadata": {},
   "outputs": [
    {
     "data": {
      "text/plain": [
       "BTCUSDT      0.060667\n",
       "OMUSDT       0.079149\n",
       "JASMYUSDT    0.147271\n",
       "SOLUSDT      0.121122\n",
       "ETHUSDT      0.094594\n",
       "TRXUSDT      0.018143\n",
       "BBUSDT       0.204138\n",
       "BNBUSDT      0.062891\n",
       "PEPEUSDT     0.212026\n",
       "Name: PC1, dtype: float64"
      ]
     },
     "execution_count": 89,
     "metadata": {},
     "output_type": "execute_result"
    }
   ],
   "source": [
    "pca_weight=dict((portfolio_components_current['PC1']/portfolio_components_current['PC1'].sum()))\n",
    "portfolio_components_current['PC1']"
   ]
  },
  {
   "cell_type": "code",
   "execution_count": 90,
   "id": "85176e0f-abd3-477c-89a2-f8473be390f3",
   "metadata": {},
   "outputs": [
    {
     "data": {
      "text/plain": [
       "<AxesSubplot:>"
      ]
     },
     "execution_count": 90,
     "metadata": {},
     "output_type": "execute_result"
    },
    {
     "data": {
      "image/png": "[encoded data removed]",
      "text/plain": [
       "<Figure size 432x288 with 1 Axes>"
      ]
     },
     "metadata": {
      "needs_background": "light"
     },
     "output_type": "display_data"
    }
   ],
   "source": [
    "PCA=pd.DataFrame(np.array(list(pca_weight.values())).dot(np.transpose(current_risk.returns)),\n",
    "                 index=current_risk.returns.index,\n",
    "                 columns=['PCA'])\n",
    "PCA=PCA.dropna()\n",
    "(1+PCA).cumprod().plot()"
   ]
  },
  {
   "cell_type": "code",
   "execution_count": 91,
   "id": "03b2a48e-4c5a-4d67-8760-a4631629f0a3",
   "metadata": {},
   "outputs": [
    {
     "data": {
      "text/plain": [
       "<AxesSubplot:>"
      ]
     },
     "execution_count": 91,
     "metadata": {},
     "output_type": "execute_result"
    },
    {
     "data": {
      "image/png": "[encoded data removed]",
      "text/plain": [
       "<Figure size 432x288 with 1 Axes>"
      ]
     },
     "metadata": {
      "needs_background": "light"
     },
     "output_type": "display_data"
    }
   ],
   "source": [
    "(1+current_risk.returns['BTCUSDT']).cumprod().plot()"
   ]
  },
  {
   "cell_type": "code",
   "execution_count": 92,
   "id": "726e5786-d256-485f-9aed-34cf41558ed1",
   "metadata": {},
   "outputs": [
    {
     "data": {
      "text/plain": [
       "PCA          0.000000\n",
       "ETHUSDT      0.067740\n",
       "JASMYUSDT    0.072290\n",
       "SOLUSDT      0.073716\n",
       "BTCUSDT      0.079199\n",
       "BNBUSDT      0.089760\n",
       "TRXUSDT      0.104673\n",
       "OMUSDT       0.125885\n",
       "PEPEUSDT     0.130181\n",
       "BBUSDT       0.132911\n",
       "dtype: float64"
      ]
     },
     "execution_count": 92,
     "metadata": {},
     "output_type": "execute_result"
    }
   ],
   "source": [
    "comparison=current_risk.returns.copy()\n",
    "comparison['PCA']=PCA\n",
    "distances=np.sqrt(np.sum(comparison.apply(lambda y:(y-PCA['PCA'])**2))).sort_values()\n",
    "distances.iloc[:10]"
   ]
  },
  {
   "cell_type": "code",
   "execution_count": 93,
   "id": "15dace72-ee38-4c88-92c2-df5fa14f042c",
   "metadata": {},
   "outputs": [
    {
     "data": {
      "text/plain": [
       "<AxesSubplot:>"
      ]
     },
     "execution_count": 93,
     "metadata": {},
     "output_type": "execute_result"
    },
    {
     "data": {
      "image/png": "[encoded data removed]",
      "text/plain": [
       "<Figure size 432x288 with 1 Axes>"
      ]
     },
     "metadata": {
      "needs_background": "light"
     },
     "output_type": "display_data"
    }
   ],
   "source": [
    "(1+comparison[distances.index[:10]]).cumprod().plot()"
   ]
  },
  {
   "cell_type": "markdown",
   "id": "85389228-d5d4-4e65-b11c-e46e5e4155ba",
   "metadata": {},
   "source": [
    "## Sensitivity Analysis"
   ]
  },
  {
   "cell_type": "code",
   "execution_count": 94,
   "id": "7f6c4fd8-79da-438f-9aa9-c5fe762473d3",
   "metadata": {},
   "outputs": [
    {
     "data": {
      "text/plain": [
       "PEPEUSDT     1.944648\n",
       "BBUSDT       1.664737\n",
       "JASMYUSDT    1.283707\n",
       "SOLUSDT      1.166440\n",
       "BTCUSDT      1.000000\n",
       "OMUSDT       0.986911\n",
       "ETHUSDT      0.954749\n",
       "BNBUSDT      0.671648\n",
       "TRXUSDT      0.280446\n",
       "Name: BTCUSDT, dtype: float64"
      ]
     },
     "execution_count": 94,
     "metadata": {},
     "output_type": "execute_result"
    }
   ],
   "source": [
    "beta=(ex_ante_perf.cov()/ex_ante_perf.var())['BTCUSDT'].sort_values(ascending=False)\n",
    "beta"
   ]
  },
  {
   "cell_type": "code",
   "execution_count": 95,
   "id": "47a98cfa-6cea-4d6f-9e50-a8e067707547",
   "metadata": {},
   "outputs": [
    {
     "data": {
      "text/plain": [
       "PEPEUSDT     1.897325\n",
       "BBUSDT       1.758158\n",
       "JASMYUSDT    1.389222\n",
       "SOLUSDT      1.178999\n",
       "BTCUSDT      1.000000\n",
       "ETHUSDT      0.904689\n",
       "BNBUSDT      0.794263\n",
       "OMUSDT       0.572877\n",
       "TRXUSDT      0.193981\n",
       "Name: BTCUSDT, dtype: float64"
      ]
     },
     "execution_count": 95,
     "metadata": {},
     "output_type": "execute_result"
    }
   ],
   "source": [
    "days=15\n",
    "beta=(ex_ante_perf.iloc[-days:].cov()/ex_ante_perf.iloc[-days:].var())['BTCUSDT'].sort_values(ascending=False)\n",
    "beta"
   ]
  },
  {
   "cell_type": "markdown",
   "id": "9f7ba2ce-b159-4322-bfb9-a9f6874cda5e",
   "metadata": {},
   "source": [
    "## Sliding window optimization"
   ]
  },
  {
   "cell_type": "code",
   "execution_count": 96,
   "id": "182eaabf-5686-48d5-8c2e-9414607b541a",
   "metadata": {},
   "outputs": [
    {
     "data": {
      "text/html": [
       "<div>\n",
       "<style scoped>\n",
       "    .dataframe tbody tr th:only-of-type {\n",
       "        vertical-align: middle;\n",
       "    }\n",
       "\n",
       "    .dataframe tbody tr th {\n",
       "        vertical-align: top;\n",
       "    }\n",
       "\n",
       "    .dataframe thead th {\n",
       "        text-align: right;\n",
       "    }\n",
       "</style>\n",
       "<table border=\"1\" class=\"dataframe\">\n",
       "  <thead>\n",
       "    <tr style=\"text-align: right;\">\n",
       "      <th></th>\n",
       "      <th>BTCUSDT</th>\n",
       "      <th>OMUSDT</th>\n",
       "      <th>JASMYUSDT</th>\n",
       "      <th>SOLUSDT</th>\n",
       "      <th>ETHUSDT</th>\n",
       "      <th>TRXUSDT</th>\n",
       "      <th>BBUSDT</th>\n",
       "      <th>BNBUSDT</th>\n",
       "      <th>PEPEUSDT</th>\n",
       "    </tr>\n",
       "  </thead>\n",
       "  <tbody>\n",
       "    <tr>\n",
       "      <th>2024-05-27</th>\n",
       "      <td>0.000000</td>\n",
       "      <td>0.000000</td>\n",
       "      <td>0.622138</td>\n",
       "      <td>0.000000</td>\n",
       "      <td>0.0</td>\n",
       "      <td>0.000000</td>\n",
       "      <td>0.000000</td>\n",
       "      <td>0.000000</td>\n",
       "      <td>0.377862</td>\n",
       "    </tr>\n",
       "    <tr>\n",
       "      <th>2024-06-10</th>\n",
       "      <td>0.000000</td>\n",
       "      <td>0.625881</td>\n",
       "      <td>0.150844</td>\n",
       "      <td>0.000000</td>\n",
       "      <td>0.0</td>\n",
       "      <td>0.223275</td>\n",
       "      <td>0.000000</td>\n",
       "      <td>0.000000</td>\n",
       "      <td>0.000000</td>\n",
       "    </tr>\n",
       "    <tr>\n",
       "      <th>2024-06-24</th>\n",
       "      <td>0.000000</td>\n",
       "      <td>0.000000</td>\n",
       "      <td>0.000000</td>\n",
       "      <td>0.000000</td>\n",
       "      <td>0.0</td>\n",
       "      <td>1.000000</td>\n",
       "      <td>0.000000</td>\n",
       "      <td>0.000000</td>\n",
       "      <td>0.000000</td>\n",
       "    </tr>\n",
       "    <tr>\n",
       "      <th>2024-07-08</th>\n",
       "      <td>0.000000</td>\n",
       "      <td>0.182521</td>\n",
       "      <td>0.000000</td>\n",
       "      <td>0.000000</td>\n",
       "      <td>0.0</td>\n",
       "      <td>0.817479</td>\n",
       "      <td>0.000000</td>\n",
       "      <td>0.000000</td>\n",
       "      <td>0.000000</td>\n",
       "    </tr>\n",
       "    <tr>\n",
       "      <th>2024-07-22</th>\n",
       "      <td>0.414537</td>\n",
       "      <td>0.133222</td>\n",
       "      <td>0.000000</td>\n",
       "      <td>0.111977</td>\n",
       "      <td>0.0</td>\n",
       "      <td>0.340265</td>\n",
       "      <td>0.000000</td>\n",
       "      <td>0.000000</td>\n",
       "      <td>0.000000</td>\n",
       "    </tr>\n",
       "    <tr>\n",
       "      <th>2024-08-05</th>\n",
       "      <td>0.000000</td>\n",
       "      <td>0.000000</td>\n",
       "      <td>1.000000</td>\n",
       "      <td>0.000000</td>\n",
       "      <td>0.0</td>\n",
       "      <td>0.000000</td>\n",
       "      <td>0.000000</td>\n",
       "      <td>0.000000</td>\n",
       "      <td>0.000000</td>\n",
       "    </tr>\n",
       "    <tr>\n",
       "      <th>2024-08-19</th>\n",
       "      <td>0.000000</td>\n",
       "      <td>0.000000</td>\n",
       "      <td>0.000000</td>\n",
       "      <td>0.000000</td>\n",
       "      <td>0.0</td>\n",
       "      <td>0.926695</td>\n",
       "      <td>0.000000</td>\n",
       "      <td>0.073305</td>\n",
       "      <td>0.000000</td>\n",
       "    </tr>\n",
       "    <tr>\n",
       "      <th>2024-09-02</th>\n",
       "      <td>0.000000</td>\n",
       "      <td>0.435173</td>\n",
       "      <td>0.000000</td>\n",
       "      <td>0.000000</td>\n",
       "      <td>0.0</td>\n",
       "      <td>0.564827</td>\n",
       "      <td>0.000000</td>\n",
       "      <td>0.000000</td>\n",
       "      <td>0.000000</td>\n",
       "    </tr>\n",
       "    <tr>\n",
       "      <th>2024-09-16</th>\n",
       "      <td>0.000000</td>\n",
       "      <td>0.287486</td>\n",
       "      <td>0.000000</td>\n",
       "      <td>0.000000</td>\n",
       "      <td>0.0</td>\n",
       "      <td>0.000000</td>\n",
       "      <td>0.712514</td>\n",
       "      <td>0.000000</td>\n",
       "      <td>0.000000</td>\n",
       "    </tr>\n",
       "  </tbody>\n",
       "</table>\n",
       "</div>"
      ],
      "text/plain": [
       "             BTCUSDT    OMUSDT  JASMYUSDT   SOLUSDT  ETHUSDT   TRXUSDT  \\\n",
       "2024-05-27  0.000000  0.000000   0.622138  0.000000      0.0  0.000000   \n",
       "2024-06-10  0.000000  0.625881   0.150844  0.000000      0.0  0.223275   \n",
       "2024-06-24  0.000000  0.000000   0.000000  0.000000      0.0  1.000000   \n",
       "2024-07-08  0.000000  0.182521   0.000000  0.000000      0.0  0.817479   \n",
       "2024-07-22  0.414537  0.133222   0.000000  0.111977      0.0  0.340265   \n",
       "2024-08-05  0.000000  0.000000   1.000000  0.000000      0.0  0.000000   \n",
       "2024-08-19  0.000000  0.000000   0.000000  0.000000      0.0  0.926695   \n",
       "2024-09-02  0.000000  0.435173   0.000000  0.000000      0.0  0.564827   \n",
       "2024-09-16  0.000000  0.287486   0.000000  0.000000      0.0  0.000000   \n",
       "\n",
       "              BBUSDT   BNBUSDT  PEPEUSDT  \n",
       "2024-05-27  0.000000  0.000000  0.377862  \n",
       "2024-06-10  0.000000  0.000000  0.000000  \n",
       "2024-06-24  0.000000  0.000000  0.000000  \n",
       "2024-07-08  0.000000  0.000000  0.000000  \n",
       "2024-07-22  0.000000  0.000000  0.000000  \n",
       "2024-08-05  0.000000  0.000000  0.000000  \n",
       "2024-08-19  0.000000  0.073305  0.000000  \n",
       "2024-09-02  0.000000  0.000000  0.000000  \n",
       "2024-09-16  0.712514  0.000000  0.000000  "
      ]
     },
     "execution_count": 96,
     "metadata": {},
     "output_type": "execute_result"
    }
   ],
   "source": [
    "results={}\n",
    "window=14\n",
    "\n",
    "for i in range(0,ex_ante_perf_to_use.shape[0]-window+1,window):\n",
    "    \n",
    "    try:\n",
    "        dataset=ex_ante_perf_to_use.iloc[i:i+window]\n",
    "        risk=RiskAnalysis(dataset)\n",
    "        date=dataset.index[-1]\n",
    "        optimal=risk.optimize(objective='sharpe_ratio')     \n",
    "        results[date]=np.round(optimal,6)\n",
    "        \n",
    "    except Exception as e:\n",
    "        \n",
    "            pass\n",
    "\n",
    "rolling_optimization=pd.DataFrame(results,index=ex_ante_perf_to_use.columns).T\n",
    "rolling_optimization"
   ]
  },
  {
   "cell_type": "code",
   "execution_count": 97,
   "id": "ba766c78-090e-417d-8914-72d3f33c9a84",
   "metadata": {},
   "outputs": [],
   "source": [
    "test=pd.read_excel('Trade History.xlsx')\n",
    "test['Date(UTC)']=pd.to_datetime(test['Date(UTC)'])\n",
    "test['Time']=test['Date(UTC)'].dt.round('T')\n",
    "test=test.set_index('Date(UTC)')"
   ]
  },
  {
   "cell_type": "code",
   "execution_count": 98,
   "id": "3c37ea5a-a3fa-4732-8766-206babea3330",
   "metadata": {},
   "outputs": [],
   "source": [
    "trade_info=zip(test['Market'],test.index)\n",
    "trade_info=dict(enumerate(trade_info))"
   ]
  },
  {
   "cell_type": "code",
   "execution_count": 99,
   "id": "0206e4ee-5287-4f83-8f00-d8756bd5ed5a",
   "metadata": {},
   "outputs": [],
   "source": [
    "trade_price={}\n",
    "for index in trade_info:\n",
    "    \n",
    "    if trade_info[index][0][-4:]=='USDT':\n",
    "        ticker=trade_info[index][0]\n",
    "    else:\n",
    "        ticker=trade_info[index][0][-3:]+'USDT'\n",
    "        \n",
    "    price=Binance.binance_api.klines(ticker,interval='1m',startTime=int(trade_info[index][1].round(freq='min').timestamp()-60)*1000,limit=1)\n",
    "        \n",
    "    trade_price[index]=(trade_info[index][1],trade_info[index][0],price[0][4])"
   ]
  },
  {
   "cell_type": "code",
   "execution_count": 103,
   "id": "747f3770-aec5-4947-953e-7e8619439630",
   "metadata": {},
   "outputs": [],
   "source": [
    "price=pd.DataFrame(trade_price.values(),columns=['Time','Market','Pair Price'])\n",
    "price=pd.concat([test.reset_index(),price['Pair Price']],axis=1)"
   ]
  },
  {
   "cell_type": "code",
   "execution_count": 105,
   "id": "36d59197-1296-4db1-b3a7-18b06f7d0ccc",
   "metadata": {},
   "outputs": [
    {
     "data": {
      "text/html": [
       "<div>\n",
       "<style scoped>\n",
       "    .dataframe tbody tr th:only-of-type {\n",
       "        vertical-align: middle;\n",
       "    }\n",
       "\n",
       "    .dataframe tbody tr th {\n",
       "        vertical-align: top;\n",
       "    }\n",
       "\n",
       "    .dataframe thead th {\n",
       "        text-align: right;\n",
       "    }\n",
       "</style>\n",
       "<table border=\"1\" class=\"dataframe\">\n",
       "  <thead>\n",
       "    <tr style=\"text-align: right;\">\n",
       "      <th></th>\n",
       "      <th>Date(UTC)</th>\n",
       "      <th>Market</th>\n",
       "      <th>Type</th>\n",
       "      <th>Price</th>\n",
       "      <th>Amount</th>\n",
       "      <th>Total</th>\n",
       "      <th>Fee</th>\n",
       "      <th>Fee Coin</th>\n",
       "      <th>Time</th>\n",
       "      <th>Pair Price</th>\n",
       "    </tr>\n",
       "  </thead>\n",
       "  <tbody>\n",
       "    <tr>\n",
       "      <th>0</th>\n",
       "      <td>2024-09-25 15:25:35</td>\n",
       "      <td>OMUSDT</td>\n",
       "      <td>BUY</td>\n",
       "      <td>1.180300</td>\n",
       "      <td>5.700000e+01</td>\n",
       "      <td>67.277100</td>\n",
       "      <td>5.700000e-02</td>\n",
       "      <td>OM</td>\n",
       "      <td>2024-09-25 15:26:00</td>\n",
       "      <td>1.17990000</td>\n",
       "    </tr>\n",
       "    <tr>\n",
       "      <th>1</th>\n",
       "      <td>2024-09-25 15:25:35</td>\n",
       "      <td>OMUSDT</td>\n",
       "      <td>BUY</td>\n",
       "      <td>1.180300</td>\n",
       "      <td>3.400000e+01</td>\n",
       "      <td>40.130200</td>\n",
       "      <td>3.400000e-02</td>\n",
       "      <td>OM</td>\n",
       "      <td>2024-09-25 15:26:00</td>\n",
       "      <td>1.17990000</td>\n",
       "    </tr>\n",
       "    <tr>\n",
       "      <th>2</th>\n",
       "      <td>2024-09-25 15:25:35</td>\n",
       "      <td>OMUSDT</td>\n",
       "      <td>BUY</td>\n",
       "      <td>1.180200</td>\n",
       "      <td>9.400000e+01</td>\n",
       "      <td>110.938800</td>\n",
       "      <td>9.400000e-02</td>\n",
       "      <td>OM</td>\n",
       "      <td>2024-09-25 15:26:00</td>\n",
       "      <td>1.17990000</td>\n",
       "    </tr>\n",
       "    <tr>\n",
       "      <th>3</th>\n",
       "      <td>2024-09-25 15:25:00</td>\n",
       "      <td>TRXUSDT</td>\n",
       "      <td>SELL</td>\n",
       "      <td>0.150800</td>\n",
       "      <td>1.456100e+03</td>\n",
       "      <td>219.579880</td>\n",
       "      <td>2.195799e-01</td>\n",
       "      <td>USDT</td>\n",
       "      <td>2024-09-25 15:25:00</td>\n",
       "      <td>0.15080000</td>\n",
       "    </tr>\n",
       "    <tr>\n",
       "      <th>4</th>\n",
       "      <td>2024-09-18 21:45:12</td>\n",
       "      <td>OMBTC</td>\n",
       "      <td>BUY</td>\n",
       "      <td>0.000018</td>\n",
       "      <td>7.300000e+01</td>\n",
       "      <td>0.001322</td>\n",
       "      <td>7.300000e-02</td>\n",
       "      <td>OM</td>\n",
       "      <td>2024-09-18 21:45:00</td>\n",
       "      <td>60329.26000000</td>\n",
       "    </tr>\n",
       "    <tr>\n",
       "      <th>5</th>\n",
       "      <td>2024-08-25 21:48:55</td>\n",
       "      <td>TRXBTC</td>\n",
       "      <td>BUY</td>\n",
       "      <td>0.000003</td>\n",
       "      <td>9.850000e+02</td>\n",
       "      <td>0.002541</td>\n",
       "      <td>9.850000e-01</td>\n",
       "      <td>TRX</td>\n",
       "      <td>2024-08-25 21:49:00</td>\n",
       "      <td>64354.44000000</td>\n",
       "    </tr>\n",
       "    <tr>\n",
       "      <th>6</th>\n",
       "      <td>2024-08-25 21:45:24</td>\n",
       "      <td>TRXUSDT</td>\n",
       "      <td>BUY</td>\n",
       "      <td>0.165500</td>\n",
       "      <td>4.530000e+02</td>\n",
       "      <td>74.971500</td>\n",
       "      <td>9.736000e-05</td>\n",
       "      <td>BNB</td>\n",
       "      <td>2024-08-25 21:45:00</td>\n",
       "      <td>0.16550000</td>\n",
       "    </tr>\n",
       "    <tr>\n",
       "      <th>7</th>\n",
       "      <td>2024-08-25 21:44:51</td>\n",
       "      <td>BBUSDT</td>\n",
       "      <td>SELL</td>\n",
       "      <td>0.343000</td>\n",
       "      <td>2.186000e+02</td>\n",
       "      <td>74.979800</td>\n",
       "      <td>9.735000e-05</td>\n",
       "      <td>BNB</td>\n",
       "      <td>2024-08-25 21:45:00</td>\n",
       "      <td>0.34300000</td>\n",
       "    </tr>\n",
       "    <tr>\n",
       "      <th>8</th>\n",
       "      <td>2024-08-24 23:57:42</td>\n",
       "      <td>TRXBNB</td>\n",
       "      <td>BUY</td>\n",
       "      <td>0.000274</td>\n",
       "      <td>3.710000e+02</td>\n",
       "      <td>0.101506</td>\n",
       "      <td>3.710000e-01</td>\n",
       "      <td>TRX</td>\n",
       "      <td>2024-08-24 23:58:00</td>\n",
       "      <td>580.50000000</td>\n",
       "    </tr>\n",
       "    <tr>\n",
       "      <th>9</th>\n",
       "      <td>2024-07-27 13:26:53</td>\n",
       "      <td>TRXBTC</td>\n",
       "      <td>SELL</td>\n",
       "      <td>0.000002</td>\n",
       "      <td>1.560000e+02</td>\n",
       "      <td>0.000310</td>\n",
       "      <td>2.709000e-05</td>\n",
       "      <td>BNB</td>\n",
       "      <td>2024-07-27 13:27:00</td>\n",
       "      <td>68800.87000000</td>\n",
       "    </tr>\n",
       "    <tr>\n",
       "      <th>10</th>\n",
       "      <td>2024-07-27 13:25:17</td>\n",
       "      <td>MKRBTC</td>\n",
       "      <td>SELL</td>\n",
       "      <td>0.038540</td>\n",
       "      <td>7.200000e-03</td>\n",
       "      <td>0.000277</td>\n",
       "      <td>2.447000e-05</td>\n",
       "      <td>BNB</td>\n",
       "      <td>2024-07-27 13:25:00</td>\n",
       "      <td>68780.00000000</td>\n",
       "    </tr>\n",
       "    <tr>\n",
       "      <th>11</th>\n",
       "      <td>2024-07-27 13:25:17</td>\n",
       "      <td>MKRBTC</td>\n",
       "      <td>SELL</td>\n",
       "      <td>0.038540</td>\n",
       "      <td>3.770000e-02</td>\n",
       "      <td>0.001453</td>\n",
       "      <td>1.267200e-04</td>\n",
       "      <td>BNB</td>\n",
       "      <td>2024-07-27 13:25:00</td>\n",
       "      <td>68780.00000000</td>\n",
       "    </tr>\n",
       "    <tr>\n",
       "      <th>12</th>\n",
       "      <td>2024-07-06 18:39:00</td>\n",
       "      <td>BNBEUR</td>\n",
       "      <td>BUY</td>\n",
       "      <td>485.500000</td>\n",
       "      <td>1.000000e-01</td>\n",
       "      <td>48.550000</td>\n",
       "      <td>7.500000e-05</td>\n",
       "      <td>BNB</td>\n",
       "      <td>2024-07-06 18:39:00</td>\n",
       "      <td>1.08020000</td>\n",
       "    </tr>\n",
       "    <tr>\n",
       "      <th>13</th>\n",
       "      <td>2024-07-06 18:26:57</td>\n",
       "      <td>BBUSDT</td>\n",
       "      <td>BUY</td>\n",
       "      <td>0.398000</td>\n",
       "      <td>8.560000e+01</td>\n",
       "      <td>34.068800</td>\n",
       "      <td>4.857000e-05</td>\n",
       "      <td>BNB</td>\n",
       "      <td>2024-07-06 18:27:00</td>\n",
       "      <td>0.39800000</td>\n",
       "    </tr>\n",
       "    <tr>\n",
       "      <th>14</th>\n",
       "      <td>2024-07-06 18:26:38</td>\n",
       "      <td>BNBUSDT</td>\n",
       "      <td>SELL</td>\n",
       "      <td>524.600000</td>\n",
       "      <td>6.500000e-02</td>\n",
       "      <td>34.099000</td>\n",
       "      <td>4.873000e-05</td>\n",
       "      <td>BNB</td>\n",
       "      <td>2024-07-06 18:27:00</td>\n",
       "      <td>524.60000000</td>\n",
       "    </tr>\n",
       "    <tr>\n",
       "      <th>15</th>\n",
       "      <td>2024-07-06 16:09:18</td>\n",
       "      <td>JASMYUSDT</td>\n",
       "      <td>BUY</td>\n",
       "      <td>0.024140</td>\n",
       "      <td>1.976800e+03</td>\n",
       "      <td>47.719952</td>\n",
       "      <td>6.879000e-05</td>\n",
       "      <td>BNB</td>\n",
       "      <td>2024-07-06 16:09:00</td>\n",
       "      <td>0.02413000</td>\n",
       "    </tr>\n",
       "    <tr>\n",
       "      <th>16</th>\n",
       "      <td>2024-07-06 16:08:15</td>\n",
       "      <td>PEPEUSDT</td>\n",
       "      <td>SELL</td>\n",
       "      <td>0.000009</td>\n",
       "      <td>5.181574e+06</td>\n",
       "      <td>47.722297</td>\n",
       "      <td>6.889000e-05</td>\n",
       "      <td>BNB</td>\n",
       "      <td>2024-07-06 16:08:00</td>\n",
       "      <td>0.00000921</td>\n",
       "    </tr>\n",
       "    <tr>\n",
       "      <th>17</th>\n",
       "      <td>2024-06-16 14:41:04</td>\n",
       "      <td>NOTUSDT</td>\n",
       "      <td>SELL</td>\n",
       "      <td>0.020114</td>\n",
       "      <td>2.036000e+03</td>\n",
       "      <td>40.952104</td>\n",
       "      <td>4.095210e-02</td>\n",
       "      <td>USDT</td>\n",
       "      <td>2024-06-16 14:41:00</td>\n",
       "      <td>0.02009400</td>\n",
       "    </tr>\n",
       "    <tr>\n",
       "      <th>18</th>\n",
       "      <td>2024-06-14 22:54:57</td>\n",
       "      <td>NOTUSDT</td>\n",
       "      <td>BUY</td>\n",
       "      <td>0.019619</td>\n",
       "      <td>8.800000e+01</td>\n",
       "      <td>1.726472</td>\n",
       "      <td>2.200000e-06</td>\n",
       "      <td>BNB</td>\n",
       "      <td>2024-06-14 22:55:00</td>\n",
       "      <td>0.01962100</td>\n",
       "    </tr>\n",
       "    <tr>\n",
       "      <th>19</th>\n",
       "      <td>2024-06-14 22:54:57</td>\n",
       "      <td>NOTUSDT</td>\n",
       "      <td>BUY</td>\n",
       "      <td>0.019619</td>\n",
       "      <td>1.950000e+03</td>\n",
       "      <td>38.257050</td>\n",
       "      <td>1.950000e+00</td>\n",
       "      <td>NOT</td>\n",
       "      <td>2024-06-14 22:55:00</td>\n",
       "      <td>0.01962100</td>\n",
       "    </tr>\n",
       "    <tr>\n",
       "      <th>20</th>\n",
       "      <td>2024-06-14 22:54:34</td>\n",
       "      <td>BBUSDT</td>\n",
       "      <td>SELL</td>\n",
       "      <td>0.508500</td>\n",
       "      <td>9.500000e+00</td>\n",
       "      <td>4.830750</td>\n",
       "      <td>6.020000e-06</td>\n",
       "      <td>BNB</td>\n",
       "      <td>2024-06-14 22:55:00</td>\n",
       "      <td>0.50890000</td>\n",
       "    </tr>\n",
       "    <tr>\n",
       "      <th>21</th>\n",
       "      <td>2024-06-14 22:54:34</td>\n",
       "      <td>BBUSDT</td>\n",
       "      <td>SELL</td>\n",
       "      <td>0.508600</td>\n",
       "      <td>2.980000e+01</td>\n",
       "      <td>15.156280</td>\n",
       "      <td>1.891000e-05</td>\n",
       "      <td>BNB</td>\n",
       "      <td>2024-06-14 22:55:00</td>\n",
       "      <td>0.50890000</td>\n",
       "    </tr>\n",
       "    <tr>\n",
       "      <th>22</th>\n",
       "      <td>2024-06-14 22:54:00</td>\n",
       "      <td>PEPEUSDT</td>\n",
       "      <td>SELL</td>\n",
       "      <td>0.000011</td>\n",
       "      <td>1.746724e+06</td>\n",
       "      <td>19.999990</td>\n",
       "      <td>2.433000e-05</td>\n",
       "      <td>BNB</td>\n",
       "      <td>2024-06-14 22:54:00</td>\n",
       "      <td>0.00001146</td>\n",
       "    </tr>\n",
       "    <tr>\n",
       "      <th>23</th>\n",
       "      <td>2024-06-12 15:08:37</td>\n",
       "      <td>JASMYUSDT</td>\n",
       "      <td>BUY</td>\n",
       "      <td>0.037824</td>\n",
       "      <td>3.465200e+03</td>\n",
       "      <td>131.067725</td>\n",
       "      <td>3.465200e+00</td>\n",
       "      <td>JASMY</td>\n",
       "      <td>2024-06-12 15:09:00</td>\n",
       "      <td>0.03780200</td>\n",
       "    </tr>\n",
       "    <tr>\n",
       "      <th>24</th>\n",
       "      <td>2024-06-12 15:08:06</td>\n",
       "      <td>BTCUSDT</td>\n",
       "      <td>SELL</td>\n",
       "      <td>69787.490000</td>\n",
       "      <td>1.880000e-03</td>\n",
       "      <td>131.200481</td>\n",
       "      <td>1.312005e-01</td>\n",
       "      <td>USDT</td>\n",
       "      <td>2024-06-12 15:08:00</td>\n",
       "      <td>69787.50000000</td>\n",
       "    </tr>\n",
       "    <tr>\n",
       "      <th>25</th>\n",
       "      <td>2024-06-12 00:52:41</td>\n",
       "      <td>TRXBTC</td>\n",
       "      <td>SELL</td>\n",
       "      <td>0.000002</td>\n",
       "      <td>8.000000e+01</td>\n",
       "      <td>0.000138</td>\n",
       "      <td>1.176000e-05</td>\n",
       "      <td>BNB</td>\n",
       "      <td>2024-06-12 00:53:00</td>\n",
       "      <td>67219.64000000</td>\n",
       "    </tr>\n",
       "    <tr>\n",
       "      <th>26</th>\n",
       "      <td>2024-06-08 12:28:35</td>\n",
       "      <td>BNBBTC</td>\n",
       "      <td>SELL</td>\n",
       "      <td>0.009859</td>\n",
       "      <td>1.270000e-01</td>\n",
       "      <td>0.001252</td>\n",
       "      <td>1.250000e-06</td>\n",
       "      <td>BTC</td>\n",
       "      <td>2024-06-08 12:29:00</td>\n",
       "      <td>69350.26000000</td>\n",
       "    </tr>\n",
       "    <tr>\n",
       "      <th>27</th>\n",
       "      <td>2024-06-08 12:28:35</td>\n",
       "      <td>BNBBTC</td>\n",
       "      <td>SELL</td>\n",
       "      <td>0.009859</td>\n",
       "      <td>3.000000e-01</td>\n",
       "      <td>0.002958</td>\n",
       "      <td>2.960000e-06</td>\n",
       "      <td>BTC</td>\n",
       "      <td>2024-06-08 12:29:00</td>\n",
       "      <td>69350.26000000</td>\n",
       "    </tr>\n",
       "    <tr>\n",
       "      <th>28</th>\n",
       "      <td>2024-06-08 12:28:35</td>\n",
       "      <td>BNBBTC</td>\n",
       "      <td>SELL</td>\n",
       "      <td>0.009859</td>\n",
       "      <td>2.500000e-01</td>\n",
       "      <td>0.002465</td>\n",
       "      <td>2.460000e-06</td>\n",
       "      <td>BTC</td>\n",
       "      <td>2024-06-08 12:29:00</td>\n",
       "      <td>69350.26000000</td>\n",
       "    </tr>\n",
       "    <tr>\n",
       "      <th>29</th>\n",
       "      <td>2024-06-08 12:28:35</td>\n",
       "      <td>BNBBTC</td>\n",
       "      <td>SELL</td>\n",
       "      <td>0.009859</td>\n",
       "      <td>5.000000e-01</td>\n",
       "      <td>0.004929</td>\n",
       "      <td>3.750000e-04</td>\n",
       "      <td>BNB</td>\n",
       "      <td>2024-06-08 12:29:00</td>\n",
       "      <td>69350.26000000</td>\n",
       "    </tr>\n",
       "    <tr>\n",
       "      <th>30</th>\n",
       "      <td>2024-06-08 12:28:35</td>\n",
       "      <td>BNBBTC</td>\n",
       "      <td>SELL</td>\n",
       "      <td>0.009859</td>\n",
       "      <td>8.200000e-02</td>\n",
       "      <td>0.000808</td>\n",
       "      <td>6.161000e-05</td>\n",
       "      <td>BNB</td>\n",
       "      <td>2024-06-08 12:29:00</td>\n",
       "      <td>69350.26000000</td>\n",
       "    </tr>\n",
       "    <tr>\n",
       "      <th>31</th>\n",
       "      <td>2024-06-08 12:28:13</td>\n",
       "      <td>BNBBTC</td>\n",
       "      <td>BUY</td>\n",
       "      <td>0.009860</td>\n",
       "      <td>1.121000e+00</td>\n",
       "      <td>0.011053</td>\n",
       "      <td>8.407500e-04</td>\n",
       "      <td>BNB</td>\n",
       "      <td>2024-06-08 12:28:00</td>\n",
       "      <td>69363.37000000</td>\n",
       "    </tr>\n",
       "    <tr>\n",
       "      <th>32</th>\n",
       "      <td>2024-06-08 12:05:46</td>\n",
       "      <td>BNBUSDT</td>\n",
       "      <td>SELL</td>\n",
       "      <td>681.200000</td>\n",
       "      <td>1.500000e-02</td>\n",
       "      <td>10.218000</td>\n",
       "      <td>1.124000e-05</td>\n",
       "      <td>BNB</td>\n",
       "      <td>2024-06-08 12:06:00</td>\n",
       "      <td>681.80000000</td>\n",
       "    </tr>\n",
       "    <tr>\n",
       "      <th>33</th>\n",
       "      <td>2024-06-07 22:07:47</td>\n",
       "      <td>JASMYUSDT</td>\n",
       "      <td>BUY</td>\n",
       "      <td>0.041304</td>\n",
       "      <td>1.210500e+03</td>\n",
       "      <td>49.998492</td>\n",
       "      <td>1.210500e+00</td>\n",
       "      <td>JASMY</td>\n",
       "      <td>2024-06-07 22:08:00</td>\n",
       "      <td>0.04131500</td>\n",
       "    </tr>\n",
       "    <tr>\n",
       "      <th>34</th>\n",
       "      <td>2024-06-07 22:07:47</td>\n",
       "      <td>JASMYUSDT</td>\n",
       "      <td>BUY</td>\n",
       "      <td>0.041305</td>\n",
       "      <td>1.082200e+03</td>\n",
       "      <td>44.700271</td>\n",
       "      <td>1.082200e+00</td>\n",
       "      <td>JASMY</td>\n",
       "      <td>2024-06-07 22:08:00</td>\n",
       "      <td>0.04131500</td>\n",
       "    </tr>\n",
       "    <tr>\n",
       "      <th>35</th>\n",
       "      <td>2024-06-07 22:06:48</td>\n",
       "      <td>ENSUSDT</td>\n",
       "      <td>SELL</td>\n",
       "      <td>21.970000</td>\n",
       "      <td>2.010000e+00</td>\n",
       "      <td>44.159700</td>\n",
       "      <td>4.415970e-02</td>\n",
       "      <td>USDT</td>\n",
       "      <td>2024-06-07 22:07:00</td>\n",
       "      <td>21.97000000</td>\n",
       "    </tr>\n",
       "    <tr>\n",
       "      <th>36</th>\n",
       "      <td>2024-06-07 22:05:22</td>\n",
       "      <td>ARUSDT</td>\n",
       "      <td>SELL</td>\n",
       "      <td>39.245000</td>\n",
       "      <td>1.300000e+00</td>\n",
       "      <td>51.018500</td>\n",
       "      <td>5.101850e-02</td>\n",
       "      <td>USDT</td>\n",
       "      <td>2024-06-07 22:05:00</td>\n",
       "      <td>39.21100000</td>\n",
       "    </tr>\n",
       "    <tr>\n",
       "      <th>37</th>\n",
       "      <td>2024-06-04 23:20:59</td>\n",
       "      <td>UMABTC</td>\n",
       "      <td>SELL</td>\n",
       "      <td>0.000047</td>\n",
       "      <td>1.100000e+00</td>\n",
       "      <td>0.000052</td>\n",
       "      <td>5.000000e-08</td>\n",
       "      <td>BTC</td>\n",
       "      <td>2024-06-04 23:21:00</td>\n",
       "      <td>70502.99000000</td>\n",
       "    </tr>\n",
       "    <tr>\n",
       "      <th>38</th>\n",
       "      <td>2024-06-04 22:47:45</td>\n",
       "      <td>UMABTC</td>\n",
       "      <td>SELL</td>\n",
       "      <td>0.000047</td>\n",
       "      <td>5.300000e+00</td>\n",
       "      <td>0.000249</td>\n",
       "      <td>2.500000e-07</td>\n",
       "      <td>BTC</td>\n",
       "      <td>2024-06-04 22:48:00</td>\n",
       "      <td>70530.00000000</td>\n",
       "    </tr>\n",
       "    <tr>\n",
       "      <th>39</th>\n",
       "      <td>2024-06-03 12:02:10</td>\n",
       "      <td>XRPETH</td>\n",
       "      <td>SELL</td>\n",
       "      <td>0.000136</td>\n",
       "      <td>1.000000e+02</td>\n",
       "      <td>0.013630</td>\n",
       "      <td>1.363000e-05</td>\n",
       "      <td>ETH</td>\n",
       "      <td>2024-06-03 12:02:00</td>\n",
       "      <td>3810.47000000</td>\n",
       "    </tr>\n",
       "    <tr>\n",
       "      <th>40</th>\n",
       "      <td>2024-06-03 11:54:57</td>\n",
       "      <td>XRPBTC</td>\n",
       "      <td>SELL</td>\n",
       "      <td>0.000008</td>\n",
       "      <td>9.200000e+01</td>\n",
       "      <td>0.000691</td>\n",
       "      <td>6.900000e-07</td>\n",
       "      <td>BTC</td>\n",
       "      <td>2024-06-03 11:55:00</td>\n",
       "      <td>69129.99000000</td>\n",
       "    </tr>\n",
       "    <tr>\n",
       "      <th>41</th>\n",
       "      <td>2024-06-03 10:05:58</td>\n",
       "      <td>NEARBTC</td>\n",
       "      <td>SELL</td>\n",
       "      <td>0.000105</td>\n",
       "      <td>6.300000e+00</td>\n",
       "      <td>0.000664</td>\n",
       "      <td>6.600000e-07</td>\n",
       "      <td>BTC</td>\n",
       "      <td>2024-06-03 10:06:00</td>\n",
       "      <td>69114.70000000</td>\n",
       "    </tr>\n",
       "    <tr>\n",
       "      <th>42</th>\n",
       "      <td>2024-05-30 00:13:16</td>\n",
       "      <td>LPTBTC</td>\n",
       "      <td>SELL</td>\n",
       "      <td>0.000314</td>\n",
       "      <td>2.970000e+00</td>\n",
       "      <td>0.000933</td>\n",
       "      <td>9.300000e-07</td>\n",
       "      <td>BTC</td>\n",
       "      <td>2024-05-30 00:13:00</td>\n",
       "      <td>67752.00000000</td>\n",
       "    </tr>\n",
       "    <tr>\n",
       "      <th>43</th>\n",
       "      <td>2024-05-29 21:48:12</td>\n",
       "      <td>NEARBTC</td>\n",
       "      <td>SELL</td>\n",
       "      <td>0.000113</td>\n",
       "      <td>6.500000e+00</td>\n",
       "      <td>0.000734</td>\n",
       "      <td>7.300000e-07</td>\n",
       "      <td>BTC</td>\n",
       "      <td>2024-05-29 21:48:00</td>\n",
       "      <td>67673.13000000</td>\n",
       "    </tr>\n",
       "    <tr>\n",
       "      <th>44</th>\n",
       "      <td>2024-05-27 23:12:14</td>\n",
       "      <td>INJBTC</td>\n",
       "      <td>SELL</td>\n",
       "      <td>0.000371</td>\n",
       "      <td>1.080000e+00</td>\n",
       "      <td>0.000400</td>\n",
       "      <td>4.000000e-07</td>\n",
       "      <td>BTC</td>\n",
       "      <td>2024-05-27 23:12:00</td>\n",
       "      <td>69534.00000000</td>\n",
       "    </tr>\n",
       "    <tr>\n",
       "      <th>45</th>\n",
       "      <td>2024-05-27 23:10:17</td>\n",
       "      <td>FETBTC</td>\n",
       "      <td>SELL</td>\n",
       "      <td>0.000033</td>\n",
       "      <td>7.000000e+00</td>\n",
       "      <td>0.000231</td>\n",
       "      <td>2.300000e-07</td>\n",
       "      <td>BTC</td>\n",
       "      <td>2024-05-27 23:10:00</td>\n",
       "      <td>69516.70000000</td>\n",
       "    </tr>\n",
       "  </tbody>\n",
       "</table>\n",
       "</div>"
      ],
      "text/plain": [
       "             Date(UTC)     Market  Type         Price        Amount  \\\n",
       "0  2024-09-25 15:25:35     OMUSDT   BUY      1.180300  5.700000e+01   \n",
       "1  2024-09-25 15:25:35     OMUSDT   BUY      1.180300  3.400000e+01   \n",
       "2  2024-09-25 15:25:35     OMUSDT   BUY      1.180200  9.400000e+01   \n",
       "3  2024-09-25 15:25:00    TRXUSDT  SELL      0.150800  1.456100e+03   \n",
       "4  2024-09-18 21:45:12      OMBTC   BUY      0.000018  7.300000e+01   \n",
       "5  2024-08-25 21:48:55     TRXBTC   BUY      0.000003  9.850000e+02   \n",
       "6  2024-08-25 21:45:24    TRXUSDT   BUY      0.165500  4.530000e+02   \n",
       "7  2024-08-25 21:44:51     BBUSDT  SELL      0.343000  2.186000e+02   \n",
       "8  2024-08-24 23:57:42     TRXBNB   BUY      0.000274  3.710000e+02   \n",
       "9  2024-07-27 13:26:53     TRXBTC  SELL      0.000002  1.560000e+02   \n",
       "10 2024-07-27 13:25:17     MKRBTC  SELL      0.038540  7.200000e-03   \n",
       "11 2024-07-27 13:25:17     MKRBTC  SELL      0.038540  3.770000e-02   \n",
       "12 2024-07-06 18:39:00     BNBEUR   BUY    485.500000  1.000000e-01   \n",
       "13 2024-07-06 18:26:57     BBUSDT   BUY      0.398000  8.560000e+01   \n",
       "14 2024-07-06 18:26:38    BNBUSDT  SELL    524.600000  6.500000e-02   \n",
       "15 2024-07-06 16:09:18  JASMYUSDT   BUY      0.024140  1.976800e+03   \n",
       "16 2024-07-06 16:08:15   PEPEUSDT  SELL      0.000009  5.181574e+06   \n",
       "17 2024-06-16 14:41:04    NOTUSDT  SELL      0.020114  2.036000e+03   \n",
       "18 2024-06-14 22:54:57    NOTUSDT   BUY      0.019619  8.800000e+01   \n",
       "19 2024-06-14 22:54:57    NOTUSDT   BUY      0.019619  1.950000e+03   \n",
       "20 2024-06-14 22:54:34     BBUSDT  SELL      0.508500  9.500000e+00   \n",
       "21 2024-06-14 22:54:34     BBUSDT  SELL      0.508600  2.980000e+01   \n",
       "22 2024-06-14 22:54:00   PEPEUSDT  SELL      0.000011  1.746724e+06   \n",
       "23 2024-06-12 15:08:37  JASMYUSDT   BUY      0.037824  3.465200e+03   \n",
       "24 2024-06-12 15:08:06    BTCUSDT  SELL  69787.490000  1.880000e-03   \n",
       "25 2024-06-12 00:52:41     TRXBTC  SELL      0.000002  8.000000e+01   \n",
       "26 2024-06-08 12:28:35     BNBBTC  SELL      0.009859  1.270000e-01   \n",
       "27 2024-06-08 12:28:35     BNBBTC  SELL      0.009859  3.000000e-01   \n",
       "28 2024-06-08 12:28:35     BNBBTC  SELL      0.009859  2.500000e-01   \n",
       "29 2024-06-08 12:28:35     BNBBTC  SELL      0.009859  5.000000e-01   \n",
       "30 2024-06-08 12:28:35     BNBBTC  SELL      0.009859  8.200000e-02   \n",
       "31 2024-06-08 12:28:13     BNBBTC   BUY      0.009860  1.121000e+00   \n",
       "32 2024-06-08 12:05:46    BNBUSDT  SELL    681.200000  1.500000e-02   \n",
       "33 2024-06-07 22:07:47  JASMYUSDT   BUY      0.041304  1.210500e+03   \n",
       "34 2024-06-07 22:07:47  JASMYUSDT   BUY      0.041305  1.082200e+03   \n",
       "35 2024-06-07 22:06:48    ENSUSDT  SELL     21.970000  2.010000e+00   \n",
       "36 2024-06-07 22:05:22     ARUSDT  SELL     39.245000  1.300000e+00   \n",
       "37 2024-06-04 23:20:59     UMABTC  SELL      0.000047  1.100000e+00   \n",
       "38 2024-06-04 22:47:45     UMABTC  SELL      0.000047  5.300000e+00   \n",
       "39 2024-06-03 12:02:10     XRPETH  SELL      0.000136  1.000000e+02   \n",
       "40 2024-06-03 11:54:57     XRPBTC  SELL      0.000008  9.200000e+01   \n",
       "41 2024-06-03 10:05:58    NEARBTC  SELL      0.000105  6.300000e+00   \n",
       "42 2024-05-30 00:13:16     LPTBTC  SELL      0.000314  2.970000e+00   \n",
       "43 2024-05-29 21:48:12    NEARBTC  SELL      0.000113  6.500000e+00   \n",
       "44 2024-05-27 23:12:14     INJBTC  SELL      0.000371  1.080000e+00   \n",
       "45 2024-05-27 23:10:17     FETBTC  SELL      0.000033  7.000000e+00   \n",
       "\n",
       "         Total           Fee Fee Coin                Time      Pair Price  \n",
       "0    67.277100  5.700000e-02       OM 2024-09-25 15:26:00      1.17990000  \n",
       "1    40.130200  3.400000e-02       OM 2024-09-25 15:26:00      1.17990000  \n",
       "2   110.938800  9.400000e-02       OM 2024-09-25 15:26:00      1.17990000  \n",
       "3   219.579880  2.195799e-01     USDT 2024-09-25 15:25:00      0.15080000  \n",
       "4     0.001322  7.300000e-02       OM 2024-09-18 21:45:00  60329.26000000  \n",
       "5     0.002541  9.850000e-01      TRX 2024-08-25 21:49:00  64354.44000000  \n",
       "6    74.971500  9.736000e-05      BNB 2024-08-25 21:45:00      0.16550000  \n",
       "7    74.979800  9.735000e-05      BNB 2024-08-25 21:45:00      0.34300000  \n",
       "8     0.101506  3.710000e-01      TRX 2024-08-24 23:58:00    580.50000000  \n",
       "9     0.000310  2.709000e-05      BNB 2024-07-27 13:27:00  68800.87000000  \n",
       "10    0.000277  2.447000e-05      BNB 2024-07-27 13:25:00  68780.00000000  \n",
       "11    0.001453  1.267200e-04      BNB 2024-07-27 13:25:00  68780.00000000  \n",
       "12   48.550000  7.500000e-05      BNB 2024-07-06 18:39:00      1.08020000  \n",
       "13   34.068800  4.857000e-05      BNB 2024-07-06 18:27:00      0.39800000  \n",
       "14   34.099000  4.873000e-05      BNB 2024-07-06 18:27:00    524.60000000  \n",
       "15   47.719952  6.879000e-05      BNB 2024-07-06 16:09:00      0.02413000  \n",
       "16   47.722297  6.889000e-05      BNB 2024-07-06 16:08:00      0.00000921  \n",
       "17   40.952104  4.095210e-02     USDT 2024-06-16 14:41:00      0.02009400  \n",
       "18    1.726472  2.200000e-06      BNB 2024-06-14 22:55:00      0.01962100  \n",
       "19   38.257050  1.950000e+00      NOT 2024-06-14 22:55:00      0.01962100  \n",
       "20    4.830750  6.020000e-06      BNB 2024-06-14 22:55:00      0.50890000  \n",
       "21   15.156280  1.891000e-05      BNB 2024-06-14 22:55:00      0.50890000  \n",
       "22   19.999990  2.433000e-05      BNB 2024-06-14 22:54:00      0.00001146  \n",
       "23  131.067725  3.465200e+00    JASMY 2024-06-12 15:09:00      0.03780200  \n",
       "24  131.200481  1.312005e-01     USDT 2024-06-12 15:08:00  69787.50000000  \n",
       "25    0.000138  1.176000e-05      BNB 2024-06-12 00:53:00  67219.64000000  \n",
       "26    0.001252  1.250000e-06      BTC 2024-06-08 12:29:00  69350.26000000  \n",
       "27    0.002958  2.960000e-06      BTC 2024-06-08 12:29:00  69350.26000000  \n",
       "28    0.002465  2.460000e-06      BTC 2024-06-08 12:29:00  69350.26000000  \n",
       "29    0.004929  3.750000e-04      BNB 2024-06-08 12:29:00  69350.26000000  \n",
       "30    0.000808  6.161000e-05      BNB 2024-06-08 12:29:00  69350.26000000  \n",
       "31    0.011053  8.407500e-04      BNB 2024-06-08 12:28:00  69363.37000000  \n",
       "32   10.218000  1.124000e-05      BNB 2024-06-08 12:06:00    681.80000000  \n",
       "33   49.998492  1.210500e+00    JASMY 2024-06-07 22:08:00      0.04131500  \n",
       "34   44.700271  1.082200e+00    JASMY 2024-06-07 22:08:00      0.04131500  \n",
       "35   44.159700  4.415970e-02     USDT 2024-06-07 22:07:00     21.97000000  \n",
       "36   51.018500  5.101850e-02     USDT 2024-06-07 22:05:00     39.21100000  \n",
       "37    0.000052  5.000000e-08      BTC 2024-06-04 23:21:00  70502.99000000  \n",
       "38    0.000249  2.500000e-07      BTC 2024-06-04 22:48:00  70530.00000000  \n",
       "39    0.013630  1.363000e-05      ETH 2024-06-03 12:02:00   3810.47000000  \n",
       "40    0.000691  6.900000e-07      BTC 2024-06-03 11:55:00  69129.99000000  \n",
       "41    0.000664  6.600000e-07      BTC 2024-06-03 10:06:00  69114.70000000  \n",
       "42    0.000933  9.300000e-07      BTC 2024-05-30 00:13:00  67752.00000000  \n",
       "43    0.000734  7.300000e-07      BTC 2024-05-29 21:48:00  67673.13000000  \n",
       "44    0.000400  4.000000e-07      BTC 2024-05-27 23:12:00  69534.00000000  \n",
       "45    0.000231  2.300000e-07      BTC 2024-05-27 23:10:00  69516.70000000  "
      ]
     },
     "execution_count": 105,
     "metadata": {},
     "output_type": "execute_result"
    }
   ],
   "source": [
    "price"
   ]
  },
  {
   "cell_type": "raw",
   "id": "aee21a5d-76d3-4f5d-8651-5357ee44f593",
   "metadata": {},
   "source": [
    "buy=price[price['Type']=='BUY'][['Market','Amount','Price in USDT']]\n",
    "buy=buy.reset_index().drop(columns='index')\n",
    "buy=buy.to_dict()\n",
    "buy"
   ]
  },
  {
   "cell_type": "raw",
   "id": "0f1571f8-afc3-49a1-9e5f-338642813be7",
   "metadata": {},
   "source": [
    "traded_crypto=set()\n",
    "for keys in buy['Market']:\n",
    "    traded_crypto.add(buy['Market'][keys])"
   ]
  },
  {
   "cell_type": "raw",
   "id": "75e4bd5b-b60b-45c9-8305-b3cc5e0259ae",
   "metadata": {},
   "source": [
    "average_price=dict()\n",
    "\n",
    "for crypto in traded_crypto:\n",
    "    \n",
    "    avg_price=0\n",
    "    quantities=0\n",
    "    \n",
    "    for key in buy['Market']:\n",
    "        \n",
    "        if buy['Market'][key]==crypto:\n",
    "            \n",
    "            avg_price+=float(buy['Amount'][key])*float(buy['Price in USDT'][key])\n",
    "            quantities+=float(buy['Amount'][key])\n",
    "            avg_price=avg_price/quantities                            \n",
    "        \n",
    "    average_price[crypto]=avg_price"
   ]
  },
  {
   "cell_type": "raw",
   "id": "d2d83cc0-3772-47be-bd56-70d284fa7c00",
   "metadata": {},
   "source": [
    "average_price"
   ]
  },
  {
   "cell_type": "raw",
   "id": "0cadfa70-b86a-4773-b9fb-5a412c9f96c4",
   "metadata": {},
   "source": [
    "all_pairs=Binance.binance_api_client.get_all_tickers()\n",
    "tickers=[]\n",
    "\n",
    "for pair in all_pairs:\n",
    "    \n",
    "    tickers.append(pair['symbol'])\n",
    "\n",
    "traded=Binance.get_trades(tickers)"
   ]
  }
 ],
 "metadata": {
  "kernelspec": {
   "display_name": "Python 3 (ipykernel)",
   "language": "python",
   "name": "python3"
  },
  "language_info": {
   "codemirror_mode": {
    "name": "ipython",
    "version": 3
   },
   "file_extension": ".py",
   "mimetype": "text/x-python",
   "name": "python",
   "nbconvert_exporter": "python",
   "pygments_lexer": "ipython3",
   "version": "3.9.12"
  }
 },
 "nbformat": 4,
 "nbformat_minor": 5
}
