{
 "cells": [
  {
   "cell_type": "code",
   "execution_count": 1,
   "id": "5d942d64-5487-4500-8dcd-1d4dfed3abf6",
   "metadata": {
    "editable": true,
    "slideshow": {
     "slide_type": ""
    },
    "tags": []
   },
   "outputs": [],
   "source": [
    "from binance.spot import Spot\n",
    "from binance.client import Client\n",
    "import pandas as pd\n",
    "import requests\n",
    "import datetime\n",
    "import numpy as np"
   ]
  },
  {
   "cell_type": "code",
   "execution_count": 2,
   "id": "b535c010-bcf0-4244-88f4-214dadce218f",
   "metadata": {},
   "outputs": [],
   "source": [
    "%run \"Binance API.ipynb\".ipynb"
   ]
  },
  {
   "cell_type": "code",
   "execution_count": 3,
   "id": "7fcbee4d-edf5-4897-9078-7bba806f0763",
   "metadata": {},
   "outputs": [],
   "source": [
    "binance_api_key=''\n",
    "binance_api_secret=''\n",
    "Binance=BinanceAPI(binance_api_key,binance_api_secret)"
   ]
  },
  {
   "cell_type": "code",
   "execution_count": 4,
   "id": "d35ba744-ed3b-4fd6-b987-69961f689dee",
   "metadata": {},
   "outputs": [],
   "source": [
    "\n",
    "def get_trade_in_usdt(trade_history):\n",
    "\n",
    "    trade_history['Date(UTC)']=pd.to_datetime(trade_history['Date(UTC)'])\n",
    "    trade_history=trade_history.set_index('Date(UTC)')\n",
    "\n",
    "    trade_info=zip(trade_history['Market'],trade_history.index)\n",
    "    trade_info=dict(enumerate(trade_info))\n",
    "\n",
    "    trade_price={}\n",
    "    for index in trade_info:\n",
    "\n",
    "        if trade_info[index][0][-4:]=='USDT':\n",
    "            ticker=trade_info[index][0]\n",
    "        else:\n",
    "            ticker=trade_info[index][0][-3:]+'USDT'\n",
    "\n",
    "        price=Binance.binance_api.klines(ticker,interval='1m',startTime=int(trade_info[index][1].round(freq='min').timestamp()-60)*1000,limit=1)\n",
    "\n",
    "        trade_price[index]=(trade_info[index][1],trade_info[index][0],price[0][4])\n",
    "\n",
    "    price=pd.DataFrame(trade_price.values(),columns=['Time','Market','Pair Price'])\n",
    "    price=pd.concat([trade_history.reset_index(),price['Pair Price']],axis=1)\n",
    "    price['Price in USDT']=np.where(price['Market'].str[-4:]=='USDT',price['Price'],price['Price'].astype(float)*price['Pair Price'].astype(float))\n",
    "    price['Total in USDT']=(price['Price in USDT'].astype(float))*(price['Amount'].astype(float))\n",
    "\n",
    "    return price"
   ]
  },
  {
   "cell_type": "code",
   "execution_count": 5,
   "id": "155504f6-78d6-4578-9e7d-ee66299f428a",
   "metadata": {},
   "outputs": [],
   "source": [
    "def get_crypto_traded(price):\n",
    "\n",
    "    buy=price[price['Type']=='BUY'][['Market','Amount','Price in USDT']]\n",
    "    traded_crypto=set(buy['Market'])\n",
    "    \n",
    "    crypto_list=set()\n",
    "    for key in traded_crypto:\n",
    "\n",
    "        if key[-4:]=='USDT':\n",
    "            crypto=key[:-4]\n",
    "        else:\n",
    "            crypto=key[:-3]\n",
    "\n",
    "        crypto_list.add(crypto)\n",
    "        \n",
    "    return crypto_list"
   ]
  },
  {
   "cell_type": "code",
   "execution_count": 6,
   "id": "0fd77a06-9c31-4200-8991-4a90292011f0",
   "metadata": {},
   "outputs": [],
   "source": [
    "def get_book_cost(price):\n",
    "    \n",
    "    crypto_list=get_crypto_traded(price)\n",
    "    \n",
    "    dynamic_average_total={}\n",
    "    dynamic_average_amount={}\n",
    "    \n",
    "    dataframe_amount={}\n",
    "    dataframe_total={}\n",
    "\n",
    "\n",
    "    for crypto in crypto_list:\n",
    "\n",
    "        dataset=price[price['Market'].str[:len(crypto)]==crypto]\n",
    "        index=dataset[dataset['Type']=='BUY'].index\n",
    "\n",
    "        results_amount=list(zip(price.iloc[index]['Date(UTC)'],price.iloc[index]['Amount']))\n",
    "        results_total=list(zip(price.iloc[index]['Date(UTC)'],price.iloc[index]['Total in USDT']))\n",
    "        dynamic_average_total[crypto]=results_total\n",
    "        dynamic_average_amount[crypto]=results_amount\n",
    "            \n",
    "        temp=pd.DataFrame(dynamic_average_total[crypto],columns=['Date','Total']).groupby(by='Date').sum()\n",
    "        temp_amount=pd.DataFrame(dynamic_average_amount[crypto],columns=['Date','Quantities']).groupby(by='Date').sum()\n",
    "        dataframe_total[crypto+'USDT']=dict(zip(temp.index,temp['Total']))\n",
    "        dataframe_amount[crypto+'USDT']=dict(zip(temp_amount.index,temp_amount['Quantities']))\n",
    "        \n",
    "    #quantities=pd.DataFrame(dataframe_amount).sort_index().cumsum().fillna(method='ffill').fillna(0)\n",
    "    #total=pd.DataFrame(dataframe_total).sort_index().cumsum().fillna(method='ffill').fillna(0)\n",
    "    quantities=pd.DataFrame(dataframe_amount).sort_index().cumsum().ffill().fillna(0)\n",
    "    total=pd.DataFrame(dataframe_total).sort_index().cumsum().ffill().fillna(0)\n",
    "    \n",
    "    book_cost=(total.shift(-1)+total)/(quantities.shift(-1)+quantities)\n",
    "    book_cost=book_cost.fillna(0)\n",
    "    book_cost.iloc[-1]=total.iloc[-1]/quantities.iloc[-1]\n",
    "    \n",
    "    return book_cost"
   ]
  },
  {
   "cell_type": "code",
   "execution_count": 7,
   "id": "0a2de8ad-3d41-4347-91db-fac3a3b254cc",
   "metadata": {},
   "outputs": [],
   "source": [
    "def get_pnl(book_cost,price):\n",
    "\n",
    "    positions_history={}\n",
    "    transaction_type={}\n",
    "    results={}\n",
    "    profit_and_loss={}\n",
    "    pnl_per_crypto={}\n",
    "\n",
    "    crypto_list=get_crypto_traded(price)\n",
    "    for crypto in crypto_list:\n",
    "\n",
    "        dataset=price[price['Market'].str[:len(crypto)]==crypto]\n",
    "\n",
    "        grouped=dataset.groupby(by='Date(UTC)').sum()\n",
    "        positions_history[crypto]=dict(zip(grouped.index,grouped['Amount'].astype(float)))\n",
    "        transaction_type[crypto]=list(zip(dataset['Date(UTC)'],dataset['Type']))\n",
    "\n",
    "        temp=price[price['Market'].str[:len(crypto)]==crypto].copy()\n",
    "        temp['Flows']=np.where(temp['Type']=='SELL',-temp['Amount'],temp['Amount'])\n",
    "        temp['Flows'].sum()\n",
    "        temp=temp.set_index('Date(UTC)').sort_index()\n",
    "        temp['Cost']=book_cost[crypto+'USDT']\n",
    "        #temp['Cost']=temp['Cost'].fillna(method='ffill')\n",
    "        temp['Cost']=temp['Cost'].ffill()\n",
    "        temp[crypto]=np.where(temp['Type']=='SELL',(temp['Cost']-temp['Price in USDT'])*temp['Flows'],0)\n",
    "        \n",
    "        profit_and_loss[crypto]=temp[crypto]\n",
    "\n",
    "        pnl_per_crypto[crypto+'USDT']=profit_and_loss[crypto].sum()\n",
    "        \n",
    "    realized_pnl=pd.DataFrame(pnl_per_crypto.values(),index=pnl_per_crypto.keys(),columns=['Realized PnL'])\n",
    "    \n",
    "    return realized_pnl,profit_and_loss"
   ]
  },
  {
   "cell_type": "code",
   "execution_count": 22,
   "id": "e462b91a-4dfb-4fc8-a7e8-b9fec368d91e",
   "metadata": {},
   "outputs": [],
   "source": [
    "def get_historical_positions(price):\n",
    "\n",
    "    crypto_list=get_crypto_traded(price)\n",
    "    quantities={}\n",
    "    dataframe_total={}\n",
    "\n",
    "\n",
    "    for crypto in crypto_list:\n",
    "\n",
    "        dataset=price[price['Market'].str[:len(crypto)]==crypto].copy()\n",
    "        dataset['Quantities']=np.where(dataset['Type']==\"SELL\",-dataset['Amount'].astype(float),dataset['Amount'].astype(float))\n",
    "\n",
    "        quantities[crypto]=list(zip(dataset['Date(UTC)'],dataset['Quantities']))\n",
    "        temp=pd.DataFrame(quantities[crypto],columns=['Date','Quantities']).groupby(by='Date').sum()\n",
    "        dataframe_total[crypto]=dict(zip(temp.index,temp['Quantities']))\n",
    "\n",
    "    historical_positions=pd.DataFrame(dataframe_total).sort_index()\n",
    "    historical_positions=historical_positions.groupby(historical_positions.index).sum()\n",
    "    historical_positions.index=historical_positions.index.round('d')\n",
    "    historical_positions=historical_positions.groupby(historical_positions.index).sum().cumsum()\n",
    "\n",
    "    return historical_positions"
   ]
  },
  {
   "cell_type": "code",
   "execution_count": null,
   "id": "cb755411-a932-4799-919d-981c0f195c31",
   "metadata": {},
   "outputs": [],
   "source": []
  }
 ],
 "metadata": {
  "kernelspec": {
   "display_name": "Python [conda env:base] *",
   "language": "python",
   "name": "conda-base-py"
  },
  "language_info": {
   "codemirror_mode": {
    "name": "ipython",
    "version": 3
   },
   "file_extension": ".py",
   "mimetype": "text/x-python",
   "name": "python",
   "nbconvert_exporter": "python",
   "pygments_lexer": "ipython3",
   "version": "3.12.7"
  }
 },
 "nbformat": 4,
 "nbformat_minor": 5
}
