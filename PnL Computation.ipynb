{
 "cells": [
  {
   "cell_type": "code",
   "execution_count": 1,
   "id": "5d942d64-5487-4500-8dcd-1d4dfed3abf6",
   "metadata": {},
   "outputs": [],
   "source": [
    "from binance.spot import Spot\n",
    "from binance.client import Client\n",
    "import pandas as pd\n",
    "import requests\n",
    "import datetime\n",
    "import numpy as np"
   ]
  },
  {
   "cell_type": "code",
   "execution_count": 2,
   "id": "b535c010-bcf0-4244-88f4-214dadce218f",
   "metadata": {},
   "outputs": [],
   "source": [
    "%run \"Binance API.ipynb\".ipynb"
   ]
  },
  {
   "cell_type": "code",
   "execution_count": 3,
   "id": "7fcbee4d-edf5-4897-9078-7bba806f0763",
   "metadata": {},
   "outputs": [],
   "source": [
    "binance_api_key='E90xR7UnO2oeP3lrgC50zkqUuAqyyXs4uSlAGcqIVO9n90ELrFI4gfVI2HGGxxCj'\n",
    "binance_api_secret='Inls2xYl9FqPi0zlIrucfxG81drx7w6Pv6SzYFxMNoAcwDjlCKug7zUM9zB3lF9h'\n",
    "Binance=BinanceAPI(binance_api_key,binance_api_secret)"
   ]
  },
  {
   "cell_type": "code",
   "execution_count": 4,
   "id": "518fb487-e141-4f76-9ea2-26f9a0ad56c1",
   "metadata": {},
   "outputs": [],
   "source": [
    "trade_history=pd.read_excel('Trade History.xlsx')\n",
    "trade_history['Date(UTC)']=pd.to_datetime(trade_history['Date(UTC)'])\n",
    "trade_history['Time']=trade_history['Date(UTC)'].dt.round('T')\n",
    "trade_history=trade_history.set_index('Date(UTC)')\n",
    "\n",
    "trade_info=zip(trade_history['Market'],trade_history.index)\n",
    "trade_info=dict(enumerate(trade_info))\n",
    "\n",
    "trade_price={}\n",
    "for index in trade_info:\n",
    "    \n",
    "    if trade_info[index][0][-4:]=='USDT':\n",
    "        ticker=trade_info[index][0]\n",
    "    else:\n",
    "        ticker=trade_info[index][0][-3:]+'USDT'\n",
    "        \n",
    "    price=Binance.binance_api.klines(ticker,interval='1m',startTime=int(trade_info[index][1].round(freq='min').timestamp()-60)*1000,limit=1)\n",
    "        \n",
    "    trade_price[index]=(trade_info[index][1],trade_info[index][0],price[0][4])"
   ]
  },
  {
   "cell_type": "code",
   "execution_count": 27,
   "id": "d4b836e3-ee79-4d9c-b039-f9c202157aa1",
   "metadata": {},
   "outputs": [],
   "source": [
    "price=pd.DataFrame(trade_price.values(),columns=['Time','Market','Pair Price'])\n",
    "price=pd.concat([trade_history.reset_index(),price['Pair Price']],axis=1)\n",
    "price['Price in USDT']=np.where(price['Market'].str[-4:]=='USDT',price['Price'],price['Price'].astype(float)*price['Pair Price'].astype(float))\n",
    "price['Total in USDT']=price['Price in USDT']*price['Amount'].astype(float)"
   ]
  },
  {
   "cell_type": "code",
   "execution_count": 42,
   "id": "b7daebf4-e45d-4b48-8424-3b5cea74f232",
   "metadata": {},
   "outputs": [
    {
     "data": {
      "text/plain": [
       "0     57.0\n",
       "1     91.0\n",
       "2    185.0\n",
       "4    258.0\n",
       "Name: Amount, dtype: float64"
      ]
     },
     "execution_count": 42,
     "metadata": {},
     "output_type": "execute_result"
    }
   ],
   "source": [
    "price[price['Market'].str[:2]=='OM']['Amount'].where(price['Market'].str[:2]=='OM').where(price['Type']=='BUY').cumsum()"
   ]
  },
  {
   "cell_type": "code",
   "execution_count": 7,
   "id": "f1775caf-a3bb-4dc5-8436-edc0d5f07571",
   "metadata": {},
   "outputs": [
    {
     "data": {
      "text/plain": [
       "{'BB', 'BNB', 'JASMY', 'NOT', 'OM', 'TRX'}"
      ]
     },
     "execution_count": 7,
     "metadata": {},
     "output_type": "execute_result"
    }
   ],
   "source": [
    "buy=price[price['Type']=='BUY'][['Market','Amount','Price in USDT']]\n",
    "\n",
    "buy=buy.reset_index().drop(columns='index')\n",
    "buy=buy.to_dict()\n",
    "\n",
    "traded_crypto=set()\n",
    "for keys in buy['Market']:\n",
    "    traded_crypto.add(buy['Market'][keys])\n",
    "\n",
    "average_price=dict()\n",
    "\n",
    "for crypto in traded_crypto:\n",
    "    \n",
    "    avg_price=0\n",
    "    quantities=0\n",
    "    \n",
    "    for key in buy['Market']:\n",
    "        \n",
    "        if buy['Market'][key]==crypto:\n",
    "            \n",
    "            price=float(buy['Price in USDT'][key])\n",
    "            avg_price+=float(buy['Amount'][key])*price\n",
    "            quantities+=float(buy['Amount'][key])\n",
    "    avg_price=avg_price/quantities                            \n",
    "    average_price[crypto]=(avg_price,quantities)\n",
    "    \n",
    "average_price\n",
    "\n",
    "crypto_=set()\n",
    "for key in average_price:\n",
    "        \n",
    "    if key[-4:]=='USDT':\n",
    "        crypto=key[:-4]\n",
    "    else:\n",
    "        crypto=key[:-3]\n",
    "    \n",
    "    crypto_.add(crypto)\n",
    "    \n",
    "crypto_"
   ]
  },
  {
   "cell_type": "code",
   "execution_count": 15,
   "id": "21d103e2-0acc-47b5-9308-543e6baf3568",
   "metadata": {},
   "outputs": [],
   "source": [
    "average_price_concatenated={}\n",
    "\n",
    "for crypto in crypto_:\n",
    "    \n",
    "    quantities=0\n",
    "    average_price_crypto=0\n",
    "    \n",
    "    for t in average_price:\n",
    "        if t[:len(crypto)]==crypto:\n",
    "            quantities+=average_price[t][1]\n",
    "            average_price_crypto+=average_price[t][1]*average_price[t][0]\n",
    "            \n",
    "    average_price_concatenated[crypto+'USDT']=average_price_crypto/quantities"
   ]
  },
  {
   "cell_type": "code",
   "execution_count": 16,
   "id": "ee60bd7e-afb6-4e81-b388-4fc1069454ca",
   "metadata": {},
   "outputs": [
    {
     "data": {
      "text/html": [
       "<div>\n",
       "<style scoped>\n",
       "    .dataframe tbody tr th:only-of-type {\n",
       "        vertical-align: middle;\n",
       "    }\n",
       "\n",
       "    .dataframe tbody tr th {\n",
       "        vertical-align: top;\n",
       "    }\n",
       "\n",
       "    .dataframe thead th {\n",
       "        text-align: right;\n",
       "    }\n",
       "</style>\n",
       "<table border=\"1\" class=\"dataframe\">\n",
       "  <thead>\n",
       "    <tr style=\"text-align: right;\">\n",
       "      <th></th>\n",
       "      <th>Book Cost</th>\n",
       "    </tr>\n",
       "  </thead>\n",
       "  <tbody>\n",
       "    <tr>\n",
       "      <th>BNBUSDT</th>\n",
       "      <td>670.860934</td>\n",
       "    </tr>\n",
       "    <tr>\n",
       "      <th>NOTUSDT</th>\n",
       "      <td>0.019619</td>\n",
       "    </tr>\n",
       "    <tr>\n",
       "      <th>BBUSDT</th>\n",
       "      <td>0.398000</td>\n",
       "    </tr>\n",
       "    <tr>\n",
       "      <th>OMUSDT</th>\n",
       "      <td>1.155439</td>\n",
       "    </tr>\n",
       "    <tr>\n",
       "      <th>JASMYUSDT</th>\n",
       "      <td>0.035358</td>\n",
       "    </tr>\n",
       "    <tr>\n",
       "      <th>TRXUSDT</th>\n",
       "      <td>0.164422</td>\n",
       "    </tr>\n",
       "  </tbody>\n",
       "</table>\n",
       "</div>"
      ],
      "text/plain": [
       "            Book Cost\n",
       "BNBUSDT    670.860934\n",
       "NOTUSDT      0.019619\n",
       "BBUSDT       0.398000\n",
       "OMUSDT       1.155439\n",
       "JASMYUSDT    0.035358\n",
       "TRXUSDT      0.164422"
      ]
     },
     "execution_count": 16,
     "metadata": {},
     "output_type": "execute_result"
    }
   ],
   "source": [
    "book_cost_recalculated=pd.DataFrame(average_price_concatenated.values(),index=average_price_concatenated.keys(),columns=['Book Cost'])\n",
    "book_cost_recalculated"
   ]
  },
  {
   "cell_type": "code",
   "execution_count": 17,
   "id": "c5d51413-2132-420e-9e0e-832a4b1ccf4c",
   "metadata": {},
   "outputs": [
    {
     "data": {
      "text/plain": [
       "{'BB', 'BNB', 'JASMY', 'NOT', 'OM', 'TRX'}"
      ]
     },
     "execution_count": 17,
     "metadata": {},
     "output_type": "execute_result"
    }
   ],
   "source": [
    "crypto_"
   ]
  }
 ],
 "metadata": {
  "kernelspec": {
   "display_name": "Python 3 (ipykernel)",
   "language": "python",
   "name": "python3"
  },
  "language_info": {
   "codemirror_mode": {
    "name": "ipython",
    "version": 3
   },
   "file_extension": ".py",
   "mimetype": "text/x-python",
   "name": "python",
   "nbconvert_exporter": "python",
   "pygments_lexer": "ipython3",
   "version": "3.9.12"
  }
 },
 "nbformat": 4,
 "nbformat_minor": 5
}
