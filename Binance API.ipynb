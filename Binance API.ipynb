{
 "cells": [
  {
   "cell_type": "code",
   "execution_count": 1,
   "id": "b0e4ce58-3513-4e4b-ac64-e2e9a15bf44e",
   "metadata": {},
   "outputs": [],
   "source": [
    "from binance import Client, ThreadedWebsocketManager, ThreadedDepthCacheManager\n",
    "import pandas as pd\n",
    "import requests"
   ]
  },
  {
   "cell_type": "code",
   "execution_count": 2,
   "id": "6343597b-fc52-4b46-a049-3bdcf5b5423f",
   "metadata": {},
   "outputs": [],
   "source": [
    "apikey = 'jQifsxeX6qqydRZ7BtPnKhoCc5mIrwepALZf9ZfunvpNRkvh78MSZcIw1W3DEfLX'"
   ]
  },
  {
   "cell_type": "code",
   "execution_count": 3,
   "id": "599dcae8-aa44-4107-a2b5-5fd0384410d6",
   "metadata": {},
   "outputs": [],
   "source": [
    "client = Client(apikey)"
   ]
  },
  {
   "cell_type": "code",
   "execution_count": 71,
   "id": "1c333a58-912f-4da8-ac6a-b366f70a9da7",
   "metadata": {},
   "outputs": [],
   "source": [
    "def get_market_cap(quote=\"USDT\"):\n",
    "    \n",
    "    resp = requests.get(\"https://www.binance.com/bapi/asset/v2/public/asset-service/product/get-products\")\n",
    "    \n",
    "    market_cap=pd.DataFrame(resp.json()['data'])\n",
    "    market_cap=market_cap[market_cap['q']==quote]\n",
    "    \n",
    "    market_cap=market_cap[['an','qn','s','b','q','c','cs']]\n",
    "    market_cap['c']=market_cap['c'].astype(float)\n",
    "    \n",
    "    market_cap.columns=['Long name','Quote Name','Ticker','Short Name','Quote Short Name','Close','Supply']\n",
    "    market_cap['Market Cap']=market_cap['Close']*market_cap['Supply']\n",
    "    \n",
    "    market_cap=market_cap.sort_values(by='Market Cap',ascending=False)\n",
    "    \n",
    "\n",
    "    return market_cap"
   ]
  },
  {
   "cell_type": "code",
   "execution_count": 4,
   "id": "e0f2af17-25d7-4751-89d5-71a79690e992",
   "metadata": {},
   "outputs": [],
   "source": [
    "\n",
    "def get_price(ticker_list,date=\"01/01/2022\"):\n",
    "    \n",
    "\n",
    "    price=pd.DataFrame()\n",
    "\n",
    "    for ticker in ticker_list:\n",
    "\n",
    "        \n",
    "        numeric_columns =  ['Open Time', 'Open', 'High', 'Low', 'Close', 'Volume', 'Close Time', 'Quote Asset Volume', \n",
    "                        'Number of Trades', 'TB Base Volume', 'TB Quote Volume', 'Ignore']\n",
    "        \n",
    "        data = pd.DataFrame(client.get_historical_klines(ticker, Client.KLINE_INTERVAL_1DAY, date),columns=numeric_columns)\n",
    "        data['Close Time']=pd.to_datetime(data['Close Time'], unit='ms').dt.date\n",
    "        data=data.set_index('Close Time')\n",
    "\n",
    "        price[ticker]=data['Close'].astype(float)\n",
    "        \n",
    "        #price=pd.concat([price,temp[ticker]],axis=1)\n",
    "        price=pd.concat([price,price[ticker]],axis=1)\n",
    "        \n",
    "    return price"
   ]
  },
  {
   "cell_type": "code",
   "execution_count": null,
   "id": "347ba16c-e424-4194-8d0d-e6cef594dfbc",
   "metadata": {},
   "outputs": [],
   "source": []
  }
 ],
 "metadata": {
  "kernelspec": {
   "display_name": "Python 3 (ipykernel)",
   "language": "python",
   "name": "python3"
  },
  "language_info": {
   "codemirror_mode": {
    "name": "ipython",
    "version": 3
   },
   "file_extension": ".py",
   "mimetype": "text/x-python",
   "name": "python",
   "nbconvert_exporter": "python",
   "pygments_lexer": "ipython3",
   "version": "3.9.12"
  }
 },
 "nbformat": 4,
 "nbformat_minor": 5
}
