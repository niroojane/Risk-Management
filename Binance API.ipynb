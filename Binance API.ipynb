{
 "cells": [
  {
   "cell_type": "code",
   "execution_count": 109,
   "id": "b0e4ce58-3513-4e4b-ac64-e2e9a15bf44e",
   "metadata": {},
   "outputs": [],
   "source": [
    "from binance import Client, ThreadedWebsocketManager, ThreadedDepthCacheManager\n",
    "import pandas as pd\n",
    "import requests\n",
    "import datetime"
   ]
  },
  {
   "cell_type": "code",
   "execution_count": 5,
   "id": "6343597b-fc52-4b46-a049-3bdcf5b5423f",
   "metadata": {},
   "outputs": [],
   "source": [
    "binance_api_key = 'E90xR7UnO2oeP3lrgC50zkqUuAqyyXs4uSlAGcqIVO9n90ELrFI4gfVI2HGGxxCj'\n",
    "binance_api_secret='Inls2xYl9FqPi0zlIrucfxG81drx7w6Pv6SzYFxMNoAcwDjlCKug7zUM9zB3lF9h'"
   ]
  },
  {
   "cell_type": "code",
   "execution_count": 6,
   "id": "2a405e1d-0bb1-4943-9981-5f5cf1000971",
   "metadata": {},
   "outputs": [],
   "source": [
    "client = Client(binance_api_key,binance_api_secret)"
   ]
  },
  {
   "cell_type": "code",
   "execution_count": 7,
   "id": "1c333a58-912f-4da8-ac6a-b366f70a9da7",
   "metadata": {},
   "outputs": [],
   "source": [
    "def get_market_cap(quote=\"USDT\"):\n",
    "    \n",
    "    resp = requests.get(\"https://www.binance.com/bapi/asset/v2/public/asset-service/product/get-products\")\n",
    "    \n",
    "    market_cap=pd.DataFrame(resp.json()['data'])\n",
    "    market_cap=market_cap[market_cap['q']==quote]\n",
    "    \n",
    "    market_cap=market_cap[['an','qn','s','b','q','c','cs']]\n",
    "    market_cap['c']=market_cap['c'].astype(float)\n",
    "    \n",
    "    market_cap.columns=['Long name','Quote Name','Ticker','Short Name','Quote Short Name','Close','Supply']\n",
    "    market_cap['Market Cap']=market_cap['Close']*market_cap['Supply']\n",
    "    \n",
    "    market_cap=market_cap.sort_values(by='Market Cap',ascending=False)\n",
    "    \n",
    "\n",
    "    return market_cap"
   ]
  },
  {
   "cell_type": "code",
   "execution_count": 145,
   "id": "e0f2af17-25d7-4751-89d5-71a79690e992",
   "metadata": {},
   "outputs": [],
   "source": [
    "\n",
    "def get_price(ticker_list,date=str(datetime.date.today())):\n",
    "    \n",
    "\n",
    "    price=pd.DataFrame()\n",
    "\n",
    "    for ticker in ticker_list:\n",
    "\n",
    "        temp=pd.DataFrame()\n",
    "        \n",
    "        numeric_columns =  ['Open Time', 'Open', 'High', 'Low', 'Close', 'Volume', 'Close Time', 'Quote Asset Volume', \n",
    "                        'Number of Trades', 'TB Base Volume', 'TB Quote Volume', 'Ignore']\n",
    "        \n",
    "        data = pd.DataFrame(client.get_historical_klines(ticker, Client.KLINE_INTERVAL_1DAY, date),columns=numeric_columns)\n",
    "        data['Close Time']=pd.to_datetime(data['Close Time'], unit='ms').dt.date\n",
    "        data=data.set_index('Close Time')\n",
    "\n",
    "        temp[ticker]=data['Close'].astype(float)\n",
    "        \n",
    "        #price=pd.concat([price,temp[ticker]],axis=1)\n",
    "        price=pd.concat([price,temp[ticker]],axis=1)\n",
    "        \n",
    "    return price"
   ]
  },
  {
   "cell_type": "code",
   "execution_count": null,
   "id": "347ba16c-e424-4194-8d0d-e6cef594dfbc",
   "metadata": {},
   "outputs": [],
   "source": [
    "\"\"\"Credit to https://github.com/stevebelgium/binance_spot_EURO/blob/master/binancewalleteuro.py\"\"\"\n",
    "\n",
    "def get_account_balances(binance_api_key,binance_api_secret):\n",
    "\t\n",
    "\t# Create a new client object to interact with the Binance API\n",
    "\tclient = Client(binance_api_key, binance_api_secret)\n",
    "\n",
    "\t# Retrieve the balances of all coins in the user's Binance account\n",
    "\taccount_balances = client.get_user_asset()\n",
    "\n",
    "\t# Get the current price of all tickers from the Binance API\n",
    "\tticker_info = client.get_all_tickers()\n",
    "\n",
    "\t# Create a dictionary of tickers and their corresponding prices\n",
    "\tticker_prices = {ticker['symbol']: float(ticker['price']) for ticker in ticker_info}\n",
    "\n",
    "\t# Calculate the USDT value of each coin in the user's account\n",
    "\tcoin_values = []\n",
    "\tfor coin_balance in account_balances:\n",
    "\t\t# Get the coin symbol and the free and locked balance of each coin\n",
    "\t\tcoin_symbol = coin_balance['asset']\n",
    "\t\tunlocked_balance = float(coin_balance['free'])\n",
    "\t\tlocked_balance = float(coin_balance['locked'])\n",
    "\n",
    "\t\t# If the coin is USDT and the total balance is greater than 1, add it to the list of coins with their EURO values\n",
    "\t\tif coin_symbol == 'USDT' and unlocked_balance + locked_balance > 1:\n",
    "\t\t\t# Calculate EURO value using EURUSDT coin pair\n",
    "\t\t\tcoin_values.append(('USDT', (unlocked_balance + locked_balance)/ticker_prices.get('EURUSDT')))\n",
    "\t\t# Otherwise, check if the coin has a USDT trading pair or a BTC trading pair\n",
    "\t\telif unlocked_balance + locked_balance > 0.0:\n",
    "\t\t\t# Check if the coin has a USDT trading pair\n",
    "\t\t\tif (any(coin_symbol + 'USDT' in i for i in ticker_prices)):\n",
    "\t\t\t\t# If it does, calculate its USDT value and add it to the list of coins with their EURO values\n",
    "\t\t\t\tticker_symbol = coin_symbol + 'USDT'\n",
    "\t\t\t\tticker_price = ticker_prices.get(ticker_symbol)\n",
    "\t\t\t\tcoin_usdt_value = (unlocked_balance + locked_balance) * ticker_price\n",
    "\t\t\t\tif coin_usdt_value > 1:\n",
    "\t\t\t\t\t# Calculate EURO value using EURUSDT coin pair\n",
    "\t\t\t\t\tcoin_values.append((coin_symbol, coin_usdt_value/ticker_prices.get('EURUSDT')))\n",
    "\t\t\t# If the coin does not have a USDT trading pair, check if it has a BTC trading pair\n",
    "\t\t\telif (any(coin_symbol + 'BTC' in i for i in ticker_prices)):\n",
    "\t\t\t\t# If it does, calculate its USDT value and add it to the list of coins with their EURO values\n",
    "\t\t\t\tticker_symbol = coin_symbol + 'BTC'\n",
    "\t\t\t\tticker_price = ticker_prices.get(ticker_symbol)\n",
    "\t\t\t\tcoin_usdt_value = (unlocked_balance + locked_balance) * ticker_price * ticker_prices.get('BTCUSDT')\n",
    "\t\t\t\tif coin_usdt_value > 1:\n",
    "\t\t\t\t\t# Calculate EURO value using EURUSDT coin pair\n",
    "\t\t\t\t\tcoin_values.append((coin_symbol, coin_usdt_value/ticker_prices.get('EURUSDT')))\n",
    "\n",
    "\t# Sort the list of coins and their EURO values by EURO value in descending order\n",
    "\tcoin_values.sort(key=lambda x: x[1], reverse=True)\n",
    "    \n",
    "\t# Return the list of coins and their EURO values\n",
    "\treturn pd.DataFrame(coin_values,columns=['Ticker','Amount in €'])\n",
    "\n"
   ]
  },
  {
   "cell_type": "code",
   "execution_count": null,
   "id": "8a61b443-c860-41e5-97a3-0bab64411529",
   "metadata": {},
   "outputs": [],
   "source": []
  }
 ],
 "metadata": {
  "kernelspec": {
   "display_name": "Python 3 (ipykernel)",
   "language": "python",
   "name": "python3"
  },
  "language_info": {
   "codemirror_mode": {
    "name": "ipython",
    "version": 3
   },
   "file_extension": ".py",
   "mimetype": "text/x-python",
   "name": "python",
   "nbconvert_exporter": "python",
   "pygments_lexer": "ipython3",
   "version": "3.9.12"
  }
 },
 "nbformat": 4,
 "nbformat_minor": 5
}
