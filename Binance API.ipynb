{
 "cells": [
  {
   "cell_type": "code",
   "execution_count": 1,
   "id": "b0e4ce58-3513-4e4b-ac64-e2e9a15bf44e",
   "metadata": {},
   "outputs": [],
   "source": [
    "from binance import Client, ThreadedWebsocketManager, ThreadedDepthCacheManager\n",
    "import pandas as pd\n",
    "import requests\n",
    "import datetime"
   ]
  },
  {
   "cell_type": "code",
   "execution_count": 20,
   "id": "6343597b-fc52-4b46-a049-3bdcf5b5423f",
   "metadata": {},
   "outputs": [],
   "source": [
    "binance_api_key = 'E90xR7UnO2oeP3lrgC50zkqUuAqyyXs4uSlAGcqIVO9n90ELrFI4gfVI2HGGxxCj'\n",
    "binance_api_secret='Inls2xYl9FqPi0zlIrucfxG81drx7w6Pv6SzYFxMNoAcwDjlCKug7zUM9zB3lF9h'"
   ]
  },
  {
   "cell_type": "code",
   "execution_count": 21,
   "id": "2a405e1d-0bb1-4943-9981-5f5cf1000971",
   "metadata": {},
   "outputs": [],
   "source": [
    "client = Client(binance_api_key,binance_api_secret)"
   ]
  },
  {
   "cell_type": "code",
   "execution_count": 22,
   "id": "1c333a58-912f-4da8-ac6a-b366f70a9da7",
   "metadata": {},
   "outputs": [],
   "source": [
    "def get_market_cap(quote=\"USDT\"):\n",
    "    \n",
    "    resp = requests.get(\"https://www.binance.com/bapi/asset/v2/public/asset-service/product/get-products\")\n",
    "    \n",
    "    market_cap=pd.DataFrame(resp.json()['data'])\n",
    "    market_cap=market_cap[market_cap['q']==quote]\n",
    "    \n",
    "    market_cap=market_cap[['an','qn','s','b','q','c','cs']]\n",
    "    market_cap['c']=market_cap['c'].astype(float)\n",
    "    \n",
    "    market_cap.columns=['Long name','Quote Name','Ticker','Short Name','Quote Short Name','Close','Supply']\n",
    "    market_cap['Market Cap']=market_cap['Close']*market_cap['Supply']\n",
    "    \n",
    "    market_cap=market_cap.sort_values(by='Market Cap',ascending=False)\n",
    "    \n",
    "\n",
    "    return market_cap"
   ]
  },
  {
   "cell_type": "code",
   "execution_count": 23,
   "id": "e0f2af17-25d7-4751-89d5-71a79690e992",
   "metadata": {},
   "outputs": [],
   "source": [
    "\n",
    "def get_price(ticker_list,date=str(datetime.date.today())):\n",
    "    \n",
    "\n",
    "    price=pd.DataFrame()\n",
    "\n",
    "    for ticker in ticker_list:\n",
    "\n",
    "        temp=pd.DataFrame()\n",
    "        \n",
    "        numeric_columns =  ['Open Time', 'Open', 'High', 'Low', 'Close', 'Volume', 'Close Time', 'Quote Asset Volume', \n",
    "                        'Number of Trades', 'TB Base Volume', 'TB Quote Volume', 'Ignore']\n",
    "        \n",
    "        data = pd.DataFrame(client.get_historical_klines(ticker, Client.KLINE_INTERVAL_1DAY, date),columns=numeric_columns)\n",
    "        data['Close Time']=pd.to_datetime(data['Close Time'], unit='ms').dt.date\n",
    "        data=data.set_index('Close Time')\n",
    "\n",
    "        temp[ticker]=data['Close'].astype(float)\n",
    "        \n",
    "        #price=pd.concat([price,temp[ticker]],axis=1)\n",
    "        price=pd.concat([price,temp[ticker]],axis=1)\n",
    "        \n",
    "    return price"
   ]
  },
  {
   "cell_type": "code",
   "execution_count": 24,
   "id": "d6578e1f-a25e-47b0-b3b6-1f7fb09acbc5",
   "metadata": {},
   "outputs": [],
   "source": [
    "def get_inventory():\n",
    "\n",
    "    ticker_info = client.get_all_tickers()\n",
    "\n",
    "    ticker_prices = {ticker['symbol']: float(ticker['price']) for ticker in ticker_info}\n",
    "    eurusdt=ticker_prices.get(\"EURUSDT\")\n",
    "    ticker_prices=pd.DataFrame(ticker_prices.values(),index=ticker_prices.keys(),columns=['Price in €'])\n",
    "\n",
    "\n",
    "    ptf=pd.DataFrame(client.get_user_asset())\n",
    "    ptf['Ticker']=ptf['asset']+\"USDT\"\n",
    "\n",
    "    ticker=ptf['Ticker'].to_list()\n",
    "    ptf=ptf.set_index('Ticker')\n",
    "\n",
    "    inventory=ticker_prices.loc[ticker]\n",
    "\n",
    "    inventory['Quantity']=ptf['free'].astype(float)+ptf['locked'].astype(float)\n",
    "    inventory['Position']=inventory['Quantity']*inventory['Price in €']\n",
    "    inventory['Weights in %']=inventory['Position']/inventory['Position'].sum()*100\n",
    "\n",
    "    inventory.loc['Total']=['','',inventory['Position'].sum(),inventory['Weights in %'].sum()]\n",
    "\n",
    "    return inventory.sort_values(by='Weights in %',ascending=False)\n",
    "    \n",
    "    "
   ]
  },
  {
   "cell_type": "code",
   "execution_count": 39,
   "id": "f815314a-856c-4108-962b-4acd37bf9ac5",
   "metadata": {},
   "outputs": [],
   "source": [
    "plo=client.get_account_snapshot(type='SPOT')"
   ]
  },
  {
   "cell_type": "code",
   "execution_count": 54,
   "id": "223cbc60-2588-4047-a3b3-004f3443967f",
   "metadata": {},
   "outputs": [
    {
     "data": {
      "text/plain": [
       "{'totalAssetOfBtc': '0.00126825',\n",
       " 'balances': [{'asset': 'BTC', 'free': '0.00040885', 'locked': '0'},\n",
       "  {'asset': 'ETH', 'free': '0.00840723', 'locked': '0'},\n",
       "  {'asset': 'SOL', 'free': '0.18668057', 'locked': '0'}]}"
      ]
     },
     "execution_count": 54,
     "metadata": {},
     "output_type": "execute_result"
    }
   ],
   "source": [
    "plo['snapshotVos'][2]['data']"
   ]
  }
 ],
 "metadata": {
  "kernelspec": {
   "display_name": "Python 3 (ipykernel)",
   "language": "python",
   "name": "python3"
  },
  "language_info": {
   "codemirror_mode": {
    "name": "ipython",
    "version": 3
   },
   "file_extension": ".py",
   "mimetype": "text/x-python",
   "name": "python",
   "nbconvert_exporter": "python",
   "pygments_lexer": "ipython3",
   "version": "3.9.12"
  }
 },
 "nbformat": 4,
 "nbformat_minor": 5
}
