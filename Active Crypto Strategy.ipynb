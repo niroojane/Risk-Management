{
 "cells": [
  {
   "cell_type": "markdown",
   "id": "ae6785e3-e1f1-49f3-acc2-8f4fbc781b5c",
   "metadata": {},
   "source": [
    "# Importing libraries"
   ]
  },
  {
   "cell_type": "code",
   "execution_count": 2,
   "id": "f8d76485-1d84-4d5a-8256-d8e22025b46a",
   "metadata": {},
   "outputs": [],
   "source": [
    "import pandas as pd\n",
    "import random\n",
    "import numpy as np\n",
    "import matplotlib.pyplot as plt\n",
    "import datetime\n",
    "import seaborn as sns"
   ]
  },
  {
   "cell_type": "code",
   "execution_count": 3,
   "id": "ac3ec80e-2c5c-4477-bd0a-d89c52eaa148",
   "metadata": {},
   "outputs": [],
   "source": [
    "%run \"Binance API.ipynb\".ipynb\n",
    "%run \"RiskMetrics.ipynb\".ipynb"
   ]
  },
  {
   "cell_type": "code",
   "execution_count": 4,
   "id": "647e483a-ed4f-4527-b066-671c23ac1424",
   "metadata": {},
   "outputs": [],
   "source": [
    "binance_api_key='E90xR7UnO2oeP3lrgC50zkqUuAqyyXs4uSlAGcqIVO9n90ELrFI4gfVI2HGGxxCj'\n",
    "binance_api_secret='Inls2xYl9FqPi0zlIrucfxG81drx7w6Pv6SzYFxMNoAcwDjlCKug7zUM9zB3lF9h'\n",
    "Binance=BinanceAPI(binance_api_key,binance_api_secret)"
   ]
  },
  {
   "cell_type": "markdown",
   "id": "74e990bc-efc1-4582-98ea-e627b39306df",
   "metadata": {},
   "source": [
    "# Functions"
   ]
  },
  {
   "cell_type": "markdown",
   "id": "46a0cf6e-ae4d-4a19-afff-a5d47c41d68c",
   "metadata": {},
   "source": [
    "# Importing Data"
   ]
  },
  {
   "cell_type": "code",
   "execution_count": 7,
   "id": "69b4b84c-829b-488f-be25-1bc9f998c6f8",
   "metadata": {},
   "outputs": [],
   "source": [
    "#start_date=datetime.datetime(2020,1,1)\n",
    "start_date=datetime.datetime(2020,1,1)\n",
    "today=datetime.datetime.today()"
   ]
  },
  {
   "cell_type": "code",
   "execution_count": 8,
   "id": "f9718c11-469f-4979-a6a1-ed80d983fd09",
   "metadata": {},
   "outputs": [
    {
     "data": {
      "text/plain": [
       "1862"
      ]
     },
     "execution_count": 8,
     "metadata": {},
     "output_type": "execute_result"
    }
   ],
   "source": [
    "days=(today-start_date).days\n",
    "days"
   ]
  },
  {
   "cell_type": "code",
   "execution_count": 9,
   "id": "23578fa9-0e99-4e85-8c08-6d531325758e",
   "metadata": {},
   "outputs": [],
   "source": [
    "remaining=days%500\n",
    "numbers_of_table=days//500"
   ]
  },
  {
   "cell_type": "code",
   "execution_count": 10,
   "id": "846ea23b-6759-4a44-9b39-bbf55a534a73",
   "metadata": {},
   "outputs": [],
   "source": [
    "tickers=Binance.get_market_cap()['Ticker'].iloc[:30].to_list()"
   ]
  },
  {
   "cell_type": "code",
   "execution_count": 11,
   "id": "ddd4015d-5378-428a-8217-f83df96ee955",
   "metadata": {},
   "outputs": [],
   "source": [
    "temp_end=start_date\n",
    "prices=pd.DataFrame()\n",
    "for i in range(numbers_of_table+1):\n",
    "    data=Binance.get_price(tickers,temp_end)\n",
    "    temp_end=temp_end+datetime.timedelta(500)\n",
    "    prices=prices.combine_first(data)\n",
    "    \n",
    "temp_end=(today-datetime.timedelta(days))\n",
    "data=Binance.get_price(tickers,temp_end)\n",
    "prices=prices.combine_first(data)\n",
    "prices=prices.sort_index()\n",
    "prices = prices[~prices.index.duplicated(keep='first')]"
   ]
  },
  {
   "cell_type": "code",
   "execution_count": 12,
   "id": "762b354d-95ea-4e9c-9a88-30676480cf61",
   "metadata": {},
   "outputs": [
    {
     "name": "stderr",
     "output_type": "stream",
     "text": [
      "C:\\Users\\niroo\\AppData\\Local\\Temp\\ipykernel_173396\\2972560492.py:1: FutureWarning: The default fill_method='pad' in DataFrame.pct_change is deprecated and will be removed in a future version. Either fill in any non-leading NA values prior to calling pct_change or specify 'fill_method=None' to not fill NA values.\n",
      "  returns=np.log(1+prices.pct_change())\n"
     ]
    }
   ],
   "source": [
    "returns=np.log(1+prices.pct_change())\n",
    "returns.index=pd.to_datetime(returns.index)\n",
    "with_no_na=returns.columns[np.where((returns.isna().sum()<30))]\n",
    "returns_to_use=returns[with_no_na].sort_index()"
   ]
  },
  {
   "cell_type": "code",
   "execution_count": 13,
   "id": "7e909abe-258f-4023-9a70-e8e38f6937d1",
   "metadata": {},
   "outputs": [],
   "source": [
    "dataframe=prices[with_no_na].sort_index()\n",
    "dataframe.index=pd.to_datetime(dataframe.index)"
   ]
  },
  {
   "cell_type": "code",
   "execution_count": 14,
   "id": "f0c39838-90d6-411d-8986-e65298484d8f",
   "metadata": {},
   "outputs": [],
   "source": [
    "returns_to_use.index=pd.to_datetime(returns_to_use.index)\n",
    "returns_to_use = returns_to_use[~returns_to_use.index.duplicated(keep='first')]"
   ]
  },
  {
   "cell_type": "markdown",
   "id": "1841f2b4-c521-4198-9e5c-0c38478bbcd3",
   "metadata": {},
   "source": [
    "# Strategy Backtesting"
   ]
  },
  {
   "cell_type": "code",
   "execution_count": 16,
   "id": "1032df5e-dfab-4b88-baec-05fb6d36b5c1",
   "metadata": {},
   "outputs": [],
   "source": [
    "month=list(sorted(set(returns_to_use.index + pd.offsets.BMonthEnd(0))))\n",
    "#month_end=pd.to_datetime(mrat_wo_na.index)\n",
    "month = pd.to_datetime(month)\n",
    "\n",
    "idx1 = pd.Index(returns_to_use.iloc[:-1].index)\n",
    "idx2 = pd.Index(month)\n",
    "closest_dates = idx1[idx1.get_indexer(idx2, method='nearest')]\n",
    "\n",
    "dates_end=list(closest_dates)\n",
    "dates_end.insert(0,returns_to_use.index[1])\n",
    "dates_end.append(returns_to_use.index[-1])\n",
    "dates_end=sorted(list(set(dates_end)))\n",
    "dates_end.pop(0)\n",
    "dates_end=sorted(list(set(dates_end)))"
   ]
  },
  {
   "cell_type": "code",
   "execution_count": 17,
   "id": "c2ea8818-18a9-4a71-bc65-b11e12fa03bb",
   "metadata": {},
   "outputs": [
    {
     "data": {
      "text/html": [
       "<div>\n",
       "<style scoped>\n",
       "    .dataframe tbody tr th:only-of-type {\n",
       "        vertical-align: middle;\n",
       "    }\n",
       "\n",
       "    .dataframe tbody tr th {\n",
       "        vertical-align: top;\n",
       "    }\n",
       "\n",
       "    .dataframe thead th {\n",
       "        text-align: right;\n",
       "    }\n",
       "</style>\n",
       "<table border=\"1\" class=\"dataframe\">\n",
       "  <thead>\n",
       "    <tr style=\"text-align: right;\">\n",
       "      <th></th>\n",
       "      <th>ADAUSDT</th>\n",
       "      <th>BCHUSDT</th>\n",
       "      <th>BNBUSDT</th>\n",
       "      <th>BTCUSDT</th>\n",
       "      <th>DOGEUSDT</th>\n",
       "      <th>ETCUSDT</th>\n",
       "      <th>ETHUSDT</th>\n",
       "      <th>HBARUSDT</th>\n",
       "      <th>LINKUSDT</th>\n",
       "      <th>LTCUSDT</th>\n",
       "      <th>TRXUSDT</th>\n",
       "      <th>USDCUSDT</th>\n",
       "      <th>XLMUSDT</th>\n",
       "      <th>XRPUSDT</th>\n",
       "    </tr>\n",
       "  </thead>\n",
       "  <tbody>\n",
       "    <tr>\n",
       "      <th>2019-12-31</th>\n",
       "      <td>NaN</td>\n",
       "      <td>NaN</td>\n",
       "      <td>NaN</td>\n",
       "      <td>NaN</td>\n",
       "      <td>NaN</td>\n",
       "      <td>NaN</td>\n",
       "      <td>NaN</td>\n",
       "      <td>NaN</td>\n",
       "      <td>NaN</td>\n",
       "      <td>NaN</td>\n",
       "      <td>NaN</td>\n",
       "      <td>NaN</td>\n",
       "      <td>NaN</td>\n",
       "      <td>NaN</td>\n",
       "    </tr>\n",
       "    <tr>\n",
       "      <th>2020-01-01</th>\n",
       "      <td>0.018997</td>\n",
       "      <td>-0.000391</td>\n",
       "      <td>0.000168</td>\n",
       "      <td>0.000781</td>\n",
       "      <td>0.005448</td>\n",
       "      <td>0.002000</td>\n",
       "      <td>0.012388</td>\n",
       "      <td>0.010685</td>\n",
       "      <td>0.024481</td>\n",
       "      <td>0.007718</td>\n",
       "      <td>-0.006033</td>\n",
       "      <td>-0.000100</td>\n",
       "      <td>0.007535</td>\n",
       "      <td>0.000518</td>\n",
       "    </tr>\n",
       "    <tr>\n",
       "      <th>2020-01-02</th>\n",
       "      <td>-0.023879</td>\n",
       "      <td>-0.044765</td>\n",
       "      <td>-0.052981</td>\n",
       "      <td>-0.033200</td>\n",
       "      <td>-0.014629</td>\n",
       "      <td>-0.063055</td>\n",
       "      <td>-0.027758</td>\n",
       "      <td>-0.033402</td>\n",
       "      <td>-0.042005</td>\n",
       "      <td>-0.054054</td>\n",
       "      <td>-0.029166</td>\n",
       "      <td>-0.000798</td>\n",
       "      <td>-0.037800</td>\n",
       "      <td>-0.029170</td>\n",
       "    </tr>\n",
       "    <tr>\n",
       "      <th>2020-01-03</th>\n",
       "      <td>0.044279</td>\n",
       "      <td>0.129103</td>\n",
       "      <td>0.047792</td>\n",
       "      <td>0.053015</td>\n",
       "      <td>0.014184</td>\n",
       "      <td>0.079200</td>\n",
       "      <td>0.054766</td>\n",
       "      <td>0.033402</td>\n",
       "      <td>0.038077</td>\n",
       "      <td>0.068604</td>\n",
       "      <td>0.045670</td>\n",
       "      <td>-0.001597</td>\n",
       "      <td>0.045936</td>\n",
       "      <td>0.030878</td>\n",
       "    </tr>\n",
       "    <tr>\n",
       "      <th>2020-01-04</th>\n",
       "      <td>0.004963</td>\n",
       "      <td>0.009130</td>\n",
       "      <td>0.011786</td>\n",
       "      <td>0.001245</td>\n",
       "      <td>0.016808</td>\n",
       "      <td>0.039206</td>\n",
       "      <td>-0.001117</td>\n",
       "      <td>0.070859</td>\n",
       "      <td>0.011135</td>\n",
       "      <td>0.012940</td>\n",
       "      <td>0.000000</td>\n",
       "      <td>-0.000300</td>\n",
       "      <td>-0.000219</td>\n",
       "      <td>-0.001708</td>\n",
       "    </tr>\n",
       "    <tr>\n",
       "      <th>...</th>\n",
       "      <td>...</td>\n",
       "      <td>...</td>\n",
       "      <td>...</td>\n",
       "      <td>...</td>\n",
       "      <td>...</td>\n",
       "      <td>...</td>\n",
       "      <td>...</td>\n",
       "      <td>...</td>\n",
       "      <td>...</td>\n",
       "      <td>...</td>\n",
       "      <td>...</td>\n",
       "      <td>...</td>\n",
       "      <td>...</td>\n",
       "      <td>...</td>\n",
       "    </tr>\n",
       "    <tr>\n",
       "      <th>2025-02-01</th>\n",
       "      <td>-0.052360</td>\n",
       "      <td>-0.048790</td>\n",
       "      <td>-0.036880</td>\n",
       "      <td>-0.017669</td>\n",
       "      <td>-0.065914</td>\n",
       "      <td>-0.072246</td>\n",
       "      <td>-0.057178</td>\n",
       "      <td>-0.073376</td>\n",
       "      <td>-0.091029</td>\n",
       "      <td>-0.081710</td>\n",
       "      <td>-0.037755</td>\n",
       "      <td>-0.000100</td>\n",
       "      <td>-0.054577</td>\n",
       "      <td>-0.053548</td>\n",
       "    </tr>\n",
       "    <tr>\n",
       "      <th>2025-02-02</th>\n",
       "      <td>-0.105510</td>\n",
       "      <td>-0.114200</td>\n",
       "      <td>-0.055320</td>\n",
       "      <td>-0.029599</td>\n",
       "      <td>-0.138555</td>\n",
       "      <td>-0.103759</td>\n",
       "      <td>-0.082844</td>\n",
       "      <td>-0.118143</td>\n",
       "      <td>-0.116153</td>\n",
       "      <td>-0.078575</td>\n",
       "      <td>-0.080077</td>\n",
       "      <td>0.000000</td>\n",
       "      <td>-0.102475</td>\n",
       "      <td>-0.109237</td>\n",
       "    </tr>\n",
       "    <tr>\n",
       "      <th>2025-02-03</th>\n",
       "      <td>0.008410</td>\n",
       "      <td>-0.020180</td>\n",
       "      <td>-0.000955</td>\n",
       "      <td>0.036460</td>\n",
       "      <td>0.060677</td>\n",
       "      <td>-0.020203</td>\n",
       "      <td>0.003555</td>\n",
       "      <td>0.081882</td>\n",
       "      <td>0.056072</td>\n",
       "      <td>-0.020461</td>\n",
       "      <td>0.014091</td>\n",
       "      <td>-0.001200</td>\n",
       "      <td>0.045557</td>\n",
       "      <td>0.045499</td>\n",
       "    </tr>\n",
       "    <tr>\n",
       "      <th>2025-02-04</th>\n",
       "      <td>-0.087594</td>\n",
       "      <td>-0.068851</td>\n",
       "      <td>-0.074865</td>\n",
       "      <td>-0.035820</td>\n",
       "      <td>-0.078099</td>\n",
       "      <td>-0.065113</td>\n",
       "      <td>-0.053018</td>\n",
       "      <td>-0.094238</td>\n",
       "      <td>-0.080312</td>\n",
       "      <td>-0.056174</td>\n",
       "      <td>-0.018535</td>\n",
       "      <td>0.000700</td>\n",
       "      <td>-0.083558</td>\n",
       "      <td>-0.066098</td>\n",
       "    </tr>\n",
       "    <tr>\n",
       "      <th>2025-02-05</th>\n",
       "      <td>0.001746</td>\n",
       "      <td>-0.002125</td>\n",
       "      <td>-0.004217</td>\n",
       "      <td>0.004340</td>\n",
       "      <td>0.002426</td>\n",
       "      <td>-0.003880</td>\n",
       "      <td>-0.000623</td>\n",
       "      <td>0.004428</td>\n",
       "      <td>-0.000501</td>\n",
       "      <td>0.002668</td>\n",
       "      <td>-0.002676</td>\n",
       "      <td>-0.000100</td>\n",
       "      <td>-0.002644</td>\n",
       "      <td>-0.000277</td>\n",
       "    </tr>\n",
       "  </tbody>\n",
       "</table>\n",
       "<p>1864 rows × 14 columns</p>\n",
       "</div>"
      ],
      "text/plain": [
       "             ADAUSDT   BCHUSDT   BNBUSDT   BTCUSDT  DOGEUSDT   ETCUSDT  \\\n",
       "2019-12-31       NaN       NaN       NaN       NaN       NaN       NaN   \n",
       "2020-01-01  0.018997 -0.000391  0.000168  0.000781  0.005448  0.002000   \n",
       "2020-01-02 -0.023879 -0.044765 -0.052981 -0.033200 -0.014629 -0.063055   \n",
       "2020-01-03  0.044279  0.129103  0.047792  0.053015  0.014184  0.079200   \n",
       "2020-01-04  0.004963  0.009130  0.011786  0.001245  0.016808  0.039206   \n",
       "...              ...       ...       ...       ...       ...       ...   \n",
       "2025-02-01 -0.052360 -0.048790 -0.036880 -0.017669 -0.065914 -0.072246   \n",
       "2025-02-02 -0.105510 -0.114200 -0.055320 -0.029599 -0.138555 -0.103759   \n",
       "2025-02-03  0.008410 -0.020180 -0.000955  0.036460  0.060677 -0.020203   \n",
       "2025-02-04 -0.087594 -0.068851 -0.074865 -0.035820 -0.078099 -0.065113   \n",
       "2025-02-05  0.001746 -0.002125 -0.004217  0.004340  0.002426 -0.003880   \n",
       "\n",
       "             ETHUSDT  HBARUSDT  LINKUSDT   LTCUSDT   TRXUSDT  USDCUSDT  \\\n",
       "2019-12-31       NaN       NaN       NaN       NaN       NaN       NaN   \n",
       "2020-01-01  0.012388  0.010685  0.024481  0.007718 -0.006033 -0.000100   \n",
       "2020-01-02 -0.027758 -0.033402 -0.042005 -0.054054 -0.029166 -0.000798   \n",
       "2020-01-03  0.054766  0.033402  0.038077  0.068604  0.045670 -0.001597   \n",
       "2020-01-04 -0.001117  0.070859  0.011135  0.012940  0.000000 -0.000300   \n",
       "...              ...       ...       ...       ...       ...       ...   \n",
       "2025-02-01 -0.057178 -0.073376 -0.091029 -0.081710 -0.037755 -0.000100   \n",
       "2025-02-02 -0.082844 -0.118143 -0.116153 -0.078575 -0.080077  0.000000   \n",
       "2025-02-03  0.003555  0.081882  0.056072 -0.020461  0.014091 -0.001200   \n",
       "2025-02-04 -0.053018 -0.094238 -0.080312 -0.056174 -0.018535  0.000700   \n",
       "2025-02-05 -0.000623  0.004428 -0.000501  0.002668 -0.002676 -0.000100   \n",
       "\n",
       "             XLMUSDT   XRPUSDT  \n",
       "2019-12-31       NaN       NaN  \n",
       "2020-01-01  0.007535  0.000518  \n",
       "2020-01-02 -0.037800 -0.029170  \n",
       "2020-01-03  0.045936  0.030878  \n",
       "2020-01-04 -0.000219 -0.001708  \n",
       "...              ...       ...  \n",
       "2025-02-01 -0.054577 -0.053548  \n",
       "2025-02-02 -0.102475 -0.109237  \n",
       "2025-02-03  0.045557  0.045499  \n",
       "2025-02-04 -0.083558 -0.066098  \n",
       "2025-02-05 -0.002644 -0.000277  \n",
       "\n",
       "[1864 rows x 14 columns]"
      ]
     },
     "execution_count": 17,
     "metadata": {},
     "output_type": "execute_result"
    }
   ],
   "source": [
    "returns_to_use"
   ]
  },
  {
   "cell_type": "code",
   "execution_count": 18,
   "id": "64f56027-c1bc-4fb7-a936-34389a0dc4fa",
   "metadata": {
    "scrolled": true
   },
   "outputs": [],
   "source": [
    "results={}\n",
    "limit=np.where(returns_to_use.columns=='BTCUSDT')[0][0]\n",
    "cash=np.where(returns_to_use.columns=='USDCUSDT')[0][0]"
   ]
  },
  {
   "cell_type": "code",
   "execution_count": 19,
   "id": "293552f8-5a4b-4779-81a2-b39808957c06",
   "metadata": {
    "scrolled": true
   },
   "outputs": [],
   "source": [
    "for i in range(len(dates_end)-1):\n",
    "    \n",
    "    try:\n",
    "        dataset=returns_to_use.loc[dates_end[i]:dates_end[i+1]]\n",
    "        risk=RiskAnalysis(dataset)\n",
    "        date=dataset.index[-1]\n",
    "        optimal=risk.optimize(objective='minimum_variance',constraints=[{'type': 'eq', 'fun': lambda weights: weights[cash]-0.00}])#,constraints=[{'type': 'eq', 'fun': lambda weights: weights[limit]-0.30},\n",
    "                                                                              \n",
    "                                                                              #{'type': 'eq', 'fun': lambda weights: weights[cash]-0.00}])\n",
    "        results[date]=np.round(optimal,6)\n",
    "        \n",
    "    except Exception as e:\n",
    "        \n",
    "        pass\n",
    "    \n",
    "rolling_optimization=pd.DataFrame(results,index=dataframe.columns).T\n",
    " "
   ]
  },
  {
   "cell_type": "code",
   "execution_count": 20,
   "id": "6aa9de20-43f2-4713-bffb-28ee380975fe",
   "metadata": {},
   "outputs": [
    {
     "name": "stdout",
     "output_type": "stream",
     "text": [
      "2020-01-01 00:00:00 1000 1.0\n",
      "2020-01-31 00:00:00 1472.3626181493273 1.4723626181493272\n",
      "2020-02-28 00:00:00 2000.8122581098812 2.0008122581098813\n",
      "2020-03-31 00:00:00 1446.407429633718 1.446407429633718\n",
      "2020-04-30 00:00:00 1949.9436041194751 1.949943604119475\n",
      "2020-05-29 00:00:00 1991.9836148171862 1.991983614817186\n",
      "2020-06-30 00:00:00 1862.2055766784156 1.8622055766784156\n",
      "2020-07-31 00:00:00 2588.6085822746263 2.5886085822746265\n",
      "2020-08-31 00:00:00 2808.0438527376605 2.8080438527376606\n",
      "2020-09-30 00:00:00 2622.700322302416 2.6227003223024163\n",
      "2020-10-30 00:00:00 2964.462538938451 2.964462538938451\n",
      "2020-11-30 00:00:00 3977.893797757806 3.9778937977578064\n",
      "2020-12-31 00:00:00 5129.366911065281 5.129366911065281\n",
      "2021-01-29 00:00:00 8179.096996212478 8.179096996212477\n",
      "2021-02-26 00:00:00 33896.42833205482 33.89642833205482\n",
      "2021-03-31 00:00:00 44910.59655311407 44.91059655311407\n",
      "2021-04-30 00:00:00 99626.80124072781 99.62680124072781\n",
      "2021-05-31 00:00:00 77822.15679361465 77.82215679361465\n",
      "2021-06-30 00:00:00 76137.60950179565 76.13760950179565\n",
      "2021-07-30 00:00:00 87240.22007334766 87.24022007334766\n",
      "2021-08-31 00:00:00 117221.72001305413 117.22172001305412\n",
      "2021-09-30 00:00:00 110905.27620244073 110.90527620244073\n",
      "2021-10-29 00:00:00 162745.6094560764 162.7456094560764\n",
      "2021-11-30 00:00:00 145501.80247887102 145.501802478871\n",
      "2021-12-31 00:00:00 116236.85458668953 116.23685458668953\n",
      "2022-01-31 00:00:00 86924.8674774767 86.9248674774767\n",
      "2022-02-28 00:00:00 96769.15556853796 96.76915556853795\n",
      "2022-03-31 00:00:00 122499.71908621606 122.49971908621606\n",
      "2022-04-29 00:00:00 103085.41653981351 103.08541653981351\n",
      "2022-05-31 00:00:00 86451.96469713142 86.45196469713142\n",
      "2022-06-30 00:00:00 54055.93768267401 54.05593768267401\n",
      "2022-07-29 00:00:00 59358.36587192685 59.35836587192685\n",
      "2022-08-31 00:00:00 53730.097281261995 53.730097281262\n",
      "2022-09-30 00:00:00 55826.74555309455 55.826745553094554\n",
      "2022-10-31 00:00:00 57605.94274392629 57.605942743926285\n",
      "2022-11-30 00:00:00 50273.31818994194 50.273318189941946\n",
      "2022-12-30 00:00:00 51083.25098515184 51.08325098515184\n",
      "2023-01-31 00:00:00 65414.35587638282 65.41435587638281\n",
      "2023-02-28 00:00:00 65713.53660910146 65.71353660910145\n",
      "2023-03-31 00:00:00 85811.89249438417 85.81189249438417\n",
      "2023-04-28 00:00:00 85207.56151058352 85.20756151058352\n",
      "2023-05-31 00:00:00 95111.57810186292 95.11157810186292\n",
      "2023-06-30 00:00:00 101134.45945208671 101.13445945208672\n",
      "2023-07-31 00:00:00 112198.3768043594 112.1983768043594\n",
      "2023-08-31 00:00:00 99576.65959575382 99.57665959575382\n",
      "2023-09-29 00:00:00 111971.38407724994 111.97138407724994\n",
      "2023-10-31 00:00:00 121908.46202856352 121.90846202856352\n",
      "2023-11-30 00:00:00 127085.0972692997 127.08509726929971\n",
      "2023-12-29 00:00:00 142880.9913157251 142.8809913157251\n",
      "2024-01-31 00:00:00 147029.99316162738 147.02999316162737\n",
      "2024-02-29 00:00:00 186817.16547767835 186.81716547767834\n",
      "2024-03-29 00:00:00 201486.58105122804 201.48658105122806\n",
      "2024-04-30 00:00:00 199014.33869422448 199.01433869422448\n",
      "2024-05-31 00:00:00 188691.2110295783 188.69121102957828\n",
      "2024-06-28 00:00:00 193921.69173821792 193.92169173821793\n",
      "2024-07-31 00:00:00 214851.06726429728 214.85106726429728\n",
      "2024-08-30 00:00:00 240376.9504603512 240.3769504603512\n",
      "2024-09-30 00:00:00 246487.30268794805 246.48730268794804\n",
      "2024-10-31 00:00:00 255573.8223215712 255.5738223215712\n",
      "2024-11-29 00:00:00 434639.73481665784 434.63973481665784\n",
      "2024-12-31 00:00:00 488239.21862015757 488.23921862015754\n",
      "2025-01-31 00:00:00 528629.4643525814 528.6294643525814\n",
      "2025-02-04 00:00:00 446123.7570112365 446.12375701123653\n"
     ]
    },
    {
     "name": "stderr",
     "output_type": "stream",
     "text": [
      "C:\\Users\\niroo\\AppData\\Local\\Temp\\ipykernel_173396\\3371734425.py:5: FutureWarning: The default fill_method='pad' in DataFrame.pct_change is deprecated and will be removed in a future version. Either fill in any non-leading NA values prior to calling pct_change or specify 'fill_method=None' to not fill NA values.\n",
      "  perf=dataframe.pct_change()\n"
     ]
    }
   ],
   "source": [
    "tracking={}\n",
    "portfolio={}\n",
    "investment_amount=1000\n",
    "initial_amount=investment_amount\n",
    "perf=dataframe.pct_change()\n",
    "transaction_fee=0.005\n",
    "\n",
    "weight_dict={col: 1/returns_to_use.shape[1] for col in returns_to_use.columns}\n",
    "\n",
    "\n",
    "for i in range(len(dates_end)-1):\n",
    "    \n",
    "    print(dates_end[i],investment_amount,investment_amount/initial_amount)\n",
    "\n",
    "    \n",
    "    temp=dataframe.loc[dates_end[i]:dates_end[i+1]].copy()\n",
    "    initial_price=temp.iloc[0].to_dict()\n",
    "\n",
    "    if dates_end[i]>dates_end[0]:\n",
    "\n",
    "        top50=rolling_optimization.loc[dates_end[i]]\n",
    "        top50_dict=rolling_optimization.loc[dates_end[i]].to_dict()\n",
    "        weight_dict={}\n",
    "\n",
    "        for key in temp.columns:\n",
    "\n",
    "            if key in top50_dict: \n",
    "                weight_dict[key]=top50_dict[key]\n",
    "            else:\n",
    "                weight_dict[key]=0\n",
    "      \n",
    "                \n",
    "    weight_vec=np.array(list(weight_dict.values()))\n",
    "    \n",
    "    inital_investment_per_stock={}\n",
    "    shares={}\n",
    "\n",
    "    for col in temp.columns:\n",
    "        \n",
    "        weighted_perf=weight_vec*perf.loc[dates_end[i]]\n",
    "        \n",
    "        inital_investment_per_stock[col]=weight_dict[col]*investment_amount*(1+weighted_perf.sum())\n",
    "        shares[col]=inital_investment_per_stock[col]*(1-transaction_fee)/initial_price[col]\n",
    "\n",
    "    tracking[dates_end[i]]=(weight_dict,shares,investment_amount,initial_price)\n",
    "\n",
    "    temp=temp*shares    \n",
    "    portfolio[dates_end[i]]=temp\n",
    "    investment_amount=temp.iloc[-1].sum()\n",
    "    \n",
    "\n",
    "temp=dataframe.loc[dates_end[-2]:]*shares\n",
    "portfolio[dates_end[-1]]=temp"
   ]
  },
  {
   "cell_type": "code",
   "execution_count": 21,
   "id": "4c2efad0-386c-4162-a2b4-12005328a993",
   "metadata": {},
   "outputs": [],
   "source": [
    "historical_portfolio=pd.DataFrame()\n",
    "performance=pd.DataFrame()\n",
    "for key in portfolio.keys():\n",
    "    historical_portfolio=historical_portfolio.combine_first(portfolio[key])"
   ]
  },
  {
   "cell_type": "code",
   "execution_count": 22,
   "id": "ed2c20c5-e274-4bd7-9785-60a2fdb12411",
   "metadata": {},
   "outputs": [
    {
     "data": {
      "text/plain": [
       "2020-01-01      1001.034526\n",
       "2020-01-02       966.954542\n",
       "2020-01-03      1015.443425\n",
       "2020-01-04      1028.322499\n",
       "2020-01-05      1036.207733\n",
       "                  ...      \n",
       "2025-02-01    506856.893394\n",
       "2025-02-02    479987.009438\n",
       "2025-02-03    480140.884889\n",
       "2025-02-04    446123.757011\n",
       "2025-02-05    426196.045571\n",
       "Length: 1863, dtype: float64"
      ]
     },
     "execution_count": 22,
     "metadata": {},
     "output_type": "execute_result"
    }
   ],
   "source": [
    "historical_portfolio.sum(axis=1)"
   ]
  },
  {
   "cell_type": "code",
   "execution_count": 23,
   "id": "b29405d8-968f-4679-84f6-af00716bb934",
   "metadata": {},
   "outputs": [
    {
     "data": {
      "text/plain": [
       "<Axes: >"
      ]
     },
     "execution_count": 23,
     "metadata": {},
     "output_type": "execute_result"
    },
    {
     "data": {
      "image/png": "[encoded data removed]",
      "text/plain": [
       "<Figure size 640x480 with 1 Axes>"
      ]
     },
     "metadata": {},
     "output_type": "display_data"
    }
   ],
   "source": [
    "performance['Fund']=historical_portfolio.sum(axis=1)\n",
    "performance['Bitcoin']=dataframe['BTCUSDT']\n",
    "#performance['Mantra']=dataframe['OMUSDT']\n",
    "\n",
    "performance_pct=performance.copy()\n",
    "performance_pct=performance_pct.pct_change()\n",
    "\n",
    "(1+performance_pct.iloc[:-2]).cumprod().plot()"
   ]
  },
  {
   "cell_type": "code",
   "execution_count": 24,
   "id": "4afef5b7-9c4d-4f05-b4c8-1dc86d00c1b7",
   "metadata": {},
   "outputs": [],
   "source": [
    "years=sorted(list(set(performance.index.year)))\n",
    "\n",
    "month_year=performance.index.strftime('%Y-%m')\n",
    "month_year=sorted(list(set(month_year)))"
   ]
  },
  {
   "cell_type": "code",
   "execution_count": 25,
   "id": "5c2cc86d-dc0d-4255-995a-35ee33c6b674",
   "metadata": {},
   "outputs": [
    {
     "data": {
      "text/plain": [
       "<Axes: >"
      ]
     },
     "execution_count": 25,
     "metadata": {},
     "output_type": "execute_result"
    },
    {
     "data": {
      "image/png": "[encoded data removed]",
      "text/plain": [
       "<Figure size 640x480 with 1 Axes>"
      ]
     },
     "metadata": {},
     "output_type": "display_data"
    }
   ],
   "source": [
    "(1+performance_pct.loc['2024']).cumprod().plot()"
   ]
  },
  {
   "cell_type": "code",
   "execution_count": 26,
   "id": "08977b3b-e104-4556-becf-d95cfa66d47b",
   "metadata": {},
   "outputs": [],
   "source": [
    "year_returns={}\n",
    "for year in years:\n",
    "\n",
    "    perf_year=performance.loc[str(year)].iloc[-1]/performance.loc[str(year)].iloc[0]-1\n",
    "    year_returns[year]=perf_year\n",
    "\n",
    "year_returns[years[-1]]=performance.loc[str(years[-1])].iloc[-2]/performance.loc[str(years[-1])].iloc[0]-1"
   ]
  },
  {
   "cell_type": "code",
   "execution_count": 27,
   "id": "df2b79a1-b05c-4654-8e18-9db5fe4dec25",
   "metadata": {},
   "outputs": [
    {
     "data": {
      "text/html": [
       "<div>\n",
       "<style scoped>\n",
       "    .dataframe tbody tr th:only-of-type {\n",
       "        vertical-align: middle;\n",
       "    }\n",
       "\n",
       "    .dataframe tbody tr th {\n",
       "        vertical-align: top;\n",
       "    }\n",
       "\n",
       "    .dataframe thead th {\n",
       "        text-align: right;\n",
       "    }\n",
       "</style>\n",
       "<table border=\"1\" class=\"dataframe\">\n",
       "  <thead>\n",
       "    <tr style=\"text-align: right;\">\n",
       "      <th></th>\n",
       "      <th>2020</th>\n",
       "      <th>2021</th>\n",
       "      <th>2022</th>\n",
       "      <th>2023</th>\n",
       "      <th>2024</th>\n",
       "      <th>2025</th>\n",
       "    </tr>\n",
       "  </thead>\n",
       "  <tbody>\n",
       "    <tr>\n",
       "      <th>Fund</th>\n",
       "      <td>4.124066</td>\n",
       "      <td>21.379449</td>\n",
       "      <td>-0.562080</td>\n",
       "      <td>1.804248</td>\n",
       "      <td>2.387444</td>\n",
       "      <td>-0.097615</td>\n",
       "    </tr>\n",
       "    <tr>\n",
       "      <th>Bitcoin</th>\n",
       "      <td>3.016697</td>\n",
       "      <td>0.575665</td>\n",
       "      <td>-0.653364</td>\n",
       "      <td>1.544636</td>\n",
       "      <td>1.118084</td>\n",
       "      <td>0.033527</td>\n",
       "    </tr>\n",
       "  </tbody>\n",
       "</table>\n",
       "</div>"
      ],
      "text/plain": [
       "             2020       2021      2022      2023      2024      2025\n",
       "Fund     4.124066  21.379449 -0.562080  1.804248  2.387444 -0.097615\n",
       "Bitcoin  3.016697   0.575665 -0.653364  1.544636  1.118084  0.033527"
      ]
     },
     "execution_count": 27,
     "metadata": {},
     "output_type": "execute_result"
    }
   ],
   "source": [
    "year_returns_dataframe=pd.DataFrame(year_returns)\n",
    "year_returns_dataframe"
   ]
  },
  {
   "cell_type": "code",
   "execution_count": 28,
   "id": "665b2193-ec24-402e-942d-6befc099ec83",
   "metadata": {},
   "outputs": [],
   "source": [
    "month_returns={}\n",
    "for month in month_year:\n",
    "\n",
    "    perf_year=performance.loc[str(month)].iloc[-1]/performance.loc[str(month)].iloc[0]-1\n",
    "    month_returns[month]=perf_year\n",
    "\n",
    "month_returns[month]=performance.loc[str(month_year[-1])].iloc[-2]/performance.loc[str(month_year[-1])].iloc[0]-1"
   ]
  },
  {
   "cell_type": "code",
   "execution_count": 29,
   "id": "b8720fc8-d210-4524-82db-ee1fb0268710",
   "metadata": {},
   "outputs": [
    {
     "data": {
      "text/html": [
       "<div>\n",
       "<style scoped>\n",
       "    .dataframe tbody tr th:only-of-type {\n",
       "        vertical-align: middle;\n",
       "    }\n",
       "\n",
       "    .dataframe tbody tr th {\n",
       "        vertical-align: top;\n",
       "    }\n",
       "\n",
       "    .dataframe thead th {\n",
       "        text-align: right;\n",
       "    }\n",
       "</style>\n",
       "<table border=\"1\" class=\"dataframe\">\n",
       "  <thead>\n",
       "    <tr style=\"text-align: right;\">\n",
       "      <th></th>\n",
       "      <th>2020-01</th>\n",
       "      <th>2020-02</th>\n",
       "      <th>2020-03</th>\n",
       "      <th>2020-04</th>\n",
       "      <th>2020-05</th>\n",
       "      <th>2020-06</th>\n",
       "      <th>2020-07</th>\n",
       "      <th>2020-08</th>\n",
       "      <th>2020-09</th>\n",
       "      <th>2020-10</th>\n",
       "      <th>...</th>\n",
       "      <th>2024-05</th>\n",
       "      <th>2024-06</th>\n",
       "      <th>2024-07</th>\n",
       "      <th>2024-08</th>\n",
       "      <th>2024-09</th>\n",
       "      <th>2024-10</th>\n",
       "      <th>2024-11</th>\n",
       "      <th>2024-12</th>\n",
       "      <th>2025-01</th>\n",
       "      <th>2025-02</th>\n",
       "    </tr>\n",
       "  </thead>\n",
       "  <tbody>\n",
       "    <tr>\n",
       "      <th>Fund</th>\n",
       "      <td>0.470841</td>\n",
       "      <td>0.283600</td>\n",
       "      <td>-0.248649</td>\n",
       "      <td>0.305888</td>\n",
       "      <td>0.010055</td>\n",
       "      <td>-0.106718</td>\n",
       "      <td>0.389475</td>\n",
       "      <td>0.014132</td>\n",
       "      <td>-0.079378</td>\n",
       "      <td>0.144179</td>\n",
       "      <td>...</td>\n",
       "      <td>-0.047804</td>\n",
       "      <td>0.040434</td>\n",
       "      <td>0.073699</td>\n",
       "      <td>0.156269</td>\n",
       "      <td>0.051515</td>\n",
       "      <td>0.079711</td>\n",
       "      <td>0.727260</td>\n",
       "      <td>0.118214</td>\n",
       "      <td>0.069271</td>\n",
       "      <td>-0.119823</td>\n",
       "    </tr>\n",
       "    <tr>\n",
       "      <th>Bitcoin</th>\n",
       "      <td>0.298859</td>\n",
       "      <td>-0.091746</td>\n",
       "      <td>-0.248649</td>\n",
       "      <td>0.297622</td>\n",
       "      <td>0.070388</td>\n",
       "      <td>-0.104131</td>\n",
       "      <td>0.227844</td>\n",
       "      <td>-0.012851</td>\n",
       "      <td>-0.096073</td>\n",
       "      <td>0.298694</td>\n",
       "      <td>...</td>\n",
       "      <td>0.157201</td>\n",
       "      <td>-0.073706</td>\n",
       "      <td>0.027472</td>\n",
       "      <td>-0.097623</td>\n",
       "      <td>0.105158</td>\n",
       "      <td>0.156009</td>\n",
       "      <td>0.387245</td>\n",
       "      <td>-0.037137</td>\n",
       "      <td>0.082859</td>\n",
       "      <td>-0.028544</td>\n",
       "    </tr>\n",
       "  </tbody>\n",
       "</table>\n",
       "<p>2 rows × 62 columns</p>\n",
       "</div>"
      ],
      "text/plain": [
       "          2020-01   2020-02   2020-03   2020-04   2020-05   2020-06   2020-07  \\\n",
       "Fund     0.470841  0.283600 -0.248649  0.305888  0.010055 -0.106718  0.389475   \n",
       "Bitcoin  0.298859 -0.091746 -0.248649  0.297622  0.070388 -0.104131  0.227844   \n",
       "\n",
       "          2020-08   2020-09   2020-10  ...   2024-05   2024-06   2024-07  \\\n",
       "Fund     0.014132 -0.079378  0.144179  ... -0.047804  0.040434  0.073699   \n",
       "Bitcoin -0.012851 -0.096073  0.298694  ...  0.157201 -0.073706  0.027472   \n",
       "\n",
       "          2024-08   2024-09   2024-10   2024-11   2024-12   2025-01   2025-02  \n",
       "Fund     0.156269  0.051515  0.079711  0.727260  0.118214  0.069271 -0.119823  \n",
       "Bitcoin -0.097623  0.105158  0.156009  0.387245 -0.037137  0.082859 -0.028544  \n",
       "\n",
       "[2 rows x 62 columns]"
      ]
     },
     "execution_count": 29,
     "metadata": {},
     "output_type": "execute_result"
    }
   ],
   "source": [
    "month_returns_dataframe=pd.DataFrame(month_returns)\n",
    "month_returns_dataframe"
   ]
  },
  {
   "cell_type": "code",
   "execution_count": 30,
   "id": "1319d512-3587-4f23-a4e6-acd4f33a64c2",
   "metadata": {},
   "outputs": [],
   "source": [
    "metrics={}\n",
    "metrics['Tracking Error']=(performance_pct['Fund']-performance_pct['Bitcoin']).std()*np.sqrt(252)\n",
    "metrics['Fund Vol']=performance_pct['Fund'].std()*np.sqrt(252)\n",
    "metrics['Bench Vol']=performance_pct['Bitcoin'].std()*np.sqrt(252)\n",
    "metrics['Fund Return']=performance['Fund'].iloc[-2]/performance['Fund'].iloc[0]\n",
    "metrics['Bench Return']=performance['Bitcoin'].iloc[-2]/performance['Bitcoin'].iloc[0]\n",
    "metrics['Sharpe Ratio']=(1+metrics['Fund Return'])**(1/len(set(returns_to_use.index.year)))/metrics['Fund Vol']"
   ]
  },
  {
   "cell_type": "code",
   "execution_count": 31,
   "id": "46008c02-0ceb-4e51-a3f8-6e3d5cf31eac",
   "metadata": {},
   "outputs": [
    {
     "data": {
      "text/html": [
       "<div>\n",
       "<style scoped>\n",
       "    .dataframe tbody tr th:only-of-type {\n",
       "        vertical-align: middle;\n",
       "    }\n",
       "\n",
       "    .dataframe tbody tr th {\n",
       "        vertical-align: top;\n",
       "    }\n",
       "\n",
       "    .dataframe thead th {\n",
       "        text-align: right;\n",
       "    }\n",
       "</style>\n",
       "<table border=\"1\" class=\"dataframe\">\n",
       "  <thead>\n",
       "    <tr style=\"text-align: right;\">\n",
       "      <th></th>\n",
       "      <th>Indicators</th>\n",
       "    </tr>\n",
       "  </thead>\n",
       "  <tbody>\n",
       "    <tr>\n",
       "      <th>Tracking Error</th>\n",
       "      <td>0.585081</td>\n",
       "    </tr>\n",
       "    <tr>\n",
       "      <th>Fund Vol</th>\n",
       "      <td>0.752282</td>\n",
       "    </tr>\n",
       "    <tr>\n",
       "      <th>Bench Vol</th>\n",
       "      <td>0.537637</td>\n",
       "    </tr>\n",
       "    <tr>\n",
       "      <th>Fund Return</th>\n",
       "      <td>445.662707</td>\n",
       "    </tr>\n",
       "    <tr>\n",
       "      <th>Bench Return</th>\n",
       "      <td>13.576610</td>\n",
       "    </tr>\n",
       "    <tr>\n",
       "      <th>Sharpe Ratio</th>\n",
       "      <td>3.178249</td>\n",
       "    </tr>\n",
       "  </tbody>\n",
       "</table>\n",
       "</div>"
      ],
      "text/plain": [
       "                Indicators\n",
       "Tracking Error    0.585081\n",
       "Fund Vol          0.752282\n",
       "Bench Vol         0.537637\n",
       "Fund Return     445.662707\n",
       "Bench Return     13.576610\n",
       "Sharpe Ratio      3.178249"
      ]
     },
     "execution_count": 31,
     "metadata": {},
     "output_type": "execute_result"
    }
   ],
   "source": [
    "indicators=pd.DataFrame(metrics.values(),index=metrics.keys(),columns=['Indicators'])\n",
    "indicators"
   ]
  },
  {
   "cell_type": "code",
   "execution_count": 32,
   "id": "9a0e956d-e188-4c4d-94e1-8cb2ac613b8c",
   "metadata": {},
   "outputs": [
    {
     "data": {
      "text/plain": [
       "{'ADAUSDT': 0.0,\n",
       " 'BCHUSDT': 0.0,\n",
       " 'BNBUSDT': 0.0,\n",
       " 'BTCUSDT': 0.579814,\n",
       " 'DOGEUSDT': 0.0,\n",
       " 'ETCUSDT': 0.0,\n",
       " 'ETHUSDT': 0.0,\n",
       " 'HBARUSDT': 0.0,\n",
       " 'LINKUSDT': 0.0,\n",
       " 'LTCUSDT': 0.420186,\n",
       " 'TRXUSDT': 0.0,\n",
       " 'USDCUSDT': 0.0,\n",
       " 'XLMUSDT': 0.0,\n",
       " 'XRPUSDT': 0.0}"
      ]
     },
     "execution_count": 32,
     "metadata": {},
     "output_type": "execute_result"
    }
   ],
   "source": [
    "tracking[dates_end[-2]][0]"
   ]
  },
  {
   "cell_type": "code",
   "execution_count": 33,
   "id": "db27164c-5dcd-4fb7-a7a9-041842696c46",
   "metadata": {},
   "outputs": [
    {
     "data": {
      "text/plain": [
       "Timestamp('2021-01-29 00:00:00')"
      ]
     },
     "execution_count": 33,
     "metadata": {},
     "output_type": "execute_result"
    }
   ],
   "source": [
    "dates_end[13]"
   ]
  },
  {
   "cell_type": "code",
   "execution_count": 34,
   "id": "6195bd49-dc1c-4def-9115-779ef1510ac7",
   "metadata": {},
   "outputs": [
    {
     "data": {
      "text/plain": [
       "7"
      ]
     },
     "execution_count": 34,
     "metadata": {},
     "output_type": "execute_result"
    }
   ],
   "source": [
    "len(set(returns_to_use.index.year))"
   ]
  },
  {
   "cell_type": "code",
   "execution_count": null,
   "id": "6cb48baa-e373-43fb-9864-b0f2108cd6f1",
   "metadata": {},
   "outputs": [],
   "source": []
  }
 ],
 "metadata": {
  "kernelspec": {
   "display_name": "Python [conda env:base] *",
   "language": "python",
   "name": "conda-base-py"
  },
  "language_info": {
   "codemirror_mode": {
    "name": "ipython",
    "version": 3
   },
   "file_extension": ".py",
   "mimetype": "text/x-python",
   "name": "python",
   "nbconvert_exporter": "python",
   "pygments_lexer": "ipython3",
   "version": "3.12.7"
  }
 },
 "nbformat": 4,
 "nbformat_minor": 5
}
