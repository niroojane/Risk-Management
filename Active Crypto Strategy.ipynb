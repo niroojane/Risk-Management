{
 "cells": [
  {
   "cell_type": "markdown",
   "id": "ae6785e3-e1f1-49f3-acc2-8f4fbc781b5c",
   "metadata": {},
   "source": [
    "# Importing libraries"
   ]
  },
  {
   "cell_type": "code",
   "execution_count": 2,
   "id": "f8d76485-1d84-4d5a-8256-d8e22025b46a",
   "metadata": {},
   "outputs": [],
   "source": [
    "import pandas as pd\n",
    "import random\n",
    "import numpy as np\n",
    "import matplotlib.pyplot as plt\n",
    "import datetime\n",
    "import seaborn as sns"
   ]
  },
  {
   "cell_type": "code",
   "execution_count": 3,
   "id": "ac3ec80e-2c5c-4477-bd0a-d89c52eaa148",
   "metadata": {},
   "outputs": [],
   "source": [
    "%run \"Binance API.ipynb\".ipynb\n",
    "%run \"RiskMetrics.ipynb\".ipynb"
   ]
  },
  {
   "cell_type": "code",
   "execution_count": 4,
   "id": "1872d13f-26a9-4f68-bb6b-5584ae9cfe8a",
   "metadata": {},
   "outputs": [],
   "source": [
    "binance_api_key='E90xR7UnO2oeP3lrgC50zkqUuAqyyXs4uSlAGcqIVO9n90ELrFI4gfVI2HGGxxCj'\n",
    "binance_api_secret='Inls2xYl9FqPi0zlIrucfxG81drx7w6Pv6SzYFxMNoAcwDjlCKug7zUM9zB3lF9h'\n",
    "Binance=BinanceAPI(binance_api_key,binance_api_secret)"
   ]
  },
  {
   "cell_type": "markdown",
   "id": "46a0cf6e-ae4d-4a19-afff-a5d47c41d68c",
   "metadata": {},
   "source": [
    "# Importing Data"
   ]
  },
  {
   "cell_type": "code",
   "execution_count": 6,
   "id": "69b4b84c-829b-488f-be25-1bc9f998c6f8",
   "metadata": {},
   "outputs": [],
   "source": [
    "#start_date=datetime.datetime(2020,1,1)\n",
    "start_date=datetime.datetime(2020,1,1)\n",
    "today=datetime.datetime.today()"
   ]
  },
  {
   "cell_type": "code",
   "execution_count": 7,
   "id": "f9718c11-469f-4979-a6a1-ed80d983fd09",
   "metadata": {},
   "outputs": [
    {
     "data": {
      "text/plain": [
       "1881"
      ]
     },
     "execution_count": 7,
     "metadata": {},
     "output_type": "execute_result"
    }
   ],
   "source": [
    "days=(today-start_date).days\n",
    "days"
   ]
  },
  {
   "cell_type": "code",
   "execution_count": 8,
   "id": "23578fa9-0e99-4e85-8c08-6d531325758e",
   "metadata": {},
   "outputs": [],
   "source": [
    "remaining=days%500\n",
    "numbers_of_table=days//500"
   ]
  },
  {
   "cell_type": "code",
   "execution_count": 9,
   "id": "846ea23b-6759-4a44-9b39-bbf55a534a73",
   "metadata": {},
   "outputs": [],
   "source": [
    "tickers=Binance.get_market_cap()['Ticker'].iloc[:30].to_list()"
   ]
  },
  {
   "cell_type": "code",
   "execution_count": 10,
   "id": "ddd4015d-5378-428a-8217-f83df96ee955",
   "metadata": {},
   "outputs": [],
   "source": [
    "temp_end=start_date\n",
    "prices=pd.DataFrame()\n",
    "for i in range(numbers_of_table+1):\n",
    "    data=Binance.get_price(tickers,temp_end)\n",
    "    temp_end=temp_end+datetime.timedelta(500)\n",
    "    prices=prices.combine_first(data)\n",
    "    \n",
    "temp_end=(today-datetime.timedelta(days))\n",
    "data=Binance.get_price(tickers,temp_end)\n",
    "omusdt=Binance.get_price(['OMUSDT'],temp_end)\n",
    "prices=prices.combine_first(data)\n",
    "prices=prices.sort_index()\n",
    "prices = prices[~prices.index.duplicated(keep='first')]\n",
    "prices['OMUSDT']=omusdt"
   ]
  },
  {
   "cell_type": "code",
   "execution_count": 11,
   "id": "8fd735ea-b5e7-4ca5-a825-24f89e43a9db",
   "metadata": {},
   "outputs": [
    {
     "name": "stderr",
     "output_type": "stream",
     "text": [
      "C:\\Users\\Admin\\AppData\\Local\\Temp\\ipykernel_2400\\2972560492.py:1: FutureWarning: The default fill_method='pad' in DataFrame.pct_change is deprecated and will be removed in a future version. Either fill in any non-leading NA values prior to calling pct_change or specify 'fill_method=None' to not fill NA values.\n",
      "  returns=np.log(1+prices.pct_change())\n"
     ]
    }
   ],
   "source": [
    "returns=np.log(1+prices.pct_change())\n",
    "returns.index=pd.to_datetime(returns.index)\n",
    "with_no_na=returns.columns[np.where((returns.isna().sum()<30))]\n",
    "returns_to_use=returns[with_no_na].sort_index()"
   ]
  },
  {
   "cell_type": "code",
   "execution_count": 12,
   "id": "37e186e7-9639-4494-97d4-24818110d20c",
   "metadata": {},
   "outputs": [],
   "source": [
    "dataframe=prices[with_no_na].sort_index()\n",
    "dataframe.index=pd.to_datetime(dataframe.index)"
   ]
  },
  {
   "cell_type": "code",
   "execution_count": 13,
   "id": "f0c39838-90d6-411d-8986-e65298484d8f",
   "metadata": {},
   "outputs": [],
   "source": [
    "returns_to_use.index=pd.to_datetime(returns_to_use.index)\n",
    "returns_to_use = returns_to_use[~returns_to_use.index.duplicated(keep='first')]"
   ]
  },
  {
   "cell_type": "markdown",
   "id": "1841f2b4-c521-4198-9e5c-0c38478bbcd3",
   "metadata": {},
   "source": [
    "# Strategy Backtesting"
   ]
  },
  {
   "cell_type": "code",
   "execution_count": 15,
   "id": "1032df5e-dfab-4b88-baec-05fb6d36b5c1",
   "metadata": {},
   "outputs": [],
   "source": [
    "month=list(sorted(set(returns_to_use.index + pd.offsets.BMonthEnd(0))))\n",
    "#month_end=pd.to_datetime(mrat_wo_na.index)\n",
    "month = pd.to_datetime(month)\n",
    "\n",
    "idx1 = pd.Index(returns_to_use.iloc[:-1].index)\n",
    "idx2 = pd.Index(month)\n",
    "closest_dates = idx1[idx1.get_indexer(idx2, method='nearest')]\n",
    "\n",
    "dates_end=list(closest_dates)\n",
    "dates_end.insert(0,returns_to_use.index[1])\n",
    "dates_end.append(returns_to_use.index[-1])\n",
    "dates_end=sorted(list(set(dates_end)))\n",
    "dates_end.pop(0)\n",
    "dates_end=sorted(list(set(dates_end)))"
   ]
  },
  {
   "cell_type": "code",
   "execution_count": 16,
   "id": "c2ea8818-18a9-4a71-bc65-b11e12fa03bb",
   "metadata": {},
   "outputs": [
    {
     "data": {
      "text/html": [
       "<div>\n",
       "<style scoped>\n",
       "    .dataframe tbody tr th:only-of-type {\n",
       "        vertical-align: middle;\n",
       "    }\n",
       "\n",
       "    .dataframe tbody tr th {\n",
       "        vertical-align: top;\n",
       "    }\n",
       "\n",
       "    .dataframe thead th {\n",
       "        text-align: right;\n",
       "    }\n",
       "</style>\n",
       "<table border=\"1\" class=\"dataframe\">\n",
       "  <thead>\n",
       "    <tr style=\"text-align: right;\">\n",
       "      <th></th>\n",
       "      <th>ADAUSDT</th>\n",
       "      <th>BCHUSDT</th>\n",
       "      <th>BNBUSDT</th>\n",
       "      <th>BTCUSDT</th>\n",
       "      <th>DOGEUSDT</th>\n",
       "      <th>ETHUSDT</th>\n",
       "      <th>HBARUSDT</th>\n",
       "      <th>LINKUSDT</th>\n",
       "      <th>LTCUSDT</th>\n",
       "      <th>TRXUSDT</th>\n",
       "      <th>USDCUSDT</th>\n",
       "      <th>XLMUSDT</th>\n",
       "      <th>XRPUSDT</th>\n",
       "    </tr>\n",
       "  </thead>\n",
       "  <tbody>\n",
       "    <tr>\n",
       "      <th>2019-12-31</th>\n",
       "      <td>NaN</td>\n",
       "      <td>NaN</td>\n",
       "      <td>NaN</td>\n",
       "      <td>NaN</td>\n",
       "      <td>NaN</td>\n",
       "      <td>NaN</td>\n",
       "      <td>NaN</td>\n",
       "      <td>NaN</td>\n",
       "      <td>NaN</td>\n",
       "      <td>NaN</td>\n",
       "      <td>NaN</td>\n",
       "      <td>NaN</td>\n",
       "      <td>NaN</td>\n",
       "    </tr>\n",
       "    <tr>\n",
       "      <th>2020-01-01</th>\n",
       "      <td>0.018997</td>\n",
       "      <td>-0.000391</td>\n",
       "      <td>0.000168</td>\n",
       "      <td>0.000781</td>\n",
       "      <td>0.005448</td>\n",
       "      <td>0.012388</td>\n",
       "      <td>0.010685</td>\n",
       "      <td>0.024481</td>\n",
       "      <td>0.007718</td>\n",
       "      <td>-0.006033</td>\n",
       "      <td>-0.000100</td>\n",
       "      <td>0.007535</td>\n",
       "      <td>0.000518</td>\n",
       "    </tr>\n",
       "    <tr>\n",
       "      <th>2020-01-02</th>\n",
       "      <td>-0.023879</td>\n",
       "      <td>-0.044765</td>\n",
       "      <td>-0.052981</td>\n",
       "      <td>-0.033200</td>\n",
       "      <td>-0.014629</td>\n",
       "      <td>-0.027758</td>\n",
       "      <td>-0.033402</td>\n",
       "      <td>-0.042005</td>\n",
       "      <td>-0.054054</td>\n",
       "      <td>-0.029166</td>\n",
       "      <td>-0.000798</td>\n",
       "      <td>-0.037800</td>\n",
       "      <td>-0.029170</td>\n",
       "    </tr>\n",
       "    <tr>\n",
       "      <th>2020-01-03</th>\n",
       "      <td>0.044279</td>\n",
       "      <td>0.129103</td>\n",
       "      <td>0.047792</td>\n",
       "      <td>0.053015</td>\n",
       "      <td>0.014184</td>\n",
       "      <td>0.054766</td>\n",
       "      <td>0.033402</td>\n",
       "      <td>0.038077</td>\n",
       "      <td>0.068604</td>\n",
       "      <td>0.045670</td>\n",
       "      <td>-0.001597</td>\n",
       "      <td>0.045936</td>\n",
       "      <td>0.030878</td>\n",
       "    </tr>\n",
       "    <tr>\n",
       "      <th>2020-01-04</th>\n",
       "      <td>0.004963</td>\n",
       "      <td>0.009130</td>\n",
       "      <td>0.011786</td>\n",
       "      <td>0.001245</td>\n",
       "      <td>0.016808</td>\n",
       "      <td>-0.001117</td>\n",
       "      <td>0.070859</td>\n",
       "      <td>0.011135</td>\n",
       "      <td>0.012940</td>\n",
       "      <td>0.000000</td>\n",
       "      <td>-0.000300</td>\n",
       "      <td>-0.000219</td>\n",
       "      <td>-0.001708</td>\n",
       "    </tr>\n",
       "    <tr>\n",
       "      <th>...</th>\n",
       "      <td>...</td>\n",
       "      <td>...</td>\n",
       "      <td>...</td>\n",
       "      <td>...</td>\n",
       "      <td>...</td>\n",
       "      <td>...</td>\n",
       "      <td>...</td>\n",
       "      <td>...</td>\n",
       "      <td>...</td>\n",
       "      <td>...</td>\n",
       "      <td>...</td>\n",
       "      <td>...</td>\n",
       "      <td>...</td>\n",
       "    </tr>\n",
       "    <tr>\n",
       "      <th>2025-02-20</th>\n",
       "      <td>0.037788</td>\n",
       "      <td>0.009558</td>\n",
       "      <td>0.004551</td>\n",
       "      <td>0.017037</td>\n",
       "      <td>-0.000236</td>\n",
       "      <td>0.008266</td>\n",
       "      <td>0.028552</td>\n",
       "      <td>0.016548</td>\n",
       "      <td>-0.030563</td>\n",
       "      <td>0.016367</td>\n",
       "      <td>-0.000300</td>\n",
       "      <td>0.008156</td>\n",
       "      <td>-0.018469</td>\n",
       "    </tr>\n",
       "    <tr>\n",
       "      <th>2025-02-21</th>\n",
       "      <td>-0.053024</td>\n",
       "      <td>-0.037835</td>\n",
       "      <td>-0.013637</td>\n",
       "      <td>-0.021833</td>\n",
       "      <td>-0.061022</td>\n",
       "      <td>-0.027789</td>\n",
       "      <td>-0.035061</td>\n",
       "      <td>-0.047615</td>\n",
       "      <td>-0.021011</td>\n",
       "      <td>-0.035106</td>\n",
       "      <td>0.000700</td>\n",
       "      <td>-0.055470</td>\n",
       "      <td>-0.043963</td>\n",
       "    </tr>\n",
       "    <tr>\n",
       "      <th>2025-02-22</th>\n",
       "      <td>0.014719</td>\n",
       "      <td>0.022374</td>\n",
       "      <td>0.032069</td>\n",
       "      <td>0.003829</td>\n",
       "      <td>0.028384</td>\n",
       "      <td>0.036943</td>\n",
       "      <td>0.009470</td>\n",
       "      <td>0.018756</td>\n",
       "      <td>-0.017323</td>\n",
       "      <td>0.005868</td>\n",
       "      <td>-0.000500</td>\n",
       "      <td>0.025134</td>\n",
       "      <td>0.000738</td>\n",
       "    </tr>\n",
       "    <tr>\n",
       "      <th>2025-02-23</th>\n",
       "      <td>-0.004796</td>\n",
       "      <td>0.021274</td>\n",
       "      <td>-0.015298</td>\n",
       "      <td>-0.003039</td>\n",
       "      <td>-0.015161</td>\n",
       "      <td>0.020230</td>\n",
       "      <td>-0.024320</td>\n",
       "      <td>-0.007914</td>\n",
       "      <td>0.030892</td>\n",
       "      <td>0.027614</td>\n",
       "      <td>0.000100</td>\n",
       "      <td>-0.003895</td>\n",
       "      <td>0.000893</td>\n",
       "    </tr>\n",
       "    <tr>\n",
       "      <th>2025-02-24</th>\n",
       "      <td>-0.072181</td>\n",
       "      <td>-0.074390</td>\n",
       "      <td>-0.048657</td>\n",
       "      <td>-0.023626</td>\n",
       "      <td>-0.091615</td>\n",
       "      <td>-0.066378</td>\n",
       "      <td>0.000237</td>\n",
       "      <td>-0.092080</td>\n",
       "      <td>-0.066630</td>\n",
       "      <td>-0.001220</td>\n",
       "      <td>-0.000100</td>\n",
       "      <td>-0.065760</td>\n",
       "      <td>-0.068306</td>\n",
       "    </tr>\n",
       "  </tbody>\n",
       "</table>\n",
       "<p>1883 rows × 13 columns</p>\n",
       "</div>"
      ],
      "text/plain": [
       "             ADAUSDT   BCHUSDT   BNBUSDT   BTCUSDT  DOGEUSDT   ETHUSDT  \\\n",
       "2019-12-31       NaN       NaN       NaN       NaN       NaN       NaN   \n",
       "2020-01-01  0.018997 -0.000391  0.000168  0.000781  0.005448  0.012388   \n",
       "2020-01-02 -0.023879 -0.044765 -0.052981 -0.033200 -0.014629 -0.027758   \n",
       "2020-01-03  0.044279  0.129103  0.047792  0.053015  0.014184  0.054766   \n",
       "2020-01-04  0.004963  0.009130  0.011786  0.001245  0.016808 -0.001117   \n",
       "...              ...       ...       ...       ...       ...       ...   \n",
       "2025-02-20  0.037788  0.009558  0.004551  0.017037 -0.000236  0.008266   \n",
       "2025-02-21 -0.053024 -0.037835 -0.013637 -0.021833 -0.061022 -0.027789   \n",
       "2025-02-22  0.014719  0.022374  0.032069  0.003829  0.028384  0.036943   \n",
       "2025-02-23 -0.004796  0.021274 -0.015298 -0.003039 -0.015161  0.020230   \n",
       "2025-02-24 -0.072181 -0.074390 -0.048657 -0.023626 -0.091615 -0.066378   \n",
       "\n",
       "            HBARUSDT  LINKUSDT   LTCUSDT   TRXUSDT  USDCUSDT   XLMUSDT  \\\n",
       "2019-12-31       NaN       NaN       NaN       NaN       NaN       NaN   \n",
       "2020-01-01  0.010685  0.024481  0.007718 -0.006033 -0.000100  0.007535   \n",
       "2020-01-02 -0.033402 -0.042005 -0.054054 -0.029166 -0.000798 -0.037800   \n",
       "2020-01-03  0.033402  0.038077  0.068604  0.045670 -0.001597  0.045936   \n",
       "2020-01-04  0.070859  0.011135  0.012940  0.000000 -0.000300 -0.000219   \n",
       "...              ...       ...       ...       ...       ...       ...   \n",
       "2025-02-20  0.028552  0.016548 -0.030563  0.016367 -0.000300  0.008156   \n",
       "2025-02-21 -0.035061 -0.047615 -0.021011 -0.035106  0.000700 -0.055470   \n",
       "2025-02-22  0.009470  0.018756 -0.017323  0.005868 -0.000500  0.025134   \n",
       "2025-02-23 -0.024320 -0.007914  0.030892  0.027614  0.000100 -0.003895   \n",
       "2025-02-24  0.000237 -0.092080 -0.066630 -0.001220 -0.000100 -0.065760   \n",
       "\n",
       "             XRPUSDT  \n",
       "2019-12-31       NaN  \n",
       "2020-01-01  0.000518  \n",
       "2020-01-02 -0.029170  \n",
       "2020-01-03  0.030878  \n",
       "2020-01-04 -0.001708  \n",
       "...              ...  \n",
       "2025-02-20 -0.018469  \n",
       "2025-02-21 -0.043963  \n",
       "2025-02-22  0.000738  \n",
       "2025-02-23  0.000893  \n",
       "2025-02-24 -0.068306  \n",
       "\n",
       "[1883 rows x 13 columns]"
      ]
     },
     "execution_count": 16,
     "metadata": {},
     "output_type": "execute_result"
    }
   ],
   "source": [
    "returns_to_use"
   ]
  },
  {
   "cell_type": "code",
   "execution_count": 17,
   "id": "64f56027-c1bc-4fb7-a936-34389a0dc4fa",
   "metadata": {
    "scrolled": true
   },
   "outputs": [],
   "source": [
    "results={}\n",
    "btc_limit=np.where(returns_to_use.columns=='BTCUSDT')[0][0]\n",
    "cash=np.where(returns_to_use.columns=='USDCUSDT')[0][0]\n",
    "#om_limit=np.where(returns_to_use.columns=='OMUSDT')[0][0]"
   ]
  },
  {
   "cell_type": "code",
   "execution_count": 18,
   "id": "67df5efa-ace0-41fc-9814-ba5ecd318aad",
   "metadata": {
    "scrolled": true
   },
   "outputs": [],
   "source": [
    "for i in range(len(dates_end)-1):\n",
    "    \n",
    "    try:\n",
    "        dataset=returns_to_use.loc[dates_end[i]:dates_end[i+1]]        \n",
    "        risk=RiskAnalysis(dataset)\n",
    "        date=dataset.index[-1]\n",
    "        \n",
    "        optimal=risk.optimize(objective='minimum_variance',constraints=[{'type': 'eq', 'fun': lambda weights: weights[cash]-0.00}])#,\n",
    "                                                                        #{'type': 'eq', 'fun': lambda weights: weights[om_limit]-0.5}])\n",
    "        \n",
    "        \n",
    "        results[date]=np.round(optimal,6)\n",
    "\n",
    "    except Exception as e:\n",
    "        \n",
    "        pass\n",
    "\n",
    "rolling_optimization=pd.DataFrame(results,index=dataframe.columns).T"
   ]
  },
  {
   "cell_type": "code",
   "execution_count": 19,
   "id": "6aa9de20-43f2-4713-bffb-28ee380975fe",
   "metadata": {},
   "outputs": [
    {
     "name": "stdout",
     "output_type": "stream",
     "text": [
      "2020-01-01 00:00:00 1000 1.0\n",
      "2020-01-31 00:00:00 1392.191885753699 1.3921918857536988\n",
      "2020-02-28 00:00:00 1923.461840356624 1.923461840356624\n",
      "2020-03-31 00:00:00 1390.4900298526545 1.3904900298526546\n",
      "2020-04-30 00:00:00 1915.6782679840535 1.9156782679840534\n",
      "2020-05-29 00:00:00 2028.4687680535626 2.0284687680535627\n",
      "2020-06-30 00:00:00 1943.3624313761002 1.9433624313761002\n",
      "2020-07-31 00:00:00 2766.936859083299 2.766936859083299\n",
      "2020-08-31 00:00:00 2890.9185638263666 2.8909185638263666\n",
      "2020-09-30 00:00:00 2665.2305193389557 2.6652305193389556\n",
      "2020-10-30 00:00:00 2997.678005951731 2.9976780059517307\n",
      "2020-11-30 00:00:00 4222.086811436589 4.222086811436589\n",
      "2020-12-31 00:00:00 5413.04960287973 5.41304960287973\n",
      "2021-01-29 00:00:00 8205.640214183273 8.205640214183273\n",
      "2021-02-26 00:00:00 33238.03969224206 33.23803969224206\n",
      "2021-03-31 00:00:00 41431.527453594754 41.431527453594754\n",
      "2021-04-30 00:00:00 94691.3082445248 94.6913082445248\n",
      "2021-05-31 00:00:00 76919.6271642741 76.9196271642741\n",
      "2021-06-30 00:00:00 74353.66015873947 74.35366015873947\n",
      "2021-07-30 00:00:00 84268.89094165852 84.26889094165853\n",
      "2021-08-31 00:00:00 120614.76817725989 120.61476817725989\n",
      "2021-09-30 00:00:00 110424.4308857107 110.42443088571069\n",
      "2021-10-29 00:00:00 145152.48279425042 145.15248279425043\n",
      "2021-11-30 00:00:00 121742.57362431026 121.74257362431025\n",
      "2021-12-31 00:00:00 97497.72954867134 97.49772954867134\n",
      "2022-01-31 00:00:00 73013.76526091433 73.01376526091433\n",
      "2022-02-28 00:00:00 80095.39654863064 80.09539654863065\n",
      "2022-03-31 00:00:00 101987.651191732 101.987651191732\n",
      "2022-04-29 00:00:00 85184.83613169732 85.18483613169732\n",
      "2022-05-31 00:00:00 70763.11085962948 70.76311085962948\n",
      "2022-06-30 00:00:00 45702.28372893554 45.70228372893554\n",
      "2022-07-29 00:00:00 50072.19008349511 50.07219008349511\n",
      "2022-08-31 00:00:00 45089.229324855885 45.089229324855886\n",
      "2022-09-30 00:00:00 46082.34441696816 46.08234441696816\n",
      "2022-10-31 00:00:00 46923.41622252769 46.92341622252769\n",
      "2022-11-30 00:00:00 40258.848988833546 40.25884898883355\n",
      "2022-12-30 00:00:00 39807.05183268179 39.80705183268179\n",
      "2023-01-31 00:00:00 51653.49988812969 51.653499888129694\n",
      "2023-02-28 00:00:00 51842.19626129376 51.84219626129376\n",
      "2023-03-31 00:00:00 67952.0973330022 67.9520973330022\n",
      "2023-04-28 00:00:00 68634.34874699854 68.63434874699854\n",
      "2023-05-31 00:00:00 75827.50019663776 75.82750019663776\n",
      "2023-06-30 00:00:00 78301.83450178507 78.30183450178507\n",
      "2023-07-31 00:00:00 87964.11416778431 87.96411416778432\n",
      "2023-08-31 00:00:00 78075.22904276603 78.07522904276604\n",
      "2023-09-29 00:00:00 87157.43155237784 87.15743155237783\n",
      "2023-10-31 00:00:00 95890.08424234287 95.89008424234287\n",
      "2023-11-30 00:00:00 102728.70573038812 102.72870573038811\n",
      "2023-12-29 00:00:00 118309.7879996296 118.30978799962959\n",
      "2024-01-31 00:00:00 118125.73403933557 118.12573403933557\n",
      "2024-02-29 00:00:00 149508.51690552844 149.50851690552844\n",
      "2024-03-29 00:00:00 153523.7761443383 153.5237761443383\n",
      "2024-04-30 00:00:00 145904.57579478598 145.90457579478598\n",
      "2024-05-31 00:00:00 138413.4186618321 138.4134186618321\n",
      "2024-06-28 00:00:00 140722.549870522 140.722549870522\n",
      "2024-07-31 00:00:00 152327.20256411762 152.3272025641176\n",
      "2024-08-30 00:00:00 168703.91932993563 168.70391932993562\n",
      "2024-09-30 00:00:00 172482.06521211276 172.48206521211276\n",
      "2024-10-31 00:00:00 176253.53871349225 176.25353871349225\n",
      "2024-11-29 00:00:00 257172.66180578576 257.17266180578576\n",
      "2024-12-31 00:00:00 282514.3843484779 282.5143843484779\n",
      "2025-01-31 00:00:00 305859.81526879105 305.85981526879107\n",
      "2025-02-23 00:00:00 284184.1785848568 284.1841785848568\n"
     ]
    },
    {
     "name": "stderr",
     "output_type": "stream",
     "text": [
      "C:\\Users\\Admin\\AppData\\Local\\Temp\\ipykernel_2400\\3371734425.py:5: FutureWarning: The default fill_method='pad' in DataFrame.pct_change is deprecated and will be removed in a future version. Either fill in any non-leading NA values prior to calling pct_change or specify 'fill_method=None' to not fill NA values.\n",
      "  perf=dataframe.pct_change()\n"
     ]
    }
   ],
   "source": [
    "tracking={}\n",
    "portfolio={}\n",
    "investment_amount=1000\n",
    "initial_amount=investment_amount\n",
    "perf=dataframe.pct_change()\n",
    "transaction_fee=0.005\n",
    "\n",
    "weight_dict={col: 1/returns_to_use.shape[1] for col in returns_to_use.columns}\n",
    "\n",
    "\n",
    "for i in range(len(dates_end)-1):\n",
    "    \n",
    "    print(dates_end[i],investment_amount,investment_amount/initial_amount)\n",
    "\n",
    "    \n",
    "    temp=dataframe.loc[dates_end[i]:dates_end[i+1]].copy()\n",
    "    initial_price=temp.iloc[0].to_dict()\n",
    "\n",
    "    if dates_end[i]>dates_end[0]:\n",
    "\n",
    "        top50=rolling_optimization.loc[dates_end[i]]\n",
    "        top50_dict=rolling_optimization.loc[dates_end[i]].to_dict()\n",
    "        weight_dict={}\n",
    "\n",
    "        for key in temp.columns:\n",
    "\n",
    "            if key in top50_dict: \n",
    "                weight_dict[key]=top50_dict[key]\n",
    "            else:\n",
    "                weight_dict[key]=0\n",
    "      \n",
    "                \n",
    "    weight_vec=np.array(list(weight_dict.values()))\n",
    "    \n",
    "    inital_investment_per_stock={}\n",
    "    shares={}\n",
    "\n",
    "    for col in temp.columns:\n",
    "        \n",
    "        weighted_perf=weight_vec*perf.loc[dates_end[i]]\n",
    "        \n",
    "        inital_investment_per_stock[col]=weight_dict[col]*investment_amount*(1+weighted_perf.sum())\n",
    "        shares[col]=inital_investment_per_stock[col]*(1-transaction_fee)/initial_price[col]\n",
    "\n",
    "    tracking[dates_end[i]]=(weight_dict,shares,investment_amount,initial_price)\n",
    "\n",
    "    temp=temp*shares    \n",
    "    portfolio[dates_end[i]]=temp\n",
    "    investment_amount=temp.iloc[-1].sum()\n",
    "    \n",
    "\n",
    "temp=dataframe.loc[dates_end[-2]:]*shares\n",
    "portfolio[dates_end[-1]]=temp"
   ]
  },
  {
   "cell_type": "code",
   "execution_count": 20,
   "id": "4c2efad0-386c-4162-a2b4-12005328a993",
   "metadata": {},
   "outputs": [],
   "source": [
    "historical_portfolio=pd.DataFrame()\n",
    "performance=pd.DataFrame()\n",
    "for key in portfolio.keys():\n",
    "    historical_portfolio=historical_portfolio.combine_first(portfolio[key])"
   ]
  },
  {
   "cell_type": "code",
   "execution_count": 21,
   "id": "ed2c20c5-e274-4bd7-9785-60a2fdb12411",
   "metadata": {},
   "outputs": [
    {
     "data": {
      "text/plain": [
       "2020-01-01      1001.345456\n",
       "2020-01-02       969.339477\n",
       "2020-01-03      1015.613849\n",
       "2020-01-04      1026.357950\n",
       "2020-01-05      1032.823877\n",
       "                  ...      \n",
       "2025-02-20    286946.841491\n",
       "2025-02-21    281112.530179\n",
       "2025-02-22    287112.815753\n",
       "2025-02-23    284184.178585\n",
       "2025-02-24    273672.614869\n",
       "Length: 1882, dtype: float64"
      ]
     },
     "execution_count": 21,
     "metadata": {},
     "output_type": "execute_result"
    }
   ],
   "source": [
    "historical_portfolio.sum(axis=1)"
   ]
  },
  {
   "cell_type": "code",
   "execution_count": 22,
   "id": "b29405d8-968f-4679-84f6-af00716bb934",
   "metadata": {},
   "outputs": [
    {
     "data": {
      "text/plain": [
       "<Axes: >"
      ]
     },
     "execution_count": 22,
     "metadata": {},
     "output_type": "execute_result"
    },
    {
     "data": {
      "image/png": "[encoded data removed]",
      "text/plain": [
       "<Figure size 640x480 with 1 Axes>"
      ]
     },
     "metadata": {},
     "output_type": "display_data"
    }
   ],
   "source": [
    "performance['Fund']=historical_portfolio.sum(axis=1)\n",
    "performance['Bitcoin']=dataframe['BTCUSDT']\n",
    "#performance['Mantra']=dataframe['OMUSDT']\n",
    "\n",
    "performance_pct=performance.copy()\n",
    "performance_pct=performance_pct.pct_change()\n",
    "\n",
    "(1+performance_pct.iloc[:-2]).cumprod().plot()"
   ]
  },
  {
   "cell_type": "code",
   "execution_count": 23,
   "id": "4afef5b7-9c4d-4f05-b4c8-1dc86d00c1b7",
   "metadata": {},
   "outputs": [],
   "source": [
    "years=sorted(list(set(performance.index.year)))\n",
    "\n",
    "month_year=performance.index.strftime('%Y-%m')\n",
    "month_year=sorted(list(set(month_year)))"
   ]
  },
  {
   "cell_type": "code",
   "execution_count": 73,
   "id": "5c2cc86d-dc0d-4255-995a-35ee33c6b674",
   "metadata": {},
   "outputs": [
    {
     "data": {
      "text/plain": [
       "<Axes: >"
      ]
     },
     "execution_count": 73,
     "metadata": {},
     "output_type": "execute_result"
    },
    {
     "data": {
      "image/png": "[encoded data removed]",
      "text/plain": [
       "<Figure size 640x480 with 1 Axes>"
      ]
     },
     "metadata": {},
     "output_type": "display_data"
    }
   ],
   "source": [
    "(1+performance_pct.loc['2024':]).cumprod().plot()"
   ]
  },
  {
   "cell_type": "code",
   "execution_count": 25,
   "id": "08977b3b-e104-4556-becf-d95cfa66d47b",
   "metadata": {},
   "outputs": [],
   "source": [
    "year_returns={}\n",
    "for year in years:\n",
    "\n",
    "    perf_year=performance.loc[str(year)].iloc[-1]/performance.loc[str(year)].iloc[0]-1\n",
    "    year_returns[year]=perf_year\n",
    "\n",
    "year_returns[years[-1]]=performance.loc[str(years[-1])].iloc[-2]/performance.loc[str(years[-1])].iloc[0]-1"
   ]
  },
  {
   "cell_type": "code",
   "execution_count": 26,
   "id": "df2b79a1-b05c-4654-8e18-9db5fe4dec25",
   "metadata": {},
   "outputs": [
    {
     "data": {
      "text/html": [
       "<div>\n",
       "<style scoped>\n",
       "    .dataframe tbody tr th:only-of-type {\n",
       "        vertical-align: middle;\n",
       "    }\n",
       "\n",
       "    .dataframe tbody tr th {\n",
       "        vertical-align: top;\n",
       "    }\n",
       "\n",
       "    .dataframe thead th {\n",
       "        text-align: right;\n",
       "    }\n",
       "</style>\n",
       "<table border=\"1\" class=\"dataframe\">\n",
       "  <thead>\n",
       "    <tr style=\"text-align: right;\">\n",
       "      <th></th>\n",
       "      <th>2020</th>\n",
       "      <th>2021</th>\n",
       "      <th>2022</th>\n",
       "      <th>2023</th>\n",
       "      <th>2024</th>\n",
       "      <th>2025</th>\n",
       "    </tr>\n",
       "  </thead>\n",
       "  <tbody>\n",
       "    <tr>\n",
       "      <th>Fund</th>\n",
       "      <td>4.405776</td>\n",
       "      <td>16.972108</td>\n",
       "      <td>-0.592852</td>\n",
       "      <td>1.949954</td>\n",
       "      <td>1.375387</td>\n",
       "      <td>-0.006580</td>\n",
       "    </tr>\n",
       "    <tr>\n",
       "      <th>Bitcoin</th>\n",
       "      <td>3.016697</td>\n",
       "      <td>0.575665</td>\n",
       "      <td>-0.653364</td>\n",
       "      <td>1.544636</td>\n",
       "      <td>1.118084</td>\n",
       "      <td>0.017615</td>\n",
       "    </tr>\n",
       "  </tbody>\n",
       "</table>\n",
       "</div>"
      ],
      "text/plain": [
       "             2020       2021      2022      2023      2024      2025\n",
       "Fund     4.405776  16.972108 -0.592852  1.949954  1.375387 -0.006580\n",
       "Bitcoin  3.016697   0.575665 -0.653364  1.544636  1.118084  0.017615"
      ]
     },
     "execution_count": 26,
     "metadata": {},
     "output_type": "execute_result"
    }
   ],
   "source": [
    "year_returns_dataframe=pd.DataFrame(year_returns)\n",
    "year_returns_dataframe"
   ]
  },
  {
   "cell_type": "code",
   "execution_count": 27,
   "id": "665b2193-ec24-402e-942d-6befc099ec83",
   "metadata": {},
   "outputs": [],
   "source": [
    "month_returns={}\n",
    "for month in month_year:\n",
    "\n",
    "    perf_year=performance.loc[str(month)].iloc[-1]/performance.loc[str(month)].iloc[0]-1\n",
    "    month_returns[month]=perf_year\n",
    "\n",
    "month_returns[month]=performance.loc[str(month_year[-1])].iloc[-2]/performance.loc[str(month_year[-1])].iloc[0]-1"
   ]
  },
  {
   "cell_type": "code",
   "execution_count": 28,
   "id": "b8720fc8-d210-4524-82db-ee1fb0268710",
   "metadata": {},
   "outputs": [
    {
     "data": {
      "text/html": [
       "<div>\n",
       "<style scoped>\n",
       "    .dataframe tbody tr th:only-of-type {\n",
       "        vertical-align: middle;\n",
       "    }\n",
       "\n",
       "    .dataframe tbody tr th {\n",
       "        vertical-align: top;\n",
       "    }\n",
       "\n",
       "    .dataframe thead th {\n",
       "        text-align: right;\n",
       "    }\n",
       "</style>\n",
       "<table border=\"1\" class=\"dataframe\">\n",
       "  <thead>\n",
       "    <tr style=\"text-align: right;\">\n",
       "      <th></th>\n",
       "      <th>2020-01</th>\n",
       "      <th>2020-02</th>\n",
       "      <th>2020-03</th>\n",
       "      <th>2020-04</th>\n",
       "      <th>2020-05</th>\n",
       "      <th>2020-06</th>\n",
       "      <th>2020-07</th>\n",
       "      <th>2020-08</th>\n",
       "      <th>2020-09</th>\n",
       "      <th>2020-10</th>\n",
       "      <th>...</th>\n",
       "      <th>2024-05</th>\n",
       "      <th>2024-06</th>\n",
       "      <th>2024-07</th>\n",
       "      <th>2024-08</th>\n",
       "      <th>2024-09</th>\n",
       "      <th>2024-10</th>\n",
       "      <th>2024-11</th>\n",
       "      <th>2024-12</th>\n",
       "      <th>2025-01</th>\n",
       "      <th>2025-02</th>\n",
       "    </tr>\n",
       "  </thead>\n",
       "  <tbody>\n",
       "    <tr>\n",
       "      <th>Fund</th>\n",
       "      <td>0.390321</td>\n",
       "      <td>0.301385</td>\n",
       "      <td>-0.248649</td>\n",
       "      <td>0.333390</td>\n",
       "      <td>0.062600</td>\n",
       "      <td>-0.102272</td>\n",
       "      <td>0.398100</td>\n",
       "      <td>-0.013991</td>\n",
       "      <td>-0.095351</td>\n",
       "      <td>0.137320</td>\n",
       "      <td>...</td>\n",
       "      <td>-0.048278</td>\n",
       "      <td>0.027922</td>\n",
       "      <td>0.047577</td>\n",
       "      <td>0.135684</td>\n",
       "      <td>0.058098</td>\n",
       "      <td>0.071990</td>\n",
       "      <td>0.484732</td>\n",
       "      <td>0.080336</td>\n",
       "      <td>0.069191</td>\n",
       "      <td>-0.026363</td>\n",
       "    </tr>\n",
       "    <tr>\n",
       "      <th>Bitcoin</th>\n",
       "      <td>0.298859</td>\n",
       "      <td>-0.091746</td>\n",
       "      <td>-0.248649</td>\n",
       "      <td>0.297622</td>\n",
       "      <td>0.070388</td>\n",
       "      <td>-0.104131</td>\n",
       "      <td>0.227844</td>\n",
       "      <td>-0.012851</td>\n",
       "      <td>-0.096073</td>\n",
       "      <td>0.298694</td>\n",
       "      <td>...</td>\n",
       "      <td>0.157201</td>\n",
       "      <td>-0.073706</td>\n",
       "      <td>0.027472</td>\n",
       "      <td>-0.097623</td>\n",
       "      <td>0.105158</td>\n",
       "      <td>0.156009</td>\n",
       "      <td>0.387245</td>\n",
       "      <td>-0.037137</td>\n",
       "      <td>0.082859</td>\n",
       "      <td>-0.043500</td>\n",
       "    </tr>\n",
       "  </tbody>\n",
       "</table>\n",
       "<p>2 rows × 62 columns</p>\n",
       "</div>"
      ],
      "text/plain": [
       "          2020-01   2020-02   2020-03   2020-04   2020-05   2020-06   2020-07  \\\n",
       "Fund     0.390321  0.301385 -0.248649  0.333390  0.062600 -0.102272  0.398100   \n",
       "Bitcoin  0.298859 -0.091746 -0.248649  0.297622  0.070388 -0.104131  0.227844   \n",
       "\n",
       "          2020-08   2020-09   2020-10  ...   2024-05   2024-06   2024-07  \\\n",
       "Fund    -0.013991 -0.095351  0.137320  ... -0.048278  0.027922  0.047577   \n",
       "Bitcoin -0.012851 -0.096073  0.298694  ...  0.157201 -0.073706  0.027472   \n",
       "\n",
       "          2024-08   2024-09   2024-10   2024-11   2024-12   2025-01   2025-02  \n",
       "Fund     0.135684  0.058098  0.071990  0.484732  0.080336  0.069191 -0.026363  \n",
       "Bitcoin -0.097623  0.105158  0.156009  0.387245 -0.037137  0.082859 -0.043500  \n",
       "\n",
       "[2 rows x 62 columns]"
      ]
     },
     "execution_count": 28,
     "metadata": {},
     "output_type": "execute_result"
    }
   ],
   "source": [
    "month_returns_dataframe=pd.DataFrame(month_returns)\n",
    "month_returns_dataframe"
   ]
  },
  {
   "cell_type": "code",
   "execution_count": 29,
   "id": "1319d512-3587-4f23-a4e6-acd4f33a64c2",
   "metadata": {},
   "outputs": [],
   "source": [
    "metrics={}\n",
    "metrics['Tracking Error']=(performance_pct['Fund']-performance_pct['Bitcoin']).std()*np.sqrt(252)\n",
    "metrics['Fund Vol']=performance_pct['Fund'].std()*np.sqrt(252)\n",
    "metrics['Bench Vol']=performance_pct['Bitcoin'].std()*np.sqrt(252)\n",
    "metrics['Fund Return']=performance['Fund'].iloc[-2]/performance['Fund'].iloc[0]\n",
    "metrics['Bench Return']=performance['Bitcoin'].iloc[-2]/performance['Bitcoin'].iloc[0]\n",
    "metrics['Sharpe Ratio']=(1+metrics['Fund Return'])**(1/len(set(returns_to_use.index.year)))/metrics['Fund Vol']"
   ]
  },
  {
   "cell_type": "code",
   "execution_count": 30,
   "id": "46008c02-0ceb-4e51-a3f8-6e3d5cf31eac",
   "metadata": {},
   "outputs": [
    {
     "data": {
      "text/html": [
       "<div>\n",
       "<style scoped>\n",
       "    .dataframe tbody tr th:only-of-type {\n",
       "        vertical-align: middle;\n",
       "    }\n",
       "\n",
       "    .dataframe tbody tr th {\n",
       "        vertical-align: top;\n",
       "    }\n",
       "\n",
       "    .dataframe thead th {\n",
       "        text-align: right;\n",
       "    }\n",
       "</style>\n",
       "<table border=\"1\" class=\"dataframe\">\n",
       "  <thead>\n",
       "    <tr style=\"text-align: right;\">\n",
       "      <th></th>\n",
       "      <th>Indicators</th>\n",
       "    </tr>\n",
       "  </thead>\n",
       "  <tbody>\n",
       "    <tr>\n",
       "      <th>Tracking Error</th>\n",
       "      <td>0.549528</td>\n",
       "    </tr>\n",
       "    <tr>\n",
       "      <th>Fund Vol</th>\n",
       "      <td>0.724391</td>\n",
       "    </tr>\n",
       "    <tr>\n",
       "      <th>Bench Vol</th>\n",
       "      <td>0.535308</td>\n",
       "    </tr>\n",
       "    <tr>\n",
       "      <th>Fund Return</th>\n",
       "      <td>283.802335</td>\n",
       "    </tr>\n",
       "    <tr>\n",
       "      <th>Bench Return</th>\n",
       "      <td>13.367589</td>\n",
       "    </tr>\n",
       "    <tr>\n",
       "      <th>Sharpe Ratio</th>\n",
       "      <td>3.095108</td>\n",
       "    </tr>\n",
       "  </tbody>\n",
       "</table>\n",
       "</div>"
      ],
      "text/plain": [
       "                Indicators\n",
       "Tracking Error    0.549528\n",
       "Fund Vol          0.724391\n",
       "Bench Vol         0.535308\n",
       "Fund Return     283.802335\n",
       "Bench Return     13.367589\n",
       "Sharpe Ratio      3.095108"
      ]
     },
     "execution_count": 30,
     "metadata": {},
     "output_type": "execute_result"
    }
   ],
   "source": [
    "indicators=pd.DataFrame(metrics.values(),index=metrics.keys(),columns=['Indicators'])\n",
    "indicators"
   ]
  },
  {
   "cell_type": "code",
   "execution_count": 31,
   "id": "9a0e956d-e188-4c4d-94e1-8cb2ac613b8c",
   "metadata": {},
   "outputs": [
    {
     "data": {
      "text/plain": [
       "{'ADAUSDT': 0.121981,\n",
       " 'BCHUSDT': 0.0,\n",
       " 'BNBUSDT': 0.0,\n",
       " 'BTCUSDT': 0.878019,\n",
       " 'DOGEUSDT': 0.0,\n",
       " 'ETHUSDT': 0.0,\n",
       " 'HBARUSDT': 0.0,\n",
       " 'LINKUSDT': 0.0,\n",
       " 'LTCUSDT': 0.0,\n",
       " 'TRXUSDT': 0.0,\n",
       " 'USDCUSDT': 0.0,\n",
       " 'XLMUSDT': 0.0,\n",
       " 'XRPUSDT': 0.0}"
      ]
     },
     "execution_count": 31,
     "metadata": {},
     "output_type": "execute_result"
    }
   ],
   "source": [
    "tracking[dates_end[-2]][0]"
   ]
  },
  {
   "cell_type": "code",
   "execution_count": null,
   "id": "bc1f6e9d-6041-4f76-a6e9-cde1251c4e36",
   "metadata": {},
   "outputs": [],
   "source": []
  },
  {
   "cell_type": "code",
   "execution_count": null,
   "id": "a87c7149-472a-44ae-bf92-b3dfbc1a5a9e",
   "metadata": {},
   "outputs": [],
   "source": []
  },
  {
   "cell_type": "code",
   "execution_count": null,
   "id": "8b9d6234-f3fe-424a-b165-cdef2a7530ff",
   "metadata": {},
   "outputs": [],
   "source": []
  },
  {
   "cell_type": "code",
   "execution_count": null,
   "id": "2799f797-2aef-4aa7-b0c9-93b8e0f10ef8",
   "metadata": {},
   "outputs": [],
   "source": []
  }
 ],
 "metadata": {
  "kernelspec": {
   "display_name": "Python [conda env:base] *",
   "language": "python",
   "name": "conda-base-py"
  },
  "language_info": {
   "codemirror_mode": {
    "name": "ipython",
    "version": 3
   },
   "file_extension": ".py",
   "mimetype": "text/x-python",
   "name": "python",
   "nbconvert_exporter": "python",
   "pygments_lexer": "ipython3",
   "version": "3.12.3"
  }
 },
 "nbformat": 4,
 "nbformat_minor": 5
}
