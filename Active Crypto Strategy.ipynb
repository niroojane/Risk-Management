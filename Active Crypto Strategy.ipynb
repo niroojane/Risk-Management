{
 "cells": [
  {
   "cell_type": "markdown",
   "id": "ae6785e3-e1f1-49f3-acc2-8f4fbc781b5c",
   "metadata": {},
   "source": [
    "# Importing libraries"
   ]
  },
  {
   "cell_type": "code",
   "execution_count": 2,
   "id": "85cc9784-63e4-4502-8b3e-01835d286974",
   "metadata": {},
   "outputs": [],
   "source": [
    "import pandas as pd\n",
    "import random\n",
    "import numpy as np\n",
    "import matplotlib.pyplot as plt\n",
    "import datetime\n",
    "import seaborn as sns\n",
    "from Binance_API import BinanceAPI\n",
    "from RiskMetrics import RiskAnalysis\n",
    "import yfinance as yf\n",
    "from Stock_Data import get_close\n",
    "\n",
    "from Git import *"
   ]
  },
  {
   "cell_type": "code",
   "execution_count": 3,
   "id": "1872d13f-26a9-4f68-bb6b-5584ae9cfe8a",
   "metadata": {},
   "outputs": [],
   "source": [
    "Binance=BinanceAPI(binance_api_key,binance_api_secret)\n",
    "git=GitHub(token,repo_owner,repo_name,branch)"
   ]
  },
  {
   "cell_type": "markdown",
   "id": "46a0cf6e-ae4d-4a19-afff-a5d47c41d68c",
   "metadata": {},
   "source": [
    "# Importing Data"
   ]
  },
  {
   "cell_type": "code",
   "execution_count": 5,
   "id": "69b4b84c-829b-488f-be25-1bc9f998c6f8",
   "metadata": {},
   "outputs": [],
   "source": [
    "start_date=datetime.datetime(2020,1,1)\n",
    "today=datetime.datetime.today()"
   ]
  },
  {
   "cell_type": "code",
   "execution_count": 6,
   "id": "f9718c11-469f-4979-a6a1-ed80d983fd09",
   "metadata": {},
   "outputs": [
    {
     "data": {
      "text/plain": [
       "1996"
      ]
     },
     "execution_count": 6,
     "metadata": {},
     "output_type": "execute_result"
    }
   ],
   "source": [
    "days=(today-start_date).days\n",
    "days"
   ]
  },
  {
   "cell_type": "code",
   "execution_count": 7,
   "id": "23578fa9-0e99-4e85-8c08-6d531325758e",
   "metadata": {},
   "outputs": [],
   "source": [
    "remaining=days%500\n",
    "numbers_of_table=days//500"
   ]
  },
  {
   "cell_type": "code",
   "execution_count": 8,
   "id": "2eb09d4d-0712-409e-857e-3a7b33203fc1",
   "metadata": {},
   "outputs": [],
   "source": [
    "tickers=Binance.get_market_cap()['Ticker'].iloc[:30].to_list()\n"
   ]
  },
  {
   "cell_type": "code",
   "execution_count": 9,
   "id": "b8eed393-b826-4437-a594-09755dda701a",
   "metadata": {},
   "outputs": [],
   "source": [
    "temp_end=start_date\n",
    "scope_prices=pd.DataFrame()\n",
    "for i in range(numbers_of_table+1):\n",
    "    data=Binance.get_price(tickers,temp_end)\n",
    "    temp_end=temp_end+datetime.timedelta(500)\n",
    "    scope_prices=scope_prices.combine_first(data)\n",
    "    \n",
    "temp_end=(today-datetime.timedelta(days))\n",
    "data=Binance.get_price(tickers,temp_end)\n",
    "scope_prices=scope_prices.combine_first(data)\n",
    "scope_prices=scope_prices.sort_index()\n",
    "scope_prices = scope_prices[~scope_prices.index.duplicated(keep='first')]\n",
    "scope_prices.index=pd.to_datetime(scope_prices.index)"
   ]
  },
  {
   "cell_type": "code",
   "execution_count": 10,
   "id": "c2ead62d-77dc-4e4b-b79b-95ea83cc6020",
   "metadata": {},
   "outputs": [],
   "source": [
    "market_data_us=get_close(['SPY','GOLD.PA','BTC-USD'],start=start_date.strftime(\"%Y-%m-%d\"),end=today.strftime(\"%Y-%m-%d\"))\n",
    "market_data_us.index=pd.to_datetime(market_data_us.index)\n",
    "market_data_us = market_data_us[~market_data_us.index.duplicated(keep='first')]\n",
    "market_data_us=market_data_us.sort_index().dropna()\n",
    "market_data_us_returns=market_data_us.pct_change().sort_index()"
   ]
  },
  {
   "cell_type": "code",
   "execution_count": 11,
   "id": "18adb067-70ee-4fee-9f40-57cd5ab6f444",
   "metadata": {},
   "outputs": [],
   "source": [
    "# tickers=['BTC-USD','ETH-USD','XRP-USD','BNB-USD','SOL-USD','DOGE-USD','TRX-USD','WTRX-USD','STETH-USD','ADA-USD','HYPE32196-USD',\n",
    "#         'WBTC-USD','WSTETH-USD','SUI20947-USD','BCH-USD','LINK-USD']\n",
    "# scope_prices=get_close(tickers,start=start_date.strftime(\"%Y-%m-%d\"),end=today.strftime(\"%Y-%m-%d\"))\n",
    "# scope_prices.index=pd.to_datetime(scope_prices.index)\n",
    "# scope_prices= scope_prices[~scope_prices.index.duplicated(keep='first')]\n",
    "# scope_prices=scope_prices.sort_index().dropna()"
   ]
  },
  {
   "cell_type": "code",
   "execution_count": 12,
   "id": "f37f5a26-c6fb-420b-bb68-7516908da723",
   "metadata": {},
   "outputs": [],
   "source": [
    "# prices=prices.loc[market_data_us.index]\n",
    "# prices['GOLD.PA']=market_data_us['GOLD.PA']"
   ]
  },
  {
   "cell_type": "code",
   "execution_count": 13,
   "id": "7a983ad2-29cd-4a0c-b8b0-9b934a35d73d",
   "metadata": {},
   "outputs": [],
   "source": [
    "# correlation_btc=market_data_us_returns['GOLD.PA'].rolling(30).corr(market_data_us_returns['BTC-USD']).dropna()\n",
    "# correlation_spy=market_data_us_returns['GOLD.PA'].rolling(30).corr(market_data_us_returns['SPY']).dropna()\n",
    "\n",
    "# beta=(pct_change['GOLD.PA'].rolling(30).cov(pct_change['BTC-USD']).dropna()/pct_change['BTC-USD'].rolling(30).var().dropna())"
   ]
  },
  {
   "cell_type": "code",
   "execution_count": 14,
   "id": "b11b66e4-1e84-4b0f-82eb-5287a4de1942",
   "metadata": {},
   "outputs": [],
   "source": [
    "# info=pd.DataFrame()\n",
    "# info['Correlation SPY']=correlation_spy\n",
    "# info['Correlation BTC']=correlation_btc"
   ]
  },
  {
   "cell_type": "code",
   "execution_count": 15,
   "id": "a7dd5d05-f6ba-41d5-9470-9b583b1dc4f3",
   "metadata": {},
   "outputs": [],
   "source": [
    "# info.iloc[-30:]"
   ]
  },
  {
   "cell_type": "code",
   "execution_count": 16,
   "id": "c53c3369-06b3-48be-a1e6-2430709181ee",
   "metadata": {},
   "outputs": [],
   "source": [
    "# info.plot()"
   ]
  },
  {
   "cell_type": "code",
   "execution_count": 17,
   "id": "2f6ce0ec-e216-4c3f-81c0-061cd87f0ee0",
   "metadata": {},
   "outputs": [],
   "source": [
    "tickers2=Binance.get_market_cap()['Ticker'].iloc[:20].to_list()\n",
    "prices=scope_prices[tickers2]\n"
   ]
  },
  {
   "cell_type": "code",
   "execution_count": 18,
   "id": "8fd735ea-b5e7-4ca5-a825-24f89e43a9db",
   "metadata": {},
   "outputs": [],
   "source": [
    "returns=np.log(1+prices.pct_change(fill_method=None))\n",
    "returns.index=pd.to_datetime(returns.index)\n",
    "with_no_na=returns.columns[np.where((returns.isna().sum()<30))]\n",
    "returns_to_use=returns[with_no_na].sort_index()\n"
   ]
  },
  {
   "cell_type": "code",
   "execution_count": 19,
   "id": "7ce1e5ed-17d2-43f5-ad7b-c8f994bc394d",
   "metadata": {},
   "outputs": [],
   "source": [
    "dataframe=prices[with_no_na].sort_index()\n",
    "dataframe.index=pd.to_datetime(dataframe.index)"
   ]
  },
  {
   "cell_type": "code",
   "execution_count": 20,
   "id": "f0c39838-90d6-411d-8986-e65298484d8f",
   "metadata": {},
   "outputs": [],
   "source": [
    "returns_to_use.index=pd.to_datetime(returns_to_use.index)\n",
    "returns_to_use = returns_to_use[~returns_to_use.index.duplicated(keep='first')]"
   ]
  },
  {
   "cell_type": "markdown",
   "id": "1841f2b4-c521-4198-9e5c-0c38478bbcd3",
   "metadata": {},
   "source": [
    "# Strategy Backtesting"
   ]
  },
  {
   "cell_type": "code",
   "execution_count": 22,
   "id": "1bd8372a-a8c6-4398-b722-9664e1e9f65b",
   "metadata": {},
   "outputs": [],
   "source": [
    "month=list(sorted(set(returns_to_use.index + pd.offsets.BMonthEnd(0))))\n",
    "#month_end=pd.to_datetime(mrat_wo_na.index)\n",
    "month = pd.to_datetime(month)\n",
    "\n",
    "idx1 = pd.Index(returns_to_use.iloc[:-1].index)\n",
    "idx2 = pd.Index(month)\n",
    "closest_dates = idx1[idx1.get_indexer(idx2, method='nearest')]\n",
    "\n",
    "dates_end=list(closest_dates)\n",
    "dates_end.insert(0,returns_to_use.index[1])\n",
    "dates_end.append(returns_to_use.index[-1])\n",
    "dates_end=sorted(list(set(dates_end)))\n",
    "dates_end.pop(0)\n",
    "dates_end=sorted(list(set(dates_end)))"
   ]
  },
  {
   "cell_type": "code",
   "execution_count": null,
   "id": "8cfbaed8-81cf-4414-8cac-f32ef74a9b93",
   "metadata": {},
   "outputs": [],
   "source": []
  },
  {
   "cell_type": "code",
   "execution_count": 23,
   "id": "0798d1f3-c2fc-41b5-ad2a-a9e14ed190ad",
   "metadata": {
    "scrolled": true
   },
   "outputs": [],
   "source": [
    "results={}\n",
    "\n",
    "if 'USDCUSDT' in returns_to_use.columns:\n",
    "    \n",
    "    cash=np.where(returns_to_use.columns=='USDCUSDT')[0][0]\n",
    "\n",
    "else:\n",
    "\n",
    "    cash=[]\n",
    "# gold_positions=np.where(returns_to_use.columns=='GOLD.PA')[0][0]\n",
    "#om_limit=np.where(returns_to_use.columns=='OMUSDT')[0][0]"
   ]
  },
  {
   "cell_type": "code",
   "execution_count": 24,
   "id": "6a4dcac9-53ab-4a96-af80-c5b6422e51b2",
   "metadata": {
    "scrolled": true
   },
   "outputs": [],
   "source": [
    "for i in range(len(dates_end)-1):\n",
    "    \n",
    "    try:\n",
    "        dataset=returns_to_use.loc[dates_end[i]:dates_end[i+1]]        \n",
    "        risk=RiskAnalysis(dataset)\n",
    "        date=dataset.index[-1]\n",
    "        \n",
    "        optimal=risk.optimize(objective='minimum_variance',constraints=[{'type': 'eq', 'fun': lambda weights: weights[cash]-0.00}#,\n",
    "                                                                       ])# {'type': 'eq', 'fun': lambda weights: weights[gold_positions]-0.00}])\n",
    "        \n",
    "        results[date]=np.round(optimal,6)\n",
    "        \n",
    "    except Exception as e:\n",
    "        \n",
    "        pass"
   ]
  },
  {
   "cell_type": "code",
   "execution_count": 25,
   "id": "487d53a2-a79b-4ce5-8b6f-86d911847ad7",
   "metadata": {},
   "outputs": [],
   "source": [
    "rolling_optimization=pd.DataFrame(results,index=dataframe.columns).T\n",
    "rolling_optimization.loc[dates_end[0]]=1/len(dataframe.columns)\n",
    "rolling_optimization=rolling_optimization.sort_index()\n",
    "\n",
    "# correlation_threshold=0.5\n",
    "# gold_limit=0.0\n",
    "rolling_optimization_adjusted=rolling_optimization.copy()\n",
    "\n",
    "# correlation=pd.DataFrame(index=dates_end)\n",
    "# correlation['Correlation']=correlation_spy\n",
    "# correlation=correlation.ffill().bfill()"
   ]
  },
  {
   "cell_type": "code",
   "execution_count": 26,
   "id": "d9c631b2-6c48-458a-a00c-47d7a986ee4c",
   "metadata": {},
   "outputs": [],
   "source": [
    "# for date in dates_end:\n",
    "    \n",
    "#     if abs(correlation.loc[date].item())<correlation_threshold:\n",
    "        \n",
    "#         temp=rolling_optimization_adjusted.loc[date]\n",
    "#         sum_numerator=temp.loc[temp.index!='GOLD.PA'].sum()-gold_limit\n",
    "    \n",
    "#         normalized_weights=temp.loc[temp.index!='GOLD.PA']*sum_numerator\n",
    "#         normalized_weights['GOLD.PA']=gold_limit\n",
    "#         rolling_optimization_adjusted.loc[date]=normalized_weights\n",
    "#     else:\n",
    "        \n",
    "#         continue"
   ]
  },
  {
   "cell_type": "code",
   "execution_count": 27,
   "id": "6aa9de20-43f2-4713-bffb-28ee380975fe",
   "metadata": {},
   "outputs": [
    {
     "name": "stdout",
     "output_type": "stream",
     "text": [
      "2020-01-01 00:00:00 1 1.0\n",
      "2020-01-31 00:00:00 1.4195691510919428 1.4195691510919428\n",
      "2020-02-28 00:00:00 1.333033603760254 1.333033603760254\n",
      "2020-03-31 00:00:00 0.963663482475702 0.963663482475702\n",
      "2020-04-30 00:00:00 1.2991425553260936 1.2991425553260936\n",
      "2020-05-29 00:00:00 1.2374767690988069 1.2374767690988069\n",
      "2020-06-30 00:00:00 1.156901753258387 1.156901753258387\n",
      "2020-07-31 00:00:00 1.608182171097852 1.608182171097852\n",
      "2020-08-31 00:00:00 1.8520477284797923 1.8520477284797923\n",
      "2020-09-30 00:00:00 1.729934087605518 1.729934087605518\n",
      "2020-10-30 00:00:00 1.9555202760344519 1.9555202760344519\n",
      "2020-11-30 00:00:00 2.6240358727842072 2.6240358727842072\n",
      "2020-12-31 00:00:00 3.7722648662572418 3.7722648662572418\n",
      "2021-01-29 00:00:00 6.013161144349144 6.013161144349144\n",
      "2021-02-26 00:00:00 25.795761700839726 25.795761700839726\n",
      "2021-03-31 00:00:00 31.436812479520924 31.436812479520924\n",
      "2021-04-30 00:00:00 61.5533330468383 61.5533330468383\n",
      "2021-05-31 00:00:00 46.53504805295702 46.53504805295702\n",
      "2021-06-30 00:00:00 45.52774508935287 45.52774508935287\n",
      "2021-07-30 00:00:00 51.63184650882592 51.63184650882592\n",
      "2021-08-31 00:00:00 69.53630691640456 69.53630691640456\n",
      "2021-09-30 00:00:00 65.18331459736041 65.18331459736041\n",
      "2021-10-29 00:00:00 97.23500679515517 97.23500679515517\n",
      "2021-11-30 00:00:00 82.20322750476939 82.20322750476939\n",
      "2021-12-31 00:00:00 65.67485206932831 65.67485206932831\n",
      "2022-01-31 00:00:00 49.11457793903032 49.11457793903032\n",
      "2022-02-28 00:00:00 54.66869583541189 54.66869583541189\n",
      "2022-03-31 00:00:00 69.20490153398708 69.20490153398708\n",
      "2022-04-29 00:00:00 59.279227378333935 59.279227378333935\n",
      "2022-05-31 00:00:00 49.68789389511245 49.68789389511245\n",
      "2022-06-30 00:00:00 31.06841707284692 31.06841707284692\n",
      "2022-07-29 00:00:00 34.36617501674718 34.36617501674718\n",
      "2022-08-31 00:00:00 31.10762736997769 31.10762736997769\n",
      "2022-09-30 00:00:00 32.32128413706646 32.32128413706646\n",
      "2022-10-31 00:00:00 33.351362773587574 33.351362773587574\n",
      "2022-11-30 00:00:00 29.006747382830888 29.006747382830888\n",
      "2022-12-30 00:00:00 29.474063184405015 29.474063184405015\n",
      "2023-01-31 00:00:00 37.74333536949992 37.74333536949992\n",
      "2023-02-28 00:00:00 37.907796570939006 37.907796570939006\n",
      "2023-03-31 00:00:00 49.508589225641614 49.508589225641614\n",
      "2023-04-28 00:00:00 49.15833242263143 49.15833242263143\n",
      "2023-05-31 00:00:00 54.86659640302177 54.86659640302177\n",
      "2023-06-30 00:00:00 58.33755271324078 58.33755271324078\n",
      "2023-07-31 00:00:00 64.69319676328563 64.69319676328563\n",
      "2023-08-31 00:00:00 57.41532837876005 57.41532837876005\n",
      "2023-09-29 00:00:00 64.568131266753 64.568131266753\n",
      "2023-10-31 00:00:00 70.30049716626877 70.30049716626877\n",
      "2023-11-30 00:00:00 72.50319364944504 72.50319364944504\n",
      "2023-12-29 00:00:00 81.50893968336487 81.50893968336487\n",
      "2024-01-31 00:00:00 83.87485616538288 83.87485616538288\n",
      "2024-02-29 00:00:00 106.9728583397076 106.9728583397076\n",
      "2024-03-29 00:00:00 115.6033064999647 115.6033064999647\n",
      "2024-04-30 00:00:00 114.18485277740037 114.18485277740037\n",
      "2024-05-31 00:00:00 108.25979039491756 108.25979039491756\n",
      "2024-06-28 00:00:00 111.26439268520987 111.26439268520987\n",
      "2024-07-31 00:00:00 123.27404685859113 123.27404685859113\n",
      "2024-08-30 00:00:00 137.9013588986556 137.9013588986556\n",
      "2024-09-30 00:00:00 140.51304984204614 140.51304984204614\n",
      "2024-10-31 00:00:00 144.46343989214293 144.46343989214293\n",
      "2024-11-29 00:00:00 300.2402449075582 300.2402449075582\n",
      "2024-12-31 00:00:00 337.26552389132166 337.26552389132166\n",
      "2025-01-31 00:00:00 365.16631632285987 365.16631632285987\n",
      "2025-02-28 00:00:00 314.6792787269048 314.6792787269048\n",
      "2025-03-31 00:00:00 308.1634197585667 308.1634197585667\n",
      "2025-04-30 00:00:00 327.4558269977465 327.4558269977465\n",
      "2025-05-30 00:00:00 356.123077316724 356.123077316724\n",
      "2025-06-18 00:00:00 352.1173509189527 352.1173509189527\n"
     ]
    }
   ],
   "source": [
    "tracking={}\n",
    "portfolio={}\n",
    "investment_amount=1\n",
    "initial_amount=investment_amount\n",
    "perf=dataframe.pct_change(fill_method=None)\n",
    "transaction_fee=0.005\n",
    "gold_limit=0.05\n",
    "weight_dict={col: 1/returns_to_use.shape[1] for col in returns_to_use.columns}\n",
    "\n",
    "\n",
    "for i in range(len(dates_end)-1):\n",
    "    \n",
    "    print(dates_end[i],investment_amount,investment_amount/initial_amount)\n",
    "\n",
    "    \n",
    "    temp=dataframe.loc[dates_end[i]:dates_end[i+1]].copy()\n",
    "    initial_price=temp.iloc[0].to_dict()\n",
    "\n",
    "    if dates_end[i]>dates_end[0]:\n",
    "\n",
    "        top50=rolling_optimization_adjusted.loc[dates_end[i]]\n",
    "        top50_dict=rolling_optimization_adjusted.loc[dates_end[i]].to_dict()\n",
    "        weight_dict={}\n",
    "\n",
    "        for key in temp.columns:\n",
    "\n",
    "            if key in top50_dict: \n",
    "                weight_dict[key]=top50_dict[key]\n",
    "            else:\n",
    "                weight_dict[key]=0\n",
    "\n",
    "                \n",
    "    weight_vec=np.array(list(weight_dict.values()))\n",
    "    \n",
    "    inital_investment_per_stock={}\n",
    "    shares={}\n",
    "\n",
    "    for col in temp.columns:\n",
    "        \n",
    "        weighted_perf=weight_vec*perf.loc[dates_end[i]]\n",
    "        \n",
    "        inital_investment_per_stock[col]=weight_dict[col]*investment_amount*(1+weighted_perf.sum())\n",
    "        shares[col]=inital_investment_per_stock[col]*(1-transaction_fee)/initial_price[col]\n",
    "\n",
    "    tracking[dates_end[i]]=(weight_dict,shares,investment_amount,initial_price)\n",
    "\n",
    "    temp=temp*shares    \n",
    "    portfolio[dates_end[i]]=temp\n",
    "    investment_amount=temp.iloc[-1].sum()\n",
    "    \n",
    "\n",
    "temp=dataframe.loc[dates_end[-2]:]*shares\n",
    "portfolio[dates_end[-1]]=temp"
   ]
  },
  {
   "cell_type": "code",
   "execution_count": 28,
   "id": "4c2efad0-386c-4162-a2b4-12005328a993",
   "metadata": {},
   "outputs": [],
   "source": [
    "historical_portfolio=pd.DataFrame()\n",
    "performance=pd.DataFrame()\n",
    "for key in portfolio.keys():\n",
    "    historical_portfolio=historical_portfolio.combine_first(portfolio[key])"
   ]
  },
  {
   "cell_type": "code",
   "execution_count": 29,
   "id": "dce14309-8eb2-4089-8165-1f8edc9db5fb",
   "metadata": {},
   "outputs": [
    {
     "data": {
      "text/plain": [
       "<Axes: >"
      ]
     },
     "execution_count": 29,
     "metadata": {},
     "output_type": "execute_result"
    },
    {
     "data": {
      "image/png": "[encoded data removed]",
      "text/plain": [
       "<Figure size 640x480 with 1 Axes>"
      ]
     },
     "metadata": {},
     "output_type": "display_data"
    }
   ],
   "source": [
    "performance['Fund']=historical_portfolio.sum(axis=1)\n",
    "performance['Bitcoin']=dataframe['BTCUSDT']\n",
    "#performance['Mantra']=dataframe['OMUSDT']\n",
    "\n",
    "performance_pct=performance.copy()\n",
    "performance_pct=performance_pct.pct_change(fill_method=None)\n",
    "\n",
    "(1+performance_pct).cumprod().plot()"
   ]
  },
  {
   "cell_type": "code",
   "execution_count": 30,
   "id": "8388d5fc-69dd-46bb-b2eb-9bd115d0ba44",
   "metadata": {},
   "outputs": [
    {
     "data": {
      "text/plain": [
       "<Axes: >"
      ]
     },
     "execution_count": 30,
     "metadata": {},
     "output_type": "execute_result"
    },
    {
     "data": {
      "image/png": "[encoded data removed]",
      "text/plain": [
       "<Figure size 640x480 with 1 Axes>"
      ]
     },
     "metadata": {},
     "output_type": "display_data"
    }
   ],
   "source": [
    "(1+performance_pct.loc['2020':'2020']).cumprod().plot()"
   ]
  },
  {
   "cell_type": "code",
   "execution_count": 31,
   "id": "4afef5b7-9c4d-4f05-b4c8-1dc86d00c1b7",
   "metadata": {},
   "outputs": [],
   "source": [
    "years=sorted(list(set(performance.index.year)))\n",
    "\n",
    "month_year=performance.index.strftime('%Y-%m')\n",
    "month_year=sorted(list(set(month_year)))"
   ]
  },
  {
   "cell_type": "code",
   "execution_count": 32,
   "id": "5c2cc86d-dc0d-4255-995a-35ee33c6b674",
   "metadata": {},
   "outputs": [
    {
     "data": {
      "text/html": [
       "<div>\n",
       "<style scoped>\n",
       "    .dataframe tbody tr th:only-of-type {\n",
       "        vertical-align: middle;\n",
       "    }\n",
       "\n",
       "    .dataframe tbody tr th {\n",
       "        vertical-align: top;\n",
       "    }\n",
       "\n",
       "    .dataframe thead th {\n",
       "        text-align: right;\n",
       "    }\n",
       "</style>\n",
       "<table border=\"1\" class=\"dataframe\">\n",
       "  <thead>\n",
       "    <tr style=\"text-align: right;\">\n",
       "      <th></th>\n",
       "      <th>Fund</th>\n",
       "      <th>Bitcoin</th>\n",
       "    </tr>\n",
       "  </thead>\n",
       "  <tbody>\n",
       "    <tr>\n",
       "      <th>2020-01-01</th>\n",
       "      <td>NaN</td>\n",
       "      <td>NaN</td>\n",
       "    </tr>\n",
       "    <tr>\n",
       "      <th>2020-01-02</th>\n",
       "      <td>0.967075</td>\n",
       "      <td>0.967346</td>\n",
       "    </tr>\n",
       "    <tr>\n",
       "      <th>2020-01-03</th>\n",
       "      <td>1.017298</td>\n",
       "      <td>1.020013</td>\n",
       "    </tr>\n",
       "    <tr>\n",
       "      <th>2020-01-04</th>\n",
       "      <td>1.022611</td>\n",
       "      <td>1.021284</td>\n",
       "    </tr>\n",
       "    <tr>\n",
       "      <th>2020-01-05</th>\n",
       "      <td>1.025292</td>\n",
       "      <td>1.021928</td>\n",
       "    </tr>\n",
       "    <tr>\n",
       "      <th>...</th>\n",
       "      <td>...</td>\n",
       "      <td>...</td>\n",
       "    </tr>\n",
       "    <tr>\n",
       "      <th>2025-06-15</th>\n",
       "      <td>353.099198</td>\n",
       "      <td>14.664104</td>\n",
       "    </tr>\n",
       "    <tr>\n",
       "      <th>2025-06-16</th>\n",
       "      <td>354.356863</td>\n",
       "      <td>14.830823</td>\n",
       "    </tr>\n",
       "    <tr>\n",
       "      <th>2025-06-17</th>\n",
       "      <td>349.900574</td>\n",
       "      <td>14.519282</td>\n",
       "    </tr>\n",
       "    <tr>\n",
       "      <th>2025-06-18</th>\n",
       "      <td>351.618329</td>\n",
       "      <td>14.565889</td>\n",
       "    </tr>\n",
       "    <tr>\n",
       "      <th>2025-06-19</th>\n",
       "      <td>348.533766</td>\n",
       "      <td>14.522780</td>\n",
       "    </tr>\n",
       "  </tbody>\n",
       "</table>\n",
       "<p>1997 rows × 2 columns</p>\n",
       "</div>"
      ],
      "text/plain": [
       "                  Fund    Bitcoin\n",
       "2020-01-01         NaN        NaN\n",
       "2020-01-02    0.967075   0.967346\n",
       "2020-01-03    1.017298   1.020013\n",
       "2020-01-04    1.022611   1.021284\n",
       "2020-01-05    1.025292   1.021928\n",
       "...                ...        ...\n",
       "2025-06-15  353.099198  14.664104\n",
       "2025-06-16  354.356863  14.830823\n",
       "2025-06-17  349.900574  14.519282\n",
       "2025-06-18  351.618329  14.565889\n",
       "2025-06-19  348.533766  14.522780\n",
       "\n",
       "[1997 rows x 2 columns]"
      ]
     },
     "execution_count": 32,
     "metadata": {},
     "output_type": "execute_result"
    }
   ],
   "source": [
    "(1+performance_pct).cumprod()"
   ]
  },
  {
   "cell_type": "code",
   "execution_count": 33,
   "id": "08977b3b-e104-4556-becf-d95cfa66d47b",
   "metadata": {},
   "outputs": [],
   "source": [
    "year_returns={}\n",
    "for year in years:\n",
    "\n",
    "    perf_year=performance.loc[str(year)].iloc[-1]/performance.loc[str(year)].iloc[0]-1\n",
    "    year_returns[year]=perf_year\n",
    "\n",
    "year_returns[years[-1]]=performance.loc[str(years[-1])].iloc[-2]/performance.loc[str(years[-1])].iloc[0]-1"
   ]
  },
  {
   "cell_type": "code",
   "execution_count": 34,
   "id": "df2b79a1-b05c-4654-8e18-9db5fe4dec25",
   "metadata": {},
   "outputs": [
    {
     "data": {
      "text/html": [
       "<div>\n",
       "<style scoped>\n",
       "    .dataframe tbody tr th:only-of-type {\n",
       "        vertical-align: middle;\n",
       "    }\n",
       "\n",
       "    .dataframe tbody tr th {\n",
       "        vertical-align: top;\n",
       "    }\n",
       "\n",
       "    .dataframe thead th {\n",
       "        text-align: right;\n",
       "    }\n",
       "</style>\n",
       "<table border=\"1\" class=\"dataframe\">\n",
       "  <thead>\n",
       "    <tr style=\"text-align: right;\">\n",
       "      <th></th>\n",
       "      <th>2020</th>\n",
       "      <th>2021</th>\n",
       "      <th>2022</th>\n",
       "      <th>2023</th>\n",
       "      <th>2024</th>\n",
       "      <th>2025</th>\n",
       "    </tr>\n",
       "  </thead>\n",
       "  <tbody>\n",
       "    <tr>\n",
       "      <th>Fund</th>\n",
       "      <td>2.766919</td>\n",
       "      <td>16.193799</td>\n",
       "      <td>-0.552804</td>\n",
       "      <td>1.772581</td>\n",
       "      <td>3.101873</td>\n",
       "      <td>0.031062</td>\n",
       "    </tr>\n",
       "    <tr>\n",
       "      <th>Bitcoin</th>\n",
       "      <td>3.016697</td>\n",
       "      <td>0.575665</td>\n",
       "      <td>-0.653364</td>\n",
       "      <td>1.544636</td>\n",
       "      <td>1.118084</td>\n",
       "      <td>0.108836</td>\n",
       "    </tr>\n",
       "  </tbody>\n",
       "</table>\n",
       "</div>"
      ],
      "text/plain": [
       "             2020       2021      2022      2023      2024      2025\n",
       "Fund     2.766919  16.193799 -0.552804  1.772581  3.101873  0.031062\n",
       "Bitcoin  3.016697   0.575665 -0.653364  1.544636  1.118084  0.108836"
      ]
     },
     "execution_count": 34,
     "metadata": {},
     "output_type": "execute_result"
    }
   ],
   "source": [
    "year_returns_dataframe=pd.DataFrame(year_returns)\n",
    "year_returns_dataframe"
   ]
  },
  {
   "cell_type": "code",
   "execution_count": 35,
   "id": "665b2193-ec24-402e-942d-6befc099ec83",
   "metadata": {},
   "outputs": [],
   "source": [
    "month_returns={}\n",
    "for month in month_year:\n",
    "\n",
    "    perf_year=performance.loc[str(month)].iloc[-1]/performance.loc[str(month)].iloc[0]-1\n",
    "    month_returns[month]=perf_year\n",
    "\n",
    "#month_returns[month]=performance.loc[str(month_year[-1])].iloc[-2]/performance.loc[str(month_year[-1])].iloc[0]-1"
   ]
  },
  {
   "cell_type": "code",
   "execution_count": 36,
   "id": "b8720fc8-d210-4524-82db-ee1fb0268710",
   "metadata": {},
   "outputs": [
    {
     "data": {
      "text/html": [
       "<div>\n",
       "<style scoped>\n",
       "    .dataframe tbody tr th:only-of-type {\n",
       "        vertical-align: middle;\n",
       "    }\n",
       "\n",
       "    .dataframe tbody tr th {\n",
       "        vertical-align: top;\n",
       "    }\n",
       "\n",
       "    .dataframe thead th {\n",
       "        text-align: right;\n",
       "    }\n",
       "</style>\n",
       "<table border=\"1\" class=\"dataframe\">\n",
       "  <thead>\n",
       "    <tr style=\"text-align: right;\">\n",
       "      <th></th>\n",
       "      <th>2020-01</th>\n",
       "      <th>2020-02</th>\n",
       "      <th>2020-03</th>\n",
       "      <th>2020-04</th>\n",
       "      <th>2020-05</th>\n",
       "      <th>2020-06</th>\n",
       "      <th>2020-07</th>\n",
       "      <th>2020-08</th>\n",
       "      <th>2020-09</th>\n",
       "      <th>2020-10</th>\n",
       "      <th>...</th>\n",
       "      <th>2024-09</th>\n",
       "      <th>2024-10</th>\n",
       "      <th>2024-11</th>\n",
       "      <th>2024-12</th>\n",
       "      <th>2025-01</th>\n",
       "      <th>2025-02</th>\n",
       "      <th>2025-03</th>\n",
       "      <th>2025-04</th>\n",
       "      <th>2025-05</th>\n",
       "      <th>2025-06</th>\n",
       "    </tr>\n",
       "  </thead>\n",
       "  <tbody>\n",
       "    <tr>\n",
       "      <th>Fund</th>\n",
       "      <td>0.417557</td>\n",
       "      <td>-0.088571</td>\n",
       "      <td>-0.248649</td>\n",
       "      <td>0.305888</td>\n",
       "      <td>-0.014171</td>\n",
       "      <td>-0.106687</td>\n",
       "      <td>0.389475</td>\n",
       "      <td>0.076983</td>\n",
       "      <td>-0.079315</td>\n",
       "      <td>0.144272</td>\n",
       "      <td>...</td>\n",
       "      <td>0.056850</td>\n",
       "      <td>0.067943</td>\n",
       "      <td>1.113092</td>\n",
       "      <td>0.118208</td>\n",
       "      <td>0.069272</td>\n",
       "      <td>-0.101246</td>\n",
       "      <td>-0.031995</td>\n",
       "      <td>0.041609</td>\n",
       "      <td>0.057676</td>\n",
       "      <td>-0.004786</td>\n",
       "    </tr>\n",
       "    <tr>\n",
       "      <th>Bitcoin</th>\n",
       "      <td>0.298859</td>\n",
       "      <td>-0.091746</td>\n",
       "      <td>-0.248649</td>\n",
       "      <td>0.297622</td>\n",
       "      <td>0.070388</td>\n",
       "      <td>-0.104131</td>\n",
       "      <td>0.227844</td>\n",
       "      <td>-0.012851</td>\n",
       "      <td>-0.096073</td>\n",
       "      <td>0.298694</td>\n",
       "      <td>...</td>\n",
       "      <td>0.105158</td>\n",
       "      <td>0.156009</td>\n",
       "      <td>0.387245</td>\n",
       "      <td>-0.037137</td>\n",
       "      <td>0.082859</td>\n",
       "      <td>-0.161828</td>\n",
       "      <td>-0.040836</td>\n",
       "      <td>0.105846</td>\n",
       "      <td>0.083967</td>\n",
       "      <td>-0.010096</td>\n",
       "    </tr>\n",
       "  </tbody>\n",
       "</table>\n",
       "<p>2 rows × 66 columns</p>\n",
       "</div>"
      ],
      "text/plain": [
       "          2020-01   2020-02   2020-03   2020-04   2020-05   2020-06   2020-07  \\\n",
       "Fund     0.417557 -0.088571 -0.248649  0.305888 -0.014171 -0.106687  0.389475   \n",
       "Bitcoin  0.298859 -0.091746 -0.248649  0.297622  0.070388 -0.104131  0.227844   \n",
       "\n",
       "          2020-08   2020-09   2020-10  ...   2024-09   2024-10   2024-11  \\\n",
       "Fund     0.076983 -0.079315  0.144272  ...  0.056850  0.067943  1.113092   \n",
       "Bitcoin -0.012851 -0.096073  0.298694  ...  0.105158  0.156009  0.387245   \n",
       "\n",
       "          2024-12   2025-01   2025-02   2025-03   2025-04   2025-05   2025-06  \n",
       "Fund     0.118208  0.069272 -0.101246 -0.031995  0.041609  0.057676 -0.004786  \n",
       "Bitcoin -0.037137  0.082859 -0.161828 -0.040836  0.105846  0.083967 -0.010096  \n",
       "\n",
       "[2 rows x 66 columns]"
      ]
     },
     "execution_count": 36,
     "metadata": {},
     "output_type": "execute_result"
    }
   ],
   "source": [
    "month_returns_dataframe=pd.DataFrame(month_returns)\n",
    "month_returns_dataframe"
   ]
  },
  {
   "cell_type": "code",
   "execution_count": 37,
   "id": "1319d512-3587-4f23-a4e6-acd4f33a64c2",
   "metadata": {},
   "outputs": [],
   "source": [
    "metrics={}\n",
    "metrics['Tracking Error']=(performance_pct['Fund']-performance_pct['Bitcoin']).std()*np.sqrt(252)\n",
    "metrics['Fund Vol']=performance_pct['Fund'].std()*np.sqrt(252)\n",
    "metrics['Bench Vol']=performance_pct['Bitcoin'].std()*np.sqrt(252)\n",
    "metrics['Fund Return']=performance['Fund'].iloc[-2]/performance['Fund'].iloc[0]\n",
    "metrics['Bench Return']=performance['Bitcoin'].iloc[-2]/performance['Bitcoin'].iloc[0]\n",
    "metrics['Sharpe Ratio']=(1+metrics['Fund Return'])**(1/len(set(returns_to_use.index.year)))/metrics['Fund Vol']"
   ]
  },
  {
   "cell_type": "code",
   "execution_count": 38,
   "id": "46008c02-0ceb-4e51-a3f8-6e3d5cf31eac",
   "metadata": {},
   "outputs": [
    {
     "data": {
      "text/html": [
       "<div>\n",
       "<style scoped>\n",
       "    .dataframe tbody tr th:only-of-type {\n",
       "        vertical-align: middle;\n",
       "    }\n",
       "\n",
       "    .dataframe tbody tr th {\n",
       "        vertical-align: top;\n",
       "    }\n",
       "\n",
       "    .dataframe thead th {\n",
       "        text-align: right;\n",
       "    }\n",
       "</style>\n",
       "<table border=\"1\" class=\"dataframe\">\n",
       "  <thead>\n",
       "    <tr style=\"text-align: right;\">\n",
       "      <th></th>\n",
       "      <th>Indicators</th>\n",
       "    </tr>\n",
       "  </thead>\n",
       "  <tbody>\n",
       "    <tr>\n",
       "      <th>Tracking Error</th>\n",
       "      <td>0.541579</td>\n",
       "    </tr>\n",
       "    <tr>\n",
       "      <th>Fund Vol</th>\n",
       "      <td>0.711246</td>\n",
       "    </tr>\n",
       "    <tr>\n",
       "      <th>Bench Vol</th>\n",
       "      <td>0.529669</td>\n",
       "    </tr>\n",
       "    <tr>\n",
       "      <th>Fund Return</th>\n",
       "      <td>351.618329</td>\n",
       "    </tr>\n",
       "    <tr>\n",
       "      <th>Bench Return</th>\n",
       "      <td>14.565889</td>\n",
       "    </tr>\n",
       "    <tr>\n",
       "      <th>Sharpe Ratio</th>\n",
       "      <td>3.249983</td>\n",
       "    </tr>\n",
       "  </tbody>\n",
       "</table>\n",
       "</div>"
      ],
      "text/plain": [
       "                Indicators\n",
       "Tracking Error    0.541579\n",
       "Fund Vol          0.711246\n",
       "Bench Vol         0.529669\n",
       "Fund Return     351.618329\n",
       "Bench Return     14.565889\n",
       "Sharpe Ratio      3.249983"
      ]
     },
     "execution_count": 38,
     "metadata": {},
     "output_type": "execute_result"
    }
   ],
   "source": [
    "indicators=pd.DataFrame(metrics.values(),index=metrics.keys(),columns=['Indicators'])\n",
    "indicators"
   ]
  },
  {
   "cell_type": "code",
   "execution_count": 39,
   "id": "6a9c0628-c000-474f-a607-14c99ca6c38b",
   "metadata": {},
   "outputs": [
    {
     "data": {
      "text/html": [
       "<div>\n",
       "<style scoped>\n",
       "    .dataframe tbody tr th:only-of-type {\n",
       "        vertical-align: middle;\n",
       "    }\n",
       "\n",
       "    .dataframe tbody tr th {\n",
       "        vertical-align: top;\n",
       "    }\n",
       "\n",
       "    .dataframe thead th {\n",
       "        text-align: right;\n",
       "    }\n",
       "</style>\n",
       "<table border=\"1\" class=\"dataframe\">\n",
       "  <thead>\n",
       "    <tr style=\"text-align: right;\">\n",
       "      <th></th>\n",
       "      <th>Mark To Market Model</th>\n",
       "      <th>Weights Model</th>\n",
       "      <th>Current Portfolio in USDT</th>\n",
       "      <th>Current Weights</th>\n",
       "    </tr>\n",
       "  </thead>\n",
       "  <tbody>\n",
       "    <tr>\n",
       "      <th>Total</th>\n",
       "      <td>1785.1328</td>\n",
       "      <td>1.0000</td>\n",
       "      <td>1785.1328</td>\n",
       "      <td>0.9999</td>\n",
       "    </tr>\n",
       "    <tr>\n",
       "      <th>TRXUSDT</th>\n",
       "      <td>1306.4637</td>\n",
       "      <td>0.7319</td>\n",
       "      <td>132.5596</td>\n",
       "      <td>0.0743</td>\n",
       "    </tr>\n",
       "    <tr>\n",
       "      <th>BTCUSDT</th>\n",
       "      <td>478.6691</td>\n",
       "      <td>0.2681</td>\n",
       "      <td>925.8466</td>\n",
       "      <td>0.5186</td>\n",
       "    </tr>\n",
       "    <tr>\n",
       "      <th>ETHUSDT</th>\n",
       "      <td>0.0000</td>\n",
       "      <td>0.0000</td>\n",
       "      <td>174.4773</td>\n",
       "      <td>0.0977</td>\n",
       "    </tr>\n",
       "    <tr>\n",
       "      <th>XRPUSDT</th>\n",
       "      <td>0.0000</td>\n",
       "      <td>0.0000</td>\n",
       "      <td>0.0000</td>\n",
       "      <td>0.0000</td>\n",
       "    </tr>\n",
       "    <tr>\n",
       "      <th>BNBUSDT</th>\n",
       "      <td>0.0000</td>\n",
       "      <td>0.0000</td>\n",
       "      <td>1.0935</td>\n",
       "      <td>0.0006</td>\n",
       "    </tr>\n",
       "    <tr>\n",
       "      <th>DOGEUSDT</th>\n",
       "      <td>0.0000</td>\n",
       "      <td>0.0000</td>\n",
       "      <td>0.0000</td>\n",
       "      <td>0.0000</td>\n",
       "    </tr>\n",
       "    <tr>\n",
       "      <th>ADAUSDT</th>\n",
       "      <td>0.0000</td>\n",
       "      <td>0.0000</td>\n",
       "      <td>0.0000</td>\n",
       "      <td>0.0000</td>\n",
       "    </tr>\n",
       "    <tr>\n",
       "      <th>BCHUSDT</th>\n",
       "      <td>0.0000</td>\n",
       "      <td>0.0000</td>\n",
       "      <td>0.0000</td>\n",
       "      <td>0.0000</td>\n",
       "    </tr>\n",
       "    <tr>\n",
       "      <th>LINKUSDT</th>\n",
       "      <td>0.0000</td>\n",
       "      <td>0.0000</td>\n",
       "      <td>0.0000</td>\n",
       "      <td>0.0000</td>\n",
       "    </tr>\n",
       "    <tr>\n",
       "      <th>XLMUSDT</th>\n",
       "      <td>0.0000</td>\n",
       "      <td>0.0000</td>\n",
       "      <td>0.0000</td>\n",
       "      <td>0.0000</td>\n",
       "    </tr>\n",
       "    <tr>\n",
       "      <th>SOLUSDT</th>\n",
       "      <td>0.0000</td>\n",
       "      <td>0.0000</td>\n",
       "      <td>261.3510</td>\n",
       "      <td>0.1464</td>\n",
       "    </tr>\n",
       "    <tr>\n",
       "      <th>JASMYUSDT</th>\n",
       "      <td>0.0000</td>\n",
       "      <td>0.0000</td>\n",
       "      <td>163.2374</td>\n",
       "      <td>0.0914</td>\n",
       "    </tr>\n",
       "    <tr>\n",
       "      <th>OMUSDT</th>\n",
       "      <td>0.0000</td>\n",
       "      <td>0.0000</td>\n",
       "      <td>115.8924</td>\n",
       "      <td>0.0649</td>\n",
       "    </tr>\n",
       "    <tr>\n",
       "      <th>BBUSDT</th>\n",
       "      <td>0.0000</td>\n",
       "      <td>0.0000</td>\n",
       "      <td>10.6750</td>\n",
       "      <td>0.0060</td>\n",
       "    </tr>\n",
       "    <tr>\n",
       "      <th>PEPEUSDT</th>\n",
       "      <td>0.0000</td>\n",
       "      <td>0.0000</td>\n",
       "      <td>0.0000</td>\n",
       "      <td>0.0000</td>\n",
       "    </tr>\n",
       "  </tbody>\n",
       "</table>\n",
       "</div>"
      ],
      "text/plain": [
       "           Mark To Market Model  Weights Model  Current Portfolio in USDT  \\\n",
       "Total                 1785.1328         1.0000                  1785.1328   \n",
       "TRXUSDT               1306.4637         0.7319                   132.5596   \n",
       "BTCUSDT                478.6691         0.2681                   925.8466   \n",
       "ETHUSDT                  0.0000         0.0000                   174.4773   \n",
       "XRPUSDT                  0.0000         0.0000                     0.0000   \n",
       "BNBUSDT                  0.0000         0.0000                     1.0935   \n",
       "DOGEUSDT                 0.0000         0.0000                     0.0000   \n",
       "ADAUSDT                  0.0000         0.0000                     0.0000   \n",
       "BCHUSDT                  0.0000         0.0000                     0.0000   \n",
       "LINKUSDT                 0.0000         0.0000                     0.0000   \n",
       "XLMUSDT                  0.0000         0.0000                     0.0000   \n",
       "SOLUSDT                  0.0000         0.0000                   261.3510   \n",
       "JASMYUSDT                0.0000         0.0000                   163.2374   \n",
       "OMUSDT                   0.0000         0.0000                   115.8924   \n",
       "BBUSDT                   0.0000         0.0000                    10.6750   \n",
       "PEPEUSDT                 0.0000         0.0000                     0.0000   \n",
       "\n",
       "           Current Weights  \n",
       "Total               0.9999  \n",
       "TRXUSDT             0.0743  \n",
       "BTCUSDT             0.5186  \n",
       "ETHUSDT             0.0977  \n",
       "XRPUSDT             0.0000  \n",
       "BNBUSDT             0.0006  \n",
       "DOGEUSDT            0.0000  \n",
       "ADAUSDT             0.0000  \n",
       "BCHUSDT             0.0000  \n",
       "LINKUSDT            0.0000  \n",
       "XLMUSDT             0.0000  \n",
       "SOLUSDT             0.1464  \n",
       "JASMYUSDT           0.0914  \n",
       "OMUSDT              0.0649  \n",
       "BBUSDT              0.0060  \n",
       "PEPEUSDT            0.0000  "
      ]
     },
     "execution_count": 39,
     "metadata": {},
     "output_type": "execute_result"
    }
   ],
   "source": [
    "last_weights=tracking[dates_end[-3]][0]\n",
    "weights=pd.DataFrame(last_weights.values(),index=last_weights.keys(),columns=['Weights Model'])\n",
    "\n",
    "current_positions=Binance.get_inventory().round(4)\n",
    "current_positions.columns=['Current Portfolio in USDT','Current Weights']\n",
    "amount=current_positions.loc['Total']['Current Portfolio in USDT']\n",
    "\n",
    "last_prices=Binance.get_price(list(last_weights.keys()))\n",
    "\n",
    "quantities={}\n",
    "\n",
    "for key in last_weights:\n",
    "    quantities[key]=amount*last_weights[key]#/last_prices[key].values[0]\n",
    "\n",
    "positions=pd.DataFrame(quantities.values(),index=quantities.keys(),columns=['Mark To Market Model'])\n",
    "positions=pd.concat([positions,weights],axis=1)\n",
    "\n",
    "condition=current_positions.index!='Total'\n",
    "portfolio=pd.concat([positions,current_positions.loc[condition]],axis=1).fillna(0)\n",
    "portfolio.loc['Total']=portfolio.sum(axis=0)\n",
    "portfolio.sort_values(by='Weights Model',ascending=False).round(4)"
   ]
  },
  {
   "cell_type": "code",
   "execution_count": 40,
   "id": "023ea78a-7487-42ab-a158-06bc20d1282f",
   "metadata": {},
   "outputs": [
    {
     "name": "stdout",
     "output_type": "stream",
     "text": [
      "File 'Active Crypto Strategy.ipynb' exists. Replacing the file...\n",
      "✅ File 'Active Crypto Strategy.ipynb' successfully pushed/updated to GitHub!\n"
     ]
    }
   ],
   "source": [
    "git.create_or_replace_notebook(\"Active Crypto Strategy.ipynb\")"
   ]
  },
  {
   "cell_type": "code",
   "execution_count": 41,
   "id": "bab55a76-40d9-4c87-9c75-43b4c93e3c93",
   "metadata": {},
   "outputs": [
    {
     "data": {
      "text/html": [
       "<div>\n",
       "<style scoped>\n",
       "    .dataframe tbody tr th:only-of-type {\n",
       "        vertical-align: middle;\n",
       "    }\n",
       "\n",
       "    .dataframe tbody tr th {\n",
       "        vertical-align: top;\n",
       "    }\n",
       "\n",
       "    .dataframe thead th {\n",
       "        text-align: right;\n",
       "    }\n",
       "</style>\n",
       "<table border=\"1\" class=\"dataframe\">\n",
       "  <thead>\n",
       "    <tr style=\"text-align: right;\">\n",
       "      <th></th>\n",
       "      <th>2025-05-30</th>\n",
       "    </tr>\n",
       "  </thead>\n",
       "  <tbody>\n",
       "    <tr>\n",
       "      <th>BTCUSDT</th>\n",
       "      <td>0.268142</td>\n",
       "    </tr>\n",
       "    <tr>\n",
       "      <th>ETHUSDT</th>\n",
       "      <td>0.000000</td>\n",
       "    </tr>\n",
       "    <tr>\n",
       "      <th>XRPUSDT</th>\n",
       "      <td>0.000000</td>\n",
       "    </tr>\n",
       "    <tr>\n",
       "      <th>BNBUSDT</th>\n",
       "      <td>0.000000</td>\n",
       "    </tr>\n",
       "    <tr>\n",
       "      <th>DOGEUSDT</th>\n",
       "      <td>0.000000</td>\n",
       "    </tr>\n",
       "    <tr>\n",
       "      <th>TRXUSDT</th>\n",
       "      <td>0.731858</td>\n",
       "    </tr>\n",
       "    <tr>\n",
       "      <th>ADAUSDT</th>\n",
       "      <td>0.000000</td>\n",
       "    </tr>\n",
       "    <tr>\n",
       "      <th>BCHUSDT</th>\n",
       "      <td>0.000000</td>\n",
       "    </tr>\n",
       "    <tr>\n",
       "      <th>LINKUSDT</th>\n",
       "      <td>0.000000</td>\n",
       "    </tr>\n",
       "    <tr>\n",
       "      <th>XLMUSDT</th>\n",
       "      <td>0.000000</td>\n",
       "    </tr>\n",
       "  </tbody>\n",
       "</table>\n",
       "</div>"
      ],
      "text/plain": [
       "          2025-05-30\n",
       "BTCUSDT     0.268142\n",
       "ETHUSDT     0.000000\n",
       "XRPUSDT     0.000000\n",
       "BNBUSDT     0.000000\n",
       "DOGEUSDT    0.000000\n",
       "TRXUSDT     0.731858\n",
       "ADAUSDT     0.000000\n",
       "BCHUSDT     0.000000\n",
       "LINKUSDT    0.000000\n",
       "XLMUSDT     0.000000"
      ]
     },
     "execution_count": 41,
     "metadata": {},
     "output_type": "execute_result"
    }
   ],
   "source": [
    "dates_end2=dates_end.copy()\n",
    "dates_end2=dates_end2[:-1]\n",
    "date=dates_end2[-2]\n",
    "last_weights=tracking[date][0]\n",
    "weights=pd.DataFrame(last_weights.values(),index=last_weights.keys(),columns=[date])\n",
    "weights"
   ]
  },
  {
   "cell_type": "code",
   "execution_count": 42,
   "id": "ee08bd2b-ee03-4fae-9b82-a2e7c1875e28",
   "metadata": {},
   "outputs": [],
   "source": [
    "history={}\n",
    "\n",
    "for date in tracking:\n",
    "\n",
    "    history[date]=tracking[date][0]"
   ]
  },
  {
   "cell_type": "code",
   "execution_count": 43,
   "id": "2d4857cd-1811-4e94-8ab8-16cbe14f2e4e",
   "metadata": {},
   "outputs": [
    {
     "data": {
      "text/plain": [
       "ADAUSDT     0.089552\n",
       "LINKUSDT    0.089552\n",
       "BCHUSDT     0.104478\n",
       "ETHUSDT     0.119403\n",
       "XRPUSDT     0.238806\n",
       "DOGEUSDT    0.238806\n",
       "XLMUSDT     0.238806\n",
       "BNBUSDT     0.507463\n",
       "BTCUSDT     0.656716\n",
       "TRXUSDT     0.701493\n",
       "dtype: float64"
      ]
     },
     "execution_count": 43,
     "metadata": {},
     "output_type": "execute_result"
    }
   ],
   "source": [
    "np.sum(pd.DataFrame(history).T>0,axis=0).sort_values()/len(tracking.keys())"
   ]
  },
  {
   "cell_type": "code",
   "execution_count": null,
   "id": "d8b09383-268e-4076-9f12-092640d19169",
   "metadata": {},
   "outputs": [],
   "source": []
  },
  {
   "cell_type": "code",
   "execution_count": null,
   "id": "f848d276-c583-4fe3-9239-3f851f7afe0e",
   "metadata": {},
   "outputs": [],
   "source": []
  }
 ],
 "metadata": {
  "kernelspec": {
   "display_name": "Python [conda env:base] *",
   "language": "python",
   "name": "conda-base-py"
  },
  "language_info": {
   "codemirror_mode": {
    "name": "ipython",
    "version": 3
   },
   "file_extension": ".py",
   "mimetype": "text/x-python",
   "name": "python",
   "nbconvert_exporter": "python",
   "pygments_lexer": "ipython3",
   "version": "3.12.3"
  }
 },
 "nbformat": 4,
 "nbformat_minor": 5
}
