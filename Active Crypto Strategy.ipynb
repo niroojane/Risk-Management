{
 "cells": [
  {
   "cell_type": "markdown",
   "id": "ae6785e3-e1f1-49f3-acc2-8f4fbc781b5c",
   "metadata": {},
   "source": [
    "# Importing libraries"
   ]
  },
  {
   "cell_type": "code",
   "execution_count": 2,
   "id": "f8d76485-1d84-4d5a-8256-d8e22025b46a",
   "metadata": {},
   "outputs": [],
   "source": [
    "import pandas as pd\n",
    "import random\n",
    "import numpy as np\n",
    "import matplotlib.pyplot as plt\n",
    "import datetime\n",
    "import seaborn as sns"
   ]
  },
  {
   "cell_type": "code",
   "execution_count": 3,
   "id": "ac3ec80e-2c5c-4477-bd0a-d89c52eaa148",
   "metadata": {},
   "outputs": [],
   "source": [
    "%run \"Stock Data.ipynb\".ipynb\n",
    "%run \"Binance API.ipynb\".ipynb\n",
    "%run \"RiskMetrics.ipynb\".ipynb\n",
    "%run \"PnL Computation.ipynb\".ipynb"
   ]
  },
  {
   "cell_type": "code",
   "execution_count": 4,
   "id": "647e483a-ed4f-4527-b066-671c23ac1424",
   "metadata": {},
   "outputs": [],
   "source": [
    "binance_api_key=''\n",
    "binance_api_secret=''\n",
    "Binance=BinanceAPI(binance_api_key,binance_api_secret)"
   ]
  },
  {
   "cell_type": "markdown",
   "id": "74e990bc-efc1-4582-98ea-e627b39306df",
   "metadata": {},
   "source": [
    "# Functions"
   ]
  },
  {
   "cell_type": "code",
   "execution_count": 6,
   "id": "70f4df13-e628-4deb-94ea-bb911320a6aa",
   "metadata": {},
   "outputs": [],
   "source": [
    "def get_mrat(dataframe,days=30):\n",
    "\n",
    "    #ratio=(dataframe.ewm(span=days).mean()*252)/(dataframe.ewm(span=days).std()*np.sqrt(252))\n",
    "    ratio=dataframe.ewm(span=days).mean()*252\n",
    "    #ratio=(dataframe.rolling(days).mean()*252)/dataframe.rolling(days).std()*np.sqrt(252)\n",
    "    ratio_wo_na=ratio.dropna(how='all')\n",
    "\n",
    "    month=list(sorted(set(ratio_wo_na.index + pd.offsets.BMonthEnd(0))))\n",
    "    #month_end=pd.to_datetime(mrat_wo_na.index)\n",
    "    month = pd.to_datetime(month)\n",
    "\n",
    "    idx1 = pd.Index(ratio_wo_na.iloc[:-1].index)\n",
    "    idx2 = pd.Index(month)\n",
    "    closest_dates = idx1[idx1.get_indexer(idx2, method='nearest')]\n",
    "\n",
    "\n",
    "    ratio_weights=ratio_wo_na.loc[closest_dates].copy().fillna(0)\n",
    "    \n",
    "    ratio_weights['Total']=ratio_weights.sum(axis=1)\n",
    "\n",
    "    for col in ratio_weights.columns:\n",
    "        ratio_weights[col]=ratio_weights[col]/ratio_weights['Total']\n",
    "\n",
    "    ratio_weights=ratio_weights.drop(columns='Total')\n",
    "\n",
    "    dates_end=list(ratio_weights.index)\n",
    "    dates_end.insert(0,dataframe.index[0])\n",
    "    dates_end.append(dataframe.index[-1])\n",
    "    dates_end=list(set(dates_end))\n",
    "    \n",
    "    return ratio_weights,sorted(dates_end)"
   ]
  },
  {
   "cell_type": "code",
   "execution_count": 7,
   "id": "2328cf9f-ea9f-4c6c-be0f-7927d9182f65",
   "metadata": {},
   "outputs": [],
   "source": [
    "def get_portfolios(ratio_weights,dates_end,dataframe,weight_dict,\n",
    "                   numbers_of_stocks=50,\n",
    "                   investment_amount=10000,\n",
    "                   transaction_fee=0.005):\n",
    "    tracking={}\n",
    "    portfolio={}\n",
    "    initial_amount=investment_amount\n",
    "    perf=dataframe.pct_change()\n",
    "    \n",
    "    for i in range(len(dates_end)-1):\n",
    "        \n",
    "        print(dates_end[i],investment_amount,investment_amount/initial_amount)\n",
    "\n",
    "        \n",
    "        temp=dataframe.loc[dates_end[i]:dates_end[i+1]].copy()\n",
    "        initial_price=temp.iloc[0].to_dict()\n",
    "\n",
    "        if dates_end[i]>dates_end[0]:\n",
    "\n",
    "            top50=ratio_weights.loc[dates_end[i]].sort_values(ascending=False)[:numbers_of_stocks]\n",
    "            top_50_rebased=top50/top50.sum()\n",
    "            top_50_dict=top_50_rebased.to_dict()\n",
    "\n",
    "            weight_dict={}\n",
    "\n",
    "            for key in temp.columns:\n",
    "\n",
    "                if key in top_50_dict: \n",
    "                    weight_dict[key]=top_50_dict[key]\n",
    "                else:\n",
    "                    weight_dict[key]=0\n",
    "                    \n",
    "                    \n",
    "        weight_vec=np.array(list(weight_dict.values()))\n",
    "        \n",
    "        inital_investment_per_stock={}\n",
    "        shares={}\n",
    "\n",
    "        for col in temp.columns:\n",
    "            \n",
    "            weighted_perf=weight_vec*perf.loc[dates_end[i]]\n",
    "            \n",
    "            inital_investment_per_stock[col]=weight_dict[col]*investment_amount*(1+weighted_perf.sum())\n",
    "            shares[col]=inital_investment_per_stock[col]*(1-transaction_fee)/initial_price[col]\n",
    "\n",
    "        tracking[dates_end[i]]=(weight_dict,shares,investment_amount,initial_price)\n",
    "\n",
    "        temp=temp*shares    \n",
    "        portfolio[dates_end[i]]=temp\n",
    "        investment_amount=temp.iloc[-1].sum()\n",
    "        \n",
    "    \n",
    "    temp=dataframe.loc[dates_end[-2]:]*shares\n",
    "    portfolio[dates_end[-1]]=temp\n",
    "        \n",
    "\n",
    "    return portfolio,tracking\n"
   ]
  },
  {
   "cell_type": "markdown",
   "id": "46a0cf6e-ae4d-4a19-afff-a5d47c41d68c",
   "metadata": {},
   "source": [
    "# Importing Data"
   ]
  },
  {
   "cell_type": "code",
   "execution_count": 9,
   "id": "69b4b84c-829b-488f-be25-1bc9f998c6f8",
   "metadata": {},
   "outputs": [],
   "source": [
    "start_date=datetime.datetime(2020,1,1)\n",
    "today=datetime.datetime.today()"
   ]
  },
  {
   "cell_type": "code",
   "execution_count": 10,
   "id": "f9718c11-469f-4979-a6a1-ed80d983fd09",
   "metadata": {},
   "outputs": [
    {
     "data": {
      "text/plain": [
       "1861"
      ]
     },
     "execution_count": 10,
     "metadata": {},
     "output_type": "execute_result"
    }
   ],
   "source": [
    "days=(today-start_date).days\n",
    "days"
   ]
  },
  {
   "cell_type": "code",
   "execution_count": 11,
   "id": "23578fa9-0e99-4e85-8c08-6d531325758e",
   "metadata": {},
   "outputs": [],
   "source": [
    "remaining=days%500\n",
    "numbers_of_table=days//500"
   ]
  },
  {
   "cell_type": "code",
   "execution_count": 12,
   "id": "846ea23b-6759-4a44-9b39-bbf55a534a73",
   "metadata": {},
   "outputs": [],
   "source": [
    "tickers=Binance.get_market_cap()['Ticker'].iloc[:80].to_list()"
   ]
  },
  {
   "cell_type": "code",
   "execution_count": 13,
   "id": "ddd4015d-5378-428a-8217-f83df96ee955",
   "metadata": {},
   "outputs": [],
   "source": [
    "temp_end=start_date\n",
    "prices=pd.DataFrame()\n",
    "for i in range(numbers_of_table+1):\n",
    "    data=Binance.get_price(tickers,temp_end)\n",
    "    temp_end=temp_end+datetime.timedelta(500)\n",
    "    prices=prices.combine_first(data)\n",
    "    \n",
    "temp_end=(today-datetime.timedelta(days))\n",
    "data=Binance.get_price(tickers,temp_end)\n",
    "prices=prices.combine_first(data)\n",
    "prices=prices.sort_index()\n",
    "prices = prices[~prices.index.duplicated(keep='first')]"
   ]
  },
  {
   "cell_type": "code",
   "execution_count": 14,
   "id": "762b354d-95ea-4e9c-9a88-30676480cf61",
   "metadata": {},
   "outputs": [
    {
     "name": "stderr",
     "output_type": "stream",
     "text": [
      "C:\\Users\\niroo\\AppData\\Local\\Temp\\ipykernel_169212\\3293444301.py:1: FutureWarning: The default fill_method='pad' in DataFrame.pct_change is deprecated and will be removed in a future version. Either fill in any non-leading NA values prior to calling pct_change or specify 'fill_method=None' to not fill NA values.\n",
      "  returns=np.log(1+data.pct_change())\n"
     ]
    }
   ],
   "source": [
    "returns=np.log(1+data.pct_change())\n",
    "returns.index=pd.to_datetime(returns.index)\n",
    "with_no_na=returns.columns[np.where((returns.isna().sum()<30))]\n",
    "returns_to_use=returns[with_no_na].sort_index()"
   ]
  },
  {
   "cell_type": "code",
   "execution_count": 15,
   "id": "7e909abe-258f-4023-9a70-e8e38f6937d1",
   "metadata": {},
   "outputs": [],
   "source": [
    "dataframe=prices[with_no_na].sort_index()\n",
    "dataframe.index=pd.to_datetime(dataframe.index)"
   ]
  },
  {
   "cell_type": "code",
   "execution_count": 16,
   "id": "f66ced47-ce1c-4b35-8fa6-a34b4587d3fd",
   "metadata": {},
   "outputs": [],
   "source": [
    "returns_to_use.index=pd.to_datetime(returns_to_use.index)\n",
    "returns_to_use = returns_to_use[~returns_to_use.index.duplicated(keep='first')]"
   ]
  },
  {
   "cell_type": "markdown",
   "id": "1841f2b4-c521-4198-9e5c-0c38478bbcd3",
   "metadata": {},
   "source": [
    "# Strategy Backtesting"
   ]
  },
  {
   "cell_type": "code",
   "execution_count": 18,
   "id": "ccaf8b9b-ad9f-4331-9760-08f8897404d8",
   "metadata": {},
   "outputs": [],
   "source": [
    "ratio_weights,dates_end=get_mrat(returns_to_use,days=90)"
   ]
  },
  {
   "cell_type": "code",
   "execution_count": 19,
   "id": "860d78d6-8494-46a2-9a7f-b75433405e3e",
   "metadata": {},
   "outputs": [],
   "source": [
    "weight_dict={col: 1/returns_to_use.shape[1] for col in returns_to_use.columns}\n"
   ]
  },
  {
   "cell_type": "code",
   "execution_count": 20,
   "id": "d7eac00f-076d-485a-a1f5-88b6510e00d2",
   "metadata": {},
   "outputs": [
    {
     "name": "stderr",
     "output_type": "stream",
     "text": [
      "C:\\Users\\niroo\\AppData\\Local\\Temp\\ipykernel_169212\\2973446220.py:8: FutureWarning: The default fill_method='pad' in DataFrame.pct_change is deprecated and will be removed in a future version. Either fill in any non-leading NA values prior to calling pct_change or specify 'fill_method=None' to not fill NA values.\n",
      "  perf=dataframe.pct_change()\n"
     ]
    },
    {
     "name": "stdout",
     "output_type": "stream",
     "text": [
      "2020-01-01 00:00:00 100 1.0\n",
      "2020-01-31 00:00:00 138.74071892815095 1.3874071892815096\n",
      "2020-02-28 00:00:00 137.6262198452396 1.376262198452396\n",
      "2020-03-31 00:00:00 90.79663536870623 0.9079663536870624\n",
      "2020-04-30 00:00:00 128.21759869434402 1.2821759869434401\n",
      "2020-05-29 00:00:00 157.33801217423965 1.5733801217423966\n",
      "2020-06-30 00:00:00 152.18259992631008 1.5218259992631007\n",
      "2020-07-31 00:00:00 259.26125563841873 2.5926125563841875\n",
      "2020-08-31 00:00:00 337.41094469781194 3.374109446978119\n",
      "2020-09-30 00:00:00 278.0746943025522 2.780746943025522\n",
      "2020-10-30 00:00:00 239.0815634687508 2.390815634687508\n",
      "2020-11-30 00:00:00 329.1009247942651 3.291009247942651\n",
      "2020-12-31 00:00:00 330.00798714207156 3.3000798714207153\n",
      "2021-01-29 00:00:00 661.843842909494 6.61843842909494\n",
      "2021-02-26 00:00:00 1187.1181767964297 11.871181767964297\n",
      "2021-03-31 00:00:00 1961.5070471079837 19.615070471079836\n",
      "2021-04-30 00:00:00 3334.2657232640377 33.34265723264038\n",
      "2021-05-31 00:00:00 2878.250185449859 28.78250185449859\n",
      "2021-06-30 00:00:00 2414.50578152836 24.1450578152836\n",
      "2021-07-30 00:00:00 2365.729405618284 23.65729405618284\n",
      "2021-08-31 00:00:00 3343.314202990231 33.433142029902314\n",
      "2021-09-30 00:00:00 2820.590056485662 28.20590056485662\n",
      "2021-10-29 00:00:00 3678.0942251740094 36.78094225174009\n",
      "2021-11-30 00:00:00 3394.6505858063 33.946505858063\n",
      "2021-12-31 00:00:00 2604.5341713626144 26.045341713626144\n",
      "2022-01-31 00:00:00 1957.0023257640398 19.570023257640397\n",
      "2022-02-28 00:00:00 2087.2617422190615 20.872617422190615\n",
      "2022-03-31 00:00:00 2775.410285235663 27.75410285235663\n",
      "2022-04-29 00:00:00 2079.167080750045 20.79167080750045\n",
      "2022-05-31 00:00:00 1457.4289838484267 14.574289838484267\n",
      "2022-06-30 00:00:00 1012.1860555798054 10.121860555798055\n",
      "2022-07-29 00:00:00 1440.5521194585447 14.405521194585447\n",
      "2022-08-31 00:00:00 1270.0448441963022 12.700448441963022\n",
      "2022-09-30 00:00:00 1250.7314580695493 12.507314580695493\n",
      "2022-10-31 00:00:00 1460.8967915231208 14.608967915231208\n",
      "2022-11-30 00:00:00 1298.199296985415 12.98199296985415\n",
      "2022-12-30 00:00:00 1076.2081844094528 10.762081844094528\n",
      "2023-01-31 00:00:00 1456.584489293694 14.56584489293694\n",
      "2023-02-28 00:00:00 1500.0427595250694 15.000427595250693\n",
      "2023-03-31 00:00:00 1531.913657804543 15.319136578045429\n",
      "2023-04-28 00:00:00 1516.4581602145145 15.164581602145145\n",
      "2023-05-31 00:00:00 1422.6554946346441 14.226554946346441\n",
      "2023-06-30 00:00:00 1512.5062339361746 15.125062339361746\n",
      "2023-07-31 00:00:00 1703.0851521319132 17.030851521319132\n",
      "2023-08-31 00:00:00 1401.447801449011 14.014478014490109\n",
      "2023-09-29 00:00:00 1394.4841199103744 13.944841199103744\n",
      "2023-10-31 00:00:00 1569.2559543215605 15.692559543215605\n",
      "2023-11-30 00:00:00 1750.7639203062809 17.50763920306281\n",
      "2023-12-29 00:00:00 2157.3235179030044 21.573235179030043\n",
      "2024-01-31 00:00:00 1933.9561070414504 19.339561070414504\n",
      "2024-02-29 00:00:00 2533.0881733770075 25.330881733770074\n",
      "2024-03-29 00:00:00 3349.584680431559 33.49584680431559\n",
      "2024-04-30 00:00:00 2606.923638031287 26.06923638031287\n",
      "2024-05-31 00:00:00 2669.219009273479 26.69219009273479\n",
      "2024-06-28 00:00:00 2208.5447641276605 22.085447641276605\n",
      "2024-07-31 00:00:00 2165.1729766312387 21.651729766312386\n",
      "2024-08-30 00:00:00 1851.6678702336706 18.516678702336705\n",
      "2024-09-30 00:00:00 1984.1306449850626 19.841306449850627\n",
      "2024-10-31 00:00:00 1925.4621143105776 19.254621143105776\n",
      "2024-11-29 00:00:00 4179.048028565039 41.79048028565039\n",
      "2024-12-31 00:00:00 4003.698217549954 40.03698217549954\n",
      "2025-01-31 00:00:00 4320.9789074631735 43.209789074631736\n",
      "2025-02-03 00:00:00 3704.9147349828354 37.04914734982835\n"
     ]
    }
   ],
   "source": [
    "portfolio,tracking=get_portfolios(investment_amount=100,dataframe=dataframe,numbers_of_stocks=15,weight_dict=weight_dict,\n",
    "                                  ratio_weights=ratio_weights,dates_end=dates_end,\n",
    "                                  transaction_fee=0)"
   ]
  },
  {
   "cell_type": "code",
   "execution_count": 21,
   "id": "9aeb8970-a274-49c8-af71-94cfee8ad022",
   "metadata": {},
   "outputs": [
    {
     "data": {
      "text/html": [
       "<div>\n",
       "<style scoped>\n",
       "    .dataframe tbody tr th:only-of-type {\n",
       "        vertical-align: middle;\n",
       "    }\n",
       "\n",
       "    .dataframe tbody tr th {\n",
       "        vertical-align: top;\n",
       "    }\n",
       "\n",
       "    .dataframe thead th {\n",
       "        text-align: right;\n",
       "    }\n",
       "</style>\n",
       "<table border=\"1\" class=\"dataframe\">\n",
       "  <thead>\n",
       "    <tr style=\"text-align: right;\">\n",
       "      <th></th>\n",
       "      <th>1</th>\n",
       "    </tr>\n",
       "    <tr>\n",
       "      <th>0</th>\n",
       "      <th></th>\n",
       "    </tr>\n",
       "  </thead>\n",
       "  <tbody>\n",
       "    <tr>\n",
       "      <th>DOGEUSDT</th>\n",
       "      <td>0.164468</td>\n",
       "    </tr>\n",
       "    <tr>\n",
       "      <th>ETCUSDT</th>\n",
       "      <td>0.148233</td>\n",
       "    </tr>\n",
       "    <tr>\n",
       "      <th>EOSUSDT</th>\n",
       "      <td>0.070376</td>\n",
       "    </tr>\n",
       "    <tr>\n",
       "      <th>ETHUSDT</th>\n",
       "      <td>0.067362</td>\n",
       "    </tr>\n",
       "    <tr>\n",
       "      <th>ADAUSDT</th>\n",
       "      <td>0.067253</td>\n",
       "    </tr>\n",
       "    <tr>\n",
       "      <th>BNBUSDT</th>\n",
       "      <td>0.066372</td>\n",
       "    </tr>\n",
       "    <tr>\n",
       "      <th>BCHUSDT</th>\n",
       "      <td>0.059468</td>\n",
       "    </tr>\n",
       "    <tr>\n",
       "      <th>VETUSDT</th>\n",
       "      <td>0.058309</td>\n",
       "    </tr>\n",
       "    <tr>\n",
       "      <th>NEOUSDT</th>\n",
       "      <td>0.052604</td>\n",
       "    </tr>\n",
       "    <tr>\n",
       "      <th>XRPUSDT</th>\n",
       "      <td>0.049885</td>\n",
       "    </tr>\n",
       "    <tr>\n",
       "      <th>XLMUSDT</th>\n",
       "      <td>0.041149</td>\n",
       "    </tr>\n",
       "    <tr>\n",
       "      <th>HBARUSDT</th>\n",
       "      <td>0.040406</td>\n",
       "    </tr>\n",
       "    <tr>\n",
       "      <th>TRXUSDT</th>\n",
       "      <td>0.038767</td>\n",
       "    </tr>\n",
       "    <tr>\n",
       "      <th>LTCUSDT</th>\n",
       "      <td>0.037747</td>\n",
       "    </tr>\n",
       "    <tr>\n",
       "      <th>LINKUSDT</th>\n",
       "      <td>0.037600</td>\n",
       "    </tr>\n",
       "    <tr>\n",
       "      <th>USDCUSDT</th>\n",
       "      <td>0.000000</td>\n",
       "    </tr>\n",
       "    <tr>\n",
       "      <th>ALGOUSDT</th>\n",
       "      <td>0.000000</td>\n",
       "    </tr>\n",
       "    <tr>\n",
       "      <th>FETUSDT</th>\n",
       "      <td>0.000000</td>\n",
       "    </tr>\n",
       "    <tr>\n",
       "      <th>ATOMUSDT</th>\n",
       "      <td>0.000000</td>\n",
       "    </tr>\n",
       "    <tr>\n",
       "      <th>STXUSDT</th>\n",
       "      <td>0.000000</td>\n",
       "    </tr>\n",
       "  </tbody>\n",
       "</table>\n",
       "</div>"
      ],
      "text/plain": [
       "                 1\n",
       "0                 \n",
       "DOGEUSDT  0.164468\n",
       "ETCUSDT   0.148233\n",
       "EOSUSDT   0.070376\n",
       "ETHUSDT   0.067362\n",
       "ADAUSDT   0.067253\n",
       "BNBUSDT   0.066372\n",
       "BCHUSDT   0.059468\n",
       "VETUSDT   0.058309\n",
       "NEOUSDT   0.052604\n",
       "XRPUSDT   0.049885\n",
       "XLMUSDT   0.041149\n",
       "HBARUSDT  0.040406\n",
       "TRXUSDT   0.038767\n",
       "LTCUSDT   0.037747\n",
       "LINKUSDT  0.037600\n",
       "USDCUSDT  0.000000\n",
       "ALGOUSDT  0.000000\n",
       "FETUSDT   0.000000\n",
       "ATOMUSDT  0.000000\n",
       "STXUSDT   0.000000"
      ]
     },
     "execution_count": 21,
     "metadata": {},
     "output_type": "execute_result"
    }
   ],
   "source": [
    "pd.DataFrame(tracking[dates_end[-2]][0].items()).set_index(0).sort_values(by=1,ascending=False).iloc[:20]"
   ]
  },
  {
   "cell_type": "code",
   "execution_count": 22,
   "id": "15dfe5e7-e2ba-4d9d-9fc5-31255c6ea4e9",
   "metadata": {},
   "outputs": [],
   "source": [
    "historical_portfolio=pd.DataFrame()\n",
    "performance=pd.DataFrame()\n",
    "for key in portfolio.keys():\n",
    "    historical_portfolio=historical_portfolio.combine_first(portfolio[key])\n",
    "    "
   ]
  },
  {
   "cell_type": "code",
   "execution_count": 23,
   "id": "c584ceef-10c5-4ee4-9e16-32c693670eb0",
   "metadata": {},
   "outputs": [
    {
     "data": {
      "text/plain": [
       "<Axes: >"
      ]
     },
     "execution_count": 23,
     "metadata": {},
     "output_type": "execute_result"
    },
    {
     "data": {
      "image/png": "[encoded data removed]",
      "text/plain": [
       "<Figure size 640x480 with 1 Axes>"
      ]
     },
     "metadata": {},
     "output_type": "display_data"
    }
   ],
   "source": [
    "performance['Fund']=historical_portfolio.sum(axis=1)\n",
    "performance['Bitcoin']=dataframe['BTCUSDT']\n",
    "#performance['Mantra']=dataframe['OMUSDT']\n",
    "\n",
    "performance_pct=performance.copy()\n",
    "performance_pct=performance_pct.pct_change()\n",
    "\n",
    "(1+performance_pct.iloc[:-2]).cumprod().plot()"
   ]
  },
  {
   "cell_type": "code",
   "execution_count": 24,
   "id": "d99e161c-1fbe-4248-8dc4-39e7eedb3490",
   "metadata": {},
   "outputs": [],
   "source": [
    "years=sorted(list(set(performance.index.year)))"
   ]
  },
  {
   "cell_type": "code",
   "execution_count": 25,
   "id": "755cc22c-8b91-46d5-9d2c-30e8c0f4dba4",
   "metadata": {},
   "outputs": [],
   "source": [
    "month_year=performance.index.strftime('%Y-%m')\n",
    "month_year=sorted(list(set(month_year)))"
   ]
  },
  {
   "cell_type": "code",
   "execution_count": 26,
   "id": "142747e1-f649-49d6-8a1b-f9063853e1f7",
   "metadata": {},
   "outputs": [
    {
     "data": {
      "text/plain": [
       "<Axes: >"
      ]
     },
     "execution_count": 26,
     "metadata": {},
     "output_type": "execute_result"
    },
    {
     "data": {
      "image/png": "[encoded data removed]",
      "text/plain": [
       "<Figure size 640x480 with 1 Axes>"
      ]
     },
     "metadata": {},
     "output_type": "display_data"
    }
   ],
   "source": [
    "(1+performance_pct.loc['2024':'2025']).cumprod().plot()"
   ]
  },
  {
   "cell_type": "code",
   "execution_count": 27,
   "id": "df4cdc80-f10c-459f-8d29-9bb71090b6da",
   "metadata": {},
   "outputs": [],
   "source": [
    "year_returns={}\n",
    "for year in years:\n",
    "\n",
    "    perf_year=performance.loc[str(year)].iloc[-1]/performance.loc[str(year)].iloc[0]-1\n",
    "    year_returns[year]=perf_year\n",
    "\n",
    "year_returns[years[-1]]=performance.loc[str(years[-1])].iloc[-2]/performance.loc[str(years[-1])].iloc[0]-1"
   ]
  },
  {
   "cell_type": "code",
   "execution_count": 28,
   "id": "55b541de-9a0c-4748-ad22-026194a0832b",
   "metadata": {},
   "outputs": [
    {
     "data": {
      "text/html": [
       "<div>\n",
       "<style scoped>\n",
       "    .dataframe tbody tr th:only-of-type {\n",
       "        vertical-align: middle;\n",
       "    }\n",
       "\n",
       "    .dataframe tbody tr th {\n",
       "        vertical-align: top;\n",
       "    }\n",
       "\n",
       "    .dataframe thead th {\n",
       "        text-align: right;\n",
       "    }\n",
       "</style>\n",
       "<table border=\"1\" class=\"dataframe\">\n",
       "  <thead>\n",
       "    <tr style=\"text-align: right;\">\n",
       "      <th></th>\n",
       "      <th>2020</th>\n",
       "      <th>2021</th>\n",
       "      <th>2022</th>\n",
       "      <th>2023</th>\n",
       "      <th>2024</th>\n",
       "      <th>2025</th>\n",
       "    </tr>\n",
       "  </thead>\n",
       "  <tbody>\n",
       "    <tr>\n",
       "      <th>Fund</th>\n",
       "      <td>2.263351</td>\n",
       "      <td>6.393347</td>\n",
       "      <td>-0.595021</td>\n",
       "      <td>0.944877</td>\n",
       "      <td>0.844297</td>\n",
       "      <td>-0.117136</td>\n",
       "    </tr>\n",
       "    <tr>\n",
       "      <th>Bitcoin</th>\n",
       "      <td>3.016697</td>\n",
       "      <td>0.575665</td>\n",
       "      <td>-0.653364</td>\n",
       "      <td>1.544636</td>\n",
       "      <td>1.118084</td>\n",
       "      <td>0.071219</td>\n",
       "    </tr>\n",
       "  </tbody>\n",
       "</table>\n",
       "</div>"
      ],
      "text/plain": [
       "             2020      2021      2022      2023      2024      2025\n",
       "Fund     2.263351  6.393347 -0.595021  0.944877  0.844297 -0.117136\n",
       "Bitcoin  3.016697  0.575665 -0.653364  1.544636  1.118084  0.071219"
      ]
     },
     "execution_count": 28,
     "metadata": {},
     "output_type": "execute_result"
    }
   ],
   "source": [
    "year_returns_dataframe=pd.DataFrame(year_returns)\n",
    "year_returns_dataframe"
   ]
  },
  {
   "cell_type": "code",
   "execution_count": 29,
   "id": "e29e38df-114e-4152-858d-948914778e7a",
   "metadata": {},
   "outputs": [],
   "source": [
    "month_returns={}\n",
    "for month in month_year:\n",
    "\n",
    "    perf_year=performance.loc[str(month)].iloc[-1]/performance.loc[str(month)].iloc[0]-1\n",
    "    month_returns[month]=perf_year\n",
    "\n",
    "month_returns[month]=performance.loc[str(month_year[-1])].iloc[-2]/performance.loc[str(month_year[-1])].iloc[0]-1"
   ]
  },
  {
   "cell_type": "code",
   "execution_count": 30,
   "id": "5e7f85d8-4f68-4d33-a209-e96ce03dbe44",
   "metadata": {},
   "outputs": [
    {
     "data": {
      "text/html": [
       "<div>\n",
       "<style scoped>\n",
       "    .dataframe tbody tr th:only-of-type {\n",
       "        vertical-align: middle;\n",
       "    }\n",
       "\n",
       "    .dataframe tbody tr th {\n",
       "        vertical-align: top;\n",
       "    }\n",
       "\n",
       "    .dataframe thead th {\n",
       "        text-align: right;\n",
       "    }\n",
       "</style>\n",
       "<table border=\"1\" class=\"dataframe\">\n",
       "  <thead>\n",
       "    <tr style=\"text-align: right;\">\n",
       "      <th></th>\n",
       "      <th>2020-01</th>\n",
       "      <th>2020-02</th>\n",
       "      <th>2020-03</th>\n",
       "      <th>2020-04</th>\n",
       "      <th>2020-05</th>\n",
       "      <th>2020-06</th>\n",
       "      <th>2020-07</th>\n",
       "      <th>2020-08</th>\n",
       "      <th>2020-09</th>\n",
       "      <th>2020-10</th>\n",
       "      <th>...</th>\n",
       "      <th>2024-05</th>\n",
       "      <th>2024-06</th>\n",
       "      <th>2024-07</th>\n",
       "      <th>2024-08</th>\n",
       "      <th>2024-09</th>\n",
       "      <th>2024-10</th>\n",
       "      <th>2024-11</th>\n",
       "      <th>2024-12</th>\n",
       "      <th>2025-01</th>\n",
       "      <th>2025-02</th>\n",
       "    </tr>\n",
       "  </thead>\n",
       "  <tbody>\n",
       "    <tr>\n",
       "      <th>Fund</th>\n",
       "      <td>0.371966</td>\n",
       "      <td>-0.043178</td>\n",
       "      <td>-0.299313</td>\n",
       "      <td>0.378433</td>\n",
       "      <td>0.172194</td>\n",
       "      <td>-0.066041</td>\n",
       "      <td>0.605313</td>\n",
       "      <td>0.220143</td>\n",
       "      <td>-0.181931</td>\n",
       "      <td>-0.100998</td>\n",
       "      <td>...</td>\n",
       "      <td>0.091552</td>\n",
       "      <td>-0.177833</td>\n",
       "      <td>-0.009851</td>\n",
       "      <td>-0.117252</td>\n",
       "      <td>0.125150</td>\n",
       "      <td>0.082043</td>\n",
       "      <td>1.429344</td>\n",
       "      <td>-0.150421</td>\n",
       "      <td>0.029670</td>\n",
       "      <td>-0.088833</td>\n",
       "    </tr>\n",
       "    <tr>\n",
       "      <th>Bitcoin</th>\n",
       "      <td>0.298859</td>\n",
       "      <td>-0.091746</td>\n",
       "      <td>-0.248649</td>\n",
       "      <td>0.297622</td>\n",
       "      <td>0.070388</td>\n",
       "      <td>-0.104131</td>\n",
       "      <td>0.227844</td>\n",
       "      <td>-0.012851</td>\n",
       "      <td>-0.096073</td>\n",
       "      <td>0.298694</td>\n",
       "      <td>...</td>\n",
       "      <td>0.157201</td>\n",
       "      <td>-0.073706</td>\n",
       "      <td>0.027472</td>\n",
       "      <td>-0.097623</td>\n",
       "      <td>0.105158</td>\n",
       "      <td>0.156009</td>\n",
       "      <td>0.387245</td>\n",
       "      <td>-0.037137</td>\n",
       "      <td>0.082859</td>\n",
       "      <td>0.006885</td>\n",
       "    </tr>\n",
       "  </tbody>\n",
       "</table>\n",
       "<p>2 rows × 62 columns</p>\n",
       "</div>"
      ],
      "text/plain": [
       "          2020-01   2020-02   2020-03   2020-04   2020-05   2020-06   2020-07  \\\n",
       "Fund     0.371966 -0.043178 -0.299313  0.378433  0.172194 -0.066041  0.605313   \n",
       "Bitcoin  0.298859 -0.091746 -0.248649  0.297622  0.070388 -0.104131  0.227844   \n",
       "\n",
       "          2020-08   2020-09   2020-10  ...   2024-05   2024-06   2024-07  \\\n",
       "Fund     0.220143 -0.181931 -0.100998  ...  0.091552 -0.177833 -0.009851   \n",
       "Bitcoin -0.012851 -0.096073  0.298694  ...  0.157201 -0.073706  0.027472   \n",
       "\n",
       "          2024-08   2024-09   2024-10   2024-11   2024-12   2025-01   2025-02  \n",
       "Fund    -0.117252  0.125150  0.082043  1.429344 -0.150421  0.029670 -0.088833  \n",
       "Bitcoin -0.097623  0.105158  0.156009  0.387245 -0.037137  0.082859  0.006885  \n",
       "\n",
       "[2 rows x 62 columns]"
      ]
     },
     "execution_count": 30,
     "metadata": {},
     "output_type": "execute_result"
    }
   ],
   "source": [
    "month_returns_dataframe=pd.DataFrame(month_returns)\n",
    "month_returns_dataframe"
   ]
  },
  {
   "cell_type": "code",
   "execution_count": 31,
   "id": "90330450-5a6a-41c5-b8a1-42a838f2019d",
   "metadata": {},
   "outputs": [],
   "source": [
    "metrics={}\n",
    "metrics['Tracking Error']=(performance_pct['Fund']-performance_pct['Bitcoin']).std()*np.sqrt(252)\n",
    "metrics['Fund Vol']=performance_pct['Fund'].std()*np.sqrt(252)\n",
    "metrics['Bench Vol']=performance_pct['Bitcoin'].std()*np.sqrt(252)\n",
    "metrics['Fund Return']=performance['Fund'].iloc[-2]/performance['Fund'].iloc[0]\n",
    "metrics['Bench Return']=performance['Bitcoin'].iloc[-2]/performance['Bitcoin'].iloc[0]\n",
    "metrics['Sharpe Ratio']=metrics['Fund Return']/metrics['Fund Vol']"
   ]
  },
  {
   "cell_type": "code",
   "execution_count": 32,
   "id": "fd0637d4-31a6-4571-b4bd-145f75f47312",
   "metadata": {},
   "outputs": [
    {
     "data": {
      "text/html": [
       "<div>\n",
       "<style scoped>\n",
       "    .dataframe tbody tr th:only-of-type {\n",
       "        vertical-align: middle;\n",
       "    }\n",
       "\n",
       "    .dataframe tbody tr th {\n",
       "        vertical-align: top;\n",
       "    }\n",
       "\n",
       "    .dataframe thead th {\n",
       "        text-align: right;\n",
       "    }\n",
       "</style>\n",
       "<table border=\"1\" class=\"dataframe\">\n",
       "  <thead>\n",
       "    <tr style=\"text-align: right;\">\n",
       "      <th></th>\n",
       "      <th>Indicators</th>\n",
       "    </tr>\n",
       "  </thead>\n",
       "  <tbody>\n",
       "    <tr>\n",
       "      <th>Tracking Error</th>\n",
       "      <td>0.474759</td>\n",
       "    </tr>\n",
       "    <tr>\n",
       "      <th>Fund Vol</th>\n",
       "      <td>0.746688</td>\n",
       "    </tr>\n",
       "    <tr>\n",
       "      <th>Bench Vol</th>\n",
       "      <td>0.537607</td>\n",
       "    </tr>\n",
       "    <tr>\n",
       "      <th>Fund Return</th>\n",
       "      <td>36.636806</td>\n",
       "    </tr>\n",
       "    <tr>\n",
       "      <th>Bench Return</th>\n",
       "      <td>14.071744</td>\n",
       "    </tr>\n",
       "    <tr>\n",
       "      <th>Sharpe Ratio</th>\n",
       "      <td>49.065766</td>\n",
       "    </tr>\n",
       "  </tbody>\n",
       "</table>\n",
       "</div>"
      ],
      "text/plain": [
       "                Indicators\n",
       "Tracking Error    0.474759\n",
       "Fund Vol          0.746688\n",
       "Bench Vol         0.537607\n",
       "Fund Return      36.636806\n",
       "Bench Return     14.071744\n",
       "Sharpe Ratio     49.065766"
      ]
     },
     "execution_count": 32,
     "metadata": {},
     "output_type": "execute_result"
    }
   ],
   "source": [
    "indicators=pd.DataFrame(metrics.values(),index=metrics.keys(),columns=['Indicators'])\n",
    "indicators"
   ]
  },
  {
   "cell_type": "markdown",
   "id": "40ba0c83-2a2e-41f7-8c7c-383f818e29ca",
   "metadata": {},
   "source": [
    "## Totally not worth it... Better to do an Efficient Frontier"
   ]
  },
  {
   "cell_type": "code",
   "execution_count": null,
   "id": "bb7d2cec-0910-4267-a86d-793960147c10",
   "metadata": {},
   "outputs": [],
   "source": []
  }
 ],
 "metadata": {
  "kernelspec": {
   "display_name": "Python [conda env:base] *",
   "language": "python",
   "name": "conda-base-py"
  },
  "language_info": {
   "codemirror_mode": {
    "name": "ipython",
    "version": 3
   },
   "file_extension": ".py",
   "mimetype": "text/x-python",
   "name": "python",
   "nbconvert_exporter": "python",
   "pygments_lexer": "ipython3",
   "version": "3.12.7"
  }
 },
 "nbformat": 4,
 "nbformat_minor": 5
}
