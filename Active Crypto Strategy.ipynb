{
 "cells": [
  {
   "cell_type": "markdown",
   "id": "ae6785e3-e1f1-49f3-acc2-8f4fbc781b5c",
   "metadata": {},
   "source": [
    "# Importing libraries"
   ]
  },
  {
   "cell_type": "code",
   "execution_count": 2,
   "id": "f8d76485-1d84-4d5a-8256-d8e22025b46a",
   "metadata": {},
   "outputs": [],
   "source": [
    "import pandas as pd\n",
    "import random\n",
    "import numpy as np\n",
    "import matplotlib.pyplot as plt\n",
    "import datetime\n",
    "import seaborn as sns"
   ]
  },
  {
   "cell_type": "code",
   "execution_count": 3,
   "id": "ac3ec80e-2c5c-4477-bd0a-d89c52eaa148",
   "metadata": {},
   "outputs": [],
   "source": [
    "%run \"Binance API.ipynb\".ipynb\n",
    "%run \"RiskMetrics.ipynb\".ipynb"
   ]
  },
  {
   "cell_type": "code",
   "execution_count": 4,
   "id": "1872d13f-26a9-4f68-bb6b-5584ae9cfe8a",
   "metadata": {},
   "outputs": [],
   "source": [
    "binance_api_key='E90xR7UnO2oeP3lrgC50zkqUuAqyyXs4uSlAGcqIVO9n90ELrFI4gfVI2HGGxxCj'\n",
    "binance_api_secret='Inls2xYl9FqPi0zlIrucfxG81drx7w6Pv6SzYFxMNoAcwDjlCKug7zUM9zB3lF9h'\n",
    "Binance=BinanceAPI(binance_api_key,binance_api_secret)"
   ]
  },
  {
   "cell_type": "markdown",
   "id": "46a0cf6e-ae4d-4a19-afff-a5d47c41d68c",
   "metadata": {},
   "source": [
    "# Importing Data"
   ]
  },
  {
   "cell_type": "code",
   "execution_count": 6,
   "id": "69b4b84c-829b-488f-be25-1bc9f998c6f8",
   "metadata": {},
   "outputs": [],
   "source": [
    "#start_date=datetime.datetime(2020,1,1)\n",
    "start_date=datetime.datetime(2024,1,1)\n",
    "today=datetime.datetime.today()"
   ]
  },
  {
   "cell_type": "code",
   "execution_count": 7,
   "id": "f9718c11-469f-4979-a6a1-ed80d983fd09",
   "metadata": {},
   "outputs": [
    {
     "data": {
      "text/plain": [
       "405"
      ]
     },
     "execution_count": 7,
     "metadata": {},
     "output_type": "execute_result"
    }
   ],
   "source": [
    "days=(today-start_date).days\n",
    "days"
   ]
  },
  {
   "cell_type": "code",
   "execution_count": 8,
   "id": "23578fa9-0e99-4e85-8c08-6d531325758e",
   "metadata": {},
   "outputs": [],
   "source": [
    "remaining=days%500\n",
    "numbers_of_table=days//500"
   ]
  },
  {
   "cell_type": "code",
   "execution_count": 9,
   "id": "846ea23b-6759-4a44-9b39-bbf55a534a73",
   "metadata": {},
   "outputs": [],
   "source": [
    "tickers=Binance.get_market_cap()['Ticker'].iloc[:30].to_list()"
   ]
  },
  {
   "cell_type": "code",
   "execution_count": 10,
   "id": "ddd4015d-5378-428a-8217-f83df96ee955",
   "metadata": {},
   "outputs": [],
   "source": [
    "temp_end=start_date\n",
    "prices=pd.DataFrame()\n",
    "for i in range(numbers_of_table+1):\n",
    "    data=Binance.get_price(tickers,temp_end)\n",
    "    temp_end=temp_end+datetime.timedelta(500)\n",
    "    prices=prices.combine_first(data)\n",
    "    \n",
    "temp_end=(today-datetime.timedelta(days))\n",
    "data=Binance.get_price(tickers,temp_end)\n",
    "omusdt=Binance.get_price(['OMUSDT'],temp_end)\n",
    "prices=prices.combine_first(data)\n",
    "prices=prices.sort_index()\n",
    "prices = prices[~prices.index.duplicated(keep='first')]\n",
    "prices['OMUSDT']=omusdt"
   ]
  },
  {
   "cell_type": "code",
   "execution_count": 11,
   "id": "762b354d-95ea-4e9c-9a88-30676480cf61",
   "metadata": {},
   "outputs": [],
   "source": [
    "returns=np.log(1+prices.pct_change())\n",
    "returns.index=pd.to_datetime(returns.index)\n",
    "with_no_na=returns.columns[np.where((returns.isna().sum()<30))]\n",
    "returns_to_use=returns[with_no_na].sort_index()"
   ]
  },
  {
   "cell_type": "code",
   "execution_count": 12,
   "id": "7e909abe-258f-4023-9a70-e8e38f6937d1",
   "metadata": {},
   "outputs": [],
   "source": [
    "dataframe=prices[with_no_na].sort_index()\n",
    "dataframe.index=pd.to_datetime(dataframe.index)"
   ]
  },
  {
   "cell_type": "code",
   "execution_count": 13,
   "id": "f0c39838-90d6-411d-8986-e65298484d8f",
   "metadata": {},
   "outputs": [],
   "source": [
    "returns_to_use.index=pd.to_datetime(returns_to_use.index)\n",
    "returns_to_use = returns_to_use[~returns_to_use.index.duplicated(keep='first')]"
   ]
  },
  {
   "cell_type": "markdown",
   "id": "1841f2b4-c521-4198-9e5c-0c38478bbcd3",
   "metadata": {},
   "source": [
    "# Strategy Backtesting"
   ]
  },
  {
   "cell_type": "code",
   "execution_count": 15,
   "id": "1032df5e-dfab-4b88-baec-05fb6d36b5c1",
   "metadata": {},
   "outputs": [],
   "source": [
    "month=list(sorted(set(returns_to_use.index + pd.offsets.BMonthEnd(0))))\n",
    "#month_end=pd.to_datetime(mrat_wo_na.index)\n",
    "month = pd.to_datetime(month)\n",
    "\n",
    "idx1 = pd.Index(returns_to_use.iloc[:-1].index)\n",
    "idx2 = pd.Index(month)\n",
    "closest_dates = idx1[idx1.get_indexer(idx2, method='nearest')]\n",
    "\n",
    "dates_end=list(closest_dates)\n",
    "dates_end.insert(0,returns_to_use.index[1])\n",
    "dates_end.append(returns_to_use.index[-1])\n",
    "dates_end=sorted(list(set(dates_end)))\n",
    "dates_end.pop(0)\n",
    "dates_end=sorted(list(set(dates_end)))"
   ]
  },
  {
   "cell_type": "code",
   "execution_count": 16,
   "id": "c2ea8818-18a9-4a71-bc65-b11e12fa03bb",
   "metadata": {},
   "outputs": [
    {
     "data": {
      "text/html": [
       "<div>\n",
       "<style scoped>\n",
       "    .dataframe tbody tr th:only-of-type {\n",
       "        vertical-align: middle;\n",
       "    }\n",
       "\n",
       "    .dataframe tbody tr th {\n",
       "        vertical-align: top;\n",
       "    }\n",
       "\n",
       "    .dataframe thead th {\n",
       "        text-align: right;\n",
       "    }\n",
       "</style>\n",
       "<table border=\"1\" class=\"dataframe\">\n",
       "  <thead>\n",
       "    <tr style=\"text-align: right;\">\n",
       "      <th></th>\n",
       "      <th>AAVEUSDT</th>\n",
       "      <th>ADAUSDT</th>\n",
       "      <th>APTUSDT</th>\n",
       "      <th>AVAXUSDT</th>\n",
       "      <th>BCHUSDT</th>\n",
       "      <th>BNBUSDT</th>\n",
       "      <th>BTCUSDT</th>\n",
       "      <th>DOGEUSDT</th>\n",
       "      <th>DOTUSDT</th>\n",
       "      <th>ETCUSDT</th>\n",
       "      <th>...</th>\n",
       "      <th>SHIBUSDT</th>\n",
       "      <th>SOLUSDT</th>\n",
       "      <th>SUIUSDT</th>\n",
       "      <th>TRXUSDT</th>\n",
       "      <th>UNIUSDT</th>\n",
       "      <th>USDCUSDT</th>\n",
       "      <th>WBETHUSDT</th>\n",
       "      <th>WBTCUSDT</th>\n",
       "      <th>XLMUSDT</th>\n",
       "      <th>XRPUSDT</th>\n",
       "    </tr>\n",
       "  </thead>\n",
       "  <tbody>\n",
       "    <tr>\n",
       "      <th>2023-12-31</th>\n",
       "      <td>NaN</td>\n",
       "      <td>NaN</td>\n",
       "      <td>NaN</td>\n",
       "      <td>NaN</td>\n",
       "      <td>NaN</td>\n",
       "      <td>NaN</td>\n",
       "      <td>NaN</td>\n",
       "      <td>NaN</td>\n",
       "      <td>NaN</td>\n",
       "      <td>NaN</td>\n",
       "      <td>...</td>\n",
       "      <td>NaN</td>\n",
       "      <td>NaN</td>\n",
       "      <td>NaN</td>\n",
       "      <td>NaN</td>\n",
       "      <td>NaN</td>\n",
       "      <td>NaN</td>\n",
       "      <td>NaN</td>\n",
       "      <td>NaN</td>\n",
       "      <td>NaN</td>\n",
       "      <td>NaN</td>\n",
       "    </tr>\n",
       "    <tr>\n",
       "      <th>2024-01-01</th>\n",
       "      <td>0.066555</td>\n",
       "      <td>0.047988</td>\n",
       "      <td>0.056940</td>\n",
       "      <td>0.084284</td>\n",
       "      <td>0.030713</td>\n",
       "      <td>0.005437</td>\n",
       "      <td>0.043863</td>\n",
       "      <td>0.026883</td>\n",
       "      <td>0.046803</td>\n",
       "      <td>0.026116</td>\n",
       "      <td>...</td>\n",
       "      <td>0.030421</td>\n",
       "      <td>0.077438</td>\n",
       "      <td>0.084794</td>\n",
       "      <td>0.000743</td>\n",
       "      <td>0.051016</td>\n",
       "      <td>-0.0004</td>\n",
       "      <td>0.030269</td>\n",
       "      <td>0.045063</td>\n",
       "      <td>0.022990</td>\n",
       "      <td>0.022170</td>\n",
       "    </tr>\n",
       "    <tr>\n",
       "      <th>2024-01-02</th>\n",
       "      <td>-0.052032</td>\n",
       "      <td>-0.029639</td>\n",
       "      <td>0.031569</td>\n",
       "      <td>-0.032226</td>\n",
       "      <td>-0.040775</td>\n",
       "      <td>-0.004155</td>\n",
       "      <td>0.017220</td>\n",
       "      <td>-0.009722</td>\n",
       "      <td>-0.021640</td>\n",
       "      <td>-0.023837</td>\n",
       "      <td>...</td>\n",
       "      <td>-0.011300</td>\n",
       "      <td>-0.029360</td>\n",
       "      <td>0.071345</td>\n",
       "      <td>0.005739</td>\n",
       "      <td>-0.057545</td>\n",
       "      <td>-0.0002</td>\n",
       "      <td>0.002013</td>\n",
       "      <td>0.016608</td>\n",
       "      <td>-0.022215</td>\n",
       "      <td>-0.007656</td>\n",
       "    </tr>\n",
       "    <tr>\n",
       "      <th>2024-01-03</th>\n",
       "      <td>-0.071600</td>\n",
       "      <td>-0.082843</td>\n",
       "      <td>-0.124198</td>\n",
       "      <td>-0.098516</td>\n",
       "      <td>-0.094144</td>\n",
       "      <td>0.011465</td>\n",
       "      <td>-0.047888</td>\n",
       "      <td>-0.105117</td>\n",
       "      <td>-0.097977</td>\n",
       "      <td>-0.092447</td>\n",
       "      <td>...</td>\n",
       "      <td>-0.098440</td>\n",
       "      <td>-0.080043</td>\n",
       "      <td>-0.071463</td>\n",
       "      <td>-0.014785</td>\n",
       "      <td>-0.109162</td>\n",
       "      <td>-0.0002</td>\n",
       "      <td>-0.063265</td>\n",
       "      <td>-0.048516</td>\n",
       "      <td>-0.068938</td>\n",
       "      <td>-0.070126</td>\n",
       "    </tr>\n",
       "    <tr>\n",
       "      <th>2024-01-04</th>\n",
       "      <td>0.010754</td>\n",
       "      <td>0.023075</td>\n",
       "      <td>0.130225</td>\n",
       "      <td>0.050858</td>\n",
       "      <td>0.023232</td>\n",
       "      <td>0.024708</td>\n",
       "      <td>0.030024</td>\n",
       "      <td>0.024095</td>\n",
       "      <td>0.032638</td>\n",
       "      <td>0.021729</td>\n",
       "      <td>...</td>\n",
       "      <td>0.042951</td>\n",
       "      <td>0.062843</td>\n",
       "      <td>0.011549</td>\n",
       "      <td>0.001965</td>\n",
       "      <td>0.014966</td>\n",
       "      <td>-0.0004</td>\n",
       "      <td>0.024235</td>\n",
       "      <td>0.029659</td>\n",
       "      <td>0.009087</td>\n",
       "      <td>0.007698</td>\n",
       "    </tr>\n",
       "    <tr>\n",
       "      <th>...</th>\n",
       "      <td>...</td>\n",
       "      <td>...</td>\n",
       "      <td>...</td>\n",
       "      <td>...</td>\n",
       "      <td>...</td>\n",
       "      <td>...</td>\n",
       "      <td>...</td>\n",
       "      <td>...</td>\n",
       "      <td>...</td>\n",
       "      <td>...</td>\n",
       "      <td>...</td>\n",
       "      <td>...</td>\n",
       "      <td>...</td>\n",
       "      <td>...</td>\n",
       "      <td>...</td>\n",
       "      <td>...</td>\n",
       "      <td>...</td>\n",
       "      <td>...</td>\n",
       "      <td>...</td>\n",
       "      <td>...</td>\n",
       "      <td>...</td>\n",
       "    </tr>\n",
       "    <tr>\n",
       "      <th>2025-02-05</th>\n",
       "      <td>-0.047339</td>\n",
       "      <td>-0.015443</td>\n",
       "      <td>-0.018258</td>\n",
       "      <td>-0.023710</td>\n",
       "      <td>-0.005170</td>\n",
       "      <td>-0.005498</td>\n",
       "      <td>-0.011840</td>\n",
       "      <td>-0.027944</td>\n",
       "      <td>-0.011240</td>\n",
       "      <td>0.001451</td>\n",
       "      <td>...</td>\n",
       "      <td>0.001269</td>\n",
       "      <td>-0.052251</td>\n",
       "      <td>-0.076233</td>\n",
       "      <td>-0.008949</td>\n",
       "      <td>0.022353</td>\n",
       "      <td>0.0003</td>\n",
       "      <td>0.021090</td>\n",
       "      <td>-0.011733</td>\n",
       "      <td>-0.041030</td>\n",
       "      <td>-0.059671</td>\n",
       "    </tr>\n",
       "    <tr>\n",
       "      <th>2025-02-06</th>\n",
       "      <td>-0.072779</td>\n",
       "      <td>-0.037982</td>\n",
       "      <td>-0.041031</td>\n",
       "      <td>-0.053251</td>\n",
       "      <td>-0.036639</td>\n",
       "      <td>0.003803</td>\n",
       "      <td>-0.000601</td>\n",
       "      <td>-0.032934</td>\n",
       "      <td>-0.043367</td>\n",
       "      <td>-0.049540</td>\n",
       "      <td>...</td>\n",
       "      <td>-0.059436</td>\n",
       "      <td>-0.034127</td>\n",
       "      <td>-0.060148</td>\n",
       "      <td>0.040085</td>\n",
       "      <td>-0.031770</td>\n",
       "      <td>0.0000</td>\n",
       "      <td>-0.036770</td>\n",
       "      <td>-0.000156</td>\n",
       "      <td>-0.027586</td>\n",
       "      <td>-0.023801</td>\n",
       "    </tr>\n",
       "    <tr>\n",
       "      <th>2025-02-07</th>\n",
       "      <td>-0.014306</td>\n",
       "      <td>0.002832</td>\n",
       "      <td>-0.001747</td>\n",
       "      <td>-0.001634</td>\n",
       "      <td>0.007561</td>\n",
       "      <td>0.010423</td>\n",
       "      <td>-0.000493</td>\n",
       "      <td>-0.005583</td>\n",
       "      <td>0.022681</td>\n",
       "      <td>0.006076</td>\n",
       "      <td>...</td>\n",
       "      <td>0.016022</td>\n",
       "      <td>0.012843</td>\n",
       "      <td>-0.039649</td>\n",
       "      <td>-0.006932</td>\n",
       "      <td>0.002890</td>\n",
       "      <td>-0.0002</td>\n",
       "      <td>-0.024680</td>\n",
       "      <td>-0.001382</td>\n",
       "      <td>0.026668</td>\n",
       "      <td>0.030414</td>\n",
       "    </tr>\n",
       "    <tr>\n",
       "      <th>2025-02-08</th>\n",
       "      <td>0.003313</td>\n",
       "      <td>-0.009519</td>\n",
       "      <td>0.020762</td>\n",
       "      <td>0.004894</td>\n",
       "      <td>0.014025</td>\n",
       "      <td>0.058297</td>\n",
       "      <td>-0.000643</td>\n",
       "      <td>0.025513</td>\n",
       "      <td>0.032558</td>\n",
       "      <td>0.015527</td>\n",
       "      <td>...</td>\n",
       "      <td>0.055391</td>\n",
       "      <td>0.037468</td>\n",
       "      <td>0.015964</td>\n",
       "      <td>0.005636</td>\n",
       "      <td>0.014216</td>\n",
       "      <td>0.0001</td>\n",
       "      <td>0.004153</td>\n",
       "      <td>-0.000610</td>\n",
       "      <td>0.014279</td>\n",
       "      <td>0.009220</td>\n",
       "    </tr>\n",
       "    <tr>\n",
       "      <th>2025-02-09</th>\n",
       "      <td>0.031730</td>\n",
       "      <td>-0.006876</td>\n",
       "      <td>0.018660</td>\n",
       "      <td>0.022527</td>\n",
       "      <td>0.016575</td>\n",
       "      <td>0.019614</td>\n",
       "      <td>0.000365</td>\n",
       "      <td>0.004616</td>\n",
       "      <td>0.019203</td>\n",
       "      <td>0.010875</td>\n",
       "      <td>...</td>\n",
       "      <td>-0.001254</td>\n",
       "      <td>0.012910</td>\n",
       "      <td>0.007223</td>\n",
       "      <td>0.023923</td>\n",
       "      <td>0.015203</td>\n",
       "      <td>-0.0002</td>\n",
       "      <td>0.009711</td>\n",
       "      <td>-0.000412</td>\n",
       "      <td>-0.026905</td>\n",
       "      <td>0.002890</td>\n",
       "    </tr>\n",
       "  </tbody>\n",
       "</table>\n",
       "<p>407 rows × 28 columns</p>\n",
       "</div>"
      ],
      "text/plain": [
       "            AAVEUSDT   ADAUSDT   APTUSDT  AVAXUSDT   BCHUSDT   BNBUSDT  \\\n",
       "2023-12-31       NaN       NaN       NaN       NaN       NaN       NaN   \n",
       "2024-01-01  0.066555  0.047988  0.056940  0.084284  0.030713  0.005437   \n",
       "2024-01-02 -0.052032 -0.029639  0.031569 -0.032226 -0.040775 -0.004155   \n",
       "2024-01-03 -0.071600 -0.082843 -0.124198 -0.098516 -0.094144  0.011465   \n",
       "2024-01-04  0.010754  0.023075  0.130225  0.050858  0.023232  0.024708   \n",
       "...              ...       ...       ...       ...       ...       ...   \n",
       "2025-02-05 -0.047339 -0.015443 -0.018258 -0.023710 -0.005170 -0.005498   \n",
       "2025-02-06 -0.072779 -0.037982 -0.041031 -0.053251 -0.036639  0.003803   \n",
       "2025-02-07 -0.014306  0.002832 -0.001747 -0.001634  0.007561  0.010423   \n",
       "2025-02-08  0.003313 -0.009519  0.020762  0.004894  0.014025  0.058297   \n",
       "2025-02-09  0.031730 -0.006876  0.018660  0.022527  0.016575  0.019614   \n",
       "\n",
       "             BTCUSDT  DOGEUSDT   DOTUSDT   ETCUSDT  ...  SHIBUSDT   SOLUSDT  \\\n",
       "2023-12-31       NaN       NaN       NaN       NaN  ...       NaN       NaN   \n",
       "2024-01-01  0.043863  0.026883  0.046803  0.026116  ...  0.030421  0.077438   \n",
       "2024-01-02  0.017220 -0.009722 -0.021640 -0.023837  ... -0.011300 -0.029360   \n",
       "2024-01-03 -0.047888 -0.105117 -0.097977 -0.092447  ... -0.098440 -0.080043   \n",
       "2024-01-04  0.030024  0.024095  0.032638  0.021729  ...  0.042951  0.062843   \n",
       "...              ...       ...       ...       ...  ...       ...       ...   \n",
       "2025-02-05 -0.011840 -0.027944 -0.011240  0.001451  ...  0.001269 -0.052251   \n",
       "2025-02-06 -0.000601 -0.032934 -0.043367 -0.049540  ... -0.059436 -0.034127   \n",
       "2025-02-07 -0.000493 -0.005583  0.022681  0.006076  ...  0.016022  0.012843   \n",
       "2025-02-08 -0.000643  0.025513  0.032558  0.015527  ...  0.055391  0.037468   \n",
       "2025-02-09  0.000365  0.004616  0.019203  0.010875  ... -0.001254  0.012910   \n",
       "\n",
       "             SUIUSDT   TRXUSDT   UNIUSDT  USDCUSDT  WBETHUSDT  WBTCUSDT  \\\n",
       "2023-12-31       NaN       NaN       NaN       NaN        NaN       NaN   \n",
       "2024-01-01  0.084794  0.000743  0.051016   -0.0004   0.030269  0.045063   \n",
       "2024-01-02  0.071345  0.005739 -0.057545   -0.0002   0.002013  0.016608   \n",
       "2024-01-03 -0.071463 -0.014785 -0.109162   -0.0002  -0.063265 -0.048516   \n",
       "2024-01-04  0.011549  0.001965  0.014966   -0.0004   0.024235  0.029659   \n",
       "...              ...       ...       ...       ...        ...       ...   \n",
       "2025-02-05 -0.076233 -0.008949  0.022353    0.0003   0.021090 -0.011733   \n",
       "2025-02-06 -0.060148  0.040085 -0.031770    0.0000  -0.036770 -0.000156   \n",
       "2025-02-07 -0.039649 -0.006932  0.002890   -0.0002  -0.024680 -0.001382   \n",
       "2025-02-08  0.015964  0.005636  0.014216    0.0001   0.004153 -0.000610   \n",
       "2025-02-09  0.007223  0.023923  0.015203   -0.0002   0.009711 -0.000412   \n",
       "\n",
       "             XLMUSDT   XRPUSDT  \n",
       "2023-12-31       NaN       NaN  \n",
       "2024-01-01  0.022990  0.022170  \n",
       "2024-01-02 -0.022215 -0.007656  \n",
       "2024-01-03 -0.068938 -0.070126  \n",
       "2024-01-04  0.009087  0.007698  \n",
       "...              ...       ...  \n",
       "2025-02-05 -0.041030 -0.059671  \n",
       "2025-02-06 -0.027586 -0.023801  \n",
       "2025-02-07  0.026668  0.030414  \n",
       "2025-02-08  0.014279  0.009220  \n",
       "2025-02-09 -0.026905  0.002890  \n",
       "\n",
       "[407 rows x 28 columns]"
      ]
     },
     "execution_count": 16,
     "metadata": {},
     "output_type": "execute_result"
    }
   ],
   "source": [
    "returns_to_use"
   ]
  },
  {
   "cell_type": "code",
   "execution_count": 17,
   "id": "64f56027-c1bc-4fb7-a936-34389a0dc4fa",
   "metadata": {
    "scrolled": true
   },
   "outputs": [],
   "source": [
    "results={}\n",
    "btc_limit=np.where(returns_to_use.columns=='BTCUSDT')[0][0]\n",
    "cash=np.where(returns_to_use.columns=='USDCUSDT')[0][0]\n",
    "om_limit=np.where(returns_to_use.columns=='OMUSDT')[0][0]"
   ]
  },
  {
   "cell_type": "code",
   "execution_count": 18,
   "id": "67df5efa-ace0-41fc-9814-ba5ecd318aad",
   "metadata": {
    "scrolled": true
   },
   "outputs": [],
   "source": [
    "for i in range(len(dates_end)-1):\n",
    "    \n",
    "    try:\n",
    "        dataset=returns_to_use.loc[dates_end[i]:dates_end[i+1]]        \n",
    "        risk=RiskAnalysis(dataset)\n",
    "        date=dataset.index[-1]\n",
    "        \n",
    "        optimal=risk.optimize(objective='minimum_variance',constraints=[{'type': 'eq', 'fun': lambda weights: weights[cash]-0.00},\n",
    "                                                                       {'type': 'eq', 'fun': lambda weights: weights[om_limit]-0.5}])\n",
    "        \n",
    "        \n",
    "        results[date]=np.round(optimal,6)\n",
    "\n",
    "    except Exception as e:\n",
    "        \n",
    "        pass\n",
    "\n",
    "rolling_optimization=pd.DataFrame(results,index=dataframe.columns).T"
   ]
  },
  {
   "cell_type": "code",
   "execution_count": 19,
   "id": "6aa9de20-43f2-4713-bffb-28ee380975fe",
   "metadata": {},
   "outputs": [
    {
     "name": "stdout",
     "output_type": "stream",
     "text": [
      "2024-01-31 00:00:00 1000 1.0\n",
      "2024-02-29 00:00:00 1373.8554665544648 1.3738554665544649\n",
      "2024-03-29 00:00:00 2529.2349335298286 2.5292349335298288\n",
      "2024-04-30 00:00:00 1997.8501118870627 1.9978501118870626\n",
      "2024-05-31 00:00:00 1937.743113383508 1.937743113383508\n",
      "2024-06-28 00:00:00 2061.3339445139513 2.0613339445139514\n",
      "2024-07-31 00:00:00 2792.373637208128 2.792373637208128\n",
      "2024-08-30 00:00:00 2763.4305597131925 2.7634305597131923\n",
      "2024-09-30 00:00:00 3181.8470146739046 3.1818470146739046\n",
      "2024-10-31 00:00:00 3513.3173952602256 3.5133173952602257\n",
      "2024-11-29 00:00:00 6370.12284501686 6.37012284501686\n",
      "2024-12-31 00:00:00 6371.352982059771 6.371352982059771\n",
      "2025-01-31 00:00:00 8326.58309300595 8.326583093005949\n",
      "2025-02-08 00:00:00 8076.193955869622 8.076193955869622\n"
     ]
    }
   ],
   "source": [
    "tracking={}\n",
    "portfolio={}\n",
    "investment_amount=1000\n",
    "initial_amount=investment_amount\n",
    "perf=dataframe.pct_change()\n",
    "transaction_fee=0.005\n",
    "\n",
    "weight_dict={col: 1/returns_to_use.shape[1] for col in returns_to_use.columns}\n",
    "\n",
    "\n",
    "for i in range(len(dates_end)-1):\n",
    "    \n",
    "    print(dates_end[i],investment_amount,investment_amount/initial_amount)\n",
    "\n",
    "    \n",
    "    temp=dataframe.loc[dates_end[i]:dates_end[i+1]].copy()\n",
    "    initial_price=temp.iloc[0].to_dict()\n",
    "\n",
    "    if dates_end[i]>dates_end[0]:\n",
    "\n",
    "        top50=rolling_optimization.loc[dates_end[i]]\n",
    "        top50_dict=rolling_optimization.loc[dates_end[i]].to_dict()\n",
    "        weight_dict={}\n",
    "\n",
    "        for key in temp.columns:\n",
    "\n",
    "            if key in top50_dict: \n",
    "                weight_dict[key]=top50_dict[key]\n",
    "            else:\n",
    "                weight_dict[key]=0\n",
    "      \n",
    "                \n",
    "    weight_vec=np.array(list(weight_dict.values()))\n",
    "    \n",
    "    inital_investment_per_stock={}\n",
    "    shares={}\n",
    "\n",
    "    for col in temp.columns:\n",
    "        \n",
    "        weighted_perf=weight_vec*perf.loc[dates_end[i]]\n",
    "        \n",
    "        inital_investment_per_stock[col]=weight_dict[col]*investment_amount*(1+weighted_perf.sum())\n",
    "        shares[col]=inital_investment_per_stock[col]*(1-transaction_fee)/initial_price[col]\n",
    "\n",
    "    tracking[dates_end[i]]=(weight_dict,shares,investment_amount,initial_price)\n",
    "\n",
    "    temp=temp*shares    \n",
    "    portfolio[dates_end[i]]=temp\n",
    "    investment_amount=temp.iloc[-1].sum()\n",
    "    \n",
    "\n",
    "temp=dataframe.loc[dates_end[-2]:]*shares\n",
    "portfolio[dates_end[-1]]=temp"
   ]
  },
  {
   "cell_type": "code",
   "execution_count": 20,
   "id": "4c2efad0-386c-4162-a2b4-12005328a993",
   "metadata": {},
   "outputs": [],
   "source": [
    "historical_portfolio=pd.DataFrame()\n",
    "performance=pd.DataFrame()\n",
    "for key in portfolio.keys():\n",
    "    historical_portfolio=historical_portfolio.combine_first(portfolio[key])"
   ]
  },
  {
   "cell_type": "code",
   "execution_count": 21,
   "id": "ed2c20c5-e274-4bd7-9785-60a2fdb12411",
   "metadata": {},
   "outputs": [
    {
     "data": {
      "text/plain": [
       "2024-01-31     973.183465\n",
       "2024-02-01     983.954782\n",
       "2024-02-02    1003.717789\n",
       "2024-02-03    1008.139119\n",
       "2024-02-04    1001.424496\n",
       "                 ...     \n",
       "2025-02-05    7772.118771\n",
       "2025-02-06    7832.192124\n",
       "2025-02-07    7989.650488\n",
       "2025-02-08    8076.193956\n",
       "2025-02-09    8129.515918\n",
       "Length: 376, dtype: float64"
      ]
     },
     "execution_count": 21,
     "metadata": {},
     "output_type": "execute_result"
    }
   ],
   "source": [
    "historical_portfolio.sum(axis=1)"
   ]
  },
  {
   "cell_type": "code",
   "execution_count": 22,
   "id": "b29405d8-968f-4679-84f6-af00716bb934",
   "metadata": {},
   "outputs": [
    {
     "data": {
      "text/plain": [
       "<Axes: >"
      ]
     },
     "execution_count": 22,
     "metadata": {},
     "output_type": "execute_result"
    },
    {
     "data": {
      "image/png": "[encoded data removed]",
      "text/plain": [
       "<Figure size 640x480 with 1 Axes>"
      ]
     },
     "metadata": {},
     "output_type": "display_data"
    }
   ],
   "source": [
    "performance['Fund']=historical_portfolio.sum(axis=1)\n",
    "performance['Bitcoin']=dataframe['BTCUSDT']\n",
    "#performance['Mantra']=dataframe['OMUSDT']\n",
    "\n",
    "performance_pct=performance.copy()\n",
    "performance_pct=performance_pct.pct_change()\n",
    "\n",
    "(1+performance_pct.iloc[:-2]).cumprod().plot()"
   ]
  },
  {
   "cell_type": "code",
   "execution_count": 23,
   "id": "4afef5b7-9c4d-4f05-b4c8-1dc86d00c1b7",
   "metadata": {},
   "outputs": [],
   "source": [
    "years=sorted(list(set(performance.index.year)))\n",
    "\n",
    "month_year=performance.index.strftime('%Y-%m')\n",
    "month_year=sorted(list(set(month_year)))"
   ]
  },
  {
   "cell_type": "code",
   "execution_count": 24,
   "id": "5c2cc86d-dc0d-4255-995a-35ee33c6b674",
   "metadata": {},
   "outputs": [
    {
     "data": {
      "text/plain": [
       "<Axes: >"
      ]
     },
     "execution_count": 24,
     "metadata": {},
     "output_type": "execute_result"
    },
    {
     "data": {
      "image/png": "[encoded data removed]",
      "text/plain": [
       "<Figure size 640x480 with 1 Axes>"
      ]
     },
     "metadata": {},
     "output_type": "display_data"
    }
   ],
   "source": [
    "(1+performance_pct.loc['2025-01']).cumprod().plot()"
   ]
  },
  {
   "cell_type": "code",
   "execution_count": 25,
   "id": "08977b3b-e104-4556-becf-d95cfa66d47b",
   "metadata": {},
   "outputs": [],
   "source": [
    "year_returns={}\n",
    "for year in years:\n",
    "\n",
    "    perf_year=performance.loc[str(year)].iloc[-1]/performance.loc[str(year)].iloc[0]-1\n",
    "    year_returns[year]=perf_year\n",
    "\n",
    "year_returns[years[-1]]=performance.loc[str(years[-1])].iloc[-2]/performance.loc[str(years[-1])].iloc[0]-1"
   ]
  },
  {
   "cell_type": "code",
   "execution_count": 26,
   "id": "df2b79a1-b05c-4654-8e18-9db5fe4dec25",
   "metadata": {},
   "outputs": [
    {
     "data": {
      "text/html": [
       "<div>\n",
       "<style scoped>\n",
       "    .dataframe tbody tr th:only-of-type {\n",
       "        vertical-align: middle;\n",
       "    }\n",
       "\n",
       "    .dataframe tbody tr th {\n",
       "        vertical-align: top;\n",
       "    }\n",
       "\n",
       "    .dataframe thead th {\n",
       "        text-align: right;\n",
       "    }\n",
       "</style>\n",
       "<table border=\"1\" class=\"dataframe\">\n",
       "  <thead>\n",
       "    <tr style=\"text-align: right;\">\n",
       "      <th></th>\n",
       "      <th>2024</th>\n",
       "      <th>2025</th>\n",
       "    </tr>\n",
       "  </thead>\n",
       "  <tbody>\n",
       "    <tr>\n",
       "      <th>Fund</th>\n",
       "      <td>5.546919</td>\n",
       "      <td>0.205440</td>\n",
       "    </tr>\n",
       "    <tr>\n",
       "      <th>Bitcoin</th>\n",
       "      <td>1.197651</td>\n",
       "      <td>0.019589</td>\n",
       "    </tr>\n",
       "  </tbody>\n",
       "</table>\n",
       "</div>"
      ],
      "text/plain": [
       "             2024      2025\n",
       "Fund     5.546919  0.205440\n",
       "Bitcoin  1.197651  0.019589"
      ]
     },
     "execution_count": 26,
     "metadata": {},
     "output_type": "execute_result"
    }
   ],
   "source": [
    "year_returns_dataframe=pd.DataFrame(year_returns)\n",
    "year_returns_dataframe"
   ]
  },
  {
   "cell_type": "code",
   "execution_count": 27,
   "id": "665b2193-ec24-402e-942d-6befc099ec83",
   "metadata": {},
   "outputs": [],
   "source": [
    "month_returns={}\n",
    "for month in month_year:\n",
    "\n",
    "    perf_year=performance.loc[str(month)].iloc[-1]/performance.loc[str(month)].iloc[0]-1\n",
    "    month_returns[month]=perf_year\n",
    "\n",
    "month_returns[month]=performance.loc[str(month_year[-1])].iloc[-2]/performance.loc[str(month_year[-1])].iloc[0]-1"
   ]
  },
  {
   "cell_type": "code",
   "execution_count": 28,
   "id": "b8720fc8-d210-4524-82db-ee1fb0268710",
   "metadata": {},
   "outputs": [
    {
     "data": {
      "text/html": [
       "<div>\n",
       "<style scoped>\n",
       "    .dataframe tbody tr th:only-of-type {\n",
       "        vertical-align: middle;\n",
       "    }\n",
       "\n",
       "    .dataframe tbody tr th {\n",
       "        vertical-align: top;\n",
       "    }\n",
       "\n",
       "    .dataframe thead th {\n",
       "        text-align: right;\n",
       "    }\n",
       "</style>\n",
       "<table border=\"1\" class=\"dataframe\">\n",
       "  <thead>\n",
       "    <tr style=\"text-align: right;\">\n",
       "      <th></th>\n",
       "      <th>2024-01</th>\n",
       "      <th>2024-02</th>\n",
       "      <th>2024-03</th>\n",
       "      <th>2024-04</th>\n",
       "      <th>2024-05</th>\n",
       "      <th>2024-06</th>\n",
       "      <th>2024-07</th>\n",
       "      <th>2024-08</th>\n",
       "      <th>2024-09</th>\n",
       "      <th>2024-10</th>\n",
       "      <th>2024-11</th>\n",
       "      <th>2024-12</th>\n",
       "      <th>2025-01</th>\n",
       "      <th>2025-02</th>\n",
       "    </tr>\n",
       "  </thead>\n",
       "  <tbody>\n",
       "    <tr>\n",
       "      <th>Fund</th>\n",
       "      <td>0.0</td>\n",
       "      <td>0.396259</td>\n",
       "      <td>0.733076</td>\n",
       "      <td>-0.165192</td>\n",
       "      <td>0.026170</td>\n",
       "      <td>0.039683</td>\n",
       "      <td>0.228680</td>\n",
       "      <td>-0.020163</td>\n",
       "      <td>0.195765</td>\n",
       "      <td>0.113766</td>\n",
       "      <td>0.869211</td>\n",
       "      <td>-0.019648</td>\n",
       "      <td>0.242813</td>\n",
       "      <td>0.030940</td>\n",
       "    </tr>\n",
       "    <tr>\n",
       "      <th>Bitcoin</th>\n",
       "      <td>0.0</td>\n",
       "      <td>0.418914</td>\n",
       "      <td>0.142529</td>\n",
       "      <td>-0.128899</td>\n",
       "      <td>0.157201</td>\n",
       "      <td>-0.073706</td>\n",
       "      <td>0.027472</td>\n",
       "      <td>-0.097623</td>\n",
       "      <td>0.105158</td>\n",
       "      <td>0.156009</td>\n",
       "      <td>0.387245</td>\n",
       "      <td>-0.037137</td>\n",
       "      <td>0.082859</td>\n",
       "      <td>-0.041644</td>\n",
       "    </tr>\n",
       "  </tbody>\n",
       "</table>\n",
       "</div>"
      ],
      "text/plain": [
       "         2024-01   2024-02   2024-03   2024-04   2024-05   2024-06   2024-07  \\\n",
       "Fund         0.0  0.396259  0.733076 -0.165192  0.026170  0.039683  0.228680   \n",
       "Bitcoin      0.0  0.418914  0.142529 -0.128899  0.157201 -0.073706  0.027472   \n",
       "\n",
       "          2024-08   2024-09   2024-10   2024-11   2024-12   2025-01   2025-02  \n",
       "Fund    -0.020163  0.195765  0.113766  0.869211 -0.019648  0.242813  0.030940  \n",
       "Bitcoin -0.097623  0.105158  0.156009  0.387245 -0.037137  0.082859 -0.041644  "
      ]
     },
     "execution_count": 28,
     "metadata": {},
     "output_type": "execute_result"
    }
   ],
   "source": [
    "month_returns_dataframe=pd.DataFrame(month_returns)\n",
    "month_returns_dataframe"
   ]
  },
  {
   "cell_type": "code",
   "execution_count": 29,
   "id": "1319d512-3587-4f23-a4e6-acd4f33a64c2",
   "metadata": {},
   "outputs": [],
   "source": [
    "metrics={}\n",
    "metrics['Tracking Error']=(performance_pct['Fund']-performance_pct['Bitcoin']).std()*np.sqrt(252)\n",
    "metrics['Fund Vol']=performance_pct['Fund'].std()*np.sqrt(252)\n",
    "metrics['Bench Vol']=performance_pct['Bitcoin'].std()*np.sqrt(252)\n",
    "metrics['Fund Return']=performance['Fund'].iloc[-2]/performance['Fund'].iloc[0]\n",
    "metrics['Bench Return']=performance['Bitcoin'].iloc[-2]/performance['Bitcoin'].iloc[0]\n",
    "metrics['Sharpe Ratio']=(1+metrics['Fund Return'])**(1/len(set(returns_to_use.index.year)))/metrics['Fund Vol']"
   ]
  },
  {
   "cell_type": "code",
   "execution_count": 30,
   "id": "46008c02-0ceb-4e51-a3f8-6e3d5cf31eac",
   "metadata": {},
   "outputs": [
    {
     "data": {
      "text/html": [
       "<div>\n",
       "<style scoped>\n",
       "    .dataframe tbody tr th:only-of-type {\n",
       "        vertical-align: middle;\n",
       "    }\n",
       "\n",
       "    .dataframe tbody tr th {\n",
       "        vertical-align: top;\n",
       "    }\n",
       "\n",
       "    .dataframe thead th {\n",
       "        text-align: right;\n",
       "    }\n",
       "</style>\n",
       "<table border=\"1\" class=\"dataframe\">\n",
       "  <thead>\n",
       "    <tr style=\"text-align: right;\">\n",
       "      <th></th>\n",
       "      <th>Indicators</th>\n",
       "    </tr>\n",
       "  </thead>\n",
       "  <tbody>\n",
       "    <tr>\n",
       "      <th>Tracking Error</th>\n",
       "      <td>0.710522</td>\n",
       "    </tr>\n",
       "    <tr>\n",
       "      <th>Fund Vol</th>\n",
       "      <td>0.771001</td>\n",
       "    </tr>\n",
       "    <tr>\n",
       "      <th>Bench Vol</th>\n",
       "      <td>0.431294</td>\n",
       "    </tr>\n",
       "    <tr>\n",
       "      <th>Fund Return</th>\n",
       "      <td>8.298737</td>\n",
       "    </tr>\n",
       "    <tr>\n",
       "      <th>Bench Return</th>\n",
       "      <td>2.265024</td>\n",
       "    </tr>\n",
       "    <tr>\n",
       "      <th>Sharpe Ratio</th>\n",
       "      <td>2.727427</td>\n",
       "    </tr>\n",
       "  </tbody>\n",
       "</table>\n",
       "</div>"
      ],
      "text/plain": [
       "                Indicators\n",
       "Tracking Error    0.710522\n",
       "Fund Vol          0.771001\n",
       "Bench Vol         0.431294\n",
       "Fund Return       8.298737\n",
       "Bench Return      2.265024\n",
       "Sharpe Ratio      2.727427"
      ]
     },
     "execution_count": 30,
     "metadata": {},
     "output_type": "execute_result"
    }
   ],
   "source": [
    "indicators=pd.DataFrame(metrics.values(),index=metrics.keys(),columns=['Indicators'])\n",
    "indicators"
   ]
  },
  {
   "cell_type": "code",
   "execution_count": 31,
   "id": "9a0e956d-e188-4c4d-94e1-8cb2ac613b8c",
   "metadata": {},
   "outputs": [
    {
     "data": {
      "text/plain": [
       "{'AAVEUSDT': 0.0,\n",
       " 'ADAUSDT': 0.0,\n",
       " 'APTUSDT': 0.0,\n",
       " 'AVAXUSDT': 0.0,\n",
       " 'BCHUSDT': 0.0,\n",
       " 'BNBUSDT': 0.0,\n",
       " 'BTCUSDT': 0.0,\n",
       " 'DOGEUSDT': 0.0,\n",
       " 'DOTUSDT': 0.0,\n",
       " 'ETCUSDT': 0.0,\n",
       " 'ETHUSDT': 0.0,\n",
       " 'HBARUSDT': 0.0,\n",
       " 'ICPUSDT': 0.0,\n",
       " 'LINKUSDT': 0.0,\n",
       " 'LTCUSDT': 0.0,\n",
       " 'NEARUSDT': 0.0,\n",
       " 'OMUSDT': 0.5,\n",
       " 'PEPEUSDT': 0.007955,\n",
       " 'SHIBUSDT': 0.0,\n",
       " 'SOLUSDT': 0.0,\n",
       " 'SUIUSDT': 0.0,\n",
       " 'TRXUSDT': 0.0,\n",
       " 'UNIUSDT': 0.0,\n",
       " 'USDCUSDT': 0.0,\n",
       " 'WBETHUSDT': 0.0,\n",
       " 'WBTCUSDT': 0.492045,\n",
       " 'XLMUSDT': 0.0,\n",
       " 'XRPUSDT': 0.0}"
      ]
     },
     "execution_count": 31,
     "metadata": {},
     "output_type": "execute_result"
    }
   ],
   "source": [
    "tracking[dates_end[-4]][0]"
   ]
  },
  {
   "cell_type": "code",
   "execution_count": null,
   "id": "6cb48baa-e373-43fb-9864-b0f2108cd6f1",
   "metadata": {},
   "outputs": [],
   "source": []
  },
  {
   "cell_type": "code",
   "execution_count": null,
   "id": "bc1f6e9d-6041-4f76-a6e9-cde1251c4e36",
   "metadata": {},
   "outputs": [],
   "source": []
  },
  {
   "cell_type": "code",
   "execution_count": null,
   "id": "a87c7149-472a-44ae-bf92-b3dfbc1a5a9e",
   "metadata": {},
   "outputs": [],
   "source": []
  }
 ],
 "metadata": {
  "kernelspec": {
   "display_name": "Python [conda env:base] *",
   "language": "python",
   "name": "conda-base-py"
  },
  "language_info": {
   "codemirror_mode": {
    "name": "ipython",
    "version": 3
   },
   "file_extension": ".py",
   "mimetype": "text/x-python",
   "name": "python",
   "nbconvert_exporter": "python",
   "pygments_lexer": "ipython3",
   "version": "3.12.7"
  }
 },
 "nbformat": 4,
 "nbformat_minor": 5
}
