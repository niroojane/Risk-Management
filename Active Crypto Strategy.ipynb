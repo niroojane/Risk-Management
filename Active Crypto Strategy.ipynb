{
 "cells": [
  {
   "cell_type": "markdown",
   "id": "ae6785e3-e1f1-49f3-acc2-8f4fbc781b5c",
   "metadata": {},
   "source": [
    "# Importing libraries"
   ]
  },
  {
   "cell_type": "code",
   "execution_count": 2,
   "id": "d47a4fd4-e221-46db-876d-d54e46890e5d",
   "metadata": {},
   "outputs": [],
   "source": [
    "import pandas as pd\n",
    "import random\n",
    "import numpy as np\n",
    "import matplotlib.pyplot as plt\n",
    "import datetime\n",
    "import seaborn as sns\n",
    "from Binance_API import BinanceAPI\n",
    "from RiskMetrics import RiskAnalysis\n",
    "import yfinance as yf\n",
    "\n",
    "from Stock_Data import get_close"
   ]
  },
  {
   "cell_type": "code",
   "execution_count": 3,
   "id": "1872d13f-26a9-4f68-bb6b-5584ae9cfe8a",
   "metadata": {},
   "outputs": [],
   "source": [
    "%run \"Git.ipynb\".ipynb\n",
    "Binance=BinanceAPI(binance_api_key,binance_api_secret)\n",
    "git=GitHub(token,repo_owner,repo_name,branch)"
   ]
  },
  {
   "cell_type": "markdown",
   "id": "46a0cf6e-ae4d-4a19-afff-a5d47c41d68c",
   "metadata": {},
   "source": [
    "# Importing Data"
   ]
  },
  {
   "cell_type": "code",
   "execution_count": 5,
   "id": "69b4b84c-829b-488f-be25-1bc9f998c6f8",
   "metadata": {},
   "outputs": [],
   "source": [
    "#start_date=datetime.datetime(2020,1,1)\n",
    "start_date=datetime.datetime(2020,1,1)\n",
    "today=datetime.datetime.today()"
   ]
  },
  {
   "cell_type": "code",
   "execution_count": 6,
   "id": "f9718c11-469f-4979-a6a1-ed80d983fd09",
   "metadata": {},
   "outputs": [
    {
     "data": {
      "text/plain": [
       "1929"
      ]
     },
     "execution_count": 6,
     "metadata": {},
     "output_type": "execute_result"
    }
   ],
   "source": [
    "days=(today-start_date).days\n",
    "days"
   ]
  },
  {
   "cell_type": "code",
   "execution_count": 7,
   "id": "23578fa9-0e99-4e85-8c08-6d531325758e",
   "metadata": {},
   "outputs": [],
   "source": [
    "remaining=days%500\n",
    "numbers_of_table=days//500"
   ]
  },
  {
   "cell_type": "code",
   "execution_count": 8,
   "id": "2eb09d4d-0712-409e-857e-3a7b33203fc1",
   "metadata": {},
   "outputs": [],
   "source": [
    "tickers=Binance.get_market_cap()['Ticker'].iloc[:30].to_list()"
   ]
  },
  {
   "cell_type": "code",
   "execution_count": null,
   "id": "ee996035-e335-4641-aa6a-2bffaf36af0f",
   "metadata": {},
   "outputs": [],
   "source": [
    "temp_end=start_date\n",
    "prices=pd.DataFrame()\n",
    "for i in range(numbers_of_table+1):\n",
    "    data=Binance.get_price(tickers,temp_end)\n",
    "    temp_end=temp_end+datetime.timedelta(500)\n",
    "    prices=prices.combine_first(data)\n",
    "    \n",
    "temp_end=(today-datetime.timedelta(days))\n",
    "data=Binance.get_price(tickers,temp_end)\n",
    "omusdt=Binance.get_price(['OMUSDT'],temp_end)\n",
    "prices=prices.combine_first(data)\n",
    "prices=prices.sort_index()\n",
    "prices['OMUSDT']=omusdt\n",
    "prices = prices[~prices.index.duplicated(keep='first')]\n",
    "prices.index=pd.to_datetime(prices.index)"
   ]
  },
  {
   "cell_type": "code",
   "execution_count": null,
   "id": "915748e6-07b2-4085-8e3b-dd7917557571",
   "metadata": {},
   "outputs": [],
   "source": [
    "market_data_us=get_close(['SPY','GOLD.PA','BTC-USD'],start=start_date.strftime(\"%Y-%m-%d\"),end=today.strftime(\"%Y-%m-%d\"))\n",
    "market_data_us.index=pd.to_datetime(market_data_us.index)\n",
    "market_data_us = market_data_us[~market_data_us.index.duplicated(keep='first')]\n",
    "market_data_us=market_data_us.sort_index().dropna()\n",
    "market_data_us_returns=market_data_us.pct_change().sort_index()"
   ]
  },
  {
   "cell_type": "code",
   "execution_count": null,
   "id": "42653c6e-5370-41f8-bdba-7f8bf7815d0c",
   "metadata": {},
   "outputs": [],
   "source": [
    "# prices=prices.loc[market_data_us.index]\n",
    "# prices['GOLD.PA']=market_data_us['GOLD.PA']"
   ]
  },
  {
   "cell_type": "code",
   "execution_count": null,
   "id": "7a983ad2-29cd-4a0c-b8b0-9b934a35d73d",
   "metadata": {},
   "outputs": [],
   "source": [
    "correlation_btc=market_data_us_returns['GOLD.PA'].rolling(30).corr(market_data_us_returns['BTC-USD']).dropna()\n",
    "correlation_spy=market_data_us_returns['GOLD.PA'].rolling(30).corr(market_data_us_returns['SPY']).dropna()\n",
    "\n",
    "#beta=(pct_change['GOLD.PA'].rolling(30).cov(pct_change['BTC-USD']).dropna()/pct_change['BTC-USD'].rolling(30).var().dropna())"
   ]
  },
  {
   "cell_type": "code",
   "execution_count": null,
   "id": "b11b66e4-1e84-4b0f-82eb-5287a4de1942",
   "metadata": {},
   "outputs": [],
   "source": [
    "info=pd.DataFrame()\n",
    "info['Correlation SPY']=correlation_spy\n",
    "info['Correlation BTC']=correlation_btc"
   ]
  },
  {
   "cell_type": "code",
   "execution_count": null,
   "id": "a7dd5d05-f6ba-41d5-9470-9b583b1dc4f3",
   "metadata": {},
   "outputs": [],
   "source": [
    "# info.iloc[-30:]"
   ]
  },
  {
   "cell_type": "code",
   "execution_count": null,
   "id": "c53c3369-06b3-48be-a1e6-2430709181ee",
   "metadata": {},
   "outputs": [],
   "source": [
    "info.plot()"
   ]
  },
  {
   "cell_type": "code",
   "execution_count": null,
   "id": "8fd735ea-b5e7-4ca5-a825-24f89e43a9db",
   "metadata": {},
   "outputs": [],
   "source": [
    "returns=np.log(1+prices.pct_change())\n",
    "returns.index=pd.to_datetime(returns.index)\n",
    "with_no_na=returns.columns[np.where((returns.isna().sum()<30))]\n",
    "returns_to_use=returns[with_no_na].sort_index()\n"
   ]
  },
  {
   "cell_type": "code",
   "execution_count": null,
   "id": "7ce1e5ed-17d2-43f5-ad7b-c8f994bc394d",
   "metadata": {},
   "outputs": [],
   "source": [
    "dataframe=prices[with_no_na].sort_index()\n",
    "dataframe.index=pd.to_datetime(dataframe.index)"
   ]
  },
  {
   "cell_type": "code",
   "execution_count": null,
   "id": "f0c39838-90d6-411d-8986-e65298484d8f",
   "metadata": {},
   "outputs": [],
   "source": [
    "returns_to_use.index=pd.to_datetime(returns_to_use.index)\n",
    "returns_to_use = returns_to_use[~returns_to_use.index.duplicated(keep='first')]"
   ]
  },
  {
   "cell_type": "markdown",
   "id": "1841f2b4-c521-4198-9e5c-0c38478bbcd3",
   "metadata": {},
   "source": [
    "# Strategy Backtesting"
   ]
  },
  {
   "cell_type": "code",
   "execution_count": null,
   "id": "1032df5e-dfab-4b88-baec-05fb6d36b5c1",
   "metadata": {},
   "outputs": [],
   "source": [
    "month=list(sorted(set(returns_to_use.index + pd.offsets.BMonthEnd(0))))\n",
    "#month_end=pd.to_datetime(mrat_wo_na.index)\n",
    "month = pd.to_datetime(month)\n",
    "\n",
    "idx1 = pd.Index(returns_to_use.iloc[:-1].index)\n",
    "idx2 = pd.Index(month)\n",
    "closest_dates = idx1[idx1.get_indexer(idx2, method='nearest')]\n",
    "\n",
    "dates_end=list(closest_dates)\n",
    "dates_end.insert(0,returns_to_use.index[1])\n",
    "dates_end.append(returns_to_use.index[-1])\n",
    "dates_end=sorted(list(set(dates_end)))\n",
    "dates_end.pop(0)\n",
    "dates_end=sorted(list(set(dates_end)))"
   ]
  },
  {
   "cell_type": "code",
   "execution_count": null,
   "id": "64f56027-c1bc-4fb7-a936-34389a0dc4fa",
   "metadata": {
    "scrolled": true
   },
   "outputs": [],
   "source": [
    "results={}\n",
    "btc_limit=np.where(returns_to_use.columns=='BTCUSDT')[0][0]\n",
    "cash=np.where(returns_to_use.columns=='USDCUSDT')[0][0]\n",
    "# gold_positions=np.where(returns_to_use.columns=='GOLD.PA')[0][0]\n",
    "#om_limit=np.where(returns_to_use.columns=='OMUSDT')[0][0]"
   ]
  },
  {
   "cell_type": "code",
   "execution_count": null,
   "id": "277407c0-399d-4ec5-a03a-d3c8e970dd01",
   "metadata": {
    "scrolled": true
   },
   "outputs": [],
   "source": [
    "for i in range(len(dates_end)-1):\n",
    "    \n",
    "    try:\n",
    "        dataset=returns_to_use.loc[dates_end[i]:dates_end[i+1]]        \n",
    "        risk=RiskAnalysis(dataset)\n",
    "        date=dataset.index[-1]\n",
    "        \n",
    "        optimal=risk.optimize(objective='minimum_variance',constraints=[{'type': 'eq', 'fun': lambda weights: weights[cash]-0.00}#,\n",
    "                                                                       ])# {'type': 'eq', 'fun': lambda weights: weights[gold_positions]-0.00}])\n",
    "        \n",
    "        results[date]=np.round(optimal,6)\n",
    "        \n",
    "    except Exception as e:\n",
    "        \n",
    "        pass"
   ]
  },
  {
   "cell_type": "code",
   "execution_count": null,
   "id": "487d53a2-a79b-4ce5-8b6f-86d911847ad7",
   "metadata": {},
   "outputs": [],
   "source": [
    "rolling_optimization=pd.DataFrame(results,index=dataframe.columns).T\n",
    "rolling_optimization.loc[dates_end[0]]=1/len(dataframe.columns)\n",
    "rolling_optimization=rolling_optimization.sort_index()\n",
    "\n",
    "correlation_threshold=0.5\n",
    "gold_limit=0.0\n",
    "rolling_optimization_adjusted=rolling_optimization.copy()\n",
    "\n",
    "correlation=pd.DataFrame(index=dates_end)\n",
    "correlation['Correlation']=correlation_spy\n",
    "correlation=correlation.ffill().bfill()"
   ]
  },
  {
   "cell_type": "code",
   "execution_count": null,
   "id": "d9c631b2-6c48-458a-a00c-47d7a986ee4c",
   "metadata": {},
   "outputs": [],
   "source": [
    "# for date in dates_end:\n",
    "    \n",
    "#     if abs(correlation.loc[date].item())<correlation_threshold:\n",
    "        \n",
    "#         temp=rolling_optimization_adjusted.loc[date]\n",
    "#         sum_numerator=temp.loc[temp.index!='GOLD.PA'].sum()-gold_limit\n",
    "    \n",
    "#         normalized_weights=temp.loc[temp.index!='GOLD.PA']*sum_numerator\n",
    "#         normalized_weights['GOLD.PA']=gold_limit\n",
    "#         rolling_optimization_adjusted.loc[date]=normalized_weights\n",
    "#     else:\n",
    "        \n",
    "#         continue"
   ]
  },
  {
   "cell_type": "code",
   "execution_count": null,
   "id": "6aa9de20-43f2-4713-bffb-28ee380975fe",
   "metadata": {},
   "outputs": [],
   "source": [
    "tracking={}\n",
    "portfolio={}\n",
    "investment_amount=1\n",
    "initial_amount=investment_amount\n",
    "perf=dataframe.pct_change()\n",
    "transaction_fee=0.005\n",
    "gold_limit=0.05\n",
    "weight_dict={col: 1/returns_to_use.shape[1] for col in returns_to_use.columns}\n",
    "\n",
    "\n",
    "for i in range(len(dates_end)-1):\n",
    "    \n",
    "    print(dates_end[i],investment_amount,investment_amount/initial_amount)\n",
    "\n",
    "    \n",
    "    temp=dataframe.loc[dates_end[i]:dates_end[i+1]].copy()\n",
    "    initial_price=temp.iloc[0].to_dict()\n",
    "\n",
    "    if dates_end[i]>dates_end[0]:\n",
    "\n",
    "        top50=rolling_optimization_adjusted.loc[dates_end[i]]\n",
    "        top50_dict=rolling_optimization_adjusted.loc[dates_end[i]].to_dict()\n",
    "        weight_dict={}\n",
    "\n",
    "        for key in temp.columns:\n",
    "\n",
    "            if key in top50_dict: \n",
    "                weight_dict[key]=top50_dict[key]\n",
    "            else:\n",
    "                weight_dict[key]=0\n",
    "\n",
    "                \n",
    "    weight_vec=np.array(list(weight_dict.values()))\n",
    "    \n",
    "    inital_investment_per_stock={}\n",
    "    shares={}\n",
    "\n",
    "    for col in temp.columns:\n",
    "        \n",
    "        weighted_perf=weight_vec*perf.loc[dates_end[i]]\n",
    "        \n",
    "        inital_investment_per_stock[col]=weight_dict[col]*investment_amount*(1+weighted_perf.sum())\n",
    "        shares[col]=inital_investment_per_stock[col]*(1-transaction_fee)/initial_price[col]\n",
    "\n",
    "    tracking[dates_end[i]]=(weight_dict,shares,investment_amount,initial_price)\n",
    "\n",
    "    temp=temp*shares    \n",
    "    portfolio[dates_end[i]]=temp\n",
    "    investment_amount=temp.iloc[-1].sum()\n",
    "    \n",
    "\n",
    "temp=dataframe.loc[dates_end[-2]:]*shares\n",
    "portfolio[dates_end[-1]]=temp"
   ]
  },
  {
   "cell_type": "code",
   "execution_count": null,
   "id": "4c2efad0-386c-4162-a2b4-12005328a993",
   "metadata": {},
   "outputs": [],
   "source": [
    "historical_portfolio=pd.DataFrame()\n",
    "performance=pd.DataFrame()\n",
    "for key in portfolio.keys():\n",
    "    historical_portfolio=historical_portfolio.combine_first(portfolio[key])"
   ]
  },
  {
   "cell_type": "code",
   "execution_count": null,
   "id": "b29405d8-968f-4679-84f6-af00716bb934",
   "metadata": {},
   "outputs": [],
   "source": [
    "performance['Fund']=historical_portfolio.sum(axis=1)\n",
    "performance['Bitcoin']=dataframe['BTCUSDT']\n",
    "#performance['Mantra']=dataframe['OMUSDT']\n",
    "\n",
    "performance_pct=performance.copy()\n",
    "performance_pct=performance_pct.pct_change()\n",
    "\n",
    "(1+performance_pct.iloc[:-2]).cumprod().plot()"
   ]
  },
  {
   "cell_type": "code",
   "execution_count": null,
   "id": "4afef5b7-9c4d-4f05-b4c8-1dc86d00c1b7",
   "metadata": {},
   "outputs": [],
   "source": [
    "years=sorted(list(set(performance.index.year)))\n",
    "\n",
    "month_year=performance.index.strftime('%Y-%m')\n",
    "month_year=sorted(list(set(month_year)))"
   ]
  },
  {
   "cell_type": "code",
   "execution_count": null,
   "id": "5c2cc86d-dc0d-4255-995a-35ee33c6b674",
   "metadata": {},
   "outputs": [],
   "source": [
    "(1+performance_pct.loc['2025':]).cumprod().plot()"
   ]
  },
  {
   "cell_type": "code",
   "execution_count": null,
   "id": "08977b3b-e104-4556-becf-d95cfa66d47b",
   "metadata": {},
   "outputs": [],
   "source": [
    "year_returns={}\n",
    "for year in years:\n",
    "\n",
    "    perf_year=performance.loc[str(year)].iloc[-1]/performance.loc[str(year)].iloc[0]-1\n",
    "    year_returns[year]=perf_year\n",
    "\n",
    "year_returns[years[-1]]=performance.loc[str(years[-1])].iloc[-2]/performance.loc[str(years[-1])].iloc[0]-1"
   ]
  },
  {
   "cell_type": "code",
   "execution_count": null,
   "id": "df2b79a1-b05c-4654-8e18-9db5fe4dec25",
   "metadata": {},
   "outputs": [],
   "source": [
    "year_returns_dataframe=pd.DataFrame(year_returns)\n",
    "year_returns_dataframe"
   ]
  },
  {
   "cell_type": "code",
   "execution_count": null,
   "id": "665b2193-ec24-402e-942d-6befc099ec83",
   "metadata": {},
   "outputs": [],
   "source": [
    "month_returns={}\n",
    "for month in month_year:\n",
    "\n",
    "    perf_year=performance.loc[str(month)].iloc[-1]/performance.loc[str(month)].iloc[0]-1\n",
    "    month_returns[month]=perf_year\n",
    "\n",
    "#month_returns[month]=performance.loc[str(month_year[-1])].iloc[-2]/performance.loc[str(month_year[-1])].iloc[0]-1"
   ]
  },
  {
   "cell_type": "code",
   "execution_count": null,
   "id": "b8720fc8-d210-4524-82db-ee1fb0268710",
   "metadata": {},
   "outputs": [],
   "source": [
    "month_returns_dataframe=pd.DataFrame(month_returns)\n",
    "month_returns_dataframe"
   ]
  },
  {
   "cell_type": "code",
   "execution_count": null,
   "id": "1319d512-3587-4f23-a4e6-acd4f33a64c2",
   "metadata": {},
   "outputs": [],
   "source": [
    "metrics={}\n",
    "metrics['Tracking Error']=(performance_pct['Fund']-performance_pct['Bitcoin']).std()*np.sqrt(252)\n",
    "metrics['Fund Vol']=performance_pct['Fund'].std()*np.sqrt(252)\n",
    "metrics['Bench Vol']=performance_pct['Bitcoin'].std()*np.sqrt(252)\n",
    "metrics['Fund Return']=performance['Fund'].iloc[-2]/performance['Fund'].iloc[0]\n",
    "metrics['Bench Return']=performance['Bitcoin'].iloc[-2]/performance['Bitcoin'].iloc[0]\n",
    "metrics['Sharpe Ratio']=(1+metrics['Fund Return'])**(1/len(set(returns_to_use.index.year)))/metrics['Fund Vol']"
   ]
  },
  {
   "cell_type": "code",
   "execution_count": null,
   "id": "46008c02-0ceb-4e51-a3f8-6e3d5cf31eac",
   "metadata": {},
   "outputs": [],
   "source": [
    "indicators=pd.DataFrame(metrics.values(),index=metrics.keys(),columns=['Indicators'])\n",
    "indicators"
   ]
  },
  {
   "cell_type": "code",
   "execution_count": null,
   "id": "6a9c0628-c000-474f-a607-14c99ca6c38b",
   "metadata": {},
   "outputs": [],
   "source": [
    "last_weights=tracking[dates_end[-2]][0]\n",
    "weights=pd.DataFrame(last_weights.values(),index=last_weights.keys(),columns=['Weights Model'])\n",
    "\n",
    "current_positions=Binance.get_inventory().round(4)\n",
    "current_positions.columns=['Current Portfolio in USDT','Current Weights']\n",
    "amount=current_positions.loc['Total']['Current Portfolio in USDT']\n",
    "\n",
    "last_prices=Binance.get_price(list(last_weights.keys()))\n",
    "\n",
    "quantities={}\n",
    "\n",
    "for key in last_weights:\n",
    "    quantities[key]=amount*last_weights[key]#/last_prices[key].values[0]\n",
    "\n",
    "positions=pd.DataFrame(quantities.values(),index=quantities.keys(),columns=['Mark To Market Model'])\n",
    "positions=pd.concat([positions,weights],axis=1)\n",
    "\n",
    "condition=current_positions.index!='Total'\n",
    "portfolio=pd.concat([positions,current_positions.loc[condition]],axis=1).fillna(0)\n",
    "portfolio.loc['Total']=portfolio.sum(axis=0)\n",
    "portfolio.sort_values(by='Weights Model',ascending=False).round(4)"
   ]
  },
  {
   "cell_type": "code",
   "execution_count": null,
   "id": "023ea78a-7487-42ab-a158-06bc20d1282f",
   "metadata": {},
   "outputs": [],
   "source": [
    "git.create_or_replace_notebook(\"Active Crypto Strategy.ipynb\")"
   ]
  },
  {
   "cell_type": "code",
   "execution_count": null,
   "id": "b498f8a1-06e8-4c30-82bb-b13a7ccd1e1f",
   "metadata": {},
   "outputs": [],
   "source": [
    "last_weights=tracking[dates_end[-3]][0]\n",
    "weights=pd.DataFrame(last_weights.values(),index=last_weights.keys(),columns=['Weights Model'])\n",
    "weights"
   ]
  },
  {
   "cell_type": "code",
   "execution_count": null,
   "id": "0e8ce202-2c9c-4413-8512-ff58e00094a9",
   "metadata": {},
   "outputs": [],
   "source": []
  },
  {
   "cell_type": "code",
   "execution_count": null,
   "id": "a6b5c1c8-ef2d-408d-95f9-4a99ce8ee9da",
   "metadata": {},
   "outputs": [],
   "source": []
  }
 ],
 "metadata": {
  "kernelspec": {
   "display_name": "Python [conda env:base] *",
   "language": "python",
   "name": "conda-base-py"
  },
  "language_info": {
   "codemirror_mode": {
    "name": "ipython",
    "version": 3
   },
   "file_extension": ".py",
   "mimetype": "text/x-python",
   "name": "python",
   "nbconvert_exporter": "python",
   "pygments_lexer": "ipython3",
   "version": "3.12.3"
  }
 },
 "nbformat": 4,
 "nbformat_minor": 5
}
