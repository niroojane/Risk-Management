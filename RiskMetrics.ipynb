{
 "cells": [
  {
   "cell_type": "code",
   "execution_count": 1,
   "id": "40572196-dee9-468b-b7d1-ca36478f3d8d",
   "metadata": {},
   "outputs": [],
   "source": [
    "import pandas as pd\n",
    "import random\n",
    "import numpy as np\n",
    "import matplotlib.pyplot as plt\n",
    "import plotly.express as px\n",
    "import plotly.graph_objects as go\n",
    "import plotly.figure_factory as ff\n",
    "import seaborn as sns\n",
    "import seaborn as sns\n",
    "from scipy.stats import norm, chi2,gumbel_r\n",
    "import scipy.optimize as sco\n",
    "import datetime"
   ]
  },
  {
   "cell_type": "code",
   "execution_count": 2,
   "id": "f1350136-8bbb-4649-9562-1cbd06fdc7dc",
   "metadata": {},
   "outputs": [],
   "source": [
    "%run \"Stock Data.ipynb\".ipynb"
   ]
  },
  {
   "cell_type": "code",
   "execution_count": 3,
   "id": "078644e5-bc77-4e47-873a-42a056a83df4",
   "metadata": {},
   "outputs": [],
   "source": [
    "stocks=pd.read_html('https://en.wikipedia.org/wiki/EURO_STOXX_50')[4]"
   ]
  },
  {
   "cell_type": "code",
   "execution_count": 4,
   "id": "68eb0acf-e0d2-4cb6-a684-491ef5d63189",
   "metadata": {},
   "outputs": [],
   "source": [
    "tickers=stocks['Ticker'].to_list()"
   ]
  },
  {
   "cell_type": "code",
   "execution_count": 5,
   "id": "66df28bf-ffc6-4dfe-84e6-d9eec29f6e6d",
   "metadata": {},
   "outputs": [],
   "source": [
    "data=get_close(tickers,\"2022-01-01\")\n",
    "data=data.dropna()\n",
    "n=len(data.columns)"
   ]
  },
  {
   "cell_type": "code",
   "execution_count": 6,
   "id": "308f7231-3a3b-4d77-8ce7-6644c5cdcaf5",
   "metadata": {},
   "outputs": [],
   "source": [
    "returns=np.log(1+data.pct_change())"
   ]
  },
  {
   "cell_type": "markdown",
   "id": "991c3be5-6004-4771-a632-a1724782bccf",
   "metadata": {},
   "source": [
    "# General Functions"
   ]
  },
  {
   "cell_type": "code",
   "execution_count": 9,
   "id": "04a6c706-8517-440c-bf9c-340da8bf068e",
   "metadata": {},
   "outputs": [],
   "source": [
    "def halton_sequences(number,base=2):\n",
    "    \n",
    "    #Generate Halton sequences\n",
    "    \n",
    "    inv_base=1/base\n",
    "    \n",
    "    i=number\n",
    "    halton=0\n",
    "    \n",
    "    while i>0:\n",
    "        \n",
    "        digit = i%base\n",
    "        halton=halton + digit*inv_base\n",
    "        i=(i-digit)/base\n",
    "        inv_base=inv_base/base\n",
    "        \n",
    "    return halton\n",
    "\n",
    "def generate_halton(iterations,dimensions=1,base=2):\n",
    "    \n",
    "    #Generate a Halton Sequences at basis k , then shuffles it\n",
    "    \n",
    "    rng = np.random.default_rng()\n",
    "    matrix=[]\n",
    "    haltons=[]\n",
    "    \n",
    "    for i in range(iterations):\n",
    "        halton=halton_sequences(i,base=base)\n",
    "        haltons.append(halton)\n",
    "    \n",
    "    for dim in range(dimensions):\n",
    "        \n",
    "        matrix.append(haltons)\n",
    "    \n",
    "    matrix = rng.permuted(matrix, axis=1)\n",
    "    return matrix\n",
    "\n",
    "def near_psd(x, epsilon=0):\n",
    "    \n",
    "    #Calculate the nearest positive semi definite matrix\n",
    "\n",
    "    if min(np.linalg.eigvals(x))> epsilon:\n",
    "        return x\n",
    "\n",
    "    n = x.shape[0]\n",
    "    var_list = np.array(np.sqrt(np.diag(x)))\n",
    "    y = np.array([[x[i, j]/(var_list[i]*var_list[j]) for i in range(n)] for j in range(n)])\n",
    "\n",
    "    eigval, eigvec = np.linalg.eig(y)\n",
    "    val = np.matrix(np.maximum(eigval, epsilon))\n",
    "    vec = np.matrix(eigvec)\n",
    "    T = 1/(np.multiply(vec, vec) * val.T)\n",
    "    T = np.matrix(np.sqrt(np.diag(np.array(T).reshape((n)) )))\n",
    "    B = T * vec * np.diag(np.array(np.sqrt(val)).reshape((n)))\n",
    "    near_corr = B*B.T    \n",
    "\n",
    "    near_cov = np.array([[near_corr[i, j]*(var_list[i]*var_list[j]) for i in range(n)] for j in range(n)])\n",
    "    return near_cov"
   ]
  },
  {
   "cell_type": "code",
   "execution_count": 10,
   "id": "1b471ac9-5f6e-4c92-b988-c013e68bc2c8",
   "metadata": {},
   "outputs": [],
   "source": [
    "\n",
    "def performance(perf,weights):\n",
    "    \n",
    "    #Calculate the performance of a portfolio on a daily basis\n",
    "    \n",
    "    return np.dot(perf,weights)\n"
   ]
  },
  {
   "cell_type": "code",
   "execution_count": 11,
   "id": "b6711073-70b7-4bbb-bb8e-0ac8479d4a54",
   "metadata": {
    "tags": []
   },
   "outputs": [],
   "source": [
    "def rolling_var(returns,weights,window=30,Q=1):\n",
    "\n",
    "    #This function will return the rolling VaR on a x-days window following historical,parametric and multivariate model\n",
    "\n",
    "    value_at_risk=pd.DataFrame()\n",
    "\n",
    "    mean=returns.rolling(window).mean().dropna()\n",
    "    cov=returns.rolling(window).cov().dropna()\n",
    "    corr=returns.rolling(window).corr().dropna()\n",
    "    std=returns.rolling(window).std().dropna()\n",
    "\n",
    "    index=sorted(tuple(set(cov.index.get_level_values(0))))\n",
    "\n",
    "\n",
    "    var={}\n",
    "\n",
    "    for date in index:\n",
    "            \n",
    "            multivariate_var=performance(np.random.multivariate_normal(mean.loc[date],cov.loc[date],10000),weights) \n",
    "            var[date]=np.percentile(multivariate_var,Q)\n",
    "\n",
    "\n",
    "    var=pd.DataFrame(var.values(),index=var.keys())\n",
    "\n",
    "    portfolio=Portfolio(returns).portfolio(weights)\n",
    "\n",
    "    value_at_risk['Historical']=portfolio.rolling(window=window).apply(lambda x:np.percentile(x,Q))\n",
    "    value_at_risk['Parametric']=portfolio.rolling(window=window).std()*norm(loc =0 , scale = 1).ppf(Q/100)\n",
    "    value_at_risk['Multivariate']=var\n",
    "    value_at_risk['Portfolio']=portfolio\n",
    "\n",
    "    return value_at_risk.dropna()\n",
    "\n",
    "def kupiec_test(rolling_var,Q=5):\n",
    "\n",
    "    number_obs=rolling_var.shape[0]\n",
    "    confidence=Q/100\n",
    "\n",
    "    ret=(1+rolling_var['Portfolio']).cumprod()\n",
    "    return_mean=(ret.iloc[-1])**(1/number_obs)-1\n",
    "\n",
    "    stats={}\n",
    "\n",
    "    stats['Proportion of failure']=[]\n",
    "    stats['Kupiec Stat']=[]\n",
    "    stats['P-value']=[]\n",
    "    stats['Model']=[]\n",
    "\n",
    "    for col in rolling_var.columns:\n",
    "\n",
    "        if col=='Portfolio':\n",
    "\n",
    "            continue\n",
    "\n",
    "        else:\n",
    "\n",
    "            number_violation=np.sum(np.where(rolling_var[col]>rolling_var['Portfolio'],1,0))\n",
    "            number_non_violation=number_obs-number_violation\n",
    "            proportion_violation=number_violation/number_obs\n",
    "            proportion_non_violation=1-proportion_violation\n",
    "\n",
    "            kupiec=2*np.log((proportion_non_violation/(1-confidence))**(number_non_violation)*\n",
    "                                (proportion_violation/confidence)**number_violation)\n",
    "\n",
    "            p_value=1-chi2.cdf(kupiec,1)\n",
    "\n",
    "        stats['Kupiec Stat'].append(kupiec)\n",
    "        stats['P-value'].append(p_value)\n",
    "        stats['Proportion of failure'].append(proportion_violation)\n",
    "        stats['Model'].append(col)\n",
    "\n",
    "    stats=pd.DataFrame(stats.values(),index=stats.keys(),columns=stats['Model'])\n",
    "    stats=stats.drop(stats.index[3])\n",
    "\n",
    "    return stats\n"
   ]
  },
  {
   "cell_type": "markdown",
   "id": "5b1d59b8-eb12-4009-8f54-90940316a6e4",
   "metadata": {},
   "source": [
    "## Portfolio Construction"
   ]
  },
  {
   "cell_type": "code",
   "execution_count": 12,
   "id": "fcd35608-9236-4fb2-b331-f58272b1945e",
   "metadata": {},
   "outputs": [],
   "source": [
    "class Portfolio:\n",
    "    \n",
    "    #This class allows the user to calculate various metrics of a portfolio\n",
    "    #and also allows to optmize the portfolio with various constraints\n",
    "    \n",
    "    def __init__(self,data):\n",
    "        \n",
    "        self.data=data\n",
    "\n",
    "    def portfolio(self,weights):\n",
    "            \n",
    "        portfolio=pd.DataFrame()\n",
    "        portfolio['Portfolio']=np.sum(weights*returns,axis=1)\n",
    "        \n",
    "        return portfolio\n",
    "    \n",
    "    def evolution(self,weights):\n",
    "        \n",
    "        portfolio=self.portfolio(weights)\n",
    "        evolution=(1+portfolio).cumprod()*100\n",
    "        \n",
    "        return evolution\n",
    "    \n",
    "    def performance(self,weights):\n",
    "        performance=np.sum(self.data*weights).mean()*252\n",
    "        return performance\n",
    "    \n",
    "    def variance(self,weights):\n",
    "        variance=np.sqrt(np.dot(weights.T,np.dot(self.data.cov(),weights)))*np.sqrt(252)\n",
    "        return variance\n",
    "    \n",
    "    def sharpe_ratio(weights):\n",
    "            return self.performance(weights)/self.variance(weights)\n",
    "\n",
    "    def optimize(self,objective='minimum_variance',constraints=False):\n",
    "        \n",
    "            \n",
    "        def sum_equal_one(weight):\n",
    "            return np.sum(weight) - 1   \n",
    "        \n",
    "        def sharpe_ratio(weights):\n",
    "            return - self.performance(weights)/self.variance(weights)\n",
    "        \n",
    "        def variance(weights):\n",
    "            variance=np.sqrt(np.dot(weights.T,np.dot(self.data.cov(),weights)))*np.sqrt(252)\n",
    "            return variance\n",
    "        \n",
    "        n_assets = len(self.data.columns)\n",
    "        weight = np.array([1 / n_assets] * n_assets)\n",
    "        bounds = tuple((0, 1) for _ in range(n_assets))\n",
    "        \n",
    "        if not constraints:\n",
    "            \n",
    "            constraints = [{'type': 'eq', 'fun': sum_equal_one}]\n",
    "        \n",
    "        else:\n",
    "            \n",
    "            constraints=[{'type': 'eq', 'fun': sum_equal_one}]+constraints\n",
    "        \n",
    "        if objective=='minimum_variance':\n",
    "\n",
    "            optimum_weights = sco.minimize(variance, weight, method='SLSQP', bounds=bounds, constraints=constraints)\n",
    "        \n",
    "        elif objective=='sharpe_ratio':\n",
    "            \n",
    "            optimum_weights = sco.minimize(sharpe_ratio, weight, method='SLSQP', bounds=bounds, constraints=constraints)\n",
    "            \n",
    "        else:\n",
    "            \n",
    "            print(\"Objective function undefined\")\n",
    "            \n",
    "            \n",
    "        return optimum_weights.x\n",
    "    \n",
    "    def black_Litterman(self,P,Q,weights,risk_aversion,tau=0.025):\n",
    "        \n",
    "        implied_returns=risk_aversion*self.data.cov().dot(weights).squeeze()\n",
    "        omega=np.diag(np.diag(P.dot(tau*self.data.cov()).dot(P.T)))\n",
    "        sigma_scaled=self.data.cov()*tau\n",
    "        BL_returns= implied_returns + sigma_scaled.dot(P.T).dot(np.linalg.inv(P.dot(sigma_scaled).dot(P.T))+omega).dot(Q-P.dot(implied_returns))\n",
    "        inv_cov=np.linalg.inv(self.data.cov())\n",
    "        BL_weights=inv_cov.dot(BL_returns)\n",
    "        BL_weights=BL_weights/BL_weights.sum()\n",
    "        \n",
    "        return BL_weights,BL_returns"
   ]
  },
  {
   "cell_type": "markdown",
   "id": "a34878d2-f683-4e41-8d4d-047bdf77a8fe",
   "metadata": {},
   "source": [
    "## Risk Analysis"
   ]
  },
  {
   "cell_type": "code",
   "execution_count": 13,
   "id": "ca4389e7-5250-45e7-83b8-5dba2353231f",
   "metadata": {},
   "outputs": [],
   "source": [
    "class RiskAnalysis(Portfolio):\n",
    "    \n",
    "    \n",
    "    #This class is used to assess various risk of a portfolio such as Market Risk, VaR\n",
    "    # and to know which asset could possibly contribute to it\n",
    "    \n",
    "    def __init__(self,returns):\n",
    "        \n",
    "        self.returns=returns\n",
    "        super().__init__(data=returns)\n",
    "        \n",
    "\n",
    "    def historical_var(self,weights,last_days=False,Q=5):\n",
    "        \n",
    "        #Return Historical VaR on the Past x days at Q confidence interval\n",
    "\n",
    "        performance=super().portfolio(weights)\n",
    "        \n",
    "        if last_days:\n",
    "            performance=performance[-last_days:]\n",
    "            \n",
    "        var=np.percentile(performance,Q)\n",
    "        cvar=performance[performance<var].mean().values[0]\n",
    "        \n",
    "        return var,cvar\n",
    "    \n",
    "    \n",
    "    def parametric_var(self,weights,Q=0.95):\n",
    "        \n",
    "        #Return parametric VaR, where assets follows a Normal Distribution\n",
    "        \n",
    "        intervals=np.arange(Q, 1, 0.0005, dtype=float)\n",
    "        \n",
    "        variance=super().variance(weights)\n",
    "        VaR=variance/np.sqrt(252)*norm(loc =0 , scale = 1).ppf(1-Q)\n",
    "        CVaR=variance/np.sqrt(252)*norm(loc =0 , scale = 1).ppf(1-intervals).mean()\n",
    "        \n",
    "        return VaR,CVaR\n",
    "        \n",
    "        \n",
    "    def multivariate_distribution(self,\n",
    "                    stress_factor=1.0,\n",
    "                    iterations=10000):\n",
    "        \n",
    "        #Return Multivariate Distribution of a portfolio taking into account potential correlation\n",
    "        \n",
    "        num_asset=len(self.returns.columns)\n",
    "        \n",
    "        if type(stress_factor)==float:\n",
    "            \n",
    "            stress_vec=np.linspace(stress_factor,stress_factor,num_asset)\n",
    "            \n",
    "        else:       \n",
    "            stress_vec=stress_factor\n",
    "            \n",
    "        stress_matrix=np.diag(stress_vec)\n",
    "        stress_matrix=pd.DataFrame(stress_matrix,columns=self.returns.columns,index=self.returns.columns)\n",
    "        \n",
    "        stressed_cov=self.returns.cov().dot(stress_matrix)\n",
    "        mean=self.returns.mean()\n",
    "        \n",
    "        multivariate=np.random.multivariate_normal(mean,stressed_cov,iterations)\n",
    "        \n",
    "        return multivariate\n",
    "    \n",
    "    def gaussian_copula(self,iterations=10000):\n",
    "        \n",
    "        randoms=np.random.normal(size=(10000,returns.shape[1])).T\n",
    "        near_psd_corr=near_psd(self.returns.corr())\n",
    "        cholesky=np.linalg.cholesky(self.returns.corr())\n",
    "\n",
    "        simulation=np.matmul(cholesky,randoms).T\n",
    "        simulation=pd.DataFrame(simulation)\n",
    "        simulation.columns=returns.columns\n",
    "\n",
    "        copula_sample=simulation*self.returns.std()+self.returns.mean()\n",
    "        \n",
    "        return copula_sample\n",
    "    \n",
    "    def monte_carlo(self,spot,horizon=20/250,iterations=100000,stress_factor=1.0):\n",
    "        \n",
    "        \n",
    "        \n",
    "        num_asset=len(self.returns.columns)\n",
    "        #haltons=generate_halton(iterations,num_asset,base=2)\n",
    "        randoms=np.random.normal(size=(10000,num_asset)).T\n",
    "        \n",
    "        # Create a stress matrix to stress the covariance matrix\n",
    "        \n",
    "        if type(stress_factor)==float:\n",
    "            \n",
    "            stress_vec=np.linspace(stress_factor,stress_factor,num_asset)\n",
    "            \n",
    "        else: \n",
    "            \n",
    "            stress_vec=stress_factor\n",
    "        \n",
    "        \n",
    "        #Stress the volatilities of the assets\n",
    "        \n",
    "        vol=self.returns.std()*np.sqrt(250)*stress_vec\n",
    "        \n",
    "        #Create a diagonal matrix of the stress factors\n",
    "        \n",
    "        stress_matrix=np.diag(stress_vec)\n",
    "        stress_matrix=pd.DataFrame(stress_matrix,columns=self.returns.columns,index=self.returns.columns)\n",
    "        \n",
    "        #Find nearest PSD matrix and apply cholesky decomposition to create correaltion effect in Monte Carlo\n",
    "        \n",
    "        stressed_cov=self.returns.cov().dot(stress_matrix)\n",
    "        stressed_std=np.sqrt(np.diag(stressed_cov))\n",
    "        corr_matrix=stressed_cov/np.outer(stressed_std,stressed_std)\n",
    "        sdp_corr_matrix=near_psd(corr_matrix)\n",
    "        \n",
    "        cholesky=np.linalg.cholesky(corr_matrix)\n",
    "            \n",
    "        drift=np.exp(-0.5*horizon*vol**2)\n",
    "        factors=spot*drift\n",
    "        factors_vec=factors.to_numpy().reshape(num_asset,-1)\n",
    "                \n",
    "        simulation=np.matmul(cholesky,randoms).T\n",
    "        simulation=pd.DataFrame(simulation)\n",
    "        simulation.columns=self.returns.columns\n",
    " \n",
    "        \n",
    "        monte_carlo=factors_vec.T*np.exp(simulation.dot(np.diag(vol))*np.sqrt(horizon))\n",
    "        monte_carlo=pd.DataFrame(monte_carlo)\n",
    "        monte_carlo.columns=self.returns.columns\n",
    "        perf_monte_carlo=np.log(monte_carlo/spot)\n",
    "        \n",
    "        return monte_carlo,perf_monte_carlo\n",
    "      \n",
    "\n",
    "    \n",
    "    def pca(self,num_components=2):\n",
    "        \n",
    "        #Returns the eigen vectors of the covariance matrix\n",
    "        \n",
    "        cov_matrix=self.returns.cov()\n",
    "        \n",
    "        cov_matrix=returns.cov()\n",
    "        \n",
    "        eig_val, eig_vec=np.linalg.eig(cov_matrix)\n",
    "        sorted_eig_val=eig_val.argsort()[::-1]\n",
    "        eig_val=eig_val[sorted_eig_val]\n",
    "        eig_vec=eig_vec[:,sorted_eig_val]\n",
    "        eig_val=eig_val[:num_components]\n",
    "        eig_vec=eig_vec[:,0:num_components]\n",
    "        \n",
    "        PC={}\n",
    "        \n",
    "        for i in range(eig_vec.shape[1]):\n",
    "            \n",
    "            PC[\"PC\" +str(i+1)]=eig_vec[:,i]/eig_vec[:,i].sum()\n",
    "        \n",
    "        \n",
    "        portfolio_components=pd.DataFrame(PC.values(),index=PC.keys(),columns=data.columns).T\n",
    "        \n",
    "        return eig_val,eig_vec,portfolio_components\n",
    "    \n",
    "\n",
    "    def var_contrib(self,weights):\n",
    "        \n",
    "        weights_matrix=np.diag(weights)\n",
    "        variance_contrib=np.dot(weights_matrix,np.dot(self.returns.cov()*252,weights_matrix.T))\n",
    "        \n",
    "        asset_contrib=variance_contrib.sum(axis=0)    \n",
    "        diag=np.diag(variance_contrib.diagonal())\n",
    "        variance_decomposition=np.column_stack([asset_contrib,variance_contrib.diagonal(),(variance_contrib-diag).sum(axis=0)])\n",
    "        contrib=pd.DataFrame(variance_decomposition,index=self.returns.columns,columns=['Variance Contribution','Idiosyncratic Risk','Correlation'])\n",
    "        \n",
    "        weighted_covar=pd.DataFrame(variance_contrib,columns=self.returns.columns,index=self.returns.columns)\n",
    "        \n",
    "        return contrib,weighted_covar\n",
    "    \n",
    "    def var_contrib_pct(self,weights):\n",
    "        \n",
    "        var_contrib=self.var_contrib(weights)[0]\n",
    "        var_contrib=var_contrib/var_contrib['Variance Contribution'].sum()        \n",
    "        return var_contrib\n",
    "    "
   ]
  },
  {
   "cell_type": "code",
   "execution_count": 14,
   "id": "8b83f7b0-e7ad-4b97-9c96-63a68f63bdd0",
   "metadata": {},
   "outputs": [],
   "source": [
    "test=RiskAnalysis(returns)"
   ]
  },
  {
   "cell_type": "code",
   "execution_count": 15,
   "id": "64112844-08d0-48ae-98e6-cb185952fc7f",
   "metadata": {},
   "outputs": [],
   "source": [
    "num_asset=len(data.columns)\n",
    "weights=np.random.rand(num_asset)\n",
    "weights=weights/weights.sum()"
   ]
  },
  {
   "cell_type": "code",
   "execution_count": 16,
   "id": "c7963f6e-39ce-47b5-9568-7c552a077d3f",
   "metadata": {},
   "outputs": [],
   "source": [
    "weights=test.optimize(objective=\"minimum_variance\",constraints=[{'type': 'ineq', 'fun': lambda weights: 0.1 - weights}])\n",
    "weights=np.round(weights,2)"
   ]
  },
  {
   "cell_type": "code",
   "execution_count": 17,
   "id": "26b439cb-fe9e-44b8-983f-5ccc8037fe3b",
   "metadata": {},
   "outputs": [
    {
     "data": {
      "text/plain": [
       "array([0.  , 0.  , 0.1 , 0.01, 0.  , 0.  , 0.  , 0.  , 0.  , 0.  , 0.02,\n",
       "       0.  , 0.  , 0.  , 0.  , 0.1 , 0.1 , 0.  , 0.1 , 0.  , 0.06, 0.  ,\n",
       "       0.02, 0.  , 0.  , 0.1 , 0.  , 0.  , 0.  , 0.  , 0.  , 0.  , 0.  ,\n",
       "       0.  , 0.03, 0.02, 0.  , 0.08, 0.  , 0.  , 0.  , 0.1 , 0.09, 0.  ,\n",
       "       0.  , 0.  , 0.08, 0.  , 0.  , 0.  ])"
      ]
     },
     "execution_count": 17,
     "metadata": {},
     "output_type": "execute_result"
    }
   ],
   "source": [
    "weights"
   ]
  },
  {
   "cell_type": "code",
   "execution_count": 18,
   "id": "b19b2174-4aeb-4365-843f-b709db9481d8",
   "metadata": {},
   "outputs": [
    {
     "data": {
      "text/plain": [
       "(-0.012105920532062385, -0.01828455346207663)"
      ]
     },
     "execution_count": 18,
     "metadata": {},
     "output_type": "execute_result"
    }
   ],
   "source": [
    "var,cvar=test.historical_var(weights)\n",
    "var,cvar"
   ]
  },
  {
   "cell_type": "code",
   "execution_count": 19,
   "id": "9f580858-1e07-4e3c-a84b-ad37ea881b30",
   "metadata": {},
   "outputs": [
    {
     "data": {
      "text/plain": [
       "(-0.013020700672774764, -0.016688938238142326)"
      ]
     },
     "execution_count": 19,
     "metadata": {},
     "output_type": "execute_result"
    }
   ],
   "source": [
    "var,cvar=test.parametric_var(weights)\n",
    "var,cvar"
   ]
  },
  {
   "cell_type": "code",
   "execution_count": 20,
   "id": "2c788d10-aa11-42de-9a7b-0bd312c8c0bf",
   "metadata": {},
   "outputs": [
    {
     "data": {
      "text/plain": [
       "(-0.012509407631475027, -0.01601793537470356)"
      ]
     },
     "execution_count": 20,
     "metadata": {},
     "output_type": "execute_result"
    }
   ],
   "source": [
    "perf=performance(test.multivariate_distribution(),weights)\n",
    "var=np.percentile(perf,5)\n",
    "cvar=perf[perf<var].mean()\n",
    "\n",
    "var,cvar"
   ]
  },
  {
   "cell_type": "code",
   "execution_count": 21,
   "id": "e121dfc2-0a14-4b34-87a4-45d1071860b6",
   "metadata": {},
   "outputs": [
    {
     "data": {
      "text/plain": [
       "(-0.012457586230305729, -0.01605154379171845)"
      ]
     },
     "execution_count": 21,
     "metadata": {},
     "output_type": "execute_result"
    }
   ],
   "source": [
    "cop=test.gaussian_copula()\n",
    "perf=performance(cop,weights)\n",
    "var=np.percentile(perf,5)\n",
    "cvar=perf[perf<var].mean()\n",
    "\n",
    "var,cvar"
   ]
  },
  {
   "cell_type": "code",
   "execution_count": 22,
   "id": "fe7fb897-16b0-49cf-9b7a-014d4cf1204b",
   "metadata": {},
   "outputs": [
    {
     "data": {
      "text/plain": [
       "(-0.012930691890055664, -0.016343352166070413)"
      ]
     },
     "execution_count": 22,
     "metadata": {},
     "output_type": "execute_result"
    }
   ],
   "source": [
    "spot=data.iloc[-1]\n",
    "monte_carlo=test.monte_carlo(spot,horizon=1/250,stress_factor=1.0)\n",
    "perf=performance(monte_carlo[1],weights)\n",
    "var=np.percentile(perf,5)\n",
    "cvar=perf[perf<var].mean()\n",
    "\n",
    "var,cvar"
   ]
  },
  {
   "cell_type": "code",
   "execution_count": 23,
   "id": "b8dc5f65-1415-4308-b63a-822a6addd568",
   "metadata": {},
   "outputs": [
    {
     "data": {
      "text/html": [
       "<div>\n",
       "<style scoped>\n",
       "    .dataframe tbody tr th:only-of-type {\n",
       "        vertical-align: middle;\n",
       "    }\n",
       "\n",
       "    .dataframe tbody tr th {\n",
       "        vertical-align: top;\n",
       "    }\n",
       "\n",
       "    .dataframe thead th {\n",
       "        text-align: right;\n",
       "    }\n",
       "</style>\n",
       "<table border=\"1\" class=\"dataframe\">\n",
       "  <thead>\n",
       "    <tr style=\"text-align: right;\">\n",
       "      <th></th>\n",
       "      <th>Historical</th>\n",
       "      <th>Parametric</th>\n",
       "      <th>Multivariate</th>\n",
       "      <th>Portfolio</th>\n",
       "    </tr>\n",
       "  </thead>\n",
       "  <tbody>\n",
       "    <tr>\n",
       "      <th>2022-02-16</th>\n",
       "      <td>-0.024657</td>\n",
       "      <td>-0.021513</td>\n",
       "      <td>-0.021967</td>\n",
       "      <td>-0.006764</td>\n",
       "    </tr>\n",
       "    <tr>\n",
       "      <th>2022-02-17</th>\n",
       "      <td>-0.024657</td>\n",
       "      <td>-0.021459</td>\n",
       "      <td>-0.022573</td>\n",
       "      <td>-0.003298</td>\n",
       "    </tr>\n",
       "    <tr>\n",
       "      <th>2022-02-18</th>\n",
       "      <td>-0.024657</td>\n",
       "      <td>-0.021018</td>\n",
       "      <td>-0.021749</td>\n",
       "      <td>-0.002674</td>\n",
       "    </tr>\n",
       "    <tr>\n",
       "      <th>2022-02-21</th>\n",
       "      <td>-0.024657</td>\n",
       "      <td>-0.022137</td>\n",
       "      <td>-0.023081</td>\n",
       "      <td>-0.017183</td>\n",
       "    </tr>\n",
       "    <tr>\n",
       "      <th>2022-02-22</th>\n",
       "      <td>-0.024657</td>\n",
       "      <td>-0.021664</td>\n",
       "      <td>-0.022689</td>\n",
       "      <td>0.000086</td>\n",
       "    </tr>\n",
       "    <tr>\n",
       "      <th>...</th>\n",
       "      <td>...</td>\n",
       "      <td>...</td>\n",
       "      <td>...</td>\n",
       "      <td>...</td>\n",
       "    </tr>\n",
       "    <tr>\n",
       "      <th>2024-04-10</th>\n",
       "      <td>-0.008677</td>\n",
       "      <td>-0.010258</td>\n",
       "      <td>-0.010514</td>\n",
       "      <td>0.006040</td>\n",
       "    </tr>\n",
       "    <tr>\n",
       "      <th>2024-04-11</th>\n",
       "      <td>-0.008677</td>\n",
       "      <td>-0.010408</td>\n",
       "      <td>-0.010454</td>\n",
       "      <td>-0.006250</td>\n",
       "    </tr>\n",
       "    <tr>\n",
       "      <th>2024-04-12</th>\n",
       "      <td>-0.008677</td>\n",
       "      <td>-0.010152</td>\n",
       "      <td>-0.010149</td>\n",
       "      <td>0.001395</td>\n",
       "    </tr>\n",
       "    <tr>\n",
       "      <th>2024-04-15</th>\n",
       "      <td>-0.008677</td>\n",
       "      <td>-0.010042</td>\n",
       "      <td>-0.009661</td>\n",
       "      <td>0.001109</td>\n",
       "    </tr>\n",
       "    <tr>\n",
       "      <th>2024-04-16</th>\n",
       "      <td>-0.010678</td>\n",
       "      <td>-0.011169</td>\n",
       "      <td>-0.010954</td>\n",
       "      <td>-0.011193</td>\n",
       "    </tr>\n",
       "  </tbody>\n",
       "</table>\n",
       "<p>530 rows × 4 columns</p>\n",
       "</div>"
      ],
      "text/plain": [
       "            Historical  Parametric  Multivariate  Portfolio\n",
       "2022-02-16   -0.024657   -0.021513     -0.021967  -0.006764\n",
       "2022-02-17   -0.024657   -0.021459     -0.022573  -0.003298\n",
       "2022-02-18   -0.024657   -0.021018     -0.021749  -0.002674\n",
       "2022-02-21   -0.024657   -0.022137     -0.023081  -0.017183\n",
       "2022-02-22   -0.024657   -0.021664     -0.022689   0.000086\n",
       "...                ...         ...           ...        ...\n",
       "2024-04-10   -0.008677   -0.010258     -0.010514   0.006040\n",
       "2024-04-11   -0.008677   -0.010408     -0.010454  -0.006250\n",
       "2024-04-12   -0.008677   -0.010152     -0.010149   0.001395\n",
       "2024-04-15   -0.008677   -0.010042     -0.009661   0.001109\n",
       "2024-04-16   -0.010678   -0.011169     -0.010954  -0.011193\n",
       "\n",
       "[530 rows x 4 columns]"
      ]
     },
     "execution_count": 23,
     "metadata": {},
     "output_type": "execute_result"
    }
   ],
   "source": [
    "var_data=rolling_var(returns,weights,window=30,Q=1).dropna()\n",
    "var_data"
   ]
  },
  {
   "cell_type": "code",
   "execution_count": 25,
   "id": "af38e7bb-5ddf-4bd7-a026-9af4d2492fad",
   "metadata": {},
   "outputs": [
    {
     "data": {
      "text/plain": [
       "<AxesSubplot:>"
      ]
     },
     "execution_count": 25,
     "metadata": {},
     "output_type": "execute_result"
    },
    {
     "data": {
      "image/png": "[encoded data removed]",
      "text/plain": [
       "<Figure size 432x288 with 1 Axes>"
      ]
     },
     "metadata": {
      "needs_background": "light"
     },
     "output_type": "display_data"
    }
   ],
   "source": [
    "var_data.plot()"
   ]
  },
  {
   "cell_type": "code",
   "execution_count": 26,
   "id": "af1d18bc-5ef9-4b8b-be6d-5f69f22105c2",
   "metadata": {},
   "outputs": [
    {
     "data": {
      "text/html": [
       "<div>\n",
       "<style scoped>\n",
       "    .dataframe tbody tr th:only-of-type {\n",
       "        vertical-align: middle;\n",
       "    }\n",
       "\n",
       "    .dataframe tbody tr th {\n",
       "        vertical-align: top;\n",
       "    }\n",
       "\n",
       "    .dataframe thead th {\n",
       "        text-align: right;\n",
       "    }\n",
       "</style>\n",
       "<table border=\"1\" class=\"dataframe\">\n",
       "  <thead>\n",
       "    <tr style=\"text-align: right;\">\n",
       "      <th></th>\n",
       "      <th>Historical</th>\n",
       "      <th>Parametric</th>\n",
       "      <th>Multivariate</th>\n",
       "    </tr>\n",
       "  </thead>\n",
       "  <tbody>\n",
       "    <tr>\n",
       "      <th>Proportion of failure</th>\n",
       "      <td>0.045283</td>\n",
       "      <td>0.013208</td>\n",
       "      <td>0.009434</td>\n",
       "    </tr>\n",
       "    <tr>\n",
       "      <th>Kupiec Stat</th>\n",
       "      <td>0.256029</td>\n",
       "      <td>21.108364</td>\n",
       "      <td>27.22821</td>\n",
       "    </tr>\n",
       "    <tr>\n",
       "      <th>P-value</th>\n",
       "      <td>0.612861</td>\n",
       "      <td>0.000004</td>\n",
       "      <td>0.0</td>\n",
       "    </tr>\n",
       "  </tbody>\n",
       "</table>\n",
       "</div>"
      ],
      "text/plain": [
       "                      Historical Parametric Multivariate\n",
       "Proportion of failure   0.045283   0.013208     0.009434\n",
       "Kupiec Stat             0.256029  21.108364     27.22821\n",
       "P-value                 0.612861   0.000004          0.0"
      ]
     },
     "execution_count": 26,
     "metadata": {},
     "output_type": "execute_result"
    }
   ],
   "source": [
    "kupiec_test(var_data)"
   ]
  },
  {
   "cell_type": "code",
   "execution_count": 27,
   "id": "89568840-755f-4504-b61c-1720c9e5e813",
   "metadata": {},
   "outputs": [
    {
     "data": {
      "text/plain": [
       "array([0.68485301, 0.13519976, 0.07730465, 0.05347523, 0.04916736])"
      ]
     },
     "execution_count": 27,
     "metadata": {},
     "output_type": "execute_result"
    }
   ],
   "source": [
    "eigval,eigvec,portfolio_components=test.pca(num_components=5)\n",
    "variance_explained=eigval/eigval.sum()\n",
    "variance_explained"
   ]
  },
  {
   "cell_type": "code",
   "execution_count": 28,
   "id": "24c6adac-08b9-44d7-8747-d74a3ca0283e",
   "metadata": {},
   "outputs": [],
   "source": [
    "#portfolio_components"
   ]
  },
  {
   "cell_type": "code",
   "execution_count": 29,
   "id": "f6053249-62c8-4d0e-b086-e2a9eff1fca6",
   "metadata": {},
   "outputs": [],
   "source": [
    "#test.evolution(portfolio_components[\"PC1\"]).plot()"
   ]
  },
  {
   "cell_type": "code",
   "execution_count": 30,
   "id": "2cb8275f-9a10-47a7-9fde-30d1da4f62b0",
   "metadata": {},
   "outputs": [],
   "source": [
    "#((1+get_close(['^STOXX50E'],\"2022-01-01\").pct_change()).cumprod()*100).plot()"
   ]
  },
  {
   "cell_type": "code",
   "execution_count": 31,
   "id": "dbeafccb-3fef-4ce0-92f3-80c9f2605b2a",
   "metadata": {},
   "outputs": [
    {
     "data": {
      "text/html": [
       "<div>\n",
       "<style scoped>\n",
       "    .dataframe tbody tr th:only-of-type {\n",
       "        vertical-align: middle;\n",
       "    }\n",
       "\n",
       "    .dataframe tbody tr th {\n",
       "        vertical-align: top;\n",
       "    }\n",
       "\n",
       "    .dataframe thead th {\n",
       "        text-align: right;\n",
       "    }\n",
       "</style>\n",
       "<table border=\"1\" class=\"dataframe\">\n",
       "  <thead>\n",
       "    <tr style=\"text-align: right;\">\n",
       "      <th></th>\n",
       "      <th>Variance Contribution</th>\n",
       "      <th>Idiosyncratic Risk</th>\n",
       "      <th>Correlation</th>\n",
       "    </tr>\n",
       "  </thead>\n",
       "  <tbody>\n",
       "    <tr>\n",
       "      <th>SAN.PA</th>\n",
       "      <td>0.103895</td>\n",
       "      <td>0.042124</td>\n",
       "      <td>0.061772</td>\n",
       "    </tr>\n",
       "    <tr>\n",
       "      <th>IBE.MC</th>\n",
       "      <td>0.098266</td>\n",
       "      <td>0.027593</td>\n",
       "      <td>0.070673</td>\n",
       "    </tr>\n",
       "    <tr>\n",
       "      <th>SAP.DE</th>\n",
       "      <td>0.097572</td>\n",
       "      <td>0.029370</td>\n",
       "      <td>0.068202</td>\n",
       "    </tr>\n",
       "    <tr>\n",
       "      <th>DTE.DE</th>\n",
       "      <td>0.096587</td>\n",
       "      <td>0.025720</td>\n",
       "      <td>0.070867</td>\n",
       "    </tr>\n",
       "    <tr>\n",
       "      <th>BN.PA</th>\n",
       "      <td>0.092496</td>\n",
       "      <td>0.022226</td>\n",
       "      <td>0.070270</td>\n",
       "    </tr>\n",
       "    <tr>\n",
       "      <th>TTE.PA</th>\n",
       "      <td>0.088047</td>\n",
       "      <td>0.031510</td>\n",
       "      <td>0.056538</td>\n",
       "    </tr>\n",
       "    <tr>\n",
       "      <th>RI.PA</th>\n",
       "      <td>0.086134</td>\n",
       "      <td>0.022860</td>\n",
       "      <td>0.063274</td>\n",
       "    </tr>\n",
       "    <tr>\n",
       "      <th>DB1.DE</th>\n",
       "      <td>0.084241</td>\n",
       "      <td>0.025827</td>\n",
       "      <td>0.058415</td>\n",
       "    </tr>\n",
       "    <tr>\n",
       "      <th>AD.AS</th>\n",
       "      <td>0.077498</td>\n",
       "      <td>0.028092</td>\n",
       "      <td>0.049407</td>\n",
       "    </tr>\n",
       "    <tr>\n",
       "      <th>ENI.MI</th>\n",
       "      <td>0.066160</td>\n",
       "      <td>0.016428</td>\n",
       "      <td>0.049733</td>\n",
       "    </tr>\n",
       "    <tr>\n",
       "      <th>MUV2.DE</th>\n",
       "      <td>0.032950</td>\n",
       "      <td>0.003410</td>\n",
       "      <td>0.029540</td>\n",
       "    </tr>\n",
       "    <tr>\n",
       "      <th>BAYN.DE</th>\n",
       "      <td>0.022015</td>\n",
       "      <td>0.002496</td>\n",
       "      <td>0.019519</td>\n",
       "    </tr>\n",
       "    <tr>\n",
       "      <th>RACE.MI</th>\n",
       "      <td>0.021755</td>\n",
       "      <td>0.001770</td>\n",
       "      <td>0.019985</td>\n",
       "    </tr>\n",
       "    <tr>\n",
       "      <th>NOKIA.HE</th>\n",
       "      <td>0.021525</td>\n",
       "      <td>0.002142</td>\n",
       "      <td>0.019383</td>\n",
       "    </tr>\n",
       "    <tr>\n",
       "      <th>AI.PA</th>\n",
       "      <td>0.010858</td>\n",
       "      <td>0.000289</td>\n",
       "      <td>0.010569</td>\n",
       "    </tr>\n",
       "  </tbody>\n",
       "</table>\n",
       "</div>"
      ],
      "text/plain": [
       "          Variance Contribution  Idiosyncratic Risk  Correlation\n",
       "SAN.PA                 0.103895            0.042124     0.061772\n",
       "IBE.MC                 0.098266            0.027593     0.070673\n",
       "SAP.DE                 0.097572            0.029370     0.068202\n",
       "DTE.DE                 0.096587            0.025720     0.070867\n",
       "BN.PA                  0.092496            0.022226     0.070270\n",
       "TTE.PA                 0.088047            0.031510     0.056538\n",
       "RI.PA                  0.086134            0.022860     0.063274\n",
       "DB1.DE                 0.084241            0.025827     0.058415\n",
       "AD.AS                  0.077498            0.028092     0.049407\n",
       "ENI.MI                 0.066160            0.016428     0.049733\n",
       "MUV2.DE                0.032950            0.003410     0.029540\n",
       "BAYN.DE                0.022015            0.002496     0.019519\n",
       "RACE.MI                0.021755            0.001770     0.019985\n",
       "NOKIA.HE               0.021525            0.002142     0.019383\n",
       "AI.PA                  0.010858            0.000289     0.010569"
      ]
     },
     "execution_count": 31,
     "metadata": {},
     "output_type": "execute_result"
    }
   ],
   "source": [
    "var_contrib_pct=test.var_contrib_pct(weights)\n",
    "var_contrib_pct=var_contrib_pct.loc[(var_contrib_pct!=0).any(axis=1)]\n",
    "var_contrib_pct=var_contrib_pct.sort_values('Variance Contribution', ascending=False)\n",
    "var_contrib_pct"
   ]
  },
  {
   "cell_type": "code",
   "execution_count": null,
   "id": "d1b76ce8-821a-42d2-a87f-1373dd5d1436",
   "metadata": {},
   "outputs": [],
   "source": []
  },
  {
   "cell_type": "code",
   "execution_count": null,
   "id": "5ebad3ee-46e0-4e1e-8472-b4a05022f819",
   "metadata": {},
   "outputs": [],
   "source": []
  }
 ],
 "metadata": {
  "kernelspec": {
   "display_name": "Python 3 (ipykernel)",
   "language": "python",
   "name": "python3"
  },
  "language_info": {
   "codemirror_mode": {
    "name": "ipython",
    "version": 3
   },
   "file_extension": ".py",
   "mimetype": "text/x-python",
   "name": "python",
   "nbconvert_exporter": "python",
   "pygments_lexer": "ipython3",
   "version": "3.9.12"
  }
 },
 "nbformat": 4,
 "nbformat_minor": 5
}
