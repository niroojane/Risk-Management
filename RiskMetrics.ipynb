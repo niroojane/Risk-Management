{
 "cells": [
  {
   "cell_type": "code",
   "execution_count": 1,
   "id": "40572196-dee9-468b-b7d1-ca36478f3d8d",
   "metadata": {},
   "outputs": [],
   "source": [
    "import pandas as pd\n",
    "import random\n",
    "import numpy as np\n",
    "import matplotlib.pyplot as plt\n",
    "import plotly.express as px\n",
    "import plotly.graph_objects as go\n",
    "import plotly.figure_factory as ff\n",
    "import seaborn as sns\n",
    "import seaborn as sns\n",
    "from scipy.stats import norm, chi2,gumbel_r\n",
    "import scipy.optimize as sco\n",
    "import datetime"
   ]
  },
  {
   "cell_type": "code",
   "execution_count": 2,
   "id": "917dd650-def2-4d10-89d9-ca82b6a3704f",
   "metadata": {},
   "outputs": [],
   "source": [
    "%run \"Stock Data.ipynb\".ipynb\n",
    "%run \"Binance API.ipynb\".ipynb"
   ]
  },
  {
   "cell_type": "code",
   "execution_count": 3,
   "id": "078644e5-bc77-4e47-873a-42a056a83df4",
   "metadata": {},
   "outputs": [],
   "source": [
    "#stocks=pd.read_html('https://en.wikipedia.org/wiki/EURO_STOXX_50')[4]"
   ]
  },
  {
   "cell_type": "code",
   "execution_count": 4,
   "id": "97066b6f-fa00-4556-a1ae-4b98a57978f8",
   "metadata": {},
   "outputs": [],
   "source": [
    "#tickers=stocks['Ticker'].to_list()"
   ]
  },
  {
   "cell_type": "code",
   "execution_count": 6,
   "id": "e1b86d74-2598-4b38-ab40-783804c8d347",
   "metadata": {},
   "outputs": [],
   "source": [
    "#tickers=get_market_cap()['Ticker'].iloc[:50].to_list()"
   ]
  },
  {
   "cell_type": "code",
   "execution_count": 7,
   "id": "e09cc0ad-20b4-4052-b89c-d2cb73ab6155",
   "metadata": {},
   "outputs": [],
   "source": [
    "tickers=df.index.to_list()"
   ]
  },
  {
   "cell_type": "code",
   "execution_count": 8,
   "id": "66df28bf-ffc6-4dfe-84e6-d9eec29f6e6d",
   "metadata": {},
   "outputs": [],
   "source": [
    "data=get_price(tickers,\"01 Jan 2023\")\n",
    "data=data.dropna(axis=1)\n",
    "n=len(data.columns)"
   ]
  },
  {
   "cell_type": "code",
   "execution_count": 9,
   "id": "b1de9481-e270-4b48-8409-9777596af75c",
   "metadata": {},
   "outputs": [],
   "source": [
    "returns=np.log(1+data.pct_change())"
   ]
  },
  {
   "cell_type": "markdown",
   "id": "991c3be5-6004-4771-a632-a1724782bccf",
   "metadata": {},
   "source": [
    "# General Functions"
   ]
  },
  {
   "cell_type": "code",
   "execution_count": 10,
   "id": "04a6c706-8517-440c-bf9c-340da8bf068e",
   "metadata": {},
   "outputs": [],
   "source": [
    "def halton_sequences(number,base=2):\n",
    "    \n",
    "    #Generate Halton sequences\n",
    "    \n",
    "    inv_base=1/base\n",
    "    \n",
    "    i=number\n",
    "    halton=0\n",
    "    \n",
    "    while i>0:\n",
    "        \n",
    "        digit = i%base\n",
    "        halton=halton + digit*inv_base\n",
    "        i=(i-digit)/base\n",
    "        inv_base=inv_base/base\n",
    "        \n",
    "    return halton\n",
    "\n",
    "def generate_halton(iterations,dimensions=1,base=2):\n",
    "    \n",
    "    #Generate a Halton Sequences at basis k , then shuffles it\n",
    "    \n",
    "    rng = np.random.default_rng()\n",
    "    matrix=[]\n",
    "    haltons=[]\n",
    "    \n",
    "    for i in range(iterations):\n",
    "        halton=halton_sequences(i,base=base)\n",
    "        haltons.append(halton)\n",
    "    \n",
    "    for dim in range(dimensions):\n",
    "        \n",
    "        matrix.append(haltons)\n",
    "    \n",
    "    matrix = rng.permuted(matrix, axis=1)\n",
    "    return matrix\n",
    "\n",
    "def near_psd(x, epsilon=0):\n",
    "    \n",
    "    #Calculate the nearest positive semi definite matrix\n",
    "\n",
    "    if min(np.linalg.eigvals(x))> epsilon:\n",
    "        return x\n",
    "\n",
    "    n = x.shape[0]\n",
    "    var_list = np.array(np.sqrt(np.diag(x)))\n",
    "    y = np.array([[x[i, j]/(var_list[i]*var_list[j]) for i in range(n)] for j in range(n)])\n",
    "\n",
    "    eigval, eigvec = np.linalg.eig(y)\n",
    "    val = np.matrix(np.maximum(eigval, epsilon))\n",
    "    vec = np.matrix(eigvec)\n",
    "    T = 1/(np.multiply(vec, vec) * val.T)\n",
    "    T = np.matrix(np.sqrt(np.diag(np.array(T).reshape((n)) )))\n",
    "    B = T * vec * np.diag(np.array(np.sqrt(val)).reshape((n)))\n",
    "    near_corr = B*B.T    \n",
    "\n",
    "    near_cov = np.array([[near_corr[i, j]*(var_list[i]*var_list[j]) for i in range(n)] for j in range(n)])\n",
    "    return near_cov"
   ]
  },
  {
   "cell_type": "code",
   "execution_count": 11,
   "id": "1b471ac9-5f6e-4c92-b988-c013e68bc2c8",
   "metadata": {},
   "outputs": [],
   "source": [
    "\n",
    "def performance(perf,weights):\n",
    "    \n",
    "    #Calculate the performance of a portfolio on a daily basis\n",
    "    \n",
    "    return np.dot(perf,weights)\n"
   ]
  },
  {
   "cell_type": "code",
   "execution_count": 12,
   "id": "b6711073-70b7-4bbb-bb8e-0ac8479d4a54",
   "metadata": {
    "tags": []
   },
   "outputs": [],
   "source": [
    "def rolling_var(returns,weights,window=30,Q=1):\n",
    "\n",
    "    #This function will return the rolling VaR on a x-days window following historical,parametric and multivariate model\n",
    "\n",
    "    value_at_risk=pd.DataFrame()\n",
    "\n",
    "    mean=returns.rolling(window).mean().dropna()\n",
    "    cov=returns.rolling(window).cov().dropna()\n",
    "    corr=returns.rolling(window).corr().dropna()\n",
    "    std=returns.rolling(window).std().dropna()\n",
    "\n",
    "    index=sorted(tuple(set(cov.index.get_level_values(0))))\n",
    "\n",
    "\n",
    "    var={}\n",
    "\n",
    "    for date in index:\n",
    "            \n",
    "            multivariate_var=performance(np.random.multivariate_normal(mean.loc[date],cov.loc[date],10000),weights) \n",
    "            var[date]=np.percentile(multivariate_var,Q)\n",
    "\n",
    "\n",
    "    var=pd.DataFrame(var.values(),index=var.keys())\n",
    "\n",
    "    portfolio=Portfolio(returns).portfolio(weights)\n",
    "\n",
    "    value_at_risk['Historical']=portfolio.rolling(window=window).apply(lambda x:np.percentile(x,Q))\n",
    "    value_at_risk['Parametric']=portfolio.rolling(window=window).std()*norm(loc =0 , scale = 1).ppf(Q/100)\n",
    "    value_at_risk['Multivariate']=var\n",
    "    value_at_risk['Portfolio']=portfolio\n",
    "\n",
    "    return value_at_risk.dropna()\n",
    "\n",
    "def kupiec_test(rolling_var,Q=5):\n",
    "\n",
    "    number_obs=rolling_var.shape[0]\n",
    "    confidence=Q/100\n",
    "\n",
    "    ret=(1+rolling_var['Portfolio']).cumprod()\n",
    "    return_mean=(ret.iloc[-1])**(1/number_obs)-1\n",
    "\n",
    "    stats={}\n",
    "\n",
    "    stats['Proportion of failure']=[]\n",
    "    stats['Kupiec Stat']=[]\n",
    "    stats['P-value']=[]\n",
    "    stats['Model']=[]\n",
    "\n",
    "    for col in rolling_var.columns:\n",
    "\n",
    "        if col=='Portfolio':\n",
    "\n",
    "            continue\n",
    "\n",
    "        else:\n",
    "\n",
    "            number_violation=np.sum(np.where(rolling_var[col]>rolling_var['Portfolio'],1,0))\n",
    "            number_non_violation=number_obs-number_violation\n",
    "            proportion_violation=number_violation/number_obs\n",
    "            proportion_non_violation=1-proportion_violation\n",
    "\n",
    "            kupiec=2*np.log((proportion_non_violation/(1-confidence))**(number_non_violation)*\n",
    "                                (proportion_violation/confidence)**number_violation)\n",
    "\n",
    "            p_value=1-chi2.cdf(kupiec,1)\n",
    "\n",
    "        stats['Kupiec Stat'].append(kupiec)\n",
    "        stats['P-value'].append(p_value)\n",
    "        stats['Proportion of failure'].append(proportion_violation)\n",
    "        stats['Model'].append(col)\n",
    "\n",
    "    stats=pd.DataFrame(stats.values(),index=stats.keys(),columns=stats['Model'])\n",
    "    stats=stats.drop(stats.index[3])\n",
    "\n",
    "    return stats\n"
   ]
  },
  {
   "cell_type": "markdown",
   "id": "5b1d59b8-eb12-4009-8f54-90940316a6e4",
   "metadata": {},
   "source": [
    "## Portfolio Construction"
   ]
  },
  {
   "cell_type": "code",
   "execution_count": 13,
   "id": "fcd35608-9236-4fb2-b331-f58272b1945e",
   "metadata": {},
   "outputs": [],
   "source": [
    "class Portfolio:\n",
    "    \n",
    "    #This class allows the user to calculate various metrics of a portfolio\n",
    "    #and also allows to optmize the portfolio with various constraints\n",
    "    \n",
    "    def __init__(self,data):\n",
    "        \n",
    "        self.data=data\n",
    "\n",
    "    def portfolio(self,weights):\n",
    "            \n",
    "        portfolio=pd.DataFrame()\n",
    "        portfolio['Portfolio']=np.sum(weights*returns,axis=1)\n",
    "        \n",
    "        return portfolio\n",
    "    \n",
    "    def evolution(self,weights):\n",
    "        \n",
    "        portfolio=self.portfolio(weights)\n",
    "        evolution=(1+portfolio).cumprod()*100\n",
    "        \n",
    "        return evolution\n",
    "    \n",
    "    def performance(self,weights):\n",
    "        performance=np.sum(self.data*weights).mean()*252\n",
    "        return performance\n",
    "    \n",
    "    def variance(self,weights):\n",
    "        variance=np.sqrt(np.dot(weights.T,np.dot(self.data.cov(),weights)))*np.sqrt(252)\n",
    "        return variance\n",
    "    \n",
    "    def sharpe_ratio(weights):\n",
    "            return self.performance(weights)/self.variance(weights)\n",
    "\n",
    "    def optimize(self,objective='minimum_variance',constraints=False):\n",
    "        \n",
    "            \n",
    "        def sum_equal_one(weight):\n",
    "            return np.sum(weight) - 1   \n",
    "        \n",
    "        def sharpe_ratio(weights):\n",
    "            return - self.performance(weights)/self.variance(weights)\n",
    "        \n",
    "        def variance(weights):\n",
    "            variance=np.sqrt(np.dot(weights.T,np.dot(self.data.cov(),weights)))*np.sqrt(252)\n",
    "            return variance\n",
    "        \n",
    "        n_assets = len(self.data.columns)\n",
    "        weight = np.array([1 / n_assets] * n_assets)\n",
    "        bounds = tuple((0, 1) for _ in range(n_assets))\n",
    "        \n",
    "        if not constraints:\n",
    "            \n",
    "            constraints = [{'type': 'eq', 'fun': sum_equal_one}]\n",
    "        \n",
    "        else:\n",
    "            \n",
    "            constraints=[{'type': 'eq', 'fun': sum_equal_one}]+constraints\n",
    "        \n",
    "        if objective=='minimum_variance':\n",
    "\n",
    "            optimum_weights = sco.minimize(variance, weight, method='SLSQP', bounds=bounds, constraints=constraints)\n",
    "        \n",
    "        elif objective=='sharpe_ratio':\n",
    "            \n",
    "            optimum_weights = sco.minimize(sharpe_ratio, weight, method='SLSQP', bounds=bounds, constraints=constraints)\n",
    "            \n",
    "        else:\n",
    "            \n",
    "            print(\"Objective function undefined\")\n",
    "            \n",
    "            \n",
    "        return optimum_weights.x\n",
    "    \n",
    "    def black_Litterman(self,P,Q,weights,risk_aversion,tau=0.025):\n",
    "        \n",
    "        implied_returns=risk_aversion*self.data.cov().dot(weights).squeeze()\n",
    "        omega=np.diag(np.diag(P.dot(tau*self.data.cov()).dot(P.T)))\n",
    "        sigma_scaled=self.data.cov()*tau\n",
    "        BL_returns= implied_returns + sigma_scaled.dot(P.T).dot(np.linalg.inv(P.dot(sigma_scaled).dot(P.T))+omega).dot(Q-P.dot(implied_returns))\n",
    "        inv_cov=np.linalg.inv(self.data.cov())\n",
    "        BL_weights=inv_cov.dot(BL_returns)\n",
    "        BL_weights=BL_weights/BL_weights.sum()\n",
    "        \n",
    "        return BL_weights,BL_returns"
   ]
  },
  {
   "cell_type": "markdown",
   "id": "a34878d2-f683-4e41-8d4d-047bdf77a8fe",
   "metadata": {},
   "source": [
    "## Risk Analysis"
   ]
  },
  {
   "cell_type": "code",
   "execution_count": 14,
   "id": "ca4389e7-5250-45e7-83b8-5dba2353231f",
   "metadata": {},
   "outputs": [],
   "source": [
    "class RiskAnalysis(Portfolio):\n",
    "    \n",
    "    \n",
    "    #This class is used to assess various risk of a portfolio such as Market Risk, VaR\n",
    "    # and to know which asset could possibly contribute to it\n",
    "    \n",
    "    def __init__(self,returns):\n",
    "        \n",
    "        self.returns=returns\n",
    "        super().__init__(data=returns)\n",
    "        \n",
    "\n",
    "    def historical_var(self,weights,last_days=False,Q=5):\n",
    "        \n",
    "        #Return Historical VaR on the Past x days at Q confidence interval\n",
    "\n",
    "        performance=super().portfolio(weights)\n",
    "        \n",
    "        if last_days:\n",
    "            performance=performance[-last_days:]\n",
    "            \n",
    "        var=np.percentile(performance,Q)\n",
    "        cvar=performance[performance<var].mean().values[0]\n",
    "        \n",
    "        return var,cvar\n",
    "    \n",
    "    \n",
    "    def parametric_var(self,weights,Q=0.95):\n",
    "        \n",
    "        #Return parametric VaR, where assets follows a Normal Distribution\n",
    "        \n",
    "        intervals=np.arange(Q, 1, 0.0005, dtype=float)\n",
    "        \n",
    "        variance=super().variance(weights)\n",
    "        VaR=variance/np.sqrt(252)*norm(loc =0 , scale = 1).ppf(1-Q)\n",
    "        CVaR=variance/np.sqrt(252)*norm(loc =0 , scale = 1).ppf(1-intervals).mean()\n",
    "        \n",
    "        return VaR,CVaR\n",
    "        \n",
    "        \n",
    "    def multivariate_distribution(self,\n",
    "                    stress_factor=1.0,\n",
    "                    iterations=10000):\n",
    "        \n",
    "        #Return Multivariate Distribution of a portfolio taking into account potential correlation\n",
    "        \n",
    "        num_asset=len(self.returns.columns)\n",
    "        \n",
    "        if type(stress_factor)==float:\n",
    "            \n",
    "            stress_vec=np.linspace(stress_factor,stress_factor,num_asset)\n",
    "            \n",
    "        else:       \n",
    "            stress_vec=stress_factor\n",
    "            \n",
    "        stress_matrix=np.diag(stress_vec)\n",
    "        stress_matrix=pd.DataFrame(stress_matrix,columns=self.returns.columns,index=self.returns.columns)\n",
    "        \n",
    "        stressed_cov=self.returns.cov().dot(stress_matrix)\n",
    "        mean=self.returns.mean()\n",
    "        \n",
    "        multivariate=np.random.multivariate_normal(mean,stressed_cov,iterations)\n",
    "        \n",
    "        return multivariate\n",
    "    \n",
    "    def gaussian_copula(self,iterations=10000):\n",
    "        \n",
    "        randoms=np.random.normal(size=(10000,self.returns.shape[1])).T\n",
    "        near_psd_corr=near_psd(self.returns.corr())\n",
    "        cholesky=np.linalg.cholesky(self.returns.corr())\n",
    "\n",
    "        simulation=np.matmul(cholesky,randoms).T\n",
    "        simulation=pd.DataFrame(simulation)\n",
    "        simulation.columns=self.returns.columns\n",
    "\n",
    "        copula_sample=simulation*self.returns.std()+self.returns.mean()\n",
    "        \n",
    "        return copula_sample\n",
    "    \n",
    "    def t_copula(self,iterations=10000):\n",
    "        \n",
    "        df=self.returns.shape[1]*self.returns.shape[1]//2+self.returns.shape[1]\n",
    "        ChiSquared = np.random.chisquare(df=df, size=iterations)\n",
    "\n",
    "        randoms=np.random.normal(size=(10000,self.returns.shape[1])).T\n",
    "        near_psd_corr=near_psd(self.returns.corr())\n",
    "        cholesky=np.linalg.cholesky(self.returns.corr())\n",
    "\n",
    "        simulation=np.matmul(cholesky,randoms)/np.sqrt(ChiSquared/df)\n",
    "        simulation=pd.DataFrame(simulation.T)\n",
    "        simulation.columns=self.returns.columns\n",
    "\n",
    "        copula_sample=simulation*self.returns.std()+self.returns.mean()\n",
    "        \n",
    "        return copula_sample\n",
    "    \n",
    "    def monte_carlo(self,spot,horizon=20/250,iterations=100000,stress_factor=1.0):\n",
    "        \n",
    "        \n",
    "        \n",
    "        num_asset=len(self.returns.columns)\n",
    "        #haltons=generate_halton(iterations,num_asset,base=2)\n",
    "        randoms=np.random.normal(size=(10000,num_asset)).T\n",
    "        \n",
    "        # Create a stress matrix to stress the covariance matrix\n",
    "        \n",
    "        if type(stress_factor)==float:\n",
    "            \n",
    "            stress_vec=np.linspace(stress_factor,stress_factor,num_asset)\n",
    "            \n",
    "        else: \n",
    "            \n",
    "            stress_vec=stress_factor\n",
    "        \n",
    "        \n",
    "        #Stress the volatilities of the assets\n",
    "        \n",
    "        vol=self.returns.std()*np.sqrt(250)*stress_vec\n",
    "        \n",
    "        #Create a diagonal matrix of the stress factors\n",
    "        \n",
    "        stress_matrix=np.diag(stress_vec)\n",
    "        stress_matrix=pd.DataFrame(stress_matrix,columns=self.returns.columns,index=self.returns.columns)\n",
    "        \n",
    "        #Find nearest PSD matrix and apply cholesky decomposition to create correaltion effect in Monte Carlo\n",
    "        \n",
    "        stressed_cov=self.returns.cov().dot(stress_matrix)\n",
    "        stressed_std=np.sqrt(np.diag(stressed_cov))\n",
    "        corr_matrix=stressed_cov/np.outer(stressed_std,stressed_std)\n",
    "        sdp_corr_matrix=near_psd(corr_matrix)\n",
    "        \n",
    "        cholesky=np.linalg.cholesky(corr_matrix)\n",
    "            \n",
    "        drift=np.exp(-0.5*horizon*vol**2)\n",
    "        factors=spot*drift\n",
    "        factors_vec=factors.to_numpy().reshape(num_asset,-1)\n",
    "                \n",
    "        simulation=np.matmul(cholesky,randoms).T\n",
    "        simulation=pd.DataFrame(simulation)\n",
    "        simulation.columns=self.returns.columns\n",
    " \n",
    "        \n",
    "        monte_carlo=factors_vec.T*np.exp(simulation.dot(np.diag(vol))*np.sqrt(horizon))\n",
    "        monte_carlo=pd.DataFrame(monte_carlo)\n",
    "        monte_carlo.columns=self.returns.columns\n",
    "        perf_monte_carlo=np.log(monte_carlo/spot)\n",
    "        \n",
    "        return monte_carlo,perf_monte_carlo\n",
    "      \n",
    "\n",
    "    \n",
    "    def pca(self,num_components=2):\n",
    "        \n",
    "        #Returns the eigen vectors of the covariance matrix\n",
    "        \n",
    "        cov_matrix=self.returns.cov()\n",
    "                \n",
    "        eig_val, eig_vec=np.linalg.eig(cov_matrix)\n",
    "        sorted_eig_val=eig_val.argsort()[::-1]\n",
    "        eig_val=eig_val[sorted_eig_val]\n",
    "        eig_vec=eig_vec[:,sorted_eig_val]\n",
    "        eig_val=eig_val[:num_components]\n",
    "        eig_vec=eig_vec[:,0:num_components]\n",
    "        \n",
    "        PC={}\n",
    "        \n",
    "        for i in range(eig_vec.shape[1]):\n",
    "            \n",
    "            PC[\"PC\" +str(i+1)]=eig_vec[:,i]/eig_vec[:,i].sum()\n",
    "        \n",
    "        \n",
    "        portfolio_components=pd.DataFrame(PC.values(),index=PC.keys(),columns=data.columns).T\n",
    "        \n",
    "        return eig_val,eig_vec,portfolio_components\n",
    "    \n",
    "\n",
    "    def var_contrib(self,weights):\n",
    "        \n",
    "        weights_matrix=np.diag(weights)\n",
    "        variance_contrib=np.dot(weights_matrix,np.dot(self.returns.cov()*252,weights_matrix.T))\n",
    "        \n",
    "        asset_contrib=variance_contrib.sum(axis=0)    \n",
    "        diag=np.diag(variance_contrib.diagonal())\n",
    "        variance_decomposition=np.column_stack([asset_contrib,variance_contrib.diagonal(),(variance_contrib-diag).sum(axis=0)])\n",
    "        contrib=pd.DataFrame(variance_decomposition,index=self.returns.columns,columns=['Variance Contribution','Idiosyncratic Risk','Correlation'])\n",
    "        \n",
    "        weighted_covar=pd.DataFrame(variance_contrib,columns=self.returns.columns,index=self.returns.columns)\n",
    "        \n",
    "        return contrib,weighted_covar\n",
    "    \n",
    "    def var_contrib_pct(self,weights):\n",
    "        \n",
    "        var_contrib=self.var_contrib(weights)[0]\n",
    "        var_contrib=var_contrib/var_contrib['Variance Contribution'].sum()\n",
    "        var_contrib.columns=['Variance Contribution in %','Idiosyncratic Risk in %','Correlation in %']\n",
    "        return var_contrib\n",
    "    "
   ]
  },
  {
   "cell_type": "code",
   "execution_count": 15,
   "id": "8b83f7b0-e7ad-4b97-9c96-63a68f63bdd0",
   "metadata": {},
   "outputs": [],
   "source": [
    "test=RiskAnalysis(returns)"
   ]
  },
  {
   "cell_type": "code",
   "execution_count": 16,
   "id": "64112844-08d0-48ae-98e6-cb185952fc7f",
   "metadata": {},
   "outputs": [],
   "source": [
    "num_asset=len(data.columns)\n",
    "weights=np.random.rand(num_asset)\n",
    "weights=weights/weights.sum()"
   ]
  },
  {
   "cell_type": "code",
   "execution_count": 17,
   "id": "c7963f6e-39ce-47b5-9568-7c552a077d3f",
   "metadata": {},
   "outputs": [],
   "source": [
    "weights=test.optimize(objective=\"sharpe_ratio\",constraints=[{'type': 'ineq', 'fun': lambda weights: weights[0]-0.2}\n",
    "                     ,{'type': 'ineq', 'fun': lambda weights: weights[2]-0.2}])\n",
    "weights=np.round(weights,4)"
   ]
  },
  {
   "cell_type": "code",
   "execution_count": 18,
   "id": "942abae1-c076-49e7-b8b8-ad5a5aef91a2",
   "metadata": {},
   "outputs": [],
   "source": [
    "dico_ptf=dict(zip(returns.columns,weights))"
   ]
  },
  {
   "cell_type": "code",
   "execution_count": 19,
   "id": "97030ab6-ee33-46ae-b268-2caedf2ee98d",
   "metadata": {},
   "outputs": [
    {
     "data": {
      "text/html": [
       "<div>\n",
       "<style scoped>\n",
       "    .dataframe tbody tr th:only-of-type {\n",
       "        vertical-align: middle;\n",
       "    }\n",
       "\n",
       "    .dataframe tbody tr th {\n",
       "        vertical-align: top;\n",
       "    }\n",
       "\n",
       "    .dataframe thead th {\n",
       "        text-align: right;\n",
       "    }\n",
       "</style>\n",
       "<table border=\"1\" class=\"dataframe\">\n",
       "  <thead>\n",
       "    <tr style=\"text-align: right;\">\n",
       "      <th></th>\n",
       "      <th>Weights</th>\n",
       "    </tr>\n",
       "  </thead>\n",
       "  <tbody>\n",
       "    <tr>\n",
       "      <th>BTCUSDT</th>\n",
       "      <td>0.2000</td>\n",
       "    </tr>\n",
       "    <tr>\n",
       "      <th>ETHUSDT</th>\n",
       "      <td>0.2000</td>\n",
       "    </tr>\n",
       "    <tr>\n",
       "      <th>SOLUSDT</th>\n",
       "      <td>0.1621</td>\n",
       "    </tr>\n",
       "    <tr>\n",
       "      <th>INJUSDT</th>\n",
       "      <td>0.1302</td>\n",
       "    </tr>\n",
       "    <tr>\n",
       "      <th>RNDRUSDT</th>\n",
       "      <td>0.1229</td>\n",
       "    </tr>\n",
       "    <tr>\n",
       "      <th>MKRUSDT</th>\n",
       "      <td>0.1146</td>\n",
       "    </tr>\n",
       "    <tr>\n",
       "      <th>FETUSDT</th>\n",
       "      <td>0.0702</td>\n",
       "    </tr>\n",
       "  </tbody>\n",
       "</table>\n",
       "</div>"
      ],
      "text/plain": [
       "          Weights\n",
       "BTCUSDT    0.2000\n",
       "ETHUSDT    0.2000\n",
       "SOLUSDT    0.1621\n",
       "INJUSDT    0.1302\n",
       "RNDRUSDT   0.1229\n",
       "MKRUSDT    0.1146\n",
       "FETUSDT    0.0702"
      ]
     },
     "execution_count": 19,
     "metadata": {},
     "output_type": "execute_result"
    }
   ],
   "source": [
    "inventory=pd.DataFrame(dico_ptf.values(),index=dico_ptf.keys(),columns=['Weights'])\n",
    "inventory=inventory.loc[(inventory!=0).any(axis=1)].sort_values(by='Weights',ascending=False)\n",
    "inventory"
   ]
  },
  {
   "cell_type": "code",
   "execution_count": 20,
   "id": "ea1bdd55-54f8-47e5-ae38-8f20966f81c3",
   "metadata": {},
   "outputs": [],
   "source": [
    "te=((1+returns).cumprod()*weights)#.dropna()\n",
    "ptf=te.sum(axis=1)"
   ]
  },
  {
   "cell_type": "code",
   "execution_count": 21,
   "id": "e78dc6cc-fa80-4779-b265-edf3d6f5d78e",
   "metadata": {},
   "outputs": [],
   "source": [
    "last_nav=te.iloc[-1].sum()\n",
    "last_row=te.iloc[-1]\n",
    "\n",
    "last_weight=last_row/last_nav\n",
    "\n",
    "perf=last_row/weights\n",
    "\n",
    "perf_contrib=(perf-1)*weights"
   ]
  },
  {
   "cell_type": "code",
   "execution_count": 22,
   "id": "dbeafccb-3fef-4ce0-92f3-80c9f2605b2a",
   "metadata": {},
   "outputs": [
    {
     "data": {
      "text/html": [
       "<div>\n",
       "<style scoped>\n",
       "    .dataframe tbody tr th:only-of-type {\n",
       "        vertical-align: middle;\n",
       "    }\n",
       "\n",
       "    .dataframe tbody tr th {\n",
       "        vertical-align: top;\n",
       "    }\n",
       "\n",
       "    .dataframe thead th {\n",
       "        text-align: right;\n",
       "    }\n",
       "</style>\n",
       "<table border=\"1\" class=\"dataframe\">\n",
       "  <thead>\n",
       "    <tr style=\"text-align: right;\">\n",
       "      <th></th>\n",
       "      <th>Variance Contribution in %</th>\n",
       "      <th>Idiosyncratic Risk in %</th>\n",
       "      <th>Correlation in %</th>\n",
       "    </tr>\n",
       "  </thead>\n",
       "  <tbody>\n",
       "    <tr>\n",
       "      <th>SOLUSDT</th>\n",
       "      <td>0.195256</td>\n",
       "      <td>0.058596</td>\n",
       "      <td>0.136660</td>\n",
       "    </tr>\n",
       "    <tr>\n",
       "      <th>RNDRUSDT</th>\n",
       "      <td>0.184988</td>\n",
       "      <td>0.054864</td>\n",
       "      <td>0.130125</td>\n",
       "    </tr>\n",
       "    <tr>\n",
       "      <th>INJUSDT</th>\n",
       "      <td>0.176112</td>\n",
       "      <td>0.053728</td>\n",
       "      <td>0.122384</td>\n",
       "    </tr>\n",
       "    <tr>\n",
       "      <th>ETHUSDT</th>\n",
       "      <td>0.135654</td>\n",
       "      <td>0.026341</td>\n",
       "      <td>0.109314</td>\n",
       "    </tr>\n",
       "    <tr>\n",
       "      <th>BTCUSDT</th>\n",
       "      <td>0.125680</td>\n",
       "      <td>0.023082</td>\n",
       "      <td>0.102598</td>\n",
       "    </tr>\n",
       "    <tr>\n",
       "      <th>FETUSDT</th>\n",
       "      <td>0.101593</td>\n",
       "      <td>0.018854</td>\n",
       "      <td>0.082739</td>\n",
       "    </tr>\n",
       "    <tr>\n",
       "      <th>MKRUSDT</th>\n",
       "      <td>0.080717</td>\n",
       "      <td>0.020103</td>\n",
       "      <td>0.060614</td>\n",
       "    </tr>\n",
       "  </tbody>\n",
       "</table>\n",
       "</div>"
      ],
      "text/plain": [
       "          Variance Contribution in %  Idiosyncratic Risk in %  \\\n",
       "SOLUSDT                     0.195256                 0.058596   \n",
       "RNDRUSDT                    0.184988                 0.054864   \n",
       "INJUSDT                     0.176112                 0.053728   \n",
       "ETHUSDT                     0.135654                 0.026341   \n",
       "BTCUSDT                     0.125680                 0.023082   \n",
       "FETUSDT                     0.101593                 0.018854   \n",
       "MKRUSDT                     0.080717                 0.020103   \n",
       "\n",
       "          Correlation in %  \n",
       "SOLUSDT           0.136660  \n",
       "RNDRUSDT          0.130125  \n",
       "INJUSDT           0.122384  \n",
       "ETHUSDT           0.109314  \n",
       "BTCUSDT           0.102598  \n",
       "FETUSDT           0.082739  \n",
       "MKRUSDT           0.060614  "
      ]
     },
     "execution_count": 22,
     "metadata": {},
     "output_type": "execute_result"
    }
   ],
   "source": [
    "var_contrib_pct=test.var_contrib_pct(weights)\n",
    "var_contrib_pct=var_contrib_pct.loc[(var_contrib_pct!=0).any(axis=1)]\n",
    "var_contrib_pct=var_contrib_pct.sort_values('Variance Contribution in %', ascending=False)\n",
    "var_contrib_pct"
   ]
  },
  {
   "cell_type": "code",
   "execution_count": 23,
   "id": "52c92c98-0ea8-47da-8cba-f6ed0aac10c5",
   "metadata": {},
   "outputs": [],
   "source": [
    "perf_report=pd.DataFrame(perf_contrib.dropna())\n",
    "perf_report.columns=['Performance Contribution']\n",
    "\n",
    "perf_report.sort_values(by='Performance Contribution',ascending=False)\n",
    "perf_report['Performance Contribution in %']=perf_report['Performance Contribution']/perf_report['Performance Contribution'].sum()"
   ]
  },
  {
   "cell_type": "code",
   "execution_count": 24,
   "id": "c73b4755-bb69-472b-b055-03fe337a3e34",
   "metadata": {},
   "outputs": [
    {
     "data": {
      "text/html": [
       "<div>\n",
       "<style scoped>\n",
       "    .dataframe tbody tr th:only-of-type {\n",
       "        vertical-align: middle;\n",
       "    }\n",
       "\n",
       "    .dataframe tbody tr th {\n",
       "        vertical-align: top;\n",
       "    }\n",
       "\n",
       "    .dataframe thead th {\n",
       "        text-align: right;\n",
       "    }\n",
       "</style>\n",
       "<table border=\"1\" class=\"dataframe\">\n",
       "  <thead>\n",
       "    <tr style=\"text-align: right;\">\n",
       "      <th></th>\n",
       "      <th>Weights</th>\n",
       "      <th>Performance Contribution in %</th>\n",
       "      <th>Variance Contribution in %</th>\n",
       "      <th>Idiosyncratic Risk in %</th>\n",
       "      <th>Correlation in %</th>\n",
       "    </tr>\n",
       "  </thead>\n",
       "  <tbody>\n",
       "    <tr>\n",
       "      <th>BTCUSDT</th>\n",
       "      <td>0.2000</td>\n",
       "      <td>0.089562</td>\n",
       "      <td>0.125680</td>\n",
       "      <td>0.023082</td>\n",
       "      <td>0.102598</td>\n",
       "    </tr>\n",
       "    <tr>\n",
       "      <th>ETHUSDT</th>\n",
       "      <td>0.2000</td>\n",
       "      <td>0.043095</td>\n",
       "      <td>0.135654</td>\n",
       "      <td>0.026341</td>\n",
       "      <td>0.109314</td>\n",
       "    </tr>\n",
       "    <tr>\n",
       "      <th>SOLUSDT</th>\n",
       "      <td>0.1621</td>\n",
       "      <td>0.241684</td>\n",
       "      <td>0.195256</td>\n",
       "      <td>0.058596</td>\n",
       "      <td>0.136660</td>\n",
       "    </tr>\n",
       "    <tr>\n",
       "      <th>INJUSDT</th>\n",
       "      <td>0.1302</td>\n",
       "      <td>0.206420</td>\n",
       "      <td>0.176112</td>\n",
       "      <td>0.053728</td>\n",
       "      <td>0.122384</td>\n",
       "    </tr>\n",
       "    <tr>\n",
       "      <th>RNDRUSDT</th>\n",
       "      <td>0.1229</td>\n",
       "      <td>0.244227</td>\n",
       "      <td>0.184988</td>\n",
       "      <td>0.054864</td>\n",
       "      <td>0.130125</td>\n",
       "    </tr>\n",
       "    <tr>\n",
       "      <th>MKRUSDT</th>\n",
       "      <td>0.1146</td>\n",
       "      <td>0.058887</td>\n",
       "      <td>0.080717</td>\n",
       "      <td>0.020103</td>\n",
       "      <td>0.060614</td>\n",
       "    </tr>\n",
       "    <tr>\n",
       "      <th>FETUSDT</th>\n",
       "      <td>0.0702</td>\n",
       "      <td>0.116125</td>\n",
       "      <td>0.101593</td>\n",
       "      <td>0.018854</td>\n",
       "      <td>0.082739</td>\n",
       "    </tr>\n",
       "  </tbody>\n",
       "</table>\n",
       "</div>"
      ],
      "text/plain": [
       "          Weights  Performance Contribution in %  Variance Contribution in %  \\\n",
       "BTCUSDT    0.2000                       0.089562                    0.125680   \n",
       "ETHUSDT    0.2000                       0.043095                    0.135654   \n",
       "SOLUSDT    0.1621                       0.241684                    0.195256   \n",
       "INJUSDT    0.1302                       0.206420                    0.176112   \n",
       "RNDRUSDT   0.1229                       0.244227                    0.184988   \n",
       "MKRUSDT    0.1146                       0.058887                    0.080717   \n",
       "FETUSDT    0.0702                       0.116125                    0.101593   \n",
       "\n",
       "          Idiosyncratic Risk in %  Correlation in %  \n",
       "BTCUSDT                  0.023082          0.102598  \n",
       "ETHUSDT                  0.026341          0.109314  \n",
       "SOLUSDT                  0.058596          0.136660  \n",
       "INJUSDT                  0.053728          0.122384  \n",
       "RNDRUSDT                 0.054864          0.130125  \n",
       "MKRUSDT                  0.020103          0.060614  \n",
       "FETUSDT                  0.018854          0.082739  "
      ]
     },
     "execution_count": 24,
     "metadata": {},
     "output_type": "execute_result"
    }
   ],
   "source": [
    "report=pd.concat([inventory,perf_report['Performance Contribution in %'],var_contrib_pct],axis=1)\n",
    "report"
   ]
  },
  {
   "cell_type": "code",
   "execution_count": 69,
   "id": "1cf78f67-f324-4a58-98cb-9f1a9f1c1d95",
   "metadata": {},
   "outputs": [
    {
     "data": {
      "text/html": [
       "<div>\n",
       "<style scoped>\n",
       "    .dataframe tbody tr th:only-of-type {\n",
       "        vertical-align: middle;\n",
       "    }\n",
       "\n",
       "    .dataframe tbody tr th {\n",
       "        vertical-align: top;\n",
       "    }\n",
       "\n",
       "    .dataframe thead th {\n",
       "        text-align: right;\n",
       "    }\n",
       "</style>\n",
       "<table border=\"1\" class=\"dataframe\">\n",
       "  <thead>\n",
       "    <tr style=\"text-align: right;\">\n",
       "      <th></th>\n",
       "      <th>Price in €</th>\n",
       "      <th>Quantity</th>\n",
       "      <th>Position</th>\n",
       "      <th>Weights in %</th>\n",
       "      <th>Weights in theory</th>\n",
       "      <th>Spread</th>\n",
       "    </tr>\n",
       "  </thead>\n",
       "  <tbody>\n",
       "    <tr>\n",
       "      <th>BTCUSDT</th>\n",
       "      <td>60766.0600</td>\n",
       "      <td>0.000921</td>\n",
       "      <td>55.954603</td>\n",
       "      <td>19.845083</td>\n",
       "      <td>20.00</td>\n",
       "      <td>-0.154917</td>\n",
       "    </tr>\n",
       "    <tr>\n",
       "      <th>RNDRUSDT</th>\n",
       "      <td>10.9670</td>\n",
       "      <td>4.245345</td>\n",
       "      <td>46.558703</td>\n",
       "      <td>16.512695</td>\n",
       "      <td>12.29</td>\n",
       "      <td>4.222695</td>\n",
       "    </tr>\n",
       "    <tr>\n",
       "      <th>ETHUSDT</th>\n",
       "      <td>2900.0000</td>\n",
       "      <td>0.013745</td>\n",
       "      <td>39.859108</td>\n",
       "      <td>14.136590</td>\n",
       "      <td>20.00</td>\n",
       "      <td>-5.863410</td>\n",
       "    </tr>\n",
       "    <tr>\n",
       "      <th>INJUSDT</th>\n",
       "      <td>25.0300</td>\n",
       "      <td>1.082087</td>\n",
       "      <td>27.084626</td>\n",
       "      <td>9.605941</td>\n",
       "      <td>13.02</td>\n",
       "      <td>-3.414059</td>\n",
       "    </tr>\n",
       "    <tr>\n",
       "      <th>UMAUSDT</th>\n",
       "      <td>3.5550</td>\n",
       "      <td>6.438808</td>\n",
       "      <td>22.889962</td>\n",
       "      <td>8.118245</td>\n",
       "      <td>0.00</td>\n",
       "      <td>8.118245</td>\n",
       "    </tr>\n",
       "    <tr>\n",
       "      <th>TRXUSDT</th>\n",
       "      <td>0.1268</td>\n",
       "      <td>163.246405</td>\n",
       "      <td>20.699644</td>\n",
       "      <td>7.341418</td>\n",
       "      <td>0.00</td>\n",
       "      <td>7.341418</td>\n",
       "    </tr>\n",
       "    <tr>\n",
       "      <th>SOLUSDT</th>\n",
       "      <td>145.1000</td>\n",
       "      <td>0.139820</td>\n",
       "      <td>20.287944</td>\n",
       "      <td>7.195403</td>\n",
       "      <td>16.21</td>\n",
       "      <td>-9.014597</td>\n",
       "    </tr>\n",
       "    <tr>\n",
       "      <th>MKRUSDT</th>\n",
       "      <td>2659.0000</td>\n",
       "      <td>0.006829</td>\n",
       "      <td>18.157965</td>\n",
       "      <td>6.439976</td>\n",
       "      <td>11.46</td>\n",
       "      <td>-5.020024</td>\n",
       "    </tr>\n",
       "    <tr>\n",
       "      <th>FETUSDT</th>\n",
       "      <td>2.1986</td>\n",
       "      <td>6.980022</td>\n",
       "      <td>15.346276</td>\n",
       "      <td>5.442771</td>\n",
       "      <td>7.02</td>\n",
       "      <td>-1.577229</td>\n",
       "    </tr>\n",
       "    <tr>\n",
       "      <th>TNSRUSDT</th>\n",
       "      <td>0.8232</td>\n",
       "      <td>18.365145</td>\n",
       "      <td>15.118187</td>\n",
       "      <td>5.361877</td>\n",
       "      <td>0.00</td>\n",
       "      <td>5.361877</td>\n",
       "    </tr>\n",
       "  </tbody>\n",
       "</table>\n",
       "</div>"
      ],
      "text/plain": [
       "          Price in €    Quantity   Position  Weights in %  Weights in theory  \\\n",
       "BTCUSDT   60766.0600    0.000921  55.954603     19.845083              20.00   \n",
       "RNDRUSDT     10.9670    4.245345  46.558703     16.512695              12.29   \n",
       "ETHUSDT    2900.0000    0.013745  39.859108     14.136590              20.00   \n",
       "INJUSDT      25.0300    1.082087  27.084626      9.605941              13.02   \n",
       "UMAUSDT       3.5550    6.438808  22.889962      8.118245               0.00   \n",
       "TRXUSDT       0.1268  163.246405  20.699644      7.341418               0.00   \n",
       "SOLUSDT     145.1000    0.139820  20.287944      7.195403              16.21   \n",
       "MKRUSDT    2659.0000    0.006829  18.157965      6.439976              11.46   \n",
       "FETUSDT       2.1986    6.980022  15.346276      5.442771               7.02   \n",
       "TNSRUSDT      0.8232   18.365145  15.118187      5.361877               0.00   \n",
       "\n",
       "            Spread  \n",
       "BTCUSDT  -0.154917  \n",
       "RNDRUSDT  4.222695  \n",
       "ETHUSDT  -5.863410  \n",
       "INJUSDT  -3.414059  \n",
       "UMAUSDT   8.118245  \n",
       "TRXUSDT   7.341418  \n",
       "SOLUSDT  -9.014597  \n",
       "MKRUSDT  -5.020024  \n",
       "FETUSDT  -1.577229  \n",
       "TNSRUSDT  5.361877  "
      ]
     },
     "execution_count": 69,
     "metadata": {},
     "output_type": "execute_result"
    }
   ],
   "source": [
    "df=get_inventory()\n",
    "df=df.loc[df.index!=\"Total\"]\n",
    "df['Weights in theory']=inventory['Weights'].fillna(0)*100\n",
    "df=df.fillna(0)\n",
    "df['Spread']=df['Weights in %']-df['Weights in theory']\n",
    "df"
   ]
  },
  {
   "cell_type": "code",
   "execution_count": 25,
   "id": "1dd06186-85be-459d-ba9f-c9a703a787aa",
   "metadata": {},
   "outputs": [
    {
     "data": {
      "text/plain": [
       "<AxesSubplot:>"
      ]
     },
     "execution_count": 25,
     "metadata": {},
     "output_type": "execute_result"
    },
    {
     "data": {
      "image/png": "[encoded data removed]",
      "text/plain": [
       "<Figure size 432x288 with 1 Axes>"
      ]
     },
     "metadata": {
      "needs_background": "light"
     },
     "output_type": "display_data"
    }
   ],
   "source": [
    "test.evolution(weights).plot()"
   ]
  },
  {
   "cell_type": "code",
   "execution_count": 26,
   "id": "c4a32721-4116-48d4-b23a-e779fc622357",
   "metadata": {},
   "outputs": [
    {
     "data": {
      "text/plain": [
       "Portfolio    0.524978\n",
       "dtype: float64"
      ]
     },
     "execution_count": 26,
     "metadata": {},
     "output_type": "execute_result"
    }
   ],
   "source": [
    "test.portfolio(weights).std()*np.sqrt(252)"
   ]
  },
  {
   "cell_type": "code",
   "execution_count": 27,
   "id": "d9828850-5a85-4467-9038-04b0548ea630",
   "metadata": {},
   "outputs": [
    {
     "data": {
      "text/plain": [
       "0    0.614343\n",
       "dtype: float64"
      ]
     },
     "execution_count": 27,
     "metadata": {},
     "output_type": "execute_result"
    }
   ],
   "source": [
    "tet=pd.DataFrame(ptf)\n",
    "tet.iloc[1:].pct_change().std()*np.sqrt(252)"
   ]
  },
  {
   "cell_type": "code",
   "execution_count": 28,
   "id": "6014db2f-db4a-4315-bff5-4310fb09ffc7",
   "metadata": {},
   "outputs": [
    {
     "data": {
      "text/plain": [
       "<AxesSubplot:>"
      ]
     },
     "execution_count": 28,
     "metadata": {},
     "output_type": "execute_result"
    },
    {
     "data": {
      "image/png": "[encoded data removed]",
      "text/plain": [
       "<Figure size 432x288 with 1 Axes>"
      ]
     },
     "metadata": {
      "needs_background": "light"
     },
     "output_type": "display_data"
    }
   ],
   "source": [
    "(tet*100).plot()"
   ]
  },
  {
   "cell_type": "code",
   "execution_count": 29,
   "id": "0a7456d2-5681-4679-8716-e16a3a93cf93",
   "metadata": {},
   "outputs": [
    {
     "data": {
      "text/plain": [
       "<AxesSubplot:>"
      ]
     },
     "execution_count": 29,
     "metadata": {},
     "output_type": "execute_result"
    },
    {
     "data": {
      "image/png": "[encoded data removed]",
      "text/plain": [
       "<Figure size 432x288 with 1 Axes>"
      ]
     },
     "metadata": {
      "needs_background": "light"
     },
     "output_type": "display_data"
    }
   ],
   "source": [
    "((1+returns['BTCUSDT']).cumprod()*100).plot()"
   ]
  },
  {
   "cell_type": "code",
   "execution_count": 30,
   "id": "b19b2174-4aeb-4365-843f-b709db9481d8",
   "metadata": {},
   "outputs": [
    {
     "data": {
      "text/plain": [
       "(-0.05456307163964853, -0.07020145330114058)"
      ]
     },
     "execution_count": 30,
     "metadata": {},
     "output_type": "execute_result"
    }
   ],
   "source": [
    "var,cvar=test.historical_var(weights)\n",
    "var,cvar"
   ]
  },
  {
   "cell_type": "code",
   "execution_count": 31,
   "id": "9f580858-1e07-4e3c-a84b-ad37ea881b30",
   "metadata": {},
   "outputs": [
    {
     "data": {
      "text/plain": [
       "(-0.054450283590696286, -0.06979020889363656)"
      ]
     },
     "execution_count": 31,
     "metadata": {},
     "output_type": "execute_result"
    }
   ],
   "source": [
    "var,cvar=test.parametric_var(weights)\n",
    "var,cvar"
   ]
  },
  {
   "cell_type": "code",
   "execution_count": 32,
   "id": "2c788d10-aa11-42de-9a7b-0bd312c8c0bf",
   "metadata": {},
   "outputs": [
    {
     "data": {
      "text/plain": [
       "(-0.05067473053565369, -0.06438700994182184)"
      ]
     },
     "execution_count": 32,
     "metadata": {},
     "output_type": "execute_result"
    }
   ],
   "source": [
    "perf=performance(test.multivariate_distribution(),weights)\n",
    "var=np.percentile(perf,5)\n",
    "cvar=perf[perf<var].mean()\n",
    "\n",
    "var,cvar"
   ]
  },
  {
   "cell_type": "code",
   "execution_count": 33,
   "id": "06646937-cfb9-4c07-a243-05162ad4b775",
   "metadata": {},
   "outputs": [
    {
     "data": {
      "text/plain": [
       "(-0.04951506372690491, -0.0636156726352993)"
      ]
     },
     "execution_count": 33,
     "metadata": {},
     "output_type": "execute_result"
    }
   ],
   "source": [
    "cop=test.gaussian_copula()\n",
    "perf=performance(cop,weights)\n",
    "var=np.percentile(perf,5)\n",
    "cvar=perf[perf<var].mean()\n",
    "\n",
    "var,cvar"
   ]
  },
  {
   "cell_type": "code",
   "execution_count": 34,
   "id": "7476054e-45af-42ff-8ee0-daabc45adc78",
   "metadata": {},
   "outputs": [
    {
     "data": {
      "text/plain": [
       "(-0.0504865169498106, -0.06537200024594843)"
      ]
     },
     "execution_count": 34,
     "metadata": {},
     "output_type": "execute_result"
    }
   ],
   "source": [
    "t_copula=test.t_copula()\n",
    "perf=performance(t_copula,weights)\n",
    "var=np.percentile(perf,5)\n",
    "cvar=perf[perf<var].mean()\n",
    "\n",
    "var,cvar"
   ]
  },
  {
   "cell_type": "code",
   "execution_count": 35,
   "id": "fe7fb897-16b0-49cf-9b7a-014d4cf1204b",
   "metadata": {},
   "outputs": [
    {
     "data": {
      "text/plain": [
       "(-0.05470777387629261, -0.06869504610909667)"
      ]
     },
     "execution_count": 35,
     "metadata": {},
     "output_type": "execute_result"
    }
   ],
   "source": [
    "spot=data.iloc[-1]\n",
    "monte_carlo=test.monte_carlo(spot,horizon=1/250,stress_factor=1.0)\n",
    "perf=performance(monte_carlo[1],weights)\n",
    "var=np.percentile(perf,5)\n",
    "cvar=perf[perf<var].mean()\n",
    "\n",
    "var,cvar"
   ]
  },
  {
   "cell_type": "code",
   "execution_count": 36,
   "id": "b8dc5f65-1415-4308-b63a-822a6addd568",
   "metadata": {},
   "outputs": [
    {
     "data": {
      "text/html": [
       "<div>\n",
       "<style scoped>\n",
       "    .dataframe tbody tr th:only-of-type {\n",
       "        vertical-align: middle;\n",
       "    }\n",
       "\n",
       "    .dataframe tbody tr th {\n",
       "        vertical-align: top;\n",
       "    }\n",
       "\n",
       "    .dataframe thead th {\n",
       "        text-align: right;\n",
       "    }\n",
       "</style>\n",
       "<table border=\"1\" class=\"dataframe\">\n",
       "  <thead>\n",
       "    <tr style=\"text-align: right;\">\n",
       "      <th></th>\n",
       "      <th>Historical</th>\n",
       "      <th>Parametric</th>\n",
       "      <th>Multivariate</th>\n",
       "      <th>Portfolio</th>\n",
       "    </tr>\n",
       "  </thead>\n",
       "  <tbody>\n",
       "    <tr>\n",
       "      <th>2023-01-31</th>\n",
       "      <td>-0.062141</td>\n",
       "      <td>-0.083872</td>\n",
       "      <td>-0.062088</td>\n",
       "      <td>0.044463</td>\n",
       "    </tr>\n",
       "    <tr>\n",
       "      <th>2023-02-01</th>\n",
       "      <td>-0.062141</td>\n",
       "      <td>-0.085469</td>\n",
       "      <td>-0.063930</td>\n",
       "      <td>0.060948</td>\n",
       "    </tr>\n",
       "    <tr>\n",
       "      <th>2023-02-02</th>\n",
       "      <td>-0.062141</td>\n",
       "      <td>-0.086050</td>\n",
       "      <td>-0.066239</td>\n",
       "      <td>-0.002893</td>\n",
       "    </tr>\n",
       "    <tr>\n",
       "      <th>2023-02-03</th>\n",
       "      <td>-0.062141</td>\n",
       "      <td>-0.086046</td>\n",
       "      <td>-0.065578</td>\n",
       "      <td>0.024529</td>\n",
       "    </tr>\n",
       "    <tr>\n",
       "      <th>2023-02-04</th>\n",
       "      <td>-0.062141</td>\n",
       "      <td>-0.085935</td>\n",
       "      <td>-0.064267</td>\n",
       "      <td>0.000768</td>\n",
       "    </tr>\n",
       "    <tr>\n",
       "      <th>...</th>\n",
       "      <td>...</td>\n",
       "      <td>...</td>\n",
       "      <td>...</td>\n",
       "      <td>...</td>\n",
       "    </tr>\n",
       "    <tr>\n",
       "      <th>2024-05-06</th>\n",
       "      <td>-0.099210</td>\n",
       "      <td>-0.096599</td>\n",
       "      <td>-0.101132</td>\n",
       "      <td>0.003605</td>\n",
       "    </tr>\n",
       "    <tr>\n",
       "      <th>2024-05-07</th>\n",
       "      <td>-0.099210</td>\n",
       "      <td>-0.096368</td>\n",
       "      <td>-0.097870</td>\n",
       "      <td>-0.012373</td>\n",
       "    </tr>\n",
       "    <tr>\n",
       "      <th>2024-05-08</th>\n",
       "      <td>-0.099210</td>\n",
       "      <td>-0.095491</td>\n",
       "      <td>-0.100898</td>\n",
       "      <td>-0.034852</td>\n",
       "    </tr>\n",
       "    <tr>\n",
       "      <th>2024-05-09</th>\n",
       "      <td>-0.099210</td>\n",
       "      <td>-0.094630</td>\n",
       "      <td>-0.097636</td>\n",
       "      <td>0.042266</td>\n",
       "    </tr>\n",
       "    <tr>\n",
       "      <th>2024-05-10</th>\n",
       "      <td>-0.099210</td>\n",
       "      <td>-0.094703</td>\n",
       "      <td>-0.096987</td>\n",
       "      <td>-0.018027</td>\n",
       "    </tr>\n",
       "  </tbody>\n",
       "</table>\n",
       "<p>466 rows × 4 columns</p>\n",
       "</div>"
      ],
      "text/plain": [
       "            Historical  Parametric  Multivariate  Portfolio\n",
       "2023-01-31   -0.062141   -0.083872     -0.062088   0.044463\n",
       "2023-02-01   -0.062141   -0.085469     -0.063930   0.060948\n",
       "2023-02-02   -0.062141   -0.086050     -0.066239  -0.002893\n",
       "2023-02-03   -0.062141   -0.086046     -0.065578   0.024529\n",
       "2023-02-04   -0.062141   -0.085935     -0.064267   0.000768\n",
       "...                ...         ...           ...        ...\n",
       "2024-05-06   -0.099210   -0.096599     -0.101132   0.003605\n",
       "2024-05-07   -0.099210   -0.096368     -0.097870  -0.012373\n",
       "2024-05-08   -0.099210   -0.095491     -0.100898  -0.034852\n",
       "2024-05-09   -0.099210   -0.094630     -0.097636   0.042266\n",
       "2024-05-10   -0.099210   -0.094703     -0.096987  -0.018027\n",
       "\n",
       "[466 rows x 4 columns]"
      ]
     },
     "execution_count": 36,
     "metadata": {},
     "output_type": "execute_result"
    }
   ],
   "source": [
    "var_data=rolling_var(returns,weights,window=30,Q=1).dropna()\n",
    "var_data"
   ]
  },
  {
   "cell_type": "code",
   "execution_count": 37,
   "id": "af38e7bb-5ddf-4bd7-a026-9af4d2492fad",
   "metadata": {},
   "outputs": [
    {
     "data": {
      "text/plain": [
       "<AxesSubplot:>"
      ]
     },
     "execution_count": 37,
     "metadata": {},
     "output_type": "execute_result"
    },
    {
     "data": {
      "image/png": "[encoded data removed]",
      "text/plain": [
       "<Figure size 432x288 with 1 Axes>"
      ]
     },
     "metadata": {
      "needs_background": "light"
     },
     "output_type": "display_data"
    }
   ],
   "source": [
    "var_data.plot()"
   ]
  },
  {
   "cell_type": "code",
   "execution_count": 38,
   "id": "af1d18bc-5ef9-4b8b-be6d-5f69f22105c2",
   "metadata": {},
   "outputs": [
    {
     "data": {
      "text/html": [
       "<div>\n",
       "<style scoped>\n",
       "    .dataframe tbody tr th:only-of-type {\n",
       "        vertical-align: middle;\n",
       "    }\n",
       "\n",
       "    .dataframe tbody tr th {\n",
       "        vertical-align: top;\n",
       "    }\n",
       "\n",
       "    .dataframe thead th {\n",
       "        text-align: right;\n",
       "    }\n",
       "</style>\n",
       "<table border=\"1\" class=\"dataframe\">\n",
       "  <thead>\n",
       "    <tr style=\"text-align: right;\">\n",
       "      <th></th>\n",
       "      <th>Historical</th>\n",
       "      <th>Parametric</th>\n",
       "      <th>Multivariate</th>\n",
       "    </tr>\n",
       "  </thead>\n",
       "  <tbody>\n",
       "    <tr>\n",
       "      <th>Proportion of failure</th>\n",
       "      <td>0.040773</td>\n",
       "      <td>0.01073</td>\n",
       "      <td>0.017167</td>\n",
       "    </tr>\n",
       "    <tr>\n",
       "      <th>Kupiec Stat</th>\n",
       "      <td>0.889085</td>\n",
       "      <td>21.956104</td>\n",
       "      <td>14.0186</td>\n",
       "    </tr>\n",
       "    <tr>\n",
       "      <th>P-value</th>\n",
       "      <td>0.345725</td>\n",
       "      <td>0.000003</td>\n",
       "      <td>0.000181</td>\n",
       "    </tr>\n",
       "  </tbody>\n",
       "</table>\n",
       "</div>"
      ],
      "text/plain": [
       "                      Historical Parametric Multivariate\n",
       "Proportion of failure   0.040773    0.01073     0.017167\n",
       "Kupiec Stat             0.889085  21.956104      14.0186\n",
       "P-value                 0.345725   0.000003     0.000181"
      ]
     },
     "execution_count": 38,
     "metadata": {},
     "output_type": "execute_result"
    }
   ],
   "source": [
    "kupiec_test(var_data)"
   ]
  },
  {
   "cell_type": "code",
   "execution_count": 39,
   "id": "89568840-755f-4504-b61c-1720c9e5e813",
   "metadata": {},
   "outputs": [
    {
     "data": {
      "text/plain": [
       "array([0.58783548, 0.15058187, 0.10203522, 0.08199115, 0.07755628])"
      ]
     },
     "execution_count": 39,
     "metadata": {},
     "output_type": "execute_result"
    }
   ],
   "source": [
    "eigval,eigvec,portfolio_components=test.pca(num_components=5)\n",
    "variance_explained=eigval/eigval.sum()\n",
    "variance_explained"
   ]
  },
  {
   "cell_type": "code",
   "execution_count": 40,
   "id": "24c6adac-08b9-44d7-8747-d74a3ca0283e",
   "metadata": {},
   "outputs": [],
   "source": [
    "#portfolio_components"
   ]
  },
  {
   "cell_type": "code",
   "execution_count": 41,
   "id": "96eaac4f-b5c8-4e13-b70f-4d778b1bea00",
   "metadata": {},
   "outputs": [
    {
     "data": {
      "text/plain": [
       "<AxesSubplot:>"
      ]
     },
     "execution_count": 41,
     "metadata": {},
     "output_type": "execute_result"
    },
    {
     "data": {
      "image/png": "[encoded data removed]",
      "text/plain": [
       "<Figure size 432x288 with 1 Axes>"
      ]
     },
     "metadata": {
      "needs_background": "light"
     },
     "output_type": "display_data"
    }
   ],
   "source": [
    "test.evolution(portfolio_components[\"PC1\"]).plot()"
   ]
  },
  {
   "cell_type": "code",
   "execution_count": 42,
   "id": "2cb8275f-9a10-47a7-9fde-30d1da4f62b0",
   "metadata": {},
   "outputs": [],
   "source": [
    "#((1+get_close(['^STOXX50E'],\"2022-01-01\").pct_change()).cumprod()*100).plot()"
   ]
  },
  {
   "cell_type": "code",
   "execution_count": null,
   "id": "6ace2023-48cd-4e2e-8110-425881c5b192",
   "metadata": {},
   "outputs": [],
   "source": []
  }
 ],
 "metadata": {
  "kernelspec": {
   "display_name": "Python 3 (ipykernel)",
   "language": "python",
   "name": "python3"
  },
  "language_info": {
   "codemirror_mode": {
    "name": "ipython",
    "version": 3
   },
   "file_extension": ".py",
   "mimetype": "text/x-python",
   "name": "python",
   "nbconvert_exporter": "python",
   "pygments_lexer": "ipython3",
   "version": "3.9.12"
  }
 },
 "nbformat": 4,
 "nbformat_minor": 5
}
