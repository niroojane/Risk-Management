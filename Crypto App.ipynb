{
 "cells": [
  {
   "cell_type": "code",
   "execution_count": 15,
   "id": "81bce201-30a7-421d-bb05-3e303a8e31a2",
   "metadata": {},
   "outputs": [],
   "source": [
    "import pandas as pd\n",
    "import random\n",
    "import numpy as np\n",
    "import matplotlib.pyplot as plt\n",
    "import datetime\n",
    "import seaborn as sns\n",
    "import requests\n",
    "\n",
    "import ipywidgets as widgets\n",
    "from ipydatagrid import DataGrid, TextRenderer\n",
    "from IPython.display import display,Markdown\n",
    "from IPython.display import HTML\n",
    "\n",
    "import plotly.express as px\n",
    "import plotly.graph_objects as go\n",
    "from plotly.subplots import make_subplots\n",
    "\n",
    "from io import BytesIO\n",
    "import base64\n",
    "from Binance_API import BinanceAPI\n",
    "from RiskMetrics import RiskAnalysis, rolling_var,kupiec_test, performance,variance_decomposition_ex_post,diversification_constraint,create_constraint\n",
    "from PnL_Computation import PnL\n",
    "from Stock_Data import get_close\n",
    "from Rebalancing import *\n",
    "from Git import *\n",
    "\n",
    "from scipy.stats import norm, chi2,gumbel_l"
   ]
  },
  {
   "cell_type": "code",
   "execution_count": 17,
   "id": "0af59777-5f63-4d19-bf8c-df2060b564a1",
   "metadata": {},
   "outputs": [],
   "source": [
    "def display_scrollable_df(df, max_height=\"50vh\", max_width=\"90vw\"):\n",
    "    style = f\"\"\"\n",
    "    <div style=\"\n",
    "        display: flex;\n",
    "        justify-content: center;\n",
    "        padding: 20px;\n",
    "    \">\n",
    "        <div style=\"\n",
    "            overflow: auto;\n",
    "            max-height: {max_height};\n",
    "            max-width: {max_width};\n",
    "            width: 100%;\n",
    "            border: 1px solid #444;\n",
    "            padding: 10px;\n",
    "            background-color: #000;\n",
    "            color: #eee;\n",
    "            font-family: 'Arial Narrow', Arial, sans-serif;\n",
    "            box-sizing: border-box;\n",
    "        \">\n",
    "            {df.to_html(classes='table', border=0, index=True)}\n",
    "        </div>\n",
    "    </div>\n",
    "    \"\"\"\n",
    "    return HTML(style)\n",
    "\n",
    "def build_constraint(prices, constraint_matrix):\n",
    "    constraints = []\n",
    "    dico_map = {'=': 'eq', '≥': 'ineq', '≤': 'ineq'}\n",
    "\n",
    "    drop_down_list_asset = list(prices.columns) + ['All']\n",
    "    drop_down_list = drop_down_list_asset + [None]\n",
    "\n",
    "    try:\n",
    "        for row in range(constraint_matrix.shape[0]):\n",
    "            temp = constraint_matrix[row, :]\n",
    "            ticker = temp[0]\n",
    "\n",
    "            if ticker not in drop_down_list:\n",
    "                continue\n",
    "\n",
    "            sign = temp[1]\n",
    "            limit = float(temp[2])\n",
    "\n",
    "            if ticker == 'All':\n",
    "                constraint = diversification_constraint(sign, limit)\n",
    "\n",
    "            elif ticker in drop_down_list_asset:\n",
    "                position = np.where(prices.columns == ticker)[0][0]\n",
    "                constraint = create_constraint(sign, limit, position)\n",
    "\n",
    "            constraints.extend(constraint)\n",
    "\n",
    "    except Exception as e:\n",
    "        print(f\"Error in build_constraint: {e}\")\n",
    "\n",
    "    return constraints\n",
    "\n",
    "    \n",
    "def get_expected_metrics(returns,dataframe):\n",
    "    portfolio=RiskAnalysis(returns)\n",
    "    allocation_dict={}\n",
    "\n",
    "    for idx in dataframe.index:\n",
    "        allocation_dict[idx]=dataframe.loc[idx].to_numpy()\n",
    "\n",
    "\n",
    "    \n",
    "    metrics={}\n",
    "    metrics['Expected Returns']={}\n",
    "    metrics['Expected Volatility']={}\n",
    "    metrics['Sharpe Ratio']={}\n",
    "\n",
    "    for key in allocation_dict:\n",
    "\n",
    "        metrics['Expected Returns'][key]=(np.round(portfolio.performance(allocation_dict[key]), 4))\n",
    "        metrics['Expected Volatility'][key]=(np.round(portfolio.variance(allocation_dict[key]), 4))\n",
    "        sharpe_ratio=np.round(portfolio.performance(allocation_dict[key])/portfolio.variance(allocation_dict[key]),2)\n",
    "        metrics['Sharpe Ratio'][key]=sharpe_ratio\n",
    "\n",
    "    indicators = pd.DataFrame(metrics,index=allocation_dict.keys())\n",
    "\n",
    "    return indicators.T.round(4)\n",
    "def rebalanced_time_series(prices,dataframe,frequency='Monthly'):\n",
    "\n",
    "    portfolio_returns=pd.DataFrame()\n",
    "\n",
    "    for key in dataframe.index:\n",
    "        portfolio_returns['Buy and Hold '+key]=buy_and_hold(prices, dataframe.loc[key]).sum(axis=1)\n",
    "        portfolio_returns['Rebalanced '+key]=rebalanced_portfolio(prices, dataframe.loc[key],frequency=frequency).sum(axis=1)\n",
    "\n",
    "    portfolio_returns.index.name='Date'\n",
    "    \n",
    "    return portfolio_returns\n",
    "\n",
    "def rebalanced_metrics(portfolio_returns):\n",
    "\n",
    "    ret=portfolio_returns.iloc[-1]/portfolio_returns.iloc[0]-1\n",
    "    ytd=(1+ret)**(365/(portfolio_returns.index[-1]-portfolio_returns.index[0]).days)-1\n",
    "    ret_ytd=portfolio_returns.loc[datetime.datetime(max(portfolio_returns.index.year),1,1):].iloc[-1]/portfolio_returns.loc[datetime.datetime(max(portfolio_returns.index.year),1,1):].iloc[0]-1\n",
    "\n",
    "    perfs=pd.concat([ret,ret_ytd,ytd],axis=1)\n",
    "    perfs.columns=['Returns since '+ pd.to_datetime(portfolio_returns.index[0], format='%Y-%d-%m').strftime(\"%Y-%m-%d\"),\n",
    "              'Returns since '+datetime.datetime(max(portfolio_returns.index.year), 1, 1).strftime(\"%Y-%m-%d\"),\n",
    "              'Annualized Returns']\n",
    "    \n",
    "    return perfs.T.round(4)\n",
    "\n",
    "    \n",
    "def get_portfolio_risk(dataframe,prices,portfolio_returns,benchmark):\n",
    "\n",
    "    allocation_dict={}\n",
    "    \n",
    "    returns=prices.pct_change()\n",
    "    \n",
    "    for idx in dataframe.index:\n",
    "        allocation_dict[idx]=dataframe.loc[idx].to_numpy()\n",
    "\n",
    "\n",
    "    tracking_error_daily={}\n",
    "    tracking_error_monthly={}\n",
    "    monthly_returns=prices.resample('ME').last().iloc[-180:].pct_change()\n",
    "\n",
    "\n",
    "    for key in allocation_dict:\n",
    "        if key not in allocation_dict or benchmark not in allocation_dict:\n",
    "            continue\n",
    "\n",
    "        tracking_error_daily['Buy and Hold '+key]=RiskAnalysis(returns).variance(allocation_dict[key]-allocation_dict[benchmark])/np.sqrt(252)*np.sqrt(260)\n",
    "        tracking_error_daily['Rebalanced '+key]=RiskAnalysis(returns).variance(allocation_dict[key]-allocation_dict[benchmark])/np.sqrt(252)*np.sqrt(260)\n",
    "        tracking_error_monthly['Buy and Hold '+key]=RiskAnalysis(monthly_returns).variance(allocation_dict[key]-allocation_dict[benchmark])/np.sqrt(252)*np.sqrt(12)\n",
    "        tracking_error_monthly['Rebalanced '+key]=RiskAnalysis(monthly_returns).variance(allocation_dict[key]-allocation_dict[benchmark])/np.sqrt(252)*np.sqrt(12)\n",
    "\n",
    " \n",
    "            \n",
    "    tracking_error_daily=pd.DataFrame(tracking_error_daily.values(),index=tracking_error_daily.keys(),columns=['Tracking Error (daily)'])\n",
    "    tracking_error_monthly=pd.DataFrame(tracking_error_monthly.values(),index=tracking_error_monthly.keys(),columns=['Tracking Error (Monthly)'])\n",
    "\n",
    "    dates_drawdown=((portfolio_returns-portfolio_returns.cummax())/portfolio_returns.cummax()).idxmin().dt.date\n",
    "    \n",
    "    vol=portfolio_returns.pct_change().iloc[:].std()*np.sqrt(260)\n",
    "    monthly_vol=portfolio_returns.resample('ME').last().iloc[:].pct_change().std()*np.sqrt(12)\n",
    "\n",
    "    drawdown=pd.DataFrame((((portfolio_returns-portfolio_returns.cummax()))/portfolio_returns.cummax()).min())\n",
    "    Q=0.05\n",
    "    intervals=np.arange(Q, 1, 0.0005, dtype=float)\n",
    "    cvar=monthly_vol*norm(loc =0 , scale = 1).ppf(1-intervals).mean()/0.05\n",
    "\n",
    "    risk=pd.concat([vol,tracking_error_daily,monthly_vol,tracking_error_monthly,cvar,drawdown,dates_drawdown],axis=1).round(4)\n",
    "    risk.columns=['Annualized Volatility (daily)','TEV (daily)',\n",
    "                  'Annualized Volatility (Monthly)','TEV (Monthly)',\n",
    "                  'CVar Parametric '+str(int((1-Q)*100))+'%',\n",
    "                  'Max Drawdown','Date of Max Drawdown']\n",
    "    \n",
    "    return risk.T.round(4)\n",
    "    \n",
    "def get_asset_returns(prices):\n",
    "    \n",
    "    ret=prices.iloc[-1]/prices.iloc[0]-1\n",
    "    ytd=(1+ret)**(365/(prices.index[-1]-prices.index[0]).days)-1\n",
    "    ret_ytd=prices.loc[datetime.datetime(max(prices.index.year), 1, 1):].iloc[-1]/prices.loc[datetime.datetime(max(prices.index.year),1,1):].iloc[0]-1\n",
    "\n",
    "    perfs=pd.concat([ret,ret_ytd,ytd],axis=1)\n",
    "    perfs.columns=['Returns since '+ pd.to_datetime(prices.index[0], format='%Y-%d-%m').strftime(\"%Y-%m-%d\"),\n",
    "              'Returns since '+datetime.datetime(max(prices.index.year), 1, 1).strftime(\"%Y-%m-%d\"),\n",
    "              'Annualized Returns']\n",
    "    \n",
    "    return perfs.T.round(4)\n",
    "\n",
    "def get_asset_risk(prices):\n",
    "\n",
    "    dates_drawdown=((prices-prices.cummax())/prices.cummax()).idxmin().dt.date\n",
    "    \n",
    "    vol=prices.pct_change().iloc[-260:].std()*np.sqrt(260)\n",
    "    weekly_vol=prices.resample('W').last().iloc[-153:].pct_change().std()*np.sqrt(52)\n",
    "    monthly_vol_1Y=prices.resample('ME').last().iloc[-50:].pct_change().std()*np.sqrt(12)\n",
    "    monthly_vol_5Y=prices.resample('ME').last().iloc[-181:].pct_change().std()*np.sqrt(12)\n",
    "\n",
    "    drawdown=pd.DataFrame((((prices-prices.cummax()))/prices.cummax()).min())\n",
    "    Q=0.05\n",
    "    intervals=np.arange(Q, 1, 0.0005, dtype=float)\n",
    "    cvar=monthly_vol_5Y*norm(loc =0 , scale = 1).ppf(1-intervals).mean()/0.05\n",
    "\n",
    "    risk=pd.concat([vol,weekly_vol,monthly_vol_1Y,monthly_vol_5Y,cvar,drawdown,dates_drawdown],axis=1).round(4)\n",
    "    risk.columns=['Annualized Volatility (daily)',\n",
    "    'Annualized Volatility 3Y (Weekly)',\n",
    "    'Annualized Volatility 5Y (Monthly)','Annualized Volatility since '+str(prices.index[0].year) +' (Monthly)',\n",
    "    'CVar Parametric '+str(int((1-Q)*100))+'%','Max Drawdown','Date of Max Drawdown']\n",
    "    \n",
    "    \n",
    "    return risk.T.round(4)\n",
    "\n",
    "def get_yearly_metrics(portfolio_returns,fund='Fund',bench='Bitcoin'):\n",
    "    \n",
    "    portfolio_returns=portfolio_returns[[fund,bench]]\n",
    "    years=sorted(list(set(portfolio_returns.index.year)))\n",
    "    portfolio_returns_pct=portfolio_returns.pct_change()\n",
    "    \n",
    "    year_returns={}\n",
    "    year_vol={}\n",
    "    year_tracking_error={}\n",
    "    year_sharpe_ratio={}\n",
    "    \n",
    "    for year in years:\n",
    "        temp=portfolio_returns_pct.loc[str(year)]\n",
    "        year_vol[year]=temp.std()*np.sqrt(252)\n",
    "    \n",
    "        temp_2=temp.copy()\n",
    "    \n",
    "        for col in temp_2.columns:\n",
    "            temp_2[col]=temp_2[col]-temp[bench]\n",
    "            \n",
    "        year_tracking_error[year]=temp_2.std()*np.sqrt(252)\n",
    "        perf_year=portfolio_returns.loc[str(year)].iloc[-1]/portfolio_returns.loc[str(year)].iloc[0]-1\n",
    "        year_sharpe_ratio[year]=perf_year/(temp.std()*np.sqrt(252))\n",
    "        year_returns[year]=perf_year\n",
    "        \n",
    "    \n",
    "    year_returns_dataframe=pd.DataFrame(year_returns).round(4)\n",
    "    year_vol_dataframe=pd.DataFrame(year_vol).round(4)\n",
    "    year_tracking_error_dataframe=pd.DataFrame(year_tracking_error.values(),index=year_tracking_error.keys()).round(4)\n",
    "    year_sharpe_ratio_dataframe=pd.DataFrame(year_sharpe_ratio).round(4)\n",
    "\n",
    "    return year_returns_dataframe,year_vol_dataframe,year_tracking_error_dataframe,year_sharpe_ratio_dataframe\n",
    "\n",
    "def get_monthly_metrics(portfolio_returns,fund='Fund',bench='Bitcoin'):\n",
    "    \n",
    "    portfolio_returns=portfolio_returns[[fund,bench]]\n",
    "    portfolio_returns_pct=portfolio_returns.pct_change()\n",
    "    \n",
    "    month_returns={}\n",
    "    month_vol={}\n",
    "    month_tracking_error={}\n",
    "    month_sharpe_ratio={}\n",
    "    \n",
    "    month_year=portfolio_returns.index.strftime('%Y-%m')\n",
    "    month_year=sorted(list(set(month_year)))\n",
    "    \n",
    "    for month in month_year:\n",
    "        temp=portfolio_returns_pct.loc[str(month)]\n",
    "        month_vol[month]=temp.std()*np.sqrt(252)\n",
    "    \n",
    "        temp_2=temp.copy()\n",
    "    \n",
    "        for col in temp_2.columns:\n",
    "            temp_2[col]=temp_2[col]-temp[bench]\n",
    "            \n",
    "        month_tracking_error[month]=temp_2.std()*np.sqrt(252)\n",
    "        perf_month=portfolio_returns.loc[str(month)].iloc[-1]/portfolio_returns.loc[str(month)].iloc[0]-1\n",
    "        month_sharpe_ratio[month]=perf_month/(temp.std()*np.sqrt(252))\n",
    "        month_returns[month]=perf_month\n",
    "        \n",
    "    \n",
    "    month_returns_dataframe=pd.DataFrame(month_returns).round(4)\n",
    "    month_vol_dataframe=pd.DataFrame(month_vol).round(4)\n",
    "    month_tracking_error_dataframe=pd.DataFrame(month_tracking_error.values(),index=month_tracking_error.keys()).round(4)\n",
    "    month_sharpe_ratio_dataframe=pd.DataFrame(month_sharpe_ratio).round(4)\n",
    "\n",
    "    return month_returns_dataframe,month_vol_dataframe,month_tracking_error_dataframe,month_sharpe_ratio_dataframe\n",
    "\n",
    "def get_calendar_graph(performance_fund,fund='Fund',benchmark='Bitcoin',freq='Year'):\n",
    "\n",
    "    if freq=='Year':\n",
    "        metrics = get_yearly_metrics(performance_fund,fund=fund,bench=benchmark)\n",
    "    else:\n",
    "        metrics = get_monthly_metrics(performance_fund,fund=fund,bench=benchmark)\n",
    "        \n",
    "    titles = [\n",
    "        f\"Returns by {freq}\",\n",
    "        f\"Volatility by {freq}\",\n",
    "        f\"Tracking Error by {freq}\",\n",
    "        f\"Sharpe Ratio by {freq}\"\n",
    "    ]\n",
    "    \n",
    "    for i, title in enumerate(titles):\n",
    "        if title!=f\"Tracking Error by {freq}\":\n",
    "            df = metrics[i].T  # <-- no transpose\n",
    "            fig = px.bar(\n",
    "                df,\n",
    "                x=df.index,  # years on x-axis\n",
    "                y=df.columns,\n",
    "                barmode=\"group\",\n",
    "                title=title,\n",
    "                labels={\"value\": \"Value\", \"variable\": \"Asset\", \"x\": \"Year\"}\n",
    "            )\n",
    "    \n",
    "            fig.update_layout(\n",
    "                plot_bgcolor=\"black\",\n",
    "                paper_bgcolor=\"black\",\n",
    "                font_color=\"white\",\n",
    "                title_font=dict(size=20),\n",
    "                legend=dict(title=\"Legend\")\n",
    "            )\n",
    "    \n",
    "            fig.update_traces(\n",
    "                textfont=dict(family=\"Arial Narrow\", size=15),\n",
    "                hovertemplate=\"Year: %{x}<br>%{y:.3f}<extra></extra>\")\n",
    "\n",
    "            \n",
    "            fig.show()\n",
    "\n",
    "        else:\n",
    "            \n",
    "            df = metrics[i]\n",
    "            fig = px.bar(df, x=df.index, y=df.columns,\n",
    "                         barmode=\"group\",  # use \"overlay\" to overlap instead\n",
    "                         title=f\"Tracking Error by {freq}\",\n",
    "                         labels={\"value\": \"Value\", \"Year\": \"Year\", \"variable\": \"Asset\"})\n",
    "            \n",
    "            # fig.update_layout(xaxis=dict(dtick=1))\n",
    "            fig.update_layout(\n",
    "                plot_bgcolor=\"black\",\n",
    "                paper_bgcolor=\"black\",\n",
    "                font_color=\"white\",\n",
    "                title_font=dict(size=20),\n",
    "                legend=dict(title=\"Legend\")\n",
    "            )            \n",
    "            \n",
    "            fig.update_traces(\n",
    "                textfont=dict(family=\"Arial Narrow\", size=15),\n",
    "                hovertemplate=\"Year: %{x}<br>%{y:.3f}<extra></extra>\")\n",
    "            fig.show()\n",
    "def get_frontier(returns,dataframe):\n",
    "    portfolio=RiskAnalysis(returns)\n",
    "    frontier_weights, frontier_returns, frontier_risks, frontier_sharpe_ratio = portfolio.efficient_frontier()\n",
    "    \n",
    "    weight_matrix={}\n",
    "\n",
    "    for idx in dataframe.index:\n",
    "        \n",
    "        weight_matrix[idx]=dataframe.loc[idx].to_numpy()\n",
    "    \n",
    "    metrics = {\n",
    "        'Returns': {},\n",
    "        'Volatility': {},\n",
    "        'Sharpe Ratio': {}\n",
    "    }\n",
    "    for key in weight_matrix:\n",
    "        \n",
    "        metrics['Returns'][key]=(np.round(portfolio.performance(weight_matrix[key]), 4))\n",
    "        metrics['Volatility'][key]=(np.round(portfolio.variance(weight_matrix[key]), 4))\n",
    "        metrics['Sharpe Ratio'][key]=np.round(metrics['Returns'][key]/metrics['Volatility'][key],4)\n",
    "    \n",
    "    \n",
    "    frontier = pd.DataFrame(\n",
    "        {\n",
    "            \"Returns\": frontier_returns,\n",
    "            \"Volatility\": frontier_risks,\n",
    "            \"Sharpe Ratio\": frontier_sharpe_ratio,\n",
    "        }\n",
    "    )\n",
    "    \n",
    "    fig = px.scatter(\n",
    "        frontier,\n",
    "        y=\"Returns\",\n",
    "        x=\"Volatility\",\n",
    "        color=\"Sharpe Ratio\",\n",
    "        color_continuous_scale='blues',\n",
    "    )\n",
    "    \n",
    "    for key in weight_matrix:\n",
    "    \n",
    "        fig.add_scatter(\n",
    "            x=[metrics[\"Volatility\"][key]],\n",
    "            y=[metrics[\"Returns\"][key]],\n",
    "            mode=\"markers\",\n",
    "            marker=dict(color=\"orange\", size=8, symbol=\"x\"),\n",
    "            name=key,\n",
    "        )\n",
    "        \n",
    "        \n",
    "    fig.add_scatter(\n",
    "        x=[metrics[\"Volatility\"]['Optimal Portfolio']],\n",
    "        y=[metrics[\"Returns\"]['Optimal Portfolio']],\n",
    "        mode=\"markers\",\n",
    "        marker=dict(color=\"red\", size=8, symbol=\"x\"),\n",
    "        name='Optimal Portfolio',\n",
    "    )\n",
    "    \n",
    "    fig.update_layout(\n",
    "        showlegend=False, \n",
    "        hoverlabel_namelength=-1,\n",
    "        font=dict(\n",
    "            family=\"Arial Narrow\",\n",
    "            size=14,\n",
    "            color=\"white\" \n",
    "        ),\n",
    "        plot_bgcolor=\"black\", \n",
    "        paper_bgcolor=\"black\"  \n",
    "    )\n",
    "    \n",
    "    fig.update_layout(showlegend=False)\n",
    "    fig.update_layout(hoverlabel_namelength=-1)\n",
    "    indicators = pd.DataFrame(metrics,index=weight_matrix.keys()).T\n",
    "\n",
    "    return indicators,fig"
   ]
  },
  {
   "cell_type": "code",
   "execution_count": 19,
   "id": "6c216f50-87ad-4ce1-96d5-901956d04016",
   "metadata": {},
   "outputs": [],
   "source": [
    "def display_crypto_app():\n",
    "\n",
    "    # --- strategy dictionary ---\n",
    "    dico_strategies = {\n",
    "        'Minimum Variance': 'minimum_variance',\n",
    "        'Risk Parity': 'risk_parity',\n",
    "        'Sharpe Ratio': 'sharpe_ratio'\n",
    "    }\n",
    "    \n",
    "    options_strat = list(dico_strategies.keys())\n",
    "\n",
    "    # --- globals ---\n",
    "    global tickers_dataframe, tickers, dataframe, returns_to_use, prices\n",
    "    global rolling_optimization, performance_pct, performance_fund, dates_end,quantities,cumulative_results\n",
    "    global book_cost,realized_pnl,profit_and_loss,holding_tickers,current_weights,fund_names,grid\n",
    "\n",
    "    tickers_dataframe = pd.DataFrame()\n",
    "    tickers = []\n",
    "    holding_tickers=[]\n",
    "    dataframe = pd.DataFrame()\n",
    "    cumulative_results=pd.DataFrame()\n",
    "    fund_names=[]\n",
    "    \n",
    "    current_weights=pd.DataFrame()\n",
    "    book_cost=pd.DataFrame()\n",
    "    realized_pnl=pd.DataFrame()\n",
    "    profit_and_loss=pd.DataFrame()\n",
    "    returns_to_use = pd.DataFrame()\n",
    "    prices = pd.DataFrame()\n",
    "    \n",
    "    rolling_optimization = pd.DataFrame()\n",
    "    quantities=pd.DataFrame()\n",
    "    \n",
    "    performance_pct = pd.DataFrame()\n",
    "    performance_fund = pd.DataFrame()\n",
    "    \n",
    "    dates_end = []\n",
    "    constraint_container = {'constraints': [], 'allocation_df': pd.DataFrame()}\n",
    "\n",
    "    # --- UI setup ---\n",
    "    start_date = widgets.DatePicker(\n",
    "        value=datetime.date(2020, 1, 1),\n",
    "        description='Starting Date of Backtest',\n",
    "        style={'description_width': '200px'},\n",
    "        layout=widgets.Layout(width='350px')\n",
    "    )\n",
    "\n",
    "    n_crypto = widgets.IntSlider(\n",
    "        min=1, max=100, value=20,\n",
    "        description='Number of Crypto',\n",
    "        style={'description_width': '200px'},\n",
    "        layout=widgets.Layout(width='500px')\n",
    "    )\n",
    "\n",
    "    data_button = widgets.Button(description='Get Prices', button_style='info')\n",
    "    scope_output = widgets.Output()\n",
    "    strategy_output = widgets.Output()\n",
    "    main_output = widgets.Output()\n",
    "    output_returns = widgets.Output()\n",
    "    constraint_output = widgets.Output()\n",
    "    \n",
    "    dropdown_asset1 = widgets.Dropdown(description='Asset 1',style={'description_width': '150px'})\n",
    "    dropdown_asset2 = widgets.Dropdown(description='Asset 2',style={'description_width': '150px'} ) \n",
    "    # --- helper: update crypto scope ---\n",
    "    def scope_update(n):\n",
    "        nonlocal scope_output\n",
    "        global tickers_dataframe, tickers\n",
    "        try:\n",
    "            tickers_dataframe = Binance.get_market_cap().iloc[:n].set_index('Ticker')\n",
    "            tickers = list(tickers_dataframe.index)\n",
    "        except Exception as e:\n",
    "            with scope_output:\n",
    "                scope_output.clear_output(wait=True)\n",
    "                print(\"Error fetching market caps:\", e)\n",
    "            return\n",
    "        with scope_output:\n",
    "            scope_output.clear_output(wait=True)\n",
    "            display(display_scrollable_df(tickers_dataframe))\n",
    "\n",
    "    scope_update(n_crypto.value)\n",
    "    n_crypto.observe(lambda ch: scope_update(ch['new']) if ch['name'] == 'value' else None, names='value')\n",
    "    \n",
    "    price_output=widgets.Output()\n",
    "    # --- price fetching ---\n",
    "    def get_prices(_=None):\n",
    "        global prices, dataframe, returns_to_use, dates_end,valid_cols_model\n",
    "        \n",
    "        get_holdings(None)\n",
    "        combined_tickers=sorted(list(set(tickers+holding_tickers)))\n",
    "        \n",
    "        with main_output:\n",
    "            main_output.clear_output(wait=True)\n",
    "            if not tickers:\n",
    "                print(\"No tickers available. Please fetch tickers first.\")\n",
    "                return\n",
    "\n",
    "            start = start_date.value\n",
    "            if not isinstance(start, datetime.date):\n",
    "                print(\"Please select a valid start date.\")\n",
    "                return\n",
    "\n",
    "            today = datetime.date.today()\n",
    "            days_total = (today - start).days\n",
    "            if days_total <= 0:\n",
    "                print(\"Start date must be in the past.\")\n",
    "                return\n",
    "\n",
    "            remaining = days_total % 500\n",
    "            numbers_of_table = days_total // 500\n",
    "            temp_end = datetime.datetime.combine(start, datetime.time())\n",
    "            scope_prices = pd.DataFrame()\n",
    "\n",
    "            try:\n",
    "                for _ in range(numbers_of_table + 1):\n",
    "                    data = Binance.get_price(combined_tickers, temp_end)\n",
    "                    temp_end += datetime.timedelta(days=500)\n",
    "                    scope_prices = scope_prices.combine_first(data)\n",
    "\n",
    "                temp_end = datetime.datetime.combine(today - datetime.timedelta(days=remaining), datetime.time())\n",
    "                data = Binance.get_price(combined_tickers, temp_end)\n",
    "                scope_prices = scope_prices.combine_first(data)\n",
    "\n",
    "                scope_prices = scope_prices.sort_index()\n",
    "                scope_prices = scope_prices[~scope_prices.index.duplicated(keep='first')]\n",
    "                scope_prices.index = pd.to_datetime(scope_prices.index)\n",
    "                prices = scope_prices.loc[:, scope_prices.columns != 'USDCUSDT']\n",
    "\n",
    "                returns = np.log(1 + prices.pct_change(fill_method=None))\n",
    "                returns.index = pd.to_datetime(returns.index)\n",
    "                valid_cols = returns.columns[returns.isna().sum() < 30]\n",
    "\n",
    "                returns_to_use = returns[valid_cols].sort_index()\n",
    "                dataframe = prices[valid_cols].sort_index().dropna()\n",
    "                dataframe.index = pd.to_datetime(dataframe.index)\n",
    "                returns_to_use = returns_to_use[~returns_to_use.index.duplicated(keep='first')]\n",
    "\n",
    "                dropdown_asset.options = list(dataframe.columns) + ['All']\n",
    "                \n",
    "                dropdown_asset1.options=dataframe.columns\n",
    "                dropdown_asset1.value=dataframe.columns[0]\n",
    "        \n",
    "                dropdown_asset2.options=dataframe.columns\n",
    "                dropdown_asset2.value=dataframe.columns[1]\n",
    "                \n",
    "                print(f\"✅ Loaded prices for {len(dataframe.columns)} assets from {dataframe.index[0].date()} to {dataframe.index[-1].date()}\")\n",
    "                \n",
    "                asset_risk=get_asset_risk(dataframe)\n",
    "                asset_returns=get_asset_returns(dataframe)\n",
    "                display(display_scrollable_df(asset_returns))\n",
    "                display(display_scrollable_df(asset_risk))\n",
    "\n",
    "            except Exception as e:\n",
    "                print(\"Error fetching prices:\", e)\n",
    "                \n",
    "            with price_output:\n",
    "                price_output.clear_output(wait=True)\n",
    "                display(display_scrollable_df(dataframe))\n",
    "\n",
    "\n",
    "                \n",
    "    data_button.on_click(get_prices)\n",
    "    start_date.observe(lambda ch: get_prices() if ch['name'] == 'value' and ch['new'] else None, names='value')\n",
    "    \n",
    "\n",
    "    # --- constraint UI ---\n",
    "    dropdown_asset = widgets.Dropdown(description='Asset:', options=['All'], value=None)\n",
    "    dropdown_sign = widgets.Dropdown(description='Sign:', options=[\"=\", \"≥\", \"≤\"])\n",
    "    dropdown_limit = widgets.FloatText(description='Limit')\n",
    "    add_constraint_btn = widgets.Button(description='Add Constraint', button_style='success')\n",
    "    clear_constraints_btn = widgets.Button(description='Clear All', button_style='danger')\n",
    "    constraints = []\n",
    "    \n",
    "    \n",
    "    selected_fund = widgets.Dropdown(description=\"Fund:\")\n",
    "    selected_bench = widgets.Dropdown(description=\"Bench:\")\n",
    "    selected_fund_var = widgets.Dropdown(description=\"Fund:\")\n",
    "    \n",
    "    def on_add_constraint_clicked(_):\n",
    "        constraints.append({\n",
    "            'Asset': dropdown_asset.value,\n",
    "            'Sign': dropdown_sign.value,\n",
    "            'Limit': dropdown_limit.value\n",
    "        })\n",
    "        with constraint_output:\n",
    "            constraint_output.clear_output(wait=True)\n",
    "            display(display_scrollable_df(pd.DataFrame(constraints)))\n",
    "\n",
    "    def on_clear_constraints(_):\n",
    "        constraints.clear()\n",
    "        with constraint_output:\n",
    "            constraint_output.clear_output(wait=True)\n",
    "            display(display_scrollable_df(pd.DataFrame(columns=['Asset', 'Sign', 'Limit'])))\n",
    "\n",
    "    add_constraint_btn.on_click(on_add_constraint_clicked)\n",
    "    clear_constraints_btn.on_click(on_clear_constraints)\n",
    "    \n",
    "    def on_add_click(b):\n",
    "        \n",
    "        global fund_names,grid\n",
    "\n",
    "        if grid.data is None or grid.data.empty:\n",
    "            return\n",
    "        new_row = np.zeros(dataframe.shape[1])\n",
    "        label = f\"Allocation {grid.data.shape[0]}\"\n",
    "        new_df = pd.DataFrame([new_row], columns=grid.data.columns, index=[label])\n",
    "        updated_df = pd.concat([pd.DataFrame(grid.data), new_df])\n",
    "        grid.data = updated_df\n",
    "        \n",
    "        benchmark_tracking_error.options=grid.data.index\n",
    "        \n",
    "        selected_fund.options=grid.data.index\n",
    "\n",
    "        selected_bench.options=grid.data.index\n",
    "\n",
    "        \n",
    "        selected_fund_var.options=grid.data.index\n",
    "\n",
    "    def clear_allocation(b):\n",
    "        \n",
    "        nonlocal constraint_container\n",
    "        if constraint_container.get('allocation_df') is not None:\n",
    "            grid.data = constraint_container['allocation_df']\n",
    "            \n",
    "    button_add = widgets.Button(description=\"Add Allocation\")    \n",
    "    button_clear = widgets.Button(description=\"Clear Allocation\")            \n",
    "    button_add.on_click(on_add_click)\n",
    "    button_clear.on_click(clear_allocation)\n",
    "    \n",
    "    # --- date pickers for performance ---\n",
    "    if isinstance(start_date.value, datetime.date):\n",
    "        sd = start_date.value\n",
    "        start_perf_date = datetime.date(sd.year, sd.month + 2, 1)\n",
    "    else:\n",
    "        start_perf_date = datetime.date.today() - datetime.timedelta(days=365)\n",
    "\n",
    "    start_date_perf = widgets.DatePicker(value=start_perf_date, layout=widgets.Layout(width='350px'))\n",
    "    end_date_perf = widgets.DatePicker(value=datetime.date.today(), layout=widgets.Layout(width='350px'))\n",
    "    \n",
    "    frequency_graph=widgets.Dropdown(description='Frequency:', options=['Year','Month'], value='Year')\n",
    "    benchmark=widgets.Dropdown(description='Benchmark:', options=['Fund','Bitcoin'], value='Bitcoin')\n",
    "    fund=widgets.Dropdown(description='Fund:', options=['Fund','Bitcoin'], value='Fund')\n",
    "    benchmark_tracking_error=widgets.Dropdown(description='Benchmark:')\n",
    "\n",
    "    perf_output=widgets.Output()\n",
    "    vol_output=widgets.Output()\n",
    "    drawdown_output=widgets.Output()\n",
    "    frontier_output=widgets.Output()\n",
    "    \n",
    "    # --- performance update ---\n",
    "    def updated_cumulative_perf(_):\n",
    "        global performance_pct, performance_fund,cumulative_results\n",
    "\n",
    "        try:\n",
    "            start_ts = pd.to_datetime(start_date_perf.value)\n",
    "            end_ts = pd.to_datetime(end_date_perf.value)\n",
    "        except Exception:\n",
    "            with output_returns:\n",
    "                output_returns.clear_output(wait=True)\n",
    "                print(\"⚠️ Invalid start/end dates.\")\n",
    "            return\n",
    "            \n",
    "        with main_output:\n",
    "            \n",
    "            main_output.clear_output(wait=True)\n",
    "            range_prices=dataframe.loc[start_ts:end_ts]\n",
    "            range_returns=range_prices.pct_change()\n",
    "            \n",
    "            asset_risk=get_asset_risk(range_prices)\n",
    "            asset_returns=get_asset_returns(range_prices)\n",
    "            display(display_scrollable_df(asset_returns))\n",
    "            display(display_scrollable_df(asset_risk))\n",
    "\n",
    "        if performance_pct is None or performance_pct.empty:\n",
    "            with output_returns:\n",
    "                output_returns.clear_output(wait=True)\n",
    "                print(\"⚠️ No performance data available yet. Please run an optimization first.\")\n",
    "            return\n",
    "\n",
    "        performance_pct.index = pd.to_datetime(performance_pct.index)\n",
    "\n",
    "\n",
    "        if pd.isna(start_ts) or pd.isna(end_ts) or start_ts > end_ts:\n",
    "            with output_returns:\n",
    "                output_returns.clear_output(wait=True)\n",
    "                print(\"⚠️ Invalid date range.\")\n",
    "            return\n",
    "\n",
    "        cumulative_performance = performance_pct.loc[start_ts:end_ts]\n",
    "\n",
    "        if cumulative_performance.empty:\n",
    "            available_start = performance_pct.index.min().date()\n",
    "            available_end = performance_pct.index.max().date()\n",
    "            with output_returns:\n",
    "                output_returns.clear_output(wait=True)\n",
    "                print(f\"⚠️ No data found for this date range. Available range: {available_start} → {available_end}\")\n",
    "            return\n",
    "\n",
    "        cumulative_performance = cumulative_performance.copy()\n",
    "        cumulative_performance.iloc[0] = 0\n",
    "        cumulative_results = (1 + cumulative_performance).cumprod() * 100\n",
    "        portfolio_returns = rebalanced_time_series(range_prices, grid.data, frequency=rebalancing_frequency.value)\n",
    "        cumulative_results=pd.concat([cumulative_results,portfolio_returns],axis=1)\n",
    "\n",
    "                \n",
    "        drawdown = (cumulative_results - cumulative_results.cummax()) / cumulative_results.cummax()\n",
    "        rolling_vol_ptf=cumulative_results.pct_change().rolling(window_vol.value).std()*np.sqrt(260)\n",
    "        frontier_indicators, fig4 = get_frontier(range_returns, grid.data)\n",
    "        update_dropdown_options()\n",
    "        \n",
    "\n",
    "        with output_returns:\n",
    "            output_returns.clear_output(wait=True)\n",
    "            display(display_scrollable_df(rebalanced_metrics(cumulative_results)))\n",
    "            display(display_scrollable_df(get_portfolio_risk(grid.data, range_prices, cumulative_results, benchmark_tracking_error.value)))\n",
    "            display(display_scrollable_df(frontier_indicators))\n",
    "\n",
    "        with perf_output:\n",
    "            \n",
    "            perf_output.clear_output(wait=True)\n",
    "            fig = px.line(cumulative_results, title='Performance', width=800, height=400)\n",
    "            fig.update_layout(plot_bgcolor=\"black\", paper_bgcolor=\"black\", font_color=\"white\")\n",
    "            fig.update_traces(visible=\"legendonly\", selector=lambda t: not t.name in [\"Fund\",\"Bitcoin\"])\n",
    "            fig.update_traces(textfont=dict(family=\"Arial Narrow\", size=15))\n",
    "\n",
    "            fig.show()\n",
    "        with drawdown_output:\n",
    "            \n",
    "            drawdown_output.clear_output(wait=True)\n",
    "\n",
    "            fig2 = px.line(drawdown, title='Drawdown', width=800, height=400)\n",
    "            fig2.update_layout(plot_bgcolor=\"black\", paper_bgcolor=\"black\", font_color=\"white\")\n",
    "            fig2.update_traces(visible=\"legendonly\", selector=lambda t: not t.name in [\"Fund\",\"Bitcoin\"])\n",
    "            fig2.update_traces(textfont=dict(family=\"Arial Narrow\", size=15))\n",
    "\n",
    "            fig2.show()\n",
    "\n",
    "        with vol_output:\n",
    "            vol_output.clear_output(wait=True)\n",
    "\n",
    "            fig3 = px.line(rolling_vol_ptf, title=\"Portfolio Rolling Volatility\").update_traces(visible=\"legendonly\", selector=lambda t: not t.name in [\"Fund\",\"Bitcoin\"])\n",
    "            fig3.update_layout(plot_bgcolor=\"black\", paper_bgcolor=\"black\", font_color=\"white\", width=800, height=400) \n",
    "            fig3.update_traces(visible=\"legendonly\", selector=lambda t: not t.name in [\"Fund\",\"Bitcoin\"])\n",
    "            fig3.update_traces(textfont=dict(family=\"Arial Narrow\", size=15))\n",
    "\n",
    "            fig3.show()\n",
    "        with frontier_output:\n",
    "            frontier_output.clear_output(wait=True)\n",
    "\n",
    "            fig4.update_layout(width=800, height=400,title={'text': \"Efficient Frontier\"})\n",
    "            fig4.update_traces(textfont=dict(family=\"Arial Narrow\", size=15))\n",
    "\n",
    "            fig4.show()\n",
    "            # display(display_scrollable_df(cumulative_results))\n",
    "            # display(display_scrollable_df(drawdown))\n",
    "\n",
    "        \n",
    "    start_date_perf.observe(updated_cumulative_perf)\n",
    "    end_date_perf.observe(updated_cumulative_perf)\n",
    "    # --- optimization ---\n",
    "    rebalancing_frequency = widgets.Dropdown(description='Frequency', options=['Monthly', 'Quarterly', 'Yearly'], value='Monthly')\n",
    "    strat = widgets.Dropdown(description='Strategy', options=options_strat, value='Minimum Variance')\n",
    "    window_vol=widgets.IntText(\n",
    "    value=30,\n",
    "    description='Vol Window:',\n",
    "    disabled=False\n",
    "    )    \n",
    "    calendar_output=widgets.Output()\n",
    "    def show_graph(_):\n",
    "        with calendar_output:\n",
    "\n",
    "            calendar_output.clear_output(wait=True)\n",
    "\n",
    "            if fund.value==benchmark.value:\n",
    "                print(\"⚠️ Benchmark and Fund must be different.\")\n",
    "                return\n",
    "            if cumulative_results.empty:\n",
    "                print(\"⚠️ No performance data available yet. Please run an optimization first.\")\n",
    "                return\n",
    "            get_calendar_graph(cumulative_results, \n",
    "                               freq=frequency_graph.value, \n",
    "                               benchmark=benchmark.value, \n",
    "                               fund=fund.value)\n",
    "                \n",
    "                    \n",
    "    graph_button=widgets.Button(description='Update Perf',button_style='info')\n",
    "    graph_button.on_click(show_graph)\n",
    "\n",
    "    optimize_btn = widgets.Button(description='Optimize Portfolio', button_style='primary')\n",
    "    grid = DataGrid(pd.DataFrame(), editable=True, layout={\"height\": \"250px\"})\n",
    "    \n",
    "\n",
    "    def update_dropdown_options():\n",
    "        \"\"\"Safely refresh fund/benchmark dropdowns after cumulative_results is updated.\"\"\"\n",
    "        if 'cumulative_results' not in globals() or cumulative_results.empty:\n",
    "            return\n",
    "\n",
    "        global fund_names\n",
    "        \n",
    "        options = list(cumulative_results.columns)\n",
    "    \n",
    "        # Fund options exclude the currently selected benchmark\n",
    "    \n",
    "        fund.options = options\n",
    "        benchmark.options = options\n",
    "        \n",
    "        fund.value = options[0]\n",
    "        benchmark.value = options[1]\n",
    "        fund_names=list(grid.data.index)\n",
    "        benchmark_tracking_error.options=grid.data.index\n",
    "\n",
    "        selected_fund.options=grid.data.index\n",
    "\n",
    "        selected_bench.options=grid.data.index\n",
    "\n",
    "        \n",
    "        selected_fund_var.options=grid.data.index\n",
    "        \n",
    "    def on_optimize_clicked(_):\n",
    "        global fund_names,grid\n",
    "\n",
    "        with constraint_output:\n",
    "            constraint_output.clear_output(wait=True)\n",
    "            if dataframe.empty or returns_to_use.empty:\n",
    "                print(\"⚠️ Load price data before optimizing.\")\n",
    "                return\n",
    "            constraint_df = pd.DataFrame(constraints)\n",
    "            cons = None\n",
    "            if not constraint_df.empty:\n",
    "                try:\n",
    "                    cons = build_constraint(dataframe, constraint_df.to_numpy())\n",
    "                except Exception as e:\n",
    "                    print(\"Error building constraints:\", e)\n",
    "                    \n",
    "            portfolio = RiskAnalysis(returns_to_use.loc[start_date_perf.value:end_date_perf.value])\n",
    "            sharpe = portfolio.optimize(\"sharpe_ratio\")\n",
    "            minvar = portfolio.optimize(\"minimum_variance\")\n",
    "            rp = portfolio.optimize(\"risk_parity\")\n",
    "            sharpe_c = minvar_c = rp_c = None\n",
    "    \n",
    "            if cons is not None:\n",
    "                sharpe_c = portfolio.optimize(\"sharpe_ratio\", constraints=cons)\n",
    "                minvar_c = portfolio.optimize(\"minimum_variance\", constraints=cons)\n",
    "                rp_c = portfolio.optimize(\"risk_parity\", constraints=cons)\n",
    "    \n",
    "            allocation = {\n",
    "                'Optimal Portfolio': sharpe.tolist(),\n",
    "                'Constrained Optimal Portfolio': sharpe_c.tolist() if sharpe_c is not None else sharpe.tolist(),\n",
    "                'Min Variance': minvar.tolist(),\n",
    "                'Constrained Min Var': minvar_c.tolist() if minvar_c is not None else minvar.tolist(),\n",
    "                'Risk Parity': rp.tolist(),\n",
    "                'Constrained RP': rp_c.tolist() if rp_c is not None else rp.tolist()}\n",
    "            \n",
    "            allocation_df = pd.DataFrame(allocation, index=dataframe.columns).T.round(4)\n",
    "            if set(current_weights.index).issubset(dataframe.columns):\n",
    "                allocation_df = allocation_df.combine_first(current_weights.T).fillna(0)\n",
    "            \n",
    "            constraint_container = {'constraints': constraints, 'allocation_df': allocation_df}\n",
    "            grid.data = allocation_df\n",
    "            \n",
    "            benchmark_tracking_error.options=grid.data.index\n",
    "            benchmark_tracking_error.value=grid.data.index[0]\n",
    "\n",
    "            selected_fund.options=grid.data.index\n",
    "            selected_fund.value=grid.data.index[0]\n",
    "    \n",
    "            selected_bench.options=grid.data.index\n",
    "            selected_bench.value=grid.data.index[0]\n",
    "    \n",
    "            \n",
    "            selected_fund_var.options=grid.data.index\n",
    "            selected_fund_var.value=grid.data.index[0]\n",
    "            \n",
    "            with constraint_output:\n",
    "                constraint_output.clear_output(wait=True)\n",
    "                display(display_scrollable_df(pd.DataFrame(constraints))) \n",
    "\n",
    "    def get_result(_):\n",
    "        \n",
    "        nonlocal constraint_container\n",
    "        global rolling_optimization, performance_pct, performance_fund, dates_end,quantities\n",
    "        \n",
    "        with strategy_output:\n",
    "            strategy_output.clear_output(wait=True)\n",
    "            if dataframe.empty or returns_to_use.empty:\n",
    "                print(\"⚠️ Load price data before optimizing.\")\n",
    "                return\n",
    "\n",
    "            constraint_df = pd.DataFrame(constraints)\n",
    "            cons = None\n",
    "            if not constraint_df.empty:\n",
    "                try:\n",
    "                    cons = build_constraint(dataframe, constraint_df.to_numpy())\n",
    "                except Exception as e:\n",
    "                    print(\"Error building constraints:\", e)\n",
    "            \n",
    "            freq_map = {\n",
    "                'Monthly': pd.offsets.BMonthEnd(),\n",
    "                'Quarterly': pd.offsets.BQuarterEnd(),\n",
    "                'Yearly': pd.offsets.BYearEnd()\n",
    "            }\n",
    "            offset = freq_map.get(rebalancing_frequency.value, pd.offsets.BMonthEnd())\n",
    "            candidate_anchors = pd.DatetimeIndex(sorted(set(dataframe.index + offset)))\n",
    "            if candidate_anchors.empty:\n",
    "                candidate_anchors = pd.DatetimeIndex([returns_to_use.index[-1]])\n",
    "\n",
    "            idx = returns_to_use.index.get_indexer(candidate_anchors, method='nearest')\n",
    "            idx = np.array(idx)\n",
    "            idx = idx[idx >= 0]\n",
    "            selected_dates = returns_to_use.index[idx].tolist()\n",
    "            selected_dates = sorted(list(set(selected_dates + [returns_to_use.index[-1]])))\n",
    "            dates_end = selected_dates\n",
    "\n",
    "            if len(dates_end) < 2:\n",
    "                print(\"⚠️ Not enough anchor dates to perform rolling optimization.\")\n",
    "                return\n",
    "\n",
    "            results = {}\n",
    "            for i in range(len(dates_end) - 1):\n",
    "                subset = returns_to_use.loc[dates_end[i]:dates_end[i + 1]]\n",
    "                if subset.empty or len(subset) < 2:\n",
    "                    continue\n",
    "                try:\n",
    "                    risk = RiskAnalysis(subset)\n",
    "                    opt = risk.optimize(objective=dico_strategies[strat.value], constraints=cons) if cons else \\\n",
    "                          risk.optimize(objective=dico_strategies[strat.value])\n",
    "                    results[subset.index[-1]] = np.round(opt, 6)\n",
    "                except Exception:\n",
    "                    continue\n",
    "\n",
    "            if not results:\n",
    "                print(\"⚠️ No valid optimizations computed.\")\n",
    "                return\n",
    "\n",
    "            rolling_optimization = pd.DataFrame(results, index=dataframe.columns).T.sort_index()\n",
    "            if not rolling_optimization.empty and len(dataframe.columns) > 0:\n",
    "                first_row = pd.Series(1 / len(dataframe.columns), index=dataframe.columns, name=dates_end[0])\n",
    "                rolling_optimization = pd.concat([pd.DataFrame([first_row]), rolling_optimization])\n",
    "            display(display_scrollable_df(rolling_optimization))\n",
    "\n",
    "            quantities = rebalanced_dynamic_quantities(dataframe, rolling_optimization)\n",
    "            performance_fund = pd.DataFrame({'Fund': (quantities * dataframe).sum(axis=1)})\n",
    "            if 'BTCUSDT' in dataframe.columns:\n",
    "                performance_fund['Bitcoin'] = dataframe['BTCUSDT']\n",
    "            performance_pct = performance_fund.pct_change(fill_method=None)\n",
    "            \n",
    "            cumulative=(1+performance_pct).cumprod()*100\n",
    "            drawdown=pd.DataFrame((cumulative-cumulative.cummax()))/cumulative.cummax()            \n",
    "            date_drawdown=drawdown.idxmin().dt.date\n",
    "            max_drawdown=drawdown.min()\n",
    "            \n",
    "            metrics={}\n",
    "            metrics['Tracking Error']=(performance_pct['Fund']-performance_pct['Bitcoin']).std()*np.sqrt(252)\n",
    "            metrics['Fund Vol']=performance_pct['Fund'].std()*np.sqrt(252)\n",
    "            metrics['Bitcoin Vol']=performance_pct['Bitcoin'].std()*np.sqrt(252)\n",
    "            metrics['Fund Return']=performance_fund['Fund'].iloc[-2]/performance_fund['Fund'].iloc[0]\n",
    "            metrics['Bitcoin Return']=performance_fund['Bitcoin'].iloc[-2]/performance_fund['Bitcoin'].iloc[0]\n",
    "            metrics['Sharpe Ratio']=(1+metrics['Fund Return'])**(1/len(set(returns_to_use.index.year)))/metrics['Fund Vol']\n",
    "            metrics['Bitcoin Sharpe Ratio']=(1+metrics['Bitcoin Return'])**(1/len(set(returns_to_use.index.year)))/metrics['Bitcoin Vol']\n",
    "\n",
    "            metrics['Fund Drawdown']=max_drawdown['Fund']\n",
    "            metrics['Bitcoin Drawdown']=max_drawdown['Bitcoin']\n",
    "            \n",
    "            metrics['Fund Date Drawdown']=date_drawdown['Fund']\n",
    "            metrics['Bitcoin Date Drawdown']=date_drawdown['Bitcoin']\n",
    "            \n",
    "            indicators=pd.DataFrame(metrics.values(),index=metrics.keys(),columns=['Indicators'])\n",
    "            # show results\n",
    "            display(display_scrollable_df(indicators.round(4)))\n",
    "            updated_cumulative_perf(None)\n",
    "            show_graph(None)\n",
    "            get_holdings(None)\n",
    "            \n",
    "    optimize_btn.on_click(on_optimize_clicked)\n",
    "    results_button=widgets.Button(description='Get Results',button_style='info')\n",
    "    results_button.on_click(get_result)\n",
    "\n",
    "    positions_output=widgets.Output()\n",
    "    holding_output=widgets.Output()\n",
    "    \n",
    "    def get_holdings(_):\n",
    "\n",
    "        global holding_tickers,current_weights,pnl\n",
    "        \n",
    "        quantities_api=Binance.binance_api.user_asset()\n",
    "        current_quantities=pd.DataFrame(quantities_api).sort_values(by='free',ascending=False)\n",
    "        current_quantities['asset']=current_quantities['asset']+'USDT'\n",
    "        current_quantities=current_quantities.set_index('asset')\n",
    "        \n",
    "        current_positions=Binance.get_inventory().round(4)\n",
    "        current_positions.columns=['Current Portfolio in USDT','Current Weights']\n",
    "        amount=current_positions.loc['Total']['Current Portfolio in USDT']\n",
    "        condition=current_positions.index!='Total'\n",
    "\n",
    "        holding_tickers=current_positions.index[condition]\n",
    "        holding_tickers=holding_tickers.to_list()\n",
    "        \n",
    "        inventory_weights=(current_positions['Current Weights'].apply(lambda x: np.round(x,4))).to_dict()\n",
    "        inventory_weights.pop('Total')\n",
    "        inventory_weights.pop('USDCUSDT')\n",
    "        \n",
    "        if \"USDTUSDT\" in holding_tickers:\n",
    "            inventory_weights.pop('USDTUSDT')\n",
    "        else: \n",
    "            pass\n",
    "            \n",
    "        current_weights=pd.DataFrame(inventory_weights.values(),index=inventory_weights.keys(),columns=['Current Weights'])\n",
    "                \n",
    "        with positions_output:\n",
    "            positions_output.clear_output(wait=True)\n",
    "        \n",
    "            if dataframe.empty or returns_to_use.empty:\n",
    "                print(\"⚠️ Load Prices.\")\n",
    "                # display(display_scrollable_df(current_positions))\n",
    "        \n",
    "            elif quantities.empty:\n",
    "                print(\"⚠️ Load Model.\")\n",
    "                # display(display_scrollable_df(current_positions))\n",
    "        \n",
    "            else:\n",
    "                last_prices = Binance.get_price(list(quantities.iloc[-1].keys()))\n",
    "                positions = pd.DataFrame(quantities.iloc[-1] * last_prices).T\n",
    "        \n",
    "                amount_ex_out_of_positions = (\n",
    "                    current_positions.loc[\n",
    "                        ~(current_positions.index.isin(positions.index) | (current_positions.index == 'Total')),\n",
    "                        'Current Portfolio in USDT'\n",
    "                    ].sum()\n",
    "                )\n",
    "        \n",
    "                positions['Weights Model'] = positions / positions.sum()\n",
    "                positions['Model (without out of Model Positions)'] = (\n",
    "                    positions['Weights Model'] * (amount - amount_ex_out_of_positions)\n",
    "                )\n",
    "                positions['Model'] = positions['Weights Model'] * amount\n",
    "        \n",
    "                portfolio = pd.concat(\n",
    "                    [positions[['Model', 'Model (without out of Model Positions)', 'Weights Model']],\n",
    "                     current_positions.loc[condition]],\n",
    "                    axis=1\n",
    "                ).fillna(0)\n",
    "        \n",
    "                portfolio['Spread'] = portfolio['Current Portfolio in USDT'] - portfolio['Model']\n",
    "                portfolio.loc['Total'] = portfolio.sum(axis=0)\n",
    "                portfolio = (\n",
    "                    portfolio.loc[~(portfolio == 0).all(axis=1)]\n",
    "                    .sort_values(by='Weights Model', ascending=False)\n",
    "                    .round(4)\n",
    "                )\n",
    "        \n",
    "                display(display_scrollable_df(portfolio))\n",
    "        \n",
    "        # --- Now, this block will always run ---\n",
    "        with holding_output:\n",
    "            holding_output.clear_output(wait=True)\n",
    "        \n",
    "            if book_cost.empty and realized_pnl.empty:\n",
    "                display(display_scrollable_df(current_positions))\n",
    "                print(\"⚠️ P&L not Computed.\")\n",
    "            else:\n",
    "                last_book_cost = book_cost.iloc[-1] if not book_cost.empty else pd.Series(dtype=float)\n",
    "                realized_pnl_filled = realized_pnl if not realized_pnl.empty else pd.Series(dtype=float)\n",
    "        \n",
    "        \n",
    "                pnl = pd.concat(\n",
    "                    [last_book_cost, last_book_cost, current_positions.loc[condition], realized_pnl_filled],\n",
    "                    axis=1\n",
    "                )\n",
    "                pnl.columns = ['Average Cost', 'Book Cost', 'Price in USDT', 'Weights', 'Realized P&L']\n",
    "        \n",
    "                pnl['Book Cost'] = (pnl['Book Cost'] * current_quantities['free'].astype(float)).fillna(0)\n",
    "                pnl['Unrealized P&L'] = (pnl['Price in USDT'] - pnl['Book Cost']).round(2)\n",
    "                pnl = pnl.fillna(0)\n",
    "                pnl['Weights'] = pnl['Weights'].round(4)\n",
    "        \n",
    "                pnl['Total P&L'] = pnl['Unrealized P&L'] + pnl['Realized P&L']\n",
    "                pnl.loc['Total'] = pnl.sum()\n",
    "                pnl.loc['Total', 'Average Cost'] = np.nan\n",
    "                pnl.loc['Total', 'Book Cost'] = pnl.loc['Total', 'Price in USDT'] - pnl.loc['Total', 'Total P&L']\n",
    "        \n",
    "                if pnl.loc['Total', 'Book Cost'] != 0:\n",
    "                    pnl['Total P&L %'] = pnl['Total P&L'] / pnl.loc['Total', 'Book Cost'] * 100\n",
    "                else:\n",
    "                    pnl['Total P&L %'] = 0\n",
    "        \n",
    "                display(display_scrollable_df(pnl.sort_values(by='Weights', ascending=False).round(4)))                \n",
    "\n",
    "    \n",
    "    def get_pnl_on_click(_):\n",
    "        global book_cost,realized_pnl,profit_and_loss\n",
    "        url='https://github.com/niroojane/Risk-Management/raw/refs/heads/main/Trade%20History%20Reconstructed.xlsx'\n",
    "        myfile = requests.get(url)\n",
    "        trade_history=pd.read_excel(BytesIO(myfile.content))\n",
    "        trades=Pnl_calculation.get_trade_in_usdt(trade_history)\n",
    "        \n",
    "        book_cost=Pnl_calculation.get_book_cost(trades)\n",
    "        realized_pnl,profit_and_loss=Pnl_calculation.get_pnl(book_cost,trades)\n",
    "        get_holdings(None)\n",
    "        \n",
    "    pnl_button=widgets.Button(description='Get P&L',button_style='info')\n",
    "    pnl_button.on_click(get_pnl_on_click)\n",
    "            \n",
    "    position_button=widgets.Button(description='Get Positions',button_style='info')\n",
    "    position_button.on_click(get_holdings)\n",
    "    \n",
    "    # --- layout ---\n",
    "\n",
    "    allocation_ui=widgets.VBox([widgets.HBox([\n",
    "            widgets.VBox([dropdown_asset, dropdown_sign, dropdown_limit]),\n",
    "            widgets.VBox([add_constraint_btn, clear_constraints_btn, optimize_btn])]),\n",
    "                                constraint_output,\n",
    "        grid,\n",
    "        widgets.HBox([button_add,button_clear,results_button])])\n",
    "\n",
    "    constraint_ui = widgets.VBox([widgets.HBox([start_date_perf, end_date_perf]),\n",
    "                                               main_output,\n",
    "        widgets.VBox([strat, rebalancing_frequency,benchmark_tracking_error,window_vol]),\n",
    "        allocation_ui,strategy_output,\n",
    "        widgets.HBox([start_date_perf, end_date_perf]),\n",
    "        output_returns,widgets.HBox([perf_output, drawdown_output]),widgets.HBox([vol_output,frontier_output])\n",
    "    ])\n",
    "\n",
    "    universe_ui = widgets.VBox([\n",
    "        widgets.HBox([n_crypto, start_date, data_button]),\n",
    "        scope_output,\n",
    "        widgets.HBox([start_date_perf, end_date_perf]),\n",
    "        main_output,price_output\n",
    "    ])\n",
    "    \n",
    "    calendar_perf=widgets.VBox([widgets.HBox([frequency_graph,fund,benchmark,graph_button]),calendar_output])\n",
    "    positions_ui=widgets.VBox([widgets.HBox([position_button,pnl_button]),positions_output,holding_output])\n",
    "    \n",
    "\n",
    "    #------------Rik Tab------------#\n",
    "    global var_scenarios, cvar_scenarios, fund_results\n",
    "    risk_output = widgets.Output()\n",
    "    \n",
    "    start_date_perf_risk = widgets.DatePicker(value=start_perf_date, layout=widgets.Layout(width='350px'))\n",
    "    end_date_perf_risk = widgets.DatePicker(value=datetime.date.today(), layout=widgets.Layout(width='350px'))\n",
    "    # ---------- Ex-Ante / Risk Contribution ----------\n",
    "    def update_fund_display(fund_name):\n",
    "        \n",
    "        range_prices=dataframe.loc[start_date_perf_risk.value:end_date_perf_risk.value]\n",
    "        range_returns=range_prices.pct_change()\n",
    "        \n",
    "        portfolio = RiskAnalysis(range_returns)\n",
    "        selected_weights = grid.data.loc[selected_fund.value]\n",
    "\n",
    "        \n",
    "        decomposition = pd.DataFrame(portfolio.var_contrib_pct(selected_weights))\n",
    "        \n",
    "        quantities_rebalanced = rebalanced_portfolio(range_prices, selected_weights) / range_prices\n",
    "        quantities_buy_hold = buy_and_hold(range_prices, selected_weights) / range_prices\n",
    "        \n",
    "        cost_rebalanced = rebalanced_book_cost(range_prices, quantities_rebalanced)\n",
    "        cost_buy_and_hold = rebalanced_book_cost(range_prices, quantities_buy_hold)\n",
    "        \n",
    "        mtm_rebalanced = quantities_rebalanced * range_prices\n",
    "        mtm_buy_and_hold = quantities_buy_hold * range_prices\n",
    "        \n",
    "        pnl_buy_and_hold=pd.DataFrame((mtm_buy_and_hold-cost_buy_and_hold).iloc[-1])\n",
    "        pnl_buy_and_hold.columns=['Profit and Loss (Buy and Hold)']\n",
    "        \n",
    "        pnl_rebalanced=pd.DataFrame((mtm_rebalanced-cost_rebalanced).iloc[-1])\n",
    "        pnl_rebalanced.columns=['Profit and Loss (Rebalanced)']\n",
    "        \n",
    "        profit_and_loss_simulated = pd.concat([pnl_buy_and_hold, pnl_rebalanced, decomposition], axis=1)\n",
    "        profit_and_loss_simulated.loc['Total'] = profit_and_loss_simulated.sum(axis=0)\n",
    "        profit_and_loss_simulated=profit_and_loss_simulated.fillna(0)\n",
    "        \n",
    "        with risk_output:\n",
    "            risk_output.clear_output(wait=True)\n",
    "            display(Markdown(\"### Performance and Risk Contribution\"))\n",
    "            display(display_scrollable_df(\n",
    "                profit_and_loss_simulated.sort_values(by='Variance Contribution in %', ascending=False)\n",
    "            ))\n",
    "\n",
    "    def on_fund_change(change):\n",
    "        if change['name'] == 'value' and change['new'] in grid.data.index:\n",
    "            update_fund_display(change['new'])\n",
    "\n",
    "    selected_fund.observe(on_fund_change)\n",
    "\n",
    "    # ---------- Ex-Ante Metrics ----------\n",
    "    ex_ante_output = widgets.Output()\n",
    "\n",
    "    def ex_ante_metrics(bench_name):\n",
    "\n",
    "        range_prices=dataframe.loc[start_date_perf_risk.value:end_date_perf_risk.value]\n",
    "        range_returns=range_prices.pct_change()\n",
    "        \n",
    "        vol_ex_ante = {}\n",
    "        tracking_error_ex_ante = {}\n",
    "\n",
    "        portfolio = RiskAnalysis(range_returns)\n",
    "\n",
    "        if dataframe.empty or returns_to_use.empty or grid.data.empty:\n",
    "            with ex_ante_output:\n",
    "                ex_ante_output.clear_output(wait=True)\n",
    "                print(\"⚠️ Please compute optimization results first.\")\n",
    "            return\n",
    "\n",
    "            \n",
    "        for idx in grid.data.index:\n",
    "            vol_ex_ante[idx] = portfolio.variance(grid.data.loc[idx])\n",
    "            tracking_error_ex_ante[idx] = portfolio.variance(grid.data.loc[idx] - grid.data.loc[bench_name])\n",
    "\n",
    "        data = {\n",
    "            'Vol Ex Ante': vol_ex_ante,\n",
    "            'Tracking Error Ex Ante': tracking_error_ex_ante\n",
    "        }\n",
    "        ex_ante_dataframe = pd.DataFrame(data)\n",
    "        \n",
    "        with ex_ante_output:\n",
    "            ex_ante_output.clear_output(wait=True)\n",
    "            display(Markdown(\"### Ex Ante Metrics\"))\n",
    "            display(display_scrollable_df(ex_ante_dataframe))\n",
    "\n",
    "    def on_bench_change(change):\n",
    "        if change['name'] == 'value' and change['new'] in grid.data.index:\n",
    "            ex_ante_metrics(change['new'])\n",
    "\n",
    "    def update_contrib_and_ex_ante(_):\n",
    "        update_fund_display(selected_fund.value)\n",
    "        ex_ante_metrics(selected_bench.value)\n",
    "        \n",
    "        \n",
    "    ex_ante_metrics(selected_bench.value)\n",
    "    selected_bench.observe(on_bench_change, names='value')\n",
    "    \n",
    "    end_date_perf_risk.observe(update_contrib_and_ex_ante)\n",
    "    start_date_perf_risk.observe(update_contrib_and_ex_ante)\n",
    "\n",
    "    # ---------- VaR / CVaR Simulation ----------\n",
    "    var_output = widgets.Output()\n",
    "    var_scenarios, cvar_scenarios, fund_results = {}, {}, {}\n",
    "\n",
    "    stress_factor = widgets.BoundedFloatText(value=1.0, min=1.0, max=3.0, step=0.1, description='Stress Factor')\n",
    "    iterations = widgets.BoundedIntText(value=10000, min=1000, max=100000, step=1, description='Iterations')\n",
    "    num_scenarios = widgets.BoundedIntText(value=100, min=1, max=1000, step=1, description='Scenarios')\n",
    "    var_centile = widgets.BoundedFloatText(value=0.05, min=0, max=1, step=0.01, description='VaR Centile')\n",
    "\n",
    "    def get_var_metrics(_):\n",
    "        global var_scenarios, cvar_scenarios, fund_results\n",
    "\n",
    "        if dataframe.empty or returns_to_use.empty or grid.data.empty:\n",
    "            with var_output:\n",
    "                var_output.clear_output(wait=True)\n",
    "                print(\"⚠️ Please compute optimization results first.\")\n",
    "            return\n",
    "\n",
    "        horizon = 1 / 250\n",
    "        spot = dataframe.iloc[-1]\n",
    "        theta = 2\n",
    "\n",
    "        distrib_functions = {\n",
    "            'multivariate_distribution': (iterations.value, stress_factor.value),\n",
    "            'gaussian_copula': (iterations.value, stress_factor.value),\n",
    "            't_copula': (iterations.value, stress_factor.value),\n",
    "            'gumbel_copula': (iterations.value, theta),\n",
    "            'monte_carlo': (spot, horizon, iterations.value, stress_factor.value)\n",
    "        }\n",
    "\n",
    "        \n",
    "        range_prices=dataframe.loc[start_date_perf_risk.value:end_date_perf_risk.value]\n",
    "        range_returns=range_prices.pct_change()\n",
    "        \n",
    "        portfolio = RiskAnalysis(range_returns)\n",
    "        \n",
    "        var_scenarios, cvar_scenarios, fund_results = {}, {}, {}\n",
    "\n",
    "        for index in grid.data.index:\n",
    "            var_scenarios[index], cvar_scenarios[index] = {}, {}\n",
    "            for func_name, args in distrib_functions.items():\n",
    "                func = getattr(portfolio, func_name)\n",
    "                scenarios = {}\n",
    "\n",
    "                for i in range(num_scenarios.value):\n",
    "                    if func_name == 'monte_carlo':\n",
    "                        distrib = pd.DataFrame(func(*args)[1], columns=portfolio.returns.columns)\n",
    "                    else:\n",
    "                        distrib = pd.DataFrame(func(*args), columns=portfolio.returns.columns)\n",
    "\n",
    "                    distrib = distrib * grid.data.loc[index]\n",
    "                    distrib = distrib[distrib.columns[grid.data.loc[index] > 0]]\n",
    "                    distrib['Portfolio'] = distrib.sum(axis=1)\n",
    "\n",
    "                    results = distrib.sort_values(by='Portfolio').iloc[int(distrib.shape[0] * var_centile.value)]\n",
    "                    scenarios[i] = results\n",
    "\n",
    "                scenario = pd.DataFrame(scenarios).T\n",
    "                mean_scenario = scenario.mean()\n",
    "                index_cvar = scenario['Portfolio'] < mean_scenario['Portfolio']\n",
    "                cvar = scenario.loc[index_cvar].mean()\n",
    "\n",
    "                var_scenarios[index][func_name] = mean_scenario\n",
    "                cvar_scenarios[index][func_name] = cvar\n",
    "\n",
    "            fund_results[index] = {\n",
    "                'Value At Risk': mean_scenario.loc['Portfolio'],\n",
    "                'CVaR': cvar.loc['Portfolio']\n",
    "            }\n",
    "\n",
    "        display_var_results(selected_fund_var.value)\n",
    "\n",
    "    def display_var_results(fund_name):\n",
    "        if fund_name not in var_scenarios:\n",
    "            with var_output:\n",
    "                var_output.clear_output(wait=True)\n",
    "                print(f\"⚠️ No VaR data found for '{fund_name}'. Run simulation first.\")\n",
    "            return\n",
    "\n",
    "        columns = ['Multivariate', 'Gaussian Copula', 'T-Student Copula', 'Gumbel Copula', 'Monte Carlo']\n",
    "        var_dataframe = pd.DataFrame(var_scenarios[fund_name])\n",
    "        var_dataframe.columns = columns\n",
    "\n",
    "        cvar_dataframe = pd.DataFrame(cvar_scenarios[fund_name])\n",
    "        cvar_dataframe.columns = columns\n",
    "\n",
    "        fund_results_dataframe = pd.DataFrame(fund_results).T\n",
    "\n",
    "        with var_output:\n",
    "            var_output.clear_output(wait=True)\n",
    "            \n",
    "            display(display_scrollable_df(fund_results_dataframe))\n",
    "\n",
    "            display(Markdown(f\"### VaR Results for **{fund_name}**\"))\n",
    "\n",
    "            display(display_scrollable_df(var_dataframe))\n",
    "\n",
    "            display(Markdown(f\"### CVaR Results for **{fund_name}**\"))\n",
    "\n",
    "            display(display_scrollable_df(cvar_dataframe))\n",
    "\n",
    "    def update_var_metrics(change):\n",
    "        if change['name'] == 'value' and change['new'] in var_scenarios:\n",
    "            display_var_results(change['new'])\n",
    "\n",
    "    selected_fund_var.observe(update_var_metrics, names='value')\n",
    "\n",
    "    get_var_button = widgets.Button(description='Run Simulation', button_style='info')\n",
    "    get_var_button.on_click(get_var_metrics)\n",
    "\n",
    "\n",
    "    # ---------- Layout ----------\n",
    "    ex_ante_ui = widgets.VBox([widgets.HBox([start_date_perf_risk, end_date_perf_risk]),\n",
    "        widgets.VBox([selected_fund, selected_bench]),\n",
    "        risk_output,\n",
    "        ex_ante_output\n",
    "    ])\n",
    "\n",
    "    var_ui = widgets.VBox([widgets.HBox([start_date_perf_risk, end_date_perf_risk]),\n",
    "        widgets.VBox([selected_fund_var, stress_factor, iterations, num_scenarios,var_centile, get_var_button]),\n",
    "        var_output\n",
    "    ])\n",
    "\n",
    "\n",
    "    # ---------- Market Risk Metrics ----------\n",
    "\n",
    "    pca_output=widgets.Output()\n",
    "    pca_components=widgets.Output()\n",
    "    \n",
    "    def get_market_risk_metrics(_):\n",
    "        if returns_to_use.empty:\n",
    "            with pca_components:\n",
    "                pca_components.clear_output(wait=True)\n",
    "                print('⚠️Load Prices')\n",
    "                return\n",
    "        range_returns=returns_to_use.loc[start_date_perf_risk.value:end_date_perf_risk.value]\n",
    "        portfolio=RiskAnalysis(range_returns)\n",
    "        \n",
    "\n",
    "\n",
    "        eigval,eigvec,portfolio_components=portfolio.pca(num_components=num_components.value)\n",
    "        selected_components.options=portfolio_components.columns\n",
    "        num_components.max=len(range_returns.columns)\n",
    "        num_closest_to_pca.max=len(range_returns.columns)\n",
    "        \n",
    "        variance_explained=eigval/eigval.sum()\n",
    "        variance_explained_dataframe=pd.DataFrame(variance_explained,index=portfolio_components.columns,columns=['Variance Explained'])\n",
    "        \n",
    "        pca_weight=dict((portfolio_components[selected_components.value]/(portfolio_components[selected_components.value]).sum()))\n",
    "        pca_portfolio=pd.DataFrame(portfolio_components[selected_components.value]).sort_values(by=selected_components.value,ascending=False)\n",
    "        \n",
    "        historical_PCA=pd.DataFrame(np.array(list(pca_weight.values())).dot(np.transpose(portfolio.returns)),index=portfolio.returns.index,columns=['PCA'])\n",
    "        historical_PCA=historical_PCA.dropna()\n",
    "    \n",
    "        comparison=portfolio.returns.copy()\n",
    "        comparison['PCA']=historical_PCA\n",
    "        distances=np.sqrt(np.sum(comparison.apply(lambda y:(y-historical_PCA['PCA'])**2),axis=0)).sort_values()\n",
    "        pca_similarity=(1+comparison[distances.index[:num_closest_to_pca.value]]).cumprod()\n",
    "    \n",
    "        with pca_components:\n",
    "            \n",
    "            pca_components.clear_output(wait=True)\n",
    "            \n",
    "            fig=px.bar(variance_explained_dataframe,title='Variance Explanation in %')\n",
    "            fig.update_layout(plot_bgcolor=\"black\", paper_bgcolor=\"black\", font_color=\"white\", width=800, height=400) \n",
    "            fig.update_traces(textfont=dict(family=\"Arial Narrow\", size=15))\n",
    "\n",
    "            fig2=px.bar(pca_portfolio,title='Eigen Weights')\n",
    "            fig2.update_layout(plot_bgcolor=\"black\", paper_bgcolor=\"black\", font_color=\"white\",width=800, height=400) \n",
    "            fig2.update_traces(textfont=dict(family=\"Arial Narrow\", size=15))\n",
    "\n",
    "            fig.show()\n",
    "            fig2.show()\n",
    "            \n",
    "        with pca_output:\n",
    "            pca_output.clear_output(wait=True)\n",
    "            \n",
    "            fig3=px.line((1+historical_PCA).cumprod(),title='Eigen Index')\n",
    "            fig3.update_layout(plot_bgcolor=\"black\", paper_bgcolor=\"black\", font_color=\"white\", width=800, height=400)\n",
    "            fig3.update_traces(textfont=dict(family=\"Arial Narrow\", size=15))\n",
    "\n",
    "            fig4=px.line(pca_similarity,title='PCA Similarity')\n",
    "            fig4.update_layout(plot_bgcolor=\"black\", paper_bgcolor=\"black\", font_color=\"white\", width=800, height=400)\n",
    "            fig4.update_traces(textfont=dict(family=\"Arial Narrow\", size=15))\n",
    "\n",
    "            fig3.show()\n",
    "            fig4.show()\n",
    "    \n",
    "    asset_output_corr = widgets.Output()\n",
    "\n",
    "    button_corr = widgets.Button(description=\"Show Correlation\", button_style=\"success\")\n",
    "    \n",
    "    window_corr=widgets.IntText(\n",
    "    value=30,\n",
    "    description='Rolling Correlation:',\n",
    "    disabled=False,style={'description_width': '150px'}\n",
    "    )\n",
    "\n",
    "    \n",
    "    def update_correlation(change=None):\n",
    "        range_returns=returns_to_use.loc[start_date_perf_risk.value:end_date_perf_risk.value]\n",
    "        \n",
    "        if returns_to_use.empty:\n",
    "            with asset_output_corr:\n",
    "                asset_output_corr.clear_output(wait=True)\n",
    "                print('⚠️Load Prices')\n",
    "                return\n",
    "            \n",
    "        if dropdown_asset1.value==dropdown_asset2.value:\n",
    "            asset_output_corr.clear_output(wait=True)\n",
    "            print('⚠️Same asset')\n",
    "            return\n",
    "\n",
    "        with asset_output_corr:\n",
    "            asset_output_corr.clear_output(wait=True)\n",
    "\n",
    "            rolling_correlation = range_returns[dropdown_asset1.value].rolling(window_corr.value).corr(\n",
    "                range_returns[dropdown_asset2.value]\n",
    "            ).dropna()\n",
    "            \n",
    "            fig = px.line(rolling_correlation, title=f\"{dropdown_asset1.value}/{dropdown_asset2.value} Correlation\")\n",
    "            fig.update_layout(plot_bgcolor=\"black\", paper_bgcolor=\"black\", font_color=\"white\", width=800, height=400)\n",
    "            fig.update_traces(textfont=dict(family=\"Arial Narrow\", size=15))\n",
    "\n",
    "            fig.show()\n",
    "\n",
    "            fig2 = px.imshow(range_returns.corr().round(2), title='Correlation Matrix',color_continuous_scale='blues', text_auto=True, aspect=\"auto\")\n",
    "            fig2.update_layout(plot_bgcolor=\"black\", paper_bgcolor=\"black\", font_color=\"white\",width=800, height=400)\n",
    "            fig2.update_traces(xgap=2, ygap=2)\n",
    "            fig2.update_traces(textfont=dict(family=\"Arial Narrow\", size=15))\n",
    "            fig2.show()\n",
    "    \n",
    "    selected_components=widgets.Dropdown(options=['PC1'],description='Select PCA',style={'description_width': '150px'})\n",
    "    num_components=widgets.BoundedIntText(min=1,max=5,value=5,description='PCA Components',style={'description_width': '150px'})\n",
    "    num_closest_to_pca=widgets.BoundedIntText(min=1,max=20,value=5,description='PCA Closest',style={'description_width': '150px'})\n",
    "    market_button=widgets.Button(description='Market Risk Analysis',button_style='info',style={'description_width': '150px'})\n",
    "    market_button.on_click(get_market_risk_metrics)    \n",
    "    correlation_button=widgets.Button(description='Get Correlation',button_style='info',style={'description_width': '150px'})\n",
    "    correlation_button.on_click(update_correlation)\n",
    "    market_ui=widgets.VBox([widgets.HBox([start_date_perf_risk,end_date_perf_risk,market_button]),num_components,selected_components,num_closest_to_pca,widgets.HBox([pca_components,pca_output])])\n",
    "    correlation_ui=widgets.VBox([widgets.HBox([start_date_perf_risk,end_date_perf_risk,correlation_button]),dropdown_asset1,dropdown_asset2,window_corr,asset_output_corr])                        \n",
    "    \n",
    "\n",
    "    tab = widgets.Tab()\n",
    "    tab.children = [universe_ui, constraint_ui,calendar_perf,positions_ui,ex_ante_ui,var_ui,market_ui,correlation_ui]\n",
    "    tab.set_title(0, 'Investment Universe')\n",
    "    tab.set_title(1, 'Strategy')\n",
    "    tab.set_title(2, 'Performance')\n",
    "    tab.set_title(3,'Positioning')\n",
    "    tab.set_title(4, 'Ex Ante Metrics')\n",
    "    tab.set_title(5, 'Value at Risk Metrics')\n",
    "    tab.set_title(6, 'Market Risk')\n",
    "    tab.set_title(7, 'Correlation')\n",
    "\n",
    "    dropdown_asset.options = list(dataframe.columns) + ['All']\n",
    "    \n",
    "    display(tab)"
   ]
  },
  {
   "cell_type": "code",
   "execution_count": 21,
   "id": "b8583088-4b53-48e7-9120-0f5fdf120d2e",
   "metadata": {},
   "outputs": [],
   "source": [
    "Binance=BinanceAPI(binance_api_key,binance_api_secret)\n",
    "git=GitHub(token,repo_owner,repo_name,branch)\n",
    "Pnl_calculation=PnL(binance_api_key,binance_api_secret)"
   ]
  },
  {
   "cell_type": "code",
   "execution_count": 23,
   "id": "31d0cd83-ce10-4ce3-b514-0b0535ad1f1d",
   "metadata": {},
   "outputs": [
    {
     "data": {
      "application/vnd.jupyter.widget-view+json": {
       "model_id": "02ab6bc45a0747419aba2affccb2fe0b",
       "version_major": 2,
       "version_minor": 0
      },
      "text/plain": [
       "Tab(children=(VBox(children=(HBox(children=(IntSlider(value=20, description='Number of Crypto', layout=Layout(…"
      ]
     },
     "metadata": {},
     "output_type": "display_data"
    }
   ],
   "source": [
    "display_crypto_app()"
   ]
  },
  {
   "cell_type": "code",
   "execution_count": 25,
   "id": "ef77f90e-4c57-4aee-ae8f-c667e8bffd3a",
   "metadata": {},
   "outputs": [],
   "source": [
    "#position=pd.read_excel('Positions.xlsx',index_col=0)\n",
    "url='https://github.com/niroojane/Risk-Management/raw/refs/heads/main/Positions.xlsx'\n",
    "myfile = requests.get(url)\n",
    "position=pd.read_excel(BytesIO(myfile.content),index_col=0)\n",
    "\n",
    "positions,quantities_holding=Binance.get_positions_history(enddate=datetime.datetime.today())\n",
    "positions=positions.sort_index()\n",
    "\n",
    "positions.index=pd.to_datetime(positions.index)\n",
    "positions=pd.concat([position,positions])\n",
    "positions=positions.loc[~positions.index.duplicated(),:]\n",
    "\n",
    "# positions.to_excel('Positions.xlsx')\n",
    "# git.push_or_update_file(positions,'Positions')"
   ]
  },
  {
   "cell_type": "code",
   "execution_count": 27,
   "id": "fe064ebd-b2c9-40f1-b4f8-84169822238b",
   "metadata": {},
   "outputs": [],
   "source": [
    "positions=positions.interpolate()\n",
    "positions['Total']=positions.sum(axis=1)"
   ]
  },
  {
   "cell_type": "code",
   "execution_count": 30,
   "id": "526f0759-a3c9-4a44-ba4e-ff359b864670",
   "metadata": {},
   "outputs": [],
   "source": [
    "url='https://github.com/niroojane/Risk-Management/raw/refs/heads/main/Quantities.xlsx'\n",
    "myfile = requests.get(url)\n",
    "quantities_history=pd.read_excel(BytesIO(myfile.content),index_col=0)\n",
    "#quantities_history=pd.read_excel('Quantities.xlsx',index_col=0)"
   ]
  },
  {
   "cell_type": "code",
   "execution_count": 32,
   "id": "1895cf8a-a44c-4474-a2f3-009d6fc614e8",
   "metadata": {},
   "outputs": [],
   "source": [
    "quantities_holding.index=pd.to_datetime(quantities_holding.index)\n",
    "\n",
    "quantities_holding=pd.concat([quantities_holding,quantities_history])\n",
    "quantities_holding=quantities_holding.loc[~quantities_holding.index.duplicated(),:]\n",
    "quantities_holding=quantities_holding.sort_index()\n",
    "\n",
    "# quantities.to_excel('Quantities.xlsx',index=False)\n",
    "\n",
    "quantities_tickers=list(quantities_holding.columns)"
   ]
  },
  {
   "cell_type": "code",
   "execution_count": 34,
   "id": "5744005c-b7e5-44e9-8455-b998c6cad130",
   "metadata": {},
   "outputs": [],
   "source": [
    "today = datetime.date.today()\n",
    "start_pnl=quantities_holding.index[0]\n",
    "days_total = (today - start_pnl.date()).days"
   ]
  },
  {
   "cell_type": "code",
   "execution_count": 36,
   "id": "7c11a18b-5a47-4715-9488-543ee1412680",
   "metadata": {},
   "outputs": [
    {
     "name": "stdout",
     "output_type": "stream",
     "text": [
      "LDUMAUSDT not retrieved\n",
      "Total not retrieved\n",
      "LDUMAUSDT not retrieved\n",
      "Total not retrieved\n",
      "LDUMAUSDT not retrieved\n",
      "Total not retrieved\n"
     ]
    }
   ],
   "source": [
    "weights_ex_post=positions.copy()\n",
    "weights_ex_post=weights_ex_post.drop(columns=['USDTUSDT'])\n",
    "weights_ex_post=weights_ex_post.apply(lambda x: x/weights_ex_post['Total'])\n",
    "\n",
    "start_date=weights_ex_post.index[0].date()\n",
    "\n",
    "days=(today-start_date).days\n",
    "\n",
    "remaining=days%500\n",
    "numbers_of_table=days//500\n",
    "remaining\n",
    "temp_end=weights_ex_post.index[0]\n",
    "prices=pd.DataFrame()\n",
    "for i in range(numbers_of_table+1):\n",
    "    temp_data=Binance.get_price(weights_ex_post.columns,temp_end)\n",
    "    temp_end=temp_end+datetime.timedelta(500)\n",
    "    prices=prices.combine_first(temp_data)\n",
    "    \n",
    "temp_end=temp_end+datetime.timedelta(500)\n",
    "last_data=Binance.get_price(weights_ex_post.columns,temp_end)\n",
    "binance_data=prices.combine_first(last_data)\n",
    "binance_data=binance_data.sort_index()\n",
    "binance_data = binance_data[~binance_data.index.duplicated(keep='first')]\n",
    "binance_data.index=pd.to_datetime(binance_data.index)"
   ]
  },
  {
   "cell_type": "code",
   "execution_count": 12,
   "id": "129e0787-9bdb-49ad-b165-cd96d4425f02",
   "metadata": {},
   "outputs": [],
   "source": [
    "# remaining = days_total % 500\n",
    "# numbers_of_table = days_total // 500\n",
    "# temp_end = datetime.datetime.combine(start_pnl, datetime.time())\n",
    "# price_pnl = pd.DataFrame()\n",
    "\n",
    "# for _ in range(numbers_of_table + 1):\n",
    "#     data = Binance.get_price(quantities_tickers, temp_end)\n",
    "#     temp_end += datetime.timedelta(days=500)\n",
    "#     price_pnl = price_pnl.combine_first(data)\n",
    "\n",
    "# temp_end = datetime.datetime.combine(today - datetime.timedelta(days=remaining), datetime.time())\n",
    "# data = Binance.get_price(quantities_tickers, temp_end)\n",
    "# price_pnl = price_pnl.combine_first(data)\n",
    "\n",
    "# price_pnl = price_pnl.sort_index()\n",
    "# price_pnl = price_pnl[~price_pnl.index.duplicated(keep='first')]\n",
    "# price_pnl.index = pd.to_datetime(price_pnl.index)\n",
    "# # prices = price_pnl.loc[:, price_pnl.columns != 'USDCUSDT']\n",
    "\n",
    "# returns_pnl = np.log(1 + price_pnl.pct_change(fill_method=None))\n",
    "# returns_pnl.index = pd.to_datetime(returns_pnl.index)\n"
   ]
  },
  {
   "cell_type": "code",
   "execution_count": 38,
   "id": "147b6dc8-d1f1-4ee9-b127-befbe279f3b0",
   "metadata": {},
   "outputs": [],
   "source": [
    "daily_book_cost=book_cost.resample(\"D\").last().dropna().sort_index()\n",
    "book_cost_history=pd.DataFrame()\n",
    "book_cost_history.index=set(daily_book_cost.index.append(quantities_holding.index))\n",
    "\n",
    "book_cost_history=book_cost_history.sort_index()\n",
    "cols= quantities_holding.columns[quantities_holding.columns!='USDCUSDT']\n",
    "\n",
    "for col in cols:\n",
    "    \n",
    "    book_cost_history[col]=daily_book_cost[col]\n",
    "\n",
    "book_cost_history=book_cost_history.ffill()\n",
    "book_cost_history=book_cost_history.loc[quantities_holding.index] "
   ]
  },
  {
   "cell_type": "code",
   "execution_count": 79,
   "id": "40d49882-595a-46f5-ba0d-b4af34517bde",
   "metadata": {},
   "outputs": [],
   "source": [
    "pnl_history=pd.DataFrame()\n",
    "pnl_history.index=quantities_holding.index\n",
    "pnl_history=pnl_history.sort_index()\n",
    "\n",
    "for col in cols:\n",
    "    pnl_history[col]=quantities_holding[col]*(binance_data[col]-book_cost_history[col])\n",
    "pnl_history['Total']=pnl_history.sum(axis=1)"
   ]
  },
  {
   "cell_type": "code",
   "execution_count": 81,
   "id": "bef50ba3-b43c-425b-842c-ebeaf50d363c",
   "metadata": {},
   "outputs": [],
   "source": [
    "\n",
    "daily_pnl=pnl_history['Total']-pnl_history['Total'].shift(1)\n",
    "daily_pnl=pd.DataFrame(daily_pnl)\n",
    "colors = ['green' if value >= 0 else 'red' for value in daily_pnl.values]\n",
    "\n",
    "daily_pnl['color'] = daily_pnl['Total'].apply(lambda v: 'green' if v >= 0 else 'red')\n",
    "selected_daily_pnl=daily_pnl.copy()"
   ]
  },
  {
   "cell_type": "code",
   "execution_count": 83,
   "id": "3b6f2fee-dfa4-48b4-afb2-7856355c43e9",
   "metadata": {},
   "outputs": [],
   "source": [
    "binance_data_return=np.log(1+binance_data.pct_change(fill_method=None))\n",
    "weight_date=set(weights_ex_post.index)\n",
    "binance_date=set(binance_data_return.index)\n",
    "common_date=weight_date.intersection(binance_date)\n",
    "\n",
    "binance_data2=binance_data_return.loc[list(common_date)].copy().sort_index()\n",
    "weights_ex_post2=weights_ex_post.loc[list(common_date)].copy().sort_index()\n",
    "historical_ptf=pd.DataFrame()\n",
    "\n",
    "for col in binance_data:\n",
    "    historical_ptf[col]=weights_ex_post2[col]*binance_data2[col]\n",
    "    \n",
    "historical_ptf['Historical Portfolio']=historical_ptf.sum(axis=1)    "
   ]
  },
  {
   "cell_type": "code",
   "execution_count": 93,
   "id": "a1640785-01c1-4fd1-b3ba-403961eee470",
   "metadata": {},
   "outputs": [
    {
     "data": {
      "application/vnd.plotly.v1+json": {
       "config": {
        "plotlyServerURL": "https://plot.ly"
       },
       "data": [
        {
         "hovertemplate": "variable=Total<br>index=%{x}<br>value=%{y}<extra></extra>",
         "legendgroup": "Total",
         "line": {
          "color": "#636efa",
          "dash": "solid"
         },
         "marker": {
          "symbol": "circle"
         },
         "mode": "lines",
         "name": "Total",
         "orientation": "v",
         "showlegend": true,
         "type": "scatter",
         "x": [
          "2024-09-23T00:00:00",
          "2024-09-24T00:00:00",
          "2024-09-25T00:00:00",
          "2024-09-26T00:00:00",
          "2024-09-27T00:00:00",
          "2024-09-28T00:00:00",
          "2024-09-29T00:00:00",
          "2024-09-30T00:00:00",
          "2024-10-01T00:00:00",
          "2024-10-02T00:00:00",
          "2024-10-03T00:00:00",
          "2024-10-04T00:00:00",
          "2024-10-05T00:00:00",
          "2024-10-06T00:00:00",
          "2024-10-07T00:00:00",
          "2024-10-08T00:00:00",
          "2024-10-09T00:00:00",
          "2024-10-10T00:00:00",
          "2024-10-11T00:00:00",
          "2024-10-12T00:00:00",
          "2024-10-13T00:00:00",
          "2024-10-14T00:00:00",
          "2024-10-15T00:00:00",
          "2024-10-16T00:00:00",
          "2024-10-17T00:00:00",
          "2024-10-18T00:00:00",
          "2024-10-19T00:00:00",
          "2024-10-20T00:00:00",
          "2024-10-21T00:00:00",
          "2024-10-22T00:00:00",
          "2024-10-23T00:00:00",
          "2024-10-24T00:00:00",
          "2024-10-25T00:00:00",
          "2024-10-26T00:00:00",
          "2024-10-27T00:00:00",
          "2024-10-28T00:00:00",
          "2024-10-29T00:00:00",
          "2024-10-30T00:00:00",
          "2024-10-31T00:00:00",
          "2024-11-01T00:00:00",
          "2024-11-02T00:00:00",
          "2024-11-03T00:00:00",
          "2024-11-04T00:00:00",
          "2024-11-05T00:00:00",
          "2024-11-06T00:00:00",
          "2024-11-07T00:00:00",
          "2024-11-08T00:00:00",
          "2024-11-09T00:00:00",
          "2024-11-10T00:00:00",
          "2024-11-11T00:00:00",
          "2024-11-12T00:00:00",
          "2024-11-13T00:00:00",
          "2024-11-14T00:00:00",
          "2024-11-15T00:00:00",
          "2024-11-16T00:00:00",
          "2024-11-17T00:00:00",
          "2024-11-18T00:00:00",
          "2024-11-19T00:00:00",
          "2024-11-20T00:00:00",
          "2024-11-21T00:00:00",
          "2024-11-22T00:00:00",
          "2024-11-23T00:00:00",
          "2024-11-24T00:00:00",
          "2024-11-25T00:00:00",
          "2024-11-26T00:00:00",
          "2024-11-27T00:00:00",
          "2024-11-28T00:00:00",
          "2024-11-29T00:00:00",
          "2024-11-30T00:00:00",
          "2024-12-01T00:00:00",
          "2024-12-02T00:00:00",
          "2024-12-03T00:00:00",
          "2024-12-04T00:00:00",
          "2024-12-05T00:00:00",
          "2024-12-06T00:00:00",
          "2024-12-07T00:00:00",
          "2024-12-08T00:00:00",
          "2024-12-09T00:00:00",
          "2024-12-10T00:00:00",
          "2024-12-11T00:00:00",
          "2024-12-12T00:00:00",
          "2024-12-13T00:00:00",
          "2024-12-14T00:00:00",
          "2024-12-15T00:00:00",
          "2024-12-16T00:00:00",
          "2024-12-17T00:00:00",
          "2024-12-18T00:00:00",
          "2024-12-19T00:00:00",
          "2024-12-20T00:00:00",
          "2024-12-21T00:00:00",
          "2024-12-22T00:00:00",
          "2024-12-23T00:00:00",
          "2024-12-24T00:00:00",
          "2024-12-25T00:00:00",
          "2024-12-26T00:00:00",
          "2024-12-27T00:00:00",
          "2024-12-28T00:00:00",
          "2024-12-29T00:00:00",
          "2024-12-30T00:00:00",
          "2024-12-31T00:00:00",
          "2025-01-01T00:00:00",
          "2025-01-02T00:00:00",
          "2025-01-03T00:00:00",
          "2025-01-04T00:00:00",
          "2025-01-05T00:00:00",
          "2025-01-06T00:00:00",
          "2025-01-07T00:00:00",
          "2025-01-08T00:00:00",
          "2025-01-09T00:00:00",
          "2025-01-10T00:00:00",
          "2025-01-11T00:00:00",
          "2025-01-12T00:00:00",
          "2025-01-13T00:00:00",
          "2025-01-14T00:00:00",
          "2025-01-15T00:00:00",
          "2025-01-16T00:00:00",
          "2025-01-17T00:00:00",
          "2025-01-18T00:00:00",
          "2025-01-19T00:00:00",
          "2025-01-20T00:00:00",
          "2025-01-21T00:00:00",
          "2025-01-22T00:00:00",
          "2025-01-23T00:00:00",
          "2025-01-24T00:00:00",
          "2025-01-25T00:00:00",
          "2025-01-26T00:00:00",
          "2025-01-27T00:00:00",
          "2025-01-28T00:00:00",
          "2025-01-29T00:00:00",
          "2025-01-30T00:00:00",
          "2025-01-31T00:00:00",
          "2025-02-01T00:00:00",
          "2025-02-02T00:00:00",
          "2025-02-03T00:00:00",
          "2025-02-04T00:00:00",
          "2025-02-05T00:00:00",
          "2025-02-06T00:00:00",
          "2025-02-07T00:00:00",
          "2025-02-08T00:00:00",
          "2025-02-09T00:00:00",
          "2025-02-10T00:00:00",
          "2025-02-11T00:00:00",
          "2025-02-12T00:00:00",
          "2025-02-13T00:00:00",
          "2025-02-14T00:00:00",
          "2025-02-15T00:00:00",
          "2025-02-16T00:00:00",
          "2025-02-17T00:00:00",
          "2025-02-18T00:00:00",
          "2025-02-19T00:00:00",
          "2025-02-20T00:00:00",
          "2025-02-21T00:00:00",
          "2025-02-22T00:00:00",
          "2025-02-23T00:00:00",
          "2025-02-24T00:00:00",
          "2025-02-25T00:00:00",
          "2025-02-26T00:00:00",
          "2025-02-27T00:00:00",
          "2025-02-28T00:00:00",
          "2025-03-01T00:00:00",
          "2025-03-02T00:00:00",
          "2025-03-03T00:00:00",
          "2025-03-04T00:00:00",
          "2025-03-05T00:00:00",
          "2025-03-06T00:00:00",
          "2025-03-07T00:00:00",
          "2025-03-08T00:00:00",
          "2025-03-09T00:00:00",
          "2025-03-10T00:00:00",
          "2025-03-11T00:00:00",
          "2025-03-12T00:00:00",
          "2025-03-13T00:00:00",
          "2025-03-14T00:00:00",
          "2025-03-15T00:00:00",
          "2025-03-16T00:00:00",
          "2025-03-17T00:00:00",
          "2025-03-18T00:00:00",
          "2025-03-19T00:00:00",
          "2025-03-20T00:00:00",
          "2025-03-21T00:00:00",
          "2025-03-22T00:00:00",
          "2025-03-23T00:00:00",
          "2025-03-24T00:00:00",
          "2025-03-25T00:00:00",
          "2025-03-26T00:00:00",
          "2025-03-27T00:00:00",
          "2025-03-28T00:00:00",
          "2025-03-29T00:00:00",
          "2025-03-30T00:00:00",
          "2025-03-31T00:00:00",
          "2025-04-01T00:00:00",
          "2025-04-02T00:00:00",
          "2025-04-03T00:00:00",
          "2025-04-04T00:00:00",
          "2025-04-05T00:00:00",
          "2025-04-06T00:00:00",
          "2025-04-07T00:00:00",
          "2025-04-08T00:00:00",
          "2025-04-09T00:00:00",
          "2025-04-10T00:00:00",
          "2025-04-11T00:00:00",
          "2025-04-12T00:00:00",
          "2025-04-13T00:00:00",
          "2025-04-14T00:00:00",
          "2025-04-15T00:00:00",
          "2025-04-16T00:00:00",
          "2025-04-17T00:00:00",
          "2025-04-18T00:00:00",
          "2025-04-19T00:00:00",
          "2025-04-20T00:00:00",
          "2025-04-21T00:00:00",
          "2025-04-22T00:00:00",
          "2025-04-23T00:00:00",
          "2025-04-24T00:00:00",
          "2025-04-25T00:00:00",
          "2025-04-26T00:00:00",
          "2025-04-27T00:00:00",
          "2025-04-28T00:00:00",
          "2025-04-29T00:00:00",
          "2025-04-30T00:00:00",
          "2025-05-01T00:00:00",
          "2025-05-02T00:00:00",
          "2025-05-03T00:00:00",
          "2025-05-04T00:00:00",
          "2025-05-05T00:00:00",
          "2025-05-06T00:00:00",
          "2025-05-07T00:00:00",
          "2025-05-08T00:00:00",
          "2025-05-09T00:00:00",
          "2025-05-10T00:00:00",
          "2025-05-11T00:00:00",
          "2025-05-12T00:00:00",
          "2025-05-13T00:00:00",
          "2025-05-14T00:00:00",
          "2025-05-15T00:00:00",
          "2025-05-16T00:00:00",
          "2025-05-17T00:00:00",
          "2025-05-18T00:00:00",
          "2025-05-19T00:00:00",
          "2025-05-20T00:00:00",
          "2025-05-21T00:00:00",
          "2025-05-22T00:00:00",
          "2025-05-23T00:00:00",
          "2025-05-24T00:00:00",
          "2025-05-25T00:00:00",
          "2025-05-26T00:00:00",
          "2025-05-27T00:00:00",
          "2025-05-28T00:00:00",
          "2025-05-29T00:00:00",
          "2025-05-30T00:00:00",
          "2025-05-31T00:00:00",
          "2025-06-01T00:00:00",
          "2025-06-02T00:00:00",
          "2025-06-03T00:00:00",
          "2025-06-04T00:00:00",
          "2025-06-05T00:00:00",
          "2025-06-06T00:00:00",
          "2025-06-07T00:00:00",
          "2025-06-08T00:00:00",
          "2025-06-09T00:00:00",
          "2025-06-10T00:00:00",
          "2025-06-11T00:00:00",
          "2025-06-12T00:00:00",
          "2025-06-13T00:00:00",
          "2025-06-14T00:00:00",
          "2025-06-15T00:00:00",
          "2025-06-16T00:00:00",
          "2025-06-17T00:00:00",
          "2025-06-18T00:00:00",
          "2025-06-19T00:00:00",
          "2025-06-20T00:00:00",
          "2025-06-21T00:00:00",
          "2025-06-22T00:00:00",
          "2025-06-23T00:00:00",
          "2025-06-24T00:00:00",
          "2025-06-25T00:00:00",
          "2025-06-26T00:00:00",
          "2025-06-27T00:00:00",
          "2025-06-28T00:00:00",
          "2025-06-29T00:00:00",
          "2025-06-30T00:00:00",
          "2025-07-01T00:00:00",
          "2025-07-02T00:00:00",
          "2025-07-03T00:00:00",
          "2025-07-04T00:00:00",
          "2025-07-05T00:00:00",
          "2025-07-06T00:00:00",
          "2025-07-07T00:00:00",
          "2025-07-08T00:00:00",
          "2025-07-09T00:00:00",
          "2025-07-10T00:00:00",
          "2025-07-11T00:00:00",
          "2025-07-12T00:00:00",
          "2025-07-13T00:00:00",
          "2025-07-14T00:00:00",
          "2025-07-15T00:00:00",
          "2025-07-16T00:00:00",
          "2025-07-17T00:00:00",
          "2025-07-18T00:00:00",
          "2025-07-19T00:00:00",
          "2025-07-20T00:00:00",
          "2025-07-21T00:00:00",
          "2025-07-22T00:00:00",
          "2025-07-23T00:00:00",
          "2025-07-24T00:00:00",
          "2025-07-25T00:00:00",
          "2025-07-26T00:00:00",
          "2025-07-27T00:00:00",
          "2025-07-28T00:00:00",
          "2025-07-29T00:00:00",
          "2025-07-30T00:00:00",
          "2025-07-31T00:00:00",
          "2025-08-01T00:00:00",
          "2025-08-02T00:00:00",
          "2025-08-03T00:00:00",
          "2025-08-04T00:00:00",
          "2025-08-05T00:00:00",
          "2025-08-06T00:00:00",
          "2025-08-07T00:00:00",
          "2025-08-08T00:00:00",
          "2025-08-09T00:00:00",
          "2025-08-10T00:00:00",
          "2025-08-11T00:00:00",
          "2025-08-12T00:00:00",
          "2025-08-13T00:00:00",
          "2025-08-14T00:00:00",
          "2025-08-15T00:00:00",
          "2025-08-16T00:00:00",
          "2025-08-17T00:00:00",
          "2025-08-18T00:00:00",
          "2025-08-19T00:00:00",
          "2025-08-20T00:00:00",
          "2025-08-21T00:00:00",
          "2025-08-22T00:00:00",
          "2025-08-23T00:00:00",
          "2025-08-24T00:00:00",
          "2025-08-25T00:00:00",
          "2025-08-26T00:00:00",
          "2025-08-27T00:00:00",
          "2025-08-28T00:00:00",
          "2025-08-29T00:00:00",
          "2025-08-30T00:00:00",
          "2025-08-31T00:00:00",
          "2025-09-01T00:00:00",
          "2025-09-02T00:00:00",
          "2025-09-03T00:00:00",
          "2025-09-04T00:00:00",
          "2025-09-05T00:00:00",
          "2025-09-06T00:00:00",
          "2025-09-07T00:00:00",
          "2025-09-08T00:00:00",
          "2025-09-09T00:00:00",
          "2025-09-10T00:00:00",
          "2025-09-11T00:00:00",
          "2025-09-12T00:00:00",
          "2025-09-13T00:00:00",
          "2025-09-14T00:00:00",
          "2025-09-15T00:00:00",
          "2025-09-16T00:00:00",
          "2025-09-17T00:00:00",
          "2025-09-18T00:00:00",
          "2025-09-19T00:00:00",
          "2025-09-20T00:00:00",
          "2025-09-21T00:00:00",
          "2025-09-22T00:00:00",
          "2025-09-23T00:00:00",
          "2025-09-24T00:00:00",
          "2025-09-25T00:00:00",
          "2025-09-26T00:00:00",
          "2025-09-27T00:00:00",
          "2025-09-28T00:00:00",
          "2025-09-29T00:00:00",
          "2025-09-30T00:00:00",
          "2025-10-01T00:00:00",
          "2025-10-02T00:00:00",
          "2025-10-03T00:00:00",
          "2025-10-04T00:00:00",
          "2025-10-05T00:00:00",
          "2025-10-06T00:00:00",
          "2025-10-07T00:00:00",
          "2025-10-08T00:00:00",
          "2025-10-09T00:00:00",
          "2025-10-10T00:00:00",
          "2025-10-11T00:00:00",
          "2025-10-12T00:00:00",
          "2025-10-13T00:00:00",
          "2025-10-14T00:00:00",
          "2025-10-15T00:00:00",
          "2025-10-16T00:00:00",
          "2025-10-17T00:00:00",
          "2025-10-18T00:00:00",
          "2025-10-19T00:00:00",
          "2025-10-20T00:00:00",
          "2025-10-21T00:00:00",
          "2025-10-22T00:00:00",
          "2025-10-23T00:00:00",
          "2025-10-24T00:00:00"
         ],
         "xaxis": "x",
         "y": [
          -247.22626989875846,
          -223.72293106729614,
          -240.96943860418872,
          -155.27022118338272,
          -138.75110062013994,
          -143.1950450129715,
          -152.67867253684256,
          -220.63312125364277,
          -285.79874145268167,
          -291.89872141984324,
          -297.5095601120652,
          -220.46112808111477,
          -235.38064783156196,
          -201.00487161148726,
          -216.1382431858993,
          -222.81788198838063,
          -254.25286925982283,
          -226.5635288153318,
          -181.59415330131603,
          -155.30445165934728,
          -144.54517453191994,
          -20.969732551513445,
          -42.08586937145293,
          -47.0618059885453,
          -61.972244691641265,
          -55.022697636110465,
          -59.5945370664067,
          -22.575153858345573,
          -64.95207484437239,
          -80.57318925486503,
          -129.54220291494946,
          -112.74577910252185,
          -217.9437227277138,
          -200.94145436501682,
          -78.93887124731728,
          -100.75195971720659,
          -38.54664193172198,
          -33.73795124015405,
          -103.58313548970345,
          -103.36798459428519,
          -134.32858537778247,
          -172.14900527959006,
          -233.5658069053676,
          -174.08197262269914,
          43.62395077673726,
          63.58663294144216,
          57.11659950441221,
          102.66773647750162,
          191.53332496256127,
          350.0108435810643,
          296.8906860829817,
          241.1358481882416,
          332.8212961115928,
          756.2248695149492,
          832.4355415414167,
          1613.1103812484737,
          1439.5070749658612,
          1459.7379464900669,
          1425.5165992785426,
          1496.3973855301647,
          1555.9354839649518,
          1540.351327974993,
          1527.2855960981917,
          1357.044777069809,
          1402.2713930174666,
          1448.2056682465563,
          1417.6013124570675,
          1459.3838432698885,
          1521.8613503033098,
          1509.0627471767707,
          1539.8871087797575,
          1927.4587855000614,
          1851.0765794399945,
          2112.2096646424175,
          2102.51224117838,
          2085.0811723577453,
          2196.394265044798,
          1677.9869709075456,
          1847.210195246646,
          2110.9768477871157,
          1976.8823609364608,
          1991.4699926594053,
          1924.7038279314768,
          2008.406353993817,
          2013.9793161871087,
          2010.9230428210774,
          1794.7092608322776,
          1705.808956436962,
          1667.031954338887,
          1516.590897221012,
          1502.0477617865495,
          1607.7144322991319,
          1726.700009703876,
          1714.311684368122,
          1549.156910944144,
          1537.6595752482515,
          1590.203853036171,
          1511.6739488145909,
          1397.782540282825,
          1567.8022867024388,
          1593.4564603073156,
          1712.3580268561805,
          1813.409269416186,
          1860.5437551851169,
          1813.66405614595,
          1956.6315017165462,
          1670.973652613908,
          1694.4353013902662,
          1524.1286745900081,
          1637.3191648989382,
          1583.0556694407524,
          1512.0372737241335,
          1504.5450003265876,
          1478.7935806012297,
          1696.1922318800002,
          1636.5926937188954,
          1761.3397876814106,
          1745.436248884881,
          1546.0918984007046,
          1550.8199425290659,
          1644.5467587923363,
          1632.5285373409597,
          1618.9489682927774,
          1554.468086684692,
          1814.905380204645,
          2057.0283656638826,
          2008.992913839463,
          1866.9846288152733,
          1978.084546843784,
          2565.4053692894,
          2401.8726067399007,
          2243.3357134046023,
          1994.3530490139733,
          2588.595628097075,
          2361.0548689964326,
          2321.148699551832,
          2317.9070770795684,
          2399.151348581526,
          2345.0762736875213,
          2489.5726061417695,
          2473.7236403136926,
          2309.518177266932,
          2349.7134856731964,
          2335.829988213784,
          2927.93438610612,
          3149.5791666889213,
          3054.8960045438703,
          2947.3389539762015,
          3083.1983765470222,
          3104.383049066238,
          3339.085791176135,
          3069.5815473598964,
          3410.670742437718,
          3520.9590125742598,
          3147.425525087138,
          3001.9205332406523,
          2636.784342688956,
          2786.744041509186,
          2850.7204923665795,
          2875.4293651100816,
          3093.2230427929276,
          2656.4476784414064,
          2678.081669118584,
          2694.1443876502367,
          2542.0371239723395,
          2378.260169753912,
          2352.4581770889295,
          2063.6504122917645,
          2056.5810423205235,
          2127.460820760367,
          2240.7663104197127,
          2102.983062677764,
          2131.936606739629,
          2324.1324401379816,
          2331.3819989278027,
          2475.249384812401,
          2477.143385730565,
          2490.9618877897756,
          2301.4710395328275,
          2089.949950933757,
          2125.6802599586854,
          2234.887346968404,
          2457.452111805464,
          2454.4703785384,
          2296.9698264244516,
          2279.0938511673658,
          2141.204216668371,
          2046.0683466702662,
          2065.6250632444644,
          2048.280090019928,
          2140.4731607601802,
          2051.9443648347806,
          2128.8508980032393,
          2083.2477433089143,
          2073.1190592867297,
          1714.398102757389,
          1978.2786721124376,
          1912.661896114055,
          2306.091892313014,
          2077.924011914928,
          2156.1854470994645,
          2166.6206457385833,
          -306.7273395522966,
          -488.433491445164,
          -437.0789061920517,
          -468.7243145886405,
          -484.5146392788141,
          -496.907607752739,
          -476.91974630452336,
          -513.0926383409969,
          -515.8918013367297,
          -395.9850513929799,
          -366.5654228089759,
          -374.27335467201544,
          -360.30439183178555,
          -352.4533283278413,
          -373.86577922470104,
          -365.49460368391533,
          -398.91476775360854,
          -399.3242520361767,
          -377.69113052209485,
          -397.50233993293404,
          -420.7210850096977,
          -459.9438071350994,
          -450.9181930069139,
          -438.50503574751997,
          -445.1860544995898,
          -289.28926699187673,
          -253.113027485321,
          -147.21093752189267,
          -201.18131162176547,
          -185.8044360138239,
          -136.79011811309243,
          -182.5634456236934,
          -230.671910978317,
          -245.81650380605691,
          -271.7572068728922,
          -198.64117712827527,
          -225.54210268950322,
          -207.725052662181,
          -160.62353907120928,
          -99.11235169369782,
          -204.04871588555784,
          -185.59042935763784,
          -175.92431408732403,
          -181.28453357848633,
          -169.72496054817927,
          -194.48648177236393,
          -243.44095985267765,
          -342.64157720907696,
          -328.91641282621333,
          -308.5356202251312,
          -300.3917542908018,
          -313.8313555969145,
          -334.41022617397425,
          -418.9951159720462,
          -373.1524349970315,
          -341.070921220321,
          -342.128914517676,
          -257.87255821616645,
          -227.07749387176372,
          -280.5964495168187,
          -357.67782106712644,
          -374.54693325967315,
          -394.47397442409124,
          -374.3133268215937,
          -368.2859318470047,
          -412.6848273316368,
          -403.89291819136747,
          -413.2359807682635,
          -458.57469177516134,
          -501.2927296328275,
          -538.9595879198573,
          -425.82604180466865,
          -404.25499752224795,
          -411.27714084640354,
          -434.7534966953671,
          -421.9314212682208,
          -396.20933059714235,
          -365.3819353941393,
          -386.665227285342,
          -430.92501393402773,
          -369.96249842014765,
          -357.4858762313121,
          -402.19228444106,
          -402.2424578830161,
          -373.76667056364965,
          -393.08657788388757,
          -376.9687287412362,
          -322.1458837160394,
          -230.65889902175172,
          -210.38716895720006,
          -219.40532038587028,
          -176.99366945763276,
          -160.6254821933128,
          -159.31646201153495,
          -111.97231708056839,
          -86.91670909040502,
          -95.84148894658769,
          -89.14561335633873,
          6.79611668193283,
          23.47045480202985,
          65.36216054937765,
          -34.22374653779076,
          -59.393167827221134,
          -44.781856230613386,
          -39.85770434992108,
          -4.733877934054647,
          -57.50687769576081,
          -61.242070496196476,
          -81.55719108584628,
          -131.32515871668699,
          -193.80999798964842,
          -217.46999530088124,
          -172.64077678523955,
          -122.20068612145482,
          -163.22074048926686,
          -126.80735165111045,
          -58.368084331219336,
          -6.12591688641794,
          22.49329443587922,
          51.07345032338759,
          24.94739253423475,
          131.35887391499963,
          196.3991487298279,
          79.45432985002086,
          45.665627973538164,
          55.081712710201714,
          61.268116990453564,
          9.856280582858034,
          -64.16988011081983,
          3.585922269503328,
          -47.08579317715947,
          358.0964957079987,
          340.4177604321496,
          319.64913629216954,
          198.37779175346665,
          260.46403887347566,
          254.47937257760265,
          288.9900264115006,
          208.30927526265268,
          212.94054077177168,
          148.02316499202888,
          138.8945314288918,
          160.7018201602078,
          172.21543553743496,
          141.80942827173087,
          133.93924043942988,
          74.36494726928782,
          138.46869464238674,
          148.89831890757176,
          156.4126302699819,
          188.48252437696183,
          226.81259144335388,
          254.97043617990573,
          245.75982838724178,
          233.24137711623973,
          0,
          223.3992149901999,
          225.24826643859575,
          255.0543244820318,
          217.24872112746385,
          227.62453245950786,
          209.1722188157608,
          163.84909743653577,
          143.44259687360093,
          161.16682528628283,
          99.24642558564582,
          128.8063363883359,
          129.661783537805,
          144.0411017763018,
          162.34929182369888,
          235.10295916170898,
          237.61616403649074,
          263.5485758769138,
          282.97537501180665,
          279.8113131570236,
          294.1478131727207,
          321.6952404835607,
          258.82071884276866,
          291.6381526360837,
          260.7046089875227,
          93.77632076089277,
          53.4937205157736,
          127.12843903196077,
          144.09975724770072,
          101.35968851664181,
          80.19037363634565,
          37.107836175529755,
          0.5285123788306549,
          17.000502269217662,
          50.68798838366277,
          77.47055796580774,
          46.102866684806685,
          36.15528497817378,
          53.371891700022715,
          44.567696188598774
         ],
         "yaxis": "y"
        }
       ],
       "layout": {
        "font": {
         "color": "white"
        },
        "height": 400,
        "legend": {
         "title": {
          "text": "variable"
         },
         "tracegroupgap": 0
        },
        "paper_bgcolor": "black",
        "plot_bgcolor": "black",
        "template": {
         "data": {
          "bar": [
           {
            "error_x": {
             "color": "#2a3f5f"
            },
            "error_y": {
             "color": "#2a3f5f"
            },
            "marker": {
             "line": {
              "color": "#E5ECF6",
              "width": 0.5
             },
             "pattern": {
              "fillmode": "overlay",
              "size": 10,
              "solidity": 0.2
             }
            },
            "type": "bar"
           }
          ],
          "barpolar": [
           {
            "marker": {
             "line": {
              "color": "#E5ECF6",
              "width": 0.5
             },
             "pattern": {
              "fillmode": "overlay",
              "size": 10,
              "solidity": 0.2
             }
            },
            "type": "barpolar"
           }
          ],
          "carpet": [
           {
            "aaxis": {
             "endlinecolor": "#2a3f5f",
             "gridcolor": "white",
             "linecolor": "white",
             "minorgridcolor": "white",
             "startlinecolor": "#2a3f5f"
            },
            "baxis": {
             "endlinecolor": "#2a3f5f",
             "gridcolor": "white",
             "linecolor": "white",
             "minorgridcolor": "white",
             "startlinecolor": "#2a3f5f"
            },
            "type": "carpet"
           }
          ],
          "choropleth": [
           {
            "colorbar": {
             "outlinewidth": 0,
             "ticks": ""
            },
            "type": "choropleth"
           }
          ],
          "contour": [
           {
            "colorbar": {
             "outlinewidth": 0,
             "ticks": ""
            },
            "colorscale": [
             [
              0,
              "#0d0887"
             ],
             [
              0.1111111111111111,
              "#46039f"
             ],
             [
              0.2222222222222222,
              "#7201a8"
             ],
             [
              0.3333333333333333,
              "#9c179e"
             ],
             [
              0.4444444444444444,
              "#bd3786"
             ],
             [
              0.5555555555555556,
              "#d8576b"
             ],
             [
              0.6666666666666666,
              "#ed7953"
             ],
             [
              0.7777777777777778,
              "#fb9f3a"
             ],
             [
              0.8888888888888888,
              "#fdca26"
             ],
             [
              1,
              "#f0f921"
             ]
            ],
            "type": "contour"
           }
          ],
          "contourcarpet": [
           {
            "colorbar": {
             "outlinewidth": 0,
             "ticks": ""
            },
            "type": "contourcarpet"
           }
          ],
          "heatmap": [
           {
            "colorbar": {
             "outlinewidth": 0,
             "ticks": ""
            },
            "colorscale": [
             [
              0,
              "#0d0887"
             ],
             [
              0.1111111111111111,
              "#46039f"
             ],
             [
              0.2222222222222222,
              "#7201a8"
             ],
             [
              0.3333333333333333,
              "#9c179e"
             ],
             [
              0.4444444444444444,
              "#bd3786"
             ],
             [
              0.5555555555555556,
              "#d8576b"
             ],
             [
              0.6666666666666666,
              "#ed7953"
             ],
             [
              0.7777777777777778,
              "#fb9f3a"
             ],
             [
              0.8888888888888888,
              "#fdca26"
             ],
             [
              1,
              "#f0f921"
             ]
            ],
            "type": "heatmap"
           }
          ],
          "heatmapgl": [
           {
            "colorbar": {
             "outlinewidth": 0,
             "ticks": ""
            },
            "colorscale": [
             [
              0,
              "#0d0887"
             ],
             [
              0.1111111111111111,
              "#46039f"
             ],
             [
              0.2222222222222222,
              "#7201a8"
             ],
             [
              0.3333333333333333,
              "#9c179e"
             ],
             [
              0.4444444444444444,
              "#bd3786"
             ],
             [
              0.5555555555555556,
              "#d8576b"
             ],
             [
              0.6666666666666666,
              "#ed7953"
             ],
             [
              0.7777777777777778,
              "#fb9f3a"
             ],
             [
              0.8888888888888888,
              "#fdca26"
             ],
             [
              1,
              "#f0f921"
             ]
            ],
            "type": "heatmapgl"
           }
          ],
          "histogram": [
           {
            "marker": {
             "pattern": {
              "fillmode": "overlay",
              "size": 10,
              "solidity": 0.2
             }
            },
            "type": "histogram"
           }
          ],
          "histogram2d": [
           {
            "colorbar": {
             "outlinewidth": 0,
             "ticks": ""
            },
            "colorscale": [
             [
              0,
              "#0d0887"
             ],
             [
              0.1111111111111111,
              "#46039f"
             ],
             [
              0.2222222222222222,
              "#7201a8"
             ],
             [
              0.3333333333333333,
              "#9c179e"
             ],
             [
              0.4444444444444444,
              "#bd3786"
             ],
             [
              0.5555555555555556,
              "#d8576b"
             ],
             [
              0.6666666666666666,
              "#ed7953"
             ],
             [
              0.7777777777777778,
              "#fb9f3a"
             ],
             [
              0.8888888888888888,
              "#fdca26"
             ],
             [
              1,
              "#f0f921"
             ]
            ],
            "type": "histogram2d"
           }
          ],
          "histogram2dcontour": [
           {
            "colorbar": {
             "outlinewidth": 0,
             "ticks": ""
            },
            "colorscale": [
             [
              0,
              "#0d0887"
             ],
             [
              0.1111111111111111,
              "#46039f"
             ],
             [
              0.2222222222222222,
              "#7201a8"
             ],
             [
              0.3333333333333333,
              "#9c179e"
             ],
             [
              0.4444444444444444,
              "#bd3786"
             ],
             [
              0.5555555555555556,
              "#d8576b"
             ],
             [
              0.6666666666666666,
              "#ed7953"
             ],
             [
              0.7777777777777778,
              "#fb9f3a"
             ],
             [
              0.8888888888888888,
              "#fdca26"
             ],
             [
              1,
              "#f0f921"
             ]
            ],
            "type": "histogram2dcontour"
           }
          ],
          "mesh3d": [
           {
            "colorbar": {
             "outlinewidth": 0,
             "ticks": ""
            },
            "type": "mesh3d"
           }
          ],
          "parcoords": [
           {
            "line": {
             "colorbar": {
              "outlinewidth": 0,
              "ticks": ""
             }
            },
            "type": "parcoords"
           }
          ],
          "pie": [
           {
            "automargin": true,
            "type": "pie"
           }
          ],
          "scatter": [
           {
            "fillpattern": {
             "fillmode": "overlay",
             "size": 10,
             "solidity": 0.2
            },
            "type": "scatter"
           }
          ],
          "scatter3d": [
           {
            "line": {
             "colorbar": {
              "outlinewidth": 0,
              "ticks": ""
             }
            },
            "marker": {
             "colorbar": {
              "outlinewidth": 0,
              "ticks": ""
             }
            },
            "type": "scatter3d"
           }
          ],
          "scattercarpet": [
           {
            "marker": {
             "colorbar": {
              "outlinewidth": 0,
              "ticks": ""
             }
            },
            "type": "scattercarpet"
           }
          ],
          "scattergeo": [
           {
            "marker": {
             "colorbar": {
              "outlinewidth": 0,
              "ticks": ""
             }
            },
            "type": "scattergeo"
           }
          ],
          "scattergl": [
           {
            "marker": {
             "colorbar": {
              "outlinewidth": 0,
              "ticks": ""
             }
            },
            "type": "scattergl"
           }
          ],
          "scattermapbox": [
           {
            "marker": {
             "colorbar": {
              "outlinewidth": 0,
              "ticks": ""
             }
            },
            "type": "scattermapbox"
           }
          ],
          "scatterpolar": [
           {
            "marker": {
             "colorbar": {
              "outlinewidth": 0,
              "ticks": ""
             }
            },
            "type": "scatterpolar"
           }
          ],
          "scatterpolargl": [
           {
            "marker": {
             "colorbar": {
              "outlinewidth": 0,
              "ticks": ""
             }
            },
            "type": "scatterpolargl"
           }
          ],
          "scatterternary": [
           {
            "marker": {
             "colorbar": {
              "outlinewidth": 0,
              "ticks": ""
             }
            },
            "type": "scatterternary"
           }
          ],
          "surface": [
           {
            "colorbar": {
             "outlinewidth": 0,
             "ticks": ""
            },
            "colorscale": [
             [
              0,
              "#0d0887"
             ],
             [
              0.1111111111111111,
              "#46039f"
             ],
             [
              0.2222222222222222,
              "#7201a8"
             ],
             [
              0.3333333333333333,
              "#9c179e"
             ],
             [
              0.4444444444444444,
              "#bd3786"
             ],
             [
              0.5555555555555556,
              "#d8576b"
             ],
             [
              0.6666666666666666,
              "#ed7953"
             ],
             [
              0.7777777777777778,
              "#fb9f3a"
             ],
             [
              0.8888888888888888,
              "#fdca26"
             ],
             [
              1,
              "#f0f921"
             ]
            ],
            "type": "surface"
           }
          ],
          "table": [
           {
            "cells": {
             "fill": {
              "color": "#EBF0F8"
             },
             "line": {
              "color": "white"
             }
            },
            "header": {
             "fill": {
              "color": "#C8D4E3"
             },
             "line": {
              "color": "white"
             }
            },
            "type": "table"
           }
          ]
         },
         "layout": {
          "annotationdefaults": {
           "arrowcolor": "#2a3f5f",
           "arrowhead": 0,
           "arrowwidth": 1
          },
          "autotypenumbers": "strict",
          "coloraxis": {
           "colorbar": {
            "outlinewidth": 0,
            "ticks": ""
           }
          },
          "colorscale": {
           "diverging": [
            [
             0,
             "#8e0152"
            ],
            [
             0.1,
             "#c51b7d"
            ],
            [
             0.2,
             "#de77ae"
            ],
            [
             0.3,
             "#f1b6da"
            ],
            [
             0.4,
             "#fde0ef"
            ],
            [
             0.5,
             "#f7f7f7"
            ],
            [
             0.6,
             "#e6f5d0"
            ],
            [
             0.7,
             "#b8e186"
            ],
            [
             0.8,
             "#7fbc41"
            ],
            [
             0.9,
             "#4d9221"
            ],
            [
             1,
             "#276419"
            ]
           ],
           "sequential": [
            [
             0,
             "#0d0887"
            ],
            [
             0.1111111111111111,
             "#46039f"
            ],
            [
             0.2222222222222222,
             "#7201a8"
            ],
            [
             0.3333333333333333,
             "#9c179e"
            ],
            [
             0.4444444444444444,
             "#bd3786"
            ],
            [
             0.5555555555555556,
             "#d8576b"
            ],
            [
             0.6666666666666666,
             "#ed7953"
            ],
            [
             0.7777777777777778,
             "#fb9f3a"
            ],
            [
             0.8888888888888888,
             "#fdca26"
            ],
            [
             1,
             "#f0f921"
            ]
           ],
           "sequentialminus": [
            [
             0,
             "#0d0887"
            ],
            [
             0.1111111111111111,
             "#46039f"
            ],
            [
             0.2222222222222222,
             "#7201a8"
            ],
            [
             0.3333333333333333,
             "#9c179e"
            ],
            [
             0.4444444444444444,
             "#bd3786"
            ],
            [
             0.5555555555555556,
             "#d8576b"
            ],
            [
             0.6666666666666666,
             "#ed7953"
            ],
            [
             0.7777777777777778,
             "#fb9f3a"
            ],
            [
             0.8888888888888888,
             "#fdca26"
            ],
            [
             1,
             "#f0f921"
            ]
           ]
          },
          "colorway": [
           "#636efa",
           "#EF553B",
           "#00cc96",
           "#ab63fa",
           "#FFA15A",
           "#19d3f3",
           "#FF6692",
           "#B6E880",
           "#FF97FF",
           "#FECB52"
          ],
          "font": {
           "color": "#2a3f5f"
          },
          "geo": {
           "bgcolor": "white",
           "lakecolor": "white",
           "landcolor": "#E5ECF6",
           "showlakes": true,
           "showland": true,
           "subunitcolor": "white"
          },
          "hoverlabel": {
           "align": "left"
          },
          "hovermode": "closest",
          "mapbox": {
           "style": "light"
          },
          "paper_bgcolor": "white",
          "plot_bgcolor": "#E5ECF6",
          "polar": {
           "angularaxis": {
            "gridcolor": "white",
            "linecolor": "white",
            "ticks": ""
           },
           "bgcolor": "#E5ECF6",
           "radialaxis": {
            "gridcolor": "white",
            "linecolor": "white",
            "ticks": ""
           }
          },
          "scene": {
           "xaxis": {
            "backgroundcolor": "#E5ECF6",
            "gridcolor": "white",
            "gridwidth": 2,
            "linecolor": "white",
            "showbackground": true,
            "ticks": "",
            "zerolinecolor": "white"
           },
           "yaxis": {
            "backgroundcolor": "#E5ECF6",
            "gridcolor": "white",
            "gridwidth": 2,
            "linecolor": "white",
            "showbackground": true,
            "ticks": "",
            "zerolinecolor": "white"
           },
           "zaxis": {
            "backgroundcolor": "#E5ECF6",
            "gridcolor": "white",
            "gridwidth": 2,
            "linecolor": "white",
            "showbackground": true,
            "ticks": "",
            "zerolinecolor": "white"
           }
          },
          "shapedefaults": {
           "line": {
            "color": "#2a3f5f"
           }
          },
          "ternary": {
           "aaxis": {
            "gridcolor": "white",
            "linecolor": "white",
            "ticks": ""
           },
           "baxis": {
            "gridcolor": "white",
            "linecolor": "white",
            "ticks": ""
           },
           "bgcolor": "#E5ECF6",
           "caxis": {
            "gridcolor": "white",
            "linecolor": "white",
            "ticks": ""
           }
          },
          "title": {
           "x": 0.05
          },
          "xaxis": {
           "automargin": true,
           "gridcolor": "white",
           "linecolor": "white",
           "ticks": "",
           "title": {
            "standoff": 15
           },
           "zerolinecolor": "white",
           "zerolinewidth": 2
          },
          "yaxis": {
           "automargin": true,
           "gridcolor": "white",
           "linecolor": "white",
           "ticks": "",
           "title": {
            "standoff": 15
           },
           "zerolinecolor": "white",
           "zerolinewidth": 2
          }
         }
        },
        "title": {
         "text": "Portfolio Value"
        },
        "width": 800,
        "xaxis": {
         "anchor": "y",
         "domain": [
          0,
          1
         ],
         "title": {}
        },
        "yaxis": {
         "anchor": "x",
         "domain": [
          0,
          1
         ],
         "title": {}
        }
       }
      },
      "image/png": "[encoded data removed]",
      "text/html": [
       "<div>                            <div id=\"bb98451c-f9c0-452f-8f5a-80496fe9e705\" class=\"plotly-graph-div\" style=\"height:400px; width:800px;\"></div>            <script type=\"text/javascript\">                require([\"plotly\"], function(Plotly) {                    window.PLOTLYENV=window.PLOTLYENV || {};                                    if (document.getElementById(\"bb98451c-f9c0-452f-8f5a-80496fe9e705\")) {                    Plotly.newPlot(                        \"bb98451c-f9c0-452f-8f5a-80496fe9e705\",                        [{\"hovertemplate\":\"variable=Total\\u003cbr\\u003eindex=%{x}\\u003cbr\\u003evalue=%{y}\\u003cextra\\u003e\\u003c\\u002fextra\\u003e\",\"legendgroup\":\"Total\",\"line\":{\"color\":\"#636efa\",\"dash\":\"solid\"},\"marker\":{\"symbol\":\"circle\"},\"mode\":\"lines\",\"name\":\"Total\",\"orientation\":\"v\",\"showlegend\":true,\"x\":[\"2024-09-23T00:00:00\",\"2024-09-24T00:00:00\",\"2024-09-25T00:00:00\",\"2024-09-26T00:00:00\",\"2024-09-27T00:00:00\",\"2024-09-28T00:00:00\",\"2024-09-29T00:00:00\",\"2024-09-30T00:00:00\",\"2024-10-01T00:00:00\",\"2024-10-02T00:00:00\",\"2024-10-03T00:00:00\",\"2024-10-04T00:00:00\",\"2024-10-05T00:00:00\",\"2024-10-06T00:00:00\",\"2024-10-07T00:00:00\",\"2024-10-08T00:00:00\",\"2024-10-09T00:00:00\",\"2024-10-10T00:00:00\",\"2024-10-11T00:00:00\",\"2024-10-12T00:00:00\",\"2024-10-13T00:00:00\",\"2024-10-14T00:00:00\",\"2024-10-15T00:00:00\",\"2024-10-16T00:00:00\",\"2024-10-17T00:00:00\",\"2024-10-18T00:00:00\",\"2024-10-19T00:00:00\",\"2024-10-20T00:00:00\",\"2024-10-21T00:00:00\",\"2024-10-22T00:00:00\",\"2024-10-23T00:00:00\",\"2024-10-24T00:00:00\",\"2024-10-25T00:00:00\",\"2024-10-26T00:00:00\",\"2024-10-27T00:00:00\",\"2024-10-28T00:00:00\",\"2024-10-29T00:00:00\",\"2024-10-30T00:00:00\",\"2024-10-31T00:00:00\",\"2024-11-01T00:00:00\",\"2024-11-02T00:00:00\",\"2024-11-03T00:00:00\",\"2024-11-04T00:00:00\",\"2024-11-05T00:00:00\",\"2024-11-06T00:00:00\",\"2024-11-07T00:00:00\",\"2024-11-08T00:00:00\",\"2024-11-09T00:00:00\",\"2024-11-10T00:00:00\",\"2024-11-11T00:00:00\",\"2024-11-12T00:00:00\",\"2024-11-13T00:00:00\",\"2024-11-14T00:00:00\",\"2024-11-15T00:00:00\",\"2024-11-16T00:00:00\",\"2024-11-17T00:00:00\",\"2024-11-18T00:00:00\",\"2024-11-19T00:00:00\",\"2024-11-20T00:00:00\",\"2024-11-21T00:00:00\",\"2024-11-22T00:00:00\",\"2024-11-23T00:00:00\",\"2024-11-24T00:00:00\",\"2024-11-25T00:00:00\",\"2024-11-26T00:00:00\",\"2024-11-27T00:00:00\",\"2024-11-28T00:00:00\",\"2024-11-29T00:00:00\",\"2024-11-30T00:00:00\",\"2024-12-01T00:00:00\",\"2024-12-02T00:00:00\",\"2024-12-03T00:00:00\",\"2024-12-04T00:00:00\",\"2024-12-05T00:00:00\",\"2024-12-06T00:00:00\",\"2024-12-07T00:00:00\",\"2024-12-08T00:00:00\",\"2024-12-09T00:00:00\",\"2024-12-10T00:00:00\",\"2024-12-11T00:00:00\",\"2024-12-12T00:00:00\",\"2024-12-13T00:00:00\",\"2024-12-14T00:00:00\",\"2024-12-15T00:00:00\",\"2024-12-16T00:00:00\",\"2024-12-17T00:00:00\",\"2024-12-18T00:00:00\",\"2024-12-19T00:00:00\",\"2024-12-20T00:00:00\",\"2024-12-21T00:00:00\",\"2024-12-22T00:00:00\",\"2024-12-23T00:00:00\",\"2024-12-24T00:00:00\",\"2024-12-25T00:00:00\",\"2024-12-26T00:00:00\",\"2024-12-27T00:00:00\",\"2024-12-28T00:00:00\",\"2024-12-29T00:00:00\",\"2024-12-30T00:00:00\",\"2024-12-31T00:00:00\",\"2025-01-01T00:00:00\",\"2025-01-02T00:00:00\",\"2025-01-03T00:00:00\",\"2025-01-04T00:00:00\",\"2025-01-05T00:00:00\",\"2025-01-06T00:00:00\",\"2025-01-07T00:00:00\",\"2025-01-08T00:00:00\",\"2025-01-09T00:00:00\",\"2025-01-10T00:00:00\",\"2025-01-11T00:00:00\",\"2025-01-12T00:00:00\",\"2025-01-13T00:00:00\",\"2025-01-14T00:00:00\",\"2025-01-15T00:00:00\",\"2025-01-16T00:00:00\",\"2025-01-17T00:00:00\",\"2025-01-18T00:00:00\",\"2025-01-19T00:00:00\",\"2025-01-20T00:00:00\",\"2025-01-21T00:00:00\",\"2025-01-22T00:00:00\",\"2025-01-23T00:00:00\",\"2025-01-24T00:00:00\",\"2025-01-25T00:00:00\",\"2025-01-26T00:00:00\",\"2025-01-27T00:00:00\",\"2025-01-28T00:00:00\",\"2025-01-29T00:00:00\",\"2025-01-30T00:00:00\",\"2025-01-31T00:00:00\",\"2025-02-01T00:00:00\",\"2025-02-02T00:00:00\",\"2025-02-03T00:00:00\",\"2025-02-04T00:00:00\",\"2025-02-05T00:00:00\",\"2025-02-06T00:00:00\",\"2025-02-07T00:00:00\",\"2025-02-08T00:00:00\",\"2025-02-09T00:00:00\",\"2025-02-10T00:00:00\",\"2025-02-11T00:00:00\",\"2025-02-12T00:00:00\",\"2025-02-13T00:00:00\",\"2025-02-14T00:00:00\",\"2025-02-15T00:00:00\",\"2025-02-16T00:00:00\",\"2025-02-17T00:00:00\",\"2025-02-18T00:00:00\",\"2025-02-19T00:00:00\",\"2025-02-20T00:00:00\",\"2025-02-21T00:00:00\",\"2025-02-22T00:00:00\",\"2025-02-23T00:00:00\",\"2025-02-24T00:00:00\",\"2025-02-25T00:00:00\",\"2025-02-26T00:00:00\",\"2025-02-27T00:00:00\",\"2025-02-28T00:00:00\",\"2025-03-01T00:00:00\",\"2025-03-02T00:00:00\",\"2025-03-03T00:00:00\",\"2025-03-04T00:00:00\",\"2025-03-05T00:00:00\",\"2025-03-06T00:00:00\",\"2025-03-07T00:00:00\",\"2025-03-08T00:00:00\",\"2025-03-09T00:00:00\",\"2025-03-10T00:00:00\",\"2025-03-11T00:00:00\",\"2025-03-12T00:00:00\",\"2025-03-13T00:00:00\",\"2025-03-14T00:00:00\",\"2025-03-15T00:00:00\",\"2025-03-16T00:00:00\",\"2025-03-17T00:00:00\",\"2025-03-18T00:00:00\",\"2025-03-19T00:00:00\",\"2025-03-20T00:00:00\",\"2025-03-21T00:00:00\",\"2025-03-22T00:00:00\",\"2025-03-23T00:00:00\",\"2025-03-24T00:00:00\",\"2025-03-25T00:00:00\",\"2025-03-26T00:00:00\",\"2025-03-27T00:00:00\",\"2025-03-28T00:00:00\",\"2025-03-29T00:00:00\",\"2025-03-30T00:00:00\",\"2025-03-31T00:00:00\",\"2025-04-01T00:00:00\",\"2025-04-02T00:00:00\",\"2025-04-03T00:00:00\",\"2025-04-04T00:00:00\",\"2025-04-05T00:00:00\",\"2025-04-06T00:00:00\",\"2025-04-07T00:00:00\",\"2025-04-08T00:00:00\",\"2025-04-09T00:00:00\",\"2025-04-10T00:00:00\",\"2025-04-11T00:00:00\",\"2025-04-12T00:00:00\",\"2025-04-13T00:00:00\",\"2025-04-14T00:00:00\",\"2025-04-15T00:00:00\",\"2025-04-16T00:00:00\",\"2025-04-17T00:00:00\",\"2025-04-18T00:00:00\",\"2025-04-19T00:00:00\",\"2025-04-20T00:00:00\",\"2025-04-21T00:00:00\",\"2025-04-22T00:00:00\",\"2025-04-23T00:00:00\",\"2025-04-24T00:00:00\",\"2025-04-25T00:00:00\",\"2025-04-26T00:00:00\",\"2025-04-27T00:00:00\",\"2025-04-28T00:00:00\",\"2025-04-29T00:00:00\",\"2025-04-30T00:00:00\",\"2025-05-01T00:00:00\",\"2025-05-02T00:00:00\",\"2025-05-03T00:00:00\",\"2025-05-04T00:00:00\",\"2025-05-05T00:00:00\",\"2025-05-06T00:00:00\",\"2025-05-07T00:00:00\",\"2025-05-08T00:00:00\",\"2025-05-09T00:00:00\",\"2025-05-10T00:00:00\",\"2025-05-11T00:00:00\",\"2025-05-12T00:00:00\",\"2025-05-13T00:00:00\",\"2025-05-14T00:00:00\",\"2025-05-15T00:00:00\",\"2025-05-16T00:00:00\",\"2025-05-17T00:00:00\",\"2025-05-18T00:00:00\",\"2025-05-19T00:00:00\",\"2025-05-20T00:00:00\",\"2025-05-21T00:00:00\",\"2025-05-22T00:00:00\",\"2025-05-23T00:00:00\",\"2025-05-24T00:00:00\",\"2025-05-25T00:00:00\",\"2025-05-26T00:00:00\",\"2025-05-27T00:00:00\",\"2025-05-28T00:00:00\",\"2025-05-29T00:00:00\",\"2025-05-30T00:00:00\",\"2025-05-31T00:00:00\",\"2025-06-01T00:00:00\",\"2025-06-02T00:00:00\",\"2025-06-03T00:00:00\",\"2025-06-04T00:00:00\",\"2025-06-05T00:00:00\",\"2025-06-06T00:00:00\",\"2025-06-07T00:00:00\",\"2025-06-08T00:00:00\",\"2025-06-09T00:00:00\",\"2025-06-10T00:00:00\",\"2025-06-11T00:00:00\",\"2025-06-12T00:00:00\",\"2025-06-13T00:00:00\",\"2025-06-14T00:00:00\",\"2025-06-15T00:00:00\",\"2025-06-16T00:00:00\",\"2025-06-17T00:00:00\",\"2025-06-18T00:00:00\",\"2025-06-19T00:00:00\",\"2025-06-20T00:00:00\",\"2025-06-21T00:00:00\",\"2025-06-22T00:00:00\",\"2025-06-23T00:00:00\",\"2025-06-24T00:00:00\",\"2025-06-25T00:00:00\",\"2025-06-26T00:00:00\",\"2025-06-27T00:00:00\",\"2025-06-28T00:00:00\",\"2025-06-29T00:00:00\",\"2025-06-30T00:00:00\",\"2025-07-01T00:00:00\",\"2025-07-02T00:00:00\",\"2025-07-03T00:00:00\",\"2025-07-04T00:00:00\",\"2025-07-05T00:00:00\",\"2025-07-06T00:00:00\",\"2025-07-07T00:00:00\",\"2025-07-08T00:00:00\",\"2025-07-09T00:00:00\",\"2025-07-10T00:00:00\",\"2025-07-11T00:00:00\",\"2025-07-12T00:00:00\",\"2025-07-13T00:00:00\",\"2025-07-14T00:00:00\",\"2025-07-15T00:00:00\",\"2025-07-16T00:00:00\",\"2025-07-17T00:00:00\",\"2025-07-18T00:00:00\",\"2025-07-19T00:00:00\",\"2025-07-20T00:00:00\",\"2025-07-21T00:00:00\",\"2025-07-22T00:00:00\",\"2025-07-23T00:00:00\",\"2025-07-24T00:00:00\",\"2025-07-25T00:00:00\",\"2025-07-26T00:00:00\",\"2025-07-27T00:00:00\",\"2025-07-28T00:00:00\",\"2025-07-29T00:00:00\",\"2025-07-30T00:00:00\",\"2025-07-31T00:00:00\",\"2025-08-01T00:00:00\",\"2025-08-02T00:00:00\",\"2025-08-03T00:00:00\",\"2025-08-04T00:00:00\",\"2025-08-05T00:00:00\",\"2025-08-06T00:00:00\",\"2025-08-07T00:00:00\",\"2025-08-08T00:00:00\",\"2025-08-09T00:00:00\",\"2025-08-10T00:00:00\",\"2025-08-11T00:00:00\",\"2025-08-12T00:00:00\",\"2025-08-13T00:00:00\",\"2025-08-14T00:00:00\",\"2025-08-15T00:00:00\",\"2025-08-16T00:00:00\",\"2025-08-17T00:00:00\",\"2025-08-18T00:00:00\",\"2025-08-19T00:00:00\",\"2025-08-20T00:00:00\",\"2025-08-21T00:00:00\",\"2025-08-22T00:00:00\",\"2025-08-23T00:00:00\",\"2025-08-24T00:00:00\",\"2025-08-25T00:00:00\",\"2025-08-26T00:00:00\",\"2025-08-27T00:00:00\",\"2025-08-28T00:00:00\",\"2025-08-29T00:00:00\",\"2025-08-30T00:00:00\",\"2025-08-31T00:00:00\",\"2025-09-01T00:00:00\",\"2025-09-02T00:00:00\",\"2025-09-03T00:00:00\",\"2025-09-04T00:00:00\",\"2025-09-05T00:00:00\",\"2025-09-06T00:00:00\",\"2025-09-07T00:00:00\",\"2025-09-08T00:00:00\",\"2025-09-09T00:00:00\",\"2025-09-10T00:00:00\",\"2025-09-11T00:00:00\",\"2025-09-12T00:00:00\",\"2025-09-13T00:00:00\",\"2025-09-14T00:00:00\",\"2025-09-15T00:00:00\",\"2025-09-16T00:00:00\",\"2025-09-17T00:00:00\",\"2025-09-18T00:00:00\",\"2025-09-19T00:00:00\",\"2025-09-20T00:00:00\",\"2025-09-21T00:00:00\",\"2025-09-22T00:00:00\",\"2025-09-23T00:00:00\",\"2025-09-24T00:00:00\",\"2025-09-25T00:00:00\",\"2025-09-26T00:00:00\",\"2025-09-27T00:00:00\",\"2025-09-28T00:00:00\",\"2025-09-29T00:00:00\",\"2025-09-30T00:00:00\",\"2025-10-01T00:00:00\",\"2025-10-02T00:00:00\",\"2025-10-03T00:00:00\",\"2025-10-04T00:00:00\",\"2025-10-05T00:00:00\",\"2025-10-06T00:00:00\",\"2025-10-07T00:00:00\",\"2025-10-08T00:00:00\",\"2025-10-09T00:00:00\",\"2025-10-10T00:00:00\",\"2025-10-11T00:00:00\",\"2025-10-12T00:00:00\",\"2025-10-13T00:00:00\",\"2025-10-14T00:00:00\",\"2025-10-15T00:00:00\",\"2025-10-16T00:00:00\",\"2025-10-17T00:00:00\",\"2025-10-18T00:00:00\",\"2025-10-19T00:00:00\",\"2025-10-20T00:00:00\",\"2025-10-21T00:00:00\",\"2025-10-22T00:00:00\",\"2025-10-23T00:00:00\",\"2025-10-24T00:00:00\"],\"xaxis\":\"x\",\"y\":[-247.22626989875846,-223.72293106729614,-240.96943860418872,-155.27022118338272,-138.75110062013994,-143.1950450129715,-152.67867253684256,-220.63312125364277,-285.79874145268167,-291.89872141984324,-297.5095601120652,-220.46112808111477,-235.38064783156196,-201.00487161148726,-216.1382431858993,-222.81788198838063,-254.25286925982283,-226.5635288153318,-181.59415330131603,-155.30445165934728,-144.54517453191994,-20.969732551513445,-42.08586937145293,-47.0618059885453,-61.972244691641265,-55.022697636110465,-59.5945370664067,-22.575153858345573,-64.95207484437239,-80.57318925486503,-129.54220291494946,-112.74577910252185,-217.9437227277138,-200.94145436501682,-78.93887124731728,-100.75195971720659,-38.54664193172198,-33.73795124015405,-103.58313548970345,-103.36798459428519,-134.32858537778247,-172.14900527959006,-233.5658069053676,-174.08197262269914,43.62395077673726,63.58663294144216,57.11659950441221,102.66773647750162,191.53332496256127,350.0108435810643,296.8906860829817,241.1358481882416,332.8212961115928,756.2248695149492,832.4355415414167,1613.1103812484737,1439.5070749658612,1459.7379464900669,1425.5165992785426,1496.3973855301647,1555.9354839649518,1540.351327974993,1527.2855960981917,1357.044777069809,1402.2713930174666,1448.2056682465563,1417.6013124570675,1459.3838432698885,1521.8613503033098,1509.0627471767707,1539.8871087797575,1927.4587855000614,1851.0765794399945,2112.2096646424175,2102.51224117838,2085.0811723577453,2196.394265044798,1677.9869709075456,1847.210195246646,2110.9768477871157,1976.8823609364608,1991.4699926594053,1924.7038279314768,2008.406353993817,2013.9793161871087,2010.9230428210774,1794.7092608322776,1705.808956436962,1667.031954338887,1516.590897221012,1502.0477617865495,1607.7144322991319,1726.700009703876,1714.311684368122,1549.156910944144,1537.6595752482515,1590.203853036171,1511.6739488145909,1397.782540282825,1567.8022867024388,1593.4564603073156,1712.3580268561805,1813.409269416186,1860.5437551851169,1813.66405614595,1956.6315017165462,1670.973652613908,1694.4353013902662,1524.1286745900081,1637.3191648989382,1583.0556694407524,1512.0372737241335,1504.5450003265876,1478.7935806012297,1696.1922318800002,1636.5926937188954,1761.3397876814106,1745.436248884881,1546.0918984007046,1550.8199425290659,1644.5467587923363,1632.5285373409597,1618.9489682927774,1554.468086684692,1814.905380204645,2057.0283656638826,2008.992913839463,1866.9846288152733,1978.084546843784,2565.4053692894,2401.8726067399007,2243.3357134046023,1994.3530490139733,2588.595628097075,2361.0548689964326,2321.148699551832,2317.9070770795684,2399.151348581526,2345.0762736875213,2489.5726061417695,2473.7236403136926,2309.518177266932,2349.7134856731964,2335.829988213784,2927.93438610612,3149.5791666889213,3054.8960045438703,2947.3389539762015,3083.1983765470222,3104.383049066238,3339.085791176135,3069.5815473598964,3410.670742437718,3520.9590125742598,3147.425525087138,3001.9205332406523,2636.784342688956,2786.744041509186,2850.7204923665795,2875.4293651100816,3093.2230427929276,2656.4476784414064,2678.081669118584,2694.1443876502367,2542.0371239723395,2378.260169753912,2352.4581770889295,2063.6504122917645,2056.5810423205235,2127.460820760367,2240.7663104197127,2102.983062677764,2131.936606739629,2324.1324401379816,2331.3819989278027,2475.249384812401,2477.143385730565,2490.9618877897756,2301.4710395328275,2089.949950933757,2125.6802599586854,2234.887346968404,2457.452111805464,2454.4703785384,2296.9698264244516,2279.0938511673658,2141.204216668371,2046.0683466702662,2065.6250632444644,2048.280090019928,2140.4731607601802,2051.9443648347806,2128.8508980032393,2083.2477433089143,2073.1190592867297,1714.398102757389,1978.2786721124376,1912.661896114055,2306.091892313014,2077.924011914928,2156.1854470994645,2166.6206457385833,-306.7273395522966,-488.433491445164,-437.0789061920517,-468.7243145886405,-484.5146392788141,-496.907607752739,-476.91974630452336,-513.0926383409969,-515.8918013367297,-395.9850513929799,-366.5654228089759,-374.27335467201544,-360.30439183178555,-352.4533283278413,-373.86577922470104,-365.49460368391533,-398.91476775360854,-399.3242520361767,-377.69113052209485,-397.50233993293404,-420.7210850096977,-459.9438071350994,-450.9181930069139,-438.50503574751997,-445.1860544995898,-289.28926699187673,-253.113027485321,-147.21093752189267,-201.18131162176547,-185.8044360138239,-136.79011811309243,-182.5634456236934,-230.671910978317,-245.81650380605691,-271.7572068728922,-198.64117712827527,-225.54210268950322,-207.725052662181,-160.62353907120928,-99.11235169369782,-204.04871588555784,-185.59042935763784,-175.92431408732403,-181.28453357848633,-169.72496054817927,-194.48648177236393,-243.44095985267765,-342.64157720907696,-328.91641282621333,-308.5356202251312,-300.3917542908018,-313.8313555969145,-334.41022617397425,-418.9951159720462,-373.1524349970315,-341.070921220321,-342.128914517676,-257.87255821616645,-227.07749387176372,-280.5964495168187,-357.67782106712644,-374.54693325967315,-394.47397442409124,-374.3133268215937,-368.2859318470047,-412.6848273316368,-403.89291819136747,-413.2359807682635,-458.57469177516134,-501.2927296328275,-538.9595879198573,-425.82604180466865,-404.25499752224795,-411.27714084640354,-434.7534966953671,-421.9314212682208,-396.20933059714235,-365.3819353941393,-386.665227285342,-430.92501393402773,-369.96249842014765,-357.4858762313121,-402.19228444106,-402.2424578830161,-373.76667056364965,-393.08657788388757,-376.9687287412362,-322.1458837160394,-230.65889902175172,-210.38716895720006,-219.40532038587028,-176.99366945763276,-160.6254821933128,-159.31646201153495,-111.97231708056839,-86.91670909040502,-95.84148894658769,-89.14561335633873,6.79611668193283,23.47045480202985,65.36216054937765,-34.22374653779076,-59.393167827221134,-44.781856230613386,-39.85770434992108,-4.733877934054647,-57.50687769576081,-61.242070496196476,-81.55719108584628,-131.32515871668699,-193.80999798964842,-217.46999530088124,-172.64077678523955,-122.20068612145482,-163.22074048926686,-126.80735165111045,-58.368084331219336,-6.12591688641794,22.49329443587922,51.07345032338759,24.94739253423475,131.35887391499963,196.3991487298279,79.45432985002086,45.665627973538164,55.081712710201714,61.268116990453564,9.856280582858034,-64.16988011081983,3.585922269503328,-47.08579317715947,358.0964957079987,340.4177604321496,319.64913629216954,198.37779175346665,260.46403887347566,254.47937257760265,288.9900264115006,208.30927526265268,212.94054077177168,148.02316499202888,138.8945314288918,160.7018201602078,172.21543553743496,141.80942827173087,133.93924043942988,74.36494726928782,138.46869464238674,148.89831890757176,156.4126302699819,188.48252437696183,226.81259144335388,254.97043617990573,245.75982838724178,233.24137711623973,0.0,223.3992149901999,225.24826643859575,255.0543244820318,217.24872112746385,227.62453245950786,209.1722188157608,163.84909743653577,143.44259687360093,161.16682528628283,99.24642558564582,128.8063363883359,129.661783537805,144.0411017763018,162.34929182369888,235.10295916170898,237.61616403649074,263.5485758769138,282.97537501180665,279.8113131570236,294.1478131727207,321.6952404835607,258.82071884276866,291.6381526360837,260.7046089875227,93.77632076089277,53.4937205157736,127.12843903196077,144.09975724770072,101.35968851664181,80.19037363634565,37.107836175529755,0.5285123788306549,17.000502269217662,50.68798838366277,77.47055796580774,46.102866684806685,36.15528497817378,53.371891700022715,44.567696188598774],\"yaxis\":\"y\",\"type\":\"scatter\"}],                        {\"template\":{\"data\":{\"histogram2dcontour\":[{\"type\":\"histogram2dcontour\",\"colorbar\":{\"outlinewidth\":0,\"ticks\":\"\"},\"colorscale\":[[0.0,\"#0d0887\"],[0.1111111111111111,\"#46039f\"],[0.2222222222222222,\"#7201a8\"],[0.3333333333333333,\"#9c179e\"],[0.4444444444444444,\"#bd3786\"],[0.5555555555555556,\"#d8576b\"],[0.6666666666666666,\"#ed7953\"],[0.7777777777777778,\"#fb9f3a\"],[0.8888888888888888,\"#fdca26\"],[1.0,\"#f0f921\"]]}],\"choropleth\":[{\"type\":\"choropleth\",\"colorbar\":{\"outlinewidth\":0,\"ticks\":\"\"}}],\"histogram2d\":[{\"type\":\"histogram2d\",\"colorbar\":{\"outlinewidth\":0,\"ticks\":\"\"},\"colorscale\":[[0.0,\"#0d0887\"],[0.1111111111111111,\"#46039f\"],[0.2222222222222222,\"#7201a8\"],[0.3333333333333333,\"#9c179e\"],[0.4444444444444444,\"#bd3786\"],[0.5555555555555556,\"#d8576b\"],[0.6666666666666666,\"#ed7953\"],[0.7777777777777778,\"#fb9f3a\"],[0.8888888888888888,\"#fdca26\"],[1.0,\"#f0f921\"]]}],\"heatmap\":[{\"type\":\"heatmap\",\"colorbar\":{\"outlinewidth\":0,\"ticks\":\"\"},\"colorscale\":[[0.0,\"#0d0887\"],[0.1111111111111111,\"#46039f\"],[0.2222222222222222,\"#7201a8\"],[0.3333333333333333,\"#9c179e\"],[0.4444444444444444,\"#bd3786\"],[0.5555555555555556,\"#d8576b\"],[0.6666666666666666,\"#ed7953\"],[0.7777777777777778,\"#fb9f3a\"],[0.8888888888888888,\"#fdca26\"],[1.0,\"#f0f921\"]]}],\"heatmapgl\":[{\"type\":\"heatmapgl\",\"colorbar\":{\"outlinewidth\":0,\"ticks\":\"\"},\"colorscale\":[[0.0,\"#0d0887\"],[0.1111111111111111,\"#46039f\"],[0.2222222222222222,\"#7201a8\"],[0.3333333333333333,\"#9c179e\"],[0.4444444444444444,\"#bd3786\"],[0.5555555555555556,\"#d8576b\"],[0.6666666666666666,\"#ed7953\"],[0.7777777777777778,\"#fb9f3a\"],[0.8888888888888888,\"#fdca26\"],[1.0,\"#f0f921\"]]}],\"contourcarpet\":[{\"type\":\"contourcarpet\",\"colorbar\":{\"outlinewidth\":0,\"ticks\":\"\"}}],\"contour\":[{\"type\":\"contour\",\"colorbar\":{\"outlinewidth\":0,\"ticks\":\"\"},\"colorscale\":[[0.0,\"#0d0887\"],[0.1111111111111111,\"#46039f\"],[0.2222222222222222,\"#7201a8\"],[0.3333333333333333,\"#9c179e\"],[0.4444444444444444,\"#bd3786\"],[0.5555555555555556,\"#d8576b\"],[0.6666666666666666,\"#ed7953\"],[0.7777777777777778,\"#fb9f3a\"],[0.8888888888888888,\"#fdca26\"],[1.0,\"#f0f921\"]]}],\"surface\":[{\"type\":\"surface\",\"colorbar\":{\"outlinewidth\":0,\"ticks\":\"\"},\"colorscale\":[[0.0,\"#0d0887\"],[0.1111111111111111,\"#46039f\"],[0.2222222222222222,\"#7201a8\"],[0.3333333333333333,\"#9c179e\"],[0.4444444444444444,\"#bd3786\"],[0.5555555555555556,\"#d8576b\"],[0.6666666666666666,\"#ed7953\"],[0.7777777777777778,\"#fb9f3a\"],[0.8888888888888888,\"#fdca26\"],[1.0,\"#f0f921\"]]}],\"mesh3d\":[{\"type\":\"mesh3d\",\"colorbar\":{\"outlinewidth\":0,\"ticks\":\"\"}}],\"scatter\":[{\"fillpattern\":{\"fillmode\":\"overlay\",\"size\":10,\"solidity\":0.2},\"type\":\"scatter\"}],\"parcoords\":[{\"type\":\"parcoords\",\"line\":{\"colorbar\":{\"outlinewidth\":0,\"ticks\":\"\"}}}],\"scatterpolargl\":[{\"type\":\"scatterpolargl\",\"marker\":{\"colorbar\":{\"outlinewidth\":0,\"ticks\":\"\"}}}],\"bar\":[{\"error_x\":{\"color\":\"#2a3f5f\"},\"error_y\":{\"color\":\"#2a3f5f\"},\"marker\":{\"line\":{\"color\":\"#E5ECF6\",\"width\":0.5},\"pattern\":{\"fillmode\":\"overlay\",\"size\":10,\"solidity\":0.2}},\"type\":\"bar\"}],\"scattergeo\":[{\"type\":\"scattergeo\",\"marker\":{\"colorbar\":{\"outlinewidth\":0,\"ticks\":\"\"}}}],\"scatterpolar\":[{\"type\":\"scatterpolar\",\"marker\":{\"colorbar\":{\"outlinewidth\":0,\"ticks\":\"\"}}}],\"histogram\":[{\"marker\":{\"pattern\":{\"fillmode\":\"overlay\",\"size\":10,\"solidity\":0.2}},\"type\":\"histogram\"}],\"scattergl\":[{\"type\":\"scattergl\",\"marker\":{\"colorbar\":{\"outlinewidth\":0,\"ticks\":\"\"}}}],\"scatter3d\":[{\"type\":\"scatter3d\",\"line\":{\"colorbar\":{\"outlinewidth\":0,\"ticks\":\"\"}},\"marker\":{\"colorbar\":{\"outlinewidth\":0,\"ticks\":\"\"}}}],\"scattermapbox\":[{\"type\":\"scattermapbox\",\"marker\":{\"colorbar\":{\"outlinewidth\":0,\"ticks\":\"\"}}}],\"scatterternary\":[{\"type\":\"scatterternary\",\"marker\":{\"colorbar\":{\"outlinewidth\":0,\"ticks\":\"\"}}}],\"scattercarpet\":[{\"type\":\"scattercarpet\",\"marker\":{\"colorbar\":{\"outlinewidth\":0,\"ticks\":\"\"}}}],\"carpet\":[{\"aaxis\":{\"endlinecolor\":\"#2a3f5f\",\"gridcolor\":\"white\",\"linecolor\":\"white\",\"minorgridcolor\":\"white\",\"startlinecolor\":\"#2a3f5f\"},\"baxis\":{\"endlinecolor\":\"#2a3f5f\",\"gridcolor\":\"white\",\"linecolor\":\"white\",\"minorgridcolor\":\"white\",\"startlinecolor\":\"#2a3f5f\"},\"type\":\"carpet\"}],\"table\":[{\"cells\":{\"fill\":{\"color\":\"#EBF0F8\"},\"line\":{\"color\":\"white\"}},\"header\":{\"fill\":{\"color\":\"#C8D4E3\"},\"line\":{\"color\":\"white\"}},\"type\":\"table\"}],\"barpolar\":[{\"marker\":{\"line\":{\"color\":\"#E5ECF6\",\"width\":0.5},\"pattern\":{\"fillmode\":\"overlay\",\"size\":10,\"solidity\":0.2}},\"type\":\"barpolar\"}],\"pie\":[{\"automargin\":true,\"type\":\"pie\"}]},\"layout\":{\"autotypenumbers\":\"strict\",\"colorway\":[\"#636efa\",\"#EF553B\",\"#00cc96\",\"#ab63fa\",\"#FFA15A\",\"#19d3f3\",\"#FF6692\",\"#B6E880\",\"#FF97FF\",\"#FECB52\"],\"font\":{\"color\":\"#2a3f5f\"},\"hovermode\":\"closest\",\"hoverlabel\":{\"align\":\"left\"},\"paper_bgcolor\":\"white\",\"plot_bgcolor\":\"#E5ECF6\",\"polar\":{\"bgcolor\":\"#E5ECF6\",\"angularaxis\":{\"gridcolor\":\"white\",\"linecolor\":\"white\",\"ticks\":\"\"},\"radialaxis\":{\"gridcolor\":\"white\",\"linecolor\":\"white\",\"ticks\":\"\"}},\"ternary\":{\"bgcolor\":\"#E5ECF6\",\"aaxis\":{\"gridcolor\":\"white\",\"linecolor\":\"white\",\"ticks\":\"\"},\"baxis\":{\"gridcolor\":\"white\",\"linecolor\":\"white\",\"ticks\":\"\"},\"caxis\":{\"gridcolor\":\"white\",\"linecolor\":\"white\",\"ticks\":\"\"}},\"coloraxis\":{\"colorbar\":{\"outlinewidth\":0,\"ticks\":\"\"}},\"colorscale\":{\"sequential\":[[0.0,\"#0d0887\"],[0.1111111111111111,\"#46039f\"],[0.2222222222222222,\"#7201a8\"],[0.3333333333333333,\"#9c179e\"],[0.4444444444444444,\"#bd3786\"],[0.5555555555555556,\"#d8576b\"],[0.6666666666666666,\"#ed7953\"],[0.7777777777777778,\"#fb9f3a\"],[0.8888888888888888,\"#fdca26\"],[1.0,\"#f0f921\"]],\"sequentialminus\":[[0.0,\"#0d0887\"],[0.1111111111111111,\"#46039f\"],[0.2222222222222222,\"#7201a8\"],[0.3333333333333333,\"#9c179e\"],[0.4444444444444444,\"#bd3786\"],[0.5555555555555556,\"#d8576b\"],[0.6666666666666666,\"#ed7953\"],[0.7777777777777778,\"#fb9f3a\"],[0.8888888888888888,\"#fdca26\"],[1.0,\"#f0f921\"]],\"diverging\":[[0,\"#8e0152\"],[0.1,\"#c51b7d\"],[0.2,\"#de77ae\"],[0.3,\"#f1b6da\"],[0.4,\"#fde0ef\"],[0.5,\"#f7f7f7\"],[0.6,\"#e6f5d0\"],[0.7,\"#b8e186\"],[0.8,\"#7fbc41\"],[0.9,\"#4d9221\"],[1,\"#276419\"]]},\"xaxis\":{\"gridcolor\":\"white\",\"linecolor\":\"white\",\"ticks\":\"\",\"title\":{\"standoff\":15},\"zerolinecolor\":\"white\",\"automargin\":true,\"zerolinewidth\":2},\"yaxis\":{\"gridcolor\":\"white\",\"linecolor\":\"white\",\"ticks\":\"\",\"title\":{\"standoff\":15},\"zerolinecolor\":\"white\",\"automargin\":true,\"zerolinewidth\":2},\"scene\":{\"xaxis\":{\"backgroundcolor\":\"#E5ECF6\",\"gridcolor\":\"white\",\"linecolor\":\"white\",\"showbackground\":true,\"ticks\":\"\",\"zerolinecolor\":\"white\",\"gridwidth\":2},\"yaxis\":{\"backgroundcolor\":\"#E5ECF6\",\"gridcolor\":\"white\",\"linecolor\":\"white\",\"showbackground\":true,\"ticks\":\"\",\"zerolinecolor\":\"white\",\"gridwidth\":2},\"zaxis\":{\"backgroundcolor\":\"#E5ECF6\",\"gridcolor\":\"white\",\"linecolor\":\"white\",\"showbackground\":true,\"ticks\":\"\",\"zerolinecolor\":\"white\",\"gridwidth\":2}},\"shapedefaults\":{\"line\":{\"color\":\"#2a3f5f\"}},\"annotationdefaults\":{\"arrowcolor\":\"#2a3f5f\",\"arrowhead\":0,\"arrowwidth\":1},\"geo\":{\"bgcolor\":\"white\",\"landcolor\":\"#E5ECF6\",\"subunitcolor\":\"white\",\"showland\":true,\"showlakes\":true,\"lakecolor\":\"white\"},\"title\":{\"x\":0.05},\"mapbox\":{\"style\":\"light\"}}},\"xaxis\":{\"anchor\":\"y\",\"domain\":[0.0,1.0],\"title\":{}},\"yaxis\":{\"anchor\":\"x\",\"domain\":[0.0,1.0],\"title\":{}},\"legend\":{\"title\":{\"text\":\"variable\"},\"tracegroupgap\":0},\"title\":{\"text\":\"Portfolio Value\"},\"font\":{\"color\":\"white\"},\"plot_bgcolor\":\"black\",\"paper_bgcolor\":\"black\",\"width\":800,\"height\":400},                        {\"responsive\": true}                    ).then(function(){\n",
       "                            \n",
       "var gd = document.getElementById('bb98451c-f9c0-452f-8f5a-80496fe9e705');\n",
       "var x = new MutationObserver(function (mutations, observer) {{\n",
       "        var display = window.getComputedStyle(gd).display;\n",
       "        if (!display || display === 'none') {{\n",
       "            console.log([gd, 'removed!']);\n",
       "            Plotly.purge(gd);\n",
       "            observer.disconnect();\n",
       "        }}\n",
       "}});\n",
       "\n",
       "// Listen for the removal of the full notebook cells\n",
       "var notebookContainer = gd.closest('#notebook-container');\n",
       "if (notebookContainer) {{\n",
       "    x.observe(notebookContainer, {childList: true});\n",
       "}}\n",
       "\n",
       "// Listen for the clearing of the current output cell\n",
       "var outputEl = gd.closest('.output');\n",
       "if (outputEl) {{\n",
       "    x.observe(outputEl, {childList: true});\n",
       "}}\n",
       "\n",
       "                        })                };                });            </script>        </div>"
      ]
     },
     "metadata": {},
     "output_type": "display_data"
    }
   ],
   "source": [
    "fig=px.line(pnl_history['Total'],title='Portfolio Value')\n",
    "fig.update_layout(plot_bgcolor=\"black\", paper_bgcolor=\"black\", font_color=\"white\",width=800, height=400)\n",
    "fig.update_layout(xaxis_title=None, yaxis_title=None)\n",
    "fig.show()"
   ]
  },
  {
   "cell_type": "code",
   "execution_count": 95,
   "id": "14d007fb-7c59-4966-9c38-7e2485fe6993",
   "metadata": {},
   "outputs": [
    {
     "data": {
      "application/vnd.plotly.v1+json": {
       "config": {
        "plotlyServerURL": "https://plot.ly"
       },
       "data": [
        {
         "hovertemplate": "variable=Historical Portfolio<br>index=%{x}<br>value=%{y}<extra></extra>",
         "legendgroup": "Historical Portfolio",
         "line": {
          "color": "#636efa",
          "dash": "solid"
         },
         "marker": {
          "symbol": "circle"
         },
         "mode": "lines",
         "name": "Historical Portfolio",
         "orientation": "v",
         "showlegend": true,
         "type": "scatter",
         "x": [
          "2024-05-14T00:00:00",
          "2024-05-16T00:00:00",
          "2024-05-20T00:00:00",
          "2024-05-21T00:00:00",
          "2024-05-23T00:00:00",
          "2024-05-24T00:00:00",
          "2024-05-25T00:00:00",
          "2024-05-27T00:00:00",
          "2024-05-28T00:00:00",
          "2024-05-29T00:00:00",
          "2024-05-30T00:00:00",
          "2024-05-31T00:00:00",
          "2024-06-01T00:00:00",
          "2024-06-02T00:00:00",
          "2024-06-03T00:00:00",
          "2024-06-04T00:00:00",
          "2024-06-05T00:00:00",
          "2024-06-06T00:00:00",
          "2024-06-07T00:00:00",
          "2024-06-08T00:00:00",
          "2024-06-09T00:00:00",
          "2024-06-10T00:00:00",
          "2024-06-11T00:00:00",
          "2024-06-12T00:00:00",
          "2024-06-13T00:00:00",
          "2024-06-14T00:00:00",
          "2024-06-15T00:00:00",
          "2024-06-16T00:00:00",
          "2024-06-17T00:00:00",
          "2024-06-18T00:00:00",
          "2024-06-19T00:00:00",
          "2024-06-20T00:00:00",
          "2024-06-21T00:00:00",
          "2024-06-22T00:00:00",
          "2024-06-23T00:00:00",
          "2024-06-24T00:00:00",
          "2024-06-25T00:00:00",
          "2024-06-26T00:00:00",
          "2024-06-27T00:00:00",
          "2024-06-28T00:00:00",
          "2024-06-29T00:00:00",
          "2024-06-30T00:00:00",
          "2024-07-01T00:00:00",
          "2024-07-02T00:00:00",
          "2024-07-03T00:00:00",
          "2024-07-04T00:00:00",
          "2024-07-05T00:00:00",
          "2024-07-06T00:00:00",
          "2024-07-07T00:00:00",
          "2024-07-08T00:00:00",
          "2024-07-09T00:00:00",
          "2024-07-10T00:00:00",
          "2024-07-11T00:00:00",
          "2024-07-12T00:00:00",
          "2024-07-13T00:00:00",
          "2024-07-14T00:00:00",
          "2024-07-15T00:00:00",
          "2024-07-16T00:00:00",
          "2024-07-17T00:00:00",
          "2024-07-18T00:00:00",
          "2024-07-19T00:00:00",
          "2024-07-20T00:00:00",
          "2024-07-21T00:00:00",
          "2024-07-22T00:00:00",
          "2024-07-23T00:00:00",
          "2024-07-24T00:00:00",
          "2024-07-25T00:00:00",
          "2024-07-26T00:00:00",
          "2024-07-27T00:00:00",
          "2024-07-28T00:00:00",
          "2024-07-29T00:00:00",
          "2024-07-30T00:00:00",
          "2024-07-31T00:00:00",
          "2024-08-01T00:00:00",
          "2024-08-02T00:00:00",
          "2024-08-03T00:00:00",
          "2024-08-04T00:00:00",
          "2024-08-05T00:00:00",
          "2024-08-06T00:00:00",
          "2024-08-07T00:00:00",
          "2024-08-08T00:00:00",
          "2024-08-09T00:00:00",
          "2024-08-10T00:00:00",
          "2024-08-11T00:00:00",
          "2024-08-12T00:00:00",
          "2024-08-13T00:00:00",
          "2024-08-14T00:00:00",
          "2024-08-15T00:00:00",
          "2024-08-16T00:00:00",
          "2024-08-17T00:00:00",
          "2024-08-18T00:00:00",
          "2024-08-19T00:00:00",
          "2024-08-20T00:00:00",
          "2024-08-21T00:00:00",
          "2024-08-22T00:00:00",
          "2024-08-23T00:00:00",
          "2024-08-24T00:00:00",
          "2024-08-25T00:00:00",
          "2024-08-26T00:00:00",
          "2024-08-27T00:00:00",
          "2024-08-28T00:00:00",
          "2024-08-29T00:00:00",
          "2024-08-30T00:00:00",
          "2024-08-31T00:00:00",
          "2024-09-01T00:00:00",
          "2024-09-02T00:00:00",
          "2024-09-03T00:00:00",
          "2024-09-04T00:00:00",
          "2024-09-05T00:00:00",
          "2024-09-06T00:00:00",
          "2024-09-07T00:00:00",
          "2024-09-08T00:00:00",
          "2024-09-09T00:00:00",
          "2024-09-10T00:00:00",
          "2024-09-11T00:00:00",
          "2024-09-12T00:00:00",
          "2024-09-13T00:00:00",
          "2024-09-14T00:00:00",
          "2024-09-15T00:00:00",
          "2024-09-16T00:00:00",
          "2024-09-17T00:00:00",
          "2024-09-18T00:00:00",
          "2024-09-19T00:00:00",
          "2024-09-20T00:00:00",
          "2024-09-21T00:00:00",
          "2024-09-22T00:00:00",
          "2024-09-23T00:00:00",
          "2024-09-24T00:00:00",
          "2024-09-25T00:00:00",
          "2024-09-26T00:00:00",
          "2024-09-27T00:00:00",
          "2024-09-28T00:00:00",
          "2024-09-29T00:00:00",
          "2024-09-30T00:00:00",
          "2024-10-01T00:00:00",
          "2024-10-02T00:00:00",
          "2024-10-03T00:00:00",
          "2024-10-04T00:00:00",
          "2024-10-05T00:00:00",
          "2024-10-06T00:00:00",
          "2024-10-07T00:00:00",
          "2024-10-08T00:00:00",
          "2024-10-09T00:00:00",
          "2024-10-10T00:00:00",
          "2024-10-11T00:00:00",
          "2024-10-12T00:00:00",
          "2024-10-13T00:00:00",
          "2024-10-14T00:00:00",
          "2024-10-15T00:00:00",
          "2024-10-16T00:00:00",
          "2024-10-17T00:00:00",
          "2024-10-18T00:00:00",
          "2024-10-19T00:00:00",
          "2024-10-20T00:00:00",
          "2024-10-21T00:00:00",
          "2024-10-22T00:00:00",
          "2024-10-23T00:00:00",
          "2024-10-24T00:00:00",
          "2024-10-25T00:00:00",
          "2024-10-26T00:00:00",
          "2024-10-27T00:00:00",
          "2024-10-28T00:00:00",
          "2024-10-29T00:00:00",
          "2024-10-30T00:00:00",
          "2024-10-31T00:00:00",
          "2024-11-01T00:00:00",
          "2024-11-02T00:00:00",
          "2024-11-03T00:00:00",
          "2024-11-04T00:00:00",
          "2024-11-05T00:00:00",
          "2024-11-06T00:00:00",
          "2024-11-07T00:00:00",
          "2024-11-08T00:00:00",
          "2024-11-09T00:00:00",
          "2024-11-10T00:00:00",
          "2024-11-11T00:00:00",
          "2024-11-12T00:00:00",
          "2024-11-13T00:00:00",
          "2024-11-14T00:00:00",
          "2024-11-15T00:00:00",
          "2024-11-16T00:00:00",
          "2024-11-17T00:00:00",
          "2024-11-18T00:00:00",
          "2024-11-19T00:00:00",
          "2024-11-20T00:00:00",
          "2024-11-21T00:00:00",
          "2024-11-22T00:00:00",
          "2024-11-23T00:00:00",
          "2024-11-24T00:00:00",
          "2024-11-25T00:00:00",
          "2024-11-26T00:00:00",
          "2024-11-27T00:00:00",
          "2024-11-28T00:00:00",
          "2024-11-29T00:00:00",
          "2024-11-30T00:00:00",
          "2024-12-01T00:00:00",
          "2024-12-02T00:00:00",
          "2024-12-03T00:00:00",
          "2024-12-04T00:00:00",
          "2024-12-05T00:00:00",
          "2024-12-06T00:00:00",
          "2024-12-07T00:00:00",
          "2024-12-08T00:00:00",
          "2024-12-09T00:00:00",
          "2024-12-10T00:00:00",
          "2024-12-11T00:00:00",
          "2024-12-12T00:00:00",
          "2024-12-13T00:00:00",
          "2024-12-14T00:00:00",
          "2024-12-15T00:00:00",
          "2024-12-16T00:00:00",
          "2024-12-17T00:00:00",
          "2024-12-18T00:00:00",
          "2024-12-19T00:00:00",
          "2024-12-20T00:00:00",
          "2024-12-21T00:00:00",
          "2024-12-22T00:00:00",
          "2024-12-23T00:00:00",
          "2024-12-24T00:00:00",
          "2024-12-25T00:00:00",
          "2024-12-26T00:00:00",
          "2024-12-27T00:00:00",
          "2024-12-28T00:00:00",
          "2024-12-29T00:00:00",
          "2024-12-30T00:00:00",
          "2024-12-31T00:00:00",
          "2025-01-01T00:00:00",
          "2025-01-02T00:00:00",
          "2025-01-03T00:00:00",
          "2025-01-04T00:00:00",
          "2025-01-05T00:00:00",
          "2025-01-06T00:00:00",
          "2025-01-07T00:00:00",
          "2025-01-08T00:00:00",
          "2025-01-09T00:00:00",
          "2025-01-10T00:00:00",
          "2025-01-11T00:00:00",
          "2025-01-12T00:00:00",
          "2025-01-13T00:00:00",
          "2025-01-14T00:00:00",
          "2025-01-15T00:00:00",
          "2025-01-16T00:00:00",
          "2025-01-17T00:00:00",
          "2025-01-18T00:00:00",
          "2025-01-19T00:00:00",
          "2025-01-20T00:00:00",
          "2025-01-21T00:00:00",
          "2025-01-22T00:00:00",
          "2025-01-23T00:00:00",
          "2025-01-24T00:00:00",
          "2025-01-25T00:00:00",
          "2025-01-26T00:00:00",
          "2025-01-27T00:00:00",
          "2025-01-28T00:00:00",
          "2025-01-29T00:00:00",
          "2025-01-30T00:00:00",
          "2025-01-31T00:00:00",
          "2025-02-01T00:00:00",
          "2025-02-02T00:00:00",
          "2025-02-03T00:00:00",
          "2025-02-04T00:00:00",
          "2025-02-05T00:00:00",
          "2025-02-06T00:00:00",
          "2025-02-07T00:00:00",
          "2025-02-08T00:00:00",
          "2025-02-09T00:00:00",
          "2025-02-10T00:00:00",
          "2025-02-11T00:00:00",
          "2025-02-12T00:00:00",
          "2025-02-13T00:00:00",
          "2025-02-14T00:00:00",
          "2025-02-15T00:00:00",
          "2025-02-16T00:00:00",
          "2025-02-17T00:00:00",
          "2025-02-18T00:00:00",
          "2025-02-19T00:00:00",
          "2025-02-20T00:00:00",
          "2025-02-21T00:00:00",
          "2025-02-22T00:00:00",
          "2025-02-23T00:00:00",
          "2025-02-24T00:00:00",
          "2025-02-25T00:00:00",
          "2025-02-26T00:00:00",
          "2025-02-27T00:00:00",
          "2025-02-28T00:00:00",
          "2025-03-01T00:00:00",
          "2025-03-02T00:00:00",
          "2025-03-03T00:00:00",
          "2025-03-04T00:00:00",
          "2025-03-05T00:00:00",
          "2025-03-06T00:00:00",
          "2025-03-07T00:00:00",
          "2025-03-08T00:00:00",
          "2025-03-09T00:00:00",
          "2025-03-10T00:00:00",
          "2025-03-11T00:00:00",
          "2025-03-12T00:00:00",
          "2025-03-13T00:00:00",
          "2025-03-14T00:00:00",
          "2025-03-15T00:00:00",
          "2025-03-16T00:00:00",
          "2025-03-17T00:00:00",
          "2025-03-18T00:00:00",
          "2025-03-19T00:00:00",
          "2025-03-20T00:00:00",
          "2025-03-21T00:00:00",
          "2025-03-22T00:00:00",
          "2025-03-23T00:00:00",
          "2025-03-24T00:00:00",
          "2025-03-25T00:00:00",
          "2025-03-26T00:00:00",
          "2025-03-27T00:00:00",
          "2025-03-28T00:00:00",
          "2025-03-29T00:00:00",
          "2025-03-30T00:00:00",
          "2025-03-31T00:00:00",
          "2025-04-01T00:00:00",
          "2025-04-02T00:00:00",
          "2025-04-03T00:00:00",
          "2025-04-04T00:00:00",
          "2025-04-05T00:00:00",
          "2025-04-06T00:00:00",
          "2025-04-07T00:00:00",
          "2025-04-08T00:00:00",
          "2025-04-09T00:00:00",
          "2025-04-10T00:00:00",
          "2025-04-11T00:00:00",
          "2025-04-12T00:00:00",
          "2025-04-13T00:00:00",
          "2025-04-14T00:00:00",
          "2025-04-15T00:00:00",
          "2025-04-16T00:00:00",
          "2025-04-17T00:00:00",
          "2025-04-18T00:00:00",
          "2025-04-19T00:00:00",
          "2025-04-20T00:00:00",
          "2025-04-21T00:00:00",
          "2025-04-22T00:00:00",
          "2025-04-23T00:00:00",
          "2025-04-24T00:00:00",
          "2025-04-25T00:00:00",
          "2025-04-26T00:00:00",
          "2025-04-27T00:00:00",
          "2025-04-28T00:00:00",
          "2025-04-29T00:00:00",
          "2025-04-30T00:00:00",
          "2025-05-01T00:00:00",
          "2025-05-02T00:00:00",
          "2025-05-03T00:00:00",
          "2025-05-04T00:00:00",
          "2025-05-05T00:00:00",
          "2025-05-06T00:00:00",
          "2025-05-07T00:00:00",
          "2025-05-08T00:00:00",
          "2025-05-09T00:00:00",
          "2025-05-10T00:00:00",
          "2025-05-11T00:00:00",
          "2025-05-12T00:00:00",
          "2025-05-13T00:00:00",
          "2025-05-14T00:00:00",
          "2025-05-15T00:00:00",
          "2025-05-16T00:00:00",
          "2025-05-17T00:00:00",
          "2025-05-18T00:00:00",
          "2025-05-19T00:00:00",
          "2025-05-20T00:00:00",
          "2025-05-21T00:00:00",
          "2025-05-22T00:00:00",
          "2025-05-23T00:00:00",
          "2025-05-24T00:00:00",
          "2025-05-25T00:00:00",
          "2025-05-26T00:00:00",
          "2025-05-27T00:00:00",
          "2025-05-28T00:00:00",
          "2025-05-29T00:00:00",
          "2025-05-30T00:00:00",
          "2025-05-31T00:00:00",
          "2025-06-01T00:00:00",
          "2025-06-02T00:00:00",
          "2025-06-03T00:00:00",
          "2025-06-04T00:00:00",
          "2025-06-05T00:00:00",
          "2025-06-06T00:00:00",
          "2025-06-07T00:00:00",
          "2025-06-08T00:00:00",
          "2025-06-09T00:00:00",
          "2025-06-10T00:00:00",
          "2025-06-11T00:00:00",
          "2025-06-12T00:00:00",
          "2025-06-13T00:00:00",
          "2025-06-14T00:00:00",
          "2025-06-15T00:00:00",
          "2025-06-16T00:00:00",
          "2025-06-17T00:00:00",
          "2025-06-18T00:00:00",
          "2025-06-19T00:00:00",
          "2025-06-20T00:00:00",
          "2025-06-21T00:00:00",
          "2025-06-22T00:00:00",
          "2025-06-23T00:00:00",
          "2025-06-24T00:00:00",
          "2025-06-25T00:00:00",
          "2025-06-26T00:00:00",
          "2025-06-27T00:00:00",
          "2025-06-28T00:00:00",
          "2025-06-29T00:00:00",
          "2025-06-30T00:00:00",
          "2025-07-01T00:00:00",
          "2025-07-02T00:00:00",
          "2025-07-03T00:00:00",
          "2025-07-04T00:00:00",
          "2025-07-05T00:00:00",
          "2025-07-06T00:00:00",
          "2025-07-07T00:00:00",
          "2025-07-08T00:00:00",
          "2025-07-09T00:00:00",
          "2025-07-10T00:00:00",
          "2025-07-11T00:00:00",
          "2025-07-12T00:00:00",
          "2025-07-13T00:00:00",
          "2025-07-14T00:00:00",
          "2025-07-15T00:00:00",
          "2025-07-16T00:00:00",
          "2025-07-17T00:00:00",
          "2025-07-18T00:00:00",
          "2025-07-19T00:00:00",
          "2025-07-20T00:00:00",
          "2025-07-21T00:00:00",
          "2025-07-22T00:00:00",
          "2025-07-23T00:00:00",
          "2025-07-24T00:00:00",
          "2025-07-25T00:00:00",
          "2025-07-26T00:00:00",
          "2025-07-27T00:00:00",
          "2025-07-28T00:00:00",
          "2025-07-29T00:00:00",
          "2025-07-30T00:00:00",
          "2025-07-31T00:00:00",
          "2025-08-01T00:00:00",
          "2025-08-02T00:00:00",
          "2025-08-03T00:00:00",
          "2025-08-04T00:00:00",
          "2025-08-05T00:00:00",
          "2025-08-06T00:00:00",
          "2025-08-07T00:00:00",
          "2025-08-08T00:00:00",
          "2025-08-09T00:00:00",
          "2025-08-10T00:00:00",
          "2025-08-11T00:00:00",
          "2025-08-12T00:00:00",
          "2025-08-13T00:00:00",
          "2025-08-14T00:00:00",
          "2025-08-15T00:00:00",
          "2025-08-16T00:00:00",
          "2025-08-17T00:00:00",
          "2025-08-18T00:00:00",
          "2025-08-19T00:00:00",
          "2025-08-20T00:00:00",
          "2025-08-21T00:00:00",
          "2025-08-22T00:00:00",
          "2025-08-23T00:00:00",
          "2025-08-24T00:00:00",
          "2025-08-25T00:00:00",
          "2025-08-26T00:00:00",
          "2025-08-27T00:00:00",
          "2025-08-28T00:00:00",
          "2025-08-29T00:00:00",
          "2025-08-30T00:00:00",
          "2025-08-31T00:00:00",
          "2025-09-01T00:00:00",
          "2025-09-02T00:00:00",
          "2025-09-03T00:00:00",
          "2025-09-04T00:00:00",
          "2025-09-05T00:00:00",
          "2025-09-06T00:00:00",
          "2025-09-07T00:00:00",
          "2025-09-08T00:00:00",
          "2025-09-09T00:00:00",
          "2025-09-10T00:00:00",
          "2025-09-11T00:00:00",
          "2025-09-12T00:00:00",
          "2025-09-13T00:00:00",
          "2025-09-14T00:00:00",
          "2025-09-15T00:00:00",
          "2025-09-16T00:00:00",
          "2025-09-17T00:00:00",
          "2025-09-18T00:00:00",
          "2025-09-19T00:00:00",
          "2025-09-20T00:00:00",
          "2025-09-21T00:00:00",
          "2025-09-22T00:00:00",
          "2025-09-23T00:00:00",
          "2025-09-24T00:00:00",
          "2025-09-25T00:00:00",
          "2025-09-26T00:00:00",
          "2025-09-27T00:00:00",
          "2025-09-28T00:00:00",
          "2025-09-29T00:00:00",
          "2025-09-30T00:00:00",
          "2025-10-01T00:00:00",
          "2025-10-02T00:00:00",
          "2025-10-03T00:00:00",
          "2025-10-04T00:00:00",
          "2025-10-05T00:00:00",
          "2025-10-06T00:00:00",
          "2025-10-07T00:00:00",
          "2025-10-08T00:00:00",
          "2025-10-09T00:00:00",
          "2025-10-10T00:00:00",
          "2025-10-11T00:00:00",
          "2025-10-12T00:00:00",
          "2025-10-13T00:00:00",
          "2025-10-14T00:00:00",
          "2025-10-15T00:00:00",
          "2025-10-16T00:00:00",
          "2025-10-17T00:00:00",
          "2025-10-18T00:00:00",
          "2025-10-19T00:00:00",
          "2025-10-20T00:00:00",
          "2025-10-21T00:00:00",
          "2025-10-22T00:00:00",
          "2025-10-23T00:00:00",
          "2025-10-24T00:00:00"
         ],
         "xaxis": "x",
         "y": [
          0.9560962861059175,
          0.9435027554898684,
          1.0363088142592438,
          1.0211199326568676,
          1.001072177692809,
          0.9830306862238136,
          1.0321737599420355,
          1.0393023114211197,
          1.0244270824204011,
          1.0006824385235407,
          1.0220519938027959,
          1.0296525572670803,
          1.0566030560886008,
          1.0373943019584908,
          1.0387889497980292,
          1.0703423473077316,
          1.1036029220302235,
          1.0870277624933489,
          1.0423169167253403,
          1.0189108868842838,
          1.0364078158742105,
          1.0153969999786718,
          0.9637312725382527,
          0.9939038603089129,
          0.945880523189529,
          0.9376934493420064,
          0.9564734436774667,
          0.9919772705084312,
          0.9496268340372951,
          0.9087876969329611,
          0.9047400564740934,
          0.8911826386036267,
          0.8917947980875242,
          0.9026359687407484,
          0.8707100392043302,
          0.8554629363628685,
          0.8916975342839594,
          0.8808825568250055,
          0.9123553273993679,
          0.8790551218353978,
          0.8694374663524074,
          0.9011405076396973,
          0.8950945369628145,
          0.8943003549173866,
          0.8361088848606535,
          0.7694311163701394,
          0.7594433217468526,
          0.8167381986470237,
          0.7689027552754649,
          0.7864581507760274,
          0.8046296826858236,
          0.8178839403748772,
          0.7997237295141494,
          0.8179154707286362,
          0.8380477763646256,
          0.866639425146742,
          0.9491888247628448,
          0.945850539009983,
          0.9237369833029359,
          0.924066291844147,
          0.9531930644583373,
          0.9645597888492536,
          0.9868125387070605,
          0.9868125387070605,
          0.9868125387070605,
          0.9755594260984551,
          0.9682688048319711,
          1.0007938418853441,
          1.018854833503503,
          1.0148001234455393,
          1.0030479536473957,
          0.9943716886132994,
          0.9665700565589141,
          0.9694685887623212,
          0.8936157276038059,
          0.855050083494546,
          0.8124824807346743,
          0.7493736459438005,
          0.7897872210885686,
          0.7667150185352801,
          0.85579737135782,
          0.831023152480911,
          0.8372854333105085,
          0.7895138986888194,
          0.8060762909648519,
          0.8169975363600952,
          0.7966629907423176,
          0.775791689641811,
          0.7764515072751437,
          0.801511574497705,
          0.7836426111228324,
          0.8002718756024317,
          0.7875426691182076,
          0.8080036366951269,
          0.8126085827603228,
          0.8670412547334779,
          0.8762923413874123,
          0.8686913334635606,
          0.840067732626738,
          0.7960968460833745,
          0.7909243363442842,
          0.7939022551515943,
          0.7934699712711589,
          0.783607572667625,
          0.7579556099930435,
          0.788813620776487,
          0.7604285519913125,
          0.773493349157629,
          0.7495744045473893,
          0.7298263756937882,
          0.7349925218473299,
          0.7449667538352606,
          0.7756884896797708,
          0.7895881481017428,
          0.7843141246704458,
          0.8001223528552381,
          0.8169058338681011,
          0.8053925810675826,
          0.7874857808820833,
          0.7790360197277528,
          0.7943025545608431,
          0.8187877286204873,
          0.8350684261301137,
          0.8474398008300317,
          0.855818235087385,
          0.8442110614271421,
          0.8594919807649783,
          0.8699416108111719,
          0.8601952599232502,
          0.8972415558354095,
          0.904636330277007,
          0.9027467052381428,
          0.8985912812812815,
          0.8684895137503681,
          0.8400333431622108,
          0.8376344194912709,
          0.8352164408196628,
          0.8685949009842955,
          0.8620268509471766,
          0.8770290577198576,
          0.8704573433967154,
          0.8675483524516036,
          0.8537029809887244,
          0.8659770332824819,
          0.8856865690207906,
          0.8971895165418436,
          0.9020055317013126,
          0.9549086146719793,
          0.9457176093267333,
          0.9435685538641362,
          0.9371630670943945,
          0.9404426894584755,
          0.9385356967386139,
          0.9548262109068304,
          0.936086276025837,
          0.9292610316319312,
          0.9077459152341831,
          0.9153213654662856,
          0.8682713256008292,
          0.875781432615206,
          0.9294054441338367,
          0.9207982585386939,
          0.947833274517079,
          0.9501280468496965,
          0.9190311269644502,
          0.9192535344718049,
          0.9056653599724789,
          0.8889283794733859,
          0.8616539418187573,
          0.8875715061791036,
          0.9788213643922103,
          0.9878827315170511,
          0.9852357819963934,
          1.0051625976005876,
          1.0434938654546204,
          1.1108672710640026,
          1.088798303904006,
          1.0655023107643196,
          1.1101706247166443,
          1.297030892041007,
          1.3307373212712112,
          1.6776415923538972,
          1.602944389325492,
          1.6122039430186705,
          1.597414936762941,
          1.6298417634453377,
          1.6560739800903528,
          1.653619508230554,
          1.6479211929851112,
          1.571209296249871,
          1.5917980562765344,
          1.6139195712777186,
          1.6003519312461727,
          1.6189501502573809,
          1.647049126323502,
          1.641515653700052,
          1.6558772273328746,
          1.8356874445535145,
          1.8047630694384849,
          1.9340354407962228,
          1.932662424046468,
          1.9250387519065342,
          1.97486312309577,
          1.7297784313410138,
          1.808412956176473,
          1.9230796385205697,
          1.8633362834204588,
          1.871976731791188,
          1.8424511535926116,
          1.8800775000979146,
          1.8831292121399694,
          1.882577425216215,
          1.7843104505151568,
          1.745666021761161,
          1.7288525535616028,
          1.6606564111713662,
          1.6542446102481252,
          1.7015050679269748,
          1.7546865630286135,
          1.7491876833943274,
          1.6739888499605202,
          1.6691504328151758,
          1.6927202917556348,
          1.6575182140083224,
          1.6062900805664626,
          1.6828643993045758,
          1.694901231432162,
          1.74744192530807,
          1.7923730032907645,
          1.8137400775072,
          1.7927322916318467,
          1.855654731636821,
          1.7239960690025582,
          1.7356434204068052,
          1.6580562682889555,
          1.7078580169171034,
          1.6836427798030922,
          1.6518762102690496,
          1.6489296313424027,
          1.6382062346521615,
          1.732594395816107,
          1.7062303606499902,
          1.762416760884064,
          1.7604226410523327,
          1.6698502684063208,
          1.6722132997465344,
          1.7136226285758165,
          1.708716327298696,
          1.7027537314726282,
          1.6741606377963822,
          1.7908599410953587,
          1.903016825733229,
          1.8814683080739265,
          1.8172854027508523,
          1.8664577791888057,
          2.1190565785881503,
          2.045678239338483,
          1.9746999131464138,
          1.8614476504416662,
          2.1147650994449765,
          2.0121671223603514,
          1.9947472974732567,
          1.9937928490272379,
          2.0295711982957303,
          2.00595609328126,
          2.0692892811334045,
          2.0625234085501423,
          1.9888684872718674,
          2.0068110401977157,
          2.0009328461559153,
          2.253282068625734,
          2.3504665601284054,
          2.3085181782337707,
          2.261074225690422,
          2.3213854029089656,
          2.330707278478111,
          2.4319914388310946,
          2.3108499596852234,
          2.4573269253266377,
          2.505586465650064,
          2.3377115707018645,
          2.273570872545397,
          2.108666573332499,
          2.1734946685210454,
          2.2015753741930166,
          2.212507364979683,
          2.3095411387478912,
          2.1127534349871615,
          2.1222765389816076,
          2.1297586715157366,
          2.062621817038268,
          1.990129315868233,
          1.9789247775536094,
          1.849666137719551,
          1.8475376058239523,
          1.87854406326888,
          1.9273065177230744,
          1.8665640472008358,
          1.8797727300947709,
          1.9619584699157366,
          1.966036509625815,
          2.027615174101108,
          2.028678983844414,
          2.035836560576372,
          1.9519341154976315,
          1.8587905108226472,
          1.874397521661433,
          1.9212747137397086,
          2.015794611526535,
          2.0145261635741174,
          1.945430925219803,
          1.9377127385578636,
          1.8771902346004716,
          1.8357384330465378,
          1.8442094634191724,
          1.8367536927554593,
          1.8763108925202332,
          1.8381822753114687,
          1.8712138543110832,
          1.8517375350999001,
          1.8473792018772381,
          1.685561694623252,
          1.7968752596446314,
          1.768543640664461,
          1.93062545842619,
          1.8303902736958788,
          1.8651843517678417,
          1.871616467202723,
          0.9949706876655589,
          0.9159321718879039,
          0.9511553812379768,
          0.9352190557757956,
          0.9272839100713516,
          0.9206549991240889,
          0.9320483432792074,
          0.9128083455590786,
          0.911761017565451,
          0.9748207011044435,
          0.9915594436255624,
          0.9874457276821674,
          0.9952530756174595,
          0.9995873990625078,
          0.9883975486378228,
          0.9930100684734753,
          0.9749654491264715,
          0.9747671452360847,
          0.9869686893058338,
          0.9764425604114363,
          0.9638636156268032,
          0.9425409467396211,
          0.9474747864533716,
          0.9543023267951966,
          0.951042147694949,
          1.0331668397124119,
          1.0529199625839476,
          1.1105831938062305,
          1.0814638352553185,
          1.0902508290915387,
          1.1168228941825835,
          1.0919698437189085,
          1.0660597728761234,
          1.0578377278119542,
          1.043788327317166,
          1.0830557225966084,
          1.0684811688318643,
          1.0781538356898854,
          1.1035660980118973,
          1.1365431952173455,
          1.0785630772323553,
          1.0885616744110527,
          1.0938216135905723,
          1.0909855060058333,
          1.09731788111579,
          1.0838716364025178,
          1.0570953742777913,
          1.0037140675885932,
          1.0111722694264893,
          1.0221697453952008,
          1.0266521940509523,
          1.019381786524804,
          1.0082988386906502,
          0.9619642364320875,
          0.9865689508642418,
          1.0038176471887412,
          1.0032877721740037,
          1.0479554582026331,
          1.0646888985653271,
          1.0355300061690216,
          0.9931374515702643,
          0.98407773204107,
          0.9733179901395339,
          0.9843333086234685,
          0.9876381520007038,
          0.9634391252809402,
          0.96823303604772,
          0.9632408675435647,
          0.9385560201700175,
          0.9153625970807665,
          0.8948722378608259,
          0.9545782128687945,
          0.9662543797883134,
          0.9626456777783661,
          0.9500034389621337,
          0.9569316518548536,
          0.9709033358259453,
          0.9874577747119773,
          0.9760733352855872,
          0.9520355022828205,
          0.9845626055995699,
          0.9912755649850239,
          0.9669706890412042,
          0.9669521153210234,
          0.9822208216549744,
          0.9717648930481702,
          0.9804539331006341,
          1.0097134607347866,
          1.0580016765048783,
          1.0689242087689244,
          1.0640784097948408,
          1.087198558745235,
          1.0961840698470426,
          1.097248941609412,
          1.1228094415075944,
          1.1363108350618356,
          1.1316780390795336,
          1.1354291374093821,
          1.1924682701538405,
          1.2022324758456524,
          1.2250600786266355,
          1.1710766470283276,
          1.1576623845044853,
          1.1656831410421353,
          1.16839577797512,
          1.1873730880188753,
          1.1587784542117316,
          1.156912957210638,
          1.1459442039819958,
          1.1187042569101167,
          1.0844938344368702,
          1.0716527490814483,
          1.0957393472523278,
          1.1229512219384121,
          1.1007079636276964,
          1.120538491244707,
          1.1576734631334855,
          1.1613760472634314,
          1.1770985263386209,
          1.1925884322736051,
          1.1785187372341044,
          1.23594421486275,
          1.2707987677324857,
          1.2062803975019423,
          1.1879335203788277,
          1.193089182045452,
          1.1964681594474293,
          1.1684414826664458,
          1.1277524694638195,
          1.1641242305724686,
          1.1364770719627042,
          1.213741797068646,
          1.205601116053731,
          1.1908217367955207,
          1.121927573863493,
          1.1563623879343965,
          1.1517904588009429,
          1.17027214696231,
          1.124572358013921,
          1.1285509682015262,
          1.125156579647475,
          1.1193437947229368,
          1.1325603194198275,
          1.137276420096744,
          1.1187862308598395,
          1.115809488140717,
          1.0858299514719354,
          1.1181005463640277,
          1.1254173640246956,
          1.1272124815703075,
          1.1447716463711044,
          1.1651497815026473,
          1.180750371595445,
          1.179034892979819,
          1.1680460420187637,
          1.1680460420187637,
          1.1680460420187637,
          1.1712908889484581,
          1.1865919955785071,
          1.1639761602003438,
          1.1689320676655308,
          1.157839347666195,
          1.128329340103443,
          1.1183752136452842,
          1.1261026425696492,
          1.0892731556849715,
          1.1068193393467414,
          1.1065392942866612,
          1.114732501820051,
          1.1224461022911834,
          1.1195984710031512,
          1.1606365352076693,
          1.1751258140413479,
          1.1842601825605565,
          1.1801628361188479,
          1.1854738817528627,
          1.2029448410212946,
          1.1661473597138001,
          1.184588490204522,
          1.1657849278726644,
          1.0551202638418353,
          1.0415590641494976,
          1.085494393996462,
          1.0973563848811085,
          1.0725020212003198,
          1.057893946721861,
          1.0352038777207413,
          1.0139561441885736,
          1.0251057659254625,
          1.0412614951153416,
          1.057503845690024,
          1.037624133579782,
          1.0320801986909722,
          1.0478557328914317,
          1.0431285055489403
         ],
         "yaxis": "y"
        }
       ],
       "layout": {
        "font": {
         "color": "white"
        },
        "height": 400,
        "legend": {
         "title": {
          "text": "variable"
         },
         "tracegroupgap": 0
        },
        "margin": {
         "t": 60
        },
        "paper_bgcolor": "black",
        "plot_bgcolor": "black",
        "template": {
         "data": {
          "bar": [
           {
            "error_x": {
             "color": "#2a3f5f"
            },
            "error_y": {
             "color": "#2a3f5f"
            },
            "marker": {
             "line": {
              "color": "#E5ECF6",
              "width": 0.5
             },
             "pattern": {
              "fillmode": "overlay",
              "size": 10,
              "solidity": 0.2
             }
            },
            "type": "bar"
           }
          ],
          "barpolar": [
           {
            "marker": {
             "line": {
              "color": "#E5ECF6",
              "width": 0.5
             },
             "pattern": {
              "fillmode": "overlay",
              "size": 10,
              "solidity": 0.2
             }
            },
            "type": "barpolar"
           }
          ],
          "carpet": [
           {
            "aaxis": {
             "endlinecolor": "#2a3f5f",
             "gridcolor": "white",
             "linecolor": "white",
             "minorgridcolor": "white",
             "startlinecolor": "#2a3f5f"
            },
            "baxis": {
             "endlinecolor": "#2a3f5f",
             "gridcolor": "white",
             "linecolor": "white",
             "minorgridcolor": "white",
             "startlinecolor": "#2a3f5f"
            },
            "type": "carpet"
           }
          ],
          "choropleth": [
           {
            "colorbar": {
             "outlinewidth": 0,
             "ticks": ""
            },
            "type": "choropleth"
           }
          ],
          "contour": [
           {
            "colorbar": {
             "outlinewidth": 0,
             "ticks": ""
            },
            "colorscale": [
             [
              0,
              "#0d0887"
             ],
             [
              0.1111111111111111,
              "#46039f"
             ],
             [
              0.2222222222222222,
              "#7201a8"
             ],
             [
              0.3333333333333333,
              "#9c179e"
             ],
             [
              0.4444444444444444,
              "#bd3786"
             ],
             [
              0.5555555555555556,
              "#d8576b"
             ],
             [
              0.6666666666666666,
              "#ed7953"
             ],
             [
              0.7777777777777778,
              "#fb9f3a"
             ],
             [
              0.8888888888888888,
              "#fdca26"
             ],
             [
              1,
              "#f0f921"
             ]
            ],
            "type": "contour"
           }
          ],
          "contourcarpet": [
           {
            "colorbar": {
             "outlinewidth": 0,
             "ticks": ""
            },
            "type": "contourcarpet"
           }
          ],
          "heatmap": [
           {
            "colorbar": {
             "outlinewidth": 0,
             "ticks": ""
            },
            "colorscale": [
             [
              0,
              "#0d0887"
             ],
             [
              0.1111111111111111,
              "#46039f"
             ],
             [
              0.2222222222222222,
              "#7201a8"
             ],
             [
              0.3333333333333333,
              "#9c179e"
             ],
             [
              0.4444444444444444,
              "#bd3786"
             ],
             [
              0.5555555555555556,
              "#d8576b"
             ],
             [
              0.6666666666666666,
              "#ed7953"
             ],
             [
              0.7777777777777778,
              "#fb9f3a"
             ],
             [
              0.8888888888888888,
              "#fdca26"
             ],
             [
              1,
              "#f0f921"
             ]
            ],
            "type": "heatmap"
           }
          ],
          "heatmapgl": [
           {
            "colorbar": {
             "outlinewidth": 0,
             "ticks": ""
            },
            "colorscale": [
             [
              0,
              "#0d0887"
             ],
             [
              0.1111111111111111,
              "#46039f"
             ],
             [
              0.2222222222222222,
              "#7201a8"
             ],
             [
              0.3333333333333333,
              "#9c179e"
             ],
             [
              0.4444444444444444,
              "#bd3786"
             ],
             [
              0.5555555555555556,
              "#d8576b"
             ],
             [
              0.6666666666666666,
              "#ed7953"
             ],
             [
              0.7777777777777778,
              "#fb9f3a"
             ],
             [
              0.8888888888888888,
              "#fdca26"
             ],
             [
              1,
              "#f0f921"
             ]
            ],
            "type": "heatmapgl"
           }
          ],
          "histogram": [
           {
            "marker": {
             "pattern": {
              "fillmode": "overlay",
              "size": 10,
              "solidity": 0.2
             }
            },
            "type": "histogram"
           }
          ],
          "histogram2d": [
           {
            "colorbar": {
             "outlinewidth": 0,
             "ticks": ""
            },
            "colorscale": [
             [
              0,
              "#0d0887"
             ],
             [
              0.1111111111111111,
              "#46039f"
             ],
             [
              0.2222222222222222,
              "#7201a8"
             ],
             [
              0.3333333333333333,
              "#9c179e"
             ],
             [
              0.4444444444444444,
              "#bd3786"
             ],
             [
              0.5555555555555556,
              "#d8576b"
             ],
             [
              0.6666666666666666,
              "#ed7953"
             ],
             [
              0.7777777777777778,
              "#fb9f3a"
             ],
             [
              0.8888888888888888,
              "#fdca26"
             ],
             [
              1,
              "#f0f921"
             ]
            ],
            "type": "histogram2d"
           }
          ],
          "histogram2dcontour": [
           {
            "colorbar": {
             "outlinewidth": 0,
             "ticks": ""
            },
            "colorscale": [
             [
              0,
              "#0d0887"
             ],
             [
              0.1111111111111111,
              "#46039f"
             ],
             [
              0.2222222222222222,
              "#7201a8"
             ],
             [
              0.3333333333333333,
              "#9c179e"
             ],
             [
              0.4444444444444444,
              "#bd3786"
             ],
             [
              0.5555555555555556,
              "#d8576b"
             ],
             [
              0.6666666666666666,
              "#ed7953"
             ],
             [
              0.7777777777777778,
              "#fb9f3a"
             ],
             [
              0.8888888888888888,
              "#fdca26"
             ],
             [
              1,
              "#f0f921"
             ]
            ],
            "type": "histogram2dcontour"
           }
          ],
          "mesh3d": [
           {
            "colorbar": {
             "outlinewidth": 0,
             "ticks": ""
            },
            "type": "mesh3d"
           }
          ],
          "parcoords": [
           {
            "line": {
             "colorbar": {
              "outlinewidth": 0,
              "ticks": ""
             }
            },
            "type": "parcoords"
           }
          ],
          "pie": [
           {
            "automargin": true,
            "type": "pie"
           }
          ],
          "scatter": [
           {
            "fillpattern": {
             "fillmode": "overlay",
             "size": 10,
             "solidity": 0.2
            },
            "type": "scatter"
           }
          ],
          "scatter3d": [
           {
            "line": {
             "colorbar": {
              "outlinewidth": 0,
              "ticks": ""
             }
            },
            "marker": {
             "colorbar": {
              "outlinewidth": 0,
              "ticks": ""
             }
            },
            "type": "scatter3d"
           }
          ],
          "scattercarpet": [
           {
            "marker": {
             "colorbar": {
              "outlinewidth": 0,
              "ticks": ""
             }
            },
            "type": "scattercarpet"
           }
          ],
          "scattergeo": [
           {
            "marker": {
             "colorbar": {
              "outlinewidth": 0,
              "ticks": ""
             }
            },
            "type": "scattergeo"
           }
          ],
          "scattergl": [
           {
            "marker": {
             "colorbar": {
              "outlinewidth": 0,
              "ticks": ""
             }
            },
            "type": "scattergl"
           }
          ],
          "scattermapbox": [
           {
            "marker": {
             "colorbar": {
              "outlinewidth": 0,
              "ticks": ""
             }
            },
            "type": "scattermapbox"
           }
          ],
          "scatterpolar": [
           {
            "marker": {
             "colorbar": {
              "outlinewidth": 0,
              "ticks": ""
             }
            },
            "type": "scatterpolar"
           }
          ],
          "scatterpolargl": [
           {
            "marker": {
             "colorbar": {
              "outlinewidth": 0,
              "ticks": ""
             }
            },
            "type": "scatterpolargl"
           }
          ],
          "scatterternary": [
           {
            "marker": {
             "colorbar": {
              "outlinewidth": 0,
              "ticks": ""
             }
            },
            "type": "scatterternary"
           }
          ],
          "surface": [
           {
            "colorbar": {
             "outlinewidth": 0,
             "ticks": ""
            },
            "colorscale": [
             [
              0,
              "#0d0887"
             ],
             [
              0.1111111111111111,
              "#46039f"
             ],
             [
              0.2222222222222222,
              "#7201a8"
             ],
             [
              0.3333333333333333,
              "#9c179e"
             ],
             [
              0.4444444444444444,
              "#bd3786"
             ],
             [
              0.5555555555555556,
              "#d8576b"
             ],
             [
              0.6666666666666666,
              "#ed7953"
             ],
             [
              0.7777777777777778,
              "#fb9f3a"
             ],
             [
              0.8888888888888888,
              "#fdca26"
             ],
             [
              1,
              "#f0f921"
             ]
            ],
            "type": "surface"
           }
          ],
          "table": [
           {
            "cells": {
             "fill": {
              "color": "#EBF0F8"
             },
             "line": {
              "color": "white"
             }
            },
            "header": {
             "fill": {
              "color": "#C8D4E3"
             },
             "line": {
              "color": "white"
             }
            },
            "type": "table"
           }
          ]
         },
         "layout": {
          "annotationdefaults": {
           "arrowcolor": "#2a3f5f",
           "arrowhead": 0,
           "arrowwidth": 1
          },
          "autotypenumbers": "strict",
          "coloraxis": {
           "colorbar": {
            "outlinewidth": 0,
            "ticks": ""
           }
          },
          "colorscale": {
           "diverging": [
            [
             0,
             "#8e0152"
            ],
            [
             0.1,
             "#c51b7d"
            ],
            [
             0.2,
             "#de77ae"
            ],
            [
             0.3,
             "#f1b6da"
            ],
            [
             0.4,
             "#fde0ef"
            ],
            [
             0.5,
             "#f7f7f7"
            ],
            [
             0.6,
             "#e6f5d0"
            ],
            [
             0.7,
             "#b8e186"
            ],
            [
             0.8,
             "#7fbc41"
            ],
            [
             0.9,
             "#4d9221"
            ],
            [
             1,
             "#276419"
            ]
           ],
           "sequential": [
            [
             0,
             "#0d0887"
            ],
            [
             0.1111111111111111,
             "#46039f"
            ],
            [
             0.2222222222222222,
             "#7201a8"
            ],
            [
             0.3333333333333333,
             "#9c179e"
            ],
            [
             0.4444444444444444,
             "#bd3786"
            ],
            [
             0.5555555555555556,
             "#d8576b"
            ],
            [
             0.6666666666666666,
             "#ed7953"
            ],
            [
             0.7777777777777778,
             "#fb9f3a"
            ],
            [
             0.8888888888888888,
             "#fdca26"
            ],
            [
             1,
             "#f0f921"
            ]
           ],
           "sequentialminus": [
            [
             0,
             "#0d0887"
            ],
            [
             0.1111111111111111,
             "#46039f"
            ],
            [
             0.2222222222222222,
             "#7201a8"
            ],
            [
             0.3333333333333333,
             "#9c179e"
            ],
            [
             0.4444444444444444,
             "#bd3786"
            ],
            [
             0.5555555555555556,
             "#d8576b"
            ],
            [
             0.6666666666666666,
             "#ed7953"
            ],
            [
             0.7777777777777778,
             "#fb9f3a"
            ],
            [
             0.8888888888888888,
             "#fdca26"
            ],
            [
             1,
             "#f0f921"
            ]
           ]
          },
          "colorway": [
           "#636efa",
           "#EF553B",
           "#00cc96",
           "#ab63fa",
           "#FFA15A",
           "#19d3f3",
           "#FF6692",
           "#B6E880",
           "#FF97FF",
           "#FECB52"
          ],
          "font": {
           "color": "#2a3f5f"
          },
          "geo": {
           "bgcolor": "white",
           "lakecolor": "white",
           "landcolor": "#E5ECF6",
           "showlakes": true,
           "showland": true,
           "subunitcolor": "white"
          },
          "hoverlabel": {
           "align": "left"
          },
          "hovermode": "closest",
          "mapbox": {
           "style": "light"
          },
          "paper_bgcolor": "white",
          "plot_bgcolor": "#E5ECF6",
          "polar": {
           "angularaxis": {
            "gridcolor": "white",
            "linecolor": "white",
            "ticks": ""
           },
           "bgcolor": "#E5ECF6",
           "radialaxis": {
            "gridcolor": "white",
            "linecolor": "white",
            "ticks": ""
           }
          },
          "scene": {
           "xaxis": {
            "backgroundcolor": "#E5ECF6",
            "gridcolor": "white",
            "gridwidth": 2,
            "linecolor": "white",
            "showbackground": true,
            "ticks": "",
            "zerolinecolor": "white"
           },
           "yaxis": {
            "backgroundcolor": "#E5ECF6",
            "gridcolor": "white",
            "gridwidth": 2,
            "linecolor": "white",
            "showbackground": true,
            "ticks": "",
            "zerolinecolor": "white"
           },
           "zaxis": {
            "backgroundcolor": "#E5ECF6",
            "gridcolor": "white",
            "gridwidth": 2,
            "linecolor": "white",
            "showbackground": true,
            "ticks": "",
            "zerolinecolor": "white"
           }
          },
          "shapedefaults": {
           "line": {
            "color": "#2a3f5f"
           }
          },
          "ternary": {
           "aaxis": {
            "gridcolor": "white",
            "linecolor": "white",
            "ticks": ""
           },
           "baxis": {
            "gridcolor": "white",
            "linecolor": "white",
            "ticks": ""
           },
           "bgcolor": "#E5ECF6",
           "caxis": {
            "gridcolor": "white",
            "linecolor": "white",
            "ticks": ""
           }
          },
          "title": {
           "x": 0.05
          },
          "xaxis": {
           "automargin": true,
           "gridcolor": "white",
           "linecolor": "white",
           "ticks": "",
           "title": {
            "standoff": 15
           },
           "zerolinecolor": "white",
           "zerolinewidth": 2
          },
          "yaxis": {
           "automargin": true,
           "gridcolor": "white",
           "linecolor": "white",
           "ticks": "",
           "title": {
            "standoff": 15
           },
           "zerolinecolor": "white",
           "zerolinewidth": 2
          }
         }
        },
        "width": 800,
        "xaxis": {
         "anchor": "y",
         "domain": [
          0,
          1
         ],
         "title": {}
        },
        "yaxis": {
         "anchor": "x",
         "domain": [
          0,
          1
         ],
         "title": {}
        }
       }
      },
      "image/png": "[encoded data removed]",
      "text/html": [
       "<div>                            <div id=\"f81c85d2-fda4-42df-9c7c-3bfa5b9524c4\" class=\"plotly-graph-div\" style=\"height:400px; width:800px;\"></div>            <script type=\"text/javascript\">                require([\"plotly\"], function(Plotly) {                    window.PLOTLYENV=window.PLOTLYENV || {};                                    if (document.getElementById(\"f81c85d2-fda4-42df-9c7c-3bfa5b9524c4\")) {                    Plotly.newPlot(                        \"f81c85d2-fda4-42df-9c7c-3bfa5b9524c4\",                        [{\"hovertemplate\":\"variable=Historical Portfolio\\u003cbr\\u003eindex=%{x}\\u003cbr\\u003evalue=%{y}\\u003cextra\\u003e\\u003c\\u002fextra\\u003e\",\"legendgroup\":\"Historical Portfolio\",\"line\":{\"color\":\"#636efa\",\"dash\":\"solid\"},\"marker\":{\"symbol\":\"circle\"},\"mode\":\"lines\",\"name\":\"Historical Portfolio\",\"orientation\":\"v\",\"showlegend\":true,\"x\":[\"2024-05-14T00:00:00\",\"2024-05-16T00:00:00\",\"2024-05-20T00:00:00\",\"2024-05-21T00:00:00\",\"2024-05-23T00:00:00\",\"2024-05-24T00:00:00\",\"2024-05-25T00:00:00\",\"2024-05-27T00:00:00\",\"2024-05-28T00:00:00\",\"2024-05-29T00:00:00\",\"2024-05-30T00:00:00\",\"2024-05-31T00:00:00\",\"2024-06-01T00:00:00\",\"2024-06-02T00:00:00\",\"2024-06-03T00:00:00\",\"2024-06-04T00:00:00\",\"2024-06-05T00:00:00\",\"2024-06-06T00:00:00\",\"2024-06-07T00:00:00\",\"2024-06-08T00:00:00\",\"2024-06-09T00:00:00\",\"2024-06-10T00:00:00\",\"2024-06-11T00:00:00\",\"2024-06-12T00:00:00\",\"2024-06-13T00:00:00\",\"2024-06-14T00:00:00\",\"2024-06-15T00:00:00\",\"2024-06-16T00:00:00\",\"2024-06-17T00:00:00\",\"2024-06-18T00:00:00\",\"2024-06-19T00:00:00\",\"2024-06-20T00:00:00\",\"2024-06-21T00:00:00\",\"2024-06-22T00:00:00\",\"2024-06-23T00:00:00\",\"2024-06-24T00:00:00\",\"2024-06-25T00:00:00\",\"2024-06-26T00:00:00\",\"2024-06-27T00:00:00\",\"2024-06-28T00:00:00\",\"2024-06-29T00:00:00\",\"2024-06-30T00:00:00\",\"2024-07-01T00:00:00\",\"2024-07-02T00:00:00\",\"2024-07-03T00:00:00\",\"2024-07-04T00:00:00\",\"2024-07-05T00:00:00\",\"2024-07-06T00:00:00\",\"2024-07-07T00:00:00\",\"2024-07-08T00:00:00\",\"2024-07-09T00:00:00\",\"2024-07-10T00:00:00\",\"2024-07-11T00:00:00\",\"2024-07-12T00:00:00\",\"2024-07-13T00:00:00\",\"2024-07-14T00:00:00\",\"2024-07-15T00:00:00\",\"2024-07-16T00:00:00\",\"2024-07-17T00:00:00\",\"2024-07-18T00:00:00\",\"2024-07-19T00:00:00\",\"2024-07-20T00:00:00\",\"2024-07-21T00:00:00\",\"2024-07-22T00:00:00\",\"2024-07-23T00:00:00\",\"2024-07-24T00:00:00\",\"2024-07-25T00:00:00\",\"2024-07-26T00:00:00\",\"2024-07-27T00:00:00\",\"2024-07-28T00:00:00\",\"2024-07-29T00:00:00\",\"2024-07-30T00:00:00\",\"2024-07-31T00:00:00\",\"2024-08-01T00:00:00\",\"2024-08-02T00:00:00\",\"2024-08-03T00:00:00\",\"2024-08-04T00:00:00\",\"2024-08-05T00:00:00\",\"2024-08-06T00:00:00\",\"2024-08-07T00:00:00\",\"2024-08-08T00:00:00\",\"2024-08-09T00:00:00\",\"2024-08-10T00:00:00\",\"2024-08-11T00:00:00\",\"2024-08-12T00:00:00\",\"2024-08-13T00:00:00\",\"2024-08-14T00:00:00\",\"2024-08-15T00:00:00\",\"2024-08-16T00:00:00\",\"2024-08-17T00:00:00\",\"2024-08-18T00:00:00\",\"2024-08-19T00:00:00\",\"2024-08-20T00:00:00\",\"2024-08-21T00:00:00\",\"2024-08-22T00:00:00\",\"2024-08-23T00:00:00\",\"2024-08-24T00:00:00\",\"2024-08-25T00:00:00\",\"2024-08-26T00:00:00\",\"2024-08-27T00:00:00\",\"2024-08-28T00:00:00\",\"2024-08-29T00:00:00\",\"2024-08-30T00:00:00\",\"2024-08-31T00:00:00\",\"2024-09-01T00:00:00\",\"2024-09-02T00:00:00\",\"2024-09-03T00:00:00\",\"2024-09-04T00:00:00\",\"2024-09-05T00:00:00\",\"2024-09-06T00:00:00\",\"2024-09-07T00:00:00\",\"2024-09-08T00:00:00\",\"2024-09-09T00:00:00\",\"2024-09-10T00:00:00\",\"2024-09-11T00:00:00\",\"2024-09-12T00:00:00\",\"2024-09-13T00:00:00\",\"2024-09-14T00:00:00\",\"2024-09-15T00:00:00\",\"2024-09-16T00:00:00\",\"2024-09-17T00:00:00\",\"2024-09-18T00:00:00\",\"2024-09-19T00:00:00\",\"2024-09-20T00:00:00\",\"2024-09-21T00:00:00\",\"2024-09-22T00:00:00\",\"2024-09-23T00:00:00\",\"2024-09-24T00:00:00\",\"2024-09-25T00:00:00\",\"2024-09-26T00:00:00\",\"2024-09-27T00:00:00\",\"2024-09-28T00:00:00\",\"2024-09-29T00:00:00\",\"2024-09-30T00:00:00\",\"2024-10-01T00:00:00\",\"2024-10-02T00:00:00\",\"2024-10-03T00:00:00\",\"2024-10-04T00:00:00\",\"2024-10-05T00:00:00\",\"2024-10-06T00:00:00\",\"2024-10-07T00:00:00\",\"2024-10-08T00:00:00\",\"2024-10-09T00:00:00\",\"2024-10-10T00:00:00\",\"2024-10-11T00:00:00\",\"2024-10-12T00:00:00\",\"2024-10-13T00:00:00\",\"2024-10-14T00:00:00\",\"2024-10-15T00:00:00\",\"2024-10-16T00:00:00\",\"2024-10-17T00:00:00\",\"2024-10-18T00:00:00\",\"2024-10-19T00:00:00\",\"2024-10-20T00:00:00\",\"2024-10-21T00:00:00\",\"2024-10-22T00:00:00\",\"2024-10-23T00:00:00\",\"2024-10-24T00:00:00\",\"2024-10-25T00:00:00\",\"2024-10-26T00:00:00\",\"2024-10-27T00:00:00\",\"2024-10-28T00:00:00\",\"2024-10-29T00:00:00\",\"2024-10-30T00:00:00\",\"2024-10-31T00:00:00\",\"2024-11-01T00:00:00\",\"2024-11-02T00:00:00\",\"2024-11-03T00:00:00\",\"2024-11-04T00:00:00\",\"2024-11-05T00:00:00\",\"2024-11-06T00:00:00\",\"2024-11-07T00:00:00\",\"2024-11-08T00:00:00\",\"2024-11-09T00:00:00\",\"2024-11-10T00:00:00\",\"2024-11-11T00:00:00\",\"2024-11-12T00:00:00\",\"2024-11-13T00:00:00\",\"2024-11-14T00:00:00\",\"2024-11-15T00:00:00\",\"2024-11-16T00:00:00\",\"2024-11-17T00:00:00\",\"2024-11-18T00:00:00\",\"2024-11-19T00:00:00\",\"2024-11-20T00:00:00\",\"2024-11-21T00:00:00\",\"2024-11-22T00:00:00\",\"2024-11-23T00:00:00\",\"2024-11-24T00:00:00\",\"2024-11-25T00:00:00\",\"2024-11-26T00:00:00\",\"2024-11-27T00:00:00\",\"2024-11-28T00:00:00\",\"2024-11-29T00:00:00\",\"2024-11-30T00:00:00\",\"2024-12-01T00:00:00\",\"2024-12-02T00:00:00\",\"2024-12-03T00:00:00\",\"2024-12-04T00:00:00\",\"2024-12-05T00:00:00\",\"2024-12-06T00:00:00\",\"2024-12-07T00:00:00\",\"2024-12-08T00:00:00\",\"2024-12-09T00:00:00\",\"2024-12-10T00:00:00\",\"2024-12-11T00:00:00\",\"2024-12-12T00:00:00\",\"2024-12-13T00:00:00\",\"2024-12-14T00:00:00\",\"2024-12-15T00:00:00\",\"2024-12-16T00:00:00\",\"2024-12-17T00:00:00\",\"2024-12-18T00:00:00\",\"2024-12-19T00:00:00\",\"2024-12-20T00:00:00\",\"2024-12-21T00:00:00\",\"2024-12-22T00:00:00\",\"2024-12-23T00:00:00\",\"2024-12-24T00:00:00\",\"2024-12-25T00:00:00\",\"2024-12-26T00:00:00\",\"2024-12-27T00:00:00\",\"2024-12-28T00:00:00\",\"2024-12-29T00:00:00\",\"2024-12-30T00:00:00\",\"2024-12-31T00:00:00\",\"2025-01-01T00:00:00\",\"2025-01-02T00:00:00\",\"2025-01-03T00:00:00\",\"2025-01-04T00:00:00\",\"2025-01-05T00:00:00\",\"2025-01-06T00:00:00\",\"2025-01-07T00:00:00\",\"2025-01-08T00:00:00\",\"2025-01-09T00:00:00\",\"2025-01-10T00:00:00\",\"2025-01-11T00:00:00\",\"2025-01-12T00:00:00\",\"2025-01-13T00:00:00\",\"2025-01-14T00:00:00\",\"2025-01-15T00:00:00\",\"2025-01-16T00:00:00\",\"2025-01-17T00:00:00\",\"2025-01-18T00:00:00\",\"2025-01-19T00:00:00\",\"2025-01-20T00:00:00\",\"2025-01-21T00:00:00\",\"2025-01-22T00:00:00\",\"2025-01-23T00:00:00\",\"2025-01-24T00:00:00\",\"2025-01-25T00:00:00\",\"2025-01-26T00:00:00\",\"2025-01-27T00:00:00\",\"2025-01-28T00:00:00\",\"2025-01-29T00:00:00\",\"2025-01-30T00:00:00\",\"2025-01-31T00:00:00\",\"2025-02-01T00:00:00\",\"2025-02-02T00:00:00\",\"2025-02-03T00:00:00\",\"2025-02-04T00:00:00\",\"2025-02-05T00:00:00\",\"2025-02-06T00:00:00\",\"2025-02-07T00:00:00\",\"2025-02-08T00:00:00\",\"2025-02-09T00:00:00\",\"2025-02-10T00:00:00\",\"2025-02-11T00:00:00\",\"2025-02-12T00:00:00\",\"2025-02-13T00:00:00\",\"2025-02-14T00:00:00\",\"2025-02-15T00:00:00\",\"2025-02-16T00:00:00\",\"2025-02-17T00:00:00\",\"2025-02-18T00:00:00\",\"2025-02-19T00:00:00\",\"2025-02-20T00:00:00\",\"2025-02-21T00:00:00\",\"2025-02-22T00:00:00\",\"2025-02-23T00:00:00\",\"2025-02-24T00:00:00\",\"2025-02-25T00:00:00\",\"2025-02-26T00:00:00\",\"2025-02-27T00:00:00\",\"2025-02-28T00:00:00\",\"2025-03-01T00:00:00\",\"2025-03-02T00:00:00\",\"2025-03-03T00:00:00\",\"2025-03-04T00:00:00\",\"2025-03-05T00:00:00\",\"2025-03-06T00:00:00\",\"2025-03-07T00:00:00\",\"2025-03-08T00:00:00\",\"2025-03-09T00:00:00\",\"2025-03-10T00:00:00\",\"2025-03-11T00:00:00\",\"2025-03-12T00:00:00\",\"2025-03-13T00:00:00\",\"2025-03-14T00:00:00\",\"2025-03-15T00:00:00\",\"2025-03-16T00:00:00\",\"2025-03-17T00:00:00\",\"2025-03-18T00:00:00\",\"2025-03-19T00:00:00\",\"2025-03-20T00:00:00\",\"2025-03-21T00:00:00\",\"2025-03-22T00:00:00\",\"2025-03-23T00:00:00\",\"2025-03-24T00:00:00\",\"2025-03-25T00:00:00\",\"2025-03-26T00:00:00\",\"2025-03-27T00:00:00\",\"2025-03-28T00:00:00\",\"2025-03-29T00:00:00\",\"2025-03-30T00:00:00\",\"2025-03-31T00:00:00\",\"2025-04-01T00:00:00\",\"2025-04-02T00:00:00\",\"2025-04-03T00:00:00\",\"2025-04-04T00:00:00\",\"2025-04-05T00:00:00\",\"2025-04-06T00:00:00\",\"2025-04-07T00:00:00\",\"2025-04-08T00:00:00\",\"2025-04-09T00:00:00\",\"2025-04-10T00:00:00\",\"2025-04-11T00:00:00\",\"2025-04-12T00:00:00\",\"2025-04-13T00:00:00\",\"2025-04-14T00:00:00\",\"2025-04-15T00:00:00\",\"2025-04-16T00:00:00\",\"2025-04-17T00:00:00\",\"2025-04-18T00:00:00\",\"2025-04-19T00:00:00\",\"2025-04-20T00:00:00\",\"2025-04-21T00:00:00\",\"2025-04-22T00:00:00\",\"2025-04-23T00:00:00\",\"2025-04-24T00:00:00\",\"2025-04-25T00:00:00\",\"2025-04-26T00:00:00\",\"2025-04-27T00:00:00\",\"2025-04-28T00:00:00\",\"2025-04-29T00:00:00\",\"2025-04-30T00:00:00\",\"2025-05-01T00:00:00\",\"2025-05-02T00:00:00\",\"2025-05-03T00:00:00\",\"2025-05-04T00:00:00\",\"2025-05-05T00:00:00\",\"2025-05-06T00:00:00\",\"2025-05-07T00:00:00\",\"2025-05-08T00:00:00\",\"2025-05-09T00:00:00\",\"2025-05-10T00:00:00\",\"2025-05-11T00:00:00\",\"2025-05-12T00:00:00\",\"2025-05-13T00:00:00\",\"2025-05-14T00:00:00\",\"2025-05-15T00:00:00\",\"2025-05-16T00:00:00\",\"2025-05-17T00:00:00\",\"2025-05-18T00:00:00\",\"2025-05-19T00:00:00\",\"2025-05-20T00:00:00\",\"2025-05-21T00:00:00\",\"2025-05-22T00:00:00\",\"2025-05-23T00:00:00\",\"2025-05-24T00:00:00\",\"2025-05-25T00:00:00\",\"2025-05-26T00:00:00\",\"2025-05-27T00:00:00\",\"2025-05-28T00:00:00\",\"2025-05-29T00:00:00\",\"2025-05-30T00:00:00\",\"2025-05-31T00:00:00\",\"2025-06-01T00:00:00\",\"2025-06-02T00:00:00\",\"2025-06-03T00:00:00\",\"2025-06-04T00:00:00\",\"2025-06-05T00:00:00\",\"2025-06-06T00:00:00\",\"2025-06-07T00:00:00\",\"2025-06-08T00:00:00\",\"2025-06-09T00:00:00\",\"2025-06-10T00:00:00\",\"2025-06-11T00:00:00\",\"2025-06-12T00:00:00\",\"2025-06-13T00:00:00\",\"2025-06-14T00:00:00\",\"2025-06-15T00:00:00\",\"2025-06-16T00:00:00\",\"2025-06-17T00:00:00\",\"2025-06-18T00:00:00\",\"2025-06-19T00:00:00\",\"2025-06-20T00:00:00\",\"2025-06-21T00:00:00\",\"2025-06-22T00:00:00\",\"2025-06-23T00:00:00\",\"2025-06-24T00:00:00\",\"2025-06-25T00:00:00\",\"2025-06-26T00:00:00\",\"2025-06-27T00:00:00\",\"2025-06-28T00:00:00\",\"2025-06-29T00:00:00\",\"2025-06-30T00:00:00\",\"2025-07-01T00:00:00\",\"2025-07-02T00:00:00\",\"2025-07-03T00:00:00\",\"2025-07-04T00:00:00\",\"2025-07-05T00:00:00\",\"2025-07-06T00:00:00\",\"2025-07-07T00:00:00\",\"2025-07-08T00:00:00\",\"2025-07-09T00:00:00\",\"2025-07-10T00:00:00\",\"2025-07-11T00:00:00\",\"2025-07-12T00:00:00\",\"2025-07-13T00:00:00\",\"2025-07-14T00:00:00\",\"2025-07-15T00:00:00\",\"2025-07-16T00:00:00\",\"2025-07-17T00:00:00\",\"2025-07-18T00:00:00\",\"2025-07-19T00:00:00\",\"2025-07-20T00:00:00\",\"2025-07-21T00:00:00\",\"2025-07-22T00:00:00\",\"2025-07-23T00:00:00\",\"2025-07-24T00:00:00\",\"2025-07-25T00:00:00\",\"2025-07-26T00:00:00\",\"2025-07-27T00:00:00\",\"2025-07-28T00:00:00\",\"2025-07-29T00:00:00\",\"2025-07-30T00:00:00\",\"2025-07-31T00:00:00\",\"2025-08-01T00:00:00\",\"2025-08-02T00:00:00\",\"2025-08-03T00:00:00\",\"2025-08-04T00:00:00\",\"2025-08-05T00:00:00\",\"2025-08-06T00:00:00\",\"2025-08-07T00:00:00\",\"2025-08-08T00:00:00\",\"2025-08-09T00:00:00\",\"2025-08-10T00:00:00\",\"2025-08-11T00:00:00\",\"2025-08-12T00:00:00\",\"2025-08-13T00:00:00\",\"2025-08-14T00:00:00\",\"2025-08-15T00:00:00\",\"2025-08-16T00:00:00\",\"2025-08-17T00:00:00\",\"2025-08-18T00:00:00\",\"2025-08-19T00:00:00\",\"2025-08-20T00:00:00\",\"2025-08-21T00:00:00\",\"2025-08-22T00:00:00\",\"2025-08-23T00:00:00\",\"2025-08-24T00:00:00\",\"2025-08-25T00:00:00\",\"2025-08-26T00:00:00\",\"2025-08-27T00:00:00\",\"2025-08-28T00:00:00\",\"2025-08-29T00:00:00\",\"2025-08-30T00:00:00\",\"2025-08-31T00:00:00\",\"2025-09-01T00:00:00\",\"2025-09-02T00:00:00\",\"2025-09-03T00:00:00\",\"2025-09-04T00:00:00\",\"2025-09-05T00:00:00\",\"2025-09-06T00:00:00\",\"2025-09-07T00:00:00\",\"2025-09-08T00:00:00\",\"2025-09-09T00:00:00\",\"2025-09-10T00:00:00\",\"2025-09-11T00:00:00\",\"2025-09-12T00:00:00\",\"2025-09-13T00:00:00\",\"2025-09-14T00:00:00\",\"2025-09-15T00:00:00\",\"2025-09-16T00:00:00\",\"2025-09-17T00:00:00\",\"2025-09-18T00:00:00\",\"2025-09-19T00:00:00\",\"2025-09-20T00:00:00\",\"2025-09-21T00:00:00\",\"2025-09-22T00:00:00\",\"2025-09-23T00:00:00\",\"2025-09-24T00:00:00\",\"2025-09-25T00:00:00\",\"2025-09-26T00:00:00\",\"2025-09-27T00:00:00\",\"2025-09-28T00:00:00\",\"2025-09-29T00:00:00\",\"2025-09-30T00:00:00\",\"2025-10-01T00:00:00\",\"2025-10-02T00:00:00\",\"2025-10-03T00:00:00\",\"2025-10-04T00:00:00\",\"2025-10-05T00:00:00\",\"2025-10-06T00:00:00\",\"2025-10-07T00:00:00\",\"2025-10-08T00:00:00\",\"2025-10-09T00:00:00\",\"2025-10-10T00:00:00\",\"2025-10-11T00:00:00\",\"2025-10-12T00:00:00\",\"2025-10-13T00:00:00\",\"2025-10-14T00:00:00\",\"2025-10-15T00:00:00\",\"2025-10-16T00:00:00\",\"2025-10-17T00:00:00\",\"2025-10-18T00:00:00\",\"2025-10-19T00:00:00\",\"2025-10-20T00:00:00\",\"2025-10-21T00:00:00\",\"2025-10-22T00:00:00\",\"2025-10-23T00:00:00\",\"2025-10-24T00:00:00\"],\"xaxis\":\"x\",\"y\":[0.9560962861059175,0.9435027554898684,1.0363088142592438,1.0211199326568676,1.001072177692809,0.9830306862238136,1.0321737599420355,1.0393023114211197,1.0244270824204011,1.0006824385235407,1.0220519938027959,1.0296525572670803,1.0566030560886008,1.0373943019584908,1.0387889497980292,1.0703423473077316,1.1036029220302235,1.0870277624933489,1.0423169167253403,1.0189108868842838,1.0364078158742105,1.0153969999786718,0.9637312725382527,0.9939038603089129,0.945880523189529,0.9376934493420064,0.9564734436774667,0.9919772705084312,0.9496268340372951,0.9087876969329611,0.9047400564740934,0.8911826386036267,0.8917947980875242,0.9026359687407484,0.8707100392043302,0.8554629363628685,0.8916975342839594,0.8808825568250055,0.9123553273993679,0.8790551218353978,0.8694374663524074,0.9011405076396973,0.8950945369628145,0.8943003549173866,0.8361088848606535,0.7694311163701394,0.7594433217468526,0.8167381986470237,0.7689027552754649,0.7864581507760274,0.8046296826858236,0.8178839403748772,0.7997237295141494,0.8179154707286362,0.8380477763646256,0.866639425146742,0.9491888247628448,0.945850539009983,0.9237369833029359,0.924066291844147,0.9531930644583373,0.9645597888492536,0.9868125387070605,0.9868125387070605,0.9868125387070605,0.9755594260984551,0.9682688048319711,1.0007938418853441,1.018854833503503,1.0148001234455393,1.0030479536473957,0.9943716886132994,0.9665700565589141,0.9694685887623212,0.8936157276038059,0.855050083494546,0.8124824807346743,0.7493736459438005,0.7897872210885686,0.7667150185352801,0.85579737135782,0.831023152480911,0.8372854333105085,0.7895138986888194,0.8060762909648519,0.8169975363600952,0.7966629907423176,0.775791689641811,0.7764515072751437,0.801511574497705,0.7836426111228324,0.8002718756024317,0.7875426691182076,0.8080036366951269,0.8126085827603228,0.8670412547334779,0.8762923413874123,0.8686913334635606,0.840067732626738,0.7960968460833745,0.7909243363442842,0.7939022551515943,0.7934699712711589,0.783607572667625,0.7579556099930435,0.788813620776487,0.7604285519913125,0.773493349157629,0.7495744045473893,0.7298263756937882,0.7349925218473299,0.7449667538352606,0.7756884896797708,0.7895881481017428,0.7843141246704458,0.8001223528552381,0.8169058338681011,0.8053925810675826,0.7874857808820833,0.7790360197277528,0.7943025545608431,0.8187877286204873,0.8350684261301137,0.8474398008300317,0.855818235087385,0.8442110614271421,0.8594919807649783,0.8699416108111719,0.8601952599232502,0.8972415558354095,0.904636330277007,0.9027467052381428,0.8985912812812815,0.8684895137503681,0.8400333431622108,0.8376344194912709,0.8352164408196628,0.8685949009842955,0.8620268509471766,0.8770290577198576,0.8704573433967154,0.8675483524516036,0.8537029809887244,0.8659770332824819,0.8856865690207906,0.8971895165418436,0.9020055317013126,0.9549086146719793,0.9457176093267333,0.9435685538641362,0.9371630670943945,0.9404426894584755,0.9385356967386139,0.9548262109068304,0.936086276025837,0.9292610316319312,0.9077459152341831,0.9153213654662856,0.8682713256008292,0.875781432615206,0.9294054441338367,0.9207982585386939,0.947833274517079,0.9501280468496965,0.9190311269644502,0.9192535344718049,0.9056653599724789,0.8889283794733859,0.8616539418187573,0.8875715061791036,0.9788213643922103,0.9878827315170511,0.9852357819963934,1.0051625976005876,1.0434938654546204,1.1108672710640026,1.088798303904006,1.0655023107643196,1.1101706247166443,1.297030892041007,1.3307373212712112,1.6776415923538972,1.602944389325492,1.6122039430186705,1.597414936762941,1.6298417634453377,1.6560739800903528,1.653619508230554,1.6479211929851112,1.571209296249871,1.5917980562765344,1.6139195712777186,1.6003519312461727,1.6189501502573809,1.647049126323502,1.641515653700052,1.6558772273328746,1.8356874445535145,1.8047630694384849,1.9340354407962228,1.932662424046468,1.9250387519065342,1.97486312309577,1.7297784313410138,1.808412956176473,1.9230796385205697,1.8633362834204588,1.871976731791188,1.8424511535926116,1.8800775000979146,1.8831292121399694,1.882577425216215,1.7843104505151568,1.745666021761161,1.7288525535616028,1.6606564111713662,1.6542446102481252,1.7015050679269748,1.7546865630286135,1.7491876833943274,1.6739888499605202,1.6691504328151758,1.6927202917556348,1.6575182140083224,1.6062900805664626,1.6828643993045758,1.694901231432162,1.74744192530807,1.7923730032907645,1.8137400775072,1.7927322916318467,1.855654731636821,1.7239960690025582,1.7356434204068052,1.6580562682889555,1.7078580169171034,1.6836427798030922,1.6518762102690496,1.6489296313424027,1.6382062346521615,1.732594395816107,1.7062303606499902,1.762416760884064,1.7604226410523327,1.6698502684063208,1.6722132997465344,1.7136226285758165,1.708716327298696,1.7027537314726282,1.6741606377963822,1.7908599410953587,1.903016825733229,1.8814683080739265,1.8172854027508523,1.8664577791888057,2.1190565785881503,2.045678239338483,1.9746999131464138,1.8614476504416662,2.1147650994449765,2.0121671223603514,1.9947472974732567,1.9937928490272379,2.0295711982957303,2.00595609328126,2.0692892811334045,2.0625234085501423,1.9888684872718674,2.0068110401977157,2.0009328461559153,2.253282068625734,2.3504665601284054,2.3085181782337707,2.261074225690422,2.3213854029089656,2.330707278478111,2.4319914388310946,2.3108499596852234,2.4573269253266377,2.505586465650064,2.3377115707018645,2.273570872545397,2.108666573332499,2.1734946685210454,2.2015753741930166,2.212507364979683,2.3095411387478912,2.1127534349871615,2.1222765389816076,2.1297586715157366,2.062621817038268,1.990129315868233,1.9789247775536094,1.849666137719551,1.8475376058239523,1.87854406326888,1.9273065177230744,1.8665640472008358,1.8797727300947709,1.9619584699157366,1.966036509625815,2.027615174101108,2.028678983844414,2.035836560576372,1.9519341154976315,1.8587905108226472,1.874397521661433,1.9212747137397086,2.015794611526535,2.0145261635741174,1.945430925219803,1.9377127385578636,1.8771902346004716,1.8357384330465378,1.8442094634191724,1.8367536927554593,1.8763108925202332,1.8381822753114687,1.8712138543110832,1.8517375350999001,1.8473792018772381,1.685561694623252,1.7968752596446314,1.768543640664461,1.93062545842619,1.8303902736958788,1.8651843517678417,1.871616467202723,0.9949706876655589,0.9159321718879039,0.9511553812379768,0.9352190557757956,0.9272839100713516,0.9206549991240889,0.9320483432792074,0.9128083455590786,0.911761017565451,0.9748207011044435,0.9915594436255624,0.9874457276821674,0.9952530756174595,0.9995873990625078,0.9883975486378228,0.9930100684734753,0.9749654491264715,0.9747671452360847,0.9869686893058338,0.9764425604114363,0.9638636156268032,0.9425409467396211,0.9474747864533716,0.9543023267951966,0.951042147694949,1.0331668397124119,1.0529199625839476,1.1105831938062305,1.0814638352553185,1.0902508290915387,1.1168228941825835,1.0919698437189085,1.0660597728761234,1.0578377278119542,1.043788327317166,1.0830557225966084,1.0684811688318643,1.0781538356898854,1.1035660980118973,1.1365431952173455,1.0785630772323553,1.0885616744110527,1.0938216135905723,1.0909855060058333,1.09731788111579,1.0838716364025178,1.0570953742777913,1.0037140675885932,1.0111722694264893,1.0221697453952008,1.0266521940509523,1.019381786524804,1.0082988386906502,0.9619642364320875,0.9865689508642418,1.0038176471887412,1.0032877721740037,1.0479554582026331,1.0646888985653271,1.0355300061690216,0.9931374515702643,0.98407773204107,0.9733179901395339,0.9843333086234685,0.9876381520007038,0.9634391252809402,0.96823303604772,0.9632408675435647,0.9385560201700175,0.9153625970807665,0.8948722378608259,0.9545782128687945,0.9662543797883134,0.9626456777783661,0.9500034389621337,0.9569316518548536,0.9709033358259453,0.9874577747119773,0.9760733352855872,0.9520355022828205,0.9845626055995699,0.9912755649850239,0.9669706890412042,0.9669521153210234,0.9822208216549744,0.9717648930481702,0.9804539331006341,1.0097134607347866,1.0580016765048783,1.0689242087689244,1.0640784097948408,1.087198558745235,1.0961840698470426,1.097248941609412,1.1228094415075944,1.1363108350618356,1.1316780390795336,1.1354291374093821,1.1924682701538405,1.2022324758456524,1.2250600786266355,1.1710766470283276,1.1576623845044853,1.1656831410421353,1.16839577797512,1.1873730880188753,1.1587784542117316,1.156912957210638,1.1459442039819958,1.1187042569101167,1.0844938344368702,1.0716527490814483,1.0957393472523278,1.1229512219384121,1.1007079636276964,1.120538491244707,1.1576734631334855,1.1613760472634314,1.1770985263386209,1.1925884322736051,1.1785187372341044,1.23594421486275,1.2707987677324857,1.2062803975019423,1.1879335203788277,1.193089182045452,1.1964681594474293,1.1684414826664458,1.1277524694638195,1.1641242305724686,1.1364770719627042,1.213741797068646,1.205601116053731,1.1908217367955207,1.121927573863493,1.1563623879343965,1.1517904588009429,1.17027214696231,1.124572358013921,1.1285509682015262,1.125156579647475,1.1193437947229368,1.1325603194198275,1.137276420096744,1.1187862308598395,1.115809488140717,1.0858299514719354,1.1181005463640277,1.1254173640246956,1.1272124815703075,1.1447716463711044,1.1651497815026473,1.180750371595445,1.179034892979819,1.1680460420187637,1.1680460420187637,1.1680460420187637,1.1712908889484581,1.1865919955785071,1.1639761602003438,1.1689320676655308,1.157839347666195,1.128329340103443,1.1183752136452842,1.1261026425696492,1.0892731556849715,1.1068193393467414,1.1065392942866612,1.114732501820051,1.1224461022911834,1.1195984710031512,1.1606365352076693,1.1751258140413479,1.1842601825605565,1.1801628361188479,1.1854738817528627,1.2029448410212946,1.1661473597138001,1.184588490204522,1.1657849278726644,1.0551202638418353,1.0415590641494976,1.085494393996462,1.0973563848811085,1.0725020212003198,1.057893946721861,1.0352038777207413,1.0139561441885736,1.0251057659254625,1.0412614951153416,1.057503845690024,1.037624133579782,1.0320801986909722,1.0478557328914317,1.0431285055489403],\"yaxis\":\"y\",\"type\":\"scatter\"}],                        {\"template\":{\"data\":{\"histogram2dcontour\":[{\"type\":\"histogram2dcontour\",\"colorbar\":{\"outlinewidth\":0,\"ticks\":\"\"},\"colorscale\":[[0.0,\"#0d0887\"],[0.1111111111111111,\"#46039f\"],[0.2222222222222222,\"#7201a8\"],[0.3333333333333333,\"#9c179e\"],[0.4444444444444444,\"#bd3786\"],[0.5555555555555556,\"#d8576b\"],[0.6666666666666666,\"#ed7953\"],[0.7777777777777778,\"#fb9f3a\"],[0.8888888888888888,\"#fdca26\"],[1.0,\"#f0f921\"]]}],\"choropleth\":[{\"type\":\"choropleth\",\"colorbar\":{\"outlinewidth\":0,\"ticks\":\"\"}}],\"histogram2d\":[{\"type\":\"histogram2d\",\"colorbar\":{\"outlinewidth\":0,\"ticks\":\"\"},\"colorscale\":[[0.0,\"#0d0887\"],[0.1111111111111111,\"#46039f\"],[0.2222222222222222,\"#7201a8\"],[0.3333333333333333,\"#9c179e\"],[0.4444444444444444,\"#bd3786\"],[0.5555555555555556,\"#d8576b\"],[0.6666666666666666,\"#ed7953\"],[0.7777777777777778,\"#fb9f3a\"],[0.8888888888888888,\"#fdca26\"],[1.0,\"#f0f921\"]]}],\"heatmap\":[{\"type\":\"heatmap\",\"colorbar\":{\"outlinewidth\":0,\"ticks\":\"\"},\"colorscale\":[[0.0,\"#0d0887\"],[0.1111111111111111,\"#46039f\"],[0.2222222222222222,\"#7201a8\"],[0.3333333333333333,\"#9c179e\"],[0.4444444444444444,\"#bd3786\"],[0.5555555555555556,\"#d8576b\"],[0.6666666666666666,\"#ed7953\"],[0.7777777777777778,\"#fb9f3a\"],[0.8888888888888888,\"#fdca26\"],[1.0,\"#f0f921\"]]}],\"heatmapgl\":[{\"type\":\"heatmapgl\",\"colorbar\":{\"outlinewidth\":0,\"ticks\":\"\"},\"colorscale\":[[0.0,\"#0d0887\"],[0.1111111111111111,\"#46039f\"],[0.2222222222222222,\"#7201a8\"],[0.3333333333333333,\"#9c179e\"],[0.4444444444444444,\"#bd3786\"],[0.5555555555555556,\"#d8576b\"],[0.6666666666666666,\"#ed7953\"],[0.7777777777777778,\"#fb9f3a\"],[0.8888888888888888,\"#fdca26\"],[1.0,\"#f0f921\"]]}],\"contourcarpet\":[{\"type\":\"contourcarpet\",\"colorbar\":{\"outlinewidth\":0,\"ticks\":\"\"}}],\"contour\":[{\"type\":\"contour\",\"colorbar\":{\"outlinewidth\":0,\"ticks\":\"\"},\"colorscale\":[[0.0,\"#0d0887\"],[0.1111111111111111,\"#46039f\"],[0.2222222222222222,\"#7201a8\"],[0.3333333333333333,\"#9c179e\"],[0.4444444444444444,\"#bd3786\"],[0.5555555555555556,\"#d8576b\"],[0.6666666666666666,\"#ed7953\"],[0.7777777777777778,\"#fb9f3a\"],[0.8888888888888888,\"#fdca26\"],[1.0,\"#f0f921\"]]}],\"surface\":[{\"type\":\"surface\",\"colorbar\":{\"outlinewidth\":0,\"ticks\":\"\"},\"colorscale\":[[0.0,\"#0d0887\"],[0.1111111111111111,\"#46039f\"],[0.2222222222222222,\"#7201a8\"],[0.3333333333333333,\"#9c179e\"],[0.4444444444444444,\"#bd3786\"],[0.5555555555555556,\"#d8576b\"],[0.6666666666666666,\"#ed7953\"],[0.7777777777777778,\"#fb9f3a\"],[0.8888888888888888,\"#fdca26\"],[1.0,\"#f0f921\"]]}],\"mesh3d\":[{\"type\":\"mesh3d\",\"colorbar\":{\"outlinewidth\":0,\"ticks\":\"\"}}],\"scatter\":[{\"fillpattern\":{\"fillmode\":\"overlay\",\"size\":10,\"solidity\":0.2},\"type\":\"scatter\"}],\"parcoords\":[{\"type\":\"parcoords\",\"line\":{\"colorbar\":{\"outlinewidth\":0,\"ticks\":\"\"}}}],\"scatterpolargl\":[{\"type\":\"scatterpolargl\",\"marker\":{\"colorbar\":{\"outlinewidth\":0,\"ticks\":\"\"}}}],\"bar\":[{\"error_x\":{\"color\":\"#2a3f5f\"},\"error_y\":{\"color\":\"#2a3f5f\"},\"marker\":{\"line\":{\"color\":\"#E5ECF6\",\"width\":0.5},\"pattern\":{\"fillmode\":\"overlay\",\"size\":10,\"solidity\":0.2}},\"type\":\"bar\"}],\"scattergeo\":[{\"type\":\"scattergeo\",\"marker\":{\"colorbar\":{\"outlinewidth\":0,\"ticks\":\"\"}}}],\"scatterpolar\":[{\"type\":\"scatterpolar\",\"marker\":{\"colorbar\":{\"outlinewidth\":0,\"ticks\":\"\"}}}],\"histogram\":[{\"marker\":{\"pattern\":{\"fillmode\":\"overlay\",\"size\":10,\"solidity\":0.2}},\"type\":\"histogram\"}],\"scattergl\":[{\"type\":\"scattergl\",\"marker\":{\"colorbar\":{\"outlinewidth\":0,\"ticks\":\"\"}}}],\"scatter3d\":[{\"type\":\"scatter3d\",\"line\":{\"colorbar\":{\"outlinewidth\":0,\"ticks\":\"\"}},\"marker\":{\"colorbar\":{\"outlinewidth\":0,\"ticks\":\"\"}}}],\"scattermapbox\":[{\"type\":\"scattermapbox\",\"marker\":{\"colorbar\":{\"outlinewidth\":0,\"ticks\":\"\"}}}],\"scatterternary\":[{\"type\":\"scatterternary\",\"marker\":{\"colorbar\":{\"outlinewidth\":0,\"ticks\":\"\"}}}],\"scattercarpet\":[{\"type\":\"scattercarpet\",\"marker\":{\"colorbar\":{\"outlinewidth\":0,\"ticks\":\"\"}}}],\"carpet\":[{\"aaxis\":{\"endlinecolor\":\"#2a3f5f\",\"gridcolor\":\"white\",\"linecolor\":\"white\",\"minorgridcolor\":\"white\",\"startlinecolor\":\"#2a3f5f\"},\"baxis\":{\"endlinecolor\":\"#2a3f5f\",\"gridcolor\":\"white\",\"linecolor\":\"white\",\"minorgridcolor\":\"white\",\"startlinecolor\":\"#2a3f5f\"},\"type\":\"carpet\"}],\"table\":[{\"cells\":{\"fill\":{\"color\":\"#EBF0F8\"},\"line\":{\"color\":\"white\"}},\"header\":{\"fill\":{\"color\":\"#C8D4E3\"},\"line\":{\"color\":\"white\"}},\"type\":\"table\"}],\"barpolar\":[{\"marker\":{\"line\":{\"color\":\"#E5ECF6\",\"width\":0.5},\"pattern\":{\"fillmode\":\"overlay\",\"size\":10,\"solidity\":0.2}},\"type\":\"barpolar\"}],\"pie\":[{\"automargin\":true,\"type\":\"pie\"}]},\"layout\":{\"autotypenumbers\":\"strict\",\"colorway\":[\"#636efa\",\"#EF553B\",\"#00cc96\",\"#ab63fa\",\"#FFA15A\",\"#19d3f3\",\"#FF6692\",\"#B6E880\",\"#FF97FF\",\"#FECB52\"],\"font\":{\"color\":\"#2a3f5f\"},\"hovermode\":\"closest\",\"hoverlabel\":{\"align\":\"left\"},\"paper_bgcolor\":\"white\",\"plot_bgcolor\":\"#E5ECF6\",\"polar\":{\"bgcolor\":\"#E5ECF6\",\"angularaxis\":{\"gridcolor\":\"white\",\"linecolor\":\"white\",\"ticks\":\"\"},\"radialaxis\":{\"gridcolor\":\"white\",\"linecolor\":\"white\",\"ticks\":\"\"}},\"ternary\":{\"bgcolor\":\"#E5ECF6\",\"aaxis\":{\"gridcolor\":\"white\",\"linecolor\":\"white\",\"ticks\":\"\"},\"baxis\":{\"gridcolor\":\"white\",\"linecolor\":\"white\",\"ticks\":\"\"},\"caxis\":{\"gridcolor\":\"white\",\"linecolor\":\"white\",\"ticks\":\"\"}},\"coloraxis\":{\"colorbar\":{\"outlinewidth\":0,\"ticks\":\"\"}},\"colorscale\":{\"sequential\":[[0.0,\"#0d0887\"],[0.1111111111111111,\"#46039f\"],[0.2222222222222222,\"#7201a8\"],[0.3333333333333333,\"#9c179e\"],[0.4444444444444444,\"#bd3786\"],[0.5555555555555556,\"#d8576b\"],[0.6666666666666666,\"#ed7953\"],[0.7777777777777778,\"#fb9f3a\"],[0.8888888888888888,\"#fdca26\"],[1.0,\"#f0f921\"]],\"sequentialminus\":[[0.0,\"#0d0887\"],[0.1111111111111111,\"#46039f\"],[0.2222222222222222,\"#7201a8\"],[0.3333333333333333,\"#9c179e\"],[0.4444444444444444,\"#bd3786\"],[0.5555555555555556,\"#d8576b\"],[0.6666666666666666,\"#ed7953\"],[0.7777777777777778,\"#fb9f3a\"],[0.8888888888888888,\"#fdca26\"],[1.0,\"#f0f921\"]],\"diverging\":[[0,\"#8e0152\"],[0.1,\"#c51b7d\"],[0.2,\"#de77ae\"],[0.3,\"#f1b6da\"],[0.4,\"#fde0ef\"],[0.5,\"#f7f7f7\"],[0.6,\"#e6f5d0\"],[0.7,\"#b8e186\"],[0.8,\"#7fbc41\"],[0.9,\"#4d9221\"],[1,\"#276419\"]]},\"xaxis\":{\"gridcolor\":\"white\",\"linecolor\":\"white\",\"ticks\":\"\",\"title\":{\"standoff\":15},\"zerolinecolor\":\"white\",\"automargin\":true,\"zerolinewidth\":2},\"yaxis\":{\"gridcolor\":\"white\",\"linecolor\":\"white\",\"ticks\":\"\",\"title\":{\"standoff\":15},\"zerolinecolor\":\"white\",\"automargin\":true,\"zerolinewidth\":2},\"scene\":{\"xaxis\":{\"backgroundcolor\":\"#E5ECF6\",\"gridcolor\":\"white\",\"linecolor\":\"white\",\"showbackground\":true,\"ticks\":\"\",\"zerolinecolor\":\"white\",\"gridwidth\":2},\"yaxis\":{\"backgroundcolor\":\"#E5ECF6\",\"gridcolor\":\"white\",\"linecolor\":\"white\",\"showbackground\":true,\"ticks\":\"\",\"zerolinecolor\":\"white\",\"gridwidth\":2},\"zaxis\":{\"backgroundcolor\":\"#E5ECF6\",\"gridcolor\":\"white\",\"linecolor\":\"white\",\"showbackground\":true,\"ticks\":\"\",\"zerolinecolor\":\"white\",\"gridwidth\":2}},\"shapedefaults\":{\"line\":{\"color\":\"#2a3f5f\"}},\"annotationdefaults\":{\"arrowcolor\":\"#2a3f5f\",\"arrowhead\":0,\"arrowwidth\":1},\"geo\":{\"bgcolor\":\"white\",\"landcolor\":\"#E5ECF6\",\"subunitcolor\":\"white\",\"showland\":true,\"showlakes\":true,\"lakecolor\":\"white\"},\"title\":{\"x\":0.05},\"mapbox\":{\"style\":\"light\"}}},\"xaxis\":{\"anchor\":\"y\",\"domain\":[0.0,1.0],\"title\":{}},\"yaxis\":{\"anchor\":\"x\",\"domain\":[0.0,1.0],\"title\":{}},\"legend\":{\"title\":{\"text\":\"variable\"},\"tracegroupgap\":0},\"margin\":{\"t\":60},\"font\":{\"color\":\"white\"},\"plot_bgcolor\":\"black\",\"paper_bgcolor\":\"black\",\"width\":800,\"height\":400},                        {\"responsive\": true}                    ).then(function(){\n",
       "                            \n",
       "var gd = document.getElementById('f81c85d2-fda4-42df-9c7c-3bfa5b9524c4');\n",
       "var x = new MutationObserver(function (mutations, observer) {{\n",
       "        var display = window.getComputedStyle(gd).display;\n",
       "        if (!display || display === 'none') {{\n",
       "            console.log([gd, 'removed!']);\n",
       "            Plotly.purge(gd);\n",
       "            observer.disconnect();\n",
       "        }}\n",
       "}});\n",
       "\n",
       "// Listen for the removal of the full notebook cells\n",
       "var notebookContainer = gd.closest('#notebook-container');\n",
       "if (notebookContainer) {{\n",
       "    x.observe(notebookContainer, {childList: true});\n",
       "}}\n",
       "\n",
       "// Listen for the clearing of the current output cell\n",
       "var outputEl = gd.closest('.output');\n",
       "if (outputEl) {{\n",
       "    x.observe(outputEl, {childList: true});\n",
       "}}\n",
       "\n",
       "                        })                };                });            </script>        </div>"
      ]
     },
     "metadata": {},
     "output_type": "display_data"
    }
   ],
   "source": [
    "cumulative_performance_ex_post=(1+historical_ptf['Historical Portfolio']).cumprod()\n",
    "fig=px.line(cumulative_performance_ex_post)\n",
    "fig.update_layout(plot_bgcolor=\"black\", paper_bgcolor=\"black\", font_color=\"white\",width=800, height=400)\n",
    "fig.update_layout(xaxis_title=None, yaxis_title=None)\n",
    "fig.show()"
   ]
  },
  {
   "cell_type": "code",
   "execution_count": 89,
   "id": "ecc4a0e0-d212-4179-b1a5-c4f8dcd802fa",
   "metadata": {},
   "outputs": [
    {
     "data": {
      "application/vnd.plotly.v1+json": {
       "config": {
        "plotlyServerURL": "https://plot.ly"
       },
       "data": [
        {
         "alignmentgroup": "True",
         "hovertemplate": "color=red<br>index=%{x}<br>value=%{y}<extra></extra>",
         "legendgroup": "red",
         "marker": {
          "color": "red",
          "pattern": {
           "shape": ""
          }
         },
         "name": "red",
         "offsetgroup": "red",
         "orientation": "v",
         "showlegend": true,
         "textposition": "auto",
         "type": "bar",
         "x": [
          "2024-09-23T00:00:00",
          "2024-09-25T00:00:00",
          "2024-09-28T00:00:00",
          "2024-09-29T00:00:00",
          "2024-09-30T00:00:00",
          "2024-10-01T00:00:00",
          "2024-10-02T00:00:00",
          "2024-10-03T00:00:00",
          "2024-10-05T00:00:00",
          "2024-10-07T00:00:00",
          "2024-10-08T00:00:00",
          "2024-10-09T00:00:00",
          "2024-10-15T00:00:00",
          "2024-10-16T00:00:00",
          "2024-10-17T00:00:00",
          "2024-10-19T00:00:00",
          "2024-10-21T00:00:00",
          "2024-10-22T00:00:00",
          "2024-10-23T00:00:00",
          "2024-10-25T00:00:00",
          "2024-10-28T00:00:00",
          "2024-10-31T00:00:00",
          "2024-11-02T00:00:00",
          "2024-11-03T00:00:00",
          "2024-11-04T00:00:00",
          "2024-11-08T00:00:00",
          "2024-11-12T00:00:00",
          "2024-11-13T00:00:00",
          "2024-11-18T00:00:00",
          "2024-11-20T00:00:00",
          "2024-11-23T00:00:00",
          "2024-11-24T00:00:00",
          "2024-11-25T00:00:00",
          "2024-11-28T00:00:00",
          "2024-12-01T00:00:00",
          "2024-12-04T00:00:00",
          "2024-12-06T00:00:00",
          "2024-12-07T00:00:00",
          "2024-12-09T00:00:00",
          "2024-12-12T00:00:00",
          "2024-12-14T00:00:00",
          "2024-12-17T00:00:00",
          "2024-12-18T00:00:00",
          "2024-12-19T00:00:00",
          "2024-12-20T00:00:00",
          "2024-12-21T00:00:00",
          "2024-12-22T00:00:00",
          "2024-12-25T00:00:00",
          "2024-12-26T00:00:00",
          "2024-12-27T00:00:00",
          "2024-12-29T00:00:00",
          "2024-12-30T00:00:00",
          "2025-01-05T00:00:00",
          "2025-01-07T00:00:00",
          "2025-01-09T00:00:00",
          "2025-01-11T00:00:00",
          "2025-01-12T00:00:00",
          "2025-01-13T00:00:00",
          "2025-01-14T00:00:00",
          "2025-01-16T00:00:00",
          "2025-01-18T00:00:00",
          "2025-01-19T00:00:00",
          "2025-01-22T00:00:00",
          "2025-01-23T00:00:00",
          "2025-01-24T00:00:00",
          "2025-01-27T00:00:00",
          "2025-01-28T00:00:00",
          "2025-01-31T00:00:00",
          "2025-02-01T00:00:00",
          "2025-02-02T00:00:00",
          "2025-02-04T00:00:00",
          "2025-02-05T00:00:00",
          "2025-02-06T00:00:00",
          "2025-02-08T00:00:00",
          "2025-02-10T00:00:00",
          "2025-02-11T00:00:00",
          "2025-02-13T00:00:00",
          "2025-02-16T00:00:00",
          "2025-02-17T00:00:00",
          "2025-02-21T00:00:00",
          "2025-02-24T00:00:00",
          "2025-02-25T00:00:00",
          "2025-02-26T00:00:00",
          "2025-03-03T00:00:00",
          "2025-03-06T00:00:00",
          "2025-03-07T00:00:00",
          "2025-03-08T00:00:00",
          "2025-03-09T00:00:00",
          "2025-03-10T00:00:00",
          "2025-03-13T00:00:00",
          "2025-03-20T00:00:00",
          "2025-03-21T00:00:00",
          "2025-03-25T00:00:00",
          "2025-03-26T00:00:00",
          "2025-03-27T00:00:00",
          "2025-03-28T00:00:00",
          "2025-03-29T00:00:00",
          "2025-03-31T00:00:00",
          "2025-04-02T00:00:00",
          "2025-04-04T00:00:00",
          "2025-04-05T00:00:00",
          "2025-04-06T00:00:00",
          "2025-04-08T00:00:00",
          "2025-04-10T00:00:00",
          "2025-04-13T00:00:00",
          "2025-04-14T00:00:00",
          "2025-04-16T00:00:00",
          "2025-04-17T00:00:00",
          "2025-04-18T00:00:00",
          "2025-04-20T00:00:00",
          "2025-04-21T00:00:00",
          "2025-04-24T00:00:00",
          "2025-04-27T00:00:00",
          "2025-04-29T00:00:00",
          "2025-04-30T00:00:00",
          "2025-05-02T00:00:00",
          "2025-05-03T00:00:00",
          "2025-05-04T00:00:00",
          "2025-05-07T00:00:00",
          "2025-05-11T00:00:00",
          "2025-05-14T00:00:00",
          "2025-05-15T00:00:00",
          "2025-05-16T00:00:00",
          "2025-05-17T00:00:00",
          "2025-05-19T00:00:00",
          "2025-05-23T00:00:00",
          "2025-05-26T00:00:00",
          "2025-05-28T00:00:00",
          "2025-05-29T00:00:00",
          "2025-05-30T00:00:00",
          "2025-06-03T00:00:00",
          "2025-06-04T00:00:00",
          "2025-06-05T00:00:00",
          "2025-06-08T00:00:00",
          "2025-06-11T00:00:00",
          "2025-06-12T00:00:00",
          "2025-06-13T00:00:00",
          "2025-06-14T00:00:00",
          "2025-06-17T00:00:00",
          "2025-06-19T00:00:00",
          "2025-06-20T00:00:00",
          "2025-06-21T00:00:00",
          "2025-06-22T00:00:00",
          "2025-06-25T00:00:00",
          "2025-06-26T00:00:00",
          "2025-06-30T00:00:00",
          "2025-07-01T00:00:00",
          "2025-07-04T00:00:00",
          "2025-07-05T00:00:00",
          "2025-07-07T00:00:00",
          "2025-07-12T00:00:00",
          "2025-07-18T00:00:00",
          "2025-07-23T00:00:00",
          "2025-07-24T00:00:00",
          "2025-07-28T00:00:00",
          "2025-07-29T00:00:00",
          "2025-07-30T00:00:00",
          "2025-07-31T00:00:00",
          "2025-08-01T00:00:00",
          "2025-08-02T00:00:00",
          "2025-08-05T00:00:00",
          "2025-08-11T00:00:00",
          "2025-08-14T00:00:00",
          "2025-08-15T00:00:00",
          "2025-08-18T00:00:00",
          "2025-08-19T00:00:00",
          "2025-08-21T00:00:00",
          "2025-08-23T00:00:00",
          "2025-08-24T00:00:00",
          "2025-08-25T00:00:00",
          "2025-08-27T00:00:00",
          "2025-08-29T00:00:00",
          "2025-08-31T00:00:00",
          "2025-09-01T00:00:00",
          "2025-09-04T00:00:00",
          "2025-09-05T00:00:00",
          "2025-09-06T00:00:00",
          "2025-09-13T00:00:00",
          "2025-09-14T00:00:00",
          "2025-09-15T00:00:00",
          "2025-09-19T00:00:00",
          "2025-09-21T00:00:00",
          "2025-09-22T00:00:00",
          "2025-09-23T00:00:00",
          "2025-09-25T00:00:00",
          "2025-10-04T00:00:00",
          "2025-10-07T00:00:00",
          "2025-10-09T00:00:00",
          "2025-10-10T00:00:00",
          "2025-10-11T00:00:00",
          "2025-10-14T00:00:00",
          "2025-10-15T00:00:00",
          "2025-10-16T00:00:00",
          "2025-10-17T00:00:00",
          "2025-10-21T00:00:00",
          "2025-10-22T00:00:00",
          "2025-10-24T00:00:00"
         ],
         "xaxis": "x",
         "y": [
          null,
          -17.24650753689258,
          -4.443944392831554,
          -9.483627523871064,
          -67.95444871680021,
          -65.1656201990389,
          -6.099979967161573,
          -5.610838692221932,
          -14.919519750447193,
          -15.133371574412052,
          -6.679638802481321,
          -31.434987271442196,
          -21.116136819939484,
          -4.975936617092373,
          -14.910438703095963,
          -4.571839430296237,
          -42.37692098602682,
          -15.621114410492638,
          -48.96901366008443,
          -105.19794362519195,
          -21.81308846988931,
          -69.8451842495494,
          -30.960600783497284,
          -37.82041990180758,
          -61.41680162577754,
          -6.470033437029954,
          -53.12015749808262,
          -55.75483789474009,
          -173.6033062826125,
          -34.22134721152429,
          -15.584155989958845,
          -13.065731876801237,
          -170.2408190283827,
          -30.604355789488864,
          -12.798603126539092,
          -76.38220606006689,
          -9.697423464037456,
          -17.431068820634664,
          -518.4072941372524,
          -134.0944868506549,
          -66.76616472792853,
          -3.0562733660312915,
          -216.21378198879984,
          -88.90030439531552,
          -38.777002098074945,
          -150.44105711787506,
          -14.543135434462556,
          -12.388325335753962,
          -165.15477342397799,
          -11.497335695892616,
          -78.52990422158018,
          -113.89140853176582,
          -46.87969903916678,
          -285.65784910263824,
          -170.30662680025807,
          -54.263495458185844,
          -71.0183957166189,
          -7.492273397545887,
          -25.75141972535789,
          -59.599538161104874,
          -15.903538796529574,
          -199.3443504841764,
          -12.018221451376576,
          -13.579569048182293,
          -64.48088160808538,
          -48.035451824419624,
          -142.00828502418972,
          -163.53276254949924,
          -158.53689333529837,
          -248.982664390629,
          -227.5407591006424,
          -39.90616944460044,
          -3.2416224722637708,
          -54.0750748940045,
          -15.84896582807687,
          -164.20546304676054,
          -13.88349745941241,
          -94.68316214505103,
          -107.55705056766874,
          -269.5042438162386,
          -373.5334874871219,
          -145.5049918464856,
          -365.1361905516965,
          -436.77536435152115,
          -152.1072636778972,
          -163.77695421842736,
          -25.801992664982663,
          -288.80776479716496,
          -7.069369971241031,
          -137.7832477419488,
          -189.49084825694808,
          -211.52108859907048,
          -2.981733267064101,
          -157.5005521139483,
          -17.875975257085884,
          -137.88963449899484,
          -95.13586999810468,
          -17.34497322453626,
          -88.52879592539966,
          -45.603154694324985,
          -10.128684022184643,
          -358.7209565293406,
          -65.61677599838254,
          -228.1678803980858,
          -2473.34798529088,
          -181.7061518928674,
          -31.645408396588778,
          -15.790324690173634,
          -12.392968473924896,
          -36.17289203647357,
          -2.799162995732786,
          -7.707931863039562,
          -21.412450896859752,
          -33.420164069693215,
          -0.40948428256814395,
          -19.811209410839183,
          -23.21874507676364,
          -39.22272212540173,
          -6.681018752069804,
          -53.9703740998728,
          -45.77332751060098,
          -48.108465354623576,
          -15.144592827739928,
          -25.940703066835283,
          -26.90092556122795,
          -104.93636419186002,
          -5.360219491162297,
          -24.761521224184662,
          -48.95447808031372,
          -99.2006173563993,
          -13.43960130611265,
          -20.578870577059774,
          -84.58488979807197,
          -1.057993297354983,
          -53.518955645055,
          -77.08137155030772,
          -16.86911219254671,
          -19.927041164418085,
          -44.398895484632135,
          -9.343062576896045,
          -45.338711006897825,
          -42.71803785766616,
          -37.66685828702981,
          -7.022143324155593,
          -23.47635584896358,
          -21.28329189120268,
          -44.25978664868575,
          -44.706408209747906,
          -0.050173441956076203,
          -19.319907320237917,
          -9.018151428670222,
          -8.924779856182667,
          -99.58590708716841,
          -25.169421289430375,
          -52.77299976170616,
          -3.7351928004356694,
          -20.31512058964981,
          -49.7679676308407,
          -62.48483927296144,
          -23.659997311232814,
          -41.02005436781204,
          -26.12605778915284,
          -116.94481887980706,
          -33.78870187648269,
          -51.41183640759553,
          -74.02616069367787,
          -50.6717154466628,
          -17.678735275849135,
          -20.768624139980034,
          -121.27134453870289,
          -5.984666295873012,
          -80.68075114884792,
          -64.9173757797428,
          -9.128633563137072,
          -30.40600726570409,
          -7.870187832300985,
          -59.574293170142056,
          -9.21060779266395,
          -12.51845127100205,
          -233.24137711623973,
          -37.80560335456795,
          -18.45231364374706,
          -45.32312137922503,
          -20.406500562934838,
          -61.920399700637006,
          -3.1640618547830286,
          -62.87452164079207,
          -30.933543648561,
          -166.92828822662995,
          -40.28260024511917,
          -42.74006873105891,
          -21.169314880296156,
          -43.0825374608159,
          -36.5793237966991,
          -31.367691281001058,
          -9.947581706632903,
          -8.804195511423941
         ],
         "yaxis": "y"
        },
        {
         "alignmentgroup": "True",
         "hovertemplate": "color=green<br>index=%{x}<br>value=%{y}<extra></extra>",
         "legendgroup": "green",
         "marker": {
          "color": "green",
          "pattern": {
           "shape": ""
          }
         },
         "name": "green",
         "offsetgroup": "green",
         "orientation": "v",
         "showlegend": true,
         "textposition": "auto",
         "type": "bar",
         "x": [
          "2024-09-24T00:00:00",
          "2024-09-26T00:00:00",
          "2024-09-27T00:00:00",
          "2024-10-04T00:00:00",
          "2024-10-06T00:00:00",
          "2024-10-10T00:00:00",
          "2024-10-11T00:00:00",
          "2024-10-12T00:00:00",
          "2024-10-13T00:00:00",
          "2024-10-14T00:00:00",
          "2024-10-18T00:00:00",
          "2024-10-20T00:00:00",
          "2024-10-24T00:00:00",
          "2024-10-26T00:00:00",
          "2024-10-27T00:00:00",
          "2024-10-29T00:00:00",
          "2024-10-30T00:00:00",
          "2024-11-01T00:00:00",
          "2024-11-05T00:00:00",
          "2024-11-06T00:00:00",
          "2024-11-07T00:00:00",
          "2024-11-09T00:00:00",
          "2024-11-10T00:00:00",
          "2024-11-11T00:00:00",
          "2024-11-14T00:00:00",
          "2024-11-15T00:00:00",
          "2024-11-16T00:00:00",
          "2024-11-17T00:00:00",
          "2024-11-19T00:00:00",
          "2024-11-21T00:00:00",
          "2024-11-22T00:00:00",
          "2024-11-26T00:00:00",
          "2024-11-27T00:00:00",
          "2024-11-29T00:00:00",
          "2024-11-30T00:00:00",
          "2024-12-02T00:00:00",
          "2024-12-03T00:00:00",
          "2024-12-05T00:00:00",
          "2024-12-08T00:00:00",
          "2024-12-10T00:00:00",
          "2024-12-11T00:00:00",
          "2024-12-13T00:00:00",
          "2024-12-15T00:00:00",
          "2024-12-16T00:00:00",
          "2024-12-23T00:00:00",
          "2024-12-24T00:00:00",
          "2024-12-28T00:00:00",
          "2024-12-31T00:00:00",
          "2025-01-01T00:00:00",
          "2025-01-02T00:00:00",
          "2025-01-03T00:00:00",
          "2025-01-04T00:00:00",
          "2025-01-06T00:00:00",
          "2025-01-08T00:00:00",
          "2025-01-10T00:00:00",
          "2025-01-15T00:00:00",
          "2025-01-17T00:00:00",
          "2025-01-20T00:00:00",
          "2025-01-21T00:00:00",
          "2025-01-25T00:00:00",
          "2025-01-26T00:00:00",
          "2025-01-29T00:00:00",
          "2025-01-30T00:00:00",
          "2025-02-03T00:00:00",
          "2025-02-07T00:00:00",
          "2025-02-09T00:00:00",
          "2025-02-12T00:00:00",
          "2025-02-14T00:00:00",
          "2025-02-15T00:00:00",
          "2025-02-18T00:00:00",
          "2025-02-19T00:00:00",
          "2025-02-20T00:00:00",
          "2025-02-22T00:00:00",
          "2025-02-23T00:00:00",
          "2025-02-27T00:00:00",
          "2025-02-28T00:00:00",
          "2025-03-01T00:00:00",
          "2025-03-02T00:00:00",
          "2025-03-04T00:00:00",
          "2025-03-05T00:00:00",
          "2025-03-11T00:00:00",
          "2025-03-12T00:00:00",
          "2025-03-14T00:00:00",
          "2025-03-15T00:00:00",
          "2025-03-16T00:00:00",
          "2025-03-17T00:00:00",
          "2025-03-18T00:00:00",
          "2025-03-19T00:00:00",
          "2025-03-22T00:00:00",
          "2025-03-23T00:00:00",
          "2025-03-24T00:00:00",
          "2025-03-30T00:00:00",
          "2025-04-01T00:00:00",
          "2025-04-03T00:00:00",
          "2025-04-07T00:00:00",
          "2025-04-09T00:00:00",
          "2025-04-11T00:00:00",
          "2025-04-12T00:00:00",
          "2025-04-15T00:00:00",
          "2025-04-19T00:00:00",
          "2025-04-22T00:00:00",
          "2025-04-23T00:00:00",
          "2025-04-25T00:00:00",
          "2025-04-26T00:00:00",
          "2025-04-28T00:00:00",
          "2025-05-01T00:00:00",
          "2025-05-05T00:00:00",
          "2025-05-06T00:00:00",
          "2025-05-08T00:00:00",
          "2025-05-09T00:00:00",
          "2025-05-10T00:00:00",
          "2025-05-12T00:00:00",
          "2025-05-13T00:00:00",
          "2025-05-18T00:00:00",
          "2025-05-20T00:00:00",
          "2025-05-21T00:00:00",
          "2025-05-22T00:00:00",
          "2025-05-24T00:00:00",
          "2025-05-25T00:00:00",
          "2025-05-27T00:00:00",
          "2025-05-31T00:00:00",
          "2025-06-01T00:00:00",
          "2025-06-02T00:00:00",
          "2025-06-06T00:00:00",
          "2025-06-07T00:00:00",
          "2025-06-09T00:00:00",
          "2025-06-10T00:00:00",
          "2025-06-15T00:00:00",
          "2025-06-16T00:00:00",
          "2025-06-18T00:00:00",
          "2025-06-23T00:00:00",
          "2025-06-24T00:00:00",
          "2025-06-27T00:00:00",
          "2025-06-28T00:00:00",
          "2025-06-29T00:00:00",
          "2025-07-02T00:00:00",
          "2025-07-03T00:00:00",
          "2025-07-06T00:00:00",
          "2025-07-08T00:00:00",
          "2025-07-09T00:00:00",
          "2025-07-10T00:00:00",
          "2025-07-11T00:00:00",
          "2025-07-13T00:00:00",
          "2025-07-14T00:00:00",
          "2025-07-15T00:00:00",
          "2025-07-16T00:00:00",
          "2025-07-17T00:00:00",
          "2025-07-19T00:00:00",
          "2025-07-20T00:00:00",
          "2025-07-21T00:00:00",
          "2025-07-22T00:00:00",
          "2025-07-25T00:00:00",
          "2025-07-26T00:00:00",
          "2025-07-27T00:00:00",
          "2025-08-03T00:00:00",
          "2025-08-04T00:00:00",
          "2025-08-06T00:00:00",
          "2025-08-07T00:00:00",
          "2025-08-08T00:00:00",
          "2025-08-09T00:00:00",
          "2025-08-10T00:00:00",
          "2025-08-12T00:00:00",
          "2025-08-13T00:00:00",
          "2025-08-16T00:00:00",
          "2025-08-17T00:00:00",
          "2025-08-20T00:00:00",
          "2025-08-22T00:00:00",
          "2025-08-26T00:00:00",
          "2025-08-28T00:00:00",
          "2025-08-30T00:00:00",
          "2025-09-02T00:00:00",
          "2025-09-03T00:00:00",
          "2025-09-07T00:00:00",
          "2025-09-08T00:00:00",
          "2025-09-09T00:00:00",
          "2025-09-10T00:00:00",
          "2025-09-11T00:00:00",
          "2025-09-12T00:00:00",
          "2025-09-16T00:00:00",
          "2025-09-17T00:00:00",
          "2025-09-18T00:00:00",
          "2025-09-20T00:00:00",
          "2025-09-24T00:00:00",
          "2025-09-26T00:00:00",
          "2025-09-27T00:00:00",
          "2025-09-28T00:00:00",
          "2025-09-29T00:00:00",
          "2025-09-30T00:00:00",
          "2025-10-01T00:00:00",
          "2025-10-02T00:00:00",
          "2025-10-03T00:00:00",
          "2025-10-05T00:00:00",
          "2025-10-06T00:00:00",
          "2025-10-08T00:00:00",
          "2025-10-12T00:00:00",
          "2025-10-13T00:00:00",
          "2025-10-18T00:00:00",
          "2025-10-19T00:00:00",
          "2025-10-20T00:00:00",
          "2025-10-23T00:00:00"
         ],
         "xaxis": "x",
         "y": [
          23.503338831462315,
          85.69921742080601,
          16.51912056324278,
          77.04843203095041,
          34.3757762200747,
          27.689340444491023,
          44.96937551401578,
          26.289701641968747,
          10.759277127427339,
          123.5754419804065,
          6.9495470555308,
          37.01938320806113,
          16.796423812427605,
          17.00226836269698,
          122.00258311769954,
          62.20531778548461,
          4.808690691567932,
          0.2151508954182617,
          59.483834282668454,
          217.70592339943641,
          19.9626821647049,
          45.55113697308941,
          88.86558848505965,
          158.47751861850304,
          91.6854479233512,
          423.4035734033564,
          76.21067202646748,
          780.674839707057,
          20.230871524205668,
          70.88078625162211,
          59.538098434787116,
          45.22661594765759,
          45.934275229089735,
          41.78253081282105,
          62.47750703342126,
          30.824361602986755,
          387.5716767203039,
          261.133085202423,
          111.31309268705263,
          169.2232243391004,
          263.76665254046975,
          14.58763172294448,
          83.70252606234021,
          5.572962193291687,
          105.66667051258241,
          118.98557740474416,
          52.544277787919555,
          170.01974641961374,
          25.65417360487686,
          118.90156654886482,
          101.05124256000545,
          47.13448576893097,
          142.96744557059606,
          23.461648776358288,
          113.19049030893007,
          217.39865127877056,
          124.74709396251524,
          4.728044128361262,
          93.7268162632704,
          260.4372935199531,
          242.1229854592375,
          111.09991802851073,
          587.3208224456159,
          594.2425790831016,
          81.24427150195743,
          144.4963324542482,
          40.1953084062643,
          592.1043978923362,
          221.6447805828011,
          135.8594225708207,
          21.184672519215837,
          234.70274210989692,
          341.08919507782184,
          110.28827013654154,
          149.9596988202302,
          63.9764508573935,
          24.70887274350207,
          217.793677682846,
          21.633990677177735,
          16.062718531652536,
          70.87977843984345,
          113.30548965934577,
          28.95354406186516,
          192.19583339835253,
          7.249558789821094,
          143.8673858845982,
          1.894000918164238,
          13.81850205921046,
          35.730309024928374,
          109.20708700971863,
          222.56476483706,
          19.556716574198163,
          92.1930707402521,
          76.90653316845874,
          263.88056935504846,
          393.42999619895886,
          78.26143518453637,
          10.43519863911888,
          51.354585253112305,
          19.987861448215654,
          119.90674994374979,
          29.419628584004045,
          13.968962840229892,
          7.8510635039442604,
          8.371175540785714,
          21.633121514081836,
          9.02561412818551,
          12.413157259393927,
          155.89678750771304,
          36.17623950655573,
          105.90208996342832,
          15.376875607941571,
          49.01431790073147,
          73.11602974461692,
          17.81705002732221,
          47.101513590971734,
          61.51118737751146,
          18.458286527919995,
          9.66611527031381,
          11.559573030307064,
          13.725164382863625,
          20.380792601082135,
          8.14386593432937,
          45.84268097501473,
          32.081513776710494,
          84.25635630150953,
          30.795064344402732,
          20.160647602497534,
          6.027394974589015,
          8.791909140269354,
          113.13354611518866,
          21.5710442824207,
          12.82207542714633,
          25.722090671078433,
          30.82739520300305,
          60.96251551388008,
          12.476622188835563,
          28.475787319366418,
          16.11784914265138,
          54.822845025196784,
          91.48698469428768,
          20.27173006455166,
          42.41165092823752,
          16.36818726431997,
          1.3090201817778393,
          47.344144930966564,
          25.055607990163367,
          6.69587559024896,
          95.94173003827156,
          16.67433812009702,
          41.8917057473478,
          14.611311596607749,
          4.924151880692307,
          35.12382641586643,
          44.829218515641685,
          50.44009066378473,
          36.41338883815641,
          68.43926731989112,
          52.242167444801396,
          28.61921132229716,
          28.58015588750837,
          106.41148138076488,
          65.04027481482828,
          9.41608473666355,
          6.18640428025185,
          67.75580238032316,
          405.1822888851582,
          62.086247120009006,
          34.51065383389795,
          4.631265509119004,
          21.807288731315992,
          11.513615377227154,
          64.10374737309891,
          10.429624265185026,
          7.514311362410126,
          32.069894106979945,
          38.33006706639205,
          28.15784473655185,
          223.3992149901999,
          1.8490514483958407,
          29.806058043436053,
          10.375811332044009,
          17.724228412681896,
          29.55991080269007,
          0.8554471494691143,
          14.37931823849678,
          18.30819004739709,
          72.7536673380101,
          2.5132048747817635,
          25.932411840423043,
          19.42679913489286,
          14.336500015697084,
          27.54742731084002,
          32.81743379331505,
          73.63471851618716,
          16.971318215739956,
          16.471989890387007,
          33.68748611444511,
          26.782569582144973,
          17.216606721848933
         ],
         "yaxis": "y"
        }
       ],
       "layout": {
        "barmode": "relative",
        "font": {
         "color": "white"
        },
        "height": 400,
        "legend": {
         "title": {
          "text": "color"
         },
         "tracegroupgap": 0
        },
        "paper_bgcolor": "black",
        "plot_bgcolor": "black",
        "showlegend": false,
        "template": {
         "data": {
          "bar": [
           {
            "error_x": {
             "color": "#2a3f5f"
            },
            "error_y": {
             "color": "#2a3f5f"
            },
            "marker": {
             "line": {
              "color": "#E5ECF6",
              "width": 0.5
             },
             "pattern": {
              "fillmode": "overlay",
              "size": 10,
              "solidity": 0.2
             }
            },
            "type": "bar"
           }
          ],
          "barpolar": [
           {
            "marker": {
             "line": {
              "color": "#E5ECF6",
              "width": 0.5
             },
             "pattern": {
              "fillmode": "overlay",
              "size": 10,
              "solidity": 0.2
             }
            },
            "type": "barpolar"
           }
          ],
          "carpet": [
           {
            "aaxis": {
             "endlinecolor": "#2a3f5f",
             "gridcolor": "white",
             "linecolor": "white",
             "minorgridcolor": "white",
             "startlinecolor": "#2a3f5f"
            },
            "baxis": {
             "endlinecolor": "#2a3f5f",
             "gridcolor": "white",
             "linecolor": "white",
             "minorgridcolor": "white",
             "startlinecolor": "#2a3f5f"
            },
            "type": "carpet"
           }
          ],
          "choropleth": [
           {
            "colorbar": {
             "outlinewidth": 0,
             "ticks": ""
            },
            "type": "choropleth"
           }
          ],
          "contour": [
           {
            "colorbar": {
             "outlinewidth": 0,
             "ticks": ""
            },
            "colorscale": [
             [
              0,
              "#0d0887"
             ],
             [
              0.1111111111111111,
              "#46039f"
             ],
             [
              0.2222222222222222,
              "#7201a8"
             ],
             [
              0.3333333333333333,
              "#9c179e"
             ],
             [
              0.4444444444444444,
              "#bd3786"
             ],
             [
              0.5555555555555556,
              "#d8576b"
             ],
             [
              0.6666666666666666,
              "#ed7953"
             ],
             [
              0.7777777777777778,
              "#fb9f3a"
             ],
             [
              0.8888888888888888,
              "#fdca26"
             ],
             [
              1,
              "#f0f921"
             ]
            ],
            "type": "contour"
           }
          ],
          "contourcarpet": [
           {
            "colorbar": {
             "outlinewidth": 0,
             "ticks": ""
            },
            "type": "contourcarpet"
           }
          ],
          "heatmap": [
           {
            "colorbar": {
             "outlinewidth": 0,
             "ticks": ""
            },
            "colorscale": [
             [
              0,
              "#0d0887"
             ],
             [
              0.1111111111111111,
              "#46039f"
             ],
             [
              0.2222222222222222,
              "#7201a8"
             ],
             [
              0.3333333333333333,
              "#9c179e"
             ],
             [
              0.4444444444444444,
              "#bd3786"
             ],
             [
              0.5555555555555556,
              "#d8576b"
             ],
             [
              0.6666666666666666,
              "#ed7953"
             ],
             [
              0.7777777777777778,
              "#fb9f3a"
             ],
             [
              0.8888888888888888,
              "#fdca26"
             ],
             [
              1,
              "#f0f921"
             ]
            ],
            "type": "heatmap"
           }
          ],
          "heatmapgl": [
           {
            "colorbar": {
             "outlinewidth": 0,
             "ticks": ""
            },
            "colorscale": [
             [
              0,
              "#0d0887"
             ],
             [
              0.1111111111111111,
              "#46039f"
             ],
             [
              0.2222222222222222,
              "#7201a8"
             ],
             [
              0.3333333333333333,
              "#9c179e"
             ],
             [
              0.4444444444444444,
              "#bd3786"
             ],
             [
              0.5555555555555556,
              "#d8576b"
             ],
             [
              0.6666666666666666,
              "#ed7953"
             ],
             [
              0.7777777777777778,
              "#fb9f3a"
             ],
             [
              0.8888888888888888,
              "#fdca26"
             ],
             [
              1,
              "#f0f921"
             ]
            ],
            "type": "heatmapgl"
           }
          ],
          "histogram": [
           {
            "marker": {
             "pattern": {
              "fillmode": "overlay",
              "size": 10,
              "solidity": 0.2
             }
            },
            "type": "histogram"
           }
          ],
          "histogram2d": [
           {
            "colorbar": {
             "outlinewidth": 0,
             "ticks": ""
            },
            "colorscale": [
             [
              0,
              "#0d0887"
             ],
             [
              0.1111111111111111,
              "#46039f"
             ],
             [
              0.2222222222222222,
              "#7201a8"
             ],
             [
              0.3333333333333333,
              "#9c179e"
             ],
             [
              0.4444444444444444,
              "#bd3786"
             ],
             [
              0.5555555555555556,
              "#d8576b"
             ],
             [
              0.6666666666666666,
              "#ed7953"
             ],
             [
              0.7777777777777778,
              "#fb9f3a"
             ],
             [
              0.8888888888888888,
              "#fdca26"
             ],
             [
              1,
              "#f0f921"
             ]
            ],
            "type": "histogram2d"
           }
          ],
          "histogram2dcontour": [
           {
            "colorbar": {
             "outlinewidth": 0,
             "ticks": ""
            },
            "colorscale": [
             [
              0,
              "#0d0887"
             ],
             [
              0.1111111111111111,
              "#46039f"
             ],
             [
              0.2222222222222222,
              "#7201a8"
             ],
             [
              0.3333333333333333,
              "#9c179e"
             ],
             [
              0.4444444444444444,
              "#bd3786"
             ],
             [
              0.5555555555555556,
              "#d8576b"
             ],
             [
              0.6666666666666666,
              "#ed7953"
             ],
             [
              0.7777777777777778,
              "#fb9f3a"
             ],
             [
              0.8888888888888888,
              "#fdca26"
             ],
             [
              1,
              "#f0f921"
             ]
            ],
            "type": "histogram2dcontour"
           }
          ],
          "mesh3d": [
           {
            "colorbar": {
             "outlinewidth": 0,
             "ticks": ""
            },
            "type": "mesh3d"
           }
          ],
          "parcoords": [
           {
            "line": {
             "colorbar": {
              "outlinewidth": 0,
              "ticks": ""
             }
            },
            "type": "parcoords"
           }
          ],
          "pie": [
           {
            "automargin": true,
            "type": "pie"
           }
          ],
          "scatter": [
           {
            "fillpattern": {
             "fillmode": "overlay",
             "size": 10,
             "solidity": 0.2
            },
            "type": "scatter"
           }
          ],
          "scatter3d": [
           {
            "line": {
             "colorbar": {
              "outlinewidth": 0,
              "ticks": ""
             }
            },
            "marker": {
             "colorbar": {
              "outlinewidth": 0,
              "ticks": ""
             }
            },
            "type": "scatter3d"
           }
          ],
          "scattercarpet": [
           {
            "marker": {
             "colorbar": {
              "outlinewidth": 0,
              "ticks": ""
             }
            },
            "type": "scattercarpet"
           }
          ],
          "scattergeo": [
           {
            "marker": {
             "colorbar": {
              "outlinewidth": 0,
              "ticks": ""
             }
            },
            "type": "scattergeo"
           }
          ],
          "scattergl": [
           {
            "marker": {
             "colorbar": {
              "outlinewidth": 0,
              "ticks": ""
             }
            },
            "type": "scattergl"
           }
          ],
          "scattermapbox": [
           {
            "marker": {
             "colorbar": {
              "outlinewidth": 0,
              "ticks": ""
             }
            },
            "type": "scattermapbox"
           }
          ],
          "scatterpolar": [
           {
            "marker": {
             "colorbar": {
              "outlinewidth": 0,
              "ticks": ""
             }
            },
            "type": "scatterpolar"
           }
          ],
          "scatterpolargl": [
           {
            "marker": {
             "colorbar": {
              "outlinewidth": 0,
              "ticks": ""
             }
            },
            "type": "scatterpolargl"
           }
          ],
          "scatterternary": [
           {
            "marker": {
             "colorbar": {
              "outlinewidth": 0,
              "ticks": ""
             }
            },
            "type": "scatterternary"
           }
          ],
          "surface": [
           {
            "colorbar": {
             "outlinewidth": 0,
             "ticks": ""
            },
            "colorscale": [
             [
              0,
              "#0d0887"
             ],
             [
              0.1111111111111111,
              "#46039f"
             ],
             [
              0.2222222222222222,
              "#7201a8"
             ],
             [
              0.3333333333333333,
              "#9c179e"
             ],
             [
              0.4444444444444444,
              "#bd3786"
             ],
             [
              0.5555555555555556,
              "#d8576b"
             ],
             [
              0.6666666666666666,
              "#ed7953"
             ],
             [
              0.7777777777777778,
              "#fb9f3a"
             ],
             [
              0.8888888888888888,
              "#fdca26"
             ],
             [
              1,
              "#f0f921"
             ]
            ],
            "type": "surface"
           }
          ],
          "table": [
           {
            "cells": {
             "fill": {
              "color": "#EBF0F8"
             },
             "line": {
              "color": "white"
             }
            },
            "header": {
             "fill": {
              "color": "#C8D4E3"
             },
             "line": {
              "color": "white"
             }
            },
            "type": "table"
           }
          ]
         },
         "layout": {
          "annotationdefaults": {
           "arrowcolor": "#2a3f5f",
           "arrowhead": 0,
           "arrowwidth": 1
          },
          "autotypenumbers": "strict",
          "coloraxis": {
           "colorbar": {
            "outlinewidth": 0,
            "ticks": ""
           }
          },
          "colorscale": {
           "diverging": [
            [
             0,
             "#8e0152"
            ],
            [
             0.1,
             "#c51b7d"
            ],
            [
             0.2,
             "#de77ae"
            ],
            [
             0.3,
             "#f1b6da"
            ],
            [
             0.4,
             "#fde0ef"
            ],
            [
             0.5,
             "#f7f7f7"
            ],
            [
             0.6,
             "#e6f5d0"
            ],
            [
             0.7,
             "#b8e186"
            ],
            [
             0.8,
             "#7fbc41"
            ],
            [
             0.9,
             "#4d9221"
            ],
            [
             1,
             "#276419"
            ]
           ],
           "sequential": [
            [
             0,
             "#0d0887"
            ],
            [
             0.1111111111111111,
             "#46039f"
            ],
            [
             0.2222222222222222,
             "#7201a8"
            ],
            [
             0.3333333333333333,
             "#9c179e"
            ],
            [
             0.4444444444444444,
             "#bd3786"
            ],
            [
             0.5555555555555556,
             "#d8576b"
            ],
            [
             0.6666666666666666,
             "#ed7953"
            ],
            [
             0.7777777777777778,
             "#fb9f3a"
            ],
            [
             0.8888888888888888,
             "#fdca26"
            ],
            [
             1,
             "#f0f921"
            ]
           ],
           "sequentialminus": [
            [
             0,
             "#0d0887"
            ],
            [
             0.1111111111111111,
             "#46039f"
            ],
            [
             0.2222222222222222,
             "#7201a8"
            ],
            [
             0.3333333333333333,
             "#9c179e"
            ],
            [
             0.4444444444444444,
             "#bd3786"
            ],
            [
             0.5555555555555556,
             "#d8576b"
            ],
            [
             0.6666666666666666,
             "#ed7953"
            ],
            [
             0.7777777777777778,
             "#fb9f3a"
            ],
            [
             0.8888888888888888,
             "#fdca26"
            ],
            [
             1,
             "#f0f921"
            ]
           ]
          },
          "colorway": [
           "#636efa",
           "#EF553B",
           "#00cc96",
           "#ab63fa",
           "#FFA15A",
           "#19d3f3",
           "#FF6692",
           "#B6E880",
           "#FF97FF",
           "#FECB52"
          ],
          "font": {
           "color": "#2a3f5f"
          },
          "geo": {
           "bgcolor": "white",
           "lakecolor": "white",
           "landcolor": "#E5ECF6",
           "showlakes": true,
           "showland": true,
           "subunitcolor": "white"
          },
          "hoverlabel": {
           "align": "left"
          },
          "hovermode": "closest",
          "mapbox": {
           "style": "light"
          },
          "paper_bgcolor": "white",
          "plot_bgcolor": "#E5ECF6",
          "polar": {
           "angularaxis": {
            "gridcolor": "white",
            "linecolor": "white",
            "ticks": ""
           },
           "bgcolor": "#E5ECF6",
           "radialaxis": {
            "gridcolor": "white",
            "linecolor": "white",
            "ticks": ""
           }
          },
          "scene": {
           "xaxis": {
            "backgroundcolor": "#E5ECF6",
            "gridcolor": "white",
            "gridwidth": 2,
            "linecolor": "white",
            "showbackground": true,
            "ticks": "",
            "zerolinecolor": "white"
           },
           "yaxis": {
            "backgroundcolor": "#E5ECF6",
            "gridcolor": "white",
            "gridwidth": 2,
            "linecolor": "white",
            "showbackground": true,
            "ticks": "",
            "zerolinecolor": "white"
           },
           "zaxis": {
            "backgroundcolor": "#E5ECF6",
            "gridcolor": "white",
            "gridwidth": 2,
            "linecolor": "white",
            "showbackground": true,
            "ticks": "",
            "zerolinecolor": "white"
           }
          },
          "shapedefaults": {
           "line": {
            "color": "#2a3f5f"
           }
          },
          "ternary": {
           "aaxis": {
            "gridcolor": "white",
            "linecolor": "white",
            "ticks": ""
           },
           "baxis": {
            "gridcolor": "white",
            "linecolor": "white",
            "ticks": ""
           },
           "bgcolor": "#E5ECF6",
           "caxis": {
            "gridcolor": "white",
            "linecolor": "white",
            "ticks": ""
           }
          },
          "title": {
           "x": 0.05
          },
          "xaxis": {
           "automargin": true,
           "gridcolor": "white",
           "linecolor": "white",
           "ticks": "",
           "title": {
            "standoff": 15
           },
           "zerolinecolor": "white",
           "zerolinewidth": 2
          },
          "yaxis": {
           "automargin": true,
           "gridcolor": "white",
           "linecolor": "white",
           "ticks": "",
           "title": {
            "standoff": 15
           },
           "zerolinecolor": "white",
           "zerolinewidth": 2
          }
         }
        },
        "title": {
         "text": "Daily P&L"
        },
        "width": 800,
        "xaxis": {
         "anchor": "y",
         "domain": [
          0,
          1
         ],
         "title": {}
        },
        "yaxis": {
         "anchor": "x",
         "domain": [
          0,
          1
         ],
         "title": {}
        }
       }
      },
      "image/png": "[encoded data removed]",
      "text/html": [
       "<div>                            <div id=\"a9da190d-c966-4684-8c7f-1700d350d389\" class=\"plotly-graph-div\" style=\"height:400px; width:800px;\"></div>            <script type=\"text/javascript\">                require([\"plotly\"], function(Plotly) {                    window.PLOTLYENV=window.PLOTLYENV || {};                                    if (document.getElementById(\"a9da190d-c966-4684-8c7f-1700d350d389\")) {                    Plotly.newPlot(                        \"a9da190d-c966-4684-8c7f-1700d350d389\",                        [{\"alignmentgroup\":\"True\",\"hovertemplate\":\"color=red\\u003cbr\\u003eindex=%{x}\\u003cbr\\u003evalue=%{y}\\u003cextra\\u003e\\u003c\\u002fextra\\u003e\",\"legendgroup\":\"red\",\"marker\":{\"color\":\"red\",\"pattern\":{\"shape\":\"\"}},\"name\":\"red\",\"offsetgroup\":\"red\",\"orientation\":\"v\",\"showlegend\":true,\"textposition\":\"auto\",\"x\":[\"2024-09-23T00:00:00\",\"2024-09-25T00:00:00\",\"2024-09-28T00:00:00\",\"2024-09-29T00:00:00\",\"2024-09-30T00:00:00\",\"2024-10-01T00:00:00\",\"2024-10-02T00:00:00\",\"2024-10-03T00:00:00\",\"2024-10-05T00:00:00\",\"2024-10-07T00:00:00\",\"2024-10-08T00:00:00\",\"2024-10-09T00:00:00\",\"2024-10-15T00:00:00\",\"2024-10-16T00:00:00\",\"2024-10-17T00:00:00\",\"2024-10-19T00:00:00\",\"2024-10-21T00:00:00\",\"2024-10-22T00:00:00\",\"2024-10-23T00:00:00\",\"2024-10-25T00:00:00\",\"2024-10-28T00:00:00\",\"2024-10-31T00:00:00\",\"2024-11-02T00:00:00\",\"2024-11-03T00:00:00\",\"2024-11-04T00:00:00\",\"2024-11-08T00:00:00\",\"2024-11-12T00:00:00\",\"2024-11-13T00:00:00\",\"2024-11-18T00:00:00\",\"2024-11-20T00:00:00\",\"2024-11-23T00:00:00\",\"2024-11-24T00:00:00\",\"2024-11-25T00:00:00\",\"2024-11-28T00:00:00\",\"2024-12-01T00:00:00\",\"2024-12-04T00:00:00\",\"2024-12-06T00:00:00\",\"2024-12-07T00:00:00\",\"2024-12-09T00:00:00\",\"2024-12-12T00:00:00\",\"2024-12-14T00:00:00\",\"2024-12-17T00:00:00\",\"2024-12-18T00:00:00\",\"2024-12-19T00:00:00\",\"2024-12-20T00:00:00\",\"2024-12-21T00:00:00\",\"2024-12-22T00:00:00\",\"2024-12-25T00:00:00\",\"2024-12-26T00:00:00\",\"2024-12-27T00:00:00\",\"2024-12-29T00:00:00\",\"2024-12-30T00:00:00\",\"2025-01-05T00:00:00\",\"2025-01-07T00:00:00\",\"2025-01-09T00:00:00\",\"2025-01-11T00:00:00\",\"2025-01-12T00:00:00\",\"2025-01-13T00:00:00\",\"2025-01-14T00:00:00\",\"2025-01-16T00:00:00\",\"2025-01-18T00:00:00\",\"2025-01-19T00:00:00\",\"2025-01-22T00:00:00\",\"2025-01-23T00:00:00\",\"2025-01-24T00:00:00\",\"2025-01-27T00:00:00\",\"2025-01-28T00:00:00\",\"2025-01-31T00:00:00\",\"2025-02-01T00:00:00\",\"2025-02-02T00:00:00\",\"2025-02-04T00:00:00\",\"2025-02-05T00:00:00\",\"2025-02-06T00:00:00\",\"2025-02-08T00:00:00\",\"2025-02-10T00:00:00\",\"2025-02-11T00:00:00\",\"2025-02-13T00:00:00\",\"2025-02-16T00:00:00\",\"2025-02-17T00:00:00\",\"2025-02-21T00:00:00\",\"2025-02-24T00:00:00\",\"2025-02-25T00:00:00\",\"2025-02-26T00:00:00\",\"2025-03-03T00:00:00\",\"2025-03-06T00:00:00\",\"2025-03-07T00:00:00\",\"2025-03-08T00:00:00\",\"2025-03-09T00:00:00\",\"2025-03-10T00:00:00\",\"2025-03-13T00:00:00\",\"2025-03-20T00:00:00\",\"2025-03-21T00:00:00\",\"2025-03-25T00:00:00\",\"2025-03-26T00:00:00\",\"2025-03-27T00:00:00\",\"2025-03-28T00:00:00\",\"2025-03-29T00:00:00\",\"2025-03-31T00:00:00\",\"2025-04-02T00:00:00\",\"2025-04-04T00:00:00\",\"2025-04-05T00:00:00\",\"2025-04-06T00:00:00\",\"2025-04-08T00:00:00\",\"2025-04-10T00:00:00\",\"2025-04-13T00:00:00\",\"2025-04-14T00:00:00\",\"2025-04-16T00:00:00\",\"2025-04-17T00:00:00\",\"2025-04-18T00:00:00\",\"2025-04-20T00:00:00\",\"2025-04-21T00:00:00\",\"2025-04-24T00:00:00\",\"2025-04-27T00:00:00\",\"2025-04-29T00:00:00\",\"2025-04-30T00:00:00\",\"2025-05-02T00:00:00\",\"2025-05-03T00:00:00\",\"2025-05-04T00:00:00\",\"2025-05-07T00:00:00\",\"2025-05-11T00:00:00\",\"2025-05-14T00:00:00\",\"2025-05-15T00:00:00\",\"2025-05-16T00:00:00\",\"2025-05-17T00:00:00\",\"2025-05-19T00:00:00\",\"2025-05-23T00:00:00\",\"2025-05-26T00:00:00\",\"2025-05-28T00:00:00\",\"2025-05-29T00:00:00\",\"2025-05-30T00:00:00\",\"2025-06-03T00:00:00\",\"2025-06-04T00:00:00\",\"2025-06-05T00:00:00\",\"2025-06-08T00:00:00\",\"2025-06-11T00:00:00\",\"2025-06-12T00:00:00\",\"2025-06-13T00:00:00\",\"2025-06-14T00:00:00\",\"2025-06-17T00:00:00\",\"2025-06-19T00:00:00\",\"2025-06-20T00:00:00\",\"2025-06-21T00:00:00\",\"2025-06-22T00:00:00\",\"2025-06-25T00:00:00\",\"2025-06-26T00:00:00\",\"2025-06-30T00:00:00\",\"2025-07-01T00:00:00\",\"2025-07-04T00:00:00\",\"2025-07-05T00:00:00\",\"2025-07-07T00:00:00\",\"2025-07-12T00:00:00\",\"2025-07-18T00:00:00\",\"2025-07-23T00:00:00\",\"2025-07-24T00:00:00\",\"2025-07-28T00:00:00\",\"2025-07-29T00:00:00\",\"2025-07-30T00:00:00\",\"2025-07-31T00:00:00\",\"2025-08-01T00:00:00\",\"2025-08-02T00:00:00\",\"2025-08-05T00:00:00\",\"2025-08-11T00:00:00\",\"2025-08-14T00:00:00\",\"2025-08-15T00:00:00\",\"2025-08-18T00:00:00\",\"2025-08-19T00:00:00\",\"2025-08-21T00:00:00\",\"2025-08-23T00:00:00\",\"2025-08-24T00:00:00\",\"2025-08-25T00:00:00\",\"2025-08-27T00:00:00\",\"2025-08-29T00:00:00\",\"2025-08-31T00:00:00\",\"2025-09-01T00:00:00\",\"2025-09-04T00:00:00\",\"2025-09-05T00:00:00\",\"2025-09-06T00:00:00\",\"2025-09-13T00:00:00\",\"2025-09-14T00:00:00\",\"2025-09-15T00:00:00\",\"2025-09-19T00:00:00\",\"2025-09-21T00:00:00\",\"2025-09-22T00:00:00\",\"2025-09-23T00:00:00\",\"2025-09-25T00:00:00\",\"2025-10-04T00:00:00\",\"2025-10-07T00:00:00\",\"2025-10-09T00:00:00\",\"2025-10-10T00:00:00\",\"2025-10-11T00:00:00\",\"2025-10-14T00:00:00\",\"2025-10-15T00:00:00\",\"2025-10-16T00:00:00\",\"2025-10-17T00:00:00\",\"2025-10-21T00:00:00\",\"2025-10-22T00:00:00\",\"2025-10-24T00:00:00\"],\"xaxis\":\"x\",\"y\":[null,-17.24650753689258,-4.443944392831554,-9.483627523871064,-67.95444871680021,-65.1656201990389,-6.099979967161573,-5.610838692221932,-14.919519750447193,-15.133371574412052,-6.679638802481321,-31.434987271442196,-21.116136819939484,-4.975936617092373,-14.910438703095963,-4.571839430296237,-42.37692098602682,-15.621114410492638,-48.96901366008443,-105.19794362519195,-21.81308846988931,-69.8451842495494,-30.960600783497284,-37.82041990180758,-61.41680162577754,-6.470033437029954,-53.12015749808262,-55.75483789474009,-173.6033062826125,-34.22134721152429,-15.584155989958845,-13.065731876801237,-170.2408190283827,-30.604355789488864,-12.798603126539092,-76.38220606006689,-9.697423464037456,-17.431068820634664,-518.4072941372524,-134.0944868506549,-66.76616472792853,-3.0562733660312915,-216.21378198879984,-88.90030439531552,-38.777002098074945,-150.44105711787506,-14.543135434462556,-12.388325335753962,-165.15477342397799,-11.497335695892616,-78.52990422158018,-113.89140853176582,-46.87969903916678,-285.65784910263824,-170.30662680025807,-54.263495458185844,-71.0183957166189,-7.492273397545887,-25.75141972535789,-59.599538161104874,-15.903538796529574,-199.3443504841764,-12.018221451376576,-13.579569048182293,-64.48088160808538,-48.035451824419624,-142.00828502418972,-163.53276254949924,-158.53689333529837,-248.982664390629,-227.5407591006424,-39.90616944460044,-3.2416224722637708,-54.0750748940045,-15.84896582807687,-164.20546304676054,-13.88349745941241,-94.68316214505103,-107.55705056766874,-269.5042438162386,-373.5334874871219,-145.5049918464856,-365.1361905516965,-436.77536435152115,-152.1072636778972,-163.77695421842736,-25.801992664982663,-288.80776479716496,-7.069369971241031,-137.7832477419488,-189.49084825694808,-211.52108859907048,-2.981733267064101,-157.5005521139483,-17.875975257085884,-137.88963449899484,-95.13586999810468,-17.34497322453626,-88.52879592539966,-45.603154694324985,-10.128684022184643,-358.7209565293406,-65.61677599838254,-228.1678803980858,-2473.34798529088,-181.7061518928674,-31.645408396588778,-15.790324690173634,-12.392968473924896,-36.17289203647357,-2.799162995732786,-7.707931863039562,-21.412450896859752,-33.420164069693215,-0.40948428256814395,-19.811209410839183,-23.21874507676364,-39.22272212540173,-6.681018752069804,-53.9703740998728,-45.77332751060098,-48.108465354623576,-15.144592827739928,-25.940703066835283,-26.90092556122795,-104.93636419186002,-5.360219491162297,-24.761521224184662,-48.95447808031372,-99.2006173563993,-13.43960130611265,-20.578870577059774,-84.58488979807197,-1.057993297354983,-53.518955645055,-77.08137155030772,-16.86911219254671,-19.927041164418085,-44.398895484632135,-9.343062576896045,-45.338711006897825,-42.71803785766616,-37.66685828702981,-7.022143324155593,-23.47635584896358,-21.28329189120268,-44.25978664868575,-44.706408209747906,-0.050173441956076203,-19.319907320237917,-9.018151428670222,-8.924779856182667,-99.58590708716841,-25.169421289430375,-52.77299976170616,-3.7351928004356694,-20.31512058964981,-49.7679676308407,-62.48483927296144,-23.659997311232814,-41.02005436781204,-26.12605778915284,-116.94481887980706,-33.78870187648269,-51.41183640759553,-74.02616069367787,-50.6717154466628,-17.678735275849135,-20.768624139980034,-121.27134453870289,-5.984666295873012,-80.68075114884792,-64.9173757797428,-9.128633563137072,-30.40600726570409,-7.870187832300985,-59.574293170142056,-9.21060779266395,-12.51845127100205,-233.24137711623973,-37.80560335456795,-18.45231364374706,-45.32312137922503,-20.406500562934838,-61.920399700637006,-3.1640618547830286,-62.87452164079207,-30.933543648561,-166.92828822662995,-40.28260024511917,-42.74006873105891,-21.169314880296156,-43.0825374608159,-36.5793237966991,-31.367691281001058,-9.947581706632903,-8.804195511423941],\"yaxis\":\"y\",\"type\":\"bar\"},{\"alignmentgroup\":\"True\",\"hovertemplate\":\"color=green\\u003cbr\\u003eindex=%{x}\\u003cbr\\u003evalue=%{y}\\u003cextra\\u003e\\u003c\\u002fextra\\u003e\",\"legendgroup\":\"green\",\"marker\":{\"color\":\"green\",\"pattern\":{\"shape\":\"\"}},\"name\":\"green\",\"offsetgroup\":\"green\",\"orientation\":\"v\",\"showlegend\":true,\"textposition\":\"auto\",\"x\":[\"2024-09-24T00:00:00\",\"2024-09-26T00:00:00\",\"2024-09-27T00:00:00\",\"2024-10-04T00:00:00\",\"2024-10-06T00:00:00\",\"2024-10-10T00:00:00\",\"2024-10-11T00:00:00\",\"2024-10-12T00:00:00\",\"2024-10-13T00:00:00\",\"2024-10-14T00:00:00\",\"2024-10-18T00:00:00\",\"2024-10-20T00:00:00\",\"2024-10-24T00:00:00\",\"2024-10-26T00:00:00\",\"2024-10-27T00:00:00\",\"2024-10-29T00:00:00\",\"2024-10-30T00:00:00\",\"2024-11-01T00:00:00\",\"2024-11-05T00:00:00\",\"2024-11-06T00:00:00\",\"2024-11-07T00:00:00\",\"2024-11-09T00:00:00\",\"2024-11-10T00:00:00\",\"2024-11-11T00:00:00\",\"2024-11-14T00:00:00\",\"2024-11-15T00:00:00\",\"2024-11-16T00:00:00\",\"2024-11-17T00:00:00\",\"2024-11-19T00:00:00\",\"2024-11-21T00:00:00\",\"2024-11-22T00:00:00\",\"2024-11-26T00:00:00\",\"2024-11-27T00:00:00\",\"2024-11-29T00:00:00\",\"2024-11-30T00:00:00\",\"2024-12-02T00:00:00\",\"2024-12-03T00:00:00\",\"2024-12-05T00:00:00\",\"2024-12-08T00:00:00\",\"2024-12-10T00:00:00\",\"2024-12-11T00:00:00\",\"2024-12-13T00:00:00\",\"2024-12-15T00:00:00\",\"2024-12-16T00:00:00\",\"2024-12-23T00:00:00\",\"2024-12-24T00:00:00\",\"2024-12-28T00:00:00\",\"2024-12-31T00:00:00\",\"2025-01-01T00:00:00\",\"2025-01-02T00:00:00\",\"2025-01-03T00:00:00\",\"2025-01-04T00:00:00\",\"2025-01-06T00:00:00\",\"2025-01-08T00:00:00\",\"2025-01-10T00:00:00\",\"2025-01-15T00:00:00\",\"2025-01-17T00:00:00\",\"2025-01-20T00:00:00\",\"2025-01-21T00:00:00\",\"2025-01-25T00:00:00\",\"2025-01-26T00:00:00\",\"2025-01-29T00:00:00\",\"2025-01-30T00:00:00\",\"2025-02-03T00:00:00\",\"2025-02-07T00:00:00\",\"2025-02-09T00:00:00\",\"2025-02-12T00:00:00\",\"2025-02-14T00:00:00\",\"2025-02-15T00:00:00\",\"2025-02-18T00:00:00\",\"2025-02-19T00:00:00\",\"2025-02-20T00:00:00\",\"2025-02-22T00:00:00\",\"2025-02-23T00:00:00\",\"2025-02-27T00:00:00\",\"2025-02-28T00:00:00\",\"2025-03-01T00:00:00\",\"2025-03-02T00:00:00\",\"2025-03-04T00:00:00\",\"2025-03-05T00:00:00\",\"2025-03-11T00:00:00\",\"2025-03-12T00:00:00\",\"2025-03-14T00:00:00\",\"2025-03-15T00:00:00\",\"2025-03-16T00:00:00\",\"2025-03-17T00:00:00\",\"2025-03-18T00:00:00\",\"2025-03-19T00:00:00\",\"2025-03-22T00:00:00\",\"2025-03-23T00:00:00\",\"2025-03-24T00:00:00\",\"2025-03-30T00:00:00\",\"2025-04-01T00:00:00\",\"2025-04-03T00:00:00\",\"2025-04-07T00:00:00\",\"2025-04-09T00:00:00\",\"2025-04-11T00:00:00\",\"2025-04-12T00:00:00\",\"2025-04-15T00:00:00\",\"2025-04-19T00:00:00\",\"2025-04-22T00:00:00\",\"2025-04-23T00:00:00\",\"2025-04-25T00:00:00\",\"2025-04-26T00:00:00\",\"2025-04-28T00:00:00\",\"2025-05-01T00:00:00\",\"2025-05-05T00:00:00\",\"2025-05-06T00:00:00\",\"2025-05-08T00:00:00\",\"2025-05-09T00:00:00\",\"2025-05-10T00:00:00\",\"2025-05-12T00:00:00\",\"2025-05-13T00:00:00\",\"2025-05-18T00:00:00\",\"2025-05-20T00:00:00\",\"2025-05-21T00:00:00\",\"2025-05-22T00:00:00\",\"2025-05-24T00:00:00\",\"2025-05-25T00:00:00\",\"2025-05-27T00:00:00\",\"2025-05-31T00:00:00\",\"2025-06-01T00:00:00\",\"2025-06-02T00:00:00\",\"2025-06-06T00:00:00\",\"2025-06-07T00:00:00\",\"2025-06-09T00:00:00\",\"2025-06-10T00:00:00\",\"2025-06-15T00:00:00\",\"2025-06-16T00:00:00\",\"2025-06-18T00:00:00\",\"2025-06-23T00:00:00\",\"2025-06-24T00:00:00\",\"2025-06-27T00:00:00\",\"2025-06-28T00:00:00\",\"2025-06-29T00:00:00\",\"2025-07-02T00:00:00\",\"2025-07-03T00:00:00\",\"2025-07-06T00:00:00\",\"2025-07-08T00:00:00\",\"2025-07-09T00:00:00\",\"2025-07-10T00:00:00\",\"2025-07-11T00:00:00\",\"2025-07-13T00:00:00\",\"2025-07-14T00:00:00\",\"2025-07-15T00:00:00\",\"2025-07-16T00:00:00\",\"2025-07-17T00:00:00\",\"2025-07-19T00:00:00\",\"2025-07-20T00:00:00\",\"2025-07-21T00:00:00\",\"2025-07-22T00:00:00\",\"2025-07-25T00:00:00\",\"2025-07-26T00:00:00\",\"2025-07-27T00:00:00\",\"2025-08-03T00:00:00\",\"2025-08-04T00:00:00\",\"2025-08-06T00:00:00\",\"2025-08-07T00:00:00\",\"2025-08-08T00:00:00\",\"2025-08-09T00:00:00\",\"2025-08-10T00:00:00\",\"2025-08-12T00:00:00\",\"2025-08-13T00:00:00\",\"2025-08-16T00:00:00\",\"2025-08-17T00:00:00\",\"2025-08-20T00:00:00\",\"2025-08-22T00:00:00\",\"2025-08-26T00:00:00\",\"2025-08-28T00:00:00\",\"2025-08-30T00:00:00\",\"2025-09-02T00:00:00\",\"2025-09-03T00:00:00\",\"2025-09-07T00:00:00\",\"2025-09-08T00:00:00\",\"2025-09-09T00:00:00\",\"2025-09-10T00:00:00\",\"2025-09-11T00:00:00\",\"2025-09-12T00:00:00\",\"2025-09-16T00:00:00\",\"2025-09-17T00:00:00\",\"2025-09-18T00:00:00\",\"2025-09-20T00:00:00\",\"2025-09-24T00:00:00\",\"2025-09-26T00:00:00\",\"2025-09-27T00:00:00\",\"2025-09-28T00:00:00\",\"2025-09-29T00:00:00\",\"2025-09-30T00:00:00\",\"2025-10-01T00:00:00\",\"2025-10-02T00:00:00\",\"2025-10-03T00:00:00\",\"2025-10-05T00:00:00\",\"2025-10-06T00:00:00\",\"2025-10-08T00:00:00\",\"2025-10-12T00:00:00\",\"2025-10-13T00:00:00\",\"2025-10-18T00:00:00\",\"2025-10-19T00:00:00\",\"2025-10-20T00:00:00\",\"2025-10-23T00:00:00\"],\"xaxis\":\"x\",\"y\":[23.503338831462315,85.69921742080601,16.51912056324278,77.04843203095041,34.3757762200747,27.689340444491023,44.96937551401578,26.289701641968747,10.759277127427339,123.5754419804065,6.9495470555308,37.01938320806113,16.796423812427605,17.00226836269698,122.00258311769954,62.20531778548461,4.808690691567932,0.2151508954182617,59.483834282668454,217.70592339943641,19.9626821647049,45.55113697308941,88.86558848505965,158.47751861850304,91.6854479233512,423.4035734033564,76.21067202646748,780.674839707057,20.230871524205668,70.88078625162211,59.538098434787116,45.22661594765759,45.934275229089735,41.78253081282105,62.47750703342126,30.824361602986755,387.5716767203039,261.133085202423,111.31309268705263,169.2232243391004,263.76665254046975,14.58763172294448,83.70252606234021,5.572962193291687,105.66667051258241,118.98557740474416,52.544277787919555,170.01974641961374,25.65417360487686,118.90156654886482,101.05124256000545,47.13448576893097,142.96744557059606,23.461648776358288,113.19049030893007,217.39865127877056,124.74709396251524,4.728044128361262,93.7268162632704,260.4372935199531,242.1229854592375,111.09991802851073,587.3208224456159,594.2425790831016,81.24427150195743,144.4963324542482,40.1953084062643,592.1043978923362,221.6447805828011,135.8594225708207,21.184672519215837,234.70274210989692,341.08919507782184,110.28827013654154,149.9596988202302,63.9764508573935,24.70887274350207,217.793677682846,21.633990677177735,16.062718531652536,70.87977843984345,113.30548965934577,28.95354406186516,192.19583339835253,7.249558789821094,143.8673858845982,1.894000918164238,13.81850205921046,35.730309024928374,109.20708700971863,222.56476483706,19.556716574198163,92.1930707402521,76.90653316845874,263.88056935504846,393.42999619895886,78.26143518453637,10.43519863911888,51.354585253112305,19.987861448215654,119.90674994374979,29.419628584004045,13.968962840229892,7.8510635039442604,8.371175540785714,21.633121514081836,9.02561412818551,12.413157259393927,155.89678750771304,36.17623950655573,105.90208996342832,15.376875607941571,49.01431790073147,73.11602974461692,17.81705002732221,47.101513590971734,61.51118737751146,18.458286527919995,9.66611527031381,11.559573030307064,13.725164382863625,20.380792601082135,8.14386593432937,45.84268097501473,32.081513776710494,84.25635630150953,30.795064344402732,20.160647602497534,6.027394974589015,8.791909140269354,113.13354611518866,21.5710442824207,12.82207542714633,25.722090671078433,30.82739520300305,60.96251551388008,12.476622188835563,28.475787319366418,16.11784914265138,54.822845025196784,91.48698469428768,20.27173006455166,42.41165092823752,16.36818726431997,1.3090201817778393,47.344144930966564,25.055607990163367,6.69587559024896,95.94173003827156,16.67433812009702,41.8917057473478,14.611311596607749,4.924151880692307,35.12382641586643,44.829218515641685,50.44009066378473,36.41338883815641,68.43926731989112,52.242167444801396,28.61921132229716,28.58015588750837,106.41148138076488,65.04027481482828,9.41608473666355,6.18640428025185,67.75580238032316,405.1822888851582,62.086247120009006,34.51065383389795,4.631265509119004,21.807288731315992,11.513615377227154,64.10374737309891,10.429624265185026,7.514311362410126,32.069894106979945,38.33006706639205,28.15784473655185,223.3992149901999,1.8490514483958407,29.806058043436053,10.375811332044009,17.724228412681896,29.55991080269007,0.8554471494691143,14.37931823849678,18.30819004739709,72.7536673380101,2.5132048747817635,25.932411840423043,19.42679913489286,14.336500015697084,27.54742731084002,32.81743379331505,73.63471851618716,16.971318215739956,16.471989890387007,33.68748611444511,26.782569582144973,17.216606721848933],\"yaxis\":\"y\",\"type\":\"bar\"}],                        {\"template\":{\"data\":{\"histogram2dcontour\":[{\"type\":\"histogram2dcontour\",\"colorbar\":{\"outlinewidth\":0,\"ticks\":\"\"},\"colorscale\":[[0.0,\"#0d0887\"],[0.1111111111111111,\"#46039f\"],[0.2222222222222222,\"#7201a8\"],[0.3333333333333333,\"#9c179e\"],[0.4444444444444444,\"#bd3786\"],[0.5555555555555556,\"#d8576b\"],[0.6666666666666666,\"#ed7953\"],[0.7777777777777778,\"#fb9f3a\"],[0.8888888888888888,\"#fdca26\"],[1.0,\"#f0f921\"]]}],\"choropleth\":[{\"type\":\"choropleth\",\"colorbar\":{\"outlinewidth\":0,\"ticks\":\"\"}}],\"histogram2d\":[{\"type\":\"histogram2d\",\"colorbar\":{\"outlinewidth\":0,\"ticks\":\"\"},\"colorscale\":[[0.0,\"#0d0887\"],[0.1111111111111111,\"#46039f\"],[0.2222222222222222,\"#7201a8\"],[0.3333333333333333,\"#9c179e\"],[0.4444444444444444,\"#bd3786\"],[0.5555555555555556,\"#d8576b\"],[0.6666666666666666,\"#ed7953\"],[0.7777777777777778,\"#fb9f3a\"],[0.8888888888888888,\"#fdca26\"],[1.0,\"#f0f921\"]]}],\"heatmap\":[{\"type\":\"heatmap\",\"colorbar\":{\"outlinewidth\":0,\"ticks\":\"\"},\"colorscale\":[[0.0,\"#0d0887\"],[0.1111111111111111,\"#46039f\"],[0.2222222222222222,\"#7201a8\"],[0.3333333333333333,\"#9c179e\"],[0.4444444444444444,\"#bd3786\"],[0.5555555555555556,\"#d8576b\"],[0.6666666666666666,\"#ed7953\"],[0.7777777777777778,\"#fb9f3a\"],[0.8888888888888888,\"#fdca26\"],[1.0,\"#f0f921\"]]}],\"heatmapgl\":[{\"type\":\"heatmapgl\",\"colorbar\":{\"outlinewidth\":0,\"ticks\":\"\"},\"colorscale\":[[0.0,\"#0d0887\"],[0.1111111111111111,\"#46039f\"],[0.2222222222222222,\"#7201a8\"],[0.3333333333333333,\"#9c179e\"],[0.4444444444444444,\"#bd3786\"],[0.5555555555555556,\"#d8576b\"],[0.6666666666666666,\"#ed7953\"],[0.7777777777777778,\"#fb9f3a\"],[0.8888888888888888,\"#fdca26\"],[1.0,\"#f0f921\"]]}],\"contourcarpet\":[{\"type\":\"contourcarpet\",\"colorbar\":{\"outlinewidth\":0,\"ticks\":\"\"}}],\"contour\":[{\"type\":\"contour\",\"colorbar\":{\"outlinewidth\":0,\"ticks\":\"\"},\"colorscale\":[[0.0,\"#0d0887\"],[0.1111111111111111,\"#46039f\"],[0.2222222222222222,\"#7201a8\"],[0.3333333333333333,\"#9c179e\"],[0.4444444444444444,\"#bd3786\"],[0.5555555555555556,\"#d8576b\"],[0.6666666666666666,\"#ed7953\"],[0.7777777777777778,\"#fb9f3a\"],[0.8888888888888888,\"#fdca26\"],[1.0,\"#f0f921\"]]}],\"surface\":[{\"type\":\"surface\",\"colorbar\":{\"outlinewidth\":0,\"ticks\":\"\"},\"colorscale\":[[0.0,\"#0d0887\"],[0.1111111111111111,\"#46039f\"],[0.2222222222222222,\"#7201a8\"],[0.3333333333333333,\"#9c179e\"],[0.4444444444444444,\"#bd3786\"],[0.5555555555555556,\"#d8576b\"],[0.6666666666666666,\"#ed7953\"],[0.7777777777777778,\"#fb9f3a\"],[0.8888888888888888,\"#fdca26\"],[1.0,\"#f0f921\"]]}],\"mesh3d\":[{\"type\":\"mesh3d\",\"colorbar\":{\"outlinewidth\":0,\"ticks\":\"\"}}],\"scatter\":[{\"fillpattern\":{\"fillmode\":\"overlay\",\"size\":10,\"solidity\":0.2},\"type\":\"scatter\"}],\"parcoords\":[{\"type\":\"parcoords\",\"line\":{\"colorbar\":{\"outlinewidth\":0,\"ticks\":\"\"}}}],\"scatterpolargl\":[{\"type\":\"scatterpolargl\",\"marker\":{\"colorbar\":{\"outlinewidth\":0,\"ticks\":\"\"}}}],\"bar\":[{\"error_x\":{\"color\":\"#2a3f5f\"},\"error_y\":{\"color\":\"#2a3f5f\"},\"marker\":{\"line\":{\"color\":\"#E5ECF6\",\"width\":0.5},\"pattern\":{\"fillmode\":\"overlay\",\"size\":10,\"solidity\":0.2}},\"type\":\"bar\"}],\"scattergeo\":[{\"type\":\"scattergeo\",\"marker\":{\"colorbar\":{\"outlinewidth\":0,\"ticks\":\"\"}}}],\"scatterpolar\":[{\"type\":\"scatterpolar\",\"marker\":{\"colorbar\":{\"outlinewidth\":0,\"ticks\":\"\"}}}],\"histogram\":[{\"marker\":{\"pattern\":{\"fillmode\":\"overlay\",\"size\":10,\"solidity\":0.2}},\"type\":\"histogram\"}],\"scattergl\":[{\"type\":\"scattergl\",\"marker\":{\"colorbar\":{\"outlinewidth\":0,\"ticks\":\"\"}}}],\"scatter3d\":[{\"type\":\"scatter3d\",\"line\":{\"colorbar\":{\"outlinewidth\":0,\"ticks\":\"\"}},\"marker\":{\"colorbar\":{\"outlinewidth\":0,\"ticks\":\"\"}}}],\"scattermapbox\":[{\"type\":\"scattermapbox\",\"marker\":{\"colorbar\":{\"outlinewidth\":0,\"ticks\":\"\"}}}],\"scatterternary\":[{\"type\":\"scatterternary\",\"marker\":{\"colorbar\":{\"outlinewidth\":0,\"ticks\":\"\"}}}],\"scattercarpet\":[{\"type\":\"scattercarpet\",\"marker\":{\"colorbar\":{\"outlinewidth\":0,\"ticks\":\"\"}}}],\"carpet\":[{\"aaxis\":{\"endlinecolor\":\"#2a3f5f\",\"gridcolor\":\"white\",\"linecolor\":\"white\",\"minorgridcolor\":\"white\",\"startlinecolor\":\"#2a3f5f\"},\"baxis\":{\"endlinecolor\":\"#2a3f5f\",\"gridcolor\":\"white\",\"linecolor\":\"white\",\"minorgridcolor\":\"white\",\"startlinecolor\":\"#2a3f5f\"},\"type\":\"carpet\"}],\"table\":[{\"cells\":{\"fill\":{\"color\":\"#EBF0F8\"},\"line\":{\"color\":\"white\"}},\"header\":{\"fill\":{\"color\":\"#C8D4E3\"},\"line\":{\"color\":\"white\"}},\"type\":\"table\"}],\"barpolar\":[{\"marker\":{\"line\":{\"color\":\"#E5ECF6\",\"width\":0.5},\"pattern\":{\"fillmode\":\"overlay\",\"size\":10,\"solidity\":0.2}},\"type\":\"barpolar\"}],\"pie\":[{\"automargin\":true,\"type\":\"pie\"}]},\"layout\":{\"autotypenumbers\":\"strict\",\"colorway\":[\"#636efa\",\"#EF553B\",\"#00cc96\",\"#ab63fa\",\"#FFA15A\",\"#19d3f3\",\"#FF6692\",\"#B6E880\",\"#FF97FF\",\"#FECB52\"],\"font\":{\"color\":\"#2a3f5f\"},\"hovermode\":\"closest\",\"hoverlabel\":{\"align\":\"left\"},\"paper_bgcolor\":\"white\",\"plot_bgcolor\":\"#E5ECF6\",\"polar\":{\"bgcolor\":\"#E5ECF6\",\"angularaxis\":{\"gridcolor\":\"white\",\"linecolor\":\"white\",\"ticks\":\"\"},\"radialaxis\":{\"gridcolor\":\"white\",\"linecolor\":\"white\",\"ticks\":\"\"}},\"ternary\":{\"bgcolor\":\"#E5ECF6\",\"aaxis\":{\"gridcolor\":\"white\",\"linecolor\":\"white\",\"ticks\":\"\"},\"baxis\":{\"gridcolor\":\"white\",\"linecolor\":\"white\",\"ticks\":\"\"},\"caxis\":{\"gridcolor\":\"white\",\"linecolor\":\"white\",\"ticks\":\"\"}},\"coloraxis\":{\"colorbar\":{\"outlinewidth\":0,\"ticks\":\"\"}},\"colorscale\":{\"sequential\":[[0.0,\"#0d0887\"],[0.1111111111111111,\"#46039f\"],[0.2222222222222222,\"#7201a8\"],[0.3333333333333333,\"#9c179e\"],[0.4444444444444444,\"#bd3786\"],[0.5555555555555556,\"#d8576b\"],[0.6666666666666666,\"#ed7953\"],[0.7777777777777778,\"#fb9f3a\"],[0.8888888888888888,\"#fdca26\"],[1.0,\"#f0f921\"]],\"sequentialminus\":[[0.0,\"#0d0887\"],[0.1111111111111111,\"#46039f\"],[0.2222222222222222,\"#7201a8\"],[0.3333333333333333,\"#9c179e\"],[0.4444444444444444,\"#bd3786\"],[0.5555555555555556,\"#d8576b\"],[0.6666666666666666,\"#ed7953\"],[0.7777777777777778,\"#fb9f3a\"],[0.8888888888888888,\"#fdca26\"],[1.0,\"#f0f921\"]],\"diverging\":[[0,\"#8e0152\"],[0.1,\"#c51b7d\"],[0.2,\"#de77ae\"],[0.3,\"#f1b6da\"],[0.4,\"#fde0ef\"],[0.5,\"#f7f7f7\"],[0.6,\"#e6f5d0\"],[0.7,\"#b8e186\"],[0.8,\"#7fbc41\"],[0.9,\"#4d9221\"],[1,\"#276419\"]]},\"xaxis\":{\"gridcolor\":\"white\",\"linecolor\":\"white\",\"ticks\":\"\",\"title\":{\"standoff\":15},\"zerolinecolor\":\"white\",\"automargin\":true,\"zerolinewidth\":2},\"yaxis\":{\"gridcolor\":\"white\",\"linecolor\":\"white\",\"ticks\":\"\",\"title\":{\"standoff\":15},\"zerolinecolor\":\"white\",\"automargin\":true,\"zerolinewidth\":2},\"scene\":{\"xaxis\":{\"backgroundcolor\":\"#E5ECF6\",\"gridcolor\":\"white\",\"linecolor\":\"white\",\"showbackground\":true,\"ticks\":\"\",\"zerolinecolor\":\"white\",\"gridwidth\":2},\"yaxis\":{\"backgroundcolor\":\"#E5ECF6\",\"gridcolor\":\"white\",\"linecolor\":\"white\",\"showbackground\":true,\"ticks\":\"\",\"zerolinecolor\":\"white\",\"gridwidth\":2},\"zaxis\":{\"backgroundcolor\":\"#E5ECF6\",\"gridcolor\":\"white\",\"linecolor\":\"white\",\"showbackground\":true,\"ticks\":\"\",\"zerolinecolor\":\"white\",\"gridwidth\":2}},\"shapedefaults\":{\"line\":{\"color\":\"#2a3f5f\"}},\"annotationdefaults\":{\"arrowcolor\":\"#2a3f5f\",\"arrowhead\":0,\"arrowwidth\":1},\"geo\":{\"bgcolor\":\"white\",\"landcolor\":\"#E5ECF6\",\"subunitcolor\":\"white\",\"showland\":true,\"showlakes\":true,\"lakecolor\":\"white\"},\"title\":{\"x\":0.05},\"mapbox\":{\"style\":\"light\"}}},\"xaxis\":{\"anchor\":\"y\",\"domain\":[0.0,1.0],\"title\":{}},\"yaxis\":{\"anchor\":\"x\",\"domain\":[0.0,1.0],\"title\":{}},\"legend\":{\"title\":{\"text\":\"color\"},\"tracegroupgap\":0},\"title\":{\"text\":\"Daily P&L\"},\"barmode\":\"relative\",\"font\":{\"color\":\"white\"},\"plot_bgcolor\":\"black\",\"paper_bgcolor\":\"black\",\"width\":800,\"height\":400,\"showlegend\":false},                        {\"responsive\": true}                    ).then(function(){\n",
       "                            \n",
       "var gd = document.getElementById('a9da190d-c966-4684-8c7f-1700d350d389');\n",
       "var x = new MutationObserver(function (mutations, observer) {{\n",
       "        var display = window.getComputedStyle(gd).display;\n",
       "        if (!display || display === 'none') {{\n",
       "            console.log([gd, 'removed!']);\n",
       "            Plotly.purge(gd);\n",
       "            observer.disconnect();\n",
       "        }}\n",
       "}});\n",
       "\n",
       "// Listen for the removal of the full notebook cells\n",
       "var notebookContainer = gd.closest('#notebook-container');\n",
       "if (notebookContainer) {{\n",
       "    x.observe(notebookContainer, {childList: true});\n",
       "}}\n",
       "\n",
       "// Listen for the clearing of the current output cell\n",
       "var outputEl = gd.closest('.output');\n",
       "if (outputEl) {{\n",
       "    x.observe(outputEl, {childList: true});\n",
       "}}\n",
       "\n",
       "                        })                };                });            </script>        </div>"
      ]
     },
     "metadata": {},
     "output_type": "display_data"
    }
   ],
   "source": [
    "fig = px.bar(selected_daily_pnl, color=selected_daily_pnl['color'],\n",
    "             color_discrete_map={'green': 'green', 'red': 'red'},\n",
    "             title=\"Daily P&L\")\n",
    "fig.update_layout(plot_bgcolor=\"black\", paper_bgcolor=\"black\", font_color=\"white\",width=800, height=400)\n",
    "fig.update_layout(xaxis_title=None, yaxis_title=None,showlegend=False)\n",
    "fig.show()"
   ]
  },
  {
   "cell_type": "code",
   "execution_count": 90,
   "id": "7acc1e39-3523-4606-90bd-5b921e5ad830",
   "metadata": {},
   "outputs": [],
   "source": [
    "# realized_pnl_time=pd.DataFrame()\n",
    "\n",
    "# for key in profit_and_loss:\n",
    "\n",
    "#     temp=profit_and_loss[key]\n",
    "#     realized_pnl_time=pd.concat([realized_pnl_time,temp],axis=0)\n",
    "\n",
    "# realized_pnl_time.columns=realized_pnl_time.columns+'USDT'\n",
    "\n",
    "# realized_pnl_time.columns=realized_pnl_time.columns+'USDT'\n",
    "\n",
    "# realized_pnl_time=realized_pnl_time.sort_index().fillna(0)\n",
    "# realized_pnl_time.index=realized_pnl_time.index.strftime(date_format='%Y-%m-%d')\n",
    "# realized_pnl_time.groupby(realized_pnl_time.index).sum()\n",
    "# realized_pnl_time=realized_pnl_time.cumsum()\n",
    "# realized_pnl_time = realized_pnl_time[~realized_pnl_time.index.duplicated(keep='last')]\n",
    "# realized_pnl_time_total=realized_pnl_time.sum(axis=1)"
   ]
  },
  {
   "cell_type": "code",
   "execution_count": 61,
   "id": "332c3bc7-1ca1-4572-83df-4c2e41f8d57f",
   "metadata": {},
   "outputs": [],
   "source": [
    "# weights_ex_post=positions.copy()\n",
    "# weights_ex_post=weights_ex_post.drop(columns=['USDTUSDT'])\n",
    "# weights_ex_post=weights_ex_post.apply(lambda x: x/weights_ex_post['Total'])\n",
    "\n",
    "# start_date=weights_ex_post.index[0].date()\n",
    "\n",
    "# days=(today-start_date).days\n",
    "\n",
    "# remaining=days%500\n",
    "# numbers_of_table=days//500\n",
    "# remaining\n",
    "# temp_end=weights_ex_post.index[0]\n",
    "# prices=pd.DataFrame()\n",
    "# for i in range(numbers_of_table+1):\n",
    "#     temp_data=Binance.get_price(weights_ex_post.columns,temp_end)\n",
    "#     temp_end=temp_end+datetime.timedelta(500)\n",
    "#     prices=prices.combine_first(temp_data)\n",
    "    \n",
    "# temp_end=temp_end+datetime.timedelta(500)\n",
    "# last_data=Binance.get_price(weights_ex_post.columns,temp_end)\n",
    "# binance_data=prices.combine_first(last_data)\n",
    "# binance_data=binance_data.sort_index()\n",
    "# binance_data = binance_data[~binance_data.index.duplicated(keep='first')]\n",
    "# binance_data.index=pd.to_datetime(binance_data.index)"
   ]
  },
  {
   "cell_type": "code",
   "execution_count": null,
   "id": "120cabdf-168e-4175-bcf9-6d109762d21f",
   "metadata": {},
   "outputs": [],
   "source": [
    "# git.create_or_replace_notebook(\"Crypto App.ipynb\")"
   ]
  }
 ],
 "metadata": {
  "kernelspec": {
   "display_name": "Python [conda env:base] *",
   "language": "python",
   "name": "conda-base-py"
  },
  "language_info": {
   "codemirror_mode": {
    "name": "ipython",
    "version": 3
   },
   "file_extension": ".py",
   "mimetype": "text/x-python",
   "name": "python",
   "nbconvert_exporter": "python",
   "pygments_lexer": "ipython3",
   "version": "3.12.3"
  }
 },
 "nbformat": 4,
 "nbformat_minor": 5
}
